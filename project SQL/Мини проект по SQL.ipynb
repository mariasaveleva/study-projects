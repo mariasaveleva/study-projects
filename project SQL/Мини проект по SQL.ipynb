{
 "cells": [
  {
   "cell_type": "markdown",
   "metadata": {},
   "source": [
    "<div class=\"alert alert-info\" style=\"border-color: white; border-radius: 10px; background-color: white;\"> \n",
    "\n",
    "# <font color = 'mediumaquamarine'> Проект по SQL"
   ]
  },
  {
   "cell_type": "markdown",
   "metadata": {},
   "source": [
    "<div class=\"alert alert-info\" style=\"border-color: thistle; border-radius: 10px; background-color: thistle;\"> \n",
    "    <font color = 'black'> \n",
    "\n",
    "**Описание проекта**  \n",
    "\n",
    "Коронавирус застал мир врасплох, изменив привычный порядок вещей. В свободное время жители городов больше не выходят на улицу, не посещают кафе и торговые центры. Зато стало больше времени для книг. Это заметили стартаперы — и бросились создавать приложения для тех, кто любит читать. \n",
    "\n",
    "Компания N решила быть на волне и купила крупный сервис для чтения книг по подписке. Первая задача аналитика — проанализировать базу данных. В ней — информация о книгах, издательствах, авторах, а также пользовательские обзоры книг. Эти данные помогут сформулировать ценностное предложение для нового продукта."
   ]
  },
  {
   "cell_type": "markdown",
   "metadata": {},
   "source": [
    "<div class=\"alert alert-info\" style=\"border-color: lavender; border-radius: 10px; background-color: lavender;\"> \n",
    "<div style=\"border:white 5px; padding: 30px\">\n",
    "    <font color = 'black'> \n",
    "\n",
    "**Задачи**  \n",
    "1. Посчитать, сколько книг вышло после 1 января 2000 года;  \n",
    "2. Для каждой книги посчитать количество обзоров и среднюю оценку;  \n",
    "3. Определить издательство, которое выпустило наибольшее число книг толще 50 страниц (так мы исключим из анализа брошюры);  \n",
    "4. Определить автора с самой высокой средней оценкой книг — учитывать только книги с 50 и более оценками;  \n",
    "5. Посчитать среднее количество обзоров от пользователей, которые поставили больше 48 оценок.  \n"
   ]
  },
  {
   "cell_type": "markdown",
   "metadata": {},
   "source": [
    "<div class=\"alert alert-info\" style=\"border-color: slategray; border-radius: 10px; background-color: white;\"> \n",
    "<div style=\"border:white 5px; padding: 30px\">\n",
    "    <font color = 'black'> \n",
    "        \n",
    "**Описание данных**  \n",
    "\n",
    "**Таблица books**  \n",
    "Содержит данные о книгах:  \n",
    "- `book_id` — идентификатор книги;  \n",
    "- `author_id` — идентификатор автора;  \n",
    "- `title` — название книги;  \n",
    "- `num_pages` — количество страниц;  \n",
    "- `publication_date` — дата публикации книги;  \n",
    "- `publisher_id` — идентификатор издателя.    \n",
    "\n",
    "**Таблица authors**  \n",
    "Содержит данные об авторах:  \n",
    "- `author_id` — идентификатор автора;  \n",
    "- `author` — имя автора.  \n",
    "\n",
    "**Таблица publishers**   \n",
    "Содержит данные об издательствах:  \n",
    "- `publisher_id` — идентификатор издательства;  \n",
    "- `publisher` — название издательства.  \n",
    "\n",
    "**Таблица ratings**  \n",
    "Содержит данные о пользовательских оценках книг:  \n",
    "- `rating_id` — идентификатор оценки;  \n",
    "- `book_id` — идентификатор книги;   \n",
    "- `username` — имя пользователя, оставившего оценку;  \n",
    "- `rating` — оценка книги.  \n",
    "\n",
    "**Таблица reviews**  \n",
    "Содержит данные о пользовательских обзорах на книги:  \n",
    "- `review_id` — идентификатор обзора;  \n",
    "- `book_id` — идентификатор книги;  \n",
    "- `username` — имя пользователя, написавшего обзор;  \n",
    "- `text` — текст обзора. "
   ]
  },
  {
   "cell_type": "code",
   "execution_count": 1,
   "metadata": {},
   "outputs": [
    {
     "name": "stdout",
     "output_type": "stream",
     "text": [
      "Requirement already satisfied: psycopg2-binary in /opt/conda/lib/python3.9/site-packages (2.9.2)\r\n"
     ]
    }
   ],
   "source": [
    "# Загрузим библиотеки\n",
    "import pandas as pd\n",
    "import sqlalchemy as sa\n",
    "from sqlalchemy import create_engine\n",
    "!pip install psycopg2-binary # выходила ошибка, в интернете нашла такое решение"
   ]
  },
  {
   "cell_type": "code",
   "execution_count": 2,
   "metadata": {},
   "outputs": [],
   "source": [
    "# Устанавливаем параметры\n",
    "db_config = {\n",
    "             'user': 'praktikum_student', # имя пользователя\n",
    "             'pwd': 'Sdf4$2;d-d30pp', # пароль\n",
    "             'host': 'rc1b-wcoijxj3yxfsf3fs.mdb.yandexcloud.net',\n",
    "             'port': 6432, # порт подключения\n",
    "             'db': 'data-analyst-final-project-db' # название базы данных\n",
    "             }\n",
    "\n",
    "connection_string = 'postgresql://{user}:{pwd}@{host}:{port}/{db}'.format(**db_config)\n",
    "\n",
    "# Сохраняем коннектор\n",
    "engine = sa.create_engine(connection_string, connect_args={'sslmode':'require'})\n",
    "\n",
    "# Чтобы выполнить SQL-запрос, пишем функцию с использованием Pandas\n",
    "def get_sql_data(query:str, engine:sa.engine.base.Engine=engine) -> pd.DataFrame:\n",
    "    '''Открываем соединение, получаем данные из sql, закрываем соединение'''\n",
    "    with engine.connect() as con:\n",
    "        return pd.read_sql(sql=sa.text(query), con = con)"
   ]
  },
  {
   "cell_type": "markdown",
   "metadata": {},
   "source": [
    "На всякий случай: в Пачке и здесь в описании проекта были даны немного разные варианты подключения к базе данных, и так как я начала  делать этот проект еще во время проверки A/B-теста, тут я использую вариант из Пачки."
   ]
  },
  {
   "cell_type": "markdown",
   "metadata": {},
   "source": [
    "Подключение в базе данных есть, теперь изучим имеющиеся таблицы - выведем первые пять строк каждого датасета."
   ]
  },
  {
   "cell_type": "markdown",
   "metadata": {},
   "source": [
    "**Таблица books**"
   ]
  },
  {
   "cell_type": "code",
   "execution_count": 3,
   "metadata": {},
   "outputs": [
    {
     "data": {
      "text/html": [
       "<div>\n",
       "<style scoped>\n",
       "    .dataframe tbody tr th:only-of-type {\n",
       "        vertical-align: middle;\n",
       "    }\n",
       "\n",
       "    .dataframe tbody tr th {\n",
       "        vertical-align: top;\n",
       "    }\n",
       "\n",
       "    .dataframe thead th {\n",
       "        text-align: right;\n",
       "    }\n",
       "</style>\n",
       "<table border=\"1\" class=\"dataframe\">\n",
       "  <thead>\n",
       "    <tr style=\"text-align: right;\">\n",
       "      <th></th>\n",
       "      <th>book_id</th>\n",
       "      <th>author_id</th>\n",
       "      <th>title</th>\n",
       "      <th>num_pages</th>\n",
       "      <th>publication_date</th>\n",
       "      <th>publisher_id</th>\n",
       "    </tr>\n",
       "  </thead>\n",
       "  <tbody>\n",
       "    <tr>\n",
       "      <th>0</th>\n",
       "      <td>1</td>\n",
       "      <td>546</td>\n",
       "      <td>'Salem's Lot</td>\n",
       "      <td>594</td>\n",
       "      <td>2005-11-01</td>\n",
       "      <td>93</td>\n",
       "    </tr>\n",
       "    <tr>\n",
       "      <th>1</th>\n",
       "      <td>2</td>\n",
       "      <td>465</td>\n",
       "      <td>1 000 Places to See Before You Die</td>\n",
       "      <td>992</td>\n",
       "      <td>2003-05-22</td>\n",
       "      <td>336</td>\n",
       "    </tr>\n",
       "    <tr>\n",
       "      <th>2</th>\n",
       "      <td>3</td>\n",
       "      <td>407</td>\n",
       "      <td>13 Little Blue Envelopes (Little Blue Envelope...</td>\n",
       "      <td>322</td>\n",
       "      <td>2010-12-21</td>\n",
       "      <td>135</td>\n",
       "    </tr>\n",
       "    <tr>\n",
       "      <th>3</th>\n",
       "      <td>4</td>\n",
       "      <td>82</td>\n",
       "      <td>1491: New Revelations of the Americas Before C...</td>\n",
       "      <td>541</td>\n",
       "      <td>2006-10-10</td>\n",
       "      <td>309</td>\n",
       "    </tr>\n",
       "    <tr>\n",
       "      <th>4</th>\n",
       "      <td>5</td>\n",
       "      <td>125</td>\n",
       "      <td>1776</td>\n",
       "      <td>386</td>\n",
       "      <td>2006-07-04</td>\n",
       "      <td>268</td>\n",
       "    </tr>\n",
       "  </tbody>\n",
       "</table>\n",
       "</div>"
      ],
      "text/plain": [
       "   book_id  author_id                                              title  \\\n",
       "0        1        546                                       'Salem's Lot   \n",
       "1        2        465                 1 000 Places to See Before You Die   \n",
       "2        3        407  13 Little Blue Envelopes (Little Blue Envelope...   \n",
       "3        4         82  1491: New Revelations of the Americas Before C...   \n",
       "4        5        125                                               1776   \n",
       "\n",
       "   num_pages publication_date  publisher_id  \n",
       "0        594       2005-11-01            93  \n",
       "1        992       2003-05-22           336  \n",
       "2        322       2010-12-21           135  \n",
       "3        541       2006-10-10           309  \n",
       "4        386       2006-07-04           268  "
      ]
     },
     "execution_count": 3,
     "metadata": {},
     "output_type": "execute_result"
    }
   ],
   "source": [
    "# Формируем запрос и выводим данные\n",
    "query = '''SELECT * FROM books LIMIT 5'''\n",
    "get_sql_data(query)"
   ]
  },
  {
   "cell_type": "markdown",
   "metadata": {},
   "source": [
    "**Таблица authors**"
   ]
  },
  {
   "cell_type": "code",
   "execution_count": 4,
   "metadata": {},
   "outputs": [
    {
     "data": {
      "text/html": [
       "<div>\n",
       "<style scoped>\n",
       "    .dataframe tbody tr th:only-of-type {\n",
       "        vertical-align: middle;\n",
       "    }\n",
       "\n",
       "    .dataframe tbody tr th {\n",
       "        vertical-align: top;\n",
       "    }\n",
       "\n",
       "    .dataframe thead th {\n",
       "        text-align: right;\n",
       "    }\n",
       "</style>\n",
       "<table border=\"1\" class=\"dataframe\">\n",
       "  <thead>\n",
       "    <tr style=\"text-align: right;\">\n",
       "      <th></th>\n",
       "      <th>author_id</th>\n",
       "      <th>author</th>\n",
       "    </tr>\n",
       "  </thead>\n",
       "  <tbody>\n",
       "    <tr>\n",
       "      <th>0</th>\n",
       "      <td>1</td>\n",
       "      <td>A.S. Byatt</td>\n",
       "    </tr>\n",
       "    <tr>\n",
       "      <th>1</th>\n",
       "      <td>2</td>\n",
       "      <td>Aesop/Laura Harris/Laura Gibbs</td>\n",
       "    </tr>\n",
       "    <tr>\n",
       "      <th>2</th>\n",
       "      <td>3</td>\n",
       "      <td>Agatha Christie</td>\n",
       "    </tr>\n",
       "    <tr>\n",
       "      <th>3</th>\n",
       "      <td>4</td>\n",
       "      <td>Alan Brennert</td>\n",
       "    </tr>\n",
       "    <tr>\n",
       "      <th>4</th>\n",
       "      <td>5</td>\n",
       "      <td>Alan Moore/David   Lloyd</td>\n",
       "    </tr>\n",
       "  </tbody>\n",
       "</table>\n",
       "</div>"
      ],
      "text/plain": [
       "   author_id                          author\n",
       "0          1                      A.S. Byatt\n",
       "1          2  Aesop/Laura Harris/Laura Gibbs\n",
       "2          3                 Agatha Christie\n",
       "3          4                   Alan Brennert\n",
       "4          5        Alan Moore/David   Lloyd"
      ]
     },
     "execution_count": 4,
     "metadata": {},
     "output_type": "execute_result"
    }
   ],
   "source": [
    "# Формируем запрос и выводим данные\n",
    "query = '''SELECT * FROM authors LIMIT 5'''\n",
    "get_sql_data(query)"
   ]
  },
  {
   "cell_type": "markdown",
   "metadata": {},
   "source": [
    "**Таблица publishers** "
   ]
  },
  {
   "cell_type": "code",
   "execution_count": 5,
   "metadata": {},
   "outputs": [
    {
     "data": {
      "text/html": [
       "<div>\n",
       "<style scoped>\n",
       "    .dataframe tbody tr th:only-of-type {\n",
       "        vertical-align: middle;\n",
       "    }\n",
       "\n",
       "    .dataframe tbody tr th {\n",
       "        vertical-align: top;\n",
       "    }\n",
       "\n",
       "    .dataframe thead th {\n",
       "        text-align: right;\n",
       "    }\n",
       "</style>\n",
       "<table border=\"1\" class=\"dataframe\">\n",
       "  <thead>\n",
       "    <tr style=\"text-align: right;\">\n",
       "      <th></th>\n",
       "      <th>publisher_id</th>\n",
       "      <th>publisher</th>\n",
       "    </tr>\n",
       "  </thead>\n",
       "  <tbody>\n",
       "    <tr>\n",
       "      <th>0</th>\n",
       "      <td>1</td>\n",
       "      <td>Ace</td>\n",
       "    </tr>\n",
       "    <tr>\n",
       "      <th>1</th>\n",
       "      <td>2</td>\n",
       "      <td>Ace Book</td>\n",
       "    </tr>\n",
       "    <tr>\n",
       "      <th>2</th>\n",
       "      <td>3</td>\n",
       "      <td>Ace Books</td>\n",
       "    </tr>\n",
       "    <tr>\n",
       "      <th>3</th>\n",
       "      <td>4</td>\n",
       "      <td>Ace Hardcover</td>\n",
       "    </tr>\n",
       "    <tr>\n",
       "      <th>4</th>\n",
       "      <td>5</td>\n",
       "      <td>Addison Wesley Publishing Company</td>\n",
       "    </tr>\n",
       "  </tbody>\n",
       "</table>\n",
       "</div>"
      ],
      "text/plain": [
       "   publisher_id                          publisher\n",
       "0             1                                Ace\n",
       "1             2                           Ace Book\n",
       "2             3                          Ace Books\n",
       "3             4                      Ace Hardcover\n",
       "4             5  Addison Wesley Publishing Company"
      ]
     },
     "execution_count": 5,
     "metadata": {},
     "output_type": "execute_result"
    }
   ],
   "source": [
    "# Формируем запрос и выводим данные\n",
    "query = '''SELECT * FROM publishers LIMIT 5'''\n",
    "get_sql_data(query)"
   ]
  },
  {
   "cell_type": "markdown",
   "metadata": {},
   "source": [
    "**Таблица ratings**  "
   ]
  },
  {
   "cell_type": "code",
   "execution_count": 6,
   "metadata": {},
   "outputs": [
    {
     "data": {
      "text/html": [
       "<div>\n",
       "<style scoped>\n",
       "    .dataframe tbody tr th:only-of-type {\n",
       "        vertical-align: middle;\n",
       "    }\n",
       "\n",
       "    .dataframe tbody tr th {\n",
       "        vertical-align: top;\n",
       "    }\n",
       "\n",
       "    .dataframe thead th {\n",
       "        text-align: right;\n",
       "    }\n",
       "</style>\n",
       "<table border=\"1\" class=\"dataframe\">\n",
       "  <thead>\n",
       "    <tr style=\"text-align: right;\">\n",
       "      <th></th>\n",
       "      <th>rating_id</th>\n",
       "      <th>book_id</th>\n",
       "      <th>username</th>\n",
       "      <th>rating</th>\n",
       "    </tr>\n",
       "  </thead>\n",
       "  <tbody>\n",
       "    <tr>\n",
       "      <th>0</th>\n",
       "      <td>1</td>\n",
       "      <td>1</td>\n",
       "      <td>ryanfranco</td>\n",
       "      <td>4</td>\n",
       "    </tr>\n",
       "    <tr>\n",
       "      <th>1</th>\n",
       "      <td>2</td>\n",
       "      <td>1</td>\n",
       "      <td>grantpatricia</td>\n",
       "      <td>2</td>\n",
       "    </tr>\n",
       "    <tr>\n",
       "      <th>2</th>\n",
       "      <td>3</td>\n",
       "      <td>1</td>\n",
       "      <td>brandtandrea</td>\n",
       "      <td>5</td>\n",
       "    </tr>\n",
       "    <tr>\n",
       "      <th>3</th>\n",
       "      <td>4</td>\n",
       "      <td>2</td>\n",
       "      <td>lorichen</td>\n",
       "      <td>3</td>\n",
       "    </tr>\n",
       "    <tr>\n",
       "      <th>4</th>\n",
       "      <td>5</td>\n",
       "      <td>2</td>\n",
       "      <td>mariokeller</td>\n",
       "      <td>2</td>\n",
       "    </tr>\n",
       "  </tbody>\n",
       "</table>\n",
       "</div>"
      ],
      "text/plain": [
       "   rating_id  book_id       username  rating\n",
       "0          1        1     ryanfranco       4\n",
       "1          2        1  grantpatricia       2\n",
       "2          3        1   brandtandrea       5\n",
       "3          4        2       lorichen       3\n",
       "4          5        2    mariokeller       2"
      ]
     },
     "execution_count": 6,
     "metadata": {},
     "output_type": "execute_result"
    }
   ],
   "source": [
    "# Формируем запрос и выводим данные\n",
    "query = '''SELECT * FROM ratings LIMIT 5'''\n",
    "get_sql_data(query)"
   ]
  },
  {
   "cell_type": "markdown",
   "metadata": {},
   "source": [
    "**Таблица reviews** "
   ]
  },
  {
   "cell_type": "code",
   "execution_count": 7,
   "metadata": {},
   "outputs": [
    {
     "data": {
      "text/html": [
       "<div>\n",
       "<style scoped>\n",
       "    .dataframe tbody tr th:only-of-type {\n",
       "        vertical-align: middle;\n",
       "    }\n",
       "\n",
       "    .dataframe tbody tr th {\n",
       "        vertical-align: top;\n",
       "    }\n",
       "\n",
       "    .dataframe thead th {\n",
       "        text-align: right;\n",
       "    }\n",
       "</style>\n",
       "<table border=\"1\" class=\"dataframe\">\n",
       "  <thead>\n",
       "    <tr style=\"text-align: right;\">\n",
       "      <th></th>\n",
       "      <th>review_id</th>\n",
       "      <th>book_id</th>\n",
       "      <th>username</th>\n",
       "      <th>text</th>\n",
       "    </tr>\n",
       "  </thead>\n",
       "  <tbody>\n",
       "    <tr>\n",
       "      <th>0</th>\n",
       "      <td>1</td>\n",
       "      <td>1</td>\n",
       "      <td>brandtandrea</td>\n",
       "      <td>Mention society tell send professor analysis. ...</td>\n",
       "    </tr>\n",
       "    <tr>\n",
       "      <th>1</th>\n",
       "      <td>2</td>\n",
       "      <td>1</td>\n",
       "      <td>ryanfranco</td>\n",
       "      <td>Foot glass pretty audience hit themselves. Amo...</td>\n",
       "    </tr>\n",
       "    <tr>\n",
       "      <th>2</th>\n",
       "      <td>3</td>\n",
       "      <td>2</td>\n",
       "      <td>lorichen</td>\n",
       "      <td>Listen treat keep worry. Miss husband tax but ...</td>\n",
       "    </tr>\n",
       "    <tr>\n",
       "      <th>3</th>\n",
       "      <td>4</td>\n",
       "      <td>3</td>\n",
       "      <td>johnsonamanda</td>\n",
       "      <td>Finally month interesting blue could nature cu...</td>\n",
       "    </tr>\n",
       "    <tr>\n",
       "      <th>4</th>\n",
       "      <td>5</td>\n",
       "      <td>3</td>\n",
       "      <td>scotttamara</td>\n",
       "      <td>Nation purpose heavy give wait song will. List...</td>\n",
       "    </tr>\n",
       "  </tbody>\n",
       "</table>\n",
       "</div>"
      ],
      "text/plain": [
       "   review_id  book_id       username  \\\n",
       "0          1        1   brandtandrea   \n",
       "1          2        1     ryanfranco   \n",
       "2          3        2       lorichen   \n",
       "3          4        3  johnsonamanda   \n",
       "4          5        3    scotttamara   \n",
       "\n",
       "                                                text  \n",
       "0  Mention society tell send professor analysis. ...  \n",
       "1  Foot glass pretty audience hit themselves. Amo...  \n",
       "2  Listen treat keep worry. Miss husband tax but ...  \n",
       "3  Finally month interesting blue could nature cu...  \n",
       "4  Nation purpose heavy give wait song will. List...  "
      ]
     },
     "execution_count": 7,
     "metadata": {},
     "output_type": "execute_result"
    }
   ],
   "source": [
    "# Формируем запрос и выводим данные\n",
    "query = '''SELECT * FROM reviews LIMIT 5'''\n",
    "get_sql_data(query)"
   ]
  },
  {
   "cell_type": "markdown",
   "metadata": {},
   "source": [
    "Взглянув на предоставленные данные, можно сделать вывод, что у нас есть достаточно информации о каждой книге, ее авторе, размерах, рейтинге и даже отзывов читателей. Сами по себе таблицы соединены определенными колонками, например, по book_id."
   ]
  },
  {
   "cell_type": "markdown",
   "metadata": {},
   "source": [
    "Теперь можем приступить к созданию запросов."
   ]
  },
  {
   "cell_type": "markdown",
   "metadata": {},
   "source": [
    "## Cколько книг вышло после 1 января 2000 года"
   ]
  },
  {
   "cell_type": "code",
   "execution_count": 8,
   "metadata": {},
   "outputs": [
    {
     "data": {
      "text/html": [
       "<div>\n",
       "<style scoped>\n",
       "    .dataframe tbody tr th:only-of-type {\n",
       "        vertical-align: middle;\n",
       "    }\n",
       "\n",
       "    .dataframe tbody tr th {\n",
       "        vertical-align: top;\n",
       "    }\n",
       "\n",
       "    .dataframe thead th {\n",
       "        text-align: right;\n",
       "    }\n",
       "</style>\n",
       "<table border=\"1\" class=\"dataframe\">\n",
       "  <thead>\n",
       "    <tr style=\"text-align: right;\">\n",
       "      <th></th>\n",
       "      <th>number_of_books_after_2000</th>\n",
       "    </tr>\n",
       "  </thead>\n",
       "  <tbody>\n",
       "    <tr>\n",
       "      <th>0</th>\n",
       "      <td>819</td>\n",
       "    </tr>\n",
       "  </tbody>\n",
       "</table>\n",
       "</div>"
      ],
      "text/plain": [
       "   number_of_books_after_2000\n",
       "0                         819"
      ]
     },
     "execution_count": 8,
     "metadata": {},
     "output_type": "execute_result"
    }
   ],
   "source": [
    "# Формируем запрос и выводим данные\n",
    "books2000 = '''SELECT COUNT(*) as number_of_books_after_2000\n",
    "               FROM books\n",
    "               WHERE publication_date > '2000-01-01'\n",
    "               '''\n",
    "get_sql_data(books2000)"
   ]
  },
  {
   "cell_type": "code",
   "execution_count": 9,
   "metadata": {},
   "outputs": [
    {
     "data": {
      "text/html": [
       "<div>\n",
       "<style scoped>\n",
       "    .dataframe tbody tr th:only-of-type {\n",
       "        vertical-align: middle;\n",
       "    }\n",
       "\n",
       "    .dataframe tbody tr th {\n",
       "        vertical-align: top;\n",
       "    }\n",
       "\n",
       "    .dataframe thead th {\n",
       "        text-align: right;\n",
       "    }\n",
       "</style>\n",
       "<table border=\"1\" class=\"dataframe\">\n",
       "  <thead>\n",
       "    <tr style=\"text-align: right;\">\n",
       "      <th></th>\n",
       "      <th>number_of_books_after_2000</th>\n",
       "    </tr>\n",
       "  </thead>\n",
       "  <tbody>\n",
       "    <tr>\n",
       "      <th>0</th>\n",
       "      <td>821</td>\n",
       "    </tr>\n",
       "  </tbody>\n",
       "</table>\n",
       "</div>"
      ],
      "text/plain": [
       "   number_of_books_after_2000\n",
       "0                         821"
      ]
     },
     "execution_count": 9,
     "metadata": {},
     "output_type": "execute_result"
    }
   ],
   "source": [
    "# Формируем запрос и выводим данные (включим 1 января в фильтрацию)\n",
    "books2000 = '''SELECT COUNT(*) as number_of_books_after_2000\n",
    "               FROM books\n",
    "               WHERE publication_date >= '2000-01-01'\n",
    "               '''\n",
    "get_sql_data(books2000)"
   ]
  },
  {
   "cell_type": "markdown",
   "metadata": {},
   "source": [
    "После 1 января 2000 года вышло 819 книг. Но если включить 1 января в запрос, то количество возрастет на 3 книги. "
   ]
  },
  {
   "cell_type": "markdown",
   "metadata": {},
   "source": [
    "## Количество обзоров и средняя оценка каждой книги"
   ]
  },
  {
   "cell_type": "code",
   "execution_count": 12,
   "metadata": {},
   "outputs": [
    {
     "data": {
      "text/html": [
       "<div>\n",
       "<style scoped>\n",
       "    .dataframe tbody tr th:only-of-type {\n",
       "        vertical-align: middle;\n",
       "    }\n",
       "\n",
       "    .dataframe tbody tr th {\n",
       "        vertical-align: top;\n",
       "    }\n",
       "\n",
       "    .dataframe thead th {\n",
       "        text-align: right;\n",
       "    }\n",
       "</style>\n",
       "<table border=\"1\" class=\"dataframe\">\n",
       "  <thead>\n",
       "    <tr style=\"text-align: right;\">\n",
       "      <th></th>\n",
       "      <th>book_id</th>\n",
       "      <th>title</th>\n",
       "      <th>reviews_cnt</th>\n",
       "      <th>rating_avg</th>\n",
       "    </tr>\n",
       "  </thead>\n",
       "  <tbody>\n",
       "    <tr>\n",
       "      <th>0</th>\n",
       "      <td>86</td>\n",
       "      <td>Arrows of the Queen (Heralds of Valdemar  #1)</td>\n",
       "      <td>2</td>\n",
       "      <td>5.00</td>\n",
       "    </tr>\n",
       "    <tr>\n",
       "      <th>1</th>\n",
       "      <td>901</td>\n",
       "      <td>The Walking Dead  Book One (The Walking Dead #...</td>\n",
       "      <td>2</td>\n",
       "      <td>5.00</td>\n",
       "    </tr>\n",
       "    <tr>\n",
       "      <th>2</th>\n",
       "      <td>390</td>\n",
       "      <td>Light in August</td>\n",
       "      <td>2</td>\n",
       "      <td>5.00</td>\n",
       "    </tr>\n",
       "    <tr>\n",
       "      <th>3</th>\n",
       "      <td>972</td>\n",
       "      <td>Wherever You Go  There You Are: Mindfulness Me...</td>\n",
       "      <td>2</td>\n",
       "      <td>5.00</td>\n",
       "    </tr>\n",
       "    <tr>\n",
       "      <th>4</th>\n",
       "      <td>136</td>\n",
       "      <td>Captivating: Unveiling the Mystery of a Woman'...</td>\n",
       "      <td>2</td>\n",
       "      <td>5.00</td>\n",
       "    </tr>\n",
       "    <tr>\n",
       "      <th>...</th>\n",
       "      <td>...</td>\n",
       "      <td>...</td>\n",
       "      <td>...</td>\n",
       "      <td>...</td>\n",
       "    </tr>\n",
       "    <tr>\n",
       "      <th>995</th>\n",
       "      <td>915</td>\n",
       "      <td>The World Is Flat: A Brief History of the Twen...</td>\n",
       "      <td>3</td>\n",
       "      <td>2.25</td>\n",
       "    </tr>\n",
       "    <tr>\n",
       "      <th>996</th>\n",
       "      <td>316</td>\n",
       "      <td>His Excellency: George Washington</td>\n",
       "      <td>2</td>\n",
       "      <td>2.00</td>\n",
       "    </tr>\n",
       "    <tr>\n",
       "      <th>997</th>\n",
       "      <td>202</td>\n",
       "      <td>Drowning Ruth</td>\n",
       "      <td>3</td>\n",
       "      <td>2.00</td>\n",
       "    </tr>\n",
       "    <tr>\n",
       "      <th>998</th>\n",
       "      <td>371</td>\n",
       "      <td>Junky</td>\n",
       "      <td>2</td>\n",
       "      <td>2.00</td>\n",
       "    </tr>\n",
       "    <tr>\n",
       "      <th>999</th>\n",
       "      <td>303</td>\n",
       "      <td>Harvesting the Heart</td>\n",
       "      <td>2</td>\n",
       "      <td>1.50</td>\n",
       "    </tr>\n",
       "  </tbody>\n",
       "</table>\n",
       "<p>1000 rows × 4 columns</p>\n",
       "</div>"
      ],
      "text/plain": [
       "     book_id                                              title  reviews_cnt  \\\n",
       "0         86      Arrows of the Queen (Heralds of Valdemar  #1)            2   \n",
       "1        901  The Walking Dead  Book One (The Walking Dead #...            2   \n",
       "2        390                                    Light in August            2   \n",
       "3        972  Wherever You Go  There You Are: Mindfulness Me...            2   \n",
       "4        136  Captivating: Unveiling the Mystery of a Woman'...            2   \n",
       "..       ...                                                ...          ...   \n",
       "995      915  The World Is Flat: A Brief History of the Twen...            3   \n",
       "996      316                  His Excellency: George Washington            2   \n",
       "997      202                                      Drowning Ruth            3   \n",
       "998      371                                              Junky            2   \n",
       "999      303                               Harvesting the Heart            2   \n",
       "\n",
       "     rating_avg  \n",
       "0          5.00  \n",
       "1          5.00  \n",
       "2          5.00  \n",
       "3          5.00  \n",
       "4          5.00  \n",
       "..          ...  \n",
       "995        2.25  \n",
       "996        2.00  \n",
       "997        2.00  \n",
       "998        2.00  \n",
       "999        1.50  \n",
       "\n",
       "[1000 rows x 4 columns]"
      ]
     },
     "execution_count": 12,
     "metadata": {},
     "output_type": "execute_result"
    }
   ],
   "source": [
    "# Формируем запрос и выводим данные \n",
    "avg_and_cnt = '''SELECT b.book_id, \n",
    "                        b.title, \n",
    "                        COUNT(DISTINCT r.text) AS reviews_cnt, \n",
    "                        AVG(rt.rating) AS rating_avg\n",
    "                 FROM books b\n",
    "                 LEFT JOIN reviews r ON b.book_id = r.book_id\n",
    "                 LEFT JOIN ratings rt ON b.book_id = rt.book_id\n",
    "                 GROUP BY b.book_id\n",
    "                 ORDER BY rating_avg DESC\n",
    "               '''\n",
    "get_sql_data(avg_and_cnt)"
   ]
  },
  {
   "cell_type": "code",
   "execution_count": 13,
   "metadata": {},
   "outputs": [
    {
     "data": {
      "text/plain": [
       "2793"
      ]
     },
     "execution_count": 13,
     "metadata": {},
     "output_type": "execute_result"
    }
   ],
   "source": [
    "get_sql_data(avg_and_cnt)['reviews_cnt'].sum()"
   ]
  },
  {
   "cell_type": "markdown",
   "metadata": {},
   "source": [
    "Для каждой книги мы определили количество обзоров, которые написали на них пользователи, а также средний рейтинг. В будущем было бы интересно добавить жанр книг в анализ, чтобы узнать, что люди оценивают лучше и что им нравится больше из жанров."
   ]
  },
  {
   "cell_type": "markdown",
   "metadata": {},
   "source": [
    "## Издательство, которое выпустило наибольшее число книг толще 50 страниц "
   ]
  },
  {
   "cell_type": "code",
   "execution_count": 14,
   "metadata": {},
   "outputs": [
    {
     "data": {
      "text/html": [
       "<div>\n",
       "<style scoped>\n",
       "    .dataframe tbody tr th:only-of-type {\n",
       "        vertical-align: middle;\n",
       "    }\n",
       "\n",
       "    .dataframe tbody tr th {\n",
       "        vertical-align: top;\n",
       "    }\n",
       "\n",
       "    .dataframe thead th {\n",
       "        text-align: right;\n",
       "    }\n",
       "</style>\n",
       "<table border=\"1\" class=\"dataframe\">\n",
       "  <thead>\n",
       "    <tr style=\"text-align: right;\">\n",
       "      <th></th>\n",
       "      <th>publisher</th>\n",
       "      <th>books_count</th>\n",
       "    </tr>\n",
       "  </thead>\n",
       "  <tbody>\n",
       "    <tr>\n",
       "      <th>0</th>\n",
       "      <td>Penguin Books</td>\n",
       "      <td>42</td>\n",
       "    </tr>\n",
       "  </tbody>\n",
       "</table>\n",
       "</div>"
      ],
      "text/plain": [
       "       publisher  books_count\n",
       "0  Penguin Books           42"
      ]
     },
     "execution_count": 14,
     "metadata": {},
     "output_type": "execute_result"
    }
   ],
   "source": [
    "# Формируем запрос и выводим данные \n",
    "best_publisher = '''SELECT p.publisher,\n",
    "                           COUNT(b.book_id) AS books_count\n",
    "                    FROM publishers p\n",
    "                    LEFT JOIN books b ON p.publisher_id = b.publisher_id\n",
    "                    WHERE b.num_pages > 50\n",
    "                    GROUP BY p.publisher\n",
    "                    ORDER BY books_count DESC\n",
    "                    LIMIT 1;\n",
    "                 '''\n",
    "get_sql_data(best_publisher)"
   ]
  },
  {
   "cell_type": "markdown",
   "metadata": {},
   "source": [
    "Издательством с наибольшим числом книг толще 50 страниц стало **Penguin Books**, выпустившее 42 книги."
   ]
  },
  {
   "cell_type": "markdown",
   "metadata": {},
   "source": [
    "## Автор с самой высокой средней оценкой книг (учитывая только книги с 50 и более оценками)"
   ]
  },
  {
   "cell_type": "code",
   "execution_count": 15,
   "metadata": {},
   "outputs": [
    {
     "data": {
      "text/html": [
       "<div>\n",
       "<style scoped>\n",
       "    .dataframe tbody tr th:only-of-type {\n",
       "        vertical-align: middle;\n",
       "    }\n",
       "\n",
       "    .dataframe tbody tr th {\n",
       "        vertical-align: top;\n",
       "    }\n",
       "\n",
       "    .dataframe thead th {\n",
       "        text-align: right;\n",
       "    }\n",
       "</style>\n",
       "<table border=\"1\" class=\"dataframe\">\n",
       "  <thead>\n",
       "    <tr style=\"text-align: right;\">\n",
       "      <th></th>\n",
       "      <th>author</th>\n",
       "      <th>avg_rating</th>\n",
       "    </tr>\n",
       "  </thead>\n",
       "  <tbody>\n",
       "    <tr>\n",
       "      <th>0</th>\n",
       "      <td>J.K. Rowling/Mary GrandPré</td>\n",
       "      <td>4.287097</td>\n",
       "    </tr>\n",
       "  </tbody>\n",
       "</table>\n",
       "</div>"
      ],
      "text/plain": [
       "                       author  avg_rating\n",
       "0  J.K. Rowling/Mary GrandPré    4.287097"
      ]
     },
     "execution_count": 15,
     "metadata": {},
     "output_type": "execute_result"
    }
   ],
   "source": [
    "# Формируем запрос и выводим данные \n",
    "best_author = '''WITH\n",
    "                 cnt_50 AS (SELECT book_id\n",
    "                            FROM ratings\n",
    "                            GROUP BY book_id\n",
    "                            HAVING COUNT(rating_id) >= 50)\n",
    "                 SELECT a.author,\n",
    "                        AVG(r.rating) AS avg_rating\n",
    "                 FROM books as b\n",
    "                 INNER JOIN authors a ON b.author_id = a.author_id\n",
    "                 INNER JOIN cnt_50 ON b.book_id = cnt_50.book_id\n",
    "                 INNER JOIN ratings r ON cnt_50.book_id = r.book_id\n",
    "                 GROUP BY a.author  \n",
    "                 ORDER BY avg_rating DESC\n",
    "                 LIMIT 1;\n",
    "               '''\n",
    "get_sql_data(best_author)"
   ]
  },
  {
   "cell_type": "markdown",
   "metadata": {},
   "source": [
    "Автором с самой высокой средней оценкой у книг, у которых в целом по количеству было от 50 оценок, стала **J.K. Rowling** (Джоа́н Ро́улинг - наиболее известная благодаря своей серии книг по Гарри Поттеру) в союзе с **Mary GrandPré** (Мэри ГрандПре - американский иллюстратор, наиболее известная своими иллюстрациями обложек и глав книг о Гарри Поттере). Их средняя оценка равна примерно 4,29."
   ]
  },
  {
   "cell_type": "markdown",
   "metadata": {},
   "source": [
    "## Среднее количество обзоров от пользователей, которые поставили больше 48 оценок"
   ]
  },
  {
   "cell_type": "code",
   "execution_count": 16,
   "metadata": {},
   "outputs": [
    {
     "data": {
      "text/html": [
       "<div>\n",
       "<style scoped>\n",
       "    .dataframe tbody tr th:only-of-type {\n",
       "        vertical-align: middle;\n",
       "    }\n",
       "\n",
       "    .dataframe tbody tr th {\n",
       "        vertical-align: top;\n",
       "    }\n",
       "\n",
       "    .dataframe thead th {\n",
       "        text-align: right;\n",
       "    }\n",
       "</style>\n",
       "<table border=\"1\" class=\"dataframe\">\n",
       "  <thead>\n",
       "    <tr style=\"text-align: right;\">\n",
       "      <th></th>\n",
       "      <th>average_review_count</th>\n",
       "    </tr>\n",
       "  </thead>\n",
       "  <tbody>\n",
       "    <tr>\n",
       "      <th>0</th>\n",
       "      <td>24.0</td>\n",
       "    </tr>\n",
       "  </tbody>\n",
       "</table>\n",
       "</div>"
      ],
      "text/plain": [
       "   average_review_count\n",
       "0                  24.0"
      ]
     },
     "execution_count": 16,
     "metadata": {},
     "output_type": "execute_result"
    }
   ],
   "source": [
    "# Формируем запрос и выводим данные \n",
    "avg_rewiew = '''SELECT AVG(review_count) AS average_review_count\n",
    "                FROM (SELECT COUNT(review_id) AS review_count\n",
    "                      FROM reviews\n",
    "                      WHERE username IN (\n",
    "                                        SELECT username\n",
    "                                        FROM ratings\n",
    "                                        GROUP BY username\n",
    "                                        HAVING COUNT(rating_id) > 48\n",
    "                                        )\n",
    "                      GROUP BY username\n",
    "               ) AS cnt_rewiew_48\n",
    "            '''\n",
    "get_sql_data(avg_rewiew)"
   ]
  },
  {
   "cell_type": "markdown",
   "metadata": {},
   "source": [
    "Среднее количество обзоров от пользователей, которые поставили больше 48 оценок, равно 24 обзорам. Это может указывать на то, что пользователи, которые активно оценивают книги, также склонны оставлять обзоры. Но оставлять обзоры такие пользователи предпочитают в среднем в два раза меньше."
   ]
  },
  {
   "cell_type": "markdown",
   "metadata": {},
   "source": [
    "<div class=\"alert alert-info\" style=\"border-color: lavender; border-radius: 10px; background-color: lavender;\"> \n",
    "<div style=\"border:white 5px; padding: 30px\">\n",
    "    <font color = 'black'> \n",
    "\n",
    "Соберем результаты нашего анализа в единый вывод:  \n",
    "- После 1 января 2000 года вышло **819** книг;  \n",
    "- Были определены количество обзоров и средний рейтинг каждой книги: самый высокий средний рейтинг составил **5** с **двумя** обзорами, а самый низкий средний рейтинг - **1,5** с таким же количеством обзоров;  \n",
    "- Издательством с наибольшим числом книг толще 50 страниц стало **Penguin Books**, выпустившее 42 книги;  \n",
    "- Автором с самой высокой средней оценкой у книг, у которых в целом по количеству было от 50 оценок, стала **J.K. Rowling** в союзе с иллюстратором **Mary GrandPré** - известные по серии книг о Гарри Поттере. Их средняя оценка равна **4,29**;  \n",
    "-  Среднее количество обзоров от пользователей, которые поставили больше 48 оценок, равно **24 обзорам**. Это может указывать на то, что пользователи, которые активно оценивают книги, также склонны оставлять обзоры.  \n",
    "\n",
    "В качестве рекомендации можно предложить стимулировать пользователей к оставлению обзоров, например, предоставлять бонусы или вознаграждения за оставленные обзоры. Это поможет создать активное сообщество пользователей и повысить вовлеченность. Также в будущем было бы интересно посмотреть подробнее на книги, которые получили наиболее высокие рейтинги и количество отзывов - по этим данным мы бы смогли узнать, какие книги привлекают пользователей больше всего и после этого, по возможности, расширить книжные рекомендации похожими книгами. "
   ]
  }
 ],
 "metadata": {
  "ExecuteTimeLog": [
   {
    "duration": 3177,
    "start_time": "2023-12-20T15:00:24.251Z"
   },
   {
    "duration": 8787,
    "start_time": "2023-12-20T15:00:29.535Z"
   },
   {
    "duration": 243,
    "start_time": "2023-12-20T15:01:05.763Z"
   },
   {
    "duration": 48,
    "start_time": "2023-12-20T15:01:40.886Z"
   },
   {
    "duration": 51,
    "start_time": "2023-12-20T15:02:00.474Z"
   },
   {
    "duration": 50,
    "start_time": "2023-12-20T15:02:18.537Z"
   },
   {
    "duration": 50,
    "start_time": "2023-12-20T15:06:13.239Z"
   },
   {
    "duration": 784,
    "start_time": "2023-12-20T15:06:41.903Z"
   },
   {
    "duration": 76,
    "start_time": "2023-12-20T15:06:50.528Z"
   },
   {
    "duration": 789,
    "start_time": "2023-12-20T15:06:57.245Z"
   },
   {
    "duration": 2860,
    "start_time": "2023-12-20T15:07:07.352Z"
   },
   {
    "duration": 8189,
    "start_time": "2023-12-20T15:07:10.215Z"
   },
   {
    "duration": 215,
    "start_time": "2023-12-20T15:07:18.405Z"
   },
   {
    "duration": 48,
    "start_time": "2023-12-20T15:07:18.623Z"
   },
   {
    "duration": 49,
    "start_time": "2023-12-20T15:07:18.673Z"
   },
   {
    "duration": 50,
    "start_time": "2023-12-20T15:07:18.724Z"
   },
   {
    "duration": 49,
    "start_time": "2023-12-20T15:07:18.775Z"
   },
   {
    "duration": 787,
    "start_time": "2023-12-20T15:07:18.825Z"
   },
   {
    "duration": 70,
    "start_time": "2023-12-20T15:07:51.553Z"
   },
   {
    "duration": 73,
    "start_time": "2023-12-20T15:09:41.974Z"
   },
   {
    "duration": 121,
    "start_time": "2023-12-20T15:11:08.535Z"
   },
   {
    "duration": 775,
    "start_time": "2023-12-20T15:13:19.688Z"
   },
   {
    "duration": 51,
    "start_time": "2023-12-20T15:20:57.790Z"
   },
   {
    "duration": 49,
    "start_time": "2023-12-20T15:21:06.152Z"
   },
   {
    "duration": 86,
    "start_time": "2023-12-20T15:21:37.438Z"
   },
   {
    "duration": 50,
    "start_time": "2023-12-20T15:22:16.844Z"
   },
   {
    "duration": 50,
    "start_time": "2023-12-20T15:22:50.786Z"
   },
   {
    "duration": 53,
    "start_time": "2023-12-20T15:23:34.360Z"
   },
   {
    "duration": 51,
    "start_time": "2023-12-20T15:26:37.663Z"
   },
   {
    "duration": 2804,
    "start_time": "2023-12-20T15:27:15.928Z"
   },
   {
    "duration": 7593,
    "start_time": "2023-12-20T15:27:18.735Z"
   },
   {
    "duration": 214,
    "start_time": "2023-12-20T15:27:26.329Z"
   },
   {
    "duration": 48,
    "start_time": "2023-12-20T15:27:26.544Z"
   },
   {
    "duration": 48,
    "start_time": "2023-12-20T15:27:26.594Z"
   },
   {
    "duration": 50,
    "start_time": "2023-12-20T15:27:26.643Z"
   },
   {
    "duration": 50,
    "start_time": "2023-12-20T15:27:26.695Z"
   },
   {
    "duration": 790,
    "start_time": "2023-12-20T15:27:26.746Z"
   },
   {
    "duration": 51,
    "start_time": "2023-12-20T15:27:27.538Z"
   },
   {
    "duration": 49,
    "start_time": "2023-12-20T15:27:27.591Z"
   },
   {
    "duration": 86,
    "start_time": "2023-12-20T15:27:27.641Z"
   },
   {
    "duration": 51,
    "start_time": "2023-12-20T15:27:27.729Z"
   },
   {
    "duration": 53,
    "start_time": "2023-12-20T15:27:27.781Z"
   },
   {
    "duration": 51,
    "start_time": "2023-12-20T15:27:27.836Z"
   },
   {
    "duration": 2876,
    "start_time": "2023-12-20T15:29:36.889Z"
   },
   {
    "duration": 7935,
    "start_time": "2023-12-20T15:29:39.768Z"
   },
   {
    "duration": 229,
    "start_time": "2023-12-20T15:29:47.704Z"
   },
   {
    "duration": 48,
    "start_time": "2023-12-20T15:29:47.935Z"
   },
   {
    "duration": 49,
    "start_time": "2023-12-20T15:29:47.986Z"
   },
   {
    "duration": 50,
    "start_time": "2023-12-20T15:29:48.036Z"
   },
   {
    "duration": 53,
    "start_time": "2023-12-20T15:29:48.088Z"
   },
   {
    "duration": 768,
    "start_time": "2023-12-20T15:29:48.143Z"
   },
   {
    "duration": 52,
    "start_time": "2023-12-20T15:29:48.913Z"
   },
   {
    "duration": 49,
    "start_time": "2023-12-20T15:29:48.967Z"
   },
   {
    "duration": 85,
    "start_time": "2023-12-20T15:29:49.018Z"
   },
   {
    "duration": 50,
    "start_time": "2023-12-20T15:29:49.105Z"
   },
   {
    "duration": 53,
    "start_time": "2023-12-20T15:29:49.157Z"
   },
   {
    "duration": 50,
    "start_time": "2023-12-20T15:29:49.213Z"
   },
   {
    "duration": 3149,
    "start_time": "2023-12-21T03:50:12.991Z"
   },
   {
    "duration": 7966,
    "start_time": "2023-12-21T03:50:16.142Z"
   },
   {
    "duration": 226,
    "start_time": "2023-12-21T03:50:24.109Z"
   },
   {
    "duration": 49,
    "start_time": "2023-12-21T03:50:24.337Z"
   },
   {
    "duration": 49,
    "start_time": "2023-12-21T03:50:24.388Z"
   },
   {
    "duration": 50,
    "start_time": "2023-12-21T03:50:24.438Z"
   },
   {
    "duration": 50,
    "start_time": "2023-12-21T03:50:24.490Z"
   },
   {
    "duration": 777,
    "start_time": "2023-12-21T03:50:24.541Z"
   },
   {
    "duration": 51,
    "start_time": "2023-12-21T03:50:25.320Z"
   },
   {
    "duration": 48,
    "start_time": "2023-12-21T03:50:25.373Z"
   },
   {
    "duration": 88,
    "start_time": "2023-12-21T03:50:25.423Z"
   },
   {
    "duration": 51,
    "start_time": "2023-12-21T03:50:25.513Z"
   },
   {
    "duration": 53,
    "start_time": "2023-12-21T03:50:25.566Z"
   },
   {
    "duration": 52,
    "start_time": "2023-12-21T03:50:25.621Z"
   },
   {
    "duration": 808,
    "start_time": "2023-12-21T03:50:38.490Z"
   },
   {
    "duration": 83,
    "start_time": "2023-12-21T04:09:26.827Z"
   },
   {
    "duration": 79,
    "start_time": "2023-12-21T04:09:33.849Z"
   },
   {
    "duration": 3156,
    "start_time": "2023-12-21T05:19:43.715Z"
   },
   {
    "duration": 5105,
    "start_time": "2023-12-21T05:19:46.874Z"
   },
   {
    "duration": 76,
    "start_time": "2023-12-21T05:19:51.981Z"
   },
   {
    "duration": 10,
    "start_time": "2023-12-21T05:19:52.058Z"
   },
   {
    "duration": 41,
    "start_time": "2023-12-21T05:19:52.070Z"
   },
   {
    "duration": 44,
    "start_time": "2023-12-21T05:19:52.113Z"
   },
   {
    "duration": 31,
    "start_time": "2023-12-21T05:19:52.158Z"
   },
   {
    "duration": 26,
    "start_time": "2023-12-21T05:19:52.191Z"
   },
   {
    "duration": 21,
    "start_time": "2023-12-21T05:19:52.219Z"
   },
   {
    "duration": 31,
    "start_time": "2023-12-21T05:19:52.241Z"
   },
   {
    "duration": 21,
    "start_time": "2023-12-21T05:19:52.273Z"
   },
   {
    "duration": 11,
    "start_time": "2023-12-21T05:19:52.295Z"
   },
   {
    "duration": 24,
    "start_time": "2023-12-21T05:19:52.308Z"
   },
   {
    "duration": 18,
    "start_time": "2023-12-21T05:19:52.334Z"
   },
   {
    "duration": 36,
    "start_time": "2023-12-21T05:25:59.283Z"
   },
   {
    "duration": 30,
    "start_time": "2023-12-21T05:26:05.939Z"
   },
   {
    "duration": 2923,
    "start_time": "2023-12-21T05:26:46.389Z"
   },
   {
    "duration": 5176,
    "start_time": "2023-12-21T05:26:49.314Z"
   },
   {
    "duration": 47,
    "start_time": "2023-12-21T05:26:54.491Z"
   },
   {
    "duration": 9,
    "start_time": "2023-12-21T05:26:54.540Z"
   },
   {
    "duration": 9,
    "start_time": "2023-12-21T05:26:54.550Z"
   },
   {
    "duration": 10,
    "start_time": "2023-12-21T05:26:54.560Z"
   },
   {
    "duration": 11,
    "start_time": "2023-12-21T05:26:54.571Z"
   },
   {
    "duration": 8,
    "start_time": "2023-12-21T05:26:54.583Z"
   },
   {
    "duration": 9,
    "start_time": "2023-12-21T05:26:54.615Z"
   },
   {
    "duration": 28,
    "start_time": "2023-12-21T05:26:54.626Z"
   },
   {
    "duration": 20,
    "start_time": "2023-12-21T05:26:54.655Z"
   },
   {
    "duration": 31,
    "start_time": "2023-12-21T05:26:54.676Z"
   },
   {
    "duration": 24,
    "start_time": "2023-12-21T05:26:54.709Z"
   },
   {
    "duration": 10,
    "start_time": "2023-12-21T05:26:54.735Z"
   },
   {
    "duration": 13,
    "start_time": "2023-12-21T05:26:54.746Z"
   },
   {
    "duration": 10,
    "start_time": "2023-12-21T05:26:54.761Z"
   },
   {
    "duration": 94,
    "start_time": "2023-12-21T05:32:44.328Z"
   },
   {
    "duration": 2857,
    "start_time": "2023-12-21T05:51:52.564Z"
   },
   {
    "duration": 5166,
    "start_time": "2023-12-21T05:51:55.424Z"
   },
   {
    "duration": 50,
    "start_time": "2023-12-21T05:52:00.594Z"
   },
   {
    "duration": 10,
    "start_time": "2023-12-21T05:52:00.647Z"
   },
   {
    "duration": 35,
    "start_time": "2023-12-21T05:52:00.658Z"
   },
   {
    "duration": 29,
    "start_time": "2023-12-21T05:52:00.694Z"
   },
   {
    "duration": 34,
    "start_time": "2023-12-21T05:52:00.725Z"
   },
   {
    "duration": 36,
    "start_time": "2023-12-21T05:52:00.760Z"
   },
   {
    "duration": 26,
    "start_time": "2023-12-21T05:52:00.798Z"
   },
   {
    "duration": 49,
    "start_time": "2023-12-21T05:52:00.826Z"
   },
   {
    "duration": 36,
    "start_time": "2023-12-21T05:52:00.876Z"
   },
   {
    "duration": 48,
    "start_time": "2023-12-21T05:52:00.913Z"
   },
   {
    "duration": 26,
    "start_time": "2023-12-21T05:52:00.963Z"
   },
   {
    "duration": 15,
    "start_time": "2023-12-21T05:52:00.990Z"
   },
   {
    "duration": 45,
    "start_time": "2023-12-21T05:52:01.007Z"
   },
   {
    "duration": 38,
    "start_time": "2023-12-21T05:52:01.054Z"
   }
  ],
  "kernelspec": {
   "display_name": "Python 3 (ipykernel)",
   "language": "python",
   "name": "python3"
  },
  "language_info": {
   "codemirror_mode": {
    "name": "ipython",
    "version": 3
   },
   "file_extension": ".py",
   "mimetype": "text/x-python",
   "name": "python",
   "nbconvert_exporter": "python",
   "pygments_lexer": "ipython3",
   "version": "3.11.4"
  },
  "toc": {
   "base_numbering": 1,
   "nav_menu": {},
   "number_sections": true,
   "sideBar": true,
   "skip_h1_title": true,
   "title_cell": "Table of Contents",
   "title_sidebar": "Contents",
   "toc_cell": false,
   "toc_position": {},
   "toc_section_display": true,
   "toc_window_display": false
  }
 },
 "nbformat": 4,
 "nbformat_minor": 2
}
