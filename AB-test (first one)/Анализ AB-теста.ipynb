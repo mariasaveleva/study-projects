{
 "cells": [
  {
   "cell_type": "markdown",
   "metadata": {},
   "source": [
    "# <font color = 'teal'> АНАЛИЗ A/B-ТЕСТА"
   ]
  },
  {
   "cell_type": "markdown",
   "metadata": {},
   "source": [
    "<div class = \"alert alert-info\" style = \"border-color: info; border-radius: 10px\"> \n",
    "    <font color = 'black'>\n",
    "В компании крупного интернет-магазина отдел маркетинга и аналитики подготовили список гипотез для увеличения выручки. \n",
    "\n",
    "        \n",
    "   **Задачи — приоритизировать составленные гипотезы, запустить A/B-тест и проанализировать результаты.**"
   ]
  },
  {
   "cell_type": "markdown",
   "metadata": {},
   "source": [
    "<div class = \"alert alert-info\" style = \"border-color: info; border-radius: 10px\"> \n",
    "    <font color = 'black'>\n",
    "\n",
    "### Общий план работы\n",
    "        \n",
    "**Часть 1. Приоретизация гипотез**\n",
    "\n",
    "- Применение фреймворка ICE\n",
    "- Применение фреймворка RICE \n",
    "- Анализ изменения приоритизации гипотез при применении RICE вместо ICE\n",
    "        \n",
    "**Часть 2. Анализ A/B-теста**       \n",
    "- График кумулятивной выручки по группам\n",
    "- График кумулятивного среднего чека по группам\n",
    "- График относительного изменения кумулятивного среднего чека группы B к группе А \n",
    "- График кумулятивного среднего количества заказов на посетителя по группам\n",
    "- График относительного изменения кумулятивного среднего количества заказов на посетителя группы B к группе A\n",
    "- Точечный график количества заказов по пользователям\n",
    "- 95-й и 99-й перцентили количества заказов на пользователя. Выбор границы для определения аномальных пользователей\n",
    "- Точечный график стоимостей заказов\n",
    "- 95-й и 99-й перцентили стоимости заказов. Выбор границу для определения аномальных заказов\n",
    "- Статистическая значимость различий в среднем количестве заказов на посетителя между группами по «сырым» данным\n",
    "- Статистическая значимость различий в среднем чеке заказа между группами по «сырым» данным\n",
    "- Статистическая значимость различий в среднем количестве заказов на посетителя между группами по «очищенным» данным\n",
    "- Статистическая значимость различий в среднем чеке заказа между группами по «очищенным» данным\n",
    "- Решение по результатам теста (варианты решений: 1. Остановить тест, зафиксировать победу одной из групп. 2. Остановить тест, зафиксировать отсутствие различий между группами. 3. Продолжить тест)"
   ]
  },
  {
   "cell_type": "markdown",
   "metadata": {},
   "source": [
    "## Приоретизация гипотез"
   ]
  },
  {
   "cell_type": "markdown",
   "metadata": {},
   "source": [
    "### Применение фреймворка ICE"
   ]
  },
  {
   "cell_type": "markdown",
   "metadata": {},
   "source": [
    "Для начала хотелось бы просто посмотреть на имеющиеся у нас данные, чтобы потом понимать, с чем работать. Поэтому посмотрим на таблицу с гипотезами."
   ]
  },
  {
   "cell_type": "code",
   "execution_count": 1,
   "metadata": {},
   "outputs": [
    {
     "data": {
      "text/html": [
       "<div>\n",
       "<style scoped>\n",
       "    .dataframe tbody tr th:only-of-type {\n",
       "        vertical-align: middle;\n",
       "    }\n",
       "\n",
       "    .dataframe tbody tr th {\n",
       "        vertical-align: top;\n",
       "    }\n",
       "\n",
       "    .dataframe thead th {\n",
       "        text-align: right;\n",
       "    }\n",
       "</style>\n",
       "<table border=\"1\" class=\"dataframe\">\n",
       "  <thead>\n",
       "    <tr style=\"text-align: right;\">\n",
       "      <th></th>\n",
       "      <th>Hypothesis</th>\n",
       "      <th>Reach</th>\n",
       "      <th>Impact</th>\n",
       "      <th>Confidence</th>\n",
       "      <th>Efforts</th>\n",
       "    </tr>\n",
       "  </thead>\n",
       "  <tbody>\n",
       "    <tr>\n",
       "      <th>0</th>\n",
       "      <td>Добавить два новых канала привлечения трафика,...</td>\n",
       "      <td>3</td>\n",
       "      <td>10</td>\n",
       "      <td>8</td>\n",
       "      <td>6</td>\n",
       "    </tr>\n",
       "    <tr>\n",
       "      <th>1</th>\n",
       "      <td>Запустить собственную службу доставки, что сок...</td>\n",
       "      <td>2</td>\n",
       "      <td>5</td>\n",
       "      <td>4</td>\n",
       "      <td>10</td>\n",
       "    </tr>\n",
       "    <tr>\n",
       "      <th>2</th>\n",
       "      <td>Добавить блоки рекомендаций товаров на сайт ин...</td>\n",
       "      <td>8</td>\n",
       "      <td>3</td>\n",
       "      <td>7</td>\n",
       "      <td>3</td>\n",
       "    </tr>\n",
       "    <tr>\n",
       "      <th>3</th>\n",
       "      <td>Изменить структура категорий, что увеличит кон...</td>\n",
       "      <td>8</td>\n",
       "      <td>3</td>\n",
       "      <td>3</td>\n",
       "      <td>8</td>\n",
       "    </tr>\n",
       "    <tr>\n",
       "      <th>4</th>\n",
       "      <td>Изменить цвет фона главной страницы, чтобы уве...</td>\n",
       "      <td>3</td>\n",
       "      <td>1</td>\n",
       "      <td>1</td>\n",
       "      <td>1</td>\n",
       "    </tr>\n",
       "    <tr>\n",
       "      <th>5</th>\n",
       "      <td>Добавить страницу отзывов клиентов о магазине,...</td>\n",
       "      <td>3</td>\n",
       "      <td>2</td>\n",
       "      <td>2</td>\n",
       "      <td>3</td>\n",
       "    </tr>\n",
       "    <tr>\n",
       "      <th>6</th>\n",
       "      <td>Показать на главной странице баннеры с актуаль...</td>\n",
       "      <td>5</td>\n",
       "      <td>3</td>\n",
       "      <td>8</td>\n",
       "      <td>3</td>\n",
       "    </tr>\n",
       "    <tr>\n",
       "      <th>7</th>\n",
       "      <td>Добавить форму подписки на все основные страни...</td>\n",
       "      <td>10</td>\n",
       "      <td>7</td>\n",
       "      <td>8</td>\n",
       "      <td>5</td>\n",
       "    </tr>\n",
       "    <tr>\n",
       "      <th>8</th>\n",
       "      <td>Запустить акцию, дающую скидку на товар в день...</td>\n",
       "      <td>1</td>\n",
       "      <td>9</td>\n",
       "      <td>9</td>\n",
       "      <td>5</td>\n",
       "    </tr>\n",
       "  </tbody>\n",
       "</table>\n",
       "</div>"
      ],
      "text/plain": [
       "                                          Hypothesis  Reach  Impact  \\\n",
       "0  Добавить два новых канала привлечения трафика,...      3      10   \n",
       "1  Запустить собственную службу доставки, что сок...      2       5   \n",
       "2  Добавить блоки рекомендаций товаров на сайт ин...      8       3   \n",
       "3  Изменить структура категорий, что увеличит кон...      8       3   \n",
       "4  Изменить цвет фона главной страницы, чтобы уве...      3       1   \n",
       "5  Добавить страницу отзывов клиентов о магазине,...      3       2   \n",
       "6  Показать на главной странице баннеры с актуаль...      5       3   \n",
       "7  Добавить форму подписки на все основные страни...     10       7   \n",
       "8  Запустить акцию, дающую скидку на товар в день...      1       9   \n",
       "\n",
       "   Confidence  Efforts  \n",
       "0           8        6  \n",
       "1           4       10  \n",
       "2           7        3  \n",
       "3           3        8  \n",
       "4           1        1  \n",
       "5           2        3  \n",
       "6           8        3  \n",
       "7           8        5  \n",
       "8           9        5  "
      ]
     },
     "metadata": {},
     "output_type": "display_data"
    }
   ],
   "source": [
    "# Выгружаем нужные нам библиотеки\n",
    "import pandas as pd\n",
    "import datetime as dt\n",
    "import numpy as np\n",
    "import matplotlib.pyplot as plt\n",
    "import scipy.stats as stats\n",
    "import seaborn as sb\n",
    "from pandas.plotting import register_matplotlib_converters\n",
    "import warnings\n",
    "# конвертеры, которые позволяют использовать типы pandas в matplotlib  \n",
    "register_matplotlib_converters()\n",
    "\n",
    "data = pd.read_csv('/datasets/hypothesis.csv', sep=',')\n",
    "display(data)"
   ]
  },
  {
   "cell_type": "markdown",
   "metadata": {},
   "source": [
    "Значения названий столбцов:\n",
    "- Hypothesis - наименование гипотезы\n",
    "- Reach — скольких пользователей затронет изменение, которое мы внесем;\n",
    "- Impact — насколько сильно изменение повлияет на пользователей, их опыт и удовлетворение от продукта;\n",
    "- Confidence — насколько мы уверены, что это изменение повлияет на пользователей именно так; \n",
    "- Efforts — сколько стоит протестировать эту гипотезу. "
   ]
  },
  {
   "cell_type": "markdown",
   "metadata": {},
   "source": [
    "По таблице стало ясно, что у нас есть девять гипотез и проставлены все необходимые оценки для применения наших фреймворков. Но лучше изменить названия столбцов, чтобы не было заглавных букв."
   ]
  },
  {
   "cell_type": "code",
   "execution_count": 2,
   "metadata": {},
   "outputs": [
    {
     "data": {
      "text/plain": [
       "Index(['hypothesis', 'reach', 'impact', 'confidence', 'efforts'], dtype='object')"
      ]
     },
     "execution_count": 2,
     "metadata": {},
     "output_type": "execute_result"
    }
   ],
   "source": [
    "# Приводим названия столбцов к нужному виду и проверям\n",
    "data.columns = data.columns.str.lower()\n",
    "data.columns"
   ]
  },
  {
   "cell_type": "code",
   "execution_count": 3,
   "metadata": {},
   "outputs": [
    {
     "data": {
      "text/html": [
       "<div>\n",
       "<style scoped>\n",
       "    .dataframe tbody tr th:only-of-type {\n",
       "        vertical-align: middle;\n",
       "    }\n",
       "\n",
       "    .dataframe tbody tr th {\n",
       "        vertical-align: top;\n",
       "    }\n",
       "\n",
       "    .dataframe thead th {\n",
       "        text-align: right;\n",
       "    }\n",
       "</style>\n",
       "<table border=\"1\" class=\"dataframe\">\n",
       "  <thead>\n",
       "    <tr style=\"text-align: right;\">\n",
       "      <th></th>\n",
       "      <th>hypothesis</th>\n",
       "      <th>reach</th>\n",
       "      <th>impact</th>\n",
       "      <th>confidence</th>\n",
       "      <th>efforts</th>\n",
       "    </tr>\n",
       "  </thead>\n",
       "  <tbody>\n",
       "    <tr>\n",
       "      <th>0</th>\n",
       "      <td>Добавить два новых канала привлечения трафика, что позволит привлекать на 30% больше пользователей</td>\n",
       "      <td>3</td>\n",
       "      <td>10</td>\n",
       "      <td>8</td>\n",
       "      <td>6</td>\n",
       "    </tr>\n",
       "    <tr>\n",
       "      <th>1</th>\n",
       "      <td>Запустить собственную службу доставки, что сократит срок доставки заказов</td>\n",
       "      <td>2</td>\n",
       "      <td>5</td>\n",
       "      <td>4</td>\n",
       "      <td>10</td>\n",
       "    </tr>\n",
       "    <tr>\n",
       "      <th>2</th>\n",
       "      <td>Добавить блоки рекомендаций товаров на сайт интернет магазина, чтобы повысить конверсию и средний чек заказа</td>\n",
       "      <td>8</td>\n",
       "      <td>3</td>\n",
       "      <td>7</td>\n",
       "      <td>3</td>\n",
       "    </tr>\n",
       "    <tr>\n",
       "      <th>3</th>\n",
       "      <td>Изменить структура категорий, что увеличит конверсию, т.к. пользователи быстрее найдут нужный товар</td>\n",
       "      <td>8</td>\n",
       "      <td>3</td>\n",
       "      <td>3</td>\n",
       "      <td>8</td>\n",
       "    </tr>\n",
       "    <tr>\n",
       "      <th>4</th>\n",
       "      <td>Изменить цвет фона главной страницы, чтобы увеличить вовлеченность пользователей</td>\n",
       "      <td>3</td>\n",
       "      <td>1</td>\n",
       "      <td>1</td>\n",
       "      <td>1</td>\n",
       "    </tr>\n",
       "    <tr>\n",
       "      <th>5</th>\n",
       "      <td>Добавить страницу отзывов клиентов о магазине, что позволит увеличить количество заказов</td>\n",
       "      <td>3</td>\n",
       "      <td>2</td>\n",
       "      <td>2</td>\n",
       "      <td>3</td>\n",
       "    </tr>\n",
       "    <tr>\n",
       "      <th>6</th>\n",
       "      <td>Показать на главной странице баннеры с актуальными акциями и распродажами, чтобы увеличить конверсию</td>\n",
       "      <td>5</td>\n",
       "      <td>3</td>\n",
       "      <td>8</td>\n",
       "      <td>3</td>\n",
       "    </tr>\n",
       "    <tr>\n",
       "      <th>7</th>\n",
       "      <td>Добавить форму подписки на все основные страницы, чтобы собрать базу клиентов для email-рассылок</td>\n",
       "      <td>10</td>\n",
       "      <td>7</td>\n",
       "      <td>8</td>\n",
       "      <td>5</td>\n",
       "    </tr>\n",
       "    <tr>\n",
       "      <th>8</th>\n",
       "      <td>Запустить акцию, дающую скидку на товар в день рождения</td>\n",
       "      <td>1</td>\n",
       "      <td>9</td>\n",
       "      <td>9</td>\n",
       "      <td>5</td>\n",
       "    </tr>\n",
       "  </tbody>\n",
       "</table>\n",
       "</div>"
      ],
      "text/plain": [
       "                                                                                                     hypothesis  \\\n",
       "0  Добавить два новых канала привлечения трафика, что позволит привлекать на 30% больше пользователей             \n",
       "1  Запустить собственную службу доставки, что сократит срок доставки заказов                                      \n",
       "2  Добавить блоки рекомендаций товаров на сайт интернет магазина, чтобы повысить конверсию и средний чек заказа   \n",
       "3  Изменить структура категорий, что увеличит конверсию, т.к. пользователи быстрее найдут нужный товар            \n",
       "4  Изменить цвет фона главной страницы, чтобы увеличить вовлеченность пользователей                               \n",
       "5  Добавить страницу отзывов клиентов о магазине, что позволит увеличить количество заказов                       \n",
       "6  Показать на главной странице баннеры с актуальными акциями и распродажами, чтобы увеличить конверсию           \n",
       "7  Добавить форму подписки на все основные страницы, чтобы собрать базу клиентов для email-рассылок               \n",
       "8  Запустить акцию, дающую скидку на товар в день рождения                                                        \n",
       "\n",
       "   reach  impact  confidence  efforts  \n",
       "0  3      10      8           6        \n",
       "1  2      5       4           10       \n",
       "2  8      3       7           3        \n",
       "3  8      3       3           8        \n",
       "4  3      1       1           1        \n",
       "5  3      2       2           3        \n",
       "6  5      3       8           3        \n",
       "7  10     7       8           5        \n",
       "8  1      9       9           5        "
      ]
     },
     "execution_count": 3,
     "metadata": {},
     "output_type": "execute_result"
    }
   ],
   "source": [
    "# Расширим столбец hypothesis, чтобы стало видно полные названия гипотез\n",
    "pd.options.display.max_colwidth = 1\n",
    "data"
   ]
  },
  {
   "cell_type": "markdown",
   "metadata": {},
   "source": [
    " Теперь мы можем спокойно применить метод ICE для приоритизации."
   ]
  },
  {
   "cell_type": "code",
   "execution_count": 4,
   "metadata": {},
   "outputs": [
    {
     "data": {
      "text/html": [
       "<div>\n",
       "<style scoped>\n",
       "    .dataframe tbody tr th:only-of-type {\n",
       "        vertical-align: middle;\n",
       "    }\n",
       "\n",
       "    .dataframe tbody tr th {\n",
       "        vertical-align: top;\n",
       "    }\n",
       "\n",
       "    .dataframe thead th {\n",
       "        text-align: right;\n",
       "    }\n",
       "</style>\n",
       "<table border=\"1\" class=\"dataframe\">\n",
       "  <thead>\n",
       "    <tr style=\"text-align: right;\">\n",
       "      <th></th>\n",
       "      <th>hypothesis</th>\n",
       "      <th>ICE</th>\n",
       "    </tr>\n",
       "  </thead>\n",
       "  <tbody>\n",
       "    <tr>\n",
       "      <th>8</th>\n",
       "      <td>Запустить акцию, дающую скидку на товар в день рождения</td>\n",
       "      <td>16.2</td>\n",
       "    </tr>\n",
       "    <tr>\n",
       "      <th>0</th>\n",
       "      <td>Добавить два новых канала привлечения трафика, что позволит привлекать на 30% больше пользователей</td>\n",
       "      <td>13.3</td>\n",
       "    </tr>\n",
       "    <tr>\n",
       "      <th>7</th>\n",
       "      <td>Добавить форму подписки на все основные страницы, чтобы собрать базу клиентов для email-рассылок</td>\n",
       "      <td>11.2</td>\n",
       "    </tr>\n",
       "    <tr>\n",
       "      <th>6</th>\n",
       "      <td>Показать на главной странице баннеры с актуальными акциями и распродажами, чтобы увеличить конверсию</td>\n",
       "      <td>8.0</td>\n",
       "    </tr>\n",
       "    <tr>\n",
       "      <th>2</th>\n",
       "      <td>Добавить блоки рекомендаций товаров на сайт интернет магазина, чтобы повысить конверсию и средний чек заказа</td>\n",
       "      <td>7.0</td>\n",
       "    </tr>\n",
       "    <tr>\n",
       "      <th>1</th>\n",
       "      <td>Запустить собственную службу доставки, что сократит срок доставки заказов</td>\n",
       "      <td>2.0</td>\n",
       "    </tr>\n",
       "    <tr>\n",
       "      <th>5</th>\n",
       "      <td>Добавить страницу отзывов клиентов о магазине, что позволит увеличить количество заказов</td>\n",
       "      <td>1.3</td>\n",
       "    </tr>\n",
       "    <tr>\n",
       "      <th>3</th>\n",
       "      <td>Изменить структура категорий, что увеличит конверсию, т.к. пользователи быстрее найдут нужный товар</td>\n",
       "      <td>1.1</td>\n",
       "    </tr>\n",
       "    <tr>\n",
       "      <th>4</th>\n",
       "      <td>Изменить цвет фона главной страницы, чтобы увеличить вовлеченность пользователей</td>\n",
       "      <td>1.0</td>\n",
       "    </tr>\n",
       "  </tbody>\n",
       "</table>\n",
       "</div>"
      ],
      "text/plain": [
       "                                                                                                     hypothesis  \\\n",
       "8  Запустить акцию, дающую скидку на товар в день рождения                                                        \n",
       "0  Добавить два новых канала привлечения трафика, что позволит привлекать на 30% больше пользователей             \n",
       "7  Добавить форму подписки на все основные страницы, чтобы собрать базу клиентов для email-рассылок               \n",
       "6  Показать на главной странице баннеры с актуальными акциями и распродажами, чтобы увеличить конверсию           \n",
       "2  Добавить блоки рекомендаций товаров на сайт интернет магазина, чтобы повысить конверсию и средний чек заказа   \n",
       "1  Запустить собственную службу доставки, что сократит срок доставки заказов                                      \n",
       "5  Добавить страницу отзывов клиентов о магазине, что позволит увеличить количество заказов                       \n",
       "3  Изменить структура категорий, что увеличит конверсию, т.к. пользователи быстрее найдут нужный товар            \n",
       "4  Изменить цвет фона главной страницы, чтобы увеличить вовлеченность пользователей                               \n",
       "\n",
       "    ICE  \n",
       "8  16.2  \n",
       "0  13.3  \n",
       "7  11.2  \n",
       "6  8.0   \n",
       "2  7.0   \n",
       "1  2.0   \n",
       "5  1.3   \n",
       "3  1.1   \n",
       "4  1.0   "
      ]
     },
     "metadata": {},
     "output_type": "display_data"
    }
   ],
   "source": [
    "# Высчитываем ICE через impact, confidence и efforts\n",
    "data['ICE'] = (data['impact'] * data['confidence']) / data['efforts']\n",
    "display(round((data.sort_values(by = 'ICE', ascending = False)[['hypothesis', 'ICE']]), 1))"
   ]
  },
  {
   "cell_type": "markdown",
   "metadata": {},
   "source": [
    "Судя по всему самыми перспективными являются гипотезы под индексом 8, 0 и 7.\n",
    "- индекс 8 - \"Запустить акцию, дающую скидку на товар в день рождения\"\n",
    "- индекс 0 - \"Добавить два новых канала привлечения трафика, что позволит привлекать на 30% больше пользователей\" \n",
    "- индекс 7 - \"Добавить форму подписки на все основные страницы, чтобы собрать базу клиентов для email-рассылок\" \n",
    "\n",
    "А самыми незначительными для дальнейшего теста стали гипотезы с индексами 5, 3 и 4. \n",
    "- индекс 5 - \"Добавить страницу отзывов клиентов о магазине, что позволит увеличить количество заказов\"\n",
    "- индекс 3 - \"Изменить структура категорий, что увеличит конверсию, т.к. пользователи быстрее найдут нужный товар\"\n",
    "- индекс 4 - \"Изменить цвет фона главной страницы, чтобы увеличить вовлеченность пользователей\"\n",
    "\n",
    "Теперь применим фреймворк RICE для полной оценки."
   ]
  },
  {
   "cell_type": "markdown",
   "metadata": {},
   "source": [
    "### Применение фреймворка RICE "
   ]
  },
  {
   "cell_type": "code",
   "execution_count": 5,
   "metadata": {},
   "outputs": [
    {
     "data": {
      "text/html": [
       "<div>\n",
       "<style scoped>\n",
       "    .dataframe tbody tr th:only-of-type {\n",
       "        vertical-align: middle;\n",
       "    }\n",
       "\n",
       "    .dataframe tbody tr th {\n",
       "        vertical-align: top;\n",
       "    }\n",
       "\n",
       "    .dataframe thead th {\n",
       "        text-align: right;\n",
       "    }\n",
       "</style>\n",
       "<table border=\"1\" class=\"dataframe\">\n",
       "  <thead>\n",
       "    <tr style=\"text-align: right;\">\n",
       "      <th></th>\n",
       "      <th>hypothesis</th>\n",
       "      <th>RICE</th>\n",
       "    </tr>\n",
       "  </thead>\n",
       "  <tbody>\n",
       "    <tr>\n",
       "      <th>7</th>\n",
       "      <td>Добавить форму подписки на все основные страницы, чтобы собрать базу клиентов для email-рассылок</td>\n",
       "      <td>112.0</td>\n",
       "    </tr>\n",
       "    <tr>\n",
       "      <th>2</th>\n",
       "      <td>Добавить блоки рекомендаций товаров на сайт интернет магазина, чтобы повысить конверсию и средний чек заказа</td>\n",
       "      <td>56.0</td>\n",
       "    </tr>\n",
       "    <tr>\n",
       "      <th>0</th>\n",
       "      <td>Добавить два новых канала привлечения трафика, что позволит привлекать на 30% больше пользователей</td>\n",
       "      <td>40.0</td>\n",
       "    </tr>\n",
       "    <tr>\n",
       "      <th>6</th>\n",
       "      <td>Показать на главной странице баннеры с актуальными акциями и распродажами, чтобы увеличить конверсию</td>\n",
       "      <td>40.0</td>\n",
       "    </tr>\n",
       "    <tr>\n",
       "      <th>8</th>\n",
       "      <td>Запустить акцию, дающую скидку на товар в день рождения</td>\n",
       "      <td>16.2</td>\n",
       "    </tr>\n",
       "    <tr>\n",
       "      <th>3</th>\n",
       "      <td>Изменить структура категорий, что увеличит конверсию, т.к. пользователи быстрее найдут нужный товар</td>\n",
       "      <td>9.0</td>\n",
       "    </tr>\n",
       "    <tr>\n",
       "      <th>1</th>\n",
       "      <td>Запустить собственную службу доставки, что сократит срок доставки заказов</td>\n",
       "      <td>4.0</td>\n",
       "    </tr>\n",
       "    <tr>\n",
       "      <th>5</th>\n",
       "      <td>Добавить страницу отзывов клиентов о магазине, что позволит увеличить количество заказов</td>\n",
       "      <td>4.0</td>\n",
       "    </tr>\n",
       "    <tr>\n",
       "      <th>4</th>\n",
       "      <td>Изменить цвет фона главной страницы, чтобы увеличить вовлеченность пользователей</td>\n",
       "      <td>3.0</td>\n",
       "    </tr>\n",
       "  </tbody>\n",
       "</table>\n",
       "</div>"
      ],
      "text/plain": [
       "                                                                                                     hypothesis  \\\n",
       "7  Добавить форму подписки на все основные страницы, чтобы собрать базу клиентов для email-рассылок               \n",
       "2  Добавить блоки рекомендаций товаров на сайт интернет магазина, чтобы повысить конверсию и средний чек заказа   \n",
       "0  Добавить два новых канала привлечения трафика, что позволит привлекать на 30% больше пользователей             \n",
       "6  Показать на главной странице баннеры с актуальными акциями и распродажами, чтобы увеличить конверсию           \n",
       "8  Запустить акцию, дающую скидку на товар в день рождения                                                        \n",
       "3  Изменить структура категорий, что увеличит конверсию, т.к. пользователи быстрее найдут нужный товар            \n",
       "1  Запустить собственную службу доставки, что сократит срок доставки заказов                                      \n",
       "5  Добавить страницу отзывов клиентов о магазине, что позволит увеличить количество заказов                       \n",
       "4  Изменить цвет фона главной страницы, чтобы увеличить вовлеченность пользователей                               \n",
       "\n",
       "    RICE  \n",
       "7  112.0  \n",
       "2  56.0   \n",
       "0  40.0   \n",
       "6  40.0   \n",
       "8  16.2   \n",
       "3  9.0    \n",
       "1  4.0    \n",
       "5  4.0    \n",
       "4  3.0    "
      ]
     },
     "metadata": {},
     "output_type": "display_data"
    }
   ],
   "source": [
    "# Вычисляем RICE с добавлением значений оценки reach к ICE \n",
    "data['RICE'] = (data['impact'] * data['confidence'] * data['reach']) / data['efforts']\n",
    "display(round((data.sort_values(by = 'RICE', ascending = False)[['hypothesis', 'RICE']]), 1))"
   ]
  },
  {
   "cell_type": "markdown",
   "metadata": {},
   "source": [
    "Самыми перпективными в данном случае стали гипотезы с индексами 7, 2 и 0, а самыми незначительными под индексами 1, 5 и 4."
   ]
  },
  {
   "cell_type": "markdown",
   "metadata": {},
   "source": [
    "### Анализ изменения приоритизации гипотез при применении RICE вместо ICE"
   ]
  },
  {
   "cell_type": "markdown",
   "metadata": {},
   "source": [
    "По RICE самыми перспективными на этот раз оказались те же гипотезы с индексом 7 и 0, однако на втором месте теперь гипотеза под индексом 2 (\"Добавить блоки рекомендаций товаров на сайт интернет магазина, чтобы повысить конверсию и средний чек заказа\"), когда как гипотеза с индексом 8, которая была первая в списке по ICE приоритизации, оказалась аж на пятом месте, где стояла гипотеза под индексом 2. Это объясняется тем, что у второй гипотезы reach был оценен намного выше, чем у восьмой (8 против 1). Значит, изменения при положительном результате гипотезе 2 затронет намного большее количество пользователей интернет-магазина, чем восьмая гипотеза. Судя по оценке reach гипотеза 8 затронет совсем незначительное число пользователей. Возможно стоило бы проверить первые пять гипотез, учитывая еще то, что RICE для 0 и 6 гипотез (которые находятся на 3 и 4 месте соответственно) одинаково при округлении. Но абсолютными лидерами по приоритизации ICE и RICE являются гипотезы 7 и 0, так как они находятся в первой тройке при применении каждого метода. "
   ]
  },
  {
   "cell_type": "markdown",
   "metadata": {},
   "source": [
    "## Анализ A/B-теста"
   ]
  },
  {
   "cell_type": "markdown",
   "metadata": {},
   "source": [
    "Судя по заданию, A/B-тест уже был проведен, и результаты находятся в двух датасетах. Нам нужно лишь проанализировать их. Вызовем эти две таблицы для первоначального изучения."
   ]
  },
  {
   "cell_type": "code",
   "execution_count": 6,
   "metadata": {},
   "outputs": [],
   "source": [
    "orders = pd.read_csv('/datasets/orders.csv', sep=',')\n",
    "visitors = pd.read_csv('/datasets/visitors.csv', sep=',')"
   ]
  },
  {
   "cell_type": "code",
   "execution_count": 7,
   "metadata": {},
   "outputs": [
    {
     "data": {
      "text/html": [
       "<div>\n",
       "<style scoped>\n",
       "    .dataframe tbody tr th:only-of-type {\n",
       "        vertical-align: middle;\n",
       "    }\n",
       "\n",
       "    .dataframe tbody tr th {\n",
       "        vertical-align: top;\n",
       "    }\n",
       "\n",
       "    .dataframe thead th {\n",
       "        text-align: right;\n",
       "    }\n",
       "</style>\n",
       "<table border=\"1\" class=\"dataframe\">\n",
       "  <thead>\n",
       "    <tr style=\"text-align: right;\">\n",
       "      <th></th>\n",
       "      <th>transactionId</th>\n",
       "      <th>visitorId</th>\n",
       "      <th>date</th>\n",
       "      <th>revenue</th>\n",
       "      <th>group</th>\n",
       "    </tr>\n",
       "  </thead>\n",
       "  <tbody>\n",
       "    <tr>\n",
       "      <th>0</th>\n",
       "      <td>3667963787</td>\n",
       "      <td>3312258926</td>\n",
       "      <td>2019-08-15</td>\n",
       "      <td>1650</td>\n",
       "      <td>B</td>\n",
       "    </tr>\n",
       "    <tr>\n",
       "      <th>1</th>\n",
       "      <td>2804400009</td>\n",
       "      <td>3642806036</td>\n",
       "      <td>2019-08-15</td>\n",
       "      <td>730</td>\n",
       "      <td>B</td>\n",
       "    </tr>\n",
       "    <tr>\n",
       "      <th>2</th>\n",
       "      <td>2961555356</td>\n",
       "      <td>4069496402</td>\n",
       "      <td>2019-08-15</td>\n",
       "      <td>400</td>\n",
       "      <td>A</td>\n",
       "    </tr>\n",
       "    <tr>\n",
       "      <th>3</th>\n",
       "      <td>3797467345</td>\n",
       "      <td>1196621759</td>\n",
       "      <td>2019-08-15</td>\n",
       "      <td>9759</td>\n",
       "      <td>B</td>\n",
       "    </tr>\n",
       "    <tr>\n",
       "      <th>4</th>\n",
       "      <td>2282983706</td>\n",
       "      <td>2322279887</td>\n",
       "      <td>2019-08-15</td>\n",
       "      <td>2308</td>\n",
       "      <td>B</td>\n",
       "    </tr>\n",
       "  </tbody>\n",
       "</table>\n",
       "</div>"
      ],
      "text/plain": [
       "   transactionId   visitorId        date  revenue group\n",
       "0  3667963787     3312258926  2019-08-15  1650     B   \n",
       "1  2804400009     3642806036  2019-08-15  730      B   \n",
       "2  2961555356     4069496402  2019-08-15  400      A   \n",
       "3  3797467345     1196621759  2019-08-15  9759     B   \n",
       "4  2282983706     2322279887  2019-08-15  2308     B   "
      ]
     },
     "execution_count": 7,
     "metadata": {},
     "output_type": "execute_result"
    }
   ],
   "source": [
    "orders.head(5)"
   ]
  },
  {
   "cell_type": "code",
   "execution_count": 8,
   "metadata": {},
   "outputs": [
    {
     "data": {
      "text/html": [
       "<div>\n",
       "<style scoped>\n",
       "    .dataframe tbody tr th:only-of-type {\n",
       "        vertical-align: middle;\n",
       "    }\n",
       "\n",
       "    .dataframe tbody tr th {\n",
       "        vertical-align: top;\n",
       "    }\n",
       "\n",
       "    .dataframe thead th {\n",
       "        text-align: right;\n",
       "    }\n",
       "</style>\n",
       "<table border=\"1\" class=\"dataframe\">\n",
       "  <thead>\n",
       "    <tr style=\"text-align: right;\">\n",
       "      <th></th>\n",
       "      <th>date</th>\n",
       "      <th>group</th>\n",
       "      <th>visitors</th>\n",
       "    </tr>\n",
       "  </thead>\n",
       "  <tbody>\n",
       "    <tr>\n",
       "      <th>0</th>\n",
       "      <td>2019-08-01</td>\n",
       "      <td>A</td>\n",
       "      <td>719</td>\n",
       "    </tr>\n",
       "    <tr>\n",
       "      <th>1</th>\n",
       "      <td>2019-08-02</td>\n",
       "      <td>A</td>\n",
       "      <td>619</td>\n",
       "    </tr>\n",
       "    <tr>\n",
       "      <th>2</th>\n",
       "      <td>2019-08-03</td>\n",
       "      <td>A</td>\n",
       "      <td>507</td>\n",
       "    </tr>\n",
       "    <tr>\n",
       "      <th>3</th>\n",
       "      <td>2019-08-04</td>\n",
       "      <td>A</td>\n",
       "      <td>717</td>\n",
       "    </tr>\n",
       "    <tr>\n",
       "      <th>4</th>\n",
       "      <td>2019-08-05</td>\n",
       "      <td>A</td>\n",
       "      <td>756</td>\n",
       "    </tr>\n",
       "  </tbody>\n",
       "</table>\n",
       "</div>"
      ],
      "text/plain": [
       "         date group  visitors\n",
       "0  2019-08-01  A     719     \n",
       "1  2019-08-02  A     619     \n",
       "2  2019-08-03  A     507     \n",
       "3  2019-08-04  A     717     \n",
       "4  2019-08-05  A     756     "
      ]
     },
     "execution_count": 8,
     "metadata": {},
     "output_type": "execute_result"
    }
   ],
   "source": [
    "visitors.head(5)"
   ]
  },
  {
   "cell_type": "markdown",
   "metadata": {},
   "source": [
    "В целом все кажется с данными хорошо. Однако надо проверить тип данных, особенно волнует дата, так как скорее всего ее нужно преобразовать. "
   ]
  },
  {
   "cell_type": "code",
   "execution_count": 9,
   "metadata": {},
   "outputs": [
    {
     "name": "stdout",
     "output_type": "stream",
     "text": [
      "<class 'pandas.core.frame.DataFrame'>\n",
      "RangeIndex: 1197 entries, 0 to 1196\n",
      "Data columns (total 5 columns):\n",
      " #   Column         Non-Null Count  Dtype \n",
      "---  ------         --------------  ----- \n",
      " 0   transactionId  1197 non-null   int64 \n",
      " 1   visitorId      1197 non-null   int64 \n",
      " 2   date           1197 non-null   object\n",
      " 3   revenue        1197 non-null   int64 \n",
      " 4   group          1197 non-null   object\n",
      "dtypes: int64(3), object(2)\n",
      "memory usage: 46.9+ KB\n"
     ]
    }
   ],
   "source": [
    "orders.info()"
   ]
  },
  {
   "cell_type": "code",
   "execution_count": 10,
   "metadata": {},
   "outputs": [
    {
     "name": "stdout",
     "output_type": "stream",
     "text": [
      "<class 'pandas.core.frame.DataFrame'>\n",
      "RangeIndex: 62 entries, 0 to 61\n",
      "Data columns (total 3 columns):\n",
      " #   Column    Non-Null Count  Dtype \n",
      "---  ------    --------------  ----- \n",
      " 0   date      62 non-null     object\n",
      " 1   group     62 non-null     object\n",
      " 2   visitors  62 non-null     int64 \n",
      "dtypes: int64(1), object(2)\n",
      "memory usage: 1.6+ KB\n"
     ]
    }
   ],
   "source": [
    "visitors.info()"
   ]
  },
  {
   "cell_type": "markdown",
   "metadata": {},
   "source": [
    "Да, дата в обоих таблицах имеет неподходящий тип данных для нашего дальнейшего анализа. Поэтому изменим его на нужный."
   ]
  },
  {
   "cell_type": "code",
   "execution_count": 11,
   "metadata": {},
   "outputs": [],
   "source": [
    "# Меняем тип данных в столбцах с датой в каждой таблице, применяя нужный формат даты (на всякий случай)\n",
    "orders['date'] = orders['date'].map(\n",
    "    lambda x: dt.datetime.strptime(x, '%Y-%m-%d')\n",
    ")\n",
    "\n",
    "visitors['date'] = visitors['date'].map(\n",
    "    lambda x: dt.datetime.strptime(x, '%Y-%m-%d')\n",
    ")"
   ]
  },
  {
   "cell_type": "code",
   "execution_count": 12,
   "metadata": {},
   "outputs": [
    {
     "name": "stdout",
     "output_type": "stream",
     "text": [
      "datetime64[ns] datetime64[ns]\n"
     ]
    }
   ],
   "source": [
    "# Выводим получившийся тип данных\n",
    "print(\n",
    "    orders['date'].dtype,\n",
    "    visitors['date'].dtype\n",
    ")"
   ]
  },
  {
   "cell_type": "code",
   "execution_count": 13,
   "metadata": {},
   "outputs": [
    {
     "name": "stdout",
     "output_type": "stream",
     "text": [
      "transactionId    0\n",
      "visitorId        0\n",
      "date             0\n",
      "revenue          0\n",
      "group            0\n",
      "dtype: int64 date        0\n",
      "group       0\n",
      "visitors    0\n",
      "dtype: int64\n"
     ]
    }
   ],
   "source": [
    "# Проверим данные на наличие пропусков\n",
    "print(\n",
    "    orders.isna().sum(),\n",
    "    visitors.isna().sum()\n",
    ")"
   ]
  },
  {
   "cell_type": "code",
   "execution_count": 14,
   "metadata": {},
   "outputs": [
    {
     "name": "stdout",
     "output_type": "stream",
     "text": [
      "0 0\n"
     ]
    }
   ],
   "source": [
    "# Проверим данные на наличие дубликатов\n",
    "print(\n",
    "    orders.duplicated().sum(),\n",
    "    visitors.duplicated().sum()\n",
    ")    "
   ]
  },
  {
   "cell_type": "markdown",
   "metadata": {},
   "source": [
    "<div class=\"alert alert-block alert-info\">\n",
    "<b> </b> Нам очень повезло, пропусков и дубликатов не обнаружено. \n",
    "</div>"
   ]
  },
  {
   "cell_type": "code",
   "execution_count": 15,
   "metadata": {},
   "outputs": [
    {
     "data": {
      "text/plain": [
       "0"
      ]
     },
     "execution_count": 15,
     "metadata": {},
     "output_type": "execute_result"
    }
   ],
   "source": [
    "# Проверим, есть ли в таблице orders пользователи, оказавшиеся одновременно в двух группах А и В.\n",
    "len(orders[orders['group'].isin(['А', 'В'])].groupby('visitorId').filter(lambda x: len(x) > 1))"
   ]
  },
  {
   "cell_type": "markdown",
   "metadata": {},
   "source": [
    "<div class=\"alert alert-block alert-info\">\n",
    "<b> </b> Таких пользвоателей нет. Нам снова очень повезло, и теперь мы точно можем приступать к анализу.\n",
    "</div>"
   ]
  },
  {
   "cell_type": "code",
   "execution_count": 16,
   "metadata": {},
   "outputs": [
    {
     "data": {
      "text/plain": [
       "group    58\n",
       "dtype: int64"
      ]
     },
     "execution_count": 16,
     "metadata": {},
     "output_type": "execute_result"
    }
   ],
   "source": [
    "# Найдем количество пользователей, которые случайно попали в обе группы\n",
    "orders.groupby('visitorId').agg({'group' : 'nunique'}).query('group > 1').count()"
   ]
  },
  {
   "cell_type": "code",
   "execution_count": 17,
   "metadata": {},
   "outputs": [],
   "source": [
    "# Удалим их из общей таблицы (так как они будут искажать результаты)\n",
    "double_users = orders.groupby('visitorId').agg({'group' : 'nunique'}).reset_index().query('group>1')['visitorId'].unique()\n",
    "orders = orders.query('visitorId not in @double_users')"
   ]
  },
  {
   "cell_type": "code",
   "execution_count": 18,
   "metadata": {},
   "outputs": [
    {
     "data": {
      "text/plain": [
       "group    0\n",
       "dtype: int64"
      ]
     },
     "execution_count": 18,
     "metadata": {},
     "output_type": "execute_result"
    }
   ],
   "source": [
    "orders.groupby('visitorId').agg({'group' : 'nunique'}).query('group > 1').count()"
   ]
  },
  {
   "cell_type": "markdown",
   "metadata": {},
   "source": [
    "### График кумулятивной выручки по группам"
   ]
  },
  {
   "cell_type": "code",
   "execution_count": 19,
   "metadata": {},
   "outputs": [
    {
     "data": {
      "image/png": "[encoded data removed]",
      "text/plain": [
       "<Figure size 936x360 with 1 Axes>"
      ]
     },
     "metadata": {
      "needs_background": "light"
     },
     "output_type": "display_data"
    }
   ],
   "source": [
    "# создаем массив уникальных пар значений дат и групп теста\n",
    "datesGroups = orders[['date','group']].drop_duplicates() \n",
    "\n",
    "# получаем агрегированные кумулятивные по дням данные о заказах\n",
    "ordersAggregated = datesGroups.apply(\n",
    "    lambda x: orders[\n",
    "        np.logical_and(\n",
    "            orders['date'] <= x['date'], orders['group'] == x['group']\n",
    "        )\n",
    "    ].agg(\n",
    "        {\n",
    "            'date': 'max',\n",
    "            'group': 'max',\n",
    "            'transactionId': 'nunique',\n",
    "            'visitorId': 'nunique',\n",
    "            'revenue': 'sum',\n",
    "        }\n",
    "    ),\n",
    "    axis=1,\n",
    ").sort_values(by=['date', 'group'])\n",
    "\n",
    "# получаем агрегированные кумулятивные по дням данные о посетителях интернет-магазина \n",
    "visitorsAggregated = datesGroups.apply(\n",
    "    lambda x: visitors[\n",
    "        np.logical_and(\n",
    "            visitors['date'] <= x['date'], visitors['group'] == x['group']\n",
    "        )\n",
    "    ].agg({'date': 'max', 'group': 'max', 'visitors': 'sum'}),\n",
    "    axis=1,\n",
    ").sort_values(by=['date', 'group'])\n",
    "\n",
    "# объединяем кумулятивные данные в одной таблице и присваиваем ее столбцам понятные названия\n",
    "cumulativeData = ordersAggregated.merge(\n",
    "    visitorsAggregated, left_on=['date', 'group'], right_on=['date', 'group']\n",
    ")\n",
    "cumulativeData.columns = [\n",
    "    'date',\n",
    "    'group',\n",
    "    'orders',\n",
    "    'buyers',\n",
    "    'revenue',\n",
    "    'visitors',\n",
    "]\n",
    "\n",
    "# датафрейм с кумулятивным количеством заказов и кумулятивной выручкой по дням в группе А\n",
    "cumulativeRevenueA = cumulativeData[cumulativeData['group'] == 'A'][\n",
    "    ['date', 'revenue', 'orders']\n",
    "]\n",
    "\n",
    "# датафрейм с кумулятивным количеством заказов и кумулятивной выручкой по дням в группе B\n",
    "cumulativeRevenueB = cumulativeData[cumulativeData['group'] == 'B'][\n",
    "    ['date', 'revenue', 'orders']\n",
    "]\n",
    "\n",
    "# Строим график кумулятивной выручки по группам\n",
    "plt.figure(figsize = (13, 5))\n",
    "plt.plot(cumulativeRevenueA['date'], cumulativeRevenueA['revenue'], label='A')\n",
    "plt.plot(cumulativeRevenueB['date'], cumulativeRevenueB['revenue'], label='B')\n",
    "sb.set_style(\"white\")\n",
    "sb.set_palette(\"husl\")\n",
    "\n",
    "plt.legend()\n",
    "plt.xticks(rotation=45)\n",
    "plt.xlabel('Дата')\n",
    "plt.ylabel('Кумулятивная выручка')\n",
    "plt.title('Кумулятивная выручка по групам A и B')\n",
    "\n",
    "plt.show(); "
   ]
  },
  {
   "cell_type": "markdown",
   "metadata": {},
   "source": [
    "На графике мы видим, что кумулятивная выручка растет у обеих групп6 однако практически все время лидировал сегмент В. Особенно резкий случился рост около 18 августа, скорее всего там вылезли аномалии.  "
   ]
  },
  {
   "cell_type": "markdown",
   "metadata": {},
   "source": [
    "### График кумулятивного среднего чека по группам"
   ]
  },
  {
   "cell_type": "code",
   "execution_count": 20,
   "metadata": {},
   "outputs": [
    {
     "data": {
      "image/png": "[encoded data removed]",
      "text/plain": [
       "<Figure size 936x360 with 1 Axes>"
      ]
     },
     "metadata": {},
     "output_type": "display_data"
    }
   ],
   "source": [
    "# строим гарфик\n",
    "plt.figure(figsize = (13, 5))\n",
    "plt.plot(cumulativeRevenueA['date'], cumulativeRevenueA['revenue']/cumulativeRevenueA['orders'], label='A')\n",
    "plt.plot(cumulativeRevenueB['date'], cumulativeRevenueB['revenue']/cumulativeRevenueB['orders'], label='B')\n",
    "plt.legend()\n",
    "plt.xticks(rotation=45)\n",
    "plt.xlabel('Дата')\n",
    "plt.ylabel('Кумулятивный средний чек')\n",
    "plt.title('Кумулятивный средний чек по групам A и B')\n",
    "\n",
    "plt.show(); "
   ]
  },
  {
   "cell_type": "markdown",
   "metadata": {},
   "source": [
    "Данные по среднему чеку сильно колеблятся, стал более заметен выброс у сегмента В. Поэтому окончательный вывод мы сможем сделать только после работы над соркащением аномалий. "
   ]
  },
  {
   "cell_type": "markdown",
   "metadata": {},
   "source": [
    "### График относительного изменения кумулятивного среднего чека группы B к группе А"
   ]
  },
  {
   "cell_type": "code",
   "execution_count": 21,
   "metadata": {},
   "outputs": [
    {
     "data": {
      "image/png": "[encoded data removed]",
      "text/plain": [
       "<Figure size 936x360 with 1 Axes>"
      ]
     },
     "metadata": {},
     "output_type": "display_data"
    }
   ],
   "source": [
    "# собираем данные в одном датафрейме\n",
    "mergedCumulativeRevenue = cumulativeRevenueA.merge(\n",
    "    cumulativeRevenueB, left_on='date', right_on='date', how='left', suffixes=['A', 'B']\n",
    ")\n",
    "\n",
    "# cтроим отношение средних чеков\n",
    "plt.figure(figsize = (13, 5)) \n",
    "plt.plot(mergedCumulativeRevenue['date'],(mergedCumulativeRevenue['revenueB']/mergedCumulativeRevenue['ordersB'])/(mergedCumulativeRevenue['revenueA']/mergedCumulativeRevenue['ordersA'])-1)\n",
    "plt.axhline(y=0, color='black', linestyle='--') \n",
    "plt.xticks(rotation=45)\n",
    "plt.xlabel('Дата')\n",
    "plt.ylabel('Относительное изменение')\n",
    "plt.title('Относительное изменение кумулятивного среднего чека группы B к группе А')\n",
    "\n",
    "plt.show();"
   ]
  },
  {
   "cell_type": "markdown",
   "metadata": {},
   "source": [
    "График относительного изменения по среднему чеку только подтвердили наши догадки по аномалиям. Стоит точно будет проработать этот момент далее. "
   ]
  },
  {
   "cell_type": "markdown",
   "metadata": {},
   "source": [
    "### График кумулятивного среднего количества заказов на посетителя по группам"
   ]
  },
  {
   "cell_type": "code",
   "execution_count": 22,
   "metadata": {},
   "outputs": [
    {
     "data": {
      "image/png": "[encoded data removed]",
      "text/plain": [
       "<Figure size 936x360 with 1 Axes>"
      ]
     },
     "metadata": {},
     "output_type": "display_data"
    }
   ],
   "source": [
    "# считаем кумулятивную конверсию (она же кумулятивное среднее количество заказов)\n",
    "cumulativeData['conversion'] = cumulativeData['orders']/cumulativeData['visitors']\n",
    "\n",
    "# отделяем данные по группам\n",
    "cumulativeDataA = cumulativeData[cumulativeData['group']=='A']\n",
    "cumulativeDataB = cumulativeData[cumulativeData['group']=='B']\n",
    "\n",
    "# строим график\n",
    "plt.figure(figsize = (13, 5)) \n",
    "plt.plot(cumulativeDataA['date'], cumulativeDataA['conversion'], label='A')\n",
    "plt.plot(cumulativeDataB['date'], cumulativeDataB['conversion'], label='B')\n",
    "plt.axis([dt.datetime(2019, 8, 1), dt.datetime(2019, 9, 1), 0, 0.05]) # Даты взяли из предыдущих графиков (для соответствия)\n",
    "plt.legend()\n",
    "plt.xticks(rotation=45)\n",
    "plt.xlabel('Дата')\n",
    "plt.ylabel('Кумулятивное среднее количество заказов')\n",
    "plt.title('Кумулятивное среднее количество заказов на посетителя по группам')\n",
    "\n",
    "plt.show();"
   ]
  },
  {
   "cell_type": "markdown",
   "metadata": {},
   "source": [
    " В начале теста были колебания среднего количества заказов в обеих группах. График стабилизировался только к концу. Судя по всему сегмент В примерно с 9 августа стал стабильно лучше сегмента А."
   ]
  },
  {
   "cell_type": "markdown",
   "metadata": {},
   "source": [
    "### График относительного изменения кумулятивного среднего количества заказов на посетителя группы B к группе A"
   ]
  },
  {
   "cell_type": "code",
   "execution_count": 23,
   "metadata": {},
   "outputs": [
    {
     "data": {
      "image/png": "[encoded data removed]",
      "text/plain": [
       "<Figure size 936x360 with 1 Axes>"
      ]
     },
     "metadata": {},
     "output_type": "display_data"
    }
   ],
   "source": [
    "mergedCumulativeConversions = cumulativeDataA[['date','conversion']].merge(cumulativeDataB[['date','conversion']], left_on='date', right_on='date', how='left', suffixes=['A', 'B'])\n",
    "\n",
    "# строим график\n",
    "plt.figure(figsize = (13, 5)) \n",
    "plt.plot(mergedCumulativeConversions['date'], mergedCumulativeConversions['conversionB']/mergedCumulativeConversions['conversionA']-1, label=\"Относительный прирост конверсии группы B относительно группы A\")\n",
    "\n",
    "plt.axhline(y=0, color='black', linestyle='--')\n",
    "plt.axhline(y=0.2, color='grey', linestyle='--')\n",
    "plt.axis([\"2019-8-1\", '2019-9-1', -0.5, 0.5])\n",
    "plt.xticks(rotation=45)\n",
    "plt.xlabel('Дата')\n",
    "plt.ylabel('Относительное изменение')\n",
    "plt.title('Относительное изменение кумулятивного среднего количества заказов на посетителя группы B к группе A')\n",
    "\n",
    "plt.show();"
   ]
  },
  {
   "cell_type": "markdown",
   "metadata": {},
   "source": [
    "Мы видим, что сегмент В лидировал по среднему количеству заказов (то есть по конверсии) практически с самого начала. Он достиг 20% положительной разницы против сегмента А на середине теста, затем стал немного снижаться и стабилизировался в конце. Данные по количеству заказов говорят о успехе сегмента В."
   ]
  },
  {
   "cell_type": "markdown",
   "metadata": {},
   "source": [
    "### Точечный график количества заказов по пользователям"
   ]
  },
  {
   "cell_type": "code",
   "execution_count": 24,
   "metadata": {},
   "outputs": [
    {
     "data": {
      "image/png": "[encoded data removed]",
      "text/plain": [
       "<Figure size 720x360 with 1 Axes>"
      ]
     },
     "metadata": {},
     "output_type": "display_data"
    }
   ],
   "source": [
    "ordersByUsers = (\n",
    "    orders.groupby('visitorId', as_index=False)\n",
    "    .agg({'transactionId': 'nunique'})\n",
    ")\n",
    "\n",
    "ordersByUsers.columns = ['userId', 'orders']\n",
    "\n",
    "x_values = pd.Series(range(0,len(ordersByUsers)))\n",
    "\n",
    "plt.figure(figsize = (10, 5))\n",
    "plt.scatter(x_values, ordersByUsers['orders'])  \n",
    "plt.title('Количество заказов по пользователям')\n",
    "plt.xlabel('Количество пользователей')\n",
    "plt.ylabel('Количество заказов')\n",
    "\n",
    "plt.show();"
   ]
  },
  {
   "cell_type": "markdown",
   "metadata": {},
   "source": [
    "Конечно большая часть пользователей делает менее двух заказов. Но тут видно достаточно много выбросов после 3 заказов."
   ]
  },
  {
   "cell_type": "markdown",
   "metadata": {},
   "source": [
    "### 95-й и 99-й перцентили количества заказов на пользователя. Выбор границы для определения аномальных пользователей"
   ]
  },
  {
   "cell_type": "code",
   "execution_count": 25,
   "metadata": {},
   "outputs": [
    {
     "data": {
      "text/plain": [
       "array([1., 2.])"
      ]
     },
     "execution_count": 25,
     "metadata": {},
     "output_type": "execute_result"
    }
   ],
   "source": [
    "np.percentile(ordersByUsers['orders'], [95, 99])"
   ]
  },
  {
   "cell_type": "markdown",
   "metadata": {},
   "source": [
    "Не более 5% пользователей оформляли больше, чем 1 заказ. И 1% - заказывали более двух раз. Здесь мы можем выбрать 2 заказа (сохраняя допустимый промежуток в 1%-5% отсеянных) на одного пользователя за верхнюю границу числа заказов, и отсеять аномальных пользователей по ней. "
   ]
  },
  {
   "cell_type": "markdown",
   "metadata": {},
   "source": [
    "### Точечный график стоимостей заказов"
   ]
  },
  {
   "cell_type": "code",
   "execution_count": 26,
   "metadata": {},
   "outputs": [
    {
     "data": {
      "image/png": "[encoded data removed]",
      "text/plain": [
       "<Figure size 720x360 with 1 Axes>"
      ]
     },
     "metadata": {},
     "output_type": "display_data"
    }
   ],
   "source": [
    "x_values = pd.Series(range(0, len(orders['revenue'])))\n",
    "\n",
    "plt.figure(figsize = (10, 5))\n",
    "plt.scatter(x_values, orders['revenue'])\n",
    "plt.title('Стоимость заказов')\n",
    "plt.xlabel('Количество пользователей')\n",
    "plt.ylabel('Стоимость заказов')\n",
    "\n",
    "plt.show();"
   ]
  },
  {
   "cell_type": "markdown",
   "metadata": {},
   "source": [
    "Видно, что основная часть людей заказывает меньше, чем на 20 000 рублей, но есть уникальный выброс в практически 1,3 млн рублей. Стоит просчитать перцентили. "
   ]
  },
  {
   "cell_type": "markdown",
   "metadata": {},
   "source": [
    "### 95-й и 99-й перцентили стоимости заказов. Выбор границу для определения аномальных заказов"
   ]
  },
  {
   "cell_type": "code",
   "execution_count": 27,
   "metadata": {},
   "outputs": [
    {
     "data": {
      "text/plain": [
       "array([26785., 53904.])"
      ]
     },
     "execution_count": 27,
     "metadata": {},
     "output_type": "execute_result"
    }
   ],
   "source": [
    "np.percentile(orders['revenue'], [95, 99])"
   ]
  },
  {
   "cell_type": "markdown",
   "metadata": {},
   "source": [
    "Не более 5% пользователей совершали покупку по стоимости свыше 26785 рублей. И не более 1% пользователей - свыше 53904 рублей. \n",
    "Примем за аномальных пользователей тех, кто совершил заказ дороже 30 000 рублей. Так мы уберём от 1% до 5% пользователей с дорогими заказами. "
   ]
  },
  {
   "cell_type": "markdown",
   "metadata": {},
   "source": [
    "### Статистическая значимость различий в среднем количестве заказов на посетителя между группами по «сырым» данным"
   ]
  },
  {
   "cell_type": "markdown",
   "metadata": {},
   "source": [
    "Сформулируем гипотезы. \n",
    "- Нулевая: различий в среднем количестве заказов между группами нет. \n",
    "- Альтернативная: различия в среднем между группами есть."
   ]
  },
  {
   "cell_type": "markdown",
   "metadata": {},
   "source": [
    "<div class=\"alert alert-block alert-info\">\n",
    "<b> </b> \n",
    "Гипотезы проверяются с помощью особого статистического критерия - Манна-Уитни (st.mannwhitneyu()). Вероятности получения разных значений критерия Манна-Уитни рассчитаны теоретически, что даёт возможность делать вывод о различии или его отсутствии для любого заданного уровня значимости. Уровень статистической значимости был взять за 0.05. Уровень значимости 0.05 означает, что при проведении статистического теста с нулевой гипотезой, существует 5% вероятность получить статистически значимый результат (т.е. отвергнуть нулевую гипотезу), даже если нулевая гипотеза верна. \n",
    "</div>"
   ]
  },
  {
   "cell_type": "code",
   "execution_count": 28,
   "metadata": {},
   "outputs": [
    {
     "name": "stdout",
     "output_type": "stream",
     "text": [
      "Статистическая значимость различий в среднем количестве заказов: 0.011\n",
      "Относительное различие: 0.160\n"
     ]
    }
   ],
   "source": [
    "visitorsADaily = visitors[visitors['group'] == 'A'][['date', 'visitors']]\n",
    "visitorsADaily.columns = ['date', 'visitorsPerDateA']\n",
    "\n",
    "visitorsACummulative = visitorsADaily.apply(\n",
    "    lambda x: visitorsADaily[visitorsADaily['date'] <= x['date']].agg(\n",
    "        {'date': 'max', 'visitorsPerDateA': 'sum'}\n",
    "    ),\n",
    "    axis=1,\n",
    ")\n",
    "visitorsACummulative.columns = ['date', 'visitorsCummulativeA']\n",
    "\n",
    "visitorsBDaily = visitors[visitors['group'] == 'B'][['date', 'visitors']]\n",
    "visitorsBDaily.columns = ['date', 'visitorsPerDateB']\n",
    "\n",
    "visitorsBCummulative = visitorsBDaily.apply(\n",
    "    lambda x: visitorsBDaily[visitorsBDaily['date'] <= x['date']].agg(\n",
    "        {'date': 'max', 'visitorsPerDateB': 'sum'}\n",
    "    ),\n",
    "    axis=1,\n",
    ")\n",
    "visitorsBCummulative.columns = ['date', 'visitorsCummulativeB']\n",
    "\n",
    "ordersADaily = (\n",
    "    orders[orders['group'] == 'A'][['date', 'transactionId', 'visitorId', 'revenue']]\n",
    "    .groupby('date', as_index=False)\n",
    "    .agg({'transactionId': pd.Series.nunique, 'revenue': 'sum'})\n",
    ")\n",
    "ordersADaily.columns = ['date', 'ordersPerDateA', 'revenuePerDateA']\n",
    "\n",
    "ordersACummulative = ordersADaily.apply(\n",
    "    lambda x: ordersADaily[ordersADaily['date'] <= x['date']].agg(\n",
    "        {'date': 'max', 'ordersPerDateA': 'sum', 'revenuePerDateA': 'sum'}\n",
    "    ),\n",
    "    axis=1,\n",
    ").sort_values(by=['date'])\n",
    "ordersACummulative.columns = [\n",
    "    'date',\n",
    "    'ordersCummulativeA',\n",
    "    'revenueCummulativeA',\n",
    "]\n",
    "\n",
    "ordersBDaily = (\n",
    "    orders[orders['group'] == 'B'][['date', 'transactionId', 'visitorId', 'revenue']]\n",
    "    .groupby('date', as_index=False)\n",
    "    .agg({'transactionId': pd.Series.nunique, 'revenue': 'sum'})\n",
    ")\n",
    "ordersBDaily.columns = ['date', 'ordersPerDateB', 'revenuePerDateB']\n",
    "\n",
    "ordersBCummulative = ordersBDaily.apply(\n",
    "    lambda x: ordersBDaily[ordersBDaily['date'] <= x['date']].agg(\n",
    "        {'date': 'max', 'ordersPerDateB': 'sum', 'revenuePerDateB': 'sum'}\n",
    "    ),\n",
    "    axis=1,\n",
    ").sort_values(by=['date'])\n",
    "ordersBCummulative.columns = [\n",
    "    'date',\n",
    "    'ordersCummulativeB',\n",
    "    'revenueCummulativeB',\n",
    "]\n",
    "\n",
    "data = (\n",
    "    ordersADaily.merge(\n",
    "        ordersBDaily, left_on='date', right_on='date', how='left'\n",
    "    )\n",
    "    .merge(ordersACummulative, left_on='date', right_on='date', how='left')\n",
    "    .merge(ordersBCummulative, left_on='date', right_on='date', how='left')\n",
    "    .merge(visitorsADaily, left_on='date', right_on='date', how='left')\n",
    "    .merge(visitorsBDaily, left_on='date', right_on='date', how='left')\n",
    "    .merge(visitorsACummulative, left_on='date', right_on='date', how='left')\n",
    "    .merge(visitorsBCummulative, left_on='date', right_on='date', how='left')\n",
    ")\n",
    "\n",
    "ordersByUsersA = (\n",
    "    orders[orders['group'] == 'A']\n",
    "    .groupby('visitorId', as_index=False)\n",
    "    .agg({'transactionId': pd.Series.nunique})\n",
    ")\n",
    "ordersByUsersA.columns = ['visitorId', 'orders']\n",
    "\n",
    "ordersByUsersB = (\n",
    "    orders[orders['group'] == 'B']\n",
    "    .groupby('visitorId', as_index=False)\n",
    "    .agg({'transactionId': pd.Series.nunique})\n",
    ")\n",
    "ordersByUsersB.columns = ['visitorId', 'orders'] \n",
    "\n",
    "sampleA = pd.concat([ordersByUsersA['orders'],pd.Series(0, index=np.arange(data['visitorsPerDateA'].sum() - len(ordersByUsersA['orders'])), name='orders')],axis=0)\n",
    "\n",
    "sampleB = pd.concat([ordersByUsersB['orders'],pd.Series(0, index=np.arange(data['visitorsPerDateB'].sum() - len(ordersByUsersB['orders'])), name='orders')],axis=0)\n",
    "\n",
    "print(\"Статистическая значимость различий в среднем количестве заказов: {0:.3f}\".format(stats.mannwhitneyu(sampleA, sampleB)[1]))\n",
    "\n",
    "print(\"Относительное различие: {0:.3f}\".format(sampleB.mean() / sampleA.mean() - 1))\n",
    "\n"
   ]
  },
  {
   "cell_type": "markdown",
   "metadata": {},
   "source": [
    "По «сырым» данным в среднем числе заказов групп A и B присутствуют различия. Первое число 0.011 < 0.05 (уровень вероятности, который мы готовы принять в качестве критерия для отвержения нулевой гипотезы). Поэтому могли бы отвергнуть нулевую гипотезу (различий в среднем количестве заказов между группами нет). Относительный прирост среднего группы В к конверсии группы А равен 16% (то есть у нас случился положительный прирост). Но это с учетом аномалий, поэтому нельзя сказать сейчас, что это верный вывод, надо будет обязательно отфильтфровать данные для более точных результатов."
   ]
  },
  {
   "cell_type": "markdown",
   "metadata": {},
   "source": [
    "### Статистическая значимость различий в среднем чеке заказа между группами по «сырым» данным"
   ]
  },
  {
   "cell_type": "markdown",
   "metadata": {},
   "source": [
    "Теперь проверим статистическую значимость различий в среднем чеке между сегментами. Нулевая гипотеза: различий в среднем чеке между группами нет. Альтернативная гипотеза: различия в среднем чеке между группами есть. "
   ]
  },
  {
   "cell_type": "code",
   "execution_count": 29,
   "metadata": {},
   "outputs": [
    {
     "name": "stdout",
     "output_type": "stream",
     "text": [
      "Статистическая значимость различий в среднем чеке заказа: 0.829\n",
      "Относительное различие: 0.287\n"
     ]
    }
   ],
   "source": [
    "print('Статистическая значимость различий в среднем чеке заказа: {0:.3f}'.format(stats.mannwhitneyu(orders[orders['group']=='A']['revenue'], orders[orders['group']=='B']['revenue'])[1]))\n",
    "print('Относительное различие: {0:.3f}'.format(orders[orders['group']=='B']['revenue'].mean()/orders[orders['group']=='A']['revenue'].mean()-1)) \n"
   ]
  },
  {
   "cell_type": "markdown",
   "metadata": {},
   "source": [
    "Статистическая значимость 0.829 намного больше 0.05 — это значит статистически значимых отличий в среднем чеке между группами нет. Относительное различие среднего чека между сегментами практически 28.7% (то есть у группы B практически на 29% больше). Теперь посмотрим, как изменятся наши результаты после избавления от аномалий. "
   ]
  },
  {
   "cell_type": "markdown",
   "metadata": {},
   "source": [
    "### Статистическая значимость различий в среднем количестве заказов на посетителя между группами по «очищенным» данным"
   ]
  },
  {
   "cell_type": "code",
   "execution_count": 30,
   "metadata": {},
   "outputs": [
    {
     "name": "stdout",
     "output_type": "stream",
     "text": [
      "Статистическая значимость различий в среднем чеке заказа по \"очищенным\" данным: 0.013\n",
      "Относительное различие по \"очищенным\" данным: 0.180\n"
     ]
    }
   ],
   "source": [
    "usersWithManyOrders = pd.concat(\n",
    "    [\n",
    "        ordersByUsersA[ordersByUsersA['orders'] >= 2]['visitorId'],\n",
    "        ordersByUsersB[ordersByUsersB['orders'] >= 2]['visitorId'],\n",
    "    ],\n",
    "    axis=0,\n",
    ")\n",
    "usersWithExpensiveOrders = orders[orders['revenue'] > 30000]['visitorId']\n",
    "abnormalUsers = (\n",
    "    pd.concat([usersWithManyOrders, usersWithExpensiveOrders], axis=0)\n",
    "    .drop_duplicates()\n",
    "    .sort_values()\n",
    ")\n",
    "\n",
    "\n",
    "\n",
    "sampleAFiltered = pd.concat(\n",
    "    [\n",
    "        ordersByUsersA[\n",
    "            np.logical_not(ordersByUsersA['visitorId'].isin(abnormalUsers))\n",
    "        ]['orders'],\n",
    "        pd.Series(\n",
    "            0,\n",
    "            index=np.arange(\n",
    "                data['visitorsPerDateA'].sum() - len(ordersByUsersA['orders'])\n",
    "            ),\n",
    "            name='orders',\n",
    "        ),\n",
    "    ],\n",
    "    axis=0,\n",
    ")\n",
    "\n",
    "sampleBFiltered = pd.concat(\n",
    "    [\n",
    "        ordersByUsersB[\n",
    "            np.logical_not(ordersByUsersB['visitorId'].isin(abnormalUsers))\n",
    "        ]['orders'],\n",
    "        pd.Series(\n",
    "            0,\n",
    "            index=np.arange(\n",
    "                data['visitorsPerDateB'].sum() - len(ordersByUsersB['orders'])\n",
    "            ),\n",
    "            name='orders',\n",
    "        ),\n",
    "    ],\n",
    "    axis=0,\n",
    ") \n",
    "\n",
    "\n",
    "print('Статистическая значимость различий в среднем чеке заказа по \"очищенным\" данным: {0:.3f}'.format(stats.mannwhitneyu(sampleAFiltered, sampleBFiltered)[1]))\n",
    "print('Относительное различие по \"очищенным\" данным: {0:.3f}'.format(sampleBFiltered.mean()/sampleAFiltered.mean()-1)) \n",
    "\n",
    "\n",
    "\n"
   ]
  },
  {
   "cell_type": "markdown",
   "metadata": {},
   "source": [
    "Особых различий после сокращения аномалий не обнаружилось. По \"сырым\" данным у нас получилась статистическая значимость 0.010 и относительное различие в 18.7%. После удаления выбросов статистическая значимость сократилась на 0.001, а относительное различие наоборот возросло на 2.7%. Значит все-таки действительно Сегмент В лучше сегмента А. "
   ]
  },
  {
   "cell_type": "markdown",
   "metadata": {},
   "source": [
    "### Статистическая значимость различий в среднем чеке заказа между группами по «очищенным» данным"
   ]
  },
  {
   "cell_type": "code",
   "execution_count": 31,
   "metadata": {},
   "outputs": [
    {
     "name": "stdout",
     "output_type": "stream",
     "text": [
      "Статистическая значимость различий в среднем чеке заказа по \"очищенным\" данным: 0.829\n",
      "Относительное различие по \"очищенным\" данным: -0.011\n"
     ]
    }
   ],
   "source": [
    "print(\n",
    "    'Статистическая значимость различий в среднем чеке заказа по \"очищенным\" данным: {0:.3f}'.format(\n",
    "        stats.mannwhitneyu(\n",
    "            orders[\n",
    "                np.logical_and(\n",
    "                    orders['group'] == 'A',\n",
    "                    np.logical_not(orders['visitorId'].isin(abnormalUsers)),\n",
    "                )\n",
    "            ]['revenue'],\n",
    "            orders[\n",
    "                np.logical_and(\n",
    "                    orders['group'] == 'B',\n",
    "                    np.logical_not(orders['visitorId'].isin(abnormalUsers)),\n",
    "                )\n",
    "            ]['revenue'],\n",
    "        )[1]\n",
    "    )\n",
    ")\n",
    "\n",
    "print(\n",
    "    'Относительное различие по \"очищенным\" данным: {0:.3f}'.format(\n",
    "        orders[\n",
    "            np.logical_and(\n",
    "                orders['group'] == 'B',\n",
    "                np.logical_not(orders['visitorId'].isin(abnormalUsers)),\n",
    "            )\n",
    "        ]['revenue'].mean()\n",
    "        / orders[\n",
    "            np.logical_and(\n",
    "                orders['group'] == 'A',\n",
    "                np.logical_not(orders['visitorId'].isin(abnormalUsers)),\n",
    "            )\n",
    "        ]['revenue'].mean()\n",
    "        - 1\n",
    "    )\n",
    ") \n"
   ]
  },
  {
   "cell_type": "markdown",
   "metadata": {},
   "source": [
    "А здесь мы видим, что статистическая значимость в среднем чеке заказа у нас на том же уровне, что и с аномалиями, а относительное различие существенно сократилось: с 28.7% до -1.1%. Это означает, что без удаления выбросов сегмент B был намного лучше в среднем чеке по сравнению с сегменту А. А после сокращения аномалий сегмент В стал хуже сегмента А по результатам среднего чека на 1.1%.   "
   ]
  },
  {
   "cell_type": "markdown",
   "metadata": {},
   "source": [
    "### Решение по результатам теста"
   ]
  },
  {
   "cell_type": "markdown",
   "metadata": {},
   "source": [
    "<div class=\"alert alert-block alert-info\">\n",
    "    \n",
    "**ИТОГ**\n",
    "    \n",
    "По завершению анализа мы можем сделать несколько выводов.\n",
    "    \n",
    "**По первой части проекта.**\n",
    "    \n",
    "Применив фреймворки мы выяснили, что самыми приоритетными гипотезами могут считаться следующие гипотезы: \n",
    "- \"Добавить два новых канала привлечения трафика, что позволит привлекать на 30% больше пользователей\" \n",
    "- \"Добавить форму подписки на все основные страницы, чтобы собрать базу клиентов для email-рассылок\"\n",
    "\n",
    "Самыми неприоритетными гипотезами являются:\n",
    "- \"Добавить страницу отзывов клиентов о магазине, что позволит увеличить количество заказов\"\n",
    "- \"Изменить цвет фона главной страницы, чтобы увеличить вовлеченность пользователей\"\n",
    "    \n",
    "\n",
    "**По второй части проекта.**\n",
    "\n",
    "- Кумулятивная выручка по обеим группам растет, но у сегмента В выше, чем у сегмента А.\n",
    "- По кумулятивному среднему чеку и относительному изменению данные сильно колеблись из-за наличия аномалий. \n",
    "- Сегмент B стал лидером по кумулятивному количеству заказов. Сначала данные колеблись, но уже с середины теста все стабилизировалось и показало четкую победу в этом вопросе сегмента В над сегментом А.\n",
    "- Относительное изменение кумулятивного количества заказов подтвердило успех группы В. К середине теста изменение составляло +20%, далее стало немного снижаться, но в целом тенденция стабилизировалась.\n",
    "- У количества заказов и среднего чека нашлись аномалии, от которых мы избавились в последствии. Не более 5% пользователей оформляли больше, чем 1 заказ. И 1% - заказывали более двух раз. Не более 5% пользователей совершали покупку по стоимости свыше 26785 рублей. И не более 1% пользователей - свыше 53904 рублей. \n",
    "- Есть статистически значимое различие по среднему количеству заказов между группами как по сырым данным, так и после фильтрации аномалий. Значит количество заказов увеличилось после внедрения теста. \n",
    "- По сырым и очищенным данным различия по среднему чеку не имеется, но до сокращения аномалий сегмент B был лучше сегмента А на 28.7%, а после удаления выбросов стал хуже на 1.1%. Это говорит о том, что средний чек практически не изменился по ходу теста. \n",
    "\n",
    "Таким образом, можно сделать вывод, что выручка увеличилась, и связано это с увеличением среднего количества заказов, а не со средним чеком. Можно остановить тест и зафиксировать победу группы В.\n",
    "\n",
    "    \n",
    "    \n",
    "</div>"
   ]
  }
 ],
 "metadata": {
  "ExecuteTimeLog": [
   {
    "duration": 93,
    "start_time": "2023-10-25T08:56:18.534Z"
   },
   {
    "duration": 499,
    "start_time": "2023-10-25T12:41:10.573Z"
   },
   {
    "duration": 12,
    "start_time": "2023-10-25T12:48:46.770Z"
   },
   {
    "duration": 9,
    "start_time": "2023-10-25T12:52:11.395Z"
   },
   {
    "duration": 80,
    "start_time": "2023-10-25T12:56:53.776Z"
   },
   {
    "duration": 4,
    "start_time": "2023-10-25T13:05:46.119Z"
   },
   {
    "duration": 11,
    "start_time": "2023-10-25T13:05:54.021Z"
   },
   {
    "duration": 10,
    "start_time": "2023-10-25T13:15:08.173Z"
   },
   {
    "duration": 8,
    "start_time": "2023-10-25T13:23:14.094Z"
   },
   {
    "duration": 8,
    "start_time": "2023-10-25T13:23:18.500Z"
   },
   {
    "duration": 9,
    "start_time": "2023-10-25T13:24:43.976Z"
   },
   {
    "duration": 9,
    "start_time": "2023-10-25T13:24:51.810Z"
   },
   {
    "duration": 8,
    "start_time": "2023-10-25T13:24:55.898Z"
   },
   {
    "duration": 9,
    "start_time": "2023-10-25T13:25:41.340Z"
   },
   {
    "duration": 11,
    "start_time": "2023-10-25T13:25:50.775Z"
   },
   {
    "duration": 3,
    "start_time": "2023-10-25T13:26:21.924Z"
   },
   {
    "duration": 8,
    "start_time": "2023-10-25T13:26:24.405Z"
   },
   {
    "duration": 3,
    "start_time": "2023-10-25T13:26:32.368Z"
   },
   {
    "duration": 8,
    "start_time": "2023-10-25T13:27:02.326Z"
   },
   {
    "duration": 375,
    "start_time": "2023-10-25T13:27:13.198Z"
   },
   {
    "duration": 8,
    "start_time": "2023-10-25T13:27:13.575Z"
   },
   {
    "duration": 38,
    "start_time": "2023-10-25T13:27:13.585Z"
   },
   {
    "duration": 18,
    "start_time": "2023-10-25T13:27:13.624Z"
   },
   {
    "duration": 15,
    "start_time": "2023-10-25T13:27:13.644Z"
   },
   {
    "duration": 57,
    "start_time": "2023-10-25T13:28:48.575Z"
   },
   {
    "duration": 6,
    "start_time": "2023-10-25T13:28:58.676Z"
   },
   {
    "duration": 242,
    "start_time": "2023-10-25T13:29:28.327Z"
   },
   {
    "duration": 10,
    "start_time": "2023-10-25T13:29:32.932Z"
   },
   {
    "duration": 7,
    "start_time": "2023-10-25T13:29:50.273Z"
   },
   {
    "duration": 30,
    "start_time": "2023-10-25T13:31:02.082Z"
   },
   {
    "duration": 508,
    "start_time": "2023-10-25T13:31:16.815Z"
   },
   {
    "duration": 0,
    "start_time": "2023-10-25T13:31:17.324Z"
   },
   {
    "duration": 0,
    "start_time": "2023-10-25T13:31:17.325Z"
   },
   {
    "duration": 0,
    "start_time": "2023-10-25T13:31:17.326Z"
   },
   {
    "duration": 0,
    "start_time": "2023-10-25T13:31:17.328Z"
   },
   {
    "duration": 30,
    "start_time": "2023-10-25T13:31:26.687Z"
   },
   {
    "duration": 479,
    "start_time": "2023-10-25T13:33:00.226Z"
   },
   {
    "duration": 13,
    "start_time": "2023-10-25T13:33:00.708Z"
   },
   {
    "duration": 83,
    "start_time": "2023-10-25T13:33:00.722Z"
   },
   {
    "duration": 62,
    "start_time": "2023-10-25T13:33:00.807Z"
   },
   {
    "duration": 93,
    "start_time": "2023-10-25T13:33:00.871Z"
   },
   {
    "duration": 4,
    "start_time": "2023-10-25T13:35:06.825Z"
   },
   {
    "duration": 29,
    "start_time": "2023-10-25T13:35:12.425Z"
   },
   {
    "duration": 4,
    "start_time": "2023-10-25T13:35:16.303Z"
   },
   {
    "duration": 5,
    "start_time": "2023-10-25T13:35:17.287Z"
   },
   {
    "duration": 449,
    "start_time": "2023-10-25T13:36:07.933Z"
   },
   {
    "duration": 9,
    "start_time": "2023-10-25T13:36:08.384Z"
   },
   {
    "duration": 17,
    "start_time": "2023-10-25T13:36:08.394Z"
   },
   {
    "duration": 12,
    "start_time": "2023-10-25T13:36:08.412Z"
   },
   {
    "duration": 8,
    "start_time": "2023-10-25T13:36:08.426Z"
   },
   {
    "duration": 2,
    "start_time": "2023-10-25T13:52:39.492Z"
   },
   {
    "duration": 459,
    "start_time": "2023-10-25T13:52:54.222Z"
   },
   {
    "duration": 8,
    "start_time": "2023-10-25T13:52:54.683Z"
   },
   {
    "duration": 10,
    "start_time": "2023-10-25T13:52:54.693Z"
   },
   {
    "duration": 9,
    "start_time": "2023-10-25T13:52:54.705Z"
   },
   {
    "duration": 22,
    "start_time": "2023-10-25T13:52:54.716Z"
   },
   {
    "duration": 156,
    "start_time": "2023-10-25T13:58:58.482Z"
   },
   {
    "duration": 71,
    "start_time": "2023-10-25T13:59:48.688Z"
   },
   {
    "duration": 78,
    "start_time": "2023-10-25T14:00:01.484Z"
   },
   {
    "duration": 64,
    "start_time": "2023-10-25T14:00:14.549Z"
   },
   {
    "duration": 6,
    "start_time": "2023-10-25T14:00:21.916Z"
   },
   {
    "duration": 11,
    "start_time": "2023-10-25T14:00:31.040Z"
   },
   {
    "duration": 9,
    "start_time": "2023-10-25T14:00:40.639Z"
   },
   {
    "duration": 488,
    "start_time": "2023-10-25T14:01:41.632Z"
   },
   {
    "duration": 421,
    "start_time": "2023-10-25T14:02:24.299Z"
   },
   {
    "duration": 9,
    "start_time": "2023-10-25T14:02:24.722Z"
   },
   {
    "duration": 45,
    "start_time": "2023-10-25T14:02:24.733Z"
   },
   {
    "duration": 42,
    "start_time": "2023-10-25T14:02:24.780Z"
   },
   {
    "duration": 38,
    "start_time": "2023-10-25T14:02:24.824Z"
   },
   {
    "duration": 74,
    "start_time": "2023-10-25T14:02:24.864Z"
   },
   {
    "duration": 11,
    "start_time": "2023-10-25T14:02:24.940Z"
   },
   {
    "duration": 41,
    "start_time": "2023-10-25T14:02:24.953Z"
   },
   {
    "duration": 599,
    "start_time": "2023-10-25T14:02:24.995Z"
   },
   {
    "duration": 76,
    "start_time": "2023-10-25T14:04:24.901Z"
   },
   {
    "duration": 10,
    "start_time": "2023-10-25T14:04:42.801Z"
   },
   {
    "duration": 459,
    "start_time": "2023-10-25T14:04:48.175Z"
   },
   {
    "duration": 14,
    "start_time": "2023-10-25T14:04:48.636Z"
   },
   {
    "duration": 27,
    "start_time": "2023-10-25T14:04:48.652Z"
   },
   {
    "duration": 50,
    "start_time": "2023-10-25T14:04:48.680Z"
   },
   {
    "duration": 34,
    "start_time": "2023-10-25T14:04:48.732Z"
   },
   {
    "duration": 58,
    "start_time": "2023-10-25T14:04:48.769Z"
   },
   {
    "duration": 10,
    "start_time": "2023-10-25T14:04:48.829Z"
   },
   {
    "duration": 20,
    "start_time": "2023-10-25T14:04:48.841Z"
   },
   {
    "duration": 22,
    "start_time": "2023-10-25T14:04:48.863Z"
   },
   {
    "duration": 23,
    "start_time": "2023-10-25T14:04:48.888Z"
   },
   {
    "duration": 13,
    "start_time": "2023-10-25T14:05:16.468Z"
   },
   {
    "duration": 216,
    "start_time": "2023-10-25T14:08:13.188Z"
   },
   {
    "duration": 72,
    "start_time": "2023-10-25T14:08:14.800Z"
   },
   {
    "duration": 32,
    "start_time": "2023-10-25T14:08:16.944Z"
   },
   {
    "duration": 73,
    "start_time": "2023-10-25T14:08:34.447Z"
   },
   {
    "duration": 5,
    "start_time": "2023-10-25T14:09:15.609Z"
   },
   {
    "duration": 470,
    "start_time": "2023-10-25T14:11:46.812Z"
   },
   {
    "duration": 9,
    "start_time": "2023-10-25T14:11:47.285Z"
   },
   {
    "duration": 38,
    "start_time": "2023-10-25T14:11:47.295Z"
   },
   {
    "duration": 37,
    "start_time": "2023-10-25T14:11:47.335Z"
   },
   {
    "duration": 15,
    "start_time": "2023-10-25T14:11:47.374Z"
   },
   {
    "duration": 80,
    "start_time": "2023-10-25T14:11:47.391Z"
   },
   {
    "duration": 8,
    "start_time": "2023-10-25T14:11:47.473Z"
   },
   {
    "duration": 33,
    "start_time": "2023-10-25T14:11:47.482Z"
   },
   {
    "duration": 36,
    "start_time": "2023-10-25T14:11:47.516Z"
   },
   {
    "duration": 24,
    "start_time": "2023-10-25T14:11:47.556Z"
   },
   {
    "duration": 573,
    "start_time": "2023-10-25T14:11:47.581Z"
   },
   {
    "duration": 0,
    "start_time": "2023-10-25T14:11:48.158Z"
   },
   {
    "duration": 0,
    "start_time": "2023-10-25T14:11:48.159Z"
   },
   {
    "duration": 6,
    "start_time": "2023-10-25T14:12:13.418Z"
   },
   {
    "duration": 6,
    "start_time": "2023-10-25T14:12:21.083Z"
   },
   {
    "duration": 5,
    "start_time": "2023-10-25T14:12:55.496Z"
   },
   {
    "duration": 4,
    "start_time": "2023-10-25T14:13:00.022Z"
   },
   {
    "duration": 7,
    "start_time": "2023-10-25T14:13:03.163Z"
   },
   {
    "duration": 5,
    "start_time": "2023-10-25T14:13:58.291Z"
   },
   {
    "duration": 12,
    "start_time": "2023-10-25T14:14:35.140Z"
   },
   {
    "duration": 1034,
    "start_time": "2023-10-25T14:21:56.103Z"
   },
   {
    "duration": 456,
    "start_time": "2023-10-25T14:22:08.784Z"
   },
   {
    "duration": 10,
    "start_time": "2023-10-25T14:22:09.242Z"
   },
   {
    "duration": 40,
    "start_time": "2023-10-25T14:22:09.253Z"
   },
   {
    "duration": 32,
    "start_time": "2023-10-25T14:22:09.294Z"
   },
   {
    "duration": 13,
    "start_time": "2023-10-25T14:22:09.328Z"
   },
   {
    "duration": 83,
    "start_time": "2023-10-25T14:22:09.342Z"
   },
   {
    "duration": 6,
    "start_time": "2023-10-25T14:22:09.427Z"
   },
   {
    "duration": 13,
    "start_time": "2023-10-25T14:22:09.435Z"
   },
   {
    "duration": 24,
    "start_time": "2023-10-25T14:22:09.449Z"
   },
   {
    "duration": 16,
    "start_time": "2023-10-25T14:22:09.476Z"
   },
   {
    "duration": 20,
    "start_time": "2023-10-25T14:22:09.493Z"
   },
   {
    "duration": 13,
    "start_time": "2023-10-25T14:22:09.514Z"
   },
   {
    "duration": 384,
    "start_time": "2023-10-25T14:24:07.310Z"
   },
   {
    "duration": 463,
    "start_time": "2023-10-25T14:24:20.656Z"
   },
   {
    "duration": 9,
    "start_time": "2023-10-25T14:24:21.120Z"
   },
   {
    "duration": 88,
    "start_time": "2023-10-25T14:24:21.130Z"
   },
   {
    "duration": 36,
    "start_time": "2023-10-25T14:24:21.220Z"
   },
   {
    "duration": 34,
    "start_time": "2023-10-25T14:24:21.259Z"
   },
   {
    "duration": 89,
    "start_time": "2023-10-25T14:24:21.294Z"
   },
   {
    "duration": 8,
    "start_time": "2023-10-25T14:24:21.384Z"
   },
   {
    "duration": 65,
    "start_time": "2023-10-25T14:24:21.393Z"
   },
   {
    "duration": 36,
    "start_time": "2023-10-25T14:24:21.461Z"
   },
   {
    "duration": 19,
    "start_time": "2023-10-25T14:24:21.499Z"
   },
   {
    "duration": 58,
    "start_time": "2023-10-25T14:24:21.519Z"
   },
   {
    "duration": 61,
    "start_time": "2023-10-25T14:24:21.579Z"
   },
   {
    "duration": 29,
    "start_time": "2023-10-25T14:24:34.084Z"
   },
   {
    "duration": 5,
    "start_time": "2023-10-25T14:24:34.530Z"
   },
   {
    "duration": 9,
    "start_time": "2023-10-25T14:24:34.806Z"
   },
   {
    "duration": 10,
    "start_time": "2023-10-25T14:24:35.306Z"
   },
   {
    "duration": 10,
    "start_time": "2023-10-25T14:24:36.021Z"
   },
   {
    "duration": 70,
    "start_time": "2023-10-25T14:24:37.396Z"
   },
   {
    "duration": 8,
    "start_time": "2023-10-25T14:24:37.618Z"
   },
   {
    "duration": 8,
    "start_time": "2023-10-25T14:24:37.857Z"
   },
   {
    "duration": 10,
    "start_time": "2023-10-25T14:24:38.585Z"
   },
   {
    "duration": 12,
    "start_time": "2023-10-25T14:24:39.025Z"
   },
   {
    "duration": 13,
    "start_time": "2023-10-25T14:24:39.972Z"
   },
   {
    "duration": 11,
    "start_time": "2023-10-25T14:24:40.823Z"
   },
   {
    "duration": 4,
    "start_time": "2023-10-25T14:25:25.284Z"
   },
   {
    "duration": 5,
    "start_time": "2023-10-25T14:31:31.484Z"
   },
   {
    "duration": 452,
    "start_time": "2023-10-25T14:32:05.050Z"
   },
   {
    "duration": 9,
    "start_time": "2023-10-25T14:32:05.504Z"
   },
   {
    "duration": 37,
    "start_time": "2023-10-25T14:32:05.514Z"
   },
   {
    "duration": 26,
    "start_time": "2023-10-25T14:32:05.553Z"
   },
   {
    "duration": 12,
    "start_time": "2023-10-25T14:32:05.582Z"
   },
   {
    "duration": 71,
    "start_time": "2023-10-25T14:32:05.595Z"
   },
   {
    "duration": 7,
    "start_time": "2023-10-25T14:32:05.668Z"
   },
   {
    "duration": 54,
    "start_time": "2023-10-25T14:32:05.677Z"
   },
   {
    "duration": 40,
    "start_time": "2023-10-25T14:32:05.733Z"
   },
   {
    "duration": 38,
    "start_time": "2023-10-25T14:32:05.774Z"
   },
   {
    "duration": 27,
    "start_time": "2023-10-25T14:32:05.814Z"
   },
   {
    "duration": 24,
    "start_time": "2023-10-25T14:32:05.843Z"
   },
   {
    "duration": 10,
    "start_time": "2023-10-25T14:33:25.446Z"
   },
   {
    "duration": 399,
    "start_time": "2023-10-25T14:35:18.299Z"
   },
   {
    "duration": 10,
    "start_time": "2023-10-25T14:35:18.700Z"
   },
   {
    "duration": 27,
    "start_time": "2023-10-25T14:35:18.712Z"
   },
   {
    "duration": 27,
    "start_time": "2023-10-25T14:35:18.742Z"
   },
   {
    "duration": 10,
    "start_time": "2023-10-25T14:35:18.771Z"
   },
   {
    "duration": 80,
    "start_time": "2023-10-25T14:35:18.783Z"
   },
   {
    "duration": 11,
    "start_time": "2023-10-25T14:35:18.865Z"
   },
   {
    "duration": 13,
    "start_time": "2023-10-25T14:35:18.878Z"
   },
   {
    "duration": 14,
    "start_time": "2023-10-25T14:35:18.893Z"
   },
   {
    "duration": 12,
    "start_time": "2023-10-25T14:35:18.909Z"
   },
   {
    "duration": 54,
    "start_time": "2023-10-25T14:35:18.924Z"
   },
   {
    "duration": 40,
    "start_time": "2023-10-25T14:35:18.982Z"
   },
   {
    "duration": 409,
    "start_time": "2023-10-25T14:35:52.684Z"
   },
   {
    "duration": 10,
    "start_time": "2023-10-25T14:35:53.096Z"
   },
   {
    "duration": 52,
    "start_time": "2023-10-25T14:35:53.107Z"
   },
   {
    "duration": 37,
    "start_time": "2023-10-25T14:35:53.161Z"
   },
   {
    "duration": 32,
    "start_time": "2023-10-25T14:35:53.200Z"
   },
   {
    "duration": 103,
    "start_time": "2023-10-25T14:35:53.234Z"
   },
   {
    "duration": 9,
    "start_time": "2023-10-25T14:35:53.338Z"
   },
   {
    "duration": 35,
    "start_time": "2023-10-25T14:35:53.349Z"
   },
   {
    "duration": 17,
    "start_time": "2023-10-25T14:35:53.386Z"
   },
   {
    "duration": 16,
    "start_time": "2023-10-25T14:35:53.405Z"
   },
   {
    "duration": 20,
    "start_time": "2023-10-25T14:35:53.423Z"
   },
   {
    "duration": 8,
    "start_time": "2023-10-25T14:35:53.444Z"
   },
   {
    "duration": 88,
    "start_time": "2023-10-25T14:44:49.434Z"
   },
   {
    "duration": 295,
    "start_time": "2023-10-25T14:46:19.343Z"
   },
   {
    "duration": 1040,
    "start_time": "2023-10-25T14:46:52.107Z"
   },
   {
    "duration": 478,
    "start_time": "2023-10-25T14:47:05.829Z"
   },
   {
    "duration": 545,
    "start_time": "2023-10-25T14:50:05.578Z"
   },
   {
    "duration": 459,
    "start_time": "2023-10-25T14:51:28.278Z"
   },
   {
    "duration": 486,
    "start_time": "2023-10-25T14:52:31.441Z"
   },
   {
    "duration": 532,
    "start_time": "2023-10-25T14:52:45.717Z"
   },
   {
    "duration": 530,
    "start_time": "2023-10-25T14:53:03.745Z"
   },
   {
    "duration": 310,
    "start_time": "2023-10-25T15:02:59.761Z"
   },
   {
    "duration": 454,
    "start_time": "2023-10-25T15:03:09.767Z"
   },
   {
    "duration": 14,
    "start_time": "2023-10-25T15:03:10.224Z"
   },
   {
    "duration": 22,
    "start_time": "2023-10-25T15:03:10.240Z"
   },
   {
    "duration": 12,
    "start_time": "2023-10-25T15:03:10.264Z"
   },
   {
    "duration": 14,
    "start_time": "2023-10-25T15:03:10.279Z"
   },
   {
    "duration": 79,
    "start_time": "2023-10-25T15:03:10.295Z"
   },
   {
    "duration": 8,
    "start_time": "2023-10-25T15:03:10.376Z"
   },
   {
    "duration": 33,
    "start_time": "2023-10-25T15:03:10.386Z"
   },
   {
    "duration": 22,
    "start_time": "2023-10-25T15:03:10.421Z"
   },
   {
    "duration": 11,
    "start_time": "2023-10-25T15:03:10.445Z"
   },
   {
    "duration": 25,
    "start_time": "2023-10-25T15:03:10.458Z"
   },
   {
    "duration": 12,
    "start_time": "2023-10-25T15:03:10.484Z"
   },
   {
    "duration": 866,
    "start_time": "2023-10-25T15:03:10.498Z"
   },
   {
    "duration": 298,
    "start_time": "2023-10-25T15:03:11.367Z"
   },
   {
    "duration": 243,
    "start_time": "2023-10-25T15:04:21.410Z"
   },
   {
    "duration": 3,
    "start_time": "2023-10-25T15:08:20.659Z"
   },
   {
    "duration": 229,
    "start_time": "2023-10-25T15:08:26.695Z"
   },
   {
    "duration": 6,
    "start_time": "2023-10-25T15:10:42.564Z"
   },
   {
    "duration": 5,
    "start_time": "2023-10-25T15:11:16.741Z"
   },
   {
    "duration": 313,
    "start_time": "2023-10-25T15:11:26.661Z"
   },
   {
    "duration": 385,
    "start_time": "2023-10-25T15:12:37.636Z"
   },
   {
    "duration": 327,
    "start_time": "2023-10-25T15:12:57.792Z"
   },
   {
    "duration": 195,
    "start_time": "2023-10-25T15:19:29.418Z"
   },
   {
    "duration": 222,
    "start_time": "2023-10-25T15:20:33.484Z"
   },
   {
    "duration": 207,
    "start_time": "2023-10-25T15:20:37.630Z"
   },
   {
    "duration": 259,
    "start_time": "2023-10-25T15:21:28.861Z"
   },
   {
    "duration": 207,
    "start_time": "2023-10-25T15:22:46.490Z"
   },
   {
    "duration": 225,
    "start_time": "2023-10-25T15:24:14.637Z"
   },
   {
    "duration": 300,
    "start_time": "2023-10-25T15:24:36.497Z"
   },
   {
    "duration": 309,
    "start_time": "2023-10-25T15:28:03.379Z"
   },
   {
    "duration": 345,
    "start_time": "2023-10-25T15:28:10.152Z"
   },
   {
    "duration": 3,
    "start_time": "2023-10-25T15:34:59.316Z"
   },
   {
    "duration": 77,
    "start_time": "2023-10-25T15:36:18.528Z"
   },
   {
    "duration": 122,
    "start_time": "2023-10-25T15:37:42.997Z"
   },
   {
    "duration": 139,
    "start_time": "2023-10-25T15:39:35.775Z"
   },
   {
    "duration": 150,
    "start_time": "2023-10-25T15:41:11.274Z"
   },
   {
    "duration": 146,
    "start_time": "2023-10-25T15:41:16.119Z"
   },
   {
    "duration": 159,
    "start_time": "2023-10-25T15:41:32.184Z"
   },
   {
    "duration": 150,
    "start_time": "2023-10-25T15:41:37.952Z"
   },
   {
    "duration": 154,
    "start_time": "2023-10-25T15:41:43.274Z"
   },
   {
    "duration": 158,
    "start_time": "2023-10-25T15:44:27.498Z"
   },
   {
    "duration": 212,
    "start_time": "2023-10-25T15:45:56.817Z"
   },
   {
    "duration": 157,
    "start_time": "2023-10-25T15:46:56.172Z"
   },
   {
    "duration": 5,
    "start_time": "2023-10-25T15:49:37.385Z"
   },
   {
    "duration": 10,
    "start_time": "2023-10-25T15:50:03.326Z"
   },
   {
    "duration": 6,
    "start_time": "2023-10-25T15:50:09.836Z"
   },
   {
    "duration": 5,
    "start_time": "2023-10-25T15:50:13.338Z"
   },
   {
    "duration": 8,
    "start_time": "2023-10-25T15:51:47.397Z"
   },
   {
    "duration": 5,
    "start_time": "2023-10-25T15:52:16.700Z"
   },
   {
    "duration": 5,
    "start_time": "2023-10-25T15:52:28.066Z"
   },
   {
    "duration": 5,
    "start_time": "2023-10-25T15:52:46.337Z"
   },
   {
    "duration": 3,
    "start_time": "2023-10-25T15:54:03.242Z"
   },
   {
    "duration": 5,
    "start_time": "2023-10-25T15:54:04.080Z"
   },
   {
    "duration": 5,
    "start_time": "2023-10-25T15:54:15.696Z"
   },
   {
    "duration": 361,
    "start_time": "2023-10-25T16:18:15.687Z"
   },
   {
    "duration": 400,
    "start_time": "2023-10-25T16:19:37.769Z"
   },
   {
    "duration": 839,
    "start_time": "2023-10-25T16:19:59.372Z"
   },
   {
    "duration": 379,
    "start_time": "2023-10-25T16:21:00.437Z"
   },
   {
    "duration": 361,
    "start_time": "2023-10-25T16:22:27.454Z"
   },
   {
    "duration": 375,
    "start_time": "2023-10-25T16:22:41.221Z"
   },
   {
    "duration": 355,
    "start_time": "2023-10-25T16:24:46.076Z"
   },
   {
    "duration": 434,
    "start_time": "2023-10-25T16:38:04.510Z"
   },
   {
    "duration": 493,
    "start_time": "2023-10-25T16:39:00.214Z"
   },
   {
    "duration": 12,
    "start_time": "2023-10-25T16:39:04.542Z"
   },
   {
    "duration": 1420,
    "start_time": "2023-10-25T16:54:48.680Z"
   },
   {
    "duration": 343,
    "start_time": "2023-10-25T16:55:46.026Z"
   },
   {
    "duration": 11,
    "start_time": "2023-10-25T16:55:52.045Z"
   },
   {
    "duration": 9,
    "start_time": "2023-10-25T16:57:24.992Z"
   },
   {
    "duration": 41,
    "start_time": "2023-10-25T17:02:25.583Z"
   },
   {
    "duration": 1479,
    "start_time": "2023-10-25T17:04:28.424Z"
   },
   {
    "duration": 15,
    "start_time": "2023-10-25T17:04:52.086Z"
   },
   {
    "duration": 418,
    "start_time": "2023-10-25T17:11:10.369Z"
   },
   {
    "duration": 9,
    "start_time": "2023-10-25T17:11:10.790Z"
   },
   {
    "duration": 25,
    "start_time": "2023-10-25T17:11:10.801Z"
   },
   {
    "duration": 15,
    "start_time": "2023-10-25T17:11:10.828Z"
   },
   {
    "duration": 9,
    "start_time": "2023-10-25T17:11:10.846Z"
   },
   {
    "duration": 72,
    "start_time": "2023-10-25T17:11:10.856Z"
   },
   {
    "duration": 7,
    "start_time": "2023-10-25T17:11:10.929Z"
   },
   {
    "duration": 33,
    "start_time": "2023-10-25T17:11:10.938Z"
   },
   {
    "duration": 22,
    "start_time": "2023-10-25T17:11:10.972Z"
   },
   {
    "duration": 19,
    "start_time": "2023-10-25T17:11:10.995Z"
   },
   {
    "duration": 22,
    "start_time": "2023-10-25T17:11:11.016Z"
   },
   {
    "duration": 11,
    "start_time": "2023-10-25T17:11:11.040Z"
   },
   {
    "duration": 876,
    "start_time": "2023-10-25T17:11:11.053Z"
   },
   {
    "duration": 225,
    "start_time": "2023-10-25T17:11:11.932Z"
   },
   {
    "duration": 325,
    "start_time": "2023-10-25T17:11:12.158Z"
   },
   {
    "duration": 279,
    "start_time": "2023-10-25T17:11:12.484Z"
   },
   {
    "duration": 305,
    "start_time": "2023-10-25T17:11:12.764Z"
   },
   {
    "duration": 143,
    "start_time": "2023-10-25T17:11:13.071Z"
   },
   {
    "duration": 6,
    "start_time": "2023-10-25T17:11:13.216Z"
   },
   {
    "duration": 168,
    "start_time": "2023-10-25T17:11:13.224Z"
   },
   {
    "duration": 6,
    "start_time": "2023-10-25T17:11:13.394Z"
   },
   {
    "duration": 827,
    "start_time": "2023-10-25T17:11:13.401Z"
   },
   {
    "duration": 18,
    "start_time": "2023-10-25T17:11:14.229Z"
   },
   {
    "duration": 42,
    "start_time": "2023-10-25T17:11:14.248Z"
   },
   {
    "duration": 17,
    "start_time": "2023-10-25T17:11:14.292Z"
   },
   {
    "duration": 44,
    "start_time": "2023-10-25T17:25:01.550Z"
   },
   {
    "duration": 14,
    "start_time": "2023-10-25T17:25:04.286Z"
   },
   {
    "duration": 380,
    "start_time": "2023-10-25T17:25:49.751Z"
   },
   {
    "duration": 14,
    "start_time": "2023-10-25T17:25:53.916Z"
   },
   {
    "duration": 36,
    "start_time": "2023-10-25T17:25:56.041Z"
   },
   {
    "duration": 16,
    "start_time": "2023-10-25T17:26:00.541Z"
   },
   {
    "duration": 427,
    "start_time": "2023-10-25T17:43:01.579Z"
   },
   {
    "duration": 10,
    "start_time": "2023-10-25T17:43:02.008Z"
   },
   {
    "duration": 96,
    "start_time": "2023-10-25T17:43:02.019Z"
   },
   {
    "duration": 45,
    "start_time": "2023-10-25T17:43:02.117Z"
   },
   {
    "duration": 32,
    "start_time": "2023-10-25T17:43:02.163Z"
   },
   {
    "duration": 105,
    "start_time": "2023-10-25T17:43:02.197Z"
   },
   {
    "duration": 8,
    "start_time": "2023-10-25T17:43:02.303Z"
   },
   {
    "duration": 45,
    "start_time": "2023-10-25T17:43:02.313Z"
   },
   {
    "duration": 54,
    "start_time": "2023-10-25T17:43:02.360Z"
   },
   {
    "duration": 33,
    "start_time": "2023-10-25T17:43:02.417Z"
   },
   {
    "duration": 41,
    "start_time": "2023-10-25T17:43:02.452Z"
   },
   {
    "duration": 47,
    "start_time": "2023-10-25T17:43:02.495Z"
   },
   {
    "duration": 934,
    "start_time": "2023-10-25T17:43:02.544Z"
   },
   {
    "duration": 236,
    "start_time": "2023-10-25T17:43:03.480Z"
   },
   {
    "duration": 349,
    "start_time": "2023-10-25T17:43:03.718Z"
   },
   {
    "duration": 287,
    "start_time": "2023-10-25T17:43:04.069Z"
   },
   {
    "duration": 321,
    "start_time": "2023-10-25T17:43:04.358Z"
   },
   {
    "duration": 147,
    "start_time": "2023-10-25T17:43:04.681Z"
   },
   {
    "duration": 5,
    "start_time": "2023-10-25T17:43:04.830Z"
   },
   {
    "duration": 164,
    "start_time": "2023-10-25T17:43:04.845Z"
   },
   {
    "duration": 5,
    "start_time": "2023-10-25T17:43:05.011Z"
   },
   {
    "duration": 809,
    "start_time": "2023-10-25T17:43:05.017Z"
   },
   {
    "duration": 16,
    "start_time": "2023-10-25T17:43:05.828Z"
   },
   {
    "duration": 37,
    "start_time": "2023-10-25T17:43:05.846Z"
   },
   {
    "duration": 15,
    "start_time": "2023-10-25T17:43:05.884Z"
   },
   {
    "duration": 268,
    "start_time": "2023-10-25T17:50:23.950Z"
   },
   {
    "duration": 297,
    "start_time": "2023-10-25T17:50:43.317Z"
   },
   {
    "duration": 114,
    "start_time": "2023-10-25T17:50:59.441Z"
   },
   {
    "duration": 12,
    "start_time": "2023-10-25T17:52:09.851Z"
   },
   {
    "duration": 16,
    "start_time": "2023-10-25T17:53:09.536Z"
   },
   {
    "duration": 477,
    "start_time": "2023-10-25T17:58:04.242Z"
   },
   {
    "duration": 9,
    "start_time": "2023-10-25T17:58:04.721Z"
   },
   {
    "duration": 17,
    "start_time": "2023-10-25T17:58:04.732Z"
   },
   {
    "duration": 20,
    "start_time": "2023-10-25T17:58:04.751Z"
   },
   {
    "duration": 10,
    "start_time": "2023-10-25T17:58:04.772Z"
   },
   {
    "duration": 58,
    "start_time": "2023-10-25T17:58:04.783Z"
   },
   {
    "duration": 9,
    "start_time": "2023-10-25T17:58:04.843Z"
   },
   {
    "duration": 23,
    "start_time": "2023-10-25T17:58:04.853Z"
   },
   {
    "duration": 26,
    "start_time": "2023-10-25T17:58:04.878Z"
   },
   {
    "duration": 25,
    "start_time": "2023-10-25T17:58:04.907Z"
   },
   {
    "duration": 29,
    "start_time": "2023-10-25T17:58:04.934Z"
   },
   {
    "duration": 16,
    "start_time": "2023-10-25T17:58:04.965Z"
   },
   {
    "duration": 873,
    "start_time": "2023-10-25T17:58:04.983Z"
   },
   {
    "duration": 235,
    "start_time": "2023-10-25T17:58:05.858Z"
   },
   {
    "duration": 306,
    "start_time": "2023-10-25T17:58:06.095Z"
   },
   {
    "duration": 280,
    "start_time": "2023-10-25T17:58:06.402Z"
   },
   {
    "duration": 287,
    "start_time": "2023-10-25T17:58:06.684Z"
   },
   {
    "duration": 146,
    "start_time": "2023-10-25T17:58:06.972Z"
   },
   {
    "duration": 9,
    "start_time": "2023-10-25T17:58:07.119Z"
   },
   {
    "duration": 155,
    "start_time": "2023-10-25T17:58:07.145Z"
   },
   {
    "duration": 5,
    "start_time": "2023-10-25T17:58:07.302Z"
   },
   {
    "duration": 841,
    "start_time": "2023-10-25T17:58:07.309Z"
   },
   {
    "duration": 11,
    "start_time": "2023-10-25T17:58:08.151Z"
   },
   {
    "duration": 37,
    "start_time": "2023-10-25T17:58:08.163Z"
   },
   {
    "duration": 44,
    "start_time": "2023-10-25T17:58:08.201Z"
   },
   {
    "duration": 428,
    "start_time": "2023-10-25T21:32:39.188Z"
   },
   {
    "duration": 9,
    "start_time": "2023-10-25T21:32:39.618Z"
   },
   {
    "duration": 28,
    "start_time": "2023-10-25T21:32:39.629Z"
   },
   {
    "duration": 13,
    "start_time": "2023-10-25T21:32:39.659Z"
   },
   {
    "duration": 16,
    "start_time": "2023-10-25T21:32:39.673Z"
   },
   {
    "duration": 58,
    "start_time": "2023-10-25T21:32:39.690Z"
   },
   {
    "duration": 8,
    "start_time": "2023-10-25T21:32:39.750Z"
   },
   {
    "duration": 117,
    "start_time": "2023-10-25T21:32:39.759Z"
   },
   {
    "duration": 337,
    "start_time": "2023-10-25T21:32:39.878Z"
   },
   {
    "duration": 38,
    "start_time": "2023-10-25T21:32:40.218Z"
   },
   {
    "duration": 38,
    "start_time": "2023-10-25T21:32:40.258Z"
   },
   {
    "duration": 21,
    "start_time": "2023-10-25T21:32:40.298Z"
   },
   {
    "duration": 907,
    "start_time": "2023-10-25T21:32:40.320Z"
   },
   {
    "duration": 216,
    "start_time": "2023-10-25T21:32:41.229Z"
   },
   {
    "duration": 332,
    "start_time": "2023-10-25T21:32:41.447Z"
   },
   {
    "duration": 275,
    "start_time": "2023-10-25T21:32:41.781Z"
   },
   {
    "duration": 334,
    "start_time": "2023-10-25T21:32:42.057Z"
   },
   {
    "duration": 135,
    "start_time": "2023-10-25T21:32:42.392Z"
   },
   {
    "duration": 5,
    "start_time": "2023-10-25T21:32:42.529Z"
   },
   {
    "duration": 159,
    "start_time": "2023-10-25T21:32:42.536Z"
   },
   {
    "duration": 4,
    "start_time": "2023-10-25T21:32:42.697Z"
   },
   {
    "duration": 813,
    "start_time": "2023-10-25T21:32:42.703Z"
   },
   {
    "duration": 12,
    "start_time": "2023-10-25T21:32:43.517Z"
   },
   {
    "duration": 48,
    "start_time": "2023-10-25T21:32:43.530Z"
   },
   {
    "duration": 15,
    "start_time": "2023-10-25T21:32:43.579Z"
   },
   {
    "duration": 483,
    "start_time": "2023-10-25T22:07:46.050Z"
   },
   {
    "duration": 10,
    "start_time": "2023-10-25T22:07:46.535Z"
   },
   {
    "duration": 11,
    "start_time": "2023-10-25T22:07:46.547Z"
   },
   {
    "duration": 12,
    "start_time": "2023-10-25T22:07:46.560Z"
   },
   {
    "duration": 23,
    "start_time": "2023-10-25T22:07:46.575Z"
   },
   {
    "duration": 64,
    "start_time": "2023-10-25T22:07:46.600Z"
   },
   {
    "duration": 8,
    "start_time": "2023-10-25T22:07:46.666Z"
   },
   {
    "duration": 28,
    "start_time": "2023-10-25T22:07:46.676Z"
   },
   {
    "duration": 15,
    "start_time": "2023-10-25T22:07:46.706Z"
   },
   {
    "duration": 20,
    "start_time": "2023-10-25T22:07:46.722Z"
   },
   {
    "duration": 17,
    "start_time": "2023-10-25T22:07:46.744Z"
   },
   {
    "duration": 15,
    "start_time": "2023-10-25T22:07:46.763Z"
   },
   {
    "duration": 963,
    "start_time": "2023-10-25T22:07:46.780Z"
   },
   {
    "duration": 238,
    "start_time": "2023-10-25T22:07:47.746Z"
   },
   {
    "duration": 339,
    "start_time": "2023-10-25T22:07:47.987Z"
   },
   {
    "duration": 288,
    "start_time": "2023-10-25T22:07:48.329Z"
   },
   {
    "duration": 308,
    "start_time": "2023-10-25T22:07:48.619Z"
   },
   {
    "duration": 140,
    "start_time": "2023-10-25T22:07:48.930Z"
   },
   {
    "duration": 7,
    "start_time": "2023-10-25T22:07:49.072Z"
   },
   {
    "duration": 154,
    "start_time": "2023-10-25T22:07:49.081Z"
   },
   {
    "duration": 5,
    "start_time": "2023-10-25T22:07:49.237Z"
   },
   {
    "duration": 800,
    "start_time": "2023-10-25T22:07:49.244Z"
   },
   {
    "duration": 23,
    "start_time": "2023-10-25T22:07:50.046Z"
   },
   {
    "duration": 64,
    "start_time": "2023-10-25T22:07:50.071Z"
   },
   {
    "duration": 14,
    "start_time": "2023-10-25T22:07:50.137Z"
   },
   {
    "duration": 402,
    "start_time": "2023-10-25T22:14:10.579Z"
   },
   {
    "duration": 29,
    "start_time": "2023-10-25T22:14:15.785Z"
   },
   {
    "duration": 36,
    "start_time": "2023-10-25T22:14:38.471Z"
   },
   {
    "duration": 61,
    "start_time": "2023-10-25T22:20:49.101Z"
   },
   {
    "duration": 1209,
    "start_time": "2023-10-25T22:21:01.892Z"
   },
   {
    "duration": 4,
    "start_time": "2023-10-25T22:21:03.104Z"
   },
   {
    "duration": 8,
    "start_time": "2023-10-25T22:21:03.110Z"
   },
   {
    "duration": 9,
    "start_time": "2023-10-25T22:21:03.120Z"
   },
   {
    "duration": 9,
    "start_time": "2023-10-25T22:21:03.131Z"
   },
   {
    "duration": 137,
    "start_time": "2023-10-25T22:21:03.141Z"
   },
   {
    "duration": 7,
    "start_time": "2023-10-25T22:21:03.280Z"
   },
   {
    "duration": 7,
    "start_time": "2023-10-25T22:21:03.289Z"
   },
   {
    "duration": 11,
    "start_time": "2023-10-25T22:21:03.297Z"
   },
   {
    "duration": 9,
    "start_time": "2023-10-25T22:21:03.309Z"
   },
   {
    "duration": 15,
    "start_time": "2023-10-25T22:21:03.319Z"
   },
   {
    "duration": 7,
    "start_time": "2023-10-25T22:21:03.335Z"
   },
   {
    "duration": 638,
    "start_time": "2023-10-25T22:21:03.343Z"
   },
   {
    "duration": 0,
    "start_time": "2023-10-25T22:21:03.983Z"
   },
   {
    "duration": 0,
    "start_time": "2023-10-25T22:21:03.984Z"
   },
   {
    "duration": 0,
    "start_time": "2023-10-25T22:21:03.984Z"
   },
   {
    "duration": 0,
    "start_time": "2023-10-25T22:21:03.985Z"
   },
   {
    "duration": 0,
    "start_time": "2023-10-25T22:21:03.986Z"
   },
   {
    "duration": 0,
    "start_time": "2023-10-25T22:21:03.987Z"
   },
   {
    "duration": 0,
    "start_time": "2023-10-25T22:21:03.988Z"
   },
   {
    "duration": 0,
    "start_time": "2023-10-25T22:21:03.988Z"
   },
   {
    "duration": 0,
    "start_time": "2023-10-25T22:21:03.989Z"
   },
   {
    "duration": 0,
    "start_time": "2023-10-25T22:21:03.990Z"
   },
   {
    "duration": 0,
    "start_time": "2023-10-25T22:21:03.991Z"
   },
   {
    "duration": 0,
    "start_time": "2023-10-25T22:21:03.991Z"
   },
   {
    "duration": 468,
    "start_time": "2023-10-25T22:21:28.834Z"
   },
   {
    "duration": 1118,
    "start_time": "2023-10-25T22:21:56.239Z"
   },
   {
    "duration": 4,
    "start_time": "2023-10-25T22:21:57.359Z"
   },
   {
    "duration": 23,
    "start_time": "2023-10-25T22:21:57.364Z"
   },
   {
    "duration": 32,
    "start_time": "2023-10-25T22:21:57.389Z"
   },
   {
    "duration": 25,
    "start_time": "2023-10-25T22:21:57.422Z"
   },
   {
    "duration": 78,
    "start_time": "2023-10-25T22:21:57.448Z"
   },
   {
    "duration": 7,
    "start_time": "2023-10-25T22:21:57.527Z"
   },
   {
    "duration": 14,
    "start_time": "2023-10-25T22:21:57.535Z"
   },
   {
    "duration": 33,
    "start_time": "2023-10-25T22:21:57.550Z"
   },
   {
    "duration": 55,
    "start_time": "2023-10-25T22:21:57.585Z"
   },
   {
    "duration": 31,
    "start_time": "2023-10-25T22:21:57.641Z"
   },
   {
    "duration": 21,
    "start_time": "2023-10-25T22:21:57.673Z"
   },
   {
    "duration": 515,
    "start_time": "2023-10-25T22:21:57.696Z"
   },
   {
    "duration": 245,
    "start_time": "2023-10-25T22:21:58.212Z"
   },
   {
    "duration": 345,
    "start_time": "2023-10-25T22:21:58.459Z"
   },
   {
    "duration": 241,
    "start_time": "2023-10-25T22:21:58.805Z"
   },
   {
    "duration": 350,
    "start_time": "2023-10-25T22:21:59.048Z"
   },
   {
    "duration": 135,
    "start_time": "2023-10-25T22:21:59.399Z"
   },
   {
    "duration": 7,
    "start_time": "2023-10-25T22:21:59.535Z"
   },
   {
    "duration": 172,
    "start_time": "2023-10-25T22:21:59.543Z"
   },
   {
    "duration": 4,
    "start_time": "2023-10-25T22:21:59.717Z"
   },
   {
    "duration": 384,
    "start_time": "2023-10-25T22:21:59.723Z"
   },
   {
    "duration": 9,
    "start_time": "2023-10-25T22:22:00.108Z"
   },
   {
    "duration": 40,
    "start_time": "2023-10-25T22:22:00.118Z"
   },
   {
    "duration": 11,
    "start_time": "2023-10-25T22:22:00.160Z"
   },
   {
    "duration": 2,
    "start_time": "2023-10-25T22:22:40.478Z"
   },
   {
    "duration": 13,
    "start_time": "2023-10-25T22:22:51.499Z"
   },
   {
    "duration": 1046,
    "start_time": "2023-10-25T22:23:02.089Z"
   },
   {
    "duration": 5,
    "start_time": "2023-10-25T22:23:03.136Z"
   },
   {
    "duration": 15,
    "start_time": "2023-10-25T22:23:03.142Z"
   },
   {
    "duration": 13,
    "start_time": "2023-10-25T22:23:03.159Z"
   },
   {
    "duration": 9,
    "start_time": "2023-10-25T22:23:03.174Z"
   },
   {
    "duration": 56,
    "start_time": "2023-10-25T22:23:03.184Z"
   },
   {
    "duration": 7,
    "start_time": "2023-10-25T22:23:03.242Z"
   },
   {
    "duration": 8,
    "start_time": "2023-10-25T22:23:03.250Z"
   },
   {
    "duration": 11,
    "start_time": "2023-10-25T22:23:03.259Z"
   },
   {
    "duration": 16,
    "start_time": "2023-10-25T22:23:03.271Z"
   },
   {
    "duration": 14,
    "start_time": "2023-10-25T22:23:03.288Z"
   },
   {
    "duration": 4,
    "start_time": "2023-10-25T22:23:03.303Z"
   },
   {
    "duration": 526,
    "start_time": "2023-10-25T22:23:03.308Z"
   },
   {
    "duration": 238,
    "start_time": "2023-10-25T22:23:03.840Z"
   },
   {
    "duration": 331,
    "start_time": "2023-10-25T22:23:04.079Z"
   },
   {
    "duration": 239,
    "start_time": "2023-10-25T22:23:04.412Z"
   },
   {
    "duration": 337,
    "start_time": "2023-10-25T22:23:04.652Z"
   },
   {
    "duration": 138,
    "start_time": "2023-10-25T22:23:04.990Z"
   },
   {
    "duration": 4,
    "start_time": "2023-10-25T22:23:05.129Z"
   },
   {
    "duration": 155,
    "start_time": "2023-10-25T22:23:05.139Z"
   },
   {
    "duration": 5,
    "start_time": "2023-10-25T22:23:05.295Z"
   },
   {
    "duration": 384,
    "start_time": "2023-10-25T22:23:05.301Z"
   },
   {
    "duration": 9,
    "start_time": "2023-10-25T22:23:05.687Z"
   },
   {
    "duration": 43,
    "start_time": "2023-10-25T22:23:05.697Z"
   },
   {
    "duration": 12,
    "start_time": "2023-10-25T22:23:05.742Z"
   },
   {
    "duration": 13,
    "start_time": "2023-10-25T22:24:53.969Z"
   },
   {
    "duration": 1107,
    "start_time": "2023-10-25T22:24:59.739Z"
   },
   {
    "duration": 4,
    "start_time": "2023-10-25T22:25:00.847Z"
   },
   {
    "duration": 31,
    "start_time": "2023-10-25T22:25:00.852Z"
   },
   {
    "duration": 41,
    "start_time": "2023-10-25T22:25:00.884Z"
   },
   {
    "duration": 33,
    "start_time": "2023-10-25T22:25:00.926Z"
   },
   {
    "duration": 88,
    "start_time": "2023-10-25T22:25:00.960Z"
   },
   {
    "duration": 7,
    "start_time": "2023-10-25T22:25:01.049Z"
   },
   {
    "duration": 45,
    "start_time": "2023-10-25T22:25:01.058Z"
   },
   {
    "duration": 53,
    "start_time": "2023-10-25T22:25:01.104Z"
   },
   {
    "duration": 60,
    "start_time": "2023-10-25T22:25:01.159Z"
   },
   {
    "duration": 42,
    "start_time": "2023-10-25T22:25:01.221Z"
   },
   {
    "duration": 61,
    "start_time": "2023-10-25T22:25:01.264Z"
   },
   {
    "duration": 546,
    "start_time": "2023-10-25T22:25:01.327Z"
   },
   {
    "duration": 256,
    "start_time": "2023-10-25T22:25:01.874Z"
   },
   {
    "duration": 395,
    "start_time": "2023-10-25T22:25:02.131Z"
   },
   {
    "duration": 275,
    "start_time": "2023-10-25T22:25:02.528Z"
   },
   {
    "duration": 362,
    "start_time": "2023-10-25T22:25:02.804Z"
   },
   {
    "duration": 138,
    "start_time": "2023-10-25T22:25:03.167Z"
   },
   {
    "duration": 5,
    "start_time": "2023-10-25T22:25:03.306Z"
   },
   {
    "duration": 161,
    "start_time": "2023-10-25T22:25:03.312Z"
   },
   {
    "duration": 5,
    "start_time": "2023-10-25T22:25:03.475Z"
   },
   {
    "duration": 390,
    "start_time": "2023-10-25T22:25:03.481Z"
   },
   {
    "duration": 9,
    "start_time": "2023-10-25T22:25:03.873Z"
   },
   {
    "duration": 71,
    "start_time": "2023-10-25T22:25:03.883Z"
   },
   {
    "duration": 15,
    "start_time": "2023-10-25T22:25:03.956Z"
   },
   {
    "duration": 1251,
    "start_time": "2023-10-25T22:27:12.334Z"
   },
   {
    "duration": 1121,
    "start_time": "2023-10-25T22:27:32.417Z"
   },
   {
    "duration": 4,
    "start_time": "2023-10-25T22:27:33.540Z"
   },
   {
    "duration": 12,
    "start_time": "2023-10-25T22:27:33.545Z"
   },
   {
    "duration": 24,
    "start_time": "2023-10-25T22:27:33.558Z"
   },
   {
    "duration": 8,
    "start_time": "2023-10-25T22:27:33.584Z"
   },
   {
    "duration": 67,
    "start_time": "2023-10-25T22:27:33.593Z"
   },
   {
    "duration": 7,
    "start_time": "2023-10-25T22:27:33.661Z"
   },
   {
    "duration": 16,
    "start_time": "2023-10-25T22:27:33.670Z"
   },
   {
    "duration": 9,
    "start_time": "2023-10-25T22:27:33.688Z"
   },
   {
    "duration": 8,
    "start_time": "2023-10-25T22:27:33.699Z"
   },
   {
    "duration": 13,
    "start_time": "2023-10-25T22:27:33.708Z"
   },
   {
    "duration": 13,
    "start_time": "2023-10-25T22:27:33.723Z"
   },
   {
    "duration": 514,
    "start_time": "2023-10-25T22:27:33.737Z"
   },
   {
    "duration": 244,
    "start_time": "2023-10-25T22:27:34.254Z"
   },
   {
    "duration": 336,
    "start_time": "2023-10-25T22:27:34.499Z"
   },
   {
    "duration": 234,
    "start_time": "2023-10-25T22:27:34.839Z"
   },
   {
    "duration": 323,
    "start_time": "2023-10-25T22:27:35.074Z"
   },
   {
    "duration": 140,
    "start_time": "2023-10-25T22:27:35.399Z"
   },
   {
    "duration": 5,
    "start_time": "2023-10-25T22:27:35.540Z"
   },
   {
    "duration": 155,
    "start_time": "2023-10-25T22:27:35.546Z"
   },
   {
    "duration": 4,
    "start_time": "2023-10-25T22:27:35.703Z"
   },
   {
    "duration": 413,
    "start_time": "2023-10-25T22:27:35.708Z"
   },
   {
    "duration": 9,
    "start_time": "2023-10-25T22:27:36.122Z"
   },
   {
    "duration": 33,
    "start_time": "2023-10-25T22:27:36.139Z"
   },
   {
    "duration": 12,
    "start_time": "2023-10-25T22:27:36.173Z"
   },
   {
    "duration": 1129,
    "start_time": "2023-10-25T22:27:53.451Z"
   },
   {
    "duration": 1065,
    "start_time": "2023-10-25T22:27:59.876Z"
   },
   {
    "duration": 4,
    "start_time": "2023-10-25T22:28:00.943Z"
   },
   {
    "duration": 59,
    "start_time": "2023-10-25T22:28:00.948Z"
   },
   {
    "duration": 46,
    "start_time": "2023-10-25T22:28:01.009Z"
   },
   {
    "duration": 25,
    "start_time": "2023-10-25T22:28:01.056Z"
   },
   {
    "duration": 80,
    "start_time": "2023-10-25T22:28:01.082Z"
   },
   {
    "duration": 7,
    "start_time": "2023-10-25T22:28:01.163Z"
   },
   {
    "duration": 48,
    "start_time": "2023-10-25T22:28:01.172Z"
   },
   {
    "duration": 63,
    "start_time": "2023-10-25T22:28:01.221Z"
   },
   {
    "duration": 26,
    "start_time": "2023-10-25T22:28:01.285Z"
   },
   {
    "duration": 34,
    "start_time": "2023-10-25T22:28:01.312Z"
   },
   {
    "duration": 28,
    "start_time": "2023-10-25T22:28:01.348Z"
   },
   {
    "duration": 545,
    "start_time": "2023-10-25T22:28:01.377Z"
   },
   {
    "duration": 248,
    "start_time": "2023-10-25T22:28:01.924Z"
   },
   {
    "duration": 370,
    "start_time": "2023-10-25T22:28:02.173Z"
   },
   {
    "duration": 249,
    "start_time": "2023-10-25T22:28:02.545Z"
   },
   {
    "duration": 321,
    "start_time": "2023-10-25T22:28:02.795Z"
   },
   {
    "duration": 142,
    "start_time": "2023-10-25T22:28:03.118Z"
   },
   {
    "duration": 5,
    "start_time": "2023-10-25T22:28:03.261Z"
   },
   {
    "duration": 152,
    "start_time": "2023-10-25T22:28:03.268Z"
   },
   {
    "duration": 4,
    "start_time": "2023-10-25T22:28:03.421Z"
   },
   {
    "duration": 383,
    "start_time": "2023-10-25T22:28:03.426Z"
   },
   {
    "duration": 8,
    "start_time": "2023-10-25T22:28:03.810Z"
   },
   {
    "duration": 37,
    "start_time": "2023-10-25T22:28:03.820Z"
   },
   {
    "duration": 11,
    "start_time": "2023-10-25T22:28:03.859Z"
   },
   {
    "duration": 5,
    "start_time": "2023-10-25T22:38:30.069Z"
   },
   {
    "duration": 4,
    "start_time": "2023-10-25T22:39:07.872Z"
   },
   {
    "duration": 7,
    "start_time": "2023-10-25T22:42:49.790Z"
   },
   {
    "duration": 6,
    "start_time": "2023-10-25T22:42:57.350Z"
   },
   {
    "duration": 1084,
    "start_time": "2023-10-25T22:43:06.756Z"
   },
   {
    "duration": 4,
    "start_time": "2023-10-25T22:43:07.842Z"
   },
   {
    "duration": 10,
    "start_time": "2023-10-25T22:43:07.847Z"
   },
   {
    "duration": 11,
    "start_time": "2023-10-25T22:43:07.859Z"
   },
   {
    "duration": 10,
    "start_time": "2023-10-25T22:43:07.871Z"
   },
   {
    "duration": 53,
    "start_time": "2023-10-25T22:43:07.882Z"
   },
   {
    "duration": 6,
    "start_time": "2023-10-25T22:43:07.936Z"
   },
   {
    "duration": 8,
    "start_time": "2023-10-25T22:43:07.943Z"
   },
   {
    "duration": 10,
    "start_time": "2023-10-25T22:43:07.952Z"
   },
   {
    "duration": 9,
    "start_time": "2023-10-25T22:43:07.964Z"
   },
   {
    "duration": 13,
    "start_time": "2023-10-25T22:43:07.974Z"
   },
   {
    "duration": 8,
    "start_time": "2023-10-25T22:43:07.988Z"
   },
   {
    "duration": 6,
    "start_time": "2023-10-25T22:43:07.997Z"
   },
   {
    "duration": 14,
    "start_time": "2023-10-25T22:43:08.004Z"
   },
   {
    "duration": 25,
    "start_time": "2023-10-25T22:43:08.019Z"
   },
   {
    "duration": 520,
    "start_time": "2023-10-25T22:43:08.045Z"
   },
   {
    "duration": 249,
    "start_time": "2023-10-25T22:43:08.567Z"
   },
   {
    "duration": 377,
    "start_time": "2023-10-25T22:43:08.817Z"
   },
   {
    "duration": 240,
    "start_time": "2023-10-25T22:43:09.196Z"
   },
   {
    "duration": 352,
    "start_time": "2023-10-25T22:43:09.438Z"
   },
   {
    "duration": 136,
    "start_time": "2023-10-25T22:43:09.792Z"
   },
   {
    "duration": 10,
    "start_time": "2023-10-25T22:43:09.930Z"
   },
   {
    "duration": 154,
    "start_time": "2023-10-25T22:43:09.941Z"
   },
   {
    "duration": 5,
    "start_time": "2023-10-25T22:43:10.097Z"
   },
   {
    "duration": 406,
    "start_time": "2023-10-25T22:43:10.103Z"
   },
   {
    "duration": 9,
    "start_time": "2023-10-25T22:43:10.511Z"
   },
   {
    "duration": 35,
    "start_time": "2023-10-25T22:43:10.521Z"
   },
   {
    "duration": 11,
    "start_time": "2023-10-25T22:43:10.559Z"
   },
   {
    "duration": 472,
    "start_time": "2023-10-25T22:43:54.242Z"
   },
   {
    "duration": 5,
    "start_time": "2023-10-25T22:46:57.605Z"
   },
   {
    "duration": 9,
    "start_time": "2023-10-25T22:47:06.253Z"
   },
   {
    "duration": 7,
    "start_time": "2023-10-25T22:47:18.875Z"
   },
   {
    "duration": 6,
    "start_time": "2023-10-25T22:48:49.822Z"
   },
   {
    "duration": 6,
    "start_time": "2023-10-25T22:49:22.984Z"
   },
   {
    "duration": 471,
    "start_time": "2023-10-25T22:53:48.617Z"
   },
   {
    "duration": 257,
    "start_time": "2023-10-25T22:55:57.505Z"
   },
   {
    "duration": 353,
    "start_time": "2023-10-25T22:56:38.116Z"
   },
   {
    "duration": 240,
    "start_time": "2023-10-25T22:57:34.506Z"
   },
   {
    "duration": 364,
    "start_time": "2023-10-25T22:57:55.117Z"
   },
   {
    "duration": 154,
    "start_time": "2023-10-25T23:00:58.821Z"
   },
   {
    "duration": 148,
    "start_time": "2023-10-25T23:01:16.772Z"
   },
   {
    "duration": 1059,
    "start_time": "2023-10-25T23:46:36.776Z"
   },
   {
    "duration": 4,
    "start_time": "2023-10-25T23:46:37.837Z"
   },
   {
    "duration": 23,
    "start_time": "2023-10-25T23:46:37.842Z"
   },
   {
    "duration": 12,
    "start_time": "2023-10-25T23:46:37.866Z"
   },
   {
    "duration": 10,
    "start_time": "2023-10-25T23:46:37.879Z"
   },
   {
    "duration": 53,
    "start_time": "2023-10-25T23:46:37.890Z"
   },
   {
    "duration": 6,
    "start_time": "2023-10-25T23:46:37.945Z"
   },
   {
    "duration": 9,
    "start_time": "2023-10-25T23:46:37.953Z"
   },
   {
    "duration": 11,
    "start_time": "2023-10-25T23:46:37.963Z"
   },
   {
    "duration": 8,
    "start_time": "2023-10-25T23:46:37.975Z"
   },
   {
    "duration": 12,
    "start_time": "2023-10-25T23:46:37.984Z"
   },
   {
    "duration": 3,
    "start_time": "2023-10-25T23:46:37.998Z"
   },
   {
    "duration": 8,
    "start_time": "2023-10-25T23:46:38.002Z"
   },
   {
    "duration": 28,
    "start_time": "2023-10-25T23:46:38.012Z"
   },
   {
    "duration": 5,
    "start_time": "2023-10-25T23:46:38.042Z"
   },
   {
    "duration": 510,
    "start_time": "2023-10-25T23:46:38.048Z"
   },
   {
    "duration": 246,
    "start_time": "2023-10-25T23:46:38.559Z"
   },
   {
    "duration": 369,
    "start_time": "2023-10-25T23:46:38.806Z"
   },
   {
    "duration": 253,
    "start_time": "2023-10-25T23:46:39.176Z"
   },
   {
    "duration": 351,
    "start_time": "2023-10-25T23:46:39.431Z"
   },
   {
    "duration": 143,
    "start_time": "2023-10-25T23:46:39.784Z"
   },
   {
    "duration": 4,
    "start_time": "2023-10-25T23:46:39.928Z"
   },
   {
    "duration": 160,
    "start_time": "2023-10-25T23:46:39.939Z"
   },
   {
    "duration": 4,
    "start_time": "2023-10-25T23:46:40.100Z"
   },
   {
    "duration": 383,
    "start_time": "2023-10-25T23:46:40.105Z"
   },
   {
    "duration": 8,
    "start_time": "2023-10-25T23:46:40.489Z"
   },
   {
    "duration": 40,
    "start_time": "2023-10-25T23:46:40.499Z"
   },
   {
    "duration": 11,
    "start_time": "2023-10-25T23:46:40.541Z"
   },
   {
    "duration": 473,
    "start_time": "2023-10-25T23:46:58.532Z"
   },
   {
    "duration": 1505,
    "start_time": "2023-10-26T17:46:45.918Z"
   },
   {
    "duration": 5,
    "start_time": "2023-10-26T17:46:47.425Z"
   },
   {
    "duration": 14,
    "start_time": "2023-10-26T17:46:47.431Z"
   },
   {
    "duration": 15,
    "start_time": "2023-10-26T17:46:47.447Z"
   },
   {
    "duration": 13,
    "start_time": "2023-10-26T17:46:47.463Z"
   },
   {
    "duration": 62,
    "start_time": "2023-10-26T17:46:47.477Z"
   },
   {
    "duration": 8,
    "start_time": "2023-10-26T17:46:47.541Z"
   },
   {
    "duration": 13,
    "start_time": "2023-10-26T17:46:47.551Z"
   },
   {
    "duration": 15,
    "start_time": "2023-10-26T17:46:47.566Z"
   },
   {
    "duration": 31,
    "start_time": "2023-10-26T17:46:47.583Z"
   },
   {
    "duration": 30,
    "start_time": "2023-10-26T17:46:47.615Z"
   },
   {
    "duration": 8,
    "start_time": "2023-10-26T17:46:47.647Z"
   },
   {
    "duration": 34,
    "start_time": "2023-10-26T17:46:47.657Z"
   },
   {
    "duration": 26,
    "start_time": "2023-10-26T17:46:47.692Z"
   },
   {
    "duration": 7,
    "start_time": "2023-10-26T17:46:47.719Z"
   },
   {
    "duration": 634,
    "start_time": "2023-10-26T17:46:47.728Z"
   },
   {
    "duration": 303,
    "start_time": "2023-10-26T17:46:48.364Z"
   },
   {
    "duration": 468,
    "start_time": "2023-10-26T17:46:48.669Z"
   },
   {
    "duration": 304,
    "start_time": "2023-10-26T17:46:49.140Z"
   },
   {
    "duration": 395,
    "start_time": "2023-10-26T17:46:49.446Z"
   },
   {
    "duration": 172,
    "start_time": "2023-10-26T17:46:49.844Z"
   },
   {
    "duration": 5,
    "start_time": "2023-10-26T17:46:50.018Z"
   },
   {
    "duration": 196,
    "start_time": "2023-10-26T17:46:50.025Z"
   },
   {
    "duration": 4,
    "start_time": "2023-10-26T17:46:50.223Z"
   },
   {
    "duration": 448,
    "start_time": "2023-10-26T17:46:50.229Z"
   },
   {
    "duration": 12,
    "start_time": "2023-10-26T17:46:50.679Z"
   },
   {
    "duration": 58,
    "start_time": "2023-10-26T17:46:50.692Z"
   },
   {
    "duration": 15,
    "start_time": "2023-10-26T17:46:50.753Z"
   },
   {
    "duration": 1382,
    "start_time": "2023-10-26T18:03:49.750Z"
   },
   {
    "duration": 5,
    "start_time": "2023-10-26T18:03:51.134Z"
   },
   {
    "duration": 20,
    "start_time": "2023-10-26T18:03:51.141Z"
   },
   {
    "duration": 15,
    "start_time": "2023-10-26T18:03:51.163Z"
   },
   {
    "duration": 13,
    "start_time": "2023-10-26T18:03:51.180Z"
   },
   {
    "duration": 56,
    "start_time": "2023-10-26T18:03:51.194Z"
   },
   {
    "duration": 10,
    "start_time": "2023-10-26T18:03:51.251Z"
   },
   {
    "duration": 23,
    "start_time": "2023-10-26T18:03:51.263Z"
   },
   {
    "duration": 41,
    "start_time": "2023-10-26T18:03:51.287Z"
   },
   {
    "duration": 51,
    "start_time": "2023-10-26T18:03:51.329Z"
   },
   {
    "duration": 40,
    "start_time": "2023-10-26T18:03:51.382Z"
   },
   {
    "duration": 18,
    "start_time": "2023-10-26T18:03:51.423Z"
   },
   {
    "duration": 24,
    "start_time": "2023-10-26T18:03:51.443Z"
   },
   {
    "duration": 34,
    "start_time": "2023-10-26T18:03:51.470Z"
   },
   {
    "duration": 9,
    "start_time": "2023-10-26T18:03:51.506Z"
   },
   {
    "duration": 665,
    "start_time": "2023-10-26T18:03:51.517Z"
   },
   {
    "duration": 316,
    "start_time": "2023-10-26T18:03:52.184Z"
   },
   {
    "duration": 426,
    "start_time": "2023-10-26T18:03:52.502Z"
   },
   {
    "duration": 309,
    "start_time": "2023-10-26T18:03:52.930Z"
   },
   {
    "duration": 452,
    "start_time": "2023-10-26T18:03:53.245Z"
   },
   {
    "duration": 186,
    "start_time": "2023-10-26T18:03:53.699Z"
   },
   {
    "duration": 6,
    "start_time": "2023-10-26T18:03:53.887Z"
   },
   {
    "duration": 216,
    "start_time": "2023-10-26T18:03:53.894Z"
   },
   {
    "duration": 5,
    "start_time": "2023-10-26T18:03:54.112Z"
   },
   {
    "duration": 492,
    "start_time": "2023-10-26T18:03:54.120Z"
   },
   {
    "duration": 11,
    "start_time": "2023-10-26T18:03:54.613Z"
   },
   {
    "duration": 75,
    "start_time": "2023-10-26T18:03:54.626Z"
   },
   {
    "duration": 21,
    "start_time": "2023-10-26T18:03:54.703Z"
   },
   {
    "duration": 1786,
    "start_time": "2023-10-26T18:08:14.738Z"
   },
   {
    "duration": 5,
    "start_time": "2023-10-26T18:08:16.526Z"
   },
   {
    "duration": 14,
    "start_time": "2023-10-26T18:08:16.532Z"
   },
   {
    "duration": 14,
    "start_time": "2023-10-26T18:08:16.548Z"
   },
   {
    "duration": 12,
    "start_time": "2023-10-26T18:08:16.564Z"
   },
   {
    "duration": 138,
    "start_time": "2023-10-26T18:08:16.578Z"
   },
   {
    "duration": 8,
    "start_time": "2023-10-26T18:08:16.718Z"
   },
   {
    "duration": 8,
    "start_time": "2023-10-26T18:08:16.727Z"
   },
   {
    "duration": 10,
    "start_time": "2023-10-26T18:08:16.737Z"
   },
   {
    "duration": 11,
    "start_time": "2023-10-26T18:08:16.750Z"
   },
   {
    "duration": 17,
    "start_time": "2023-10-26T18:08:16.762Z"
   },
   {
    "duration": 5,
    "start_time": "2023-10-26T18:08:16.780Z"
   },
   {
    "duration": 9,
    "start_time": "2023-10-26T18:08:16.787Z"
   },
   {
    "duration": 10,
    "start_time": "2023-10-26T18:08:16.797Z"
   },
   {
    "duration": 6,
    "start_time": "2023-10-26T18:08:16.808Z"
   },
   {
    "duration": 184,
    "start_time": "2023-10-26T18:08:16.816Z"
   },
   {
    "duration": 595,
    "start_time": "2023-10-26T18:08:17.001Z"
   },
   {
    "duration": 300,
    "start_time": "2023-10-26T18:08:17.597Z"
   },
   {
    "duration": 501,
    "start_time": "2023-10-26T18:08:17.899Z"
   },
   {
    "duration": 289,
    "start_time": "2023-10-26T18:08:18.401Z"
   },
   {
    "duration": 431,
    "start_time": "2023-10-26T18:08:18.692Z"
   },
   {
    "duration": 187,
    "start_time": "2023-10-26T18:08:19.125Z"
   },
   {
    "duration": 6,
    "start_time": "2023-10-26T18:08:19.313Z"
   },
   {
    "duration": 209,
    "start_time": "2023-10-26T18:08:19.321Z"
   },
   {
    "duration": 5,
    "start_time": "2023-10-26T18:08:19.532Z"
   },
   {
    "duration": 452,
    "start_time": "2023-10-26T18:08:19.545Z"
   },
   {
    "duration": 11,
    "start_time": "2023-10-26T18:08:19.999Z"
   },
   {
    "duration": 63,
    "start_time": "2023-10-26T18:08:20.014Z"
   },
   {
    "duration": 33,
    "start_time": "2023-10-26T18:08:20.079Z"
   },
   {
    "duration": 158,
    "start_time": "2023-10-26T18:09:07.321Z"
   },
   {
    "duration": 431,
    "start_time": "2023-10-26T18:10:00.950Z"
   },
   {
    "duration": 103,
    "start_time": "2023-10-26T18:10:12.407Z"
   },
   {
    "duration": 10,
    "start_time": "2023-10-26T18:10:57.082Z"
   },
   {
    "duration": 71,
    "start_time": "2023-10-26T18:11:01.847Z"
   },
   {
    "duration": 10,
    "start_time": "2023-10-26T18:11:07.026Z"
   },
   {
    "duration": 150,
    "start_time": "2023-10-26T18:12:01.850Z"
   },
   {
    "duration": 461,
    "start_time": "2023-10-26T18:12:18.427Z"
   },
   {
    "duration": 13,
    "start_time": "2023-10-26T18:12:22.579Z"
   },
   {
    "duration": 11,
    "start_time": "2023-10-26T18:12:34.941Z"
   },
   {
    "duration": 10,
    "start_time": "2023-10-26T18:15:02.421Z"
   },
   {
    "duration": 14,
    "start_time": "2023-10-26T18:15:19.990Z"
   },
   {
    "duration": 6,
    "start_time": "2023-10-26T18:19:14.548Z"
   },
   {
    "duration": 4,
    "start_time": "2023-10-26T18:19:35.164Z"
   },
   {
    "duration": 7,
    "start_time": "2023-10-26T18:19:38.579Z"
   },
   {
    "duration": 1360,
    "start_time": "2023-10-26T18:19:44.665Z"
   },
   {
    "duration": 6,
    "start_time": "2023-10-26T18:19:46.026Z"
   },
   {
    "duration": 40,
    "start_time": "2023-10-26T18:19:46.033Z"
   },
   {
    "duration": 14,
    "start_time": "2023-10-26T18:19:46.075Z"
   },
   {
    "duration": 13,
    "start_time": "2023-10-26T18:19:46.091Z"
   },
   {
    "duration": 58,
    "start_time": "2023-10-26T18:19:46.105Z"
   },
   {
    "duration": 8,
    "start_time": "2023-10-26T18:19:46.165Z"
   },
   {
    "duration": 15,
    "start_time": "2023-10-26T18:19:46.175Z"
   },
   {
    "duration": 10,
    "start_time": "2023-10-26T18:19:46.192Z"
   },
   {
    "duration": 13,
    "start_time": "2023-10-26T18:19:46.205Z"
   },
   {
    "duration": 23,
    "start_time": "2023-10-26T18:19:46.220Z"
   },
   {
    "duration": 8,
    "start_time": "2023-10-26T18:19:46.245Z"
   },
   {
    "duration": 8,
    "start_time": "2023-10-26T18:19:46.254Z"
   },
   {
    "duration": 18,
    "start_time": "2023-10-26T18:19:46.263Z"
   },
   {
    "duration": 11,
    "start_time": "2023-10-26T18:19:46.283Z"
   },
   {
    "duration": 13,
    "start_time": "2023-10-26T18:19:46.296Z"
   },
   {
    "duration": 7,
    "start_time": "2023-10-26T18:19:46.311Z"
   },
   {
    "duration": 995,
    "start_time": "2023-10-26T18:19:46.319Z"
   },
   {
    "duration": 0,
    "start_time": "2023-10-26T18:19:47.316Z"
   },
   {
    "duration": 0,
    "start_time": "2023-10-26T18:19:47.317Z"
   },
   {
    "duration": 0,
    "start_time": "2023-10-26T18:19:47.318Z"
   },
   {
    "duration": 0,
    "start_time": "2023-10-26T18:19:47.319Z"
   },
   {
    "duration": 0,
    "start_time": "2023-10-26T18:19:47.320Z"
   },
   {
    "duration": 0,
    "start_time": "2023-10-26T18:19:47.321Z"
   },
   {
    "duration": 0,
    "start_time": "2023-10-26T18:19:47.322Z"
   },
   {
    "duration": 0,
    "start_time": "2023-10-26T18:19:47.323Z"
   },
   {
    "duration": 0,
    "start_time": "2023-10-26T18:19:47.324Z"
   },
   {
    "duration": 0,
    "start_time": "2023-10-26T18:19:47.325Z"
   },
   {
    "duration": 0,
    "start_time": "2023-10-26T18:19:47.327Z"
   },
   {
    "duration": 0,
    "start_time": "2023-10-26T18:19:47.327Z"
   },
   {
    "duration": 7,
    "start_time": "2023-10-26T18:21:06.413Z"
   },
   {
    "duration": 11,
    "start_time": "2023-10-26T18:21:11.961Z"
   },
   {
    "duration": 1428,
    "start_time": "2023-10-26T18:21:18.052Z"
   },
   {
    "duration": 5,
    "start_time": "2023-10-26T18:21:19.482Z"
   },
   {
    "duration": 21,
    "start_time": "2023-10-26T18:21:19.488Z"
   },
   {
    "duration": 19,
    "start_time": "2023-10-26T18:21:19.511Z"
   },
   {
    "duration": 12,
    "start_time": "2023-10-26T18:21:19.531Z"
   },
   {
    "duration": 69,
    "start_time": "2023-10-26T18:21:19.544Z"
   },
   {
    "duration": 8,
    "start_time": "2023-10-26T18:21:19.615Z"
   },
   {
    "duration": 10,
    "start_time": "2023-10-26T18:21:19.625Z"
   },
   {
    "duration": 17,
    "start_time": "2023-10-26T18:21:19.637Z"
   },
   {
    "duration": 19,
    "start_time": "2023-10-26T18:21:19.656Z"
   },
   {
    "duration": 14,
    "start_time": "2023-10-26T18:21:19.677Z"
   },
   {
    "duration": 6,
    "start_time": "2023-10-26T18:21:19.693Z"
   },
   {
    "duration": 10,
    "start_time": "2023-10-26T18:21:19.701Z"
   },
   {
    "duration": 7,
    "start_time": "2023-10-26T18:21:19.712Z"
   },
   {
    "duration": 26,
    "start_time": "2023-10-26T18:21:19.720Z"
   },
   {
    "duration": 12,
    "start_time": "2023-10-26T18:21:19.748Z"
   },
   {
    "duration": 6,
    "start_time": "2023-10-26T18:21:19.762Z"
   },
   {
    "duration": 616,
    "start_time": "2023-10-26T18:21:19.769Z"
   },
   {
    "duration": 310,
    "start_time": "2023-10-26T18:21:20.386Z"
   },
   {
    "duration": 390,
    "start_time": "2023-10-26T18:21:20.698Z"
   },
   {
    "duration": 298,
    "start_time": "2023-10-26T18:21:21.089Z"
   },
   {
    "duration": 366,
    "start_time": "2023-10-26T18:21:21.388Z"
   },
   {
    "duration": 192,
    "start_time": "2023-10-26T18:21:21.756Z"
   },
   {
    "duration": 6,
    "start_time": "2023-10-26T18:21:21.950Z"
   },
   {
    "duration": 202,
    "start_time": "2023-10-26T18:21:21.958Z"
   },
   {
    "duration": 5,
    "start_time": "2023-10-26T18:21:22.162Z"
   },
   {
    "duration": 462,
    "start_time": "2023-10-26T18:21:22.168Z"
   },
   {
    "duration": 18,
    "start_time": "2023-10-26T18:21:22.633Z"
   },
   {
    "duration": 40,
    "start_time": "2023-10-26T18:21:22.653Z"
   },
   {
    "duration": 14,
    "start_time": "2023-10-26T18:21:22.694Z"
   },
   {
    "duration": 12,
    "start_time": "2023-10-26T18:21:56.704Z"
   },
   {
    "duration": 103,
    "start_time": "2023-10-26T18:31:40.149Z"
   },
   {
    "duration": 15,
    "start_time": "2023-10-26T18:31:47.311Z"
   },
   {
    "duration": 46,
    "start_time": "2023-10-26T18:33:08.057Z"
   },
   {
    "duration": 16,
    "start_time": "2023-10-26T18:33:18.505Z"
   },
   {
    "duration": 10,
    "start_time": "2023-10-26T18:33:27.556Z"
   },
   {
    "duration": 1384,
    "start_time": "2023-10-26T18:33:33.287Z"
   },
   {
    "duration": 4,
    "start_time": "2023-10-26T18:33:34.673Z"
   },
   {
    "duration": 34,
    "start_time": "2023-10-26T18:33:34.679Z"
   },
   {
    "duration": 20,
    "start_time": "2023-10-26T18:33:34.715Z"
   },
   {
    "duration": 13,
    "start_time": "2023-10-26T18:33:34.737Z"
   },
   {
    "duration": 55,
    "start_time": "2023-10-26T18:33:34.752Z"
   },
   {
    "duration": 8,
    "start_time": "2023-10-26T18:33:34.809Z"
   },
   {
    "duration": 8,
    "start_time": "2023-10-26T18:33:34.818Z"
   },
   {
    "duration": 12,
    "start_time": "2023-10-26T18:33:34.827Z"
   },
   {
    "duration": 16,
    "start_time": "2023-10-26T18:33:34.841Z"
   },
   {
    "duration": 22,
    "start_time": "2023-10-26T18:33:34.859Z"
   },
   {
    "duration": 8,
    "start_time": "2023-10-26T18:33:34.882Z"
   },
   {
    "duration": 9,
    "start_time": "2023-10-26T18:33:34.892Z"
   },
   {
    "duration": 9,
    "start_time": "2023-10-26T18:33:34.903Z"
   },
   {
    "duration": 7,
    "start_time": "2023-10-26T18:33:34.913Z"
   },
   {
    "duration": 27,
    "start_time": "2023-10-26T18:33:34.921Z"
   },
   {
    "duration": 9,
    "start_time": "2023-10-26T18:33:34.950Z"
   },
   {
    "duration": 604,
    "start_time": "2023-10-26T18:33:34.961Z"
   },
   {
    "duration": 318,
    "start_time": "2023-10-26T18:33:35.567Z"
   },
   {
    "duration": 382,
    "start_time": "2023-10-26T18:33:35.887Z"
   },
   {
    "duration": 313,
    "start_time": "2023-10-26T18:33:36.271Z"
   },
   {
    "duration": 386,
    "start_time": "2023-10-26T18:33:36.586Z"
   },
   {
    "duration": 200,
    "start_time": "2023-10-26T18:33:36.974Z"
   },
   {
    "duration": 6,
    "start_time": "2023-10-26T18:33:37.176Z"
   },
   {
    "duration": 194,
    "start_time": "2023-10-26T18:33:37.184Z"
   },
   {
    "duration": 6,
    "start_time": "2023-10-26T18:33:37.380Z"
   },
   {
    "duration": 472,
    "start_time": "2023-10-26T18:33:37.388Z"
   },
   {
    "duration": 13,
    "start_time": "2023-10-26T18:33:37.864Z"
   },
   {
    "duration": 68,
    "start_time": "2023-10-26T18:33:37.878Z"
   },
   {
    "duration": 15,
    "start_time": "2023-10-26T18:33:37.947Z"
   },
   {
    "duration": 15,
    "start_time": "2023-10-26T18:34:19.321Z"
   },
   {
    "duration": 1457,
    "start_time": "2023-10-26T18:34:24.870Z"
   },
   {
    "duration": 9,
    "start_time": "2023-10-26T18:34:26.329Z"
   },
   {
    "duration": 11,
    "start_time": "2023-10-26T18:34:26.346Z"
   },
   {
    "duration": 21,
    "start_time": "2023-10-26T18:34:26.359Z"
   },
   {
    "duration": 16,
    "start_time": "2023-10-26T18:34:26.382Z"
   },
   {
    "duration": 54,
    "start_time": "2023-10-26T18:34:26.400Z"
   },
   {
    "duration": 9,
    "start_time": "2023-10-26T18:34:26.457Z"
   },
   {
    "duration": 9,
    "start_time": "2023-10-26T18:34:26.468Z"
   },
   {
    "duration": 21,
    "start_time": "2023-10-26T18:34:26.479Z"
   },
   {
    "duration": 10,
    "start_time": "2023-10-26T18:34:26.502Z"
   },
   {
    "duration": 31,
    "start_time": "2023-10-26T18:34:26.514Z"
   },
   {
    "duration": 5,
    "start_time": "2023-10-26T18:34:26.546Z"
   },
   {
    "duration": 10,
    "start_time": "2023-10-26T18:34:26.552Z"
   },
   {
    "duration": 17,
    "start_time": "2023-10-26T18:34:26.564Z"
   },
   {
    "duration": 6,
    "start_time": "2023-10-26T18:34:26.583Z"
   },
   {
    "duration": 12,
    "start_time": "2023-10-26T18:34:26.591Z"
   },
   {
    "duration": 15,
    "start_time": "2023-10-26T18:34:26.604Z"
   },
   {
    "duration": 30,
    "start_time": "2023-10-26T18:34:26.621Z"
   },
   {
    "duration": 606,
    "start_time": "2023-10-26T18:34:26.653Z"
   },
   {
    "duration": 347,
    "start_time": "2023-10-26T18:34:27.261Z"
   },
   {
    "duration": 468,
    "start_time": "2023-10-26T18:34:27.610Z"
   },
   {
    "duration": 313,
    "start_time": "2023-10-26T18:34:28.080Z"
   },
   {
    "duration": 397,
    "start_time": "2023-10-26T18:34:28.394Z"
   },
   {
    "duration": 268,
    "start_time": "2023-10-26T18:34:28.793Z"
   },
   {
    "duration": 8,
    "start_time": "2023-10-26T18:34:29.063Z"
   },
   {
    "duration": 210,
    "start_time": "2023-10-26T18:34:29.074Z"
   },
   {
    "duration": 5,
    "start_time": "2023-10-26T18:34:29.286Z"
   },
   {
    "duration": 452,
    "start_time": "2023-10-26T18:34:29.294Z"
   },
   {
    "duration": 12,
    "start_time": "2023-10-26T18:34:29.748Z"
   },
   {
    "duration": 43,
    "start_time": "2023-10-26T18:34:29.762Z"
   },
   {
    "duration": 41,
    "start_time": "2023-10-26T18:34:29.807Z"
   },
   {
    "duration": 1370,
    "start_time": "2023-10-26T18:43:07.461Z"
   },
   {
    "duration": 8,
    "start_time": "2023-10-26T18:43:08.834Z"
   },
   {
    "duration": 14,
    "start_time": "2023-10-26T18:43:08.844Z"
   },
   {
    "duration": 91,
    "start_time": "2023-10-26T18:43:08.861Z"
   },
   {
    "duration": 49,
    "start_time": "2023-10-26T18:43:08.955Z"
   },
   {
    "duration": 69,
    "start_time": "2023-10-26T18:43:09.006Z"
   },
   {
    "duration": 10,
    "start_time": "2023-10-26T18:43:09.077Z"
   },
   {
    "duration": 42,
    "start_time": "2023-10-26T18:43:09.089Z"
   },
   {
    "duration": 29,
    "start_time": "2023-10-26T18:43:09.133Z"
   },
   {
    "duration": 18,
    "start_time": "2023-10-26T18:43:09.165Z"
   },
   {
    "duration": 36,
    "start_time": "2023-10-26T18:43:09.185Z"
   },
   {
    "duration": 12,
    "start_time": "2023-10-26T18:43:09.223Z"
   },
   {
    "duration": 29,
    "start_time": "2023-10-26T18:43:09.237Z"
   },
   {
    "duration": 16,
    "start_time": "2023-10-26T18:43:09.267Z"
   },
   {
    "duration": 8,
    "start_time": "2023-10-26T18:43:09.285Z"
   },
   {
    "duration": 23,
    "start_time": "2023-10-26T18:43:09.295Z"
   },
   {
    "duration": 15,
    "start_time": "2023-10-26T18:43:09.320Z"
   },
   {
    "duration": 12,
    "start_time": "2023-10-26T18:43:09.338Z"
   },
   {
    "duration": 626,
    "start_time": "2023-10-26T18:43:09.352Z"
   },
   {
    "duration": 319,
    "start_time": "2023-10-26T18:43:09.980Z"
   },
   {
    "duration": 393,
    "start_time": "2023-10-26T18:43:10.300Z"
   },
   {
    "duration": 305,
    "start_time": "2023-10-26T18:43:10.695Z"
   },
   {
    "duration": 432,
    "start_time": "2023-10-26T18:43:11.002Z"
   },
   {
    "duration": 204,
    "start_time": "2023-10-26T18:43:11.436Z"
   },
   {
    "duration": 5,
    "start_time": "2023-10-26T18:43:11.645Z"
   },
   {
    "duration": 186,
    "start_time": "2023-10-26T18:43:11.651Z"
   },
   {
    "duration": 9,
    "start_time": "2023-10-26T18:43:11.838Z"
   },
   {
    "duration": 496,
    "start_time": "2023-10-26T18:43:11.850Z"
   },
   {
    "duration": 11,
    "start_time": "2023-10-26T18:43:12.348Z"
   },
   {
    "duration": 37,
    "start_time": "2023-10-26T18:43:12.361Z"
   },
   {
    "duration": 14,
    "start_time": "2023-10-26T18:43:12.400Z"
   },
   {
    "duration": 1586,
    "start_time": "2023-10-26T18:43:43.174Z"
   },
   {
    "duration": 10,
    "start_time": "2023-10-26T18:43:44.762Z"
   },
   {
    "duration": 20,
    "start_time": "2023-10-26T18:43:44.774Z"
   },
   {
    "duration": 26,
    "start_time": "2023-10-26T18:43:44.797Z"
   },
   {
    "duration": 41,
    "start_time": "2023-10-26T18:43:44.825Z"
   },
   {
    "duration": 74,
    "start_time": "2023-10-26T18:43:44.867Z"
   },
   {
    "duration": 8,
    "start_time": "2023-10-26T18:43:44.942Z"
   },
   {
    "duration": 11,
    "start_time": "2023-10-26T18:43:44.952Z"
   },
   {
    "duration": 25,
    "start_time": "2023-10-26T18:43:44.964Z"
   },
   {
    "duration": 40,
    "start_time": "2023-10-26T18:43:44.992Z"
   },
   {
    "duration": 42,
    "start_time": "2023-10-26T18:43:45.034Z"
   },
   {
    "duration": 7,
    "start_time": "2023-10-26T18:43:45.078Z"
   },
   {
    "duration": 24,
    "start_time": "2023-10-26T18:43:45.087Z"
   },
   {
    "duration": 32,
    "start_time": "2023-10-26T18:43:45.113Z"
   },
   {
    "duration": 9,
    "start_time": "2023-10-26T18:43:45.147Z"
   },
   {
    "duration": 25,
    "start_time": "2023-10-26T18:43:45.158Z"
   },
   {
    "duration": 17,
    "start_time": "2023-10-26T18:43:45.186Z"
   },
   {
    "duration": 12,
    "start_time": "2023-10-26T18:43:45.205Z"
   },
   {
    "duration": 625,
    "start_time": "2023-10-26T18:43:45.219Z"
   },
   {
    "duration": 324,
    "start_time": "2023-10-26T18:43:45.846Z"
   },
   {
    "duration": 396,
    "start_time": "2023-10-26T18:43:46.172Z"
   },
   {
    "duration": 312,
    "start_time": "2023-10-26T18:43:46.570Z"
   },
   {
    "duration": 375,
    "start_time": "2023-10-26T18:43:46.884Z"
   },
   {
    "duration": 195,
    "start_time": "2023-10-26T18:43:47.260Z"
   },
   {
    "duration": 5,
    "start_time": "2023-10-26T18:43:47.457Z"
   },
   {
    "duration": 203,
    "start_time": "2023-10-26T18:43:47.464Z"
   },
   {
    "duration": 6,
    "start_time": "2023-10-26T18:43:47.669Z"
   },
   {
    "duration": 506,
    "start_time": "2023-10-26T18:43:47.678Z"
   },
   {
    "duration": 13,
    "start_time": "2023-10-26T18:43:48.185Z"
   },
   {
    "duration": 67,
    "start_time": "2023-10-26T18:43:48.199Z"
   },
   {
    "duration": 14,
    "start_time": "2023-10-26T18:43:48.267Z"
   },
   {
    "duration": 1486,
    "start_time": "2023-10-26T18:46:36.336Z"
   },
   {
    "duration": 5,
    "start_time": "2023-10-26T18:46:37.825Z"
   },
   {
    "duration": 13,
    "start_time": "2023-10-26T18:46:37.831Z"
   },
   {
    "duration": 19,
    "start_time": "2023-10-26T18:46:37.846Z"
   },
   {
    "duration": 17,
    "start_time": "2023-10-26T18:46:37.866Z"
   },
   {
    "duration": 70,
    "start_time": "2023-10-26T18:46:37.885Z"
   },
   {
    "duration": 9,
    "start_time": "2023-10-26T18:46:37.957Z"
   },
   {
    "duration": 22,
    "start_time": "2023-10-26T18:46:37.967Z"
   },
   {
    "duration": 11,
    "start_time": "2023-10-26T18:46:37.991Z"
   },
   {
    "duration": 16,
    "start_time": "2023-10-26T18:46:38.006Z"
   },
   {
    "duration": 24,
    "start_time": "2023-10-26T18:46:38.025Z"
   },
   {
    "duration": 5,
    "start_time": "2023-10-26T18:46:38.052Z"
   },
   {
    "duration": 14,
    "start_time": "2023-10-26T18:46:38.059Z"
   },
   {
    "duration": 18,
    "start_time": "2023-10-26T18:46:38.075Z"
   },
   {
    "duration": 18,
    "start_time": "2023-10-26T18:46:38.094Z"
   },
   {
    "duration": 12,
    "start_time": "2023-10-26T18:46:38.114Z"
   },
   {
    "duration": 23,
    "start_time": "2023-10-26T18:46:38.128Z"
   },
   {
    "duration": 20,
    "start_time": "2023-10-26T18:46:38.152Z"
   },
   {
    "duration": 609,
    "start_time": "2023-10-26T18:46:38.174Z"
   },
   {
    "duration": 411,
    "start_time": "2023-10-26T18:46:38.785Z"
   },
   {
    "duration": 388,
    "start_time": "2023-10-26T18:46:39.198Z"
   },
   {
    "duration": 321,
    "start_time": "2023-10-26T18:46:39.588Z"
   },
   {
    "duration": 444,
    "start_time": "2023-10-26T18:46:39.911Z"
   },
   {
    "duration": 197,
    "start_time": "2023-10-26T18:46:40.357Z"
   },
   {
    "duration": 6,
    "start_time": "2023-10-26T18:46:40.556Z"
   },
   {
    "duration": 185,
    "start_time": "2023-10-26T18:46:40.563Z"
   },
   {
    "duration": 5,
    "start_time": "2023-10-26T18:46:40.750Z"
   },
   {
    "duration": 463,
    "start_time": "2023-10-26T18:46:40.758Z"
   },
   {
    "duration": 21,
    "start_time": "2023-10-26T18:46:41.223Z"
   },
   {
    "duration": 35,
    "start_time": "2023-10-26T18:46:41.246Z"
   },
   {
    "duration": 14,
    "start_time": "2023-10-26T18:46:41.283Z"
   },
   {
    "duration": 1374,
    "start_time": "2023-10-27T12:12:01.784Z"
   },
   {
    "duration": 6,
    "start_time": "2023-10-27T12:12:03.160Z"
   },
   {
    "duration": 58,
    "start_time": "2023-10-27T12:12:03.167Z"
   },
   {
    "duration": 41,
    "start_time": "2023-10-27T12:12:03.228Z"
   },
   {
    "duration": 13,
    "start_time": "2023-10-27T12:12:03.271Z"
   },
   {
    "duration": 161,
    "start_time": "2023-10-27T12:12:03.286Z"
   },
   {
    "duration": 8,
    "start_time": "2023-10-27T12:12:03.448Z"
   },
   {
    "duration": 52,
    "start_time": "2023-10-27T12:12:03.458Z"
   },
   {
    "duration": 33,
    "start_time": "2023-10-27T12:12:03.511Z"
   },
   {
    "duration": 37,
    "start_time": "2023-10-27T12:12:03.547Z"
   },
   {
    "duration": 68,
    "start_time": "2023-10-27T12:12:03.585Z"
   },
   {
    "duration": 88,
    "start_time": "2023-10-27T12:12:03.654Z"
   },
   {
    "duration": 55,
    "start_time": "2023-10-27T12:12:03.743Z"
   },
   {
    "duration": 67,
    "start_time": "2023-10-27T12:12:03.799Z"
   },
   {
    "duration": 69,
    "start_time": "2023-10-27T12:12:03.868Z"
   },
   {
    "duration": 38,
    "start_time": "2023-10-27T12:12:03.939Z"
   },
   {
    "duration": 38,
    "start_time": "2023-10-27T12:12:03.979Z"
   },
   {
    "duration": 44,
    "start_time": "2023-10-27T12:12:04.019Z"
   },
   {
    "duration": 648,
    "start_time": "2023-10-27T12:12:04.066Z"
   },
   {
    "duration": 356,
    "start_time": "2023-10-27T12:12:04.716Z"
   },
   {
    "duration": 392,
    "start_time": "2023-10-27T12:12:05.073Z"
   },
   {
    "duration": 307,
    "start_time": "2023-10-27T12:12:05.466Z"
   },
   {
    "duration": 364,
    "start_time": "2023-10-27T12:12:05.774Z"
   },
   {
    "duration": 206,
    "start_time": "2023-10-27T12:12:06.140Z"
   },
   {
    "duration": 5,
    "start_time": "2023-10-27T12:12:06.348Z"
   },
   {
    "duration": 192,
    "start_time": "2023-10-27T12:12:06.354Z"
   },
   {
    "duration": 6,
    "start_time": "2023-10-27T12:12:06.548Z"
   },
   {
    "duration": 436,
    "start_time": "2023-10-27T12:12:06.558Z"
   },
   {
    "duration": 9,
    "start_time": "2023-10-27T12:12:06.996Z"
   },
   {
    "duration": 47,
    "start_time": "2023-10-27T12:12:07.007Z"
   },
   {
    "duration": 15,
    "start_time": "2023-10-27T12:12:07.056Z"
   },
   {
    "duration": 1600,
    "start_time": "2023-10-27T12:14:29.018Z"
   },
   {
    "duration": 5,
    "start_time": "2023-10-27T12:14:30.620Z"
   },
   {
    "duration": 46,
    "start_time": "2023-10-27T12:14:30.626Z"
   },
   {
    "duration": 47,
    "start_time": "2023-10-27T12:14:30.674Z"
   },
   {
    "duration": 59,
    "start_time": "2023-10-27T12:14:30.724Z"
   },
   {
    "duration": 85,
    "start_time": "2023-10-27T12:14:30.784Z"
   },
   {
    "duration": 9,
    "start_time": "2023-10-27T12:14:30.871Z"
   },
   {
    "duration": 54,
    "start_time": "2023-10-27T12:14:30.882Z"
   },
   {
    "duration": 52,
    "start_time": "2023-10-27T12:14:30.938Z"
   },
   {
    "duration": 48,
    "start_time": "2023-10-27T12:14:30.992Z"
   },
   {
    "duration": 74,
    "start_time": "2023-10-27T12:14:31.042Z"
   },
   {
    "duration": 36,
    "start_time": "2023-10-27T12:14:31.118Z"
   },
   {
    "duration": 64,
    "start_time": "2023-10-27T12:14:31.156Z"
   },
   {
    "duration": 57,
    "start_time": "2023-10-27T12:14:31.224Z"
   },
   {
    "duration": 28,
    "start_time": "2023-10-27T12:14:31.283Z"
   },
   {
    "duration": 75,
    "start_time": "2023-10-27T12:14:31.313Z"
   },
   {
    "duration": 40,
    "start_time": "2023-10-27T12:14:31.390Z"
   },
   {
    "duration": 61,
    "start_time": "2023-10-27T12:14:31.432Z"
   },
   {
    "duration": 589,
    "start_time": "2023-10-27T12:14:31.494Z"
   },
   {
    "duration": 289,
    "start_time": "2023-10-27T12:14:32.085Z"
   },
   {
    "duration": 374,
    "start_time": "2023-10-27T12:14:32.375Z"
   },
   {
    "duration": 289,
    "start_time": "2023-10-27T12:14:32.750Z"
   },
   {
    "duration": 435,
    "start_time": "2023-10-27T12:14:33.040Z"
   },
   {
    "duration": 192,
    "start_time": "2023-10-27T12:14:33.476Z"
   },
   {
    "duration": 5,
    "start_time": "2023-10-27T12:14:33.669Z"
   },
   {
    "duration": 209,
    "start_time": "2023-10-27T12:14:33.675Z"
   },
   {
    "duration": 6,
    "start_time": "2023-10-27T12:14:33.886Z"
   },
   {
    "duration": 446,
    "start_time": "2023-10-27T12:14:33.893Z"
   },
   {
    "duration": 10,
    "start_time": "2023-10-27T12:14:34.340Z"
   },
   {
    "duration": 33,
    "start_time": "2023-10-27T12:14:34.352Z"
   },
   {
    "duration": 13,
    "start_time": "2023-10-27T12:14:34.387Z"
   }
  ],
  "kernelspec": {
   "display_name": "Python 3 (ipykernel)",
   "language": "python",
   "name": "python3"
  },
  "language_info": {
   "codemirror_mode": {
    "name": "ipython",
    "version": 3
   },
   "file_extension": ".py",
   "mimetype": "text/x-python",
   "name": "python",
   "nbconvert_exporter": "python",
   "pygments_lexer": "ipython3",
   "version": "3.11.4"
  },
  "toc": {
   "base_numbering": 1,
   "nav_menu": {},
   "number_sections": true,
   "sideBar": true,
   "skip_h1_title": true,
   "title_cell": "Table of Contents",
   "title_sidebar": "Contents",
   "toc_cell": false,
   "toc_position": {},
   "toc_section_display": true,
   "toc_window_display": false
  }
 },
 "nbformat": 4,
 "nbformat_minor": 2
}
