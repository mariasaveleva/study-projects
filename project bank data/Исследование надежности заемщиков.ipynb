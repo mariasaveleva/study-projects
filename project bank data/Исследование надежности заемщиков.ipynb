{
 "cells": [
  {
   "cell_type": "markdown",
   "id": "386f2ae7",
   "metadata": {
    "deletable": false,
    "editable": false,
    "id": "386f2ae7"
   },
   "source": [
    "# Исследование надежности заемщиков\n"
   ]
  },
  {
   "cell_type": "markdown",
   "id": "ffe86f65",
   "metadata": {
    "deletable": false,
    "editable": false,
    "id": "ffe86f65"
   },
   "source": [
    "Во второй части проекта вы выполните шаги 3 и 4. Их вручную проверит ревьюер.\n",
    "Чтобы вам не пришлось писать код заново для шагов 1 и 2, мы добавили авторские решения в ячейки с кодом. \n",
    "\n"
   ]
  },
  {
   "cell_type": "markdown",
   "id": "26613308",
   "metadata": {
    "deletable": false,
    "editable": false,
    "id": "26613308"
   },
   "source": [
    "## Откройте таблицу и изучите общую информацию о данных"
   ]
  },
  {
   "cell_type": "markdown",
   "id": "3c9f838e",
   "metadata": {
    "deletable": false,
    "editable": false,
    "id": "3c9f838e"
   },
   "source": [
    "**Задание 1. Импортируйте библиотеку pandas. Считайте данные из csv-файла в датафрейм и сохраните в переменную `data`. Путь к файлу:**\n",
    "\n",
    "`/datasets/data.csv`"
   ]
  },
  {
   "cell_type": "code",
   "execution_count": 1,
   "id": "77a68a90",
   "metadata": {
    "deletable": false,
    "id": "77a68a90"
   },
   "outputs": [],
   "source": [
    "import pandas as pd\n",
    "\n",
    "try:\n",
    "    data = pd.read_csv('/datasets/data.csv')\n",
    "except:\n",
    "    data = pd.read_csv('https://code.s3.yandex.net/datasets/data.csv')"
   ]
  },
  {
   "cell_type": "markdown",
   "id": "45365635",
   "metadata": {
    "deletable": false,
    "editable": false,
    "id": "45365635"
   },
   "source": [
    "**Задание 2. Выведите первые 20 строчек датафрейма `data` на экран.**"
   ]
  },
  {
   "cell_type": "code",
   "execution_count": 2,
   "id": "b0451a9a",
   "metadata": {
    "deletable": false,
    "id": "b0451a9a",
    "outputId": "1a8f3ef2-d323-4ec2-ddf7-89670b5944c4"
   },
   "outputs": [
    {
     "data": {
      "text/html": [
       "<div>\n",
       "<style scoped>\n",
       "    .dataframe tbody tr th:only-of-type {\n",
       "        vertical-align: middle;\n",
       "    }\n",
       "\n",
       "    .dataframe tbody tr th {\n",
       "        vertical-align: top;\n",
       "    }\n",
       "\n",
       "    .dataframe thead th {\n",
       "        text-align: right;\n",
       "    }\n",
       "</style>\n",
       "<table border=\"1\" class=\"dataframe\">\n",
       "  <thead>\n",
       "    <tr style=\"text-align: right;\">\n",
       "      <th></th>\n",
       "      <th>children</th>\n",
       "      <th>days_employed</th>\n",
       "      <th>dob_years</th>\n",
       "      <th>education</th>\n",
       "      <th>education_id</th>\n",
       "      <th>family_status</th>\n",
       "      <th>family_status_id</th>\n",
       "      <th>gender</th>\n",
       "      <th>income_type</th>\n",
       "      <th>debt</th>\n",
       "      <th>total_income</th>\n",
       "      <th>purpose</th>\n",
       "    </tr>\n",
       "  </thead>\n",
       "  <tbody>\n",
       "    <tr>\n",
       "      <th>0</th>\n",
       "      <td>1</td>\n",
       "      <td>-8437.673028</td>\n",
       "      <td>42</td>\n",
       "      <td>высшее</td>\n",
       "      <td>0</td>\n",
       "      <td>женат / замужем</td>\n",
       "      <td>0</td>\n",
       "      <td>F</td>\n",
       "      <td>сотрудник</td>\n",
       "      <td>0</td>\n",
       "      <td>253875.639453</td>\n",
       "      <td>покупка жилья</td>\n",
       "    </tr>\n",
       "    <tr>\n",
       "      <th>1</th>\n",
       "      <td>1</td>\n",
       "      <td>-4024.803754</td>\n",
       "      <td>36</td>\n",
       "      <td>среднее</td>\n",
       "      <td>1</td>\n",
       "      <td>женат / замужем</td>\n",
       "      <td>0</td>\n",
       "      <td>F</td>\n",
       "      <td>сотрудник</td>\n",
       "      <td>0</td>\n",
       "      <td>112080.014102</td>\n",
       "      <td>приобретение автомобиля</td>\n",
       "    </tr>\n",
       "    <tr>\n",
       "      <th>2</th>\n",
       "      <td>0</td>\n",
       "      <td>-5623.422610</td>\n",
       "      <td>33</td>\n",
       "      <td>Среднее</td>\n",
       "      <td>1</td>\n",
       "      <td>женат / замужем</td>\n",
       "      <td>0</td>\n",
       "      <td>M</td>\n",
       "      <td>сотрудник</td>\n",
       "      <td>0</td>\n",
       "      <td>145885.952297</td>\n",
       "      <td>покупка жилья</td>\n",
       "    </tr>\n",
       "    <tr>\n",
       "      <th>3</th>\n",
       "      <td>3</td>\n",
       "      <td>-4124.747207</td>\n",
       "      <td>32</td>\n",
       "      <td>среднее</td>\n",
       "      <td>1</td>\n",
       "      <td>женат / замужем</td>\n",
       "      <td>0</td>\n",
       "      <td>M</td>\n",
       "      <td>сотрудник</td>\n",
       "      <td>0</td>\n",
       "      <td>267628.550329</td>\n",
       "      <td>дополнительное образование</td>\n",
       "    </tr>\n",
       "    <tr>\n",
       "      <th>4</th>\n",
       "      <td>0</td>\n",
       "      <td>340266.072047</td>\n",
       "      <td>53</td>\n",
       "      <td>среднее</td>\n",
       "      <td>1</td>\n",
       "      <td>гражданский брак</td>\n",
       "      <td>1</td>\n",
       "      <td>F</td>\n",
       "      <td>пенсионер</td>\n",
       "      <td>0</td>\n",
       "      <td>158616.077870</td>\n",
       "      <td>сыграть свадьбу</td>\n",
       "    </tr>\n",
       "    <tr>\n",
       "      <th>5</th>\n",
       "      <td>0</td>\n",
       "      <td>-926.185831</td>\n",
       "      <td>27</td>\n",
       "      <td>высшее</td>\n",
       "      <td>0</td>\n",
       "      <td>гражданский брак</td>\n",
       "      <td>1</td>\n",
       "      <td>M</td>\n",
       "      <td>компаньон</td>\n",
       "      <td>0</td>\n",
       "      <td>255763.565419</td>\n",
       "      <td>покупка жилья</td>\n",
       "    </tr>\n",
       "    <tr>\n",
       "      <th>6</th>\n",
       "      <td>0</td>\n",
       "      <td>-2879.202052</td>\n",
       "      <td>43</td>\n",
       "      <td>высшее</td>\n",
       "      <td>0</td>\n",
       "      <td>женат / замужем</td>\n",
       "      <td>0</td>\n",
       "      <td>F</td>\n",
       "      <td>компаньон</td>\n",
       "      <td>0</td>\n",
       "      <td>240525.971920</td>\n",
       "      <td>операции с жильем</td>\n",
       "    </tr>\n",
       "    <tr>\n",
       "      <th>7</th>\n",
       "      <td>0</td>\n",
       "      <td>-152.779569</td>\n",
       "      <td>50</td>\n",
       "      <td>СРЕДНЕЕ</td>\n",
       "      <td>1</td>\n",
       "      <td>женат / замужем</td>\n",
       "      <td>0</td>\n",
       "      <td>M</td>\n",
       "      <td>сотрудник</td>\n",
       "      <td>0</td>\n",
       "      <td>135823.934197</td>\n",
       "      <td>образование</td>\n",
       "    </tr>\n",
       "    <tr>\n",
       "      <th>8</th>\n",
       "      <td>2</td>\n",
       "      <td>-6929.865299</td>\n",
       "      <td>35</td>\n",
       "      <td>ВЫСШЕЕ</td>\n",
       "      <td>0</td>\n",
       "      <td>гражданский брак</td>\n",
       "      <td>1</td>\n",
       "      <td>F</td>\n",
       "      <td>сотрудник</td>\n",
       "      <td>0</td>\n",
       "      <td>95856.832424</td>\n",
       "      <td>на проведение свадьбы</td>\n",
       "    </tr>\n",
       "    <tr>\n",
       "      <th>9</th>\n",
       "      <td>0</td>\n",
       "      <td>-2188.756445</td>\n",
       "      <td>41</td>\n",
       "      <td>среднее</td>\n",
       "      <td>1</td>\n",
       "      <td>женат / замужем</td>\n",
       "      <td>0</td>\n",
       "      <td>M</td>\n",
       "      <td>сотрудник</td>\n",
       "      <td>0</td>\n",
       "      <td>144425.938277</td>\n",
       "      <td>покупка жилья для семьи</td>\n",
       "    </tr>\n",
       "    <tr>\n",
       "      <th>10</th>\n",
       "      <td>2</td>\n",
       "      <td>-4171.483647</td>\n",
       "      <td>36</td>\n",
       "      <td>высшее</td>\n",
       "      <td>0</td>\n",
       "      <td>женат / замужем</td>\n",
       "      <td>0</td>\n",
       "      <td>M</td>\n",
       "      <td>компаньон</td>\n",
       "      <td>0</td>\n",
       "      <td>113943.491460</td>\n",
       "      <td>покупка недвижимости</td>\n",
       "    </tr>\n",
       "    <tr>\n",
       "      <th>11</th>\n",
       "      <td>0</td>\n",
       "      <td>-792.701887</td>\n",
       "      <td>40</td>\n",
       "      <td>среднее</td>\n",
       "      <td>1</td>\n",
       "      <td>женат / замужем</td>\n",
       "      <td>0</td>\n",
       "      <td>F</td>\n",
       "      <td>сотрудник</td>\n",
       "      <td>0</td>\n",
       "      <td>77069.234271</td>\n",
       "      <td>покупка коммерческой недвижимости</td>\n",
       "    </tr>\n",
       "    <tr>\n",
       "      <th>12</th>\n",
       "      <td>0</td>\n",
       "      <td>NaN</td>\n",
       "      <td>65</td>\n",
       "      <td>среднее</td>\n",
       "      <td>1</td>\n",
       "      <td>гражданский брак</td>\n",
       "      <td>1</td>\n",
       "      <td>M</td>\n",
       "      <td>пенсионер</td>\n",
       "      <td>0</td>\n",
       "      <td>NaN</td>\n",
       "      <td>сыграть свадьбу</td>\n",
       "    </tr>\n",
       "    <tr>\n",
       "      <th>13</th>\n",
       "      <td>0</td>\n",
       "      <td>-1846.641941</td>\n",
       "      <td>54</td>\n",
       "      <td>неоконченное высшее</td>\n",
       "      <td>2</td>\n",
       "      <td>женат / замужем</td>\n",
       "      <td>0</td>\n",
       "      <td>F</td>\n",
       "      <td>сотрудник</td>\n",
       "      <td>0</td>\n",
       "      <td>130458.228857</td>\n",
       "      <td>приобретение автомобиля</td>\n",
       "    </tr>\n",
       "    <tr>\n",
       "      <th>14</th>\n",
       "      <td>0</td>\n",
       "      <td>-1844.956182</td>\n",
       "      <td>56</td>\n",
       "      <td>высшее</td>\n",
       "      <td>0</td>\n",
       "      <td>гражданский брак</td>\n",
       "      <td>1</td>\n",
       "      <td>F</td>\n",
       "      <td>компаньон</td>\n",
       "      <td>1</td>\n",
       "      <td>165127.911772</td>\n",
       "      <td>покупка жилой недвижимости</td>\n",
       "    </tr>\n",
       "    <tr>\n",
       "      <th>15</th>\n",
       "      <td>1</td>\n",
       "      <td>-972.364419</td>\n",
       "      <td>26</td>\n",
       "      <td>среднее</td>\n",
       "      <td>1</td>\n",
       "      <td>женат / замужем</td>\n",
       "      <td>0</td>\n",
       "      <td>F</td>\n",
       "      <td>сотрудник</td>\n",
       "      <td>0</td>\n",
       "      <td>116820.904450</td>\n",
       "      <td>строительство собственной недвижимости</td>\n",
       "    </tr>\n",
       "    <tr>\n",
       "      <th>16</th>\n",
       "      <td>0</td>\n",
       "      <td>-1719.934226</td>\n",
       "      <td>35</td>\n",
       "      <td>среднее</td>\n",
       "      <td>1</td>\n",
       "      <td>женат / замужем</td>\n",
       "      <td>0</td>\n",
       "      <td>F</td>\n",
       "      <td>сотрудник</td>\n",
       "      <td>0</td>\n",
       "      <td>289202.704229</td>\n",
       "      <td>недвижимость</td>\n",
       "    </tr>\n",
       "    <tr>\n",
       "      <th>17</th>\n",
       "      <td>0</td>\n",
       "      <td>-2369.999720</td>\n",
       "      <td>33</td>\n",
       "      <td>высшее</td>\n",
       "      <td>0</td>\n",
       "      <td>гражданский брак</td>\n",
       "      <td>1</td>\n",
       "      <td>M</td>\n",
       "      <td>сотрудник</td>\n",
       "      <td>0</td>\n",
       "      <td>90410.586745</td>\n",
       "      <td>строительство недвижимости</td>\n",
       "    </tr>\n",
       "    <tr>\n",
       "      <th>18</th>\n",
       "      <td>0</td>\n",
       "      <td>400281.136913</td>\n",
       "      <td>53</td>\n",
       "      <td>среднее</td>\n",
       "      <td>1</td>\n",
       "      <td>вдовец / вдова</td>\n",
       "      <td>2</td>\n",
       "      <td>F</td>\n",
       "      <td>пенсионер</td>\n",
       "      <td>0</td>\n",
       "      <td>56823.777243</td>\n",
       "      <td>на покупку подержанного автомобиля</td>\n",
       "    </tr>\n",
       "    <tr>\n",
       "      <th>19</th>\n",
       "      <td>0</td>\n",
       "      <td>-10038.818549</td>\n",
       "      <td>48</td>\n",
       "      <td>СРЕДНЕЕ</td>\n",
       "      <td>1</td>\n",
       "      <td>в разводе</td>\n",
       "      <td>3</td>\n",
       "      <td>F</td>\n",
       "      <td>сотрудник</td>\n",
       "      <td>0</td>\n",
       "      <td>242831.107982</td>\n",
       "      <td>на покупку своего автомобиля</td>\n",
       "    </tr>\n",
       "  </tbody>\n",
       "</table>\n",
       "</div>"
      ],
      "text/plain": [
       "    children  days_employed  dob_years            education  education_id  \\\n",
       "0          1   -8437.673028         42               высшее             0   \n",
       "1          1   -4024.803754         36              среднее             1   \n",
       "2          0   -5623.422610         33              Среднее             1   \n",
       "3          3   -4124.747207         32              среднее             1   \n",
       "4          0  340266.072047         53              среднее             1   \n",
       "5          0    -926.185831         27               высшее             0   \n",
       "6          0   -2879.202052         43               высшее             0   \n",
       "7          0    -152.779569         50              СРЕДНЕЕ             1   \n",
       "8          2   -6929.865299         35               ВЫСШЕЕ             0   \n",
       "9          0   -2188.756445         41              среднее             1   \n",
       "10         2   -4171.483647         36               высшее             0   \n",
       "11         0    -792.701887         40              среднее             1   \n",
       "12         0            NaN         65              среднее             1   \n",
       "13         0   -1846.641941         54  неоконченное высшее             2   \n",
       "14         0   -1844.956182         56               высшее             0   \n",
       "15         1    -972.364419         26              среднее             1   \n",
       "16         0   -1719.934226         35              среднее             1   \n",
       "17         0   -2369.999720         33               высшее             0   \n",
       "18         0  400281.136913         53              среднее             1   \n",
       "19         0  -10038.818549         48              СРЕДНЕЕ             1   \n",
       "\n",
       "       family_status  family_status_id gender income_type  debt  \\\n",
       "0    женат / замужем                 0      F   сотрудник     0   \n",
       "1    женат / замужем                 0      F   сотрудник     0   \n",
       "2    женат / замужем                 0      M   сотрудник     0   \n",
       "3    женат / замужем                 0      M   сотрудник     0   \n",
       "4   гражданский брак                 1      F   пенсионер     0   \n",
       "5   гражданский брак                 1      M   компаньон     0   \n",
       "6    женат / замужем                 0      F   компаньон     0   \n",
       "7    женат / замужем                 0      M   сотрудник     0   \n",
       "8   гражданский брак                 1      F   сотрудник     0   \n",
       "9    женат / замужем                 0      M   сотрудник     0   \n",
       "10   женат / замужем                 0      M   компаньон     0   \n",
       "11   женат / замужем                 0      F   сотрудник     0   \n",
       "12  гражданский брак                 1      M   пенсионер     0   \n",
       "13   женат / замужем                 0      F   сотрудник     0   \n",
       "14  гражданский брак                 1      F   компаньон     1   \n",
       "15   женат / замужем                 0      F   сотрудник     0   \n",
       "16   женат / замужем                 0      F   сотрудник     0   \n",
       "17  гражданский брак                 1      M   сотрудник     0   \n",
       "18    вдовец / вдова                 2      F   пенсионер     0   \n",
       "19         в разводе                 3      F   сотрудник     0   \n",
       "\n",
       "     total_income                                 purpose  \n",
       "0   253875.639453                           покупка жилья  \n",
       "1   112080.014102                 приобретение автомобиля  \n",
       "2   145885.952297                           покупка жилья  \n",
       "3   267628.550329              дополнительное образование  \n",
       "4   158616.077870                         сыграть свадьбу  \n",
       "5   255763.565419                           покупка жилья  \n",
       "6   240525.971920                       операции с жильем  \n",
       "7   135823.934197                             образование  \n",
       "8    95856.832424                   на проведение свадьбы  \n",
       "9   144425.938277                 покупка жилья для семьи  \n",
       "10  113943.491460                    покупка недвижимости  \n",
       "11   77069.234271       покупка коммерческой недвижимости  \n",
       "12            NaN                         сыграть свадьбу  \n",
       "13  130458.228857                 приобретение автомобиля  \n",
       "14  165127.911772              покупка жилой недвижимости  \n",
       "15  116820.904450  строительство собственной недвижимости  \n",
       "16  289202.704229                            недвижимость  \n",
       "17   90410.586745              строительство недвижимости  \n",
       "18   56823.777243      на покупку подержанного автомобиля  \n",
       "19  242831.107982            на покупку своего автомобиля  "
      ]
     },
     "execution_count": 2,
     "metadata": {},
     "output_type": "execute_result"
    }
   ],
   "source": [
    "data.head(20)"
   ]
  },
  {
   "cell_type": "markdown",
   "id": "0ed8f27f",
   "metadata": {
    "deletable": false,
    "editable": false,
    "id": "0ed8f27f"
   },
   "source": [
    "**Задание 3. Выведите основную информацию о датафрейме с помощью метода `info()`.**"
   ]
  },
  {
   "cell_type": "code",
   "execution_count": 3,
   "id": "ab3f863b",
   "metadata": {
    "deletable": false,
    "id": "ab3f863b",
    "outputId": "15376089-8dad-46c9-b520-c05248d43158"
   },
   "outputs": [
    {
     "name": "stdout",
     "output_type": "stream",
     "text": [
      "<class 'pandas.core.frame.DataFrame'>\n",
      "RangeIndex: 21525 entries, 0 to 21524\n",
      "Data columns (total 12 columns):\n",
      " #   Column            Non-Null Count  Dtype  \n",
      "---  ------            --------------  -----  \n",
      " 0   children          21525 non-null  int64  \n",
      " 1   days_employed     19351 non-null  float64\n",
      " 2   dob_years         21525 non-null  int64  \n",
      " 3   education         21525 non-null  object \n",
      " 4   education_id      21525 non-null  int64  \n",
      " 5   family_status     21525 non-null  object \n",
      " 6   family_status_id  21525 non-null  int64  \n",
      " 7   gender            21525 non-null  object \n",
      " 8   income_type       21525 non-null  object \n",
      " 9   debt              21525 non-null  int64  \n",
      " 10  total_income      19351 non-null  float64\n",
      " 11  purpose           21525 non-null  object \n",
      "dtypes: float64(2), int64(5), object(5)\n",
      "memory usage: 2.0+ MB\n"
     ]
    }
   ],
   "source": [
    "data.info()"
   ]
  },
  {
   "cell_type": "markdown",
   "id": "60e3e22d",
   "metadata": {
    "deletable": false,
    "editable": false,
    "id": "60e3e22d"
   },
   "source": [
    "## Предобработка данных"
   ]
  },
  {
   "cell_type": "markdown",
   "id": "03dc170c",
   "metadata": {
    "deletable": false,
    "editable": false,
    "id": "03dc170c"
   },
   "source": [
    "### Удаление пропусков"
   ]
  },
  {
   "cell_type": "markdown",
   "id": "a4f54eef",
   "metadata": {
    "deletable": false,
    "editable": false,
    "id": "a4f54eef"
   },
   "source": [
    "**Задание 4. Выведите количество пропущенных значений для каждого столбца. Используйте комбинацию двух методов.**"
   ]
  },
  {
   "cell_type": "code",
   "execution_count": 4,
   "id": "2dc372b2",
   "metadata": {
    "deletable": false,
    "id": "2dc372b2",
    "outputId": "81f4d817-781c-465c-ed15-91ce4446810d"
   },
   "outputs": [
    {
     "data": {
      "text/plain": [
       "children               0\n",
       "days_employed       2174\n",
       "dob_years              0\n",
       "education              0\n",
       "education_id           0\n",
       "family_status          0\n",
       "family_status_id       0\n",
       "gender                 0\n",
       "income_type            0\n",
       "debt                   0\n",
       "total_income        2174\n",
       "purpose                0\n",
       "dtype: int64"
      ]
     },
     "execution_count": 4,
     "metadata": {},
     "output_type": "execute_result"
    }
   ],
   "source": [
    "data.isna().sum()"
   ]
  },
  {
   "cell_type": "markdown",
   "id": "14f011b1",
   "metadata": {
    "deletable": false,
    "editable": false,
    "id": "14f011b1"
   },
   "source": [
    "**Задание 5. В двух столбцах есть пропущенные значения. Один из них — `days_employed`. Пропуски в этом столбце вы обработаете на следующем этапе. Другой столбец с пропущенными значениями — `total_income` — хранит данные о доходах. На сумму дохода сильнее всего влияет тип занятости, поэтому заполнить пропуски в этом столбце нужно медианным значением по каждому типу из столбца `income_type`. Например, у человека с типом занятости `сотрудник` пропуск в столбце `total_income` должен быть заполнен медианным доходом среди всех записей с тем же типом.**"
   ]
  },
  {
   "cell_type": "code",
   "execution_count": 5,
   "id": "bdabfb6e",
   "metadata": {
    "deletable": false,
    "id": "bdabfb6e"
   },
   "outputs": [],
   "source": [
    "for t in data['income_type'].unique():\n",
    "    data.loc[(data['income_type'] == t) & (data['total_income'].isna()), 'total_income'] = \\\n",
    "    data.loc[(data['income_type'] == t), 'total_income'].median()"
   ]
  },
  {
   "cell_type": "markdown",
   "id": "5be34059",
   "metadata": {
    "deletable": false,
    "editable": false,
    "id": "5be34059"
   },
   "source": [
    "### Обработка аномальных значений"
   ]
  },
  {
   "cell_type": "markdown",
   "id": "a87606cb",
   "metadata": {
    "deletable": false,
    "editable": false,
    "id": "a87606cb"
   },
   "source": [
    "**Задание 6. В данных могут встречаться артефакты (аномалии) — значения, которые не отражают действительность и появились по какой-то ошибке. таким артефактом будет отрицательное количество дней трудового стажа в столбце `days_employed`. Для реальных данных это нормально. Обработайте значения в этом столбце: замените все отрицательные значения положительными с помощью метода `abs()`.**"
   ]
  },
  {
   "cell_type": "code",
   "execution_count": 6,
   "id": "020c46cc",
   "metadata": {
    "deletable": false,
    "id": "020c46cc"
   },
   "outputs": [],
   "source": [
    "data['days_employed'] = data['days_employed'].abs()"
   ]
  },
  {
   "cell_type": "markdown",
   "id": "45538a3a",
   "metadata": {
    "deletable": false,
    "editable": false,
    "id": "45538a3a"
   },
   "source": [
    "**Задание 7. Для каждого типа занятости выведите медианное значение трудового стажа `days_employed` в днях.**"
   ]
  },
  {
   "cell_type": "code",
   "execution_count": 7,
   "id": "cd3e6328",
   "metadata": {
    "deletable": false,
    "id": "cd3e6328",
    "outputId": "801ef80e-522b-4668-f34e-565af7432bcf"
   },
   "outputs": [
    {
     "data": {
      "text/plain": [
       "income_type\n",
       "безработный        366413.652744\n",
       "в декрете            3296.759962\n",
       "госслужащий          2689.368353\n",
       "компаньон            1547.382223\n",
       "пенсионер          365213.306266\n",
       "предприниматель       520.848083\n",
       "сотрудник            1574.202821\n",
       "студент               578.751554\n",
       "Name: days_employed, dtype: float64"
      ]
     },
     "execution_count": 7,
     "metadata": {},
     "output_type": "execute_result"
    }
   ],
   "source": [
    "data.groupby('income_type')['days_employed'].agg('median')"
   ]
  },
  {
   "cell_type": "markdown",
   "id": "90c5f058",
   "metadata": {
    "deletable": false,
    "editable": false,
    "id": "90c5f058"
   },
   "source": [
    "У двух типов (безработные и пенсионеры) получатся аномально большие значения. Исправить такие значения сложно, поэтому оставьте их как есть."
   ]
  },
  {
   "cell_type": "markdown",
   "id": "9652e50d",
   "metadata": {
    "deletable": false,
    "editable": false,
    "id": "9652e50d"
   },
   "source": [
    "**Задание 8. Выведите перечень уникальных значений столбца `children`.**"
   ]
  },
  {
   "cell_type": "code",
   "execution_count": 8,
   "id": "dbb37b8e",
   "metadata": {
    "deletable": false,
    "id": "dbb37b8e",
    "outputId": "6975b15c-7f95-4697-d16d-a0c79b657b03"
   },
   "outputs": [
    {
     "data": {
      "text/plain": [
       "array([ 1,  0,  3,  2, -1,  4, 20,  5])"
      ]
     },
     "execution_count": 8,
     "metadata": {},
     "output_type": "execute_result"
    }
   ],
   "source": [
    "data['children'].unique()"
   ]
  },
  {
   "cell_type": "markdown",
   "id": "2b8b0715",
   "metadata": {
    "deletable": false,
    "editable": false,
    "id": "2b8b0715"
   },
   "source": [
    "**Задание 9. В столбце `children` есть два аномальных значения. Удалите строки, в которых встречаются такие аномальные значения из датафрейма `data`.**"
   ]
  },
  {
   "cell_type": "code",
   "execution_count": 9,
   "id": "20009df8",
   "metadata": {
    "deletable": false,
    "id": "20009df8"
   },
   "outputs": [],
   "source": [
    "data = data[(data['children'] != -1) & (data['children'] != 20)]"
   ]
  },
  {
   "cell_type": "markdown",
   "id": "8c6ac9f1",
   "metadata": {
    "deletable": false,
    "editable": false,
    "id": "8c6ac9f1"
   },
   "source": [
    "**Задание 10. Ещё раз выведите перечень уникальных значений столбца `children`, чтобы убедиться, что артефакты удалены.**"
   ]
  },
  {
   "cell_type": "code",
   "execution_count": 10,
   "id": "07337b81",
   "metadata": {
    "deletable": false,
    "id": "07337b81",
    "outputId": "b2097101-d49d-44d9-901b-32a65c9463d1"
   },
   "outputs": [
    {
     "data": {
      "text/plain": [
       "array([1, 0, 3, 2, 4, 5])"
      ]
     },
     "execution_count": 10,
     "metadata": {},
     "output_type": "execute_result"
    }
   ],
   "source": [
    "data['children'].unique()"
   ]
  },
  {
   "cell_type": "markdown",
   "id": "ee3f52d4",
   "metadata": {
    "deletable": false,
    "editable": false,
    "id": "ee3f52d4"
   },
   "source": [
    "### Удаление пропусков (продолжение)"
   ]
  },
  {
   "cell_type": "markdown",
   "id": "a700b0e4",
   "metadata": {
    "deletable": false,
    "editable": false,
    "id": "a700b0e4"
   },
   "source": [
    "**Задание 11. Заполните пропуски в столбце `days_employed` медианными значениями по каждого типа занятости `income_type`.**"
   ]
  },
  {
   "cell_type": "code",
   "execution_count": 11,
   "id": "61946b83",
   "metadata": {
    "deletable": false,
    "id": "61946b83"
   },
   "outputs": [],
   "source": [
    "for t in data['income_type'].unique():\n",
    "    data.loc[(data['income_type'] == t) & (data['days_employed'].isna()), 'days_employed'] = \\\n",
    "    data.loc[(data['income_type'] == t), 'days_employed'].median()"
   ]
  },
  {
   "cell_type": "markdown",
   "id": "550dcd9b",
   "metadata": {
    "deletable": false,
    "editable": false,
    "id": "550dcd9b"
   },
   "source": [
    "**Задание 12. Убедитесь, что все пропуски заполнены. Проверьте себя и ещё раз выведите количество пропущенных значений для каждого столбца с помощью двух методов.**"
   ]
  },
  {
   "cell_type": "code",
   "execution_count": 12,
   "id": "937c7014",
   "metadata": {
    "deletable": false,
    "id": "937c7014",
    "outputId": "8da1e4e1-358e-4e87-98c9-f261bce0a7b2"
   },
   "outputs": [
    {
     "data": {
      "text/plain": [
       "children            0\n",
       "days_employed       0\n",
       "dob_years           0\n",
       "education           0\n",
       "education_id        0\n",
       "family_status       0\n",
       "family_status_id    0\n",
       "gender              0\n",
       "income_type         0\n",
       "debt                0\n",
       "total_income        0\n",
       "purpose             0\n",
       "dtype: int64"
      ]
     },
     "execution_count": 12,
     "metadata": {},
     "output_type": "execute_result"
    }
   ],
   "source": [
    "data.isna().sum()"
   ]
  },
  {
   "cell_type": "markdown",
   "id": "d522e295",
   "metadata": {
    "deletable": false,
    "editable": false,
    "id": "d522e295"
   },
   "source": [
    "### Изменение типов данных"
   ]
  },
  {
   "cell_type": "markdown",
   "id": "c229c581",
   "metadata": {
    "deletable": false,
    "editable": false,
    "id": "c229c581"
   },
   "source": [
    "**Задание 13. Замените вещественный тип данных в столбце `total_income` на целочисленный с помощью метода `astype()`.**"
   ]
  },
  {
   "cell_type": "code",
   "execution_count": 13,
   "id": "31036462",
   "metadata": {
    "deletable": false,
    "id": "31036462"
   },
   "outputs": [],
   "source": [
    "data['total_income'] = data['total_income'].astype(int)"
   ]
  },
  {
   "cell_type": "markdown",
   "id": "b8e3d1d9",
   "metadata": {
    "deletable": false,
    "editable": false,
    "id": "b8e3d1d9"
   },
   "source": [
    "### Обработка дубликатов"
   ]
  },
  {
   "cell_type": "markdown",
   "id": "9be53c49",
   "metadata": {
    "deletable": false,
    "editable": false,
    "id": "9be53c49"
   },
   "source": [
    "**Задание 14. Обработайте неявные дубликаты в столбце `education`. В этом столбце есть одни и те же значения, но записанные по-разному: с использованием заглавных и строчных букв. Приведите их к нижнему регистру.**"
   ]
  },
  {
   "cell_type": "code",
   "execution_count": 14,
   "id": "d89e73e1",
   "metadata": {
    "deletable": false,
    "id": "d89e73e1"
   },
   "outputs": [],
   "source": [
    "data['education'] = data['education'].str.lower()"
   ]
  },
  {
   "cell_type": "markdown",
   "id": "01d4500e",
   "metadata": {
    "deletable": false,
    "editable": false,
    "id": "01d4500e"
   },
   "source": [
    "**Задание 15. Выведите на экран количество строк-дубликатов в данных. Если такие строки присутствуют, удалите их.**"
   ]
  },
  {
   "cell_type": "code",
   "execution_count": 15,
   "id": "e10efb23",
   "metadata": {
    "deletable": false,
    "id": "e10efb23",
    "outputId": "9684deba-1934-42d1-99e1-cda61740f822"
   },
   "outputs": [
    {
     "data": {
      "text/plain": [
       "71"
      ]
     },
     "execution_count": 15,
     "metadata": {},
     "output_type": "execute_result"
    }
   ],
   "source": [
    "data.duplicated().sum()"
   ]
  },
  {
   "cell_type": "code",
   "execution_count": 16,
   "id": "df853f20",
   "metadata": {
    "deletable": false,
    "id": "df853f20"
   },
   "outputs": [],
   "source": [
    "data = data.drop_duplicates()"
   ]
  },
  {
   "cell_type": "markdown",
   "id": "627be38f",
   "metadata": {
    "deletable": false,
    "editable": false,
    "id": "627be38f"
   },
   "source": [
    "### Категоризация данных"
   ]
  },
  {
   "cell_type": "markdown",
   "id": "4684c3e0",
   "metadata": {
    "deletable": false,
    "editable": false,
    "id": "4684c3e0"
   },
   "source": [
    "**Задание 16. На основании диапазонов, указанных ниже, создайте в датафрейме `data` столбец `total_income_category` с категориями:**\n",
    "\n",
    "- 0–30000 — `'E'`;\n",
    "- 30001–50000 — `'D'`;\n",
    "- 50001–200000 — `'C'`;\n",
    "- 200001–1000000 — `'B'`;\n",
    "- 1000001 и выше — `'A'`.\n",
    "\n",
    "\n",
    "**Например, кредитополучателю с доходом 25000 нужно назначить категорию `'E'`, а клиенту, получающему 235000, — `'B'`. Используйте собственную функцию с именем `categorize_income()` и метод `apply()`.**"
   ]
  },
  {
   "cell_type": "code",
   "execution_count": 17,
   "id": "78965238",
   "metadata": {
    "deletable": false,
    "id": "78965238"
   },
   "outputs": [],
   "source": [
    "def categorize_income(income):\n",
    "    try:\n",
    "        if 0 <= income <= 30000:\n",
    "            return 'E'\n",
    "        elif 30001 <= income <= 50000:\n",
    "            return 'D'\n",
    "        elif 50001 <= income <= 200000:\n",
    "            return 'C'\n",
    "        elif 200001 <= income <= 1000000:\n",
    "            return 'B'\n",
    "        elif income >= 1000001:\n",
    "            return 'A'\n",
    "    except:\n",
    "        pass"
   ]
  },
  {
   "cell_type": "code",
   "execution_count": 18,
   "id": "0980ada1",
   "metadata": {
    "deletable": false,
    "id": "0980ada1"
   },
   "outputs": [],
   "source": [
    "data['total_income_category'] = data['total_income'].apply(categorize_income)"
   ]
  },
  {
   "cell_type": "markdown",
   "id": "9917bba0",
   "metadata": {
    "deletable": false,
    "editable": false,
    "id": "9917bba0"
   },
   "source": [
    "**Задание 17. Выведите на экран перечень уникальных целей взятия кредита из столбца `purpose`.**"
   ]
  },
  {
   "cell_type": "code",
   "execution_count": 19,
   "id": "ee07b65e",
   "metadata": {
    "deletable": false,
    "id": "ee07b65e",
    "outputId": "673c12d9-7d7e-4ae0-9812-c622c89dd244"
   },
   "outputs": [
    {
     "data": {
      "text/plain": [
       "array(['покупка жилья', 'приобретение автомобиля',\n",
       "       'дополнительное образование', 'сыграть свадьбу',\n",
       "       'операции с жильем', 'образование', 'на проведение свадьбы',\n",
       "       'покупка жилья для семьи', 'покупка недвижимости',\n",
       "       'покупка коммерческой недвижимости', 'покупка жилой недвижимости',\n",
       "       'строительство собственной недвижимости', 'недвижимость',\n",
       "       'строительство недвижимости', 'на покупку подержанного автомобиля',\n",
       "       'на покупку своего автомобиля',\n",
       "       'операции с коммерческой недвижимостью',\n",
       "       'строительство жилой недвижимости', 'жилье',\n",
       "       'операции со своей недвижимостью', 'автомобили',\n",
       "       'заняться образованием', 'сделка с подержанным автомобилем',\n",
       "       'получение образования', 'автомобиль', 'свадьба',\n",
       "       'получение дополнительного образования', 'покупка своего жилья',\n",
       "       'операции с недвижимостью', 'получение высшего образования',\n",
       "       'свой автомобиль', 'сделка с автомобилем',\n",
       "       'профильное образование', 'высшее образование',\n",
       "       'покупка жилья для сдачи', 'на покупку автомобиля', 'ремонт жилью',\n",
       "       'заняться высшим образованием'], dtype=object)"
      ]
     },
     "execution_count": 19,
     "metadata": {},
     "output_type": "execute_result"
    }
   ],
   "source": [
    "data['purpose'].unique()"
   ]
  },
  {
   "cell_type": "markdown",
   "id": "52b79d56",
   "metadata": {
    "deletable": false,
    "editable": false,
    "id": "52b79d56"
   },
   "source": [
    "**Задание 18. Создайте функцию, которая на основании данных из столбца `purpose` сформирует новый столбец `purpose_category`, в который войдут следующие категории:**\n",
    "\n",
    "- `'операции с автомобилем'`,\n",
    "- `'операции с недвижимостью'`,\n",
    "- `'проведение свадьбы'`,\n",
    "- `'получение образования'`.\n",
    "\n",
    "**Например, если в столбце `purpose` находится подстрока `'на покупку автомобиля'`, то в столбце `purpose_category` должна появиться строка `'операции с автомобилем'`.**\n",
    "\n",
    "**Используйте собственную функцию с именем `categorize_purpose()` и метод `apply()`. Изучите данные в столбце `purpose` и определите, какие подстроки помогут вам правильно определить категорию.**"
   ]
  },
  {
   "cell_type": "code",
   "execution_count": 20,
   "id": "be41da5d",
   "metadata": {
    "deletable": false,
    "id": "be41da5d"
   },
   "outputs": [],
   "source": [
    "def categorize_purpose(row):\n",
    "    try:\n",
    "        if 'автом' in row:\n",
    "            return 'операции с автомобилем'\n",
    "        elif 'жил' in row or 'недвиж' in row:\n",
    "            return 'операции с недвижимостью'\n",
    "        elif 'свад' in row:\n",
    "            return 'проведение свадьбы'\n",
    "        elif 'образов' in row:\n",
    "            return 'получение образования'\n",
    "    except:\n",
    "        return 'нет категории'"
   ]
  },
  {
   "cell_type": "code",
   "execution_count": 21,
   "id": "94c4a19a",
   "metadata": {
    "deletable": false,
    "id": "94c4a19a"
   },
   "outputs": [],
   "source": [
    "data['purpose_category'] = data['purpose'].apply(categorize_purpose)"
   ]
  },
  {
   "cell_type": "markdown",
   "id": "3d596c34",
   "metadata": {
    "deletable": false,
    "editable": false,
    "id": "3d596c34"
   },
   "source": [
    "### Шаг 3. Исследуйте данные и ответьте на вопросы"
   ]
  },
  {
   "cell_type": "markdown",
   "id": "648db036",
   "metadata": {
    "deletable": false,
    "editable": false,
    "id": "648db036"
   },
   "source": [
    "#### 3.1 Есть ли зависимость между количеством детей и возвратом кредита в срок?"
   ]
  },
  {
   "cell_type": "code",
   "execution_count": 48,
   "id": "7fcff25e",
   "metadata": {
    "deletable": false,
    "id": "7fcff25e"
   },
   "outputs": [
    {
     "data": {
      "text/html": [
       "<div>\n",
       "<style scoped>\n",
       "    .dataframe tbody tr th:only-of-type {\n",
       "        vertical-align: middle;\n",
       "    }\n",
       "\n",
       "    .dataframe tbody tr th {\n",
       "        vertical-align: top;\n",
       "    }\n",
       "\n",
       "    .dataframe thead th {\n",
       "        text-align: right;\n",
       "    }\n",
       "</style>\n",
       "<table border=\"1\" class=\"dataframe\">\n",
       "  <thead>\n",
       "    <tr style=\"text-align: right;\">\n",
       "      <th></th>\n",
       "      <th>sum</th>\n",
       "      <th>count</th>\n",
       "      <th>mean</th>\n",
       "    </tr>\n",
       "    <tr>\n",
       "      <th>children</th>\n",
       "      <th></th>\n",
       "      <th></th>\n",
       "      <th></th>\n",
       "    </tr>\n",
       "  </thead>\n",
       "  <tbody>\n",
       "    <tr>\n",
       "      <th>4</th>\n",
       "      <td>4</td>\n",
       "      <td>41</td>\n",
       "      <td>9.8%</td>\n",
       "    </tr>\n",
       "    <tr>\n",
       "      <th>2</th>\n",
       "      <td>194</td>\n",
       "      <td>2052</td>\n",
       "      <td>9.5%</td>\n",
       "    </tr>\n",
       "    <tr>\n",
       "      <th>1</th>\n",
       "      <td>444</td>\n",
       "      <td>4808</td>\n",
       "      <td>9.2%</td>\n",
       "    </tr>\n",
       "    <tr>\n",
       "      <th>3</th>\n",
       "      <td>27</td>\n",
       "      <td>330</td>\n",
       "      <td>8.2%</td>\n",
       "    </tr>\n",
       "    <tr>\n",
       "      <th>0</th>\n",
       "      <td>1063</td>\n",
       "      <td>14091</td>\n",
       "      <td>7.5%</td>\n",
       "    </tr>\n",
       "    <tr>\n",
       "      <th>5</th>\n",
       "      <td>0</td>\n",
       "      <td>9</td>\n",
       "      <td>0.0%</td>\n",
       "    </tr>\n",
       "  </tbody>\n",
       "</table>\n",
       "</div>"
      ],
      "text/plain": [
       "           sum  count  mean\n",
       "children                   \n",
       "4            4     41  9.8%\n",
       "2          194   2052  9.5%\n",
       "1          444   4808  9.2%\n",
       "3           27    330  8.2%\n",
       "0         1063  14091  7.5%\n",
       "5            0      9  0.0%"
      ]
     },
     "execution_count": 48,
     "metadata": {},
     "output_type": "execute_result"
    }
   ],
   "source": [
    "# Группируем данные по наличию детей и по возврату кредита, нахоидим доли возврата и сортируем данные по долям по убыванию для наглядности\n",
    "correlation_children = data.groupby(by = 'children')['debt'].agg(['sum', 'count', 'mean']).sort_values(by = 'mean', ascending = False)\n",
    "# Переводим данные в проценты\n",
    "correlation_children['mean'] = correlation_children['mean'].map('{:.1%}'.format)\n",
    "correlation_children"
   ]
  },
  {
   "cell_type": "markdown",
   "id": "a18df07c",
   "metadata": {},
   "source": [
    "<div style=\"border:solid Chocolate 2px; padding: 40px\">\n",
    "Вывод: количество детей влияет на возврат кредита в срок. Самый высокий процент по просрочке наблюдается у заемщиков с 4-мя детьми - 9,8%. Самыми надежными заемщиками являются заемщики без детей - 7,5% (по количеству их также в несколько раз больше, чем количество заемщиков с детьми, значит они активнее берут кредит). По таблице видно, что не у всех категорий достаточно данных, а именно у клиентов с 3-мя, 4-мя и 5-ю детьми. Поэтому нужно рассматривать зависимость, исходя из данных по клиентам с одним ребенком, двумя и по заемщикам без детей. Тем не менее, если рассматривать только эти три группы, прослеживается корреляция: чем больше детей - тем меньше вероятность выплаты кредита в срок."
   ]
  },
  {
   "cell_type": "markdown",
   "id": "74c9b3a7",
   "metadata": {
    "deletable": false,
    "editable": false,
    "id": "74c9b3a7"
   },
   "source": [
    "#### 3.2 Есть ли зависимость между семейным положением и возвратом кредита в срок?"
   ]
  },
  {
   "cell_type": "code",
   "execution_count": 49,
   "id": "8098ab3b",
   "metadata": {
    "deletable": false,
    "id": "8098ab3b"
   },
   "outputs": [
    {
     "data": {
      "text/html": [
       "<div>\n",
       "<style scoped>\n",
       "    .dataframe tbody tr th:only-of-type {\n",
       "        vertical-align: middle;\n",
       "    }\n",
       "\n",
       "    .dataframe tbody tr th {\n",
       "        vertical-align: top;\n",
       "    }\n",
       "\n",
       "    .dataframe thead th {\n",
       "        text-align: right;\n",
       "    }\n",
       "</style>\n",
       "<table border=\"1\" class=\"dataframe\">\n",
       "  <thead>\n",
       "    <tr style=\"text-align: right;\">\n",
       "      <th></th>\n",
       "      <th>sum</th>\n",
       "      <th>count</th>\n",
       "      <th>mean</th>\n",
       "    </tr>\n",
       "    <tr>\n",
       "      <th>family_status</th>\n",
       "      <th></th>\n",
       "      <th></th>\n",
       "      <th></th>\n",
       "    </tr>\n",
       "  </thead>\n",
       "  <tbody>\n",
       "    <tr>\n",
       "      <th>Не женат / не замужем</th>\n",
       "      <td>273</td>\n",
       "      <td>2796</td>\n",
       "      <td>9.8%</td>\n",
       "    </tr>\n",
       "    <tr>\n",
       "      <th>гражданский брак</th>\n",
       "      <td>385</td>\n",
       "      <td>4134</td>\n",
       "      <td>9.3%</td>\n",
       "    </tr>\n",
       "    <tr>\n",
       "      <th>женат / замужем</th>\n",
       "      <td>927</td>\n",
       "      <td>12261</td>\n",
       "      <td>7.6%</td>\n",
       "    </tr>\n",
       "    <tr>\n",
       "      <th>в разводе</th>\n",
       "      <td>84</td>\n",
       "      <td>1189</td>\n",
       "      <td>7.1%</td>\n",
       "    </tr>\n",
       "    <tr>\n",
       "      <th>вдовец / вдова</th>\n",
       "      <td>63</td>\n",
       "      <td>951</td>\n",
       "      <td>6.6%</td>\n",
       "    </tr>\n",
       "  </tbody>\n",
       "</table>\n",
       "</div>"
      ],
      "text/plain": [
       "                       sum  count  mean\n",
       "family_status                          \n",
       "Не женат / не замужем  273   2796  9.8%\n",
       "гражданский брак       385   4134  9.3%\n",
       "женат / замужем        927  12261  7.6%\n",
       "в разводе               84   1189  7.1%\n",
       "вдовец / вдова          63    951  6.6%"
      ]
     },
     "execution_count": 49,
     "metadata": {},
     "output_type": "execute_result"
    }
   ],
   "source": [
    "# Хотела объединить данные по статусам \"в разводе\" и \"вдовцы\", но не получается сделать это через loc, как ниже. Может подскажете почему?\n",
    "data.loc[(data['family_status'] == 'вдовец / вдова') & (data['family_status'] == 'в разводе'), 'family_status'] = 'вдовцы/разведены'\n",
    "# Группируем статусы с данными по возврату кредита, находим доли по возрврату и сортируем по убыванию для наглядности\n",
    "correlation_family_status = data.groupby(by = 'family_status')['debt'].agg(['sum', 'count', 'mean']).sort_values(by = 'mean', ascending = False)\n",
    "# Переводим доли в проценты\n",
    "correlation_family_status['mean'] = correlation_family_status['mean'].map('{:.1%}'.format)\n",
    "correlation_family_status"
   ]
  },
  {
   "cell_type": "markdown",
   "id": "c389ca63",
   "metadata": {
    "deletable": false,
    "id": "c389ca63"
   },
   "source": [
    "**Вывод:** Зависимость **есть**. Самыми ненадежными заемщиками являются неженатые и незамужние - 9,8%. Больше всего кредит берут женатые пары, однако процент по задолжности у них находится на третьем месте по убыванию, что говорит в положительную сторону. Самыми надежными являются заемщики в разводе и вдовцы."
   ]
  },
  {
   "cell_type": "markdown",
   "id": "9529de68",
   "metadata": {
    "deletable": false,
    "editable": false,
    "id": "9529de68"
   },
   "source": [
    "#### 3.3 Есть ли зависимость между уровнем дохода и возвратом кредита в срок?"
   ]
  },
  {
   "cell_type": "code",
   "execution_count": 41,
   "id": "8787f44a",
   "metadata": {
    "deletable": false,
    "id": "8787f44a"
   },
   "outputs": [
    {
     "data": {
      "text/html": [
       "<div>\n",
       "<style scoped>\n",
       "    .dataframe tbody tr th:only-of-type {\n",
       "        vertical-align: middle;\n",
       "    }\n",
       "\n",
       "    .dataframe tbody tr th {\n",
       "        vertical-align: top;\n",
       "    }\n",
       "\n",
       "    .dataframe thead th {\n",
       "        text-align: right;\n",
       "    }\n",
       "</style>\n",
       "<table border=\"1\" class=\"dataframe\">\n",
       "  <thead>\n",
       "    <tr style=\"text-align: right;\">\n",
       "      <th></th>\n",
       "      <th>sum</th>\n",
       "      <th>count</th>\n",
       "      <th>mean</th>\n",
       "    </tr>\n",
       "    <tr>\n",
       "      <th>total_income_category</th>\n",
       "      <th></th>\n",
       "      <th></th>\n",
       "      <th></th>\n",
       "    </tr>\n",
       "  </thead>\n",
       "  <tbody>\n",
       "    <tr>\n",
       "      <th>100000-150000</th>\n",
       "      <td>619</td>\n",
       "      <td>7110</td>\n",
       "      <td>8.7%</td>\n",
       "    </tr>\n",
       "    <tr>\n",
       "      <th>150000-200000</th>\n",
       "      <td>403</td>\n",
       "      <td>4738</td>\n",
       "      <td>8.5%</td>\n",
       "    </tr>\n",
       "    <tr>\n",
       "      <th>200000-300000</th>\n",
       "      <td>250</td>\n",
       "      <td>3565</td>\n",
       "      <td>7.0%</td>\n",
       "    </tr>\n",
       "    <tr>\n",
       "      <th>&lt;100000</th>\n",
       "      <td>354</td>\n",
       "      <td>4444</td>\n",
       "      <td>8.0%</td>\n",
       "    </tr>\n",
       "    <tr>\n",
       "      <th>&gt;300000</th>\n",
       "      <td>106</td>\n",
       "      <td>1474</td>\n",
       "      <td>7.2%</td>\n",
       "    </tr>\n",
       "  </tbody>\n",
       "</table>\n",
       "</div>"
      ],
      "text/plain": [
       "                       sum  count  mean\n",
       "total_income_category                  \n",
       "100000-150000          619   7110  8.7%\n",
       "150000-200000          403   4738  8.5%\n",
       "200000-300000          250   3565  7.0%\n",
       "<100000                354   4444  8.0%\n",
       ">300000                106   1474  7.2%"
      ]
     },
     "execution_count": 41,
     "metadata": {},
     "output_type": "execute_result"
    }
   ],
   "source": [
    "# Создадим функцию для распределения дохода по категориям\n",
    "def income_category(income):\n",
    "    if income < 100000:\n",
    "        return '<100000'\n",
    "    if 100000 <= income <= 150000:\n",
    "        return '100000-150000'\n",
    "    if 150000 <= income <= 200000:\n",
    "        return '150000-200000'\n",
    "    if 200000 <= income <= 300000:\n",
    "        return '200000-300000'\n",
    "    return '>300000'\n",
    "# Создадим новую колонку в датасете и применим функцию\n",
    "data['total_income_category'] = data['total_income'].apply(income_category)\n",
    "# Группируем категории дохода с данными по возврату кредита, находим доли\n",
    "correlation_total_income = data.groupby(by = 'total_income_category')['debt'].agg(['sum', 'count', 'mean'])\n",
    "# Переводим доли в проценты\n",
    "correlation_total_income['mean'] = correlation_total_income['mean'].map('{:.1%}'.format)\n",
    "correlation_total_income"
   ]
  },
  {
   "cell_type": "markdown",
   "id": "5a372586",
   "metadata": {},
   "source": [
    "<div style=\"border:solid Chocolate 2px; padding: 40px\">\n",
    "Вывод: Самая высокая вероятность невыплаты кредита в срок наблюдается у заемщиков с доходом 100-150 тыс. рублей - 8,7%. На втором месте заемщики с доходом 150-200 тысяч рублей. Самыми надежными клиентами в данном случае можно считать заемщиков с доходом 200-300 тысяч рублей - у них самый низкий процент по задолжности - 7,0%. Близки к ним клиенты с доходом выше 300 тыс. руб., но тем не менее процент по задолжности чуть выше - 7,2%. Если обратить внимание только на группы клиентов с доходом 100-150 и 150-200 тыс. руб., то можно сделать вывод, что в данном случае чем выше доход, тем выше вероятность возврата кредита в срок."
   ]
  },
  {
   "cell_type": "markdown",
   "id": "1dcc9b12",
   "metadata": {
    "deletable": false,
    "editable": false,
    "id": "1dcc9b12"
   },
   "source": [
    "#### 3.4 Как разные цели кредита влияют на его возврат в срок?"
   ]
  },
  {
   "cell_type": "code",
   "execution_count": 52,
   "id": "c602bc8b",
   "metadata": {
    "deletable": false,
    "id": "c602bc8b"
   },
   "outputs": [
    {
     "data": {
      "text/html": [
       "<div>\n",
       "<style scoped>\n",
       "    .dataframe tbody tr th:only-of-type {\n",
       "        vertical-align: middle;\n",
       "    }\n",
       "\n",
       "    .dataframe tbody tr th {\n",
       "        vertical-align: top;\n",
       "    }\n",
       "\n",
       "    .dataframe thead th {\n",
       "        text-align: right;\n",
       "    }\n",
       "</style>\n",
       "<table border=\"1\" class=\"dataframe\">\n",
       "  <thead>\n",
       "    <tr style=\"text-align: right;\">\n",
       "      <th></th>\n",
       "      <th>sum</th>\n",
       "      <th>count</th>\n",
       "      <th>mean</th>\n",
       "    </tr>\n",
       "    <tr>\n",
       "      <th>purpose_category</th>\n",
       "      <th></th>\n",
       "      <th></th>\n",
       "      <th></th>\n",
       "    </tr>\n",
       "  </thead>\n",
       "  <tbody>\n",
       "    <tr>\n",
       "      <th>операции с автомобилем</th>\n",
       "      <td>400</td>\n",
       "      <td>4279</td>\n",
       "      <td>9.3%</td>\n",
       "    </tr>\n",
       "    <tr>\n",
       "      <th>получение образования</th>\n",
       "      <td>369</td>\n",
       "      <td>3988</td>\n",
       "      <td>9.3%</td>\n",
       "    </tr>\n",
       "    <tr>\n",
       "      <th>проведение свадьбы</th>\n",
       "      <td>183</td>\n",
       "      <td>2313</td>\n",
       "      <td>7.9%</td>\n",
       "    </tr>\n",
       "    <tr>\n",
       "      <th>операции с недвижимостью</th>\n",
       "      <td>780</td>\n",
       "      <td>10751</td>\n",
       "      <td>7.3%</td>\n",
       "    </tr>\n",
       "  </tbody>\n",
       "</table>\n",
       "</div>"
      ],
      "text/plain": [
       "                          sum  count  mean\n",
       "purpose_category                          \n",
       "операции с автомобилем    400   4279  9.3%\n",
       "получение образования     369   3988  9.3%\n",
       "проведение свадьбы        183   2313  7.9%\n",
       "операции с недвижимостью  780  10751  7.3%"
      ]
     },
     "execution_count": 52,
     "metadata": {},
     "output_type": "execute_result"
    }
   ],
   "source": [
    "# сгруппируем категории цетей и выявим доли по возврату кредита, отсортируем по убыванию долей для наглядности \n",
    "correlation_purpose_category = data.groupby(by = 'purpose_category')['debt'].agg(['sum', 'count', 'mean']).sort_values(by = 'mean', ascending = False)\n",
    "# переведем доли в проценты\n",
    "correlation_purpose_category['mean'] = correlation_purpose_category['mean'].map('{:.1%}'.format)\n",
    "correlation_purpose_category"
   ]
  },
  {
   "cell_type": "markdown",
   "id": "cf05ed63",
   "metadata": {
    "deletable": false,
    "id": "cf05ed63"
   },
   "source": [
    "**Вывод:** Самый низкий процент по задолжности наблюдается у заемщиков, которые берут кредит на недвижимость - 7,3%, по количеству заемщиков с такой целью их также больше, чем других. Самыми ненадежными заемщиками в данном случае являются заемщики с целями на автомобиль и образование - одинаковый процент в 9,3%.  "
   ]
  },
  {
   "cell_type": "markdown",
   "id": "46c1f10b",
   "metadata": {
    "deletable": false,
    "editable": false,
    "id": "46c1f10b"
   },
   "source": [
    "#### 3.5 Приведите возможные причины появления пропусков в исходных данных."
   ]
  },
  {
   "cell_type": "markdown",
   "id": "3697d2a9",
   "metadata": {
    "deletable": false,
    "id": "3697d2a9"
   },
   "source": [
    "*Ответ:* \n",
    "\n",
    "К причинам появления пропусков можно отнести: \n",
    "* Некорректный ввод данных - то есть пользователь ошибочно ввел данные или забыл их внести\n",
    "* Сбои при передаче данных или повреждение файлов\n",
    "* Ошибки при обработке данных - например ошибки парсинга данных\n"
   ]
  },
  {
   "cell_type": "markdown",
   "id": "3137d257",
   "metadata": {
    "deletable": false,
    "editable": false,
    "id": "3137d257"
   },
   "source": [
    "#### 3.6 Объясните, почему заполнить пропуски медианным значением — лучшее решение для количественных переменных."
   ]
  },
  {
   "cell_type": "markdown",
   "id": "cf40012a",
   "metadata": {
    "deletable": false,
    "id": "cf40012a"
   },
   "source": [
    "*Ответ:* Медиана является лучшим решением для заполнения пропущенных значений в тех случаях, когда распределение переменной имеет экстремальные значения, которые могут привести к смещению среднего значения (то есть медиана устойчива к выбросам)"
   ]
  },
  {
   "cell_type": "markdown",
   "id": "57bc304e",
   "metadata": {
    "deletable": false,
    "editable": false,
    "id": "57bc304e"
   },
   "source": [
    "### Шаг 4: общий вывод."
   ]
  },
  {
   "cell_type": "markdown",
   "id": "e66e5513",
   "metadata": {},
   "source": [
    "<div style=\"border:solid Chocolate 2px; padding: 40px\">\n",
    "Вывод: по результатам анализа мы выявили несколько зависимостей, которые могут быть полезны для дальнейшей работы с клиентами. Во-первых: чем больше детей у заемщика - тем ниже вероятность возврата кредита в нужный срок. Во-вторых: клиенты, которые находятся в браке или побывали в нем, реже допускают задолжности по возврату кредита. В-третьих: кредиты на недвижимость и на образование чаще остальных выплачиваются в срок. В-четыертых: чаще всего кредит не выплачивают в срок клиенты с доходом от 100 до 150 тыс. руб. Можно было бы также более углубленно посмотреть корреляцию, например как соотносятся вместе цели кредита, наличие детей и опыт в браке."
   ]
  },
  {
   "cell_type": "markdown",
   "id": "1ab75d1c",
   "metadata": {
    "deletable": false,
    "id": "1ab75d1c"
   },
   "source": []
  },
  {
   "cell_type": "markdown",
   "id": "2eb9088e",
   "metadata": {
    "deletable": false,
    "id": "2eb9088e"
   },
   "source": []
  },
  {
   "cell_type": "markdown",
   "id": "6dd14b57",
   "metadata": {
    "deletable": false,
    "id": "6dd14b57"
   },
   "source": []
  }
 ],
 "metadata": {
  "ExecuteTimeLog": [
   {
    "duration": 503,
    "start_time": "2023-04-02T07:40:12.675Z"
   },
   {
    "duration": 25,
    "start_time": "2023-04-02T07:40:13.180Z"
   },
   {
    "duration": 16,
    "start_time": "2023-04-02T07:40:13.304Z"
   },
   {
    "duration": 14,
    "start_time": "2023-04-02T07:40:13.910Z"
   },
   {
    "duration": 35,
    "start_time": "2023-04-02T07:40:14.235Z"
   },
   {
    "duration": 4,
    "start_time": "2023-04-02T07:40:14.713Z"
   },
   {
    "duration": 9,
    "start_time": "2023-04-02T07:40:15.045Z"
   },
   {
    "duration": 5,
    "start_time": "2023-04-02T07:40:15.523Z"
   },
   {
    "duration": 8,
    "start_time": "2023-04-02T07:40:15.823Z"
   },
   {
    "duration": 4,
    "start_time": "2023-04-02T07:40:16.156Z"
   },
   {
    "duration": 34,
    "start_time": "2023-04-02T07:40:16.663Z"
   },
   {
    "duration": 9,
    "start_time": "2023-04-02T07:40:17.003Z"
   },
   {
    "duration": 3,
    "start_time": "2023-04-02T07:40:17.503Z"
   },
   {
    "duration": 12,
    "start_time": "2023-04-02T07:40:18.252Z"
   },
   {
    "duration": 21,
    "start_time": "2023-04-02T07:40:18.327Z"
   },
   {
    "duration": 18,
    "start_time": "2023-04-02T07:40:18.494Z"
   },
   {
    "duration": 3,
    "start_time": "2023-04-02T07:40:18.995Z"
   },
   {
    "duration": 11,
    "start_time": "2023-04-02T07:40:19.151Z"
   },
   {
    "duration": 6,
    "start_time": "2023-04-02T07:40:19.461Z"
   },
   {
    "duration": 4,
    "start_time": "2023-04-02T07:40:19.915Z"
   },
   {
    "duration": 9,
    "start_time": "2023-04-02T07:40:20.069Z"
   },
   {
    "duration": 77,
    "start_time": "2023-04-02T07:40:20.631Z"
   },
   {
    "duration": 66,
    "start_time": "2023-04-02T07:45:27.060Z"
   },
   {
    "duration": 53,
    "start_time": "2023-04-02T07:45:33.891Z"
   },
   {
    "duration": 10,
    "start_time": "2023-04-02T07:45:43.892Z"
   },
   {
    "duration": 2,
    "start_time": "2023-04-02T07:48:31.972Z"
   },
   {
    "duration": 65,
    "start_time": "2023-04-02T07:48:42.695Z"
   },
   {
    "duration": 16,
    "start_time": "2023-04-02T07:48:43.028Z"
   },
   {
    "duration": 16,
    "start_time": "2023-04-02T07:48:43.343Z"
   },
   {
    "duration": 10,
    "start_time": "2023-04-02T07:48:43.996Z"
   },
   {
    "duration": 35,
    "start_time": "2023-04-02T07:48:44.345Z"
   },
   {
    "duration": 4,
    "start_time": "2023-04-02T07:48:44.847Z"
   },
   {
    "duration": 8,
    "start_time": "2023-04-02T07:48:45.201Z"
   },
   {
    "duration": 5,
    "start_time": "2023-04-02T07:48:45.730Z"
   },
   {
    "duration": 6,
    "start_time": "2023-04-02T07:48:46.071Z"
   },
   {
    "duration": 4,
    "start_time": "2023-04-02T07:48:46.433Z"
   },
   {
    "duration": 34,
    "start_time": "2023-04-02T07:48:46.965Z"
   },
   {
    "duration": 9,
    "start_time": "2023-04-02T07:48:47.343Z"
   },
   {
    "duration": 3,
    "start_time": "2023-04-02T07:48:47.859Z"
   },
   {
    "duration": 15,
    "start_time": "2023-04-02T07:48:48.760Z"
   },
   {
    "duration": 21,
    "start_time": "2023-04-02T07:48:49.307Z"
   },
   {
    "duration": 18,
    "start_time": "2023-04-02T07:48:49.492Z"
   },
   {
    "duration": 4,
    "start_time": "2023-04-02T07:48:50.023Z"
   },
   {
    "duration": 12,
    "start_time": "2023-04-02T07:48:50.327Z"
   },
   {
    "duration": 6,
    "start_time": "2023-04-02T07:48:50.647Z"
   },
   {
    "duration": 3,
    "start_time": "2023-04-02T07:48:51.033Z"
   },
   {
    "duration": 16,
    "start_time": "2023-04-02T07:48:51.633Z"
   },
   {
    "duration": 12,
    "start_time": "2023-04-02T07:48:53.313Z"
   },
   {
    "duration": 26,
    "start_time": "2023-04-02T07:51:34.295Z"
   },
   {
    "duration": 27,
    "start_time": "2023-04-02T07:52:13.779Z"
   },
   {
    "duration": 27,
    "start_time": "2023-04-02T07:53:19.294Z"
   },
   {
    "duration": 22,
    "start_time": "2023-04-02T07:56:55.850Z"
   },
   {
    "duration": 29,
    "start_time": "2023-04-02T07:57:03.569Z"
   },
   {
    "duration": 29,
    "start_time": "2023-04-02T07:57:26.131Z"
   },
   {
    "duration": 34,
    "start_time": "2023-04-02T07:57:31.205Z"
   },
   {
    "duration": 13,
    "start_time": "2023-04-02T08:00:53.028Z"
   },
   {
    "duration": 16,
    "start_time": "2023-04-02T08:04:00.814Z"
   },
   {
    "duration": 15,
    "start_time": "2023-04-02T08:05:50.852Z"
   },
   {
    "duration": 17,
    "start_time": "2023-04-02T08:11:45.896Z"
   },
   {
    "duration": 93,
    "start_time": "2023-04-02T08:12:12.721Z"
   },
   {
    "duration": 20,
    "start_time": "2023-04-02T08:12:13.026Z"
   },
   {
    "duration": 18,
    "start_time": "2023-04-02T08:12:13.315Z"
   },
   {
    "duration": 11,
    "start_time": "2023-04-02T08:12:13.960Z"
   },
   {
    "duration": 41,
    "start_time": "2023-04-02T08:12:14.298Z"
   },
   {
    "duration": 4,
    "start_time": "2023-04-02T08:12:14.800Z"
   },
   {
    "duration": 8,
    "start_time": "2023-04-02T08:12:15.163Z"
   },
   {
    "duration": 4,
    "start_time": "2023-04-02T08:12:15.712Z"
   },
   {
    "duration": 6,
    "start_time": "2023-04-02T08:12:16.066Z"
   },
   {
    "duration": 12,
    "start_time": "2023-04-02T08:12:16.426Z"
   },
   {
    "duration": 35,
    "start_time": "2023-04-02T08:12:16.966Z"
   },
   {
    "duration": 11,
    "start_time": "2023-04-02T08:12:17.325Z"
   },
   {
    "duration": 5,
    "start_time": "2023-04-02T08:12:18.693Z"
   },
   {
    "duration": 11,
    "start_time": "2023-04-02T08:12:19.200Z"
   },
   {
    "duration": 21,
    "start_time": "2023-04-02T08:12:19.501Z"
   },
   {
    "duration": 18,
    "start_time": "2023-04-02T08:12:19.663Z"
   },
   {
    "duration": 4,
    "start_time": "2023-04-02T08:12:20.448Z"
   },
   {
    "duration": 11,
    "start_time": "2023-04-02T08:12:21.019Z"
   },
   {
    "duration": 7,
    "start_time": "2023-04-02T08:12:21.466Z"
   },
   {
    "duration": 3,
    "start_time": "2023-04-02T08:12:23.039Z"
   },
   {
    "duration": 13,
    "start_time": "2023-04-02T08:12:23.714Z"
   },
   {
    "duration": 13,
    "start_time": "2023-04-02T08:12:25.290Z"
   },
   {
    "duration": 17,
    "start_time": "2023-04-02T08:12:28.649Z"
   },
   {
    "duration": 8,
    "start_time": "2023-04-02T08:16:04.992Z"
   },
   {
    "duration": 12,
    "start_time": "2023-04-02T08:16:40.113Z"
   },
   {
    "duration": 18,
    "start_time": "2023-04-02T08:17:35.145Z"
   },
   {
    "duration": 10,
    "start_time": "2023-04-02T08:18:00.169Z"
   },
   {
    "duration": 9,
    "start_time": "2023-04-02T08:18:49.850Z"
   },
   {
    "duration": 9,
    "start_time": "2023-04-02T08:19:10.413Z"
   },
   {
    "duration": 8,
    "start_time": "2023-04-02T08:19:33.125Z"
   },
   {
    "duration": 9,
    "start_time": "2023-04-02T08:21:52.261Z"
   },
   {
    "duration": 8,
    "start_time": "2023-04-02T08:25:35.619Z"
   },
   {
    "duration": 9,
    "start_time": "2023-04-02T08:25:37.384Z"
   },
   {
    "duration": 69,
    "start_time": "2023-04-02T08:25:48.688Z"
   },
   {
    "duration": 17,
    "start_time": "2023-04-02T08:25:49.021Z"
   },
   {
    "duration": 16,
    "start_time": "2023-04-02T08:25:49.342Z"
   },
   {
    "duration": 9,
    "start_time": "2023-04-02T08:25:49.999Z"
   },
   {
    "duration": 44,
    "start_time": "2023-04-02T08:25:50.328Z"
   },
   {
    "duration": 4,
    "start_time": "2023-04-02T08:25:50.898Z"
   },
   {
    "duration": 9,
    "start_time": "2023-04-02T08:25:51.355Z"
   },
   {
    "duration": 5,
    "start_time": "2023-04-02T08:25:52.070Z"
   },
   {
    "duration": 8,
    "start_time": "2023-04-02T08:25:52.370Z"
   },
   {
    "duration": 6,
    "start_time": "2023-04-02T08:25:52.726Z"
   },
   {
    "duration": 33,
    "start_time": "2023-04-02T08:25:53.288Z"
   },
   {
    "duration": 10,
    "start_time": "2023-04-02T08:25:53.612Z"
   },
   {
    "duration": 4,
    "start_time": "2023-04-02T08:25:54.144Z"
   },
   {
    "duration": 13,
    "start_time": "2023-04-02T08:25:54.737Z"
   },
   {
    "duration": 21,
    "start_time": "2023-04-02T08:25:55.084Z"
   },
   {
    "duration": 18,
    "start_time": "2023-04-02T08:25:55.277Z"
   },
   {
    "duration": 4,
    "start_time": "2023-04-02T08:25:56.032Z"
   },
   {
    "duration": 11,
    "start_time": "2023-04-02T08:25:56.532Z"
   },
   {
    "duration": 7,
    "start_time": "2023-04-02T08:25:57.372Z"
   },
   {
    "duration": 3,
    "start_time": "2023-04-02T08:25:58.221Z"
   },
   {
    "duration": 9,
    "start_time": "2023-04-02T08:25:58.645Z"
   },
   {
    "duration": 12,
    "start_time": "2023-04-02T08:25:59.315Z"
   },
   {
    "duration": 19,
    "start_time": "2023-04-02T08:26:01.752Z"
   },
   {
    "duration": 18,
    "start_time": "2023-04-02T08:26:21.164Z"
   },
   {
    "duration": 18,
    "start_time": "2023-04-02T08:26:43.710Z"
   },
   {
    "duration": 17,
    "start_time": "2023-04-02T08:27:07.093Z"
   },
   {
    "duration": 8,
    "start_time": "2023-04-02T08:27:24.798Z"
   },
   {
    "duration": 12,
    "start_time": "2023-04-02T08:27:30.648Z"
   },
   {
    "duration": 11,
    "start_time": "2023-04-02T08:27:57.624Z"
   },
   {
    "duration": 4,
    "start_time": "2023-04-02T08:28:30.790Z"
   },
   {
    "duration": 8,
    "start_time": "2023-04-02T08:28:46.177Z"
   },
   {
    "duration": 69,
    "start_time": "2023-04-02T08:29:08.072Z"
   },
   {
    "duration": 17,
    "start_time": "2023-04-02T08:29:08.395Z"
   },
   {
    "duration": 16,
    "start_time": "2023-04-02T08:29:08.751Z"
   },
   {
    "duration": 12,
    "start_time": "2023-04-02T08:29:09.441Z"
   },
   {
    "duration": 37,
    "start_time": "2023-04-02T08:29:09.819Z"
   },
   {
    "duration": 5,
    "start_time": "2023-04-02T08:29:10.367Z"
   },
   {
    "duration": 9,
    "start_time": "2023-04-02T08:29:11.229Z"
   },
   {
    "duration": 5,
    "start_time": "2023-04-02T08:29:12.464Z"
   },
   {
    "duration": 7,
    "start_time": "2023-04-02T08:29:12.995Z"
   },
   {
    "duration": 5,
    "start_time": "2023-04-02T08:29:13.425Z"
   },
   {
    "duration": 37,
    "start_time": "2023-04-02T08:29:14.152Z"
   },
   {
    "duration": 10,
    "start_time": "2023-04-02T08:29:14.622Z"
   },
   {
    "duration": 5,
    "start_time": "2023-04-02T08:29:15.537Z"
   },
   {
    "duration": 11,
    "start_time": "2023-04-02T08:29:16.926Z"
   },
   {
    "duration": 21,
    "start_time": "2023-04-02T08:29:17.904Z"
   },
   {
    "duration": 18,
    "start_time": "2023-04-02T08:29:18.467Z"
   },
   {
    "duration": 4,
    "start_time": "2023-04-02T08:29:19.492Z"
   },
   {
    "duration": 10,
    "start_time": "2023-04-02T08:29:19.655Z"
   },
   {
    "duration": 8,
    "start_time": "2023-04-02T08:29:20.432Z"
   },
   {
    "duration": 3,
    "start_time": "2023-04-02T08:29:21.218Z"
   },
   {
    "duration": 9,
    "start_time": "2023-04-02T08:29:21.572Z"
   },
   {
    "duration": 12,
    "start_time": "2023-04-02T08:29:22.483Z"
   },
   {
    "duration": 22,
    "start_time": "2023-04-02T08:29:25.596Z"
   },
   {
    "duration": 17,
    "start_time": "2023-04-02T08:29:35.287Z"
   },
   {
    "duration": 18,
    "start_time": "2023-04-02T08:29:46.174Z"
   },
   {
    "duration": 18,
    "start_time": "2023-04-02T08:30:18.184Z"
   },
   {
    "duration": 21,
    "start_time": "2023-04-02T08:30:25.818Z"
   },
   {
    "duration": 18,
    "start_time": "2023-04-02T08:31:01.724Z"
   },
   {
    "duration": 28,
    "start_time": "2023-04-02T08:31:16.680Z"
   },
   {
    "duration": 10,
    "start_time": "2023-04-02T08:31:32.839Z"
   },
   {
    "duration": 10,
    "start_time": "2023-04-02T08:31:48.916Z"
   },
   {
    "duration": 8,
    "start_time": "2023-04-02T08:32:05.010Z"
   },
   {
    "duration": 7,
    "start_time": "2023-04-02T08:32:07.855Z"
   },
   {
    "duration": 19,
    "start_time": "2023-04-02T08:32:21.253Z"
   },
   {
    "duration": 7,
    "start_time": "2023-04-02T08:32:47.622Z"
   },
   {
    "duration": 8,
    "start_time": "2023-04-02T08:32:49.539Z"
   },
   {
    "duration": 8,
    "start_time": "2023-04-02T08:33:01.919Z"
   },
   {
    "duration": 27,
    "start_time": "2023-04-02T08:33:29.255Z"
   },
   {
    "duration": 7,
    "start_time": "2023-04-02T08:33:38.040Z"
   },
   {
    "duration": 7,
    "start_time": "2023-04-02T08:34:07.274Z"
   },
   {
    "duration": 18,
    "start_time": "2023-04-02T08:34:35.931Z"
   },
   {
    "duration": 18,
    "start_time": "2023-04-02T08:34:56.928Z"
   },
   {
    "duration": 19,
    "start_time": "2023-04-02T08:35:05.668Z"
   },
   {
    "duration": 17,
    "start_time": "2023-04-02T08:35:51.389Z"
   },
   {
    "duration": 19,
    "start_time": "2023-04-02T08:35:56.956Z"
   },
   {
    "duration": 18,
    "start_time": "2023-04-02T08:40:14.486Z"
   },
   {
    "duration": 13,
    "start_time": "2023-04-02T08:42:09.508Z"
   },
   {
    "duration": 13,
    "start_time": "2023-04-02T08:42:31.059Z"
   },
   {
    "duration": 18,
    "start_time": "2023-04-02T08:42:37.262Z"
   },
   {
    "duration": 18,
    "start_time": "2023-04-02T08:43:14.122Z"
   },
   {
    "duration": 21,
    "start_time": "2023-04-02T08:43:40.413Z"
   },
   {
    "duration": 20,
    "start_time": "2023-04-02T08:45:43.074Z"
   },
   {
    "duration": 25,
    "start_time": "2023-04-02T08:45:51.079Z"
   },
   {
    "duration": 21,
    "start_time": "2023-04-02T08:47:02.308Z"
   },
   {
    "duration": 12,
    "start_time": "2023-04-02T08:47:19.796Z"
   },
   {
    "duration": 9,
    "start_time": "2023-04-02T08:47:32.708Z"
   },
   {
    "duration": 11,
    "start_time": "2023-04-02T08:47:43.365Z"
   },
   {
    "duration": 8,
    "start_time": "2023-04-02T08:47:46.749Z"
   },
   {
    "duration": 4,
    "start_time": "2023-04-02T08:47:47.311Z"
   },
   {
    "duration": 8,
    "start_time": "2023-04-02T08:47:47.489Z"
   },
   {
    "duration": 68,
    "start_time": "2023-04-02T08:47:52.270Z"
   },
   {
    "duration": 16,
    "start_time": "2023-04-02T08:47:52.598Z"
   },
   {
    "duration": 15,
    "start_time": "2023-04-02T08:47:52.952Z"
   },
   {
    "duration": 11,
    "start_time": "2023-04-02T08:47:53.591Z"
   },
   {
    "duration": 35,
    "start_time": "2023-04-02T08:47:53.907Z"
   },
   {
    "duration": 3,
    "start_time": "2023-04-02T08:47:54.377Z"
   },
   {
    "duration": 9,
    "start_time": "2023-04-02T08:47:54.692Z"
   },
   {
    "duration": 5,
    "start_time": "2023-04-02T08:47:55.200Z"
   },
   {
    "duration": 7,
    "start_time": "2023-04-02T08:47:55.516Z"
   },
   {
    "duration": 5,
    "start_time": "2023-04-02T08:47:55.857Z"
   },
   {
    "duration": 34,
    "start_time": "2023-04-02T08:47:56.381Z"
   },
   {
    "duration": 16,
    "start_time": "2023-04-02T08:47:56.738Z"
   },
   {
    "duration": 4,
    "start_time": "2023-04-02T08:47:57.243Z"
   },
   {
    "duration": 11,
    "start_time": "2023-04-02T08:47:57.783Z"
   },
   {
    "duration": 21,
    "start_time": "2023-04-02T08:47:58.154Z"
   },
   {
    "duration": 19,
    "start_time": "2023-04-02T08:47:58.307Z"
   },
   {
    "duration": 3,
    "start_time": "2023-04-02T08:47:58.931Z"
   },
   {
    "duration": 11,
    "start_time": "2023-04-02T08:47:59.125Z"
   },
   {
    "duration": 6,
    "start_time": "2023-04-02T08:48:00.087Z"
   },
   {
    "duration": 4,
    "start_time": "2023-04-02T08:48:00.603Z"
   },
   {
    "duration": 10,
    "start_time": "2023-04-02T08:48:00.967Z"
   },
   {
    "duration": 15,
    "start_time": "2023-04-02T08:48:01.597Z"
   },
   {
    "duration": 21,
    "start_time": "2023-04-02T08:48:04.528Z"
   },
   {
    "duration": 19,
    "start_time": "2023-04-02T08:48:38.466Z"
   },
   {
    "duration": 19,
    "start_time": "2023-04-02T08:49:28.894Z"
   },
   {
    "duration": 20,
    "start_time": "2023-04-02T08:51:04.243Z"
   },
   {
    "duration": 19,
    "start_time": "2023-04-02T08:51:31.475Z"
   },
   {
    "duration": 21,
    "start_time": "2023-04-02T08:52:44.906Z"
   },
   {
    "duration": 20,
    "start_time": "2023-04-02T08:52:54.687Z"
   },
   {
    "duration": 24,
    "start_time": "2023-04-02T08:55:40.374Z"
   },
   {
    "duration": 14,
    "start_time": "2023-04-02T08:57:15.986Z"
   },
   {
    "duration": 11,
    "start_time": "2023-04-02T08:57:19.179Z"
   },
   {
    "duration": 11,
    "start_time": "2023-04-02T08:57:46.715Z"
   },
   {
    "duration": 4,
    "start_time": "2023-04-02T08:58:09.919Z"
   },
   {
    "duration": 10,
    "start_time": "2023-04-02T08:58:15.647Z"
   },
   {
    "duration": 11,
    "start_time": "2023-04-02T08:58:26.562Z"
   },
   {
    "duration": 6,
    "start_time": "2023-04-02T08:58:34.249Z"
   },
   {
    "duration": 6,
    "start_time": "2023-04-02T08:58:37.400Z"
   },
   {
    "duration": 3,
    "start_time": "2023-04-02T08:58:51.644Z"
   },
   {
    "duration": 9,
    "start_time": "2023-04-02T08:58:58.711Z"
   },
   {
    "duration": 26,
    "start_time": "2023-04-02T08:59:05.835Z"
   },
   {
    "duration": 13,
    "start_time": "2023-04-02T09:02:17.721Z"
   },
   {
    "duration": 12,
    "start_time": "2023-04-02T09:02:24.232Z"
   },
   {
    "duration": 22,
    "start_time": "2023-04-02T09:02:46.120Z"
   },
   {
    "duration": 11,
    "start_time": "2023-04-02T09:02:56.898Z"
   },
   {
    "duration": 8,
    "start_time": "2023-04-02T09:03:02.389Z"
   },
   {
    "duration": 8,
    "start_time": "2023-04-02T09:03:04.836Z"
   },
   {
    "duration": 4,
    "start_time": "2023-04-02T09:05:15.105Z"
   },
   {
    "duration": 5,
    "start_time": "2023-04-02T09:05:21.712Z"
   },
   {
    "duration": 187,
    "start_time": "2023-04-02T09:10:49.972Z"
   },
   {
    "duration": 29,
    "start_time": "2023-04-02T09:11:16.248Z"
   },
   {
    "duration": 13,
    "start_time": "2023-04-02T09:12:10.731Z"
   },
   {
    "duration": 26,
    "start_time": "2023-04-02T09:12:30.963Z"
   },
   {
    "duration": 22,
    "start_time": "2023-04-02T09:13:13.514Z"
   },
   {
    "duration": 27,
    "start_time": "2023-04-02T09:13:16.779Z"
   },
   {
    "duration": 20,
    "start_time": "2023-04-02T09:13:43.620Z"
   },
   {
    "duration": 15,
    "start_time": "2023-04-02T09:13:57.803Z"
   },
   {
    "duration": 80,
    "start_time": "2023-04-02T09:15:10.189Z"
   },
   {
    "duration": 17,
    "start_time": "2023-04-02T09:15:18.455Z"
   },
   {
    "duration": 16,
    "start_time": "2023-04-02T09:15:39.013Z"
   },
   {
    "duration": 17,
    "start_time": "2023-04-02T09:16:11.702Z"
   },
   {
    "duration": 17,
    "start_time": "2023-04-02T09:16:20.027Z"
   },
   {
    "duration": 16,
    "start_time": "2023-04-02T09:16:28.796Z"
   },
   {
    "duration": 10,
    "start_time": "2023-04-02T09:21:45.397Z"
   },
   {
    "duration": 14,
    "start_time": "2023-04-02T09:21:58.252Z"
   },
   {
    "duration": 15,
    "start_time": "2023-04-02T09:22:38.811Z"
   },
   {
    "duration": 20,
    "start_time": "2023-04-02T09:23:34.936Z"
   },
   {
    "duration": 24,
    "start_time": "2023-04-02T09:23:59.611Z"
   },
   {
    "duration": 23,
    "start_time": "2023-04-02T09:24:30.207Z"
   },
   {
    "duration": 21,
    "start_time": "2023-04-02T09:25:45.920Z"
   },
   {
    "duration": 21,
    "start_time": "2023-04-02T09:26:22.389Z"
   },
   {
    "duration": 20,
    "start_time": "2023-04-02T09:30:06.588Z"
   },
   {
    "duration": 58,
    "start_time": "2023-04-02T09:30:38.882Z"
   },
   {
    "duration": 23,
    "start_time": "2023-04-02T09:30:54.551Z"
   },
   {
    "duration": 20,
    "start_time": "2023-04-02T09:31:46.657Z"
   },
   {
    "duration": 42,
    "start_time": "2023-04-02T10:29:03.313Z"
   },
   {
    "duration": 153,
    "start_time": "2023-04-02T10:29:50.302Z"
   },
   {
    "duration": 17,
    "start_time": "2023-04-02T10:30:08.492Z"
   },
   {
    "duration": 43,
    "start_time": "2023-04-02T10:30:15.215Z"
   },
   {
    "duration": 42,
    "start_time": "2023-04-02T10:31:24.196Z"
   },
   {
    "duration": 846,
    "start_time": "2023-04-02T10:31:54.420Z"
   },
   {
    "duration": 20,
    "start_time": "2023-04-02T10:33:38.041Z"
   },
   {
    "duration": 11,
    "start_time": "2023-04-02T10:35:41.042Z"
   },
   {
    "duration": 12,
    "start_time": "2023-04-02T10:35:43.637Z"
   },
   {
    "duration": 18,
    "start_time": "2023-04-02T10:35:48.214Z"
   },
   {
    "duration": 792,
    "start_time": "2023-04-02T10:38:46.531Z"
   },
   {
    "duration": 709,
    "start_time": "2023-04-02T10:39:22.860Z"
   },
   {
    "duration": 12,
    "start_time": "2023-04-02T10:39:39.496Z"
   },
   {
    "duration": 11,
    "start_time": "2023-04-02T10:39:42.668Z"
   },
   {
    "duration": 61,
    "start_time": "2023-04-02T10:39:48.736Z"
   },
   {
    "duration": 14,
    "start_time": "2023-04-02T10:43:35.173Z"
   },
   {
    "duration": 15,
    "start_time": "2023-04-02T10:43:50.282Z"
   },
   {
    "duration": 705,
    "start_time": "2023-04-02T10:46:38.927Z"
   },
   {
    "duration": 863,
    "start_time": "2023-04-02T10:46:45.173Z"
   },
   {
    "duration": 9,
    "start_time": "2023-04-02T10:47:34.872Z"
   },
   {
    "duration": 9,
    "start_time": "2023-04-02T10:47:58.237Z"
   },
   {
    "duration": 10,
    "start_time": "2023-04-02T10:48:05.458Z"
   },
   {
    "duration": 67,
    "start_time": "2023-04-02T10:48:12.987Z"
   },
   {
    "duration": 17,
    "start_time": "2023-04-02T10:48:13.344Z"
   },
   {
    "duration": 15,
    "start_time": "2023-04-02T10:48:13.654Z"
   },
   {
    "duration": 10,
    "start_time": "2023-04-02T10:48:14.266Z"
   },
   {
    "duration": 35,
    "start_time": "2023-04-02T10:48:14.572Z"
   },
   {
    "duration": 3,
    "start_time": "2023-04-02T10:48:14.881Z"
   },
   {
    "duration": 8,
    "start_time": "2023-04-02T10:48:15.187Z"
   },
   {
    "duration": 5,
    "start_time": "2023-04-02T10:48:15.748Z"
   },
   {
    "duration": 6,
    "start_time": "2023-04-02T10:48:15.962Z"
   },
   {
    "duration": 5,
    "start_time": "2023-04-02T10:48:16.300Z"
   },
   {
    "duration": 40,
    "start_time": "2023-04-02T10:48:16.787Z"
   },
   {
    "duration": 11,
    "start_time": "2023-04-02T10:48:17.133Z"
   },
   {
    "duration": 3,
    "start_time": "2023-04-02T10:48:18.257Z"
   },
   {
    "duration": 12,
    "start_time": "2023-04-02T10:48:18.780Z"
   },
   {
    "duration": 18,
    "start_time": "2023-04-02T10:48:19.167Z"
   },
   {
    "duration": 21,
    "start_time": "2023-04-02T10:48:19.404Z"
   },
   {
    "duration": 4,
    "start_time": "2023-04-02T10:48:20.131Z"
   },
   {
    "duration": 12,
    "start_time": "2023-04-02T10:48:20.362Z"
   },
   {
    "duration": 7,
    "start_time": "2023-04-02T10:48:20.892Z"
   },
   {
    "duration": 4,
    "start_time": "2023-04-02T10:48:22.394Z"
   },
   {
    "duration": 11,
    "start_time": "2023-04-02T10:48:22.712Z"
   },
   {
    "duration": 9,
    "start_time": "2023-04-02T10:48:24.575Z"
   },
   {
    "duration": 9,
    "start_time": "2023-04-02T10:48:39.674Z"
   },
   {
    "duration": 31,
    "start_time": "2023-04-02T10:48:50.924Z"
   },
   {
    "duration": 30,
    "start_time": "2023-04-02T10:48:58.330Z"
   },
   {
    "duration": 33,
    "start_time": "2023-04-02T10:49:24.967Z"
   },
   {
    "duration": 40,
    "start_time": "2023-04-02T10:49:30.067Z"
   },
   {
    "duration": 32,
    "start_time": "2023-04-02T10:49:53.540Z"
   },
   {
    "duration": 29,
    "start_time": "2023-04-02T10:50:23.337Z"
   },
   {
    "duration": 23,
    "start_time": "2023-04-02T10:50:48.768Z"
   },
   {
    "duration": 24,
    "start_time": "2023-04-02T10:51:25.013Z"
   },
   {
    "duration": 24,
    "start_time": "2023-04-02T10:51:42.332Z"
   },
   {
    "duration": 6,
    "start_time": "2023-04-02T10:52:15.782Z"
   },
   {
    "duration": 7,
    "start_time": "2023-04-02T10:52:19.540Z"
   },
   {
    "duration": 12,
    "start_time": "2023-04-02T10:52:22.201Z"
   },
   {
    "duration": 23,
    "start_time": "2023-04-02T10:52:26.083Z"
   },
   {
    "duration": 24,
    "start_time": "2023-04-02T10:52:57.511Z"
   },
   {
    "duration": 26,
    "start_time": "2023-04-02T10:53:19.276Z"
   },
   {
    "duration": 24,
    "start_time": "2023-04-02T10:53:41.136Z"
   },
   {
    "duration": 21,
    "start_time": "2023-04-02T10:54:07.550Z"
   },
   {
    "duration": 48,
    "start_time": "2023-04-02T10:55:09.567Z"
   },
   {
    "duration": 22,
    "start_time": "2023-04-02T10:55:17.427Z"
   },
   {
    "duration": 21,
    "start_time": "2023-04-02T10:55:36.811Z"
   },
   {
    "duration": 21,
    "start_time": "2023-04-02T10:55:44.355Z"
   },
   {
    "duration": 23,
    "start_time": "2023-04-02T10:56:19.379Z"
   },
   {
    "duration": 21,
    "start_time": "2023-04-02T10:56:25.706Z"
   },
   {
    "duration": 22,
    "start_time": "2023-04-02T10:56:28.103Z"
   },
   {
    "duration": 9,
    "start_time": "2023-04-02T10:56:38.228Z"
   },
   {
    "duration": 22,
    "start_time": "2023-04-02T10:56:40.808Z"
   },
   {
    "duration": 23,
    "start_time": "2023-04-02T10:56:54.228Z"
   },
   {
    "duration": 5,
    "start_time": "2023-04-02T10:57:07.878Z"
   },
   {
    "duration": 9,
    "start_time": "2023-04-02T10:57:10.229Z"
   },
   {
    "duration": 21,
    "start_time": "2023-04-02T10:57:13.619Z"
   },
   {
    "duration": 5,
    "start_time": "2023-04-02T10:57:21.769Z"
   },
   {
    "duration": 5,
    "start_time": "2023-04-02T10:57:24.948Z"
   },
   {
    "duration": 23,
    "start_time": "2023-04-02T10:57:29.529Z"
   },
   {
    "duration": 9,
    "start_time": "2023-04-02T10:57:40.286Z"
   },
   {
    "duration": 7,
    "start_time": "2023-04-02T10:57:51.348Z"
   },
   {
    "duration": 7,
    "start_time": "2023-04-02T10:57:53.547Z"
   },
   {
    "duration": 72,
    "start_time": "2023-04-02T10:57:57.603Z"
   },
   {
    "duration": 15,
    "start_time": "2023-04-02T10:57:57.900Z"
   },
   {
    "duration": 15,
    "start_time": "2023-04-02T10:57:58.213Z"
   },
   {
    "duration": 9,
    "start_time": "2023-04-02T10:57:58.831Z"
   },
   {
    "duration": 35,
    "start_time": "2023-04-02T10:57:59.525Z"
   },
   {
    "duration": 4,
    "start_time": "2023-04-02T10:58:00.000Z"
   },
   {
    "duration": 11,
    "start_time": "2023-04-02T10:58:00.364Z"
   },
   {
    "duration": 4,
    "start_time": "2023-04-02T10:58:00.887Z"
   },
   {
    "duration": 6,
    "start_time": "2023-04-02T10:58:01.225Z"
   },
   {
    "duration": 4,
    "start_time": "2023-04-02T10:58:01.573Z"
   },
   {
    "duration": 38,
    "start_time": "2023-04-02T10:58:02.110Z"
   },
   {
    "duration": 11,
    "start_time": "2023-04-02T10:58:02.458Z"
   },
   {
    "duration": 4,
    "start_time": "2023-04-02T10:58:03.043Z"
   },
   {
    "duration": 13,
    "start_time": "2023-04-02T10:58:03.620Z"
   },
   {
    "duration": 21,
    "start_time": "2023-04-02T10:58:03.999Z"
   },
   {
    "duration": 19,
    "start_time": "2023-04-02T10:58:04.198Z"
   },
   {
    "duration": 3,
    "start_time": "2023-04-02T10:58:04.815Z"
   },
   {
    "duration": 12,
    "start_time": "2023-04-02T10:58:05.023Z"
   },
   {
    "duration": 7,
    "start_time": "2023-04-02T10:58:05.584Z"
   },
   {
    "duration": 5,
    "start_time": "2023-04-02T10:58:06.254Z"
   },
   {
    "duration": 13,
    "start_time": "2023-04-02T10:58:06.671Z"
   },
   {
    "duration": 5,
    "start_time": "2023-04-02T10:58:07.411Z"
   },
   {
    "duration": 22,
    "start_time": "2023-04-02T10:58:14.236Z"
   },
   {
    "duration": 24,
    "start_time": "2023-04-02T10:59:21.510Z"
   },
   {
    "duration": 5,
    "start_time": "2023-04-02T10:59:46.258Z"
   },
   {
    "duration": 27,
    "start_time": "2023-04-02T10:59:49.999Z"
   },
   {
    "duration": 519,
    "start_time": "2023-04-02T11:04:18.323Z"
   },
   {
    "duration": 24,
    "start_time": "2023-04-02T11:04:18.844Z"
   },
   {
    "duration": 15,
    "start_time": "2023-04-02T11:04:18.870Z"
   },
   {
    "duration": 10,
    "start_time": "2023-04-02T11:04:18.887Z"
   },
   {
    "duration": 53,
    "start_time": "2023-04-02T11:04:18.898Z"
   },
   {
    "duration": 4,
    "start_time": "2023-04-02T11:04:18.952Z"
   },
   {
    "duration": 12,
    "start_time": "2023-04-02T11:04:18.958Z"
   },
   {
    "duration": 5,
    "start_time": "2023-04-02T11:04:18.972Z"
   },
   {
    "duration": 8,
    "start_time": "2023-04-02T11:04:18.979Z"
   },
   {
    "duration": 4,
    "start_time": "2023-04-02T11:04:18.989Z"
   },
   {
    "duration": 35,
    "start_time": "2023-04-02T11:04:19.024Z"
   },
   {
    "duration": 10,
    "start_time": "2023-04-02T11:04:19.060Z"
   },
   {
    "duration": 3,
    "start_time": "2023-04-02T11:04:19.072Z"
   },
   {
    "duration": 14,
    "start_time": "2023-04-02T11:04:19.077Z"
   },
   {
    "duration": 46,
    "start_time": "2023-04-02T11:04:19.093Z"
   },
   {
    "duration": 20,
    "start_time": "2023-04-02T11:04:19.140Z"
   },
   {
    "duration": 4,
    "start_time": "2023-04-02T11:04:19.161Z"
   },
   {
    "duration": 12,
    "start_time": "2023-04-02T11:04:19.167Z"
   },
   {
    "duration": 6,
    "start_time": "2023-04-02T11:04:19.181Z"
   },
   {
    "duration": 11,
    "start_time": "2023-04-02T11:04:19.189Z"
   },
   {
    "duration": 10,
    "start_time": "2023-04-02T11:04:19.224Z"
   },
   {
    "duration": 5,
    "start_time": "2023-04-02T11:04:19.236Z"
   },
   {
    "duration": 20,
    "start_time": "2023-04-02T11:04:19.243Z"
   },
   {
    "duration": 41,
    "start_time": "2023-04-02T11:04:19.265Z"
   },
   {
    "duration": 0,
    "start_time": "2023-04-02T11:04:19.308Z"
   },
   {
    "duration": 29,
    "start_time": "2023-04-02T11:04:30.346Z"
   },
   {
    "duration": 19,
    "start_time": "2023-04-02T11:07:19.748Z"
   },
   {
    "duration": 14,
    "start_time": "2023-04-02T11:07:40.927Z"
   },
   {
    "duration": 7,
    "start_time": "2023-04-02T11:09:24.795Z"
   },
   {
    "duration": 12,
    "start_time": "2023-04-02T11:09:54.157Z"
   },
   {
    "duration": 13,
    "start_time": "2023-04-02T11:10:15.809Z"
   },
   {
    "duration": 19,
    "start_time": "2023-04-02T11:10:36.233Z"
   },
   {
    "duration": 15,
    "start_time": "2023-04-02T11:10:51.717Z"
   },
   {
    "duration": 734,
    "start_time": "2023-04-02T11:16:23.085Z"
   },
   {
    "duration": 674,
    "start_time": "2023-04-02T11:17:04.117Z"
   },
   {
    "duration": 20,
    "start_time": "2023-04-02T11:17:24.081Z"
   },
   {
    "duration": 19,
    "start_time": "2023-04-02T11:18:02.437Z"
   },
   {
    "duration": 16,
    "start_time": "2023-04-02T11:19:30.713Z"
   },
   {
    "duration": 20,
    "start_time": "2023-04-02T11:19:37.952Z"
   },
   {
    "duration": 20,
    "start_time": "2023-04-02T11:20:39.817Z"
   },
   {
    "duration": 19,
    "start_time": "2023-04-02T11:21:41.027Z"
   },
   {
    "duration": 21,
    "start_time": "2023-04-02T11:21:54.038Z"
   },
   {
    "duration": 15,
    "start_time": "2023-04-02T11:21:57.388Z"
   },
   {
    "duration": 14,
    "start_time": "2023-04-02T11:22:39.792Z"
   },
   {
    "duration": 14,
    "start_time": "2023-04-02T12:30:30.622Z"
   },
   {
    "duration": 26,
    "start_time": "2023-04-02T12:30:42.675Z"
   },
   {
    "duration": 18,
    "start_time": "2023-04-02T12:31:16.716Z"
   },
   {
    "duration": 10,
    "start_time": "2023-04-02T12:31:53.453Z"
   },
   {
    "duration": 16,
    "start_time": "2023-04-02T12:32:05.448Z"
   },
   {
    "duration": 21,
    "start_time": "2023-04-02T12:40:03.208Z"
   },
   {
    "duration": 15,
    "start_time": "2023-04-02T13:48:41.943Z"
   },
   {
    "duration": 26,
    "start_time": "2023-04-02T13:49:26.718Z"
   },
   {
    "duration": 15,
    "start_time": "2023-04-02T14:34:49.627Z"
   }
  ],
  "colab": {
   "provenance": []
  },
  "kernelspec": {
   "display_name": "Python 3 (ipykernel)",
   "language": "python",
   "name": "python3"
  },
  "language_info": {
   "codemirror_mode": {
    "name": "ipython",
    "version": 3
   },
   "file_extension": ".py",
   "mimetype": "text/x-python",
   "name": "python",
   "nbconvert_exporter": "python",
   "pygments_lexer": "ipython3",
   "version": "3.11.4"
  },
  "toc": {
   "base_numbering": 1,
   "nav_menu": {},
   "number_sections": true,
   "sideBar": true,
   "skip_h1_title": true,
   "title_cell": "Table of Contents",
   "title_sidebar": "Contents",
   "toc_cell": false,
   "toc_position": {},
   "toc_section_display": true,
   "toc_window_display": false
  }
 },
 "nbformat": 4,
 "nbformat_minor": 5
}
