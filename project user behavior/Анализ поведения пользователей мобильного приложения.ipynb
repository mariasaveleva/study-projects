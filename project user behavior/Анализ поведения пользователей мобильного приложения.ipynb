{
 "cells": [
  {
   "cell_type": "markdown",
   "metadata": {},
   "source": [
    "<div class=\"alert alert-info\" style=\"border-color: white; border-radius: 10px; background-color: white;\"> \n",
    "\n",
    "# <font color = 'mediumaquamarine'> Анализ поведения пользователей мобильного приложения"
   ]
  },
  {
   "cell_type": "markdown",
   "metadata": {},
   "source": [
    "<div class=\"alert alert-info\" style=\"border-color: thistle; border-radius: 10px; background-color: thistle;\"> \n",
    "    <font color = 'black'> \n",
    "\n",
    "**Описание проекта**\n",
    "\n",
    "\"Ненужные вещи\" - мобильное приложение, в котором люди могут продавать свои ненужные вещи, размещая их на доске объявлений. Для улучшения приложения было принято решение об изучении поведения пользователей по событиям, которые они совершили в этом сервисе.   \n",
    "        \n",
    "*Цели:*     \n",
    "- Управление вовлеченностью клиентов (адаптация приложения по целевой и смежной аудитории) на основе данных о поведении пользователей.  \n",
    "- Получение гипотезы о том как можно было бы улучшить приложение с точки зрения пользовательского опыта.  \n",
    " \n",
    "        \n",
    "*Главные задачи:*   \n",
    "- Изучить связь целевого события — просмотра контактов — и других действий пользователей.    \n",
    "- Оценить, какие действия чаще совершают те пользователи, которые просматривают контакты.    \n",
    "        \n",
    "Для исследования были взяты в работу 2 датасета, которые содержат данные пользователей, впервые совершивших действия в приложении после 7 октября 2019 года."
   ]
  },
  {
   "cell_type": "markdown",
   "metadata": {},
   "source": [
    "<div class=\"alert alert-info\" style=\"border-color: lavender; border-radius: 10px; background-color: lavender;\"> \n",
    "    <font color = 'black'> \n",
    "\n",
    "**Декомпозиция**        \n",
    "\n",
    "**1. Предобработка данных**  \n",
    " 1.1. Изучить общую информацию о датасете (количество данных, какую информацию хранит каждый столбец);   \n",
    " 1.2. Проверить корректность наименований колонок, исправить на общепринятый формат (нижний регистр и подчеркивание);  \n",
    " 1.3. Просмотреть типы данных и привести к нужным при необходимости;  \n",
    " 1.4. Исследовать пропущенные значения и заменить их;  \n",
    " 1.5. Посмотреть дубликаты, удалить их при наличии.  \n",
    "\n",
    "\n",
    "**2. Исследовательский анализ данных**  \n",
    " 2.1. Изучить распределение данных по времени;  \n",
    " 2.2. Проанализировать количество событий на каждого пользователя;   \n",
    " 2.3. Рассчитать длительность сессий;   \n",
    " 2.4. Вывод по проведенному анализу.\n",
    "        \n",
    "**3. Исследование целевого события - просмотра контактов**   \n",
    " 3.1. Проанализировать связь целевого события — просмотра контактов — и других действий пользователей:     \n",
    "      - В разрезе сессий отобрать сценарии\\паттерны, которые приводят к просмотру контактов и построить диаграмму Санкея для выбора наиболее популярных сценариев;  \n",
    "      - По выбранным сценариям построить воронки по основным сценариям в разрезе уникальных пользователей.   \n",
    " 3.2. Оценить, какие действия чаще совершают те пользователи, которые просматривают контакты:   \n",
    "      - Рассчитать относительную частоту каждого события в разрезе двух групп пользователей: группа пользователей, которые смотрели контакты `contacts_show` и группа пользователей, которые не смотрели контакты `contacts_show`, и сравнить показатели.  \n",
    " 3.3. Написать вывод по полученным результатам.\n",
    "        \n",
    "**4. Проверка гипотез**       \n",
    "4.1. Гипотеза 1: Конверсия в просмотры контактов различается у групп, где пользователи совершают действия `tips_show` (увидел рекомендованные объявления) и `tips_click` (кликнул по рекомендованному объявлению) и где пользователи совершают только `tips_show` (Нулевая гипотеза - конверсии существенно не различаются, Альтернативная гипотеза - конверсии различаются);    \n",
    "4.2. Гипотеза 2: Конверсия в просмотры контактов различается у групп, где пользователи совершают действиe favorites_add (добавление в избранное) и где они его не совершают (Нулевая гипотеза - конверсии существенно не различаются, Альтернативная гипотеза - конверсии различаются).\n",
    "        \n",
    "**5. Выводы и рекомендации**  \n",
    " 5.1. Написать общие выводы проведенного исследования;    \n",
    " 5.2. Расписать рекомендации на основе полученных результатов."
   ]
  },
  {
   "cell_type": "markdown",
   "metadata": {},
   "source": [
    "## Предобработка данных"
   ]
  },
  {
   "cell_type": "markdown",
   "metadata": {},
   "source": [
    "### Изучение общей информации"
   ]
  },
  {
   "cell_type": "markdown",
   "metadata": {},
   "source": [
    "Как и в любом подобном проекте в первую очередь надо посмотреть на имеющиеся данные, сколько их, какую информацию хранят, и оценить степень необходимой предобработки. Загрузим нужные библиотеки и изучим датасеты."
   ]
  },
  {
   "cell_type": "code",
   "execution_count": 1,
   "metadata": {},
   "outputs": [
    {
     "name": "stdout",
     "output_type": "stream",
     "text": [
      "Requirement already satisfied: kaleido in /Users/mariasaveleva/anaconda3/lib/python3.11/site-packages (0.2.1)\r\n"
     ]
    }
   ],
   "source": [
    "# Загрузим библиотеки\n",
    "import pandas as pd\n",
    "import plotly.express as px\n",
    "import numpy as np\n",
    "from tqdm import tqdm\n",
    "from plotly import graph_objects as go\n",
    "import matplotlib.pyplot as plt\n",
    "from scipy import stats as st\n",
    "import math as mth\n",
    "\n",
    "!pip install -U kaleido\n",
    "import plotly.io as pio\n",
    "pio.renderers.default = \"svg\"\n",
    "svg_renderer = pio.renderers[\"svg\"]\n",
    "svg_renderer.scale = 1.1"
   ]
  },
  {
   "cell_type": "code",
   "execution_count": 2,
   "metadata": {},
   "outputs": [
    {
     "data": {
      "text/html": [
       "<div>\n",
       "<style scoped>\n",
       "    .dataframe tbody tr th:only-of-type {\n",
       "        vertical-align: middle;\n",
       "    }\n",
       "\n",
       "    .dataframe tbody tr th {\n",
       "        vertical-align: top;\n",
       "    }\n",
       "\n",
       "    .dataframe thead th {\n",
       "        text-align: right;\n",
       "    }\n",
       "</style>\n",
       "<table border=\"1\" class=\"dataframe\">\n",
       "  <thead>\n",
       "    <tr style=\"text-align: right;\">\n",
       "      <th></th>\n",
       "      <th>userId</th>\n",
       "      <th>source</th>\n",
       "    </tr>\n",
       "  </thead>\n",
       "  <tbody>\n",
       "    <tr>\n",
       "      <th>0</th>\n",
       "      <td>020292ab-89bc-4156-9acf-68bc2783f894</td>\n",
       "      <td>other</td>\n",
       "    </tr>\n",
       "    <tr>\n",
       "      <th>1</th>\n",
       "      <td>cf7eda61-9349-469f-ac27-e5b6f5ec475c</td>\n",
       "      <td>yandex</td>\n",
       "    </tr>\n",
       "    <tr>\n",
       "      <th>2</th>\n",
       "      <td>8c356c42-3ba9-4cb6-80b8-3f868d0192c3</td>\n",
       "      <td>yandex</td>\n",
       "    </tr>\n",
       "    <tr>\n",
       "      <th>3</th>\n",
       "      <td>d9b06b47-0f36-419b-bbb0-3533e582a6cb</td>\n",
       "      <td>other</td>\n",
       "    </tr>\n",
       "    <tr>\n",
       "      <th>4</th>\n",
       "      <td>f32e1e2a-3027-4693-b793-b7b3ff274439</td>\n",
       "      <td>google</td>\n",
       "    </tr>\n",
       "  </tbody>\n",
       "</table>\n",
       "</div>"
      ],
      "text/plain": [
       "                                 userId  source\n",
       "0  020292ab-89bc-4156-9acf-68bc2783f894   other\n",
       "1  cf7eda61-9349-469f-ac27-e5b6f5ec475c  yandex\n",
       "2  8c356c42-3ba9-4cb6-80b8-3f868d0192c3  yandex\n",
       "3  d9b06b47-0f36-419b-bbb0-3533e582a6cb   other\n",
       "4  f32e1e2a-3027-4693-b793-b7b3ff274439  google"
      ]
     },
     "execution_count": 2,
     "metadata": {},
     "output_type": "execute_result"
    }
   ],
   "source": [
    "# Прочитаем первый датасет\n",
    "try:\n",
    "    data_source = pd.read_csv('/datasets/mobile_sources.csv')\n",
    "except:\n",
    "    data_source = pd.read_csv('https://code.s3.yandex.net/datasets/mobile_sources.csv')\n",
    "data_source.head()"
   ]
  },
  {
   "cell_type": "markdown",
   "metadata": {},
   "source": [
    "Колонки в датасете data_source:\n",
    "- `userId` — идентификатор пользователя,  \n",
    "- `source` — источник, с которого пользователь установил приложение."
   ]
  },
  {
   "cell_type": "code",
   "execution_count": 3,
   "metadata": {},
   "outputs": [
    {
     "data": {
      "text/html": [
       "<div>\n",
       "<style scoped>\n",
       "    .dataframe tbody tr th:only-of-type {\n",
       "        vertical-align: middle;\n",
       "    }\n",
       "\n",
       "    .dataframe tbody tr th {\n",
       "        vertical-align: top;\n",
       "    }\n",
       "\n",
       "    .dataframe thead th {\n",
       "        text-align: right;\n",
       "    }\n",
       "</style>\n",
       "<table border=\"1\" class=\"dataframe\">\n",
       "  <thead>\n",
       "    <tr style=\"text-align: right;\">\n",
       "      <th></th>\n",
       "      <th>event.time</th>\n",
       "      <th>event.name</th>\n",
       "      <th>user.id</th>\n",
       "    </tr>\n",
       "  </thead>\n",
       "  <tbody>\n",
       "    <tr>\n",
       "      <th>0</th>\n",
       "      <td>2019-10-07 00:00:00.431357</td>\n",
       "      <td>advert_open</td>\n",
       "      <td>020292ab-89bc-4156-9acf-68bc2783f894</td>\n",
       "    </tr>\n",
       "    <tr>\n",
       "      <th>1</th>\n",
       "      <td>2019-10-07 00:00:01.236320</td>\n",
       "      <td>tips_show</td>\n",
       "      <td>020292ab-89bc-4156-9acf-68bc2783f894</td>\n",
       "    </tr>\n",
       "    <tr>\n",
       "      <th>2</th>\n",
       "      <td>2019-10-07 00:00:02.245341</td>\n",
       "      <td>tips_show</td>\n",
       "      <td>cf7eda61-9349-469f-ac27-e5b6f5ec475c</td>\n",
       "    </tr>\n",
       "    <tr>\n",
       "      <th>3</th>\n",
       "      <td>2019-10-07 00:00:07.039334</td>\n",
       "      <td>tips_show</td>\n",
       "      <td>020292ab-89bc-4156-9acf-68bc2783f894</td>\n",
       "    </tr>\n",
       "    <tr>\n",
       "      <th>4</th>\n",
       "      <td>2019-10-07 00:00:56.319813</td>\n",
       "      <td>advert_open</td>\n",
       "      <td>cf7eda61-9349-469f-ac27-e5b6f5ec475c</td>\n",
       "    </tr>\n",
       "  </tbody>\n",
       "</table>\n",
       "</div>"
      ],
      "text/plain": [
       "                   event.time   event.name  \\\n",
       "0  2019-10-07 00:00:00.431357  advert_open   \n",
       "1  2019-10-07 00:00:01.236320    tips_show   \n",
       "2  2019-10-07 00:00:02.245341    tips_show   \n",
       "3  2019-10-07 00:00:07.039334    tips_show   \n",
       "4  2019-10-07 00:00:56.319813  advert_open   \n",
       "\n",
       "                                user.id  \n",
       "0  020292ab-89bc-4156-9acf-68bc2783f894  \n",
       "1  020292ab-89bc-4156-9acf-68bc2783f894  \n",
       "2  cf7eda61-9349-469f-ac27-e5b6f5ec475c  \n",
       "3  020292ab-89bc-4156-9acf-68bc2783f894  \n",
       "4  cf7eda61-9349-469f-ac27-e5b6f5ec475c  "
      ]
     },
     "execution_count": 3,
     "metadata": {},
     "output_type": "execute_result"
    }
   ],
   "source": [
    "# Прочитаем второй датасет\n",
    "try:\n",
    "    data = pd.read_csv('/datasets/mobile_dataset.csv')\n",
    "except:\n",
    "    data = pd.read_csv('https://code.s3.yandex.net/datasets/mobile_dataset.csv')\n",
    "data.head()"
   ]
  },
  {
   "cell_type": "markdown",
   "metadata": {},
   "source": [
    "Колонки в датасете data:\n",
    "- `event.time` — время совершения,\n",
    "- `user.id` — идентификатор пользователя,\n",
    "- `event.name` — действие пользователя.\n",
    "\n",
    "Виды действий в event.name:\n",
    "- `advert_open` — открыл карточки объявления,\n",
    "- `photos_show` — просмотрел фотографий в объявлении,\n",
    "- `tips_show` — увидел рекомендованные объявления,\n",
    "- `tips_click` — кликнул по рекомендованному объявлению,\n",
    "- `contacts_show` и `show_contacts` — посмотрел номер телефона,\n",
    "- `contacts_call` — позвонил по номеру из объявления,\n",
    "- `map` — открыл карту объявлений,\n",
    "- `search_1 — search_7` — разные действия, связанные с поиском по сайту,\n",
    "- `favorites_add` — добавил объявление в избранное."
   ]
  },
  {
   "cell_type": "markdown",
   "metadata": {},
   "source": [
    "Таблицы хранят в себе уникальные индификаторы пользователей и информацию о совершенных ими событий/действий, внутри приложения, а именно время, наименование самого действия, а также источник, с которого было скачено приложение. Посмотрим теперь на данные чуть более подробно. "
   ]
  },
  {
   "cell_type": "code",
   "execution_count": 4,
   "metadata": {},
   "outputs": [
    {
     "name": "stdout",
     "output_type": "stream",
     "text": [
      "<class 'pandas.core.frame.DataFrame'>\n",
      "RangeIndex: 4293 entries, 0 to 4292\n",
      "Data columns (total 2 columns):\n",
      " #   Column  Non-Null Count  Dtype \n",
      "---  ------  --------------  ----- \n",
      " 0   userId  4293 non-null   object\n",
      " 1   source  4293 non-null   object\n",
      "dtypes: object(2)\n",
      "memory usage: 67.2+ KB\n"
     ]
    }
   ],
   "source": [
    "# Выведем информацию по первой таблице\n",
    "data_source.info()"
   ]
  },
  {
   "cell_type": "code",
   "execution_count": 5,
   "metadata": {},
   "outputs": [
    {
     "name": "stdout",
     "output_type": "stream",
     "text": [
      "<class 'pandas.core.frame.DataFrame'>\n",
      "RangeIndex: 74197 entries, 0 to 74196\n",
      "Data columns (total 3 columns):\n",
      " #   Column      Non-Null Count  Dtype \n",
      "---  ------      --------------  ----- \n",
      " 0   event.time  74197 non-null  object\n",
      " 1   event.name  74197 non-null  object\n",
      " 2   user.id     74197 non-null  object\n",
      "dtypes: object(3)\n",
      "memory usage: 1.7+ MB\n"
     ]
    }
   ],
   "source": [
    "# Выведем информацию по второй таблице\n",
    "data.info()"
   ]
  },
  {
   "cell_type": "markdown",
   "metadata": {},
   "source": [
    "В датасете с источниками у нас есть 4293 строк, а во второй таблице 74197. Такая разница объясняется тем, что во втором датасете уникальные пользователи повторяются, так как каждый совершает несколько действий в самом приложении."
   ]
  },
  {
   "cell_type": "markdown",
   "metadata": {},
   "source": [
    "Также по выведенной информации можно заметить неправильный тип данных у колонки с датой и временем, который чуть позже придется поправить."
   ]
  },
  {
   "cell_type": "markdown",
   "metadata": {},
   "source": [
    "### Корректировка названий колонок"
   ]
  },
  {
   "cell_type": "markdown",
   "metadata": {},
   "source": [
    "Чтобы сделать анализ более удобным, приведем колонки к общепринятому оформлению - нижний регистр и нижнее подчеркивание вместо точек или пробела."
   ]
  },
  {
   "cell_type": "code",
   "execution_count": 6,
   "metadata": {},
   "outputs": [],
   "source": [
    "# Поменяем названия колонок в первом датасете\n",
    "data_source.columns = ['user_id', 'source']\n",
    "\n",
    "# Поменяем названия колонок во втором датасете\n",
    "data.columns = ['event_time', 'event_name', 'user_id']"
   ]
  },
  {
   "cell_type": "markdown",
   "metadata": {},
   "source": [
    "Таблицы пересекаются друг с другом благодаря колонке с индификатором пользователя, поэтому мы могли бы их объединить по данному признаку, однако перед этим лучше проверить, сколько в каждом датасете уникальных айди."
   ]
  },
  {
   "cell_type": "code",
   "execution_count": 7,
   "metadata": {},
   "outputs": [
    {
     "name": "stdout",
     "output_type": "stream",
     "text": [
      "4293 4293\n"
     ]
    }
   ],
   "source": [
    "# Выведем количество уникальных пользователей в двух датасетах\n",
    "print(data_source['user_id'].nunique(),  \n",
    "      data['user_id'].nunique())"
   ]
  },
  {
   "cell_type": "markdown",
   "metadata": {},
   "source": [
    "Количество уникальных пользователей одинаково, поэтому можно спокойно объединить таблицы. Присоединим датасет с источниками к датасету с событиями, так как в нем больше данных."
   ]
  },
  {
   "cell_type": "code",
   "execution_count": 8,
   "metadata": {},
   "outputs": [
    {
     "data": {
      "text/html": [
       "<div>\n",
       "<style scoped>\n",
       "    .dataframe tbody tr th:only-of-type {\n",
       "        vertical-align: middle;\n",
       "    }\n",
       "\n",
       "    .dataframe tbody tr th {\n",
       "        vertical-align: top;\n",
       "    }\n",
       "\n",
       "    .dataframe thead th {\n",
       "        text-align: right;\n",
       "    }\n",
       "</style>\n",
       "<table border=\"1\" class=\"dataframe\">\n",
       "  <thead>\n",
       "    <tr style=\"text-align: right;\">\n",
       "      <th></th>\n",
       "      <th>event_time</th>\n",
       "      <th>event_name</th>\n",
       "      <th>user_id</th>\n",
       "      <th>source</th>\n",
       "    </tr>\n",
       "  </thead>\n",
       "  <tbody>\n",
       "    <tr>\n",
       "      <th>0</th>\n",
       "      <td>2019-10-07 00:00:00.431357</td>\n",
       "      <td>advert_open</td>\n",
       "      <td>020292ab-89bc-4156-9acf-68bc2783f894</td>\n",
       "      <td>other</td>\n",
       "    </tr>\n",
       "    <tr>\n",
       "      <th>1</th>\n",
       "      <td>2019-10-07 00:00:01.236320</td>\n",
       "      <td>tips_show</td>\n",
       "      <td>020292ab-89bc-4156-9acf-68bc2783f894</td>\n",
       "      <td>other</td>\n",
       "    </tr>\n",
       "  </tbody>\n",
       "</table>\n",
       "</div>"
      ],
      "text/plain": [
       "                   event_time   event_name  \\\n",
       "0  2019-10-07 00:00:00.431357  advert_open   \n",
       "1  2019-10-07 00:00:01.236320    tips_show   \n",
       "\n",
       "                                user_id source  \n",
       "0  020292ab-89bc-4156-9acf-68bc2783f894  other  \n",
       "1  020292ab-89bc-4156-9acf-68bc2783f894  other  "
      ]
     },
     "execution_count": 8,
     "metadata": {},
     "output_type": "execute_result"
    }
   ],
   "source": [
    "# Объединим датасеты в один\n",
    "data = data.merge(data_source, how='left', on='user_id')\n",
    "\n",
    "# Проверим объединение\n",
    "data.head(2)"
   ]
  },
  {
   "cell_type": "markdown",
   "metadata": {},
   "source": [
    "### Изменение типа данных"
   ]
  },
  {
   "cell_type": "markdown",
   "metadata": {},
   "source": [
    "Как выяснилось ранее, столбец с датой и временем следует привести к нужному типу данных (типу времени), так как его мы активно будем использовать далее. Также можем создать отдельный столбец с датой без времени."
   ]
  },
  {
   "cell_type": "code",
   "execution_count": 9,
   "metadata": {},
   "outputs": [
    {
     "data": {
      "text/html": [
       "<div>\n",
       "<style scoped>\n",
       "    .dataframe tbody tr th:only-of-type {\n",
       "        vertical-align: middle;\n",
       "    }\n",
       "\n",
       "    .dataframe tbody tr th {\n",
       "        vertical-align: top;\n",
       "    }\n",
       "\n",
       "    .dataframe thead th {\n",
       "        text-align: right;\n",
       "    }\n",
       "</style>\n",
       "<table border=\"1\" class=\"dataframe\">\n",
       "  <thead>\n",
       "    <tr style=\"text-align: right;\">\n",
       "      <th></th>\n",
       "      <th>event_time</th>\n",
       "      <th>event_name</th>\n",
       "      <th>user_id</th>\n",
       "      <th>source</th>\n",
       "      <th>date</th>\n",
       "    </tr>\n",
       "  </thead>\n",
       "  <tbody>\n",
       "    <tr>\n",
       "      <th>0</th>\n",
       "      <td>2019-10-07 00:00:00.431357</td>\n",
       "      <td>advert_open</td>\n",
       "      <td>020292ab-89bc-4156-9acf-68bc2783f894</td>\n",
       "      <td>other</td>\n",
       "      <td>2019-10-07</td>\n",
       "    </tr>\n",
       "    <tr>\n",
       "      <th>1</th>\n",
       "      <td>2019-10-07 00:00:01.236320</td>\n",
       "      <td>tips_show</td>\n",
       "      <td>020292ab-89bc-4156-9acf-68bc2783f894</td>\n",
       "      <td>other</td>\n",
       "      <td>2019-10-07</td>\n",
       "    </tr>\n",
       "  </tbody>\n",
       "</table>\n",
       "</div>"
      ],
      "text/plain": [
       "                  event_time   event_name  \\\n",
       "0 2019-10-07 00:00:00.431357  advert_open   \n",
       "1 2019-10-07 00:00:01.236320    tips_show   \n",
       "\n",
       "                                user_id source       date  \n",
       "0  020292ab-89bc-4156-9acf-68bc2783f894  other 2019-10-07  \n",
       "1  020292ab-89bc-4156-9acf-68bc2783f894  other 2019-10-07  "
      ]
     },
     "execution_count": 9,
     "metadata": {},
     "output_type": "execute_result"
    }
   ],
   "source": [
    "# Изменим тип данных столбца event_time\n",
    "data['event_time'] = pd.to_datetime(data['event_time'])\n",
    "\n",
    "# Cоздадим отдельный столбец только с датой\n",
    "data['date'] = pd.to_datetime(data['event_time'].dt.date)\n",
    "\n",
    "# Проверим изменения\n",
    "data.head(2)"
   ]
  },
  {
   "cell_type": "code",
   "execution_count": 10,
   "metadata": {},
   "outputs": [
    {
     "name": "stdout",
     "output_type": "stream",
     "text": [
      "<class 'pandas.core.frame.DataFrame'>\n",
      "Int64Index: 74197 entries, 0 to 74196\n",
      "Data columns (total 5 columns):\n",
      " #   Column      Non-Null Count  Dtype         \n",
      "---  ------      --------------  -----         \n",
      " 0   event_time  74197 non-null  datetime64[ns]\n",
      " 1   event_name  74197 non-null  object        \n",
      " 2   user_id     74197 non-null  object        \n",
      " 3   source      74197 non-null  object        \n",
      " 4   date        74197 non-null  datetime64[ns]\n",
      "dtypes: datetime64[ns](2), object(3)\n",
      "memory usage: 3.4+ MB\n"
     ]
    }
   ],
   "source": [
    "# Проверим тип данных\n",
    "data.info()"
   ]
  },
  {
   "cell_type": "markdown",
   "metadata": {},
   "source": [
    "Изменения верны, теперь перейдем к поиску пропущенных значений."
   ]
  },
  {
   "cell_type": "markdown",
   "metadata": {},
   "source": [
    "### Проверка пропущенных значений"
   ]
  },
  {
   "cell_type": "code",
   "execution_count": 11,
   "metadata": {},
   "outputs": [
    {
     "data": {
      "text/plain": [
       "event_time    0\n",
       "event_name    0\n",
       "user_id       0\n",
       "source        0\n",
       "date          0\n",
       "dtype: int64"
      ]
     },
     "execution_count": 11,
     "metadata": {},
     "output_type": "execute_result"
    }
   ],
   "source": [
    "# Проверим пропущенные значения по каждому столбцу\n",
    "data.isna().sum()"
   ]
  },
  {
   "cell_type": "markdown",
   "metadata": {},
   "source": [
    "Пропусков не обнаружено, можем проверить данные на наличие дубликатов."
   ]
  },
  {
   "cell_type": "markdown",
   "metadata": {},
   "source": [
    "### Проверка дубликатов"
   ]
  },
  {
   "cell_type": "markdown",
   "metadata": {},
   "source": [
    "Сначала проверим наличие явных дубликатов, то есть целые одинаковые строки, а затем посмотрим на неявные дубликаты в отдельных столбцах."
   ]
  },
  {
   "cell_type": "code",
   "execution_count": 12,
   "metadata": {},
   "outputs": [
    {
     "data": {
      "text/plain": [
       "0"
      ]
     },
     "execution_count": 12,
     "metadata": {},
     "output_type": "execute_result"
    }
   ],
   "source": [
    "# Посчитаем количество явных дубликатов в датасете\n",
    "data.duplicated().sum()"
   ]
  },
  {
   "cell_type": "markdown",
   "metadata": {},
   "source": [
    "Явных дубликатов нет. Теперь посмотрим на отдельные столбцы, где мы можем зафиксировать неявные дубликаты (например, повторная запись категории с источника/события с ошибкой). "
   ]
  },
  {
   "cell_type": "code",
   "execution_count": 13,
   "metadata": {},
   "outputs": [
    {
     "data": {
      "text/plain": [
       "yandex    34286\n",
       "google    20445\n",
       "other     19466\n",
       "Name: source, dtype: int64"
      ]
     },
     "execution_count": 13,
     "metadata": {},
     "output_type": "execute_result"
    }
   ],
   "source": [
    "# Посмотрим уникальные значения в столбце source\n",
    "data['source'].value_counts()"
   ]
  },
  {
   "cell_type": "markdown",
   "metadata": {},
   "source": [
    "Все данные записаны правильно, посмотрим теперь другой столбец event_name, где мы также можем что-то найти."
   ]
  },
  {
   "cell_type": "code",
   "execution_count": 14,
   "metadata": {},
   "outputs": [
    {
     "data": {
      "text/plain": [
       "tips_show        40055\n",
       "photos_show      10012\n",
       "advert_open       6164\n",
       "contacts_show     4450\n",
       "map               3881\n",
       "search_1          3506\n",
       "favorites_add     1417\n",
       "search_5          1049\n",
       "tips_click         814\n",
       "search_4           701\n",
       "contacts_call      541\n",
       "search_3           522\n",
       "search_6           460\n",
       "search_2           324\n",
       "search_7           222\n",
       "show_contacts       79\n",
       "Name: event_name, dtype: int64"
      ]
     },
     "execution_count": 14,
     "metadata": {},
     "output_type": "execute_result"
    }
   ],
   "source": [
    "# Посмотрим уникальные значения в столбце event_name\n",
    "data['event_name'].value_counts()"
   ]
  },
  {
   "cell_type": "markdown",
   "metadata": {},
   "source": [
    "Все данные записаны правильно, однако есть дублирующиеся значения `contacts_show` и `show_contacts`. Как мы выяснили в самом начале, в этих колонках хранится одинаковая по смыслу информация, а именно просмотр номера телефона. Поэтому мы можем объединить эти два события в одно. Присоединим `show_contacts` к `contacts_show`, так как у последнего больше данных."
   ]
  },
  {
   "cell_type": "code",
   "execution_count": 15,
   "metadata": {},
   "outputs": [
    {
     "data": {
      "text/plain": [
       "tips_show        40055\n",
       "photos_show      10012\n",
       "advert_open       6164\n",
       "contacts_show     4529\n",
       "map               3881\n",
       "search_1          3506\n",
       "favorites_add     1417\n",
       "search_5          1049\n",
       "tips_click         814\n",
       "search_4           701\n",
       "contacts_call      541\n",
       "search_3           522\n",
       "search_6           460\n",
       "search_2           324\n",
       "search_7           222\n",
       "Name: event_name, dtype: int64"
      ]
     },
     "execution_count": 15,
     "metadata": {},
     "output_type": "execute_result"
    }
   ],
   "source": [
    "# Поменяем название события show_contacts на contacts_show\n",
    "data['event_name'] = data['event_name'].replace('show_contacts', 'contacts_show')\n",
    "\n",
    "# Проверим изменения\n",
    "data['event_name'].value_counts()"
   ]
  },
  {
   "cell_type": "markdown",
   "metadata": {},
   "source": [
    "Теперь количество событий `contacts_show` увеличилось на 79, чего мы и добивались. \n",
    "Уберем также разделение поиска на 1,2,3 и т.д., объединив все поиски в один `search` для удобства, так как в этом исследовании мы не будем рассматривать каждый поиск отдельно."
   ]
  },
  {
   "cell_type": "code",
   "execution_count": 16,
   "metadata": {},
   "outputs": [],
   "source": [
    "data['event_name'] = data['event_name'].str.replace('search_\\d+', 'search', regex=True)"
   ]
  },
  {
   "cell_type": "code",
   "execution_count": 17,
   "metadata": {},
   "outputs": [
    {
     "data": {
      "text/plain": [
       "tips_show        40055\n",
       "photos_show      10012\n",
       "search            6784\n",
       "advert_open       6164\n",
       "contacts_show     4529\n",
       "map               3881\n",
       "favorites_add     1417\n",
       "tips_click         814\n",
       "contacts_call      541\n",
       "Name: event_name, dtype: int64"
      ]
     },
     "execution_count": 17,
     "metadata": {},
     "output_type": "execute_result"
    }
   ],
   "source": [
    "# Проверим работу функции\n",
    "data['event_name'].value_counts()"
   ]
  },
  {
   "cell_type": "markdown",
   "metadata": {},
   "source": [
    "<div class=\"alert alert-info\" style=\"border-color: lavender; border-radius: 10px; background-color: lavender;\"> \n",
    "    <font color = 'black'> \n",
    "По итогам раздела можно сказать, что мы изучили представленные данные на начальном этапе, объединили датасеты, поменяли тип данных колонки со временем и дополнили общую таблицу колонкой с датой. Также были скорректированы названия колонок, проверены пропуски и дубликаты, было убрано дублирующееся действие в колонке `event_name`. Теперь можем приступать к исследовательскому анализу. "
   ]
  },
  {
   "cell_type": "markdown",
   "metadata": {},
   "source": [
    "## Исследовательский анализ данных"
   ]
  },
  {
   "cell_type": "markdown",
   "metadata": {},
   "source": [
    "### Распределение данных по времени"
   ]
  },
  {
   "cell_type": "markdown",
   "metadata": {},
   "source": [
    "Сначала стоит найти период времени, который у нас есть. Для этого просто выведем минимальное и максимальное значения в столбце с датой."
   ]
  },
  {
   "cell_type": "code",
   "execution_count": 18,
   "metadata": {},
   "outputs": [
    {
     "name": "stdout",
     "output_type": "stream",
     "text": [
      "Данные распределены по времени от 2019-10-07 до 2019-11-03\n"
     ]
    }
   ],
   "source": [
    "# Находим минимальную и максимальную даты\n",
    "print(f\"Данные распределены по времени от {(data['date'].dt.date).min()} до {(data['date'].dt.date).max()}\")"
   ]
  },
  {
   "cell_type": "markdown",
   "metadata": {},
   "source": [
    "Значит мы имеем данные от 10 октября до 3 ноября 2019 года - примерно 3,5 недели. Теперь посмотрим на основные данные, построив столбчатые диаграммы в разрезе дат."
   ]
  },
  {
   "cell_type": "code",
   "execution_count": 19,
   "metadata": {},
   "outputs": [
    {
     "data": {
      "text/html": [
       "<div>\n",
       "<style scoped>\n",
       "    .dataframe tbody tr th:only-of-type {\n",
       "        vertical-align: middle;\n",
       "    }\n",
       "\n",
       "    .dataframe tbody tr th {\n",
       "        vertical-align: top;\n",
       "    }\n",
       "\n",
       "    .dataframe thead th {\n",
       "        text-align: right;\n",
       "    }\n",
       "</style>\n",
       "<table border=\"1\" class=\"dataframe\">\n",
       "  <thead>\n",
       "    <tr style=\"text-align: right;\">\n",
       "      <th></th>\n",
       "      <th>date</th>\n",
       "      <th>event_name</th>\n",
       "      <th>event_count</th>\n",
       "    </tr>\n",
       "  </thead>\n",
       "  <tbody>\n",
       "    <tr>\n",
       "      <th>0</th>\n",
       "      <td>2019-10-07</td>\n",
       "      <td>advert_open</td>\n",
       "      <td>401</td>\n",
       "    </tr>\n",
       "    <tr>\n",
       "      <th>1</th>\n",
       "      <td>2019-10-07</td>\n",
       "      <td>contacts_call</td>\n",
       "      <td>7</td>\n",
       "    </tr>\n",
       "    <tr>\n",
       "      <th>2</th>\n",
       "      <td>2019-10-07</td>\n",
       "      <td>contacts_show</td>\n",
       "      <td>61</td>\n",
       "    </tr>\n",
       "    <tr>\n",
       "      <th>3</th>\n",
       "      <td>2019-10-07</td>\n",
       "      <td>favorites_add</td>\n",
       "      <td>40</td>\n",
       "    </tr>\n",
       "    <tr>\n",
       "      <th>4</th>\n",
       "      <td>2019-10-07</td>\n",
       "      <td>map</td>\n",
       "      <td>168</td>\n",
       "    </tr>\n",
       "  </tbody>\n",
       "</table>\n",
       "</div>"
      ],
      "text/plain": [
       "        date     event_name  event_count\n",
       "0 2019-10-07    advert_open          401\n",
       "1 2019-10-07  contacts_call            7\n",
       "2 2019-10-07  contacts_show           61\n",
       "3 2019-10-07  favorites_add           40\n",
       "4 2019-10-07            map          168"
      ]
     },
     "execution_count": 19,
     "metadata": {},
     "output_type": "execute_result"
    }
   ],
   "source": [
    "# Создадим столбец количеством каждого события по дням\n",
    "events_grouped = data.groupby(['date', 'event_name']).agg(\n",
    "    {'event_name':'count'}).rename(columns={'event_name':'event_count'}).reset_index()\n",
    "\n",
    "# Выведем первые 5 строк таблицы\n",
    "events_grouped.head(5)"
   ]
  },
  {
   "cell_type": "code",
   "execution_count": 20,
   "metadata": {},
   "outputs": [],
   "source": [
    "# Создадим функцию для визуализации\n",
    "def bar_chart(data, x, y, color=None, title=None, xaxis_title=None, yaxis_title=None):\n",
    "    '''Эта функция строит столбчатую диаграмму.\n",
    "    В функцию в качестве обязательных аргументов подаются датасет и его колонки для осей X и Y, \n",
    "    а в качестве необязательных аргументов - колонка датасета для разделения внутри столбца диаграммы по цветам, \n",
    "    а также название графика, название для оси X и для оси Y.\n",
    "    значение для сравнения и название сравниваемого показателя.\n",
    "    \n",
    "    Функция возвращает столбчатую диаграмму по рассматриваемым параметрам.\n",
    "    '''\n",
    "    fig = px.bar(data, x=x, y=y, color=color)\n",
    "    fig.update_layout(title=title, xaxis_title=xaxis_title, yaxis_title=yaxis_title)\n",
    "    fig.show()"
   ]
  },
  {
   "cell_type": "code",
   "execution_count": 21,
   "metadata": {},
   "outputs": [
    {
     "data": {
      "image/svg+xml": [
       "<svg class=\"main-svg\" xmlns=\"http://www.w3.org/2000/svg\" xmlns:xlink=\"http://www.w3.org/1999/xlink\" width=\"770.0000000000001\" height=\"550\" style=\"\" viewBox=\"0 0 700 500\"><rect x=\"0\" y=\"0\" width=\"700\" height=\"500\" style=\"fill: rgb(255, 255, 255); fill-opacity: 1;\"/><defs id=\"defs-0398f7\"><g class=\"clips\"><clipPath id=\"clip0398f7xyplot\" class=\"plotclip\"><rect width=\"465\" height=\"360\"/></clipPath><clipPath class=\"axesclip\" id=\"clip0398f7x\"><rect x=\"80\" y=\"0\" width=\"465\" height=\"500\"/></clipPath><clipPath class=\"axesclip\" id=\"clip0398f7y\"><rect x=\"0\" y=\"60\" width=\"700\" height=\"360\"/></clipPath><clipPath class=\"axesclip\" id=\"clip0398f7xy\"><rect x=\"80\" y=\"60\" width=\"465\" height=\"360\"/></clipPath></g><g class=\"gradients\"/><g class=\"patterns\"/></defs><g class=\"bglayer\"><rect class=\"bg\" x=\"80\" y=\"60\" width=\"465\" height=\"360\" style=\"fill: rgb(229, 236, 246); fill-opacity: 1; stroke-width: 0;\"/></g><g class=\"layer-below\"><g class=\"imagelayer\"/><g class=\"shapelayer\"/></g><g class=\"cartesianlayer\"><g class=\"subplot xy\"><g class=\"layer-subplot\"><g class=\"shapelayer\"/><g class=\"imagelayer\"/></g><g class=\"minor-gridlayer\"><g class=\"x\"/><g class=\"y\"/></g><g class=\"gridlayer\"><g class=\"x\"/><g class=\"y\"><path class=\"ygrid crisp\" transform=\"translate(0,369.12)\" d=\"M80,0h465\" style=\"stroke: rgb(255, 255, 255); stroke-opacity: 1; stroke-width: 1px;\"/><path class=\"ygrid crisp\" transform=\"translate(0,318.24)\" d=\"M80,0h465\" style=\"stroke: rgb(255, 255, 255); stroke-opacity: 1; stroke-width: 1px;\"/><path class=\"ygrid crisp\" transform=\"translate(0,267.37)\" d=\"M80,0h465\" style=\"stroke: rgb(255, 255, 255); stroke-opacity: 1; stroke-width: 1px;\"/><path class=\"ygrid crisp\" transform=\"translate(0,216.49)\" d=\"M80,0h465\" style=\"stroke: rgb(255, 255, 255); stroke-opacity: 1; stroke-width: 1px;\"/><path class=\"ygrid crisp\" transform=\"translate(0,165.61)\" d=\"M80,0h465\" style=\"stroke: rgb(255, 255, 255); stroke-opacity: 1; stroke-width: 1px;\"/><path class=\"ygrid crisp\" transform=\"translate(0,114.72999999999999)\" d=\"M80,0h465\" style=\"stroke: rgb(255, 255, 255); stroke-opacity: 1; stroke-width: 1px;\"/><path class=\"ygrid crisp\" transform=\"translate(0,63.86)\" d=\"M80,0h465\" style=\"stroke: rgb(255, 255, 255); stroke-opacity: 1; stroke-width: 1px;\"/></g></g><g class=\"zerolinelayer\"><path class=\"yzl zl crisp\" transform=\"translate(0,420)\" d=\"M80,0h465\" style=\"stroke: rgb(255, 255, 255); stroke-opacity: 1; stroke-width: 2px;\"/></g><path class=\"xlines-below\"/><path class=\"ylines-below\"/><g class=\"overlines-below\"/><g class=\"xaxislayer-below\"/><g class=\"yaxislayer-below\"/><g class=\"overaxes-below\"/><g class=\"plot\" transform=\"translate(80,60)\" clip-path=\"url(#clip0398f7xyplot)\"><g class=\"barlayer mlayer\"><g class=\"trace bars\" style=\"opacity: 1;\"><g class=\"points\"><g class=\"point\"><path d=\"M1.66,360V319.2H14.95V360Z\" style=\"vector-effect: non-scaling-stroke; opacity: 1; stroke-width: 0.5px; fill: rgb(99, 110, 250); fill-opacity: 1; stroke: rgb(229, 236, 246); stroke-opacity: 1;\"/></g><g class=\"point\"><path d=\"M18.27,360V339.04H31.55V360Z\" style=\"vector-effect: non-scaling-stroke; opacity: 1; stroke-width: 0.5px; fill: rgb(99, 110, 250); fill-opacity: 1; stroke: rgb(229, 236, 246); stroke-opacity: 1;\"/></g><g class=\"point\"><path d=\"M34.88,360V346.77H48.16V360Z\" style=\"vector-effect: non-scaling-stroke; opacity: 1; stroke-width: 0.5px; fill: rgb(99, 110, 250); fill-opacity: 1; stroke: rgb(229, 236, 246); stroke-opacity: 1;\"/></g><g class=\"point\"><path d=\"M51.48,360V349.32H64.77V360Z\" style=\"vector-effect: non-scaling-stroke; opacity: 1; stroke-width: 0.5px; fill: rgb(99, 110, 250); fill-opacity: 1; stroke: rgb(229, 236, 246); stroke-opacity: 1;\"/></g><g class=\"point\"><path d=\"M68.09,360V348.91H81.38V360Z\" style=\"vector-effect: non-scaling-stroke; opacity: 1; stroke-width: 0.5px; fill: rgb(99, 110, 250); fill-opacity: 1; stroke: rgb(229, 236, 246); stroke-opacity: 1;\"/></g><g class=\"point\"><path d=\"M84.7,360V345.65H97.98V360Z\" style=\"vector-effect: non-scaling-stroke; opacity: 1; stroke-width: 0.5px; fill: rgb(99, 110, 250); fill-opacity: 1; stroke: rgb(229, 236, 246); stroke-opacity: 1;\"/></g><g class=\"point\"><path d=\"M101.3,360V330.9H114.59V360Z\" style=\"vector-effect: non-scaling-stroke; opacity: 1; stroke-width: 0.5px; fill: rgb(99, 110, 250); fill-opacity: 1; stroke: rgb(229, 236, 246); stroke-opacity: 1;\"/></g><g class=\"point\"><path d=\"M117.91,360V343.11H131.2V360Z\" style=\"vector-effect: non-scaling-stroke; opacity: 1; stroke-width: 0.5px; fill: rgb(99, 110, 250); fill-opacity: 1; stroke: rgb(229, 236, 246); stroke-opacity: 1;\"/></g><g class=\"point\"><path d=\"M134.52,360V329.78H147.8V360Z\" style=\"vector-effect: non-scaling-stroke; opacity: 1; stroke-width: 0.5px; fill: rgb(99, 110, 250); fill-opacity: 1; stroke: rgb(229, 236, 246); stroke-opacity: 1;\"/></g><g class=\"point\"><path d=\"M151.13,360V334.15H164.41V360Z\" style=\"vector-effect: non-scaling-stroke; opacity: 1; stroke-width: 0.5px; fill: rgb(99, 110, 250); fill-opacity: 1; stroke: rgb(229, 236, 246); stroke-opacity: 1;\"/></g><g class=\"point\"><path d=\"M167.73,360V343.31H181.02V360Z\" style=\"vector-effect: non-scaling-stroke; opacity: 1; stroke-width: 0.5px; fill: rgb(99, 110, 250); fill-opacity: 1; stroke: rgb(229, 236, 246); stroke-opacity: 1;\"/></g><g class=\"point\"><path d=\"M184.34,360V341.07H197.63V360Z\" style=\"vector-effect: non-scaling-stroke; opacity: 1; stroke-width: 0.5px; fill: rgb(99, 110, 250); fill-opacity: 1; stroke: rgb(229, 236, 246); stroke-opacity: 1;\"/></g><g class=\"point\"><path d=\"M200.95,360V340.56H214.23V360Z\" style=\"vector-effect: non-scaling-stroke; opacity: 1; stroke-width: 0.5px; fill: rgb(99, 110, 250); fill-opacity: 1; stroke: rgb(229, 236, 246); stroke-opacity: 1;\"/></g><g class=\"point\"><path d=\"M217.55,360V346.57H230.84V360Z\" style=\"vector-effect: non-scaling-stroke; opacity: 1; stroke-width: 0.5px; fill: rgb(99, 110, 250); fill-opacity: 1; stroke: rgb(229, 236, 246); stroke-opacity: 1;\"/></g><g class=\"point\"><path d=\"M234.16,360V334.66H247.45V360Z\" style=\"vector-effect: non-scaling-stroke; opacity: 1; stroke-width: 0.5px; fill: rgb(99, 110, 250); fill-opacity: 1; stroke: rgb(229, 236, 246); stroke-opacity: 1;\"/></g><g class=\"point\"><path d=\"M250.77,360V343.31H264.05V360Z\" style=\"vector-effect: non-scaling-stroke; opacity: 1; stroke-width: 0.5px; fill: rgb(99, 110, 250); fill-opacity: 1; stroke: rgb(229, 236, 246); stroke-opacity: 1;\"/></g><g class=\"point\"><path d=\"M267.38,360V337.21H280.66V360Z\" style=\"vector-effect: non-scaling-stroke; opacity: 1; stroke-width: 0.5px; fill: rgb(99, 110, 250); fill-opacity: 1; stroke: rgb(229, 236, 246); stroke-opacity: 1;\"/></g><g class=\"point\"><path d=\"M283.98,360V335.17H297.27V360Z\" style=\"vector-effect: non-scaling-stroke; opacity: 1; stroke-width: 0.5px; fill: rgb(99, 110, 250); fill-opacity: 1; stroke: rgb(229, 236, 246); stroke-opacity: 1;\"/></g><g class=\"point\"><path d=\"M300.59,360V338.12H313.88V360Z\" style=\"vector-effect: non-scaling-stroke; opacity: 1; stroke-width: 0.5px; fill: rgb(99, 110, 250); fill-opacity: 1; stroke: rgb(229, 236, 246); stroke-opacity: 1;\"/></g><g class=\"point\"><path d=\"M317.2,360V332.12H330.48V360Z\" style=\"vector-effect: non-scaling-stroke; opacity: 1; stroke-width: 0.5px; fill: rgb(99, 110, 250); fill-opacity: 1; stroke: rgb(229, 236, 246); stroke-opacity: 1;\"/></g><g class=\"point\"><path d=\"M333.8,360V330.8H347.09V360Z\" style=\"vector-effect: non-scaling-stroke; opacity: 1; stroke-width: 0.5px; fill: rgb(99, 110, 250); fill-opacity: 1; stroke: rgb(229, 236, 246); stroke-opacity: 1;\"/></g><g class=\"point\"><path d=\"M350.41,360V328.96H363.7V360Z\" style=\"vector-effect: non-scaling-stroke; opacity: 1; stroke-width: 0.5px; fill: rgb(99, 110, 250); fill-opacity: 1; stroke: rgb(229, 236, 246); stroke-opacity: 1;\"/></g><g class=\"point\"><path d=\"M367.02,360V331H380.3V360Z\" style=\"vector-effect: non-scaling-stroke; opacity: 1; stroke-width: 0.5px; fill: rgb(99, 110, 250); fill-opacity: 1; stroke: rgb(229, 236, 246); stroke-opacity: 1;\"/></g><g class=\"point\"><path d=\"M383.63,360V335.88H396.91V360Z\" style=\"vector-effect: non-scaling-stroke; opacity: 1; stroke-width: 0.5px; fill: rgb(99, 110, 250); fill-opacity: 1; stroke: rgb(229, 236, 246); stroke-opacity: 1;\"/></g><g class=\"point\"><path d=\"M400.23,360V332.53H413.52V360Z\" style=\"vector-effect: non-scaling-stroke; opacity: 1; stroke-width: 0.5px; fill: rgb(99, 110, 250); fill-opacity: 1; stroke: rgb(229, 236, 246); stroke-opacity: 1;\"/></g><g class=\"point\"><path d=\"M416.84,360V336.8H430.13V360Z\" style=\"vector-effect: non-scaling-stroke; opacity: 1; stroke-width: 0.5px; fill: rgb(99, 110, 250); fill-opacity: 1; stroke: rgb(229, 236, 246); stroke-opacity: 1;\"/></g><g class=\"point\"><path d=\"M433.45,360V351.05H446.73V360Z\" style=\"vector-effect: non-scaling-stroke; opacity: 1; stroke-width: 0.5px; fill: rgb(99, 110, 250); fill-opacity: 1; stroke: rgb(229, 236, 246); stroke-opacity: 1;\"/></g><g class=\"point\"><path d=\"M450.05,360V326.83H463.34V360Z\" style=\"vector-effect: non-scaling-stroke; opacity: 1; stroke-width: 0.5px; fill: rgb(99, 110, 250); fill-opacity: 1; stroke: rgb(229, 236, 246); stroke-opacity: 1;\"/></g></g></g><g class=\"trace bars\" style=\"opacity: 1;\"><g class=\"points\"><g class=\"point\"><path d=\"M1.66,319.2V318.48H14.95V319.2Z\" style=\"vector-effect: non-scaling-stroke; opacity: 1; stroke-width: 0.5px; fill: rgb(239, 85, 59); fill-opacity: 1; stroke: rgb(229, 236, 246); stroke-opacity: 1;\"/></g><g class=\"point\"><path d=\"M18.27,339.04V336.7H31.55V339.04Z\" style=\"vector-effect: non-scaling-stroke; opacity: 1; stroke-width: 0.5px; fill: rgb(239, 85, 59); fill-opacity: 1; stroke: rgb(229, 236, 246); stroke-opacity: 1;\"/></g><g class=\"point\"><path d=\"M34.88,346.77V345.75H48.16V346.77Z\" style=\"vector-effect: non-scaling-stroke; opacity: 1; stroke-width: 0.5px; fill: rgb(239, 85, 59); fill-opacity: 1; stroke: rgb(229, 236, 246); stroke-opacity: 1;\"/></g><g class=\"point\"><path d=\"M51.48,349.32V347.38H64.77V349.32Z\" style=\"vector-effect: non-scaling-stroke; opacity: 1; stroke-width: 0.5px; fill: rgb(239, 85, 59); fill-opacity: 1; stroke: rgb(229, 236, 246); stroke-opacity: 1;\"/></g><g class=\"point\"><path d=\"M68.09,348.91V348.3H81.38V348.91Z\" style=\"vector-effect: non-scaling-stroke; opacity: 1; stroke-width: 0.5px; fill: rgb(239, 85, 59); fill-opacity: 1; stroke: rgb(229, 236, 246); stroke-opacity: 1;\"/></g><g class=\"point\"><path d=\"M84.7,345.65V344.63H97.98V345.65Z\" style=\"vector-effect: non-scaling-stroke; opacity: 1; stroke-width: 0.5px; fill: rgb(239, 85, 59); fill-opacity: 1; stroke: rgb(229, 236, 246); stroke-opacity: 1;\"/></g><g class=\"point\"><path d=\"M101.3,330.9V330.49H114.59V330.9Z\" style=\"vector-effect: non-scaling-stroke; opacity: 1; stroke-width: 0.5px; fill: rgb(239, 85, 59); fill-opacity: 1; stroke: rgb(229, 236, 246); stroke-opacity: 1;\"/></g><g class=\"point\"><path d=\"M117.91,343.11V341.07H131.2V343.11Z\" style=\"vector-effect: non-scaling-stroke; opacity: 1; stroke-width: 0.5px; fill: rgb(239, 85, 59); fill-opacity: 1; stroke: rgb(229, 236, 246); stroke-opacity: 1;\"/></g><g class=\"point\"><path d=\"M134.52,329.78V326.52H147.8V329.78Z\" style=\"vector-effect: non-scaling-stroke; opacity: 1; stroke-width: 0.5px; fill: rgb(239, 85, 59); fill-opacity: 1; stroke: rgb(229, 236, 246); stroke-opacity: 1;\"/></g><g class=\"point\"><path d=\"M151.13,334.15V332.42H164.41V334.15Z\" style=\"vector-effect: non-scaling-stroke; opacity: 1; stroke-width: 0.5px; fill: rgb(239, 85, 59); fill-opacity: 1; stroke: rgb(229, 236, 246); stroke-opacity: 1;\"/></g><g class=\"point\"><path d=\"M167.73,343.31V339.75H181.02V343.31Z\" style=\"vector-effect: non-scaling-stroke; opacity: 1; stroke-width: 0.5px; fill: rgb(239, 85, 59); fill-opacity: 1; stroke: rgb(229, 236, 246); stroke-opacity: 1;\"/></g><g class=\"point\"><path d=\"M184.34,341.07V339.45H197.63V341.07Z\" style=\"vector-effect: non-scaling-stroke; opacity: 1; stroke-width: 0.5px; fill: rgb(239, 85, 59); fill-opacity: 1; stroke: rgb(229, 236, 246); stroke-opacity: 1;\"/></g><g class=\"point\"><path d=\"M200.95,340.56V338.53H214.23V340.56Z\" style=\"vector-effect: non-scaling-stroke; opacity: 1; stroke-width: 0.5px; fill: rgb(239, 85, 59); fill-opacity: 1; stroke: rgb(229, 236, 246); stroke-opacity: 1;\"/></g><g class=\"point\"><path d=\"M217.55,346.57V343.52H230.84V346.57Z\" style=\"vector-effect: non-scaling-stroke; opacity: 1; stroke-width: 0.5px; fill: rgb(239, 85, 59); fill-opacity: 1; stroke: rgb(229, 236, 246); stroke-opacity: 1;\"/></g><g class=\"point\"><path d=\"M234.16,334.66V333.14H247.45V334.66Z\" style=\"vector-effect: non-scaling-stroke; opacity: 1; stroke-width: 0.5px; fill: rgb(239, 85, 59); fill-opacity: 1; stroke: rgb(229, 236, 246); stroke-opacity: 1;\"/></g><g class=\"point\"><path d=\"M250.77,343.31V341.38H264.05V343.31Z\" style=\"vector-effect: non-scaling-stroke; opacity: 1; stroke-width: 0.5px; fill: rgb(239, 85, 59); fill-opacity: 1; stroke: rgb(229, 236, 246); stroke-opacity: 1;\"/></g><g class=\"point\"><path d=\"M267.38,337.21V334.97H280.66V337.21Z\" style=\"vector-effect: non-scaling-stroke; opacity: 1; stroke-width: 0.5px; fill: rgb(239, 85, 59); fill-opacity: 1; stroke: rgb(229, 236, 246); stroke-opacity: 1;\"/></g><g class=\"point\"><path d=\"M283.98,335.17V331.61H297.27V335.17Z\" style=\"vector-effect: non-scaling-stroke; opacity: 1; stroke-width: 0.5px; fill: rgb(239, 85, 59); fill-opacity: 1; stroke: rgb(229, 236, 246); stroke-opacity: 1;\"/></g><g class=\"point\"><path d=\"M300.59,338.12V336.19H313.88V338.12Z\" style=\"vector-effect: non-scaling-stroke; opacity: 1; stroke-width: 0.5px; fill: rgb(239, 85, 59); fill-opacity: 1; stroke: rgb(229, 236, 246); stroke-opacity: 1;\"/></g><g class=\"point\"><path d=\"M317.2,332.12V330.19H330.48V332.12Z\" style=\"vector-effect: non-scaling-stroke; opacity: 1; stroke-width: 0.5px; fill: rgb(239, 85, 59); fill-opacity: 1; stroke: rgb(229, 236, 246); stroke-opacity: 1;\"/></g><g class=\"point\"><path d=\"M333.8,330.8V329.17H347.09V330.8Z\" style=\"vector-effect: non-scaling-stroke; opacity: 1; stroke-width: 0.5px; fill: rgb(239, 85, 59); fill-opacity: 1; stroke: rgb(229, 236, 246); stroke-opacity: 1;\"/></g><g class=\"point\"><path d=\"M350.41,328.96V325.81H363.7V328.96Z\" style=\"vector-effect: non-scaling-stroke; opacity: 1; stroke-width: 0.5px; fill: rgb(239, 85, 59); fill-opacity: 1; stroke: rgb(229, 236, 246); stroke-opacity: 1;\"/></g><g class=\"point\"><path d=\"M367.02,331V329.78H380.3V331Z\" style=\"vector-effect: non-scaling-stroke; opacity: 1; stroke-width: 0.5px; fill: rgb(239, 85, 59); fill-opacity: 1; stroke: rgb(229, 236, 246); stroke-opacity: 1;\"/></g><g class=\"point\"><path d=\"M383.63,335.88V333.34H396.91V335.88Z\" style=\"vector-effect: non-scaling-stroke; opacity: 1; stroke-width: 0.5px; fill: rgb(239, 85, 59); fill-opacity: 1; stroke: rgb(229, 236, 246); stroke-opacity: 1;\"/></g><g class=\"point\"><path d=\"M400.23,332.53V329.58H413.52V332.53Z\" style=\"vector-effect: non-scaling-stroke; opacity: 1; stroke-width: 0.5px; fill: rgb(239, 85, 59); fill-opacity: 1; stroke: rgb(229, 236, 246); stroke-opacity: 1;\"/></g><g class=\"point\"><path d=\"M416.84,336.8V335.58H430.13V336.8Z\" style=\"vector-effect: non-scaling-stroke; opacity: 1; stroke-width: 0.5px; fill: rgb(239, 85, 59); fill-opacity: 1; stroke: rgb(229, 236, 246); stroke-opacity: 1;\"/></g><g class=\"point\"><path d=\"M433.45,351.05V349.21H446.73V351.05Z\" style=\"vector-effect: non-scaling-stroke; opacity: 1; stroke-width: 0.5px; fill: rgb(239, 85, 59); fill-opacity: 1; stroke: rgb(229, 236, 246); stroke-opacity: 1;\"/></g><g class=\"point\"><path d=\"M450.05,326.83V324.79H463.34V326.83Z\" style=\"vector-effect: non-scaling-stroke; opacity: 1; stroke-width: 0.5px; fill: rgb(239, 85, 59); fill-opacity: 1; stroke: rgb(229, 236, 246); stroke-opacity: 1;\"/></g></g></g><g class=\"trace bars\" style=\"opacity: 1;\"><g class=\"points\"><g class=\"point\"><path d=\"M1.66,318.48V312.28H14.95V318.48Z\" style=\"vector-effect: non-scaling-stroke; opacity: 1; stroke-width: 0.5px; fill: rgb(0, 204, 150); fill-opacity: 1; stroke: rgb(229, 236, 246); stroke-opacity: 1;\"/></g><g class=\"point\"><path d=\"M18.27,336.7V324.59H31.55V336.7Z\" style=\"vector-effect: non-scaling-stroke; opacity: 1; stroke-width: 0.5px; fill: rgb(0, 204, 150); fill-opacity: 1; stroke: rgb(229, 236, 246); stroke-opacity: 1;\"/></g><g class=\"point\"><path d=\"M34.88,345.75V335.68H48.16V345.75Z\" style=\"vector-effect: non-scaling-stroke; opacity: 1; stroke-width: 0.5px; fill: rgb(0, 204, 150); fill-opacity: 1; stroke: rgb(229, 236, 246); stroke-opacity: 1;\"/></g><g class=\"point\"><path d=\"M51.48,347.38V336.6H64.77V347.38Z\" style=\"vector-effect: non-scaling-stroke; opacity: 1; stroke-width: 0.5px; fill: rgb(0, 204, 150); fill-opacity: 1; stroke: rgb(229, 236, 246); stroke-opacity: 1;\"/></g><g class=\"point\"><path d=\"M68.09,348.3V339.34H81.38V348.3Z\" style=\"vector-effect: non-scaling-stroke; opacity: 1; stroke-width: 0.5px; fill: rgb(0, 204, 150); fill-opacity: 1; stroke: rgb(229, 236, 246); stroke-opacity: 1;\"/></g><g class=\"point\"><path d=\"M84.7,344.63V339.14H97.98V344.63Z\" style=\"vector-effect: non-scaling-stroke; opacity: 1; stroke-width: 0.5px; fill: rgb(0, 204, 150); fill-opacity: 1; stroke: rgb(229, 236, 246); stroke-opacity: 1;\"/></g><g class=\"point\"><path d=\"M101.3,330.49V319.6H114.59V330.49Z\" style=\"vector-effect: non-scaling-stroke; opacity: 1; stroke-width: 0.5px; fill: rgb(0, 204, 150); fill-opacity: 1; stroke: rgb(229, 236, 246); stroke-opacity: 1;\"/></g><g class=\"point\"><path d=\"M117.91,341.07V319.5H131.2V341.07Z\" style=\"vector-effect: non-scaling-stroke; opacity: 1; stroke-width: 0.5px; fill: rgb(0, 204, 150); fill-opacity: 1; stroke: rgb(229, 236, 246); stroke-opacity: 1;\"/></g><g class=\"point\"><path d=\"M134.52,326.52V304.95H147.8V326.52Z\" style=\"vector-effect: non-scaling-stroke; opacity: 1; stroke-width: 0.5px; fill: rgb(0, 204, 150); fill-opacity: 1; stroke: rgb(229, 236, 246); stroke-opacity: 1;\"/></g><g class=\"point\"><path d=\"M151.13,332.42V313.4H164.41V332.42Z\" style=\"vector-effect: non-scaling-stroke; opacity: 1; stroke-width: 0.5px; fill: rgb(0, 204, 150); fill-opacity: 1; stroke: rgb(229, 236, 246); stroke-opacity: 1;\"/></g><g class=\"point\"><path d=\"M167.73,339.75V312.79H181.02V339.75Z\" style=\"vector-effect: non-scaling-stroke; opacity: 1; stroke-width: 0.5px; fill: rgb(0, 204, 150); fill-opacity: 1; stroke: rgb(229, 236, 246); stroke-opacity: 1;\"/></g><g class=\"point\"><path d=\"M184.34,339.45V322.55H197.63V339.45Z\" style=\"vector-effect: non-scaling-stroke; opacity: 1; stroke-width: 0.5px; fill: rgb(0, 204, 150); fill-opacity: 1; stroke: rgb(229, 236, 246); stroke-opacity: 1;\"/></g><g class=\"point\"><path d=\"M200.95,338.53V329.37H214.23V338.53Z\" style=\"vector-effect: non-scaling-stroke; opacity: 1; stroke-width: 0.5px; fill: rgb(0, 204, 150); fill-opacity: 1; stroke: rgb(229, 236, 246); stroke-opacity: 1;\"/></g><g class=\"point\"><path d=\"M217.55,343.52V324.89H230.84V343.52Z\" style=\"vector-effect: non-scaling-stroke; opacity: 1; stroke-width: 0.5px; fill: rgb(0, 204, 150); fill-opacity: 1; stroke: rgb(229, 236, 246); stroke-opacity: 1;\"/></g><g class=\"point\"><path d=\"M234.16,333.14V315.33H247.45V333.14Z\" style=\"vector-effect: non-scaling-stroke; opacity: 1; stroke-width: 0.5px; fill: rgb(0, 204, 150); fill-opacity: 1; stroke: rgb(229, 236, 246); stroke-opacity: 1;\"/></g><g class=\"point\"><path d=\"M250.77,341.38V319.5H264.05V341.38Z\" style=\"vector-effect: non-scaling-stroke; opacity: 1; stroke-width: 0.5px; fill: rgb(0, 204, 150); fill-opacity: 1; stroke: rgb(229, 236, 246); stroke-opacity: 1;\"/></g><g class=\"point\"><path d=\"M267.38,334.97V310.65H280.66V334.97Z\" style=\"vector-effect: non-scaling-stroke; opacity: 1; stroke-width: 0.5px; fill: rgb(0, 204, 150); fill-opacity: 1; stroke: rgb(229, 236, 246); stroke-opacity: 1;\"/></g><g class=\"point\"><path d=\"M283.98,331.61V309.22H297.27V331.61Z\" style=\"vector-effect: non-scaling-stroke; opacity: 1; stroke-width: 0.5px; fill: rgb(0, 204, 150); fill-opacity: 1; stroke: rgb(229, 236, 246); stroke-opacity: 1;\"/></g><g class=\"point\"><path d=\"M300.59,336.19V317.06H313.88V336.19Z\" style=\"vector-effect: non-scaling-stroke; opacity: 1; stroke-width: 0.5px; fill: rgb(0, 204, 150); fill-opacity: 1; stroke: rgb(229, 236, 246); stroke-opacity: 1;\"/></g><g class=\"point\"><path d=\"M317.2,330.19V311.77H330.48V330.19Z\" style=\"vector-effect: non-scaling-stroke; opacity: 1; stroke-width: 0.5px; fill: rgb(0, 204, 150); fill-opacity: 1; stroke: rgb(229, 236, 246); stroke-opacity: 1;\"/></g><g class=\"point\"><path d=\"M333.8,329.17V318.89H347.09V329.17Z\" style=\"vector-effect: non-scaling-stroke; opacity: 1; stroke-width: 0.5px; fill: rgb(0, 204, 150); fill-opacity: 1; stroke: rgb(229, 236, 246); stroke-opacity: 1;\"/></g><g class=\"point\"><path d=\"M350.41,325.81V305.66H363.7V325.81Z\" style=\"vector-effect: non-scaling-stroke; opacity: 1; stroke-width: 0.5px; fill: rgb(0, 204, 150); fill-opacity: 1; stroke: rgb(229, 236, 246); stroke-opacity: 1;\"/></g><g class=\"point\"><path d=\"M367.02,329.78V313.29H380.3V329.78Z\" style=\"vector-effect: non-scaling-stroke; opacity: 1; stroke-width: 0.5px; fill: rgb(0, 204, 150); fill-opacity: 1; stroke: rgb(229, 236, 246); stroke-opacity: 1;\"/></g><g class=\"point\"><path d=\"M383.63,333.34V314.01H396.91V333.34Z\" style=\"vector-effect: non-scaling-stroke; opacity: 1; stroke-width: 0.5px; fill: rgb(0, 204, 150); fill-opacity: 1; stroke: rgb(229, 236, 246); stroke-opacity: 1;\"/></g><g class=\"point\"><path d=\"M400.23,329.58V305.76H413.52V329.58Z\" style=\"vector-effect: non-scaling-stroke; opacity: 1; stroke-width: 0.5px; fill: rgb(0, 204, 150); fill-opacity: 1; stroke: rgb(229, 236, 246); stroke-opacity: 1;\"/></g><g class=\"point\"><path d=\"M416.84,335.58V312.89H430.13V335.58Z\" style=\"vector-effect: non-scaling-stroke; opacity: 1; stroke-width: 0.5px; fill: rgb(0, 204, 150); fill-opacity: 1; stroke: rgb(229, 236, 246); stroke-opacity: 1;\"/></g><g class=\"point\"><path d=\"M433.45,349.21V336.8H446.73V349.21Z\" style=\"vector-effect: non-scaling-stroke; opacity: 1; stroke-width: 0.5px; fill: rgb(0, 204, 150); fill-opacity: 1; stroke: rgb(229, 236, 246); stroke-opacity: 1;\"/></g><g class=\"point\"><path d=\"M450.05,324.79V311.36H463.34V324.79Z\" style=\"vector-effect: non-scaling-stroke; opacity: 1; stroke-width: 0.5px; fill: rgb(0, 204, 150); fill-opacity: 1; stroke: rgb(229, 236, 246); stroke-opacity: 1;\"/></g></g></g><g class=\"trace bars\" style=\"opacity: 1;\"><g class=\"points\"><g class=\"point\"><path d=\"M1.66,312.28V308.21H14.95V312.28Z\" style=\"vector-effect: non-scaling-stroke; opacity: 1; stroke-width: 0.5px; fill: rgb(171, 99, 250); fill-opacity: 1; stroke: rgb(229, 236, 246); stroke-opacity: 1;\"/></g><g class=\"point\"><path d=\"M18.27,324.59V314.72H31.55V324.59Z\" style=\"vector-effect: non-scaling-stroke; opacity: 1; stroke-width: 0.5px; fill: rgb(171, 99, 250); fill-opacity: 1; stroke: rgb(229, 236, 246); stroke-opacity: 1;\"/></g><g class=\"point\"><path d=\"M34.88,335.68V331.3H48.16V335.68Z\" style=\"vector-effect: non-scaling-stroke; opacity: 1; stroke-width: 0.5px; fill: rgb(171, 99, 250); fill-opacity: 1; stroke: rgb(229, 236, 246); stroke-opacity: 1;\"/></g><g class=\"point\"><path d=\"M51.48,336.6V333.54H64.77V336.6Z\" style=\"vector-effect: non-scaling-stroke; opacity: 1; stroke-width: 0.5px; fill: rgb(171, 99, 250); fill-opacity: 1; stroke: rgb(229, 236, 246); stroke-opacity: 1;\"/></g><g class=\"point\"><path d=\"M68.09,339.34V337.72H81.38V339.34Z\" style=\"vector-effect: non-scaling-stroke; opacity: 1; stroke-width: 0.5px; fill: rgb(171, 99, 250); fill-opacity: 1; stroke: rgb(229, 236, 246); stroke-opacity: 1;\"/></g><g class=\"point\"><path d=\"M84.7,339.14V335.38H97.98V339.14Z\" style=\"vector-effect: non-scaling-stroke; opacity: 1; stroke-width: 0.5px; fill: rgb(171, 99, 250); fill-opacity: 1; stroke: rgb(229, 236, 246); stroke-opacity: 1;\"/></g><g class=\"point\"><path d=\"M101.3,319.6V315.13H114.59V319.6Z\" style=\"vector-effect: non-scaling-stroke; opacity: 1; stroke-width: 0.5px; fill: rgb(171, 99, 250); fill-opacity: 1; stroke: rgb(229, 236, 246); stroke-opacity: 1;\"/></g><g class=\"point\"><path d=\"M117.91,319.5V314.52H131.2V319.5Z\" style=\"vector-effect: non-scaling-stroke; opacity: 1; stroke-width: 0.5px; fill: rgb(171, 99, 250); fill-opacity: 1; stroke: rgb(229, 236, 246); stroke-opacity: 1;\"/></g><g class=\"point\"><path d=\"M134.52,304.95V298.54H147.8V304.95Z\" style=\"vector-effect: non-scaling-stroke; opacity: 1; stroke-width: 0.5px; fill: rgb(171, 99, 250); fill-opacity: 1; stroke: rgb(229, 236, 246); stroke-opacity: 1;\"/></g><g class=\"point\"><path d=\"M151.13,313.4V311.26H164.41V313.4Z\" style=\"vector-effect: non-scaling-stroke; opacity: 1; stroke-width: 0.5px; fill: rgb(171, 99, 250); fill-opacity: 1; stroke: rgb(229, 236, 246); stroke-opacity: 1;\"/></g><g class=\"point\"><path d=\"M167.73,312.79V307.09H181.02V312.79Z\" style=\"vector-effect: non-scaling-stroke; opacity: 1; stroke-width: 0.5px; fill: rgb(171, 99, 250); fill-opacity: 1; stroke: rgb(229, 236, 246); stroke-opacity: 1;\"/></g><g class=\"point\"><path d=\"M184.34,322.55V318.99H197.63V322.55Z\" style=\"vector-effect: non-scaling-stroke; opacity: 1; stroke-width: 0.5px; fill: rgb(171, 99, 250); fill-opacity: 1; stroke: rgb(229, 236, 246); stroke-opacity: 1;\"/></g><g class=\"point\"><path d=\"M200.95,329.37V325.1H214.23V329.37Z\" style=\"vector-effect: non-scaling-stroke; opacity: 1; stroke-width: 0.5px; fill: rgb(171, 99, 250); fill-opacity: 1; stroke: rgb(229, 236, 246); stroke-opacity: 1;\"/></g><g class=\"point\"><path d=\"M217.55,324.89V319.81H230.84V324.89Z\" style=\"vector-effect: non-scaling-stroke; opacity: 1; stroke-width: 0.5px; fill: rgb(171, 99, 250); fill-opacity: 1; stroke: rgb(229, 236, 246); stroke-opacity: 1;\"/></g><g class=\"point\"><path d=\"M234.16,315.33V311.77H247.45V315.33Z\" style=\"vector-effect: non-scaling-stroke; opacity: 1; stroke-width: 0.5px; fill: rgb(171, 99, 250); fill-opacity: 1; stroke: rgb(229, 236, 246); stroke-opacity: 1;\"/></g><g class=\"point\"><path d=\"M250.77,319.5V312.68H264.05V319.5Z\" style=\"vector-effect: non-scaling-stroke; opacity: 1; stroke-width: 0.5px; fill: rgb(171, 99, 250); fill-opacity: 1; stroke: rgb(229, 236, 246); stroke-opacity: 1;\"/></g><g class=\"point\"><path d=\"M267.38,310.65V305.05H280.66V310.65Z\" style=\"vector-effect: non-scaling-stroke; opacity: 1; stroke-width: 0.5px; fill: rgb(171, 99, 250); fill-opacity: 1; stroke: rgb(229, 236, 246); stroke-opacity: 1;\"/></g><g class=\"point\"><path d=\"M283.98,309.22V302.3H297.27V309.22Z\" style=\"vector-effect: non-scaling-stroke; opacity: 1; stroke-width: 0.5px; fill: rgb(171, 99, 250); fill-opacity: 1; stroke: rgb(229, 236, 246); stroke-opacity: 1;\"/></g><g class=\"point\"><path d=\"M300.59,317.06V311.87H313.88V317.06Z\" style=\"vector-effect: non-scaling-stroke; opacity: 1; stroke-width: 0.5px; fill: rgb(171, 99, 250); fill-opacity: 1; stroke: rgb(229, 236, 246); stroke-opacity: 1;\"/></g><g class=\"point\"><path d=\"M317.2,311.77V307.9H330.48V311.77Z\" style=\"vector-effect: non-scaling-stroke; opacity: 1; stroke-width: 0.5px; fill: rgb(171, 99, 250); fill-opacity: 1; stroke: rgb(229, 236, 246); stroke-opacity: 1;\"/></g><g class=\"point\"><path d=\"M333.8,318.89V311.77H347.09V318.89Z\" style=\"vector-effect: non-scaling-stroke; opacity: 1; stroke-width: 0.5px; fill: rgb(171, 99, 250); fill-opacity: 1; stroke: rgb(229, 236, 246); stroke-opacity: 1;\"/></g><g class=\"point\"><path d=\"M350.41,305.66V303.83H363.7V305.66Z\" style=\"vector-effect: non-scaling-stroke; opacity: 1; stroke-width: 0.5px; fill: rgb(171, 99, 250); fill-opacity: 1; stroke: rgb(229, 236, 246); stroke-opacity: 1;\"/></g><g class=\"point\"><path d=\"M367.02,313.29V305.56H380.3V313.29Z\" style=\"vector-effect: non-scaling-stroke; opacity: 1; stroke-width: 0.5px; fill: rgb(171, 99, 250); fill-opacity: 1; stroke: rgb(229, 236, 246); stroke-opacity: 1;\"/></g><g class=\"point\"><path d=\"M383.63,314.01V301.8H396.91V314.01Z\" style=\"vector-effect: non-scaling-stroke; opacity: 1; stroke-width: 0.5px; fill: rgb(171, 99, 250); fill-opacity: 1; stroke: rgb(229, 236, 246); stroke-opacity: 1;\"/></g><g class=\"point\"><path d=\"M400.23,305.76V302H413.52V305.76Z\" style=\"vector-effect: non-scaling-stroke; opacity: 1; stroke-width: 0.5px; fill: rgb(171, 99, 250); fill-opacity: 1; stroke: rgb(229, 236, 246); stroke-opacity: 1;\"/></g><g class=\"point\"><path d=\"M416.84,312.89V308.82H430.13V312.89Z\" style=\"vector-effect: non-scaling-stroke; opacity: 1; stroke-width: 0.5px; fill: rgb(171, 99, 250); fill-opacity: 1; stroke: rgb(229, 236, 246); stroke-opacity: 1;\"/></g><g class=\"point\"><path d=\"M433.45,336.8V332.32H446.73V336.8Z\" style=\"vector-effect: non-scaling-stroke; opacity: 1; stroke-width: 0.5px; fill: rgb(171, 99, 250); fill-opacity: 1; stroke: rgb(229, 236, 246); stroke-opacity: 1;\"/></g><g class=\"point\"><path d=\"M450.05,311.36V303.73H463.34V311.36Z\" style=\"vector-effect: non-scaling-stroke; opacity: 1; stroke-width: 0.5px; fill: rgb(171, 99, 250); fill-opacity: 1; stroke: rgb(229, 236, 246); stroke-opacity: 1;\"/></g></g></g><g class=\"trace bars\" style=\"opacity: 1;\"><g class=\"points\"><g class=\"point\"><path d=\"M1.66,308.21V291.11H14.95V308.21Z\" style=\"vector-effect: non-scaling-stroke; opacity: 1; stroke-width: 0.5px; fill: rgb(255, 161, 90); fill-opacity: 1; stroke: rgb(229, 236, 246); stroke-opacity: 1;\"/></g><g class=\"point\"><path d=\"M18.27,314.72V288.16H31.55V314.72Z\" style=\"vector-effect: non-scaling-stroke; opacity: 1; stroke-width: 0.5px; fill: rgb(255, 161, 90); fill-opacity: 1; stroke: rgb(229, 236, 246); stroke-opacity: 1;\"/></g><g class=\"point\"><path d=\"M34.88,331.3V317.77H48.16V331.3Z\" style=\"vector-effect: non-scaling-stroke; opacity: 1; stroke-width: 0.5px; fill: rgb(255, 161, 90); fill-opacity: 1; stroke: rgb(229, 236, 246); stroke-opacity: 1;\"/></g><g class=\"point\"><path d=\"M51.48,333.54V316.96H64.77V333.54Z\" style=\"vector-effect: non-scaling-stroke; opacity: 1; stroke-width: 0.5px; fill: rgb(255, 161, 90); fill-opacity: 1; stroke: rgb(229, 236, 246); stroke-opacity: 1;\"/></g><g class=\"point\"><path d=\"M68.09,337.72V326.73H81.38V337.72Z\" style=\"vector-effect: non-scaling-stroke; opacity: 1; stroke-width: 0.5px; fill: rgb(255, 161, 90); fill-opacity: 1; stroke: rgb(229, 236, 246); stroke-opacity: 1;\"/></g><g class=\"point\"><path d=\"M84.7,335.38V323.98H97.98V335.38Z\" style=\"vector-effect: non-scaling-stroke; opacity: 1; stroke-width: 0.5px; fill: rgb(255, 161, 90); fill-opacity: 1; stroke: rgb(229, 236, 246); stroke-opacity: 1;\"/></g><g class=\"point\"><path d=\"M101.3,315.13V299.66H114.59V315.13Z\" style=\"vector-effect: non-scaling-stroke; opacity: 1; stroke-width: 0.5px; fill: rgb(255, 161, 90); fill-opacity: 1; stroke: rgb(229, 236, 246); stroke-opacity: 1;\"/></g><g class=\"point\"><path d=\"M117.91,314.52V296.3H131.2V314.52Z\" style=\"vector-effect: non-scaling-stroke; opacity: 1; stroke-width: 0.5px; fill: rgb(255, 161, 90); fill-opacity: 1; stroke: rgb(229, 236, 246); stroke-opacity: 1;\"/></g><g class=\"point\"><path d=\"M134.52,298.54V283.48H147.8V298.54Z\" style=\"vector-effect: non-scaling-stroke; opacity: 1; stroke-width: 0.5px; fill: rgb(255, 161, 90); fill-opacity: 1; stroke: rgb(229, 236, 246); stroke-opacity: 1;\"/></g><g class=\"point\"><path d=\"M151.13,311.26V296.2H164.41V311.26Z\" style=\"vector-effect: non-scaling-stroke; opacity: 1; stroke-width: 0.5px; fill: rgb(255, 161, 90); fill-opacity: 1; stroke: rgb(229, 236, 246); stroke-opacity: 1;\"/></g><g class=\"point\"><path d=\"M167.73,307.09V290.81H181.02V307.09Z\" style=\"vector-effect: non-scaling-stroke; opacity: 1; stroke-width: 0.5px; fill: rgb(255, 161, 90); fill-opacity: 1; stroke: rgb(229, 236, 246); stroke-opacity: 1;\"/></g><g class=\"point\"><path d=\"M184.34,318.99V306.07H197.63V318.99Z\" style=\"vector-effect: non-scaling-stroke; opacity: 1; stroke-width: 0.5px; fill: rgb(255, 161, 90); fill-opacity: 1; stroke: rgb(229, 236, 246); stroke-opacity: 1;\"/></g><g class=\"point\"><path d=\"M200.95,325.1V312.68H214.23V325.1Z\" style=\"vector-effect: non-scaling-stroke; opacity: 1; stroke-width: 0.5px; fill: rgb(255, 161, 90); fill-opacity: 1; stroke: rgb(229, 236, 246); stroke-opacity: 1;\"/></g><g class=\"point\"><path d=\"M217.55,319.81V306.48H230.84V319.81Z\" style=\"vector-effect: non-scaling-stroke; opacity: 1; stroke-width: 0.5px; fill: rgb(255, 161, 90); fill-opacity: 1; stroke: rgb(229, 236, 246); stroke-opacity: 1;\"/></g><g class=\"point\"><path d=\"M234.16,311.77V285.01H247.45V311.77Z\" style=\"vector-effect: non-scaling-stroke; opacity: 1; stroke-width: 0.5px; fill: rgb(255, 161, 90); fill-opacity: 1; stroke: rgb(229, 236, 246); stroke-opacity: 1;\"/></g><g class=\"point\"><path d=\"M250.77,312.68V297.52H264.05V312.68Z\" style=\"vector-effect: non-scaling-stroke; opacity: 1; stroke-width: 0.5px; fill: rgb(255, 161, 90); fill-opacity: 1; stroke: rgb(229, 236, 246); stroke-opacity: 1;\"/></g><g class=\"point\"><path d=\"M267.38,305.05V285.11H280.66V305.05Z\" style=\"vector-effect: non-scaling-stroke; opacity: 1; stroke-width: 0.5px; fill: rgb(255, 161, 90); fill-opacity: 1; stroke: rgb(229, 236, 246); stroke-opacity: 1;\"/></g><g class=\"point\"><path d=\"M283.98,302.3V285.72H297.27V302.3Z\" style=\"vector-effect: non-scaling-stroke; opacity: 1; stroke-width: 0.5px; fill: rgb(255, 161, 90); fill-opacity: 1; stroke: rgb(229, 236, 246); stroke-opacity: 1;\"/></g><g class=\"point\"><path d=\"M300.59,311.87V299.76H313.88V311.87Z\" style=\"vector-effect: non-scaling-stroke; opacity: 1; stroke-width: 0.5px; fill: rgb(255, 161, 90); fill-opacity: 1; stroke: rgb(229, 236, 246); stroke-opacity: 1;\"/></g><g class=\"point\"><path d=\"M317.2,307.9V293.55H330.48V307.9Z\" style=\"vector-effect: non-scaling-stroke; opacity: 1; stroke-width: 0.5px; fill: rgb(255, 161, 90); fill-opacity: 1; stroke: rgb(229, 236, 246); stroke-opacity: 1;\"/></g><g class=\"point\"><path d=\"M333.8,311.77V299.25H347.09V311.77Z\" style=\"vector-effect: non-scaling-stroke; opacity: 1; stroke-width: 0.5px; fill: rgb(255, 161, 90); fill-opacity: 1; stroke: rgb(229, 236, 246); stroke-opacity: 1;\"/></g><g class=\"point\"><path d=\"M350.41,303.83V280.83H363.7V303.83Z\" style=\"vector-effect: non-scaling-stroke; opacity: 1; stroke-width: 0.5px; fill: rgb(255, 161, 90); fill-opacity: 1; stroke: rgb(229, 236, 246); stroke-opacity: 1;\"/></g><g class=\"point\"><path d=\"M367.02,305.56V297.01H380.3V305.56Z\" style=\"vector-effect: non-scaling-stroke; opacity: 1; stroke-width: 0.5px; fill: rgb(255, 161, 90); fill-opacity: 1; stroke: rgb(229, 236, 246); stroke-opacity: 1;\"/></g><g class=\"point\"><path d=\"M383.63,301.8V294.88H396.91V301.8Z\" style=\"vector-effect: non-scaling-stroke; opacity: 1; stroke-width: 0.5px; fill: rgb(255, 161, 90); fill-opacity: 1; stroke: rgb(229, 236, 246); stroke-opacity: 1;\"/></g><g class=\"point\"><path d=\"M400.23,302V295.79H413.52V302Z\" style=\"vector-effect: non-scaling-stroke; opacity: 1; stroke-width: 0.5px; fill: rgb(255, 161, 90); fill-opacity: 1; stroke: rgb(229, 236, 246); stroke-opacity: 1;\"/></g><g class=\"point\"><path d=\"M416.84,308.82V301.49H430.13V308.82Z\" style=\"vector-effect: non-scaling-stroke; opacity: 1; stroke-width: 0.5px; fill: rgb(255, 161, 90); fill-opacity: 1; stroke: rgb(229, 236, 246); stroke-opacity: 1;\"/></g><g class=\"point\"><path d=\"M433.45,332.32V328.35H446.73V332.32Z\" style=\"vector-effect: non-scaling-stroke; opacity: 1; stroke-width: 0.5px; fill: rgb(255, 161, 90); fill-opacity: 1; stroke: rgb(229, 236, 246); stroke-opacity: 1;\"/></g><g class=\"point\"><path d=\"M450.05,303.73V297.12H463.34V303.73Z\" style=\"vector-effect: non-scaling-stroke; opacity: 1; stroke-width: 0.5px; fill: rgb(255, 161, 90); fill-opacity: 1; stroke: rgb(229, 236, 246); stroke-opacity: 1;\"/></g></g></g><g class=\"trace bars\" style=\"opacity: 1;\"><g class=\"points\"><g class=\"point\"><path d=\"M1.66,291.11V267.71H14.95V291.11Z\" style=\"vector-effect: non-scaling-stroke; opacity: 1; stroke-width: 0.5px; fill: rgb(25, 211, 243); fill-opacity: 1; stroke: rgb(229, 236, 246); stroke-opacity: 1;\"/></g><g class=\"point\"><path d=\"M18.27,288.16V263.84H31.55V288.16Z\" style=\"vector-effect: non-scaling-stroke; opacity: 1; stroke-width: 0.5px; fill: rgb(25, 211, 243); fill-opacity: 1; stroke: rgb(229, 236, 246); stroke-opacity: 1;\"/></g><g class=\"point\"><path d=\"M34.88,317.77V293.86H48.16V317.77Z\" style=\"vector-effect: non-scaling-stroke; opacity: 1; stroke-width: 0.5px; fill: rgb(25, 211, 243); fill-opacity: 1; stroke: rgb(229, 236, 246); stroke-opacity: 1;\"/></g><g class=\"point\"><path d=\"M51.48,316.96V294.77H64.77V316.96Z\" style=\"vector-effect: non-scaling-stroke; opacity: 1; stroke-width: 0.5px; fill: rgb(25, 211, 243); fill-opacity: 1; stroke: rgb(229, 236, 246); stroke-opacity: 1;\"/></g><g class=\"point\"><path d=\"M68.09,326.73V287.96H81.38V326.73Z\" style=\"vector-effect: non-scaling-stroke; opacity: 1; stroke-width: 0.5px; fill: rgb(25, 211, 243); fill-opacity: 1; stroke: rgb(229, 236, 246); stroke-opacity: 1;\"/></g><g class=\"point\"><path d=\"M84.7,323.98V293.25H97.98V323.98Z\" style=\"vector-effect: non-scaling-stroke; opacity: 1; stroke-width: 0.5px; fill: rgb(25, 211, 243); fill-opacity: 1; stroke: rgb(229, 236, 246); stroke-opacity: 1;\"/></g><g class=\"point\"><path d=\"M101.3,299.66V261.7H114.59V299.66Z\" style=\"vector-effect: non-scaling-stroke; opacity: 1; stroke-width: 0.5px; fill: rgb(25, 211, 243); fill-opacity: 1; stroke: rgb(229, 236, 246); stroke-opacity: 1;\"/></g><g class=\"point\"><path d=\"M117.91,296.3V263.33H131.2V296.3Z\" style=\"vector-effect: non-scaling-stroke; opacity: 1; stroke-width: 0.5px; fill: rgb(25, 211, 243); fill-opacity: 1; stroke: rgb(229, 236, 246); stroke-opacity: 1;\"/></g><g class=\"point\"><path d=\"M134.52,283.48V248.48H147.8V283.48Z\" style=\"vector-effect: non-scaling-stroke; opacity: 1; stroke-width: 0.5px; fill: rgb(25, 211, 243); fill-opacity: 1; stroke: rgb(229, 236, 246); stroke-opacity: 1;\"/></g><g class=\"point\"><path d=\"M151.13,296.2V267.81H164.41V296.2Z\" style=\"vector-effect: non-scaling-stroke; opacity: 1; stroke-width: 0.5px; fill: rgb(25, 211, 243); fill-opacity: 1; stroke: rgb(229, 236, 246); stroke-opacity: 1;\"/></g><g class=\"point\"><path d=\"M167.73,290.81V255.5H181.02V290.81Z\" style=\"vector-effect: non-scaling-stroke; opacity: 1; stroke-width: 0.5px; fill: rgb(25, 211, 243); fill-opacity: 1; stroke: rgb(229, 236, 246); stroke-opacity: 1;\"/></g><g class=\"point\"><path d=\"M184.34,306.07V272.19H197.63V306.07Z\" style=\"vector-effect: non-scaling-stroke; opacity: 1; stroke-width: 0.5px; fill: rgb(25, 211, 243); fill-opacity: 1; stroke: rgb(229, 236, 246); stroke-opacity: 1;\"/></g><g class=\"point\"><path d=\"M200.95,312.68V266.49H214.23V312.68Z\" style=\"vector-effect: non-scaling-stroke; opacity: 1; stroke-width: 0.5px; fill: rgb(25, 211, 243); fill-opacity: 1; stroke: rgb(229, 236, 246); stroke-opacity: 1;\"/></g><g class=\"point\"><path d=\"M217.55,306.48V265.27H230.84V306.48Z\" style=\"vector-effect: non-scaling-stroke; opacity: 1; stroke-width: 0.5px; fill: rgb(25, 211, 243); fill-opacity: 1; stroke: rgb(229, 236, 246); stroke-opacity: 1;\"/></g><g class=\"point\"><path d=\"M234.16,285.01V252.85H247.45V285.01Z\" style=\"vector-effect: non-scaling-stroke; opacity: 1; stroke-width: 0.5px; fill: rgb(25, 211, 243); fill-opacity: 1; stroke: rgb(229, 236, 246); stroke-opacity: 1;\"/></g><g class=\"point\"><path d=\"M250.77,297.52V261.09H264.05V297.52Z\" style=\"vector-effect: non-scaling-stroke; opacity: 1; stroke-width: 0.5px; fill: rgb(25, 211, 243); fill-opacity: 1; stroke: rgb(229, 236, 246); stroke-opacity: 1;\"/></g><g class=\"point\"><path d=\"M267.38,285.11V234.03H280.66V285.11Z\" style=\"vector-effect: non-scaling-stroke; opacity: 1; stroke-width: 0.5px; fill: rgb(25, 211, 243); fill-opacity: 1; stroke: rgb(229, 236, 246); stroke-opacity: 1;\"/></g><g class=\"point\"><path d=\"M283.98,285.72V247.25H297.27V285.72Z\" style=\"vector-effect: non-scaling-stroke; opacity: 1; stroke-width: 0.5px; fill: rgb(25, 211, 243); fill-opacity: 1; stroke: rgb(229, 236, 246); stroke-opacity: 1;\"/></g><g class=\"point\"><path d=\"M300.59,299.76V263.94H313.88V299.76Z\" style=\"vector-effect: non-scaling-stroke; opacity: 1; stroke-width: 0.5px; fill: rgb(25, 211, 243); fill-opacity: 1; stroke: rgb(229, 236, 246); stroke-opacity: 1;\"/></g><g class=\"point\"><path d=\"M317.2,293.55V234.84H330.48V293.55Z\" style=\"vector-effect: non-scaling-stroke; opacity: 1; stroke-width: 0.5px; fill: rgb(25, 211, 243); fill-opacity: 1; stroke: rgb(229, 236, 246); stroke-opacity: 1;\"/></g><g class=\"point\"><path d=\"M333.8,299.25V247.66H347.09V299.25Z\" style=\"vector-effect: non-scaling-stroke; opacity: 1; stroke-width: 0.5px; fill: rgb(25, 211, 243); fill-opacity: 1; stroke: rgb(229, 236, 246); stroke-opacity: 1;\"/></g><g class=\"point\"><path d=\"M350.41,280.83V247.05H363.7V280.83Z\" style=\"vector-effect: non-scaling-stroke; opacity: 1; stroke-width: 0.5px; fill: rgb(25, 211, 243); fill-opacity: 1; stroke: rgb(229, 236, 246); stroke-opacity: 1;\"/></g><g class=\"point\"><path d=\"M367.02,297.01V258.86H380.3V297.01Z\" style=\"vector-effect: non-scaling-stroke; opacity: 1; stroke-width: 0.5px; fill: rgb(25, 211, 243); fill-opacity: 1; stroke: rgb(229, 236, 246); stroke-opacity: 1;\"/></g><g class=\"point\"><path d=\"M383.63,294.88V263.03H396.91V294.88Z\" style=\"vector-effect: non-scaling-stroke; opacity: 1; stroke-width: 0.5px; fill: rgb(25, 211, 243); fill-opacity: 1; stroke: rgb(229, 236, 246); stroke-opacity: 1;\"/></g><g class=\"point\"><path d=\"M400.23,295.79V260.38H413.52V295.79Z\" style=\"vector-effect: non-scaling-stroke; opacity: 1; stroke-width: 0.5px; fill: rgb(25, 211, 243); fill-opacity: 1; stroke: rgb(229, 236, 246); stroke-opacity: 1;\"/></g><g class=\"point\"><path d=\"M416.84,301.49V270.46H430.13V301.49Z\" style=\"vector-effect: non-scaling-stroke; opacity: 1; stroke-width: 0.5px; fill: rgb(25, 211, 243); fill-opacity: 1; stroke: rgb(229, 236, 246); stroke-opacity: 1;\"/></g><g class=\"point\"><path d=\"M433.45,328.35V294.67H446.73V328.35Z\" style=\"vector-effect: non-scaling-stroke; opacity: 1; stroke-width: 0.5px; fill: rgb(25, 211, 243); fill-opacity: 1; stroke: rgb(229, 236, 246); stroke-opacity: 1;\"/></g><g class=\"point\"><path d=\"M450.05,297.12V240.74H463.34V297.12Z\" style=\"vector-effect: non-scaling-stroke; opacity: 1; stroke-width: 0.5px; fill: rgb(25, 211, 243); fill-opacity: 1; stroke: rgb(229, 236, 246); stroke-opacity: 1;\"/></g></g></g><g class=\"trace bars\" style=\"opacity: 1;\"><g class=\"points\"><g class=\"point\"><path d=\"M1.66,267.71V254.78H14.95V267.71Z\" style=\"vector-effect: non-scaling-stroke; opacity: 1; stroke-width: 0.5px; fill: rgb(255, 102, 146); fill-opacity: 1; stroke: rgb(229, 236, 246); stroke-opacity: 1;\"/></g><g class=\"point\"><path d=\"M18.27,263.84V242.27H31.55V263.84Z\" style=\"vector-effect: non-scaling-stroke; opacity: 1; stroke-width: 0.5px; fill: rgb(255, 102, 146); fill-opacity: 1; stroke: rgb(229, 236, 246); stroke-opacity: 1;\"/></g><g class=\"point\"><path d=\"M34.88,293.86V275.75H48.16V293.86Z\" style=\"vector-effect: non-scaling-stroke; opacity: 1; stroke-width: 0.5px; fill: rgb(255, 102, 146); fill-opacity: 1; stroke: rgb(229, 236, 246); stroke-opacity: 1;\"/></g><g class=\"point\"><path d=\"M51.48,294.77V275.95H64.77V294.77Z\" style=\"vector-effect: non-scaling-stroke; opacity: 1; stroke-width: 0.5px; fill: rgb(255, 102, 146); fill-opacity: 1; stroke: rgb(229, 236, 246); stroke-opacity: 1;\"/></g><g class=\"point\"><path d=\"M68.09,287.96V267.4H81.38V287.96Z\" style=\"vector-effect: non-scaling-stroke; opacity: 1; stroke-width: 0.5px; fill: rgb(255, 102, 146); fill-opacity: 1; stroke: rgb(229, 236, 246); stroke-opacity: 1;\"/></g><g class=\"point\"><path d=\"M84.7,293.25V275.64H97.98V293.25Z\" style=\"vector-effect: non-scaling-stroke; opacity: 1; stroke-width: 0.5px; fill: rgb(255, 102, 146); fill-opacity: 1; stroke: rgb(229, 236, 246); stroke-opacity: 1;\"/></g><g class=\"point\"><path d=\"M101.3,261.7V241.96H114.59V261.7Z\" style=\"vector-effect: non-scaling-stroke; opacity: 1; stroke-width: 0.5px; fill: rgb(255, 102, 146); fill-opacity: 1; stroke: rgb(229, 236, 246); stroke-opacity: 1;\"/></g><g class=\"point\"><path d=\"M117.91,263.33V239.11H131.2V263.33Z\" style=\"vector-effect: non-scaling-stroke; opacity: 1; stroke-width: 0.5px; fill: rgb(255, 102, 146); fill-opacity: 1; stroke: rgb(229, 236, 246); stroke-opacity: 1;\"/></g><g class=\"point\"><path d=\"M134.52,248.48V223.95H147.8V248.48Z\" style=\"vector-effect: non-scaling-stroke; opacity: 1; stroke-width: 0.5px; fill: rgb(255, 102, 146); fill-opacity: 1; stroke: rgb(229, 236, 246); stroke-opacity: 1;\"/></g><g class=\"point\"><path d=\"M151.13,267.81V243.49H164.41V267.81Z\" style=\"vector-effect: non-scaling-stroke; opacity: 1; stroke-width: 0.5px; fill: rgb(255, 102, 146); fill-opacity: 1; stroke: rgb(229, 236, 246); stroke-opacity: 1;\"/></g><g class=\"point\"><path d=\"M167.73,255.5V236.47H181.02V255.5Z\" style=\"vector-effect: non-scaling-stroke; opacity: 1; stroke-width: 0.5px; fill: rgb(255, 102, 146); fill-opacity: 1; stroke: rgb(229, 236, 246); stroke-opacity: 1;\"/></g><g class=\"point\"><path d=\"M184.34,272.19V244.91H197.63V272.19Z\" style=\"vector-effect: non-scaling-stroke; opacity: 1; stroke-width: 0.5px; fill: rgb(255, 102, 146); fill-opacity: 1; stroke: rgb(229, 236, 246); stroke-opacity: 1;\"/></g><g class=\"point\"><path d=\"M200.95,266.49V242.98H214.23V266.49Z\" style=\"vector-effect: non-scaling-stroke; opacity: 1; stroke-width: 0.5px; fill: rgb(255, 102, 146); fill-opacity: 1; stroke: rgb(229, 236, 246); stroke-opacity: 1;\"/></g><g class=\"point\"><path d=\"M217.55,265.27V242.57H230.84V265.27Z\" style=\"vector-effect: non-scaling-stroke; opacity: 1; stroke-width: 0.5px; fill: rgb(255, 102, 146); fill-opacity: 1; stroke: rgb(229, 236, 246); stroke-opacity: 1;\"/></g><g class=\"point\"><path d=\"M234.16,252.85V225.58H247.45V252.85Z\" style=\"vector-effect: non-scaling-stroke; opacity: 1; stroke-width: 0.5px; fill: rgb(255, 102, 146); fill-opacity: 1; stroke: rgb(229, 236, 246); stroke-opacity: 1;\"/></g><g class=\"point\"><path d=\"M250.77,261.09V232.3H264.05V261.09Z\" style=\"vector-effect: non-scaling-stroke; opacity: 1; stroke-width: 0.5px; fill: rgb(255, 102, 146); fill-opacity: 1; stroke: rgb(229, 236, 246); stroke-opacity: 1;\"/></g><g class=\"point\"><path d=\"M267.38,234.03V205.74H280.66V234.03Z\" style=\"vector-effect: non-scaling-stroke; opacity: 1; stroke-width: 0.5px; fill: rgb(255, 102, 146); fill-opacity: 1; stroke: rgb(229, 236, 246); stroke-opacity: 1;\"/></g><g class=\"point\"><path d=\"M283.98,247.25V217.75H297.27V247.25Z\" style=\"vector-effect: non-scaling-stroke; opacity: 1; stroke-width: 0.5px; fill: rgb(255, 102, 146); fill-opacity: 1; stroke: rgb(229, 236, 246); stroke-opacity: 1;\"/></g><g class=\"point\"><path d=\"M300.59,263.94V238.2H313.88V263.94Z\" style=\"vector-effect: non-scaling-stroke; opacity: 1; stroke-width: 0.5px; fill: rgb(255, 102, 146); fill-opacity: 1; stroke: rgb(229, 236, 246); stroke-opacity: 1;\"/></g><g class=\"point\"><path d=\"M317.2,234.84V202.58H330.48V234.84Z\" style=\"vector-effect: non-scaling-stroke; opacity: 1; stroke-width: 0.5px; fill: rgb(255, 102, 146); fill-opacity: 1; stroke: rgb(229, 236, 246); stroke-opacity: 1;\"/></g><g class=\"point\"><path d=\"M333.8,247.66V220.39H347.09V247.66Z\" style=\"vector-effect: non-scaling-stroke; opacity: 1; stroke-width: 0.5px; fill: rgb(255, 102, 146); fill-opacity: 1; stroke: rgb(229, 236, 246); stroke-opacity: 1;\"/></g><g class=\"point\"><path d=\"M350.41,247.05V215H363.7V247.05Z\" style=\"vector-effect: non-scaling-stroke; opacity: 1; stroke-width: 0.5px; fill: rgb(255, 102, 146); fill-opacity: 1; stroke: rgb(229, 236, 246); stroke-opacity: 1;\"/></g><g class=\"point\"><path d=\"M367.02,258.86V221.21H380.3V258.86Z\" style=\"vector-effect: non-scaling-stroke; opacity: 1; stroke-width: 0.5px; fill: rgb(255, 102, 146); fill-opacity: 1; stroke: rgb(229, 236, 246); stroke-opacity: 1;\"/></g><g class=\"point\"><path d=\"M383.63,263.03V233.31H396.91V263.03Z\" style=\"vector-effect: non-scaling-stroke; opacity: 1; stroke-width: 0.5px; fill: rgb(255, 102, 146); fill-opacity: 1; stroke: rgb(229, 236, 246); stroke-opacity: 1;\"/></g><g class=\"point\"><path d=\"M400.23,260.38V235.25H413.52V260.38Z\" style=\"vector-effect: non-scaling-stroke; opacity: 1; stroke-width: 0.5px; fill: rgb(255, 102, 146); fill-opacity: 1; stroke: rgb(229, 236, 246); stroke-opacity: 1;\"/></g><g class=\"point\"><path d=\"M416.84,270.46V248.48H430.13V270.46Z\" style=\"vector-effect: non-scaling-stroke; opacity: 1; stroke-width: 0.5px; fill: rgb(255, 102, 146); fill-opacity: 1; stroke: rgb(229, 236, 246); stroke-opacity: 1;\"/></g><g class=\"point\"><path d=\"M433.45,294.67V273.3H446.73V294.67Z\" style=\"vector-effect: non-scaling-stroke; opacity: 1; stroke-width: 0.5px; fill: rgb(255, 102, 146); fill-opacity: 1; stroke: rgb(229, 236, 246); stroke-opacity: 1;\"/></g><g class=\"point\"><path d=\"M450.05,240.74V212.35H463.34V240.74Z\" style=\"vector-effect: non-scaling-stroke; opacity: 1; stroke-width: 0.5px; fill: rgb(255, 102, 146); fill-opacity: 1; stroke: rgb(229, 236, 246); stroke-opacity: 1;\"/></g></g></g><g class=\"trace bars\" style=\"opacity: 1;\"><g class=\"points\"><g class=\"point\"><path d=\"M1.66,254.78V252.04H14.95V254.78Z\" style=\"vector-effect: non-scaling-stroke; opacity: 1; stroke-width: 0.5px; fill: rgb(182, 232, 128); fill-opacity: 1; stroke: rgb(229, 236, 246); stroke-opacity: 1;\"/></g><g class=\"point\"><path d=\"M18.27,242.27V239.62H31.55V242.27Z\" style=\"vector-effect: non-scaling-stroke; opacity: 1; stroke-width: 0.5px; fill: rgb(182, 232, 128); fill-opacity: 1; stroke: rgb(229, 236, 246); stroke-opacity: 1;\"/></g><g class=\"point\"><path d=\"M34.88,275.75V274.02H48.16V275.75Z\" style=\"vector-effect: non-scaling-stroke; opacity: 1; stroke-width: 0.5px; fill: rgb(182, 232, 128); fill-opacity: 1; stroke: rgb(229, 236, 246); stroke-opacity: 1;\"/></g><g class=\"point\"><path d=\"M51.48,275.95V273.2H64.77V275.95Z\" style=\"vector-effect: non-scaling-stroke; opacity: 1; stroke-width: 0.5px; fill: rgb(182, 232, 128); fill-opacity: 1; stroke: rgb(229, 236, 246); stroke-opacity: 1;\"/></g><g class=\"point\"><path d=\"M68.09,267.4V265.67H81.38V267.4Z\" style=\"vector-effect: non-scaling-stroke; opacity: 1; stroke-width: 0.5px; fill: rgb(182, 232, 128); fill-opacity: 1; stroke: rgb(229, 236, 246); stroke-opacity: 1;\"/></g><g class=\"point\"><path d=\"M84.7,275.64V273.91H97.98V275.64Z\" style=\"vector-effect: non-scaling-stroke; opacity: 1; stroke-width: 0.5px; fill: rgb(182, 232, 128); fill-opacity: 1; stroke: rgb(229, 236, 246); stroke-opacity: 1;\"/></g><g class=\"point\"><path d=\"M101.3,241.96V240.84H114.59V241.96Z\" style=\"vector-effect: non-scaling-stroke; opacity: 1; stroke-width: 0.5px; fill: rgb(182, 232, 128); fill-opacity: 1; stroke: rgb(229, 236, 246); stroke-opacity: 1;\"/></g><g class=\"point\"><path d=\"M117.91,239.11V234.74H131.2V239.11Z\" style=\"vector-effect: non-scaling-stroke; opacity: 1; stroke-width: 0.5px; fill: rgb(182, 232, 128); fill-opacity: 1; stroke: rgb(229, 236, 246); stroke-opacity: 1;\"/></g><g class=\"point\"><path d=\"M134.52,223.95V221.41H147.8V223.95Z\" style=\"vector-effect: non-scaling-stroke; opacity: 1; stroke-width: 0.5px; fill: rgb(182, 232, 128); fill-opacity: 1; stroke: rgb(229, 236, 246); stroke-opacity: 1;\"/></g><g class=\"point\"><path d=\"M151.13,243.49V241.45H164.41V243.49Z\" style=\"vector-effect: non-scaling-stroke; opacity: 1; stroke-width: 0.5px; fill: rgb(182, 232, 128); fill-opacity: 1; stroke: rgb(229, 236, 246); stroke-opacity: 1;\"/></g><g class=\"point\"><path d=\"M167.73,236.47V232.2H181.02V236.47Z\" style=\"vector-effect: non-scaling-stroke; opacity: 1; stroke-width: 0.5px; fill: rgb(182, 232, 128); fill-opacity: 1; stroke: rgb(229, 236, 246); stroke-opacity: 1;\"/></g><g class=\"point\"><path d=\"M184.34,244.91V241.15H197.63V244.91Z\" style=\"vector-effect: non-scaling-stroke; opacity: 1; stroke-width: 0.5px; fill: rgb(182, 232, 128); fill-opacity: 1; stroke: rgb(229, 236, 246); stroke-opacity: 1;\"/></g><g class=\"point\"><path d=\"M200.95,242.98V242.07H214.23V242.98Z\" style=\"vector-effect: non-scaling-stroke; opacity: 1; stroke-width: 0.5px; fill: rgb(182, 232, 128); fill-opacity: 1; stroke: rgb(229, 236, 246); stroke-opacity: 1;\"/></g><g class=\"point\"><path d=\"M217.55,242.57V239.93H230.84V242.57Z\" style=\"vector-effect: non-scaling-stroke; opacity: 1; stroke-width: 0.5px; fill: rgb(182, 232, 128); fill-opacity: 1; stroke: rgb(229, 236, 246); stroke-opacity: 1;\"/></g><g class=\"point\"><path d=\"M234.16,225.58V222.63H247.45V225.58Z\" style=\"vector-effect: non-scaling-stroke; opacity: 1; stroke-width: 0.5px; fill: rgb(182, 232, 128); fill-opacity: 1; stroke: rgb(229, 236, 246); stroke-opacity: 1;\"/></g><g class=\"point\"><path d=\"M250.77,232.3V229.75H264.05V232.3Z\" style=\"vector-effect: non-scaling-stroke; opacity: 1; stroke-width: 0.5px; fill: rgb(182, 232, 128); fill-opacity: 1; stroke: rgb(229, 236, 246); stroke-opacity: 1;\"/></g><g class=\"point\"><path d=\"M267.38,205.74V201.97H280.66V205.74Z\" style=\"vector-effect: non-scaling-stroke; opacity: 1; stroke-width: 0.5px; fill: rgb(182, 232, 128); fill-opacity: 1; stroke: rgb(229, 236, 246); stroke-opacity: 1;\"/></g><g class=\"point\"><path d=\"M283.98,217.75V214.9H297.27V217.75Z\" style=\"vector-effect: non-scaling-stroke; opacity: 1; stroke-width: 0.5px; fill: rgb(182, 232, 128); fill-opacity: 1; stroke: rgb(229, 236, 246); stroke-opacity: 1;\"/></g><g class=\"point\"><path d=\"M300.59,238.2V235.65H313.88V238.2Z\" style=\"vector-effect: non-scaling-stroke; opacity: 1; stroke-width: 0.5px; fill: rgb(182, 232, 128); fill-opacity: 1; stroke: rgb(229, 236, 246); stroke-opacity: 1;\"/></g><g class=\"point\"><path d=\"M317.2,202.58V198.21H330.48V202.58Z\" style=\"vector-effect: non-scaling-stroke; opacity: 1; stroke-width: 0.5px; fill: rgb(182, 232, 128); fill-opacity: 1; stroke: rgb(229, 236, 246); stroke-opacity: 1;\"/></g><g class=\"point\"><path d=\"M333.8,220.39V215H347.09V220.39Z\" style=\"vector-effect: non-scaling-stroke; opacity: 1; stroke-width: 0.5px; fill: rgb(182, 232, 128); fill-opacity: 1; stroke: rgb(229, 236, 246); stroke-opacity: 1;\"/></g><g class=\"point\"><path d=\"M350.41,215V210.11H363.7V215Z\" style=\"vector-effect: non-scaling-stroke; opacity: 1; stroke-width: 0.5px; fill: rgb(182, 232, 128); fill-opacity: 1; stroke: rgb(229, 236, 246); stroke-opacity: 1;\"/></g><g class=\"point\"><path d=\"M367.02,221.21V217.44H380.3V221.21Z\" style=\"vector-effect: non-scaling-stroke; opacity: 1; stroke-width: 0.5px; fill: rgb(182, 232, 128); fill-opacity: 1; stroke: rgb(229, 236, 246); stroke-opacity: 1;\"/></g><g class=\"point\"><path d=\"M383.63,233.31V229.55H396.91V233.31Z\" style=\"vector-effect: non-scaling-stroke; opacity: 1; stroke-width: 0.5px; fill: rgb(182, 232, 128); fill-opacity: 1; stroke: rgb(229, 236, 246); stroke-opacity: 1;\"/></g><g class=\"point\"><path d=\"M400.23,235.25V232.91H413.52V235.25Z\" style=\"vector-effect: non-scaling-stroke; opacity: 1; stroke-width: 0.5px; fill: rgb(182, 232, 128); fill-opacity: 1; stroke: rgb(229, 236, 246); stroke-opacity: 1;\"/></g><g class=\"point\"><path d=\"M416.84,248.48V244.1H430.13V248.48Z\" style=\"vector-effect: non-scaling-stroke; opacity: 1; stroke-width: 0.5px; fill: rgb(182, 232, 128); fill-opacity: 1; stroke: rgb(229, 236, 246); stroke-opacity: 1;\"/></g><g class=\"point\"><path d=\"M433.45,273.3V271.88H446.73V273.3Z\" style=\"vector-effect: non-scaling-stroke; opacity: 1; stroke-width: 0.5px; fill: rgb(182, 232, 128); fill-opacity: 1; stroke: rgb(229, 236, 246); stroke-opacity: 1;\"/></g><g class=\"point\"><path d=\"M450.05,212.35V209.5H463.34V212.35Z\" style=\"vector-effect: non-scaling-stroke; opacity: 1; stroke-width: 0.5px; fill: rgb(182, 232, 128); fill-opacity: 1; stroke: rgb(229, 236, 246); stroke-opacity: 1;\"/></g></g></g><g class=\"trace bars\" style=\"opacity: 1;\"><g class=\"points\"><g class=\"point\"><path d=\"M1.66,252.04V101.03H14.95V252.04Z\" style=\"vector-effect: non-scaling-stroke; opacity: 1; stroke-width: 0.5px; fill: rgb(255, 151, 255); fill-opacity: 1; stroke: rgb(229, 236, 246); stroke-opacity: 1;\"/></g><g class=\"point\"><path d=\"M18.27,239.62V105.71H31.55V239.62Z\" style=\"vector-effect: non-scaling-stroke; opacity: 1; stroke-width: 0.5px; fill: rgb(255, 151, 255); fill-opacity: 1; stroke: rgb(229, 236, 246); stroke-opacity: 1;\"/></g><g class=\"point\"><path d=\"M34.88,274.02V153.74H48.16V274.02Z\" style=\"vector-effect: non-scaling-stroke; opacity: 1; stroke-width: 0.5px; fill: rgb(255, 151, 255); fill-opacity: 1; stroke: rgb(229, 236, 246); stroke-opacity: 1;\"/></g><g class=\"point\"><path d=\"M51.48,273.2V131.76H64.77V273.2Z\" style=\"vector-effect: non-scaling-stroke; opacity: 1; stroke-width: 0.5px; fill: rgb(255, 151, 255); fill-opacity: 1; stroke: rgb(229, 236, 246); stroke-opacity: 1;\"/></g><g class=\"point\"><path d=\"M68.09,265.67V153.44H81.38V265.67Z\" style=\"vector-effect: non-scaling-stroke; opacity: 1; stroke-width: 0.5px; fill: rgb(255, 151, 255); fill-opacity: 1; stroke: rgb(229, 236, 246); stroke-opacity: 1;\"/></g><g class=\"point\"><path d=\"M84.7,273.91V172.46H97.98V273.91Z\" style=\"vector-effect: non-scaling-stroke; opacity: 1; stroke-width: 0.5px; fill: rgb(255, 151, 255); fill-opacity: 1; stroke: rgb(229, 236, 246); stroke-opacity: 1;\"/></g><g class=\"point\"><path d=\"M101.3,240.84V91.87H114.59V240.84Z\" style=\"vector-effect: non-scaling-stroke; opacity: 1; stroke-width: 0.5px; fill: rgb(255, 151, 255); fill-opacity: 1; stroke: rgb(229, 236, 246); stroke-opacity: 1;\"/></g><g class=\"point\"><path d=\"M117.91,234.74V51.27H131.2V234.74Z\" style=\"vector-effect: non-scaling-stroke; opacity: 1; stroke-width: 0.5px; fill: rgb(255, 151, 255); fill-opacity: 1; stroke: rgb(229, 236, 246); stroke-opacity: 1;\"/></g><g class=\"point\"><path d=\"M134.52,221.41V83.02H147.8V221.41Z\" style=\"vector-effect: non-scaling-stroke; opacity: 1; stroke-width: 0.5px; fill: rgb(255, 151, 255); fill-opacity: 1; stroke: rgb(229, 236, 246); stroke-opacity: 1;\"/></g><g class=\"point\"><path d=\"M151.13,241.45V82.21H164.41V241.45Z\" style=\"vector-effect: non-scaling-stroke; opacity: 1; stroke-width: 0.5px; fill: rgb(255, 151, 255); fill-opacity: 1; stroke: rgb(229, 236, 246); stroke-opacity: 1;\"/></g><g class=\"point\"><path d=\"M167.73,232.2V93.6H181.02V232.2Z\" style=\"vector-effect: non-scaling-stroke; opacity: 1; stroke-width: 0.5px; fill: rgb(255, 151, 255); fill-opacity: 1; stroke: rgb(229, 236, 246); stroke-opacity: 1;\"/></g><g class=\"point\"><path d=\"M184.34,241.15V80.78H197.63V241.15Z\" style=\"vector-effect: non-scaling-stroke; opacity: 1; stroke-width: 0.5px; fill: rgb(255, 151, 255); fill-opacity: 1; stroke: rgb(229, 236, 246); stroke-opacity: 1;\"/></g><g class=\"point\"><path d=\"M200.95,242.07V122.81H214.23V242.07Z\" style=\"vector-effect: non-scaling-stroke; opacity: 1; stroke-width: 0.5px; fill: rgb(255, 151, 255); fill-opacity: 1; stroke: rgb(229, 236, 246); stroke-opacity: 1;\"/></g><g class=\"point\"><path d=\"M217.55,239.93V141.84H230.84V239.93Z\" style=\"vector-effect: non-scaling-stroke; opacity: 1; stroke-width: 0.5px; fill: rgb(255, 151, 255); fill-opacity: 1; stroke: rgb(229, 236, 246); stroke-opacity: 1;\"/></g><g class=\"point\"><path d=\"M234.16,222.63V64.1H247.45V222.63Z\" style=\"vector-effect: non-scaling-stroke; opacity: 1; stroke-width: 0.5px; fill: rgb(255, 151, 255); fill-opacity: 1; stroke: rgb(229, 236, 246); stroke-opacity: 1;\"/></g><g class=\"point\"><path d=\"M250.77,229.75V82.41H264.05V229.75Z\" style=\"vector-effect: non-scaling-stroke; opacity: 1; stroke-width: 0.5px; fill: rgb(255, 151, 255); fill-opacity: 1; stroke: rgb(229, 236, 246); stroke-opacity: 1;\"/></g><g class=\"point\"><path d=\"M267.38,201.97V18H280.66V201.97Z\" style=\"vector-effect: non-scaling-stroke; opacity: 1; stroke-width: 0.5px; fill: rgb(255, 151, 255); fill-opacity: 1; stroke: rgb(229, 236, 246); stroke-opacity: 1;\"/></g><g class=\"point\"><path d=\"M283.98,214.9V51.38H297.27V214.9Z\" style=\"vector-effect: non-scaling-stroke; opacity: 1; stroke-width: 0.5px; fill: rgb(255, 151, 255); fill-opacity: 1; stroke: rgb(229, 236, 246); stroke-opacity: 1;\"/></g><g class=\"point\"><path d=\"M300.59,235.65V93.6H313.88V235.65Z\" style=\"vector-effect: non-scaling-stroke; opacity: 1; stroke-width: 0.5px; fill: rgb(255, 151, 255); fill-opacity: 1; stroke: rgb(229, 236, 246); stroke-opacity: 1;\"/></g><g class=\"point\"><path d=\"M317.2,198.21V41.81H330.48V198.21Z\" style=\"vector-effect: non-scaling-stroke; opacity: 1; stroke-width: 0.5px; fill: rgb(255, 151, 255); fill-opacity: 1; stroke: rgb(229, 236, 246); stroke-opacity: 1;\"/></g><g class=\"point\"><path d=\"M333.8,215V68.88H347.09V215Z\" style=\"vector-effect: non-scaling-stroke; opacity: 1; stroke-width: 0.5px; fill: rgb(255, 151, 255); fill-opacity: 1; stroke: rgb(229, 236, 246); stroke-opacity: 1;\"/></g><g class=\"point\"><path d=\"M350.41,210.11V36.01H363.7V210.11Z\" style=\"vector-effect: non-scaling-stroke; opacity: 1; stroke-width: 0.5px; fill: rgb(255, 151, 255); fill-opacity: 1; stroke: rgb(229, 236, 246); stroke-opacity: 1;\"/></g><g class=\"point\"><path d=\"M367.02,217.44V34.79H380.3V217.44Z\" style=\"vector-effect: non-scaling-stroke; opacity: 1; stroke-width: 0.5px; fill: rgb(255, 151, 255); fill-opacity: 1; stroke: rgb(229, 236, 246); stroke-opacity: 1;\"/></g><g class=\"point\"><path d=\"M383.63,229.55V67.25H396.91V229.55Z\" style=\"vector-effect: non-scaling-stroke; opacity: 1; stroke-width: 0.5px; fill: rgb(255, 151, 255); fill-opacity: 1; stroke: rgb(229, 236, 246); stroke-opacity: 1;\"/></g><g class=\"point\"><path d=\"M400.23,232.91V68.17H413.52V232.91Z\" style=\"vector-effect: non-scaling-stroke; opacity: 1; stroke-width: 0.5px; fill: rgb(255, 151, 255); fill-opacity: 1; stroke: rgb(229, 236, 246); stroke-opacity: 1;\"/></g><g class=\"point\"><path d=\"M416.84,244.1V97.78H430.13V244.1Z\" style=\"vector-effect: non-scaling-stroke; opacity: 1; stroke-width: 0.5px; fill: rgb(255, 151, 255); fill-opacity: 1; stroke: rgb(229, 236, 246); stroke-opacity: 1;\"/></g><g class=\"point\"><path d=\"M433.45,271.88V171.45H446.73V271.88Z\" style=\"vector-effect: non-scaling-stroke; opacity: 1; stroke-width: 0.5px; fill: rgb(255, 151, 255); fill-opacity: 1; stroke: rgb(229, 236, 246); stroke-opacity: 1;\"/></g><g class=\"point\"><path d=\"M450.05,209.5V68.88H463.34V209.5Z\" style=\"vector-effect: non-scaling-stroke; opacity: 1; stroke-width: 0.5px; fill: rgb(255, 151, 255); fill-opacity: 1; stroke: rgb(229, 236, 246); stroke-opacity: 1;\"/></g></g></g></g></g><g class=\"overplot\"/><path class=\"xlines-above crisp\" d=\"M0,0\" style=\"fill: none;\"/><path class=\"ylines-above crisp\" d=\"M0,0\" style=\"fill: none;\"/><g class=\"overlines-above\"/><g class=\"xaxislayer-above\"><g class=\"xtick\"><text text-anchor=\"middle\" x=\"0\" y=\"433\" transform=\"translate(187.95,0)\" style=\"font-family: 'Open Sans', verdana, arial, sans-serif; font-size: 12px; fill: rgb(42, 63, 95); fill-opacity: 1; white-space: pre; opacity: 1;\"><tspan class=\"line\" dy=\"0em\" x=\"0\" y=\"433\">Oct 13</tspan><tspan class=\"line\" dy=\"1.3em\" x=\"0\" y=\"433\">2019</tspan></text></g><g class=\"xtick\"><text text-anchor=\"middle\" x=\"0\" y=\"433\" style=\"font-family: 'Open Sans', verdana, arial, sans-serif; font-size: 12px; fill: rgb(42, 63, 95); fill-opacity: 1; white-space: pre; opacity: 1;\" transform=\"translate(304.2,0)\">Oct 20</text></g><g class=\"xtick\"><text text-anchor=\"middle\" x=\"0\" y=\"433\" style=\"font-family: 'Open Sans', verdana, arial, sans-serif; font-size: 12px; fill: rgb(42, 63, 95); fill-opacity: 1; white-space: pre; opacity: 1;\" transform=\"translate(420.45,0)\">Oct 27</text></g><g class=\"xtick\"><text text-anchor=\"middle\" x=\"0\" y=\"433\" style=\"font-family: 'Open Sans', verdana, arial, sans-serif; font-size: 12px; fill: rgb(42, 63, 95); fill-opacity: 1; white-space: pre; opacity: 1;\" transform=\"translate(536.7,0)\">Nov 3</text></g></g><g class=\"yaxislayer-above\"><g class=\"ytick\"><text text-anchor=\"end\" x=\"79\" y=\"4.199999999999999\" transform=\"translate(0,420)\" style=\"font-family: 'Open Sans', verdana, arial, sans-serif; font-size: 12px; fill: rgb(42, 63, 95); fill-opacity: 1; white-space: pre; opacity: 1;\">0</text></g><g class=\"ytick\"><text text-anchor=\"end\" x=\"79\" y=\"4.199999999999999\" style=\"font-family: 'Open Sans', verdana, arial, sans-serif; font-size: 12px; fill: rgb(42, 63, 95); fill-opacity: 1; white-space: pre; opacity: 1;\" transform=\"translate(0,369.12)\">500</text></g><g class=\"ytick\"><text text-anchor=\"end\" x=\"79\" y=\"4.199999999999999\" style=\"font-family: 'Open Sans', verdana, arial, sans-serif; font-size: 12px; fill: rgb(42, 63, 95); fill-opacity: 1; white-space: pre; opacity: 1;\" transform=\"translate(0,318.24)\">1000</text></g><g class=\"ytick\"><text text-anchor=\"end\" x=\"79\" y=\"4.199999999999999\" style=\"font-family: 'Open Sans', verdana, arial, sans-serif; font-size: 12px; fill: rgb(42, 63, 95); fill-opacity: 1; white-space: pre; opacity: 1;\" transform=\"translate(0,267.37)\">1500</text></g><g class=\"ytick\"><text text-anchor=\"end\" x=\"79\" y=\"4.199999999999999\" style=\"font-family: 'Open Sans', verdana, arial, sans-serif; font-size: 12px; fill: rgb(42, 63, 95); fill-opacity: 1; white-space: pre; opacity: 1;\" transform=\"translate(0,216.49)\">2000</text></g><g class=\"ytick\"><text text-anchor=\"end\" x=\"79\" y=\"4.199999999999999\" style=\"font-family: 'Open Sans', verdana, arial, sans-serif; font-size: 12px; fill: rgb(42, 63, 95); fill-opacity: 1; white-space: pre; opacity: 1;\" transform=\"translate(0,165.61)\">2500</text></g><g class=\"ytick\"><text text-anchor=\"end\" x=\"79\" y=\"4.199999999999999\" style=\"font-family: 'Open Sans', verdana, arial, sans-serif; font-size: 12px; fill: rgb(42, 63, 95); fill-opacity: 1; white-space: pre; opacity: 1;\" transform=\"translate(0,114.72999999999999)\">3000</text></g><g class=\"ytick\"><text text-anchor=\"end\" x=\"79\" y=\"4.199999999999999\" style=\"font-family: 'Open Sans', verdana, arial, sans-serif; font-size: 12px; fill: rgb(42, 63, 95); fill-opacity: 1; white-space: pre; opacity: 1;\" transform=\"translate(0,63.86)\">3500</text></g></g><g class=\"overaxes-above\"/></g></g><g class=\"polarlayer\"/><g class=\"smithlayer\"/><g class=\"ternarylayer\"/><g class=\"geolayer\"/><g class=\"funnelarealayer\"/><g class=\"pielayer\"/><g class=\"iciclelayer\"/><g class=\"treemaplayer\"/><g class=\"sunburstlayer\"/><g class=\"glimages\"/><defs id=\"topdefs-0398f7\"><g class=\"clips\"/><clipPath id=\"legend0398f7\"><rect width=\"134\" height=\"200\" x=\"0\" y=\"0\"/></clipPath></defs><g class=\"layer-above\"><g class=\"imagelayer\"/><g class=\"shapelayer\"/></g><g class=\"infolayer\"><g class=\"legend\" pointer-events=\"all\" transform=\"translate(554.3,60)\"><rect class=\"bg\" shape-rendering=\"crispEdges\" style=\"stroke: rgb(68, 68, 68); stroke-opacity: 1; fill: rgb(255, 255, 255); fill-opacity: 1; stroke-width: 0px;\" width=\"134\" height=\"200\" x=\"0\" y=\"0\"/><g class=\"scrollbox\" transform=\"\" clip-path=\"url(#legend0398f7)\"><text class=\"legendtitletext\" text-anchor=\"start\" x=\"2\" y=\"18.2\" style=\"font-family: 'Open Sans', verdana, arial, sans-serif; font-size: 14px; fill: rgb(42, 63, 95); fill-opacity: 1; white-space: pre;\">event_name</text><g class=\"groups\" transform=\"\"><g class=\"traces\" transform=\"translate(0,32.7)\" style=\"opacity: 1;\"><text class=\"legendtext\" text-anchor=\"start\" x=\"40\" y=\"4.680000000000001\" style=\"font-family: 'Open Sans', verdana, arial, sans-serif; font-size: 12px; fill: rgb(42, 63, 95); fill-opacity: 1; white-space: pre;\">advert_open</text><g class=\"layers\" style=\"opacity: 1;\"><g class=\"legendfill\"/><g class=\"legendlines\"/><g class=\"legendsymbols\"><g class=\"legendpoints\"><path class=\"legendundefined\" d=\"M6,6H-6V-6H6Z\" transform=\"translate(20,0)\" style=\"stroke-width: 0.5px; fill: rgb(99, 110, 250); fill-opacity: 1; stroke: rgb(229, 236, 246); stroke-opacity: 1;\"/></g></g></g><rect class=\"legendtoggle\" x=\"0\" y=\"-9.5\" width=\"128.875\" height=\"19\" style=\"fill: rgb(0, 0, 0); fill-opacity: 0;\"/></g></g><g class=\"groups\" transform=\"\"><g class=\"traces\" transform=\"translate(0,51.7)\" style=\"opacity: 1;\"><text class=\"legendtext\" text-anchor=\"start\" x=\"40\" y=\"4.680000000000001\" style=\"font-family: 'Open Sans', verdana, arial, sans-serif; font-size: 12px; fill: rgb(42, 63, 95); fill-opacity: 1; white-space: pre;\">contacts_call</text><g class=\"layers\" style=\"opacity: 1;\"><g class=\"legendfill\"/><g class=\"legendlines\"/><g class=\"legendsymbols\"><g class=\"legendpoints\"><path class=\"legendundefined\" d=\"M6,6H-6V-6H6Z\" transform=\"translate(20,0)\" style=\"stroke-width: 0.5px; fill: rgb(239, 85, 59); fill-opacity: 1; stroke: rgb(229, 236, 246); stroke-opacity: 1;\"/></g></g></g><rect class=\"legendtoggle\" x=\"0\" y=\"-9.5\" width=\"128.875\" height=\"19\" style=\"fill: rgb(0, 0, 0); fill-opacity: 0;\"/></g></g><g class=\"groups\" transform=\"\"><g class=\"traces\" transform=\"translate(0,70.7)\" style=\"opacity: 1;\"><text class=\"legendtext\" text-anchor=\"start\" x=\"40\" y=\"4.680000000000001\" style=\"font-family: 'Open Sans', verdana, arial, sans-serif; font-size: 12px; fill: rgb(42, 63, 95); fill-opacity: 1; white-space: pre;\">contacts_show</text><g class=\"layers\" style=\"opacity: 1;\"><g class=\"legendfill\"/><g class=\"legendlines\"/><g class=\"legendsymbols\"><g class=\"legendpoints\"><path class=\"legendundefined\" d=\"M6,6H-6V-6H6Z\" transform=\"translate(20,0)\" style=\"stroke-width: 0.5px; fill: rgb(0, 204, 150); fill-opacity: 1; stroke: rgb(229, 236, 246); stroke-opacity: 1;\"/></g></g></g><rect class=\"legendtoggle\" x=\"0\" y=\"-9.5\" width=\"128.875\" height=\"19\" style=\"fill: rgb(0, 0, 0); fill-opacity: 0;\"/></g></g><g class=\"groups\" transform=\"\"><g class=\"traces\" transform=\"translate(0,89.7)\" style=\"opacity: 1;\"><text class=\"legendtext\" text-anchor=\"start\" x=\"40\" y=\"4.680000000000001\" style=\"font-family: 'Open Sans', verdana, arial, sans-serif; font-size: 12px; fill: rgb(42, 63, 95); fill-opacity: 1; white-space: pre;\">favorites_add</text><g class=\"layers\" style=\"opacity: 1;\"><g class=\"legendfill\"/><g class=\"legendlines\"/><g class=\"legendsymbols\"><g class=\"legendpoints\"><path class=\"legendundefined\" d=\"M6,6H-6V-6H6Z\" transform=\"translate(20,0)\" style=\"stroke-width: 0.5px; fill: rgb(171, 99, 250); fill-opacity: 1; stroke: rgb(229, 236, 246); stroke-opacity: 1;\"/></g></g></g><rect class=\"legendtoggle\" x=\"0\" y=\"-9.5\" width=\"128.875\" height=\"19\" style=\"fill: rgb(0, 0, 0); fill-opacity: 0;\"/></g></g><g class=\"groups\" transform=\"\"><g class=\"traces\" transform=\"translate(0,108.7)\" style=\"opacity: 1;\"><text class=\"legendtext\" text-anchor=\"start\" x=\"40\" y=\"4.680000000000001\" style=\"font-family: 'Open Sans', verdana, arial, sans-serif; font-size: 12px; fill: rgb(42, 63, 95); fill-opacity: 1; white-space: pre;\">map</text><g class=\"layers\" style=\"opacity: 1;\"><g class=\"legendfill\"/><g class=\"legendlines\"/><g class=\"legendsymbols\"><g class=\"legendpoints\"><path class=\"legendundefined\" d=\"M6,6H-6V-6H6Z\" transform=\"translate(20,0)\" style=\"stroke-width: 0.5px; fill: rgb(255, 161, 90); fill-opacity: 1; stroke: rgb(229, 236, 246); stroke-opacity: 1;\"/></g></g></g><rect class=\"legendtoggle\" x=\"0\" y=\"-9.5\" width=\"128.875\" height=\"19\" style=\"fill: rgb(0, 0, 0); fill-opacity: 0;\"/></g></g><g class=\"groups\" transform=\"\"><g class=\"traces\" transform=\"translate(0,127.7)\" style=\"opacity: 1;\"><text class=\"legendtext\" text-anchor=\"start\" x=\"40\" y=\"4.680000000000001\" style=\"font-family: 'Open Sans', verdana, arial, sans-serif; font-size: 12px; fill: rgb(42, 63, 95); fill-opacity: 1; white-space: pre;\">photos_show</text><g class=\"layers\" style=\"opacity: 1;\"><g class=\"legendfill\"/><g class=\"legendlines\"/><g class=\"legendsymbols\"><g class=\"legendpoints\"><path class=\"legendundefined\" d=\"M6,6H-6V-6H6Z\" transform=\"translate(20,0)\" style=\"stroke-width: 0.5px; fill: rgb(25, 211, 243); fill-opacity: 1; stroke: rgb(229, 236, 246); stroke-opacity: 1;\"/></g></g></g><rect class=\"legendtoggle\" x=\"0\" y=\"-9.5\" width=\"128.875\" height=\"19\" style=\"fill: rgb(0, 0, 0); fill-opacity: 0;\"/></g></g><g class=\"groups\" transform=\"\"><g class=\"traces\" transform=\"translate(0,146.7)\" style=\"opacity: 1;\"><text class=\"legendtext\" text-anchor=\"start\" x=\"40\" y=\"4.680000000000001\" style=\"font-family: 'Open Sans', verdana, arial, sans-serif; font-size: 12px; fill: rgb(42, 63, 95); fill-opacity: 1; white-space: pre;\">search</text><g class=\"layers\" style=\"opacity: 1;\"><g class=\"legendfill\"/><g class=\"legendlines\"/><g class=\"legendsymbols\"><g class=\"legendpoints\"><path class=\"legendundefined\" d=\"M6,6H-6V-6H6Z\" transform=\"translate(20,0)\" style=\"stroke-width: 0.5px; fill: rgb(255, 102, 146); fill-opacity: 1; stroke: rgb(229, 236, 246); stroke-opacity: 1;\"/></g></g></g><rect class=\"legendtoggle\" x=\"0\" y=\"-9.5\" width=\"128.875\" height=\"19\" style=\"fill: rgb(0, 0, 0); fill-opacity: 0;\"/></g></g><g class=\"groups\" transform=\"\"><g class=\"traces\" transform=\"translate(0,165.7)\" style=\"opacity: 1;\"><text class=\"legendtext\" text-anchor=\"start\" x=\"40\" y=\"4.680000000000001\" style=\"font-family: 'Open Sans', verdana, arial, sans-serif; font-size: 12px; fill: rgb(42, 63, 95); fill-opacity: 1; white-space: pre;\">tips_click</text><g class=\"layers\" style=\"opacity: 1;\"><g class=\"legendfill\"/><g class=\"legendlines\"/><g class=\"legendsymbols\"><g class=\"legendpoints\"><path class=\"legendundefined\" d=\"M6,6H-6V-6H6Z\" transform=\"translate(20,0)\" style=\"stroke-width: 0.5px; fill: rgb(182, 232, 128); fill-opacity: 1; stroke: rgb(229, 236, 246); stroke-opacity: 1;\"/></g></g></g><rect class=\"legendtoggle\" x=\"0\" y=\"-9.5\" width=\"128.875\" height=\"19\" style=\"fill: rgb(0, 0, 0); fill-opacity: 0;\"/></g></g><g class=\"groups\" transform=\"\"><g class=\"traces\" transform=\"translate(0,184.7)\" style=\"opacity: 1;\"><text class=\"legendtext\" text-anchor=\"start\" x=\"40\" y=\"4.680000000000001\" style=\"font-family: 'Open Sans', verdana, arial, sans-serif; font-size: 12px; fill: rgb(42, 63, 95); fill-opacity: 1; white-space: pre;\">tips_show</text><g class=\"layers\" style=\"opacity: 1;\"><g class=\"legendfill\"/><g class=\"legendlines\"/><g class=\"legendsymbols\"><g class=\"legendpoints\"><path class=\"legendundefined\" d=\"M6,6H-6V-6H6Z\" transform=\"translate(20,0)\" style=\"stroke-width: 0.5px; fill: rgb(255, 151, 255); fill-opacity: 1; stroke: rgb(229, 236, 246); stroke-opacity: 1;\"/></g></g></g><rect class=\"legendtoggle\" x=\"0\" y=\"-9.5\" width=\"128.875\" height=\"19\" style=\"fill: rgb(0, 0, 0); fill-opacity: 0;\"/></g></g></g><rect class=\"scrollbar\" rx=\"20\" ry=\"3\" width=\"0\" height=\"0\" style=\"fill: rgb(128, 139, 164); fill-opacity: 1;\" x=\"0\" y=\"0\"/></g><g class=\"g-gtitle\"><text class=\"gtitle\" x=\"35\" y=\"30\" text-anchor=\"start\" dy=\"0em\" style=\"font-family: 'Open Sans', verdana, arial, sans-serif; font-size: 17px; fill: rgb(42, 63, 95); opacity: 1; font-weight: normal; white-space: pre;\">Распределение данных по дате и событию</text></g><g class=\"g-xtitle\"><text class=\"xtitle\" x=\"312.5\" y=\"475.909375\" text-anchor=\"middle\" style=\"font-family: 'Open Sans', verdana, arial, sans-serif; font-size: 14px; fill: rgb(42, 63, 95); opacity: 1; font-weight: normal; white-space: pre;\">Дата</text></g><g class=\"g-ytitle\"><text class=\"ytitle\" transform=\"rotate(-90,23.684375000000003,240)\" x=\"23.684375000000003\" y=\"240\" text-anchor=\"middle\" style=\"font-family: 'Open Sans', verdana, arial, sans-serif; font-size: 14px; fill: rgb(42, 63, 95); opacity: 1; font-weight: normal; white-space: pre;\">Количество данных</text></g></g></svg>"
      ]
     },
     "metadata": {},
     "output_type": "display_data"
    }
   ],
   "source": [
    "# Применим функцию\n",
    "bar_chart(events_grouped, 'date', 'event_count', color='event_name', \n",
    "          title='Распределение данных по дате и событию', xaxis_title='Дата', yaxis_title='Количество данных')"
   ]
  },
  {
   "cell_type": "markdown",
   "metadata": {},
   "source": [
    "По диаграмме видно, что наиболее часто встречающимися событиями практически каждый день являются просмотр фото, поиск и открытие карточки объявления (tips_show, то есть \"увидел рекомендованные объявления\" мы не включаем в этот список, так как это действие по сути совершается автоматически при входе в приложение). Реже всего в течение дня можно увидеть такие действия, как звонок по номеру из объявления, добавление в избранное и клик по рекомендованному объявлению. Звонок как редкое событие можно объяснить тем, что пользователи обычно не звонят через само приложение, а могут предпочитать списываться или же созваниваться вне приложения. Также можно сделать вывод, что пользователи предпочитают самостоятельный поиск рекомендованным обявлениям.  "
   ]
  },
  {
   "cell_type": "markdown",
   "metadata": {},
   "source": [
    "Теперь посмотрим на источники скачивания приложения."
   ]
  },
  {
   "cell_type": "code",
   "execution_count": 22,
   "metadata": {},
   "outputs": [
    {
     "data": {
      "text/html": [
       "<div>\n",
       "<style scoped>\n",
       "    .dataframe tbody tr th:only-of-type {\n",
       "        vertical-align: middle;\n",
       "    }\n",
       "\n",
       "    .dataframe tbody tr th {\n",
       "        vertical-align: top;\n",
       "    }\n",
       "\n",
       "    .dataframe thead th {\n",
       "        text-align: right;\n",
       "    }\n",
       "</style>\n",
       "<table border=\"1\" class=\"dataframe\">\n",
       "  <thead>\n",
       "    <tr style=\"text-align: right;\">\n",
       "      <th></th>\n",
       "      <th>date</th>\n",
       "      <th>source</th>\n",
       "      <th>source_count</th>\n",
       "    </tr>\n",
       "  </thead>\n",
       "  <tbody>\n",
       "    <tr>\n",
       "      <th>0</th>\n",
       "      <td>2019-10-07</td>\n",
       "      <td>google</td>\n",
       "      <td>706</td>\n",
       "    </tr>\n",
       "    <tr>\n",
       "      <th>1</th>\n",
       "      <td>2019-10-07</td>\n",
       "      <td>other</td>\n",
       "      <td>590</td>\n",
       "    </tr>\n",
       "    <tr>\n",
       "      <th>2</th>\n",
       "      <td>2019-10-07</td>\n",
       "      <td>yandex</td>\n",
       "      <td>1249</td>\n",
       "    </tr>\n",
       "    <tr>\n",
       "      <th>3</th>\n",
       "      <td>2019-10-08</td>\n",
       "      <td>google</td>\n",
       "      <td>591</td>\n",
       "    </tr>\n",
       "    <tr>\n",
       "      <th>4</th>\n",
       "      <td>2019-10-08</td>\n",
       "      <td>other</td>\n",
       "      <td>542</td>\n",
       "    </tr>\n",
       "  </tbody>\n",
       "</table>\n",
       "</div>"
      ],
      "text/plain": [
       "        date  source  source_count\n",
       "0 2019-10-07  google           706\n",
       "1 2019-10-07   other           590\n",
       "2 2019-10-07  yandex          1249\n",
       "3 2019-10-08  google           591\n",
       "4 2019-10-08   other           542"
      ]
     },
     "execution_count": 22,
     "metadata": {},
     "output_type": "execute_result"
    }
   ],
   "source": [
    "# Сгруппируем данные для визуализации\n",
    "source_grouped = data.groupby(['date', 'source']).agg(\n",
    "    {'source':'count'}).rename(columns={'source':'source_count'}).reset_index()\n",
    "\n",
    "# Выведем для проверки первые 5 строк\n",
    "source_grouped.head()"
   ]
  },
  {
   "cell_type": "code",
   "execution_count": 23,
   "metadata": {},
   "outputs": [
    {
     "data": {
      "image/svg+xml": [
       "<svg class=\"main-svg\" xmlns=\"http://www.w3.org/2000/svg\" xmlns:xlink=\"http://www.w3.org/1999/xlink\" width=\"770.0000000000001\" height=\"550\" style=\"\" viewBox=\"0 0 700 500\"><rect x=\"0\" y=\"0\" width=\"700\" height=\"500\" style=\"fill: rgb(255, 255, 255); fill-opacity: 1;\"/><defs id=\"defs-bb6ee2\"><g class=\"clips\"><clipPath id=\"clipbb6ee2xyplot\" class=\"plotclip\"><rect width=\"509\" height=\"360\"/></clipPath><clipPath class=\"axesclip\" id=\"clipbb6ee2x\"><rect x=\"80\" y=\"0\" width=\"509\" height=\"500\"/></clipPath><clipPath class=\"axesclip\" id=\"clipbb6ee2y\"><rect x=\"0\" y=\"60\" width=\"700\" height=\"360\"/></clipPath><clipPath class=\"axesclip\" id=\"clipbb6ee2xy\"><rect x=\"80\" y=\"60\" width=\"509\" height=\"360\"/></clipPath></g><g class=\"gradients\"/><g class=\"patterns\"/></defs><g class=\"bglayer\"><rect class=\"bg\" x=\"80\" y=\"60\" width=\"509\" height=\"360\" style=\"fill: rgb(229, 236, 246); fill-opacity: 1; stroke-width: 0;\"/></g><g class=\"layer-below\"><g class=\"imagelayer\"/><g class=\"shapelayer\"/></g><g class=\"cartesianlayer\"><g class=\"subplot xy\"><g class=\"layer-subplot\"><g class=\"shapelayer\"/><g class=\"imagelayer\"/></g><g class=\"minor-gridlayer\"><g class=\"x\"/><g class=\"y\"/></g><g class=\"gridlayer\"><g class=\"x\"/><g class=\"y\"><path class=\"ygrid crisp\" transform=\"translate(0,369.12)\" d=\"M80,0h509\" style=\"stroke: rgb(255, 255, 255); stroke-opacity: 1; stroke-width: 1px;\"/><path class=\"ygrid crisp\" transform=\"translate(0,318.24)\" d=\"M80,0h509\" style=\"stroke: rgb(255, 255, 255); stroke-opacity: 1; stroke-width: 1px;\"/><path class=\"ygrid crisp\" transform=\"translate(0,267.37)\" d=\"M80,0h509\" style=\"stroke: rgb(255, 255, 255); stroke-opacity: 1; stroke-width: 1px;\"/><path class=\"ygrid crisp\" transform=\"translate(0,216.49)\" d=\"M80,0h509\" style=\"stroke: rgb(255, 255, 255); stroke-opacity: 1; stroke-width: 1px;\"/><path class=\"ygrid crisp\" transform=\"translate(0,165.61)\" d=\"M80,0h509\" style=\"stroke: rgb(255, 255, 255); stroke-opacity: 1; stroke-width: 1px;\"/><path class=\"ygrid crisp\" transform=\"translate(0,114.72999999999999)\" d=\"M80,0h509\" style=\"stroke: rgb(255, 255, 255); stroke-opacity: 1; stroke-width: 1px;\"/><path class=\"ygrid crisp\" transform=\"translate(0,63.86)\" d=\"M80,0h509\" style=\"stroke: rgb(255, 255, 255); stroke-opacity: 1; stroke-width: 1px;\"/></g></g><g class=\"zerolinelayer\"><path class=\"yzl zl crisp\" transform=\"translate(0,420)\" d=\"M80,0h509\" style=\"stroke: rgb(255, 255, 255); stroke-opacity: 1; stroke-width: 2px;\"/></g><path class=\"xlines-below\"/><path class=\"ylines-below\"/><g class=\"overlines-below\"/><g class=\"xaxislayer-below\"/><g class=\"yaxislayer-below\"/><g class=\"overaxes-below\"/><g class=\"plot\" transform=\"translate(80,60)\" clip-path=\"url(#clipbb6ee2xyplot)\"><g class=\"barlayer mlayer\"><g class=\"trace bars\" style=\"opacity: 1;\"><g class=\"points\"><g class=\"point\"><path d=\"M1.82,360V288.16H16.36V360Z\" style=\"vector-effect: non-scaling-stroke; opacity: 1; stroke-width: 0.5px; fill: rgb(99, 110, 250); fill-opacity: 1; stroke: rgb(229, 236, 246); stroke-opacity: 1;\"/></g><g class=\"point\"><path d=\"M20,360V299.86H34.54V360Z\" style=\"vector-effect: non-scaling-stroke; opacity: 1; stroke-width: 0.5px; fill: rgb(99, 110, 250); fill-opacity: 1; stroke: rgb(229, 236, 246); stroke-opacity: 1;\"/></g><g class=\"point\"><path d=\"M38.17,360V299.76H52.72V360Z\" style=\"vector-effect: non-scaling-stroke; opacity: 1; stroke-width: 0.5px; fill: rgb(99, 110, 250); fill-opacity: 1; stroke: rgb(229, 236, 246); stroke-opacity: 1;\"/></g><g class=\"point\"><path d=\"M56.35,360V310.75H70.9V360Z\" style=\"vector-effect: non-scaling-stroke; opacity: 1; stroke-width: 0.5px; fill: rgb(99, 110, 250); fill-opacity: 1; stroke: rgb(229, 236, 246); stroke-opacity: 1;\"/></g><g class=\"point\"><path d=\"M74.53,360V304.95H89.08V360Z\" style=\"vector-effect: non-scaling-stroke; opacity: 1; stroke-width: 0.5px; fill: rgb(99, 110, 250); fill-opacity: 1; stroke: rgb(229, 236, 246); stroke-opacity: 1;\"/></g><g class=\"point\"><path d=\"M92.71,360V321.64H107.25V360Z\" style=\"vector-effect: non-scaling-stroke; opacity: 1; stroke-width: 0.5px; fill: rgb(99, 110, 250); fill-opacity: 1; stroke: rgb(229, 236, 246); stroke-opacity: 1;\"/></g><g class=\"point\"><path d=\"M110.89,360V302.51H125.43V360Z\" style=\"vector-effect: non-scaling-stroke; opacity: 1; stroke-width: 0.5px; fill: rgb(99, 110, 250); fill-opacity: 1; stroke: rgb(229, 236, 246); stroke-opacity: 1;\"/></g><g class=\"point\"><path d=\"M129.07,360V295.89H143.61V360Z\" style=\"vector-effect: non-scaling-stroke; opacity: 1; stroke-width: 0.5px; fill: rgb(99, 110, 250); fill-opacity: 1; stroke: rgb(229, 236, 246); stroke-opacity: 1;\"/></g><g class=\"point\"><path d=\"M147.25,360V297.32H161.79V360Z\" style=\"vector-effect: non-scaling-stroke; opacity: 1; stroke-width: 0.5px; fill: rgb(99, 110, 250); fill-opacity: 1; stroke: rgb(229, 236, 246); stroke-opacity: 1;\"/></g><g class=\"point\"><path d=\"M165.42,360V265.67H179.97V360Z\" style=\"vector-effect: non-scaling-stroke; opacity: 1; stroke-width: 0.5px; fill: rgb(99, 110, 250); fill-opacity: 1; stroke: rgb(229, 236, 246); stroke-opacity: 1;\"/></g><g class=\"point\"><path d=\"M183.6,360V267.2H198.15V360Z\" style=\"vector-effect: non-scaling-stroke; opacity: 1; stroke-width: 0.5px; fill: rgb(99, 110, 250); fill-opacity: 1; stroke: rgb(229, 236, 246); stroke-opacity: 1;\"/></g><g class=\"point\"><path d=\"M201.78,360V280.22H216.33V360Z\" style=\"vector-effect: non-scaling-stroke; opacity: 1; stroke-width: 0.5px; fill: rgb(99, 110, 250); fill-opacity: 1; stroke: rgb(229, 236, 246); stroke-opacity: 1;\"/></g><g class=\"point\"><path d=\"M219.96,360V270.15H234.5V360Z\" style=\"vector-effect: non-scaling-stroke; opacity: 1; stroke-width: 0.5px; fill: rgb(99, 110, 250); fill-opacity: 1; stroke: rgb(229, 236, 246); stroke-opacity: 1;\"/></g><g class=\"point\"><path d=\"M238.14,360V302.81H252.68V360Z\" style=\"vector-effect: non-scaling-stroke; opacity: 1; stroke-width: 0.5px; fill: rgb(99, 110, 250); fill-opacity: 1; stroke: rgb(229, 236, 246); stroke-opacity: 1;\"/></g><g class=\"point\"><path d=\"M256.32,360V280.53H270.86V360Z\" style=\"vector-effect: non-scaling-stroke; opacity: 1; stroke-width: 0.5px; fill: rgb(99, 110, 250); fill-opacity: 1; stroke: rgb(229, 236, 246); stroke-opacity: 1;\"/></g><g class=\"point\"><path d=\"M274.5,360V265.16H289.04V360Z\" style=\"vector-effect: non-scaling-stroke; opacity: 1; stroke-width: 0.5px; fill: rgb(99, 110, 250); fill-opacity: 1; stroke: rgb(229, 236, 246); stroke-opacity: 1;\"/></g><g class=\"point\"><path d=\"M292.67,360V249.09H307.22V360Z\" style=\"vector-effect: non-scaling-stroke; opacity: 1; stroke-width: 0.5px; fill: rgb(99, 110, 250); fill-opacity: 1; stroke: rgb(229, 236, 246); stroke-opacity: 1;\"/></g><g class=\"point\"><path d=\"M310.85,360V274.73H325.4V360Z\" style=\"vector-effect: non-scaling-stroke; opacity: 1; stroke-width: 0.5px; fill: rgb(99, 110, 250); fill-opacity: 1; stroke: rgb(229, 236, 246); stroke-opacity: 1;\"/></g><g class=\"point\"><path d=\"M329.03,360V300.27H343.58V360Z\" style=\"vector-effect: non-scaling-stroke; opacity: 1; stroke-width: 0.5px; fill: rgb(99, 110, 250); fill-opacity: 1; stroke: rgb(229, 236, 246); stroke-opacity: 1;\"/></g><g class=\"point\"><path d=\"M347.21,360V265.16H361.75V360Z\" style=\"vector-effect: non-scaling-stroke; opacity: 1; stroke-width: 0.5px; fill: rgb(99, 110, 250); fill-opacity: 1; stroke: rgb(229, 236, 246); stroke-opacity: 1;\"/></g><g class=\"point\"><path d=\"M365.39,360V273.71H379.93V360Z\" style=\"vector-effect: non-scaling-stroke; opacity: 1; stroke-width: 0.5px; fill: rgb(99, 110, 250); fill-opacity: 1; stroke: rgb(229, 236, 246); stroke-opacity: 1;\"/></g><g class=\"point\"><path d=\"M383.57,360V268.22H398.11V360Z\" style=\"vector-effect: non-scaling-stroke; opacity: 1; stroke-width: 0.5px; fill: rgb(99, 110, 250); fill-opacity: 1; stroke: rgb(229, 236, 246); stroke-opacity: 1;\"/></g><g class=\"point\"><path d=\"M401.75,360V265.67H416.29V360Z\" style=\"vector-effect: non-scaling-stroke; opacity: 1; stroke-width: 0.5px; fill: rgb(99, 110, 250); fill-opacity: 1; stroke: rgb(229, 236, 246); stroke-opacity: 1;\"/></g><g class=\"point\"><path d=\"M419.92,360V295.18H434.47V360Z\" style=\"vector-effect: non-scaling-stroke; opacity: 1; stroke-width: 0.5px; fill: rgb(99, 110, 250); fill-opacity: 1; stroke: rgb(229, 236, 246); stroke-opacity: 1;\"/></g><g class=\"point\"><path d=\"M438.1,360V288.57H452.65V360Z\" style=\"vector-effect: non-scaling-stroke; opacity: 1; stroke-width: 0.5px; fill: rgb(99, 110, 250); fill-opacity: 1; stroke: rgb(229, 236, 246); stroke-opacity: 1;\"/></g><g class=\"point\"><path d=\"M456.28,360V283.99H470.83V360Z\" style=\"vector-effect: non-scaling-stroke; opacity: 1; stroke-width: 0.5px; fill: rgb(99, 110, 250); fill-opacity: 1; stroke: rgb(229, 236, 246); stroke-opacity: 1;\"/></g><g class=\"point\"><path d=\"M474.46,360V313.29H489V360Z\" style=\"vector-effect: non-scaling-stroke; opacity: 1; stroke-width: 0.5px; fill: rgb(99, 110, 250); fill-opacity: 1; stroke: rgb(229, 236, 246); stroke-opacity: 1;\"/></g><g class=\"point\"><path d=\"M492.64,360V269.13H507.18V360Z\" style=\"vector-effect: non-scaling-stroke; opacity: 1; stroke-width: 0.5px; fill: rgb(99, 110, 250); fill-opacity: 1; stroke: rgb(229, 236, 246); stroke-opacity: 1;\"/></g></g></g><g class=\"trace bars\" style=\"opacity: 1;\"><g class=\"points\"><g class=\"point\"><path d=\"M1.82,288.16V228.12H16.36V288.16Z\" style=\"vector-effect: non-scaling-stroke; opacity: 1; stroke-width: 0.5px; fill: rgb(239, 85, 59); fill-opacity: 1; stroke: rgb(229, 236, 246); stroke-opacity: 1;\"/></g><g class=\"point\"><path d=\"M20,299.86V244.71H34.54V299.86Z\" style=\"vector-effect: non-scaling-stroke; opacity: 1; stroke-width: 0.5px; fill: rgb(239, 85, 59); fill-opacity: 1; stroke: rgb(229, 236, 246); stroke-opacity: 1;\"/></g><g class=\"point\"><path d=\"M38.17,299.76V252.85H52.72V299.76Z\" style=\"vector-effect: non-scaling-stroke; opacity: 1; stroke-width: 0.5px; fill: rgb(239, 85, 59); fill-opacity: 1; stroke: rgb(229, 236, 246); stroke-opacity: 1;\"/></g><g class=\"point\"><path d=\"M56.35,310.75V236.77H70.9V310.75Z\" style=\"vector-effect: non-scaling-stroke; opacity: 1; stroke-width: 0.5px; fill: rgb(239, 85, 59); fill-opacity: 1; stroke: rgb(229, 236, 246); stroke-opacity: 1;\"/></g><g class=\"point\"><path d=\"M74.53,304.95V251.83H89.08V304.95Z\" style=\"vector-effect: non-scaling-stroke; opacity: 1; stroke-width: 0.5px; fill: rgb(239, 85, 59); fill-opacity: 1; stroke: rgb(229, 236, 246); stroke-opacity: 1;\"/></g><g class=\"point\"><path d=\"M92.71,321.64V279.21H107.25V321.64Z\" style=\"vector-effect: non-scaling-stroke; opacity: 1; stroke-width: 0.5px; fill: rgb(239, 85, 59); fill-opacity: 1; stroke: rgb(229, 236, 246); stroke-opacity: 1;\"/></g><g class=\"point\"><path d=\"M110.89,302.51V234.33H125.43V302.51Z\" style=\"vector-effect: non-scaling-stroke; opacity: 1; stroke-width: 0.5px; fill: rgb(239, 85, 59); fill-opacity: 1; stroke: rgb(229, 236, 246); stroke-opacity: 1;\"/></g><g class=\"point\"><path d=\"M129.07,295.89V211.84H143.61V295.89Z\" style=\"vector-effect: non-scaling-stroke; opacity: 1; stroke-width: 0.5px; fill: rgb(239, 85, 59); fill-opacity: 1; stroke: rgb(229, 236, 246); stroke-opacity: 1;\"/></g><g class=\"point\"><path d=\"M147.25,297.32V217.24H161.79V297.32Z\" style=\"vector-effect: non-scaling-stroke; opacity: 1; stroke-width: 0.5px; fill: rgb(239, 85, 59); fill-opacity: 1; stroke: rgb(229, 236, 246); stroke-opacity: 1;\"/></g><g class=\"point\"><path d=\"M165.42,265.67V188.64H179.97V265.67Z\" style=\"vector-effect: non-scaling-stroke; opacity: 1; stroke-width: 0.5px; fill: rgb(239, 85, 59); fill-opacity: 1; stroke: rgb(229, 236, 246); stroke-opacity: 1;\"/></g><g class=\"point\"><path d=\"M183.6,267.2V203.09H198.15V267.2Z\" style=\"vector-effect: non-scaling-stroke; opacity: 1; stroke-width: 0.5px; fill: rgb(239, 85, 59); fill-opacity: 1; stroke: rgb(229, 236, 246); stroke-opacity: 1;\"/></g><g class=\"point\"><path d=\"M201.78,280.22V220.39H216.33V280.22Z\" style=\"vector-effect: non-scaling-stroke; opacity: 1; stroke-width: 0.5px; fill: rgb(239, 85, 59); fill-opacity: 1; stroke: rgb(229, 236, 246); stroke-opacity: 1;\"/></g><g class=\"point\"><path d=\"M219.96,270.15V218.36H234.5V270.15Z\" style=\"vector-effect: non-scaling-stroke; opacity: 1; stroke-width: 0.5px; fill: rgb(239, 85, 59); fill-opacity: 1; stroke: rgb(229, 236, 246); stroke-opacity: 1;\"/></g><g class=\"point\"><path d=\"M238.14,302.81V251.12H252.68V302.81Z\" style=\"vector-effect: non-scaling-stroke; opacity: 1; stroke-width: 0.5px; fill: rgb(239, 85, 59); fill-opacity: 1; stroke: rgb(229, 236, 246); stroke-opacity: 1;\"/></g><g class=\"point\"><path d=\"M256.32,280.53V196.78H270.86V280.53Z\" style=\"vector-effect: non-scaling-stroke; opacity: 1; stroke-width: 0.5px; fill: rgb(239, 85, 59); fill-opacity: 1; stroke: rgb(229, 236, 246); stroke-opacity: 1;\"/></g><g class=\"point\"><path d=\"M274.5,265.16V190.27H289.04V265.16Z\" style=\"vector-effect: non-scaling-stroke; opacity: 1; stroke-width: 0.5px; fill: rgb(239, 85, 59); fill-opacity: 1; stroke: rgb(229, 236, 246); stroke-opacity: 1;\"/></g><g class=\"point\"><path d=\"M292.67,249.09V162.7H307.22V249.09Z\" style=\"vector-effect: non-scaling-stroke; opacity: 1; stroke-width: 0.5px; fill: rgb(239, 85, 59); fill-opacity: 1; stroke: rgb(229, 236, 246); stroke-opacity: 1;\"/></g><g class=\"point\"><path d=\"M310.85,274.73V200.04H325.4V274.73Z\" style=\"vector-effect: non-scaling-stroke; opacity: 1; stroke-width: 0.5px; fill: rgb(239, 85, 59); fill-opacity: 1; stroke: rgb(229, 236, 246); stroke-opacity: 1;\"/></g><g class=\"point\"><path d=\"M329.03,300.27V234.13H343.58V300.27Z\" style=\"vector-effect: non-scaling-stroke; opacity: 1; stroke-width: 0.5px; fill: rgb(239, 85, 59); fill-opacity: 1; stroke: rgb(229, 236, 246); stroke-opacity: 1;\"/></g><g class=\"point\"><path d=\"M347.21,265.16V188.44H361.75V265.16Z\" style=\"vector-effect: non-scaling-stroke; opacity: 1; stroke-width: 0.5px; fill: rgb(239, 85, 59); fill-opacity: 1; stroke: rgb(229, 236, 246); stroke-opacity: 1;\"/></g><g class=\"point\"><path d=\"M365.39,273.71V201.57H379.93V273.71Z\" style=\"vector-effect: non-scaling-stroke; opacity: 1; stroke-width: 0.5px; fill: rgb(239, 85, 59); fill-opacity: 1; stroke: rgb(229, 236, 246); stroke-opacity: 1;\"/></g><g class=\"point\"><path d=\"M383.57,268.22V171.65H398.11V268.22Z\" style=\"vector-effect: non-scaling-stroke; opacity: 1; stroke-width: 0.5px; fill: rgb(239, 85, 59); fill-opacity: 1; stroke: rgb(229, 236, 246); stroke-opacity: 1;\"/></g><g class=\"point\"><path d=\"M401.75,265.67V170.33H416.29V265.67Z\" style=\"vector-effect: non-scaling-stroke; opacity: 1; stroke-width: 0.5px; fill: rgb(239, 85, 59); fill-opacity: 1; stroke: rgb(229, 236, 246); stroke-opacity: 1;\"/></g><g class=\"point\"><path d=\"M419.92,295.18V200.45H434.47V295.18Z\" style=\"vector-effect: non-scaling-stroke; opacity: 1; stroke-width: 0.5px; fill: rgb(239, 85, 59); fill-opacity: 1; stroke: rgb(229, 236, 246); stroke-opacity: 1;\"/></g><g class=\"point\"><path d=\"M438.1,288.57V194.14H452.65V288.57Z\" style=\"vector-effect: non-scaling-stroke; opacity: 1; stroke-width: 0.5px; fill: rgb(239, 85, 59); fill-opacity: 1; stroke: rgb(229, 236, 246); stroke-opacity: 1;\"/></g><g class=\"point\"><path d=\"M456.28,283.99V209.3H470.83V283.99Z\" style=\"vector-effect: non-scaling-stroke; opacity: 1; stroke-width: 0.5px; fill: rgb(239, 85, 59); fill-opacity: 1; stroke: rgb(229, 236, 246); stroke-opacity: 1;\"/></g><g class=\"point\"><path d=\"M474.46,313.29V250H489V313.29Z\" style=\"vector-effect: non-scaling-stroke; opacity: 1; stroke-width: 0.5px; fill: rgb(239, 85, 59); fill-opacity: 1; stroke: rgb(229, 236, 246); stroke-opacity: 1;\"/></g><g class=\"point\"><path d=\"M492.64,269.13V210.52H507.18V269.13Z\" style=\"vector-effect: non-scaling-stroke; opacity: 1; stroke-width: 0.5px; fill: rgb(239, 85, 59); fill-opacity: 1; stroke: rgb(229, 236, 246); stroke-opacity: 1;\"/></g></g></g><g class=\"trace bars\" style=\"opacity: 1;\"><g class=\"points\"><g class=\"point\"><path d=\"M1.82,228.12V101.03H16.36V228.12Z\" style=\"vector-effect: non-scaling-stroke; opacity: 1; stroke-width: 0.5px; fill: rgb(0, 204, 150); fill-opacity: 1; stroke: rgb(229, 236, 246); stroke-opacity: 1;\"/></g><g class=\"point\"><path d=\"M20,244.71V105.71H34.54V244.71Z\" style=\"vector-effect: non-scaling-stroke; opacity: 1; stroke-width: 0.5px; fill: rgb(0, 204, 150); fill-opacity: 1; stroke: rgb(229, 236, 246); stroke-opacity: 1;\"/></g><g class=\"point\"><path d=\"M38.17,252.85V153.74H52.72V252.85Z\" style=\"vector-effect: non-scaling-stroke; opacity: 1; stroke-width: 0.5px; fill: rgb(0, 204, 150); fill-opacity: 1; stroke: rgb(229, 236, 246); stroke-opacity: 1;\"/></g><g class=\"point\"><path d=\"M56.35,236.77V131.76H70.9V236.77Z\" style=\"vector-effect: non-scaling-stroke; opacity: 1; stroke-width: 0.5px; fill: rgb(0, 204, 150); fill-opacity: 1; stroke: rgb(229, 236, 246); stroke-opacity: 1;\"/></g><g class=\"point\"><path d=\"M74.53,251.83V153.44H89.08V251.83Z\" style=\"vector-effect: non-scaling-stroke; opacity: 1; stroke-width: 0.5px; fill: rgb(0, 204, 150); fill-opacity: 1; stroke: rgb(229, 236, 246); stroke-opacity: 1;\"/></g><g class=\"point\"><path d=\"M92.71,279.21V172.46H107.25V279.21Z\" style=\"vector-effect: non-scaling-stroke; opacity: 1; stroke-width: 0.5px; fill: rgb(0, 204, 150); fill-opacity: 1; stroke: rgb(229, 236, 246); stroke-opacity: 1;\"/></g><g class=\"point\"><path d=\"M110.89,234.33V91.87H125.43V234.33Z\" style=\"vector-effect: non-scaling-stroke; opacity: 1; stroke-width: 0.5px; fill: rgb(0, 204, 150); fill-opacity: 1; stroke: rgb(229, 236, 246); stroke-opacity: 1;\"/></g><g class=\"point\"><path d=\"M129.07,211.84V51.27H143.61V211.84Z\" style=\"vector-effect: non-scaling-stroke; opacity: 1; stroke-width: 0.5px; fill: rgb(0, 204, 150); fill-opacity: 1; stroke: rgb(229, 236, 246); stroke-opacity: 1;\"/></g><g class=\"point\"><path d=\"M147.25,217.24V83.02H161.79V217.24Z\" style=\"vector-effect: non-scaling-stroke; opacity: 1; stroke-width: 0.5px; fill: rgb(0, 204, 150); fill-opacity: 1; stroke: rgb(229, 236, 246); stroke-opacity: 1;\"/></g><g class=\"point\"><path d=\"M165.42,188.64V82.21H179.97V188.64Z\" style=\"vector-effect: non-scaling-stroke; opacity: 1; stroke-width: 0.5px; fill: rgb(0, 204, 150); fill-opacity: 1; stroke: rgb(229, 236, 246); stroke-opacity: 1;\"/></g><g class=\"point\"><path d=\"M183.6,203.09V93.6H198.15V203.09Z\" style=\"vector-effect: non-scaling-stroke; opacity: 1; stroke-width: 0.5px; fill: rgb(0, 204, 150); fill-opacity: 1; stroke: rgb(229, 236, 246); stroke-opacity: 1;\"/></g><g class=\"point\"><path d=\"M201.78,220.39V80.78H216.33V220.39Z\" style=\"vector-effect: non-scaling-stroke; opacity: 1; stroke-width: 0.5px; fill: rgb(0, 204, 150); fill-opacity: 1; stroke: rgb(229, 236, 246); stroke-opacity: 1;\"/></g><g class=\"point\"><path d=\"M219.96,218.36V122.81H234.5V218.36Z\" style=\"vector-effect: non-scaling-stroke; opacity: 1; stroke-width: 0.5px; fill: rgb(0, 204, 150); fill-opacity: 1; stroke: rgb(229, 236, 246); stroke-opacity: 1;\"/></g><g class=\"point\"><path d=\"M238.14,251.12V141.84H252.68V251.12Z\" style=\"vector-effect: non-scaling-stroke; opacity: 1; stroke-width: 0.5px; fill: rgb(0, 204, 150); fill-opacity: 1; stroke: rgb(229, 236, 246); stroke-opacity: 1;\"/></g><g class=\"point\"><path d=\"M256.32,196.78V64.1H270.86V196.78Z\" style=\"vector-effect: non-scaling-stroke; opacity: 1; stroke-width: 0.5px; fill: rgb(0, 204, 150); fill-opacity: 1; stroke: rgb(229, 236, 246); stroke-opacity: 1;\"/></g><g class=\"point\"><path d=\"M274.5,190.27V82.41H289.04V190.27Z\" style=\"vector-effect: non-scaling-stroke; opacity: 1; stroke-width: 0.5px; fill: rgb(0, 204, 150); fill-opacity: 1; stroke: rgb(229, 236, 246); stroke-opacity: 1;\"/></g><g class=\"point\"><path d=\"M292.67,162.7V18H307.22V162.7Z\" style=\"vector-effect: non-scaling-stroke; opacity: 1; stroke-width: 0.5px; fill: rgb(0, 204, 150); fill-opacity: 1; stroke: rgb(229, 236, 246); stroke-opacity: 1;\"/></g><g class=\"point\"><path d=\"M310.85,200.04V51.38H325.4V200.04Z\" style=\"vector-effect: non-scaling-stroke; opacity: 1; stroke-width: 0.5px; fill: rgb(0, 204, 150); fill-opacity: 1; stroke: rgb(229, 236, 246); stroke-opacity: 1;\"/></g><g class=\"point\"><path d=\"M329.03,234.13V93.6H343.58V234.13Z\" style=\"vector-effect: non-scaling-stroke; opacity: 1; stroke-width: 0.5px; fill: rgb(0, 204, 150); fill-opacity: 1; stroke: rgb(229, 236, 246); stroke-opacity: 1;\"/></g><g class=\"point\"><path d=\"M347.21,188.44V41.81H361.75V188.44Z\" style=\"vector-effect: non-scaling-stroke; opacity: 1; stroke-width: 0.5px; fill: rgb(0, 204, 150); fill-opacity: 1; stroke: rgb(229, 236, 246); stroke-opacity: 1;\"/></g><g class=\"point\"><path d=\"M365.39,201.57V68.88H379.93V201.57Z\" style=\"vector-effect: non-scaling-stroke; opacity: 1; stroke-width: 0.5px; fill: rgb(0, 204, 150); fill-opacity: 1; stroke: rgb(229, 236, 246); stroke-opacity: 1;\"/></g><g class=\"point\"><path d=\"M383.57,171.65V36.01H398.11V171.65Z\" style=\"vector-effect: non-scaling-stroke; opacity: 1; stroke-width: 0.5px; fill: rgb(0, 204, 150); fill-opacity: 1; stroke: rgb(229, 236, 246); stroke-opacity: 1;\"/></g><g class=\"point\"><path d=\"M401.75,170.33V34.79H416.29V170.33Z\" style=\"vector-effect: non-scaling-stroke; opacity: 1; stroke-width: 0.5px; fill: rgb(0, 204, 150); fill-opacity: 1; stroke: rgb(229, 236, 246); stroke-opacity: 1;\"/></g><g class=\"point\"><path d=\"M419.92,200.45V67.25H434.47V200.45Z\" style=\"vector-effect: non-scaling-stroke; opacity: 1; stroke-width: 0.5px; fill: rgb(0, 204, 150); fill-opacity: 1; stroke: rgb(229, 236, 246); stroke-opacity: 1;\"/></g><g class=\"point\"><path d=\"M438.1,194.14V68.17H452.65V194.14Z\" style=\"vector-effect: non-scaling-stroke; opacity: 1; stroke-width: 0.5px; fill: rgb(0, 204, 150); fill-opacity: 1; stroke: rgb(229, 236, 246); stroke-opacity: 1;\"/></g><g class=\"point\"><path d=\"M456.28,209.3V97.78H470.83V209.3Z\" style=\"vector-effect: non-scaling-stroke; opacity: 1; stroke-width: 0.5px; fill: rgb(0, 204, 150); fill-opacity: 1; stroke: rgb(229, 236, 246); stroke-opacity: 1;\"/></g><g class=\"point\"><path d=\"M474.46,250V171.45H489V250Z\" style=\"vector-effect: non-scaling-stroke; opacity: 1; stroke-width: 0.5px; fill: rgb(0, 204, 150); fill-opacity: 1; stroke: rgb(229, 236, 246); stroke-opacity: 1;\"/></g><g class=\"point\"><path d=\"M492.64,210.52V68.88H507.18V210.52Z\" style=\"vector-effect: non-scaling-stroke; opacity: 1; stroke-width: 0.5px; fill: rgb(0, 204, 150); fill-opacity: 1; stroke: rgb(229, 236, 246); stroke-opacity: 1;\"/></g></g></g></g></g><g class=\"overplot\"/><path class=\"xlines-above crisp\" d=\"M0,0\" style=\"fill: none;\"/><path class=\"ylines-above crisp\" d=\"M0,0\" style=\"fill: none;\"/><g class=\"overlines-above\"/><g class=\"xaxislayer-above\"><g class=\"xtick\"><text text-anchor=\"middle\" x=\"0\" y=\"433\" transform=\"translate(198.16,0)\" style=\"font-family: 'Open Sans', verdana, arial, sans-serif; font-size: 12px; fill: rgb(42, 63, 95); fill-opacity: 1; white-space: pre; opacity: 1;\"><tspan class=\"line\" dy=\"0em\" x=\"0\" y=\"433\">Oct 13</tspan><tspan class=\"line\" dy=\"1.3em\" x=\"0\" y=\"433\">2019</tspan></text></g><g class=\"xtick\"><text text-anchor=\"middle\" x=\"0\" y=\"433\" style=\"font-family: 'Open Sans', verdana, arial, sans-serif; font-size: 12px; fill: rgb(42, 63, 95); fill-opacity: 1; white-space: pre; opacity: 1;\" transform=\"translate(325.40999999999997,0)\">Oct 20</text></g><g class=\"xtick\"><text text-anchor=\"middle\" x=\"0\" y=\"433\" style=\"font-family: 'Open Sans', verdana, arial, sans-serif; font-size: 12px; fill: rgb(42, 63, 95); fill-opacity: 1; white-space: pre; opacity: 1;\" transform=\"translate(452.66,0)\">Oct 27</text></g><g class=\"xtick\"><text text-anchor=\"middle\" x=\"0\" y=\"433\" style=\"font-family: 'Open Sans', verdana, arial, sans-serif; font-size: 12px; fill: rgb(42, 63, 95); fill-opacity: 1; white-space: pre; opacity: 1;\" transform=\"translate(579.9100000000001,0)\">Nov 3</text></g></g><g class=\"yaxislayer-above\"><g class=\"ytick\"><text text-anchor=\"end\" x=\"79\" y=\"4.199999999999999\" transform=\"translate(0,420)\" style=\"font-family: 'Open Sans', verdana, arial, sans-serif; font-size: 12px; fill: rgb(42, 63, 95); fill-opacity: 1; white-space: pre; opacity: 1;\">0</text></g><g class=\"ytick\"><text text-anchor=\"end\" x=\"79\" y=\"4.199999999999999\" style=\"font-family: 'Open Sans', verdana, arial, sans-serif; font-size: 12px; fill: rgb(42, 63, 95); fill-opacity: 1; white-space: pre; opacity: 1;\" transform=\"translate(0,369.12)\">500</text></g><g class=\"ytick\"><text text-anchor=\"end\" x=\"79\" y=\"4.199999999999999\" style=\"font-family: 'Open Sans', verdana, arial, sans-serif; font-size: 12px; fill: rgb(42, 63, 95); fill-opacity: 1; white-space: pre; opacity: 1;\" transform=\"translate(0,318.24)\">1000</text></g><g class=\"ytick\"><text text-anchor=\"end\" x=\"79\" y=\"4.199999999999999\" style=\"font-family: 'Open Sans', verdana, arial, sans-serif; font-size: 12px; fill: rgb(42, 63, 95); fill-opacity: 1; white-space: pre; opacity: 1;\" transform=\"translate(0,267.37)\">1500</text></g><g class=\"ytick\"><text text-anchor=\"end\" x=\"79\" y=\"4.199999999999999\" style=\"font-family: 'Open Sans', verdana, arial, sans-serif; font-size: 12px; fill: rgb(42, 63, 95); fill-opacity: 1; white-space: pre; opacity: 1;\" transform=\"translate(0,216.49)\">2000</text></g><g class=\"ytick\"><text text-anchor=\"end\" x=\"79\" y=\"4.199999999999999\" style=\"font-family: 'Open Sans', verdana, arial, sans-serif; font-size: 12px; fill: rgb(42, 63, 95); fill-opacity: 1; white-space: pre; opacity: 1;\" transform=\"translate(0,165.61)\">2500</text></g><g class=\"ytick\"><text text-anchor=\"end\" x=\"79\" y=\"4.199999999999999\" style=\"font-family: 'Open Sans', verdana, arial, sans-serif; font-size: 12px; fill: rgb(42, 63, 95); fill-opacity: 1; white-space: pre; opacity: 1;\" transform=\"translate(0,114.72999999999999)\">3000</text></g><g class=\"ytick\"><text text-anchor=\"end\" x=\"79\" y=\"4.199999999999999\" style=\"font-family: 'Open Sans', verdana, arial, sans-serif; font-size: 12px; fill: rgb(42, 63, 95); fill-opacity: 1; white-space: pre; opacity: 1;\" transform=\"translate(0,63.86)\">3500</text></g></g><g class=\"overaxes-above\"/></g></g><g class=\"polarlayer\"/><g class=\"smithlayer\"/><g class=\"ternarylayer\"/><g class=\"geolayer\"/><g class=\"funnelarealayer\"/><g class=\"pielayer\"/><g class=\"iciclelayer\"/><g class=\"treemaplayer\"/><g class=\"sunburstlayer\"/><g class=\"glimages\"/><defs id=\"topdefs-bb6ee2\"><g class=\"clips\"/><clipPath id=\"legendbb6ee2\"><rect width=\"89\" height=\"86\" x=\"0\" y=\"0\"/></clipPath></defs><g class=\"layer-above\"><g class=\"imagelayer\"/><g class=\"shapelayer\"/></g><g class=\"infolayer\"><g class=\"legend\" pointer-events=\"all\" transform=\"translate(599.1800000000001,60)\"><rect class=\"bg\" shape-rendering=\"crispEdges\" style=\"stroke: rgb(68, 68, 68); stroke-opacity: 1; fill: rgb(255, 255, 255); fill-opacity: 1; stroke-width: 0px;\" width=\"89\" height=\"86\" x=\"0\" y=\"0\"/><g class=\"scrollbox\" transform=\"\" clip-path=\"url(#legendbb6ee2)\"><text class=\"legendtitletext\" text-anchor=\"start\" x=\"2\" y=\"18.2\" style=\"font-family: 'Open Sans', verdana, arial, sans-serif; font-size: 14px; fill: rgb(42, 63, 95); fill-opacity: 1; white-space: pre;\">source</text><g class=\"groups\" transform=\"\"><g class=\"traces\" transform=\"translate(0,32.7)\" style=\"opacity: 1;\"><text class=\"legendtext\" text-anchor=\"start\" x=\"40\" y=\"4.680000000000001\" style=\"font-family: 'Open Sans', verdana, arial, sans-serif; font-size: 12px; fill: rgb(42, 63, 95); fill-opacity: 1; white-space: pre;\">google</text><g class=\"layers\" style=\"opacity: 1;\"><g class=\"legendfill\"/><g class=\"legendlines\"/><g class=\"legendsymbols\"><g class=\"legendpoints\"><path class=\"legendundefined\" d=\"M6,6H-6V-6H6Z\" transform=\"translate(20,0)\" style=\"stroke-width: 0.5px; fill: rgb(99, 110, 250); fill-opacity: 1; stroke: rgb(229, 236, 246); stroke-opacity: 1;\"/></g></g></g><rect class=\"legendtoggle\" x=\"0\" y=\"-9.5\" width=\"83.640625\" height=\"19\" style=\"fill: rgb(0, 0, 0); fill-opacity: 0;\"/></g></g><g class=\"groups\" transform=\"\"><g class=\"traces\" transform=\"translate(0,51.7)\" style=\"opacity: 1;\"><text class=\"legendtext\" text-anchor=\"start\" x=\"40\" y=\"4.680000000000001\" style=\"font-family: 'Open Sans', verdana, arial, sans-serif; font-size: 12px; fill: rgb(42, 63, 95); fill-opacity: 1; white-space: pre;\">other</text><g class=\"layers\" style=\"opacity: 1;\"><g class=\"legendfill\"/><g class=\"legendlines\"/><g class=\"legendsymbols\"><g class=\"legendpoints\"><path class=\"legendundefined\" d=\"M6,6H-6V-6H6Z\" transform=\"translate(20,0)\" style=\"stroke-width: 0.5px; fill: rgb(239, 85, 59); fill-opacity: 1; stroke: rgb(229, 236, 246); stroke-opacity: 1;\"/></g></g></g><rect class=\"legendtoggle\" x=\"0\" y=\"-9.5\" width=\"83.640625\" height=\"19\" style=\"fill: rgb(0, 0, 0); fill-opacity: 0;\"/></g></g><g class=\"groups\" transform=\"\"><g class=\"traces\" transform=\"translate(0,70.7)\" style=\"opacity: 1;\"><text class=\"legendtext\" text-anchor=\"start\" x=\"40\" y=\"4.680000000000001\" style=\"font-family: 'Open Sans', verdana, arial, sans-serif; font-size: 12px; fill: rgb(42, 63, 95); fill-opacity: 1; white-space: pre;\">yandex</text><g class=\"layers\" style=\"opacity: 1;\"><g class=\"legendfill\"/><g class=\"legendlines\"/><g class=\"legendsymbols\"><g class=\"legendpoints\"><path class=\"legendundefined\" d=\"M6,6H-6V-6H6Z\" transform=\"translate(20,0)\" style=\"stroke-width: 0.5px; fill: rgb(0, 204, 150); fill-opacity: 1; stroke: rgb(229, 236, 246); stroke-opacity: 1;\"/></g></g></g><rect class=\"legendtoggle\" x=\"0\" y=\"-9.5\" width=\"83.640625\" height=\"19\" style=\"fill: rgb(0, 0, 0); fill-opacity: 0;\"/></g></g></g><rect class=\"scrollbar\" rx=\"20\" ry=\"3\" width=\"0\" height=\"0\" style=\"fill: rgb(128, 139, 164); fill-opacity: 1;\" x=\"0\" y=\"0\"/></g><g class=\"g-gtitle\"><text class=\"gtitle\" x=\"35\" y=\"30\" text-anchor=\"start\" dy=\"0em\" style=\"font-family: 'Open Sans', verdana, arial, sans-serif; font-size: 17px; fill: rgb(42, 63, 95); opacity: 1; font-weight: normal; white-space: pre;\">Распределение данных по дате и источнику</text></g><g class=\"g-xtitle\"><text class=\"xtitle\" x=\"334.5\" y=\"475.909375\" text-anchor=\"middle\" style=\"font-family: 'Open Sans', verdana, arial, sans-serif; font-size: 14px; fill: rgb(42, 63, 95); opacity: 1; font-weight: normal; white-space: pre;\">Дата</text></g><g class=\"g-ytitle\"><text class=\"ytitle\" transform=\"rotate(-90,23.684375000000003,240)\" x=\"23.684375000000003\" y=\"240\" text-anchor=\"middle\" style=\"font-family: 'Open Sans', verdana, arial, sans-serif; font-size: 14px; fill: rgb(42, 63, 95); opacity: 1; font-weight: normal; white-space: pre;\">Количество данных</text></g></g></svg>"
      ]
     },
     "metadata": {},
     "output_type": "display_data"
    }
   ],
   "source": [
    "# Построим график по источникам в разрезе дат, используя функцию\n",
    "bar_chart(source_grouped, 'date', 'source_count', color='source', \n",
    "          title='Распределение данных по дате и источнику', xaxis_title='Дата', yaxis_title='Количество данных')"
   ]
  },
  {
   "cell_type": "markdown",
   "metadata": {},
   "source": [
    "Как мы видим по графику, Яндекс являлся стабильным лидером-источником установки приложения в течение всего периода времени. Гугл не показывает серьезной разницы с другими источниками, в какие-то дни скачиваний было больше с Гугла, а в иное время его обгоняли другие источники."
   ]
  },
  {
   "cell_type": "markdown",
   "metadata": {},
   "source": [
    "### Количество событий на каждого пользователя"
   ]
  },
  {
   "cell_type": "markdown",
   "metadata": {},
   "source": [
    "Теперь посмотрим на статистические показатели по пользователям и их событиям. Уберем из данных для этого анализа событие \"увидел рекомендованные объявления\", так как это действие совершается автоматически при входе."
   ]
  },
  {
   "cell_type": "code",
   "execution_count": 24,
   "metadata": {},
   "outputs": [],
   "source": [
    "# Посчитаем количество событий на каждую дату\n",
    "eventcnt = data.groupby(['user_id'])[['event_name']].agg({'event_name':'count'}).reset_index()"
   ]
  },
  {
   "cell_type": "code",
   "execution_count": 25,
   "metadata": {},
   "outputs": [
    {
     "data": {
      "image/svg+xml": [
       "<svg class=\"main-svg\" xmlns=\"http://www.w3.org/2000/svg\" xmlns:xlink=\"http://www.w3.org/1999/xlink\" width=\"770.0000000000001\" height=\"550\" style=\"\" viewBox=\"0 0 700 500\"><rect x=\"0\" y=\"0\" width=\"700\" height=\"500\" style=\"fill: rgb(255, 255, 255); fill-opacity: 1;\"/><defs id=\"defs-786c96\"><g class=\"clips\"><clipPath id=\"clip786c96xyplot\" class=\"plotclip\"><rect width=\"478\" height=\"360\"/></clipPath><clipPath class=\"axesclip\" id=\"clip786c96x\"><rect x=\"80\" y=\"0\" width=\"478\" height=\"500\"/></clipPath><clipPath class=\"axesclip\" id=\"clip786c96y\"><rect x=\"0\" y=\"60\" width=\"700\" height=\"360\"/></clipPath><clipPath class=\"axesclip\" id=\"clip786c96xy\"><rect x=\"80\" y=\"60\" width=\"478\" height=\"360\"/></clipPath></g><g class=\"gradients\"/><g class=\"patterns\"/></defs><g class=\"bglayer\"><rect class=\"bg\" x=\"80\" y=\"60\" width=\"478\" height=\"360\" style=\"fill: rgb(229, 236, 246); fill-opacity: 1; stroke-width: 0;\"/></g><g class=\"layer-below\"><g class=\"imagelayer\"/><g class=\"shapelayer\"/></g><g class=\"cartesianlayer\"><g class=\"subplot xy\"><g class=\"layer-subplot\"><g class=\"shapelayer\"/><g class=\"imagelayer\"/></g><g class=\"minor-gridlayer\"><g class=\"x\"/><g class=\"y\"/></g><g class=\"gridlayer\"><g class=\"x\"/><g class=\"y\"><path class=\"ygrid crisp\" transform=\"translate(0,343.83)\" d=\"M80,0h478\" style=\"stroke: rgb(255, 255, 255); stroke-opacity: 1; stroke-width: 1px;\"/><path class=\"ygrid crisp\" transform=\"translate(0,267.65999999999997)\" d=\"M80,0h478\" style=\"stroke: rgb(255, 255, 255); stroke-opacity: 1; stroke-width: 1px;\"/><path class=\"ygrid crisp\" transform=\"translate(0,191.49)\" d=\"M80,0h478\" style=\"stroke: rgb(255, 255, 255); stroke-opacity: 1; stroke-width: 1px;\"/><path class=\"ygrid crisp\" transform=\"translate(0,115.32)\" d=\"M80,0h478\" style=\"stroke: rgb(255, 255, 255); stroke-opacity: 1; stroke-width: 1px;\"/></g></g><g class=\"zerolinelayer\"><path class=\"yzl zl crisp\" transform=\"translate(0,420)\" d=\"M80,0h478\" style=\"stroke: rgb(255, 255, 255); stroke-opacity: 1; stroke-width: 2px;\"/></g><path class=\"xlines-below\"/><path class=\"ylines-below\"/><g class=\"overlines-below\"/><g class=\"xaxislayer-below\"/><g class=\"yaxislayer-below\"/><g class=\"overaxes-below\"/><g class=\"plot\" transform=\"translate(80,60)\" clip-path=\"url(#clip786c96xyplot)\"><g class=\"barlayer mlayer\"><g class=\"trace bars\" shape-rendering=\"crispEdges\" style=\"opacity: 1;\"><g class=\"points\"><g class=\"point\"><path d=\"M-2.39,360V18H45.41V360Z\" style=\"vector-effect: non-scaling-stroke; opacity: 1; stroke-width: 0px; fill: rgb(99, 110, 250); fill-opacity: 1;\"/></g><g class=\"point\"><path d=\"M45.41,360V189.38H93.21V360Z\" style=\"vector-effect: non-scaling-stroke; opacity: 1; stroke-width: 0px; fill: rgb(99, 110, 250); fill-opacity: 1;\"/></g><g class=\"point\"><path d=\"M93.21,360V303.33H141.01V360Z\" style=\"vector-effect: non-scaling-stroke; opacity: 1; stroke-width: 0px; fill: rgb(99, 110, 250); fill-opacity: 1;\"/></g><g class=\"point\"><path d=\"M141.01,360V332.73H188.81V360Z\" style=\"vector-effect: non-scaling-stroke; opacity: 1; stroke-width: 0px; fill: rgb(99, 110, 250); fill-opacity: 1;\"/></g><g class=\"point\"><path d=\"M188.81,360V343.09H236.61V360Z\" style=\"vector-effect: non-scaling-stroke; opacity: 1; stroke-width: 0px; fill: rgb(99, 110, 250); fill-opacity: 1;\"/></g><g class=\"point\"><path d=\"M236.61,360V351.47H284.41V360Z\" style=\"vector-effect: non-scaling-stroke; opacity: 1; stroke-width: 0px; fill: rgb(99, 110, 250); fill-opacity: 1;\"/></g><g class=\"point\"><path d=\"M284.41,360V352.38H332.21V360Z\" style=\"vector-effect: non-scaling-stroke; opacity: 1; stroke-width: 0px; fill: rgb(99, 110, 250); fill-opacity: 1;\"/></g><g class=\"point\"><path d=\"M332.21,360V353.45H380.01V360Z\" style=\"vector-effect: non-scaling-stroke; opacity: 1; stroke-width: 0px; fill: rgb(99, 110, 250); fill-opacity: 1;\"/></g><g class=\"point\"><path d=\"M380.01,360V356.65H427.81V360Z\" style=\"vector-effect: non-scaling-stroke; opacity: 1; stroke-width: 0px; fill: rgb(99, 110, 250); fill-opacity: 1;\"/></g><g class=\"point\"><path d=\"M427.81,360V357.11H475.61V360Z\" style=\"vector-effect: non-scaling-stroke; opacity: 1; stroke-width: 0px; fill: rgb(99, 110, 250); fill-opacity: 1;\"/></g><g class=\"point\"><path d=\"M475.61,360V358.32H523.41V360Z\" style=\"vector-effect: non-scaling-stroke; opacity: 1; stroke-width: 0px; fill: rgb(99, 110, 250); fill-opacity: 1;\"/></g><g class=\"point\"><path d=\"M523.41,360V358.48H571.21V360Z\" style=\"vector-effect: non-scaling-stroke; opacity: 1; stroke-width: 0px; fill: rgb(99, 110, 250); fill-opacity: 1;\"/></g><g class=\"point\"><path d=\"M571.21,360V358.32H619.01V360Z\" style=\"vector-effect: non-scaling-stroke; opacity: 1; stroke-width: 0px; fill: rgb(99, 110, 250); fill-opacity: 1;\"/></g><g class=\"point\"><path d=\"M619.01,360V359.39H666.81V360Z\" style=\"vector-effect: non-scaling-stroke; opacity: 1; stroke-width: 0px; fill: rgb(99, 110, 250); fill-opacity: 1;\"/></g><g class=\"point\"><path d=\"M666.81,360V359.39H714.61V360Z\" style=\"vector-effect: non-scaling-stroke; opacity: 1; stroke-width: 0px; fill: rgb(99, 110, 250); fill-opacity: 1;\"/></g><g class=\"point\"><path d=\"M714.61,360V359.39H762.41V360Z\" style=\"vector-effect: non-scaling-stroke; opacity: 1; stroke-width: 0px; fill: rgb(99, 110, 250); fill-opacity: 1;\"/></g><g class=\"point\"><path d=\"M762.41,360V359.24H810.21V360Z\" style=\"vector-effect: non-scaling-stroke; opacity: 1; stroke-width: 0px; fill: rgb(99, 110, 250); fill-opacity: 1;\"/></g><g class=\"point\"><path d=\"M810.21,360V359.09H858.01V360Z\" style=\"vector-effect: non-scaling-stroke; opacity: 1; stroke-width: 0px; fill: rgb(99, 110, 250); fill-opacity: 1;\"/></g><g class=\"point\"><path d=\"M858.01,360V359.39H905.81V360Z\" style=\"vector-effect: non-scaling-stroke; opacity: 1; stroke-width: 0px; fill: rgb(99, 110, 250); fill-opacity: 1;\"/></g><g class=\"point\"><path d=\"M0,0Z\" style=\"vector-effect: non-scaling-stroke; opacity: 1; stroke-width: 0px; fill: rgb(99, 110, 250); fill-opacity: 1;\"/></g><g class=\"point\"><path d=\"M0,0Z\" style=\"vector-effect: non-scaling-stroke; opacity: 1; stroke-width: 0px; fill: rgb(99, 110, 250); fill-opacity: 1;\"/></g><g class=\"point\"><path d=\"M1001.41,360V359.85H1049.21V360Z\" style=\"vector-effect: non-scaling-stroke; opacity: 1; stroke-width: 0px; fill: rgb(99, 110, 250); fill-opacity: 1;\"/></g><g class=\"point\"><path d=\"M1049.21,360V359.85H1097.01V360Z\" style=\"vector-effect: non-scaling-stroke; opacity: 1; stroke-width: 0px; fill: rgb(99, 110, 250); fill-opacity: 1;\"/></g><g class=\"point\"><path d=\"M0,0Z\" style=\"vector-effect: non-scaling-stroke; opacity: 1; stroke-width: 0px; fill: rgb(99, 110, 250); fill-opacity: 1;\"/></g><g class=\"point\"><path d=\"M1144.81,360V359.7H1192.61V360Z\" style=\"vector-effect: non-scaling-stroke; opacity: 1; stroke-width: 0px; fill: rgb(99, 110, 250); fill-opacity: 1;\"/></g><g class=\"point\"><path d=\"M1192.61,360V359.85H1240.41V360Z\" style=\"vector-effect: non-scaling-stroke; opacity: 1; stroke-width: 0px; fill: rgb(99, 110, 250); fill-opacity: 1;\"/></g><g class=\"point\"><path d=\"M1240.41,360V359.85H1288.21V360Z\" style=\"vector-effect: non-scaling-stroke; opacity: 1; stroke-width: 0px; fill: rgb(99, 110, 250); fill-opacity: 1;\"/></g><g class=\"point\"><path d=\"M0,0Z\" style=\"vector-effect: non-scaling-stroke; opacity: 1; stroke-width: 0px; fill: rgb(99, 110, 250); fill-opacity: 1;\"/></g><g class=\"point\"><path d=\"M1336.01,360V359.85H1383.81V360Z\" style=\"vector-effect: non-scaling-stroke; opacity: 1; stroke-width: 0px; fill: rgb(99, 110, 250); fill-opacity: 1;\"/></g><g class=\"point\"><path d=\"M0,0Z\" style=\"vector-effect: non-scaling-stroke; opacity: 1; stroke-width: 0px; fill: rgb(99, 110, 250); fill-opacity: 1;\"/></g><g class=\"point\"><path d=\"M1431.61,360V359.7H1479.41V360Z\" style=\"vector-effect: non-scaling-stroke; opacity: 1; stroke-width: 0px; fill: rgb(99, 110, 250); fill-opacity: 1;\"/></g><g class=\"point\"><path d=\"M0,0Z\" style=\"vector-effect: non-scaling-stroke; opacity: 1; stroke-width: 0px; fill: rgb(99, 110, 250); fill-opacity: 1;\"/></g><g class=\"point\"><path d=\"M0,0Z\" style=\"vector-effect: non-scaling-stroke; opacity: 1; stroke-width: 0px; fill: rgb(99, 110, 250); fill-opacity: 1;\"/></g><g class=\"point\"><path d=\"M0,0Z\" style=\"vector-effect: non-scaling-stroke; opacity: 1; stroke-width: 0px; fill: rgb(99, 110, 250); fill-opacity: 1;\"/></g><g class=\"point\"><path d=\"M0,0Z\" style=\"vector-effect: non-scaling-stroke; opacity: 1; stroke-width: 0px; fill: rgb(99, 110, 250); fill-opacity: 1;\"/></g><g class=\"point\"><path d=\"M1670.61,360V359.7H1718.41V360Z\" style=\"vector-effect: non-scaling-stroke; opacity: 1; stroke-width: 0px; fill: rgb(99, 110, 250); fill-opacity: 1;\"/></g><g class=\"point\"><path d=\"M1718.41,360V359.85H1766.21V360Z\" style=\"vector-effect: non-scaling-stroke; opacity: 1; stroke-width: 0px; fill: rgb(99, 110, 250); fill-opacity: 1;\"/></g><g class=\"point\"><path d=\"M0,0Z\" style=\"vector-effect: non-scaling-stroke; opacity: 1; stroke-width: 0px; fill: rgb(99, 110, 250); fill-opacity: 1;\"/></g><g class=\"point\"><path d=\"M0,0Z\" style=\"vector-effect: non-scaling-stroke; opacity: 1; stroke-width: 0px; fill: rgb(99, 110, 250); fill-opacity: 1;\"/></g><g class=\"point\"><path d=\"M1861.81,360V359.85H1909.61V360Z\" style=\"vector-effect: non-scaling-stroke; opacity: 1; stroke-width: 0px; fill: rgb(99, 110, 250); fill-opacity: 1;\"/></g><g class=\"point\"><path d=\"M1909.61,360V359.7H1957.41V360Z\" style=\"vector-effect: non-scaling-stroke; opacity: 1; stroke-width: 0px; fill: rgb(99, 110, 250); fill-opacity: 1;\"/></g><g class=\"point\"><path d=\"M0,0Z\" style=\"vector-effect: non-scaling-stroke; opacity: 1; stroke-width: 0px; fill: rgb(99, 110, 250); fill-opacity: 1;\"/></g><g class=\"point\"><path d=\"M0,0Z\" style=\"vector-effect: non-scaling-stroke; opacity: 1; stroke-width: 0px; fill: rgb(99, 110, 250); fill-opacity: 1;\"/></g><g class=\"point\"><path d=\"M0,0Z\" style=\"vector-effect: non-scaling-stroke; opacity: 1; stroke-width: 0px; fill: rgb(99, 110, 250); fill-opacity: 1;\"/></g><g class=\"point\"><path d=\"M0,0Z\" style=\"vector-effect: non-scaling-stroke; opacity: 1; stroke-width: 0px; fill: rgb(99, 110, 250); fill-opacity: 1;\"/></g><g class=\"point\"><path d=\"M0,0Z\" style=\"vector-effect: non-scaling-stroke; opacity: 1; stroke-width: 0px; fill: rgb(99, 110, 250); fill-opacity: 1;\"/></g><g class=\"point\"><path d=\"M2196.41,360V359.85H2244.21V360Z\" style=\"vector-effect: non-scaling-stroke; opacity: 1; stroke-width: 0px; fill: rgb(99, 110, 250); fill-opacity: 1;\"/></g><g class=\"point\"><path d=\"M2244.21,360V359.85H2292.01V360Z\" style=\"vector-effect: non-scaling-stroke; opacity: 1; stroke-width: 0px; fill: rgb(99, 110, 250); fill-opacity: 1;\"/></g></g></g></g></g><g class=\"overplot\"/><path class=\"xlines-above crisp\" d=\"M0,0\" style=\"fill: none;\"/><path class=\"ylines-above crisp\" d=\"M0,0\" style=\"fill: none;\"/><g class=\"overlines-above\"/><g class=\"xaxislayer-above\"><g class=\"xtick\"><text text-anchor=\"middle\" x=\"0\" y=\"433\" transform=\"translate(80,0)\" style=\"font-family: 'Open Sans', verdana, arial, sans-serif; font-size: 12px; fill: rgb(42, 63, 95); fill-opacity: 1; white-space: pre; opacity: 1;\">0</text></g><g class=\"xtick\"><text text-anchor=\"middle\" x=\"0\" y=\"433\" style=\"font-family: 'Open Sans', verdana, arial, sans-serif; font-size: 12px; fill: rgb(42, 63, 95); fill-opacity: 1; white-space: pre; opacity: 1;\" transform=\"translate(175.6,0)\">20</text></g><g class=\"xtick\"><text text-anchor=\"middle\" x=\"0\" y=\"433\" style=\"font-family: 'Open Sans', verdana, arial, sans-serif; font-size: 12px; fill: rgb(42, 63, 95); fill-opacity: 1; white-space: pre; opacity: 1;\" transform=\"translate(271.2,0)\">40</text></g><g class=\"xtick\"><text text-anchor=\"middle\" x=\"0\" y=\"433\" style=\"font-family: 'Open Sans', verdana, arial, sans-serif; font-size: 12px; fill: rgb(42, 63, 95); fill-opacity: 1; white-space: pre; opacity: 1;\" transform=\"translate(366.8,0)\">60</text></g><g class=\"xtick\"><text text-anchor=\"middle\" x=\"0\" y=\"433\" style=\"font-family: 'Open Sans', verdana, arial, sans-serif; font-size: 12px; fill: rgb(42, 63, 95); fill-opacity: 1; white-space: pre; opacity: 1;\" transform=\"translate(462.4,0)\">80</text></g><g class=\"xtick\"><text text-anchor=\"middle\" x=\"0\" y=\"433\" style=\"font-family: 'Open Sans', verdana, arial, sans-serif; font-size: 12px; fill: rgb(42, 63, 95); fill-opacity: 1; white-space: pre; opacity: 1;\" transform=\"translate(558,0)\">100</text></g></g><g class=\"yaxislayer-above\"><g class=\"ytick\"><text text-anchor=\"end\" x=\"79\" y=\"4.199999999999999\" transform=\"translate(0,420)\" style=\"font-family: 'Open Sans', verdana, arial, sans-serif; font-size: 12px; fill: rgb(42, 63, 95); fill-opacity: 1; white-space: pre; opacity: 1;\">0</text></g><g class=\"ytick\"><text text-anchor=\"end\" x=\"79\" y=\"4.199999999999999\" style=\"font-family: 'Open Sans', verdana, arial, sans-serif; font-size: 12px; fill: rgb(42, 63, 95); fill-opacity: 1; white-space: pre; opacity: 1;\" transform=\"translate(0,343.83)\">500</text></g><g class=\"ytick\"><text text-anchor=\"end\" x=\"79\" y=\"4.199999999999999\" style=\"font-family: 'Open Sans', verdana, arial, sans-serif; font-size: 12px; fill: rgb(42, 63, 95); fill-opacity: 1; white-space: pre; opacity: 1;\" transform=\"translate(0,267.65999999999997)\">1000</text></g><g class=\"ytick\"><text text-anchor=\"end\" x=\"79\" y=\"4.199999999999999\" style=\"font-family: 'Open Sans', verdana, arial, sans-serif; font-size: 12px; fill: rgb(42, 63, 95); fill-opacity: 1; white-space: pre; opacity: 1;\" transform=\"translate(0,191.49)\">1500</text></g><g class=\"ytick\"><text text-anchor=\"end\" x=\"79\" y=\"4.199999999999999\" style=\"font-family: 'Open Sans', verdana, arial, sans-serif; font-size: 12px; fill: rgb(42, 63, 95); fill-opacity: 1; white-space: pre; opacity: 1;\" transform=\"translate(0,115.32)\">2000</text></g></g><g class=\"overaxes-above\"/></g></g><g class=\"polarlayer\"/><g class=\"smithlayer\"/><g class=\"ternarylayer\"/><g class=\"geolayer\"/><g class=\"funnelarealayer\"/><g class=\"pielayer\"/><g class=\"iciclelayer\"/><g class=\"treemaplayer\"/><g class=\"sunburstlayer\"/><g class=\"glimages\"/><defs id=\"topdefs-786c96\"><g class=\"clips\"/><clipPath id=\"legend786c96\"><rect width=\"120\" height=\"48\" x=\"0\" y=\"0\"/></clipPath></defs><g class=\"layer-above\"><g class=\"imagelayer\"/><g class=\"shapelayer\"/></g><g class=\"infolayer\"><g class=\"legend\" pointer-events=\"all\" transform=\"translate(567.56,60)\"><rect class=\"bg\" shape-rendering=\"crispEdges\" style=\"stroke: rgb(68, 68, 68); stroke-opacity: 1; fill: rgb(255, 255, 255); fill-opacity: 1; stroke-width: 0px;\" width=\"120\" height=\"48\" x=\"0\" y=\"0\"/><g class=\"scrollbox\" transform=\"\" clip-path=\"url(#legend786c96)\"><text class=\"legendtitletext\" text-anchor=\"start\" x=\"2\" y=\"18.2\" style=\"font-family: 'Open Sans', verdana, arial, sans-serif; font-size: 14px; fill: rgb(42, 63, 95); fill-opacity: 1; white-space: pre;\">variable</text><g class=\"groups\" transform=\"\"><g class=\"traces\" transform=\"translate(0,32.7)\" style=\"opacity: 1;\"><text class=\"legendtext\" text-anchor=\"start\" x=\"40\" y=\"4.680000000000001\" style=\"font-family: 'Open Sans', verdana, arial, sans-serif; font-size: 12px; fill: rgb(42, 63, 95); fill-opacity: 1; white-space: pre;\">event_name</text><g class=\"layers\" style=\"opacity: 1;\"><g class=\"legendfill\"/><g class=\"legendlines\"/><g class=\"legendsymbols\"><g class=\"legendpoints\"><path class=\"legendundefined\" d=\"M6,6H-6V-6H6Z\" transform=\"translate(20,0)\" style=\"stroke-width: 0px; fill: rgb(99, 110, 250); fill-opacity: 1;\"/></g></g></g><rect class=\"legendtoggle\" x=\"0\" y=\"-9.5\" width=\"114.984375\" height=\"19\" style=\"fill: rgb(0, 0, 0); fill-opacity: 0;\"/></g></g></g><rect class=\"scrollbar\" rx=\"20\" ry=\"3\" width=\"0\" height=\"0\" style=\"fill: rgb(128, 139, 164); fill-opacity: 1;\" x=\"0\" y=\"0\"/></g><g class=\"g-gtitle\"><text class=\"gtitle\" x=\"35\" y=\"30\" text-anchor=\"start\" dy=\"0em\" style=\"font-family: 'Open Sans', verdana, arial, sans-serif; font-size: 17px; fill: rgb(42, 63, 95); opacity: 1; font-weight: normal; white-space: pre;\">Количество событий по пользователям</text></g><g class=\"g-xtitle\"><text class=\"xtitle\" x=\"319\" y=\"460.3\" text-anchor=\"middle\" style=\"font-family: 'Open Sans', verdana, arial, sans-serif; font-size: 14px; fill: rgb(42, 63, 95); opacity: 1; font-weight: normal; white-space: pre;\">Количество событий</text></g><g class=\"g-ytitle\"><text class=\"ytitle\" transform=\"rotate(-90,23.684375000000003,240)\" x=\"23.684375000000003\" y=\"240\" text-anchor=\"middle\" style=\"font-family: 'Open Sans', verdana, arial, sans-serif; font-size: 14px; fill: rgb(42, 63, 95); opacity: 1; font-weight: normal; white-space: pre;\">Количество пользователей</text></g></g></svg>"
      ]
     },
     "metadata": {},
     "output_type": "display_data"
    }
   ],
   "source": [
    "# Создадим график\n",
    "fig = px.histogram(eventcnt['event_name'], nbins=85)\n",
    "fig.update_layout(xaxis_title='Количество событий', yaxis_title='Количество пользователей', \n",
    "                  title='Количество событий по пользователям')\n",
    "fig.update_xaxes(range=[0, 100])\n",
    "fig.show()"
   ]
  },
  {
   "cell_type": "code",
   "execution_count": 26,
   "metadata": {},
   "outputs": [
    {
     "data": {
      "text/html": [
       "<div>\n",
       "<style scoped>\n",
       "    .dataframe tbody tr th:only-of-type {\n",
       "        vertical-align: middle;\n",
       "    }\n",
       "\n",
       "    .dataframe tbody tr th {\n",
       "        vertical-align: top;\n",
       "    }\n",
       "\n",
       "    .dataframe thead th {\n",
       "        text-align: right;\n",
       "    }\n",
       "</style>\n",
       "<table border=\"1\" class=\"dataframe\">\n",
       "  <thead>\n",
       "    <tr style=\"text-align: right;\">\n",
       "      <th></th>\n",
       "      <th>event_name</th>\n",
       "    </tr>\n",
       "  </thead>\n",
       "  <tbody>\n",
       "    <tr>\n",
       "      <th>count</th>\n",
       "      <td>4293.000</td>\n",
       "    </tr>\n",
       "    <tr>\n",
       "      <th>mean</th>\n",
       "      <td>17.283</td>\n",
       "    </tr>\n",
       "    <tr>\n",
       "      <th>std</th>\n",
       "      <td>29.131</td>\n",
       "    </tr>\n",
       "    <tr>\n",
       "      <th>min</th>\n",
       "      <td>1.000</td>\n",
       "    </tr>\n",
       "    <tr>\n",
       "      <th>25%</th>\n",
       "      <td>5.000</td>\n",
       "    </tr>\n",
       "    <tr>\n",
       "      <th>50%</th>\n",
       "      <td>9.000</td>\n",
       "    </tr>\n",
       "    <tr>\n",
       "      <th>75%</th>\n",
       "      <td>17.000</td>\n",
       "    </tr>\n",
       "    <tr>\n",
       "      <th>90%</th>\n",
       "      <td>36.000</td>\n",
       "    </tr>\n",
       "    <tr>\n",
       "      <th>95%</th>\n",
       "      <td>59.000</td>\n",
       "    </tr>\n",
       "    <tr>\n",
       "      <th>99%</th>\n",
       "      <td>132.000</td>\n",
       "    </tr>\n",
       "    <tr>\n",
       "      <th>max</th>\n",
       "      <td>478.000</td>\n",
       "    </tr>\n",
       "  </tbody>\n",
       "</table>\n",
       "</div>"
      ],
      "text/plain": [
       "       event_name\n",
       "count    4293.000\n",
       "mean       17.283\n",
       "std        29.131\n",
       "min         1.000\n",
       "25%         5.000\n",
       "50%         9.000\n",
       "75%        17.000\n",
       "90%        36.000\n",
       "95%        59.000\n",
       "99%       132.000\n",
       "max       478.000"
      ]
     },
     "execution_count": 26,
     "metadata": {},
     "output_type": "execute_result"
    }
   ],
   "source": [
    "# Выведем основную статистику по полученному распределению данных\n",
    "eventcnt.describe(percentiles=[0.25, 0.50, 0.75, 0.90, 0.95, 0.99]).round(3)"
   ]
  },
  {
   "cell_type": "markdown",
   "metadata": {},
   "source": [
    "Cудя по полученным результатам, в данных есть выбросы, что видно по графику и максимальному значению 478. Однако так как в данном исследовании мы изучаем поведение пользователей через произошедшие события, то будет лучше их не трогать. В основном пользователи совершают до 20 событий, половина всех пользователей совершила до 9 действий, 25% произвело более 17 событий, 5% от всех пользователей совершили более 60 действий. Минимальное количество действий равно единице, что логично, так как многие могли  зайти в приложение и сразу выйти, то есть совершив только действие \"просмотр рекомендательных объявлений\"."
   ]
  },
  {
   "cell_type": "markdown",
   "metadata": {},
   "source": [
    "### Длительность сессий"
   ]
  },
  {
   "cell_type": "markdown",
   "metadata": {},
   "source": [
    "Разделение сессий нам необходимо, чтобы после с помощью них выделить сценарии действий пользователей в приложении и рассчитать по ним воронки. Сессии можно выделить двумя основными способами: установив календарный день за одну сессию или же применив тайм-ауты. Тайм-аут сессии - это интервал времени бездействия пользователя, после которого считается, что пользовательская сессия закончилась. Такой вариант довольно сложен, но обеспечивает высокой точностью результатов, поэтому воспользуемся им."
   ]
  },
  {
   "cell_type": "code",
   "execution_count": 27,
   "metadata": {},
   "outputs": [],
   "source": [
    "# Создадим функцию для разделения сессий\n",
    "def session(data, time_out):\n",
    "    \"\"\"Эта функция разделяет сессии пользователей.\n",
    "\n",
    "    В функцию вводится датасет и нужное значение тайм-аута. В итоге сессии выделяются и после рассчитывается\n",
    "    длительность каждой сессии по пользователям.\n",
    "    \n",
    "    Функция возвращает датасет с добавленной колонкой с сессиями.\n",
    "    \"\"\"\n",
    "    data_ss = data.sort_values(['user_id', 'event_time'], ignore_index=True)\n",
    "    g = (data_ss.groupby('user_id')['event_time'].diff() > pd.Timedelta(time_out)).cumsum()\n",
    "    data_ss['session'] = data_ss.groupby(['user_id', g], sort=False).ngroup() + 1\n",
    "    \n",
    "    return data_ss"
   ]
  },
  {
   "cell_type": "markdown",
   "metadata": {},
   "source": [
    "Теперь применим функцию и попробуем ввести время тайм-аута 25 минут, далее мы сможем увидеть, какая получается средняя продолжительность сессии при таком интервале."
   ]
  },
  {
   "cell_type": "code",
   "execution_count": 28,
   "metadata": {},
   "outputs": [
    {
     "data": {
      "text/html": [
       "<div>\n",
       "<style scoped>\n",
       "    .dataframe tbody tr th:only-of-type {\n",
       "        vertical-align: middle;\n",
       "    }\n",
       "\n",
       "    .dataframe tbody tr th {\n",
       "        vertical-align: top;\n",
       "    }\n",
       "\n",
       "    .dataframe thead th {\n",
       "        text-align: right;\n",
       "    }\n",
       "</style>\n",
       "<table border=\"1\" class=\"dataframe\">\n",
       "  <thead>\n",
       "    <tr style=\"text-align: right;\">\n",
       "      <th></th>\n",
       "      <th>event_time</th>\n",
       "      <th>event_name</th>\n",
       "      <th>user_id</th>\n",
       "      <th>source</th>\n",
       "      <th>date</th>\n",
       "      <th>session</th>\n",
       "    </tr>\n",
       "  </thead>\n",
       "  <tbody>\n",
       "    <tr>\n",
       "      <th>0</th>\n",
       "      <td>2019-10-07 13:39:45.989359</td>\n",
       "      <td>tips_show</td>\n",
       "      <td>0001b1d5-b74a-4cbf-aeb0-7df5947bf349</td>\n",
       "      <td>other</td>\n",
       "      <td>2019-10-07</td>\n",
       "      <td>1</td>\n",
       "    </tr>\n",
       "    <tr>\n",
       "      <th>1</th>\n",
       "      <td>2019-10-07 13:40:31.052909</td>\n",
       "      <td>tips_show</td>\n",
       "      <td>0001b1d5-b74a-4cbf-aeb0-7df5947bf349</td>\n",
       "      <td>other</td>\n",
       "      <td>2019-10-07</td>\n",
       "      <td>1</td>\n",
       "    </tr>\n",
       "    <tr>\n",
       "      <th>2</th>\n",
       "      <td>2019-10-07 13:41:05.722489</td>\n",
       "      <td>tips_show</td>\n",
       "      <td>0001b1d5-b74a-4cbf-aeb0-7df5947bf349</td>\n",
       "      <td>other</td>\n",
       "      <td>2019-10-07</td>\n",
       "      <td>1</td>\n",
       "    </tr>\n",
       "    <tr>\n",
       "      <th>3</th>\n",
       "      <td>2019-10-07 13:43:20.735461</td>\n",
       "      <td>tips_show</td>\n",
       "      <td>0001b1d5-b74a-4cbf-aeb0-7df5947bf349</td>\n",
       "      <td>other</td>\n",
       "      <td>2019-10-07</td>\n",
       "      <td>1</td>\n",
       "    </tr>\n",
       "    <tr>\n",
       "      <th>4</th>\n",
       "      <td>2019-10-07 13:45:30.917502</td>\n",
       "      <td>tips_show</td>\n",
       "      <td>0001b1d5-b74a-4cbf-aeb0-7df5947bf349</td>\n",
       "      <td>other</td>\n",
       "      <td>2019-10-07</td>\n",
       "      <td>1</td>\n",
       "    </tr>\n",
       "    <tr>\n",
       "      <th>5</th>\n",
       "      <td>2019-10-07 13:45:43.212340</td>\n",
       "      <td>tips_show</td>\n",
       "      <td>0001b1d5-b74a-4cbf-aeb0-7df5947bf349</td>\n",
       "      <td>other</td>\n",
       "      <td>2019-10-07</td>\n",
       "      <td>1</td>\n",
       "    </tr>\n",
       "    <tr>\n",
       "      <th>6</th>\n",
       "      <td>2019-10-07 13:46:31.033718</td>\n",
       "      <td>tips_show</td>\n",
       "      <td>0001b1d5-b74a-4cbf-aeb0-7df5947bf349</td>\n",
       "      <td>other</td>\n",
       "      <td>2019-10-07</td>\n",
       "      <td>1</td>\n",
       "    </tr>\n",
       "    <tr>\n",
       "      <th>7</th>\n",
       "      <td>2019-10-07 13:47:32.860234</td>\n",
       "      <td>tips_show</td>\n",
       "      <td>0001b1d5-b74a-4cbf-aeb0-7df5947bf349</td>\n",
       "      <td>other</td>\n",
       "      <td>2019-10-07</td>\n",
       "      <td>1</td>\n",
       "    </tr>\n",
       "    <tr>\n",
       "      <th>8</th>\n",
       "      <td>2019-10-07 13:49:41.716617</td>\n",
       "      <td>tips_show</td>\n",
       "      <td>0001b1d5-b74a-4cbf-aeb0-7df5947bf349</td>\n",
       "      <td>other</td>\n",
       "      <td>2019-10-07</td>\n",
       "      <td>1</td>\n",
       "    </tr>\n",
       "    <tr>\n",
       "      <th>9</th>\n",
       "      <td>2019-10-09 18:33:55.577963</td>\n",
       "      <td>map</td>\n",
       "      <td>0001b1d5-b74a-4cbf-aeb0-7df5947bf349</td>\n",
       "      <td>other</td>\n",
       "      <td>2019-10-09</td>\n",
       "      <td>2</td>\n",
       "    </tr>\n",
       "  </tbody>\n",
       "</table>\n",
       "</div>"
      ],
      "text/plain": [
       "                  event_time event_name                               user_id  \\\n",
       "0 2019-10-07 13:39:45.989359  tips_show  0001b1d5-b74a-4cbf-aeb0-7df5947bf349   \n",
       "1 2019-10-07 13:40:31.052909  tips_show  0001b1d5-b74a-4cbf-aeb0-7df5947bf349   \n",
       "2 2019-10-07 13:41:05.722489  tips_show  0001b1d5-b74a-4cbf-aeb0-7df5947bf349   \n",
       "3 2019-10-07 13:43:20.735461  tips_show  0001b1d5-b74a-4cbf-aeb0-7df5947bf349   \n",
       "4 2019-10-07 13:45:30.917502  tips_show  0001b1d5-b74a-4cbf-aeb0-7df5947bf349   \n",
       "5 2019-10-07 13:45:43.212340  tips_show  0001b1d5-b74a-4cbf-aeb0-7df5947bf349   \n",
       "6 2019-10-07 13:46:31.033718  tips_show  0001b1d5-b74a-4cbf-aeb0-7df5947bf349   \n",
       "7 2019-10-07 13:47:32.860234  tips_show  0001b1d5-b74a-4cbf-aeb0-7df5947bf349   \n",
       "8 2019-10-07 13:49:41.716617  tips_show  0001b1d5-b74a-4cbf-aeb0-7df5947bf349   \n",
       "9 2019-10-09 18:33:55.577963        map  0001b1d5-b74a-4cbf-aeb0-7df5947bf349   \n",
       "\n",
       "  source       date  session  \n",
       "0  other 2019-10-07        1  \n",
       "1  other 2019-10-07        1  \n",
       "2  other 2019-10-07        1  \n",
       "3  other 2019-10-07        1  \n",
       "4  other 2019-10-07        1  \n",
       "5  other 2019-10-07        1  \n",
       "6  other 2019-10-07        1  \n",
       "7  other 2019-10-07        1  \n",
       "8  other 2019-10-07        1  \n",
       "9  other 2019-10-09        2  "
      ]
     },
     "execution_count": 28,
     "metadata": {},
     "output_type": "execute_result"
    }
   ],
   "source": [
    "# Применим функцию к нашим данным, поставив тайм-аут в 30 минут\n",
    "data_ss = session(data, '25min')\n",
    "\n",
    "# Выведем первые 10 строк новой таблицы\n",
    "data_ss.head(10)"
   ]
  },
  {
   "cell_type": "markdown",
   "metadata": {},
   "source": [
    "Тепень сгруппируем данные по пользователям и сессиям, и найдем продолжительность сессий. "
   ]
  },
  {
   "cell_type": "code",
   "execution_count": 29,
   "metadata": {},
   "outputs": [
    {
     "data": {
      "text/html": [
       "<div>\n",
       "<style scoped>\n",
       "    .dataframe tbody tr th:only-of-type {\n",
       "        vertical-align: middle;\n",
       "    }\n",
       "\n",
       "    .dataframe tbody tr th {\n",
       "        vertical-align: top;\n",
       "    }\n",
       "\n",
       "    .dataframe thead th {\n",
       "        text-align: right;\n",
       "    }\n",
       "</style>\n",
       "<table border=\"1\" class=\"dataframe\">\n",
       "  <thead>\n",
       "    <tr style=\"text-align: right;\">\n",
       "      <th></th>\n",
       "      <th>user_id</th>\n",
       "      <th>session</th>\n",
       "      <th>duration</th>\n",
       "    </tr>\n",
       "  </thead>\n",
       "  <tbody>\n",
       "    <tr>\n",
       "      <th>0</th>\n",
       "      <td>0001b1d5-b74a-4cbf-aeb0-7df5947bf349</td>\n",
       "      <td>1</td>\n",
       "      <td>0 days 00:09:55.727258</td>\n",
       "    </tr>\n",
       "    <tr>\n",
       "      <th>1</th>\n",
       "      <td>0001b1d5-b74a-4cbf-aeb0-7df5947bf349</td>\n",
       "      <td>2</td>\n",
       "      <td>0 days 00:08:27.385985</td>\n",
       "    </tr>\n",
       "    <tr>\n",
       "      <th>2</th>\n",
       "      <td>0001b1d5-b74a-4cbf-aeb0-7df5947bf349</td>\n",
       "      <td>3</td>\n",
       "      <td>0 days 00:14:59.272096</td>\n",
       "    </tr>\n",
       "    <tr>\n",
       "      <th>3</th>\n",
       "      <td>0001b1d5-b74a-4cbf-aeb0-7df5947bf349</td>\n",
       "      <td>4</td>\n",
       "      <td>0 days 00:12:38.171767</td>\n",
       "    </tr>\n",
       "    <tr>\n",
       "      <th>4</th>\n",
       "      <td>00157779-810c-4498-9e05-a1e9e3cedf93</td>\n",
       "      <td>5</td>\n",
       "      <td>0 days 00:25:20.787329</td>\n",
       "    </tr>\n",
       "  </tbody>\n",
       "</table>\n",
       "</div>"
      ],
      "text/plain": [
       "                                user_id  session               duration\n",
       "0  0001b1d5-b74a-4cbf-aeb0-7df5947bf349        1 0 days 00:09:55.727258\n",
       "1  0001b1d5-b74a-4cbf-aeb0-7df5947bf349        2 0 days 00:08:27.385985\n",
       "2  0001b1d5-b74a-4cbf-aeb0-7df5947bf349        3 0 days 00:14:59.272096\n",
       "3  0001b1d5-b74a-4cbf-aeb0-7df5947bf349        4 0 days 00:12:38.171767\n",
       "4  00157779-810c-4498-9e05-a1e9e3cedf93        5 0 days 00:25:20.787329"
      ]
     },
     "execution_count": 29,
     "metadata": {},
     "output_type": "execute_result"
    }
   ],
   "source": [
    "# Сгруппируем данные по пользователям и их сессиям\n",
    "data_ss_gr = data_ss.groupby(['user_id', 'session'])\n",
    "\n",
    "# Рассчитаем продолжительность сессий (из конца сессии вычтем начало по времени)\n",
    "ses_duration = (data_ss_gr['event_time'].max() - data_ss_gr['event_time'].min())\n",
    "\n",
    "# Преобразуем таблицу в стандартный вид\n",
    "ses_duration = ses_duration.to_frame().rename(columns={'event_time':'duration'}).reset_index()\n",
    "\n",
    "# Выведем первые пять строк\n",
    "ses_duration.head()"
   ]
  },
  {
   "cell_type": "markdown",
   "metadata": {},
   "source": [
    "Рассчитаем получившуюся среднюю длительность сессии в нашем датасете."
   ]
  },
  {
   "cell_type": "code",
   "execution_count": 30,
   "metadata": {},
   "outputs": [
    {
     "name": "stdout",
     "output_type": "stream",
     "text": [
      "Cредняя длительность сессии при тайм-ауте в 25 минут: 0 days 00:11:52.574882615\n"
     ]
    }
   ],
   "source": [
    "print('Cредняя длительность сессии при тайм-ауте в 25 минут: {}'.format(ses_duration['duration'].mean()))"
   ]
  },
  {
   "cell_type": "markdown",
   "metadata": {},
   "source": [
    "Для разделения сессий мы взяли интервал времени бездействия пользователя в 25 минут и рассчитали, какая получается средняя длительность сессии при таком тайм-ауте. В итоге средняя продолжительность оказалась примерно 12 минут (11.52). Как мы выяснили ранее из отчета компании *Adjust*, средняя длительность сессии в 2019 составляла около 10,5 минут, а в 2020 - 11. Если учитывать рост продолжительности одной сессии с 2019 по 2021 (19,09-20,31 мин.), то поэтому такие показатели тайм-аута и средней продолжительности имеют место быть, поэтому оставим так."
   ]
  },
  {
   "cell_type": "code",
   "execution_count": 31,
   "metadata": {
    "scrolled": true
   },
   "outputs": [
    {
     "name": "stdout",
     "output_type": "stream",
     "text": [
      "count                        74196\n",
      "mean     0 days 00:00:32.604077054\n",
      "std      0 days 00:03:13.256360544\n",
      "min         0 days 00:00:00.000001\n",
      "25%      0 days 00:00:04.720981250\n",
      "50%      0 days 00:00:13.006695500\n",
      "75%         0 days 00:00:30.894998\n",
      "max         0 days 03:38:21.375306\n",
      "Name: time_diff, dtype: object\n",
      "0.80      0 days 00:00:37.293100\n",
      "0.85   0 days 00:00:46.540382500\n",
      "0.90   0 days 00:01:00.814640500\n",
      "0.95   0 days 00:01:30.842338250\n",
      "0.99   0 days 00:03:52.930637300\n",
      "Name: time_diff, dtype: timedelta64[ns]\n"
     ]
    }
   ],
   "source": [
    "sort = data.sort_values(['event_time'])\n",
    "sort['time_diff'] = sort['event_time'].diff()\n",
    "print(sort['time_diff'].describe())\n",
    "print(sort['time_diff'].quantile([0.80, 0.85, 0.90, 0.95, 0.99]))"
   ]
  },
  {
   "cell_type": "markdown",
   "metadata": {},
   "source": [
    "У нас 75% временных разниц между соседними событиями составляют менее ~30 минут. \n",
    "Как указано в статье про веб-аналитику (https://searchengines.guru/ru/articles/40879), во многих аналитических счетчиках тайм-аут настраивается автоматически на 30 минут. \n",
    "Установим наш тайм-аут в 30 минут."
   ]
  },
  {
   "cell_type": "code",
   "execution_count": 32,
   "metadata": {},
   "outputs": [
    {
     "data": {
      "text/html": [
       "<div>\n",
       "<style scoped>\n",
       "    .dataframe tbody tr th:only-of-type {\n",
       "        vertical-align: middle;\n",
       "    }\n",
       "\n",
       "    .dataframe tbody tr th {\n",
       "        vertical-align: top;\n",
       "    }\n",
       "\n",
       "    .dataframe thead th {\n",
       "        text-align: right;\n",
       "    }\n",
       "</style>\n",
       "<table border=\"1\" class=\"dataframe\">\n",
       "  <thead>\n",
       "    <tr style=\"text-align: right;\">\n",
       "      <th></th>\n",
       "      <th>event_time</th>\n",
       "      <th>event_name</th>\n",
       "      <th>user_id</th>\n",
       "      <th>source</th>\n",
       "      <th>date</th>\n",
       "      <th>session</th>\n",
       "    </tr>\n",
       "  </thead>\n",
       "  <tbody>\n",
       "    <tr>\n",
       "      <th>0</th>\n",
       "      <td>2019-10-07 13:39:45.989359</td>\n",
       "      <td>tips_show</td>\n",
       "      <td>0001b1d5-b74a-4cbf-aeb0-7df5947bf349</td>\n",
       "      <td>other</td>\n",
       "      <td>2019-10-07</td>\n",
       "      <td>1</td>\n",
       "    </tr>\n",
       "    <tr>\n",
       "      <th>1</th>\n",
       "      <td>2019-10-07 13:40:31.052909</td>\n",
       "      <td>tips_show</td>\n",
       "      <td>0001b1d5-b74a-4cbf-aeb0-7df5947bf349</td>\n",
       "      <td>other</td>\n",
       "      <td>2019-10-07</td>\n",
       "      <td>1</td>\n",
       "    </tr>\n",
       "    <tr>\n",
       "      <th>2</th>\n",
       "      <td>2019-10-07 13:41:05.722489</td>\n",
       "      <td>tips_show</td>\n",
       "      <td>0001b1d5-b74a-4cbf-aeb0-7df5947bf349</td>\n",
       "      <td>other</td>\n",
       "      <td>2019-10-07</td>\n",
       "      <td>1</td>\n",
       "    </tr>\n",
       "    <tr>\n",
       "      <th>3</th>\n",
       "      <td>2019-10-07 13:43:20.735461</td>\n",
       "      <td>tips_show</td>\n",
       "      <td>0001b1d5-b74a-4cbf-aeb0-7df5947bf349</td>\n",
       "      <td>other</td>\n",
       "      <td>2019-10-07</td>\n",
       "      <td>1</td>\n",
       "    </tr>\n",
       "    <tr>\n",
       "      <th>4</th>\n",
       "      <td>2019-10-07 13:45:30.917502</td>\n",
       "      <td>tips_show</td>\n",
       "      <td>0001b1d5-b74a-4cbf-aeb0-7df5947bf349</td>\n",
       "      <td>other</td>\n",
       "      <td>2019-10-07</td>\n",
       "      <td>1</td>\n",
       "    </tr>\n",
       "    <tr>\n",
       "      <th>5</th>\n",
       "      <td>2019-10-07 13:45:43.212340</td>\n",
       "      <td>tips_show</td>\n",
       "      <td>0001b1d5-b74a-4cbf-aeb0-7df5947bf349</td>\n",
       "      <td>other</td>\n",
       "      <td>2019-10-07</td>\n",
       "      <td>1</td>\n",
       "    </tr>\n",
       "    <tr>\n",
       "      <th>6</th>\n",
       "      <td>2019-10-07 13:46:31.033718</td>\n",
       "      <td>tips_show</td>\n",
       "      <td>0001b1d5-b74a-4cbf-aeb0-7df5947bf349</td>\n",
       "      <td>other</td>\n",
       "      <td>2019-10-07</td>\n",
       "      <td>1</td>\n",
       "    </tr>\n",
       "    <tr>\n",
       "      <th>7</th>\n",
       "      <td>2019-10-07 13:47:32.860234</td>\n",
       "      <td>tips_show</td>\n",
       "      <td>0001b1d5-b74a-4cbf-aeb0-7df5947bf349</td>\n",
       "      <td>other</td>\n",
       "      <td>2019-10-07</td>\n",
       "      <td>1</td>\n",
       "    </tr>\n",
       "    <tr>\n",
       "      <th>8</th>\n",
       "      <td>2019-10-07 13:49:41.716617</td>\n",
       "      <td>tips_show</td>\n",
       "      <td>0001b1d5-b74a-4cbf-aeb0-7df5947bf349</td>\n",
       "      <td>other</td>\n",
       "      <td>2019-10-07</td>\n",
       "      <td>1</td>\n",
       "    </tr>\n",
       "    <tr>\n",
       "      <th>9</th>\n",
       "      <td>2019-10-09 18:33:55.577963</td>\n",
       "      <td>map</td>\n",
       "      <td>0001b1d5-b74a-4cbf-aeb0-7df5947bf349</td>\n",
       "      <td>other</td>\n",
       "      <td>2019-10-09</td>\n",
       "      <td>2</td>\n",
       "    </tr>\n",
       "  </tbody>\n",
       "</table>\n",
       "</div>"
      ],
      "text/plain": [
       "                  event_time event_name                               user_id  \\\n",
       "0 2019-10-07 13:39:45.989359  tips_show  0001b1d5-b74a-4cbf-aeb0-7df5947bf349   \n",
       "1 2019-10-07 13:40:31.052909  tips_show  0001b1d5-b74a-4cbf-aeb0-7df5947bf349   \n",
       "2 2019-10-07 13:41:05.722489  tips_show  0001b1d5-b74a-4cbf-aeb0-7df5947bf349   \n",
       "3 2019-10-07 13:43:20.735461  tips_show  0001b1d5-b74a-4cbf-aeb0-7df5947bf349   \n",
       "4 2019-10-07 13:45:30.917502  tips_show  0001b1d5-b74a-4cbf-aeb0-7df5947bf349   \n",
       "5 2019-10-07 13:45:43.212340  tips_show  0001b1d5-b74a-4cbf-aeb0-7df5947bf349   \n",
       "6 2019-10-07 13:46:31.033718  tips_show  0001b1d5-b74a-4cbf-aeb0-7df5947bf349   \n",
       "7 2019-10-07 13:47:32.860234  tips_show  0001b1d5-b74a-4cbf-aeb0-7df5947bf349   \n",
       "8 2019-10-07 13:49:41.716617  tips_show  0001b1d5-b74a-4cbf-aeb0-7df5947bf349   \n",
       "9 2019-10-09 18:33:55.577963        map  0001b1d5-b74a-4cbf-aeb0-7df5947bf349   \n",
       "\n",
       "  source       date  session  \n",
       "0  other 2019-10-07        1  \n",
       "1  other 2019-10-07        1  \n",
       "2  other 2019-10-07        1  \n",
       "3  other 2019-10-07        1  \n",
       "4  other 2019-10-07        1  \n",
       "5  other 2019-10-07        1  \n",
       "6  other 2019-10-07        1  \n",
       "7  other 2019-10-07        1  \n",
       "8  other 2019-10-07        1  \n",
       "9  other 2019-10-09        2  "
      ]
     },
     "execution_count": 32,
     "metadata": {},
     "output_type": "execute_result"
    }
   ],
   "source": [
    "data_ss = session(data, '30min')\n",
    "\n",
    "# Выведем первые 10 строк новой таблицы\n",
    "data_ss.head(10)"
   ]
  },
  {
   "cell_type": "markdown",
   "metadata": {},
   "source": [
    "### Вывод по разделу"
   ]
  },
  {
   "cell_type": "markdown",
   "metadata": {},
   "source": [
    "<div class=\"alert alert-info\" style=\"border-color: lavender; border-radius: 10px; background-color: lavender;\"> \n",
    "    <font color = 'black'> \n",
    "        \n",
    "- Наиболее часто встречающиеся события по каждому дню: просмотр фото, поиск и открытие карточки обявления;\n",
    "- В течение каждого дня Яндекс являлся лидером по источнику искачивания приложения;\n",
    "- В основном пользователи совершали до 20 событий, половина всех пользователей совершила до 9 действий, 5% от всех пользователей совершили более 60 действий. "
   ]
  },
  {
   "cell_type": "markdown",
   "metadata": {},
   "source": [
    "## Исследование целевого события - просмотра контактов"
   ]
  },
  {
   "cell_type": "markdown",
   "metadata": {},
   "source": [
    "### Анализ связи целевого события и других действий пользователей"
   ]
  },
  {
   "cell_type": "markdown",
   "metadata": {},
   "source": [
    "- В разрезе сессий отобрать сценарии\\паттерны, которые приводят к просмотру контактов с помощью диаграммы Санкея (выбрать 3 наиболее популярных сценария);  \n",
    "- По выбранным сценариям построить воронки в разрезе уникальных пользователей.  "
   ]
  },
  {
   "cell_type": "markdown",
   "metadata": {},
   "source": [
    "Для начала отберем данные. Нам не потребуется вся таблица предыдущего анализа, нужны будут только три столбца: сессии, время и название события."
   ]
  },
  {
   "cell_type": "code",
   "execution_count": 33,
   "metadata": {},
   "outputs": [
    {
     "data": {
      "text/html": [
       "<div>\n",
       "<style scoped>\n",
       "    .dataframe tbody tr th:only-of-type {\n",
       "        vertical-align: middle;\n",
       "    }\n",
       "\n",
       "    .dataframe tbody tr th {\n",
       "        vertical-align: top;\n",
       "    }\n",
       "\n",
       "    .dataframe thead th {\n",
       "        text-align: right;\n",
       "    }\n",
       "</style>\n",
       "<table border=\"1\" class=\"dataframe\">\n",
       "  <thead>\n",
       "    <tr style=\"text-align: right;\">\n",
       "      <th></th>\n",
       "      <th>session</th>\n",
       "      <th>event_time</th>\n",
       "      <th>event_name</th>\n",
       "    </tr>\n",
       "  </thead>\n",
       "  <tbody>\n",
       "    <tr>\n",
       "      <th>0</th>\n",
       "      <td>1</td>\n",
       "      <td>2019-10-07 13:39:45.989359</td>\n",
       "      <td>tips_show</td>\n",
       "    </tr>\n",
       "    <tr>\n",
       "      <th>1</th>\n",
       "      <td>1</td>\n",
       "      <td>2019-10-07 13:40:31.052909</td>\n",
       "      <td>tips_show</td>\n",
       "    </tr>\n",
       "    <tr>\n",
       "      <th>2</th>\n",
       "      <td>1</td>\n",
       "      <td>2019-10-07 13:41:05.722489</td>\n",
       "      <td>tips_show</td>\n",
       "    </tr>\n",
       "    <tr>\n",
       "      <th>3</th>\n",
       "      <td>1</td>\n",
       "      <td>2019-10-07 13:43:20.735461</td>\n",
       "      <td>tips_show</td>\n",
       "    </tr>\n",
       "    <tr>\n",
       "      <th>4</th>\n",
       "      <td>1</td>\n",
       "      <td>2019-10-07 13:45:30.917502</td>\n",
       "      <td>tips_show</td>\n",
       "    </tr>\n",
       "  </tbody>\n",
       "</table>\n",
       "</div>"
      ],
      "text/plain": [
       "   session                 event_time event_name\n",
       "0        1 2019-10-07 13:39:45.989359  tips_show\n",
       "1        1 2019-10-07 13:40:31.052909  tips_show\n",
       "2        1 2019-10-07 13:41:05.722489  tips_show\n",
       "3        1 2019-10-07 13:43:20.735461  tips_show\n",
       "4        1 2019-10-07 13:45:30.917502  tips_show"
      ]
     },
     "execution_count": 33,
     "metadata": {},
     "output_type": "execute_result"
    }
   ],
   "source": [
    "# Отбираем данные\n",
    "data_new = data_ss.loc[:, ['session', 'event_time', 'event_name']]\n",
    "data_new.head()"
   ]
  },
  {
   "cell_type": "code",
   "execution_count": 34,
   "metadata": {},
   "outputs": [],
   "source": [
    "# Удаляем дубликаты по событиям в сессиях\n",
    "data_new.drop_duplicates(subset=['session', 'event_name'], inplace=True)"
   ]
  },
  {
   "cell_type": "code",
   "execution_count": 35,
   "metadata": {},
   "outputs": [
    {
     "data": {
      "text/html": [
       "<div>\n",
       "<style scoped>\n",
       "    .dataframe tbody tr th:only-of-type {\n",
       "        vertical-align: middle;\n",
       "    }\n",
       "\n",
       "    .dataframe tbody tr th {\n",
       "        vertical-align: top;\n",
       "    }\n",
       "\n",
       "    .dataframe thead th {\n",
       "        text-align: right;\n",
       "    }\n",
       "</style>\n",
       "<table border=\"1\" class=\"dataframe\">\n",
       "  <thead>\n",
       "    <tr style=\"text-align: right;\">\n",
       "      <th></th>\n",
       "      <th>session</th>\n",
       "      <th>event_time</th>\n",
       "      <th>event_name</th>\n",
       "    </tr>\n",
       "  </thead>\n",
       "  <tbody>\n",
       "    <tr>\n",
       "      <th>0</th>\n",
       "      <td>1</td>\n",
       "      <td>2019-10-07 13:39:45.989359</td>\n",
       "      <td>tips_show</td>\n",
       "    </tr>\n",
       "    <tr>\n",
       "      <th>9</th>\n",
       "      <td>2</td>\n",
       "      <td>2019-10-09 18:33:55.577963</td>\n",
       "      <td>map</td>\n",
       "    </tr>\n",
       "    <tr>\n",
       "      <th>11</th>\n",
       "      <td>2</td>\n",
       "      <td>2019-10-09 18:40:28.738785</td>\n",
       "      <td>tips_show</td>\n",
       "    </tr>\n",
       "    <tr>\n",
       "      <th>13</th>\n",
       "      <td>3</td>\n",
       "      <td>2019-10-21 19:52:30.778932</td>\n",
       "      <td>tips_show</td>\n",
       "    </tr>\n",
       "    <tr>\n",
       "      <th>15</th>\n",
       "      <td>3</td>\n",
       "      <td>2019-10-21 19:53:38.767230</td>\n",
       "      <td>map</td>\n",
       "    </tr>\n",
       "  </tbody>\n",
       "</table>\n",
       "</div>"
      ],
      "text/plain": [
       "    session                 event_time event_name\n",
       "0         1 2019-10-07 13:39:45.989359  tips_show\n",
       "9         2 2019-10-09 18:33:55.577963        map\n",
       "11        2 2019-10-09 18:40:28.738785  tips_show\n",
       "13        3 2019-10-21 19:52:30.778932  tips_show\n",
       "15        3 2019-10-21 19:53:38.767230        map"
      ]
     },
     "execution_count": 35,
     "metadata": {},
     "output_type": "execute_result"
    }
   ],
   "source": [
    "# Cмотрим результат\n",
    "data_new.head()"
   ]
  },
  {
   "cell_type": "markdown",
   "metadata": {},
   "source": [
    "Теперь приступим к построению диаграммы Санкея. Для нее нам потребуется написать несколько функций."
   ]
  },
  {
   "cell_type": "code",
   "execution_count": 36,
   "metadata": {},
   "outputs": [
    {
     "data": {
      "text/html": [
       "<div>\n",
       "<style scoped>\n",
       "    .dataframe tbody tr th:only-of-type {\n",
       "        vertical-align: middle;\n",
       "    }\n",
       "\n",
       "    .dataframe tbody tr th {\n",
       "        vertical-align: top;\n",
       "    }\n",
       "\n",
       "    .dataframe thead th {\n",
       "        text-align: right;\n",
       "    }\n",
       "</style>\n",
       "<table border=\"1\" class=\"dataframe\">\n",
       "  <thead>\n",
       "    <tr style=\"text-align: right;\">\n",
       "      <th></th>\n",
       "      <th>session</th>\n",
       "      <th>event_time</th>\n",
       "      <th>step</th>\n",
       "      <th>source</th>\n",
       "      <th>target</th>\n",
       "    </tr>\n",
       "  </thead>\n",
       "  <tbody>\n",
       "    <tr>\n",
       "      <th>0</th>\n",
       "      <td>1</td>\n",
       "      <td>2019-10-07 13:39:45.989359</td>\n",
       "      <td>1</td>\n",
       "      <td>tips_show</td>\n",
       "      <td>NaN</td>\n",
       "    </tr>\n",
       "    <tr>\n",
       "      <th>9</th>\n",
       "      <td>2</td>\n",
       "      <td>2019-10-09 18:33:55.577963</td>\n",
       "      <td>1</td>\n",
       "      <td>map</td>\n",
       "      <td>tips_show</td>\n",
       "    </tr>\n",
       "    <tr>\n",
       "      <th>11</th>\n",
       "      <td>2</td>\n",
       "      <td>2019-10-09 18:40:28.738785</td>\n",
       "      <td>2</td>\n",
       "      <td>tips_show</td>\n",
       "      <td>NaN</td>\n",
       "    </tr>\n",
       "    <tr>\n",
       "      <th>13</th>\n",
       "      <td>3</td>\n",
       "      <td>2019-10-21 19:52:30.778932</td>\n",
       "      <td>1</td>\n",
       "      <td>tips_show</td>\n",
       "      <td>map</td>\n",
       "    </tr>\n",
       "    <tr>\n",
       "      <th>15</th>\n",
       "      <td>3</td>\n",
       "      <td>2019-10-21 19:53:38.767230</td>\n",
       "      <td>2</td>\n",
       "      <td>map</td>\n",
       "      <td>NaN</td>\n",
       "    </tr>\n",
       "  </tbody>\n",
       "</table>\n",
       "</div>"
      ],
      "text/plain": [
       "    session                 event_time  step     source     target\n",
       "0         1 2019-10-07 13:39:45.989359     1  tips_show        NaN\n",
       "9         2 2019-10-09 18:33:55.577963     1        map  tips_show\n",
       "11        2 2019-10-09 18:40:28.738785     2  tips_show        NaN\n",
       "13        3 2019-10-21 19:52:30.778932     1  tips_show        map\n",
       "15        3 2019-10-21 19:53:38.767230     2        map        NaN"
      ]
     },
     "execution_count": 36,
     "metadata": {},
     "output_type": "execute_result"
    }
   ],
   "source": [
    "# Cтроим первую функцию\n",
    "def add_features(df):\n",
    "    \"\"\"Функция генерации новых столбцов для исходной таблицы\n",
    "    Args:\n",
    "        df (pd.DataFrame): исходная таблица.\n",
    "    Returns:\n",
    "        pd.DataFrame: таблица с новыми признаками.\n",
    "    \"\"\"\n",
    "    # сортируем по id и времени\n",
    "    sorted_data = data_new.sort_values(by=['session', 'event_time']).copy()\n",
    "    # добавляем шаги событий\n",
    "    sorted_data['step'] = sorted_data.groupby('session').cumcount() + 1\n",
    "    \n",
    "    # добавляем узлы-источники и целевые узлы\n",
    "    # узлы-источники - это сами события\n",
    "    sorted_data['source'] = sorted_data['event_name']\n",
    "    # добавляем целевые узлы\n",
    "    sorted_data['target'] = sorted_data.groupby('session')['source'].shift(-1)\n",
    "    \n",
    "    # возврат таблицы без имени событий\n",
    "    return sorted_data.drop(['event_name'], axis=1)\n",
    "  \n",
    "# преобразуем таблицу\n",
    "data_newone = add_features(data_new)\n",
    "data_newone.head()"
   ]
  },
  {
   "cell_type": "markdown",
   "metadata": {},
   "source": [
    "Теперь нужно отобрать максимальное количество шагов. Посмотрим на перцентили."
   ]
  },
  {
   "cell_type": "code",
   "execution_count": 37,
   "metadata": {},
   "outputs": [
    {
     "data": {
      "text/plain": [
       "count    17854.000000\n",
       "mean         1.592752\n",
       "std          0.822576\n",
       "min          1.000000\n",
       "50%          1.000000\n",
       "95%          3.000000\n",
       "99%          4.000000\n",
       "max          6.000000\n",
       "Name: step, dtype: float64"
      ]
     },
     "execution_count": 37,
     "metadata": {},
     "output_type": "execute_result"
    }
   ],
   "source": [
    "# Cмотрим на перцентили\n",
    "data_newone['step'].describe([0.95, 0.99])"
   ]
  },
  {
   "cell_type": "markdown",
   "metadata": {},
   "source": [
    "Отберем 4 шага в виде максимума (99%)."
   ]
  },
  {
   "cell_type": "code",
   "execution_count": 38,
   "metadata": {},
   "outputs": [],
   "source": [
    "# Отбираем шаги в данных \n",
    "data_comp = data_newone[data_newone['step'] <= 4].copy().reset_index(drop=True)"
   ]
  },
  {
   "cell_type": "code",
   "execution_count": 39,
   "metadata": {},
   "outputs": [],
   "source": [
    "# Cтроим вторую функцию\n",
    "def get_source_index(df):\n",
    "    \"\"\"Функция генерации индексов source\n",
    "    Args:\n",
    "        df (pd.DataFrame): исходная таблица с признаками step, source, target.\n",
    "    Returns:\n",
    "        dict: словарь с индексами, именами и соответсвиями индексов именам source.\n",
    "    \"\"\" \n",
    "    res_dict = {}\n",
    "    \n",
    "    count = 0\n",
    "    # получаем индексы источников\n",
    "    for no, step in enumerate(df['step'].unique().tolist()):\n",
    "        # получаем уникальные наименования для шага\n",
    "        res_dict[no+1] = {}\n",
    "        res_dict[no+1]['sources'] = df[df['step'] == step]['source'].unique().tolist()\n",
    "        res_dict[no+1]['sources_index'] = []\n",
    "        for i in range(len(res_dict[no+1]['sources'])):\n",
    "            res_dict[no+1]['sources_index'].append(count)\n",
    "            count += 1\n",
    "            \n",
    "    # соединим списки\n",
    "    for key in res_dict:\n",
    "        res_dict[key]['sources_dict'] = {}\n",
    "        for name, no in zip(res_dict[key]['sources'], res_dict[key]['sources_index']):\n",
    "            res_dict[key]['sources_dict'][name] = no\n",
    "    return res_dict\n",
    "  \n",
    "\n",
    "# создаем словарь\n",
    "source_indexes = get_source_index(data_comp)"
   ]
  },
  {
   "cell_type": "code",
   "execution_count": 40,
   "metadata": {},
   "outputs": [],
   "source": [
    "# Cтроим третью функцию\n",
    "def generate_random_color():\n",
    "    \n",
    "    \"\"\"Случайная генерация цветов rgba\n",
    "    Args:    \n",
    "    Returns:\n",
    "        str: Строка со сгенерированными параметрами цвета\n",
    "    \"\"\" \n",
    "    # сгенерим значение для каждого канала\n",
    "    r, g, b = np.random.randint(255, size=3)\n",
    "    return f'rgba({r}, {g}, {b}, 1)'"
   ]
  },
  {
   "cell_type": "code",
   "execution_count": 41,
   "metadata": {},
   "outputs": [],
   "source": [
    "# Cтроим четвертую функцию\n",
    "def colors_for_sources(mode):\n",
    "    \n",
    "    \"\"\"Генерация цветов rgba\n",
    "    Args:\n",
    "        mode (str): сгенерировать случайные цвета, если 'random', а если 'custom' - \n",
    "                    использовать заранее подготовленные\n",
    "    Returns:\n",
    "        dict: словарь с цветами, соответствующими каждому индексу\n",
    "    \"\"\"\n",
    "    # словарь, в который сложим цвета в соответствии с индексом\n",
    "    colors_dict = {}\n",
    "    \n",
    "    if mode == 'random':\n",
    "        # генерим случайные цвета\n",
    "        for label in data_comp['source'].unique():\n",
    "            r, g, b = np.random.randint(255, size=3)            \n",
    "            colors_dict[label] = f'rgba({r}, {g}, {b}, 1)'          \n",
    "    else:\n",
    "        print('Mistake')\n",
    "            \n",
    "    return colors_dict\n",
    "   \n",
    "# генерим цвета\n",
    "colors_dict = colors_for_sources(mode='random')"
   ]
  },
  {
   "cell_type": "code",
   "execution_count": 42,
   "metadata": {},
   "outputs": [],
   "source": [
    "# Cтроим пятую функцию\n",
    "def percent_users(sources, targets, values):\n",
    "    \n",
    "    \"\"\"\n",
    "    Расчет уникальных id в процентах (для вывода в hover text каждого узла) \n",
    "    Args:\n",
    "        sources (list): список с индексами source.\n",
    "        targets (list): список с индексами target.\n",
    "        values (list): список с \"объемами\" потоков.      \n",
    "    Returns:\n",
    "        list: список с \"объемами\" потоков в процентах\n",
    "    \"\"\" \n",
    "    # объединим источники и метки и найдем пары\n",
    "    zip_lists = list(zip(sources, targets, values))\n",
    "    \n",
    "    new_list = []\n",
    "    # подготовим список словарь с общим объемом трафика в узлах\n",
    "    unique_dict = {}\n",
    "    # проходим по каждому узлу\n",
    "    for source, target, value in zip_lists:\n",
    "        if source not in unique_dict:\n",
    "            # находим все источники и считаем общий трафик\n",
    "            unique_dict[source] = 0\n",
    "            for sr, tg, vl in zip_lists:\n",
    "                if sr == source:\n",
    "                    unique_dict[source] += vl                 \n",
    "    # считаем проценты\n",
    "    for source, target, value in zip_lists:\n",
    "        new_list.append(round(100 * value / unique_dict[source], 1))\n",
    "    \n",
    "    return new_list"
   ]
  },
  {
   "cell_type": "code",
   "execution_count": 43,
   "metadata": {},
   "outputs": [
    {
     "name": "stderr",
     "output_type": "stream",
     "text": [
      "Шаг:   0%|                                                | 0/4 [00:00<?, ?it/s]\n",
      "  0%|                                                     | 0/8 [00:00<?, ?it/s]\u001b[A\n",
      "100%|█████████████████████████████████████████████| 8/8 [00:00<00:00, 63.71it/s]\u001b[A\n",
      "Шаг:  25%|██████████                              | 1/4 [00:00<00:00,  7.87it/s]\n",
      "  0%|                                                     | 0/9 [00:00<?, ?it/s]\u001b[A\n",
      "100%|█████████████████████████████████████████████| 9/9 [00:00<00:00, 66.42it/s]\u001b[A\n",
      "Шаг:  50%|████████████████████                    | 2/4 [00:00<00:00,  7.52it/s]\n",
      "  0%|                                                     | 0/9 [00:00<?, ?it/s]\u001b[A\n",
      "100%|█████████████████████████████████████████████| 9/9 [00:00<00:00, 66.98it/s]\u001b[A\n",
      "Шаг: 100%|████████████████████████████████████████| 4/4 [00:00<00:00,  9.99it/s]\n"
     ]
    }
   ],
   "source": [
    "# Cтроим шестую функцию\n",
    "def lists_for_plot(source_indexes=source_indexes, colors=colors_dict, frac=10):\n",
    "    \"\"\"\n",
    "    Создаем необходимые для отрисовки диаграммы переменные списков и возвращаем\n",
    "    их в виде словаря \n",
    "    Args:\n",
    "        source_indexes (dict): словарь с именами и индексами source.\n",
    "        colors (dict): словарь с цветами source.\n",
    "        frac (int): ограничение на минимальный \"объем\" между узлами.     \n",
    "    Returns:\n",
    "        dict: словарь со списками, необходимыми для диаграммы.\n",
    "    \"\"\"\n",
    "    sources = []\n",
    "    targets = []\n",
    "    values = []\n",
    "    labels = []\n",
    "    link_color = []\n",
    "    link_text = []\n",
    "\n",
    "    # проходим по каждому шагу\n",
    "    for step in tqdm(sorted(data_comp['step'].unique()), desc='Шаг'):\n",
    "        if step + 1 not in source_indexes:\n",
    "            continue\n",
    "\n",
    "        # получаем индекс источника\n",
    "        temp_dict_source = source_indexes[step]['sources_dict']\n",
    "\n",
    "        # получаем индексы цели\n",
    "        temp_dict_target = source_indexes[step+1]['sources_dict']\n",
    "\n",
    "        # проходим по каждой возможной паре, считаем количество таких пар\n",
    "        for source, index_source in tqdm(temp_dict_source.items()):\n",
    "            for target, index_target in temp_dict_target.items():\n",
    "                # делаем срез данных и считаем количество id            \n",
    "                temp_df = data_comp[(data_comp['step'] == step)&(data_comp['source'] == source)&(data_comp['target'] == target)]\n",
    "                value = len(temp_df)\n",
    "                # проверяем минимальный объем потока и добавляем нужные данные\n",
    "                if value > frac:\n",
    "                    sources.append(index_source)\n",
    "                    targets.append(index_target)\n",
    "                    values.append(value)\n",
    "                    # делаем поток прозрачным для лучшего отображения\n",
    "                    link_color.append(colors[source].replace(', 1)', ', 0.2)'))\n",
    "                    \n",
    "    labels = []\n",
    "    colors_labels = []\n",
    "    for key in source_indexes:\n",
    "        for name in source_indexes[key]['sources']:\n",
    "            labels.append(name)\n",
    "            colors_labels.append(colors[name])\n",
    "            \n",
    "    # посчитаем проценты всех потоков\n",
    "    perc_values = percent_users(sources, targets, values)\n",
    "    \n",
    "    # добавим значения процентов для howertext\n",
    "    link_text = []\n",
    "    for perc in perc_values:\n",
    "        link_text.append(f\"{perc}%\")\n",
    "    \n",
    "    # возвратим словарь с вложенными списками\n",
    "    return {'sources': sources, \n",
    "            'targets': targets, \n",
    "            'values': values, \n",
    "            'labels': labels, \n",
    "            'colors_labels': colors_labels, \n",
    "            'link_color': link_color, \n",
    "            'link_text': link_text}\n",
    "  \n",
    "\n",
    "# создаем словарь\n",
    "data_for_plot = lists_for_plot()"
   ]
  },
  {
   "cell_type": "code",
   "execution_count": 44,
   "metadata": {},
   "outputs": [],
   "source": [
    "# Cтроим седьмую функцию - саму диаграмму\n",
    "def plot_senkey_diagram(data_dict=data_for_plot):    \n",
    "    \"\"\"\n",
    "    Функция для генерации объекта диаграммы Сенкей    \n",
    "    Args:\n",
    "        data_dict (dict): словарь со списками данных для построения.      \n",
    "    Returns:\n",
    "        plotly.graph_objs._figure.Figure: объект изображения.\n",
    "    \"\"\" \n",
    "    fig = go.Figure(data=[go.Sankey(\n",
    "        domain = dict(\n",
    "          x =  [0,1],\n",
    "          y =  [0,1]\n",
    "        ),\n",
    "        orientation = \"h\",\n",
    "        valueformat = \".0f\",\n",
    "        node = dict(\n",
    "          pad = 50,\n",
    "          thickness = 15,\n",
    "          line = dict(color = \"black\", width = 0.1),\n",
    "          label = data_dict['labels'],\n",
    "          color = data_dict['colors_labels']\n",
    "        ),\n",
    "        link = dict(\n",
    "          source = data_dict['sources'],\n",
    "          target = data_dict['targets'],\n",
    "          value = data_dict['values'],\n",
    "          label = data_dict['link_text'],\n",
    "          color = data_dict['link_color']\n",
    "      ))])\n",
    "    fig.update_layout(title_text=\"Sankey Diagram\", font_size=10, width=950, height=760)\n",
    "    \n",
    "    # возвращаем объект диаграммы\n",
    "    return fig\n",
    "  \n",
    "# сохраняем диаграмму в переменную\n",
    "senkey_diagram = plot_senkey_diagram()"
   ]
  },
  {
   "cell_type": "code",
   "execution_count": 45,
   "metadata": {},
   "outputs": [
    {
     "data": {
      "image/svg+xml": [
       "<svg class=\"main-svg\" xmlns=\"http://www.w3.org/2000/svg\" xmlns:xlink=\"http://www.w3.org/1999/xlink\" width=\"1045\" height=\"836.0000000000001\" style=\"\" viewBox=\"0 0 950 760\"><rect x=\"0\" y=\"0\" width=\"950\" height=\"760\" style=\"fill: rgb(255, 255, 255); fill-opacity: 1;\"/><defs id=\"defs-7bd4e3\"><g class=\"clips\"/><g class=\"gradients\"/><g class=\"patterns\"/></defs><g class=\"bglayer\"/><g class=\"layer-below\"><g class=\"imagelayer\"/><g class=\"shapelayer\"/></g><g class=\"cartesianlayer\"/><g class=\"polarlayer\"/><g class=\"smithlayer\"/><g class=\"ternarylayer\"/><g class=\"geolayer\"/><g class=\"funnelarealayer\"/><g class=\"pielayer\"/><g class=\"iciclelayer\"/><g class=\"treemaplayer\"/><g class=\"sunburstlayer\"/><g class=\"glimages\"/><g class=\"sankey\" transform=\"translate(80,100)matrix(1 0 0 1 0 0)\" style=\"box-sizing: content-box; position: absolute; left: 0px; shape-rendering: geometricprecision; pointer-events: auto;\"><g class=\"sankey-links\" style=\"fill: none;\"><path class=\"sankey-link\" d=\"M15,354.12118780096284C136.66666666666666,354.12118780096284 136.66666666666666,277.54815409309776 258.3333333333333,277.54815409309776L258.3333333333333,290.58186195826636C136.66666666666666,290.58186195826636 136.66666666666666,367.15489566613144 15,367.15489566613144Z\" style=\"stroke: rgb(68, 68, 68); stroke-opacity: 1; fill: rgb(141, 227, 16); fill-opacity: 0.2; stroke-width: 0; opacity: 1;\"/><path class=\"sankey-link\" d=\"M15,376.65864098448344C136.66666666666666,376.65864098448344 136.66666666666666,567.0050829320489 258.3333333333333,567.0050829320489L258.3333333333333,570.2247191011234C136.66666666666666,570.2247191011234 136.66666666666666,379.87827715355786 15,379.87827715355786Z\" style=\"stroke: rgb(68, 68, 68); stroke-opacity: 1; fill: rgb(141, 227, 16); fill-opacity: 0.2; stroke-width: 0; opacity: 1;\"/><path class=\"sankey-link\" d=\"M15,338.023006955591C136.66666666666666,338.023006955591 136.66666666666666,199.03558052434425 258.3333333333333,199.03558052434425L258.3333333333333,215.13376136971613C136.66666666666666,215.13376136971613 136.66666666666666,354.12118780096284 15,354.12118780096284Z\" style=\"stroke: rgb(68, 68, 68); stroke-opacity: 1; fill: rgb(141, 227, 16); fill-opacity: 0.2; stroke-width: 0; opacity: 1;\"/><path class=\"sankey-link\" d=\"M15,367.1548956661314C136.66666666666666,367.1548956661314 136.66666666666666,344.5010700909576 258.3333333333333,344.5010700909576L258.3333333333333,346.2854467629748C136.66666666666666,346.2854467629748 136.66666666666666,368.93927233814856 15,368.93927233814856Z\" style=\"stroke: rgb(68, 68, 68); stroke-opacity: 1; fill: rgb(141, 227, 16); fill-opacity: 0.2; stroke-width: 0; opacity: 1;\"/><path class=\"sankey-link\" d=\"M15,368.9392723381485C136.66666666666666,368.9392723381485 136.66666666666666,508.5473515248792 258.3333333333333,508.5473515248792L258.3333333333333,516.2667201712142C136.66666666666666,516.2667201712142 136.66666666666666,376.65864098448344 15,376.65864098448344Z\" style=\"stroke: rgb(68, 68, 68); stroke-opacity: 1; fill: rgb(141, 227, 16); fill-opacity: 0.2; stroke-width: 0; opacity: 1;\"/><path class=\"sankey-link\" d=\"M15,336.08346709470277C136.66666666666666,336.08346709470277 136.66666666666666,60.35848047083973 258.3333333333333,60.35848047083973L258.3333333333333,62.298020331727905C136.66666666666666,62.298020331727905 136.66666666666666,338.023006955591 15,338.023006955591Z\" style=\"stroke: rgb(68, 68, 68); stroke-opacity: 1; fill: rgb(141, 227, 16); fill-opacity: 0.2; stroke-width: 0; opacity: 1;\"/><path class=\"sankey-link\" d=\"M15,432.9052969502405C136.66666666666666,432.9052969502405 136.66666666666666,422.7033172819689 258.3333333333333,422.7033172819689L258.3333333333333,452.7273943285179C136.66666666666666,452.7273943285179 136.66666666666666,462.9293739967895 15,462.9293739967895Z\" style=\"stroke: rgb(68, 68, 68); stroke-opacity: 1; fill: rgb(43, 85, 132); fill-opacity: 0.2; stroke-width: 0; opacity: 1;\"/><path class=\"sankey-link\" d=\"M15,462.9293739967894C136.66666666666666,462.9293739967894 136.66666666666666,570.2247191011234 258.3333333333333,570.2247191011234L258.3333333333333,579.9999999999998C136.66666666666666,579.9999999999998 136.66666666666666,472.70465489566584 15,472.70465489566584Z\" style=\"stroke: rgb(68, 68, 68); stroke-opacity: 1; fill: rgb(43, 85, 132); fill-opacity: 0.2; stroke-width: 0; opacity: 1;\"/><path class=\"sankey-link\" d=\"M15,428.2116104868911C136.66666666666666,428.2116104868911 136.66666666666666,215.13376136971613 258.3333333333333,215.13376136971613L258.3333333333333,216.56902086677337C136.66666666666666,216.56902086677337 136.66666666666666,429.64686998394836 15,429.64686998394836Z\" style=\"stroke: rgb(68, 68, 68); stroke-opacity: 1; fill: rgb(43, 85, 132); fill-opacity: 0.2; stroke-width: 0; opacity: 1;\"/><path class=\"sankey-link\" d=\"M15,429.64686998394836C136.66666666666666,429.64686998394836 136.66666666666666,346.28544676297474 258.3333333333333,346.28544676297474L258.3333333333333,349.5438737292669C136.66666666666666,349.5438737292669 136.66666666666666,432.90529695024054 15,432.90529695024054Z\" style=\"stroke: rgb(68, 68, 68); stroke-opacity: 1; fill: rgb(43, 85, 132); fill-opacity: 0.2; stroke-width: 0; opacity: 1;\"/><path class=\"sankey-link\" d=\"M15,215.8319957196359C136.66666666666666,215.8319957196359 136.66666666666666,402.02782236490094 258.3333333333333,402.02782236490094L258.3333333333333,422.70331728196885C136.66666666666666,422.70331728196885 136.66666666666666,236.50749063670386 15,236.50749063670386Z\" style=\"stroke: rgb(68, 68, 68); stroke-opacity: 1; fill: rgb(52, 63, 76); fill-opacity: 0.2; stroke-width: 0; opacity: 1;\"/><path class=\"sankey-link\" d=\"M15,204.3499197431779C136.66666666666666,204.3499197431779 136.66666666666666,266.06607811663974 258.3333333333333,266.06607811663974L258.3333333333333,277.5481540930977C136.66666666666666,277.5481540930977 136.66666666666666,215.83199571963593 15,215.83199571963593Z\" style=\"stroke: rgb(68, 68, 68); stroke-opacity: 1; fill: rgb(52, 63, 76); fill-opacity: 0.2; stroke-width: 0; opacity: 1;\"/><path class=\"sankey-link\" d=\"M15,174.09309791332237C136.66666666666666,174.09309791332237 136.66666666666666,112.4157303370784 258.3333333333333,112.4157303370784L258.3333333333333,137.04788657035823C136.66666666666666,137.04788657035823 136.66666666666666,198.7252541466022 15,198.7252541466022Z\" style=\"stroke: rgb(68, 68, 68); stroke-opacity: 1; fill: rgb(52, 63, 76); fill-opacity: 0.2; stroke-width: 0; opacity: 1;\"/><path class=\"sankey-link\" d=\"M15,236.50749063670386C136.66666666666666,236.50749063670386 136.66666666666666,565.0655430711607 258.3333333333333,565.0655430711607L258.3333333333333,567.0050829320488C136.66666666666666,567.0050829320488 136.66666666666666,238.44703049759207 15,238.44703049759207Z\" style=\"stroke: rgb(68, 68, 68); stroke-opacity: 1; fill: rgb(52, 63, 76); fill-opacity: 0.2; stroke-width: 0; opacity: 1;\"/><path class=\"sankey-link\" d=\"M15,198.7252541466022C136.66666666666666,198.7252541466022 136.66666666666666,193.41091492776854 258.3333333333333,193.41091492776854L258.3333333333333,199.03558052434425C136.66666666666666,199.03558052434425 136.66666666666666,204.3499197431779 15,204.3499197431779Z\" style=\"stroke: rgb(68, 68, 68); stroke-opacity: 1; fill: rgb(52, 63, 76); fill-opacity: 0.2; stroke-width: 0; opacity: 1;\"/><path class=\"sankey-link\" d=\"M15,171.3001605136434C136.66666666666666,171.3001605136434 136.66666666666666,57.565543071160754 258.3333333333333,57.565543071160754L258.3333333333333,60.35848047083973C136.66666666666666,60.35848047083973 136.66666666666666,174.09309791332237 15,174.09309791332237Z\" style=\"stroke: rgb(68, 68, 68); stroke-opacity: 1; fill: rgb(52, 63, 76); fill-opacity: 0.2; stroke-width: 0; opacity: 1;\"/><path class=\"sankey-link\" d=\"M15,122.50133761369682C136.66666666666666,122.50133761369682 136.66666666666666,564.6000535045475 258.3333333333333,564.6000535045475L258.3333333333333,565.0655430711606C136.66666666666666,565.0655430711606 136.66666666666666,122.96682718030999 15,122.96682718030999Z\" style=\"stroke: rgb(56, 162, 19); stroke-opacity: 0.2; fill: rgb(56, 162, 19); fill-opacity: 0.2; stroke-width: 1; opacity: 1;\"/><path class=\"sankey-link\" d=\"M15,112.33814874264277C136.66666666666666,112.33814874264277 136.66666666666666,188.17415730337046 258.3333333333333,188.17415730337046L258.3333333333333,193.41091492776854C136.66666666666666,193.41091492776854 136.66666666666666,117.57490636704085 15,117.57490636704085Z\" style=\"stroke: rgb(68, 68, 68); stroke-opacity: 1; fill: rgb(56, 162, 19); fill-opacity: 0.2; stroke-width: 0; opacity: 1;\"/><path class=\"sankey-link\" d=\"M15,117.57490636704085C136.66666666666666,117.57490636704085 136.66666666666666,339.57463884430166 258.3333333333333,339.57463884430166L258.3333333333333,344.5010700909576C136.66666666666666,344.5010700909576 136.66666666666666,122.50133761369682 15,122.50133761369682Z\" style=\"stroke: rgb(68, 68, 68); stroke-opacity: 1; fill: rgb(56, 162, 19); fill-opacity: 0.2; stroke-width: 0; opacity: 1;\"/><path class=\"sankey-link\" d=\"M15,109.39004815409274C136.66666666666666,109.39004815409274 136.66666666666666,54.61744248261073 258.3333333333333,54.61744248261073L258.3333333333333,57.56554307116076C136.66666666666666,57.56554307116076 136.66666666666666,112.33814874264277 15,112.33814874264277Z\" style=\"stroke: rgb(68, 68, 68); stroke-opacity: 1; fill: rgb(56, 162, 19); fill-opacity: 0.2; stroke-width: 0; opacity: 1;\"/><path class=\"sankey-link\" d=\"M15,57.56554307116069C136.66666666666666,57.56554307116069 136.66666666666666,398.5366506153022 258.3333333333333,398.5366506153022L258.3333333333333,402.02782236490094C136.66666666666666,402.02782236490094 136.66666666666666,61.05671482075941 15,61.05671482075941Z\" style=\"stroke: rgb(68, 68, 68); stroke-opacity: 1; fill: rgb(239, 19, 18); fill-opacity: 0.2; stroke-width: 0; opacity: 1;\"/><path class=\"sankey-link\" d=\"M15,56.40181915462779C136.66666666666666,56.40181915462779 136.66666666666666,265.56179775280884 258.3333333333333,265.56179775280884L258.3333333333333,266.0660781166398C136.66666666666666,266.0660781166398 136.66666666666666,56.90609951845872 15,56.90609951845872Z\" style=\"stroke: rgb(239, 19, 18); stroke-opacity: 0.2; fill: rgb(239, 19, 18); fill-opacity: 0.2; stroke-width: 1; opacity: 1;\"/><path class=\"sankey-link\" d=\"M15,54.61744248261066C136.66666666666666,54.61744248261066 136.66666666666666,110.63135366506128 258.3333333333333,110.63135366506128L258.3333333333333,112.4157303370784C136.66666666666666,112.4157303370784 136.66666666666666,56.40181915462778 15,56.40181915462778Z\" style=\"stroke: rgb(68, 68, 68); stroke-opacity: 1; fill: rgb(239, 19, 18); fill-opacity: 0.2; stroke-width: 0; opacity: 1;\"/><path class=\"sankey-link\" d=\"M15,48.33333333333297C136.66666666666666,48.33333333333297 136.66666666666666,-2.913225216616411e-13 258.3333333333333,-2.913225216616411e-13L258.3333333333333,6.284109149277398C136.66666666666666,6.284109149277398 136.66666666666666,54.61744248261067 15,54.61744248261067Z\" style=\"stroke: rgb(68, 68, 68); stroke-opacity: 1; fill: rgb(239, 19, 18); fill-opacity: 0.2; stroke-width: 0; opacity: 1;\"/><path class=\"sankey-link\" d=\"M15,56.9060995184587C136.66666666666666,56.9060995184587 136.66666666666666,338.9151952915997 258.3333333333333,338.9151952915997L258.3333333333333,339.57463884430166C136.66666666666666,339.57463884430166 136.66666666666666,57.56554307116069 15,57.56554307116069Z\" style=\"stroke: rgb(239, 19, 18); stroke-opacity: 0.2; fill: rgb(239, 19, 18); fill-opacity: 0.2; stroke-width: 1; opacity: 1;\"/><path class=\"sankey-link\" d=\"M15,524.1800428036382C136.66666666666666,524.1800428036382 136.66666666666666,452.72739432851785 258.3333333333333,452.72739432851785L258.3333333333333,459.67094703049753C136.66666666666666,459.67094703049753 136.66666666666666,531.1235955056178 15,531.1235955056178Z\" style=\"stroke: rgb(68, 68, 68); stroke-opacity: 1; fill: rgb(116, 157, 10); fill-opacity: 0.2; stroke-width: 0; opacity: 1;\"/><path class=\"sankey-link\" d=\"M15,521.0379882289993C136.66666666666666,521.0379882289993 136.66666666666666,138.01765650080233 258.3333333333333,138.01765650080233L258.3333333333333,139.8408239700372C136.66666666666666,139.8408239700372 136.66666666666666,522.8611556982343 15,522.8611556982343Z\" style=\"stroke: rgb(68, 68, 68); stroke-opacity: 1; fill: rgb(116, 157, 10); fill-opacity: 0.2; stroke-width: 0; opacity: 1;\"/><path class=\"sankey-link\" d=\"M15,522.8611556982343C136.66666666666666,522.8611556982343 136.66666666666666,216.56902086677337 258.3333333333333,216.56902086677337L258.3333333333333,217.22846441947536C136.66666666666666,217.22846441947536 136.66666666666666,523.5205992509362 15,523.5205992509362Z\" style=\"stroke: rgb(116, 157, 10); stroke-opacity: 0.2; fill: rgb(116, 157, 10); fill-opacity: 0.2; stroke-width: 1; opacity: 1;\"/><path class=\"sankey-link\" d=\"M15,523.5205992509362C136.66666666666666,523.5205992509362 136.66666666666666,349.54387372926686 258.3333333333333,349.54387372926686L258.3333333333333,350.20331728196885C136.66666666666666,350.20331728196885 136.66666666666666,524.1800428036382 15,524.1800428036382Z\" style=\"stroke: rgb(116, 157, 10); stroke-opacity: 0.2; fill: rgb(116, 157, 10); fill-opacity: 0.2; stroke-width: 1; opacity: 1;\"/><path class=\"sankey-link\" d=\"M15,286.7803638309253C136.66666666666666,286.7803638309253 136.66666666666666,137.04788657035823 258.3333333333333,137.04788657035823L258.3333333333333,138.01765650080233C136.66666666666666,138.01765650080233 136.66666666666666,287.75013376136934 15,287.75013376136934Z\" style=\"stroke: rgb(217, 99, 136); stroke-opacity: 0.2; fill: rgb(217, 99, 136); fill-opacity: 0.2; stroke-width: 1; opacity: 1;\"/><path class=\"sankey-link\" d=\"M15,579.4569288389513C136.66666666666666,579.4569288389513 136.66666666666666,459.67094703049753 258.3333333333333,459.67094703049753L258.3333333333333,460.21401819154624C136.66666666666666,460.21401819154624 136.66666666666666,579.9999999999999 15,579.9999999999999Z\" style=\"stroke: rgb(144, 40, 90); stroke-opacity: 0.2; fill: rgb(144, 40, 90); fill-opacity: 0.2; stroke-width: 1; opacity: 1;\"/><path class=\"sankey-link\" d=\"M273.3333333333333,401.2520064205457C395,401.2520064205457 395,346.16907437132136 516.6666666666666,346.16907437132136L516.6666666666666,347.37158908507206C395,347.37158908507206 395,402.4545211342964 273.3333333333333,402.4545211342964Z\" style=\"stroke: rgb(68, 68, 68); stroke-opacity: 1; fill: rgb(141, 227, 16); fill-opacity: 0.2; stroke-width: 0; opacity: 1;\"/><path class=\"sankey-link\" d=\"M273.3333333333333,402.45452113429633C395,402.45452113429633 395,400.6313536650613 516.6666666666666,400.6313536650613L516.6666666666666,406.56634563937905C395,406.56634563937905 395,408.3895131086141 273.3333333333333,408.3895131086141Z\" style=\"stroke: rgb(68, 68, 68); stroke-opacity: 1; fill: rgb(141, 227, 16); fill-opacity: 0.2; stroke-width: 0; opacity: 1;\"/><path class=\"sankey-link\" d=\"M273.3333333333333,411.64794007490633C395,411.64794007490633 395,576.3536650615301 516.6666666666666,576.3536650615301L516.6666666666666,579.5345104333867C395,579.5345104333867 395,414.828785446763 273.3333333333333,414.828785446763Z\" style=\"stroke: rgb(68, 68, 68); stroke-opacity: 1; fill: rgb(141, 227, 16); fill-opacity: 0.2; stroke-width: 0; opacity: 1;\"/><path class=\"sankey-link\" d=\"M273.3333333333333,398.5366506153022C395,398.5366506153022 395,292.05591225254125 516.6666666666666,292.05591225254125L516.6666666666666,294.7712680577847C395,294.7712680577847 395,401.2520064205457 273.3333333333333,401.2520064205457Z\" style=\"stroke: rgb(68, 68, 68); stroke-opacity: 1; fill: rgb(141, 227, 16); fill-opacity: 0.2; stroke-width: 0; opacity: 1;\"/><path class=\"sankey-link\" d=\"M273.3333333333333,410.71696094168C395,410.71696094168 395,524.3352059925094 516.6666666666666,524.3352059925094L516.6666666666666,525.2661851257358C395,525.2661851257358 395,411.6479400749063 273.3333333333333,411.6479400749063Z\" style=\"stroke: rgb(141, 227, 16); stroke-opacity: 0.2; fill: rgb(141, 227, 16); fill-opacity: 0.2; stroke-width: 1; opacity: 1;\"/><path class=\"sankey-link\" d=\"M273.3333333333333,408.38951310861415C524.1666666666666,408.38951310861415 524.1666666666666,463.1340204493248 775,463.1340204493248L775,465.46146828239057C524.1666666666666,465.46146828239057 524.1666666666666,410.71696094167993 273.3333333333333,410.71696094167993Z\" style=\"stroke: rgb(68, 68, 68); stroke-opacity: 1; fill: rgb(141, 227, 16); fill-opacity: 0.2; stroke-width: 0; opacity: 1;\"/><path class=\"sankey-link\" d=\"M273.3333333333333,272.00107009095757C395,272.00107009095757 395,398.96334938469744 516.6666666666666,398.96334938469744L516.6666666666666,400.010700909577C395,400.010700909577 395,273.0484216158371 273.3333333333333,273.0484216158371Z\" style=\"stroke: rgb(68, 68, 68); stroke-opacity: 1; fill: rgb(43, 85, 132); fill-opacity: 0.2; stroke-width: 0; opacity: 1;\"/><path class=\"sankey-link\" d=\"M273.3333333333333,273.04842161583724C395,273.04842161583724 395,457.7701979668269 516.6666666666666,457.7701979668269L516.6666666666666,463.74398073836244C395,463.74398073836244 395,279.02220438737277 273.3333333333333,279.02220438737277Z\" style=\"stroke: rgb(68, 68, 68); stroke-opacity: 1; fill: rgb(43, 85, 132); fill-opacity: 0.2; stroke-width: 0; opacity: 1;\"/><path class=\"sankey-link\" d=\"M273.3333333333333,265.56179775280884C395,265.56179775280884 395,283.5219368646333 516.6666666666666,283.5219368646333L516.6666666666666,289.961209202782C395,289.961209202782 395,272.00107009095757 273.3333333333333,272.00107009095757Z\" style=\"stroke: rgb(68, 68, 68); stroke-opacity: 1; fill: rgb(43, 85, 132); fill-opacity: 0.2; stroke-width: 0; opacity: 1;\"/><path class=\"sankey-link\" d=\"M273.3333333333333,279.44890315676815C395,279.44890315676815 395,523.2490636704119 516.6666666666666,523.2490636704119L516.6666666666666,524.3352059925094C395,524.3352059925094 395,280.5350454788656 273.3333333333333,280.5350454788656Z\" style=\"stroke: rgb(68, 68, 68); stroke-opacity: 1; fill: rgb(43, 85, 132); fill-opacity: 0.2; stroke-width: 0; opacity: 1;\"/><path class=\"sankey-link\" d=\"M273.3333333333333,279.02220438737277C524.1666666666666,279.02220438737277 524.1666666666666,462.7073216799294 775,462.7073216799294L775,463.13402044932485C524.1666666666666,463.13402044932485 524.1666666666666,279.4489031567682 273.3333333333333,279.4489031567682Z\" style=\"stroke: rgb(43, 85, 132); stroke-opacity: 0.2; fill: rgb(43, 85, 132); fill-opacity: 0.2; stroke-width: 1; opacity: 1;\"/><path class=\"sankey-link\" d=\"M273.3333333333333,110.63135366506128C395,110.63135366506128 395,343.10460139111797 516.6666666666666,343.10460139111797L516.6666666666666,345.04414125200617C395,345.04414125200617 395,112.57089352594946 273.3333333333333,112.57089352594946Z\" style=\"stroke: rgb(68, 68, 68); stroke-opacity: 1; fill: rgb(56, 162, 19); fill-opacity: 0.2; stroke-width: 0; opacity: 1;\"/><path class=\"sankey-link\" d=\"M273.3333333333333,112.57089352594946C395,112.57089352594946 395,396.28678437667173 516.6666666666666,396.28678437667173L516.6666666666666,398.96334938469744C395,398.96334938469744 395,115.24745853397513 273.3333333333333,115.24745853397513Z\" style=\"stroke: rgb(68, 68, 68); stroke-opacity: 1; fill: rgb(56, 162, 19); fill-opacity: 0.2; stroke-width: 0; opacity: 1;\"/><path class=\"sankey-link\" d=\"M273.3333333333333,564.6000535045475C395,564.6000535045475 395,407.3033707865166 516.6666666666666,407.3033707865166L516.6666666666666,407.73006955591205C395,407.73006955591205 395,565.026752273943 273.3333333333333,565.026752273943Z\" style=\"stroke: rgb(116, 157, 10); stroke-opacity: 0.2; fill: rgb(116, 157, 10); fill-opacity: 0.2; stroke-width: 1; opacity: 1;\"/><path class=\"sankey-link\" d=\"M273.3333333333333,565.026752273943C395,565.026752273943 395,464.8301230604598 516.6666666666666,464.8301230604598L516.6666666666666,474.4502407704652C395,474.4502407704652 395,574.6468699839484 273.3333333333333,574.6468699839484Z\" style=\"stroke: rgb(68, 68, 68); stroke-opacity: 1; fill: rgb(116, 157, 10); fill-opacity: 0.2; stroke-width: 0; opacity: 1;\"/><path class=\"sankey-link\" d=\"M273.3333333333333,574.6468699839484C395,574.6468699839484 395,525.2661851257357 516.6666666666666,525.2661851257357L516.6666666666666,525.9644194756553C395,525.9644194756553 395,575.345104333868 273.3333333333333,575.345104333868Z\" style=\"stroke: rgb(116, 157, 10); stroke-opacity: 0.2; fill: rgb(116, 157, 10); fill-opacity: 0.2; stroke-width: 1; opacity: 1;\"/><path class=\"sankey-link\" d=\"M273.3333333333333,-2.913225216616411e-13C524.1666666666666,-2.913225216616411e-13 524.1666666666666,121.6607842916731 775,121.6607842916731L775,122.82450820820601C524.1666666666666,122.82450820820601 524.1666666666666,1.1637239165326143 273.3333333333333,1.1637239165326143Z\" style=\"stroke: rgb(68, 68, 68); stroke-opacity: 1; fill: rgb(232, 91, 230); fill-opacity: 0.2; stroke-width: 0; opacity: 1;\"/><path class=\"sankey-link\" d=\"M273.3333333333333,193.0230069555909C395,193.0230069555909 395,345.04414125200617 516.6666666666666,345.04414125200617L516.6666666666666,345.5872124130549C395,345.5872124130549 395,193.5660781166396 273.3333333333333,193.5660781166396Z\" style=\"stroke: rgb(239, 19, 18); stroke-opacity: 0.2; fill: rgb(239, 19, 18); fill-opacity: 0.2; stroke-width: 1; opacity: 1;\"/><path class=\"sankey-link\" d=\"M273.3333333333333,196.86329588014948C395,196.86329588014948 395,574.2977528089887 516.6666666666666,574.2977528089887L516.6666666666666,575.5390583199571C395,575.5390583199571 395,198.10460139111794 273.3333333333333,198.10460139111794Z\" style=\"stroke: rgb(68, 68, 68); stroke-opacity: 1; fill: rgb(239, 19, 18); fill-opacity: 0.2; stroke-width: 0; opacity: 1;\"/><path class=\"sankey-link\" d=\"M273.3333333333333,188.7560192616369C524.1666666666666,188.7560192616369 524.1666666666666,255.64204613150787 775,255.64204613150787L775,259.90903382546185C524.1666666666666,259.90903382546185 524.1666666666666,193.0230069555909 273.3333333333333,193.0230069555909Z\" style=\"stroke: rgb(68, 68, 68); stroke-opacity: 1; fill: rgb(239, 19, 18); fill-opacity: 0.2; stroke-width: 0; opacity: 1;\"/><path class=\"sankey-link\" d=\"M273.3333333333333,193.56607811663957C395,193.56607811663957 395,456.06340288924525 516.6666666666666,456.06340288924525L516.6666666666666,457.7701979668268C395,457.7701979668268 395,195.27287319422118 273.3333333333333,195.27287319422118Z\" style=\"stroke: rgb(68, 68, 68); stroke-opacity: 1; fill: rgb(239, 19, 18); fill-opacity: 0.2; stroke-width: 0; opacity: 1;\"/><path class=\"sankey-link\" d=\"M273.3333333333333,196.3978063135363C395,196.3978063135363 395,522.7835741037987 516.6666666666666,522.7835741037987L516.6666666666666,523.2490636704118C395,523.2490636704118 395,196.86329588014945 273.3333333333333,196.86329588014945Z\" style=\"stroke: rgb(239, 19, 18); stroke-opacity: 0.2; fill: rgb(239, 19, 18); fill-opacity: 0.2; stroke-width: 1; opacity: 1;\"/><path class=\"sankey-link\" d=\"M273.3333333333333,195.27287319422118C524.1666666666666,195.27287319422118 524.1666666666666,461.5823885606143 775,461.5823885606143L775,462.70732167992946C524.1666666666666,462.70732167992946 524.1666666666666,196.3978063135363 273.3333333333333,196.3978063135363Z\" style=\"stroke: rgb(68, 68, 68); stroke-opacity: 1; fill: rgb(239, 19, 18); fill-opacity: 0.2; stroke-width: 0; opacity: 1;\"/><path class=\"sankey-link\" d=\"M273.3333333333333,188.17415730337046C524.1666666666666,188.17415730337046 524.1666666666666,123.71669654421456 775,123.71669654421456L775,124.298558502481C524.1666666666666,124.298558502481 524.1666666666666,188.75601926163694 273.3333333333333,188.75601926163694Z\" style=\"stroke: rgb(239, 19, 18); stroke-opacity: 0.2; fill: rgb(239, 19, 18); fill-opacity: 0.2; stroke-width: 1; opacity: 1;\"/><path class=\"sankey-link\" d=\"M273.3333333333333,341.0098983413589C395,341.0098983413589 395,345.5872124130549 516.6666666666666,345.5872124130549L516.6666666666666,346.16907437132136C395,346.16907437132136 395,341.5917602996254 273.3333333333333,341.5917602996254Z\" style=\"stroke: rgb(52, 63, 76); stroke-opacity: 0.2; fill: rgb(52, 63, 76); fill-opacity: 0.2; stroke-width: 1; opacity: 1;\"/><path class=\"sankey-link\" d=\"M273.3333333333333,341.5917602996254C395,341.5917602996254 395,400.01070090957705 516.6666666666666,400.01070090957705L516.6666666666666,400.6313536650613C395,400.6313536650613 395,342.2124130551096 273.3333333333333,342.2124130551096Z\" style=\"stroke: rgb(52, 63, 76); stroke-opacity: 0.2; fill: rgb(52, 63, 76); fill-opacity: 0.2; stroke-width: 1; opacity: 1;\"/><path class=\"sankey-link\" d=\"M273.3333333333333,343.298555377207C395,343.298555377207 395,575.5390583199571 516.6666666666666,575.5390583199571L516.6666666666666,576.3536650615301C395,576.3536650615301 395,344.11316211878 273.3333333333333,344.11316211878Z\" style=\"stroke: rgb(52, 63, 76); stroke-opacity: 0.2; fill: rgb(52, 63, 76); fill-opacity: 0.2; stroke-width: 1; opacity: 1;\"/><path class=\"sankey-link\" d=\"M273.3333333333333,342.2124130551096C395,342.2124130551096 395,463.74398073836244 516.6666666666666,463.74398073836244L516.6666666666666,464.83012306045987C395,464.83012306045987 395,343.29855537720704 273.3333333333333,343.29855537720704Z\" style=\"stroke: rgb(68, 68, 68); stroke-opacity: 1; fill: rgb(52, 63, 76); fill-opacity: 0.2; stroke-width: 0; opacity: 1;\"/><path class=\"sankey-link\" d=\"M273.3333333333333,338.9151952915997C395,338.9151952915997 395,289.961209202782 516.6666666666666,289.961209202782L516.6666666666666,292.05591225254125C395,292.05591225254125 395,341.0098983413589 273.3333333333333,341.0098983413589Z\" style=\"stroke: rgb(68, 68, 68); stroke-opacity: 1; fill: rgb(52, 63, 76); fill-opacity: 0.2; stroke-width: 0; opacity: 1;\"/><path class=\"sankey-link\" d=\"M273.3333333333333,508.5473515248792C395,508.5473515248792 395,406.5663456393791 516.6666666666666,406.5663456393791L516.6666666666666,407.3033707865166C395,407.3033707865166 395,509.2843766720167 273.3333333333333,509.2843766720167Z\" style=\"stroke: rgb(144, 40, 90); stroke-opacity: 0.2; fill: rgb(144, 40, 90); fill-opacity: 0.2; stroke-width: 1; opacity: 1;\"/><path class=\"sankey-link\" d=\"M273.3333333333333,509.2843766720167C395,509.2843766720167 395,579.5345104333868 516.6666666666666,579.5345104333868L516.6666666666666,579.9999999999999C395,579.9999999999999 395,509.7498662386299 273.3333333333333,509.7498662386299Z\" style=\"stroke: rgb(144, 40, 90); stroke-opacity: 0.2; fill: rgb(144, 40, 90); fill-opacity: 0.2; stroke-width: 1; opacity: 1;\"/><path class=\"sankey-link\" d=\"M273.3333333333333,56.44060995184561C395,56.44060995184561 395,395.70492241840526 516.6666666666666,395.70492241840526L516.6666666666666,396.28678437667173C395,396.28678437667173 395,57.02247191011207 273.3333333333333,57.02247191011207Z\" style=\"stroke: rgb(217, 99, 136); stroke-opacity: 0.2; fill: rgb(217, 99, 136); fill-opacity: 0.2; stroke-width: 1; opacity: 1;\"/><path class=\"sankey-link\" d=\"M273.3333333333333,55.509630818619286C395,55.509630818619286 395,282.59095773140695 516.6666666666666,282.59095773140695L516.6666666666666,283.52193686463323C395,283.52193686463323 395,56.440609951845616 273.3333333333333,56.440609951845616Z\" style=\"stroke: rgb(217, 99, 136); stroke-opacity: 0.2; fill: rgb(217, 99, 136); fill-opacity: 0.2; stroke-width: 1; opacity: 1;\"/><path class=\"sankey-link\" d=\"M273.3333333333333,54.61744248261073C524.1666666666666,54.61744248261073 524.1666666666666,122.824508208206 775,122.824508208206L775,123.71669654421456C524.1666666666666,123.71669654421456 524.1666666666666,55.509630818619286 273.3333333333333,55.509630818619286Z\" style=\"stroke: rgb(217, 99, 136); stroke-opacity: 0.2; fill: rgb(217, 99, 136); fill-opacity: 0.2; stroke-width: 1; opacity: 1;\"/><path class=\"sankey-link\" d=\"M531.6666666666666,343.10460139111797C653.3333333333333,343.10460139111797 653.3333333333333,362.3167384803575 775,362.3167384803575L775,362.8210188441885C653.3333333333333,362.8210188441885 653.3333333333333,343.6088817549489 531.6666666666666,343.6088817549489Z\" style=\"stroke: rgb(217, 99, 136); stroke-opacity: 0.2; fill: rgb(217, 99, 136); fill-opacity: 0.2; stroke-width: 1; opacity: 1;\"/><path class=\"sankey-link\" d=\"M531.6666666666666,395.70492241840526C653.3333333333333,395.70492241840526 653.3333333333333,412.2017037024014 775,412.2017037024014L775,413.24905522728096C653.3333333333333,413.24905522728096 653.3333333333333,396.7522739432848 531.6666666666666,396.7522739432848Z\" style=\"stroke: rgb(68, 68, 68); stroke-opacity: 1; fill: rgb(239, 19, 18); fill-opacity: 0.2; stroke-width: 0; opacity: 1;\"/><path class=\"sankey-link\" d=\"M531.6666666666666,574.2977528089887C653.3333333333333,574.2977528089887 653.3333333333333,565.3477711181316 775,565.3477711181316L775,566.2399594541401C653.3333333333333,566.2399594541401 653.3333333333333,575.1899411449972 531.6666666666666,575.1899411449972Z\" style=\"stroke: rgb(43, 85, 132); stroke-opacity: 0.2; fill: rgb(43, 85, 132); fill-opacity: 0.2; stroke-width: 1; opacity: 1;\"/><path class=\"sankey-link\" d=\"M531.6666666666666,456.06340288924525C653.3333333333333,456.06340288924525 653.3333333333333,362.8210188441884 775,362.8210188441884L775,363.868370369068C653.3333333333333,363.868370369068 653.3333333333333,457.1107544141248 531.6666666666666,457.1107544141248Z\" style=\"stroke: rgb(68, 68, 68); stroke-opacity: 1; fill: rgb(141, 227, 16); fill-opacity: 0.2; stroke-width: 0; opacity: 1;\"/><path class=\"sankey-link\" d=\"M531.6666666666666,457.9253611556979C653.3333333333333,457.9253611556979 653.3333333333333,563.4470220544613 775,563.4470220544613L775,564.3780011876877C653.3333333333333,564.3780011876877 653.3333333333333,458.8563402889242 531.6666666666666,458.8563402889242Z\" style=\"stroke: rgb(141, 227, 16); stroke-opacity: 0.2; fill: rgb(141, 227, 16); fill-opacity: 0.2; stroke-width: 1; opacity: 1;\"/><path class=\"sankey-link\" d=\"M531.6666666666666,457.11075441412487C653.3333333333333,457.11075441412487 653.3333333333333,514.2990819795549 775,514.2990819795549L775,515.1136887211279C653.3333333333333,515.1136887211279 653.3333333333333,457.9253611556979 531.6666666666666,457.9253611556979Z\" style=\"stroke: rgb(141, 227, 16); stroke-opacity: 0.2; fill: rgb(141, 227, 16); fill-opacity: 0.2; stroke-width: 1; opacity: 1;\"/><path class=\"sankey-link\" d=\"M531.6666666666666,287.827715355805C653.3333333333333,287.827715355805 653.3333333333333,361.8124581165266 775,361.8124581165266L775,362.31673848035757C653.3333333333333,362.31673848035757 653.3333333333333,288.331995719636 531.6666666666666,288.331995719636Z\" style=\"stroke: rgb(116, 157, 10); stroke-opacity: 0.2; fill: rgb(116, 157, 10); fill-opacity: 0.2; stroke-width: 1; opacity: 1;\"/><path class=\"sankey-link\" d=\"M531.6666666666666,282.59095773140695C653.3333333333333,282.59095773140695 653.3333333333333,308.24236715879516 775,308.24236715879516L775,313.4791247831932C653.3333333333333,313.4791247831932 653.3333333333333,287.82771535580497 531.6666666666666,287.82771535580497Z\" style=\"stroke: rgb(68, 68, 68); stroke-opacity: 1; fill: rgb(116, 157, 10); fill-opacity: 0.2; stroke-width: 0; opacity: 1;\"/><path class=\"sankey-link\" d=\"M531.6666666666666,288.3319957196359C653.3333333333333,288.3319957196359 653.3333333333333,513.7948016157239 775,513.7948016157239L775,514.2990819795549C653.3333333333333,514.2990819795549 653.3333333333333,288.8362760834669 531.6666666666666,288.8362760834669Z\" style=\"stroke: rgb(116, 157, 10); stroke-opacity: 0.2; fill: rgb(116, 157, 10); fill-opacity: 0.2; stroke-width: 1; opacity: 1;\"/><path class=\"sankey-link\" d=\"M531.6666666666666,522.7835741037987C653.3333333333333,522.7835741037987 653.3333333333333,564.3780011876876 775,564.3780011876876L775,565.3477711181316C653.3333333333333,565.3477711181316 653.3333333333333,523.7533440342428 531.6666666666666,523.7533440342428Z\" style=\"stroke: rgb(52, 63, 76); stroke-opacity: 0.2; fill: rgb(52, 63, 76); fill-opacity: 0.2; stroke-width: 1; opacity: 1;\"/></g><g class=\"sankey-node-set\" style=\"cursor: move;\"><g class=\"sankey-node\" transform=\"translate(0.000,336.083)\" style=\"opacity: 1;\"><rect class=\"node-rect\" width=\"15\" height=\"43.794810058855035\" style=\"stroke-width: 0.1; stroke: rgb(0, 0, 0); stroke-opacity: 1; fill: rgb(141, 227, 16); fill-opacity: 1;\"/><text class=\"node-label\" data-notex=\"1\" x=\"0\" y=\"0\" text-anchor=\"start\" transform=\"translate(18.05,25.397405029427517)\" style=\"cursor: default; font-family: 'Open Sans', verdana, arial, sans-serif; font-size: 10px; fill: rgb(42, 63, 95); fill-opacity: 1; white-space: pre; text-shadow: white 1px 1px 1px, white -1px -1px 1px, white 1px -1px 1px, white -1px 1px 1px;\">tips_show</text></g><g class=\"sankey-node\" transform=\"translate(0.000,428.212)\" style=\"opacity: 1;\"><rect class=\"node-rect\" width=\"15\" height=\"44.493044408774836\" style=\"stroke-width: 0.1; stroke: rgb(0, 0, 0); stroke-opacity: 1; fill: rgb(43, 85, 132); fill-opacity: 1;\"/><text class=\"node-label\" data-notex=\"1\" x=\"0\" y=\"0\" text-anchor=\"start\" transform=\"translate(18.05,25.746522204387418)\" style=\"cursor: default; font-family: 'Open Sans', verdana, arial, sans-serif; font-size: 10px; fill: rgb(42, 63, 95); fill-opacity: 1; white-space: pre; text-shadow: white 1px 1px 1px, white -1px -1px 1px, white 1px -1px 1px, white -1px 1px 1px;\">map</text></g><g class=\"sankey-node\" transform=\"translate(0.000,171.300)\" style=\"opacity: 1;\"><rect class=\"node-rect\" width=\"15\" height=\"67.14686998394859\" style=\"stroke-width: 0.1; stroke: rgb(0, 0, 0); stroke-opacity: 1; fill: rgb(52, 63, 76); fill-opacity: 1;\"/><text class=\"node-label\" data-notex=\"1\" x=\"0\" y=\"0\" text-anchor=\"start\" transform=\"translate(18.05,37.073434991974295)\" style=\"cursor: default; font-family: 'Open Sans', verdana, arial, sans-serif; font-size: 10px; fill: rgb(42, 63, 95); fill-opacity: 1; white-space: pre; text-shadow: white 1px 1px 1px, white -1px -1px 1px, white 1px -1px 1px, white -1px 1px 1px;\">search</text></g><g class=\"sankey-node\" transform=\"translate(0.000,109.390)\" style=\"opacity: 1;\"><rect class=\"node-rect\" width=\"15\" height=\"13.57677902621731\" style=\"stroke-width: 0.1; stroke: rgb(0, 0, 0); stroke-opacity: 1; fill: rgb(56, 162, 19); fill-opacity: 1;\"/><text class=\"node-label\" data-notex=\"1\" x=\"0\" y=\"0\" text-anchor=\"start\" transform=\"translate(18.05,10.288389513108655)\" style=\"cursor: default; font-family: 'Open Sans', verdana, arial, sans-serif; font-size: 10px; fill: rgb(42, 63, 95); fill-opacity: 1; white-space: pre; text-shadow: white 1px 1px 1px, white -1px -1px 1px, white 1px -1px 1px, white -1px 1px 1px;\">photos_show</text></g><g class=\"sankey-node\" transform=\"translate(0.000,48.333)\" style=\"opacity: 1;\"><rect class=\"node-rect\" width=\"15\" height=\"12.723381487426423\" style=\"stroke-width: 0.1; stroke: rgb(0, 0, 0); stroke-opacity: 1; fill: rgb(239, 19, 18); fill-opacity: 1;\"/><text class=\"node-label\" data-notex=\"1\" x=\"0\" y=\"0\" text-anchor=\"start\" transform=\"translate(18.05,9.861690743713211)\" style=\"cursor: default; font-family: 'Open Sans', verdana, arial, sans-serif; font-size: 10px; fill: rgb(42, 63, 95); fill-opacity: 1; white-space: pre; text-shadow: white 1px 1px 1px, white -1px -1px 1px, white 1px -1px 1px, white -1px 1px 1px;\">contacts_show</text></g><g class=\"sankey-node\" transform=\"translate(0.000,521.038)\" style=\"opacity: 1;\"><rect class=\"node-rect\" width=\"15\" height=\"10.085607276618589\" style=\"stroke-width: 0.1; stroke: rgb(0, 0, 0); stroke-opacity: 1; fill: rgb(116, 157, 10); fill-opacity: 1;\"/><text class=\"node-label\" data-notex=\"1\" x=\"0\" y=\"0\" text-anchor=\"start\" transform=\"translate(18.05,8.542803638309294)\" style=\"cursor: default; font-family: 'Open Sans', verdana, arial, sans-serif; font-size: 10px; fill: rgb(42, 63, 95); fill-opacity: 1; white-space: pre; text-shadow: white 1px 1px 1px, white -1px -1px 1px, white 1px -1px 1px, white -1px 1px 1px;\">advert_open</text></g><g class=\"sankey-node\" transform=\"translate(0.000,286.780)\" style=\"opacity: 1;\"><rect class=\"node-rect\" width=\"15\" height=\"0.9697699304441585\" style=\"stroke-width: 0.1; stroke: rgb(0, 0, 0); stroke-opacity: 1; fill: rgb(217, 99, 136); fill-opacity: 1;\"/><text class=\"node-label\" data-notex=\"1\" x=\"0\" y=\"0\" text-anchor=\"start\" transform=\"translate(18.05,3.9848849652220792)\" style=\"cursor: default; font-family: 'Open Sans', verdana, arial, sans-serif; font-size: 10px; fill: rgb(42, 63, 95); fill-opacity: 1; white-space: pre; text-shadow: white 1px 1px 1px, white -1px -1px 1px, white 1px -1px 1px, white -1px 1px 1px;\">favorites_add</text></g><g class=\"sankey-node\" transform=\"translate(0.000,579.457)\" style=\"opacity: 1;\"><rect class=\"node-rect\" width=\"15\" height=\"0.5430711610487151\" style=\"stroke-width: 0.1; stroke: rgb(0, 0, 0); stroke-opacity: 1; fill: rgb(144, 40, 90); fill-opacity: 1;\"/><text class=\"node-label\" data-notex=\"1\" x=\"0\" y=\"0\" text-anchor=\"start\" transform=\"translate(18.05,3.7715355805243576)\" style=\"cursor: default; font-family: 'Open Sans', verdana, arial, sans-serif; font-size: 10px; fill: rgb(42, 63, 95); fill-opacity: 1; white-space: pre; text-shadow: white 1px 1px 1px, white -1px -1px 1px, white 1px -1px 1px, white -1px 1px 1px;\">tips_click</text></g><g class=\"sankey-node\" transform=\"translate(258.333,398.537)\" style=\"opacity: 1;\"><rect class=\"node-rect\" width=\"15\" height=\"61.677367576243626\" style=\"stroke-width: 0.1; stroke: rgb(0, 0, 0); stroke-opacity: 1; fill: rgb(141, 227, 16); fill-opacity: 1;\"/><text class=\"node-label\" data-notex=\"1\" x=\"0\" y=\"0\" text-anchor=\"start\" transform=\"translate(18.05,34.33868378812181)\" style=\"cursor: default; font-family: 'Open Sans', verdana, arial, sans-serif; font-size: 10px; fill: rgb(42, 63, 95); fill-opacity: 1; white-space: pre; text-shadow: white 1px 1px 1px, white -1px -1px 1px, white 1px -1px 1px, white -1px 1px 1px;\">tips_show</text></g><g class=\"sankey-node\" transform=\"translate(258.333,265.562)\" style=\"opacity: 1;\"><rect class=\"node-rect\" width=\"15\" height=\"25.020064205457516\" style=\"stroke-width: 0.1; stroke: rgb(0, 0, 0); stroke-opacity: 1; fill: rgb(43, 85, 132); fill-opacity: 1;\"/><text class=\"node-label\" data-notex=\"1\" x=\"0\" y=\"0\" text-anchor=\"start\" transform=\"translate(18.05,16.010032102728758)\" style=\"cursor: default; font-family: 'Open Sans', verdana, arial, sans-serif; font-size: 10px; fill: rgb(42, 63, 95); fill-opacity: 1; white-space: pre; text-shadow: white 1px 1px 1px, white -1px -1px 1px, white 1px -1px 1px, white -1px 1px 1px;\">map</text></g><g class=\"sankey-node\" transform=\"translate(258.333,110.631)\" style=\"opacity: 1;\"><rect class=\"node-rect\" width=\"15\" height=\"29.209470304975866\" style=\"stroke-width: 0.1; stroke: rgb(0, 0, 0); stroke-opacity: 1; fill: rgb(56, 162, 19); fill-opacity: 1;\"/><text class=\"node-label\" data-notex=\"1\" x=\"0\" y=\"0\" text-anchor=\"start\" transform=\"translate(18.05,18.104735152487933)\" style=\"cursor: default; font-family: 'Open Sans', verdana, arial, sans-serif; font-size: 10px; fill: rgb(42, 63, 95); fill-opacity: 1; white-space: pre; text-shadow: white 1px 1px 1px, white -1px -1px 1px, white 1px -1px 1px, white -1px 1px 1px;\">photos_show</text></g><g class=\"sankey-node\" transform=\"translate(258.333,564.600)\" style=\"opacity: 1;\"><rect class=\"node-rect\" width=\"15\" height=\"15.399946495452468\" style=\"stroke-width: 0.1; stroke: rgb(0, 0, 0); stroke-opacity: 1; fill: rgb(116, 157, 10); fill-opacity: 1;\"/><text class=\"node-label\" data-notex=\"1\" x=\"0\" y=\"0\" text-anchor=\"start\" transform=\"translate(18.05,11.199973247726234)\" style=\"cursor: default; font-family: 'Open Sans', verdana, arial, sans-serif; font-size: 10px; fill: rgb(42, 63, 95); fill-opacity: 1; white-space: pre; text-shadow: white 1px 1px 1px, white -1px -1px 1px, white 1px -1px 1px, white -1px 1px 1px;\">advert_open</text></g><g class=\"sankey-node\" transform=\"translate(258.333,-0.000)\" style=\"opacity: 1;\"><rect class=\"node-rect\" width=\"15\" height=\"6.284109149277697\" style=\"stroke-width: 0.1; stroke: rgb(0, 0, 0); stroke-opacity: 1; fill: rgb(232, 91, 230); fill-opacity: 1;\"/><text class=\"node-label\" data-notex=\"1\" x=\"0\" y=\"0\" text-anchor=\"start\" transform=\"translate(18.05,6.642054574638848)\" style=\"cursor: default; font-family: 'Open Sans', verdana, arial, sans-serif; font-size: 10px; fill: rgb(42, 63, 95); fill-opacity: 1; white-space: pre; text-shadow: white 1px 1px 1px, white -1px -1px 1px, white 1px -1px 1px, white -1px 1px 1px;\">contacts_call</text></g><g class=\"sankey-node\" transform=\"translate(258.333,188.174)\" style=\"opacity: 1;\"><rect class=\"node-rect\" width=\"15\" height=\"29.054307116105065\" style=\"stroke-width: 0.1; stroke: rgb(0, 0, 0); stroke-opacity: 1; fill: rgb(239, 19, 18); fill-opacity: 1;\"/><text class=\"node-label\" data-notex=\"1\" x=\"0\" y=\"0\" text-anchor=\"start\" transform=\"translate(18.05,18.027153558052532)\" style=\"cursor: default; font-family: 'Open Sans', verdana, arial, sans-serif; font-size: 10px; fill: rgb(42, 63, 95); fill-opacity: 1; white-space: pre; text-shadow: white 1px 1px 1px, white -1px -1px 1px, white 1px -1px 1px, white -1px 1px 1px;\">contacts_show</text></g><g class=\"sankey-node\" transform=\"translate(258.333,338.915)\" style=\"opacity: 1;\"><rect class=\"node-rect\" width=\"15\" height=\"11.288121990369234\" style=\"stroke-width: 0.1; stroke: rgb(0, 0, 0); stroke-opacity: 1; fill: rgb(52, 63, 76); fill-opacity: 1;\"/><text class=\"node-label\" data-notex=\"1\" x=\"0\" y=\"0\" text-anchor=\"start\" transform=\"translate(18.05,9.144060995184617)\" style=\"cursor: default; font-family: 'Open Sans', verdana, arial, sans-serif; font-size: 10px; fill: rgb(42, 63, 95); fill-opacity: 1; white-space: pre; text-shadow: white 1px 1px 1px, white -1px -1px 1px, white 1px -1px 1px, white -1px 1px 1px;\">search</text></g><g class=\"sankey-node\" transform=\"translate(258.333,508.547)\" style=\"opacity: 1;\"><rect class=\"node-rect\" width=\"15\" height=\"7.719368646334942\" style=\"stroke-width: 0.1; stroke: rgb(0, 0, 0); stroke-opacity: 1; fill: rgb(144, 40, 90); fill-opacity: 1;\"/><text class=\"node-label\" data-notex=\"1\" x=\"0\" y=\"0\" text-anchor=\"start\" transform=\"translate(18.05,7.359684323167471)\" style=\"cursor: default; font-family: 'Open Sans', verdana, arial, sans-serif; font-size: 10px; fill: rgb(42, 63, 95); fill-opacity: 1; white-space: pre; text-shadow: white 1px 1px 1px, white -1px -1px 1px, white 1px -1px 1px, white -1px 1px 1px;\">tips_click</text></g><g class=\"sankey-node\" transform=\"translate(258.333,54.617)\" style=\"opacity: 1;\"><rect class=\"node-rect\" width=\"15\" height=\"7.680577849117242\" style=\"stroke-width: 0.1; stroke: rgb(0, 0, 0); stroke-opacity: 1; fill: rgb(217, 99, 136); fill-opacity: 1;\"/><text class=\"node-label\" data-notex=\"1\" x=\"0\" y=\"0\" text-anchor=\"start\" transform=\"translate(18.05,7.340288924558621)\" style=\"cursor: default; font-family: 'Open Sans', verdana, arial, sans-serif; font-size: 10px; fill: rgb(42, 63, 95); fill-opacity: 1; white-space: pre; text-shadow: white 1px 1px 1px, white -1px -1px 1px, white 1px -1px 1px, white -1px 1px 1px;\">favorites_add</text></g><g class=\"sankey-node\" transform=\"translate(516.667,343.105)\" style=\"opacity: 1;\"><rect class=\"node-rect\" width=\"15\" height=\"4.266987693953979\" style=\"stroke-width: 0.1; stroke: rgb(0, 0, 0); stroke-opacity: 1; fill: rgb(217, 99, 136); fill-opacity: 1;\"/><text class=\"node-label\" data-notex=\"1\" x=\"0\" y=\"0\" text-anchor=\"start\" transform=\"translate(18.05,5.6334938469769895)\" style=\"cursor: default; font-family: 'Open Sans', verdana, arial, sans-serif; font-size: 10px; fill: rgb(42, 63, 95); fill-opacity: 1; white-space: pre; text-shadow: white 1px 1px 1px, white -1px -1px 1px, white 1px -1px 1px, white -1px 1px 1px;\">favorites_add</text></g><g class=\"sankey-node\" transform=\"translate(516.667,395.705)\" style=\"opacity: 1;\"><rect class=\"node-rect\" width=\"15\" height=\"12.025147137506679\" style=\"stroke-width: 0.1; stroke: rgb(0, 0, 0); stroke-opacity: 1; fill: rgb(239, 19, 18); fill-opacity: 1;\"/><text class=\"node-label\" data-notex=\"1\" x=\"0\" y=\"0\" text-anchor=\"start\" transform=\"translate(18.05,9.51257356875334)\" style=\"cursor: default; font-family: 'Open Sans', verdana, arial, sans-serif; font-size: 10px; fill: rgb(42, 63, 95); fill-opacity: 1; white-space: pre; text-shadow: white 1px 1px 1px, white -1px -1px 1px, white 1px -1px 1px, white -1px 1px 1px;\">contacts_show</text></g><g class=\"sankey-node\" transform=\"translate(516.667,574.298)\" style=\"opacity: 1;\"><rect class=\"node-rect\" width=\"15\" height=\"5.702247191011338\" style=\"stroke-width: 0.1; stroke: rgb(0, 0, 0); stroke-opacity: 1; fill: rgb(43, 85, 132); fill-opacity: 1;\"/><text class=\"node-label\" data-notex=\"1\" x=\"0\" y=\"0\" text-anchor=\"start\" transform=\"translate(18.05,6.351123595505669)\" style=\"cursor: default; font-family: 'Open Sans', verdana, arial, sans-serif; font-size: 10px; fill: rgb(42, 63, 95); fill-opacity: 1; white-space: pre; text-shadow: white 1px 1px 1px, white -1px -1px 1px, white 1px -1px 1px, white -1px 1px 1px;\">map</text></g><g class=\"sankey-node\" transform=\"translate(775.000,255.642)\" style=\"opacity: 1;\"><rect class=\"node-rect\" width=\"15\" height=\"4.2669876939540075\" style=\"stroke-width: 0.1; stroke: rgb(0, 0, 0); stroke-opacity: 1; fill: rgb(232, 91, 230); fill-opacity: 1;\"/><text class=\"node-label\" data-notex=\"1\" x=\"0\" y=\"0\" text-anchor=\"end\" transform=\"translate(-3.05,5.633493846977004)\" style=\"cursor: default; font-family: 'Open Sans', verdana, arial, sans-serif; font-size: 10px; fill: rgb(42, 63, 95); fill-opacity: 1; white-space: pre; text-shadow: white 1px 1px 1px, white -1px -1px 1px, white 1px -1px 1px, white -1px 1px 1px;\">contacts_call</text></g><g class=\"sankey-node\" transform=\"translate(516.667,456.063)\" style=\"opacity: 1;\"><rect class=\"node-rect\" width=\"15\" height=\"18.386837881220117\" style=\"stroke-width: 0.1; stroke: rgb(0, 0, 0); stroke-opacity: 1; fill: rgb(141, 227, 16); fill-opacity: 1;\"/><text class=\"node-label\" data-notex=\"1\" x=\"0\" y=\"0\" text-anchor=\"start\" transform=\"translate(18.05,12.693418940610059)\" style=\"cursor: default; font-family: 'Open Sans', verdana, arial, sans-serif; font-size: 10px; fill: rgb(42, 63, 95); fill-opacity: 1; white-space: pre; text-shadow: white 1px 1px 1px, white -1px -1px 1px, white 1px -1px 1px, white -1px 1px 1px;\">tips_show</text></g><g class=\"sankey-node\" transform=\"translate(516.667,282.591)\" style=\"opacity: 1;\"><rect class=\"node-rect\" width=\"15\" height=\"12.180310326377707\" style=\"stroke-width: 0.1; stroke: rgb(0, 0, 0); stroke-opacity: 1; fill: rgb(116, 157, 10); fill-opacity: 1;\"/><text class=\"node-label\" data-notex=\"1\" x=\"0\" y=\"0\" text-anchor=\"start\" transform=\"translate(18.05,9.590155163188854)\" style=\"cursor: default; font-family: 'Open Sans', verdana, arial, sans-serif; font-size: 10px; fill: rgb(42, 63, 95); fill-opacity: 1; white-space: pre; text-shadow: white 1px 1px 1px, white -1px -1px 1px, white 1px -1px 1px, white -1px 1px 1px;\">advert_open</text></g><g class=\"sankey-node\" transform=\"translate(516.667,522.784)\" style=\"opacity: 1;\"><rect class=\"node-rect\" width=\"15\" height=\"3.180845371856549\" style=\"stroke-width: 0.1; stroke: rgb(0, 0, 0); stroke-opacity: 1; fill: rgb(52, 63, 76); fill-opacity: 1;\"/><text class=\"node-label\" data-notex=\"1\" x=\"0\" y=\"0\" text-anchor=\"start\" transform=\"translate(18.05,5.090422685928274)\" style=\"cursor: default; font-family: 'Open Sans', verdana, arial, sans-serif; font-size: 10px; fill: rgb(42, 63, 95); fill-opacity: 1; white-space: pre; text-shadow: white 1px 1px 1px, white -1px -1px 1px, white 1px -1px 1px, white -1px 1px 1px;\">search</text></g><g class=\"sankey-node\" transform=\"translate(775.000,461.582)\" style=\"opacity: 1;\"><rect class=\"node-rect\" width=\"15\" height=\"3.879079721776293\" style=\"stroke-width: 0.1; stroke: rgb(0, 0, 0); stroke-opacity: 1; fill: rgb(144, 40, 90); fill-opacity: 1;\"/><text class=\"node-label\" data-notex=\"1\" x=\"0\" y=\"0\" text-anchor=\"end\" transform=\"translate(-3.05,5.4395398608881464)\" style=\"cursor: default; font-family: 'Open Sans', verdana, arial, sans-serif; font-size: 10px; fill: rgb(42, 63, 95); fill-opacity: 1; white-space: pre; text-shadow: white 1px 1px 1px, white -1px -1px 1px, white 1px -1px 1px, white -1px 1px 1px;\">tips_click</text></g><g class=\"sankey-node\" transform=\"translate(775.000,121.661)\" style=\"opacity: 1;\"><rect class=\"node-rect\" width=\"15\" height=\"2.6377742108079048\" style=\"stroke-width: 0.1; stroke: rgb(0, 0, 0); stroke-opacity: 1; fill: rgb(56, 162, 19); fill-opacity: 1;\"/><text class=\"node-label\" data-notex=\"1\" x=\"0\" y=\"0\" text-anchor=\"end\" transform=\"translate(-3.05,4.818887105403952)\" style=\"cursor: default; font-family: 'Open Sans', verdana, arial, sans-serif; font-size: 10px; fill: rgb(42, 63, 95); fill-opacity: 1; white-space: pre; text-shadow: white 1px 1px 1px, white -1px -1px 1px, white 1px -1px 1px, white -1px 1px 1px;\">photos_show</text></g><g class=\"sankey-node\" transform=\"translate(775.000,361.812)\" style=\"opacity: 1;\"><rect class=\"node-rect\" width=\"15\" height=\"2.055912252541475\" style=\"stroke-width: 0.1; stroke: rgb(0, 0, 0); stroke-opacity: 1; fill: rgb(239, 19, 18); fill-opacity: 1;\"/><text class=\"node-label\" data-notex=\"1\" x=\"0\" y=\"0\" text-anchor=\"end\" transform=\"translate(-3.05,4.5279561262707375)\" style=\"cursor: default; font-family: 'Open Sans', verdana, arial, sans-serif; font-size: 10px; fill: rgb(42, 63, 95); fill-opacity: 1; white-space: pre; text-shadow: white 1px 1px 1px, white -1px -1px 1px, white 1px -1px 1px, white -1px 1px 1px;\">contacts_show</text></g><g class=\"sankey-node\" transform=\"translate(775.000,412.202)\" style=\"opacity: 1;\"><rect class=\"node-rect\" width=\"15\" height=\"1.0473515248795593\" style=\"stroke-width: 0.1; stroke: rgb(0, 0, 0); stroke-opacity: 1; fill: rgb(232, 91, 230); fill-opacity: 1;\"/><text class=\"node-label\" data-notex=\"1\" x=\"0\" y=\"0\" text-anchor=\"end\" transform=\"translate(-3.05,4.02367576243978)\" style=\"cursor: default; font-family: 'Open Sans', verdana, arial, sans-serif; font-size: 10px; fill: rgb(42, 63, 95); fill-opacity: 1; white-space: pre; text-shadow: white 1px 1px 1px, white -1px -1px 1px, white 1px -1px 1px, white -1px 1px 1px;\">contacts_call</text></g><g class=\"sankey-node\" transform=\"translate(775.000,563.447)\" style=\"opacity: 1;\"><rect class=\"node-rect\" width=\"15\" height=\"2.7929373996789764\" style=\"stroke-width: 0.1; stroke: rgb(0, 0, 0); stroke-opacity: 1; fill: rgb(116, 157, 10); fill-opacity: 1;\"/><text class=\"node-label\" data-notex=\"1\" x=\"0\" y=\"0\" text-anchor=\"end\" transform=\"translate(-3.05,4.896468699839488)\" style=\"cursor: default; font-family: 'Open Sans', verdana, arial, sans-serif; font-size: 10px; fill: rgb(42, 63, 95); fill-opacity: 1; white-space: pre; text-shadow: white 1px 1px 1px, white -1px -1px 1px, white 1px -1px 1px, white -1px 1px 1px;\">advert_open</text></g><g class=\"sankey-node\" transform=\"translate(775.000,308.242)\" style=\"opacity: 1;\"><rect class=\"node-rect\" width=\"15\" height=\"5.2367576243981375\" style=\"stroke-width: 0.1; stroke: rgb(0, 0, 0); stroke-opacity: 1; fill: rgb(141, 227, 16); fill-opacity: 1;\"/><text class=\"node-label\" data-notex=\"1\" x=\"0\" y=\"0\" text-anchor=\"end\" transform=\"translate(-3.05,6.118378812199069)\" style=\"cursor: default; font-family: 'Open Sans', verdana, arial, sans-serif; font-size: 10px; fill: rgb(42, 63, 95); fill-opacity: 1; white-space: pre; text-shadow: white 1px 1px 1px, white -1px -1px 1px, white 1px -1px 1px, white -1px 1px 1px;\">tips_show</text></g><g class=\"sankey-node\" transform=\"translate(775.000,513.795)\" style=\"opacity: 1;\"><rect class=\"node-rect\" width=\"15\" height=\"1.3188871054039737\" style=\"stroke-width: 0.1; stroke: rgb(0, 0, 0); stroke-opacity: 1; fill: rgb(52, 63, 76); fill-opacity: 1;\"/><text class=\"node-label\" data-notex=\"1\" x=\"0\" y=\"0\" text-anchor=\"end\" transform=\"translate(-3.05,4.159443552701987)\" style=\"cursor: default; font-family: 'Open Sans', verdana, arial, sans-serif; font-size: 10px; fill: rgb(42, 63, 95); fill-opacity: 1; white-space: pre; text-shadow: white 1px 1px 1px, white -1px -1px 1px, white 1px -1px 1px, white -1px 1px 1px;\">search</text></g></g></g><defs id=\"topdefs-7bd4e3\"><g class=\"clips\"/></defs><g class=\"layer-above\"><g class=\"imagelayer\"/><g class=\"shapelayer\"/></g><g class=\"infolayer\"><g class=\"g-gtitle\"><text class=\"gtitle\" x=\"47.5\" y=\"50\" text-anchor=\"start\" dy=\"0em\" style=\"font-family: 'Open Sans', verdana, arial, sans-serif; font-size: 14px; fill: rgb(42, 63, 95); opacity: 1; font-weight: normal; white-space: pre;\">Sankey Diagram</text></g><g class=\"first-render\"/></g></svg>"
      ]
     },
     "metadata": {},
     "output_type": "display_data"
    }
   ],
   "source": [
    "# Применяем функцию - строим диаграмму\n",
    "senkey_diagram.show()"
   ]
  },
  {
   "cell_type": "markdown",
   "metadata": {},
   "source": [
    "Наиболее популярные сценарии отбираются по толщине потоков каждого шага. Наша задача - найти те сценарии, которые приводят в итоге к целевому действию (просмотр контактов/contacts_show). Если смотреть на глаз, то в целом наиболее популярными можно назвать следующие сценарии:\n",
    "- search - tips_show - contacts_show\n",
    "- search - photos_show - contacts_show\n",
    "- map - tips_show - contacts_show\n",
    "\n",
    "Теперь построим воронки по каждому сценарию."
   ]
  },
  {
   "cell_type": "markdown",
   "metadata": {},
   "source": [
    "- **Сценарий 1: search - tips_show - contacts_show**"
   ]
  },
  {
   "cell_type": "markdown",
   "metadata": {},
   "source": [
    "Рассчитаем количество перешедших пользователей на следующий этап."
   ]
  },
  {
   "cell_type": "code",
   "execution_count": 46,
   "metadata": {},
   "outputs": [
    {
     "data": {
      "text/plain": [
       "1666"
      ]
     },
     "execution_count": 46,
     "metadata": {},
     "output_type": "execute_result"
    }
   ],
   "source": [
    "# КОД РЕВЬЮЕРА\n",
    "\n",
    "data_ss.query('event_name == \"search\"')['user_id'].nunique()"
   ]
  },
  {
   "cell_type": "code",
   "execution_count": 47,
   "metadata": {},
   "outputs": [],
   "source": [
    "# Находим количество уникальных пользователей с событием search\n",
    "search = data_ss[data_ss['event_name'] == \"search\"]['user_id'].nunique()\n",
    "\n",
    "# Фильтруем по найденным уникальным пользователям исходный датасет\n",
    "# Находим количество уникальных пользователей с событием tips_show\n",
    "data_ss_2 = data_ss[data_ss['user_id'].isin(data_ss.query('event_name == \"search\"')['user_id'].unique())]\n",
    "tp_s = data_ss_2[data_ss_2['event_name'] == \"tips_show\"]['user_id'].nunique()\n",
    "\n",
    "# Таким же способом находим количество уникальных пользователей с событием contacts_show\n",
    "data_ss_3 = data_ss[data_ss['user_id'].isin(data_ss_2.query('event_name == \"tips_show\"')['user_id'].unique())]\n",
    "co_s = data_ss_3[data_ss_3['event_name'] == \"contacts_show\"]['user_id'].nunique()"
   ]
  },
  {
   "cell_type": "code",
   "execution_count": 48,
   "metadata": {},
   "outputs": [
    {
     "data": {
      "image/svg+xml": [
       "<svg class=\"main-svg\" xmlns=\"http://www.w3.org/2000/svg\" xmlns:xlink=\"http://www.w3.org/1999/xlink\" width=\"770.0000000000001\" height=\"550\" style=\"\" viewBox=\"0 0 700 500\"><rect x=\"0\" y=\"0\" width=\"700\" height=\"500\" style=\"fill: rgb(255, 255, 255); fill-opacity: 1;\"/><defs id=\"defs-0d0d1f\"><g class=\"clips\"><clipPath id=\"clip0d0d1fxyplot\" class=\"plotclip\"><rect width=\"257\" height=\"320\"/></clipPath><clipPath class=\"axesclip\" id=\"clip0d0d1fx\"><rect x=\"363\" y=\"0\" width=\"257\" height=\"500\"/></clipPath><clipPath class=\"axesclip\" id=\"clip0d0d1fy\"><rect x=\"0\" y=\"100\" width=\"700\" height=\"320\"/></clipPath><clipPath class=\"axesclip\" id=\"clip0d0d1fxy\"><rect x=\"363\" y=\"100\" width=\"257\" height=\"320\"/></clipPath></g><g class=\"gradients\"/><g class=\"patterns\"/></defs><g class=\"bglayer\"><rect class=\"bg\" x=\"363\" y=\"100\" width=\"257\" height=\"320\" style=\"fill: rgb(229, 236, 246); fill-opacity: 1; stroke-width: 0;\"/></g><g class=\"layer-below\"><g class=\"imagelayer\"/><g class=\"shapelayer\"/></g><g class=\"cartesianlayer\"><g class=\"subplot xy\"><g class=\"layer-subplot\"><g class=\"shapelayer\"/><g class=\"imagelayer\"/></g><g class=\"minor-gridlayer\"><g class=\"x\"/><g class=\"y\"/></g><g class=\"gridlayer\"><g class=\"x\"/><g class=\"y\"/></g><g class=\"zerolinelayer\"/><path class=\"xlines-below\"/><path class=\"ylines-below\"/><g class=\"overlines-below\"/><g class=\"xaxislayer-below\"/><g class=\"yaxislayer-below\"/><g class=\"overaxes-below\"/><g class=\"plot\" transform=\"translate(363,100)\" clip-path=\"url(#clip0d0d1fxyplot)\"><g class=\"funnellayer mlayer\"><g class=\"trace bars\" style=\"opacity: 1;\"><g class=\"regions\"><g class=\"region\"><path d=\"M12.85,96L72.9,117.33H184.1L244.15,96Z\" style=\"stroke-width: 0; fill: rgb(99, 110, 250); fill-opacity: 0.5;\"/></g><g class=\"region\"><path d=\"M72.9,202.67L118.85,224H138.15L184.1,202.67Z\" style=\"stroke-width: 0; fill: rgb(99, 110, 250); fill-opacity: 0.5;\"/></g><g class=\"region\"><path d=\"M0,0Z\" style=\"stroke-width: 0; fill: rgb(99, 110, 250); fill-opacity: 0.5;\"/></g></g><g class=\"points\"><g class=\"point\"><path d=\"M12.85,10.67V96H244.15V10.67Z\" style=\"vector-effect: non-scaling-stroke; fill: rgb(99, 110, 250); fill-opacity: 1; stroke: rgb(68, 68, 68); stroke-opacity: 1; stroke-width: 0px; opacity: 1;\"/><text class=\"bartext bartext-inside\" text-anchor=\"middle\" data-notex=\"1\" x=\"0\" y=\"0\" style=\"font-family: 'Open Sans', verdana, arial, sans-serif; font-size: 12px; fill: rgb(255, 255, 255); fill-opacity: 1; white-space: pre;\" transform=\"translate(128.5,58.085)\">1666</text></g><g class=\"point\"><path d=\"M72.9,117.33V202.67H184.1V117.33Z\" style=\"vector-effect: non-scaling-stroke; fill: rgb(99, 110, 250); fill-opacity: 1; stroke: rgb(68, 68, 68); stroke-opacity: 1; stroke-width: 0px; opacity: 1;\"/><text class=\"bartext bartext-inside\" text-anchor=\"middle\" data-notex=\"1\" x=\"0\" y=\"0\" style=\"font-family: 'Open Sans', verdana, arial, sans-serif; font-size: 12px; fill: rgb(255, 255, 255); fill-opacity: 1; white-space: pre;\" transform=\"translate(128.5,164.75)\">801</text></g><g class=\"point\"><path d=\"M118.85,224V309.33H138.15V224Z\" style=\"vector-effect: non-scaling-stroke; fill: rgb(99, 110, 250); fill-opacity: 1; stroke: rgb(68, 68, 68); stroke-opacity: 1; stroke-width: 0px; opacity: 1;\"/><text class=\"bartext bartext-outside\" text-anchor=\"middle\" data-notex=\"1\" x=\"0\" y=\"0\" style=\"font-family: 'Open Sans', verdana, arial, sans-serif; font-size: 12px; fill: rgb(42, 63, 95); fill-opacity: 1; white-space: pre;\" transform=\"translate(152.603125,271.41499999999996)\">139</text></g></g></g></g></g><g class=\"overplot\"/><path class=\"xlines-above crisp\" d=\"M0,0\" style=\"fill: none;\"/><path class=\"ylines-above crisp\" d=\"M0,0\" style=\"fill: none;\"/><g class=\"overlines-above\"/><g class=\"xaxislayer-above\"/><g class=\"yaxislayer-above\"><g class=\"ytick\"><text text-anchor=\"end\" x=\"362\" y=\"4.199999999999999\" transform=\"translate(0,366.67)\" style=\"font-family: 'Open Sans', verdana, arial, sans-serif; font-size: 12px; fill: rgb(42, 63, 95); fill-opacity: 1; white-space: pre; opacity: 1;\">Посмотрел номер телефона (contacts_show) -</text></g><g class=\"ytick\"><text text-anchor=\"end\" x=\"362\" y=\"4.199999999999999\" transform=\"translate(0,260)\" style=\"font-family: 'Open Sans', verdana, arial, sans-serif; font-size: 12px; fill: rgb(42, 63, 95); fill-opacity: 1; white-space: pre; opacity: 1;\">Увидел рекомендованные объявления (tips_show) -</text></g><g class=\"ytick\"><text text-anchor=\"end\" x=\"362\" y=\"4.199999999999999\" transform=\"translate(0,153.32999999999998)\" style=\"font-family: 'Open Sans', verdana, arial, sans-serif; font-size: 12px; fill: rgb(42, 63, 95); fill-opacity: 1; white-space: pre; opacity: 1;\">Поиск по сайту (search) -</text></g></g><g class=\"overaxes-above\"/></g></g><g class=\"polarlayer\"/><g class=\"smithlayer\"/><g class=\"ternarylayer\"/><g class=\"geolayer\"/><g class=\"funnelarealayer\"/><g class=\"pielayer\"/><g class=\"iciclelayer\"/><g class=\"treemaplayer\"/><g class=\"sunburstlayer\"/><g class=\"glimages\"/><defs id=\"topdefs-0d0d1f\"><g class=\"clips\"/></defs><g class=\"layer-above\"><g class=\"imagelayer\"/><g class=\"shapelayer\"/></g><g class=\"infolayer\"><g class=\"g-gtitle\"><text class=\"gtitle\" x=\"35\" y=\"50\" text-anchor=\"start\" dy=\"0em\" style=\"font-family: 'Open Sans', verdana, arial, sans-serif; font-size: 17px; fill: rgb(42, 63, 95); opacity: 1; font-weight: normal; white-space: pre;\">Воронка для сценария</text></g><g class=\"g-ytitle\"/></g></svg>"
      ]
     },
     "metadata": {},
     "output_type": "display_data"
    }
   ],
   "source": [
    "# Строим функцию для воронки\n",
    "def plot_funnel(labels, values, title='Воронка для сценария'):\n",
    "    fig = px.funnel(y=labels, x=values, title=title)\n",
    "    fig.update_layout(yaxis_title='')\n",
    "    fig.show()\n",
    "\n",
    "# Создание воронки 1\n",
    "plot_funnel(labels=['Поиск по сайту (search) -', \n",
    "                    'Увидел рекомендованные объявления (tips_show) -', \n",
    "                    'Посмотрел номер телефона (contacts_show) -'], \n",
    "            values=[search, tp_s, co_s])\n"
   ]
  },
  {
   "cell_type": "code",
   "execution_count": 49,
   "metadata": {},
   "outputs": [
    {
     "name": "stdout",
     "output_type": "stream",
     "text": [
      "Конверсия по первому сценарию: 8.34%\n"
     ]
    }
   ],
   "source": [
    "print(f'Конверсия по первому сценарию: {round(((co_s/search)*100), 2)}%')"
   ]
  },
  {
   "cell_type": "markdown",
   "metadata": {},
   "source": [
    "- **Сценарий 2: search - photos_show - contacts_show**"
   ]
  },
  {
   "cell_type": "code",
   "execution_count": 50,
   "metadata": {},
   "outputs": [],
   "source": [
    "# Находим количество уникальных пользователей с событием search\n",
    "search = data_ss[data_ss['event_name'] == \"search\"]['user_id'].nunique()\n",
    "\n",
    "# Фильтруем по найденным уникальным пользователям исходный датасет\n",
    "# Находим количество уникальных пользователей с событием photos_show\n",
    "data_ss_22 = data_ss[data_ss['user_id'].isin(data_ss.query('event_name == \"search\"')['user_id'].unique())]\n",
    "ph_s = data_ss_22[data_ss_22['event_name'] == \"photos_show\"]['user_id'].nunique()\n",
    "\n",
    "# Таким же способом находим количество уникальных пользователей с событием contacts_show\n",
    "data_ss_33 = data_ss[data_ss['user_id'].isin(data_ss_22.query('event_name == \"photos_show\"')['user_id'].unique())]\n",
    "co_s2 = data_ss_33[data_ss_33['event_name'] == \"contacts_show\"]['user_id'].nunique()"
   ]
  },
  {
   "cell_type": "code",
   "execution_count": 51,
   "metadata": {},
   "outputs": [
    {
     "data": {
      "image/svg+xml": [
       "<svg class=\"main-svg\" xmlns=\"http://www.w3.org/2000/svg\" xmlns:xlink=\"http://www.w3.org/1999/xlink\" width=\"770.0000000000001\" height=\"550\" style=\"\" viewBox=\"0 0 700 500\"><rect x=\"0\" y=\"0\" width=\"700\" height=\"500\" style=\"fill: rgb(255, 255, 255); fill-opacity: 1;\"/><defs id=\"defs-f7e381\"><g class=\"clips\"><clipPath id=\"clipf7e381xyplot\" class=\"plotclip\"><rect width=\"234\" height=\"320\"/></clipPath><clipPath class=\"axesclip\" id=\"clipf7e381x\"><rect x=\"386\" y=\"0\" width=\"234\" height=\"500\"/></clipPath><clipPath class=\"axesclip\" id=\"clipf7e381y\"><rect x=\"0\" y=\"100\" width=\"700\" height=\"320\"/></clipPath><clipPath class=\"axesclip\" id=\"clipf7e381xy\"><rect x=\"386\" y=\"100\" width=\"234\" height=\"320\"/></clipPath></g><g class=\"gradients\"/><g class=\"patterns\"/></defs><g class=\"bglayer\"><rect class=\"bg\" x=\"386\" y=\"100\" width=\"234\" height=\"320\" style=\"fill: rgb(229, 236, 246); fill-opacity: 1; stroke-width: 0;\"/></g><g class=\"layer-below\"><g class=\"imagelayer\"/><g class=\"shapelayer\"/></g><g class=\"cartesianlayer\"><g class=\"subplot xy\"><g class=\"layer-subplot\"><g class=\"shapelayer\"/><g class=\"imagelayer\"/></g><g class=\"minor-gridlayer\"><g class=\"x\"/><g class=\"y\"/></g><g class=\"gridlayer\"><g class=\"x\"/><g class=\"y\"/></g><g class=\"zerolinelayer\"/><path class=\"xlines-below\"/><path class=\"ylines-below\"/><g class=\"overlines-below\"/><g class=\"xaxislayer-below\"/><g class=\"yaxislayer-below\"/><g class=\"overaxes-below\"/><g class=\"plot\" transform=\"translate(386,100)\" clip-path=\"url(#clipf7e381xyplot)\"><g class=\"funnellayer mlayer\"><g class=\"trace bars\" style=\"opacity: 1;\"><g class=\"regions\"><g class=\"region\"><path d=\"M11.7,96L76.11,117.33H157.89L222.3,96Z\" style=\"stroke-width: 0; fill: rgb(99, 110, 250); fill-opacity: 0.5;\"/></g><g class=\"region\"><path d=\"M76.11,202.67L104.86,224H129.14L157.89,202.67Z\" style=\"stroke-width: 0; fill: rgb(99, 110, 250); fill-opacity: 0.5;\"/></g><g class=\"region\"><path d=\"M0,0Z\" style=\"stroke-width: 0; fill: rgb(99, 110, 250); fill-opacity: 0.5;\"/></g></g><g class=\"points\"><g class=\"point\"><path d=\"M11.7,10.67V96H222.3V10.67Z\" style=\"vector-effect: non-scaling-stroke; fill: rgb(99, 110, 250); fill-opacity: 1; stroke: rgb(68, 68, 68); stroke-opacity: 1; stroke-width: 0px; opacity: 1;\"/><text class=\"bartext bartext-inside\" text-anchor=\"middle\" data-notex=\"1\" x=\"0\" y=\"0\" style=\"font-family: 'Open Sans', verdana, arial, sans-serif; font-size: 12px; fill: rgb(255, 255, 255); fill-opacity: 1; white-space: pre;\" transform=\"translate(117,58.085)\">1666</text></g><g class=\"point\"><path d=\"M76.11,117.33V202.67H157.89V117.33Z\" style=\"vector-effect: non-scaling-stroke; fill: rgb(99, 110, 250); fill-opacity: 1; stroke: rgb(68, 68, 68); stroke-opacity: 1; stroke-width: 0px; opacity: 1;\"/><text class=\"bartext bartext-inside\" text-anchor=\"middle\" data-notex=\"1\" x=\"0\" y=\"0\" style=\"font-family: 'Open Sans', verdana, arial, sans-serif; font-size: 12px; fill: rgb(255, 255, 255); fill-opacity: 1; white-space: pre;\" transform=\"translate(117,164.75)\">647</text></g><g class=\"point\"><path d=\"M104.86,224V309.33H129.14V224Z\" style=\"vector-effect: non-scaling-stroke; fill: rgb(99, 110, 250); fill-opacity: 1; stroke: rgb(68, 68, 68); stroke-opacity: 1; stroke-width: 0px; opacity: 1;\"/><text class=\"bartext bartext-inside\" text-anchor=\"middle\" data-notex=\"1\" x=\"0\" y=\"0\" style=\"font-family: 'Open Sans', verdana, arial, sans-serif; font-size: 12px; fill: rgb(255, 255, 255); fill-opacity: 1; white-space: pre;\" transform=\"translate(117,270.4556684856753)scale(0.7980354706684851)\">192</text></g></g></g></g></g><g class=\"overplot\"/><path class=\"xlines-above crisp\" d=\"M0,0\" style=\"fill: none;\"/><path class=\"ylines-above crisp\" d=\"M0,0\" style=\"fill: none;\"/><g class=\"overlines-above\"/><g class=\"xaxislayer-above\"/><g class=\"yaxislayer-above\"><g class=\"ytick\"><text text-anchor=\"end\" x=\"385\" y=\"4.199999999999999\" transform=\"translate(0,366.67)\" style=\"font-family: 'Open Sans', verdana, arial, sans-serif; font-size: 12px; fill: rgb(42, 63, 95); fill-opacity: 1; white-space: pre; opacity: 1;\">Посмотрел номер телефона (contacts_show) -</text></g><g class=\"ytick\"><text text-anchor=\"end\" x=\"385\" y=\"4.199999999999999\" transform=\"translate(0,260)\" style=\"font-family: 'Open Sans', verdana, arial, sans-serif; font-size: 12px; fill: rgb(42, 63, 95); fill-opacity: 1; white-space: pre; opacity: 1;\">Просмотрел фотографии в объявлении (photos_show) -</text></g><g class=\"ytick\"><text text-anchor=\"end\" x=\"385\" y=\"4.199999999999999\" transform=\"translate(0,153.32999999999998)\" style=\"font-family: 'Open Sans', verdana, arial, sans-serif; font-size: 12px; fill: rgb(42, 63, 95); fill-opacity: 1; white-space: pre; opacity: 1;\">Поиск по сайту (search) -</text></g></g><g class=\"overaxes-above\"/></g></g><g class=\"polarlayer\"/><g class=\"smithlayer\"/><g class=\"ternarylayer\"/><g class=\"geolayer\"/><g class=\"funnelarealayer\"/><g class=\"pielayer\"/><g class=\"iciclelayer\"/><g class=\"treemaplayer\"/><g class=\"sunburstlayer\"/><g class=\"glimages\"/><defs id=\"topdefs-f7e381\"><g class=\"clips\"/></defs><g class=\"layer-above\"><g class=\"imagelayer\"/><g class=\"shapelayer\"/></g><g class=\"infolayer\"><g class=\"g-gtitle\"><text class=\"gtitle\" x=\"35\" y=\"50\" text-anchor=\"start\" dy=\"0em\" style=\"font-family: 'Open Sans', verdana, arial, sans-serif; font-size: 17px; fill: rgb(42, 63, 95); opacity: 1; font-weight: normal; white-space: pre;\">Воронка для сценария</text></g><g class=\"g-ytitle\"/></g></svg>"
      ]
     },
     "metadata": {},
     "output_type": "display_data"
    }
   ],
   "source": [
    "# Создание воронки 2\n",
    "plot_funnel(labels=['Поиск по сайту (search) -', \n",
    "                    'Просмотрел фотографии в объявлении (photos_show) -', \n",
    "                    'Посмотрел номер телефона (contacts_show) -'], \n",
    "            values=[search, ph_s, co_s2])\n"
   ]
  },
  {
   "cell_type": "code",
   "execution_count": 52,
   "metadata": {},
   "outputs": [
    {
     "name": "stdout",
     "output_type": "stream",
     "text": [
      "Конверсия по второму сценарию: 11.52%\n"
     ]
    }
   ],
   "source": [
    "print(f'Конверсия по второму сценарию: {round(((co_s2/search)*100), 2)}%')"
   ]
  },
  {
   "cell_type": "markdown",
   "metadata": {},
   "source": [
    "- **Сценарий 3: map - tips_show - contacts_show**"
   ]
  },
  {
   "cell_type": "code",
   "execution_count": 53,
   "metadata": {},
   "outputs": [],
   "source": [
    "# Находим количество уникальных пользователей с событием map\n",
    "maps = data_ss[data_ss['event_name'] == \"map\"]['user_id'].nunique()\n",
    "\n",
    "# Фильтруем по найденным уникальным пользователям исходный датасет\n",
    "# Находим количество уникальных пользователей с событием tips_show\n",
    "data_ss_4 = data_ss[data_ss['user_id'].isin(data_ss.query('event_name == \"map\"')['user_id'].unique())]\n",
    "tp_s2 = data_ss_4[data_ss_4['event_name'] == \"tips_show\"]['user_id'].nunique()\n",
    "\n",
    "# Таким же способом находим количество уникальных пользователей с событием contacts_show\n",
    "data_ss_5 = data_ss[data_ss['user_id'].isin(data_ss_4.query('event_name == \"tips_show\"')['user_id'].unique())]\n",
    "co_s3 = data_ss_5[data_ss_5['event_name'] == \"contacts_show\"]['user_id'].nunique()"
   ]
  },
  {
   "cell_type": "code",
   "execution_count": 54,
   "metadata": {},
   "outputs": [
    {
     "data": {
      "image/svg+xml": [
       "<svg class=\"main-svg\" xmlns=\"http://www.w3.org/2000/svg\" xmlns:xlink=\"http://www.w3.org/1999/xlink\" width=\"770.0000000000001\" height=\"550\" style=\"\" viewBox=\"0 0 700 500\"><rect x=\"0\" y=\"0\" width=\"700\" height=\"500\" style=\"fill: rgb(255, 255, 255); fill-opacity: 1;\"/><defs id=\"defs-905d04\"><g class=\"clips\"><clipPath id=\"clip905d04xyplot\" class=\"plotclip\"><rect width=\"257\" height=\"320\"/></clipPath><clipPath class=\"axesclip\" id=\"clip905d04x\"><rect x=\"363\" y=\"0\" width=\"257\" height=\"500\"/></clipPath><clipPath class=\"axesclip\" id=\"clip905d04y\"><rect x=\"0\" y=\"100\" width=\"700\" height=\"320\"/></clipPath><clipPath class=\"axesclip\" id=\"clip905d04xy\"><rect x=\"363\" y=\"100\" width=\"257\" height=\"320\"/></clipPath></g><g class=\"gradients\"/><g class=\"patterns\"/></defs><g class=\"bglayer\"><rect class=\"bg\" x=\"363\" y=\"100\" width=\"257\" height=\"320\" style=\"fill: rgb(229, 236, 246); fill-opacity: 1; stroke-width: 0;\"/></g><g class=\"layer-below\"><g class=\"imagelayer\"/><g class=\"shapelayer\"/></g><g class=\"cartesianlayer\"><g class=\"subplot xy\"><g class=\"layer-subplot\"><g class=\"shapelayer\"/><g class=\"imagelayer\"/></g><g class=\"minor-gridlayer\"><g class=\"x\"/><g class=\"y\"/></g><g class=\"gridlayer\"><g class=\"x\"/><g class=\"y\"/></g><g class=\"zerolinelayer\"/><path class=\"xlines-below\"/><path class=\"ylines-below\"/><g class=\"overlines-below\"/><g class=\"xaxislayer-below\"/><g class=\"yaxislayer-below\"/><g class=\"overaxes-below\"/><g class=\"plot\" transform=\"translate(363,100)\" clip-path=\"url(#clip905d04xyplot)\"><g class=\"funnellayer mlayer\"><g class=\"trace bars\" style=\"opacity: 1;\"><g class=\"regions\"><g class=\"region\"><path d=\"M12.85,96L21.11,117.33H235.89L244.15,96Z\" style=\"stroke-width: 0; fill: rgb(99, 110, 250); fill-opacity: 0.5;\"/></g><g class=\"region\"><path d=\"M21.11,202.67L106.66,224H150.34L235.89,202.67Z\" style=\"stroke-width: 0; fill: rgb(99, 110, 250); fill-opacity: 0.5;\"/></g><g class=\"region\"><path d=\"M0,0Z\" style=\"stroke-width: 0; fill: rgb(99, 110, 250); fill-opacity: 0.5;\"/></g></g><g class=\"points\"><g class=\"point\"><path d=\"M12.85,10.67V96H244.15V10.67Z\" style=\"vector-effect: non-scaling-stroke; fill: rgb(99, 110, 250); fill-opacity: 1; stroke: rgb(68, 68, 68); stroke-opacity: 1; stroke-width: 0px; opacity: 1;\"/><text class=\"bartext bartext-inside\" text-anchor=\"middle\" data-notex=\"1\" x=\"0\" y=\"0\" style=\"font-family: 'Open Sans', verdana, arial, sans-serif; font-size: 12px; fill: rgb(255, 255, 255); fill-opacity: 1; white-space: pre;\" transform=\"translate(128.5,58.085)\">1456</text></g><g class=\"point\"><path d=\"M21.11,117.33V202.67H235.89V117.33Z\" style=\"vector-effect: non-scaling-stroke; fill: rgb(99, 110, 250); fill-opacity: 1; stroke: rgb(68, 68, 68); stroke-opacity: 1; stroke-width: 0px; opacity: 1;\"/><text class=\"bartext bartext-inside\" text-anchor=\"middle\" data-notex=\"1\" x=\"0\" y=\"0\" style=\"font-family: 'Open Sans', verdana, arial, sans-serif; font-size: 12px; fill: rgb(255, 255, 255); fill-opacity: 1; white-space: pre;\" transform=\"translate(128.5,164.75)\">1352</text></g><g class=\"point\"><path d=\"M106.66,224V309.33H150.34V224Z\" style=\"vector-effect: non-scaling-stroke; fill: rgb(99, 110, 250); fill-opacity: 1; stroke: rgb(68, 68, 68); stroke-opacity: 1; stroke-width: 0px; opacity: 1;\"/><text class=\"bartext bartext-inside\" text-anchor=\"middle\" data-notex=\"1\" x=\"0\" y=\"0\" style=\"font-family: 'Open Sans', verdana, arial, sans-serif; font-size: 12px; fill: rgb(255, 255, 255); fill-opacity: 1; white-space: pre;\" transform=\"translate(128.5,271.41499999999996)\">275</text></g></g></g></g></g><g class=\"overplot\"/><path class=\"xlines-above crisp\" d=\"M0,0\" style=\"fill: none;\"/><path class=\"ylines-above crisp\" d=\"M0,0\" style=\"fill: none;\"/><g class=\"overlines-above\"/><g class=\"xaxislayer-above\"/><g class=\"yaxislayer-above\"><g class=\"ytick\"><text text-anchor=\"end\" x=\"362\" y=\"4.199999999999999\" transform=\"translate(0,366.67)\" style=\"font-family: 'Open Sans', verdana, arial, sans-serif; font-size: 12px; fill: rgb(42, 63, 95); fill-opacity: 1; white-space: pre; opacity: 1;\">Посмотрел номер телефона (contacts_show) -</text></g><g class=\"ytick\"><text text-anchor=\"end\" x=\"362\" y=\"4.199999999999999\" transform=\"translate(0,260)\" style=\"font-family: 'Open Sans', verdana, arial, sans-serif; font-size: 12px; fill: rgb(42, 63, 95); fill-opacity: 1; white-space: pre; opacity: 1;\">Увидел рекомендованные объявления (tips_show) -</text></g><g class=\"ytick\"><text text-anchor=\"end\" x=\"362\" y=\"4.199999999999999\" transform=\"translate(0,153.32999999999998)\" style=\"font-family: 'Open Sans', verdana, arial, sans-serif; font-size: 12px; fill: rgb(42, 63, 95); fill-opacity: 1; white-space: pre; opacity: 1;\">Открыл карту объявлений (map) -</text></g></g><g class=\"overaxes-above\"/></g></g><g class=\"polarlayer\"/><g class=\"smithlayer\"/><g class=\"ternarylayer\"/><g class=\"geolayer\"/><g class=\"funnelarealayer\"/><g class=\"pielayer\"/><g class=\"iciclelayer\"/><g class=\"treemaplayer\"/><g class=\"sunburstlayer\"/><g class=\"glimages\"/><defs id=\"topdefs-905d04\"><g class=\"clips\"/></defs><g class=\"layer-above\"><g class=\"imagelayer\"/><g class=\"shapelayer\"/></g><g class=\"infolayer\"><g class=\"g-gtitle\"><text class=\"gtitle\" x=\"35\" y=\"50\" text-anchor=\"start\" dy=\"0em\" style=\"font-family: 'Open Sans', verdana, arial, sans-serif; font-size: 17px; fill: rgb(42, 63, 95); opacity: 1; font-weight: normal; white-space: pre;\">Воронка для сценария</text></g><g class=\"g-ytitle\"/></g></svg>"
      ]
     },
     "metadata": {},
     "output_type": "display_data"
    }
   ],
   "source": [
    "# Создание воронки 3\n",
    "plot_funnel(labels=['Открыл карту объявлений (map) -', \n",
    "                    'Увидел рекомендованные объявления (tips_show) -', \n",
    "                    'Посмотрел номер телефона (contacts_show) -'], \n",
    "            values=[maps, tp_s2, co_s3])\n"
   ]
  },
  {
   "cell_type": "code",
   "execution_count": 55,
   "metadata": {},
   "outputs": [
    {
     "name": "stdout",
     "output_type": "stream",
     "text": [
      "Конверсия по третьему сценарию: 18.89%\n"
     ]
    }
   ],
   "source": [
    "print(f'Конверсия по третьему сценарию: {round(((co_s3/maps)*100), 2)}%')"
   ]
  },
  {
   "cell_type": "markdown",
   "metadata": {},
   "source": [
    "**В итоге:**\n",
    "\n",
    "- Три наиболее популярных сценария действий пользователя в приложении:  \n",
    "1. search - tips_show - contacts_show  \n",
    "2. search - photos_show - contacts_show  \n",
    "3. map - tips_show - contacts_show  \n",
    "\n",
    "- Два сценария начинаются с поиска, что еще раз показывает разницу влияния самостоятельного поиска пользователя и рекомендаций на входе.\n",
    "- Также два сценария в качестве второго шага имеют показ рекомендованных обяъвлений, что логично увидеть после таких действий пользователя, как поиск и открытие карты объявлений. \n",
    "- Наибольшую конверсию от первого до последнего шага показывает третий сценарий (почти 19%), а наименьший - первый сценарий (почти 8%). \n",
    "- На втором шаге наименьшую конверсию показывает просмотр фотографий во втором сценарии;\n",
    "- В третьем сценарии получилось много перешедших пользователей с первого события, однако действие \"увидел рекомендованные объявления\" может быть автоматическим после события \"открыл доску объявлений\". Тогда непонятно, почему у этих событий разница практически в 100 человек. Возможно здесь могли быть технические затруднения.\n"
   ]
  },
  {
   "cell_type": "markdown",
   "metadata": {},
   "source": [
    "### Какие действия чаще совершают те пользователи, которые просматривают контакты  "
   ]
  },
  {
   "cell_type": "markdown",
   "metadata": {},
   "source": [
    "- Рассчитать относительную частоту каждого события в разрезе двух групп пользователей: группа пользователей, которые смотрели контакты `contacts_show` и группа пользователей, которые не смотрели контакты `contacts_show`, и сравнить показатели. "
   ]
  },
  {
   "cell_type": "code",
   "execution_count": 56,
   "metadata": {},
   "outputs": [],
   "source": [
    "# Выделяем данные с пользователями, которые просмотрели контакты\n",
    "cs_yes = data.loc[data['event_name'] == 'contacts_show']"
   ]
  },
  {
   "cell_type": "code",
   "execution_count": 57,
   "metadata": {},
   "outputs": [],
   "source": [
    "# Создаем отдельный столбец с True, False, где True - пользователь просматривал контакты\n",
    "data['contacts_show_yes'] = data['user_id'].isin(cs_yes['user_id'])"
   ]
  },
  {
   "cell_type": "code",
   "execution_count": 58,
   "metadata": {},
   "outputs": [
    {
     "data": {
      "text/html": [
       "<div>\n",
       "<style scoped>\n",
       "    .dataframe tbody tr th:only-of-type {\n",
       "        vertical-align: middle;\n",
       "    }\n",
       "\n",
       "    .dataframe tbody tr th {\n",
       "        vertical-align: top;\n",
       "    }\n",
       "\n",
       "    .dataframe thead th {\n",
       "        text-align: right;\n",
       "    }\n",
       "</style>\n",
       "<table border=\"1\" class=\"dataframe\">\n",
       "  <thead>\n",
       "    <tr style=\"text-align: right;\">\n",
       "      <th></th>\n",
       "      <th>event_time</th>\n",
       "      <th>event_name</th>\n",
       "      <th>user_id</th>\n",
       "      <th>source</th>\n",
       "      <th>date</th>\n",
       "      <th>contacts_show_yes</th>\n",
       "    </tr>\n",
       "  </thead>\n",
       "  <tbody>\n",
       "    <tr>\n",
       "      <th>0</th>\n",
       "      <td>2019-10-07 00:00:00.431357</td>\n",
       "      <td>advert_open</td>\n",
       "      <td>020292ab-89bc-4156-9acf-68bc2783f894</td>\n",
       "      <td>other</td>\n",
       "      <td>2019-10-07</td>\n",
       "      <td>False</td>\n",
       "    </tr>\n",
       "    <tr>\n",
       "      <th>1</th>\n",
       "      <td>2019-10-07 00:00:01.236320</td>\n",
       "      <td>tips_show</td>\n",
       "      <td>020292ab-89bc-4156-9acf-68bc2783f894</td>\n",
       "      <td>other</td>\n",
       "      <td>2019-10-07</td>\n",
       "      <td>False</td>\n",
       "    </tr>\n",
       "    <tr>\n",
       "      <th>2</th>\n",
       "      <td>2019-10-07 00:00:02.245341</td>\n",
       "      <td>tips_show</td>\n",
       "      <td>cf7eda61-9349-469f-ac27-e5b6f5ec475c</td>\n",
       "      <td>yandex</td>\n",
       "      <td>2019-10-07</td>\n",
       "      <td>False</td>\n",
       "    </tr>\n",
       "    <tr>\n",
       "      <th>3</th>\n",
       "      <td>2019-10-07 00:00:07.039334</td>\n",
       "      <td>tips_show</td>\n",
       "      <td>020292ab-89bc-4156-9acf-68bc2783f894</td>\n",
       "      <td>other</td>\n",
       "      <td>2019-10-07</td>\n",
       "      <td>False</td>\n",
       "    </tr>\n",
       "    <tr>\n",
       "      <th>4</th>\n",
       "      <td>2019-10-07 00:00:56.319813</td>\n",
       "      <td>advert_open</td>\n",
       "      <td>cf7eda61-9349-469f-ac27-e5b6f5ec475c</td>\n",
       "      <td>yandex</td>\n",
       "      <td>2019-10-07</td>\n",
       "      <td>False</td>\n",
       "    </tr>\n",
       "  </tbody>\n",
       "</table>\n",
       "</div>"
      ],
      "text/plain": [
       "                  event_time   event_name  \\\n",
       "0 2019-10-07 00:00:00.431357  advert_open   \n",
       "1 2019-10-07 00:00:01.236320    tips_show   \n",
       "2 2019-10-07 00:00:02.245341    tips_show   \n",
       "3 2019-10-07 00:00:07.039334    tips_show   \n",
       "4 2019-10-07 00:00:56.319813  advert_open   \n",
       "\n",
       "                                user_id  source       date  contacts_show_yes  \n",
       "0  020292ab-89bc-4156-9acf-68bc2783f894   other 2019-10-07              False  \n",
       "1  020292ab-89bc-4156-9acf-68bc2783f894   other 2019-10-07              False  \n",
       "2  cf7eda61-9349-469f-ac27-e5b6f5ec475c  yandex 2019-10-07              False  \n",
       "3  020292ab-89bc-4156-9acf-68bc2783f894   other 2019-10-07              False  \n",
       "4  cf7eda61-9349-469f-ac27-e5b6f5ec475c  yandex 2019-10-07              False  "
      ]
     },
     "execution_count": 58,
     "metadata": {},
     "output_type": "execute_result"
    }
   ],
   "source": [
    "# Выводим таблицу\n",
    "data.head()"
   ]
  },
  {
   "cell_type": "code",
   "execution_count": 59,
   "metadata": {},
   "outputs": [
    {
     "data": {
      "text/html": [
       "<div>\n",
       "<style scoped>\n",
       "    .dataframe tbody tr th:only-of-type {\n",
       "        vertical-align: middle;\n",
       "    }\n",
       "\n",
       "    .dataframe tbody tr th {\n",
       "        vertical-align: top;\n",
       "    }\n",
       "\n",
       "    .dataframe thead th {\n",
       "        text-align: right;\n",
       "    }\n",
       "</style>\n",
       "<table border=\"1\" class=\"dataframe\">\n",
       "  <thead>\n",
       "    <tr style=\"text-align: right;\">\n",
       "      <th></th>\n",
       "      <th>event_name</th>\n",
       "      <th>event_count</th>\n",
       "      <th>contacts_show_yes</th>\n",
       "    </tr>\n",
       "  </thead>\n",
       "  <tbody>\n",
       "    <tr>\n",
       "      <th>0</th>\n",
       "      <td>advert_open</td>\n",
       "      <td>6164</td>\n",
       "      <td>1589</td>\n",
       "    </tr>\n",
       "    <tr>\n",
       "      <th>1</th>\n",
       "      <td>contacts_call</td>\n",
       "      <td>541</td>\n",
       "      <td>541</td>\n",
       "    </tr>\n",
       "    <tr>\n",
       "      <th>2</th>\n",
       "      <td>contacts_show</td>\n",
       "      <td>4529</td>\n",
       "      <td>4529</td>\n",
       "    </tr>\n",
       "    <tr>\n",
       "      <th>3</th>\n",
       "      <td>favorites_add</td>\n",
       "      <td>1417</td>\n",
       "      <td>424</td>\n",
       "    </tr>\n",
       "    <tr>\n",
       "      <th>4</th>\n",
       "      <td>map</td>\n",
       "      <td>3881</td>\n",
       "      <td>1101</td>\n",
       "    </tr>\n",
       "    <tr>\n",
       "      <th>5</th>\n",
       "      <td>photos_show</td>\n",
       "      <td>10012</td>\n",
       "      <td>3828</td>\n",
       "    </tr>\n",
       "    <tr>\n",
       "      <th>6</th>\n",
       "      <td>search</td>\n",
       "      <td>6784</td>\n",
       "      <td>2084</td>\n",
       "    </tr>\n",
       "    <tr>\n",
       "      <th>7</th>\n",
       "      <td>tips_click</td>\n",
       "      <td>814</td>\n",
       "      <td>333</td>\n",
       "    </tr>\n",
       "    <tr>\n",
       "      <th>8</th>\n",
       "      <td>tips_show</td>\n",
       "      <td>40055</td>\n",
       "      <td>12768</td>\n",
       "    </tr>\n",
       "  </tbody>\n",
       "</table>\n",
       "</div>"
      ],
      "text/plain": [
       "      event_name  event_count  contacts_show_yes\n",
       "0    advert_open         6164               1589\n",
       "1  contacts_call          541                541\n",
       "2  contacts_show         4529               4529\n",
       "3  favorites_add         1417                424\n",
       "4            map         3881               1101\n",
       "5    photos_show        10012               3828\n",
       "6         search         6784               2084\n",
       "7     tips_click          814                333\n",
       "8      tips_show        40055              12768"
      ]
     },
     "execution_count": 59,
     "metadata": {},
     "output_type": "execute_result"
    }
   ],
   "source": [
    "# Группируем данные по событиям и количеством просмотревших целевое событие\n",
    "cs_count = data.groupby(['event_name']).agg(event_count=('event_name', 'count'),\n",
    "                                        contacts_show_yes=('contacts_show_yes', 'sum')).reset_index()\n",
    "cs_count"
   ]
  },
  {
   "cell_type": "code",
   "execution_count": 60,
   "metadata": {},
   "outputs": [],
   "source": [
    "# Создаем столбец с количество пользователей, не просмотревших контакты по событиям\n",
    "cs_count['contacts_show_not'] = cs_count['event_count'] - cs_count['contacts_show_yes']\n",
    "\n",
    "# Рассчитываем относительную частоту просмотревших контакты по каждому событию\n",
    "cs_count['ratio_yes'] = round(((cs_count['contacts_show_yes']/cs_count['event_count'])*100), 1)\n",
    "\n",
    "# Делаем то же самое с другой группой пользователей\n",
    "cs_count['ratio_not'] = round(((cs_count['contacts_show_not']/cs_count['event_count'])*100), 1)"
   ]
  },
  {
   "cell_type": "code",
   "execution_count": 61,
   "metadata": {},
   "outputs": [
    {
     "data": {
      "text/html": [
       "<div>\n",
       "<style scoped>\n",
       "    .dataframe tbody tr th:only-of-type {\n",
       "        vertical-align: middle;\n",
       "    }\n",
       "\n",
       "    .dataframe tbody tr th {\n",
       "        vertical-align: top;\n",
       "    }\n",
       "\n",
       "    .dataframe thead th {\n",
       "        text-align: right;\n",
       "    }\n",
       "</style>\n",
       "<table border=\"1\" class=\"dataframe\">\n",
       "  <thead>\n",
       "    <tr style=\"text-align: right;\">\n",
       "      <th></th>\n",
       "      <th>event_name</th>\n",
       "      <th>event_count</th>\n",
       "      <th>contacts_show_yes</th>\n",
       "      <th>contacts_show_not</th>\n",
       "      <th>ratio_yes</th>\n",
       "      <th>ratio_not</th>\n",
       "    </tr>\n",
       "  </thead>\n",
       "  <tbody>\n",
       "    <tr>\n",
       "      <th>0</th>\n",
       "      <td>advert_open</td>\n",
       "      <td>6164</td>\n",
       "      <td>1589</td>\n",
       "      <td>4575</td>\n",
       "      <td>25.8</td>\n",
       "      <td>74.2</td>\n",
       "    </tr>\n",
       "    <tr>\n",
       "      <th>1</th>\n",
       "      <td>contacts_call</td>\n",
       "      <td>541</td>\n",
       "      <td>541</td>\n",
       "      <td>0</td>\n",
       "      <td>100.0</td>\n",
       "      <td>0.0</td>\n",
       "    </tr>\n",
       "    <tr>\n",
       "      <th>2</th>\n",
       "      <td>contacts_show</td>\n",
       "      <td>4529</td>\n",
       "      <td>4529</td>\n",
       "      <td>0</td>\n",
       "      <td>100.0</td>\n",
       "      <td>0.0</td>\n",
       "    </tr>\n",
       "    <tr>\n",
       "      <th>3</th>\n",
       "      <td>favorites_add</td>\n",
       "      <td>1417</td>\n",
       "      <td>424</td>\n",
       "      <td>993</td>\n",
       "      <td>29.9</td>\n",
       "      <td>70.1</td>\n",
       "    </tr>\n",
       "    <tr>\n",
       "      <th>4</th>\n",
       "      <td>map</td>\n",
       "      <td>3881</td>\n",
       "      <td>1101</td>\n",
       "      <td>2780</td>\n",
       "      <td>28.4</td>\n",
       "      <td>71.6</td>\n",
       "    </tr>\n",
       "    <tr>\n",
       "      <th>5</th>\n",
       "      <td>photos_show</td>\n",
       "      <td>10012</td>\n",
       "      <td>3828</td>\n",
       "      <td>6184</td>\n",
       "      <td>38.2</td>\n",
       "      <td>61.8</td>\n",
       "    </tr>\n",
       "    <tr>\n",
       "      <th>6</th>\n",
       "      <td>search</td>\n",
       "      <td>6784</td>\n",
       "      <td>2084</td>\n",
       "      <td>4700</td>\n",
       "      <td>30.7</td>\n",
       "      <td>69.3</td>\n",
       "    </tr>\n",
       "    <tr>\n",
       "      <th>7</th>\n",
       "      <td>tips_click</td>\n",
       "      <td>814</td>\n",
       "      <td>333</td>\n",
       "      <td>481</td>\n",
       "      <td>40.9</td>\n",
       "      <td>59.1</td>\n",
       "    </tr>\n",
       "    <tr>\n",
       "      <th>8</th>\n",
       "      <td>tips_show</td>\n",
       "      <td>40055</td>\n",
       "      <td>12768</td>\n",
       "      <td>27287</td>\n",
       "      <td>31.9</td>\n",
       "      <td>68.1</td>\n",
       "    </tr>\n",
       "  </tbody>\n",
       "</table>\n",
       "</div>"
      ],
      "text/plain": [
       "      event_name  event_count  contacts_show_yes  contacts_show_not  \\\n",
       "0    advert_open         6164               1589               4575   \n",
       "1  contacts_call          541                541                  0   \n",
       "2  contacts_show         4529               4529                  0   \n",
       "3  favorites_add         1417                424                993   \n",
       "4            map         3881               1101               2780   \n",
       "5    photos_show        10012               3828               6184   \n",
       "6         search         6784               2084               4700   \n",
       "7     tips_click          814                333                481   \n",
       "8      tips_show        40055              12768              27287   \n",
       "\n",
       "   ratio_yes  ratio_not  \n",
       "0       25.8       74.2  \n",
       "1      100.0        0.0  \n",
       "2      100.0        0.0  \n",
       "3       29.9       70.1  \n",
       "4       28.4       71.6  \n",
       "5       38.2       61.8  \n",
       "6       30.7       69.3  \n",
       "7       40.9       59.1  \n",
       "8       31.9       68.1  "
      ]
     },
     "execution_count": 61,
     "metadata": {},
     "output_type": "execute_result"
    }
   ],
   "source": [
    "# Проверяем\n",
    "cs_count"
   ]
  },
  {
   "cell_type": "code",
   "execution_count": 62,
   "metadata": {},
   "outputs": [
    {
     "data": {
      "text/html": [
       "<div>\n",
       "<style scoped>\n",
       "    .dataframe tbody tr th:only-of-type {\n",
       "        vertical-align: middle;\n",
       "    }\n",
       "\n",
       "    .dataframe tbody tr th {\n",
       "        vertical-align: top;\n",
       "    }\n",
       "\n",
       "    .dataframe thead th {\n",
       "        text-align: right;\n",
       "    }\n",
       "</style>\n",
       "<table border=\"1\" class=\"dataframe\">\n",
       "  <thead>\n",
       "    <tr style=\"text-align: right;\">\n",
       "      <th></th>\n",
       "      <th>event_name</th>\n",
       "      <th>event_count</th>\n",
       "      <th>contacts_show_yes</th>\n",
       "      <th>contacts_show_not</th>\n",
       "      <th>ratio_yes</th>\n",
       "      <th>ratio_not</th>\n",
       "      <th>ratio_gr1</th>\n",
       "      <th>ratio_gr2</th>\n",
       "    </tr>\n",
       "  </thead>\n",
       "  <tbody>\n",
       "    <tr>\n",
       "      <th>0</th>\n",
       "      <td>advert_open</td>\n",
       "      <td>6164</td>\n",
       "      <td>1589</td>\n",
       "      <td>4575</td>\n",
       "      <td>25.8</td>\n",
       "      <td>74.2</td>\n",
       "      <td>5.84</td>\n",
       "      <td>9.73</td>\n",
       "    </tr>\n",
       "    <tr>\n",
       "      <th>1</th>\n",
       "      <td>contacts_call</td>\n",
       "      <td>541</td>\n",
       "      <td>541</td>\n",
       "      <td>0</td>\n",
       "      <td>100.0</td>\n",
       "      <td>0.0</td>\n",
       "      <td>1.99</td>\n",
       "      <td>0.00</td>\n",
       "    </tr>\n",
       "    <tr>\n",
       "      <th>2</th>\n",
       "      <td>contacts_show</td>\n",
       "      <td>4529</td>\n",
       "      <td>4529</td>\n",
       "      <td>0</td>\n",
       "      <td>100.0</td>\n",
       "      <td>0.0</td>\n",
       "      <td>16.65</td>\n",
       "      <td>0.00</td>\n",
       "    </tr>\n",
       "    <tr>\n",
       "      <th>3</th>\n",
       "      <td>favorites_add</td>\n",
       "      <td>1417</td>\n",
       "      <td>424</td>\n",
       "      <td>993</td>\n",
       "      <td>29.9</td>\n",
       "      <td>70.1</td>\n",
       "      <td>1.56</td>\n",
       "      <td>2.11</td>\n",
       "    </tr>\n",
       "    <tr>\n",
       "      <th>4</th>\n",
       "      <td>map</td>\n",
       "      <td>3881</td>\n",
       "      <td>1101</td>\n",
       "      <td>2780</td>\n",
       "      <td>28.4</td>\n",
       "      <td>71.6</td>\n",
       "      <td>4.05</td>\n",
       "      <td>5.91</td>\n",
       "    </tr>\n",
       "    <tr>\n",
       "      <th>5</th>\n",
       "      <td>photos_show</td>\n",
       "      <td>10012</td>\n",
       "      <td>3828</td>\n",
       "      <td>6184</td>\n",
       "      <td>38.2</td>\n",
       "      <td>61.8</td>\n",
       "      <td>14.08</td>\n",
       "      <td>13.16</td>\n",
       "    </tr>\n",
       "    <tr>\n",
       "      <th>6</th>\n",
       "      <td>search</td>\n",
       "      <td>6784</td>\n",
       "      <td>2084</td>\n",
       "      <td>4700</td>\n",
       "      <td>30.7</td>\n",
       "      <td>69.3</td>\n",
       "      <td>7.66</td>\n",
       "      <td>10.00</td>\n",
       "    </tr>\n",
       "    <tr>\n",
       "      <th>7</th>\n",
       "      <td>tips_click</td>\n",
       "      <td>814</td>\n",
       "      <td>333</td>\n",
       "      <td>481</td>\n",
       "      <td>40.9</td>\n",
       "      <td>59.1</td>\n",
       "      <td>1.22</td>\n",
       "      <td>1.02</td>\n",
       "    </tr>\n",
       "    <tr>\n",
       "      <th>8</th>\n",
       "      <td>tips_show</td>\n",
       "      <td>40055</td>\n",
       "      <td>12768</td>\n",
       "      <td>27287</td>\n",
       "      <td>31.9</td>\n",
       "      <td>68.1</td>\n",
       "      <td>46.95</td>\n",
       "      <td>58.06</td>\n",
       "    </tr>\n",
       "  </tbody>\n",
       "</table>\n",
       "</div>"
      ],
      "text/plain": [
       "      event_name  event_count  contacts_show_yes  contacts_show_not  \\\n",
       "0    advert_open         6164               1589               4575   \n",
       "1  contacts_call          541                541                  0   \n",
       "2  contacts_show         4529               4529                  0   \n",
       "3  favorites_add         1417                424                993   \n",
       "4            map         3881               1101               2780   \n",
       "5    photos_show        10012               3828               6184   \n",
       "6         search         6784               2084               4700   \n",
       "7     tips_click          814                333                481   \n",
       "8      tips_show        40055              12768              27287   \n",
       "\n",
       "   ratio_yes  ratio_not  ratio_gr1  ratio_gr2  \n",
       "0       25.8       74.2       5.84       9.73  \n",
       "1      100.0        0.0       1.99       0.00  \n",
       "2      100.0        0.0      16.65       0.00  \n",
       "3       29.9       70.1       1.56       2.11  \n",
       "4       28.4       71.6       4.05       5.91  \n",
       "5       38.2       61.8      14.08      13.16  \n",
       "6       30.7       69.3       7.66      10.00  \n",
       "7       40.9       59.1       1.22       1.02  \n",
       "8       31.9       68.1      46.95      58.06  "
      ]
     },
     "execution_count": 62,
     "metadata": {},
     "output_type": "execute_result"
    }
   ],
   "source": [
    "# Создаем столбец с количество пользователей, не просмотревших контакты по событиям\n",
    "cs_count['ratio_gr1'] = round(\n",
    "    ((cs_count['contacts_show_yes']/cs_count['contacts_show_yes'].sum())*100),2)\n",
    "\n",
    "# Рассчитываем относительную частоту просмотревших контакты по каждому событию\n",
    "cs_count['ratio_gr2'] = round(\n",
    "    ((cs_count['contacts_show_not']/cs_count['contacts_show_not'].sum())*100),2)\n",
    "\n",
    "cs_count"
   ]
  },
  {
   "cell_type": "markdown",
   "metadata": {},
   "source": [
    "В нашей таблице есть два события, которые показывают 100 процентов по группе просмотревших контакты - это само целевое событие и звонок контакту. Логично, что позвонить с приложения нельзя не просмотрев при этом контакт, поэтому и 100 процентов. Однако для нашего сравнения эти два события будут мешать, поэтому уберем их."
   ]
  },
  {
   "cell_type": "code",
   "execution_count": 63,
   "metadata": {},
   "outputs": [],
   "source": [
    "# Убираем contacts_call и contacts_show\n",
    "cs_count = cs_count[(cs_count['event_name'] != 'contacts_call') & (cs_count['event_name'] != 'contacts_show')]"
   ]
  },
  {
   "cell_type": "code",
   "execution_count": 64,
   "metadata": {},
   "outputs": [
    {
     "data": {
      "image/svg+xml": [
       "<svg class=\"main-svg\" xmlns=\"http://www.w3.org/2000/svg\" xmlns:xlink=\"http://www.w3.org/1999/xlink\" width=\"1001.0000000000001\" height=\"660\" style=\"\" viewBox=\"0 0 910 600\"><rect x=\"0\" y=\"0\" width=\"910\" height=\"600\" style=\"fill: rgb(255, 255, 255); fill-opacity: 1;\"/><defs id=\"defs-aa124e\"><g class=\"clips\"><clipPath id=\"clipaa124exyplot\" class=\"plotclip\"><rect width=\"620\" height=\"420\"/></clipPath><clipPath class=\"axesclip\" id=\"clipaa124ex\"><rect x=\"80\" y=\"0\" width=\"620\" height=\"600\"/></clipPath><clipPath class=\"axesclip\" id=\"clipaa124ey\"><rect x=\"0\" y=\"100\" width=\"910\" height=\"420\"/></clipPath><clipPath class=\"axesclip\" id=\"clipaa124exy\"><rect x=\"80\" y=\"100\" width=\"620\" height=\"420\"/></clipPath></g><g class=\"gradients\"/><g class=\"patterns\"/></defs><g class=\"bglayer\"><rect class=\"bg\" x=\"80\" y=\"100\" width=\"620\" height=\"420\" style=\"fill: rgb(237, 237, 237); fill-opacity: 1; stroke-width: 0;\"/></g><g class=\"layer-below\"><g class=\"imagelayer\"/><g class=\"shapelayer\"/></g><g class=\"cartesianlayer\"><g class=\"subplot xy\"><g class=\"layer-subplot\"><g class=\"shapelayer\"/><g class=\"imagelayer\"/></g><g class=\"minor-gridlayer\"><g class=\"x\"/><g class=\"y\"/></g><g class=\"gridlayer\"><g class=\"x\"><path class=\"xgrid crisp\" transform=\"translate(124.28999999999999,0)\" d=\"M0,100v420\" style=\"stroke: rgb(255, 255, 255); stroke-opacity: 1; stroke-width: 1px;\"/><path class=\"xgrid crisp\" transform=\"translate(212.86,0)\" d=\"M0,100v420\" style=\"stroke: rgb(255, 255, 255); stroke-opacity: 1; stroke-width: 1px;\"/><path class=\"xgrid crisp\" transform=\"translate(301.43,0)\" d=\"M0,100v420\" style=\"stroke: rgb(255, 255, 255); stroke-opacity: 1; stroke-width: 1px;\"/><path class=\"xgrid crisp\" transform=\"translate(390,0)\" d=\"M0,100v420\" style=\"stroke: rgb(255, 255, 255); stroke-opacity: 1; stroke-width: 1px;\"/><path class=\"xgrid crisp\" transform=\"translate(478.57,0)\" d=\"M0,100v420\" style=\"stroke: rgb(255, 255, 255); stroke-opacity: 1; stroke-width: 1px;\"/><path class=\"xgrid crisp\" transform=\"translate(567.14,0)\" d=\"M0,100v420\" style=\"stroke: rgb(255, 255, 255); stroke-opacity: 1; stroke-width: 1px;\"/><path class=\"xgrid crisp\" transform=\"translate(655.71,0)\" d=\"M0,100v420\" style=\"stroke: rgb(255, 255, 255); stroke-opacity: 1; stroke-width: 1px;\"/></g><g class=\"y\"><path class=\"ygrid crisp\" transform=\"translate(0,451.28)\" d=\"M80,0h620\" style=\"stroke: rgb(255, 255, 255); stroke-opacity: 1; stroke-width: 1px;\"/><path class=\"ygrid crisp\" transform=\"translate(0,382.56)\" d=\"M80,0h620\" style=\"stroke: rgb(255, 255, 255); stroke-opacity: 1; stroke-width: 1px;\"/><path class=\"ygrid crisp\" transform=\"translate(0,313.83000000000004)\" d=\"M80,0h620\" style=\"stroke: rgb(255, 255, 255); stroke-opacity: 1; stroke-width: 1px;\"/><path class=\"ygrid crisp\" transform=\"translate(0,245.11)\" d=\"M80,0h620\" style=\"stroke: rgb(255, 255, 255); stroke-opacity: 1; stroke-width: 1px;\"/><path class=\"ygrid crisp\" transform=\"translate(0,176.39)\" d=\"M80,0h620\" style=\"stroke: rgb(255, 255, 255); stroke-opacity: 1; stroke-width: 1px;\"/><path class=\"ygrid crisp\" transform=\"translate(0,107.67)\" d=\"M80,0h620\" style=\"stroke: rgb(255, 255, 255); stroke-opacity: 1; stroke-width: 1px;\"/></g></g><g class=\"zerolinelayer\"><path class=\"yzl zl crisp\" transform=\"translate(0,520)\" d=\"M80,0h620\" style=\"stroke: rgb(255, 255, 255); stroke-opacity: 1; stroke-width: 1px;\"/></g><path class=\"xlines-below\"/><path class=\"ylines-below\"/><g class=\"overlines-below\"/><g class=\"xaxislayer-below\"/><g class=\"yaxislayer-below\"/><g class=\"overaxes-below\"/><g class=\"plot\" transform=\"translate(80,100)\" clip-path=\"url(#clipaa124exyplot)\"><g class=\"barlayer mlayer\"><g class=\"trace bars\" style=\"opacity: 1;\"><g class=\"points\"><g class=\"point\"><path d=\"M274.57,420V379.87H310V420Z\" style=\"vector-effect: non-scaling-stroke; opacity: 1; stroke-width: 0.5px; fill: rgb(140, 171, 168); fill-opacity: 1; stroke: rgb(237, 237, 237); stroke-opacity: 1;\"/><text class=\"bartext bartext-inside\" text-anchor=\"middle\" data-notex=\"1\" x=\"0\" y=\"0\" style=\"font-family: 'Open Sans', verdana, arial, sans-serif; font-size: 10px; fill: rgb(68, 68, 68); fill-opacity: 1; white-space: pre;\" transform=\"translate(292.28499999999997,392.87)\">5.84</text></g><g class=\"point\"><path d=\"M451.71,420V409.28H487.14V420Z\" style=\"vector-effect: non-scaling-stroke; opacity: 1; stroke-width: 0.5px; fill: rgb(140, 171, 168); fill-opacity: 1; stroke: rgb(237, 237, 237); stroke-opacity: 1;\"/><text class=\"bartext bartext-outside\" text-anchor=\"middle\" data-notex=\"1\" x=\"0\" y=\"0\" style=\"font-family: 'Open Sans', verdana, arial, sans-serif; font-size: 10px; fill: rgb(51, 51, 51); fill-opacity: 1; white-space: pre;\" transform=\"translate(469.42499999999995,404.28)\">1.56</text></g><g class=\"point\"><path d=\"M363.14,420V392.17H398.57V420Z\" style=\"vector-effect: non-scaling-stroke; opacity: 1; stroke-width: 0.5px; fill: rgb(140, 171, 168); fill-opacity: 1; stroke: rgb(237, 237, 237); stroke-opacity: 1;\"/><text class=\"bartext bartext-inside\" text-anchor=\"middle\" data-notex=\"1\" x=\"0\" y=\"0\" style=\"font-family: 'Open Sans', verdana, arial, sans-serif; font-size: 10px; fill: rgb(68, 68, 68); fill-opacity: 1; white-space: pre;\" transform=\"translate(380.855,405.17)\">4.05</text></g><g class=\"point\"><path d=\"M97.43,420V323.24H132.86V420Z\" style=\"vector-effect: non-scaling-stroke; opacity: 1; stroke-width: 0.5px; fill: rgb(140, 171, 168); fill-opacity: 1; stroke: rgb(237, 237, 237); stroke-opacity: 1;\"/><text class=\"bartext bartext-inside\" text-anchor=\"middle\" data-notex=\"1\" x=\"0\" y=\"0\" style=\"font-family: 'Open Sans', verdana, arial, sans-serif; font-size: 10px; fill: rgb(68, 68, 68); fill-opacity: 1; white-space: pre;\" transform=\"translate(115.14500000000001,336.24)\">14.08</text></g><g class=\"point\"><path d=\"M186,420V367.36H221.43V420Z\" style=\"vector-effect: non-scaling-stroke; opacity: 1; stroke-width: 0.5px; fill: rgb(140, 171, 168); fill-opacity: 1; stroke: rgb(237, 237, 237); stroke-opacity: 1;\"/><text class=\"bartext bartext-inside\" text-anchor=\"middle\" data-notex=\"1\" x=\"0\" y=\"0\" style=\"font-family: 'Open Sans', verdana, arial, sans-serif; font-size: 10px; fill: rgb(68, 68, 68); fill-opacity: 1; white-space: pre;\" transform=\"translate(203.715,380.36)\">7.66</text></g><g class=\"point\"><path d=\"M540.29,420V411.62H575.71V420Z\" style=\"vector-effect: non-scaling-stroke; opacity: 1; stroke-width: 0.5px; fill: rgb(140, 171, 168); fill-opacity: 1; stroke: rgb(237, 237, 237); stroke-opacity: 1;\"/><text class=\"bartext bartext-outside\" text-anchor=\"middle\" data-notex=\"1\" x=\"0\" y=\"0\" style=\"font-family: 'Open Sans', verdana, arial, sans-serif; font-size: 10px; fill: rgb(51, 51, 51); fill-opacity: 1; white-space: pre;\" transform=\"translate(558,406.62)\">1.22</text></g><g class=\"point\"><path d=\"M8.86,420V97.35H44.29V420Z\" style=\"vector-effect: non-scaling-stroke; opacity: 1; stroke-width: 0.5px; fill: rgb(140, 171, 168); fill-opacity: 1; stroke: rgb(237, 237, 237); stroke-opacity: 1;\"/><text class=\"bartext bartext-inside\" text-anchor=\"middle\" data-notex=\"1\" x=\"0\" y=\"0\" style=\"font-family: 'Open Sans', verdana, arial, sans-serif; font-size: 10px; fill: rgb(68, 68, 68); fill-opacity: 1; white-space: pre;\" transform=\"translate(26.575,110.35)\">46.95</text></g></g></g><g class=\"trace bars\" style=\"opacity: 1;\"><g class=\"points\"><g class=\"point\"><path d=\"M310,420V353.13H345.43V420Z\" style=\"vector-effect: non-scaling-stroke; opacity: 1; stroke-width: 0.5px; fill: rgb(68, 92, 109); fill-opacity: 1; stroke: rgb(237, 237, 237); stroke-opacity: 1;\"/><text class=\"bartext bartext-inside\" text-anchor=\"middle\" data-notex=\"1\" x=\"0\" y=\"0\" style=\"font-family: 'Open Sans', verdana, arial, sans-serif; font-size: 10px; fill: rgb(255, 255, 255); fill-opacity: 1; white-space: pre;\" transform=\"translate(327.71500000000003,366.13)\">9.73</text></g><g class=\"point\"><path d=\"M487.14,420V405.5H522.57V420Z\" style=\"vector-effect: non-scaling-stroke; opacity: 1; stroke-width: 0.5px; fill: rgb(68, 92, 109); fill-opacity: 1; stroke: rgb(237, 237, 237); stroke-opacity: 1;\"/><text class=\"bartext bartext-outside\" text-anchor=\"middle\" data-notex=\"1\" x=\"0\" y=\"0\" style=\"font-family: 'Open Sans', verdana, arial, sans-serif; font-size: 10px; fill: rgb(51, 51, 51); fill-opacity: 1; white-space: pre;\" transform=\"translate(504.855,400.5)\">2.11</text></g><g class=\"point\"><path d=\"M398.57,420V379.39H434V420Z\" style=\"vector-effect: non-scaling-stroke; opacity: 1; stroke-width: 0.5px; fill: rgb(68, 92, 109); fill-opacity: 1; stroke: rgb(237, 237, 237); stroke-opacity: 1;\"/><text class=\"bartext bartext-inside\" text-anchor=\"middle\" data-notex=\"1\" x=\"0\" y=\"0\" style=\"font-family: 'Open Sans', verdana, arial, sans-serif; font-size: 10px; fill: rgb(255, 255, 255); fill-opacity: 1; white-space: pre;\" transform=\"translate(416.28499999999997,392.39)\">5.91</text></g><g class=\"point\"><path d=\"M132.86,420V329.56H168.29V420Z\" style=\"vector-effect: non-scaling-stroke; opacity: 1; stroke-width: 0.5px; fill: rgb(68, 92, 109); fill-opacity: 1; stroke: rgb(237, 237, 237); stroke-opacity: 1;\"/><text class=\"bartext bartext-inside\" text-anchor=\"middle\" data-notex=\"1\" x=\"0\" y=\"0\" style=\"font-family: 'Open Sans', verdana, arial, sans-serif; font-size: 10px; fill: rgb(255, 255, 255); fill-opacity: 1; white-space: pre;\" transform=\"translate(150.575,342.56)\">13.16</text></g><g class=\"point\"><path d=\"M221.43,420V351.28H256.86V420Z\" style=\"vector-effect: non-scaling-stroke; opacity: 1; stroke-width: 0.5px; fill: rgb(68, 92, 109); fill-opacity: 1; stroke: rgb(237, 237, 237); stroke-opacity: 1;\"/><text class=\"bartext bartext-inside\" text-anchor=\"middle\" data-notex=\"1\" x=\"0\" y=\"0\" style=\"font-family: 'Open Sans', verdana, arial, sans-serif; font-size: 10px; fill: rgb(255, 255, 255); fill-opacity: 1; white-space: pre;\" transform=\"translate(239.145,364.28)\">10</text></g><g class=\"point\"><path d=\"M575.71,420V412.99H611.14V420Z\" style=\"vector-effect: non-scaling-stroke; opacity: 1; stroke-width: 0.5px; fill: rgb(68, 92, 109); fill-opacity: 1; stroke: rgb(237, 237, 237); stroke-opacity: 1;\"/><text class=\"bartext bartext-outside\" text-anchor=\"middle\" data-notex=\"1\" x=\"0\" y=\"0\" style=\"font-family: 'Open Sans', verdana, arial, sans-serif; font-size: 10px; fill: rgb(51, 51, 51); fill-opacity: 1; white-space: pre;\" transform=\"translate(593.425,407.99)\">1.02</text></g><g class=\"point\"><path d=\"M44.29,420V21H79.71V420Z\" style=\"vector-effect: non-scaling-stroke; opacity: 1; stroke-width: 0.5px; fill: rgb(68, 92, 109); fill-opacity: 1; stroke: rgb(237, 237, 237); stroke-opacity: 1;\"/><text class=\"bartext bartext-inside\" text-anchor=\"middle\" data-notex=\"1\" x=\"0\" y=\"0\" style=\"font-family: 'Open Sans', verdana, arial, sans-serif; font-size: 10px; fill: rgb(255, 255, 255); fill-opacity: 1; white-space: pre;\" transform=\"translate(62,34)\">58.06</text></g></g></g></g></g><g class=\"overplot\"/><path class=\"xlines-above crisp\" d=\"\" style=\"fill: none; stroke-width: 1px; stroke: rgb(0, 0, 0); stroke-opacity: 0;\"/><path class=\"ylines-above crisp\" d=\"\" style=\"fill: none; stroke-width: 1px; stroke: rgb(0, 0, 0); stroke-opacity: 0;\"/><g class=\"overlines-above\"/><g class=\"xaxislayer-above\"><path class=\"xtick ticks crisp\" d=\"M0,521v5\" transform=\"translate(124.28999999999999,0)\" style=\"stroke: rgb(51, 51, 51); stroke-opacity: 1; stroke-width: 1px;\"/><path class=\"xtick ticks crisp\" d=\"M0,521v5\" transform=\"translate(212.86,0)\" style=\"stroke: rgb(51, 51, 51); stroke-opacity: 1; stroke-width: 1px;\"/><path class=\"xtick ticks crisp\" d=\"M0,521v5\" transform=\"translate(301.43,0)\" style=\"stroke: rgb(51, 51, 51); stroke-opacity: 1; stroke-width: 1px;\"/><path class=\"xtick ticks crisp\" d=\"M0,521v5\" transform=\"translate(390,0)\" style=\"stroke: rgb(51, 51, 51); stroke-opacity: 1; stroke-width: 1px;\"/><path class=\"xtick ticks crisp\" d=\"M0,521v5\" transform=\"translate(478.57,0)\" style=\"stroke: rgb(51, 51, 51); stroke-opacity: 1; stroke-width: 1px;\"/><path class=\"xtick ticks crisp\" d=\"M0,521v5\" transform=\"translate(567.14,0)\" style=\"stroke: rgb(51, 51, 51); stroke-opacity: 1; stroke-width: 1px;\"/><path class=\"xtick ticks crisp\" d=\"M0,521v5\" transform=\"translate(655.71,0)\" style=\"stroke: rgb(51, 51, 51); stroke-opacity: 1; stroke-width: 1px;\"/><g class=\"xtick\"><text text-anchor=\"middle\" x=\"0\" y=\"540.4\" transform=\"translate(124.28999999999999,0)\" style=\"font-family: 'Open Sans', verdana, arial, sans-serif; font-size: 12px; fill: rgb(51, 51, 51); fill-opacity: 1; white-space: pre; opacity: 1;\">tips_show</text></g><g class=\"xtick\"><text text-anchor=\"middle\" x=\"0\" y=\"540.4\" transform=\"translate(212.86,0)\" style=\"font-family: 'Open Sans', verdana, arial, sans-serif; font-size: 12px; fill: rgb(51, 51, 51); fill-opacity: 1; white-space: pre; opacity: 1;\">photos_show</text></g><g class=\"xtick\"><text text-anchor=\"middle\" x=\"0\" y=\"540.4\" transform=\"translate(301.43,0)\" style=\"font-family: 'Open Sans', verdana, arial, sans-serif; font-size: 12px; fill: rgb(51, 51, 51); fill-opacity: 1; white-space: pre; opacity: 1;\">search</text></g><g class=\"xtick\"><text text-anchor=\"middle\" x=\"0\" y=\"540.4\" transform=\"translate(390,0)\" style=\"font-family: 'Open Sans', verdana, arial, sans-serif; font-size: 12px; fill: rgb(51, 51, 51); fill-opacity: 1; white-space: pre; opacity: 1;\">advert_open</text></g><g class=\"xtick\"><text text-anchor=\"middle\" x=\"0\" y=\"540.4\" transform=\"translate(478.57,0)\" style=\"font-family: 'Open Sans', verdana, arial, sans-serif; font-size: 12px; fill: rgb(51, 51, 51); fill-opacity: 1; white-space: pre; opacity: 1;\">map</text></g><g class=\"xtick\"><text text-anchor=\"middle\" x=\"0\" y=\"540.4\" transform=\"translate(567.14,0)\" style=\"font-family: 'Open Sans', verdana, arial, sans-serif; font-size: 12px; fill: rgb(51, 51, 51); fill-opacity: 1; white-space: pre; opacity: 1;\">favorites_add</text></g><g class=\"xtick\"><text text-anchor=\"middle\" x=\"0\" y=\"540.4\" transform=\"translate(655.71,0)\" style=\"font-family: 'Open Sans', verdana, arial, sans-serif; font-size: 12px; fill: rgb(51, 51, 51); fill-opacity: 1; white-space: pre; opacity: 1;\">tips_click</text></g></g><g class=\"yaxislayer-above\"><path class=\"ytick ticks crisp\" d=\"M79,0h-5\" transform=\"translate(0,520)\" style=\"stroke: rgb(51, 51, 51); stroke-opacity: 1; stroke-width: 1px;\"/><path class=\"ytick ticks crisp\" d=\"M79,0h-5\" transform=\"translate(0,451.28)\" style=\"stroke: rgb(51, 51, 51); stroke-opacity: 1; stroke-width: 1px;\"/><path class=\"ytick ticks crisp\" d=\"M79,0h-5\" transform=\"translate(0,382.56)\" style=\"stroke: rgb(51, 51, 51); stroke-opacity: 1; stroke-width: 1px;\"/><path class=\"ytick ticks crisp\" d=\"M79,0h-5\" transform=\"translate(0,313.83000000000004)\" style=\"stroke: rgb(51, 51, 51); stroke-opacity: 1; stroke-width: 1px;\"/><path class=\"ytick ticks crisp\" d=\"M79,0h-5\" transform=\"translate(0,245.11)\" style=\"stroke: rgb(51, 51, 51); stroke-opacity: 1; stroke-width: 1px;\"/><path class=\"ytick ticks crisp\" d=\"M79,0h-5\" transform=\"translate(0,176.39)\" style=\"stroke: rgb(51, 51, 51); stroke-opacity: 1; stroke-width: 1px;\"/><path class=\"ytick ticks crisp\" d=\"M79,0h-5\" transform=\"translate(0,107.67)\" style=\"stroke: rgb(51, 51, 51); stroke-opacity: 1; stroke-width: 1px;\"/><g class=\"ytick\"><text text-anchor=\"end\" x=\"71.6\" y=\"4.199999999999999\" transform=\"translate(0,520)\" style=\"font-family: 'Open Sans', verdana, arial, sans-serif; font-size: 12px; fill: rgb(51, 51, 51); fill-opacity: 1; white-space: pre; opacity: 1;\">0</text></g><g class=\"ytick\"><text text-anchor=\"end\" x=\"71.6\" y=\"4.199999999999999\" style=\"font-family: 'Open Sans', verdana, arial, sans-serif; font-size: 12px; fill: rgb(51, 51, 51); fill-opacity: 1; white-space: pre; opacity: 1;\" transform=\"translate(0,451.28)\">10</text></g><g class=\"ytick\"><text text-anchor=\"end\" x=\"71.6\" y=\"4.199999999999999\" style=\"font-family: 'Open Sans', verdana, arial, sans-serif; font-size: 12px; fill: rgb(51, 51, 51); fill-opacity: 1; white-space: pre; opacity: 1;\" transform=\"translate(0,382.56)\">20</text></g><g class=\"ytick\"><text text-anchor=\"end\" x=\"71.6\" y=\"4.199999999999999\" style=\"font-family: 'Open Sans', verdana, arial, sans-serif; font-size: 12px; fill: rgb(51, 51, 51); fill-opacity: 1; white-space: pre; opacity: 1;\" transform=\"translate(0,313.83000000000004)\">30</text></g><g class=\"ytick\"><text text-anchor=\"end\" x=\"71.6\" y=\"4.199999999999999\" style=\"font-family: 'Open Sans', verdana, arial, sans-serif; font-size: 12px; fill: rgb(51, 51, 51); fill-opacity: 1; white-space: pre; opacity: 1;\" transform=\"translate(0,245.11)\">40</text></g><g class=\"ytick\"><text text-anchor=\"end\" x=\"71.6\" y=\"4.199999999999999\" style=\"font-family: 'Open Sans', verdana, arial, sans-serif; font-size: 12px; fill: rgb(51, 51, 51); fill-opacity: 1; white-space: pre; opacity: 1;\" transform=\"translate(0,176.39)\">50</text></g><g class=\"ytick\"><text text-anchor=\"end\" x=\"71.6\" y=\"4.199999999999999\" style=\"font-family: 'Open Sans', verdana, arial, sans-serif; font-size: 12px; fill: rgb(51, 51, 51); fill-opacity: 1; white-space: pre; opacity: 1;\" transform=\"translate(0,107.67)\">60</text></g></g><g class=\"overaxes-above\"/></g></g><g class=\"polarlayer\"/><g class=\"smithlayer\"/><g class=\"ternarylayer\"/><g class=\"geolayer\"/><g class=\"funnelarealayer\"/><g class=\"pielayer\"/><g class=\"iciclelayer\"/><g class=\"treemaplayer\"/><g class=\"sunburstlayer\"/><g class=\"glimages\"/><defs id=\"topdefs-aa124e\"><g class=\"clips\"/><clipPath id=\"legendaa124e\"><rect width=\"186\" height=\"48\" x=\"0\" y=\"0\"/></clipPath></defs><g class=\"layer-above\"><g class=\"imagelayer\"/><g class=\"shapelayer\"/></g><g class=\"infolayer\"><g class=\"legend\" pointer-events=\"all\" transform=\"translate(712.4,100)\"><rect class=\"bg\" shape-rendering=\"crispEdges\" style=\"stroke: rgb(68, 68, 68); stroke-opacity: 1; fill: rgb(255, 255, 255); fill-opacity: 1; stroke-width: 0px;\" width=\"186\" height=\"48\" x=\"0\" y=\"0\"/><g class=\"scrollbox\" transform=\"\" clip-path=\"url(#legendaa124e)\"><g class=\"groups\"><g class=\"traces\" transform=\"translate(0,14.5)\" style=\"opacity: 1;\"><text class=\"legendtext\" text-anchor=\"start\" x=\"40\" y=\"4.680000000000001\" style=\"font-family: 'Open Sans', verdana, arial, sans-serif; font-size: 12px; fill: rgb(51, 51, 51); fill-opacity: 1; white-space: pre;\">Cмотрели контакты</text><g class=\"layers\" style=\"opacity: 1;\"><g class=\"legendfill\"/><g class=\"legendlines\"/><g class=\"legendsymbols\"><g class=\"legendpoints\"><path class=\"legendundefined\" d=\"M6,6H-6V-6H6Z\" transform=\"translate(20,0)\" style=\"stroke-width: 0.5px; fill: rgb(140, 171, 168); fill-opacity: 1; stroke: rgb(237, 237, 237); stroke-opacity: 1;\"/></g></g></g><rect class=\"legendtoggle\" x=\"0\" y=\"-9.5\" width=\"180.140625\" height=\"19\" style=\"fill: rgb(0, 0, 0); fill-opacity: 0;\"/></g><g class=\"traces\" transform=\"translate(0,33.5)\" style=\"opacity: 1;\"><text class=\"legendtext\" text-anchor=\"start\" x=\"40\" y=\"4.680000000000001\" style=\"font-family: 'Open Sans', verdana, arial, sans-serif; font-size: 12px; fill: rgb(51, 51, 51); fill-opacity: 1; white-space: pre;\">Не смотрели контакты</text><g class=\"layers\" style=\"opacity: 1;\"><g class=\"legendfill\"/><g class=\"legendlines\"/><g class=\"legendsymbols\"><g class=\"legendpoints\"><path class=\"legendundefined\" d=\"M6,6H-6V-6H6Z\" transform=\"translate(20,0)\" style=\"stroke-width: 0.5px; fill: rgb(68, 92, 109); fill-opacity: 1; stroke: rgb(237, 237, 237); stroke-opacity: 1;\"/></g></g></g><rect class=\"legendtoggle\" x=\"0\" y=\"-9.5\" width=\"180.140625\" height=\"19\" style=\"fill: rgb(0, 0, 0); fill-opacity: 0;\"/></g></g></g><rect class=\"scrollbar\" rx=\"20\" ry=\"3\" width=\"0\" height=\"0\" style=\"fill: rgb(128, 139, 164); fill-opacity: 1;\" x=\"0\" y=\"0\"/></g><g class=\"g-gtitle\"><text class=\"gtitle\" x=\"455\" y=\"50\" text-anchor=\"middle\" dy=\"0em\" style=\"font-family: 'Open Sans', verdana, arial, sans-serif; font-size: 17px; fill: rgb(0, 166, 147); opacity: 1; font-weight: normal; white-space: pre;\">Относительная частота событий внутри каждой группы: смотревших и несмотревших контакты</text></g><g class=\"g-xtitle\"><text class=\"xtitle\" x=\"390\" y=\"582.70625\" text-anchor=\"middle\" style=\"font-family: 'Open Sans', verdana, arial, sans-serif; font-size: 14px; fill: rgb(0, 166, 147); opacity: 1; font-weight: normal; white-space: pre;\">Событие</text></g><g class=\"g-ytitle\"><text class=\"ytitle\" transform=\"rotate(-90,16.528125000000003,310)\" x=\"16.528125000000003\" y=\"310\" text-anchor=\"middle\" style=\"font-family: 'Open Sans', verdana, arial, sans-serif; font-size: 14px; fill: rgb(0, 166, 147); opacity: 1; font-weight: normal; white-space: pre;\">Процент</text></g></g></svg>"
      ]
     },
     "metadata": {},
     "output_type": "display_data"
    }
   ],
   "source": [
    "# Строим график\n",
    "fig = go.Figure()\n",
    "fig.add_trace(go.Bar(x=cs_count['event_name'], y=cs_count['ratio_gr1'], \n",
    "                     name='Cмотрели контакты', marker_color='#8caba8', text=cs_count['ratio_gr1']))\n",
    "fig.add_trace(go.Bar(x=cs_count['event_name'], y=cs_count['ratio_gr2'], \n",
    "                     name='Не смотрели контакты', marker_color='#445c6d', text=cs_count['ratio_gr2']))\n",
    "\n",
    "fig.update_layout(\n",
    "    title='Относительная частота событий внутри каждой группы: смотревших и несмотревших контакты',\n",
    "    xaxis_title='Событие',\n",
    "    yaxis_title='Процент',\n",
    "    template='ggplot2',\n",
    "    xaxis_title_font=dict(color='#00a693'),  \n",
    "    yaxis_title_font=dict(color='#00a693'), \n",
    "    title_font=dict(color='#00a693'),\n",
    "    xaxis_title_standoff=30,\n",
    "    yaxis_title_standoff=30,\n",
    "    height=600,\n",
    "    width=910,\n",
    "    xaxis={'categoryorder': 'total descending'})\n",
    "fig.update_traces(textfont=dict(size=10))\n",
    "fig.show()"
   ]
  },
  {
   "cell_type": "markdown",
   "metadata": {},
   "source": [
    "В итоге мы видим, что по каждому событию по большей части лидирует группа пользователей, которые так и не посмотрели контакты в объявлениях. Однако другая ситуация представлена по событиям \"просмотрел фото\" и \"кликнул на рекомендованное объявление\". Наибольшая разница между группами наблюдается по событию tips_show (\"увидел рекомендованные объявления\")."
   ]
  },
  {
   "cell_type": "markdown",
   "metadata": {},
   "source": [
    "### Вывод"
   ]
  },
  {
   "cell_type": "markdown",
   "metadata": {},
   "source": [
    "<div class=\"alert alert-info\" style=\"border-color: lavender; border-radius: 10px; background-color: lavender;\"> \n",
    "    <font color = 'black'> \n",
    "        \n",
    "Мы выявили три сценария, которые могут сказать нам о том, как примерно предпочитают действовать пользователи в приложении. Чаще всего они предпочитают самостоятельный поиск и до целевого чаще добираются в два шага (search - tips_show - contacts_show / search - photos_show - contacts_show / map - tips_show - contacts_show).    \n",
    "Два сценария в качестве первого шага имеют поиск, и в качестве второго шага - показ рекомендованных обяъвлений, что логично увидеть после таких действий пользователя, как поиск и открытие карты объявлений. \n",
    "Наибольшую конверсию от первого до последнего шага показывает третий сценарий (почти 19%), а наименьший - первый сценарий (почти 8%). \n",
    "На втором шаге наименьшую конверсию показывает просмотр фотографий во втором сценарии;\n",
    "Наибольшую конверсию от первого до последнего шага показывает третий сценарий, согласно которому пользователи начинают с открытия карты объявлений и просмотра рекомендованных объявлений.  \n",
    "По каждому событию по большей части лидирует группа пользователей, которые так и не посмотрели контакты в объявлениях. Наибольшая разница между группами наблюдается по событию tips_show (\"увидел рекомендованные объявления\")."
   ]
  },
  {
   "cell_type": "markdown",
   "metadata": {},
   "source": [
    "## Проверка гипотез"
   ]
  },
  {
   "cell_type": "markdown",
   "metadata": {},
   "source": [
    "### Гипотеза 1"
   ]
  },
  {
   "cell_type": "markdown",
   "metadata": {},
   "source": [
    "- **Конверсия в просмотры контактов различается у групп, где пользователи совершают действия tips_show (увидел рекомендованные объявления) и tips_click (кликнул по рекомендованному объявлению) и где пользователи совершают только tips_show**"
   ]
  },
  {
   "cell_type": "markdown",
   "metadata": {},
   "source": [
    "Нулевая гипотеза - конверсии существенно не различаются   \n",
    "Альтернативная гипотеза - конверсии различаются"
   ]
  },
  {
   "cell_type": "code",
   "execution_count": 65,
   "metadata": {},
   "outputs": [],
   "source": [
    "# Создадим таблицу, где будут пользователи, которые совершили только tips_show \n",
    "gr1 = data.groupby('user_id').filter(\n",
    "    lambda x: 'tips_show' in x['event_name'].values and 'tips_click' not in x['event_name'].values\n",
    ")"
   ]
  },
  {
   "cell_type": "code",
   "execution_count": 66,
   "metadata": {},
   "outputs": [],
   "source": [
    "# Создадим таблицу, где будут пользователи, которые совершили и tips_show, и tips_click\n",
    "gr2 = data.groupby('user_id').filter(\n",
    "    lambda x: 'tips_show' in x['event_name'].values and 'tips_click' in x['event_name'].values\n",
    ")"
   ]
  },
  {
   "cell_type": "code",
   "execution_count": 67,
   "metadata": {},
   "outputs": [],
   "source": [
    "unique_users_one = gr1['user_id'].nunique()\n",
    "cos_one = gr1[gr1[\"event_name\"] == \"contacts_show\"]['user_id'].nunique()"
   ]
  },
  {
   "cell_type": "code",
   "execution_count": 68,
   "metadata": {},
   "outputs": [],
   "source": [
    "unique_users_two = gr2['user_id'].nunique()\n",
    "cos_two = gr2[gr2[\"event_name\"] == \"contacts_show\"]['user_id'].nunique()"
   ]
  },
  {
   "cell_type": "code",
   "execution_count": 69,
   "metadata": {},
   "outputs": [
    {
     "name": "stdout",
     "output_type": "stream",
     "text": [
      "Количество пользователей по группе только с tips_show: 2504 \n",
      "Количество пользователей с целевым событием в группе только с tips_show: 425\n"
     ]
    }
   ],
   "source": [
    "print(f'Количество пользователей по группе только с tips_show: {unique_users_one}', '\\n'\n",
    "      f'Количество пользователей с целевым событием в группе только с tips_show: {cos_one}'\n",
    ")"
   ]
  },
  {
   "cell_type": "code",
   "execution_count": 70,
   "metadata": {},
   "outputs": [
    {
     "name": "stdout",
     "output_type": "stream",
     "text": [
      "Количество данных по группе с tips_show и с tips_click: 297 \n",
      "Количество целевого события по группе с tips_show и с tips_click: 91\n"
     ]
    }
   ],
   "source": [
    "print(f'Количество данных по группе с tips_show и с tips_click: {unique_users_two}', '\\n'\n",
    "      f'Количество целевого события по группе с tips_show и с tips_click: {cos_two}'\n",
    ")"
   ]
  },
  {
   "cell_type": "code",
   "execution_count": 71,
   "metadata": {},
   "outputs": [
    {
     "data": {
      "text/html": [
       "<div>\n",
       "<style scoped>\n",
       "    .dataframe tbody tr th:only-of-type {\n",
       "        vertical-align: middle;\n",
       "    }\n",
       "\n",
       "    .dataframe tbody tr th {\n",
       "        vertical-align: top;\n",
       "    }\n",
       "\n",
       "    .dataframe thead th {\n",
       "        text-align: right;\n",
       "    }\n",
       "</style>\n",
       "<table border=\"1\" class=\"dataframe\">\n",
       "  <thead>\n",
       "    <tr style=\"text-align: right;\">\n",
       "      <th></th>\n",
       "      <th>group</th>\n",
       "      <th>total</th>\n",
       "      <th>contacts_show</th>\n",
       "    </tr>\n",
       "  </thead>\n",
       "  <tbody>\n",
       "    <tr>\n",
       "      <th>0</th>\n",
       "      <td>tips_show</td>\n",
       "      <td>2504</td>\n",
       "      <td>425</td>\n",
       "    </tr>\n",
       "    <tr>\n",
       "      <th>1</th>\n",
       "      <td>tips_show/tips_click</td>\n",
       "      <td>297</td>\n",
       "      <td>91</td>\n",
       "    </tr>\n",
       "  </tbody>\n",
       "</table>\n",
       "</div>"
      ],
      "text/plain": [
       "                  group  total  contacts_show\n",
       "0             tips_show   2504            425\n",
       "1  tips_show/tips_click    297             91"
      ]
     },
     "execution_count": 71,
     "metadata": {},
     "output_type": "execute_result"
    }
   ],
   "source": [
    "# Cоздадим таблицу из полученных данных\n",
    "data_h = {'group': ['tips_show', 'tips_show/tips_click'],\n",
    "        'total': [unique_users_one, unique_users_two],\n",
    "        'contacts_show': [cos_one, cos_two]}\n",
    "\n",
    "df = pd.DataFrame(data_h)\n",
    "df"
   ]
  },
  {
   "cell_type": "markdown",
   "metadata": {},
   "source": [
    "Cоздадим функцию для проверки гипотезы. Примем alpha = 5%, так как это наиболее оптимальный вариант. Он обеспечивает баланс между достаточной чувствительностью для обнаружения статистически значимых результатов."
   ]
  },
  {
   "cell_type": "code",
   "execution_count": 72,
   "metadata": {},
   "outputs": [],
   "source": [
    "# Cоздадим функцию для проверки\n",
    "def compare_group(purchases, leads):\n",
    "    alpha = 0.05\n",
    "    \n",
    "    # Пропорция успехов в первой группе\n",
    "    p1 = purchases[0]/leads[0]\n",
    "    \n",
    "    # Пропорция успехов во второй группе\n",
    "    p2 = purchases[1]/leads[1]\n",
    "    \n",
    "    # Пропорция успехов в комбинированном датасете\n",
    "    p_comb = (purchases[0] + purchases[1]) / (leads[0] + leads[1])\n",
    "    \n",
    "    # Разница пропорций в датасетах\n",
    "    difference = p1 - p2\n",
    "    \n",
    "    # Считаем статистику в статистических отклонениях стандартного нормального распределения\n",
    "    z_value = difference / mth.sqrt(p_comb * (1 - p_comb) * (1/leads[0] + 1/leads[1]))\n",
    "    \n",
    "    # Задаем стандартное нормальное распределение (среднее 0, стандартное отклонение 1)\n",
    "    distr = st.norm(0, 1)\n",
    "    \n",
    "    p_value = (1 - distr.cdf(abs(z_value))) * 2\n",
    "    \n",
    "    print('p-значение: ', p_value)\n",
    "    \n",
    "    if p_value < alpha:\n",
    "        print('Отвергаем нулевую гипотезу: между долями есть значимая разница')\n",
    "    else:\n",
    "        print(\n",
    "        'Не получилось отвергнуть нулевую гипотезу, нет оснований считать доли разными'\n",
    "        ) "
   ]
  },
  {
   "cell_type": "code",
   "execution_count": 73,
   "metadata": {},
   "outputs": [
    {
     "name": "stdout",
     "output_type": "stream",
     "text": [
      "p-значение:  9.218316554537864e-09\n",
      "Отвергаем нулевую гипотезу: между долями есть значимая разница\n"
     ]
    }
   ],
   "source": [
    "compare_group(\n",
    "    [df.loc[0]['contacts_show'], df.loc[1]['contacts_show']],\n",
    "    [df.loc[0]['total'], df.loc[1]['total']]\n",
    ")"
   ]
  },
  {
   "cell_type": "markdown",
   "metadata": {},
   "source": [
    "Гипотеза 1 подтвердилась. Конверсия в просмотры контактов **различается** у групп, где пользователи совершают действия tips_show (увидел рекомендованные объявления) и tips_click (кликнул по рекомендованному объявлению) и где пользователи совершают только tips_show."
   ]
  },
  {
   "cell_type": "markdown",
   "metadata": {},
   "source": [
    "### Гипотеза 2"
   ]
  },
  {
   "cell_type": "markdown",
   "metadata": {},
   "source": [
    "- **Конверсия в просмотры контактов различается у групп, где пользователи совершают действиe favorites_add (добавление в избранное) и где они его не совершают**"
   ]
  },
  {
   "cell_type": "markdown",
   "metadata": {},
   "source": [
    "Нулевая гипотеза - конверсии существенно не различаются   \n",
    "Альтернативная гипотеза - конверсии различаются"
   ]
  },
  {
   "cell_type": "code",
   "execution_count": 74,
   "metadata": {},
   "outputs": [],
   "source": [
    "# Создадим таблицу, где будут пользователи, которые совершили действие favorites_add\n",
    "fav_yes = data.groupby('user_id').filter(\n",
    "    lambda x: 'favorites_add' in x['event_name'].values\n",
    ")"
   ]
  },
  {
   "cell_type": "code",
   "execution_count": 75,
   "metadata": {},
   "outputs": [],
   "source": [
    "# Создадим таблицу, где будут пользователи, которые не совершили действие favorites_add\n",
    "fav_no = data.groupby('user_id').filter(\n",
    "    lambda x: 'favorites_add' not in x['event_name'].values\n",
    ")"
   ]
  },
  {
   "cell_type": "code",
   "execution_count": 76,
   "metadata": {},
   "outputs": [],
   "source": [
    "unique_users_fav = fav_yes['user_id'].nunique()\n",
    "fav_one = fav_yes[fav_yes[\"event_name\"] == \"contacts_show\"]['user_id'].nunique()"
   ]
  },
  {
   "cell_type": "code",
   "execution_count": 77,
   "metadata": {},
   "outputs": [],
   "source": [
    "unique_users_favno = fav_no['user_id'].nunique()\n",
    "favno_two = fav_no[fav_no[\"event_name\"] == \"contacts_show\"]['user_id'].nunique()"
   ]
  },
  {
   "cell_type": "code",
   "execution_count": 78,
   "metadata": {},
   "outputs": [
    {
     "name": "stdout",
     "output_type": "stream",
     "text": [
      "Количество данных по группе с favorites_add: 351 \n",
      "Количество целевого события в группе с favorites_add: 136\n"
     ]
    }
   ],
   "source": [
    "print(f'Количество данных по группе с favorites_add: {unique_users_fav}', '\\n'\n",
    "      f'Количество целевого события в группе с favorites_add: {fav_one}'\n",
    ")"
   ]
  },
  {
   "cell_type": "code",
   "execution_count": 79,
   "metadata": {},
   "outputs": [
    {
     "name": "stdout",
     "output_type": "stream",
     "text": [
      "Количество данных по группе без favorites_add: 3942 \n",
      "Количество целевого события по группе без favorites_add: 845\n"
     ]
    }
   ],
   "source": [
    "print(f'Количество данных по группе без favorites_add: {unique_users_favno}', '\\n'\n",
    "      f'Количество целевого события по группе без favorites_add: {favno_two}'\n",
    ")"
   ]
  },
  {
   "cell_type": "code",
   "execution_count": 80,
   "metadata": {},
   "outputs": [
    {
     "data": {
      "text/html": [
       "<div>\n",
       "<style scoped>\n",
       "    .dataframe tbody tr th:only-of-type {\n",
       "        vertical-align: middle;\n",
       "    }\n",
       "\n",
       "    .dataframe tbody tr th {\n",
       "        vertical-align: top;\n",
       "    }\n",
       "\n",
       "    .dataframe thead th {\n",
       "        text-align: right;\n",
       "    }\n",
       "</style>\n",
       "<table border=\"1\" class=\"dataframe\">\n",
       "  <thead>\n",
       "    <tr style=\"text-align: right;\">\n",
       "      <th></th>\n",
       "      <th>group</th>\n",
       "      <th>total</th>\n",
       "      <th>contacts_show</th>\n",
       "    </tr>\n",
       "  </thead>\n",
       "  <tbody>\n",
       "    <tr>\n",
       "      <th>0</th>\n",
       "      <td>fav_yes</td>\n",
       "      <td>351</td>\n",
       "      <td>136</td>\n",
       "    </tr>\n",
       "    <tr>\n",
       "      <th>1</th>\n",
       "      <td>fav_no</td>\n",
       "      <td>3942</td>\n",
       "      <td>845</td>\n",
       "    </tr>\n",
       "  </tbody>\n",
       "</table>\n",
       "</div>"
      ],
      "text/plain": [
       "     group  total  contacts_show\n",
       "0  fav_yes    351            136\n",
       "1   fav_no   3942            845"
      ]
     },
     "execution_count": 80,
     "metadata": {},
     "output_type": "execute_result"
    }
   ],
   "source": [
    "# Cоздадим таблицу из полученных данных\n",
    "data_n = {'group': ['fav_yes', 'fav_no'],\n",
    "        'total': [unique_users_fav, unique_users_favno],\n",
    "        'contacts_show': [fav_one, favno_two]}\n",
    "\n",
    "df_2 = pd.DataFrame(data_n)\n",
    "df_2"
   ]
  },
  {
   "cell_type": "code",
   "execution_count": 81,
   "metadata": {},
   "outputs": [
    {
     "name": "stdout",
     "output_type": "stream",
     "text": [
      "p-значение:  1.3455903058456897e-13\n",
      "Отвергаем нулевую гипотезу: между долями есть значимая разница\n"
     ]
    }
   ],
   "source": [
    "compare_group(\n",
    "    [df_2.loc[0]['contacts_show'], df_2.loc[1]['contacts_show']],\n",
    "    [df_2.loc[0]['total'], df_2.loc[1]['total']]\n",
    ")"
   ]
  },
  {
   "cell_type": "markdown",
   "metadata": {},
   "source": [
    "Гипотеза 2 подтвердилась. Конверсия в просмотры контактов **различается** у групп, где пользователи совершают действиe favorites_add (добавление в избранное) и где они его не совершают."
   ]
  },
  {
   "cell_type": "markdown",
   "metadata": {},
   "source": [
    "## Выводы и рекомендации"
   ]
  },
  {
   "cell_type": "markdown",
   "metadata": {},
   "source": [
    "<div class=\"alert alert-info\" style=\"border-color: lavender; border-radius: 10px; background-color: lavender;\"> \n",
    "    <font color = 'black'> \n",
    "        \n",
    "Выводы:  \n",
    "- У нас были данные от 10 октября до 3 ноября 2019 года - примерно 3,5 недели;  \n",
    "- Cамые популярные события каждого дня: просмотр фото, поиск и открытие карточки обявления;  \n",
    "- Яндекс - лидер по источнику скачивания приложения;  \n",
    "- В основном пользователи совершали до 20 событий, половина всех пользователей совершила до 9 действий, 5% от всех пользователей совершили более 60 действий;  \n",
    "- Три самых популярных сценария действий пользователей до достижения целевого события (просмотр контактов): search - tips_show - contacts_show / search - photos_show - contacts_show / map - tips_show - contacts_show;   \n",
    "- Чаще всего они пользователи предпочитают самостоятельный поиск и до целевого чаще добираются в два шага;        \n",
    "- Два сценария из трех наиболее популярных по достижению целевого события начинаются с поиска;   \n",
    "Наибольшую конверсию от первого до последнего шага показывает третий сценарий, согласно которому пользователи начинают с открытия карты объявлений и просмотра рекомендованных объявлений.  \n",
    "- Пользователей, которые не смотрели контакты, больше по каждому событию, хуже всего в этом разрезе для целевого события показывает себя действие \"открыл карточки объявления\", но есть потенциал к уменьшению разницы у событий \"кликнул по рекомендации\" и \"просмотрел фото\".  \n",
    "- Конверсия в просмотры контактов различается у групп, где пользователи совершают действия \"увидел рекомендованные объявления\" и \"кликнул по рекомендованному объявлению\" и где пользователи совершают только первое действие - у группы с двумя действиями конверсия больше;\n",
    "- Конверсия в просмотры контактов различается у групп, где пользователи совершают действиe \"добавление в избранное\" и где они его не совершают - у группы с добавлением в избранное конверсия больше.\n",
    "        \n",
    "        \n",
    "Можно продолжать активно развивать возможности, связанные с событиями трех главных сценариев по целевому событию. Особенно стоит уделить внимание рекомендованным объявлениям, так как событие, связанное с их показом, появилось в двух из трех главных сценариев. Также это событие входит в состав сценария, которое имеет наибольшую конверсию в целевое событие из этих трех сценариев. Возможно стоило бы больше уделить внимание событию \"кликнул по рекомендации\" и как можно было бы повысить показатели по нему. Также можно оценить перспективы события \"добавление в избранное\", так как по нему подтвердилась гипотеза о различии конверсий."
   ]
  }
 ],
 "metadata": {
  "ExecuteTimeLog": [
   {
    "duration": 91,
    "start_time": "2023-12-13T14:41:54.020Z"
   },
   {
    "duration": 3,
    "start_time": "2023-12-13T14:50:50.494Z"
   },
   {
    "duration": 1324,
    "start_time": "2023-12-13T15:08:48.884Z"
   },
   {
    "duration": 140,
    "start_time": "2023-12-13T15:08:50.210Z"
   },
   {
    "duration": 0,
    "start_time": "2023-12-13T15:08:50.359Z"
   },
   {
    "duration": 0,
    "start_time": "2023-12-13T15:08:50.361Z"
   },
   {
    "duration": 0,
    "start_time": "2023-12-13T15:08:50.362Z"
   },
   {
    "duration": 0,
    "start_time": "2023-12-13T15:08:50.363Z"
   },
   {
    "duration": 0,
    "start_time": "2023-12-13T15:08:50.364Z"
   },
   {
    "duration": 0,
    "start_time": "2023-12-13T15:08:50.365Z"
   },
   {
    "duration": 0,
    "start_time": "2023-12-13T15:08:50.366Z"
   },
   {
    "duration": 0,
    "start_time": "2023-12-13T15:08:50.367Z"
   },
   {
    "duration": 0,
    "start_time": "2023-12-13T15:08:50.368Z"
   },
   {
    "duration": 0,
    "start_time": "2023-12-13T15:08:50.370Z"
   },
   {
    "duration": 0,
    "start_time": "2023-12-13T15:08:50.370Z"
   },
   {
    "duration": 0,
    "start_time": "2023-12-13T15:08:50.372Z"
   },
   {
    "duration": 0,
    "start_time": "2023-12-13T15:08:50.373Z"
   },
   {
    "duration": 0,
    "start_time": "2023-12-13T15:08:50.374Z"
   },
   {
    "duration": 0,
    "start_time": "2023-12-13T15:08:50.375Z"
   },
   {
    "duration": 0,
    "start_time": "2023-12-13T15:08:50.376Z"
   },
   {
    "duration": 0,
    "start_time": "2023-12-13T15:08:50.377Z"
   },
   {
    "duration": 0,
    "start_time": "2023-12-13T15:08:50.378Z"
   },
   {
    "duration": 0,
    "start_time": "2023-12-13T15:08:50.379Z"
   },
   {
    "duration": 0,
    "start_time": "2023-12-13T15:08:50.380Z"
   },
   {
    "duration": 0,
    "start_time": "2023-12-13T15:08:50.381Z"
   },
   {
    "duration": 0,
    "start_time": "2023-12-13T15:08:50.382Z"
   },
   {
    "duration": 0,
    "start_time": "2023-12-13T15:08:50.383Z"
   },
   {
    "duration": 0,
    "start_time": "2023-12-13T15:08:50.384Z"
   },
   {
    "duration": 0,
    "start_time": "2023-12-13T15:08:50.385Z"
   },
   {
    "duration": 0,
    "start_time": "2023-12-13T15:08:50.387Z"
   },
   {
    "duration": 0,
    "start_time": "2023-12-13T15:08:50.387Z"
   },
   {
    "duration": 0,
    "start_time": "2023-12-13T15:08:50.389Z"
   },
   {
    "duration": 0,
    "start_time": "2023-12-13T15:08:50.390Z"
   },
   {
    "duration": 0,
    "start_time": "2023-12-13T15:08:50.391Z"
   },
   {
    "duration": 0,
    "start_time": "2023-12-13T15:08:50.392Z"
   },
   {
    "duration": 0,
    "start_time": "2023-12-13T15:08:50.393Z"
   },
   {
    "duration": 0,
    "start_time": "2023-12-13T15:08:50.394Z"
   },
   {
    "duration": 0,
    "start_time": "2023-12-13T15:08:50.395Z"
   },
   {
    "duration": 0,
    "start_time": "2023-12-13T15:08:50.396Z"
   },
   {
    "duration": 0,
    "start_time": "2023-12-13T15:08:50.397Z"
   },
   {
    "duration": 0,
    "start_time": "2023-12-13T15:08:50.398Z"
   },
   {
    "duration": 0,
    "start_time": "2023-12-13T15:08:50.459Z"
   },
   {
    "duration": 0,
    "start_time": "2023-12-13T15:08:50.460Z"
   },
   {
    "duration": 0,
    "start_time": "2023-12-13T15:08:50.461Z"
   },
   {
    "duration": 0,
    "start_time": "2023-12-13T15:08:50.462Z"
   },
   {
    "duration": 0,
    "start_time": "2023-12-13T15:08:50.463Z"
   },
   {
    "duration": 0,
    "start_time": "2023-12-13T15:08:50.463Z"
   },
   {
    "duration": 0,
    "start_time": "2023-12-13T15:08:50.464Z"
   },
   {
    "duration": 0,
    "start_time": "2023-12-13T15:08:50.465Z"
   },
   {
    "duration": 0,
    "start_time": "2023-12-13T15:08:50.466Z"
   },
   {
    "duration": 0,
    "start_time": "2023-12-13T15:08:50.467Z"
   },
   {
    "duration": 0,
    "start_time": "2023-12-13T15:08:50.468Z"
   },
   {
    "duration": 0,
    "start_time": "2023-12-13T15:08:50.469Z"
   },
   {
    "duration": 0,
    "start_time": "2023-12-13T15:08:50.470Z"
   },
   {
    "duration": 0,
    "start_time": "2023-12-13T15:08:50.471Z"
   },
   {
    "duration": 0,
    "start_time": "2023-12-13T15:08:50.472Z"
   },
   {
    "duration": 0,
    "start_time": "2023-12-13T15:08:50.473Z"
   },
   {
    "duration": 0,
    "start_time": "2023-12-13T15:08:50.474Z"
   },
   {
    "duration": 0,
    "start_time": "2023-12-13T15:08:50.475Z"
   },
   {
    "duration": 0,
    "start_time": "2023-12-13T15:08:50.475Z"
   },
   {
    "duration": 0,
    "start_time": "2023-12-13T15:08:50.476Z"
   },
   {
    "duration": 0,
    "start_time": "2023-12-13T15:08:50.477Z"
   },
   {
    "duration": 0,
    "start_time": "2023-12-13T15:08:50.478Z"
   },
   {
    "duration": 0,
    "start_time": "2023-12-13T15:08:50.479Z"
   },
   {
    "duration": 0,
    "start_time": "2023-12-13T15:08:50.480Z"
   },
   {
    "duration": 0,
    "start_time": "2023-12-13T15:08:50.480Z"
   },
   {
    "duration": 0,
    "start_time": "2023-12-13T15:08:50.481Z"
   },
   {
    "duration": 0,
    "start_time": "2023-12-13T15:08:50.482Z"
   },
   {
    "duration": 0,
    "start_time": "2023-12-13T15:08:50.483Z"
   },
   {
    "duration": 0,
    "start_time": "2023-12-13T15:08:50.484Z"
   },
   {
    "duration": 0,
    "start_time": "2023-12-13T15:08:50.485Z"
   },
   {
    "duration": 0,
    "start_time": "2023-12-13T15:08:50.486Z"
   },
   {
    "duration": 0,
    "start_time": "2023-12-13T15:08:50.487Z"
   },
   {
    "duration": 0,
    "start_time": "2023-12-13T15:08:50.487Z"
   },
   {
    "duration": 0,
    "start_time": "2023-12-13T15:08:50.488Z"
   },
   {
    "duration": 0,
    "start_time": "2023-12-13T15:08:50.489Z"
   },
   {
    "duration": 0,
    "start_time": "2023-12-13T15:08:50.490Z"
   },
   {
    "duration": 1270,
    "start_time": "2023-12-13T15:10:46.555Z"
   },
   {
    "duration": 125,
    "start_time": "2023-12-13T15:10:47.827Z"
   },
   {
    "duration": 393,
    "start_time": "2023-12-13T15:10:47.953Z"
   },
   {
    "duration": 12,
    "start_time": "2023-12-13T15:10:48.348Z"
   },
   {
    "duration": 38,
    "start_time": "2023-12-13T15:10:48.362Z"
   },
   {
    "duration": 38,
    "start_time": "2023-12-13T15:10:48.402Z"
   },
   {
    "duration": 30,
    "start_time": "2023-12-13T15:10:48.442Z"
   },
   {
    "duration": 25,
    "start_time": "2023-12-13T15:10:48.474Z"
   },
   {
    "duration": 107,
    "start_time": "2023-12-13T15:10:48.501Z"
   },
   {
    "duration": 20,
    "start_time": "2023-12-13T15:10:48.611Z"
   },
   {
    "duration": 30,
    "start_time": "2023-12-13T15:10:48.633Z"
   },
   {
    "duration": 31,
    "start_time": "2023-12-13T15:10:48.664Z"
   },
   {
    "duration": 13,
    "start_time": "2023-12-13T15:10:48.697Z"
   },
   {
    "duration": 16,
    "start_time": "2023-12-13T15:10:48.712Z"
   },
   {
    "duration": 37,
    "start_time": "2023-12-13T15:10:48.730Z"
   },
   {
    "duration": 41,
    "start_time": "2023-12-13T15:10:48.769Z"
   },
   {
    "duration": 15,
    "start_time": "2023-12-13T15:10:48.812Z"
   },
   {
    "duration": 76,
    "start_time": "2023-12-13T15:10:48.829Z"
   },
   {
    "duration": 26,
    "start_time": "2023-12-13T15:10:48.906Z"
   },
   {
    "duration": 4,
    "start_time": "2023-12-13T15:10:48.934Z"
   },
   {
    "duration": 442,
    "start_time": "2023-12-13T15:10:48.939Z"
   },
   {
    "duration": 24,
    "start_time": "2023-12-13T15:10:49.383Z"
   },
   {
    "duration": 101,
    "start_time": "2023-12-13T15:10:49.408Z"
   },
   {
    "duration": 24,
    "start_time": "2023-12-13T15:10:49.558Z"
   },
   {
    "duration": 86,
    "start_time": "2023-12-13T15:10:49.584Z"
   },
   {
    "duration": 14,
    "start_time": "2023-12-13T15:10:49.671Z"
   },
   {
    "duration": 14,
    "start_time": "2023-12-13T15:10:49.687Z"
   },
   {
    "duration": 798,
    "start_time": "2023-12-13T15:10:49.705Z"
   },
   {
    "duration": 26,
    "start_time": "2023-12-13T15:10:50.505Z"
   },
   {
    "duration": 5,
    "start_time": "2023-12-13T15:10:50.533Z"
   },
   {
    "duration": 13,
    "start_time": "2023-12-13T15:10:50.558Z"
   },
   {
    "duration": 39,
    "start_time": "2023-12-13T15:10:50.572Z"
   },
   {
    "duration": 58,
    "start_time": "2023-12-13T15:10:50.612Z"
   },
   {
    "duration": 47,
    "start_time": "2023-12-13T15:10:50.672Z"
   },
   {
    "duration": 35,
    "start_time": "2023-12-13T15:10:50.721Z"
   },
   {
    "duration": 35,
    "start_time": "2023-12-13T15:10:50.758Z"
   },
   {
    "duration": 21,
    "start_time": "2023-12-13T15:10:50.795Z"
   },
   {
    "duration": 16,
    "start_time": "2023-12-13T15:10:50.818Z"
   },
   {
    "duration": 21,
    "start_time": "2023-12-13T15:10:50.836Z"
   },
   {
    "duration": 16,
    "start_time": "2023-12-13T15:10:50.859Z"
   },
   {
    "duration": 695,
    "start_time": "2023-12-13T15:10:50.877Z"
   },
   {
    "duration": 26,
    "start_time": "2023-12-13T15:10:51.574Z"
   },
   {
    "duration": 20,
    "start_time": "2023-12-13T15:10:51.602Z"
   },
   {
    "duration": 107,
    "start_time": "2023-12-13T15:10:51.624Z"
   },
   {
    "duration": 30,
    "start_time": "2023-12-13T15:10:51.732Z"
   },
   {
    "duration": 54,
    "start_time": "2023-12-13T15:10:51.764Z"
   },
   {
    "duration": 4,
    "start_time": "2023-12-13T15:10:51.820Z"
   },
   {
    "duration": 32,
    "start_time": "2023-12-13T15:10:51.826Z"
   },
   {
    "duration": 45,
    "start_time": "2023-12-13T15:10:51.860Z"
   },
   {
    "duration": 3,
    "start_time": "2023-12-13T15:10:51.907Z"
   },
   {
    "duration": 97,
    "start_time": "2023-12-13T15:10:51.912Z"
   },
   {
    "duration": 0,
    "start_time": "2023-12-13T15:10:52.011Z"
   },
   {
    "duration": 0,
    "start_time": "2023-12-13T15:10:52.012Z"
   },
   {
    "duration": 0,
    "start_time": "2023-12-13T15:10:52.013Z"
   },
   {
    "duration": 0,
    "start_time": "2023-12-13T15:10:52.014Z"
   },
   {
    "duration": 0,
    "start_time": "2023-12-13T15:10:52.015Z"
   },
   {
    "duration": 0,
    "start_time": "2023-12-13T15:10:52.016Z"
   },
   {
    "duration": 0,
    "start_time": "2023-12-13T15:10:52.017Z"
   },
   {
    "duration": 0,
    "start_time": "2023-12-13T15:10:52.018Z"
   },
   {
    "duration": 0,
    "start_time": "2023-12-13T15:10:52.019Z"
   },
   {
    "duration": 0,
    "start_time": "2023-12-13T15:10:52.020Z"
   },
   {
    "duration": 0,
    "start_time": "2023-12-13T15:10:52.021Z"
   },
   {
    "duration": 0,
    "start_time": "2023-12-13T15:10:52.022Z"
   },
   {
    "duration": 0,
    "start_time": "2023-12-13T15:10:52.023Z"
   },
   {
    "duration": 0,
    "start_time": "2023-12-13T15:10:52.024Z"
   },
   {
    "duration": 0,
    "start_time": "2023-12-13T15:10:52.025Z"
   },
   {
    "duration": 0,
    "start_time": "2023-12-13T15:10:52.026Z"
   },
   {
    "duration": 0,
    "start_time": "2023-12-13T15:10:52.027Z"
   },
   {
    "duration": 0,
    "start_time": "2023-12-13T15:10:52.028Z"
   },
   {
    "duration": 0,
    "start_time": "2023-12-13T15:10:52.029Z"
   },
   {
    "duration": 0,
    "start_time": "2023-12-13T15:10:52.030Z"
   },
   {
    "duration": 0,
    "start_time": "2023-12-13T15:10:52.031Z"
   },
   {
    "duration": 0,
    "start_time": "2023-12-13T15:10:52.032Z"
   },
   {
    "duration": 0,
    "start_time": "2023-12-13T15:10:52.033Z"
   },
   {
    "duration": 0,
    "start_time": "2023-12-13T15:10:52.034Z"
   },
   {
    "duration": 1181,
    "start_time": "2023-12-13T15:11:16.944Z"
   },
   {
    "duration": 38,
    "start_time": "2023-12-13T15:11:18.127Z"
   },
   {
    "duration": 101,
    "start_time": "2023-12-13T15:11:18.167Z"
   },
   {
    "duration": 10,
    "start_time": "2023-12-13T15:11:18.270Z"
   },
   {
    "duration": 20,
    "start_time": "2023-12-13T15:11:18.281Z"
   },
   {
    "duration": 3,
    "start_time": "2023-12-13T15:11:18.303Z"
   },
   {
    "duration": 21,
    "start_time": "2023-12-13T15:11:18.307Z"
   },
   {
    "duration": 39,
    "start_time": "2023-12-13T15:11:18.330Z"
   },
   {
    "duration": 61,
    "start_time": "2023-12-13T15:11:18.371Z"
   },
   {
    "duration": 35,
    "start_time": "2023-12-13T15:11:18.434Z"
   },
   {
    "duration": 15,
    "start_time": "2023-12-13T15:11:18.471Z"
   },
   {
    "duration": 30,
    "start_time": "2023-12-13T15:11:18.488Z"
   },
   {
    "duration": 11,
    "start_time": "2023-12-13T15:11:18.520Z"
   },
   {
    "duration": 60,
    "start_time": "2023-12-13T15:11:18.533Z"
   },
   {
    "duration": 47,
    "start_time": "2023-12-13T15:11:18.595Z"
   },
   {
    "duration": 26,
    "start_time": "2023-12-13T15:11:18.644Z"
   },
   {
    "duration": 15,
    "start_time": "2023-12-13T15:11:18.671Z"
   },
   {
    "duration": 55,
    "start_time": "2023-12-13T15:11:18.687Z"
   },
   {
    "duration": 36,
    "start_time": "2023-12-13T15:11:18.743Z"
   },
   {
    "duration": 4,
    "start_time": "2023-12-13T15:11:18.780Z"
   },
   {
    "duration": 422,
    "start_time": "2023-12-13T15:11:18.785Z"
   },
   {
    "duration": 23,
    "start_time": "2023-12-13T15:11:19.209Z"
   },
   {
    "duration": 133,
    "start_time": "2023-12-13T15:11:19.233Z"
   },
   {
    "duration": 24,
    "start_time": "2023-12-13T15:11:19.367Z"
   },
   {
    "duration": 84,
    "start_time": "2023-12-13T15:11:19.393Z"
   },
   {
    "duration": 14,
    "start_time": "2023-12-13T15:11:19.479Z"
   },
   {
    "duration": 7,
    "start_time": "2023-12-13T15:11:19.495Z"
   },
   {
    "duration": 798,
    "start_time": "2023-12-13T15:11:19.506Z"
   },
   {
    "duration": 26,
    "start_time": "2023-12-13T15:11:20.306Z"
   },
   {
    "duration": 5,
    "start_time": "2023-12-13T15:11:20.333Z"
   },
   {
    "duration": 27,
    "start_time": "2023-12-13T15:11:20.339Z"
   },
   {
    "duration": 54,
    "start_time": "2023-12-13T15:11:20.367Z"
   },
   {
    "duration": 31,
    "start_time": "2023-12-13T15:11:20.422Z"
   },
   {
    "duration": 97,
    "start_time": "2023-12-13T15:11:20.454Z"
   },
   {
    "duration": 55,
    "start_time": "2023-12-13T15:11:20.553Z"
   },
   {
    "duration": 6,
    "start_time": "2023-12-13T15:11:20.610Z"
   },
   {
    "duration": 47,
    "start_time": "2023-12-13T15:11:20.617Z"
   },
   {
    "duration": 78,
    "start_time": "2023-12-13T15:11:20.666Z"
   },
   {
    "duration": 15,
    "start_time": "2023-12-13T15:11:20.746Z"
   },
   {
    "duration": 79,
    "start_time": "2023-12-13T15:11:20.763Z"
   },
   {
    "duration": 744,
    "start_time": "2023-12-13T15:11:20.843Z"
   },
   {
    "duration": 22,
    "start_time": "2023-12-13T15:11:21.589Z"
   },
   {
    "duration": 7,
    "start_time": "2023-12-13T15:11:21.613Z"
   },
   {
    "duration": 115,
    "start_time": "2023-12-13T15:11:21.621Z"
   },
   {
    "duration": 22,
    "start_time": "2023-12-13T15:11:21.737Z"
   },
   {
    "duration": 47,
    "start_time": "2023-12-13T15:11:21.761Z"
   },
   {
    "duration": 3,
    "start_time": "2023-12-13T15:11:21.810Z"
   },
   {
    "duration": 18,
    "start_time": "2023-12-13T15:11:21.814Z"
   },
   {
    "duration": 60,
    "start_time": "2023-12-13T15:11:21.834Z"
   },
   {
    "duration": 3,
    "start_time": "2023-12-13T15:11:21.895Z"
   },
   {
    "duration": 34,
    "start_time": "2023-12-13T15:11:21.900Z"
   },
   {
    "duration": 120,
    "start_time": "2023-12-13T15:11:21.936Z"
   },
   {
    "duration": 3,
    "start_time": "2023-12-13T15:11:22.059Z"
   },
   {
    "duration": 10,
    "start_time": "2023-12-13T15:11:22.064Z"
   },
   {
    "duration": 6,
    "start_time": "2023-12-13T15:11:22.076Z"
   },
   {
    "duration": 13,
    "start_time": "2023-12-13T15:11:22.083Z"
   },
   {
    "duration": 27,
    "start_time": "2023-12-13T15:11:22.098Z"
   },
   {
    "duration": 34,
    "start_time": "2023-12-13T15:11:22.127Z"
   },
   {
    "duration": 18,
    "start_time": "2023-12-13T15:11:22.164Z"
   },
   {
    "duration": 7,
    "start_time": "2023-12-13T15:11:22.184Z"
   },
   {
    "duration": 76,
    "start_time": "2023-12-13T15:11:22.192Z"
   },
   {
    "duration": 441,
    "start_time": "2023-12-13T15:11:22.270Z"
   },
   {
    "duration": 418,
    "start_time": "2023-12-13T15:11:22.712Z"
   },
   {
    "duration": 8,
    "start_time": "2023-12-13T15:11:23.132Z"
   },
   {
    "duration": 16,
    "start_time": "2023-12-13T15:11:23.142Z"
   },
   {
    "duration": 9,
    "start_time": "2023-12-13T15:11:23.160Z"
   },
   {
    "duration": 17,
    "start_time": "2023-12-13T15:11:23.170Z"
   },
   {
    "duration": 21,
    "start_time": "2023-12-13T15:11:23.189Z"
   },
   {
    "duration": 404,
    "start_time": "2023-12-13T15:11:23.211Z"
   },
   {
    "duration": 420,
    "start_time": "2023-12-13T15:11:23.617Z"
   },
   {
    "duration": 5,
    "start_time": "2023-12-13T15:11:24.039Z"
   },
   {
    "duration": 17,
    "start_time": "2023-12-13T15:11:24.045Z"
   },
   {
    "duration": 8,
    "start_time": "2023-12-13T15:11:24.064Z"
   },
   {
    "duration": 6,
    "start_time": "2023-12-13T15:11:24.074Z"
   },
   {
    "duration": 1336,
    "start_time": "2023-12-13T15:13:02.130Z"
   },
   {
    "duration": 40,
    "start_time": "2023-12-13T15:13:03.467Z"
   },
   {
    "duration": 110,
    "start_time": "2023-12-13T15:13:03.508Z"
   },
   {
    "duration": 10,
    "start_time": "2023-12-13T15:13:03.620Z"
   },
   {
    "duration": 46,
    "start_time": "2023-12-13T15:13:03.631Z"
   },
   {
    "duration": 4,
    "start_time": "2023-12-13T15:13:03.679Z"
   },
   {
    "duration": 26,
    "start_time": "2023-12-13T15:13:03.684Z"
   },
   {
    "duration": 24,
    "start_time": "2023-12-13T15:13:03.712Z"
   },
   {
    "duration": 73,
    "start_time": "2023-12-13T15:13:03.738Z"
   },
   {
    "duration": 21,
    "start_time": "2023-12-13T15:13:03.814Z"
   },
   {
    "duration": 35,
    "start_time": "2023-12-13T15:13:03.837Z"
   },
   {
    "duration": 31,
    "start_time": "2023-12-13T15:13:03.874Z"
   },
   {
    "duration": 12,
    "start_time": "2023-12-13T15:13:03.907Z"
   },
   {
    "duration": 36,
    "start_time": "2023-12-13T15:13:03.921Z"
   },
   {
    "duration": 15,
    "start_time": "2023-12-13T15:13:03.959Z"
   },
   {
    "duration": 27,
    "start_time": "2023-12-13T15:13:03.976Z"
   },
   {
    "duration": 14,
    "start_time": "2023-12-13T15:13:04.004Z"
   },
   {
    "duration": 82,
    "start_time": "2023-12-13T15:13:04.020Z"
   },
   {
    "duration": 26,
    "start_time": "2023-12-13T15:13:04.104Z"
   },
   {
    "duration": 4,
    "start_time": "2023-12-13T15:13:04.132Z"
   },
   {
    "duration": 443,
    "start_time": "2023-12-13T15:13:04.137Z"
   },
   {
    "duration": 29,
    "start_time": "2023-12-13T15:13:04.582Z"
   },
   {
    "duration": 152,
    "start_time": "2023-12-13T15:13:04.613Z"
   },
   {
    "duration": 25,
    "start_time": "2023-12-13T15:13:04.766Z"
   },
   {
    "duration": 91,
    "start_time": "2023-12-13T15:13:04.792Z"
   },
   {
    "duration": 14,
    "start_time": "2023-12-13T15:13:04.885Z"
   },
   {
    "duration": 5,
    "start_time": "2023-12-13T15:13:04.900Z"
   },
   {
    "duration": 927,
    "start_time": "2023-12-13T15:13:04.909Z"
   },
   {
    "duration": 33,
    "start_time": "2023-12-13T15:13:05.838Z"
   },
   {
    "duration": 4,
    "start_time": "2023-12-13T15:13:05.872Z"
   },
   {
    "duration": 15,
    "start_time": "2023-12-13T15:13:05.877Z"
   },
   {
    "duration": 24,
    "start_time": "2023-12-13T15:13:05.893Z"
   },
   {
    "duration": 14,
    "start_time": "2023-12-13T15:13:05.919Z"
   },
   {
    "duration": 66,
    "start_time": "2023-12-13T15:13:05.935Z"
   },
   {
    "duration": 33,
    "start_time": "2023-12-13T15:13:06.002Z"
   },
   {
    "duration": 22,
    "start_time": "2023-12-13T15:13:06.037Z"
   },
   {
    "duration": 15,
    "start_time": "2023-12-13T15:13:06.061Z"
   },
   {
    "duration": 4,
    "start_time": "2023-12-13T15:13:06.078Z"
   },
   {
    "duration": 18,
    "start_time": "2023-12-13T15:13:06.083Z"
   },
   {
    "duration": 14,
    "start_time": "2023-12-13T15:13:06.103Z"
   },
   {
    "duration": 655,
    "start_time": "2023-12-13T15:13:06.119Z"
   },
   {
    "duration": 23,
    "start_time": "2023-12-13T15:13:06.775Z"
   },
   {
    "duration": 8,
    "start_time": "2023-12-13T15:13:06.799Z"
   },
   {
    "duration": 119,
    "start_time": "2023-12-13T15:13:06.808Z"
   },
   {
    "duration": 15,
    "start_time": "2023-12-13T15:13:06.929Z"
   },
   {
    "duration": 63,
    "start_time": "2023-12-13T15:13:06.946Z"
   },
   {
    "duration": 3,
    "start_time": "2023-12-13T15:13:07.011Z"
   },
   {
    "duration": 23,
    "start_time": "2023-12-13T15:13:07.016Z"
   },
   {
    "duration": 60,
    "start_time": "2023-12-13T15:13:07.040Z"
   },
   {
    "duration": 3,
    "start_time": "2023-12-13T15:13:07.102Z"
   },
   {
    "duration": 23,
    "start_time": "2023-12-13T15:13:07.106Z"
   },
   {
    "duration": 143,
    "start_time": "2023-12-13T15:13:07.131Z"
   },
   {
    "duration": 3,
    "start_time": "2023-12-13T15:13:07.276Z"
   },
   {
    "duration": 25,
    "start_time": "2023-12-13T15:13:07.281Z"
   },
   {
    "duration": 9,
    "start_time": "2023-12-13T15:13:07.307Z"
   },
   {
    "duration": 33,
    "start_time": "2023-12-13T15:13:07.318Z"
   },
   {
    "duration": 34,
    "start_time": "2023-12-13T15:13:07.353Z"
   },
   {
    "duration": 6,
    "start_time": "2023-12-13T15:13:07.389Z"
   },
   {
    "duration": 14,
    "start_time": "2023-12-13T15:13:07.397Z"
   },
   {
    "duration": 21,
    "start_time": "2023-12-13T15:13:07.413Z"
   },
   {
    "duration": 69,
    "start_time": "2023-12-13T15:13:07.436Z"
   },
   {
    "duration": 460,
    "start_time": "2023-12-13T15:13:07.506Z"
   },
   {
    "duration": 427,
    "start_time": "2023-12-13T15:13:07.968Z"
   },
   {
    "duration": 8,
    "start_time": "2023-12-13T15:13:08.397Z"
   },
   {
    "duration": 23,
    "start_time": "2023-12-13T15:13:08.406Z"
   },
   {
    "duration": 11,
    "start_time": "2023-12-13T15:13:08.430Z"
   },
   {
    "duration": 12,
    "start_time": "2023-12-13T15:13:08.442Z"
   },
   {
    "duration": 11,
    "start_time": "2023-12-13T15:13:08.456Z"
   },
   {
    "duration": 416,
    "start_time": "2023-12-13T15:13:08.468Z"
   },
   {
    "duration": 446,
    "start_time": "2023-12-13T15:13:08.885Z"
   },
   {
    "duration": 5,
    "start_time": "2023-12-13T15:13:09.333Z"
   },
   {
    "duration": 19,
    "start_time": "2023-12-13T15:13:09.340Z"
   },
   {
    "duration": 15,
    "start_time": "2023-12-13T15:13:09.361Z"
   },
   {
    "duration": 26,
    "start_time": "2023-12-13T15:13:09.377Z"
   },
   {
    "duration": 1392,
    "start_time": "2023-12-14T08:27:09.486Z"
   },
   {
    "duration": 121,
    "start_time": "2023-12-14T08:27:10.880Z"
   },
   {
    "duration": 373,
    "start_time": "2023-12-14T08:27:11.003Z"
   },
   {
    "duration": 10,
    "start_time": "2023-12-14T08:27:11.378Z"
   },
   {
    "duration": 25,
    "start_time": "2023-12-14T08:27:11.390Z"
   },
   {
    "duration": 10,
    "start_time": "2023-12-14T08:27:11.417Z"
   },
   {
    "duration": 19,
    "start_time": "2023-12-14T08:27:11.429Z"
   },
   {
    "duration": 22,
    "start_time": "2023-12-14T08:27:11.449Z"
   },
   {
    "duration": 71,
    "start_time": "2023-12-14T08:27:11.473Z"
   },
   {
    "duration": 19,
    "start_time": "2023-12-14T08:27:11.547Z"
   },
   {
    "duration": 29,
    "start_time": "2023-12-14T08:27:11.568Z"
   },
   {
    "duration": 57,
    "start_time": "2023-12-14T08:27:11.599Z"
   },
   {
    "duration": 16,
    "start_time": "2023-12-14T08:27:11.657Z"
   },
   {
    "duration": 21,
    "start_time": "2023-12-14T08:27:11.674Z"
   },
   {
    "duration": 34,
    "start_time": "2023-12-14T08:27:11.696Z"
   },
   {
    "duration": 29,
    "start_time": "2023-12-14T08:27:11.731Z"
   },
   {
    "duration": 11,
    "start_time": "2023-12-14T08:27:11.762Z"
   },
   {
    "duration": 72,
    "start_time": "2023-12-14T08:27:11.775Z"
   },
   {
    "duration": 22,
    "start_time": "2023-12-14T08:27:11.849Z"
   },
   {
    "duration": 3,
    "start_time": "2023-12-14T08:27:11.873Z"
   },
   {
    "duration": 828,
    "start_time": "2023-12-14T08:27:11.878Z"
   },
   {
    "duration": 23,
    "start_time": "2023-12-14T08:27:12.707Z"
   },
   {
    "duration": 124,
    "start_time": "2023-12-14T08:27:12.731Z"
   },
   {
    "duration": 64,
    "start_time": "2023-12-14T08:27:12.857Z"
   },
   {
    "duration": 140,
    "start_time": "2023-12-14T08:27:12.924Z"
   },
   {
    "duration": 13,
    "start_time": "2023-12-14T08:27:13.066Z"
   },
   {
    "duration": 6,
    "start_time": "2023-12-14T08:27:13.080Z"
   },
   {
    "duration": 702,
    "start_time": "2023-12-14T08:27:13.090Z"
   },
   {
    "duration": 28,
    "start_time": "2023-12-14T08:27:13.793Z"
   },
   {
    "duration": 4,
    "start_time": "2023-12-14T08:27:13.823Z"
   },
   {
    "duration": 11,
    "start_time": "2023-12-14T08:27:13.828Z"
   },
   {
    "duration": 12,
    "start_time": "2023-12-14T08:27:13.841Z"
   },
   {
    "duration": 7,
    "start_time": "2023-12-14T08:27:13.854Z"
   },
   {
    "duration": 52,
    "start_time": "2023-12-14T08:27:13.862Z"
   },
   {
    "duration": 7,
    "start_time": "2023-12-14T08:27:13.915Z"
   },
   {
    "duration": 4,
    "start_time": "2023-12-14T08:27:13.924Z"
   },
   {
    "duration": 11,
    "start_time": "2023-12-14T08:27:13.930Z"
   },
   {
    "duration": 3,
    "start_time": "2023-12-14T08:27:13.942Z"
   },
   {
    "duration": 7,
    "start_time": "2023-12-14T08:27:13.946Z"
   },
   {
    "duration": 7,
    "start_time": "2023-12-14T08:27:13.954Z"
   },
   {
    "duration": 675,
    "start_time": "2023-12-14T08:27:13.963Z"
   },
   {
    "duration": 22,
    "start_time": "2023-12-14T08:27:14.640Z"
   },
   {
    "duration": 8,
    "start_time": "2023-12-14T08:27:14.664Z"
   },
   {
    "duration": 111,
    "start_time": "2023-12-14T08:27:14.674Z"
   },
   {
    "duration": 24,
    "start_time": "2023-12-14T08:27:14.787Z"
   },
   {
    "duration": 123,
    "start_time": "2023-12-14T08:27:14.812Z"
   },
   {
    "duration": 4,
    "start_time": "2023-12-14T08:27:14.936Z"
   },
   {
    "duration": 13,
    "start_time": "2023-12-14T08:27:14.941Z"
   },
   {
    "duration": 60,
    "start_time": "2023-12-14T08:27:14.955Z"
   },
   {
    "duration": 4,
    "start_time": "2023-12-14T08:27:15.017Z"
   },
   {
    "duration": 48,
    "start_time": "2023-12-14T08:27:15.022Z"
   },
   {
    "duration": 60,
    "start_time": "2023-12-14T08:27:15.072Z"
   },
   {
    "duration": 14,
    "start_time": "2023-12-14T08:27:15.133Z"
   },
   {
    "duration": 13,
    "start_time": "2023-12-14T08:27:15.149Z"
   },
   {
    "duration": 15,
    "start_time": "2023-12-14T08:27:15.164Z"
   },
   {
    "duration": 15,
    "start_time": "2023-12-14T08:27:15.181Z"
   },
   {
    "duration": 42,
    "start_time": "2023-12-14T08:27:15.198Z"
   },
   {
    "duration": 8,
    "start_time": "2023-12-14T08:27:15.241Z"
   },
   {
    "duration": 11,
    "start_time": "2023-12-14T08:27:15.253Z"
   },
   {
    "duration": 5,
    "start_time": "2023-12-14T08:27:15.265Z"
   },
   {
    "duration": 74,
    "start_time": "2023-12-14T08:27:15.271Z"
   },
   {
    "duration": 421,
    "start_time": "2023-12-14T08:27:15.347Z"
   },
   {
    "duration": 389,
    "start_time": "2023-12-14T08:27:15.769Z"
   },
   {
    "duration": 8,
    "start_time": "2023-12-14T08:27:16.159Z"
   },
   {
    "duration": 6,
    "start_time": "2023-12-14T08:27:16.168Z"
   },
   {
    "duration": 13,
    "start_time": "2023-12-14T08:27:16.175Z"
   },
   {
    "duration": 5,
    "start_time": "2023-12-14T08:27:16.190Z"
   },
   {
    "duration": 6,
    "start_time": "2023-12-14T08:27:16.210Z"
   },
   {
    "duration": 403,
    "start_time": "2023-12-14T08:27:16.218Z"
   },
   {
    "duration": 384,
    "start_time": "2023-12-14T08:27:16.622Z"
   },
   {
    "duration": 5,
    "start_time": "2023-12-14T08:27:17.011Z"
   },
   {
    "duration": 17,
    "start_time": "2023-12-14T08:27:17.017Z"
   },
   {
    "duration": 22,
    "start_time": "2023-12-14T08:27:17.035Z"
   },
   {
    "duration": 29,
    "start_time": "2023-12-14T08:27:17.059Z"
   },
   {
    "duration": 1169,
    "start_time": "2023-12-14T09:24:58.295Z"
   },
   {
    "duration": 38,
    "start_time": "2023-12-14T09:24:59.466Z"
   },
   {
    "duration": 100,
    "start_time": "2023-12-14T09:24:59.506Z"
   },
   {
    "duration": 10,
    "start_time": "2023-12-14T09:24:59.607Z"
   },
   {
    "duration": 20,
    "start_time": "2023-12-14T09:24:59.619Z"
   },
   {
    "duration": 4,
    "start_time": "2023-12-14T09:24:59.640Z"
   },
   {
    "duration": 19,
    "start_time": "2023-12-14T09:24:59.645Z"
   },
   {
    "duration": 20,
    "start_time": "2023-12-14T09:24:59.665Z"
   },
   {
    "duration": 81,
    "start_time": "2023-12-14T09:24:59.687Z"
   },
   {
    "duration": 21,
    "start_time": "2023-12-14T09:24:59.770Z"
   },
   {
    "duration": 32,
    "start_time": "2023-12-14T09:24:59.793Z"
   },
   {
    "duration": 30,
    "start_time": "2023-12-14T09:24:59.827Z"
   },
   {
    "duration": 11,
    "start_time": "2023-12-14T09:24:59.859Z"
   },
   {
    "duration": 38,
    "start_time": "2023-12-14T09:24:59.873Z"
   },
   {
    "duration": 14,
    "start_time": "2023-12-14T09:24:59.913Z"
   },
   {
    "duration": 27,
    "start_time": "2023-12-14T09:24:59.929Z"
   },
   {
    "duration": 19,
    "start_time": "2023-12-14T09:24:59.957Z"
   },
   {
    "duration": 68,
    "start_time": "2023-12-14T09:24:59.978Z"
   },
   {
    "duration": 23,
    "start_time": "2023-12-14T09:25:00.048Z"
   },
   {
    "duration": 14,
    "start_time": "2023-12-14T09:25:00.073Z"
   },
   {
    "duration": 805,
    "start_time": "2023-12-14T09:25:00.089Z"
   },
   {
    "duration": 36,
    "start_time": "2023-12-14T09:25:00.895Z"
   },
   {
    "duration": 124,
    "start_time": "2023-12-14T09:25:00.932Z"
   },
   {
    "duration": 109,
    "start_time": "2023-12-14T09:25:01.057Z"
   },
   {
    "duration": 104,
    "start_time": "2023-12-14T09:25:01.168Z"
   },
   {
    "duration": 14,
    "start_time": "2023-12-14T09:25:01.274Z"
   },
   {
    "duration": 89,
    "start_time": "2023-12-14T09:25:01.290Z"
   },
   {
    "duration": 865,
    "start_time": "2023-12-14T09:25:01.380Z"
   },
   {
    "duration": 25,
    "start_time": "2023-12-14T09:25:02.246Z"
   },
   {
    "duration": 7,
    "start_time": "2023-12-14T09:25:02.272Z"
   },
   {
    "duration": 28,
    "start_time": "2023-12-14T09:25:02.280Z"
   },
   {
    "duration": 14,
    "start_time": "2023-12-14T09:25:02.310Z"
   },
   {
    "duration": 7,
    "start_time": "2023-12-14T09:25:02.326Z"
   },
   {
    "duration": 25,
    "start_time": "2023-12-14T09:25:02.335Z"
   },
   {
    "duration": 7,
    "start_time": "2023-12-14T09:25:02.362Z"
   },
   {
    "duration": 11,
    "start_time": "2023-12-14T09:25:02.371Z"
   },
   {
    "duration": 36,
    "start_time": "2023-12-14T09:25:02.384Z"
   },
   {
    "duration": 3,
    "start_time": "2023-12-14T09:25:02.422Z"
   },
   {
    "duration": 18,
    "start_time": "2023-12-14T09:25:02.426Z"
   },
   {
    "duration": 15,
    "start_time": "2023-12-14T09:25:02.446Z"
   },
   {
    "duration": 607,
    "start_time": "2023-12-14T09:25:02.465Z"
   },
   {
    "duration": 22,
    "start_time": "2023-12-14T09:25:03.073Z"
   },
   {
    "duration": 25,
    "start_time": "2023-12-14T09:25:03.096Z"
   },
   {
    "duration": 135,
    "start_time": "2023-12-14T09:25:03.122Z"
   },
   {
    "duration": 16,
    "start_time": "2023-12-14T09:25:03.258Z"
   },
   {
    "duration": 56,
    "start_time": "2023-12-14T09:25:03.276Z"
   },
   {
    "duration": 3,
    "start_time": "2023-12-14T09:25:03.333Z"
   },
   {
    "duration": 36,
    "start_time": "2023-12-14T09:25:03.338Z"
   },
   {
    "duration": 52,
    "start_time": "2023-12-14T09:25:03.375Z"
   },
   {
    "duration": 22,
    "start_time": "2023-12-14T09:25:03.429Z"
   },
   {
    "duration": 28,
    "start_time": "2023-12-14T09:25:03.453Z"
   },
   {
    "duration": 131,
    "start_time": "2023-12-14T09:25:03.482Z"
   },
   {
    "duration": 6,
    "start_time": "2023-12-14T09:25:03.615Z"
   },
   {
    "duration": 10,
    "start_time": "2023-12-14T09:25:03.622Z"
   },
   {
    "duration": 7,
    "start_time": "2023-12-14T09:25:03.633Z"
   },
   {
    "duration": 16,
    "start_time": "2023-12-14T09:25:03.643Z"
   },
   {
    "duration": 30,
    "start_time": "2023-12-14T09:25:03.660Z"
   },
   {
    "duration": 7,
    "start_time": "2023-12-14T09:25:03.711Z"
   },
   {
    "duration": 25,
    "start_time": "2023-12-14T09:25:03.719Z"
   },
   {
    "duration": 18,
    "start_time": "2023-12-14T09:25:03.746Z"
   },
   {
    "duration": 53,
    "start_time": "2023-12-14T09:25:03.765Z"
   },
   {
    "duration": 405,
    "start_time": "2023-12-14T09:25:03.820Z"
   },
   {
    "duration": 399,
    "start_time": "2023-12-14T09:25:04.227Z"
   },
   {
    "duration": 6,
    "start_time": "2023-12-14T09:25:04.628Z"
   },
   {
    "duration": 10,
    "start_time": "2023-12-14T09:25:04.636Z"
   },
   {
    "duration": 20,
    "start_time": "2023-12-14T09:25:04.648Z"
   },
   {
    "duration": 5,
    "start_time": "2023-12-14T09:25:04.670Z"
   },
   {
    "duration": 9,
    "start_time": "2023-12-14T09:25:04.676Z"
   },
   {
    "duration": 391,
    "start_time": "2023-12-14T09:25:04.686Z"
   },
   {
    "duration": 391,
    "start_time": "2023-12-14T09:25:05.079Z"
   },
   {
    "duration": 5,
    "start_time": "2023-12-14T09:25:05.471Z"
   },
   {
    "duration": 44,
    "start_time": "2023-12-14T09:25:05.478Z"
   },
   {
    "duration": 21,
    "start_time": "2023-12-14T09:25:05.523Z"
   },
   {
    "duration": 31,
    "start_time": "2023-12-14T09:25:05.546Z"
   },
   {
    "duration": 11,
    "start_time": "2023-12-14T09:45:40.034Z"
   },
   {
    "duration": 14,
    "start_time": "2023-12-14T09:47:17.760Z"
   },
   {
    "duration": 10,
    "start_time": "2023-12-14T09:47:35.928Z"
   },
   {
    "duration": 1292,
    "start_time": "2023-12-14T10:08:45.884Z"
   },
   {
    "duration": 121,
    "start_time": "2023-12-14T10:08:47.178Z"
   },
   {
    "duration": 379,
    "start_time": "2023-12-14T10:08:47.300Z"
   },
   {
    "duration": 10,
    "start_time": "2023-12-14T10:08:47.682Z"
   },
   {
    "duration": 22,
    "start_time": "2023-12-14T10:08:47.694Z"
   },
   {
    "duration": 3,
    "start_time": "2023-12-14T10:08:47.718Z"
   },
   {
    "duration": 25,
    "start_time": "2023-12-14T10:08:47.723Z"
   },
   {
    "duration": 31,
    "start_time": "2023-12-14T10:08:47.749Z"
   },
   {
    "duration": 61,
    "start_time": "2023-12-14T10:08:47.781Z"
   },
   {
    "duration": 17,
    "start_time": "2023-12-14T10:08:47.845Z"
   },
   {
    "duration": 45,
    "start_time": "2023-12-14T10:08:47.863Z"
   },
   {
    "duration": 62,
    "start_time": "2023-12-14T10:08:47.910Z"
   },
   {
    "duration": 9,
    "start_time": "2023-12-14T10:08:47.974Z"
   },
   {
    "duration": 17,
    "start_time": "2023-12-14T10:08:47.985Z"
   },
   {
    "duration": 19,
    "start_time": "2023-12-14T10:08:48.004Z"
   },
   {
    "duration": 91,
    "start_time": "2023-12-14T10:08:48.024Z"
   },
   {
    "duration": 0,
    "start_time": "2023-12-14T10:08:48.117Z"
   },
   {
    "duration": 0,
    "start_time": "2023-12-14T10:08:48.118Z"
   },
   {
    "duration": 0,
    "start_time": "2023-12-14T10:08:48.119Z"
   },
   {
    "duration": 0,
    "start_time": "2023-12-14T10:08:48.121Z"
   },
   {
    "duration": 0,
    "start_time": "2023-12-14T10:08:48.122Z"
   },
   {
    "duration": 0,
    "start_time": "2023-12-14T10:08:48.123Z"
   },
   {
    "duration": 0,
    "start_time": "2023-12-14T10:08:48.124Z"
   },
   {
    "duration": 0,
    "start_time": "2023-12-14T10:08:48.124Z"
   },
   {
    "duration": 0,
    "start_time": "2023-12-14T10:08:48.125Z"
   },
   {
    "duration": 0,
    "start_time": "2023-12-14T10:08:48.126Z"
   },
   {
    "duration": 0,
    "start_time": "2023-12-14T10:08:48.127Z"
   },
   {
    "duration": 0,
    "start_time": "2023-12-14T10:08:48.129Z"
   },
   {
    "duration": 0,
    "start_time": "2023-12-14T10:08:48.130Z"
   },
   {
    "duration": 0,
    "start_time": "2023-12-14T10:08:48.131Z"
   },
   {
    "duration": 0,
    "start_time": "2023-12-14T10:08:48.131Z"
   },
   {
    "duration": 0,
    "start_time": "2023-12-14T10:08:48.132Z"
   },
   {
    "duration": 0,
    "start_time": "2023-12-14T10:08:48.133Z"
   },
   {
    "duration": 0,
    "start_time": "2023-12-14T10:08:48.134Z"
   },
   {
    "duration": 0,
    "start_time": "2023-12-14T10:08:48.135Z"
   },
   {
    "duration": 0,
    "start_time": "2023-12-14T10:08:48.136Z"
   },
   {
    "duration": 0,
    "start_time": "2023-12-14T10:08:48.137Z"
   },
   {
    "duration": 0,
    "start_time": "2023-12-14T10:08:48.138Z"
   },
   {
    "duration": 0,
    "start_time": "2023-12-14T10:08:48.139Z"
   },
   {
    "duration": 0,
    "start_time": "2023-12-14T10:08:48.139Z"
   },
   {
    "duration": 0,
    "start_time": "2023-12-14T10:08:48.141Z"
   },
   {
    "duration": 0,
    "start_time": "2023-12-14T10:08:48.142Z"
   },
   {
    "duration": 0,
    "start_time": "2023-12-14T10:08:48.143Z"
   },
   {
    "duration": 0,
    "start_time": "2023-12-14T10:08:48.144Z"
   },
   {
    "duration": 0,
    "start_time": "2023-12-14T10:08:48.145Z"
   },
   {
    "duration": 0,
    "start_time": "2023-12-14T10:08:48.145Z"
   },
   {
    "duration": 0,
    "start_time": "2023-12-14T10:08:48.146Z"
   },
   {
    "duration": 0,
    "start_time": "2023-12-14T10:08:48.147Z"
   },
   {
    "duration": 0,
    "start_time": "2023-12-14T10:08:48.148Z"
   },
   {
    "duration": 0,
    "start_time": "2023-12-14T10:08:48.149Z"
   },
   {
    "duration": 0,
    "start_time": "2023-12-14T10:08:48.150Z"
   },
   {
    "duration": 0,
    "start_time": "2023-12-14T10:08:48.151Z"
   },
   {
    "duration": 0,
    "start_time": "2023-12-14T10:08:48.152Z"
   },
   {
    "duration": 0,
    "start_time": "2023-12-14T10:08:48.153Z"
   },
   {
    "duration": 0,
    "start_time": "2023-12-14T10:08:48.154Z"
   },
   {
    "duration": 0,
    "start_time": "2023-12-14T10:08:48.155Z"
   },
   {
    "duration": 0,
    "start_time": "2023-12-14T10:08:48.155Z"
   },
   {
    "duration": 0,
    "start_time": "2023-12-14T10:08:48.157Z"
   },
   {
    "duration": 0,
    "start_time": "2023-12-14T10:08:48.158Z"
   },
   {
    "duration": 0,
    "start_time": "2023-12-14T10:08:48.159Z"
   },
   {
    "duration": 0,
    "start_time": "2023-12-14T10:08:48.160Z"
   },
   {
    "duration": 0,
    "start_time": "2023-12-14T10:08:48.160Z"
   },
   {
    "duration": 0,
    "start_time": "2023-12-14T10:08:48.161Z"
   },
   {
    "duration": 0,
    "start_time": "2023-12-14T10:08:48.162Z"
   },
   {
    "duration": 0,
    "start_time": "2023-12-14T10:08:48.163Z"
   },
   {
    "duration": 0,
    "start_time": "2023-12-14T10:08:48.164Z"
   },
   {
    "duration": 0,
    "start_time": "2023-12-14T10:08:48.165Z"
   },
   {
    "duration": 0,
    "start_time": "2023-12-14T10:08:48.166Z"
   },
   {
    "duration": 0,
    "start_time": "2023-12-14T10:08:48.167Z"
   },
   {
    "duration": 0,
    "start_time": "2023-12-14T10:08:48.168Z"
   },
   {
    "duration": 0,
    "start_time": "2023-12-14T10:08:48.169Z"
   },
   {
    "duration": 0,
    "start_time": "2023-12-14T10:08:48.170Z"
   },
   {
    "duration": 0,
    "start_time": "2023-12-14T10:08:48.171Z"
   },
   {
    "duration": 0,
    "start_time": "2023-12-14T10:08:48.172Z"
   },
   {
    "duration": 0,
    "start_time": "2023-12-14T10:08:48.172Z"
   },
   {
    "duration": 0,
    "start_time": "2023-12-14T10:08:48.173Z"
   },
   {
    "duration": 1171,
    "start_time": "2023-12-14T10:09:09.225Z"
   },
   {
    "duration": 38,
    "start_time": "2023-12-14T10:09:10.398Z"
   },
   {
    "duration": 94,
    "start_time": "2023-12-14T10:09:10.437Z"
   },
   {
    "duration": 10,
    "start_time": "2023-12-14T10:09:10.532Z"
   },
   {
    "duration": 32,
    "start_time": "2023-12-14T10:09:10.543Z"
   },
   {
    "duration": 4,
    "start_time": "2023-12-14T10:09:10.576Z"
   },
   {
    "duration": 18,
    "start_time": "2023-12-14T10:09:10.581Z"
   },
   {
    "duration": 22,
    "start_time": "2023-12-14T10:09:10.600Z"
   },
   {
    "duration": 67,
    "start_time": "2023-12-14T10:09:10.624Z"
   },
   {
    "duration": 19,
    "start_time": "2023-12-14T10:09:10.693Z"
   },
   {
    "duration": 15,
    "start_time": "2023-12-14T10:09:10.713Z"
   },
   {
    "duration": 48,
    "start_time": "2023-12-14T10:09:10.729Z"
   },
   {
    "duration": 11,
    "start_time": "2023-12-14T10:09:10.778Z"
   },
   {
    "duration": 32,
    "start_time": "2023-12-14T10:09:10.791Z"
   },
   {
    "duration": 18,
    "start_time": "2023-12-14T10:09:10.825Z"
   },
   {
    "duration": 139,
    "start_time": "2023-12-14T10:09:10.845Z"
   },
   {
    "duration": 0,
    "start_time": "2023-12-14T10:09:10.986Z"
   },
   {
    "duration": 0,
    "start_time": "2023-12-14T10:09:10.987Z"
   },
   {
    "duration": 0,
    "start_time": "2023-12-14T10:09:10.988Z"
   },
   {
    "duration": 0,
    "start_time": "2023-12-14T10:09:10.989Z"
   },
   {
    "duration": 0,
    "start_time": "2023-12-14T10:09:10.991Z"
   },
   {
    "duration": 0,
    "start_time": "2023-12-14T10:09:10.991Z"
   },
   {
    "duration": 0,
    "start_time": "2023-12-14T10:09:10.992Z"
   },
   {
    "duration": 1,
    "start_time": "2023-12-14T10:09:10.993Z"
   },
   {
    "duration": 1,
    "start_time": "2023-12-14T10:09:10.994Z"
   },
   {
    "duration": 0,
    "start_time": "2023-12-14T10:09:10.996Z"
   },
   {
    "duration": 0,
    "start_time": "2023-12-14T10:09:10.996Z"
   },
   {
    "duration": 0,
    "start_time": "2023-12-14T10:09:10.997Z"
   },
   {
    "duration": 0,
    "start_time": "2023-12-14T10:09:10.998Z"
   },
   {
    "duration": 0,
    "start_time": "2023-12-14T10:09:10.999Z"
   },
   {
    "duration": 0,
    "start_time": "2023-12-14T10:09:11.000Z"
   },
   {
    "duration": 0,
    "start_time": "2023-12-14T10:09:11.002Z"
   },
   {
    "duration": 0,
    "start_time": "2023-12-14T10:09:11.002Z"
   },
   {
    "duration": 1,
    "start_time": "2023-12-14T10:09:11.003Z"
   },
   {
    "duration": 0,
    "start_time": "2023-12-14T10:09:11.004Z"
   },
   {
    "duration": 0,
    "start_time": "2023-12-14T10:09:11.005Z"
   },
   {
    "duration": 0,
    "start_time": "2023-12-14T10:09:11.006Z"
   },
   {
    "duration": 0,
    "start_time": "2023-12-14T10:09:11.007Z"
   },
   {
    "duration": 0,
    "start_time": "2023-12-14T10:09:11.009Z"
   },
   {
    "duration": 0,
    "start_time": "2023-12-14T10:09:11.010Z"
   },
   {
    "duration": 0,
    "start_time": "2023-12-14T10:09:11.010Z"
   },
   {
    "duration": 0,
    "start_time": "2023-12-14T10:09:11.011Z"
   },
   {
    "duration": 0,
    "start_time": "2023-12-14T10:09:11.013Z"
   },
   {
    "duration": 0,
    "start_time": "2023-12-14T10:09:11.014Z"
   },
   {
    "duration": 0,
    "start_time": "2023-12-14T10:09:11.015Z"
   },
   {
    "duration": 0,
    "start_time": "2023-12-14T10:09:11.016Z"
   },
   {
    "duration": 0,
    "start_time": "2023-12-14T10:09:11.017Z"
   },
   {
    "duration": 0,
    "start_time": "2023-12-14T10:09:11.018Z"
   },
   {
    "duration": 0,
    "start_time": "2023-12-14T10:09:11.019Z"
   },
   {
    "duration": 0,
    "start_time": "2023-12-14T10:09:11.020Z"
   },
   {
    "duration": 0,
    "start_time": "2023-12-14T10:09:11.021Z"
   },
   {
    "duration": 0,
    "start_time": "2023-12-14T10:09:11.022Z"
   },
   {
    "duration": 0,
    "start_time": "2023-12-14T10:09:11.022Z"
   },
   {
    "duration": 0,
    "start_time": "2023-12-14T10:09:11.052Z"
   },
   {
    "duration": 0,
    "start_time": "2023-12-14T10:09:11.053Z"
   },
   {
    "duration": 0,
    "start_time": "2023-12-14T10:09:11.054Z"
   },
   {
    "duration": 0,
    "start_time": "2023-12-14T10:09:11.054Z"
   },
   {
    "duration": 0,
    "start_time": "2023-12-14T10:09:11.055Z"
   },
   {
    "duration": 0,
    "start_time": "2023-12-14T10:09:11.056Z"
   },
   {
    "duration": 0,
    "start_time": "2023-12-14T10:09:11.057Z"
   },
   {
    "duration": 0,
    "start_time": "2023-12-14T10:09:11.058Z"
   },
   {
    "duration": 0,
    "start_time": "2023-12-14T10:09:11.059Z"
   },
   {
    "duration": 0,
    "start_time": "2023-12-14T10:09:11.060Z"
   },
   {
    "duration": 0,
    "start_time": "2023-12-14T10:09:11.061Z"
   },
   {
    "duration": 1,
    "start_time": "2023-12-14T10:09:11.061Z"
   },
   {
    "duration": 0,
    "start_time": "2023-12-14T10:09:11.062Z"
   },
   {
    "duration": 0,
    "start_time": "2023-12-14T10:09:11.063Z"
   },
   {
    "duration": 0,
    "start_time": "2023-12-14T10:09:11.064Z"
   },
   {
    "duration": 0,
    "start_time": "2023-12-14T10:09:11.065Z"
   },
   {
    "duration": 0,
    "start_time": "2023-12-14T10:09:11.066Z"
   },
   {
    "duration": 0,
    "start_time": "2023-12-14T10:09:11.067Z"
   },
   {
    "duration": 0,
    "start_time": "2023-12-14T10:09:11.067Z"
   },
   {
    "duration": 0,
    "start_time": "2023-12-14T10:09:11.068Z"
   },
   {
    "duration": 0,
    "start_time": "2023-12-14T10:09:11.069Z"
   },
   {
    "duration": 0,
    "start_time": "2023-12-14T10:09:11.070Z"
   },
   {
    "duration": 0,
    "start_time": "2023-12-14T10:09:11.071Z"
   },
   {
    "duration": 1091,
    "start_time": "2023-12-14T10:09:49.409Z"
   },
   {
    "duration": 37,
    "start_time": "2023-12-14T10:09:50.501Z"
   },
   {
    "duration": 92,
    "start_time": "2023-12-14T10:09:50.540Z"
   },
   {
    "duration": 9,
    "start_time": "2023-12-14T10:09:50.633Z"
   },
   {
    "duration": 33,
    "start_time": "2023-12-14T10:09:50.643Z"
   },
   {
    "duration": 4,
    "start_time": "2023-12-14T10:09:50.677Z"
   },
   {
    "duration": 24,
    "start_time": "2023-12-14T10:09:50.683Z"
   },
   {
    "duration": 22,
    "start_time": "2023-12-14T10:09:50.709Z"
   },
   {
    "duration": 77,
    "start_time": "2023-12-14T10:09:50.733Z"
   },
   {
    "duration": 18,
    "start_time": "2023-12-14T10:09:50.813Z"
   },
   {
    "duration": 29,
    "start_time": "2023-12-14T10:09:50.833Z"
   },
   {
    "duration": 27,
    "start_time": "2023-12-14T10:09:50.864Z"
   },
   {
    "duration": 11,
    "start_time": "2023-12-14T10:09:50.892Z"
   },
   {
    "duration": 16,
    "start_time": "2023-12-14T10:09:50.904Z"
   },
   {
    "duration": 31,
    "start_time": "2023-12-14T10:09:50.922Z"
   },
   {
    "duration": 3,
    "start_time": "2023-12-14T10:09:50.954Z"
   },
   {
    "duration": 56,
    "start_time": "2023-12-14T10:09:50.959Z"
   },
   {
    "duration": 13,
    "start_time": "2023-12-14T10:09:51.017Z"
   },
   {
    "duration": 55,
    "start_time": "2023-12-14T10:09:51.031Z"
   },
   {
    "duration": 21,
    "start_time": "2023-12-14T10:09:51.087Z"
   },
   {
    "duration": 4,
    "start_time": "2023-12-14T10:09:51.109Z"
   },
   {
    "duration": 396,
    "start_time": "2023-12-14T10:09:51.114Z"
   },
   {
    "duration": 20,
    "start_time": "2023-12-14T10:09:51.512Z"
   },
   {
    "duration": 74,
    "start_time": "2023-12-14T10:09:51.533Z"
   },
   {
    "duration": 62,
    "start_time": "2023-12-14T10:09:51.608Z"
   },
   {
    "duration": 63,
    "start_time": "2023-12-14T10:09:51.671Z"
   },
   {
    "duration": 25,
    "start_time": "2023-12-14T10:09:51.735Z"
   },
   {
    "duration": 5,
    "start_time": "2023-12-14T10:09:51.764Z"
   },
   {
    "duration": 760,
    "start_time": "2023-12-14T10:09:51.770Z"
   },
   {
    "duration": 27,
    "start_time": "2023-12-14T10:09:52.531Z"
   },
   {
    "duration": 3,
    "start_time": "2023-12-14T10:09:52.560Z"
   },
   {
    "duration": 29,
    "start_time": "2023-12-14T10:09:52.564Z"
   },
   {
    "duration": 21,
    "start_time": "2023-12-14T10:09:52.594Z"
   },
   {
    "duration": 7,
    "start_time": "2023-12-14T10:09:52.616Z"
   },
   {
    "duration": 32,
    "start_time": "2023-12-14T10:09:52.624Z"
   },
   {
    "duration": 7,
    "start_time": "2023-12-14T10:09:52.658Z"
   },
   {
    "duration": 7,
    "start_time": "2023-12-14T10:09:52.666Z"
   },
   {
    "duration": 19,
    "start_time": "2023-12-14T10:09:52.675Z"
   },
   {
    "duration": 23,
    "start_time": "2023-12-14T10:09:52.695Z"
   },
   {
    "duration": 17,
    "start_time": "2023-12-14T10:09:52.720Z"
   },
   {
    "duration": 28,
    "start_time": "2023-12-14T10:09:52.738Z"
   },
   {
    "duration": 614,
    "start_time": "2023-12-14T10:09:52.768Z"
   },
   {
    "duration": 22,
    "start_time": "2023-12-14T10:09:53.383Z"
   },
   {
    "duration": 17,
    "start_time": "2023-12-14T10:09:53.406Z"
   },
   {
    "duration": 103,
    "start_time": "2023-12-14T10:09:53.425Z"
   },
   {
    "duration": 24,
    "start_time": "2023-12-14T10:09:53.529Z"
   },
   {
    "duration": 45,
    "start_time": "2023-12-14T10:09:53.554Z"
   },
   {
    "duration": 11,
    "start_time": "2023-12-14T10:09:53.600Z"
   },
   {
    "duration": 21,
    "start_time": "2023-12-14T10:09:53.613Z"
   },
   {
    "duration": 33,
    "start_time": "2023-12-14T10:09:53.636Z"
   },
   {
    "duration": 51,
    "start_time": "2023-12-14T10:09:53.671Z"
   },
   {
    "duration": 3,
    "start_time": "2023-12-14T10:09:53.724Z"
   },
   {
    "duration": 31,
    "start_time": "2023-12-14T10:09:53.729Z"
   },
   {
    "duration": 130,
    "start_time": "2023-12-14T10:09:53.762Z"
   },
   {
    "duration": 4,
    "start_time": "2023-12-14T10:09:53.894Z"
   },
   {
    "duration": 10,
    "start_time": "2023-12-14T10:09:53.899Z"
   },
   {
    "duration": 14,
    "start_time": "2023-12-14T10:09:53.910Z"
   },
   {
    "duration": 14,
    "start_time": "2023-12-14T10:09:53.925Z"
   },
   {
    "duration": 30,
    "start_time": "2023-12-14T10:09:53.941Z"
   },
   {
    "duration": 31,
    "start_time": "2023-12-14T10:09:53.972Z"
   },
   {
    "duration": 22,
    "start_time": "2023-12-14T10:09:54.004Z"
   },
   {
    "duration": 18,
    "start_time": "2023-12-14T10:09:54.027Z"
   },
   {
    "duration": 55,
    "start_time": "2023-12-14T10:09:54.046Z"
   },
   {
    "duration": 419,
    "start_time": "2023-12-14T10:09:54.102Z"
   },
   {
    "duration": 376,
    "start_time": "2023-12-14T10:09:54.522Z"
   },
   {
    "duration": 6,
    "start_time": "2023-12-14T10:09:54.900Z"
   },
   {
    "duration": 33,
    "start_time": "2023-12-14T10:09:54.907Z"
   },
   {
    "duration": 28,
    "start_time": "2023-12-14T10:09:54.941Z"
   },
   {
    "duration": 27,
    "start_time": "2023-12-14T10:09:54.971Z"
   },
   {
    "duration": 34,
    "start_time": "2023-12-14T10:09:54.999Z"
   },
   {
    "duration": 410,
    "start_time": "2023-12-14T10:09:55.035Z"
   },
   {
    "duration": 404,
    "start_time": "2023-12-14T10:09:55.446Z"
   },
   {
    "duration": 5,
    "start_time": "2023-12-14T10:09:55.851Z"
   },
   {
    "duration": 13,
    "start_time": "2023-12-14T10:09:55.858Z"
   },
   {
    "duration": 54,
    "start_time": "2023-12-14T10:09:55.873Z"
   },
   {
    "duration": 55,
    "start_time": "2023-12-14T10:09:55.928Z"
   },
   {
    "duration": 1151,
    "start_time": "2023-12-14T10:10:41.632Z"
   },
   {
    "duration": 38,
    "start_time": "2023-12-14T10:10:42.785Z"
   },
   {
    "duration": 93,
    "start_time": "2023-12-14T10:10:42.824Z"
   },
   {
    "duration": 9,
    "start_time": "2023-12-14T10:10:42.918Z"
   },
   {
    "duration": 24,
    "start_time": "2023-12-14T10:10:42.928Z"
   },
   {
    "duration": 3,
    "start_time": "2023-12-14T10:10:42.953Z"
   },
   {
    "duration": 15,
    "start_time": "2023-12-14T10:10:42.957Z"
   },
   {
    "duration": 21,
    "start_time": "2023-12-14T10:10:42.973Z"
   },
   {
    "duration": 74,
    "start_time": "2023-12-14T10:10:42.995Z"
   },
   {
    "duration": 19,
    "start_time": "2023-12-14T10:10:43.072Z"
   },
   {
    "duration": 15,
    "start_time": "2023-12-14T10:10:43.093Z"
   },
   {
    "duration": 55,
    "start_time": "2023-12-14T10:10:43.110Z"
   },
   {
    "duration": 10,
    "start_time": "2023-12-14T10:10:43.167Z"
   },
   {
    "duration": 23,
    "start_time": "2023-12-14T10:10:43.179Z"
   },
   {
    "duration": 34,
    "start_time": "2023-12-14T10:10:43.204Z"
   },
   {
    "duration": 5,
    "start_time": "2023-12-14T10:10:43.240Z"
   },
   {
    "duration": 45,
    "start_time": "2023-12-14T10:10:43.246Z"
   },
   {
    "duration": 10,
    "start_time": "2023-12-14T10:10:43.293Z"
   },
   {
    "duration": 55,
    "start_time": "2023-12-14T10:10:43.304Z"
   },
   {
    "duration": 22,
    "start_time": "2023-12-14T10:10:43.360Z"
   },
   {
    "duration": 3,
    "start_time": "2023-12-14T10:10:43.384Z"
   },
   {
    "duration": 374,
    "start_time": "2023-12-14T10:10:43.389Z"
   },
   {
    "duration": 21,
    "start_time": "2023-12-14T10:10:43.764Z"
   },
   {
    "duration": 99,
    "start_time": "2023-12-14T10:10:43.786Z"
   },
   {
    "duration": 66,
    "start_time": "2023-12-14T10:10:43.887Z"
   },
   {
    "duration": 65,
    "start_time": "2023-12-14T10:10:43.954Z"
   },
   {
    "duration": 33,
    "start_time": "2023-12-14T10:10:44.021Z"
   },
   {
    "duration": 3,
    "start_time": "2023-12-14T10:10:44.059Z"
   },
   {
    "duration": 733,
    "start_time": "2023-12-14T10:10:44.064Z"
   },
   {
    "duration": 23,
    "start_time": "2023-12-14T10:10:44.799Z"
   },
   {
    "duration": 3,
    "start_time": "2023-12-14T10:10:44.824Z"
   },
   {
    "duration": 25,
    "start_time": "2023-12-14T10:10:44.828Z"
   },
   {
    "duration": 28,
    "start_time": "2023-12-14T10:10:44.855Z"
   },
   {
    "duration": 6,
    "start_time": "2023-12-14T10:10:44.885Z"
   },
   {
    "duration": 37,
    "start_time": "2023-12-14T10:10:44.892Z"
   },
   {
    "duration": 7,
    "start_time": "2023-12-14T10:10:44.930Z"
   },
   {
    "duration": 3,
    "start_time": "2023-12-14T10:10:44.939Z"
   },
   {
    "duration": 13,
    "start_time": "2023-12-14T10:10:44.943Z"
   },
   {
    "duration": 6,
    "start_time": "2023-12-14T10:10:44.957Z"
   },
   {
    "duration": 14,
    "start_time": "2023-12-14T10:10:44.964Z"
   },
   {
    "duration": 13,
    "start_time": "2023-12-14T10:10:44.980Z"
   },
   {
    "duration": 607,
    "start_time": "2023-12-14T10:10:44.995Z"
   },
   {
    "duration": 22,
    "start_time": "2023-12-14T10:10:45.604Z"
   },
   {
    "duration": 27,
    "start_time": "2023-12-14T10:10:45.627Z"
   },
   {
    "duration": 85,
    "start_time": "2023-12-14T10:10:45.655Z"
   },
   {
    "duration": 15,
    "start_time": "2023-12-14T10:10:45.751Z"
   },
   {
    "duration": 44,
    "start_time": "2023-12-14T10:10:45.768Z"
   },
   {
    "duration": 10,
    "start_time": "2023-12-14T10:10:45.814Z"
   },
   {
    "duration": 28,
    "start_time": "2023-12-14T10:10:45.825Z"
   },
   {
    "duration": 13,
    "start_time": "2023-12-14T10:10:45.854Z"
   },
   {
    "duration": 37,
    "start_time": "2023-12-14T10:10:45.868Z"
   },
   {
    "duration": 4,
    "start_time": "2023-12-14T10:10:45.906Z"
   },
   {
    "duration": 47,
    "start_time": "2023-12-14T10:10:45.911Z"
   },
   {
    "duration": 109,
    "start_time": "2023-12-14T10:10:45.959Z"
   },
   {
    "duration": 3,
    "start_time": "2023-12-14T10:10:46.070Z"
   },
   {
    "duration": 11,
    "start_time": "2023-12-14T10:10:46.075Z"
   },
   {
    "duration": 12,
    "start_time": "2023-12-14T10:10:46.087Z"
   },
   {
    "duration": 16,
    "start_time": "2023-12-14T10:10:46.100Z"
   },
   {
    "duration": 37,
    "start_time": "2023-12-14T10:10:46.118Z"
   },
   {
    "duration": 5,
    "start_time": "2023-12-14T10:10:46.157Z"
   },
   {
    "duration": 10,
    "start_time": "2023-12-14T10:10:46.164Z"
   },
   {
    "duration": 17,
    "start_time": "2023-12-14T10:10:46.175Z"
   },
   {
    "duration": 56,
    "start_time": "2023-12-14T10:10:46.193Z"
   },
   {
    "duration": 401,
    "start_time": "2023-12-14T10:10:46.251Z"
   },
   {
    "duration": 383,
    "start_time": "2023-12-14T10:10:46.654Z"
   },
   {
    "duration": 7,
    "start_time": "2023-12-14T10:10:47.038Z"
   },
   {
    "duration": 12,
    "start_time": "2023-12-14T10:10:47.046Z"
   },
   {
    "duration": 15,
    "start_time": "2023-12-14T10:10:47.059Z"
   },
   {
    "duration": 4,
    "start_time": "2023-12-14T10:10:47.076Z"
   },
   {
    "duration": 13,
    "start_time": "2023-12-14T10:10:47.081Z"
   },
   {
    "duration": 364,
    "start_time": "2023-12-14T10:10:47.095Z"
   },
   {
    "duration": 376,
    "start_time": "2023-12-14T10:10:47.460Z"
   },
   {
    "duration": 6,
    "start_time": "2023-12-14T10:10:47.838Z"
   },
   {
    "duration": 30,
    "start_time": "2023-12-14T10:10:47.845Z"
   },
   {
    "duration": 7,
    "start_time": "2023-12-14T10:10:47.876Z"
   },
   {
    "duration": 18,
    "start_time": "2023-12-14T10:10:47.884Z"
   },
   {
    "duration": 1149,
    "start_time": "2023-12-14T10:11:28.620Z"
   },
   {
    "duration": 36,
    "start_time": "2023-12-14T10:11:29.771Z"
   },
   {
    "duration": 92,
    "start_time": "2023-12-14T10:11:29.809Z"
   },
   {
    "duration": 8,
    "start_time": "2023-12-14T10:11:29.903Z"
   },
   {
    "duration": 23,
    "start_time": "2023-12-14T10:11:29.912Z"
   },
   {
    "duration": 26,
    "start_time": "2023-12-14T10:11:29.937Z"
   },
   {
    "duration": 22,
    "start_time": "2023-12-14T10:11:29.964Z"
   },
   {
    "duration": 19,
    "start_time": "2023-12-14T10:11:29.987Z"
   },
   {
    "duration": 63,
    "start_time": "2023-12-14T10:11:30.007Z"
   },
   {
    "duration": 31,
    "start_time": "2023-12-14T10:11:30.073Z"
   },
   {
    "duration": 22,
    "start_time": "2023-12-14T10:11:30.106Z"
   },
   {
    "duration": 56,
    "start_time": "2023-12-14T10:11:30.130Z"
   },
   {
    "duration": 10,
    "start_time": "2023-12-14T10:11:30.187Z"
   },
   {
    "duration": 35,
    "start_time": "2023-12-14T10:11:30.198Z"
   },
   {
    "duration": 54,
    "start_time": "2023-12-14T10:11:30.234Z"
   },
   {
    "duration": 53,
    "start_time": "2023-12-14T10:11:30.289Z"
   },
   {
    "duration": 72,
    "start_time": "2023-12-14T10:11:30.343Z"
   },
   {
    "duration": 10,
    "start_time": "2023-12-14T10:11:30.416Z"
   },
   {
    "duration": 95,
    "start_time": "2023-12-14T10:11:30.427Z"
   },
   {
    "duration": 44,
    "start_time": "2023-12-14T10:11:30.524Z"
   },
   {
    "duration": 19,
    "start_time": "2023-12-14T10:11:30.569Z"
   },
   {
    "duration": 424,
    "start_time": "2023-12-14T10:11:30.589Z"
   },
   {
    "duration": 21,
    "start_time": "2023-12-14T10:11:31.014Z"
   },
   {
    "duration": 104,
    "start_time": "2023-12-14T10:11:31.052Z"
   },
   {
    "duration": 23,
    "start_time": "2023-12-14T10:11:31.157Z"
   },
   {
    "duration": 86,
    "start_time": "2023-12-14T10:11:31.181Z"
   },
   {
    "duration": 13,
    "start_time": "2023-12-14T10:11:31.269Z"
   },
   {
    "duration": 31,
    "start_time": "2023-12-14T10:11:31.285Z"
   },
   {
    "duration": 780,
    "start_time": "2023-12-14T10:11:31.317Z"
   },
   {
    "duration": 23,
    "start_time": "2023-12-14T10:11:32.098Z"
   },
   {
    "duration": 3,
    "start_time": "2023-12-14T10:11:32.122Z"
   },
   {
    "duration": 25,
    "start_time": "2023-12-14T10:11:32.127Z"
   },
   {
    "duration": 24,
    "start_time": "2023-12-14T10:11:32.153Z"
   },
   {
    "duration": 13,
    "start_time": "2023-12-14T10:11:32.178Z"
   },
   {
    "duration": 39,
    "start_time": "2023-12-14T10:11:32.193Z"
   },
   {
    "duration": 7,
    "start_time": "2023-12-14T10:11:32.233Z"
   },
   {
    "duration": 9,
    "start_time": "2023-12-14T10:11:32.241Z"
   },
   {
    "duration": 15,
    "start_time": "2023-12-14T10:11:32.251Z"
   },
   {
    "duration": 12,
    "start_time": "2023-12-14T10:11:32.267Z"
   },
   {
    "duration": 15,
    "start_time": "2023-12-14T10:11:32.280Z"
   },
   {
    "duration": 9,
    "start_time": "2023-12-14T10:11:32.296Z"
   },
   {
    "duration": 596,
    "start_time": "2023-12-14T10:11:32.306Z"
   },
   {
    "duration": 21,
    "start_time": "2023-12-14T10:11:32.904Z"
   },
   {
    "duration": 79,
    "start_time": "2023-12-14T10:11:32.926Z"
   },
   {
    "duration": 157,
    "start_time": "2023-12-14T10:11:33.006Z"
   },
   {
    "duration": 14,
    "start_time": "2023-12-14T10:11:33.164Z"
   },
   {
    "duration": 161,
    "start_time": "2023-12-14T10:11:33.179Z"
   },
   {
    "duration": 9,
    "start_time": "2023-12-14T10:11:33.341Z"
   },
   {
    "duration": 6,
    "start_time": "2023-12-14T10:11:33.351Z"
   },
   {
    "duration": 20,
    "start_time": "2023-12-14T10:11:33.359Z"
   },
   {
    "duration": 39,
    "start_time": "2023-12-14T10:11:33.380Z"
   },
   {
    "duration": 3,
    "start_time": "2023-12-14T10:11:33.420Z"
   },
   {
    "duration": 44,
    "start_time": "2023-12-14T10:11:33.424Z"
   },
   {
    "duration": 102,
    "start_time": "2023-12-14T10:11:33.469Z"
   },
   {
    "duration": 3,
    "start_time": "2023-12-14T10:11:33.572Z"
   },
   {
    "duration": 16,
    "start_time": "2023-12-14T10:11:33.577Z"
   },
   {
    "duration": 8,
    "start_time": "2023-12-14T10:11:33.594Z"
   },
   {
    "duration": 13,
    "start_time": "2023-12-14T10:11:33.603Z"
   },
   {
    "duration": 34,
    "start_time": "2023-12-14T10:11:33.618Z"
   },
   {
    "duration": 5,
    "start_time": "2023-12-14T10:11:33.654Z"
   },
   {
    "duration": 10,
    "start_time": "2023-12-14T10:11:33.660Z"
   },
   {
    "duration": 4,
    "start_time": "2023-12-14T10:11:33.672Z"
   },
   {
    "duration": 46,
    "start_time": "2023-12-14T10:11:33.677Z"
   },
   {
    "duration": 404,
    "start_time": "2023-12-14T10:11:33.725Z"
   },
   {
    "duration": 377,
    "start_time": "2023-12-14T10:11:34.131Z"
   },
   {
    "duration": 7,
    "start_time": "2023-12-14T10:11:34.509Z"
   },
   {
    "duration": 17,
    "start_time": "2023-12-14T10:11:34.517Z"
   },
   {
    "duration": 25,
    "start_time": "2023-12-14T10:11:34.535Z"
   },
   {
    "duration": 13,
    "start_time": "2023-12-14T10:11:34.561Z"
   },
   {
    "duration": 7,
    "start_time": "2023-12-14T10:11:34.575Z"
   },
   {
    "duration": 348,
    "start_time": "2023-12-14T10:11:34.583Z"
   },
   {
    "duration": 406,
    "start_time": "2023-12-14T10:11:34.933Z"
   },
   {
    "duration": 5,
    "start_time": "2023-12-14T10:11:35.340Z"
   },
   {
    "duration": 8,
    "start_time": "2023-12-14T10:11:35.351Z"
   },
   {
    "duration": 10,
    "start_time": "2023-12-14T10:11:35.360Z"
   },
   {
    "duration": 6,
    "start_time": "2023-12-14T10:11:35.372Z"
   },
   {
    "duration": 1152,
    "start_time": "2023-12-14T10:12:44.228Z"
   },
   {
    "duration": 38,
    "start_time": "2023-12-14T10:12:45.381Z"
   },
   {
    "duration": 91,
    "start_time": "2023-12-14T10:12:45.420Z"
   },
   {
    "duration": 8,
    "start_time": "2023-12-14T10:12:45.513Z"
   },
   {
    "duration": 40,
    "start_time": "2023-12-14T10:12:45.523Z"
   },
   {
    "duration": 7,
    "start_time": "2023-12-14T10:12:45.565Z"
   },
   {
    "duration": 37,
    "start_time": "2023-12-14T10:12:45.573Z"
   },
   {
    "duration": 19,
    "start_time": "2023-12-14T10:12:45.611Z"
   },
   {
    "duration": 50,
    "start_time": "2023-12-14T10:12:45.631Z"
   },
   {
    "duration": 17,
    "start_time": "2023-12-14T10:12:45.683Z"
   },
   {
    "duration": 18,
    "start_time": "2023-12-14T10:12:45.701Z"
   },
   {
    "duration": 37,
    "start_time": "2023-12-14T10:12:45.721Z"
   },
   {
    "duration": 10,
    "start_time": "2023-12-14T10:12:45.759Z"
   },
   {
    "duration": 40,
    "start_time": "2023-12-14T10:12:45.770Z"
   },
   {
    "duration": 37,
    "start_time": "2023-12-14T10:12:45.811Z"
   },
   {
    "duration": 38,
    "start_time": "2023-12-14T10:12:45.849Z"
   },
   {
    "duration": 57,
    "start_time": "2023-12-14T10:12:45.889Z"
   },
   {
    "duration": 11,
    "start_time": "2023-12-14T10:12:45.948Z"
   },
   {
    "duration": 83,
    "start_time": "2023-12-14T10:12:45.960Z"
   },
   {
    "duration": 21,
    "start_time": "2023-12-14T10:12:46.044Z"
   },
   {
    "duration": 5,
    "start_time": "2023-12-14T10:12:46.067Z"
   },
   {
    "duration": 397,
    "start_time": "2023-12-14T10:12:46.074Z"
   },
   {
    "duration": 20,
    "start_time": "2023-12-14T10:12:46.473Z"
   },
   {
    "duration": 86,
    "start_time": "2023-12-14T10:12:46.495Z"
   },
   {
    "duration": 21,
    "start_time": "2023-12-14T10:12:46.583Z"
   },
   {
    "duration": 105,
    "start_time": "2023-12-14T10:12:46.605Z"
   },
   {
    "duration": 12,
    "start_time": "2023-12-14T10:12:46.712Z"
   },
   {
    "duration": 24,
    "start_time": "2023-12-14T10:12:46.728Z"
   },
   {
    "duration": 765,
    "start_time": "2023-12-14T10:12:46.753Z"
   },
   {
    "duration": 20,
    "start_time": "2023-12-14T10:12:47.520Z"
   },
   {
    "duration": 3,
    "start_time": "2023-12-14T10:12:47.552Z"
   },
   {
    "duration": 18,
    "start_time": "2023-12-14T10:12:47.556Z"
   },
   {
    "duration": 20,
    "start_time": "2023-12-14T10:12:47.575Z"
   },
   {
    "duration": 7,
    "start_time": "2023-12-14T10:12:47.596Z"
   },
   {
    "duration": 32,
    "start_time": "2023-12-14T10:12:47.604Z"
   },
   {
    "duration": 7,
    "start_time": "2023-12-14T10:12:47.637Z"
   },
   {
    "duration": 11,
    "start_time": "2023-12-14T10:12:47.645Z"
   },
   {
    "duration": 11,
    "start_time": "2023-12-14T10:12:47.658Z"
   },
   {
    "duration": 13,
    "start_time": "2023-12-14T10:12:47.670Z"
   },
   {
    "duration": 11,
    "start_time": "2023-12-14T10:12:47.684Z"
   },
   {
    "duration": 18,
    "start_time": "2023-12-14T10:12:47.697Z"
   },
   {
    "duration": 585,
    "start_time": "2023-12-14T10:12:47.717Z"
   },
   {
    "duration": 23,
    "start_time": "2023-12-14T10:12:48.304Z"
   },
   {
    "duration": 26,
    "start_time": "2023-12-14T10:12:48.329Z"
   },
   {
    "duration": 81,
    "start_time": "2023-12-14T10:12:48.357Z"
   },
   {
    "duration": 23,
    "start_time": "2023-12-14T10:12:48.439Z"
   },
   {
    "duration": 48,
    "start_time": "2023-12-14T10:12:48.464Z"
   },
   {
    "duration": 8,
    "start_time": "2023-12-14T10:12:48.513Z"
   },
   {
    "duration": 4,
    "start_time": "2023-12-14T10:12:48.522Z"
   },
   {
    "duration": 36,
    "start_time": "2023-12-14T10:12:48.527Z"
   },
   {
    "duration": 41,
    "start_time": "2023-12-14T10:12:48.565Z"
   },
   {
    "duration": 14,
    "start_time": "2023-12-14T10:12:48.608Z"
   },
   {
    "duration": 40,
    "start_time": "2023-12-14T10:12:48.623Z"
   },
   {
    "duration": 101,
    "start_time": "2023-12-14T10:12:48.664Z"
   },
   {
    "duration": 3,
    "start_time": "2023-12-14T10:12:48.766Z"
   },
   {
    "duration": 23,
    "start_time": "2023-12-14T10:12:48.771Z"
   },
   {
    "duration": 13,
    "start_time": "2023-12-14T10:12:48.795Z"
   },
   {
    "duration": 17,
    "start_time": "2023-12-14T10:12:48.809Z"
   },
   {
    "duration": 27,
    "start_time": "2023-12-14T10:12:48.827Z"
   },
   {
    "duration": 9,
    "start_time": "2023-12-14T10:12:48.856Z"
   },
   {
    "duration": 14,
    "start_time": "2023-12-14T10:12:48.867Z"
   },
   {
    "duration": 13,
    "start_time": "2023-12-14T10:12:48.883Z"
   },
   {
    "duration": 62,
    "start_time": "2023-12-14T10:12:48.897Z"
   },
   {
    "duration": 409,
    "start_time": "2023-12-14T10:12:48.960Z"
   },
   {
    "duration": 382,
    "start_time": "2023-12-14T10:12:49.370Z"
   },
   {
    "duration": 7,
    "start_time": "2023-12-14T10:12:49.753Z"
   },
   {
    "duration": 9,
    "start_time": "2023-12-14T10:12:49.761Z"
   },
   {
    "duration": 14,
    "start_time": "2023-12-14T10:12:49.772Z"
   },
   {
    "duration": 12,
    "start_time": "2023-12-14T10:12:49.788Z"
   },
   {
    "duration": 6,
    "start_time": "2023-12-14T10:12:49.802Z"
   },
   {
    "duration": 348,
    "start_time": "2023-12-14T10:12:49.810Z"
   },
   {
    "duration": 369,
    "start_time": "2023-12-14T10:12:50.159Z"
   },
   {
    "duration": 4,
    "start_time": "2023-12-14T10:12:50.530Z"
   },
   {
    "duration": 19,
    "start_time": "2023-12-14T10:12:50.535Z"
   },
   {
    "duration": 22,
    "start_time": "2023-12-14T10:12:50.555Z"
   },
   {
    "duration": 7,
    "start_time": "2023-12-14T10:12:50.578Z"
   },
   {
    "duration": 1131,
    "start_time": "2023-12-14T10:13:09.959Z"
   },
   {
    "duration": 36,
    "start_time": "2023-12-14T10:13:11.092Z"
   },
   {
    "duration": 93,
    "start_time": "2023-12-14T10:13:11.130Z"
   },
   {
    "duration": 10,
    "start_time": "2023-12-14T10:13:11.224Z"
   },
   {
    "duration": 28,
    "start_time": "2023-12-14T10:13:11.235Z"
   },
   {
    "duration": 10,
    "start_time": "2023-12-14T10:13:11.264Z"
   },
   {
    "duration": 16,
    "start_time": "2023-12-14T10:13:11.276Z"
   },
   {
    "duration": 19,
    "start_time": "2023-12-14T10:13:11.293Z"
   },
   {
    "duration": 65,
    "start_time": "2023-12-14T10:13:11.314Z"
   },
   {
    "duration": 19,
    "start_time": "2023-12-14T10:13:11.382Z"
   },
   {
    "duration": 24,
    "start_time": "2023-12-14T10:13:11.402Z"
   },
   {
    "duration": 37,
    "start_time": "2023-12-14T10:13:11.428Z"
   },
   {
    "duration": 10,
    "start_time": "2023-12-14T10:13:11.466Z"
   },
   {
    "duration": 12,
    "start_time": "2023-12-14T10:13:11.477Z"
   },
   {
    "duration": 17,
    "start_time": "2023-12-14T10:13:11.490Z"
   },
   {
    "duration": 3,
    "start_time": "2023-12-14T10:13:11.509Z"
   },
   {
    "duration": 50,
    "start_time": "2023-12-14T10:13:11.513Z"
   },
   {
    "duration": 10,
    "start_time": "2023-12-14T10:13:11.565Z"
   },
   {
    "duration": 51,
    "start_time": "2023-12-14T10:13:11.576Z"
   },
   {
    "duration": 40,
    "start_time": "2023-12-14T10:13:11.628Z"
   },
   {
    "duration": 4,
    "start_time": "2023-12-14T10:13:11.669Z"
   },
   {
    "duration": 381,
    "start_time": "2023-12-14T10:13:11.674Z"
   },
   {
    "duration": 22,
    "start_time": "2023-12-14T10:13:12.056Z"
   },
   {
    "duration": 106,
    "start_time": "2023-12-14T10:13:12.079Z"
   },
   {
    "duration": 66,
    "start_time": "2023-12-14T10:13:12.186Z"
   },
   {
    "duration": 65,
    "start_time": "2023-12-14T10:13:12.254Z"
   },
   {
    "duration": 32,
    "start_time": "2023-12-14T10:13:12.321Z"
   },
   {
    "duration": 4,
    "start_time": "2023-12-14T10:13:12.357Z"
   },
   {
    "duration": 722,
    "start_time": "2023-12-14T10:13:12.362Z"
   },
   {
    "duration": 21,
    "start_time": "2023-12-14T10:13:13.086Z"
   },
   {
    "duration": 3,
    "start_time": "2023-12-14T10:13:13.108Z"
   },
   {
    "duration": 14,
    "start_time": "2023-12-14T10:13:13.112Z"
   },
   {
    "duration": 37,
    "start_time": "2023-12-14T10:13:13.127Z"
   },
   {
    "duration": 13,
    "start_time": "2023-12-14T10:13:13.166Z"
   },
   {
    "duration": 35,
    "start_time": "2023-12-14T10:13:13.180Z"
   },
   {
    "duration": 37,
    "start_time": "2023-12-14T10:13:13.216Z"
   },
   {
    "duration": 15,
    "start_time": "2023-12-14T10:13:13.255Z"
   },
   {
    "duration": 14,
    "start_time": "2023-12-14T10:13:13.272Z"
   },
   {
    "duration": 4,
    "start_time": "2023-12-14T10:13:13.288Z"
   },
   {
    "duration": 6,
    "start_time": "2023-12-14T10:13:13.294Z"
   },
   {
    "duration": 8,
    "start_time": "2023-12-14T10:13:13.302Z"
   },
   {
    "duration": 595,
    "start_time": "2023-12-14T10:13:13.312Z"
   },
   {
    "duration": 21,
    "start_time": "2023-12-14T10:13:13.909Z"
   },
   {
    "duration": 23,
    "start_time": "2023-12-14T10:13:13.932Z"
   },
   {
    "duration": 101,
    "start_time": "2023-12-14T10:13:13.956Z"
   },
   {
    "duration": 18,
    "start_time": "2023-12-14T10:13:14.059Z"
   },
   {
    "duration": 50,
    "start_time": "2023-12-14T10:13:14.079Z"
   },
   {
    "duration": 26,
    "start_time": "2023-12-14T10:13:14.130Z"
   },
   {
    "duration": 10,
    "start_time": "2023-12-14T10:13:14.157Z"
   },
   {
    "duration": 13,
    "start_time": "2023-12-14T10:13:14.168Z"
   },
   {
    "duration": 45,
    "start_time": "2023-12-14T10:13:14.182Z"
   },
   {
    "duration": 3,
    "start_time": "2023-12-14T10:13:14.228Z"
   },
   {
    "duration": 29,
    "start_time": "2023-12-14T10:13:14.232Z"
   },
   {
    "duration": 144,
    "start_time": "2023-12-14T10:13:14.263Z"
   },
   {
    "duration": 3,
    "start_time": "2023-12-14T10:13:14.408Z"
   },
   {
    "duration": 8,
    "start_time": "2023-12-14T10:13:14.413Z"
   },
   {
    "duration": 40,
    "start_time": "2023-12-14T10:13:14.422Z"
   },
   {
    "duration": 27,
    "start_time": "2023-12-14T10:13:14.463Z"
   },
   {
    "duration": 40,
    "start_time": "2023-12-14T10:13:14.491Z"
   },
   {
    "duration": 7,
    "start_time": "2023-12-14T10:13:14.533Z"
   },
   {
    "duration": 13,
    "start_time": "2023-12-14T10:13:14.541Z"
   },
   {
    "duration": 3,
    "start_time": "2023-12-14T10:13:14.556Z"
   },
   {
    "duration": 52,
    "start_time": "2023-12-14T10:13:14.561Z"
   },
   {
    "duration": 411,
    "start_time": "2023-12-14T10:13:14.614Z"
   },
   {
    "duration": 408,
    "start_time": "2023-12-14T10:13:15.027Z"
   },
   {
    "duration": 18,
    "start_time": "2023-12-14T10:13:15.437Z"
   },
   {
    "duration": 9,
    "start_time": "2023-12-14T10:13:15.457Z"
   },
   {
    "duration": 40,
    "start_time": "2023-12-14T10:13:15.468Z"
   },
   {
    "duration": 11,
    "start_time": "2023-12-14T10:13:15.509Z"
   },
   {
    "duration": 35,
    "start_time": "2023-12-14T10:13:15.521Z"
   },
   {
    "duration": 380,
    "start_time": "2023-12-14T10:13:15.558Z"
   },
   {
    "duration": 371,
    "start_time": "2023-12-14T10:13:15.939Z"
   },
   {
    "duration": 5,
    "start_time": "2023-12-14T10:13:16.311Z"
   },
   {
    "duration": 12,
    "start_time": "2023-12-14T10:13:16.317Z"
   },
   {
    "duration": 14,
    "start_time": "2023-12-14T10:13:16.331Z"
   },
   {
    "duration": 6,
    "start_time": "2023-12-14T10:13:16.351Z"
   },
   {
    "duration": 1160,
    "start_time": "2023-12-14T10:13:30.820Z"
   },
   {
    "duration": 36,
    "start_time": "2023-12-14T10:13:31.982Z"
   },
   {
    "duration": 98,
    "start_time": "2023-12-14T10:13:32.020Z"
   },
   {
    "duration": 10,
    "start_time": "2023-12-14T10:13:32.119Z"
   },
   {
    "duration": 31,
    "start_time": "2023-12-14T10:13:32.130Z"
   },
   {
    "duration": 21,
    "start_time": "2023-12-14T10:13:32.162Z"
   },
   {
    "duration": 19,
    "start_time": "2023-12-14T10:13:32.185Z"
   },
   {
    "duration": 20,
    "start_time": "2023-12-14T10:13:32.206Z"
   },
   {
    "duration": 53,
    "start_time": "2023-12-14T10:13:32.227Z"
   },
   {
    "duration": 17,
    "start_time": "2023-12-14T10:13:32.281Z"
   },
   {
    "duration": 34,
    "start_time": "2023-12-14T10:13:32.299Z"
   },
   {
    "duration": 41,
    "start_time": "2023-12-14T10:13:32.335Z"
   },
   {
    "duration": 10,
    "start_time": "2023-12-14T10:13:32.377Z"
   },
   {
    "duration": 17,
    "start_time": "2023-12-14T10:13:32.389Z"
   },
   {
    "duration": 20,
    "start_time": "2023-12-14T10:13:32.407Z"
   },
   {
    "duration": 3,
    "start_time": "2023-12-14T10:13:32.429Z"
   },
   {
    "duration": 62,
    "start_time": "2023-12-14T10:13:32.434Z"
   },
   {
    "duration": 35,
    "start_time": "2023-12-14T10:13:32.497Z"
   },
   {
    "duration": 48,
    "start_time": "2023-12-14T10:13:32.533Z"
   },
   {
    "duration": 20,
    "start_time": "2023-12-14T10:13:32.582Z"
   },
   {
    "duration": 5,
    "start_time": "2023-12-14T10:13:32.603Z"
   },
   {
    "duration": 363,
    "start_time": "2023-12-14T10:13:32.609Z"
   },
   {
    "duration": 18,
    "start_time": "2023-12-14T10:13:32.974Z"
   },
   {
    "duration": 84,
    "start_time": "2023-12-14T10:13:32.994Z"
   },
   {
    "duration": 21,
    "start_time": "2023-12-14T10:13:33.079Z"
   },
   {
    "duration": 105,
    "start_time": "2023-12-14T10:13:33.101Z"
   },
   {
    "duration": 12,
    "start_time": "2023-12-14T10:13:33.207Z"
   },
   {
    "duration": 7,
    "start_time": "2023-12-14T10:13:33.221Z"
   },
   {
    "duration": 761,
    "start_time": "2023-12-14T10:13:33.230Z"
   },
   {
    "duration": 23,
    "start_time": "2023-12-14T10:13:33.992Z"
   },
   {
    "duration": 4,
    "start_time": "2023-12-14T10:13:34.016Z"
   },
   {
    "duration": 11,
    "start_time": "2023-12-14T10:13:34.021Z"
   },
   {
    "duration": 27,
    "start_time": "2023-12-14T10:13:34.034Z"
   },
   {
    "duration": 7,
    "start_time": "2023-12-14T10:13:34.062Z"
   },
   {
    "duration": 24,
    "start_time": "2023-12-14T10:13:34.071Z"
   },
   {
    "duration": 7,
    "start_time": "2023-12-14T10:13:34.096Z"
   },
   {
    "duration": 4,
    "start_time": "2023-12-14T10:13:34.104Z"
   },
   {
    "duration": 12,
    "start_time": "2023-12-14T10:13:34.110Z"
   },
   {
    "duration": 29,
    "start_time": "2023-12-14T10:13:34.123Z"
   },
   {
    "duration": 16,
    "start_time": "2023-12-14T10:13:34.154Z"
   },
   {
    "duration": 9,
    "start_time": "2023-12-14T10:13:34.174Z"
   },
   {
    "duration": 584,
    "start_time": "2023-12-14T10:13:34.185Z"
   },
   {
    "duration": 20,
    "start_time": "2023-12-14T10:13:34.770Z"
   },
   {
    "duration": 8,
    "start_time": "2023-12-14T10:13:34.791Z"
   },
   {
    "duration": 101,
    "start_time": "2023-12-14T10:13:34.800Z"
   },
   {
    "duration": 15,
    "start_time": "2023-12-14T10:13:34.902Z"
   },
   {
    "duration": 56,
    "start_time": "2023-12-14T10:13:34.918Z"
   },
   {
    "duration": 9,
    "start_time": "2023-12-14T10:13:34.975Z"
   },
   {
    "duration": 4,
    "start_time": "2023-12-14T10:13:34.985Z"
   },
   {
    "duration": 20,
    "start_time": "2023-12-14T10:13:34.991Z"
   },
   {
    "duration": 72,
    "start_time": "2023-12-14T10:13:35.013Z"
   },
   {
    "duration": 4,
    "start_time": "2023-12-14T10:13:35.087Z"
   },
   {
    "duration": 16,
    "start_time": "2023-12-14T10:13:35.093Z"
   },
   {
    "duration": 135,
    "start_time": "2023-12-14T10:13:35.111Z"
   },
   {
    "duration": 6,
    "start_time": "2023-12-14T10:13:35.247Z"
   },
   {
    "duration": 8,
    "start_time": "2023-12-14T10:13:35.254Z"
   },
   {
    "duration": 5,
    "start_time": "2023-12-14T10:13:35.263Z"
   },
   {
    "duration": 10,
    "start_time": "2023-12-14T10:13:35.269Z"
   },
   {
    "duration": 25,
    "start_time": "2023-12-14T10:13:35.280Z"
   },
   {
    "duration": 5,
    "start_time": "2023-12-14T10:13:35.307Z"
   },
   {
    "duration": 13,
    "start_time": "2023-12-14T10:13:35.313Z"
   },
   {
    "duration": 4,
    "start_time": "2023-12-14T10:13:35.351Z"
   },
   {
    "duration": 46,
    "start_time": "2023-12-14T10:13:35.356Z"
   },
   {
    "duration": 397,
    "start_time": "2023-12-14T10:13:35.404Z"
   },
   {
    "duration": 370,
    "start_time": "2023-12-14T10:13:35.802Z"
   },
   {
    "duration": 7,
    "start_time": "2023-12-14T10:13:36.173Z"
   },
   {
    "duration": 13,
    "start_time": "2023-12-14T10:13:36.181Z"
   },
   {
    "duration": 23,
    "start_time": "2023-12-14T10:13:36.195Z"
   },
   {
    "duration": 9,
    "start_time": "2023-12-14T10:13:36.219Z"
   },
   {
    "duration": 6,
    "start_time": "2023-12-14T10:13:36.229Z"
   },
   {
    "duration": 346,
    "start_time": "2023-12-14T10:13:36.237Z"
   },
   {
    "duration": 374,
    "start_time": "2023-12-14T10:13:36.584Z"
   },
   {
    "duration": 4,
    "start_time": "2023-12-14T10:13:36.959Z"
   },
   {
    "duration": 10,
    "start_time": "2023-12-14T10:13:36.965Z"
   },
   {
    "duration": 9,
    "start_time": "2023-12-14T10:13:36.976Z"
   },
   {
    "duration": 8,
    "start_time": "2023-12-14T10:13:36.986Z"
   },
   {
    "duration": 1098,
    "start_time": "2023-12-14T10:14:31.690Z"
   },
   {
    "duration": 41,
    "start_time": "2023-12-14T10:14:32.790Z"
   },
   {
    "duration": 92,
    "start_time": "2023-12-14T10:14:32.833Z"
   },
   {
    "duration": 9,
    "start_time": "2023-12-14T10:14:32.927Z"
   },
   {
    "duration": 25,
    "start_time": "2023-12-14T10:14:32.938Z"
   },
   {
    "duration": 3,
    "start_time": "2023-12-14T10:14:32.965Z"
   },
   {
    "duration": 21,
    "start_time": "2023-12-14T10:14:32.969Z"
   },
   {
    "duration": 20,
    "start_time": "2023-12-14T10:14:32.992Z"
   },
   {
    "duration": 71,
    "start_time": "2023-12-14T10:14:33.014Z"
   },
   {
    "duration": 18,
    "start_time": "2023-12-14T10:14:33.086Z"
   },
   {
    "duration": 18,
    "start_time": "2023-12-14T10:14:33.105Z"
   },
   {
    "duration": 42,
    "start_time": "2023-12-14T10:14:33.124Z"
   },
   {
    "duration": 11,
    "start_time": "2023-12-14T10:14:33.168Z"
   },
   {
    "duration": 12,
    "start_time": "2023-12-14T10:14:33.182Z"
   },
   {
    "duration": 15,
    "start_time": "2023-12-14T10:14:33.196Z"
   },
   {
    "duration": 3,
    "start_time": "2023-12-14T10:14:33.212Z"
   },
   {
    "duration": 66,
    "start_time": "2023-12-14T10:14:33.217Z"
   },
   {
    "duration": 11,
    "start_time": "2023-12-14T10:14:33.285Z"
   },
   {
    "duration": 60,
    "start_time": "2023-12-14T10:14:33.297Z"
   },
   {
    "duration": 21,
    "start_time": "2023-12-14T10:14:33.358Z"
   },
   {
    "duration": 3,
    "start_time": "2023-12-14T10:14:33.380Z"
   },
   {
    "duration": 385,
    "start_time": "2023-12-14T10:14:33.384Z"
   },
   {
    "duration": 20,
    "start_time": "2023-12-14T10:14:33.770Z"
   },
   {
    "duration": 96,
    "start_time": "2023-12-14T10:14:33.791Z"
   },
   {
    "duration": 68,
    "start_time": "2023-12-14T10:14:33.888Z"
   },
   {
    "duration": 62,
    "start_time": "2023-12-14T10:14:33.958Z"
   },
   {
    "duration": 12,
    "start_time": "2023-12-14T10:14:34.022Z"
   },
   {
    "duration": 35,
    "start_time": "2023-12-14T10:14:34.035Z"
   },
   {
    "duration": 819,
    "start_time": "2023-12-14T10:14:34.072Z"
   },
   {
    "duration": 22,
    "start_time": "2023-12-14T10:14:34.892Z"
   },
   {
    "duration": 3,
    "start_time": "2023-12-14T10:14:34.916Z"
   },
   {
    "duration": 11,
    "start_time": "2023-12-14T10:14:34.920Z"
   },
   {
    "duration": 28,
    "start_time": "2023-12-14T10:14:34.933Z"
   },
   {
    "duration": 21,
    "start_time": "2023-12-14T10:14:34.962Z"
   },
   {
    "duration": 33,
    "start_time": "2023-12-14T10:14:34.984Z"
   },
   {
    "duration": 8,
    "start_time": "2023-12-14T10:14:35.018Z"
   },
   {
    "duration": 20,
    "start_time": "2023-12-14T10:14:35.028Z"
   },
   {
    "duration": 10,
    "start_time": "2023-12-14T10:14:35.049Z"
   },
   {
    "duration": 8,
    "start_time": "2023-12-14T10:14:35.060Z"
   },
   {
    "duration": 16,
    "start_time": "2023-12-14T10:14:35.069Z"
   },
   {
    "duration": 10,
    "start_time": "2023-12-14T10:14:35.089Z"
   },
   {
    "duration": 597,
    "start_time": "2023-12-14T10:14:35.101Z"
   },
   {
    "duration": 21,
    "start_time": "2023-12-14T10:14:35.699Z"
   },
   {
    "duration": 17,
    "start_time": "2023-12-14T10:14:35.721Z"
   },
   {
    "duration": 92,
    "start_time": "2023-12-14T10:14:35.752Z"
   },
   {
    "duration": 13,
    "start_time": "2023-12-14T10:14:35.852Z"
   },
   {
    "duration": 42,
    "start_time": "2023-12-14T10:14:35.867Z"
   },
   {
    "duration": 8,
    "start_time": "2023-12-14T10:14:35.911Z"
   },
   {
    "duration": 8,
    "start_time": "2023-12-14T10:14:35.921Z"
   },
   {
    "duration": 31,
    "start_time": "2023-12-14T10:14:35.931Z"
   },
   {
    "duration": 38,
    "start_time": "2023-12-14T10:14:35.963Z"
   },
   {
    "duration": 14,
    "start_time": "2023-12-14T10:14:36.003Z"
   },
   {
    "duration": 22,
    "start_time": "2023-12-14T10:14:36.018Z"
   },
   {
    "duration": 119,
    "start_time": "2023-12-14T10:14:36.041Z"
   },
   {
    "duration": 2,
    "start_time": "2023-12-14T10:14:36.162Z"
   },
   {
    "duration": 11,
    "start_time": "2023-12-14T10:14:36.166Z"
   },
   {
    "duration": 10,
    "start_time": "2023-12-14T10:14:36.178Z"
   },
   {
    "duration": 22,
    "start_time": "2023-12-14T10:14:36.189Z"
   },
   {
    "duration": 43,
    "start_time": "2023-12-14T10:14:36.212Z"
   },
   {
    "duration": 6,
    "start_time": "2023-12-14T10:14:36.256Z"
   },
   {
    "duration": 16,
    "start_time": "2023-12-14T10:14:36.264Z"
   },
   {
    "duration": 17,
    "start_time": "2023-12-14T10:14:36.281Z"
   },
   {
    "duration": 49,
    "start_time": "2023-12-14T10:14:36.300Z"
   },
   {
    "duration": 407,
    "start_time": "2023-12-14T10:14:36.351Z"
   },
   {
    "duration": 377,
    "start_time": "2023-12-14T10:14:36.760Z"
   },
   {
    "duration": 7,
    "start_time": "2023-12-14T10:14:37.139Z"
   },
   {
    "duration": 9,
    "start_time": "2023-12-14T10:14:37.147Z"
   },
   {
    "duration": 12,
    "start_time": "2023-12-14T10:14:37.158Z"
   },
   {
    "duration": 7,
    "start_time": "2023-12-14T10:14:37.171Z"
   },
   {
    "duration": 10,
    "start_time": "2023-12-14T10:14:37.179Z"
   },
   {
    "duration": 373,
    "start_time": "2023-12-14T10:14:37.190Z"
   },
   {
    "duration": 397,
    "start_time": "2023-12-14T10:14:37.564Z"
   },
   {
    "duration": 4,
    "start_time": "2023-12-14T10:14:37.963Z"
   },
   {
    "duration": 8,
    "start_time": "2023-12-14T10:14:37.969Z"
   },
   {
    "duration": 13,
    "start_time": "2023-12-14T10:14:37.979Z"
   },
   {
    "duration": 6,
    "start_time": "2023-12-14T10:14:37.993Z"
   },
   {
    "duration": 11,
    "start_time": "2023-12-14T10:17:36.231Z"
   },
   {
    "duration": 9,
    "start_time": "2023-12-14T10:17:40.876Z"
   },
   {
    "duration": 140,
    "start_time": "2023-12-14T10:21:21.609Z"
   },
   {
    "duration": 9,
    "start_time": "2023-12-14T10:23:28.564Z"
   },
   {
    "duration": 1172,
    "start_time": "2023-12-14T10:24:46.349Z"
   },
   {
    "duration": 36,
    "start_time": "2023-12-14T10:24:47.522Z"
   },
   {
    "duration": 93,
    "start_time": "2023-12-14T10:24:47.559Z"
   },
   {
    "duration": 9,
    "start_time": "2023-12-14T10:24:47.654Z"
   },
   {
    "duration": 16,
    "start_time": "2023-12-14T10:24:47.665Z"
   },
   {
    "duration": 3,
    "start_time": "2023-12-14T10:24:47.683Z"
   },
   {
    "duration": 19,
    "start_time": "2023-12-14T10:24:47.687Z"
   },
   {
    "duration": 20,
    "start_time": "2023-12-14T10:24:47.707Z"
   },
   {
    "duration": 68,
    "start_time": "2023-12-14T10:24:47.729Z"
   },
   {
    "duration": 17,
    "start_time": "2023-12-14T10:24:47.798Z"
   },
   {
    "duration": 17,
    "start_time": "2023-12-14T10:24:47.816Z"
   },
   {
    "duration": 37,
    "start_time": "2023-12-14T10:24:47.834Z"
   },
   {
    "duration": 9,
    "start_time": "2023-12-14T10:24:47.872Z"
   },
   {
    "duration": 34,
    "start_time": "2023-12-14T10:24:47.883Z"
   },
   {
    "duration": 22,
    "start_time": "2023-12-14T10:24:47.919Z"
   },
   {
    "duration": 2,
    "start_time": "2023-12-14T10:24:47.942Z"
   },
   {
    "duration": 49,
    "start_time": "2023-12-14T10:24:47.946Z"
   },
   {
    "duration": 10,
    "start_time": "2023-12-14T10:24:47.997Z"
   },
   {
    "duration": 61,
    "start_time": "2023-12-14T10:24:48.009Z"
   },
   {
    "duration": 21,
    "start_time": "2023-12-14T10:24:48.071Z"
   },
   {
    "duration": 4,
    "start_time": "2023-12-14T10:24:48.094Z"
   },
   {
    "duration": 432,
    "start_time": "2023-12-14T10:24:48.099Z"
   },
   {
    "duration": 29,
    "start_time": "2023-12-14T10:24:48.533Z"
   },
   {
    "duration": 115,
    "start_time": "2023-12-14T10:24:48.564Z"
   },
   {
    "duration": 26,
    "start_time": "2023-12-14T10:24:48.680Z"
   },
   {
    "duration": 110,
    "start_time": "2023-12-14T10:24:48.708Z"
   },
   {
    "duration": 13,
    "start_time": "2023-12-14T10:24:48.819Z"
   },
   {
    "duration": 5,
    "start_time": "2023-12-14T10:24:48.833Z"
   },
   {
    "duration": 756,
    "start_time": "2023-12-14T10:24:48.852Z"
   },
   {
    "duration": 23,
    "start_time": "2023-12-14T10:24:49.610Z"
   },
   {
    "duration": 18,
    "start_time": "2023-12-14T10:24:49.634Z"
   },
   {
    "duration": 10,
    "start_time": "2023-12-14T10:24:49.653Z"
   },
   {
    "duration": 15,
    "start_time": "2023-12-14T10:24:49.664Z"
   },
   {
    "duration": 17,
    "start_time": "2023-12-14T10:24:49.681Z"
   },
   {
    "duration": 36,
    "start_time": "2023-12-14T10:24:49.699Z"
   },
   {
    "duration": 14,
    "start_time": "2023-12-14T10:24:49.737Z"
   },
   {
    "duration": 11,
    "start_time": "2023-12-14T10:24:49.752Z"
   },
   {
    "duration": 28,
    "start_time": "2023-12-14T10:24:49.764Z"
   },
   {
    "duration": 14,
    "start_time": "2023-12-14T10:24:49.794Z"
   },
   {
    "duration": 28,
    "start_time": "2023-12-14T10:24:49.810Z"
   },
   {
    "duration": 6,
    "start_time": "2023-12-14T10:24:49.843Z"
   },
   {
    "duration": 590,
    "start_time": "2023-12-14T10:24:49.850Z"
   },
   {
    "duration": 23,
    "start_time": "2023-12-14T10:24:50.451Z"
   },
   {
    "duration": 27,
    "start_time": "2023-12-14T10:24:50.475Z"
   },
   {
    "duration": 85,
    "start_time": "2023-12-14T10:24:50.503Z"
   },
   {
    "duration": 13,
    "start_time": "2023-12-14T10:24:50.590Z"
   },
   {
    "duration": 51,
    "start_time": "2023-12-14T10:24:50.605Z"
   },
   {
    "duration": 10,
    "start_time": "2023-12-14T10:24:50.658Z"
   },
   {
    "duration": 142,
    "start_time": "2023-12-14T10:24:50.669Z"
   },
   {
    "duration": 0,
    "start_time": "2023-12-14T10:24:50.813Z"
   },
   {
    "duration": 0,
    "start_time": "2023-12-14T10:24:50.814Z"
   },
   {
    "duration": 0,
    "start_time": "2023-12-14T10:24:50.815Z"
   },
   {
    "duration": 0,
    "start_time": "2023-12-14T10:24:50.816Z"
   },
   {
    "duration": 0,
    "start_time": "2023-12-14T10:24:50.817Z"
   },
   {
    "duration": 0,
    "start_time": "2023-12-14T10:24:50.818Z"
   },
   {
    "duration": 0,
    "start_time": "2023-12-14T10:24:50.818Z"
   },
   {
    "duration": 0,
    "start_time": "2023-12-14T10:24:50.819Z"
   },
   {
    "duration": 0,
    "start_time": "2023-12-14T10:24:50.820Z"
   },
   {
    "duration": 0,
    "start_time": "2023-12-14T10:24:50.821Z"
   },
   {
    "duration": 0,
    "start_time": "2023-12-14T10:24:50.822Z"
   },
   {
    "duration": 0,
    "start_time": "2023-12-14T10:24:50.823Z"
   },
   {
    "duration": 0,
    "start_time": "2023-12-14T10:24:50.824Z"
   },
   {
    "duration": 0,
    "start_time": "2023-12-14T10:24:50.825Z"
   },
   {
    "duration": 0,
    "start_time": "2023-12-14T10:24:50.825Z"
   },
   {
    "duration": 1,
    "start_time": "2023-12-14T10:24:50.851Z"
   },
   {
    "duration": 0,
    "start_time": "2023-12-14T10:24:50.853Z"
   },
   {
    "duration": 0,
    "start_time": "2023-12-14T10:24:50.853Z"
   },
   {
    "duration": 0,
    "start_time": "2023-12-14T10:24:50.854Z"
   },
   {
    "duration": 0,
    "start_time": "2023-12-14T10:24:50.855Z"
   },
   {
    "duration": 0,
    "start_time": "2023-12-14T10:24:50.856Z"
   },
   {
    "duration": 0,
    "start_time": "2023-12-14T10:24:50.857Z"
   },
   {
    "duration": 0,
    "start_time": "2023-12-14T10:24:50.858Z"
   },
   {
    "duration": 0,
    "start_time": "2023-12-14T10:24:50.859Z"
   },
   {
    "duration": 0,
    "start_time": "2023-12-14T10:24:50.860Z"
   },
   {
    "duration": 0,
    "start_time": "2023-12-14T10:24:50.860Z"
   },
   {
    "duration": 0,
    "start_time": "2023-12-14T10:24:50.861Z"
   },
   {
    "duration": 0,
    "start_time": "2023-12-14T10:24:50.862Z"
   },
   {
    "duration": 14,
    "start_time": "2023-12-14T10:27:58.738Z"
   },
   {
    "duration": 11,
    "start_time": "2023-12-14T10:28:03.890Z"
   },
   {
    "duration": 19,
    "start_time": "2023-12-14T10:28:10.155Z"
   },
   {
    "duration": 10,
    "start_time": "2023-12-14T10:28:18.427Z"
   },
   {
    "duration": 17,
    "start_time": "2023-12-14T10:28:29.146Z"
   },
   {
    "duration": 6,
    "start_time": "2023-12-14T10:29:05.775Z"
   },
   {
    "duration": 12,
    "start_time": "2023-12-14T10:29:11.961Z"
   },
   {
    "duration": 7,
    "start_time": "2023-12-14T10:29:12.752Z"
   },
   {
    "duration": 11,
    "start_time": "2023-12-14T10:29:40.417Z"
   },
   {
    "duration": 11,
    "start_time": "2023-12-14T10:29:41.905Z"
   },
   {
    "duration": 6,
    "start_time": "2023-12-14T10:29:42.841Z"
   },
   {
    "duration": 19,
    "start_time": "2023-12-14T10:31:06.237Z"
   },
   {
    "duration": 21,
    "start_time": "2023-12-14T10:36:20.901Z"
   },
   {
    "duration": 14,
    "start_time": "2023-12-14T10:36:31.929Z"
   },
   {
    "duration": 21,
    "start_time": "2023-12-14T10:36:56.808Z"
   },
   {
    "duration": 9,
    "start_time": "2023-12-14T10:37:22.059Z"
   },
   {
    "duration": 5,
    "start_time": "2023-12-14T10:37:43.319Z"
   },
   {
    "duration": 23,
    "start_time": "2023-12-14T10:37:54.422Z"
   },
   {
    "duration": 25,
    "start_time": "2023-12-14T10:38:14.347Z"
   },
   {
    "duration": 4,
    "start_time": "2023-12-14T10:38:18.791Z"
   },
   {
    "duration": 5,
    "start_time": "2023-12-14T10:38:32.789Z"
   },
   {
    "duration": 12,
    "start_time": "2023-12-14T10:38:38.492Z"
   },
   {
    "duration": 87,
    "start_time": "2023-12-14T10:39:04.734Z"
   },
   {
    "duration": 241,
    "start_time": "2023-12-14T10:39:14.753Z"
   },
   {
    "duration": 5,
    "start_time": "2023-12-14T10:39:53.020Z"
   },
   {
    "duration": 24,
    "start_time": "2023-12-14T10:40:08.907Z"
   },
   {
    "duration": 17,
    "start_time": "2023-12-14T10:40:40.473Z"
   },
   {
    "duration": 15,
    "start_time": "2023-12-14T10:41:13.774Z"
   },
   {
    "duration": 15,
    "start_time": "2023-12-14T10:41:25.337Z"
   },
   {
    "duration": 21,
    "start_time": "2023-12-14T10:41:30.085Z"
   },
   {
    "duration": 14,
    "start_time": "2023-12-14T10:41:48.610Z"
   },
   {
    "duration": 9,
    "start_time": "2023-12-14T10:42:26.243Z"
   },
   {
    "duration": 1127,
    "start_time": "2023-12-14T11:45:51.874Z"
   },
   {
    "duration": 38,
    "start_time": "2023-12-14T11:45:53.003Z"
   },
   {
    "duration": 97,
    "start_time": "2023-12-14T11:45:53.042Z"
   },
   {
    "duration": 9,
    "start_time": "2023-12-14T11:45:53.140Z"
   },
   {
    "duration": 29,
    "start_time": "2023-12-14T11:45:53.150Z"
   },
   {
    "duration": 9,
    "start_time": "2023-12-14T11:45:53.181Z"
   },
   {
    "duration": 31,
    "start_time": "2023-12-14T11:45:53.191Z"
   },
   {
    "duration": 19,
    "start_time": "2023-12-14T11:45:53.223Z"
   },
   {
    "duration": 60,
    "start_time": "2023-12-14T11:45:53.244Z"
   },
   {
    "duration": 22,
    "start_time": "2023-12-14T11:45:53.306Z"
   },
   {
    "duration": 21,
    "start_time": "2023-12-14T11:45:53.329Z"
   },
   {
    "duration": 31,
    "start_time": "2023-12-14T11:45:53.352Z"
   },
   {
    "duration": 11,
    "start_time": "2023-12-14T11:45:53.385Z"
   },
   {
    "duration": 14,
    "start_time": "2023-12-14T11:45:53.397Z"
   },
   {
    "duration": 14,
    "start_time": "2023-12-14T11:45:53.413Z"
   },
   {
    "duration": 6,
    "start_time": "2023-12-14T11:45:53.428Z"
   },
   {
    "duration": 49,
    "start_time": "2023-12-14T11:45:53.436Z"
   },
   {
    "duration": 10,
    "start_time": "2023-12-14T11:45:53.487Z"
   },
   {
    "duration": 68,
    "start_time": "2023-12-14T11:45:53.498Z"
   },
   {
    "duration": 23,
    "start_time": "2023-12-14T11:45:53.567Z"
   },
   {
    "duration": 4,
    "start_time": "2023-12-14T11:45:53.591Z"
   },
   {
    "duration": 386,
    "start_time": "2023-12-14T11:45:53.597Z"
   },
   {
    "duration": 21,
    "start_time": "2023-12-14T11:45:53.985Z"
   },
   {
    "duration": 87,
    "start_time": "2023-12-14T11:45:54.007Z"
   },
   {
    "duration": 69,
    "start_time": "2023-12-14T11:45:54.095Z"
   },
   {
    "duration": 64,
    "start_time": "2023-12-14T11:45:54.165Z"
   },
   {
    "duration": 25,
    "start_time": "2023-12-14T11:45:54.231Z"
   },
   {
    "duration": 5,
    "start_time": "2023-12-14T11:45:54.260Z"
   },
   {
    "duration": 762,
    "start_time": "2023-12-14T11:45:54.267Z"
   },
   {
    "duration": 31,
    "start_time": "2023-12-14T11:45:55.030Z"
   },
   {
    "duration": 4,
    "start_time": "2023-12-14T11:45:55.063Z"
   },
   {
    "duration": 51,
    "start_time": "2023-12-14T11:45:55.068Z"
   },
   {
    "duration": 14,
    "start_time": "2023-12-14T11:45:55.121Z"
   },
   {
    "duration": 17,
    "start_time": "2023-12-14T11:45:55.137Z"
   },
   {
    "duration": 31,
    "start_time": "2023-12-14T11:45:55.155Z"
   },
   {
    "duration": 7,
    "start_time": "2023-12-14T11:45:55.188Z"
   },
   {
    "duration": 4,
    "start_time": "2023-12-14T11:45:55.197Z"
   },
   {
    "duration": 16,
    "start_time": "2023-12-14T11:45:55.202Z"
   },
   {
    "duration": 12,
    "start_time": "2023-12-14T11:45:55.220Z"
   },
   {
    "duration": 20,
    "start_time": "2023-12-14T11:45:55.233Z"
   },
   {
    "duration": 8,
    "start_time": "2023-12-14T11:45:55.254Z"
   },
   {
    "duration": 605,
    "start_time": "2023-12-14T11:45:55.263Z"
   },
   {
    "duration": 21,
    "start_time": "2023-12-14T11:45:55.870Z"
   },
   {
    "duration": 8,
    "start_time": "2023-12-14T11:45:55.892Z"
   },
   {
    "duration": 114,
    "start_time": "2023-12-14T11:45:55.901Z"
   },
   {
    "duration": 17,
    "start_time": "2023-12-14T11:45:56.017Z"
   },
   {
    "duration": 68,
    "start_time": "2023-12-14T11:45:56.036Z"
   },
   {
    "duration": 9,
    "start_time": "2023-12-14T11:45:56.105Z"
   },
   {
    "duration": 49,
    "start_time": "2023-12-14T11:45:56.115Z"
   },
   {
    "duration": 22,
    "start_time": "2023-12-14T11:45:56.165Z"
   },
   {
    "duration": 144,
    "start_time": "2023-12-14T11:45:56.188Z"
   },
   {
    "duration": 0,
    "start_time": "2023-12-14T11:45:56.333Z"
   },
   {
    "duration": 0,
    "start_time": "2023-12-14T11:45:56.334Z"
   },
   {
    "duration": 0,
    "start_time": "2023-12-14T11:45:56.335Z"
   },
   {
    "duration": 0,
    "start_time": "2023-12-14T11:45:56.336Z"
   },
   {
    "duration": 0,
    "start_time": "2023-12-14T11:45:56.337Z"
   },
   {
    "duration": 0,
    "start_time": "2023-12-14T11:45:56.338Z"
   },
   {
    "duration": 0,
    "start_time": "2023-12-14T11:45:56.351Z"
   },
   {
    "duration": 0,
    "start_time": "2023-12-14T11:45:56.352Z"
   },
   {
    "duration": 1,
    "start_time": "2023-12-14T11:45:56.353Z"
   },
   {
    "duration": 0,
    "start_time": "2023-12-14T11:45:56.354Z"
   },
   {
    "duration": 0,
    "start_time": "2023-12-14T11:45:56.356Z"
   },
   {
    "duration": 0,
    "start_time": "2023-12-14T11:45:56.357Z"
   },
   {
    "duration": 0,
    "start_time": "2023-12-14T11:45:56.358Z"
   },
   {
    "duration": 0,
    "start_time": "2023-12-14T11:45:56.359Z"
   },
   {
    "duration": 0,
    "start_time": "2023-12-14T11:45:56.359Z"
   },
   {
    "duration": 0,
    "start_time": "2023-12-14T11:45:56.360Z"
   },
   {
    "duration": 0,
    "start_time": "2023-12-14T11:45:56.361Z"
   },
   {
    "duration": 0,
    "start_time": "2023-12-14T11:45:56.362Z"
   },
   {
    "duration": 0,
    "start_time": "2023-12-14T11:45:56.363Z"
   },
   {
    "duration": 0,
    "start_time": "2023-12-14T11:45:56.363Z"
   },
   {
    "duration": 0,
    "start_time": "2023-12-14T11:45:56.364Z"
   },
   {
    "duration": 0,
    "start_time": "2023-12-14T11:45:56.365Z"
   },
   {
    "duration": 0,
    "start_time": "2023-12-14T11:45:56.366Z"
   },
   {
    "duration": 0,
    "start_time": "2023-12-14T11:45:56.367Z"
   },
   {
    "duration": 0,
    "start_time": "2023-12-14T11:45:56.367Z"
   },
   {
    "duration": 0,
    "start_time": "2023-12-14T11:45:56.368Z"
   },
   {
    "duration": 0,
    "start_time": "2023-12-14T11:45:56.369Z"
   },
   {
    "duration": 0,
    "start_time": "2023-12-14T11:45:56.370Z"
   },
   {
    "duration": 22,
    "start_time": "2023-12-14T11:46:17.514Z"
   },
   {
    "duration": 22,
    "start_time": "2023-12-14T11:46:35.211Z"
   },
   {
    "duration": 9,
    "start_time": "2023-12-14T11:46:43.357Z"
   },
   {
    "duration": 307,
    "start_time": "2023-12-14T11:47:48.573Z"
   },
   {
    "duration": 167,
    "start_time": "2023-12-14T11:49:41.002Z"
   },
   {
    "duration": 526,
    "start_time": "2023-12-14T11:49:58.623Z"
   },
   {
    "duration": 21,
    "start_time": "2023-12-14T11:52:56.871Z"
   },
   {
    "duration": 22,
    "start_time": "2023-12-14T11:53:37.566Z"
   },
   {
    "duration": 13,
    "start_time": "2023-12-14T11:53:53.000Z"
   },
   {
    "duration": 151,
    "start_time": "2023-12-14T11:55:25.082Z"
   },
   {
    "duration": 162,
    "start_time": "2023-12-14T11:55:33.048Z"
   },
   {
    "duration": 80,
    "start_time": "2023-12-14T11:55:37.846Z"
   },
   {
    "duration": 88,
    "start_time": "2023-12-14T11:56:04.283Z"
   },
   {
    "duration": 8,
    "start_time": "2023-12-14T11:56:10.433Z"
   },
   {
    "duration": 240,
    "start_time": "2023-12-14T11:56:26.885Z"
   },
   {
    "duration": 251,
    "start_time": "2023-12-14T11:57:40.783Z"
   },
   {
    "duration": 12,
    "start_time": "2023-12-14T11:59:41.998Z"
   },
   {
    "duration": 75,
    "start_time": "2023-12-14T12:00:44.474Z"
   },
   {
    "duration": 17,
    "start_time": "2023-12-14T12:01:16.253Z"
   },
   {
    "duration": 10,
    "start_time": "2023-12-14T12:02:14.725Z"
   },
   {
    "duration": 17,
    "start_time": "2023-12-14T12:03:21.839Z"
   },
   {
    "duration": 14,
    "start_time": "2023-12-14T12:03:48.861Z"
   },
   {
    "duration": 52,
    "start_time": "2023-12-14T12:04:32.930Z"
   },
   {
    "duration": 14,
    "start_time": "2023-12-14T12:05:24.125Z"
   },
   {
    "duration": 22,
    "start_time": "2023-12-14T12:05:48.081Z"
   },
   {
    "duration": 22,
    "start_time": "2023-12-14T12:05:57.467Z"
   },
   {
    "duration": 15,
    "start_time": "2023-12-14T12:07:39.808Z"
   },
   {
    "duration": 53,
    "start_time": "2023-12-14T12:09:40.623Z"
   },
   {
    "duration": 60,
    "start_time": "2023-12-14T12:11:11.316Z"
   },
   {
    "duration": 1686,
    "start_time": "2023-12-14T12:11:24.984Z"
   },
   {
    "duration": 53,
    "start_time": "2023-12-14T12:11:37.591Z"
   },
   {
    "duration": 56,
    "start_time": "2023-12-14T12:11:49.186Z"
   },
   {
    "duration": 54,
    "start_time": "2023-12-14T12:11:57.006Z"
   },
   {
    "duration": 57,
    "start_time": "2023-12-14T12:12:24.208Z"
   },
   {
    "duration": 57,
    "start_time": "2023-12-14T12:12:58.222Z"
   },
   {
    "duration": 54,
    "start_time": "2023-12-14T12:13:25.079Z"
   },
   {
    "duration": 1165,
    "start_time": "2023-12-14T12:13:49.841Z"
   },
   {
    "duration": 39,
    "start_time": "2023-12-14T12:13:51.008Z"
   },
   {
    "duration": 95,
    "start_time": "2023-12-14T12:13:51.049Z"
   },
   {
    "duration": 9,
    "start_time": "2023-12-14T12:13:51.146Z"
   },
   {
    "duration": 32,
    "start_time": "2023-12-14T12:13:51.158Z"
   },
   {
    "duration": 3,
    "start_time": "2023-12-14T12:13:51.191Z"
   },
   {
    "duration": 19,
    "start_time": "2023-12-14T12:13:51.195Z"
   },
   {
    "duration": 22,
    "start_time": "2023-12-14T12:13:51.215Z"
   },
   {
    "duration": 61,
    "start_time": "2023-12-14T12:13:51.239Z"
   },
   {
    "duration": 18,
    "start_time": "2023-12-14T12:13:51.302Z"
   },
   {
    "duration": 32,
    "start_time": "2023-12-14T12:13:51.321Z"
   },
   {
    "duration": 28,
    "start_time": "2023-12-14T12:13:51.354Z"
   },
   {
    "duration": 10,
    "start_time": "2023-12-14T12:13:51.383Z"
   },
   {
    "duration": 19,
    "start_time": "2023-12-14T12:13:51.396Z"
   },
   {
    "duration": 16,
    "start_time": "2023-12-14T12:13:51.416Z"
   },
   {
    "duration": 19,
    "start_time": "2023-12-14T12:13:51.433Z"
   },
   {
    "duration": 44,
    "start_time": "2023-12-14T12:13:51.453Z"
   },
   {
    "duration": 12,
    "start_time": "2023-12-14T12:13:51.498Z"
   },
   {
    "duration": 67,
    "start_time": "2023-12-14T12:13:51.511Z"
   },
   {
    "duration": 23,
    "start_time": "2023-12-14T12:13:51.580Z"
   },
   {
    "duration": 19,
    "start_time": "2023-12-14T12:13:51.605Z"
   },
   {
    "duration": 387,
    "start_time": "2023-12-14T12:13:51.626Z"
   },
   {
    "duration": 20,
    "start_time": "2023-12-14T12:13:52.014Z"
   },
   {
    "duration": 60,
    "start_time": "2023-12-14T12:13:52.036Z"
   },
   {
    "duration": 73,
    "start_time": "2023-12-14T12:13:52.098Z"
   },
   {
    "duration": 70,
    "start_time": "2023-12-14T12:13:52.173Z"
   },
   {
    "duration": 16,
    "start_time": "2023-12-14T12:13:52.244Z"
   },
   {
    "duration": 23,
    "start_time": "2023-12-14T12:13:52.262Z"
   },
   {
    "duration": 768,
    "start_time": "2023-12-14T12:13:52.287Z"
   },
   {
    "duration": 22,
    "start_time": "2023-12-14T12:13:53.056Z"
   },
   {
    "duration": 9,
    "start_time": "2023-12-14T12:13:53.080Z"
   },
   {
    "duration": 14,
    "start_time": "2023-12-14T12:13:53.091Z"
   },
   {
    "duration": 12,
    "start_time": "2023-12-14T12:13:53.107Z"
   },
   {
    "duration": 6,
    "start_time": "2023-12-14T12:13:53.120Z"
   },
   {
    "duration": 39,
    "start_time": "2023-12-14T12:13:53.128Z"
   },
   {
    "duration": 7,
    "start_time": "2023-12-14T12:13:53.169Z"
   },
   {
    "duration": 4,
    "start_time": "2023-12-14T12:13:53.177Z"
   },
   {
    "duration": 11,
    "start_time": "2023-12-14T12:13:53.182Z"
   },
   {
    "duration": 4,
    "start_time": "2023-12-14T12:13:53.194Z"
   },
   {
    "duration": 5,
    "start_time": "2023-12-14T12:13:53.199Z"
   },
   {
    "duration": 7,
    "start_time": "2023-12-14T12:13:53.207Z"
   },
   {
    "duration": 618,
    "start_time": "2023-12-14T12:13:53.215Z"
   },
   {
    "duration": 34,
    "start_time": "2023-12-14T12:13:53.835Z"
   },
   {
    "duration": 7,
    "start_time": "2023-12-14T12:13:53.870Z"
   },
   {
    "duration": 108,
    "start_time": "2023-12-14T12:13:53.879Z"
   },
   {
    "duration": 265,
    "start_time": "2023-12-14T12:13:53.989Z"
   },
   {
    "duration": 0,
    "start_time": "2023-12-14T12:13:54.255Z"
   },
   {
    "duration": 0,
    "start_time": "2023-12-14T12:13:54.257Z"
   },
   {
    "duration": 0,
    "start_time": "2023-12-14T12:13:54.258Z"
   },
   {
    "duration": 0,
    "start_time": "2023-12-14T12:13:54.260Z"
   },
   {
    "duration": 0,
    "start_time": "2023-12-14T12:13:54.261Z"
   },
   {
    "duration": 0,
    "start_time": "2023-12-14T12:13:54.262Z"
   },
   {
    "duration": 0,
    "start_time": "2023-12-14T12:13:54.263Z"
   },
   {
    "duration": 0,
    "start_time": "2023-12-14T12:13:54.264Z"
   },
   {
    "duration": 0,
    "start_time": "2023-12-14T12:13:54.265Z"
   },
   {
    "duration": 0,
    "start_time": "2023-12-14T12:13:54.266Z"
   },
   {
    "duration": 0,
    "start_time": "2023-12-14T12:13:54.267Z"
   },
   {
    "duration": 0,
    "start_time": "2023-12-14T12:13:54.269Z"
   },
   {
    "duration": 0,
    "start_time": "2023-12-14T12:13:54.270Z"
   },
   {
    "duration": 0,
    "start_time": "2023-12-14T12:13:54.270Z"
   },
   {
    "duration": 0,
    "start_time": "2023-12-14T12:13:54.271Z"
   },
   {
    "duration": 0,
    "start_time": "2023-12-14T12:13:54.272Z"
   },
   {
    "duration": 0,
    "start_time": "2023-12-14T12:13:54.274Z"
   },
   {
    "duration": 0,
    "start_time": "2023-12-14T12:13:54.275Z"
   },
   {
    "duration": 0,
    "start_time": "2023-12-14T12:13:54.276Z"
   },
   {
    "duration": 0,
    "start_time": "2023-12-14T12:13:54.278Z"
   },
   {
    "duration": 0,
    "start_time": "2023-12-14T12:13:54.279Z"
   },
   {
    "duration": 0,
    "start_time": "2023-12-14T12:13:54.280Z"
   },
   {
    "duration": 0,
    "start_time": "2023-12-14T12:13:54.281Z"
   },
   {
    "duration": 0,
    "start_time": "2023-12-14T12:13:54.282Z"
   },
   {
    "duration": 0,
    "start_time": "2023-12-14T12:13:54.283Z"
   },
   {
    "duration": 0,
    "start_time": "2023-12-14T12:13:54.284Z"
   },
   {
    "duration": 0,
    "start_time": "2023-12-14T12:13:54.286Z"
   },
   {
    "duration": 0,
    "start_time": "2023-12-14T12:13:54.287Z"
   },
   {
    "duration": 0,
    "start_time": "2023-12-14T12:13:54.288Z"
   },
   {
    "duration": 0,
    "start_time": "2023-12-14T12:13:54.288Z"
   },
   {
    "duration": 0,
    "start_time": "2023-12-14T12:13:54.290Z"
   },
   {
    "duration": 0,
    "start_time": "2023-12-14T12:13:54.291Z"
   },
   {
    "duration": 0,
    "start_time": "2023-12-14T12:13:54.292Z"
   },
   {
    "duration": 0,
    "start_time": "2023-12-14T12:13:54.352Z"
   },
   {
    "duration": 0,
    "start_time": "2023-12-14T12:13:54.353Z"
   },
   {
    "duration": 107,
    "start_time": "2023-12-14T12:14:27.056Z"
   },
   {
    "duration": 240,
    "start_time": "2023-12-14T12:15:32.660Z"
   },
   {
    "duration": 306,
    "start_time": "2023-12-14T12:15:52.057Z"
   },
   {
    "duration": 729,
    "start_time": "2023-12-14T12:17:55.371Z"
   },
   {
    "duration": 740,
    "start_time": "2023-12-14T12:18:06.303Z"
   },
   {
    "duration": 42,
    "start_time": "2023-12-14T12:21:26.320Z"
   },
   {
    "duration": 1139,
    "start_time": "2023-12-14T12:21:37.344Z"
   },
   {
    "duration": 120,
    "start_time": "2023-12-14T12:21:38.485Z"
   },
   {
    "duration": 376,
    "start_time": "2023-12-14T12:21:38.606Z"
   },
   {
    "duration": 9,
    "start_time": "2023-12-14T12:21:38.984Z"
   },
   {
    "duration": 17,
    "start_time": "2023-12-14T12:21:38.995Z"
   },
   {
    "duration": 2,
    "start_time": "2023-12-14T12:21:39.014Z"
   },
   {
    "duration": 15,
    "start_time": "2023-12-14T12:21:39.017Z"
   },
   {
    "duration": 27,
    "start_time": "2023-12-14T12:21:39.033Z"
   },
   {
    "duration": 53,
    "start_time": "2023-12-14T12:21:39.061Z"
   },
   {
    "duration": 19,
    "start_time": "2023-12-14T12:21:39.116Z"
   },
   {
    "duration": 16,
    "start_time": "2023-12-14T12:21:39.153Z"
   },
   {
    "duration": 33,
    "start_time": "2023-12-14T12:21:39.171Z"
   },
   {
    "duration": 11,
    "start_time": "2023-12-14T12:21:39.205Z"
   },
   {
    "duration": 37,
    "start_time": "2023-12-14T12:21:39.217Z"
   },
   {
    "duration": 13,
    "start_time": "2023-12-14T12:21:39.256Z"
   },
   {
    "duration": 3,
    "start_time": "2023-12-14T12:21:39.271Z"
   },
   {
    "duration": 81,
    "start_time": "2023-12-14T12:21:39.276Z"
   },
   {
    "duration": 16,
    "start_time": "2023-12-14T12:21:39.359Z"
   },
   {
    "duration": 56,
    "start_time": "2023-12-14T12:21:39.377Z"
   },
   {
    "duration": 33,
    "start_time": "2023-12-14T12:21:39.434Z"
   },
   {
    "duration": 4,
    "start_time": "2023-12-14T12:21:39.468Z"
   },
   {
    "duration": 418,
    "start_time": "2023-12-14T12:21:39.473Z"
   },
   {
    "duration": 31,
    "start_time": "2023-12-14T12:21:39.893Z"
   },
   {
    "duration": 86,
    "start_time": "2023-12-14T12:21:39.926Z"
   },
   {
    "duration": 57,
    "start_time": "2023-12-14T12:21:40.013Z"
   },
   {
    "duration": 64,
    "start_time": "2023-12-14T12:21:40.072Z"
   },
   {
    "duration": 21,
    "start_time": "2023-12-14T12:21:40.138Z"
   },
   {
    "duration": 7,
    "start_time": "2023-12-14T12:21:40.163Z"
   },
   {
    "duration": 736,
    "start_time": "2023-12-14T12:21:40.172Z"
   },
   {
    "duration": 21,
    "start_time": "2023-12-14T12:21:40.909Z"
   },
   {
    "duration": 3,
    "start_time": "2023-12-14T12:21:40.931Z"
   },
   {
    "duration": 16,
    "start_time": "2023-12-14T12:21:40.936Z"
   },
   {
    "duration": 9,
    "start_time": "2023-12-14T12:21:40.954Z"
   },
   {
    "duration": 7,
    "start_time": "2023-12-14T12:21:40.964Z"
   },
   {
    "duration": 25,
    "start_time": "2023-12-14T12:21:40.972Z"
   },
   {
    "duration": 7,
    "start_time": "2023-12-14T12:21:40.998Z"
   },
   {
    "duration": 4,
    "start_time": "2023-12-14T12:21:41.006Z"
   },
   {
    "duration": 41,
    "start_time": "2023-12-14T12:21:41.012Z"
   },
   {
    "duration": 3,
    "start_time": "2023-12-14T12:21:41.055Z"
   },
   {
    "duration": 16,
    "start_time": "2023-12-14T12:21:41.060Z"
   },
   {
    "duration": 7,
    "start_time": "2023-12-14T12:21:41.078Z"
   },
   {
    "duration": 632,
    "start_time": "2023-12-14T12:21:41.087Z"
   },
   {
    "duration": 33,
    "start_time": "2023-12-14T12:21:41.721Z"
   },
   {
    "duration": 6,
    "start_time": "2023-12-14T12:21:41.755Z"
   },
   {
    "duration": 96,
    "start_time": "2023-12-14T12:21:41.763Z"
   },
   {
    "duration": 46,
    "start_time": "2023-12-14T12:21:56.254Z"
   },
   {
    "duration": 6,
    "start_time": "2023-12-14T12:22:03.997Z"
   },
   {
    "duration": 1110,
    "start_time": "2023-12-14T12:22:11.794Z"
   },
   {
    "duration": 119,
    "start_time": "2023-12-14T12:22:12.905Z"
   },
   {
    "duration": 369,
    "start_time": "2023-12-14T12:22:13.025Z"
   },
   {
    "duration": 10,
    "start_time": "2023-12-14T12:22:13.396Z"
   },
   {
    "duration": 34,
    "start_time": "2023-12-14T12:22:13.407Z"
   },
   {
    "duration": 2,
    "start_time": "2023-12-14T12:22:13.443Z"
   },
   {
    "duration": 15,
    "start_time": "2023-12-14T12:22:13.447Z"
   },
   {
    "duration": 18,
    "start_time": "2023-12-14T12:22:13.464Z"
   },
   {
    "duration": 51,
    "start_time": "2023-12-14T12:22:13.484Z"
   },
   {
    "duration": 29,
    "start_time": "2023-12-14T12:22:13.537Z"
   },
   {
    "duration": 14,
    "start_time": "2023-12-14T12:22:13.568Z"
   },
   {
    "duration": 27,
    "start_time": "2023-12-14T12:22:13.584Z"
   },
   {
    "duration": 9,
    "start_time": "2023-12-14T12:22:13.613Z"
   },
   {
    "duration": 35,
    "start_time": "2023-12-14T12:22:13.624Z"
   },
   {
    "duration": 25,
    "start_time": "2023-12-14T12:22:13.661Z"
   },
   {
    "duration": 2,
    "start_time": "2023-12-14T12:22:13.688Z"
   },
   {
    "duration": 43,
    "start_time": "2023-12-14T12:22:13.691Z"
   },
   {
    "duration": 17,
    "start_time": "2023-12-14T12:22:13.735Z"
   },
   {
    "duration": 68,
    "start_time": "2023-12-14T12:22:13.754Z"
   },
   {
    "duration": 29,
    "start_time": "2023-12-14T12:22:13.824Z"
   },
   {
    "duration": 3,
    "start_time": "2023-12-14T12:22:13.855Z"
   },
   {
    "duration": 430,
    "start_time": "2023-12-14T12:22:13.860Z"
   },
   {
    "duration": 30,
    "start_time": "2023-12-14T12:22:14.291Z"
   },
   {
    "duration": 73,
    "start_time": "2023-12-14T12:22:14.322Z"
   },
   {
    "duration": 65,
    "start_time": "2023-12-14T12:22:14.397Z"
   },
   {
    "duration": 59,
    "start_time": "2023-12-14T12:22:14.463Z"
   },
   {
    "duration": 29,
    "start_time": "2023-12-14T12:22:14.524Z"
   },
   {
    "duration": 3,
    "start_time": "2023-12-14T12:22:14.557Z"
   },
   {
    "duration": 746,
    "start_time": "2023-12-14T12:22:14.562Z"
   },
   {
    "duration": 22,
    "start_time": "2023-12-14T12:22:15.310Z"
   },
   {
    "duration": 4,
    "start_time": "2023-12-14T12:22:15.334Z"
   },
   {
    "duration": 11,
    "start_time": "2023-12-14T12:22:15.351Z"
   },
   {
    "duration": 19,
    "start_time": "2023-12-14T12:22:15.363Z"
   },
   {
    "duration": 7,
    "start_time": "2023-12-14T12:22:15.383Z"
   },
   {
    "duration": 42,
    "start_time": "2023-12-14T12:22:15.391Z"
   },
   {
    "duration": 7,
    "start_time": "2023-12-14T12:22:15.434Z"
   },
   {
    "duration": 13,
    "start_time": "2023-12-14T12:22:15.443Z"
   },
   {
    "duration": 10,
    "start_time": "2023-12-14T12:22:15.457Z"
   },
   {
    "duration": 13,
    "start_time": "2023-12-14T12:22:15.468Z"
   },
   {
    "duration": 7,
    "start_time": "2023-12-14T12:22:15.482Z"
   },
   {
    "duration": 9,
    "start_time": "2023-12-14T12:22:15.491Z"
   },
   {
    "duration": 587,
    "start_time": "2023-12-14T12:22:15.501Z"
   },
   {
    "duration": 23,
    "start_time": "2023-12-14T12:22:16.090Z"
   },
   {
    "duration": 10,
    "start_time": "2023-12-14T12:22:16.114Z"
   },
   {
    "duration": 104,
    "start_time": "2023-12-14T12:22:16.126Z"
   },
   {
    "duration": 44,
    "start_time": "2023-12-14T12:23:01.868Z"
   },
   {
    "duration": 1153,
    "start_time": "2023-12-14T12:23:21.735Z"
   },
   {
    "duration": 120,
    "start_time": "2023-12-14T12:23:22.890Z"
   },
   {
    "duration": 370,
    "start_time": "2023-12-14T12:23:23.011Z"
   },
   {
    "duration": 8,
    "start_time": "2023-12-14T12:23:23.383Z"
   },
   {
    "duration": 19,
    "start_time": "2023-12-14T12:23:23.393Z"
   },
   {
    "duration": 2,
    "start_time": "2023-12-14T12:23:23.414Z"
   },
   {
    "duration": 16,
    "start_time": "2023-12-14T12:23:23.418Z"
   },
   {
    "duration": 22,
    "start_time": "2023-12-14T12:23:23.435Z"
   },
   {
    "duration": 56,
    "start_time": "2023-12-14T12:23:23.458Z"
   },
   {
    "duration": 19,
    "start_time": "2023-12-14T12:23:23.516Z"
   },
   {
    "duration": 25,
    "start_time": "2023-12-14T12:23:23.536Z"
   },
   {
    "duration": 28,
    "start_time": "2023-12-14T12:23:23.562Z"
   },
   {
    "duration": 10,
    "start_time": "2023-12-14T12:23:23.591Z"
   },
   {
    "duration": 12,
    "start_time": "2023-12-14T12:23:23.603Z"
   },
   {
    "duration": 38,
    "start_time": "2023-12-14T12:23:23.616Z"
   },
   {
    "duration": 2,
    "start_time": "2023-12-14T12:23:23.656Z"
   },
   {
    "duration": 64,
    "start_time": "2023-12-14T12:23:23.660Z"
   },
   {
    "duration": 9,
    "start_time": "2023-12-14T12:23:23.726Z"
   },
   {
    "duration": 56,
    "start_time": "2023-12-14T12:23:23.737Z"
   },
   {
    "duration": 21,
    "start_time": "2023-12-14T12:23:23.795Z"
   },
   {
    "duration": 4,
    "start_time": "2023-12-14T12:23:23.818Z"
   },
   {
    "duration": 386,
    "start_time": "2023-12-14T12:23:23.823Z"
   },
   {
    "duration": 21,
    "start_time": "2023-12-14T12:23:24.210Z"
   },
   {
    "duration": 123,
    "start_time": "2023-12-14T12:23:24.232Z"
   },
   {
    "duration": 22,
    "start_time": "2023-12-14T12:23:24.356Z"
   },
   {
    "duration": 80,
    "start_time": "2023-12-14T12:23:24.379Z"
   },
   {
    "duration": 17,
    "start_time": "2023-12-14T12:23:24.460Z"
   },
   {
    "duration": 4,
    "start_time": "2023-12-14T12:23:24.481Z"
   },
   {
    "duration": 755,
    "start_time": "2023-12-14T12:23:24.487Z"
   },
   {
    "duration": 24,
    "start_time": "2023-12-14T12:23:25.243Z"
   },
   {
    "duration": 4,
    "start_time": "2023-12-14T12:23:25.268Z"
   },
   {
    "duration": 8,
    "start_time": "2023-12-14T12:23:25.273Z"
   },
   {
    "duration": 19,
    "start_time": "2023-12-14T12:23:25.283Z"
   },
   {
    "duration": 6,
    "start_time": "2023-12-14T12:23:25.304Z"
   },
   {
    "duration": 48,
    "start_time": "2023-12-14T12:23:25.312Z"
   },
   {
    "duration": 21,
    "start_time": "2023-12-14T12:23:25.362Z"
   },
   {
    "duration": 4,
    "start_time": "2023-12-14T12:23:25.384Z"
   },
   {
    "duration": 9,
    "start_time": "2023-12-14T12:23:25.390Z"
   },
   {
    "duration": 3,
    "start_time": "2023-12-14T12:23:25.401Z"
   },
   {
    "duration": 5,
    "start_time": "2023-12-14T12:23:25.406Z"
   },
   {
    "duration": 24,
    "start_time": "2023-12-14T12:23:25.412Z"
   },
   {
    "duration": 593,
    "start_time": "2023-12-14T12:23:25.437Z"
   },
   {
    "duration": 36,
    "start_time": "2023-12-14T12:23:26.031Z"
   },
   {
    "duration": 7,
    "start_time": "2023-12-14T12:23:26.068Z"
   },
   {
    "duration": 95,
    "start_time": "2023-12-14T12:23:26.077Z"
   },
   {
    "duration": 46,
    "start_time": "2023-12-14T12:23:40.187Z"
   },
   {
    "duration": 1196,
    "start_time": "2023-12-14T12:23:50.448Z"
   },
   {
    "duration": 120,
    "start_time": "2023-12-14T12:23:51.646Z"
   },
   {
    "duration": 373,
    "start_time": "2023-12-14T12:23:51.767Z"
   },
   {
    "duration": 10,
    "start_time": "2023-12-14T12:23:52.142Z"
   },
   {
    "duration": 16,
    "start_time": "2023-12-14T12:23:52.383Z"
   },
   {
    "duration": 3,
    "start_time": "2023-12-14T12:23:53.444Z"
   },
   {
    "duration": 15,
    "start_time": "2023-12-14T12:23:53.905Z"
   },
   {
    "duration": 27,
    "start_time": "2023-12-14T12:23:54.179Z"
   },
   {
    "duration": 55,
    "start_time": "2023-12-14T12:23:54.705Z"
   },
   {
    "duration": 19,
    "start_time": "2023-12-14T12:23:55.077Z"
   },
   {
    "duration": 16,
    "start_time": "2023-12-14T12:23:55.746Z"
   },
   {
    "duration": 28,
    "start_time": "2023-12-14T12:23:56.504Z"
   },
   {
    "duration": 11,
    "start_time": "2023-12-14T12:23:56.993Z"
   },
   {
    "duration": 10,
    "start_time": "2023-12-14T12:23:57.478Z"
   },
   {
    "duration": 21,
    "start_time": "2023-12-14T12:23:58.050Z"
   },
   {
    "duration": 2,
    "start_time": "2023-12-14T12:23:58.431Z"
   },
   {
    "duration": 38,
    "start_time": "2023-12-14T12:23:58.615Z"
   },
   {
    "duration": 12,
    "start_time": "2023-12-14T12:23:58.982Z"
   },
   {
    "duration": 53,
    "start_time": "2023-12-14T12:24:00.082Z"
   },
   {
    "duration": 22,
    "start_time": "2023-12-14T12:24:00.462Z"
   },
   {
    "duration": 4,
    "start_time": "2023-12-14T12:24:00.869Z"
   },
   {
    "duration": 364,
    "start_time": "2023-12-14T12:24:01.283Z"
   },
   {
    "duration": 21,
    "start_time": "2023-12-14T12:24:01.862Z"
   },
   {
    "duration": 133,
    "start_time": "2023-12-14T12:24:01.884Z"
   },
   {
    "duration": 23,
    "start_time": "2023-12-14T12:24:02.528Z"
   },
   {
    "duration": 60,
    "start_time": "2023-12-14T12:24:02.841Z"
   },
   {
    "duration": 12,
    "start_time": "2023-12-14T12:24:03.759Z"
   },
   {
    "duration": 4,
    "start_time": "2023-12-14T12:24:05.696Z"
   },
   {
    "duration": 785,
    "start_time": "2023-12-14T12:24:06.156Z"
   },
   {
    "duration": 27,
    "start_time": "2023-12-14T12:24:06.943Z"
   },
   {
    "duration": 4,
    "start_time": "2023-12-14T12:24:06.972Z"
   },
   {
    "duration": 9,
    "start_time": "2023-12-14T12:24:08.663Z"
   },
   {
    "duration": 12,
    "start_time": "2023-12-14T12:24:09.054Z"
   },
   {
    "duration": 7,
    "start_time": "2023-12-14T12:24:09.204Z"
   },
   {
    "duration": 24,
    "start_time": "2023-12-14T12:24:09.681Z"
   },
   {
    "duration": 9,
    "start_time": "2023-12-14T12:24:10.143Z"
   },
   {
    "duration": 14,
    "start_time": "2023-12-14T12:24:10.343Z"
   },
   {
    "duration": 10,
    "start_time": "2023-12-14T12:24:10.641Z"
   },
   {
    "duration": 3,
    "start_time": "2023-12-14T12:24:10.997Z"
   },
   {
    "duration": 6,
    "start_time": "2023-12-14T12:24:11.213Z"
   },
   {
    "duration": 5,
    "start_time": "2023-12-14T12:24:11.423Z"
   },
   {
    "duration": 568,
    "start_time": "2023-12-14T12:24:11.604Z"
   },
   {
    "duration": 21,
    "start_time": "2023-12-14T12:24:12.174Z"
   },
   {
    "duration": 7,
    "start_time": "2023-12-14T12:24:12.196Z"
   },
   {
    "duration": 87,
    "start_time": "2023-12-14T12:24:15.647Z"
   },
   {
    "duration": 44,
    "start_time": "2023-12-14T12:26:26.010Z"
   },
   {
    "duration": 1130,
    "start_time": "2023-12-14T12:26:32.350Z"
   },
   {
    "duration": 121,
    "start_time": "2023-12-14T12:26:33.482Z"
   },
   {
    "duration": 365,
    "start_time": "2023-12-14T12:26:33.604Z"
   },
   {
    "duration": 9,
    "start_time": "2023-12-14T12:26:33.971Z"
   },
   {
    "duration": 19,
    "start_time": "2023-12-14T12:26:33.982Z"
   },
   {
    "duration": 4,
    "start_time": "2023-12-14T12:26:34.002Z"
   },
   {
    "duration": 18,
    "start_time": "2023-12-14T12:26:34.007Z"
   },
   {
    "duration": 21,
    "start_time": "2023-12-14T12:26:34.026Z"
   },
   {
    "duration": 53,
    "start_time": "2023-12-14T12:26:34.052Z"
   },
   {
    "duration": 18,
    "start_time": "2023-12-14T12:26:34.107Z"
   },
   {
    "duration": 30,
    "start_time": "2023-12-14T12:26:34.126Z"
   },
   {
    "duration": 29,
    "start_time": "2023-12-14T12:26:34.158Z"
   },
   {
    "duration": 11,
    "start_time": "2023-12-14T12:26:34.189Z"
   },
   {
    "duration": 11,
    "start_time": "2023-12-14T12:26:34.202Z"
   },
   {
    "duration": 40,
    "start_time": "2023-12-14T12:26:34.215Z"
   },
   {
    "duration": 3,
    "start_time": "2023-12-14T12:26:34.257Z"
   },
   {
    "duration": 57,
    "start_time": "2023-12-14T12:26:34.261Z"
   },
   {
    "duration": 11,
    "start_time": "2023-12-14T12:26:34.320Z"
   },
   {
    "duration": 58,
    "start_time": "2023-12-14T12:26:34.333Z"
   },
   {
    "duration": 23,
    "start_time": "2023-12-14T12:26:34.393Z"
   },
   {
    "duration": 4,
    "start_time": "2023-12-14T12:26:34.418Z"
   },
   {
    "duration": 379,
    "start_time": "2023-12-14T12:26:34.424Z"
   },
   {
    "duration": 22,
    "start_time": "2023-12-14T12:26:34.804Z"
   },
   {
    "duration": 128,
    "start_time": "2023-12-14T12:26:34.827Z"
   },
   {
    "duration": 22,
    "start_time": "2023-12-14T12:26:34.956Z"
   },
   {
    "duration": 79,
    "start_time": "2023-12-14T12:26:34.979Z"
   },
   {
    "duration": 12,
    "start_time": "2023-12-14T12:26:35.059Z"
   },
   {
    "duration": 5,
    "start_time": "2023-12-14T12:26:35.076Z"
   },
   {
    "duration": 753,
    "start_time": "2023-12-14T12:26:35.083Z"
   },
   {
    "duration": 29,
    "start_time": "2023-12-14T12:26:35.837Z"
   },
   {
    "duration": 3,
    "start_time": "2023-12-14T12:26:35.868Z"
   },
   {
    "duration": 9,
    "start_time": "2023-12-14T12:26:35.873Z"
   },
   {
    "duration": 32,
    "start_time": "2023-12-14T12:26:35.883Z"
   },
   {
    "duration": 6,
    "start_time": "2023-12-14T12:26:35.917Z"
   },
   {
    "duration": 24,
    "start_time": "2023-12-14T12:26:35.924Z"
   },
   {
    "duration": 8,
    "start_time": "2023-12-14T12:26:35.949Z"
   },
   {
    "duration": 4,
    "start_time": "2023-12-14T12:26:35.958Z"
   },
   {
    "duration": 10,
    "start_time": "2023-12-14T12:26:35.963Z"
   },
   {
    "duration": 19,
    "start_time": "2023-12-14T12:26:35.974Z"
   },
   {
    "duration": 33,
    "start_time": "2023-12-14T12:26:35.995Z"
   },
   {
    "duration": 41,
    "start_time": "2023-12-14T12:26:36.029Z"
   },
   {
    "duration": 596,
    "start_time": "2023-12-14T12:26:36.071Z"
   },
   {
    "duration": 21,
    "start_time": "2023-12-14T12:26:36.668Z"
   },
   {
    "duration": 39,
    "start_time": "2023-12-14T12:26:36.690Z"
   },
   {
    "duration": 95,
    "start_time": "2023-12-14T12:26:36.731Z"
   },
   {
    "duration": 757,
    "start_time": "2023-12-14T12:26:36.827Z"
   },
   {
    "duration": 14,
    "start_time": "2023-12-14T12:26:37.586Z"
   },
   {
    "duration": 57,
    "start_time": "2023-12-14T12:26:37.601Z"
   },
   {
    "duration": 12,
    "start_time": "2023-12-14T12:26:37.660Z"
   },
   {
    "duration": 567,
    "start_time": "2023-12-14T12:26:37.675Z"
   },
   {
    "duration": 263,
    "start_time": "2023-12-14T12:26:38.243Z"
   },
   {
    "duration": 8,
    "start_time": "2023-12-14T12:26:38.508Z"
   },
   {
    "duration": 161,
    "start_time": "2023-12-14T12:26:38.517Z"
   },
   {
    "duration": 0,
    "start_time": "2023-12-14T12:26:38.679Z"
   },
   {
    "duration": 0,
    "start_time": "2023-12-14T12:26:38.681Z"
   },
   {
    "duration": 0,
    "start_time": "2023-12-14T12:26:38.682Z"
   },
   {
    "duration": 0,
    "start_time": "2023-12-14T12:26:38.684Z"
   },
   {
    "duration": 0,
    "start_time": "2023-12-14T12:26:38.685Z"
   },
   {
    "duration": 0,
    "start_time": "2023-12-14T12:26:38.687Z"
   },
   {
    "duration": 0,
    "start_time": "2023-12-14T12:26:38.688Z"
   },
   {
    "duration": 0,
    "start_time": "2023-12-14T12:26:38.689Z"
   },
   {
    "duration": 0,
    "start_time": "2023-12-14T12:26:38.690Z"
   },
   {
    "duration": 0,
    "start_time": "2023-12-14T12:26:38.691Z"
   },
   {
    "duration": 0,
    "start_time": "2023-12-14T12:26:38.693Z"
   },
   {
    "duration": 0,
    "start_time": "2023-12-14T12:26:38.694Z"
   },
   {
    "duration": 0,
    "start_time": "2023-12-14T12:26:38.696Z"
   },
   {
    "duration": 0,
    "start_time": "2023-12-14T12:26:38.697Z"
   },
   {
    "duration": 0,
    "start_time": "2023-12-14T12:26:38.698Z"
   },
   {
    "duration": 0,
    "start_time": "2023-12-14T12:26:38.700Z"
   },
   {
    "duration": 0,
    "start_time": "2023-12-14T12:26:38.701Z"
   },
   {
    "duration": 0,
    "start_time": "2023-12-14T12:26:38.702Z"
   },
   {
    "duration": 0,
    "start_time": "2023-12-14T12:26:38.704Z"
   },
   {
    "duration": 0,
    "start_time": "2023-12-14T12:26:38.705Z"
   },
   {
    "duration": 0,
    "start_time": "2023-12-14T12:26:38.706Z"
   },
   {
    "duration": 0,
    "start_time": "2023-12-14T12:26:38.707Z"
   },
   {
    "duration": 0,
    "start_time": "2023-12-14T12:26:38.708Z"
   },
   {
    "duration": 0,
    "start_time": "2023-12-14T12:26:38.752Z"
   },
   {
    "duration": 0,
    "start_time": "2023-12-14T12:26:38.754Z"
   },
   {
    "duration": 1,
    "start_time": "2023-12-14T12:26:38.755Z"
   },
   {
    "duration": 0,
    "start_time": "2023-12-14T12:26:38.757Z"
   },
   {
    "duration": 0,
    "start_time": "2023-12-14T12:26:38.758Z"
   },
   {
    "duration": 8,
    "start_time": "2023-12-14T12:29:52.809Z"
   },
   {
    "duration": 9,
    "start_time": "2023-12-14T12:30:35.578Z"
   },
   {
    "duration": 8,
    "start_time": "2023-12-14T12:32:31.779Z"
   },
   {
    "duration": 1122,
    "start_time": "2023-12-14T12:33:09.363Z"
   },
   {
    "duration": 37,
    "start_time": "2023-12-14T12:33:10.486Z"
   },
   {
    "duration": 94,
    "start_time": "2023-12-14T12:33:10.525Z"
   },
   {
    "duration": 9,
    "start_time": "2023-12-14T12:33:10.620Z"
   },
   {
    "duration": 32,
    "start_time": "2023-12-14T12:33:10.631Z"
   },
   {
    "duration": 15,
    "start_time": "2023-12-14T12:33:10.664Z"
   },
   {
    "duration": 35,
    "start_time": "2023-12-14T12:33:10.680Z"
   },
   {
    "duration": 32,
    "start_time": "2023-12-14T12:33:10.717Z"
   },
   {
    "duration": 52,
    "start_time": "2023-12-14T12:33:10.751Z"
   },
   {
    "duration": 17,
    "start_time": "2023-12-14T12:33:10.805Z"
   },
   {
    "duration": 29,
    "start_time": "2023-12-14T12:33:10.824Z"
   },
   {
    "duration": 26,
    "start_time": "2023-12-14T12:33:10.854Z"
   },
   {
    "duration": 10,
    "start_time": "2023-12-14T12:33:10.881Z"
   },
   {
    "duration": 27,
    "start_time": "2023-12-14T12:33:10.894Z"
   },
   {
    "duration": 32,
    "start_time": "2023-12-14T12:33:10.922Z"
   },
   {
    "duration": 3,
    "start_time": "2023-12-14T12:33:10.955Z"
   },
   {
    "duration": 55,
    "start_time": "2023-12-14T12:33:10.959Z"
   },
   {
    "duration": 10,
    "start_time": "2023-12-14T12:33:11.016Z"
   },
   {
    "duration": 73,
    "start_time": "2023-12-14T12:33:11.027Z"
   },
   {
    "duration": 23,
    "start_time": "2023-12-14T12:33:11.101Z"
   },
   {
    "duration": 4,
    "start_time": "2023-12-14T12:33:11.126Z"
   },
   {
    "duration": 433,
    "start_time": "2023-12-14T12:33:11.131Z"
   },
   {
    "duration": 22,
    "start_time": "2023-12-14T12:33:11.565Z"
   },
   {
    "duration": 100,
    "start_time": "2023-12-14T12:33:11.589Z"
   },
   {
    "duration": 70,
    "start_time": "2023-12-14T12:33:11.690Z"
   },
   {
    "duration": 65,
    "start_time": "2023-12-14T12:33:11.762Z"
   },
   {
    "duration": 28,
    "start_time": "2023-12-14T12:33:11.828Z"
   },
   {
    "duration": 4,
    "start_time": "2023-12-14T12:33:11.857Z"
   },
   {
    "duration": 769,
    "start_time": "2023-12-14T12:33:11.862Z"
   },
   {
    "duration": 30,
    "start_time": "2023-12-14T12:33:12.632Z"
   },
   {
    "duration": 3,
    "start_time": "2023-12-14T12:33:12.664Z"
   },
   {
    "duration": 12,
    "start_time": "2023-12-14T12:33:12.669Z"
   },
   {
    "duration": 17,
    "start_time": "2023-12-14T12:33:12.683Z"
   },
   {
    "duration": 16,
    "start_time": "2023-12-14T12:33:12.702Z"
   },
   {
    "duration": 33,
    "start_time": "2023-12-14T12:33:12.719Z"
   },
   {
    "duration": 7,
    "start_time": "2023-12-14T12:33:12.754Z"
   },
   {
    "duration": 11,
    "start_time": "2023-12-14T12:33:12.762Z"
   },
   {
    "duration": 17,
    "start_time": "2023-12-14T12:33:12.774Z"
   },
   {
    "duration": 13,
    "start_time": "2023-12-14T12:33:12.792Z"
   },
   {
    "duration": 12,
    "start_time": "2023-12-14T12:33:12.806Z"
   },
   {
    "duration": 5,
    "start_time": "2023-12-14T12:33:12.822Z"
   },
   {
    "duration": 606,
    "start_time": "2023-12-14T12:33:12.828Z"
   },
   {
    "duration": 33,
    "start_time": "2023-12-14T12:33:13.435Z"
   },
   {
    "duration": 108,
    "start_time": "2023-12-14T12:33:13.470Z"
   },
   {
    "duration": 89,
    "start_time": "2023-12-14T12:33:13.580Z"
   },
   {
    "duration": 2,
    "start_time": "2023-12-14T12:33:13.671Z"
   },
   {
    "duration": 44,
    "start_time": "2023-12-14T12:33:13.674Z"
   },
   {
    "duration": 36,
    "start_time": "2023-12-14T12:33:13.719Z"
   },
   {
    "duration": 46,
    "start_time": "2023-12-14T12:33:13.756Z"
   },
   {
    "duration": 107,
    "start_time": "2023-12-14T12:33:13.803Z"
   },
   {
    "duration": 47,
    "start_time": "2023-12-14T12:33:13.911Z"
   },
   {
    "duration": 5,
    "start_time": "2023-12-14T12:33:13.960Z"
   },
   {
    "duration": 7,
    "start_time": "2023-12-14T12:33:13.966Z"
   },
   {
    "duration": 25,
    "start_time": "2023-12-14T12:33:13.975Z"
   },
   {
    "duration": 20,
    "start_time": "2023-12-14T12:33:14.002Z"
   },
   {
    "duration": 41,
    "start_time": "2023-12-14T12:33:14.023Z"
   },
   {
    "duration": 35,
    "start_time": "2023-12-14T12:33:14.065Z"
   },
   {
    "duration": 22,
    "start_time": "2023-12-14T12:33:14.101Z"
   },
   {
    "duration": 106,
    "start_time": "2023-12-14T12:33:14.124Z"
   },
   {
    "duration": 31,
    "start_time": "2023-12-14T12:33:14.232Z"
   },
   {
    "duration": 17,
    "start_time": "2023-12-14T12:33:14.264Z"
   },
   {
    "duration": 21,
    "start_time": "2023-12-14T12:33:14.282Z"
   },
   {
    "duration": 34,
    "start_time": "2023-12-14T12:33:14.305Z"
   },
   {
    "duration": 39,
    "start_time": "2023-12-14T12:33:14.340Z"
   },
   {
    "duration": 15,
    "start_time": "2023-12-14T12:33:14.380Z"
   },
   {
    "duration": 24,
    "start_time": "2023-12-14T12:33:14.396Z"
   },
   {
    "duration": 24,
    "start_time": "2023-12-14T12:33:14.421Z"
   },
   {
    "duration": 61,
    "start_time": "2023-12-14T12:33:14.446Z"
   },
   {
    "duration": 417,
    "start_time": "2023-12-14T12:33:14.509Z"
   },
   {
    "duration": 409,
    "start_time": "2023-12-14T12:33:14.928Z"
   },
   {
    "duration": 13,
    "start_time": "2023-12-14T12:33:15.339Z"
   },
   {
    "duration": 39,
    "start_time": "2023-12-14T12:33:15.354Z"
   },
   {
    "duration": 63,
    "start_time": "2023-12-14T12:33:15.394Z"
   },
   {
    "duration": 5,
    "start_time": "2023-12-14T12:33:15.459Z"
   },
   {
    "duration": 8,
    "start_time": "2023-12-14T12:33:15.466Z"
   },
   {
    "duration": 382,
    "start_time": "2023-12-14T12:33:15.475Z"
   },
   {
    "duration": 380,
    "start_time": "2023-12-14T12:33:15.859Z"
   },
   {
    "duration": 6,
    "start_time": "2023-12-14T12:33:16.241Z"
   },
   {
    "duration": 8,
    "start_time": "2023-12-14T12:33:16.252Z"
   },
   {
    "duration": 8,
    "start_time": "2023-12-14T12:33:16.261Z"
   },
   {
    "duration": 14,
    "start_time": "2023-12-14T12:33:16.270Z"
   },
   {
    "duration": 10,
    "start_time": "2023-12-14T12:36:35.734Z"
   },
   {
    "duration": 144,
    "start_time": "2023-12-14T13:11:09.288Z"
   },
   {
    "duration": 10,
    "start_time": "2023-12-14T13:11:16.856Z"
   },
   {
    "duration": 10,
    "start_time": "2023-12-14T13:11:18.040Z"
   },
   {
    "duration": 10,
    "start_time": "2023-12-14T13:12:03.697Z"
   },
   {
    "duration": 9,
    "start_time": "2023-12-14T13:12:15.874Z"
   },
   {
    "duration": 104,
    "start_time": "2023-12-14T13:12:16.823Z"
   },
   {
    "duration": 10,
    "start_time": "2023-12-14T13:12:26.894Z"
   },
   {
    "duration": 4,
    "start_time": "2023-12-14T13:13:20.641Z"
   },
   {
    "duration": 769,
    "start_time": "2023-12-14T13:13:39.972Z"
   },
   {
    "duration": 868,
    "start_time": "2023-12-14T13:13:58.641Z"
   },
   {
    "duration": 31,
    "start_time": "2023-12-14T13:14:32.884Z"
   },
   {
    "duration": 3,
    "start_time": "2023-12-14T13:15:01.303Z"
   },
   {
    "duration": 11,
    "start_time": "2023-12-14T13:15:04.390Z"
   },
   {
    "duration": 12,
    "start_time": "2023-12-14T13:15:53.027Z"
   },
   {
    "duration": 9,
    "start_time": "2023-12-14T13:16:07.714Z"
   },
   {
    "duration": 3,
    "start_time": "2023-12-14T13:16:08.740Z"
   },
   {
    "duration": 12,
    "start_time": "2023-12-14T13:16:09.391Z"
   },
   {
    "duration": 8,
    "start_time": "2023-12-14T13:16:29.092Z"
   },
   {
    "duration": 11,
    "start_time": "2023-12-14T13:17:54.385Z"
   },
   {
    "duration": 18,
    "start_time": "2023-12-14T13:18:05.255Z"
   },
   {
    "duration": 9,
    "start_time": "2023-12-14T13:18:40.827Z"
   },
   {
    "duration": 78,
    "start_time": "2023-12-14T13:18:51.887Z"
   },
   {
    "duration": 6,
    "start_time": "2023-12-14T13:18:59.150Z"
   },
   {
    "duration": 14,
    "start_time": "2023-12-14T13:19:28.831Z"
   },
   {
    "duration": 9,
    "start_time": "2023-12-14T13:19:36.130Z"
   },
   {
    "duration": 5,
    "start_time": "2023-12-14T13:19:36.778Z"
   },
   {
    "duration": 12,
    "start_time": "2023-12-14T13:19:37.381Z"
   },
   {
    "duration": 18,
    "start_time": "2023-12-14T13:21:49.555Z"
   },
   {
    "duration": 10,
    "start_time": "2023-12-14T13:21:57.030Z"
   },
   {
    "duration": 10,
    "start_time": "2023-12-14T13:21:57.904Z"
   },
   {
    "duration": 19,
    "start_time": "2023-12-14T13:21:59.444Z"
   },
   {
    "duration": 31,
    "start_time": "2023-12-14T13:22:20.578Z"
   },
   {
    "duration": 11,
    "start_time": "2023-12-14T13:25:25.069Z"
   },
   {
    "duration": 7,
    "start_time": "2023-12-14T13:25:25.630Z"
   },
   {
    "duration": 11,
    "start_time": "2023-12-14T13:26:01.016Z"
   },
   {
    "duration": 11,
    "start_time": "2023-12-14T13:26:50.029Z"
   },
   {
    "duration": 9,
    "start_time": "2023-12-14T13:26:50.511Z"
   },
   {
    "duration": 13,
    "start_time": "2023-12-14T13:28:38.150Z"
   },
   {
    "duration": 8,
    "start_time": "2023-12-14T13:28:54.425Z"
   },
   {
    "duration": 11,
    "start_time": "2023-12-14T13:29:26.306Z"
   },
   {
    "duration": 81,
    "start_time": "2023-12-14T13:29:55.372Z"
   },
   {
    "duration": 83,
    "start_time": "2023-12-14T13:30:01.221Z"
   },
   {
    "duration": 1131,
    "start_time": "2023-12-14T13:30:22.160Z"
   },
   {
    "duration": 36,
    "start_time": "2023-12-14T13:30:23.293Z"
   },
   {
    "duration": 95,
    "start_time": "2023-12-14T13:30:23.331Z"
   },
   {
    "duration": 9,
    "start_time": "2023-12-14T13:30:23.428Z"
   },
   {
    "duration": 28,
    "start_time": "2023-12-14T13:30:23.438Z"
   },
   {
    "duration": 2,
    "start_time": "2023-12-14T13:30:23.468Z"
   },
   {
    "duration": 25,
    "start_time": "2023-12-14T13:30:23.471Z"
   },
   {
    "duration": 24,
    "start_time": "2023-12-14T13:30:23.497Z"
   },
   {
    "duration": 54,
    "start_time": "2023-12-14T13:30:23.523Z"
   },
   {
    "duration": 18,
    "start_time": "2023-12-14T13:30:23.579Z"
   },
   {
    "duration": 16,
    "start_time": "2023-12-14T13:30:23.598Z"
   },
   {
    "duration": 43,
    "start_time": "2023-12-14T13:30:23.615Z"
   },
   {
    "duration": 9,
    "start_time": "2023-12-14T13:30:23.660Z"
   },
   {
    "duration": 17,
    "start_time": "2023-12-14T13:30:23.670Z"
   },
   {
    "duration": 25,
    "start_time": "2023-12-14T13:30:23.688Z"
   },
   {
    "duration": 8,
    "start_time": "2023-12-14T13:30:23.714Z"
   },
   {
    "duration": 49,
    "start_time": "2023-12-14T13:30:23.723Z"
   },
   {
    "duration": 9,
    "start_time": "2023-12-14T13:30:23.774Z"
   },
   {
    "duration": 52,
    "start_time": "2023-12-14T13:30:23.784Z"
   },
   {
    "duration": 31,
    "start_time": "2023-12-14T13:30:23.837Z"
   },
   {
    "duration": 4,
    "start_time": "2023-12-14T13:30:23.869Z"
   },
   {
    "duration": 389,
    "start_time": "2023-12-14T13:30:23.874Z"
   },
   {
    "duration": 23,
    "start_time": "2023-12-14T13:30:24.264Z"
   },
   {
    "duration": 164,
    "start_time": "2023-12-14T13:30:24.288Z"
   },
   {
    "duration": 21,
    "start_time": "2023-12-14T13:30:24.454Z"
   },
   {
    "duration": 59,
    "start_time": "2023-12-14T13:30:24.476Z"
   },
   {
    "duration": 23,
    "start_time": "2023-12-14T13:30:24.536Z"
   },
   {
    "duration": 4,
    "start_time": "2023-12-14T13:30:24.563Z"
   },
   {
    "duration": 748,
    "start_time": "2023-12-14T13:30:24.568Z"
   },
   {
    "duration": 35,
    "start_time": "2023-12-14T13:30:25.318Z"
   },
   {
    "duration": 4,
    "start_time": "2023-12-14T13:30:25.355Z"
   },
   {
    "duration": 10,
    "start_time": "2023-12-14T13:30:25.360Z"
   },
   {
    "duration": 12,
    "start_time": "2023-12-14T13:30:25.372Z"
   },
   {
    "duration": 9,
    "start_time": "2023-12-14T13:30:25.386Z"
   },
   {
    "duration": 29,
    "start_time": "2023-12-14T13:30:25.396Z"
   },
   {
    "duration": 32,
    "start_time": "2023-12-14T13:30:25.426Z"
   },
   {
    "duration": 5,
    "start_time": "2023-12-14T13:30:25.460Z"
   },
   {
    "duration": 12,
    "start_time": "2023-12-14T13:30:25.466Z"
   },
   {
    "duration": 10,
    "start_time": "2023-12-14T13:30:25.480Z"
   },
   {
    "duration": 9,
    "start_time": "2023-12-14T13:30:25.491Z"
   },
   {
    "duration": 11,
    "start_time": "2023-12-14T13:30:25.501Z"
   },
   {
    "duration": 652,
    "start_time": "2023-12-14T13:30:25.514Z"
   },
   {
    "duration": 22,
    "start_time": "2023-12-14T13:30:26.168Z"
   },
   {
    "duration": 7,
    "start_time": "2023-12-14T13:30:26.191Z"
   },
   {
    "duration": 119,
    "start_time": "2023-12-14T13:30:26.200Z"
   },
   {
    "duration": 3,
    "start_time": "2023-12-14T13:30:26.320Z"
   },
   {
    "duration": 29,
    "start_time": "2023-12-14T13:30:26.324Z"
   },
   {
    "duration": 8,
    "start_time": "2023-12-14T13:30:26.355Z"
   },
   {
    "duration": 6,
    "start_time": "2023-12-14T13:30:26.365Z"
   },
   {
    "duration": 11,
    "start_time": "2023-12-14T13:30:26.372Z"
   },
   {
    "duration": 94,
    "start_time": "2023-12-14T13:30:26.384Z"
   },
   {
    "duration": 0,
    "start_time": "2023-12-14T13:30:26.480Z"
   },
   {
    "duration": 0,
    "start_time": "2023-12-14T13:30:26.481Z"
   },
   {
    "duration": 0,
    "start_time": "2023-12-14T13:30:26.482Z"
   },
   {
    "duration": 0,
    "start_time": "2023-12-14T13:30:26.483Z"
   },
   {
    "duration": 0,
    "start_time": "2023-12-14T13:30:26.483Z"
   },
   {
    "duration": 0,
    "start_time": "2023-12-14T13:30:26.484Z"
   },
   {
    "duration": 0,
    "start_time": "2023-12-14T13:30:26.485Z"
   },
   {
    "duration": 0,
    "start_time": "2023-12-14T13:30:26.486Z"
   },
   {
    "duration": 0,
    "start_time": "2023-12-14T13:30:26.487Z"
   },
   {
    "duration": 0,
    "start_time": "2023-12-14T13:30:26.488Z"
   },
   {
    "duration": 0,
    "start_time": "2023-12-14T13:30:26.489Z"
   },
   {
    "duration": 0,
    "start_time": "2023-12-14T13:30:26.490Z"
   },
   {
    "duration": 0,
    "start_time": "2023-12-14T13:30:26.491Z"
   },
   {
    "duration": 0,
    "start_time": "2023-12-14T13:30:26.492Z"
   },
   {
    "duration": 0,
    "start_time": "2023-12-14T13:30:26.493Z"
   },
   {
    "duration": 0,
    "start_time": "2023-12-14T13:30:26.494Z"
   },
   {
    "duration": 0,
    "start_time": "2023-12-14T13:30:26.495Z"
   },
   {
    "duration": 0,
    "start_time": "2023-12-14T13:30:26.496Z"
   },
   {
    "duration": 0,
    "start_time": "2023-12-14T13:30:26.497Z"
   },
   {
    "duration": 0,
    "start_time": "2023-12-14T13:30:26.497Z"
   },
   {
    "duration": 0,
    "start_time": "2023-12-14T13:30:26.499Z"
   },
   {
    "duration": 1,
    "start_time": "2023-12-14T13:30:26.499Z"
   },
   {
    "duration": 0,
    "start_time": "2023-12-14T13:30:26.501Z"
   },
   {
    "duration": 0,
    "start_time": "2023-12-14T13:30:26.502Z"
   },
   {
    "duration": 0,
    "start_time": "2023-12-14T13:30:26.503Z"
   },
   {
    "duration": 0,
    "start_time": "2023-12-14T13:30:26.504Z"
   },
   {
    "duration": 0,
    "start_time": "2023-12-14T13:30:26.504Z"
   },
   {
    "duration": 0,
    "start_time": "2023-12-14T13:30:26.505Z"
   },
   {
    "duration": 0,
    "start_time": "2023-12-14T13:30:26.506Z"
   },
   {
    "duration": 0,
    "start_time": "2023-12-14T13:30:26.507Z"
   },
   {
    "duration": 0,
    "start_time": "2023-12-14T13:30:26.508Z"
   },
   {
    "duration": 0,
    "start_time": "2023-12-14T13:30:26.510Z"
   },
   {
    "duration": 0,
    "start_time": "2023-12-14T13:30:26.511Z"
   },
   {
    "duration": 0,
    "start_time": "2023-12-14T13:30:26.512Z"
   },
   {
    "duration": 0,
    "start_time": "2023-12-14T13:30:26.512Z"
   },
   {
    "duration": 7,
    "start_time": "2023-12-14T13:31:19.960Z"
   },
   {
    "duration": 1107,
    "start_time": "2023-12-14T13:31:25.881Z"
   },
   {
    "duration": 37,
    "start_time": "2023-12-14T13:31:26.990Z"
   },
   {
    "duration": 99,
    "start_time": "2023-12-14T13:31:27.029Z"
   },
   {
    "duration": 22,
    "start_time": "2023-12-14T13:31:27.130Z"
   },
   {
    "duration": 21,
    "start_time": "2023-12-14T13:31:27.155Z"
   },
   {
    "duration": 3,
    "start_time": "2023-12-14T13:31:27.178Z"
   },
   {
    "duration": 21,
    "start_time": "2023-12-14T13:31:27.183Z"
   },
   {
    "duration": 27,
    "start_time": "2023-12-14T13:31:27.205Z"
   },
   {
    "duration": 72,
    "start_time": "2023-12-14T13:31:27.233Z"
   },
   {
    "duration": 20,
    "start_time": "2023-12-14T13:31:27.307Z"
   },
   {
    "duration": 39,
    "start_time": "2023-12-14T13:31:27.328Z"
   },
   {
    "duration": 30,
    "start_time": "2023-12-14T13:31:27.369Z"
   },
   {
    "duration": 10,
    "start_time": "2023-12-14T13:31:27.401Z"
   },
   {
    "duration": 14,
    "start_time": "2023-12-14T13:31:27.414Z"
   },
   {
    "duration": 34,
    "start_time": "2023-12-14T13:31:27.429Z"
   },
   {
    "duration": 2,
    "start_time": "2023-12-14T13:31:27.465Z"
   },
   {
    "duration": 39,
    "start_time": "2023-12-14T13:31:27.469Z"
   },
   {
    "duration": 10,
    "start_time": "2023-12-14T13:31:27.510Z"
   },
   {
    "duration": 74,
    "start_time": "2023-12-14T13:31:27.522Z"
   },
   {
    "duration": 21,
    "start_time": "2023-12-14T13:31:27.598Z"
   },
   {
    "duration": 4,
    "start_time": "2023-12-14T13:31:27.620Z"
   },
   {
    "duration": 386,
    "start_time": "2023-12-14T13:31:27.625Z"
   },
   {
    "duration": 22,
    "start_time": "2023-12-14T13:31:28.012Z"
   },
   {
    "duration": 117,
    "start_time": "2023-12-14T13:31:28.035Z"
   },
   {
    "duration": 22,
    "start_time": "2023-12-14T13:31:28.154Z"
   },
   {
    "duration": 76,
    "start_time": "2023-12-14T13:31:28.178Z"
   },
   {
    "duration": 13,
    "start_time": "2023-12-14T13:31:28.255Z"
   },
   {
    "duration": 17,
    "start_time": "2023-12-14T13:31:28.269Z"
   },
   {
    "duration": 767,
    "start_time": "2023-12-14T13:31:28.288Z"
   },
   {
    "duration": 23,
    "start_time": "2023-12-14T13:31:29.056Z"
   },
   {
    "duration": 4,
    "start_time": "2023-12-14T13:31:29.080Z"
   },
   {
    "duration": 16,
    "start_time": "2023-12-14T13:31:29.085Z"
   },
   {
    "duration": 13,
    "start_time": "2023-12-14T13:31:29.103Z"
   },
   {
    "duration": 7,
    "start_time": "2023-12-14T13:31:29.118Z"
   },
   {
    "duration": 45,
    "start_time": "2023-12-14T13:31:29.126Z"
   },
   {
    "duration": 8,
    "start_time": "2023-12-14T13:31:29.172Z"
   },
   {
    "duration": 4,
    "start_time": "2023-12-14T13:31:29.181Z"
   },
   {
    "duration": 9,
    "start_time": "2023-12-14T13:31:29.187Z"
   },
   {
    "duration": 5,
    "start_time": "2023-12-14T13:31:29.197Z"
   },
   {
    "duration": 9,
    "start_time": "2023-12-14T13:31:29.203Z"
   },
   {
    "duration": 7,
    "start_time": "2023-12-14T13:31:29.216Z"
   },
   {
    "duration": 616,
    "start_time": "2023-12-14T13:31:29.224Z"
   },
   {
    "duration": 26,
    "start_time": "2023-12-14T13:31:29.841Z"
   },
   {
    "duration": 8,
    "start_time": "2023-12-14T13:31:29.869Z"
   },
   {
    "duration": 102,
    "start_time": "2023-12-14T13:31:29.878Z"
   },
   {
    "duration": 2,
    "start_time": "2023-12-14T13:31:29.982Z"
   },
   {
    "duration": 12,
    "start_time": "2023-12-14T13:31:29.986Z"
   },
   {
    "duration": 9,
    "start_time": "2023-12-14T13:31:29.999Z"
   },
   {
    "duration": 52,
    "start_time": "2023-12-14T13:31:30.009Z"
   },
   {
    "duration": 45,
    "start_time": "2023-12-14T13:31:30.062Z"
   },
   {
    "duration": 147,
    "start_time": "2023-12-14T13:31:30.109Z"
   },
   {
    "duration": 0,
    "start_time": "2023-12-14T13:31:30.257Z"
   },
   {
    "duration": 0,
    "start_time": "2023-12-14T13:31:30.258Z"
   },
   {
    "duration": 0,
    "start_time": "2023-12-14T13:31:30.260Z"
   },
   {
    "duration": 0,
    "start_time": "2023-12-14T13:31:30.261Z"
   },
   {
    "duration": 0,
    "start_time": "2023-12-14T13:31:30.262Z"
   },
   {
    "duration": 0,
    "start_time": "2023-12-14T13:31:30.263Z"
   },
   {
    "duration": 0,
    "start_time": "2023-12-14T13:31:30.264Z"
   },
   {
    "duration": 0,
    "start_time": "2023-12-14T13:31:30.265Z"
   },
   {
    "duration": 0,
    "start_time": "2023-12-14T13:31:30.267Z"
   },
   {
    "duration": 0,
    "start_time": "2023-12-14T13:31:30.268Z"
   },
   {
    "duration": 0,
    "start_time": "2023-12-14T13:31:30.269Z"
   },
   {
    "duration": 0,
    "start_time": "2023-12-14T13:31:30.270Z"
   },
   {
    "duration": 0,
    "start_time": "2023-12-14T13:31:30.271Z"
   },
   {
    "duration": 0,
    "start_time": "2023-12-14T13:31:30.273Z"
   },
   {
    "duration": 0,
    "start_time": "2023-12-14T13:31:30.273Z"
   },
   {
    "duration": 0,
    "start_time": "2023-12-14T13:31:30.274Z"
   },
   {
    "duration": 0,
    "start_time": "2023-12-14T13:31:30.275Z"
   },
   {
    "duration": 0,
    "start_time": "2023-12-14T13:31:30.276Z"
   },
   {
    "duration": 0,
    "start_time": "2023-12-14T13:31:30.277Z"
   },
   {
    "duration": 0,
    "start_time": "2023-12-14T13:31:30.278Z"
   },
   {
    "duration": 0,
    "start_time": "2023-12-14T13:31:30.279Z"
   },
   {
    "duration": 0,
    "start_time": "2023-12-14T13:31:30.280Z"
   },
   {
    "duration": 0,
    "start_time": "2023-12-14T13:31:30.281Z"
   },
   {
    "duration": 0,
    "start_time": "2023-12-14T13:31:30.282Z"
   },
   {
    "duration": 0,
    "start_time": "2023-12-14T13:31:30.283Z"
   },
   {
    "duration": 0,
    "start_time": "2023-12-14T13:31:30.284Z"
   },
   {
    "duration": 0,
    "start_time": "2023-12-14T13:31:30.285Z"
   },
   {
    "duration": 0,
    "start_time": "2023-12-14T13:31:30.286Z"
   },
   {
    "duration": 0,
    "start_time": "2023-12-14T13:31:30.287Z"
   },
   {
    "duration": 0,
    "start_time": "2023-12-14T13:31:30.289Z"
   },
   {
    "duration": 0,
    "start_time": "2023-12-14T13:31:30.290Z"
   },
   {
    "duration": 0,
    "start_time": "2023-12-14T13:31:30.291Z"
   },
   {
    "duration": 0,
    "start_time": "2023-12-14T13:31:30.291Z"
   },
   {
    "duration": 0,
    "start_time": "2023-12-14T13:31:30.292Z"
   },
   {
    "duration": 0,
    "start_time": "2023-12-14T13:31:30.352Z"
   },
   {
    "duration": 9,
    "start_time": "2023-12-14T13:34:51.159Z"
   },
   {
    "duration": 7,
    "start_time": "2023-12-14T13:35:02.828Z"
   },
   {
    "duration": 9,
    "start_time": "2023-12-14T13:35:20.336Z"
   },
   {
    "duration": 153,
    "start_time": "2023-12-14T13:36:40.028Z"
   },
   {
    "duration": 12,
    "start_time": "2023-12-14T13:36:49.302Z"
   },
   {
    "duration": 1309,
    "start_time": "2023-12-14T13:37:49.155Z"
   },
   {
    "duration": 1222,
    "start_time": "2023-12-14T13:38:05.085Z"
   },
   {
    "duration": 1263,
    "start_time": "2023-12-14T13:38:37.757Z"
   },
   {
    "duration": 1257,
    "start_time": "2023-12-14T13:38:53.044Z"
   },
   {
    "duration": 1207,
    "start_time": "2023-12-14T13:39:50.190Z"
   },
   {
    "duration": 9,
    "start_time": "2023-12-14T13:41:03.219Z"
   },
   {
    "duration": 11,
    "start_time": "2023-12-14T13:41:04.920Z"
   },
   {
    "duration": 10,
    "start_time": "2023-12-14T13:42:15.359Z"
   },
   {
    "duration": 15,
    "start_time": "2023-12-14T13:42:27.606Z"
   },
   {
    "duration": 21,
    "start_time": "2023-12-14T13:43:53.192Z"
   },
   {
    "duration": 11,
    "start_time": "2023-12-14T13:44:25.689Z"
   },
   {
    "duration": 8,
    "start_time": "2023-12-14T13:44:30.495Z"
   },
   {
    "duration": 10,
    "start_time": "2023-12-14T13:44:33.031Z"
   },
   {
    "duration": 22,
    "start_time": "2023-12-14T13:44:36.064Z"
   },
   {
    "duration": 11,
    "start_time": "2023-12-14T13:45:08.808Z"
   },
   {
    "duration": 18,
    "start_time": "2023-12-14T13:45:32.857Z"
   },
   {
    "duration": 16,
    "start_time": "2023-12-14T13:45:53.751Z"
   },
   {
    "duration": 13,
    "start_time": "2023-12-14T13:46:33.208Z"
   },
   {
    "duration": 9,
    "start_time": "2023-12-14T13:47:01.129Z"
   },
   {
    "duration": 15,
    "start_time": "2023-12-14T13:49:08.272Z"
   },
   {
    "duration": 87,
    "start_time": "2023-12-14T13:50:34.475Z"
   },
   {
    "duration": 8,
    "start_time": "2023-12-14T13:51:36.127Z"
   },
   {
    "duration": 28,
    "start_time": "2023-12-14T13:58:02.025Z"
   },
   {
    "duration": 11,
    "start_time": "2023-12-14T13:58:25.654Z"
   },
   {
    "duration": 29,
    "start_time": "2023-12-14T13:58:49.698Z"
   },
   {
    "duration": 43,
    "start_time": "2023-12-14T13:58:52.450Z"
   },
   {
    "duration": 96,
    "start_time": "2023-12-14T14:01:25.047Z"
   },
   {
    "duration": 3,
    "start_time": "2023-12-14T14:06:51.449Z"
   },
   {
    "duration": 37,
    "start_time": "2023-12-14T14:09:10.959Z"
   },
   {
    "duration": 113,
    "start_time": "2023-12-14T14:09:17.350Z"
   },
   {
    "duration": 3,
    "start_time": "2023-12-14T14:09:21.876Z"
   },
   {
    "duration": 39,
    "start_time": "2023-12-14T14:09:54.131Z"
   },
   {
    "duration": 11,
    "start_time": "2023-12-14T14:09:58.227Z"
   },
   {
    "duration": 3,
    "start_time": "2023-12-14T14:10:12.511Z"
   },
   {
    "duration": 31,
    "start_time": "2023-12-14T14:10:37.528Z"
   },
   {
    "duration": 30,
    "start_time": "2023-12-14T14:11:20.248Z"
   },
   {
    "duration": 37,
    "start_time": "2023-12-14T14:11:27.983Z"
   },
   {
    "duration": 3,
    "start_time": "2023-12-14T14:11:39.800Z"
   },
   {
    "duration": 42,
    "start_time": "2023-12-14T14:14:21.187Z"
   },
   {
    "duration": 44,
    "start_time": "2023-12-14T14:14:44.306Z"
   },
   {
    "duration": 47,
    "start_time": "2023-12-14T14:14:45.780Z"
   },
   {
    "duration": 3,
    "start_time": "2023-12-14T14:15:53.996Z"
   },
   {
    "duration": 1098,
    "start_time": "2023-12-14T14:25:49.089Z"
   },
   {
    "duration": 37,
    "start_time": "2023-12-14T14:25:50.188Z"
   },
   {
    "duration": 95,
    "start_time": "2023-12-14T14:25:50.226Z"
   },
   {
    "duration": 9,
    "start_time": "2023-12-14T14:25:50.323Z"
   },
   {
    "duration": 24,
    "start_time": "2023-12-14T14:25:50.334Z"
   },
   {
    "duration": 3,
    "start_time": "2023-12-14T14:25:50.359Z"
   },
   {
    "duration": 19,
    "start_time": "2023-12-14T14:25:50.363Z"
   },
   {
    "duration": 21,
    "start_time": "2023-12-14T14:25:50.383Z"
   },
   {
    "duration": 75,
    "start_time": "2023-12-14T14:25:50.405Z"
   },
   {
    "duration": 19,
    "start_time": "2023-12-14T14:25:50.483Z"
   },
   {
    "duration": 15,
    "start_time": "2023-12-14T14:25:50.503Z"
   },
   {
    "duration": 52,
    "start_time": "2023-12-14T14:25:50.519Z"
   },
   {
    "duration": 10,
    "start_time": "2023-12-14T14:25:50.572Z"
   },
   {
    "duration": 13,
    "start_time": "2023-12-14T14:25:50.583Z"
   },
   {
    "duration": 19,
    "start_time": "2023-12-14T14:25:50.598Z"
   },
   {
    "duration": 3,
    "start_time": "2023-12-14T14:25:50.618Z"
   },
   {
    "duration": 73,
    "start_time": "2023-12-14T14:25:50.622Z"
   },
   {
    "duration": 12,
    "start_time": "2023-12-14T14:25:50.696Z"
   },
   {
    "duration": 57,
    "start_time": "2023-12-14T14:25:50.709Z"
   },
   {
    "duration": 21,
    "start_time": "2023-12-14T14:25:50.768Z"
   },
   {
    "duration": 4,
    "start_time": "2023-12-14T14:25:50.790Z"
   },
   {
    "duration": 397,
    "start_time": "2023-12-14T14:25:50.795Z"
   },
   {
    "duration": 20,
    "start_time": "2023-12-14T14:25:51.193Z"
   },
   {
    "duration": 74,
    "start_time": "2023-12-14T14:25:51.214Z"
   },
   {
    "duration": 21,
    "start_time": "2023-12-14T14:25:51.289Z"
   },
   {
    "duration": 98,
    "start_time": "2023-12-14T14:25:51.311Z"
   },
   {
    "duration": 11,
    "start_time": "2023-12-14T14:25:51.411Z"
   },
   {
    "duration": 25,
    "start_time": "2023-12-14T14:25:51.426Z"
   },
   {
    "duration": 738,
    "start_time": "2023-12-14T14:25:51.453Z"
   },
   {
    "duration": 20,
    "start_time": "2023-12-14T14:25:52.192Z"
   },
   {
    "duration": 3,
    "start_time": "2023-12-14T14:25:52.213Z"
   },
   {
    "duration": 10,
    "start_time": "2023-12-14T14:25:52.217Z"
   },
   {
    "duration": 25,
    "start_time": "2023-12-14T14:25:52.228Z"
   },
   {
    "duration": 15,
    "start_time": "2023-12-14T14:25:52.254Z"
   },
   {
    "duration": 29,
    "start_time": "2023-12-14T14:25:52.270Z"
   },
   {
    "duration": 6,
    "start_time": "2023-12-14T14:25:52.300Z"
   },
   {
    "duration": 16,
    "start_time": "2023-12-14T14:25:52.307Z"
   },
   {
    "duration": 13,
    "start_time": "2023-12-14T14:25:52.324Z"
   },
   {
    "duration": 3,
    "start_time": "2023-12-14T14:25:52.338Z"
   },
   {
    "duration": 9,
    "start_time": "2023-12-14T14:25:52.343Z"
   },
   {
    "duration": 14,
    "start_time": "2023-12-14T14:25:52.353Z"
   },
   {
    "duration": 572,
    "start_time": "2023-12-14T14:25:52.369Z"
   },
   {
    "duration": 29,
    "start_time": "2023-12-14T14:25:52.942Z"
   },
   {
    "duration": 7,
    "start_time": "2023-12-14T14:25:52.972Z"
   },
   {
    "duration": 10,
    "start_time": "2023-12-14T14:25:52.990Z"
   },
   {
    "duration": 55,
    "start_time": "2023-12-14T14:25:53.002Z"
   },
   {
    "duration": 42,
    "start_time": "2023-12-14T14:25:53.059Z"
   },
   {
    "duration": 3,
    "start_time": "2023-12-14T14:25:53.102Z"
   },
   {
    "duration": 63,
    "start_time": "2023-12-14T14:25:53.107Z"
   },
   {
    "duration": 39,
    "start_time": "2023-12-14T14:25:53.171Z"
   },
   {
    "duration": 13,
    "start_time": "2023-12-14T14:25:53.211Z"
   },
   {
    "duration": 45,
    "start_time": "2023-12-14T14:25:53.225Z"
   },
   {
    "duration": 105,
    "start_time": "2023-12-14T14:25:53.272Z"
   },
   {
    "duration": 41,
    "start_time": "2023-12-14T14:25:53.378Z"
   },
   {
    "duration": 7,
    "start_time": "2023-12-14T14:25:53.421Z"
   },
   {
    "duration": 4,
    "start_time": "2023-12-14T14:25:53.430Z"
   },
   {
    "duration": 10,
    "start_time": "2023-12-14T14:25:53.435Z"
   },
   {
    "duration": 25,
    "start_time": "2023-12-14T14:25:53.446Z"
   },
   {
    "duration": 6,
    "start_time": "2023-12-14T14:25:53.472Z"
   },
   {
    "duration": 9,
    "start_time": "2023-12-14T14:25:53.479Z"
   },
   {
    "duration": 7,
    "start_time": "2023-12-14T14:25:53.490Z"
   },
   {
    "duration": 56,
    "start_time": "2023-12-14T14:25:53.498Z"
   },
   {
    "duration": 406,
    "start_time": "2023-12-14T14:25:53.556Z"
   },
   {
    "duration": 403,
    "start_time": "2023-12-14T14:25:53.963Z"
   },
   {
    "duration": 11,
    "start_time": "2023-12-14T14:25:54.368Z"
   },
   {
    "duration": 5,
    "start_time": "2023-12-14T14:25:54.381Z"
   },
   {
    "duration": 75,
    "start_time": "2023-12-14T14:25:54.387Z"
   },
   {
    "duration": 0,
    "start_time": "2023-12-14T14:25:54.463Z"
   },
   {
    "duration": 0,
    "start_time": "2023-12-14T14:25:54.464Z"
   },
   {
    "duration": 0,
    "start_time": "2023-12-14T14:25:54.465Z"
   },
   {
    "duration": 0,
    "start_time": "2023-12-14T14:25:54.466Z"
   },
   {
    "duration": 0,
    "start_time": "2023-12-14T14:25:54.467Z"
   },
   {
    "duration": 0,
    "start_time": "2023-12-14T14:25:54.468Z"
   },
   {
    "duration": 0,
    "start_time": "2023-12-14T14:25:54.468Z"
   },
   {
    "duration": 0,
    "start_time": "2023-12-14T14:25:54.469Z"
   },
   {
    "duration": 0,
    "start_time": "2023-12-14T14:25:54.470Z"
   },
   {
    "duration": 0,
    "start_time": "2023-12-14T14:25:54.471Z"
   },
   {
    "duration": 3,
    "start_time": "2023-12-14T14:26:58.482Z"
   },
   {
    "duration": 3,
    "start_time": "2023-12-14T14:27:24.229Z"
   },
   {
    "duration": 73,
    "start_time": "2023-12-14T14:28:22.049Z"
   },
   {
    "duration": 69,
    "start_time": "2023-12-14T14:30:22.803Z"
   },
   {
    "duration": 7,
    "start_time": "2023-12-14T14:30:29.513Z"
   },
   {
    "duration": 4,
    "start_time": "2023-12-14T14:30:34.263Z"
   },
   {
    "duration": 6,
    "start_time": "2023-12-14T14:30:43.635Z"
   },
   {
    "duration": 372,
    "start_time": "2023-12-14T14:30:59.087Z"
   },
   {
    "duration": 400,
    "start_time": "2023-12-14T14:30:59.626Z"
   },
   {
    "duration": 14,
    "start_time": "2023-12-14T14:31:54.125Z"
   },
   {
    "duration": 7,
    "start_time": "2023-12-14T14:32:39.762Z"
   },
   {
    "duration": 6,
    "start_time": "2023-12-14T14:33:46.544Z"
   },
   {
    "duration": 17,
    "start_time": "2023-12-14T14:33:47.032Z"
   },
   {
    "duration": 4,
    "start_time": "2023-12-14T14:34:19.960Z"
   },
   {
    "duration": 3,
    "start_time": "2023-12-14T14:34:21.146Z"
   },
   {
    "duration": 7,
    "start_time": "2023-12-14T14:36:46.213Z"
   },
   {
    "duration": 7,
    "start_time": "2023-12-14T14:36:59.570Z"
   },
   {
    "duration": 5,
    "start_time": "2023-12-14T14:37:02.614Z"
   },
   {
    "duration": 10,
    "start_time": "2023-12-14T14:41:36.662Z"
   },
   {
    "duration": 13,
    "start_time": "2023-12-14T14:42:29.423Z"
   },
   {
    "duration": 12,
    "start_time": "2023-12-14T14:42:53.007Z"
   },
   {
    "duration": 11,
    "start_time": "2023-12-14T14:42:58.491Z"
   },
   {
    "duration": 7,
    "start_time": "2023-12-14T14:44:35.539Z"
   },
   {
    "duration": 6,
    "start_time": "2023-12-14T14:46:07.274Z"
   },
   {
    "duration": 1132,
    "start_time": "2023-12-14T14:46:18.044Z"
   },
   {
    "duration": 38,
    "start_time": "2023-12-14T14:46:19.178Z"
   },
   {
    "duration": 93,
    "start_time": "2023-12-14T14:46:19.218Z"
   },
   {
    "duration": 10,
    "start_time": "2023-12-14T14:46:19.313Z"
   },
   {
    "duration": 17,
    "start_time": "2023-12-14T14:46:19.325Z"
   },
   {
    "duration": 3,
    "start_time": "2023-12-14T14:46:19.352Z"
   },
   {
    "duration": 14,
    "start_time": "2023-12-14T14:46:19.356Z"
   },
   {
    "duration": 18,
    "start_time": "2023-12-14T14:46:19.372Z"
   },
   {
    "duration": 66,
    "start_time": "2023-12-14T14:46:19.391Z"
   },
   {
    "duration": 18,
    "start_time": "2023-12-14T14:46:19.458Z"
   },
   {
    "duration": 20,
    "start_time": "2023-12-14T14:46:19.478Z"
   },
   {
    "duration": 27,
    "start_time": "2023-12-14T14:46:19.500Z"
   },
   {
    "duration": 10,
    "start_time": "2023-12-14T14:46:19.552Z"
   },
   {
    "duration": 10,
    "start_time": "2023-12-14T14:46:19.565Z"
   },
   {
    "duration": 14,
    "start_time": "2023-12-14T14:46:19.577Z"
   },
   {
    "duration": 3,
    "start_time": "2023-12-14T14:46:19.592Z"
   },
   {
    "duration": 61,
    "start_time": "2023-12-14T14:46:19.596Z"
   },
   {
    "duration": 10,
    "start_time": "2023-12-14T14:46:19.658Z"
   },
   {
    "duration": 49,
    "start_time": "2023-12-14T14:46:19.669Z"
   },
   {
    "duration": 33,
    "start_time": "2023-12-14T14:46:19.719Z"
   },
   {
    "duration": 3,
    "start_time": "2023-12-14T14:46:19.753Z"
   },
   {
    "duration": 377,
    "start_time": "2023-12-14T14:46:19.758Z"
   },
   {
    "duration": 24,
    "start_time": "2023-12-14T14:46:20.137Z"
   },
   {
    "duration": 112,
    "start_time": "2023-12-14T14:46:20.162Z"
   },
   {
    "duration": 21,
    "start_time": "2023-12-14T14:46:20.275Z"
   },
   {
    "duration": 84,
    "start_time": "2023-12-14T14:46:20.298Z"
   },
   {
    "duration": 12,
    "start_time": "2023-12-14T14:46:20.384Z"
   },
   {
    "duration": 16,
    "start_time": "2023-12-14T14:46:20.398Z"
   },
   {
    "duration": 732,
    "start_time": "2023-12-14T14:46:20.415Z"
   },
   {
    "duration": 22,
    "start_time": "2023-12-14T14:46:21.151Z"
   },
   {
    "duration": 4,
    "start_time": "2023-12-14T14:46:21.174Z"
   },
   {
    "duration": 11,
    "start_time": "2023-12-14T14:46:21.179Z"
   },
   {
    "duration": 10,
    "start_time": "2023-12-14T14:46:21.192Z"
   },
   {
    "duration": 7,
    "start_time": "2023-12-14T14:46:21.203Z"
   },
   {
    "duration": 51,
    "start_time": "2023-12-14T14:46:21.211Z"
   },
   {
    "duration": 9,
    "start_time": "2023-12-14T14:46:21.263Z"
   },
   {
    "duration": 5,
    "start_time": "2023-12-14T14:46:21.273Z"
   },
   {
    "duration": 11,
    "start_time": "2023-12-14T14:46:21.280Z"
   },
   {
    "duration": 4,
    "start_time": "2023-12-14T14:46:21.292Z"
   },
   {
    "duration": 5,
    "start_time": "2023-12-14T14:46:21.297Z"
   },
   {
    "duration": 5,
    "start_time": "2023-12-14T14:46:21.307Z"
   },
   {
    "duration": 660,
    "start_time": "2023-12-14T14:46:21.314Z"
   },
   {
    "duration": 20,
    "start_time": "2023-12-14T14:46:21.975Z"
   },
   {
    "duration": 7,
    "start_time": "2023-12-14T14:46:21.996Z"
   },
   {
    "duration": 11,
    "start_time": "2023-12-14T14:46:22.005Z"
   },
   {
    "duration": 57,
    "start_time": "2023-12-14T14:46:22.017Z"
   },
   {
    "duration": 44,
    "start_time": "2023-12-14T14:46:22.075Z"
   },
   {
    "duration": 3,
    "start_time": "2023-12-14T14:46:22.121Z"
   },
   {
    "duration": 54,
    "start_time": "2023-12-14T14:46:22.126Z"
   },
   {
    "duration": 39,
    "start_time": "2023-12-14T14:46:22.182Z"
   },
   {
    "duration": 3,
    "start_time": "2023-12-14T14:46:22.223Z"
   },
   {
    "duration": 65,
    "start_time": "2023-12-14T14:46:22.228Z"
   },
   {
    "duration": 113,
    "start_time": "2023-12-14T14:46:22.294Z"
   },
   {
    "duration": 3,
    "start_time": "2023-12-14T14:46:22.409Z"
   },
   {
    "duration": 11,
    "start_time": "2023-12-14T14:46:22.413Z"
   },
   {
    "duration": 6,
    "start_time": "2023-12-14T14:46:22.425Z"
   },
   {
    "duration": 21,
    "start_time": "2023-12-14T14:46:22.432Z"
   },
   {
    "duration": 25,
    "start_time": "2023-12-14T14:46:22.454Z"
   },
   {
    "duration": 6,
    "start_time": "2023-12-14T14:46:22.480Z"
   },
   {
    "duration": 9,
    "start_time": "2023-12-14T14:46:22.487Z"
   },
   {
    "duration": 6,
    "start_time": "2023-12-14T14:46:22.498Z"
   },
   {
    "duration": 15,
    "start_time": "2023-12-14T14:46:22.505Z"
   },
   {
    "duration": 60,
    "start_time": "2023-12-14T14:46:22.521Z"
   },
   {
    "duration": 425,
    "start_time": "2023-12-14T14:46:22.583Z"
   },
   {
    "duration": 391,
    "start_time": "2023-12-14T14:46:23.010Z"
   },
   {
    "duration": 12,
    "start_time": "2023-12-14T14:46:23.403Z"
   },
   {
    "duration": 5,
    "start_time": "2023-12-14T14:46:23.417Z"
   },
   {
    "duration": 3,
    "start_time": "2023-12-14T14:46:23.424Z"
   },
   {
    "duration": 5,
    "start_time": "2023-12-14T14:46:23.429Z"
   },
   {
    "duration": 22,
    "start_time": "2023-12-14T14:46:23.435Z"
   },
   {
    "duration": 5,
    "start_time": "2023-12-14T14:46:23.459Z"
   },
   {
    "duration": 9,
    "start_time": "2023-12-14T14:46:23.465Z"
   },
   {
    "duration": 348,
    "start_time": "2023-12-14T14:46:23.475Z"
   },
   {
    "duration": 371,
    "start_time": "2023-12-14T14:46:23.824Z"
   },
   {
    "duration": 6,
    "start_time": "2023-12-14T14:46:24.197Z"
   },
   {
    "duration": 16,
    "start_time": "2023-12-14T14:46:24.204Z"
   },
   {
    "duration": 3,
    "start_time": "2023-12-14T14:46:24.221Z"
   },
   {
    "duration": 5,
    "start_time": "2023-12-14T14:46:24.225Z"
   },
   {
    "duration": 26,
    "start_time": "2023-12-14T14:46:24.231Z"
   },
   {
    "duration": 11,
    "start_time": "2023-12-14T14:46:24.258Z"
   },
   {
    "duration": 13,
    "start_time": "2023-12-14T14:47:01.248Z"
   },
   {
    "duration": 14,
    "start_time": "2023-12-14T14:47:11.980Z"
   },
   {
    "duration": 31,
    "start_time": "2023-12-14T14:49:00.991Z"
   },
   {
    "duration": 42,
    "start_time": "2023-12-14T14:49:20.577Z"
   },
   {
    "duration": 31,
    "start_time": "2023-12-14T14:49:28.135Z"
   },
   {
    "duration": 33,
    "start_time": "2023-12-14T14:49:36.710Z"
   },
   {
    "duration": 32,
    "start_time": "2023-12-14T14:49:48.301Z"
   },
   {
    "duration": 31,
    "start_time": "2023-12-14T14:49:52.577Z"
   },
   {
    "duration": 28,
    "start_time": "2023-12-14T14:50:54.813Z"
   },
   {
    "duration": 1126,
    "start_time": "2023-12-14T14:51:28.658Z"
   },
   {
    "duration": 37,
    "start_time": "2023-12-14T14:51:29.786Z"
   },
   {
    "duration": 93,
    "start_time": "2023-12-14T14:51:29.824Z"
   },
   {
    "duration": 10,
    "start_time": "2023-12-14T14:51:29.919Z"
   },
   {
    "duration": 53,
    "start_time": "2023-12-14T14:51:29.930Z"
   },
   {
    "duration": 22,
    "start_time": "2023-12-14T14:51:29.985Z"
   },
   {
    "duration": 96,
    "start_time": "2023-12-14T14:51:30.009Z"
   },
   {
    "duration": 47,
    "start_time": "2023-12-14T14:51:30.107Z"
   },
   {
    "duration": 55,
    "start_time": "2023-12-14T14:51:30.156Z"
   },
   {
    "duration": 18,
    "start_time": "2023-12-14T14:51:30.214Z"
   },
   {
    "duration": 27,
    "start_time": "2023-12-14T14:51:30.251Z"
   },
   {
    "duration": 43,
    "start_time": "2023-12-14T14:51:30.279Z"
   },
   {
    "duration": 10,
    "start_time": "2023-12-14T14:51:30.324Z"
   },
   {
    "duration": 49,
    "start_time": "2023-12-14T14:51:30.336Z"
   },
   {
    "duration": 51,
    "start_time": "2023-12-14T14:51:30.387Z"
   },
   {
    "duration": 43,
    "start_time": "2023-12-14T14:51:30.440Z"
   },
   {
    "duration": 105,
    "start_time": "2023-12-14T14:51:30.484Z"
   },
   {
    "duration": 34,
    "start_time": "2023-12-14T14:51:30.590Z"
   },
   {
    "duration": 87,
    "start_time": "2023-12-14T14:51:30.626Z"
   },
   {
    "duration": 40,
    "start_time": "2023-12-14T14:51:30.715Z"
   },
   {
    "duration": 22,
    "start_time": "2023-12-14T14:51:30.757Z"
   },
   {
    "duration": 431,
    "start_time": "2023-12-14T14:51:30.780Z"
   },
   {
    "duration": 21,
    "start_time": "2023-12-14T14:51:31.212Z"
   },
   {
    "duration": 66,
    "start_time": "2023-12-14T14:51:31.234Z"
   },
   {
    "duration": 70,
    "start_time": "2023-12-14T14:51:31.302Z"
   },
   {
    "duration": 86,
    "start_time": "2023-12-14T14:51:31.373Z"
   },
   {
    "duration": 14,
    "start_time": "2023-12-14T14:51:31.460Z"
   },
   {
    "duration": 19,
    "start_time": "2023-12-14T14:51:31.478Z"
   },
   {
    "duration": 762,
    "start_time": "2023-12-14T14:51:31.498Z"
   },
   {
    "duration": 23,
    "start_time": "2023-12-14T14:51:32.262Z"
   },
   {
    "duration": 94,
    "start_time": "2023-12-14T14:51:32.286Z"
   },
   {
    "duration": 60,
    "start_time": "2023-12-14T14:51:32.382Z"
   },
   {
    "duration": 33,
    "start_time": "2023-12-14T14:51:32.444Z"
   },
   {
    "duration": 17,
    "start_time": "2023-12-14T14:51:32.478Z"
   },
   {
    "duration": 34,
    "start_time": "2023-12-14T14:51:32.497Z"
   },
   {
    "duration": 24,
    "start_time": "2023-12-14T14:51:32.533Z"
   },
   {
    "duration": 24,
    "start_time": "2023-12-14T14:51:32.559Z"
   },
   {
    "duration": 22,
    "start_time": "2023-12-14T14:51:32.584Z"
   },
   {
    "duration": 20,
    "start_time": "2023-12-14T14:51:32.608Z"
   },
   {
    "duration": 41,
    "start_time": "2023-12-14T14:51:32.629Z"
   },
   {
    "duration": 43,
    "start_time": "2023-12-14T14:51:32.671Z"
   },
   {
    "duration": 611,
    "start_time": "2023-12-14T14:51:32.715Z"
   },
   {
    "duration": 32,
    "start_time": "2023-12-14T14:51:33.327Z"
   },
   {
    "duration": 14,
    "start_time": "2023-12-14T14:51:33.360Z"
   },
   {
    "duration": 10,
    "start_time": "2023-12-14T14:51:33.375Z"
   },
   {
    "duration": 39,
    "start_time": "2023-12-14T14:51:33.386Z"
   },
   {
    "duration": 46,
    "start_time": "2023-12-14T14:51:33.426Z"
   },
   {
    "duration": 3,
    "start_time": "2023-12-14T14:51:33.473Z"
   },
   {
    "duration": 33,
    "start_time": "2023-12-14T14:51:33.477Z"
   },
   {
    "duration": 53,
    "start_time": "2023-12-14T14:51:33.511Z"
   },
   {
    "duration": 3,
    "start_time": "2023-12-14T14:51:33.565Z"
   },
   {
    "duration": 54,
    "start_time": "2023-12-14T14:51:33.569Z"
   },
   {
    "duration": 105,
    "start_time": "2023-12-14T14:51:33.624Z"
   },
   {
    "duration": 3,
    "start_time": "2023-12-14T14:51:33.730Z"
   },
   {
    "duration": 24,
    "start_time": "2023-12-14T14:51:33.734Z"
   },
   {
    "duration": 16,
    "start_time": "2023-12-14T14:51:33.760Z"
   },
   {
    "duration": 28,
    "start_time": "2023-12-14T14:51:33.777Z"
   },
   {
    "duration": 49,
    "start_time": "2023-12-14T14:51:33.807Z"
   },
   {
    "duration": 5,
    "start_time": "2023-12-14T14:51:33.859Z"
   },
   {
    "duration": 19,
    "start_time": "2023-12-14T14:51:33.866Z"
   },
   {
    "duration": 22,
    "start_time": "2023-12-14T14:51:33.887Z"
   },
   {
    "duration": 24,
    "start_time": "2023-12-14T14:51:33.911Z"
   },
   {
    "duration": 55,
    "start_time": "2023-12-14T14:51:33.936Z"
   },
   {
    "duration": 421,
    "start_time": "2023-12-14T14:51:33.993Z"
   },
   {
    "duration": 369,
    "start_time": "2023-12-14T14:51:34.415Z"
   },
   {
    "duration": 13,
    "start_time": "2023-12-14T14:51:34.786Z"
   },
   {
    "duration": 17,
    "start_time": "2023-12-14T14:51:34.800Z"
   },
   {
    "duration": 10,
    "start_time": "2023-12-14T14:51:34.819Z"
   },
   {
    "duration": 29,
    "start_time": "2023-12-14T14:51:34.830Z"
   },
   {
    "duration": 17,
    "start_time": "2023-12-14T14:51:34.861Z"
   },
   {
    "duration": 13,
    "start_time": "2023-12-14T14:51:34.879Z"
   },
   {
    "duration": 21,
    "start_time": "2023-12-14T14:51:34.893Z"
   },
   {
    "duration": 376,
    "start_time": "2023-12-14T14:51:34.915Z"
   },
   {
    "duration": 379,
    "start_time": "2023-12-14T14:51:35.293Z"
   },
   {
    "duration": 7,
    "start_time": "2023-12-14T14:51:35.673Z"
   },
   {
    "duration": 38,
    "start_time": "2023-12-14T14:51:35.681Z"
   },
   {
    "duration": 12,
    "start_time": "2023-12-14T14:51:35.721Z"
   },
   {
    "duration": 22,
    "start_time": "2023-12-14T14:51:35.735Z"
   },
   {
    "duration": 31,
    "start_time": "2023-12-14T14:51:35.758Z"
   },
   {
    "duration": 30,
    "start_time": "2023-12-14T14:51:35.791Z"
   },
   {
    "duration": 1393,
    "start_time": "2023-12-14T15:31:35.014Z"
   },
   {
    "duration": 1088,
    "start_time": "2023-12-14T15:31:53.605Z"
   },
   {
    "duration": 37,
    "start_time": "2023-12-14T15:31:54.694Z"
   },
   {
    "duration": 99,
    "start_time": "2023-12-14T15:31:54.733Z"
   },
   {
    "duration": 9,
    "start_time": "2023-12-14T15:31:54.834Z"
   },
   {
    "duration": 24,
    "start_time": "2023-12-14T15:31:54.845Z"
   },
   {
    "duration": 3,
    "start_time": "2023-12-14T15:31:54.870Z"
   },
   {
    "duration": 17,
    "start_time": "2023-12-14T15:31:54.875Z"
   },
   {
    "duration": 21,
    "start_time": "2023-12-14T15:31:54.893Z"
   },
   {
    "duration": 79,
    "start_time": "2023-12-14T15:31:54.916Z"
   },
   {
    "duration": 20,
    "start_time": "2023-12-14T15:31:54.997Z"
   },
   {
    "duration": 16,
    "start_time": "2023-12-14T15:31:55.019Z"
   },
   {
    "duration": 29,
    "start_time": "2023-12-14T15:31:55.052Z"
   },
   {
    "duration": 11,
    "start_time": "2023-12-14T15:31:55.082Z"
   },
   {
    "duration": 12,
    "start_time": "2023-12-14T15:31:55.095Z"
   },
   {
    "duration": 45,
    "start_time": "2023-12-14T15:31:55.108Z"
   },
   {
    "duration": 3,
    "start_time": "2023-12-14T15:31:55.154Z"
   },
   {
    "duration": 41,
    "start_time": "2023-12-14T15:31:55.159Z"
   },
   {
    "duration": 10,
    "start_time": "2023-12-14T15:31:55.201Z"
   },
   {
    "duration": 59,
    "start_time": "2023-12-14T15:31:55.212Z"
   },
   {
    "duration": 19,
    "start_time": "2023-12-14T15:31:55.273Z"
   },
   {
    "duration": 3,
    "start_time": "2023-12-14T15:31:55.294Z"
   },
   {
    "duration": 391,
    "start_time": "2023-12-14T15:31:55.298Z"
   },
   {
    "duration": 22,
    "start_time": "2023-12-14T15:31:55.690Z"
   },
   {
    "duration": 81,
    "start_time": "2023-12-14T15:31:55.713Z"
   },
   {
    "duration": 70,
    "start_time": "2023-12-14T15:31:55.796Z"
   },
   {
    "duration": 58,
    "start_time": "2023-12-14T15:31:55.868Z"
   },
   {
    "duration": 25,
    "start_time": "2023-12-14T15:31:55.927Z"
   },
   {
    "duration": 3,
    "start_time": "2023-12-14T15:31:55.956Z"
   },
   {
    "duration": 711,
    "start_time": "2023-12-14T15:31:55.961Z"
   },
   {
    "duration": 23,
    "start_time": "2023-12-14T15:31:56.673Z"
   },
   {
    "duration": 4,
    "start_time": "2023-12-14T15:31:56.697Z"
   },
   {
    "duration": 156,
    "start_time": "2023-12-14T15:31:56.702Z"
   },
   {
    "duration": 0,
    "start_time": "2023-12-14T15:31:56.859Z"
   },
   {
    "duration": 0,
    "start_time": "2023-12-14T15:31:56.860Z"
   },
   {
    "duration": 1,
    "start_time": "2023-12-14T15:31:56.861Z"
   },
   {
    "duration": 0,
    "start_time": "2023-12-14T15:31:56.863Z"
   },
   {
    "duration": 0,
    "start_time": "2023-12-14T15:31:56.864Z"
   },
   {
    "duration": 0,
    "start_time": "2023-12-14T15:31:56.865Z"
   },
   {
    "duration": 0,
    "start_time": "2023-12-14T15:31:56.865Z"
   },
   {
    "duration": 0,
    "start_time": "2023-12-14T15:31:56.866Z"
   },
   {
    "duration": 0,
    "start_time": "2023-12-14T15:31:56.868Z"
   },
   {
    "duration": 0,
    "start_time": "2023-12-14T15:31:56.868Z"
   },
   {
    "duration": 0,
    "start_time": "2023-12-14T15:31:56.869Z"
   },
   {
    "duration": 0,
    "start_time": "2023-12-14T15:31:56.870Z"
   },
   {
    "duration": 0,
    "start_time": "2023-12-14T15:31:56.871Z"
   },
   {
    "duration": 0,
    "start_time": "2023-12-14T15:31:56.872Z"
   },
   {
    "duration": 0,
    "start_time": "2023-12-14T15:31:56.873Z"
   },
   {
    "duration": 0,
    "start_time": "2023-12-14T15:31:56.874Z"
   },
   {
    "duration": 0,
    "start_time": "2023-12-14T15:31:56.874Z"
   },
   {
    "duration": 0,
    "start_time": "2023-12-14T15:31:56.876Z"
   },
   {
    "duration": 0,
    "start_time": "2023-12-14T15:31:56.876Z"
   },
   {
    "duration": 0,
    "start_time": "2023-12-14T15:31:56.877Z"
   },
   {
    "duration": 0,
    "start_time": "2023-12-14T15:31:56.878Z"
   },
   {
    "duration": 0,
    "start_time": "2023-12-14T15:31:56.879Z"
   },
   {
    "duration": 0,
    "start_time": "2023-12-14T15:31:56.880Z"
   },
   {
    "duration": 0,
    "start_time": "2023-12-14T15:31:56.881Z"
   },
   {
    "duration": 0,
    "start_time": "2023-12-14T15:31:56.882Z"
   },
   {
    "duration": 0,
    "start_time": "2023-12-14T15:31:56.883Z"
   },
   {
    "duration": 0,
    "start_time": "2023-12-14T15:31:56.884Z"
   },
   {
    "duration": 0,
    "start_time": "2023-12-14T15:31:56.884Z"
   },
   {
    "duration": 0,
    "start_time": "2023-12-14T15:31:56.886Z"
   },
   {
    "duration": 0,
    "start_time": "2023-12-14T15:31:56.886Z"
   },
   {
    "duration": 0,
    "start_time": "2023-12-14T15:31:56.887Z"
   },
   {
    "duration": 0,
    "start_time": "2023-12-14T15:31:56.888Z"
   },
   {
    "duration": 0,
    "start_time": "2023-12-14T15:31:56.889Z"
   },
   {
    "duration": 0,
    "start_time": "2023-12-14T15:31:56.890Z"
   },
   {
    "duration": 1,
    "start_time": "2023-12-14T15:31:56.891Z"
   },
   {
    "duration": 0,
    "start_time": "2023-12-14T15:31:56.893Z"
   },
   {
    "duration": 0,
    "start_time": "2023-12-14T15:31:56.894Z"
   },
   {
    "duration": 0,
    "start_time": "2023-12-14T15:31:56.895Z"
   },
   {
    "duration": 0,
    "start_time": "2023-12-14T15:31:56.952Z"
   },
   {
    "duration": 0,
    "start_time": "2023-12-14T15:31:56.953Z"
   },
   {
    "duration": 0,
    "start_time": "2023-12-14T15:31:56.954Z"
   },
   {
    "duration": 0,
    "start_time": "2023-12-14T15:31:56.955Z"
   },
   {
    "duration": 0,
    "start_time": "2023-12-14T15:31:56.956Z"
   },
   {
    "duration": 0,
    "start_time": "2023-12-14T15:31:56.958Z"
   },
   {
    "duration": 0,
    "start_time": "2023-12-14T15:31:56.959Z"
   },
   {
    "duration": 0,
    "start_time": "2023-12-14T15:31:56.960Z"
   },
   {
    "duration": 0,
    "start_time": "2023-12-14T15:31:56.961Z"
   },
   {
    "duration": 0,
    "start_time": "2023-12-14T15:31:56.962Z"
   },
   {
    "duration": 0,
    "start_time": "2023-12-14T15:31:56.963Z"
   },
   {
    "duration": 20,
    "start_time": "2023-12-14T15:32:20.984Z"
   },
   {
    "duration": 9,
    "start_time": "2023-12-14T15:40:34.982Z"
   },
   {
    "duration": 20,
    "start_time": "2023-12-14T15:44:24.578Z"
   },
   {
    "duration": 18,
    "start_time": "2023-12-14T15:44:50.930Z"
   },
   {
    "duration": 17,
    "start_time": "2023-12-14T15:45:05.638Z"
   },
   {
    "duration": 5,
    "start_time": "2023-12-14T15:45:41.312Z"
   },
   {
    "duration": 6,
    "start_time": "2023-12-14T15:48:14.274Z"
   },
   {
    "duration": 18,
    "start_time": "2023-12-14T15:49:36.974Z"
   },
   {
    "duration": 46,
    "start_time": "2023-12-14T15:53:15.515Z"
   },
   {
    "duration": 18,
    "start_time": "2023-12-14T15:53:54.477Z"
   },
   {
    "duration": 71,
    "start_time": "2023-12-14T15:56:54.267Z"
   },
   {
    "duration": 9,
    "start_time": "2023-12-14T15:56:59.872Z"
   },
   {
    "duration": 6,
    "start_time": "2023-12-14T15:57:06.656Z"
   },
   {
    "duration": 6,
    "start_time": "2023-12-14T15:57:11.391Z"
   },
   {
    "duration": 110,
    "start_time": "2023-12-14T16:01:54.162Z"
   },
   {
    "duration": 170,
    "start_time": "2023-12-14T16:01:59.407Z"
   },
   {
    "duration": 112,
    "start_time": "2023-12-14T16:02:54.219Z"
   },
   {
    "duration": 119,
    "start_time": "2023-12-14T16:03:03.399Z"
   },
   {
    "duration": 98,
    "start_time": "2023-12-14T16:03:09.501Z"
   },
   {
    "duration": 282,
    "start_time": "2023-12-14T16:03:53.967Z"
   },
   {
    "duration": 102,
    "start_time": "2023-12-14T16:04:26.296Z"
   },
   {
    "duration": 95,
    "start_time": "2023-12-14T16:04:31.189Z"
   },
   {
    "duration": 100,
    "start_time": "2023-12-14T16:04:37.907Z"
   },
   {
    "duration": 93,
    "start_time": "2023-12-14T16:04:43.290Z"
   },
   {
    "duration": 10,
    "start_time": "2023-12-14T16:05:39.882Z"
   },
   {
    "duration": 112,
    "start_time": "2023-12-14T16:07:29.469Z"
   },
   {
    "duration": 131,
    "start_time": "2023-12-14T16:07:34.999Z"
   },
   {
    "duration": 119,
    "start_time": "2023-12-14T16:07:38.654Z"
   },
   {
    "duration": 96,
    "start_time": "2023-12-14T16:09:33.882Z"
   },
   {
    "duration": 101,
    "start_time": "2023-12-14T16:09:42.916Z"
   },
   {
    "duration": 89,
    "start_time": "2023-12-14T16:09:47.320Z"
   },
   {
    "duration": 167,
    "start_time": "2023-12-14T16:09:54.160Z"
   },
   {
    "duration": 92,
    "start_time": "2023-12-14T16:10:05.650Z"
   },
   {
    "duration": 103,
    "start_time": "2023-12-14T16:10:09.804Z"
   },
   {
    "duration": 84,
    "start_time": "2023-12-14T16:10:26.467Z"
   },
   {
    "duration": 93,
    "start_time": "2023-12-14T16:10:29.437Z"
   },
   {
    "duration": 95,
    "start_time": "2023-12-14T16:10:41.898Z"
   },
   {
    "duration": 107,
    "start_time": "2023-12-14T16:10:51.784Z"
   },
   {
    "duration": 101,
    "start_time": "2023-12-14T16:10:54.612Z"
   },
   {
    "duration": 101,
    "start_time": "2023-12-14T16:10:57.371Z"
   },
   {
    "duration": 3,
    "start_time": "2023-12-14T16:12:32.526Z"
   },
   {
    "duration": 95,
    "start_time": "2023-12-14T16:12:43.167Z"
   },
   {
    "duration": 108,
    "start_time": "2023-12-14T16:12:54.793Z"
   },
   {
    "duration": 81,
    "start_time": "2023-12-14T16:13:24.860Z"
   },
   {
    "duration": 1106,
    "start_time": "2023-12-14T16:13:34.181Z"
   },
   {
    "duration": 36,
    "start_time": "2023-12-14T16:13:35.288Z"
   },
   {
    "duration": 89,
    "start_time": "2023-12-14T16:13:35.325Z"
   },
   {
    "duration": 8,
    "start_time": "2023-12-14T16:13:35.416Z"
   },
   {
    "duration": 18,
    "start_time": "2023-12-14T16:13:35.425Z"
   },
   {
    "duration": 9,
    "start_time": "2023-12-14T16:13:35.444Z"
   },
   {
    "duration": 18,
    "start_time": "2023-12-14T16:13:35.454Z"
   },
   {
    "duration": 18,
    "start_time": "2023-12-14T16:13:35.474Z"
   },
   {
    "duration": 64,
    "start_time": "2023-12-14T16:13:35.493Z"
   },
   {
    "duration": 17,
    "start_time": "2023-12-14T16:13:35.560Z"
   },
   {
    "duration": 13,
    "start_time": "2023-12-14T16:13:35.579Z"
   },
   {
    "duration": 29,
    "start_time": "2023-12-14T16:13:35.594Z"
   },
   {
    "duration": 31,
    "start_time": "2023-12-14T16:13:35.624Z"
   },
   {
    "duration": 35,
    "start_time": "2023-12-14T16:13:35.656Z"
   },
   {
    "duration": 14,
    "start_time": "2023-12-14T16:13:35.692Z"
   },
   {
    "duration": 2,
    "start_time": "2023-12-14T16:13:35.708Z"
   },
   {
    "duration": 50,
    "start_time": "2023-12-14T16:13:35.712Z"
   },
   {
    "duration": 11,
    "start_time": "2023-12-14T16:13:35.763Z"
   },
   {
    "duration": 64,
    "start_time": "2023-12-14T16:13:35.775Z"
   },
   {
    "duration": 20,
    "start_time": "2023-12-14T16:13:35.840Z"
   },
   {
    "duration": 3,
    "start_time": "2023-12-14T16:13:35.862Z"
   },
   {
    "duration": 368,
    "start_time": "2023-12-14T16:13:35.866Z"
   },
   {
    "duration": 22,
    "start_time": "2023-12-14T16:13:36.236Z"
   },
   {
    "duration": 102,
    "start_time": "2023-12-14T16:13:36.259Z"
   },
   {
    "duration": 20,
    "start_time": "2023-12-14T16:13:36.363Z"
   },
   {
    "duration": 91,
    "start_time": "2023-12-14T16:13:36.385Z"
   },
   {
    "duration": 15,
    "start_time": "2023-12-14T16:13:36.478Z"
   },
   {
    "duration": 4,
    "start_time": "2023-12-14T16:13:36.497Z"
   },
   {
    "duration": 745,
    "start_time": "2023-12-14T16:13:36.503Z"
   },
   {
    "duration": 24,
    "start_time": "2023-12-14T16:13:37.252Z"
   },
   {
    "duration": 5,
    "start_time": "2023-12-14T16:13:37.277Z"
   },
   {
    "duration": 31,
    "start_time": "2023-12-14T16:13:37.283Z"
   },
   {
    "duration": 111,
    "start_time": "2023-12-14T16:13:37.316Z"
   },
   {
    "duration": 0,
    "start_time": "2023-12-14T16:13:37.429Z"
   },
   {
    "duration": 0,
    "start_time": "2023-12-14T16:13:37.430Z"
   },
   {
    "duration": 0,
    "start_time": "2023-12-14T16:13:37.430Z"
   },
   {
    "duration": 0,
    "start_time": "2023-12-14T16:13:37.432Z"
   },
   {
    "duration": 0,
    "start_time": "2023-12-14T16:13:37.433Z"
   },
   {
    "duration": 0,
    "start_time": "2023-12-14T16:13:37.434Z"
   },
   {
    "duration": 0,
    "start_time": "2023-12-14T16:13:37.434Z"
   },
   {
    "duration": 0,
    "start_time": "2023-12-14T16:13:37.435Z"
   },
   {
    "duration": 0,
    "start_time": "2023-12-14T16:13:37.436Z"
   },
   {
    "duration": 0,
    "start_time": "2023-12-14T16:13:37.437Z"
   },
   {
    "duration": 0,
    "start_time": "2023-12-14T16:13:37.438Z"
   },
   {
    "duration": 0,
    "start_time": "2023-12-14T16:13:37.439Z"
   },
   {
    "duration": 0,
    "start_time": "2023-12-14T16:13:37.440Z"
   },
   {
    "duration": 0,
    "start_time": "2023-12-14T16:13:37.441Z"
   },
   {
    "duration": 0,
    "start_time": "2023-12-14T16:13:37.442Z"
   },
   {
    "duration": 0,
    "start_time": "2023-12-14T16:13:37.443Z"
   },
   {
    "duration": 0,
    "start_time": "2023-12-14T16:13:37.443Z"
   },
   {
    "duration": 0,
    "start_time": "2023-12-14T16:13:37.444Z"
   },
   {
    "duration": 0,
    "start_time": "2023-12-14T16:13:37.445Z"
   },
   {
    "duration": 0,
    "start_time": "2023-12-14T16:13:37.446Z"
   },
   {
    "duration": 0,
    "start_time": "2023-12-14T16:13:37.447Z"
   },
   {
    "duration": 0,
    "start_time": "2023-12-14T16:13:37.448Z"
   },
   {
    "duration": 0,
    "start_time": "2023-12-14T16:13:37.449Z"
   },
   {
    "duration": 0,
    "start_time": "2023-12-14T16:13:37.450Z"
   },
   {
    "duration": 0,
    "start_time": "2023-12-14T16:13:37.451Z"
   },
   {
    "duration": 0,
    "start_time": "2023-12-14T16:13:37.452Z"
   },
   {
    "duration": 0,
    "start_time": "2023-12-14T16:13:37.453Z"
   },
   {
    "duration": 0,
    "start_time": "2023-12-14T16:13:37.454Z"
   },
   {
    "duration": 0,
    "start_time": "2023-12-14T16:13:37.455Z"
   },
   {
    "duration": 0,
    "start_time": "2023-12-14T16:13:37.456Z"
   },
   {
    "duration": 0,
    "start_time": "2023-12-14T16:13:37.457Z"
   },
   {
    "duration": 0,
    "start_time": "2023-12-14T16:13:37.458Z"
   },
   {
    "duration": 0,
    "start_time": "2023-12-14T16:13:37.459Z"
   },
   {
    "duration": 0,
    "start_time": "2023-12-14T16:13:37.460Z"
   },
   {
    "duration": 0,
    "start_time": "2023-12-14T16:13:37.460Z"
   },
   {
    "duration": 0,
    "start_time": "2023-12-14T16:13:37.461Z"
   },
   {
    "duration": 0,
    "start_time": "2023-12-14T16:13:37.462Z"
   },
   {
    "duration": 0,
    "start_time": "2023-12-14T16:13:37.463Z"
   },
   {
    "duration": 0,
    "start_time": "2023-12-14T16:13:37.463Z"
   },
   {
    "duration": 0,
    "start_time": "2023-12-14T16:13:37.464Z"
   },
   {
    "duration": 0,
    "start_time": "2023-12-14T16:13:37.465Z"
   },
   {
    "duration": 0,
    "start_time": "2023-12-14T16:13:37.466Z"
   },
   {
    "duration": 0,
    "start_time": "2023-12-14T16:13:37.467Z"
   },
   {
    "duration": 0,
    "start_time": "2023-12-14T16:13:37.468Z"
   },
   {
    "duration": 0,
    "start_time": "2023-12-14T16:13:37.469Z"
   },
   {
    "duration": 0,
    "start_time": "2023-12-14T16:13:37.470Z"
   },
   {
    "duration": 0,
    "start_time": "2023-12-14T16:13:37.470Z"
   },
   {
    "duration": 0,
    "start_time": "2023-12-14T16:13:37.471Z"
   },
   {
    "duration": 0,
    "start_time": "2023-12-14T16:13:37.472Z"
   },
   {
    "duration": 109,
    "start_time": "2023-12-14T16:15:27.506Z"
   },
   {
    "duration": 166,
    "start_time": "2023-12-14T16:16:02.786Z"
   },
   {
    "duration": 18,
    "start_time": "2023-12-14T16:18:39.188Z"
   },
   {
    "duration": 18,
    "start_time": "2023-12-14T16:18:51.336Z"
   },
   {
    "duration": 694,
    "start_time": "2023-12-14T16:34:02.443Z"
   },
   {
    "duration": 749,
    "start_time": "2023-12-14T16:34:13.558Z"
   },
   {
    "duration": 700,
    "start_time": "2023-12-14T16:34:21.346Z"
   },
   {
    "duration": 77,
    "start_time": "2023-12-14T16:35:19.437Z"
   },
   {
    "duration": 1099,
    "start_time": "2023-12-14T16:38:03.192Z"
   },
   {
    "duration": 37,
    "start_time": "2023-12-14T16:38:04.293Z"
   },
   {
    "duration": 95,
    "start_time": "2023-12-14T16:38:04.331Z"
   },
   {
    "duration": 10,
    "start_time": "2023-12-14T16:38:04.428Z"
   },
   {
    "duration": 29,
    "start_time": "2023-12-14T16:38:04.439Z"
   },
   {
    "duration": 4,
    "start_time": "2023-12-14T16:38:04.470Z"
   },
   {
    "duration": 16,
    "start_time": "2023-12-14T16:38:04.476Z"
   },
   {
    "duration": 20,
    "start_time": "2023-12-14T16:38:04.493Z"
   },
   {
    "duration": 63,
    "start_time": "2023-12-14T16:38:04.514Z"
   },
   {
    "duration": 18,
    "start_time": "2023-12-14T16:38:04.579Z"
   },
   {
    "duration": 16,
    "start_time": "2023-12-14T16:38:04.598Z"
   },
   {
    "duration": 46,
    "start_time": "2023-12-14T16:38:04.616Z"
   },
   {
    "duration": 10,
    "start_time": "2023-12-14T16:38:04.663Z"
   },
   {
    "duration": 11,
    "start_time": "2023-12-14T16:38:04.674Z"
   },
   {
    "duration": 15,
    "start_time": "2023-12-14T16:38:04.686Z"
   },
   {
    "duration": 3,
    "start_time": "2023-12-14T16:38:04.702Z"
   },
   {
    "duration": 59,
    "start_time": "2023-12-14T16:38:04.706Z"
   },
   {
    "duration": 10,
    "start_time": "2023-12-14T16:38:04.767Z"
   },
   {
    "duration": 54,
    "start_time": "2023-12-14T16:38:04.778Z"
   },
   {
    "duration": 36,
    "start_time": "2023-12-14T16:38:04.833Z"
   },
   {
    "duration": 5,
    "start_time": "2023-12-14T16:38:04.880Z"
   },
   {
    "duration": 384,
    "start_time": "2023-12-14T16:38:04.886Z"
   },
   {
    "duration": 19,
    "start_time": "2023-12-14T16:38:05.272Z"
   },
   {
    "duration": 92,
    "start_time": "2023-12-14T16:38:05.292Z"
   },
   {
    "duration": 21,
    "start_time": "2023-12-14T16:38:05.386Z"
   },
   {
    "duration": 103,
    "start_time": "2023-12-14T16:38:05.409Z"
   },
   {
    "duration": 13,
    "start_time": "2023-12-14T16:38:05.513Z"
   },
   {
    "duration": 3,
    "start_time": "2023-12-14T16:38:05.553Z"
   },
   {
    "duration": 735,
    "start_time": "2023-12-14T16:38:05.558Z"
   },
   {
    "duration": 23,
    "start_time": "2023-12-14T16:38:06.294Z"
   },
   {
    "duration": 3,
    "start_time": "2023-12-14T16:38:06.319Z"
   },
   {
    "duration": 32,
    "start_time": "2023-12-14T16:38:06.323Z"
   },
   {
    "duration": 777,
    "start_time": "2023-12-14T16:38:06.357Z"
   },
   {
    "duration": 17,
    "start_time": "2023-12-14T16:38:07.136Z"
   },
   {
    "duration": 13,
    "start_time": "2023-12-14T16:38:07.154Z"
   },
   {
    "duration": 8,
    "start_time": "2023-12-14T16:38:07.168Z"
   },
   {
    "duration": 24,
    "start_time": "2023-12-14T16:38:07.178Z"
   },
   {
    "duration": 6,
    "start_time": "2023-12-14T16:38:07.204Z"
   },
   {
    "duration": 6,
    "start_time": "2023-12-14T16:38:07.211Z"
   },
   {
    "duration": 42,
    "start_time": "2023-12-14T16:38:07.218Z"
   },
   {
    "duration": 9,
    "start_time": "2023-12-14T16:38:07.262Z"
   },
   {
    "duration": 15,
    "start_time": "2023-12-14T16:38:07.272Z"
   },
   {
    "duration": 10,
    "start_time": "2023-12-14T16:38:07.289Z"
   },
   {
    "duration": 621,
    "start_time": "2023-12-14T16:38:07.300Z"
   },
   {
    "duration": 33,
    "start_time": "2023-12-14T16:38:07.923Z"
   },
   {
    "duration": 6,
    "start_time": "2023-12-14T16:38:07.957Z"
   },
   {
    "duration": 9,
    "start_time": "2023-12-14T16:38:07.965Z"
   },
   {
    "duration": 40,
    "start_time": "2023-12-14T16:38:07.976Z"
   },
   {
    "duration": 56,
    "start_time": "2023-12-14T16:38:08.017Z"
   },
   {
    "duration": 2,
    "start_time": "2023-12-14T16:38:08.075Z"
   },
   {
    "duration": 38,
    "start_time": "2023-12-14T16:38:08.079Z"
   },
   {
    "duration": 47,
    "start_time": "2023-12-14T16:38:08.119Z"
   },
   {
    "duration": 6,
    "start_time": "2023-12-14T16:38:08.167Z"
   },
   {
    "duration": 39,
    "start_time": "2023-12-14T16:38:08.174Z"
   },
   {
    "duration": 59,
    "start_time": "2023-12-14T16:38:08.214Z"
   },
   {
    "duration": 4,
    "start_time": "2023-12-14T16:38:08.274Z"
   },
   {
    "duration": 12,
    "start_time": "2023-12-14T16:38:08.279Z"
   },
   {
    "duration": 6,
    "start_time": "2023-12-14T16:38:08.293Z"
   },
   {
    "duration": 12,
    "start_time": "2023-12-14T16:38:08.300Z"
   },
   {
    "duration": 45,
    "start_time": "2023-12-14T16:38:08.313Z"
   },
   {
    "duration": 5,
    "start_time": "2023-12-14T16:38:08.360Z"
   },
   {
    "duration": 19,
    "start_time": "2023-12-14T16:38:08.366Z"
   },
   {
    "duration": 20,
    "start_time": "2023-12-14T16:38:08.386Z"
   },
   {
    "duration": 22,
    "start_time": "2023-12-14T16:38:08.408Z"
   },
   {
    "duration": 56,
    "start_time": "2023-12-14T16:38:08.432Z"
   },
   {
    "duration": 405,
    "start_time": "2023-12-14T16:38:08.490Z"
   },
   {
    "duration": 387,
    "start_time": "2023-12-14T16:38:08.897Z"
   },
   {
    "duration": 12,
    "start_time": "2023-12-14T16:38:09.285Z"
   },
   {
    "duration": 6,
    "start_time": "2023-12-14T16:38:09.299Z"
   },
   {
    "duration": 9,
    "start_time": "2023-12-14T16:38:09.306Z"
   },
   {
    "duration": 11,
    "start_time": "2023-12-14T16:38:09.316Z"
   },
   {
    "duration": 12,
    "start_time": "2023-12-14T16:38:09.328Z"
   },
   {
    "duration": 11,
    "start_time": "2023-12-14T16:38:09.341Z"
   },
   {
    "duration": 8,
    "start_time": "2023-12-14T16:38:09.353Z"
   },
   {
    "duration": 375,
    "start_time": "2023-12-14T16:38:09.362Z"
   },
   {
    "duration": 378,
    "start_time": "2023-12-14T16:38:09.739Z"
   },
   {
    "duration": 8,
    "start_time": "2023-12-14T16:38:10.119Z"
   },
   {
    "duration": 22,
    "start_time": "2023-12-14T16:38:10.130Z"
   },
   {
    "duration": 3,
    "start_time": "2023-12-14T16:38:10.153Z"
   },
   {
    "duration": 16,
    "start_time": "2023-12-14T16:38:10.158Z"
   },
   {
    "duration": 12,
    "start_time": "2023-12-14T16:38:10.175Z"
   },
   {
    "duration": 5,
    "start_time": "2023-12-14T16:38:10.191Z"
   },
   {
    "duration": 1139,
    "start_time": "2023-12-15T04:53:13.282Z"
   },
   {
    "duration": 36,
    "start_time": "2023-12-15T04:53:14.423Z"
   },
   {
    "duration": 93,
    "start_time": "2023-12-15T04:53:14.461Z"
   },
   {
    "duration": 9,
    "start_time": "2023-12-15T04:53:14.555Z"
   },
   {
    "duration": 36,
    "start_time": "2023-12-15T04:53:14.565Z"
   },
   {
    "duration": 2,
    "start_time": "2023-12-15T04:53:14.602Z"
   },
   {
    "duration": 18,
    "start_time": "2023-12-15T04:53:14.606Z"
   },
   {
    "duration": 20,
    "start_time": "2023-12-15T04:53:14.625Z"
   },
   {
    "duration": 65,
    "start_time": "2023-12-15T04:53:14.646Z"
   },
   {
    "duration": 17,
    "start_time": "2023-12-15T04:53:14.713Z"
   },
   {
    "duration": 16,
    "start_time": "2023-12-15T04:53:14.732Z"
   },
   {
    "duration": 44,
    "start_time": "2023-12-15T04:53:14.750Z"
   },
   {
    "duration": 13,
    "start_time": "2023-12-15T04:53:14.795Z"
   },
   {
    "duration": 16,
    "start_time": "2023-12-15T04:53:14.810Z"
   },
   {
    "duration": 16,
    "start_time": "2023-12-15T04:53:14.827Z"
   },
   {
    "duration": 3,
    "start_time": "2023-12-15T04:53:14.844Z"
   },
   {
    "duration": 56,
    "start_time": "2023-12-15T04:53:14.848Z"
   },
   {
    "duration": 13,
    "start_time": "2023-12-15T04:53:14.905Z"
   },
   {
    "duration": 49,
    "start_time": "2023-12-15T04:53:14.920Z"
   },
   {
    "duration": 32,
    "start_time": "2023-12-15T04:53:14.971Z"
   },
   {
    "duration": 4,
    "start_time": "2023-12-15T04:53:15.004Z"
   },
   {
    "duration": 804,
    "start_time": "2023-12-15T04:53:15.009Z"
   },
   {
    "duration": 22,
    "start_time": "2023-12-15T04:53:15.815Z"
   },
   {
    "duration": 119,
    "start_time": "2023-12-15T04:53:15.839Z"
   },
   {
    "duration": 25,
    "start_time": "2023-12-15T04:53:15.960Z"
   },
   {
    "duration": 68,
    "start_time": "2023-12-15T04:53:15.987Z"
   },
   {
    "duration": 32,
    "start_time": "2023-12-15T04:53:16.056Z"
   },
   {
    "duration": 13,
    "start_time": "2023-12-15T04:53:16.092Z"
   },
   {
    "duration": 709,
    "start_time": "2023-12-15T04:53:16.106Z"
   },
   {
    "duration": 22,
    "start_time": "2023-12-15T04:53:16.817Z"
   },
   {
    "duration": 4,
    "start_time": "2023-12-15T04:53:16.840Z"
   },
   {
    "duration": 38,
    "start_time": "2023-12-15T04:53:16.846Z"
   },
   {
    "duration": 736,
    "start_time": "2023-12-15T04:53:16.886Z"
   },
   {
    "duration": 9,
    "start_time": "2023-12-15T04:53:17.624Z"
   },
   {
    "duration": 12,
    "start_time": "2023-12-15T04:53:17.634Z"
   },
   {
    "duration": 7,
    "start_time": "2023-12-15T04:53:17.647Z"
   },
   {
    "duration": 46,
    "start_time": "2023-12-15T04:53:17.655Z"
   },
   {
    "duration": 7,
    "start_time": "2023-12-15T04:53:17.703Z"
   },
   {
    "duration": 5,
    "start_time": "2023-12-15T04:53:17.712Z"
   },
   {
    "duration": 10,
    "start_time": "2023-12-15T04:53:17.718Z"
   },
   {
    "duration": 3,
    "start_time": "2023-12-15T04:53:17.729Z"
   },
   {
    "duration": 7,
    "start_time": "2023-12-15T04:53:17.733Z"
   },
   {
    "duration": 7,
    "start_time": "2023-12-15T04:53:17.742Z"
   },
   {
    "duration": 600,
    "start_time": "2023-12-15T04:53:17.750Z"
   },
   {
    "duration": 31,
    "start_time": "2023-12-15T04:53:18.351Z"
   },
   {
    "duration": 6,
    "start_time": "2023-12-15T04:53:18.383Z"
   },
   {
    "duration": 75,
    "start_time": "2023-12-15T04:53:18.391Z"
   },
   {
    "duration": 43,
    "start_time": "2023-12-15T04:53:18.467Z"
   },
   {
    "duration": 55,
    "start_time": "2023-12-15T04:53:18.511Z"
   },
   {
    "duration": 15,
    "start_time": "2023-12-15T04:53:18.567Z"
   },
   {
    "duration": 61,
    "start_time": "2023-12-15T04:53:18.584Z"
   },
   {
    "duration": 39,
    "start_time": "2023-12-15T04:53:18.646Z"
   },
   {
    "duration": 6,
    "start_time": "2023-12-15T04:53:18.686Z"
   },
   {
    "duration": 40,
    "start_time": "2023-12-15T04:53:18.693Z"
   },
   {
    "duration": 52,
    "start_time": "2023-12-15T04:53:18.734Z"
   },
   {
    "duration": 3,
    "start_time": "2023-12-15T04:53:18.788Z"
   },
   {
    "duration": 9,
    "start_time": "2023-12-15T04:53:18.792Z"
   },
   {
    "duration": 4,
    "start_time": "2023-12-15T04:53:18.803Z"
   },
   {
    "duration": 13,
    "start_time": "2023-12-15T04:53:18.808Z"
   },
   {
    "duration": 27,
    "start_time": "2023-12-15T04:53:18.822Z"
   },
   {
    "duration": 32,
    "start_time": "2023-12-15T04:53:18.850Z"
   },
   {
    "duration": 8,
    "start_time": "2023-12-15T04:53:18.883Z"
   },
   {
    "duration": 13,
    "start_time": "2023-12-15T04:53:18.892Z"
   },
   {
    "duration": 4,
    "start_time": "2023-12-15T04:53:18.906Z"
   },
   {
    "duration": 47,
    "start_time": "2023-12-15T04:53:18.912Z"
   },
   {
    "duration": 407,
    "start_time": "2023-12-15T04:53:18.960Z"
   },
   {
    "duration": 361,
    "start_time": "2023-12-15T04:53:19.369Z"
   },
   {
    "duration": 12,
    "start_time": "2023-12-15T04:53:19.732Z"
   },
   {
    "duration": 7,
    "start_time": "2023-12-15T04:53:19.745Z"
   },
   {
    "duration": 5,
    "start_time": "2023-12-15T04:53:19.754Z"
   },
   {
    "duration": 5,
    "start_time": "2023-12-15T04:53:19.761Z"
   },
   {
    "duration": 9,
    "start_time": "2023-12-15T04:53:19.782Z"
   },
   {
    "duration": 6,
    "start_time": "2023-12-15T04:53:19.792Z"
   },
   {
    "duration": 10,
    "start_time": "2023-12-15T04:53:19.799Z"
   },
   {
    "duration": 350,
    "start_time": "2023-12-15T04:53:19.810Z"
   },
   {
    "duration": 366,
    "start_time": "2023-12-15T04:53:20.161Z"
   },
   {
    "duration": 6,
    "start_time": "2023-12-15T04:53:20.528Z"
   },
   {
    "duration": 16,
    "start_time": "2023-12-15T04:53:20.535Z"
   },
   {
    "duration": 3,
    "start_time": "2023-12-15T04:53:20.552Z"
   },
   {
    "duration": 6,
    "start_time": "2023-12-15T04:53:20.556Z"
   },
   {
    "duration": 7,
    "start_time": "2023-12-15T04:53:20.581Z"
   },
   {
    "duration": 4,
    "start_time": "2023-12-15T04:53:20.593Z"
   },
   {
    "duration": 1450,
    "start_time": "2023-12-15T14:18:54.824Z"
   },
   {
    "duration": 121,
    "start_time": "2023-12-15T14:18:56.277Z"
   },
   {
    "duration": 384,
    "start_time": "2023-12-15T14:18:56.400Z"
   },
   {
    "duration": 11,
    "start_time": "2023-12-15T14:18:56.786Z"
   },
   {
    "duration": 21,
    "start_time": "2023-12-15T14:18:56.798Z"
   },
   {
    "duration": 3,
    "start_time": "2023-12-15T14:18:56.820Z"
   },
   {
    "duration": 22,
    "start_time": "2023-12-15T14:18:56.824Z"
   },
   {
    "duration": 41,
    "start_time": "2023-12-15T14:18:56.848Z"
   },
   {
    "duration": 62,
    "start_time": "2023-12-15T14:18:56.891Z"
   },
   {
    "duration": 34,
    "start_time": "2023-12-15T14:18:56.957Z"
   },
   {
    "duration": 16,
    "start_time": "2023-12-15T14:18:56.992Z"
   },
   {
    "duration": 33,
    "start_time": "2023-12-15T14:18:57.010Z"
   },
   {
    "duration": 11,
    "start_time": "2023-12-15T14:18:57.044Z"
   },
   {
    "duration": 37,
    "start_time": "2023-12-15T14:18:57.057Z"
   },
   {
    "duration": 30,
    "start_time": "2023-12-15T14:18:57.096Z"
   },
   {
    "duration": 3,
    "start_time": "2023-12-15T14:18:57.128Z"
   },
   {
    "duration": 44,
    "start_time": "2023-12-15T14:18:57.133Z"
   },
   {
    "duration": 18,
    "start_time": "2023-12-15T14:18:57.179Z"
   },
   {
    "duration": 80,
    "start_time": "2023-12-15T14:18:57.199Z"
   },
   {
    "duration": 27,
    "start_time": "2023-12-15T14:18:57.281Z"
   },
   {
    "duration": 4,
    "start_time": "2023-12-15T14:18:57.310Z"
   },
   {
    "duration": 459,
    "start_time": "2023-12-15T14:18:57.316Z"
   },
   {
    "duration": 42,
    "start_time": "2023-12-15T14:18:57.777Z"
   },
   {
    "duration": 114,
    "start_time": "2023-12-15T14:18:57.820Z"
   },
   {
    "duration": 98,
    "start_time": "2023-12-15T14:18:57.935Z"
   },
   {
    "duration": 140,
    "start_time": "2023-12-15T14:18:58.035Z"
   },
   {
    "duration": 15,
    "start_time": "2023-12-15T14:18:58.177Z"
   },
   {
    "duration": 24,
    "start_time": "2023-12-15T14:18:58.196Z"
   },
   {
    "duration": 861,
    "start_time": "2023-12-15T14:18:58.221Z"
   },
   {
    "duration": 26,
    "start_time": "2023-12-15T14:18:59.084Z"
   },
   {
    "duration": 54,
    "start_time": "2023-12-15T14:18:59.112Z"
   },
   {
    "duration": 68,
    "start_time": "2023-12-15T14:18:59.168Z"
   },
   {
    "duration": 850,
    "start_time": "2023-12-15T14:18:59.238Z"
   },
   {
    "duration": 9,
    "start_time": "2023-12-15T14:19:00.090Z"
   },
   {
    "duration": 55,
    "start_time": "2023-12-15T14:19:00.100Z"
   },
   {
    "duration": 156,
    "start_time": "2023-12-15T14:19:00.157Z"
   },
   {
    "duration": 57,
    "start_time": "2023-12-15T14:19:00.314Z"
   },
   {
    "duration": 29,
    "start_time": "2023-12-15T14:19:00.372Z"
   },
   {
    "duration": 40,
    "start_time": "2023-12-15T14:19:00.403Z"
   },
   {
    "duration": 30,
    "start_time": "2023-12-15T14:19:00.445Z"
   },
   {
    "duration": 62,
    "start_time": "2023-12-15T14:19:00.477Z"
   },
   {
    "duration": 47,
    "start_time": "2023-12-15T14:19:00.541Z"
   },
   {
    "duration": 55,
    "start_time": "2023-12-15T14:19:00.589Z"
   },
   {
    "duration": 750,
    "start_time": "2023-12-15T14:19:00.645Z"
   },
   {
    "duration": 24,
    "start_time": "2023-12-15T14:19:01.396Z"
   },
   {
    "duration": 303,
    "start_time": "2023-12-15T14:19:01.421Z"
   },
   {
    "duration": 377,
    "start_time": "2023-12-15T14:19:01.725Z"
   },
   {
    "duration": 101,
    "start_time": "2023-12-15T14:19:02.104Z"
   },
   {
    "duration": 99,
    "start_time": "2023-12-15T14:19:02.207Z"
   },
   {
    "duration": 3,
    "start_time": "2023-12-15T14:19:02.309Z"
   },
   {
    "duration": 73,
    "start_time": "2023-12-15T14:19:02.314Z"
   },
   {
    "duration": 89,
    "start_time": "2023-12-15T14:19:02.388Z"
   },
   {
    "duration": 5,
    "start_time": "2023-12-15T14:19:02.479Z"
   },
   {
    "duration": 79,
    "start_time": "2023-12-15T14:19:02.485Z"
   },
   {
    "duration": 52,
    "start_time": "2023-12-15T14:19:02.565Z"
   },
   {
    "duration": 3,
    "start_time": "2023-12-15T14:19:02.618Z"
   },
   {
    "duration": 22,
    "start_time": "2023-12-15T14:19:02.623Z"
   },
   {
    "duration": 43,
    "start_time": "2023-12-15T14:19:02.646Z"
   },
   {
    "duration": 35,
    "start_time": "2023-12-15T14:19:02.691Z"
   },
   {
    "duration": 98,
    "start_time": "2023-12-15T14:19:02.727Z"
   },
   {
    "duration": 31,
    "start_time": "2023-12-15T14:19:02.827Z"
   },
   {
    "duration": 46,
    "start_time": "2023-12-15T14:19:02.859Z"
   },
   {
    "duration": 333,
    "start_time": "2023-12-15T14:19:02.907Z"
   },
   {
    "duration": 55,
    "start_time": "2023-12-15T14:19:03.242Z"
   },
   {
    "duration": 279,
    "start_time": "2023-12-15T14:19:03.300Z"
   },
   {
    "duration": 812,
    "start_time": "2023-12-15T14:19:03.580Z"
   },
   {
    "duration": 436,
    "start_time": "2023-12-15T14:19:04.393Z"
   },
   {
    "duration": 14,
    "start_time": "2023-12-15T14:19:04.830Z"
   },
   {
    "duration": 7,
    "start_time": "2023-12-15T14:19:04.846Z"
   },
   {
    "duration": 7,
    "start_time": "2023-12-15T14:19:04.854Z"
   },
   {
    "duration": 14,
    "start_time": "2023-12-15T14:19:04.862Z"
   },
   {
    "duration": 8,
    "start_time": "2023-12-15T14:19:04.887Z"
   },
   {
    "duration": 9,
    "start_time": "2023-12-15T14:19:04.897Z"
   },
   {
    "duration": 14,
    "start_time": "2023-12-15T14:19:04.907Z"
   },
   {
    "duration": 408,
    "start_time": "2023-12-15T14:19:04.923Z"
   },
   {
    "duration": 454,
    "start_time": "2023-12-15T14:19:05.333Z"
   },
   {
    "duration": 7,
    "start_time": "2023-12-15T14:19:05.788Z"
   },
   {
    "duration": 25,
    "start_time": "2023-12-15T14:19:05.796Z"
   },
   {
    "duration": 4,
    "start_time": "2023-12-15T14:19:05.822Z"
   },
   {
    "duration": 16,
    "start_time": "2023-12-15T14:19:05.827Z"
   },
   {
    "duration": 13,
    "start_time": "2023-12-15T14:19:05.845Z"
   },
   {
    "duration": 8,
    "start_time": "2023-12-15T14:19:05.863Z"
   }
  ],
  "kernelspec": {
   "display_name": "Python 3 (ipykernel)",
   "language": "python",
   "name": "python3"
  },
  "language_info": {
   "codemirror_mode": {
    "name": "ipython",
    "version": 3
   },
   "file_extension": ".py",
   "mimetype": "text/x-python",
   "name": "python",
   "nbconvert_exporter": "python",
   "pygments_lexer": "ipython3",
   "version": "3.11.4"
  },
  "toc": {
   "base_numbering": 1,
   "nav_menu": {},
   "number_sections": true,
   "sideBar": true,
   "skip_h1_title": true,
   "title_cell": "Table of Contents",
   "title_sidebar": "Contents",
   "toc_cell": false,
   "toc_position": {},
   "toc_section_display": true,
   "toc_window_display": true
  }
 },
 "nbformat": 4,
 "nbformat_minor": 2
}
