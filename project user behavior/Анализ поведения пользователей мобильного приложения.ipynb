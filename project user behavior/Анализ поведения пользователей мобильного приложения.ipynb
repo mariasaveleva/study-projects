{
 "cells": [
  {
   "cell_type": "markdown",
   "metadata": {},
   "source": [
    "<div class=\"alert alert-info\" style=\"border-color: white; border-radius: 10px; background-color: white;\"> \n",
    "\n",
    "# <font color = 'mediumaquamarine'> Анализ поведения пользователей мобильного приложения"
   ]
  },
  {
   "cell_type": "markdown",
   "metadata": {},
   "source": [
    "<div class=\"alert alert-info\" style=\"border-color: thistle; border-radius: 10px; background-color: thistle;\"> \n",
    "    <font color = 'black'> \n",
    "\n",
    "**Описание проекта**\n",
    "\n",
    "\"Ненужные вещи\" - мобильное приложение, в котором люди могут продавать свои ненужные вещи, размещая их на доске объявлений. Для улучшения приложения было принято решение об изучении поведения пользователей по событиям, которые они совершили в этом сервисе.   \n",
    "        \n",
    "*Цели:*     \n",
    "- Управление вовлеченностью клиентов (адаптация приложения по целевой и смежной аудитории) на основе данных о поведении пользователей.  \n",
    "- Получение гипотезы о том как можно было бы улучшить приложение с точки зрения пользовательского опыта.  \n",
    " \n",
    "        \n",
    "*Главные задачи:*   \n",
    "- Изучить связь целевого события — просмотра контактов — и других действий пользователей.    \n",
    "- Оценить, какие действия чаще совершают те пользователи, которые просматривают контакты.    \n",
    "        \n",
    "Для исследования были взяты в работу 2 датасета, которые содержат данные пользователей, впервые совершивших действия в приложении после 7 октября 2019 года."
   ]
  },
  {
   "cell_type": "markdown",
   "metadata": {},
   "source": [
    "<div class=\"alert alert-info\" style=\"border-color: lavender; border-radius: 10px; background-color: lavender;\"> \n",
    "    <font color = 'black'> \n",
    "\n",
    "**Декомпозиция**        \n",
    "\n",
    "**1. Предобработка данных**  \n",
    " 1.1. Изучить общую информацию о датасете (количество данных, какую информацию хранит каждый столбец);   \n",
    " 1.2. Проверить корректность наименований колонок, исправить на общепринятый формат (нижний регистр и подчеркивание);  \n",
    " 1.3. Просмотреть типы данных и привести к нужным при необходимости;  \n",
    " 1.4. Исследовать пропущенные значения и заменить их;  \n",
    " 1.5. Посмотреть дубликаты, удалить их при наличии.  \n",
    "\n",
    "\n",
    "**2. Исследовательский анализ данных**  \n",
    " 2.1. Изучить распределение данных по времени;  \n",
    " 2.2. Проанализировать количество событий на каждого пользователя;   \n",
    " 2.3. Рассчитать длительность сессий;   \n",
    " 2.4. Вывод по проведенному анализу.\n",
    "        \n",
    "**3. Исследование целевого события - просмотра контактов**   \n",
    " 3.1. Проанализировать связь целевого события — просмотра контактов — и других действий пользователей:     \n",
    "      - В разрезе сессий отобрать сценарии\\паттерны, которые приводят к просмотру контактов и построить диаграмму Санкея для выбора наиболее популярных сценариев;  \n",
    "      - По выбранным сценариям построить воронки по основным сценариям в разрезе уникальных пользователей.   \n",
    " 3.2. Оценить, какие действия чаще совершают те пользователи, которые просматривают контакты:   \n",
    "      - Рассчитать относительную частоту каждого события в разрезе двух групп пользователей: группа пользователей, которые смотрели контакты `contacts_show` и группа пользователей, которые не смотрели контакты `contacts_show`, и сравнить показатели.  \n",
    " 3.3. Написать вывод по полученным результатам.\n",
    "        \n",
    "**4. Проверка гипотез**       \n",
    "4.1. Гипотеза 1: Конверсия в просмотры контактов различается у групп, где пользователи совершают действия `tips_show` (увидел рекомендованные объявления) и `tips_click` (кликнул по рекомендованному объявлению) и где пользователи совершают только `tips_show` (Нулевая гипотеза - конверсии существенно не различаются, Альтернативная гипотеза - конверсии различаются);    \n",
    "4.2. Гипотеза 2: Конверсия в просмотры контактов различается у групп, где пользователи совершают действиe favorites_add (добавление в избранное) и где они его не совершают (Нулевая гипотеза - конверсии существенно не различаются, Альтернативная гипотеза - конверсии различаются).\n",
    "        \n",
    "**5. Выводы и рекомендации**  \n",
    " 5.1. Написать общие выводы проведенного исследования;    \n",
    " 5.2. Расписать рекомендации на основе полученных результатов."
   ]
  },
  {
   "cell_type": "markdown",
   "metadata": {},
   "source": [
    "## Предобработка данных"
   ]
  },
  {
   "cell_type": "markdown",
   "metadata": {},
   "source": [
    "### Изучение общей информации"
   ]
  },
  {
   "cell_type": "markdown",
   "metadata": {},
   "source": [
    "Как и в любом подобном проекте в первую очередь надо посмотреть на имеющиеся данные, сколько их, какую информацию хранят, и оценить степень необходимой предобработки. Загрузим нужные библиотеки и изучим датасеты."
   ]
  },
  {
   "cell_type": "code",
   "execution_count": 1,
   "metadata": {},
   "outputs": [
    {
     "data": {
      "text/html": [
       "        <script type=\"text/javascript\">\n",
       "        window.PlotlyConfig = {MathJaxConfig: 'local'};\n",
       "        if (window.MathJax && window.MathJax.Hub && window.MathJax.Hub.Config) {window.MathJax.Hub.Config({SVG: {font: \"STIX-Web\"}});}\n",
       "        if (typeof require !== 'undefined') {\n",
       "        require.undef(\"plotly\");\n",
       "        requirejs.config({\n",
       "            paths: {\n",
       "                'plotly': ['https://cdn.plot.ly/plotly-2.12.1.min']\n",
       "            }\n",
       "        });\n",
       "        require(['plotly'], function(Plotly) {\n",
       "            window._Plotly = Plotly;\n",
       "        });\n",
       "        }\n",
       "        </script>\n",
       "        "
      ]
     },
     "metadata": {},
     "output_type": "display_data"
    }
   ],
   "source": [
    "# Загрузим библиотеки\n",
    "import pandas as pd\n",
    "import plotly.express as px\n",
    "import numpy as np\n",
    "from tqdm import tqdm\n",
    "from plotly import graph_objects as go\n",
    "import matplotlib.pyplot as plt\n",
    "from scipy import stats as st\n",
    "import math as mth\n",
    "\n",
    "#!pip install -U kaleido\n",
    "#import plotly.io as pio\n",
    "#pio.renderers.default = \"svg\"\n",
    "#svg_renderer = pio.renderers[\"svg\"]\n",
    "#svg_renderer.scale = 1.1\n",
    "\n",
    "from plotly.offline import plot, iplot, init_notebook_mode\n",
    "init_notebook_mode(connected=True)"
   ]
  },
  {
   "cell_type": "code",
   "execution_count": 2,
   "metadata": {},
   "outputs": [
    {
     "data": {
      "text/html": [
       "<div>\n",
       "<style scoped>\n",
       "    .dataframe tbody tr th:only-of-type {\n",
       "        vertical-align: middle;\n",
       "    }\n",
       "\n",
       "    .dataframe tbody tr th {\n",
       "        vertical-align: top;\n",
       "    }\n",
       "\n",
       "    .dataframe thead th {\n",
       "        text-align: right;\n",
       "    }\n",
       "</style>\n",
       "<table border=\"1\" class=\"dataframe\">\n",
       "  <thead>\n",
       "    <tr style=\"text-align: right;\">\n",
       "      <th></th>\n",
       "      <th>userId</th>\n",
       "      <th>source</th>\n",
       "    </tr>\n",
       "  </thead>\n",
       "  <tbody>\n",
       "    <tr>\n",
       "      <th>0</th>\n",
       "      <td>020292ab-89bc-4156-9acf-68bc2783f894</td>\n",
       "      <td>other</td>\n",
       "    </tr>\n",
       "    <tr>\n",
       "      <th>1</th>\n",
       "      <td>cf7eda61-9349-469f-ac27-e5b6f5ec475c</td>\n",
       "      <td>yandex</td>\n",
       "    </tr>\n",
       "    <tr>\n",
       "      <th>2</th>\n",
       "      <td>8c356c42-3ba9-4cb6-80b8-3f868d0192c3</td>\n",
       "      <td>yandex</td>\n",
       "    </tr>\n",
       "    <tr>\n",
       "      <th>3</th>\n",
       "      <td>d9b06b47-0f36-419b-bbb0-3533e582a6cb</td>\n",
       "      <td>other</td>\n",
       "    </tr>\n",
       "    <tr>\n",
       "      <th>4</th>\n",
       "      <td>f32e1e2a-3027-4693-b793-b7b3ff274439</td>\n",
       "      <td>google</td>\n",
       "    </tr>\n",
       "  </tbody>\n",
       "</table>\n",
       "</div>"
      ],
      "text/plain": [
       "                                 userId  source\n",
       "0  020292ab-89bc-4156-9acf-68bc2783f894   other\n",
       "1  cf7eda61-9349-469f-ac27-e5b6f5ec475c  yandex\n",
       "2  8c356c42-3ba9-4cb6-80b8-3f868d0192c3  yandex\n",
       "3  d9b06b47-0f36-419b-bbb0-3533e582a6cb   other\n",
       "4  f32e1e2a-3027-4693-b793-b7b3ff274439  google"
      ]
     },
     "execution_count": 2,
     "metadata": {},
     "output_type": "execute_result"
    }
   ],
   "source": [
    "# Прочитаем первый датасет\n",
    "try:\n",
    "    data_source = pd.read_csv('/datasets/mobile_sources.csv')\n",
    "except:\n",
    "    data_source = pd.read_csv('https://code.s3.yandex.net/datasets/mobile_sources.csv')\n",
    "data_source.head()"
   ]
  },
  {
   "cell_type": "markdown",
   "metadata": {},
   "source": [
    "Колонки в датасете data_source:\n",
    "- `userId` — идентификатор пользователя,  \n",
    "- `source` — источник, с которого пользователь установил приложение."
   ]
  },
  {
   "cell_type": "code",
   "execution_count": 3,
   "metadata": {},
   "outputs": [
    {
     "data": {
      "text/html": [
       "<div>\n",
       "<style scoped>\n",
       "    .dataframe tbody tr th:only-of-type {\n",
       "        vertical-align: middle;\n",
       "    }\n",
       "\n",
       "    .dataframe tbody tr th {\n",
       "        vertical-align: top;\n",
       "    }\n",
       "\n",
       "    .dataframe thead th {\n",
       "        text-align: right;\n",
       "    }\n",
       "</style>\n",
       "<table border=\"1\" class=\"dataframe\">\n",
       "  <thead>\n",
       "    <tr style=\"text-align: right;\">\n",
       "      <th></th>\n",
       "      <th>event.time</th>\n",
       "      <th>event.name</th>\n",
       "      <th>user.id</th>\n",
       "    </tr>\n",
       "  </thead>\n",
       "  <tbody>\n",
       "    <tr>\n",
       "      <th>0</th>\n",
       "      <td>2019-10-07 00:00:00.431357</td>\n",
       "      <td>advert_open</td>\n",
       "      <td>020292ab-89bc-4156-9acf-68bc2783f894</td>\n",
       "    </tr>\n",
       "    <tr>\n",
       "      <th>1</th>\n",
       "      <td>2019-10-07 00:00:01.236320</td>\n",
       "      <td>tips_show</td>\n",
       "      <td>020292ab-89bc-4156-9acf-68bc2783f894</td>\n",
       "    </tr>\n",
       "    <tr>\n",
       "      <th>2</th>\n",
       "      <td>2019-10-07 00:00:02.245341</td>\n",
       "      <td>tips_show</td>\n",
       "      <td>cf7eda61-9349-469f-ac27-e5b6f5ec475c</td>\n",
       "    </tr>\n",
       "    <tr>\n",
       "      <th>3</th>\n",
       "      <td>2019-10-07 00:00:07.039334</td>\n",
       "      <td>tips_show</td>\n",
       "      <td>020292ab-89bc-4156-9acf-68bc2783f894</td>\n",
       "    </tr>\n",
       "    <tr>\n",
       "      <th>4</th>\n",
       "      <td>2019-10-07 00:00:56.319813</td>\n",
       "      <td>advert_open</td>\n",
       "      <td>cf7eda61-9349-469f-ac27-e5b6f5ec475c</td>\n",
       "    </tr>\n",
       "  </tbody>\n",
       "</table>\n",
       "</div>"
      ],
      "text/plain": [
       "                   event.time   event.name  \\\n",
       "0  2019-10-07 00:00:00.431357  advert_open   \n",
       "1  2019-10-07 00:00:01.236320    tips_show   \n",
       "2  2019-10-07 00:00:02.245341    tips_show   \n",
       "3  2019-10-07 00:00:07.039334    tips_show   \n",
       "4  2019-10-07 00:00:56.319813  advert_open   \n",
       "\n",
       "                                user.id  \n",
       "0  020292ab-89bc-4156-9acf-68bc2783f894  \n",
       "1  020292ab-89bc-4156-9acf-68bc2783f894  \n",
       "2  cf7eda61-9349-469f-ac27-e5b6f5ec475c  \n",
       "3  020292ab-89bc-4156-9acf-68bc2783f894  \n",
       "4  cf7eda61-9349-469f-ac27-e5b6f5ec475c  "
      ]
     },
     "execution_count": 3,
     "metadata": {},
     "output_type": "execute_result"
    }
   ],
   "source": [
    "# Прочитаем второй датасет\n",
    "try:\n",
    "    data = pd.read_csv('/datasets/mobile_dataset.csv')\n",
    "except:\n",
    "    data = pd.read_csv('https://code.s3.yandex.net/datasets/mobile_dataset.csv')\n",
    "data.head()"
   ]
  },
  {
   "cell_type": "markdown",
   "metadata": {},
   "source": [
    "Колонки в датасете data:\n",
    "- `event.time` — время совершения,\n",
    "- `user.id` — идентификатор пользователя,\n",
    "- `event.name` — действие пользователя.\n",
    "\n",
    "Виды действий в event.name:\n",
    "- `advert_open` — открыл карточки объявления,\n",
    "- `photos_show` — просмотрел фотографий в объявлении,\n",
    "- `tips_show` — увидел рекомендованные объявления,\n",
    "- `tips_click` — кликнул по рекомендованному объявлению,\n",
    "- `contacts_show` и `show_contacts` — посмотрел номер телефона,\n",
    "- `contacts_call` — позвонил по номеру из объявления,\n",
    "- `map` — открыл карту объявлений,\n",
    "- `search_1 — search_7` — разные действия, связанные с поиском по сайту,\n",
    "- `favorites_add` — добавил объявление в избранное."
   ]
  },
  {
   "cell_type": "markdown",
   "metadata": {},
   "source": [
    "Таблицы хранят в себе уникальные индификаторы пользователей и информацию о совершенных ими событий/действий, внутри приложения, а именно время, наименование самого действия, а также источник, с которого было скачено приложение. Посмотрим теперь на данные чуть более подробно. "
   ]
  },
  {
   "cell_type": "code",
   "execution_count": 4,
   "metadata": {},
   "outputs": [
    {
     "name": "stdout",
     "output_type": "stream",
     "text": [
      "<class 'pandas.core.frame.DataFrame'>\n",
      "RangeIndex: 4293 entries, 0 to 4292\n",
      "Data columns (total 2 columns):\n",
      " #   Column  Non-Null Count  Dtype \n",
      "---  ------  --------------  ----- \n",
      " 0   userId  4293 non-null   object\n",
      " 1   source  4293 non-null   object\n",
      "dtypes: object(2)\n",
      "memory usage: 67.2+ KB\n"
     ]
    }
   ],
   "source": [
    "# Выведем информацию по первой таблице\n",
    "data_source.info()"
   ]
  },
  {
   "cell_type": "code",
   "execution_count": 5,
   "metadata": {},
   "outputs": [
    {
     "name": "stdout",
     "output_type": "stream",
     "text": [
      "<class 'pandas.core.frame.DataFrame'>\n",
      "RangeIndex: 74197 entries, 0 to 74196\n",
      "Data columns (total 3 columns):\n",
      " #   Column      Non-Null Count  Dtype \n",
      "---  ------      --------------  ----- \n",
      " 0   event.time  74197 non-null  object\n",
      " 1   event.name  74197 non-null  object\n",
      " 2   user.id     74197 non-null  object\n",
      "dtypes: object(3)\n",
      "memory usage: 1.7+ MB\n"
     ]
    }
   ],
   "source": [
    "# Выведем информацию по второй таблице\n",
    "data.info()"
   ]
  },
  {
   "cell_type": "markdown",
   "metadata": {},
   "source": [
    "В датасете с источниками у нас есть 4293 строк, а во второй таблице 74197. Такая разница объясняется тем, что во втором датасете уникальные пользователи повторяются, так как каждый совершает несколько действий в самом приложении."
   ]
  },
  {
   "cell_type": "markdown",
   "metadata": {},
   "source": [
    "Также по выведенной информации можно заметить неправильный тип данных у колонки с датой и временем, который чуть позже придется поправить."
   ]
  },
  {
   "cell_type": "markdown",
   "metadata": {},
   "source": [
    "### Корректировка названий колонок"
   ]
  },
  {
   "cell_type": "markdown",
   "metadata": {},
   "source": [
    "Чтобы сделать анализ более удобным, приведем колонки к общепринятому оформлению - нижний регистр и нижнее подчеркивание вместо точек или пробела."
   ]
  },
  {
   "cell_type": "code",
   "execution_count": 6,
   "metadata": {},
   "outputs": [],
   "source": [
    "# Поменяем названия колонок в первом датасете\n",
    "data_source.columns = ['user_id', 'source']\n",
    "\n",
    "# Поменяем названия колонок во втором датасете\n",
    "data.columns = ['event_time', 'event_name', 'user_id']"
   ]
  },
  {
   "cell_type": "markdown",
   "metadata": {},
   "source": [
    "Таблицы пересекаются друг с другом благодаря колонке с индификатором пользователя, поэтому мы могли бы их объединить по данному признаку, однако перед этим лучше проверить, сколько в каждом датасете уникальных айди."
   ]
  },
  {
   "cell_type": "code",
   "execution_count": 7,
   "metadata": {},
   "outputs": [
    {
     "name": "stdout",
     "output_type": "stream",
     "text": [
      "4293 4293\n"
     ]
    }
   ],
   "source": [
    "# Выведем количество уникальных пользователей в двух датасетах\n",
    "print(data_source['user_id'].nunique(),  \n",
    "      data['user_id'].nunique())"
   ]
  },
  {
   "cell_type": "markdown",
   "metadata": {},
   "source": [
    "Количество уникальных пользователей одинаково, поэтому можно спокойно объединить таблицы. Присоединим датасет с источниками к датасету с событиями, так как в нем больше данных."
   ]
  },
  {
   "cell_type": "code",
   "execution_count": 8,
   "metadata": {},
   "outputs": [
    {
     "data": {
      "text/html": [
       "<div>\n",
       "<style scoped>\n",
       "    .dataframe tbody tr th:only-of-type {\n",
       "        vertical-align: middle;\n",
       "    }\n",
       "\n",
       "    .dataframe tbody tr th {\n",
       "        vertical-align: top;\n",
       "    }\n",
       "\n",
       "    .dataframe thead th {\n",
       "        text-align: right;\n",
       "    }\n",
       "</style>\n",
       "<table border=\"1\" class=\"dataframe\">\n",
       "  <thead>\n",
       "    <tr style=\"text-align: right;\">\n",
       "      <th></th>\n",
       "      <th>event_time</th>\n",
       "      <th>event_name</th>\n",
       "      <th>user_id</th>\n",
       "      <th>source</th>\n",
       "    </tr>\n",
       "  </thead>\n",
       "  <tbody>\n",
       "    <tr>\n",
       "      <th>0</th>\n",
       "      <td>2019-10-07 00:00:00.431357</td>\n",
       "      <td>advert_open</td>\n",
       "      <td>020292ab-89bc-4156-9acf-68bc2783f894</td>\n",
       "      <td>other</td>\n",
       "    </tr>\n",
       "    <tr>\n",
       "      <th>1</th>\n",
       "      <td>2019-10-07 00:00:01.236320</td>\n",
       "      <td>tips_show</td>\n",
       "      <td>020292ab-89bc-4156-9acf-68bc2783f894</td>\n",
       "      <td>other</td>\n",
       "    </tr>\n",
       "  </tbody>\n",
       "</table>\n",
       "</div>"
      ],
      "text/plain": [
       "                   event_time   event_name  \\\n",
       "0  2019-10-07 00:00:00.431357  advert_open   \n",
       "1  2019-10-07 00:00:01.236320    tips_show   \n",
       "\n",
       "                                user_id source  \n",
       "0  020292ab-89bc-4156-9acf-68bc2783f894  other  \n",
       "1  020292ab-89bc-4156-9acf-68bc2783f894  other  "
      ]
     },
     "execution_count": 8,
     "metadata": {},
     "output_type": "execute_result"
    }
   ],
   "source": [
    "# Объединим датасеты в один\n",
    "data = data.merge(data_source, how='left', on='user_id')\n",
    "\n",
    "# Проверим объединение\n",
    "data.head(2)"
   ]
  },
  {
   "cell_type": "markdown",
   "metadata": {},
   "source": [
    "### Изменение типа данных"
   ]
  },
  {
   "cell_type": "markdown",
   "metadata": {},
   "source": [
    "Как выяснилось ранее, столбец с датой и временем следует привести к нужному типу данных (типу времени), так как его мы активно будем использовать далее. Также можем создать отдельный столбец с датой без времени."
   ]
  },
  {
   "cell_type": "code",
   "execution_count": 9,
   "metadata": {},
   "outputs": [
    {
     "data": {
      "text/html": [
       "<div>\n",
       "<style scoped>\n",
       "    .dataframe tbody tr th:only-of-type {\n",
       "        vertical-align: middle;\n",
       "    }\n",
       "\n",
       "    .dataframe tbody tr th {\n",
       "        vertical-align: top;\n",
       "    }\n",
       "\n",
       "    .dataframe thead th {\n",
       "        text-align: right;\n",
       "    }\n",
       "</style>\n",
       "<table border=\"1\" class=\"dataframe\">\n",
       "  <thead>\n",
       "    <tr style=\"text-align: right;\">\n",
       "      <th></th>\n",
       "      <th>event_time</th>\n",
       "      <th>event_name</th>\n",
       "      <th>user_id</th>\n",
       "      <th>source</th>\n",
       "      <th>date</th>\n",
       "    </tr>\n",
       "  </thead>\n",
       "  <tbody>\n",
       "    <tr>\n",
       "      <th>0</th>\n",
       "      <td>2019-10-07 00:00:00.431357</td>\n",
       "      <td>advert_open</td>\n",
       "      <td>020292ab-89bc-4156-9acf-68bc2783f894</td>\n",
       "      <td>other</td>\n",
       "      <td>2019-10-07</td>\n",
       "    </tr>\n",
       "    <tr>\n",
       "      <th>1</th>\n",
       "      <td>2019-10-07 00:00:01.236320</td>\n",
       "      <td>tips_show</td>\n",
       "      <td>020292ab-89bc-4156-9acf-68bc2783f894</td>\n",
       "      <td>other</td>\n",
       "      <td>2019-10-07</td>\n",
       "    </tr>\n",
       "  </tbody>\n",
       "</table>\n",
       "</div>"
      ],
      "text/plain": [
       "                  event_time   event_name  \\\n",
       "0 2019-10-07 00:00:00.431357  advert_open   \n",
       "1 2019-10-07 00:00:01.236320    tips_show   \n",
       "\n",
       "                                user_id source       date  \n",
       "0  020292ab-89bc-4156-9acf-68bc2783f894  other 2019-10-07  \n",
       "1  020292ab-89bc-4156-9acf-68bc2783f894  other 2019-10-07  "
      ]
     },
     "execution_count": 9,
     "metadata": {},
     "output_type": "execute_result"
    }
   ],
   "source": [
    "# Изменим тип данных столбца event_time\n",
    "data['event_time'] = pd.to_datetime(data['event_time'])\n",
    "\n",
    "# Cоздадим отдельный столбец только с датой\n",
    "data['date'] = pd.to_datetime(data['event_time'].dt.date)\n",
    "\n",
    "# Проверим изменения\n",
    "data.head(2)"
   ]
  },
  {
   "cell_type": "code",
   "execution_count": 10,
   "metadata": {},
   "outputs": [
    {
     "name": "stdout",
     "output_type": "stream",
     "text": [
      "<class 'pandas.core.frame.DataFrame'>\n",
      "Int64Index: 74197 entries, 0 to 74196\n",
      "Data columns (total 5 columns):\n",
      " #   Column      Non-Null Count  Dtype         \n",
      "---  ------      --------------  -----         \n",
      " 0   event_time  74197 non-null  datetime64[ns]\n",
      " 1   event_name  74197 non-null  object        \n",
      " 2   user_id     74197 non-null  object        \n",
      " 3   source      74197 non-null  object        \n",
      " 4   date        74197 non-null  datetime64[ns]\n",
      "dtypes: datetime64[ns](2), object(3)\n",
      "memory usage: 3.4+ MB\n"
     ]
    }
   ],
   "source": [
    "# Проверим тип данных\n",
    "data.info()"
   ]
  },
  {
   "cell_type": "markdown",
   "metadata": {},
   "source": [
    "Изменения верны, теперь перейдем к поиску пропущенных значений."
   ]
  },
  {
   "cell_type": "markdown",
   "metadata": {},
   "source": [
    "### Проверка пропущенных значений"
   ]
  },
  {
   "cell_type": "code",
   "execution_count": 11,
   "metadata": {},
   "outputs": [
    {
     "data": {
      "text/plain": [
       "event_time    0\n",
       "event_name    0\n",
       "user_id       0\n",
       "source        0\n",
       "date          0\n",
       "dtype: int64"
      ]
     },
     "execution_count": 11,
     "metadata": {},
     "output_type": "execute_result"
    }
   ],
   "source": [
    "# Проверим пропущенные значения по каждому столбцу\n",
    "data.isna().sum()"
   ]
  },
  {
   "cell_type": "markdown",
   "metadata": {},
   "source": [
    "Пропусков не обнаружено, можем проверить данные на наличие дубликатов."
   ]
  },
  {
   "cell_type": "markdown",
   "metadata": {},
   "source": [
    "### Проверка дубликатов"
   ]
  },
  {
   "cell_type": "markdown",
   "metadata": {},
   "source": [
    "Сначала проверим наличие явных дубликатов, то есть целые одинаковые строки, а затем посмотрим на неявные дубликаты в отдельных столбцах."
   ]
  },
  {
   "cell_type": "code",
   "execution_count": 12,
   "metadata": {},
   "outputs": [
    {
     "data": {
      "text/plain": [
       "0"
      ]
     },
     "execution_count": 12,
     "metadata": {},
     "output_type": "execute_result"
    }
   ],
   "source": [
    "# Посчитаем количество явных дубликатов в датасете\n",
    "data.duplicated().sum()"
   ]
  },
  {
   "cell_type": "markdown",
   "metadata": {},
   "source": [
    "Явных дубликатов нет. Теперь посмотрим на отдельные столбцы, где мы можем зафиксировать неявные дубликаты (например, повторная запись категории с источника/события с ошибкой). "
   ]
  },
  {
   "cell_type": "code",
   "execution_count": 13,
   "metadata": {},
   "outputs": [
    {
     "data": {
      "text/plain": [
       "yandex    34286\n",
       "google    20445\n",
       "other     19466\n",
       "Name: source, dtype: int64"
      ]
     },
     "execution_count": 13,
     "metadata": {},
     "output_type": "execute_result"
    }
   ],
   "source": [
    "# Посмотрим уникальные значения в столбце source\n",
    "data['source'].value_counts()"
   ]
  },
  {
   "cell_type": "markdown",
   "metadata": {},
   "source": [
    "Все данные записаны правильно, посмотрим теперь другой столбец event_name, где мы также можем что-то найти."
   ]
  },
  {
   "cell_type": "code",
   "execution_count": 14,
   "metadata": {},
   "outputs": [
    {
     "data": {
      "text/plain": [
       "tips_show        40055\n",
       "photos_show      10012\n",
       "advert_open       6164\n",
       "contacts_show     4450\n",
       "map               3881\n",
       "search_1          3506\n",
       "favorites_add     1417\n",
       "search_5          1049\n",
       "tips_click         814\n",
       "search_4           701\n",
       "contacts_call      541\n",
       "search_3           522\n",
       "search_6           460\n",
       "search_2           324\n",
       "search_7           222\n",
       "show_contacts       79\n",
       "Name: event_name, dtype: int64"
      ]
     },
     "execution_count": 14,
     "metadata": {},
     "output_type": "execute_result"
    }
   ],
   "source": [
    "# Посмотрим уникальные значения в столбце event_name\n",
    "data['event_name'].value_counts()"
   ]
  },
  {
   "cell_type": "markdown",
   "metadata": {},
   "source": [
    "Все данные записаны правильно, однако есть дублирующиеся значения `contacts_show` и `show_contacts`. Как мы выяснили в самом начале, в этих колонках хранится одинаковая по смыслу информация, а именно просмотр номера телефона. Поэтому мы можем объединить эти два события в одно. Присоединим `show_contacts` к `contacts_show`, так как у последнего больше данных."
   ]
  },
  {
   "cell_type": "code",
   "execution_count": 15,
   "metadata": {},
   "outputs": [
    {
     "data": {
      "text/plain": [
       "tips_show        40055\n",
       "photos_show      10012\n",
       "advert_open       6164\n",
       "contacts_show     4529\n",
       "map               3881\n",
       "search_1          3506\n",
       "favorites_add     1417\n",
       "search_5          1049\n",
       "tips_click         814\n",
       "search_4           701\n",
       "contacts_call      541\n",
       "search_3           522\n",
       "search_6           460\n",
       "search_2           324\n",
       "search_7           222\n",
       "Name: event_name, dtype: int64"
      ]
     },
     "execution_count": 15,
     "metadata": {},
     "output_type": "execute_result"
    }
   ],
   "source": [
    "# Поменяем название события show_contacts на contacts_show\n",
    "data['event_name'] = data['event_name'].replace('show_contacts', 'contacts_show')\n",
    "\n",
    "# Проверим изменения\n",
    "data['event_name'].value_counts()"
   ]
  },
  {
   "cell_type": "markdown",
   "metadata": {},
   "source": [
    "Теперь количество событий `contacts_show` увеличилось на 79, чего мы и добивались. \n",
    "Уберем также разделение поиска на 1,2,3 и т.д., объединив все поиски в один `search` для удобства, так как в этом исследовании мы не будем рассматривать каждый поиск отдельно."
   ]
  },
  {
   "cell_type": "code",
   "execution_count": 16,
   "metadata": {},
   "outputs": [],
   "source": [
    "data['event_name'] = data['event_name'].str.replace('search_\\d+', 'search', regex=True)"
   ]
  },
  {
   "cell_type": "code",
   "execution_count": 17,
   "metadata": {},
   "outputs": [
    {
     "data": {
      "text/plain": [
       "tips_show        40055\n",
       "photos_show      10012\n",
       "search            6784\n",
       "advert_open       6164\n",
       "contacts_show     4529\n",
       "map               3881\n",
       "favorites_add     1417\n",
       "tips_click         814\n",
       "contacts_call      541\n",
       "Name: event_name, dtype: int64"
      ]
     },
     "execution_count": 17,
     "metadata": {},
     "output_type": "execute_result"
    }
   ],
   "source": [
    "# Проверим работу функции\n",
    "data['event_name'].value_counts()"
   ]
  },
  {
   "cell_type": "markdown",
   "metadata": {},
   "source": [
    "<div class=\"alert alert-info\" style=\"border-color: lavender; border-radius: 10px; background-color: lavender;\"> \n",
    "    <font color = 'black'> \n",
    "По итогам раздела можно сказать, что мы изучили представленные данные на начальном этапе, объединили датасеты, поменяли тип данных колонки со временем и дополнили общую таблицу колонкой с датой. Также были скорректированы названия колонок, проверены пропуски и дубликаты, было убрано дублирующееся действие в колонке `event_name`. Теперь можем приступать к исследовательскому анализу. "
   ]
  },
  {
   "cell_type": "markdown",
   "metadata": {},
   "source": [
    "## Исследовательский анализ данных"
   ]
  },
  {
   "cell_type": "markdown",
   "metadata": {},
   "source": [
    "### Распределение данных по времени"
   ]
  },
  {
   "cell_type": "markdown",
   "metadata": {},
   "source": [
    "Сначала стоит найти период времени, который у нас есть. Для этого просто выведем минимальное и максимальное значения в столбце с датой."
   ]
  },
  {
   "cell_type": "code",
   "execution_count": 18,
   "metadata": {},
   "outputs": [
    {
     "name": "stdout",
     "output_type": "stream",
     "text": [
      "Данные распределены по времени от 2019-10-07 до 2019-11-03\n"
     ]
    }
   ],
   "source": [
    "# Находим минимальную и максимальную даты\n",
    "print(f\"Данные распределены по времени от {(data['date'].dt.date).min()} до {(data['date'].dt.date).max()}\")"
   ]
  },
  {
   "cell_type": "markdown",
   "metadata": {},
   "source": [
    "Значит мы имеем данные от 10 октября до 3 ноября 2019 года - примерно 3,5 недели. Теперь посмотрим на основные данные, построив столбчатые диаграммы в разрезе дат."
   ]
  },
  {
   "cell_type": "code",
   "execution_count": 19,
   "metadata": {},
   "outputs": [
    {
     "data": {
      "text/html": [
       "<div>\n",
       "<style scoped>\n",
       "    .dataframe tbody tr th:only-of-type {\n",
       "        vertical-align: middle;\n",
       "    }\n",
       "\n",
       "    .dataframe tbody tr th {\n",
       "        vertical-align: top;\n",
       "    }\n",
       "\n",
       "    .dataframe thead th {\n",
       "        text-align: right;\n",
       "    }\n",
       "</style>\n",
       "<table border=\"1\" class=\"dataframe\">\n",
       "  <thead>\n",
       "    <tr style=\"text-align: right;\">\n",
       "      <th></th>\n",
       "      <th>date</th>\n",
       "      <th>event_name</th>\n",
       "      <th>event_count</th>\n",
       "    </tr>\n",
       "  </thead>\n",
       "  <tbody>\n",
       "    <tr>\n",
       "      <th>0</th>\n",
       "      <td>2019-10-07</td>\n",
       "      <td>advert_open</td>\n",
       "      <td>401</td>\n",
       "    </tr>\n",
       "    <tr>\n",
       "      <th>1</th>\n",
       "      <td>2019-10-07</td>\n",
       "      <td>contacts_call</td>\n",
       "      <td>7</td>\n",
       "    </tr>\n",
       "    <tr>\n",
       "      <th>2</th>\n",
       "      <td>2019-10-07</td>\n",
       "      <td>contacts_show</td>\n",
       "      <td>61</td>\n",
       "    </tr>\n",
       "    <tr>\n",
       "      <th>3</th>\n",
       "      <td>2019-10-07</td>\n",
       "      <td>favorites_add</td>\n",
       "      <td>40</td>\n",
       "    </tr>\n",
       "    <tr>\n",
       "      <th>4</th>\n",
       "      <td>2019-10-07</td>\n",
       "      <td>map</td>\n",
       "      <td>168</td>\n",
       "    </tr>\n",
       "  </tbody>\n",
       "</table>\n",
       "</div>"
      ],
      "text/plain": [
       "        date     event_name  event_count\n",
       "0 2019-10-07    advert_open          401\n",
       "1 2019-10-07  contacts_call            7\n",
       "2 2019-10-07  contacts_show           61\n",
       "3 2019-10-07  favorites_add           40\n",
       "4 2019-10-07            map          168"
      ]
     },
     "execution_count": 19,
     "metadata": {},
     "output_type": "execute_result"
    }
   ],
   "source": [
    "# Создадим столбец количеством каждого события по дням\n",
    "events_grouped = data.groupby(['date', 'event_name']).agg(\n",
    "    {'event_name':'count'}).rename(columns={'event_name':'event_count'}).reset_index()\n",
    "\n",
    "# Выведем первые 5 строк таблицы\n",
    "events_grouped.head(5)"
   ]
  },
  {
   "cell_type": "code",
   "execution_count": 20,
   "metadata": {},
   "outputs": [],
   "source": [
    "# Создадим функцию для визуализации\n",
    "def bar_chart(data, x, y, color=None, title=None, xaxis_title=None, yaxis_title=None):\n",
    "    '''Эта функция строит столбчатую диаграмму.\n",
    "    В функцию в качестве обязательных аргументов подаются датасет и его колонки для осей X и Y, \n",
    "    а в качестве необязательных аргументов - колонка датасета для разделения внутри столбца диаграммы по цветам, \n",
    "    а также название графика, название для оси X и для оси Y.\n",
    "    значение для сравнения и название сравниваемого показателя.\n",
    "    \n",
    "    Функция возвращает столбчатую диаграмму по рассматриваемым параметрам.\n",
    "    '''\n",
    "    fig = px.bar(data, x=x, y=y, color=color)\n",
    "    fig.update_layout(title=title, xaxis_title=xaxis_title, yaxis_title=yaxis_title)\n",
    "    fig.show()"
   ]
  },
  {
   "cell_type": "code",
   "execution_count": 21,
   "metadata": {},
   "outputs": [
    {
     "data": {
      "application/vnd.plotly.v1+json": {
       "config": {
        "plotlyServerURL": "https://plot.ly"
       },
       "data": [
        {
         "alignmentgroup": "True",
         "hovertemplate": "event_name=advert_open<br>date=%{x}<br>event_count=%{y}<extra></extra>",
         "legendgroup": "advert_open",
         "marker": {
          "color": "#636efa",
          "pattern": {
           "shape": ""
          }
         },
         "name": "advert_open",
         "offsetgroup": "advert_open",
         "orientation": "v",
         "showlegend": true,
         "textposition": "auto",
         "type": "bar",
         "x": [
          "2019-10-07T00:00:00",
          "2019-10-08T00:00:00",
          "2019-10-09T00:00:00",
          "2019-10-10T00:00:00",
          "2019-10-11T00:00:00",
          "2019-10-12T00:00:00",
          "2019-10-13T00:00:00",
          "2019-10-14T00:00:00",
          "2019-10-15T00:00:00",
          "2019-10-16T00:00:00",
          "2019-10-17T00:00:00",
          "2019-10-18T00:00:00",
          "2019-10-19T00:00:00",
          "2019-10-20T00:00:00",
          "2019-10-21T00:00:00",
          "2019-10-22T00:00:00",
          "2019-10-23T00:00:00",
          "2019-10-24T00:00:00",
          "2019-10-25T00:00:00",
          "2019-10-26T00:00:00",
          "2019-10-27T00:00:00",
          "2019-10-28T00:00:00",
          "2019-10-29T00:00:00",
          "2019-10-30T00:00:00",
          "2019-10-31T00:00:00",
          "2019-11-01T00:00:00",
          "2019-11-02T00:00:00",
          "2019-11-03T00:00:00"
         ],
         "xaxis": "x",
         "y": [
          401,
          206,
          130,
          105,
          109,
          141,
          286,
          166,
          297,
          254,
          164,
          186,
          191,
          132,
          249,
          164,
          224,
          244,
          215,
          274,
          287,
          305,
          285,
          237,
          270,
          228,
          88,
          326
         ],
         "yaxis": "y"
        },
        {
         "alignmentgroup": "True",
         "hovertemplate": "event_name=contacts_call<br>date=%{x}<br>event_count=%{y}<extra></extra>",
         "legendgroup": "contacts_call",
         "marker": {
          "color": "#EF553B",
          "pattern": {
           "shape": ""
          }
         },
         "name": "contacts_call",
         "offsetgroup": "contacts_call",
         "orientation": "v",
         "showlegend": true,
         "textposition": "auto",
         "type": "bar",
         "x": [
          "2019-10-07T00:00:00",
          "2019-10-08T00:00:00",
          "2019-10-09T00:00:00",
          "2019-10-10T00:00:00",
          "2019-10-11T00:00:00",
          "2019-10-12T00:00:00",
          "2019-10-13T00:00:00",
          "2019-10-14T00:00:00",
          "2019-10-15T00:00:00",
          "2019-10-16T00:00:00",
          "2019-10-17T00:00:00",
          "2019-10-18T00:00:00",
          "2019-10-19T00:00:00",
          "2019-10-20T00:00:00",
          "2019-10-21T00:00:00",
          "2019-10-22T00:00:00",
          "2019-10-23T00:00:00",
          "2019-10-24T00:00:00",
          "2019-10-25T00:00:00",
          "2019-10-26T00:00:00",
          "2019-10-27T00:00:00",
          "2019-10-28T00:00:00",
          "2019-10-29T00:00:00",
          "2019-10-30T00:00:00",
          "2019-10-31T00:00:00",
          "2019-11-01T00:00:00",
          "2019-11-02T00:00:00",
          "2019-11-03T00:00:00"
         ],
         "xaxis": "x",
         "y": [
          7,
          23,
          10,
          19,
          6,
          10,
          4,
          20,
          32,
          17,
          35,
          16,
          20,
          30,
          15,
          19,
          22,
          35,
          19,
          19,
          16,
          31,
          12,
          25,
          29,
          12,
          18,
          20
         ],
         "yaxis": "y"
        },
        {
         "alignmentgroup": "True",
         "hovertemplate": "event_name=contacts_show<br>date=%{x}<br>event_count=%{y}<extra></extra>",
         "legendgroup": "contacts_show",
         "marker": {
          "color": "#00cc96",
          "pattern": {
           "shape": ""
          }
         },
         "name": "contacts_show",
         "offsetgroup": "contacts_show",
         "orientation": "v",
         "showlegend": true,
         "textposition": "auto",
         "type": "bar",
         "x": [
          "2019-10-07T00:00:00",
          "2019-10-08T00:00:00",
          "2019-10-09T00:00:00",
          "2019-10-10T00:00:00",
          "2019-10-11T00:00:00",
          "2019-10-12T00:00:00",
          "2019-10-13T00:00:00",
          "2019-10-14T00:00:00",
          "2019-10-15T00:00:00",
          "2019-10-16T00:00:00",
          "2019-10-17T00:00:00",
          "2019-10-18T00:00:00",
          "2019-10-19T00:00:00",
          "2019-10-20T00:00:00",
          "2019-10-21T00:00:00",
          "2019-10-22T00:00:00",
          "2019-10-23T00:00:00",
          "2019-10-24T00:00:00",
          "2019-10-25T00:00:00",
          "2019-10-26T00:00:00",
          "2019-10-27T00:00:00",
          "2019-10-28T00:00:00",
          "2019-10-29T00:00:00",
          "2019-10-30T00:00:00",
          "2019-10-31T00:00:00",
          "2019-11-01T00:00:00",
          "2019-11-02T00:00:00",
          "2019-11-03T00:00:00"
         ],
         "xaxis": "x",
         "y": [
          61,
          119,
          99,
          106,
          88,
          54,
          107,
          212,
          212,
          187,
          265,
          166,
          90,
          183,
          175,
          215,
          239,
          220,
          188,
          181,
          101,
          198,
          162,
          190,
          234,
          223,
          122,
          132
         ],
         "yaxis": "y"
        },
        {
         "alignmentgroup": "True",
         "hovertemplate": "event_name=favorites_add<br>date=%{x}<br>event_count=%{y}<extra></extra>",
         "legendgroup": "favorites_add",
         "marker": {
          "color": "#ab63fa",
          "pattern": {
           "shape": ""
          }
         },
         "name": "favorites_add",
         "offsetgroup": "favorites_add",
         "orientation": "v",
         "showlegend": true,
         "textposition": "auto",
         "type": "bar",
         "x": [
          "2019-10-07T00:00:00",
          "2019-10-08T00:00:00",
          "2019-10-09T00:00:00",
          "2019-10-10T00:00:00",
          "2019-10-11T00:00:00",
          "2019-10-12T00:00:00",
          "2019-10-13T00:00:00",
          "2019-10-14T00:00:00",
          "2019-10-15T00:00:00",
          "2019-10-16T00:00:00",
          "2019-10-17T00:00:00",
          "2019-10-18T00:00:00",
          "2019-10-19T00:00:00",
          "2019-10-20T00:00:00",
          "2019-10-21T00:00:00",
          "2019-10-22T00:00:00",
          "2019-10-23T00:00:00",
          "2019-10-24T00:00:00",
          "2019-10-25T00:00:00",
          "2019-10-26T00:00:00",
          "2019-10-27T00:00:00",
          "2019-10-28T00:00:00",
          "2019-10-29T00:00:00",
          "2019-10-30T00:00:00",
          "2019-10-31T00:00:00",
          "2019-11-01T00:00:00",
          "2019-11-02T00:00:00",
          "2019-11-03T00:00:00"
         ],
         "xaxis": "x",
         "y": [
          40,
          97,
          43,
          30,
          16,
          37,
          44,
          49,
          63,
          21,
          56,
          35,
          42,
          50,
          35,
          67,
          55,
          68,
          51,
          38,
          70,
          18,
          76,
          120,
          37,
          40,
          44,
          75
         ],
         "yaxis": "y"
        },
        {
         "alignmentgroup": "True",
         "hovertemplate": "event_name=map<br>date=%{x}<br>event_count=%{y}<extra></extra>",
         "legendgroup": "map",
         "marker": {
          "color": "#FFA15A",
          "pattern": {
           "shape": ""
          }
         },
         "name": "map",
         "offsetgroup": "map",
         "orientation": "v",
         "showlegend": true,
         "textposition": "auto",
         "type": "bar",
         "x": [
          "2019-10-07T00:00:00",
          "2019-10-08T00:00:00",
          "2019-10-09T00:00:00",
          "2019-10-10T00:00:00",
          "2019-10-11T00:00:00",
          "2019-10-12T00:00:00",
          "2019-10-13T00:00:00",
          "2019-10-14T00:00:00",
          "2019-10-15T00:00:00",
          "2019-10-16T00:00:00",
          "2019-10-17T00:00:00",
          "2019-10-18T00:00:00",
          "2019-10-19T00:00:00",
          "2019-10-20T00:00:00",
          "2019-10-21T00:00:00",
          "2019-10-22T00:00:00",
          "2019-10-23T00:00:00",
          "2019-10-24T00:00:00",
          "2019-10-25T00:00:00",
          "2019-10-26T00:00:00",
          "2019-10-27T00:00:00",
          "2019-10-28T00:00:00",
          "2019-10-29T00:00:00",
          "2019-10-30T00:00:00",
          "2019-10-31T00:00:00",
          "2019-11-01T00:00:00",
          "2019-11-02T00:00:00",
          "2019-11-03T00:00:00"
         ],
         "xaxis": "x",
         "y": [
          168,
          261,
          133,
          163,
          108,
          112,
          152,
          179,
          148,
          148,
          160,
          127,
          122,
          131,
          263,
          149,
          196,
          163,
          119,
          141,
          123,
          226,
          84,
          68,
          61,
          72,
          39,
          65
         ],
         "yaxis": "y"
        },
        {
         "alignmentgroup": "True",
         "hovertemplate": "event_name=photos_show<br>date=%{x}<br>event_count=%{y}<extra></extra>",
         "legendgroup": "photos_show",
         "marker": {
          "color": "#19d3f3",
          "pattern": {
           "shape": ""
          }
         },
         "name": "photos_show",
         "offsetgroup": "photos_show",
         "orientation": "v",
         "showlegend": true,
         "textposition": "auto",
         "type": "bar",
         "x": [
          "2019-10-07T00:00:00",
          "2019-10-08T00:00:00",
          "2019-10-09T00:00:00",
          "2019-10-10T00:00:00",
          "2019-10-11T00:00:00",
          "2019-10-12T00:00:00",
          "2019-10-13T00:00:00",
          "2019-10-14T00:00:00",
          "2019-10-15T00:00:00",
          "2019-10-16T00:00:00",
          "2019-10-17T00:00:00",
          "2019-10-18T00:00:00",
          "2019-10-19T00:00:00",
          "2019-10-20T00:00:00",
          "2019-10-21T00:00:00",
          "2019-10-22T00:00:00",
          "2019-10-23T00:00:00",
          "2019-10-24T00:00:00",
          "2019-10-25T00:00:00",
          "2019-10-26T00:00:00",
          "2019-10-27T00:00:00",
          "2019-10-28T00:00:00",
          "2019-10-29T00:00:00",
          "2019-10-30T00:00:00",
          "2019-10-31T00:00:00",
          "2019-11-01T00:00:00",
          "2019-11-02T00:00:00",
          "2019-11-03T00:00:00"
         ],
         "xaxis": "x",
         "y": [
          230,
          239,
          235,
          218,
          381,
          302,
          373,
          324,
          344,
          279,
          347,
          333,
          454,
          405,
          316,
          358,
          502,
          378,
          352,
          577,
          507,
          332,
          375,
          313,
          348,
          305,
          331,
          554
         ],
         "yaxis": "y"
        },
        {
         "alignmentgroup": "True",
         "hovertemplate": "event_name=search<br>date=%{x}<br>event_count=%{y}<extra></extra>",
         "legendgroup": "search",
         "marker": {
          "color": "#FF6692",
          "pattern": {
           "shape": ""
          }
         },
         "name": "search",
         "offsetgroup": "search",
         "orientation": "v",
         "showlegend": true,
         "textposition": "auto",
         "type": "bar",
         "x": [
          "2019-10-07T00:00:00",
          "2019-10-08T00:00:00",
          "2019-10-09T00:00:00",
          "2019-10-10T00:00:00",
          "2019-10-11T00:00:00",
          "2019-10-12T00:00:00",
          "2019-10-13T00:00:00",
          "2019-10-14T00:00:00",
          "2019-10-15T00:00:00",
          "2019-10-16T00:00:00",
          "2019-10-17T00:00:00",
          "2019-10-18T00:00:00",
          "2019-10-19T00:00:00",
          "2019-10-20T00:00:00",
          "2019-10-21T00:00:00",
          "2019-10-22T00:00:00",
          "2019-10-23T00:00:00",
          "2019-10-24T00:00:00",
          "2019-10-25T00:00:00",
          "2019-10-26T00:00:00",
          "2019-10-27T00:00:00",
          "2019-10-28T00:00:00",
          "2019-10-29T00:00:00",
          "2019-10-30T00:00:00",
          "2019-10-31T00:00:00",
          "2019-11-01T00:00:00",
          "2019-11-02T00:00:00",
          "2019-11-03T00:00:00"
         ],
         "xaxis": "x",
         "y": [
          127,
          212,
          178,
          185,
          202,
          173,
          194,
          238,
          241,
          239,
          187,
          268,
          231,
          223,
          268,
          283,
          278,
          290,
          253,
          317,
          268,
          315,
          370,
          292,
          247,
          216,
          210,
          279
         ],
         "yaxis": "y"
        },
        {
         "alignmentgroup": "True",
         "hovertemplate": "event_name=tips_click<br>date=%{x}<br>event_count=%{y}<extra></extra>",
         "legendgroup": "tips_click",
         "marker": {
          "color": "#B6E880",
          "pattern": {
           "shape": ""
          }
         },
         "name": "tips_click",
         "offsetgroup": "tips_click",
         "orientation": "v",
         "showlegend": true,
         "textposition": "auto",
         "type": "bar",
         "x": [
          "2019-10-07T00:00:00",
          "2019-10-08T00:00:00",
          "2019-10-09T00:00:00",
          "2019-10-10T00:00:00",
          "2019-10-11T00:00:00",
          "2019-10-12T00:00:00",
          "2019-10-13T00:00:00",
          "2019-10-14T00:00:00",
          "2019-10-15T00:00:00",
          "2019-10-16T00:00:00",
          "2019-10-17T00:00:00",
          "2019-10-18T00:00:00",
          "2019-10-19T00:00:00",
          "2019-10-20T00:00:00",
          "2019-10-21T00:00:00",
          "2019-10-22T00:00:00",
          "2019-10-23T00:00:00",
          "2019-10-24T00:00:00",
          "2019-10-25T00:00:00",
          "2019-10-26T00:00:00",
          "2019-10-27T00:00:00",
          "2019-10-28T00:00:00",
          "2019-10-29T00:00:00",
          "2019-10-30T00:00:00",
          "2019-10-31T00:00:00",
          "2019-11-01T00:00:00",
          "2019-11-02T00:00:00",
          "2019-11-03T00:00:00"
         ],
         "xaxis": "x",
         "y": [
          27,
          26,
          17,
          27,
          17,
          17,
          11,
          43,
          25,
          20,
          42,
          37,
          9,
          26,
          29,
          25,
          37,
          28,
          25,
          43,
          53,
          48,
          37,
          37,
          23,
          43,
          14,
          28
         ],
         "yaxis": "y"
        },
        {
         "alignmentgroup": "True",
         "hovertemplate": "event_name=tips_show<br>date=%{x}<br>event_count=%{y}<extra></extra>",
         "legendgroup": "tips_show",
         "marker": {
          "color": "#FF97FF",
          "pattern": {
           "shape": ""
          }
         },
         "name": "tips_show",
         "offsetgroup": "tips_show",
         "orientation": "v",
         "showlegend": true,
         "textposition": "auto",
         "type": "bar",
         "x": [
          "2019-10-07T00:00:00",
          "2019-10-08T00:00:00",
          "2019-10-09T00:00:00",
          "2019-10-10T00:00:00",
          "2019-10-11T00:00:00",
          "2019-10-12T00:00:00",
          "2019-10-13T00:00:00",
          "2019-10-14T00:00:00",
          "2019-10-15T00:00:00",
          "2019-10-16T00:00:00",
          "2019-10-17T00:00:00",
          "2019-10-18T00:00:00",
          "2019-10-19T00:00:00",
          "2019-10-20T00:00:00",
          "2019-10-21T00:00:00",
          "2019-10-22T00:00:00",
          "2019-10-23T00:00:00",
          "2019-10-24T00:00:00",
          "2019-10-25T00:00:00",
          "2019-10-26T00:00:00",
          "2019-10-27T00:00:00",
          "2019-10-28T00:00:00",
          "2019-10-29T00:00:00",
          "2019-10-30T00:00:00",
          "2019-10-31T00:00:00",
          "2019-11-01T00:00:00",
          "2019-11-02T00:00:00",
          "2019-11-03T00:00:00"
         ],
         "xaxis": "x",
         "y": [
          1484,
          1316,
          1182,
          1390,
          1103,
          997,
          1464,
          1803,
          1360,
          1565,
          1362,
          1576,
          1172,
          964,
          1558,
          1448,
          1808,
          1607,
          1396,
          1537,
          1436,
          1711,
          1795,
          1595,
          1619,
          1438,
          987,
          1382
         ],
         "yaxis": "y"
        }
       ],
       "layout": {
        "barmode": "relative",
        "legend": {
         "title": {
          "text": "event_name"
         },
         "tracegroupgap": 0
        },
        "margin": {
         "t": 60
        },
        "template": {
         "data": {
          "bar": [
           {
            "error_x": {
             "color": "#2a3f5f"
            },
            "error_y": {
             "color": "#2a3f5f"
            },
            "marker": {
             "line": {
              "color": "#E5ECF6",
              "width": 0.5
             },
             "pattern": {
              "fillmode": "overlay",
              "size": 10,
              "solidity": 0.2
             }
            },
            "type": "bar"
           }
          ],
          "barpolar": [
           {
            "marker": {
             "line": {
              "color": "#E5ECF6",
              "width": 0.5
             },
             "pattern": {
              "fillmode": "overlay",
              "size": 10,
              "solidity": 0.2
             }
            },
            "type": "barpolar"
           }
          ],
          "carpet": [
           {
            "aaxis": {
             "endlinecolor": "#2a3f5f",
             "gridcolor": "white",
             "linecolor": "white",
             "minorgridcolor": "white",
             "startlinecolor": "#2a3f5f"
            },
            "baxis": {
             "endlinecolor": "#2a3f5f",
             "gridcolor": "white",
             "linecolor": "white",
             "minorgridcolor": "white",
             "startlinecolor": "#2a3f5f"
            },
            "type": "carpet"
           }
          ],
          "choropleth": [
           {
            "colorbar": {
             "outlinewidth": 0,
             "ticks": ""
            },
            "type": "choropleth"
           }
          ],
          "contour": [
           {
            "colorbar": {
             "outlinewidth": 0,
             "ticks": ""
            },
            "colorscale": [
             [
              0,
              "#0d0887"
             ],
             [
              0.1111111111111111,
              "#46039f"
             ],
             [
              0.2222222222222222,
              "#7201a8"
             ],
             [
              0.3333333333333333,
              "#9c179e"
             ],
             [
              0.4444444444444444,
              "#bd3786"
             ],
             [
              0.5555555555555556,
              "#d8576b"
             ],
             [
              0.6666666666666666,
              "#ed7953"
             ],
             [
              0.7777777777777778,
              "#fb9f3a"
             ],
             [
              0.8888888888888888,
              "#fdca26"
             ],
             [
              1,
              "#f0f921"
             ]
            ],
            "type": "contour"
           }
          ],
          "contourcarpet": [
           {
            "colorbar": {
             "outlinewidth": 0,
             "ticks": ""
            },
            "type": "contourcarpet"
           }
          ],
          "heatmap": [
           {
            "colorbar": {
             "outlinewidth": 0,
             "ticks": ""
            },
            "colorscale": [
             [
              0,
              "#0d0887"
             ],
             [
              0.1111111111111111,
              "#46039f"
             ],
             [
              0.2222222222222222,
              "#7201a8"
             ],
             [
              0.3333333333333333,
              "#9c179e"
             ],
             [
              0.4444444444444444,
              "#bd3786"
             ],
             [
              0.5555555555555556,
              "#d8576b"
             ],
             [
              0.6666666666666666,
              "#ed7953"
             ],
             [
              0.7777777777777778,
              "#fb9f3a"
             ],
             [
              0.8888888888888888,
              "#fdca26"
             ],
             [
              1,
              "#f0f921"
             ]
            ],
            "type": "heatmap"
           }
          ],
          "heatmapgl": [
           {
            "colorbar": {
             "outlinewidth": 0,
             "ticks": ""
            },
            "colorscale": [
             [
              0,
              "#0d0887"
             ],
             [
              0.1111111111111111,
              "#46039f"
             ],
             [
              0.2222222222222222,
              "#7201a8"
             ],
             [
              0.3333333333333333,
              "#9c179e"
             ],
             [
              0.4444444444444444,
              "#bd3786"
             ],
             [
              0.5555555555555556,
              "#d8576b"
             ],
             [
              0.6666666666666666,
              "#ed7953"
             ],
             [
              0.7777777777777778,
              "#fb9f3a"
             ],
             [
              0.8888888888888888,
              "#fdca26"
             ],
             [
              1,
              "#f0f921"
             ]
            ],
            "type": "heatmapgl"
           }
          ],
          "histogram": [
           {
            "marker": {
             "pattern": {
              "fillmode": "overlay",
              "size": 10,
              "solidity": 0.2
             }
            },
            "type": "histogram"
           }
          ],
          "histogram2d": [
           {
            "colorbar": {
             "outlinewidth": 0,
             "ticks": ""
            },
            "colorscale": [
             [
              0,
              "#0d0887"
             ],
             [
              0.1111111111111111,
              "#46039f"
             ],
             [
              0.2222222222222222,
              "#7201a8"
             ],
             [
              0.3333333333333333,
              "#9c179e"
             ],
             [
              0.4444444444444444,
              "#bd3786"
             ],
             [
              0.5555555555555556,
              "#d8576b"
             ],
             [
              0.6666666666666666,
              "#ed7953"
             ],
             [
              0.7777777777777778,
              "#fb9f3a"
             ],
             [
              0.8888888888888888,
              "#fdca26"
             ],
             [
              1,
              "#f0f921"
             ]
            ],
            "type": "histogram2d"
           }
          ],
          "histogram2dcontour": [
           {
            "colorbar": {
             "outlinewidth": 0,
             "ticks": ""
            },
            "colorscale": [
             [
              0,
              "#0d0887"
             ],
             [
              0.1111111111111111,
              "#46039f"
             ],
             [
              0.2222222222222222,
              "#7201a8"
             ],
             [
              0.3333333333333333,
              "#9c179e"
             ],
             [
              0.4444444444444444,
              "#bd3786"
             ],
             [
              0.5555555555555556,
              "#d8576b"
             ],
             [
              0.6666666666666666,
              "#ed7953"
             ],
             [
              0.7777777777777778,
              "#fb9f3a"
             ],
             [
              0.8888888888888888,
              "#fdca26"
             ],
             [
              1,
              "#f0f921"
             ]
            ],
            "type": "histogram2dcontour"
           }
          ],
          "mesh3d": [
           {
            "colorbar": {
             "outlinewidth": 0,
             "ticks": ""
            },
            "type": "mesh3d"
           }
          ],
          "parcoords": [
           {
            "line": {
             "colorbar": {
              "outlinewidth": 0,
              "ticks": ""
             }
            },
            "type": "parcoords"
           }
          ],
          "pie": [
           {
            "automargin": true,
            "type": "pie"
           }
          ],
          "scatter": [
           {
            "fillpattern": {
             "fillmode": "overlay",
             "size": 10,
             "solidity": 0.2
            },
            "type": "scatter"
           }
          ],
          "scatter3d": [
           {
            "line": {
             "colorbar": {
              "outlinewidth": 0,
              "ticks": ""
             }
            },
            "marker": {
             "colorbar": {
              "outlinewidth": 0,
              "ticks": ""
             }
            },
            "type": "scatter3d"
           }
          ],
          "scattercarpet": [
           {
            "marker": {
             "colorbar": {
              "outlinewidth": 0,
              "ticks": ""
             }
            },
            "type": "scattercarpet"
           }
          ],
          "scattergeo": [
           {
            "marker": {
             "colorbar": {
              "outlinewidth": 0,
              "ticks": ""
             }
            },
            "type": "scattergeo"
           }
          ],
          "scattergl": [
           {
            "marker": {
             "colorbar": {
              "outlinewidth": 0,
              "ticks": ""
             }
            },
            "type": "scattergl"
           }
          ],
          "scattermapbox": [
           {
            "marker": {
             "colorbar": {
              "outlinewidth": 0,
              "ticks": ""
             }
            },
            "type": "scattermapbox"
           }
          ],
          "scatterpolar": [
           {
            "marker": {
             "colorbar": {
              "outlinewidth": 0,
              "ticks": ""
             }
            },
            "type": "scatterpolar"
           }
          ],
          "scatterpolargl": [
           {
            "marker": {
             "colorbar": {
              "outlinewidth": 0,
              "ticks": ""
             }
            },
            "type": "scatterpolargl"
           }
          ],
          "scatterternary": [
           {
            "marker": {
             "colorbar": {
              "outlinewidth": 0,
              "ticks": ""
             }
            },
            "type": "scatterternary"
           }
          ],
          "surface": [
           {
            "colorbar": {
             "outlinewidth": 0,
             "ticks": ""
            },
            "colorscale": [
             [
              0,
              "#0d0887"
             ],
             [
              0.1111111111111111,
              "#46039f"
             ],
             [
              0.2222222222222222,
              "#7201a8"
             ],
             [
              0.3333333333333333,
              "#9c179e"
             ],
             [
              0.4444444444444444,
              "#bd3786"
             ],
             [
              0.5555555555555556,
              "#d8576b"
             ],
             [
              0.6666666666666666,
              "#ed7953"
             ],
             [
              0.7777777777777778,
              "#fb9f3a"
             ],
             [
              0.8888888888888888,
              "#fdca26"
             ],
             [
              1,
              "#f0f921"
             ]
            ],
            "type": "surface"
           }
          ],
          "table": [
           {
            "cells": {
             "fill": {
              "color": "#EBF0F8"
             },
             "line": {
              "color": "white"
             }
            },
            "header": {
             "fill": {
              "color": "#C8D4E3"
             },
             "line": {
              "color": "white"
             }
            },
            "type": "table"
           }
          ]
         },
         "layout": {
          "annotationdefaults": {
           "arrowcolor": "#2a3f5f",
           "arrowhead": 0,
           "arrowwidth": 1
          },
          "autotypenumbers": "strict",
          "coloraxis": {
           "colorbar": {
            "outlinewidth": 0,
            "ticks": ""
           }
          },
          "colorscale": {
           "diverging": [
            [
             0,
             "#8e0152"
            ],
            [
             0.1,
             "#c51b7d"
            ],
            [
             0.2,
             "#de77ae"
            ],
            [
             0.3,
             "#f1b6da"
            ],
            [
             0.4,
             "#fde0ef"
            ],
            [
             0.5,
             "#f7f7f7"
            ],
            [
             0.6,
             "#e6f5d0"
            ],
            [
             0.7,
             "#b8e186"
            ],
            [
             0.8,
             "#7fbc41"
            ],
            [
             0.9,
             "#4d9221"
            ],
            [
             1,
             "#276419"
            ]
           ],
           "sequential": [
            [
             0,
             "#0d0887"
            ],
            [
             0.1111111111111111,
             "#46039f"
            ],
            [
             0.2222222222222222,
             "#7201a8"
            ],
            [
             0.3333333333333333,
             "#9c179e"
            ],
            [
             0.4444444444444444,
             "#bd3786"
            ],
            [
             0.5555555555555556,
             "#d8576b"
            ],
            [
             0.6666666666666666,
             "#ed7953"
            ],
            [
             0.7777777777777778,
             "#fb9f3a"
            ],
            [
             0.8888888888888888,
             "#fdca26"
            ],
            [
             1,
             "#f0f921"
            ]
           ],
           "sequentialminus": [
            [
             0,
             "#0d0887"
            ],
            [
             0.1111111111111111,
             "#46039f"
            ],
            [
             0.2222222222222222,
             "#7201a8"
            ],
            [
             0.3333333333333333,
             "#9c179e"
            ],
            [
             0.4444444444444444,
             "#bd3786"
            ],
            [
             0.5555555555555556,
             "#d8576b"
            ],
            [
             0.6666666666666666,
             "#ed7953"
            ],
            [
             0.7777777777777778,
             "#fb9f3a"
            ],
            [
             0.8888888888888888,
             "#fdca26"
            ],
            [
             1,
             "#f0f921"
            ]
           ]
          },
          "colorway": [
           "#636efa",
           "#EF553B",
           "#00cc96",
           "#ab63fa",
           "#FFA15A",
           "#19d3f3",
           "#FF6692",
           "#B6E880",
           "#FF97FF",
           "#FECB52"
          ],
          "font": {
           "color": "#2a3f5f"
          },
          "geo": {
           "bgcolor": "white",
           "lakecolor": "white",
           "landcolor": "#E5ECF6",
           "showlakes": true,
           "showland": true,
           "subunitcolor": "white"
          },
          "hoverlabel": {
           "align": "left"
          },
          "hovermode": "closest",
          "mapbox": {
           "style": "light"
          },
          "paper_bgcolor": "white",
          "plot_bgcolor": "#E5ECF6",
          "polar": {
           "angularaxis": {
            "gridcolor": "white",
            "linecolor": "white",
            "ticks": ""
           },
           "bgcolor": "#E5ECF6",
           "radialaxis": {
            "gridcolor": "white",
            "linecolor": "white",
            "ticks": ""
           }
          },
          "scene": {
           "xaxis": {
            "backgroundcolor": "#E5ECF6",
            "gridcolor": "white",
            "gridwidth": 2,
            "linecolor": "white",
            "showbackground": true,
            "ticks": "",
            "zerolinecolor": "white"
           },
           "yaxis": {
            "backgroundcolor": "#E5ECF6",
            "gridcolor": "white",
            "gridwidth": 2,
            "linecolor": "white",
            "showbackground": true,
            "ticks": "",
            "zerolinecolor": "white"
           },
           "zaxis": {
            "backgroundcolor": "#E5ECF6",
            "gridcolor": "white",
            "gridwidth": 2,
            "linecolor": "white",
            "showbackground": true,
            "ticks": "",
            "zerolinecolor": "white"
           }
          },
          "shapedefaults": {
           "line": {
            "color": "#2a3f5f"
           }
          },
          "ternary": {
           "aaxis": {
            "gridcolor": "white",
            "linecolor": "white",
            "ticks": ""
           },
           "baxis": {
            "gridcolor": "white",
            "linecolor": "white",
            "ticks": ""
           },
           "bgcolor": "#E5ECF6",
           "caxis": {
            "gridcolor": "white",
            "linecolor": "white",
            "ticks": ""
           }
          },
          "title": {
           "x": 0.05
          },
          "xaxis": {
           "automargin": true,
           "gridcolor": "white",
           "linecolor": "white",
           "ticks": "",
           "title": {
            "standoff": 15
           },
           "zerolinecolor": "white",
           "zerolinewidth": 2
          },
          "yaxis": {
           "automargin": true,
           "gridcolor": "white",
           "linecolor": "white",
           "ticks": "",
           "title": {
            "standoff": 15
           },
           "zerolinecolor": "white",
           "zerolinewidth": 2
          }
         }
        },
        "title": {
         "text": "Распределение данных по дате и событию"
        },
        "xaxis": {
         "anchor": "y",
         "domain": [
          0,
          1
         ],
         "title": {
          "text": "Дата"
         }
        },
        "yaxis": {
         "anchor": "x",
         "domain": [
          0,
          1
         ],
         "title": {
          "text": "Количество данных"
         }
        }
       }
      },
      "text/html": [
       "<div>                            <div id=\"e69cc5de-74e2-4d91-98f2-1eda70731d29\" class=\"plotly-graph-div\" style=\"height:525px; width:100%;\"></div>            <script type=\"text/javascript\">                require([\"plotly\"], function(Plotly) {                    window.PLOTLYENV=window.PLOTLYENV || {};                                    if (document.getElementById(\"e69cc5de-74e2-4d91-98f2-1eda70731d29\")) {                    Plotly.newPlot(                        \"e69cc5de-74e2-4d91-98f2-1eda70731d29\",                        [{\"alignmentgroup\":\"True\",\"hovertemplate\":\"event_name=advert_open<br>date=%{x}<br>event_count=%{y}<extra></extra>\",\"legendgroup\":\"advert_open\",\"marker\":{\"color\":\"#636efa\",\"pattern\":{\"shape\":\"\"}},\"name\":\"advert_open\",\"offsetgroup\":\"advert_open\",\"orientation\":\"v\",\"showlegend\":true,\"textposition\":\"auto\",\"x\":[\"2019-10-07T00:00:00\",\"2019-10-08T00:00:00\",\"2019-10-09T00:00:00\",\"2019-10-10T00:00:00\",\"2019-10-11T00:00:00\",\"2019-10-12T00:00:00\",\"2019-10-13T00:00:00\",\"2019-10-14T00:00:00\",\"2019-10-15T00:00:00\",\"2019-10-16T00:00:00\",\"2019-10-17T00:00:00\",\"2019-10-18T00:00:00\",\"2019-10-19T00:00:00\",\"2019-10-20T00:00:00\",\"2019-10-21T00:00:00\",\"2019-10-22T00:00:00\",\"2019-10-23T00:00:00\",\"2019-10-24T00:00:00\",\"2019-10-25T00:00:00\",\"2019-10-26T00:00:00\",\"2019-10-27T00:00:00\",\"2019-10-28T00:00:00\",\"2019-10-29T00:00:00\",\"2019-10-30T00:00:00\",\"2019-10-31T00:00:00\",\"2019-11-01T00:00:00\",\"2019-11-02T00:00:00\",\"2019-11-03T00:00:00\"],\"xaxis\":\"x\",\"y\":[401,206,130,105,109,141,286,166,297,254,164,186,191,132,249,164,224,244,215,274,287,305,285,237,270,228,88,326],\"yaxis\":\"y\",\"type\":\"bar\"},{\"alignmentgroup\":\"True\",\"hovertemplate\":\"event_name=contacts_call<br>date=%{x}<br>event_count=%{y}<extra></extra>\",\"legendgroup\":\"contacts_call\",\"marker\":{\"color\":\"#EF553B\",\"pattern\":{\"shape\":\"\"}},\"name\":\"contacts_call\",\"offsetgroup\":\"contacts_call\",\"orientation\":\"v\",\"showlegend\":true,\"textposition\":\"auto\",\"x\":[\"2019-10-07T00:00:00\",\"2019-10-08T00:00:00\",\"2019-10-09T00:00:00\",\"2019-10-10T00:00:00\",\"2019-10-11T00:00:00\",\"2019-10-12T00:00:00\",\"2019-10-13T00:00:00\",\"2019-10-14T00:00:00\",\"2019-10-15T00:00:00\",\"2019-10-16T00:00:00\",\"2019-10-17T00:00:00\",\"2019-10-18T00:00:00\",\"2019-10-19T00:00:00\",\"2019-10-20T00:00:00\",\"2019-10-21T00:00:00\",\"2019-10-22T00:00:00\",\"2019-10-23T00:00:00\",\"2019-10-24T00:00:00\",\"2019-10-25T00:00:00\",\"2019-10-26T00:00:00\",\"2019-10-27T00:00:00\",\"2019-10-28T00:00:00\",\"2019-10-29T00:00:00\",\"2019-10-30T00:00:00\",\"2019-10-31T00:00:00\",\"2019-11-01T00:00:00\",\"2019-11-02T00:00:00\",\"2019-11-03T00:00:00\"],\"xaxis\":\"x\",\"y\":[7,23,10,19,6,10,4,20,32,17,35,16,20,30,15,19,22,35,19,19,16,31,12,25,29,12,18,20],\"yaxis\":\"y\",\"type\":\"bar\"},{\"alignmentgroup\":\"True\",\"hovertemplate\":\"event_name=contacts_show<br>date=%{x}<br>event_count=%{y}<extra></extra>\",\"legendgroup\":\"contacts_show\",\"marker\":{\"color\":\"#00cc96\",\"pattern\":{\"shape\":\"\"}},\"name\":\"contacts_show\",\"offsetgroup\":\"contacts_show\",\"orientation\":\"v\",\"showlegend\":true,\"textposition\":\"auto\",\"x\":[\"2019-10-07T00:00:00\",\"2019-10-08T00:00:00\",\"2019-10-09T00:00:00\",\"2019-10-10T00:00:00\",\"2019-10-11T00:00:00\",\"2019-10-12T00:00:00\",\"2019-10-13T00:00:00\",\"2019-10-14T00:00:00\",\"2019-10-15T00:00:00\",\"2019-10-16T00:00:00\",\"2019-10-17T00:00:00\",\"2019-10-18T00:00:00\",\"2019-10-19T00:00:00\",\"2019-10-20T00:00:00\",\"2019-10-21T00:00:00\",\"2019-10-22T00:00:00\",\"2019-10-23T00:00:00\",\"2019-10-24T00:00:00\",\"2019-10-25T00:00:00\",\"2019-10-26T00:00:00\",\"2019-10-27T00:00:00\",\"2019-10-28T00:00:00\",\"2019-10-29T00:00:00\",\"2019-10-30T00:00:00\",\"2019-10-31T00:00:00\",\"2019-11-01T00:00:00\",\"2019-11-02T00:00:00\",\"2019-11-03T00:00:00\"],\"xaxis\":\"x\",\"y\":[61,119,99,106,88,54,107,212,212,187,265,166,90,183,175,215,239,220,188,181,101,198,162,190,234,223,122,132],\"yaxis\":\"y\",\"type\":\"bar\"},{\"alignmentgroup\":\"True\",\"hovertemplate\":\"event_name=favorites_add<br>date=%{x}<br>event_count=%{y}<extra></extra>\",\"legendgroup\":\"favorites_add\",\"marker\":{\"color\":\"#ab63fa\",\"pattern\":{\"shape\":\"\"}},\"name\":\"favorites_add\",\"offsetgroup\":\"favorites_add\",\"orientation\":\"v\",\"showlegend\":true,\"textposition\":\"auto\",\"x\":[\"2019-10-07T00:00:00\",\"2019-10-08T00:00:00\",\"2019-10-09T00:00:00\",\"2019-10-10T00:00:00\",\"2019-10-11T00:00:00\",\"2019-10-12T00:00:00\",\"2019-10-13T00:00:00\",\"2019-10-14T00:00:00\",\"2019-10-15T00:00:00\",\"2019-10-16T00:00:00\",\"2019-10-17T00:00:00\",\"2019-10-18T00:00:00\",\"2019-10-19T00:00:00\",\"2019-10-20T00:00:00\",\"2019-10-21T00:00:00\",\"2019-10-22T00:00:00\",\"2019-10-23T00:00:00\",\"2019-10-24T00:00:00\",\"2019-10-25T00:00:00\",\"2019-10-26T00:00:00\",\"2019-10-27T00:00:00\",\"2019-10-28T00:00:00\",\"2019-10-29T00:00:00\",\"2019-10-30T00:00:00\",\"2019-10-31T00:00:00\",\"2019-11-01T00:00:00\",\"2019-11-02T00:00:00\",\"2019-11-03T00:00:00\"],\"xaxis\":\"x\",\"y\":[40,97,43,30,16,37,44,49,63,21,56,35,42,50,35,67,55,68,51,38,70,18,76,120,37,40,44,75],\"yaxis\":\"y\",\"type\":\"bar\"},{\"alignmentgroup\":\"True\",\"hovertemplate\":\"event_name=map<br>date=%{x}<br>event_count=%{y}<extra></extra>\",\"legendgroup\":\"map\",\"marker\":{\"color\":\"#FFA15A\",\"pattern\":{\"shape\":\"\"}},\"name\":\"map\",\"offsetgroup\":\"map\",\"orientation\":\"v\",\"showlegend\":true,\"textposition\":\"auto\",\"x\":[\"2019-10-07T00:00:00\",\"2019-10-08T00:00:00\",\"2019-10-09T00:00:00\",\"2019-10-10T00:00:00\",\"2019-10-11T00:00:00\",\"2019-10-12T00:00:00\",\"2019-10-13T00:00:00\",\"2019-10-14T00:00:00\",\"2019-10-15T00:00:00\",\"2019-10-16T00:00:00\",\"2019-10-17T00:00:00\",\"2019-10-18T00:00:00\",\"2019-10-19T00:00:00\",\"2019-10-20T00:00:00\",\"2019-10-21T00:00:00\",\"2019-10-22T00:00:00\",\"2019-10-23T00:00:00\",\"2019-10-24T00:00:00\",\"2019-10-25T00:00:00\",\"2019-10-26T00:00:00\",\"2019-10-27T00:00:00\",\"2019-10-28T00:00:00\",\"2019-10-29T00:00:00\",\"2019-10-30T00:00:00\",\"2019-10-31T00:00:00\",\"2019-11-01T00:00:00\",\"2019-11-02T00:00:00\",\"2019-11-03T00:00:00\"],\"xaxis\":\"x\",\"y\":[168,261,133,163,108,112,152,179,148,148,160,127,122,131,263,149,196,163,119,141,123,226,84,68,61,72,39,65],\"yaxis\":\"y\",\"type\":\"bar\"},{\"alignmentgroup\":\"True\",\"hovertemplate\":\"event_name=photos_show<br>date=%{x}<br>event_count=%{y}<extra></extra>\",\"legendgroup\":\"photos_show\",\"marker\":{\"color\":\"#19d3f3\",\"pattern\":{\"shape\":\"\"}},\"name\":\"photos_show\",\"offsetgroup\":\"photos_show\",\"orientation\":\"v\",\"showlegend\":true,\"textposition\":\"auto\",\"x\":[\"2019-10-07T00:00:00\",\"2019-10-08T00:00:00\",\"2019-10-09T00:00:00\",\"2019-10-10T00:00:00\",\"2019-10-11T00:00:00\",\"2019-10-12T00:00:00\",\"2019-10-13T00:00:00\",\"2019-10-14T00:00:00\",\"2019-10-15T00:00:00\",\"2019-10-16T00:00:00\",\"2019-10-17T00:00:00\",\"2019-10-18T00:00:00\",\"2019-10-19T00:00:00\",\"2019-10-20T00:00:00\",\"2019-10-21T00:00:00\",\"2019-10-22T00:00:00\",\"2019-10-23T00:00:00\",\"2019-10-24T00:00:00\",\"2019-10-25T00:00:00\",\"2019-10-26T00:00:00\",\"2019-10-27T00:00:00\",\"2019-10-28T00:00:00\",\"2019-10-29T00:00:00\",\"2019-10-30T00:00:00\",\"2019-10-31T00:00:00\",\"2019-11-01T00:00:00\",\"2019-11-02T00:00:00\",\"2019-11-03T00:00:00\"],\"xaxis\":\"x\",\"y\":[230,239,235,218,381,302,373,324,344,279,347,333,454,405,316,358,502,378,352,577,507,332,375,313,348,305,331,554],\"yaxis\":\"y\",\"type\":\"bar\"},{\"alignmentgroup\":\"True\",\"hovertemplate\":\"event_name=search<br>date=%{x}<br>event_count=%{y}<extra></extra>\",\"legendgroup\":\"search\",\"marker\":{\"color\":\"#FF6692\",\"pattern\":{\"shape\":\"\"}},\"name\":\"search\",\"offsetgroup\":\"search\",\"orientation\":\"v\",\"showlegend\":true,\"textposition\":\"auto\",\"x\":[\"2019-10-07T00:00:00\",\"2019-10-08T00:00:00\",\"2019-10-09T00:00:00\",\"2019-10-10T00:00:00\",\"2019-10-11T00:00:00\",\"2019-10-12T00:00:00\",\"2019-10-13T00:00:00\",\"2019-10-14T00:00:00\",\"2019-10-15T00:00:00\",\"2019-10-16T00:00:00\",\"2019-10-17T00:00:00\",\"2019-10-18T00:00:00\",\"2019-10-19T00:00:00\",\"2019-10-20T00:00:00\",\"2019-10-21T00:00:00\",\"2019-10-22T00:00:00\",\"2019-10-23T00:00:00\",\"2019-10-24T00:00:00\",\"2019-10-25T00:00:00\",\"2019-10-26T00:00:00\",\"2019-10-27T00:00:00\",\"2019-10-28T00:00:00\",\"2019-10-29T00:00:00\",\"2019-10-30T00:00:00\",\"2019-10-31T00:00:00\",\"2019-11-01T00:00:00\",\"2019-11-02T00:00:00\",\"2019-11-03T00:00:00\"],\"xaxis\":\"x\",\"y\":[127,212,178,185,202,173,194,238,241,239,187,268,231,223,268,283,278,290,253,317,268,315,370,292,247,216,210,279],\"yaxis\":\"y\",\"type\":\"bar\"},{\"alignmentgroup\":\"True\",\"hovertemplate\":\"event_name=tips_click<br>date=%{x}<br>event_count=%{y}<extra></extra>\",\"legendgroup\":\"tips_click\",\"marker\":{\"color\":\"#B6E880\",\"pattern\":{\"shape\":\"\"}},\"name\":\"tips_click\",\"offsetgroup\":\"tips_click\",\"orientation\":\"v\",\"showlegend\":true,\"textposition\":\"auto\",\"x\":[\"2019-10-07T00:00:00\",\"2019-10-08T00:00:00\",\"2019-10-09T00:00:00\",\"2019-10-10T00:00:00\",\"2019-10-11T00:00:00\",\"2019-10-12T00:00:00\",\"2019-10-13T00:00:00\",\"2019-10-14T00:00:00\",\"2019-10-15T00:00:00\",\"2019-10-16T00:00:00\",\"2019-10-17T00:00:00\",\"2019-10-18T00:00:00\",\"2019-10-19T00:00:00\",\"2019-10-20T00:00:00\",\"2019-10-21T00:00:00\",\"2019-10-22T00:00:00\",\"2019-10-23T00:00:00\",\"2019-10-24T00:00:00\",\"2019-10-25T00:00:00\",\"2019-10-26T00:00:00\",\"2019-10-27T00:00:00\",\"2019-10-28T00:00:00\",\"2019-10-29T00:00:00\",\"2019-10-30T00:00:00\",\"2019-10-31T00:00:00\",\"2019-11-01T00:00:00\",\"2019-11-02T00:00:00\",\"2019-11-03T00:00:00\"],\"xaxis\":\"x\",\"y\":[27,26,17,27,17,17,11,43,25,20,42,37,9,26,29,25,37,28,25,43,53,48,37,37,23,43,14,28],\"yaxis\":\"y\",\"type\":\"bar\"},{\"alignmentgroup\":\"True\",\"hovertemplate\":\"event_name=tips_show<br>date=%{x}<br>event_count=%{y}<extra></extra>\",\"legendgroup\":\"tips_show\",\"marker\":{\"color\":\"#FF97FF\",\"pattern\":{\"shape\":\"\"}},\"name\":\"tips_show\",\"offsetgroup\":\"tips_show\",\"orientation\":\"v\",\"showlegend\":true,\"textposition\":\"auto\",\"x\":[\"2019-10-07T00:00:00\",\"2019-10-08T00:00:00\",\"2019-10-09T00:00:00\",\"2019-10-10T00:00:00\",\"2019-10-11T00:00:00\",\"2019-10-12T00:00:00\",\"2019-10-13T00:00:00\",\"2019-10-14T00:00:00\",\"2019-10-15T00:00:00\",\"2019-10-16T00:00:00\",\"2019-10-17T00:00:00\",\"2019-10-18T00:00:00\",\"2019-10-19T00:00:00\",\"2019-10-20T00:00:00\",\"2019-10-21T00:00:00\",\"2019-10-22T00:00:00\",\"2019-10-23T00:00:00\",\"2019-10-24T00:00:00\",\"2019-10-25T00:00:00\",\"2019-10-26T00:00:00\",\"2019-10-27T00:00:00\",\"2019-10-28T00:00:00\",\"2019-10-29T00:00:00\",\"2019-10-30T00:00:00\",\"2019-10-31T00:00:00\",\"2019-11-01T00:00:00\",\"2019-11-02T00:00:00\",\"2019-11-03T00:00:00\"],\"xaxis\":\"x\",\"y\":[1484,1316,1182,1390,1103,997,1464,1803,1360,1565,1362,1576,1172,964,1558,1448,1808,1607,1396,1537,1436,1711,1795,1595,1619,1438,987,1382],\"yaxis\":\"y\",\"type\":\"bar\"}],                        {\"template\":{\"data\":{\"histogram2dcontour\":[{\"type\":\"histogram2dcontour\",\"colorbar\":{\"outlinewidth\":0,\"ticks\":\"\"},\"colorscale\":[[0.0,\"#0d0887\"],[0.1111111111111111,\"#46039f\"],[0.2222222222222222,\"#7201a8\"],[0.3333333333333333,\"#9c179e\"],[0.4444444444444444,\"#bd3786\"],[0.5555555555555556,\"#d8576b\"],[0.6666666666666666,\"#ed7953\"],[0.7777777777777778,\"#fb9f3a\"],[0.8888888888888888,\"#fdca26\"],[1.0,\"#f0f921\"]]}],\"choropleth\":[{\"type\":\"choropleth\",\"colorbar\":{\"outlinewidth\":0,\"ticks\":\"\"}}],\"histogram2d\":[{\"type\":\"histogram2d\",\"colorbar\":{\"outlinewidth\":0,\"ticks\":\"\"},\"colorscale\":[[0.0,\"#0d0887\"],[0.1111111111111111,\"#46039f\"],[0.2222222222222222,\"#7201a8\"],[0.3333333333333333,\"#9c179e\"],[0.4444444444444444,\"#bd3786\"],[0.5555555555555556,\"#d8576b\"],[0.6666666666666666,\"#ed7953\"],[0.7777777777777778,\"#fb9f3a\"],[0.8888888888888888,\"#fdca26\"],[1.0,\"#f0f921\"]]}],\"heatmap\":[{\"type\":\"heatmap\",\"colorbar\":{\"outlinewidth\":0,\"ticks\":\"\"},\"colorscale\":[[0.0,\"#0d0887\"],[0.1111111111111111,\"#46039f\"],[0.2222222222222222,\"#7201a8\"],[0.3333333333333333,\"#9c179e\"],[0.4444444444444444,\"#bd3786\"],[0.5555555555555556,\"#d8576b\"],[0.6666666666666666,\"#ed7953\"],[0.7777777777777778,\"#fb9f3a\"],[0.8888888888888888,\"#fdca26\"],[1.0,\"#f0f921\"]]}],\"heatmapgl\":[{\"type\":\"heatmapgl\",\"colorbar\":{\"outlinewidth\":0,\"ticks\":\"\"},\"colorscale\":[[0.0,\"#0d0887\"],[0.1111111111111111,\"#46039f\"],[0.2222222222222222,\"#7201a8\"],[0.3333333333333333,\"#9c179e\"],[0.4444444444444444,\"#bd3786\"],[0.5555555555555556,\"#d8576b\"],[0.6666666666666666,\"#ed7953\"],[0.7777777777777778,\"#fb9f3a\"],[0.8888888888888888,\"#fdca26\"],[1.0,\"#f0f921\"]]}],\"contourcarpet\":[{\"type\":\"contourcarpet\",\"colorbar\":{\"outlinewidth\":0,\"ticks\":\"\"}}],\"contour\":[{\"type\":\"contour\",\"colorbar\":{\"outlinewidth\":0,\"ticks\":\"\"},\"colorscale\":[[0.0,\"#0d0887\"],[0.1111111111111111,\"#46039f\"],[0.2222222222222222,\"#7201a8\"],[0.3333333333333333,\"#9c179e\"],[0.4444444444444444,\"#bd3786\"],[0.5555555555555556,\"#d8576b\"],[0.6666666666666666,\"#ed7953\"],[0.7777777777777778,\"#fb9f3a\"],[0.8888888888888888,\"#fdca26\"],[1.0,\"#f0f921\"]]}],\"surface\":[{\"type\":\"surface\",\"colorbar\":{\"outlinewidth\":0,\"ticks\":\"\"},\"colorscale\":[[0.0,\"#0d0887\"],[0.1111111111111111,\"#46039f\"],[0.2222222222222222,\"#7201a8\"],[0.3333333333333333,\"#9c179e\"],[0.4444444444444444,\"#bd3786\"],[0.5555555555555556,\"#d8576b\"],[0.6666666666666666,\"#ed7953\"],[0.7777777777777778,\"#fb9f3a\"],[0.8888888888888888,\"#fdca26\"],[1.0,\"#f0f921\"]]}],\"mesh3d\":[{\"type\":\"mesh3d\",\"colorbar\":{\"outlinewidth\":0,\"ticks\":\"\"}}],\"scatter\":[{\"fillpattern\":{\"fillmode\":\"overlay\",\"size\":10,\"solidity\":0.2},\"type\":\"scatter\"}],\"parcoords\":[{\"type\":\"parcoords\",\"line\":{\"colorbar\":{\"outlinewidth\":0,\"ticks\":\"\"}}}],\"scatterpolargl\":[{\"type\":\"scatterpolargl\",\"marker\":{\"colorbar\":{\"outlinewidth\":0,\"ticks\":\"\"}}}],\"bar\":[{\"error_x\":{\"color\":\"#2a3f5f\"},\"error_y\":{\"color\":\"#2a3f5f\"},\"marker\":{\"line\":{\"color\":\"#E5ECF6\",\"width\":0.5},\"pattern\":{\"fillmode\":\"overlay\",\"size\":10,\"solidity\":0.2}},\"type\":\"bar\"}],\"scattergeo\":[{\"type\":\"scattergeo\",\"marker\":{\"colorbar\":{\"outlinewidth\":0,\"ticks\":\"\"}}}],\"scatterpolar\":[{\"type\":\"scatterpolar\",\"marker\":{\"colorbar\":{\"outlinewidth\":0,\"ticks\":\"\"}}}],\"histogram\":[{\"marker\":{\"pattern\":{\"fillmode\":\"overlay\",\"size\":10,\"solidity\":0.2}},\"type\":\"histogram\"}],\"scattergl\":[{\"type\":\"scattergl\",\"marker\":{\"colorbar\":{\"outlinewidth\":0,\"ticks\":\"\"}}}],\"scatter3d\":[{\"type\":\"scatter3d\",\"line\":{\"colorbar\":{\"outlinewidth\":0,\"ticks\":\"\"}},\"marker\":{\"colorbar\":{\"outlinewidth\":0,\"ticks\":\"\"}}}],\"scattermapbox\":[{\"type\":\"scattermapbox\",\"marker\":{\"colorbar\":{\"outlinewidth\":0,\"ticks\":\"\"}}}],\"scatterternary\":[{\"type\":\"scatterternary\",\"marker\":{\"colorbar\":{\"outlinewidth\":0,\"ticks\":\"\"}}}],\"scattercarpet\":[{\"type\":\"scattercarpet\",\"marker\":{\"colorbar\":{\"outlinewidth\":0,\"ticks\":\"\"}}}],\"carpet\":[{\"aaxis\":{\"endlinecolor\":\"#2a3f5f\",\"gridcolor\":\"white\",\"linecolor\":\"white\",\"minorgridcolor\":\"white\",\"startlinecolor\":\"#2a3f5f\"},\"baxis\":{\"endlinecolor\":\"#2a3f5f\",\"gridcolor\":\"white\",\"linecolor\":\"white\",\"minorgridcolor\":\"white\",\"startlinecolor\":\"#2a3f5f\"},\"type\":\"carpet\"}],\"table\":[{\"cells\":{\"fill\":{\"color\":\"#EBF0F8\"},\"line\":{\"color\":\"white\"}},\"header\":{\"fill\":{\"color\":\"#C8D4E3\"},\"line\":{\"color\":\"white\"}},\"type\":\"table\"}],\"barpolar\":[{\"marker\":{\"line\":{\"color\":\"#E5ECF6\",\"width\":0.5},\"pattern\":{\"fillmode\":\"overlay\",\"size\":10,\"solidity\":0.2}},\"type\":\"barpolar\"}],\"pie\":[{\"automargin\":true,\"type\":\"pie\"}]},\"layout\":{\"autotypenumbers\":\"strict\",\"colorway\":[\"#636efa\",\"#EF553B\",\"#00cc96\",\"#ab63fa\",\"#FFA15A\",\"#19d3f3\",\"#FF6692\",\"#B6E880\",\"#FF97FF\",\"#FECB52\"],\"font\":{\"color\":\"#2a3f5f\"},\"hovermode\":\"closest\",\"hoverlabel\":{\"align\":\"left\"},\"paper_bgcolor\":\"white\",\"plot_bgcolor\":\"#E5ECF6\",\"polar\":{\"bgcolor\":\"#E5ECF6\",\"angularaxis\":{\"gridcolor\":\"white\",\"linecolor\":\"white\",\"ticks\":\"\"},\"radialaxis\":{\"gridcolor\":\"white\",\"linecolor\":\"white\",\"ticks\":\"\"}},\"ternary\":{\"bgcolor\":\"#E5ECF6\",\"aaxis\":{\"gridcolor\":\"white\",\"linecolor\":\"white\",\"ticks\":\"\"},\"baxis\":{\"gridcolor\":\"white\",\"linecolor\":\"white\",\"ticks\":\"\"},\"caxis\":{\"gridcolor\":\"white\",\"linecolor\":\"white\",\"ticks\":\"\"}},\"coloraxis\":{\"colorbar\":{\"outlinewidth\":0,\"ticks\":\"\"}},\"colorscale\":{\"sequential\":[[0.0,\"#0d0887\"],[0.1111111111111111,\"#46039f\"],[0.2222222222222222,\"#7201a8\"],[0.3333333333333333,\"#9c179e\"],[0.4444444444444444,\"#bd3786\"],[0.5555555555555556,\"#d8576b\"],[0.6666666666666666,\"#ed7953\"],[0.7777777777777778,\"#fb9f3a\"],[0.8888888888888888,\"#fdca26\"],[1.0,\"#f0f921\"]],\"sequentialminus\":[[0.0,\"#0d0887\"],[0.1111111111111111,\"#46039f\"],[0.2222222222222222,\"#7201a8\"],[0.3333333333333333,\"#9c179e\"],[0.4444444444444444,\"#bd3786\"],[0.5555555555555556,\"#d8576b\"],[0.6666666666666666,\"#ed7953\"],[0.7777777777777778,\"#fb9f3a\"],[0.8888888888888888,\"#fdca26\"],[1.0,\"#f0f921\"]],\"diverging\":[[0,\"#8e0152\"],[0.1,\"#c51b7d\"],[0.2,\"#de77ae\"],[0.3,\"#f1b6da\"],[0.4,\"#fde0ef\"],[0.5,\"#f7f7f7\"],[0.6,\"#e6f5d0\"],[0.7,\"#b8e186\"],[0.8,\"#7fbc41\"],[0.9,\"#4d9221\"],[1,\"#276419\"]]},\"xaxis\":{\"gridcolor\":\"white\",\"linecolor\":\"white\",\"ticks\":\"\",\"title\":{\"standoff\":15},\"zerolinecolor\":\"white\",\"automargin\":true,\"zerolinewidth\":2},\"yaxis\":{\"gridcolor\":\"white\",\"linecolor\":\"white\",\"ticks\":\"\",\"title\":{\"standoff\":15},\"zerolinecolor\":\"white\",\"automargin\":true,\"zerolinewidth\":2},\"scene\":{\"xaxis\":{\"backgroundcolor\":\"#E5ECF6\",\"gridcolor\":\"white\",\"linecolor\":\"white\",\"showbackground\":true,\"ticks\":\"\",\"zerolinecolor\":\"white\",\"gridwidth\":2},\"yaxis\":{\"backgroundcolor\":\"#E5ECF6\",\"gridcolor\":\"white\",\"linecolor\":\"white\",\"showbackground\":true,\"ticks\":\"\",\"zerolinecolor\":\"white\",\"gridwidth\":2},\"zaxis\":{\"backgroundcolor\":\"#E5ECF6\",\"gridcolor\":\"white\",\"linecolor\":\"white\",\"showbackground\":true,\"ticks\":\"\",\"zerolinecolor\":\"white\",\"gridwidth\":2}},\"shapedefaults\":{\"line\":{\"color\":\"#2a3f5f\"}},\"annotationdefaults\":{\"arrowcolor\":\"#2a3f5f\",\"arrowhead\":0,\"arrowwidth\":1},\"geo\":{\"bgcolor\":\"white\",\"landcolor\":\"#E5ECF6\",\"subunitcolor\":\"white\",\"showland\":true,\"showlakes\":true,\"lakecolor\":\"white\"},\"title\":{\"x\":0.05},\"mapbox\":{\"style\":\"light\"}}},\"xaxis\":{\"anchor\":\"y\",\"domain\":[0.0,1.0],\"title\":{\"text\":\"\\u0414\\u0430\\u0442\\u0430\"}},\"yaxis\":{\"anchor\":\"x\",\"domain\":[0.0,1.0],\"title\":{\"text\":\"\\u041a\\u043e\\u043b\\u0438\\u0447\\u0435\\u0441\\u0442\\u0432\\u043e \\u0434\\u0430\\u043d\\u043d\\u044b\\u0445\"}},\"legend\":{\"title\":{\"text\":\"event_name\"},\"tracegroupgap\":0},\"margin\":{\"t\":60},\"barmode\":\"relative\",\"title\":{\"text\":\"\\u0420\\u0430\\u0441\\u043f\\u0440\\u0435\\u0434\\u0435\\u043b\\u0435\\u043d\\u0438\\u0435 \\u0434\\u0430\\u043d\\u043d\\u044b\\u0445 \\u043f\\u043e \\u0434\\u0430\\u0442\\u0435 \\u0438 \\u0441\\u043e\\u0431\\u044b\\u0442\\u0438\\u044e\"}},                        {\"responsive\": true}                    ).then(function(){\n",
       "                            \n",
       "var gd = document.getElementById('e69cc5de-74e2-4d91-98f2-1eda70731d29');\n",
       "var x = new MutationObserver(function (mutations, observer) {{\n",
       "        var display = window.getComputedStyle(gd).display;\n",
       "        if (!display || display === 'none') {{\n",
       "            console.log([gd, 'removed!']);\n",
       "            Plotly.purge(gd);\n",
       "            observer.disconnect();\n",
       "        }}\n",
       "}});\n",
       "\n",
       "// Listen for the removal of the full notebook cells\n",
       "var notebookContainer = gd.closest('#notebook-container');\n",
       "if (notebookContainer) {{\n",
       "    x.observe(notebookContainer, {childList: true});\n",
       "}}\n",
       "\n",
       "// Listen for the clearing of the current output cell\n",
       "var outputEl = gd.closest('.output');\n",
       "if (outputEl) {{\n",
       "    x.observe(outputEl, {childList: true});\n",
       "}}\n",
       "\n",
       "                        })                };                });            </script>        </div>"
      ]
     },
     "metadata": {},
     "output_type": "display_data"
    }
   ],
   "source": [
    "# Применим функцию\n",
    "bar_chart(events_grouped, 'date', 'event_count', color='event_name', \n",
    "          title='Распределение данных по дате и событию', xaxis_title='Дата', yaxis_title='Количество данных')"
   ]
  },
  {
   "cell_type": "markdown",
   "metadata": {},
   "source": [
    "По диаграмме видно, что наиболее часто встречающимися событиями практически каждый день являются просмотр фото, поиск и открытие карточки объявления (tips_show, то есть \"увидел рекомендованные объявления\" мы не включаем в этот список, так как это действие по сути совершается автоматически при входе в приложение). Реже всего в течение дня можно увидеть такие действия, как звонок по номеру из объявления, добавление в избранное и клик по рекомендованному объявлению. Звонок как редкое событие можно объяснить тем, что пользователи обычно не звонят через само приложение, а могут предпочитать списываться или же созваниваться вне приложения. Также можно сделать вывод, что пользователи предпочитают самостоятельный поиск рекомендованным обявлениям.  "
   ]
  },
  {
   "cell_type": "markdown",
   "metadata": {},
   "source": [
    "Теперь посмотрим на источники скачивания приложения."
   ]
  },
  {
   "cell_type": "code",
   "execution_count": 22,
   "metadata": {},
   "outputs": [
    {
     "data": {
      "text/html": [
       "<div>\n",
       "<style scoped>\n",
       "    .dataframe tbody tr th:only-of-type {\n",
       "        vertical-align: middle;\n",
       "    }\n",
       "\n",
       "    .dataframe tbody tr th {\n",
       "        vertical-align: top;\n",
       "    }\n",
       "\n",
       "    .dataframe thead th {\n",
       "        text-align: right;\n",
       "    }\n",
       "</style>\n",
       "<table border=\"1\" class=\"dataframe\">\n",
       "  <thead>\n",
       "    <tr style=\"text-align: right;\">\n",
       "      <th></th>\n",
       "      <th>date</th>\n",
       "      <th>source</th>\n",
       "      <th>source_count</th>\n",
       "    </tr>\n",
       "  </thead>\n",
       "  <tbody>\n",
       "    <tr>\n",
       "      <th>0</th>\n",
       "      <td>2019-10-07</td>\n",
       "      <td>google</td>\n",
       "      <td>706</td>\n",
       "    </tr>\n",
       "    <tr>\n",
       "      <th>1</th>\n",
       "      <td>2019-10-07</td>\n",
       "      <td>other</td>\n",
       "      <td>590</td>\n",
       "    </tr>\n",
       "    <tr>\n",
       "      <th>2</th>\n",
       "      <td>2019-10-07</td>\n",
       "      <td>yandex</td>\n",
       "      <td>1249</td>\n",
       "    </tr>\n",
       "    <tr>\n",
       "      <th>3</th>\n",
       "      <td>2019-10-08</td>\n",
       "      <td>google</td>\n",
       "      <td>591</td>\n",
       "    </tr>\n",
       "    <tr>\n",
       "      <th>4</th>\n",
       "      <td>2019-10-08</td>\n",
       "      <td>other</td>\n",
       "      <td>542</td>\n",
       "    </tr>\n",
       "  </tbody>\n",
       "</table>\n",
       "</div>"
      ],
      "text/plain": [
       "        date  source  source_count\n",
       "0 2019-10-07  google           706\n",
       "1 2019-10-07   other           590\n",
       "2 2019-10-07  yandex          1249\n",
       "3 2019-10-08  google           591\n",
       "4 2019-10-08   other           542"
      ]
     },
     "execution_count": 22,
     "metadata": {},
     "output_type": "execute_result"
    }
   ],
   "source": [
    "# Сгруппируем данные для визуализации\n",
    "source_grouped = data.groupby(['date', 'source']).agg(\n",
    "    {'source':'count'}).rename(columns={'source':'source_count'}).reset_index()\n",
    "\n",
    "# Выведем для проверки первые 5 строк\n",
    "source_grouped.head()"
   ]
  },
  {
   "cell_type": "code",
   "execution_count": 23,
   "metadata": {},
   "outputs": [
    {
     "data": {
      "application/vnd.plotly.v1+json": {
       "config": {
        "plotlyServerURL": "https://plot.ly"
       },
       "data": [
        {
         "alignmentgroup": "True",
         "hovertemplate": "source=google<br>date=%{x}<br>source_count=%{y}<extra></extra>",
         "legendgroup": "google",
         "marker": {
          "color": "#636efa",
          "pattern": {
           "shape": ""
          }
         },
         "name": "google",
         "offsetgroup": "google",
         "orientation": "v",
         "showlegend": true,
         "textposition": "auto",
         "type": "bar",
         "x": [
          "2019-10-07T00:00:00",
          "2019-10-08T00:00:00",
          "2019-10-09T00:00:00",
          "2019-10-10T00:00:00",
          "2019-10-11T00:00:00",
          "2019-10-12T00:00:00",
          "2019-10-13T00:00:00",
          "2019-10-14T00:00:00",
          "2019-10-15T00:00:00",
          "2019-10-16T00:00:00",
          "2019-10-17T00:00:00",
          "2019-10-18T00:00:00",
          "2019-10-19T00:00:00",
          "2019-10-20T00:00:00",
          "2019-10-21T00:00:00",
          "2019-10-22T00:00:00",
          "2019-10-23T00:00:00",
          "2019-10-24T00:00:00",
          "2019-10-25T00:00:00",
          "2019-10-26T00:00:00",
          "2019-10-27T00:00:00",
          "2019-10-28T00:00:00",
          "2019-10-29T00:00:00",
          "2019-10-30T00:00:00",
          "2019-10-31T00:00:00",
          "2019-11-01T00:00:00",
          "2019-11-02T00:00:00",
          "2019-11-03T00:00:00"
         ],
         "xaxis": "x",
         "y": [
          706,
          591,
          592,
          484,
          541,
          377,
          565,
          630,
          616,
          927,
          912,
          784,
          883,
          562,
          781,
          932,
          1090,
          838,
          587,
          932,
          848,
          902,
          927,
          637,
          702,
          747,
          459,
          893
         ],
         "yaxis": "y"
        },
        {
         "alignmentgroup": "True",
         "hovertemplate": "source=other<br>date=%{x}<br>source_count=%{y}<extra></extra>",
         "legendgroup": "other",
         "marker": {
          "color": "#EF553B",
          "pattern": {
           "shape": ""
          }
         },
         "name": "other",
         "offsetgroup": "other",
         "orientation": "v",
         "showlegend": true,
         "textposition": "auto",
         "type": "bar",
         "x": [
          "2019-10-07T00:00:00",
          "2019-10-08T00:00:00",
          "2019-10-09T00:00:00",
          "2019-10-10T00:00:00",
          "2019-10-11T00:00:00",
          "2019-10-12T00:00:00",
          "2019-10-13T00:00:00",
          "2019-10-14T00:00:00",
          "2019-10-15T00:00:00",
          "2019-10-16T00:00:00",
          "2019-10-17T00:00:00",
          "2019-10-18T00:00:00",
          "2019-10-19T00:00:00",
          "2019-10-20T00:00:00",
          "2019-10-21T00:00:00",
          "2019-10-22T00:00:00",
          "2019-10-23T00:00:00",
          "2019-10-24T00:00:00",
          "2019-10-25T00:00:00",
          "2019-10-26T00:00:00",
          "2019-10-27T00:00:00",
          "2019-10-28T00:00:00",
          "2019-10-29T00:00:00",
          "2019-10-30T00:00:00",
          "2019-10-31T00:00:00",
          "2019-11-01T00:00:00",
          "2019-11-02T00:00:00",
          "2019-11-03T00:00:00"
         ],
         "xaxis": "x",
         "y": [
          590,
          542,
          461,
          727,
          522,
          417,
          670,
          826,
          787,
          757,
          630,
          588,
          509,
          508,
          823,
          736,
          849,
          734,
          650,
          754,
          709,
          949,
          937,
          931,
          928,
          734,
          622,
          576
         ],
         "yaxis": "y"
        },
        {
         "alignmentgroup": "True",
         "hovertemplate": "source=yandex<br>date=%{x}<br>source_count=%{y}<extra></extra>",
         "legendgroup": "yandex",
         "marker": {
          "color": "#00cc96",
          "pattern": {
           "shape": ""
          }
         },
         "name": "yandex",
         "offsetgroup": "yandex",
         "orientation": "v",
         "showlegend": true,
         "textposition": "auto",
         "type": "bar",
         "x": [
          "2019-10-07T00:00:00",
          "2019-10-08T00:00:00",
          "2019-10-09T00:00:00",
          "2019-10-10T00:00:00",
          "2019-10-11T00:00:00",
          "2019-10-12T00:00:00",
          "2019-10-13T00:00:00",
          "2019-10-14T00:00:00",
          "2019-10-15T00:00:00",
          "2019-10-16T00:00:00",
          "2019-10-17T00:00:00",
          "2019-10-18T00:00:00",
          "2019-10-19T00:00:00",
          "2019-10-20T00:00:00",
          "2019-10-21T00:00:00",
          "2019-10-22T00:00:00",
          "2019-10-23T00:00:00",
          "2019-10-24T00:00:00",
          "2019-10-25T00:00:00",
          "2019-10-26T00:00:00",
          "2019-10-27T00:00:00",
          "2019-10-28T00:00:00",
          "2019-10-29T00:00:00",
          "2019-10-30T00:00:00",
          "2019-10-31T00:00:00",
          "2019-11-01T00:00:00",
          "2019-11-02T00:00:00",
          "2019-11-03T00:00:00"
         ],
         "xaxis": "x",
         "y": [
          1249,
          1366,
          974,
          1032,
          967,
          1049,
          1400,
          1578,
          1319,
          1046,
          1076,
          1372,
          939,
          1074,
          1304,
          1060,
          1422,
          1461,
          1381,
          1441,
          1304,
          1333,
          1332,
          1309,
          1238,
          1096,
          772,
          1392
         ],
         "yaxis": "y"
        }
       ],
       "layout": {
        "barmode": "relative",
        "legend": {
         "title": {
          "text": "source"
         },
         "tracegroupgap": 0
        },
        "margin": {
         "t": 60
        },
        "template": {
         "data": {
          "bar": [
           {
            "error_x": {
             "color": "#2a3f5f"
            },
            "error_y": {
             "color": "#2a3f5f"
            },
            "marker": {
             "line": {
              "color": "#E5ECF6",
              "width": 0.5
             },
             "pattern": {
              "fillmode": "overlay",
              "size": 10,
              "solidity": 0.2
             }
            },
            "type": "bar"
           }
          ],
          "barpolar": [
           {
            "marker": {
             "line": {
              "color": "#E5ECF6",
              "width": 0.5
             },
             "pattern": {
              "fillmode": "overlay",
              "size": 10,
              "solidity": 0.2
             }
            },
            "type": "barpolar"
           }
          ],
          "carpet": [
           {
            "aaxis": {
             "endlinecolor": "#2a3f5f",
             "gridcolor": "white",
             "linecolor": "white",
             "minorgridcolor": "white",
             "startlinecolor": "#2a3f5f"
            },
            "baxis": {
             "endlinecolor": "#2a3f5f",
             "gridcolor": "white",
             "linecolor": "white",
             "minorgridcolor": "white",
             "startlinecolor": "#2a3f5f"
            },
            "type": "carpet"
           }
          ],
          "choropleth": [
           {
            "colorbar": {
             "outlinewidth": 0,
             "ticks": ""
            },
            "type": "choropleth"
           }
          ],
          "contour": [
           {
            "colorbar": {
             "outlinewidth": 0,
             "ticks": ""
            },
            "colorscale": [
             [
              0,
              "#0d0887"
             ],
             [
              0.1111111111111111,
              "#46039f"
             ],
             [
              0.2222222222222222,
              "#7201a8"
             ],
             [
              0.3333333333333333,
              "#9c179e"
             ],
             [
              0.4444444444444444,
              "#bd3786"
             ],
             [
              0.5555555555555556,
              "#d8576b"
             ],
             [
              0.6666666666666666,
              "#ed7953"
             ],
             [
              0.7777777777777778,
              "#fb9f3a"
             ],
             [
              0.8888888888888888,
              "#fdca26"
             ],
             [
              1,
              "#f0f921"
             ]
            ],
            "type": "contour"
           }
          ],
          "contourcarpet": [
           {
            "colorbar": {
             "outlinewidth": 0,
             "ticks": ""
            },
            "type": "contourcarpet"
           }
          ],
          "heatmap": [
           {
            "colorbar": {
             "outlinewidth": 0,
             "ticks": ""
            },
            "colorscale": [
             [
              0,
              "#0d0887"
             ],
             [
              0.1111111111111111,
              "#46039f"
             ],
             [
              0.2222222222222222,
              "#7201a8"
             ],
             [
              0.3333333333333333,
              "#9c179e"
             ],
             [
              0.4444444444444444,
              "#bd3786"
             ],
             [
              0.5555555555555556,
              "#d8576b"
             ],
             [
              0.6666666666666666,
              "#ed7953"
             ],
             [
              0.7777777777777778,
              "#fb9f3a"
             ],
             [
              0.8888888888888888,
              "#fdca26"
             ],
             [
              1,
              "#f0f921"
             ]
            ],
            "type": "heatmap"
           }
          ],
          "heatmapgl": [
           {
            "colorbar": {
             "outlinewidth": 0,
             "ticks": ""
            },
            "colorscale": [
             [
              0,
              "#0d0887"
             ],
             [
              0.1111111111111111,
              "#46039f"
             ],
             [
              0.2222222222222222,
              "#7201a8"
             ],
             [
              0.3333333333333333,
              "#9c179e"
             ],
             [
              0.4444444444444444,
              "#bd3786"
             ],
             [
              0.5555555555555556,
              "#d8576b"
             ],
             [
              0.6666666666666666,
              "#ed7953"
             ],
             [
              0.7777777777777778,
              "#fb9f3a"
             ],
             [
              0.8888888888888888,
              "#fdca26"
             ],
             [
              1,
              "#f0f921"
             ]
            ],
            "type": "heatmapgl"
           }
          ],
          "histogram": [
           {
            "marker": {
             "pattern": {
              "fillmode": "overlay",
              "size": 10,
              "solidity": 0.2
             }
            },
            "type": "histogram"
           }
          ],
          "histogram2d": [
           {
            "colorbar": {
             "outlinewidth": 0,
             "ticks": ""
            },
            "colorscale": [
             [
              0,
              "#0d0887"
             ],
             [
              0.1111111111111111,
              "#46039f"
             ],
             [
              0.2222222222222222,
              "#7201a8"
             ],
             [
              0.3333333333333333,
              "#9c179e"
             ],
             [
              0.4444444444444444,
              "#bd3786"
             ],
             [
              0.5555555555555556,
              "#d8576b"
             ],
             [
              0.6666666666666666,
              "#ed7953"
             ],
             [
              0.7777777777777778,
              "#fb9f3a"
             ],
             [
              0.8888888888888888,
              "#fdca26"
             ],
             [
              1,
              "#f0f921"
             ]
            ],
            "type": "histogram2d"
           }
          ],
          "histogram2dcontour": [
           {
            "colorbar": {
             "outlinewidth": 0,
             "ticks": ""
            },
            "colorscale": [
             [
              0,
              "#0d0887"
             ],
             [
              0.1111111111111111,
              "#46039f"
             ],
             [
              0.2222222222222222,
              "#7201a8"
             ],
             [
              0.3333333333333333,
              "#9c179e"
             ],
             [
              0.4444444444444444,
              "#bd3786"
             ],
             [
              0.5555555555555556,
              "#d8576b"
             ],
             [
              0.6666666666666666,
              "#ed7953"
             ],
             [
              0.7777777777777778,
              "#fb9f3a"
             ],
             [
              0.8888888888888888,
              "#fdca26"
             ],
             [
              1,
              "#f0f921"
             ]
            ],
            "type": "histogram2dcontour"
           }
          ],
          "mesh3d": [
           {
            "colorbar": {
             "outlinewidth": 0,
             "ticks": ""
            },
            "type": "mesh3d"
           }
          ],
          "parcoords": [
           {
            "line": {
             "colorbar": {
              "outlinewidth": 0,
              "ticks": ""
             }
            },
            "type": "parcoords"
           }
          ],
          "pie": [
           {
            "automargin": true,
            "type": "pie"
           }
          ],
          "scatter": [
           {
            "fillpattern": {
             "fillmode": "overlay",
             "size": 10,
             "solidity": 0.2
            },
            "type": "scatter"
           }
          ],
          "scatter3d": [
           {
            "line": {
             "colorbar": {
              "outlinewidth": 0,
              "ticks": ""
             }
            },
            "marker": {
             "colorbar": {
              "outlinewidth": 0,
              "ticks": ""
             }
            },
            "type": "scatter3d"
           }
          ],
          "scattercarpet": [
           {
            "marker": {
             "colorbar": {
              "outlinewidth": 0,
              "ticks": ""
             }
            },
            "type": "scattercarpet"
           }
          ],
          "scattergeo": [
           {
            "marker": {
             "colorbar": {
              "outlinewidth": 0,
              "ticks": ""
             }
            },
            "type": "scattergeo"
           }
          ],
          "scattergl": [
           {
            "marker": {
             "colorbar": {
              "outlinewidth": 0,
              "ticks": ""
             }
            },
            "type": "scattergl"
           }
          ],
          "scattermapbox": [
           {
            "marker": {
             "colorbar": {
              "outlinewidth": 0,
              "ticks": ""
             }
            },
            "type": "scattermapbox"
           }
          ],
          "scatterpolar": [
           {
            "marker": {
             "colorbar": {
              "outlinewidth": 0,
              "ticks": ""
             }
            },
            "type": "scatterpolar"
           }
          ],
          "scatterpolargl": [
           {
            "marker": {
             "colorbar": {
              "outlinewidth": 0,
              "ticks": ""
             }
            },
            "type": "scatterpolargl"
           }
          ],
          "scatterternary": [
           {
            "marker": {
             "colorbar": {
              "outlinewidth": 0,
              "ticks": ""
             }
            },
            "type": "scatterternary"
           }
          ],
          "surface": [
           {
            "colorbar": {
             "outlinewidth": 0,
             "ticks": ""
            },
            "colorscale": [
             [
              0,
              "#0d0887"
             ],
             [
              0.1111111111111111,
              "#46039f"
             ],
             [
              0.2222222222222222,
              "#7201a8"
             ],
             [
              0.3333333333333333,
              "#9c179e"
             ],
             [
              0.4444444444444444,
              "#bd3786"
             ],
             [
              0.5555555555555556,
              "#d8576b"
             ],
             [
              0.6666666666666666,
              "#ed7953"
             ],
             [
              0.7777777777777778,
              "#fb9f3a"
             ],
             [
              0.8888888888888888,
              "#fdca26"
             ],
             [
              1,
              "#f0f921"
             ]
            ],
            "type": "surface"
           }
          ],
          "table": [
           {
            "cells": {
             "fill": {
              "color": "#EBF0F8"
             },
             "line": {
              "color": "white"
             }
            },
            "header": {
             "fill": {
              "color": "#C8D4E3"
             },
             "line": {
              "color": "white"
             }
            },
            "type": "table"
           }
          ]
         },
         "layout": {
          "annotationdefaults": {
           "arrowcolor": "#2a3f5f",
           "arrowhead": 0,
           "arrowwidth": 1
          },
          "autotypenumbers": "strict",
          "coloraxis": {
           "colorbar": {
            "outlinewidth": 0,
            "ticks": ""
           }
          },
          "colorscale": {
           "diverging": [
            [
             0,
             "#8e0152"
            ],
            [
             0.1,
             "#c51b7d"
            ],
            [
             0.2,
             "#de77ae"
            ],
            [
             0.3,
             "#f1b6da"
            ],
            [
             0.4,
             "#fde0ef"
            ],
            [
             0.5,
             "#f7f7f7"
            ],
            [
             0.6,
             "#e6f5d0"
            ],
            [
             0.7,
             "#b8e186"
            ],
            [
             0.8,
             "#7fbc41"
            ],
            [
             0.9,
             "#4d9221"
            ],
            [
             1,
             "#276419"
            ]
           ],
           "sequential": [
            [
             0,
             "#0d0887"
            ],
            [
             0.1111111111111111,
             "#46039f"
            ],
            [
             0.2222222222222222,
             "#7201a8"
            ],
            [
             0.3333333333333333,
             "#9c179e"
            ],
            [
             0.4444444444444444,
             "#bd3786"
            ],
            [
             0.5555555555555556,
             "#d8576b"
            ],
            [
             0.6666666666666666,
             "#ed7953"
            ],
            [
             0.7777777777777778,
             "#fb9f3a"
            ],
            [
             0.8888888888888888,
             "#fdca26"
            ],
            [
             1,
             "#f0f921"
            ]
           ],
           "sequentialminus": [
            [
             0,
             "#0d0887"
            ],
            [
             0.1111111111111111,
             "#46039f"
            ],
            [
             0.2222222222222222,
             "#7201a8"
            ],
            [
             0.3333333333333333,
             "#9c179e"
            ],
            [
             0.4444444444444444,
             "#bd3786"
            ],
            [
             0.5555555555555556,
             "#d8576b"
            ],
            [
             0.6666666666666666,
             "#ed7953"
            ],
            [
             0.7777777777777778,
             "#fb9f3a"
            ],
            [
             0.8888888888888888,
             "#fdca26"
            ],
            [
             1,
             "#f0f921"
            ]
           ]
          },
          "colorway": [
           "#636efa",
           "#EF553B",
           "#00cc96",
           "#ab63fa",
           "#FFA15A",
           "#19d3f3",
           "#FF6692",
           "#B6E880",
           "#FF97FF",
           "#FECB52"
          ],
          "font": {
           "color": "#2a3f5f"
          },
          "geo": {
           "bgcolor": "white",
           "lakecolor": "white",
           "landcolor": "#E5ECF6",
           "showlakes": true,
           "showland": true,
           "subunitcolor": "white"
          },
          "hoverlabel": {
           "align": "left"
          },
          "hovermode": "closest",
          "mapbox": {
           "style": "light"
          },
          "paper_bgcolor": "white",
          "plot_bgcolor": "#E5ECF6",
          "polar": {
           "angularaxis": {
            "gridcolor": "white",
            "linecolor": "white",
            "ticks": ""
           },
           "bgcolor": "#E5ECF6",
           "radialaxis": {
            "gridcolor": "white",
            "linecolor": "white",
            "ticks": ""
           }
          },
          "scene": {
           "xaxis": {
            "backgroundcolor": "#E5ECF6",
            "gridcolor": "white",
            "gridwidth": 2,
            "linecolor": "white",
            "showbackground": true,
            "ticks": "",
            "zerolinecolor": "white"
           },
           "yaxis": {
            "backgroundcolor": "#E5ECF6",
            "gridcolor": "white",
            "gridwidth": 2,
            "linecolor": "white",
            "showbackground": true,
            "ticks": "",
            "zerolinecolor": "white"
           },
           "zaxis": {
            "backgroundcolor": "#E5ECF6",
            "gridcolor": "white",
            "gridwidth": 2,
            "linecolor": "white",
            "showbackground": true,
            "ticks": "",
            "zerolinecolor": "white"
           }
          },
          "shapedefaults": {
           "line": {
            "color": "#2a3f5f"
           }
          },
          "ternary": {
           "aaxis": {
            "gridcolor": "white",
            "linecolor": "white",
            "ticks": ""
           },
           "baxis": {
            "gridcolor": "white",
            "linecolor": "white",
            "ticks": ""
           },
           "bgcolor": "#E5ECF6",
           "caxis": {
            "gridcolor": "white",
            "linecolor": "white",
            "ticks": ""
           }
          },
          "title": {
           "x": 0.05
          },
          "xaxis": {
           "automargin": true,
           "gridcolor": "white",
           "linecolor": "white",
           "ticks": "",
           "title": {
            "standoff": 15
           },
           "zerolinecolor": "white",
           "zerolinewidth": 2
          },
          "yaxis": {
           "automargin": true,
           "gridcolor": "white",
           "linecolor": "white",
           "ticks": "",
           "title": {
            "standoff": 15
           },
           "zerolinecolor": "white",
           "zerolinewidth": 2
          }
         }
        },
        "title": {
         "text": "Распределение данных по дате и источнику"
        },
        "xaxis": {
         "anchor": "y",
         "domain": [
          0,
          1
         ],
         "title": {
          "text": "Дата"
         }
        },
        "yaxis": {
         "anchor": "x",
         "domain": [
          0,
          1
         ],
         "title": {
          "text": "Количество данных"
         }
        }
       }
      },
      "text/html": [
       "<div>                            <div id=\"933822c6-3009-44fd-9b22-73c61ee5e70f\" class=\"plotly-graph-div\" style=\"height:525px; width:100%;\"></div>            <script type=\"text/javascript\">                require([\"plotly\"], function(Plotly) {                    window.PLOTLYENV=window.PLOTLYENV || {};                                    if (document.getElementById(\"933822c6-3009-44fd-9b22-73c61ee5e70f\")) {                    Plotly.newPlot(                        \"933822c6-3009-44fd-9b22-73c61ee5e70f\",                        [{\"alignmentgroup\":\"True\",\"hovertemplate\":\"source=google<br>date=%{x}<br>source_count=%{y}<extra></extra>\",\"legendgroup\":\"google\",\"marker\":{\"color\":\"#636efa\",\"pattern\":{\"shape\":\"\"}},\"name\":\"google\",\"offsetgroup\":\"google\",\"orientation\":\"v\",\"showlegend\":true,\"textposition\":\"auto\",\"x\":[\"2019-10-07T00:00:00\",\"2019-10-08T00:00:00\",\"2019-10-09T00:00:00\",\"2019-10-10T00:00:00\",\"2019-10-11T00:00:00\",\"2019-10-12T00:00:00\",\"2019-10-13T00:00:00\",\"2019-10-14T00:00:00\",\"2019-10-15T00:00:00\",\"2019-10-16T00:00:00\",\"2019-10-17T00:00:00\",\"2019-10-18T00:00:00\",\"2019-10-19T00:00:00\",\"2019-10-20T00:00:00\",\"2019-10-21T00:00:00\",\"2019-10-22T00:00:00\",\"2019-10-23T00:00:00\",\"2019-10-24T00:00:00\",\"2019-10-25T00:00:00\",\"2019-10-26T00:00:00\",\"2019-10-27T00:00:00\",\"2019-10-28T00:00:00\",\"2019-10-29T00:00:00\",\"2019-10-30T00:00:00\",\"2019-10-31T00:00:00\",\"2019-11-01T00:00:00\",\"2019-11-02T00:00:00\",\"2019-11-03T00:00:00\"],\"xaxis\":\"x\",\"y\":[706,591,592,484,541,377,565,630,616,927,912,784,883,562,781,932,1090,838,587,932,848,902,927,637,702,747,459,893],\"yaxis\":\"y\",\"type\":\"bar\"},{\"alignmentgroup\":\"True\",\"hovertemplate\":\"source=other<br>date=%{x}<br>source_count=%{y}<extra></extra>\",\"legendgroup\":\"other\",\"marker\":{\"color\":\"#EF553B\",\"pattern\":{\"shape\":\"\"}},\"name\":\"other\",\"offsetgroup\":\"other\",\"orientation\":\"v\",\"showlegend\":true,\"textposition\":\"auto\",\"x\":[\"2019-10-07T00:00:00\",\"2019-10-08T00:00:00\",\"2019-10-09T00:00:00\",\"2019-10-10T00:00:00\",\"2019-10-11T00:00:00\",\"2019-10-12T00:00:00\",\"2019-10-13T00:00:00\",\"2019-10-14T00:00:00\",\"2019-10-15T00:00:00\",\"2019-10-16T00:00:00\",\"2019-10-17T00:00:00\",\"2019-10-18T00:00:00\",\"2019-10-19T00:00:00\",\"2019-10-20T00:00:00\",\"2019-10-21T00:00:00\",\"2019-10-22T00:00:00\",\"2019-10-23T00:00:00\",\"2019-10-24T00:00:00\",\"2019-10-25T00:00:00\",\"2019-10-26T00:00:00\",\"2019-10-27T00:00:00\",\"2019-10-28T00:00:00\",\"2019-10-29T00:00:00\",\"2019-10-30T00:00:00\",\"2019-10-31T00:00:00\",\"2019-11-01T00:00:00\",\"2019-11-02T00:00:00\",\"2019-11-03T00:00:00\"],\"xaxis\":\"x\",\"y\":[590,542,461,727,522,417,670,826,787,757,630,588,509,508,823,736,849,734,650,754,709,949,937,931,928,734,622,576],\"yaxis\":\"y\",\"type\":\"bar\"},{\"alignmentgroup\":\"True\",\"hovertemplate\":\"source=yandex<br>date=%{x}<br>source_count=%{y}<extra></extra>\",\"legendgroup\":\"yandex\",\"marker\":{\"color\":\"#00cc96\",\"pattern\":{\"shape\":\"\"}},\"name\":\"yandex\",\"offsetgroup\":\"yandex\",\"orientation\":\"v\",\"showlegend\":true,\"textposition\":\"auto\",\"x\":[\"2019-10-07T00:00:00\",\"2019-10-08T00:00:00\",\"2019-10-09T00:00:00\",\"2019-10-10T00:00:00\",\"2019-10-11T00:00:00\",\"2019-10-12T00:00:00\",\"2019-10-13T00:00:00\",\"2019-10-14T00:00:00\",\"2019-10-15T00:00:00\",\"2019-10-16T00:00:00\",\"2019-10-17T00:00:00\",\"2019-10-18T00:00:00\",\"2019-10-19T00:00:00\",\"2019-10-20T00:00:00\",\"2019-10-21T00:00:00\",\"2019-10-22T00:00:00\",\"2019-10-23T00:00:00\",\"2019-10-24T00:00:00\",\"2019-10-25T00:00:00\",\"2019-10-26T00:00:00\",\"2019-10-27T00:00:00\",\"2019-10-28T00:00:00\",\"2019-10-29T00:00:00\",\"2019-10-30T00:00:00\",\"2019-10-31T00:00:00\",\"2019-11-01T00:00:00\",\"2019-11-02T00:00:00\",\"2019-11-03T00:00:00\"],\"xaxis\":\"x\",\"y\":[1249,1366,974,1032,967,1049,1400,1578,1319,1046,1076,1372,939,1074,1304,1060,1422,1461,1381,1441,1304,1333,1332,1309,1238,1096,772,1392],\"yaxis\":\"y\",\"type\":\"bar\"}],                        {\"template\":{\"data\":{\"histogram2dcontour\":[{\"type\":\"histogram2dcontour\",\"colorbar\":{\"outlinewidth\":0,\"ticks\":\"\"},\"colorscale\":[[0.0,\"#0d0887\"],[0.1111111111111111,\"#46039f\"],[0.2222222222222222,\"#7201a8\"],[0.3333333333333333,\"#9c179e\"],[0.4444444444444444,\"#bd3786\"],[0.5555555555555556,\"#d8576b\"],[0.6666666666666666,\"#ed7953\"],[0.7777777777777778,\"#fb9f3a\"],[0.8888888888888888,\"#fdca26\"],[1.0,\"#f0f921\"]]}],\"choropleth\":[{\"type\":\"choropleth\",\"colorbar\":{\"outlinewidth\":0,\"ticks\":\"\"}}],\"histogram2d\":[{\"type\":\"histogram2d\",\"colorbar\":{\"outlinewidth\":0,\"ticks\":\"\"},\"colorscale\":[[0.0,\"#0d0887\"],[0.1111111111111111,\"#46039f\"],[0.2222222222222222,\"#7201a8\"],[0.3333333333333333,\"#9c179e\"],[0.4444444444444444,\"#bd3786\"],[0.5555555555555556,\"#d8576b\"],[0.6666666666666666,\"#ed7953\"],[0.7777777777777778,\"#fb9f3a\"],[0.8888888888888888,\"#fdca26\"],[1.0,\"#f0f921\"]]}],\"heatmap\":[{\"type\":\"heatmap\",\"colorbar\":{\"outlinewidth\":0,\"ticks\":\"\"},\"colorscale\":[[0.0,\"#0d0887\"],[0.1111111111111111,\"#46039f\"],[0.2222222222222222,\"#7201a8\"],[0.3333333333333333,\"#9c179e\"],[0.4444444444444444,\"#bd3786\"],[0.5555555555555556,\"#d8576b\"],[0.6666666666666666,\"#ed7953\"],[0.7777777777777778,\"#fb9f3a\"],[0.8888888888888888,\"#fdca26\"],[1.0,\"#f0f921\"]]}],\"heatmapgl\":[{\"type\":\"heatmapgl\",\"colorbar\":{\"outlinewidth\":0,\"ticks\":\"\"},\"colorscale\":[[0.0,\"#0d0887\"],[0.1111111111111111,\"#46039f\"],[0.2222222222222222,\"#7201a8\"],[0.3333333333333333,\"#9c179e\"],[0.4444444444444444,\"#bd3786\"],[0.5555555555555556,\"#d8576b\"],[0.6666666666666666,\"#ed7953\"],[0.7777777777777778,\"#fb9f3a\"],[0.8888888888888888,\"#fdca26\"],[1.0,\"#f0f921\"]]}],\"contourcarpet\":[{\"type\":\"contourcarpet\",\"colorbar\":{\"outlinewidth\":0,\"ticks\":\"\"}}],\"contour\":[{\"type\":\"contour\",\"colorbar\":{\"outlinewidth\":0,\"ticks\":\"\"},\"colorscale\":[[0.0,\"#0d0887\"],[0.1111111111111111,\"#46039f\"],[0.2222222222222222,\"#7201a8\"],[0.3333333333333333,\"#9c179e\"],[0.4444444444444444,\"#bd3786\"],[0.5555555555555556,\"#d8576b\"],[0.6666666666666666,\"#ed7953\"],[0.7777777777777778,\"#fb9f3a\"],[0.8888888888888888,\"#fdca26\"],[1.0,\"#f0f921\"]]}],\"surface\":[{\"type\":\"surface\",\"colorbar\":{\"outlinewidth\":0,\"ticks\":\"\"},\"colorscale\":[[0.0,\"#0d0887\"],[0.1111111111111111,\"#46039f\"],[0.2222222222222222,\"#7201a8\"],[0.3333333333333333,\"#9c179e\"],[0.4444444444444444,\"#bd3786\"],[0.5555555555555556,\"#d8576b\"],[0.6666666666666666,\"#ed7953\"],[0.7777777777777778,\"#fb9f3a\"],[0.8888888888888888,\"#fdca26\"],[1.0,\"#f0f921\"]]}],\"mesh3d\":[{\"type\":\"mesh3d\",\"colorbar\":{\"outlinewidth\":0,\"ticks\":\"\"}}],\"scatter\":[{\"fillpattern\":{\"fillmode\":\"overlay\",\"size\":10,\"solidity\":0.2},\"type\":\"scatter\"}],\"parcoords\":[{\"type\":\"parcoords\",\"line\":{\"colorbar\":{\"outlinewidth\":0,\"ticks\":\"\"}}}],\"scatterpolargl\":[{\"type\":\"scatterpolargl\",\"marker\":{\"colorbar\":{\"outlinewidth\":0,\"ticks\":\"\"}}}],\"bar\":[{\"error_x\":{\"color\":\"#2a3f5f\"},\"error_y\":{\"color\":\"#2a3f5f\"},\"marker\":{\"line\":{\"color\":\"#E5ECF6\",\"width\":0.5},\"pattern\":{\"fillmode\":\"overlay\",\"size\":10,\"solidity\":0.2}},\"type\":\"bar\"}],\"scattergeo\":[{\"type\":\"scattergeo\",\"marker\":{\"colorbar\":{\"outlinewidth\":0,\"ticks\":\"\"}}}],\"scatterpolar\":[{\"type\":\"scatterpolar\",\"marker\":{\"colorbar\":{\"outlinewidth\":0,\"ticks\":\"\"}}}],\"histogram\":[{\"marker\":{\"pattern\":{\"fillmode\":\"overlay\",\"size\":10,\"solidity\":0.2}},\"type\":\"histogram\"}],\"scattergl\":[{\"type\":\"scattergl\",\"marker\":{\"colorbar\":{\"outlinewidth\":0,\"ticks\":\"\"}}}],\"scatter3d\":[{\"type\":\"scatter3d\",\"line\":{\"colorbar\":{\"outlinewidth\":0,\"ticks\":\"\"}},\"marker\":{\"colorbar\":{\"outlinewidth\":0,\"ticks\":\"\"}}}],\"scattermapbox\":[{\"type\":\"scattermapbox\",\"marker\":{\"colorbar\":{\"outlinewidth\":0,\"ticks\":\"\"}}}],\"scatterternary\":[{\"type\":\"scatterternary\",\"marker\":{\"colorbar\":{\"outlinewidth\":0,\"ticks\":\"\"}}}],\"scattercarpet\":[{\"type\":\"scattercarpet\",\"marker\":{\"colorbar\":{\"outlinewidth\":0,\"ticks\":\"\"}}}],\"carpet\":[{\"aaxis\":{\"endlinecolor\":\"#2a3f5f\",\"gridcolor\":\"white\",\"linecolor\":\"white\",\"minorgridcolor\":\"white\",\"startlinecolor\":\"#2a3f5f\"},\"baxis\":{\"endlinecolor\":\"#2a3f5f\",\"gridcolor\":\"white\",\"linecolor\":\"white\",\"minorgridcolor\":\"white\",\"startlinecolor\":\"#2a3f5f\"},\"type\":\"carpet\"}],\"table\":[{\"cells\":{\"fill\":{\"color\":\"#EBF0F8\"},\"line\":{\"color\":\"white\"}},\"header\":{\"fill\":{\"color\":\"#C8D4E3\"},\"line\":{\"color\":\"white\"}},\"type\":\"table\"}],\"barpolar\":[{\"marker\":{\"line\":{\"color\":\"#E5ECF6\",\"width\":0.5},\"pattern\":{\"fillmode\":\"overlay\",\"size\":10,\"solidity\":0.2}},\"type\":\"barpolar\"}],\"pie\":[{\"automargin\":true,\"type\":\"pie\"}]},\"layout\":{\"autotypenumbers\":\"strict\",\"colorway\":[\"#636efa\",\"#EF553B\",\"#00cc96\",\"#ab63fa\",\"#FFA15A\",\"#19d3f3\",\"#FF6692\",\"#B6E880\",\"#FF97FF\",\"#FECB52\"],\"font\":{\"color\":\"#2a3f5f\"},\"hovermode\":\"closest\",\"hoverlabel\":{\"align\":\"left\"},\"paper_bgcolor\":\"white\",\"plot_bgcolor\":\"#E5ECF6\",\"polar\":{\"bgcolor\":\"#E5ECF6\",\"angularaxis\":{\"gridcolor\":\"white\",\"linecolor\":\"white\",\"ticks\":\"\"},\"radialaxis\":{\"gridcolor\":\"white\",\"linecolor\":\"white\",\"ticks\":\"\"}},\"ternary\":{\"bgcolor\":\"#E5ECF6\",\"aaxis\":{\"gridcolor\":\"white\",\"linecolor\":\"white\",\"ticks\":\"\"},\"baxis\":{\"gridcolor\":\"white\",\"linecolor\":\"white\",\"ticks\":\"\"},\"caxis\":{\"gridcolor\":\"white\",\"linecolor\":\"white\",\"ticks\":\"\"}},\"coloraxis\":{\"colorbar\":{\"outlinewidth\":0,\"ticks\":\"\"}},\"colorscale\":{\"sequential\":[[0.0,\"#0d0887\"],[0.1111111111111111,\"#46039f\"],[0.2222222222222222,\"#7201a8\"],[0.3333333333333333,\"#9c179e\"],[0.4444444444444444,\"#bd3786\"],[0.5555555555555556,\"#d8576b\"],[0.6666666666666666,\"#ed7953\"],[0.7777777777777778,\"#fb9f3a\"],[0.8888888888888888,\"#fdca26\"],[1.0,\"#f0f921\"]],\"sequentialminus\":[[0.0,\"#0d0887\"],[0.1111111111111111,\"#46039f\"],[0.2222222222222222,\"#7201a8\"],[0.3333333333333333,\"#9c179e\"],[0.4444444444444444,\"#bd3786\"],[0.5555555555555556,\"#d8576b\"],[0.6666666666666666,\"#ed7953\"],[0.7777777777777778,\"#fb9f3a\"],[0.8888888888888888,\"#fdca26\"],[1.0,\"#f0f921\"]],\"diverging\":[[0,\"#8e0152\"],[0.1,\"#c51b7d\"],[0.2,\"#de77ae\"],[0.3,\"#f1b6da\"],[0.4,\"#fde0ef\"],[0.5,\"#f7f7f7\"],[0.6,\"#e6f5d0\"],[0.7,\"#b8e186\"],[0.8,\"#7fbc41\"],[0.9,\"#4d9221\"],[1,\"#276419\"]]},\"xaxis\":{\"gridcolor\":\"white\",\"linecolor\":\"white\",\"ticks\":\"\",\"title\":{\"standoff\":15},\"zerolinecolor\":\"white\",\"automargin\":true,\"zerolinewidth\":2},\"yaxis\":{\"gridcolor\":\"white\",\"linecolor\":\"white\",\"ticks\":\"\",\"title\":{\"standoff\":15},\"zerolinecolor\":\"white\",\"automargin\":true,\"zerolinewidth\":2},\"scene\":{\"xaxis\":{\"backgroundcolor\":\"#E5ECF6\",\"gridcolor\":\"white\",\"linecolor\":\"white\",\"showbackground\":true,\"ticks\":\"\",\"zerolinecolor\":\"white\",\"gridwidth\":2},\"yaxis\":{\"backgroundcolor\":\"#E5ECF6\",\"gridcolor\":\"white\",\"linecolor\":\"white\",\"showbackground\":true,\"ticks\":\"\",\"zerolinecolor\":\"white\",\"gridwidth\":2},\"zaxis\":{\"backgroundcolor\":\"#E5ECF6\",\"gridcolor\":\"white\",\"linecolor\":\"white\",\"showbackground\":true,\"ticks\":\"\",\"zerolinecolor\":\"white\",\"gridwidth\":2}},\"shapedefaults\":{\"line\":{\"color\":\"#2a3f5f\"}},\"annotationdefaults\":{\"arrowcolor\":\"#2a3f5f\",\"arrowhead\":0,\"arrowwidth\":1},\"geo\":{\"bgcolor\":\"white\",\"landcolor\":\"#E5ECF6\",\"subunitcolor\":\"white\",\"showland\":true,\"showlakes\":true,\"lakecolor\":\"white\"},\"title\":{\"x\":0.05},\"mapbox\":{\"style\":\"light\"}}},\"xaxis\":{\"anchor\":\"y\",\"domain\":[0.0,1.0],\"title\":{\"text\":\"\\u0414\\u0430\\u0442\\u0430\"}},\"yaxis\":{\"anchor\":\"x\",\"domain\":[0.0,1.0],\"title\":{\"text\":\"\\u041a\\u043e\\u043b\\u0438\\u0447\\u0435\\u0441\\u0442\\u0432\\u043e \\u0434\\u0430\\u043d\\u043d\\u044b\\u0445\"}},\"legend\":{\"title\":{\"text\":\"source\"},\"tracegroupgap\":0},\"margin\":{\"t\":60},\"barmode\":\"relative\",\"title\":{\"text\":\"\\u0420\\u0430\\u0441\\u043f\\u0440\\u0435\\u0434\\u0435\\u043b\\u0435\\u043d\\u0438\\u0435 \\u0434\\u0430\\u043d\\u043d\\u044b\\u0445 \\u043f\\u043e \\u0434\\u0430\\u0442\\u0435 \\u0438 \\u0438\\u0441\\u0442\\u043e\\u0447\\u043d\\u0438\\u043a\\u0443\"}},                        {\"responsive\": true}                    ).then(function(){\n",
       "                            \n",
       "var gd = document.getElementById('933822c6-3009-44fd-9b22-73c61ee5e70f');\n",
       "var x = new MutationObserver(function (mutations, observer) {{\n",
       "        var display = window.getComputedStyle(gd).display;\n",
       "        if (!display || display === 'none') {{\n",
       "            console.log([gd, 'removed!']);\n",
       "            Plotly.purge(gd);\n",
       "            observer.disconnect();\n",
       "        }}\n",
       "}});\n",
       "\n",
       "// Listen for the removal of the full notebook cells\n",
       "var notebookContainer = gd.closest('#notebook-container');\n",
       "if (notebookContainer) {{\n",
       "    x.observe(notebookContainer, {childList: true});\n",
       "}}\n",
       "\n",
       "// Listen for the clearing of the current output cell\n",
       "var outputEl = gd.closest('.output');\n",
       "if (outputEl) {{\n",
       "    x.observe(outputEl, {childList: true});\n",
       "}}\n",
       "\n",
       "                        })                };                });            </script>        </div>"
      ]
     },
     "metadata": {},
     "output_type": "display_data"
    }
   ],
   "source": [
    "# Построим график по источникам в разрезе дат, используя функцию\n",
    "bar_chart(source_grouped, 'date', 'source_count', color='source', \n",
    "          title='Распределение данных по дате и источнику', xaxis_title='Дата', yaxis_title='Количество данных')"
   ]
  },
  {
   "cell_type": "markdown",
   "metadata": {},
   "source": [
    "Как мы видим по графику, Яндекс являлся стабильным лидером-источником установки приложения в течение всего периода времени. Гугл не показывает серьезной разницы с другими источниками, в какие-то дни скачиваний было больше с Гугла, а в иное время его обгоняли другие источники."
   ]
  },
  {
   "cell_type": "markdown",
   "metadata": {},
   "source": [
    "### Количество событий на каждого пользователя"
   ]
  },
  {
   "cell_type": "markdown",
   "metadata": {},
   "source": [
    "Теперь посмотрим на статистические показатели по пользователям и их событиям. Уберем из данных для этого анализа событие \"увидел рекомендованные объявления\", так как это действие совершается автоматически при входе."
   ]
  },
  {
   "cell_type": "code",
   "execution_count": 24,
   "metadata": {},
   "outputs": [],
   "source": [
    "# Посчитаем количество событий на каждую дату\n",
    "eventcnt = data.groupby(['user_id'])[['event_name']].agg({'event_name':'count'}).reset_index()"
   ]
  },
  {
   "cell_type": "code",
   "execution_count": 25,
   "metadata": {},
   "outputs": [
    {
     "data": {
      "application/vnd.plotly.v1+json": {
       "config": {
        "plotlyServerURL": "https://plot.ly"
       },
       "data": [
        {
         "alignmentgroup": "True",
         "bingroup": "x",
         "hovertemplate": "variable=event_name<br>value=%{x}<br>count=%{y}<extra></extra>",
         "legendgroup": "event_name",
         "marker": {
          "color": "#636efa",
          "pattern": {
           "shape": ""
          }
         },
         "name": "event_name",
         "nbinsx": 85,
         "offsetgroup": "event_name",
         "orientation": "v",
         "showlegend": true,
         "type": "histogram",
         "x": [
          35,
          71,
          10,
          32,
          8,
          11,
          5,
          5,
          6,
          5,
          18,
          9,
          8,
          15,
          6,
          5,
          7,
          13,
          2,
          11,
          2,
          30,
          15,
          26,
          5,
          5,
          7,
          41,
          4,
          3,
          6,
          12,
          8,
          15,
          10,
          3,
          23,
          28,
          27,
          3,
          8,
          10,
          11,
          3,
          40,
          15,
          22,
          6,
          15,
          3,
          24,
          10,
          7,
          13,
          28,
          6,
          16,
          9,
          12,
          5,
          5,
          17,
          32,
          26,
          13,
          4,
          20,
          110,
          15,
          19,
          170,
          7,
          6,
          77,
          16,
          6,
          33,
          28,
          18,
          4,
          2,
          23,
          5,
          18,
          35,
          4,
          9,
          6,
          6,
          13,
          12,
          97,
          7,
          7,
          6,
          15,
          105,
          4,
          11,
          5,
          5,
          18,
          12,
          4,
          2,
          18,
          16,
          11,
          138,
          9,
          4,
          9,
          14,
          12,
          87,
          7,
          12,
          18,
          1,
          24,
          11,
          43,
          97,
          5,
          1,
          4,
          20,
          13,
          13,
          17,
          17,
          4,
          5,
          9,
          7,
          21,
          79,
          9,
          19,
          28,
          19,
          17,
          7,
          37,
          18,
          27,
          6,
          2,
          6,
          15,
          4,
          38,
          10,
          6,
          17,
          19,
          8,
          4,
          13,
          15,
          16,
          15,
          46,
          3,
          6,
          6,
          7,
          5,
          12,
          9,
          43,
          5,
          7,
          19,
          15,
          6,
          7,
          54,
          14,
          10,
          19,
          65,
          14,
          74,
          30,
          12,
          12,
          5,
          30,
          39,
          9,
          17,
          8,
          6,
          14,
          55,
          16,
          5,
          6,
          5,
          4,
          4,
          1,
          2,
          2,
          2,
          55,
          35,
          7,
          10,
          48,
          8,
          3,
          6,
          30,
          60,
          35,
          4,
          6,
          6,
          24,
          15,
          4,
          29,
          10,
          4,
          5,
          61,
          4,
          5,
          137,
          8,
          32,
          5,
          16,
          162,
          4,
          4,
          21,
          8,
          10,
          6,
          1,
          3,
          6,
          7,
          15,
          9,
          7,
          4,
          10,
          5,
          6,
          2,
          40,
          4,
          19,
          3,
          6,
          5,
          12,
          2,
          4,
          5,
          9,
          23,
          5,
          12,
          37,
          4,
          1,
          28,
          6,
          48,
          19,
          17,
          79,
          61,
          33,
          12,
          8,
          5,
          4,
          7,
          11,
          13,
          24,
          23,
          11,
          7,
          12,
          4,
          11,
          19,
          17,
          5,
          4,
          8,
          4,
          22,
          18,
          5,
          9,
          17,
          5,
          10,
          7,
          9,
          9,
          6,
          4,
          6,
          20,
          5,
          76,
          5,
          14,
          4,
          10,
          67,
          13,
          15,
          7,
          9,
          5,
          6,
          9,
          5,
          3,
          11,
          5,
          10,
          5,
          17,
          1,
          15,
          9,
          5,
          6,
          11,
          5,
          8,
          1,
          7,
          15,
          21,
          12,
          3,
          6,
          7,
          10,
          4,
          5,
          3,
          2,
          37,
          12,
          5,
          17,
          10,
          114,
          8,
          10,
          63,
          8,
          5,
          6,
          10,
          47,
          4,
          6,
          11,
          19,
          29,
          9,
          4,
          7,
          7,
          10,
          22,
          11,
          5,
          9,
          16,
          6,
          27,
          10,
          7,
          5,
          7,
          12,
          5,
          7,
          14,
          21,
          20,
          15,
          20,
          9,
          6,
          29,
          265,
          10,
          11,
          5,
          9,
          10,
          8,
          5,
          14,
          13,
          9,
          14,
          5,
          7,
          25,
          15,
          17,
          13,
          37,
          5,
          71,
          22,
          6,
          8,
          45,
          8,
          5,
          22,
          3,
          4,
          9,
          35,
          4,
          36,
          36,
          4,
          16,
          7,
          17,
          22,
          9,
          11,
          11,
          8,
          37,
          9,
          4,
          9,
          5,
          11,
          3,
          3,
          38,
          6,
          2,
          9,
          99,
          15,
          10,
          1,
          59,
          12,
          9,
          6,
          20,
          8,
          12,
          5,
          6,
          5,
          8,
          33,
          6,
          14,
          65,
          5,
          6,
          7,
          38,
          6,
          44,
          21,
          4,
          41,
          5,
          85,
          4,
          8,
          35,
          10,
          31,
          13,
          6,
          6,
          12,
          14,
          6,
          44,
          7,
          5,
          14,
          5,
          4,
          2,
          8,
          6,
          7,
          1,
          76,
          5,
          14,
          8,
          18,
          7,
          9,
          50,
          26,
          18,
          8,
          10,
          12,
          47,
          2,
          57,
          27,
          5,
          3,
          4,
          8,
          13,
          29,
          8,
          32,
          6,
          7,
          30,
          10,
          2,
          22,
          7,
          10,
          4,
          12,
          7,
          17,
          5,
          7,
          27,
          25,
          8,
          15,
          4,
          4,
          11,
          13,
          5,
          2,
          39,
          37,
          17,
          16,
          1,
          15,
          11,
          8,
          6,
          11,
          53,
          4,
          5,
          22,
          5,
          250,
          7,
          49,
          8,
          5,
          24,
          12,
          11,
          11,
          4,
          24,
          12,
          74,
          9,
          30,
          7,
          10,
          5,
          50,
          12,
          14,
          20,
          8,
          5,
          4,
          64,
          8,
          12,
          9,
          7,
          5,
          14,
          5,
          8,
          26,
          4,
          25,
          9,
          4,
          16,
          8,
          7,
          400,
          5,
          10,
          6,
          15,
          25,
          9,
          17,
          65,
          4,
          3,
          13,
          8,
          4,
          6,
          8,
          5,
          44,
          5,
          5,
          8,
          15,
          6,
          7,
          28,
          4,
          10,
          5,
          37,
          4,
          25,
          4,
          10,
          8,
          7,
          5,
          6,
          13,
          7,
          7,
          5,
          4,
          39,
          30,
          21,
          9,
          9,
          7,
          4,
          5,
          14,
          34,
          20,
          7,
          21,
          5,
          2,
          74,
          4,
          5,
          8,
          6,
          8,
          129,
          4,
          16,
          9,
          11,
          37,
          35,
          16,
          8,
          62,
          121,
          9,
          5,
          8,
          10,
          8,
          17,
          11,
          41,
          5,
          4,
          5,
          4,
          14,
          4,
          13,
          19,
          17,
          1,
          20,
          4,
          22,
          6,
          8,
          64,
          20,
          3,
          13,
          5,
          8,
          5,
          13,
          20,
          9,
          25,
          15,
          10,
          7,
          9,
          4,
          4,
          9,
          17,
          4,
          13,
          32,
          5,
          1,
          12,
          12,
          10,
          23,
          308,
          5,
          6,
          7,
          13,
          6,
          38,
          5,
          6,
          39,
          26,
          30,
          11,
          16,
          7,
          14,
          5,
          14,
          17,
          10,
          53,
          12,
          18,
          11,
          18,
          21,
          14,
          5,
          12,
          14,
          13,
          4,
          7,
          4,
          73,
          68,
          7,
          6,
          7,
          14,
          16,
          13,
          7,
          9,
          15,
          17,
          6,
          52,
          10,
          4,
          19,
          8,
          12,
          9,
          40,
          11,
          3,
          12,
          7,
          1,
          186,
          5,
          7,
          7,
          35,
          5,
          7,
          5,
          14,
          4,
          1,
          34,
          57,
          42,
          38,
          8,
          60,
          9,
          5,
          7,
          10,
          5,
          4,
          28,
          10,
          59,
          6,
          11,
          7,
          8,
          4,
          40,
          9,
          14,
          8,
          3,
          66,
          16,
          1,
          6,
          10,
          7,
          21,
          3,
          14,
          10,
          34,
          17,
          111,
          1,
          31,
          7,
          15,
          5,
          4,
          8,
          6,
          13,
          12,
          26,
          353,
          4,
          40,
          17,
          3,
          6,
          22,
          27,
          17,
          14,
          4,
          5,
          15,
          16,
          85,
          9,
          9,
          8,
          7,
          10,
          22,
          2,
          24,
          15,
          6,
          11,
          6,
          3,
          6,
          7,
          4,
          4,
          11,
          14,
          8,
          28,
          5,
          14,
          4,
          13,
          17,
          5,
          7,
          14,
          8,
          11,
          4,
          21,
          8,
          22,
          55,
          7,
          7,
          163,
          3,
          10,
          1,
          6,
          64,
          21,
          16,
          32,
          75,
          13,
          5,
          75,
          5,
          25,
          11,
          11,
          21,
          9,
          5,
          5,
          12,
          16,
          33,
          4,
          5,
          16,
          9,
          5,
          9,
          45,
          30,
          65,
          10,
          24,
          5,
          22,
          18,
          6,
          5,
          8,
          30,
          3,
          9,
          6,
          25,
          6,
          7,
          29,
          14,
          6,
          6,
          6,
          41,
          10,
          12,
          7,
          2,
          12,
          19,
          2,
          47,
          14,
          14,
          7,
          10,
          8,
          23,
          26,
          5,
          20,
          2,
          4,
          15,
          52,
          10,
          1,
          10,
          23,
          19,
          5,
          5,
          10,
          5,
          3,
          13,
          7,
          6,
          4,
          6,
          15,
          7,
          1,
          5,
          19,
          5,
          9,
          4,
          14,
          13,
          3,
          12,
          1,
          8,
          7,
          3,
          22,
          14,
          25,
          4,
          5,
          14,
          4,
          19,
          4,
          12,
          7,
          69,
          5,
          8,
          15,
          5,
          6,
          2,
          5,
          11,
          4,
          5,
          19,
          10,
          19,
          5,
          7,
          10,
          6,
          5,
          4,
          5,
          14,
          10,
          3,
          7,
          6,
          4,
          1,
          12,
          32,
          4,
          6,
          15,
          15,
          4,
          8,
          4,
          12,
          8,
          5,
          15,
          8,
          17,
          4,
          5,
          13,
          9,
          11,
          5,
          76,
          9,
          53,
          2,
          67,
          5,
          1,
          20,
          4,
          20,
          4,
          20,
          8,
          61,
          49,
          7,
          6,
          8,
          7,
          10,
          6,
          18,
          6,
          7,
          6,
          7,
          3,
          30,
          3,
          9,
          4,
          8,
          25,
          8,
          7,
          50,
          16,
          4,
          8,
          3,
          12,
          5,
          2,
          15,
          4,
          7,
          4,
          29,
          20,
          4,
          20,
          6,
          12,
          15,
          18,
          17,
          10,
          4,
          5,
          5,
          10,
          17,
          6,
          7,
          6,
          62,
          11,
          6,
          6,
          9,
          26,
          27,
          7,
          31,
          29,
          7,
          5,
          2,
          7,
          4,
          5,
          6,
          132,
          15,
          9,
          1,
          15,
          12,
          22,
          20,
          5,
          4,
          22,
          4,
          7,
          10,
          6,
          9,
          40,
          5,
          7,
          4,
          2,
          7,
          3,
          4,
          6,
          43,
          65,
          5,
          7,
          3,
          44,
          3,
          5,
          6,
          10,
          7,
          9,
          8,
          3,
          161,
          5,
          11,
          12,
          5,
          7,
          10,
          47,
          13,
          12,
          44,
          42,
          29,
          6,
          17,
          4,
          6,
          15,
          13,
          8,
          19,
          11,
          45,
          12,
          9,
          6,
          5,
          10,
          3,
          4,
          19,
          10,
          7,
          8,
          33,
          5,
          3,
          23,
          5,
          35,
          36,
          23,
          13,
          17,
          11,
          15,
          43,
          5,
          21,
          64,
          7,
          42,
          34,
          11,
          10,
          6,
          3,
          4,
          2,
          5,
          4,
          5,
          10,
          42,
          34,
          8,
          4,
          17,
          31,
          6,
          79,
          11,
          10,
          8,
          151,
          11,
          5,
          11,
          8,
          9,
          10,
          26,
          4,
          20,
          30,
          15,
          4,
          6,
          10,
          5,
          4,
          6,
          7,
          7,
          6,
          7,
          4,
          4,
          6,
          3,
          5,
          4,
          4,
          15,
          9,
          8,
          2,
          4,
          5,
          24,
          15,
          4,
          8,
          28,
          6,
          15,
          10,
          18,
          7,
          37,
          4,
          4,
          23,
          8,
          11,
          16,
          10,
          8,
          5,
          5,
          18,
          5,
          4,
          5,
          30,
          12,
          39,
          16,
          6,
          24,
          26,
          28,
          87,
          8,
          11,
          4,
          32,
          9,
          5,
          2,
          17,
          22,
          40,
          7,
          93,
          6,
          6,
          4,
          23,
          3,
          4,
          41,
          25,
          2,
          12,
          4,
          5,
          11,
          3,
          21,
          5,
          16,
          7,
          8,
          5,
          6,
          62,
          45,
          13,
          28,
          4,
          14,
          20,
          7,
          9,
          19,
          17,
          6,
          3,
          4,
          21,
          12,
          8,
          17,
          6,
          6,
          2,
          10,
          5,
          8,
          6,
          18,
          13,
          5,
          5,
          50,
          3,
          4,
          18,
          10,
          7,
          12,
          5,
          10,
          7,
          22,
          7,
          4,
          10,
          7,
          11,
          38,
          43,
          6,
          1,
          4,
          8,
          28,
          23,
          11,
          26,
          16,
          3,
          5,
          7,
          14,
          1,
          10,
          6,
          8,
          11,
          14,
          11,
          7,
          5,
          5,
          57,
          5,
          5,
          5,
          111,
          24,
          6,
          5,
          53,
          10,
          12,
          29,
          7,
          27,
          4,
          16,
          6,
          6,
          40,
          12,
          48,
          14,
          7,
          15,
          1,
          14,
          4,
          42,
          5,
          11,
          11,
          4,
          11,
          5,
          4,
          76,
          11,
          5,
          10,
          82,
          12,
          19,
          7,
          7,
          6,
          5,
          11,
          42,
          5,
          12,
          3,
          16,
          16,
          29,
          4,
          12,
          23,
          6,
          29,
          26,
          6,
          3,
          5,
          33,
          4,
          12,
          68,
          7,
          2,
          15,
          16,
          8,
          12,
          9,
          14,
          6,
          7,
          11,
          1,
          178,
          5,
          20,
          10,
          53,
          8,
          14,
          12,
          5,
          4,
          9,
          5,
          7,
          10,
          4,
          2,
          12,
          15,
          10,
          8,
          23,
          5,
          4,
          27,
          4,
          22,
          79,
          5,
          10,
          8,
          1,
          7,
          11,
          4,
          5,
          11,
          13,
          13,
          121,
          4,
          54,
          5,
          22,
          15,
          18,
          10,
          7,
          6,
          9,
          14,
          16,
          22,
          119,
          3,
          5,
          13,
          18,
          40,
          6,
          35,
          4,
          5,
          1,
          8,
          6,
          8,
          10,
          5,
          6,
          6,
          12,
          22,
          5,
          4,
          5,
          10,
          4,
          6,
          11,
          5,
          34,
          4,
          45,
          15,
          5,
          11,
          7,
          6,
          42,
          15,
          46,
          10,
          6,
          5,
          12,
          37,
          9,
          5,
          5,
          13,
          13,
          5,
          30,
          7,
          10,
          8,
          23,
          1,
          11,
          79,
          5,
          5,
          10,
          4,
          31,
          9,
          12,
          12,
          5,
          5,
          6,
          8,
          127,
          13,
          22,
          5,
          5,
          4,
          14,
          9,
          8,
          3,
          7,
          5,
          10,
          25,
          4,
          19,
          72,
          8,
          14,
          15,
          5,
          76,
          68,
          7,
          25,
          9,
          4,
          7,
          7,
          11,
          7,
          9,
          25,
          62,
          9,
          7,
          8,
          8,
          19,
          3,
          7,
          21,
          78,
          10,
          6,
          6,
          34,
          15,
          10,
          5,
          11,
          23,
          13,
          8,
          39,
          5,
          8,
          40,
          30,
          11,
          12,
          3,
          9,
          5,
          8,
          4,
          6,
          36,
          4,
          5,
          7,
          13,
          19,
          4,
          6,
          6,
          4,
          7,
          7,
          17,
          4,
          42,
          4,
          13,
          17,
          1,
          20,
          9,
          5,
          3,
          26,
          9,
          41,
          31,
          11,
          3,
          8,
          11,
          6,
          22,
          45,
          7,
          18,
          42,
          4,
          31,
          10,
          8,
          7,
          5,
          11,
          9,
          3,
          22,
          12,
          26,
          10,
          10,
          12,
          5,
          11,
          20,
          15,
          8,
          6,
          181,
          175,
          1,
          9,
          1,
          7,
          13,
          3,
          6,
          27,
          7,
          5,
          6,
          4,
          170,
          7,
          59,
          4,
          12,
          15,
          14,
          13,
          23,
          7,
          62,
          7,
          2,
          20,
          10,
          52,
          6,
          5,
          16,
          14,
          10,
          24,
          8,
          1,
          4,
          8,
          7,
          61,
          4,
          5,
          75,
          6,
          4,
          4,
          15,
          18,
          4,
          12,
          13,
          6,
          18,
          22,
          2,
          14,
          19,
          5,
          5,
          16,
          20,
          2,
          10,
          7,
          4,
          5,
          18,
          27,
          5,
          26,
          15,
          8,
          4,
          22,
          8,
          4,
          2,
          72,
          4,
          9,
          5,
          8,
          17,
          7,
          13,
          24,
          11,
          6,
          24,
          12,
          23,
          6,
          7,
          3,
          5,
          46,
          4,
          5,
          5,
          5,
          4,
          89,
          10,
          28,
          22,
          9,
          5,
          18,
          11,
          6,
          4,
          64,
          4,
          1,
          3,
          6,
          6,
          24,
          9,
          16,
          6,
          30,
          17,
          7,
          11,
          13,
          4,
          61,
          16,
          4,
          3,
          5,
          5,
          8,
          23,
          4,
          4,
          6,
          5,
          6,
          99,
          10,
          10,
          3,
          6,
          4,
          5,
          41,
          4,
          70,
          10,
          5,
          9,
          17,
          6,
          9,
          4,
          2,
          15,
          13,
          13,
          93,
          8,
          23,
          5,
          23,
          8,
          7,
          6,
          3,
          2,
          9,
          11,
          4,
          2,
          7,
          34,
          6,
          6,
          9,
          33,
          74,
          7,
          15,
          5,
          8,
          5,
          11,
          5,
          17,
          8,
          11,
          11,
          6,
          4,
          8,
          8,
          43,
          14,
          9,
          51,
          9,
          5,
          9,
          9,
          3,
          2,
          9,
          18,
          4,
          23,
          5,
          6,
          10,
          8,
          9,
          5,
          11,
          5,
          5,
          3,
          17,
          4,
          4,
          65,
          28,
          8,
          5,
          15,
          32,
          11,
          5,
          31,
          6,
          9,
          24,
          34,
          43,
          59,
          3,
          9,
          4,
          30,
          5,
          11,
          32,
          5,
          6,
          72,
          5,
          4,
          14,
          5,
          7,
          23,
          15,
          7,
          1,
          21,
          8,
          8,
          14,
          124,
          5,
          8,
          75,
          6,
          6,
          8,
          11,
          4,
          6,
          8,
          10,
          7,
          4,
          8,
          10,
          49,
          5,
          3,
          19,
          37,
          9,
          69,
          5,
          24,
          31,
          5,
          3,
          13,
          7,
          5,
          8,
          8,
          9,
          10,
          8,
          6,
          41,
          17,
          10,
          8,
          4,
          62,
          10,
          5,
          6,
          12,
          5,
          9,
          7,
          6,
          28,
          8,
          31,
          8,
          2,
          6,
          6,
          6,
          4,
          6,
          33,
          27,
          6,
          18,
          7,
          28,
          48,
          12,
          5,
          5,
          4,
          5,
          19,
          11,
          4,
          50,
          7,
          17,
          4,
          6,
          57,
          2,
          14,
          7,
          9,
          23,
          44,
          13,
          5,
          26,
          5,
          4,
          4,
          53,
          8,
          5,
          29,
          27,
          30,
          1,
          26,
          8,
          1,
          6,
          21,
          10,
          16,
          4,
          11,
          9,
          12,
          5,
          8,
          9,
          20,
          7,
          13,
          5,
          7,
          45,
          7,
          16,
          18,
          20,
          6,
          4,
          9,
          4,
          38,
          46,
          11,
          4,
          4,
          15,
          16,
          16,
          5,
          10,
          7,
          3,
          80,
          6,
          4,
          5,
          5,
          12,
          14,
          7,
          107,
          13,
          80,
          9,
          1,
          7,
          30,
          5,
          6,
          8,
          3,
          26,
          19,
          26,
          14,
          3,
          58,
          6,
          5,
          5,
          25,
          4,
          15,
          18,
          14,
          19,
          162,
          19,
          6,
          7,
          12,
          18,
          27,
          4,
          4,
          6,
          4,
          9,
          15,
          4,
          12,
          19,
          5,
          43,
          4,
          7,
          5,
          6,
          9,
          47,
          3,
          6,
          12,
          34,
          9,
          24,
          8,
          15,
          94,
          6,
          12,
          9,
          5,
          5,
          21,
          2,
          4,
          6,
          9,
          10,
          5,
          8,
          14,
          5,
          93,
          4,
          33,
          13,
          12,
          55,
          7,
          13,
          6,
          13,
          5,
          6,
          17,
          10,
          29,
          21,
          6,
          5,
          5,
          7,
          7,
          4,
          3,
          4,
          151,
          47,
          119,
          6,
          24,
          8,
          85,
          10,
          4,
          5,
          15,
          8,
          15,
          10,
          11,
          6,
          11,
          5,
          4,
          6,
          7,
          4,
          4,
          38,
          10,
          4,
          3,
          6,
          8,
          15,
          3,
          22,
          8,
          7,
          28,
          6,
          6,
          6,
          5,
          12,
          6,
          9,
          27,
          8,
          5,
          28,
          5,
          16,
          11,
          4,
          52,
          4,
          39,
          5,
          5,
          8,
          8,
          7,
          71,
          8,
          6,
          16,
          5,
          8,
          33,
          16,
          19,
          16,
          17,
          13,
          33,
          2,
          5,
          3,
          5,
          5,
          8,
          7,
          2,
          4,
          22,
          3,
          1,
          20,
          14,
          9,
          8,
          4,
          12,
          36,
          96,
          23,
          5,
          15,
          1,
          5,
          12,
          7,
          47,
          20,
          5,
          9,
          19,
          14,
          15,
          5,
          4,
          33,
          5,
          4,
          36,
          5,
          22,
          5,
          10,
          6,
          16,
          59,
          7,
          1,
          20,
          6,
          8,
          6,
          6,
          9,
          19,
          8,
          3,
          10,
          8,
          28,
          6,
          30,
          7,
          6,
          8,
          3,
          21,
          31,
          9,
          5,
          70,
          8,
          11,
          7,
          43,
          6,
          1,
          28,
          12,
          14,
          4,
          49,
          5,
          11,
          4,
          11,
          14,
          5,
          6,
          28,
          25,
          16,
          1,
          3,
          9,
          7,
          11,
          11,
          2,
          5,
          3,
          8,
          9,
          5,
          2,
          6,
          11,
          5,
          7,
          5,
          4,
          21,
          8,
          28,
          6,
          26,
          11,
          15,
          6,
          4,
          22,
          5,
          13,
          3,
          7,
          7,
          5,
          5,
          5,
          12,
          2,
          18,
          4,
          2,
          7,
          5,
          22,
          7,
          12,
          5,
          5,
          9,
          8,
          7,
          17,
          20,
          4,
          9,
          29,
          6,
          9,
          15,
          247,
          4,
          10,
          20,
          9,
          15,
          9,
          7,
          54,
          9,
          21,
          4,
          5,
          43,
          19,
          86,
          4,
          4,
          52,
          15,
          10,
          5,
          3,
          38,
          34,
          12,
          21,
          37,
          11,
          25,
          15,
          14,
          4,
          41,
          7,
          4,
          54,
          7,
          63,
          13,
          149,
          90,
          9,
          13,
          4,
          8,
          17,
          14,
          7,
          5,
          12,
          20,
          9,
          18,
          4,
          17,
          17,
          7,
          46,
          10,
          5,
          25,
          15,
          6,
          11,
          32,
          35,
          5,
          28,
          12,
          5,
          4,
          11,
          9,
          15,
          3,
          6,
          2,
          27,
          8,
          14,
          12,
          18,
          18,
          14,
          4,
          26,
          119,
          2,
          42,
          19,
          19,
          15,
          11,
          18,
          8,
          8,
          18,
          8,
          17,
          13,
          249,
          3,
          10,
          15,
          5,
          6,
          6,
          17,
          62,
          7,
          18,
          5,
          4,
          4,
          127,
          156,
          15,
          8,
          80,
          77,
          17,
          407,
          5,
          8,
          6,
          124,
          146,
          4,
          7,
          26,
          23,
          4,
          5,
          4,
          4,
          5,
          6,
          6,
          17,
          3,
          3,
          6,
          4,
          27,
          5,
          20,
          12,
          6,
          98,
          26,
          4,
          5,
          17,
          4,
          6,
          14,
          39,
          7,
          5,
          15,
          6,
          16,
          8,
          13,
          5,
          4,
          5,
          86,
          85,
          13,
          4,
          4,
          23,
          67,
          4,
          14,
          13,
          3,
          7,
          29,
          27,
          12,
          4,
          36,
          39,
          12,
          21,
          7,
          6,
          26,
          7,
          4,
          62,
          9,
          17,
          7,
          2,
          9,
          6,
          3,
          14,
          11,
          14,
          5,
          33,
          63,
          19,
          12,
          6,
          13,
          6,
          10,
          44,
          1,
          7,
          13,
          6,
          9,
          15,
          6,
          11,
          5,
          3,
          58,
          6,
          38,
          10,
          1,
          41,
          4,
          5,
          5,
          8,
          21,
          10,
          3,
          5,
          5,
          13,
          62,
          4,
          32,
          8,
          3,
          6,
          20,
          4,
          5,
          14,
          5,
          10,
          6,
          27,
          4,
          7,
          25,
          5,
          7,
          10,
          10,
          8,
          175,
          32,
          10,
          60,
          34,
          4,
          14,
          4,
          5,
          6,
          5,
          4,
          11,
          3,
          5,
          19,
          15,
          12,
          10,
          5,
          26,
          69,
          17,
          10,
          24,
          8,
          9,
          22,
          4,
          33,
          11,
          26,
          8,
          5,
          4,
          6,
          45,
          8,
          39,
          29,
          7,
          4,
          6,
          4,
          20,
          6,
          4,
          7,
          5,
          13,
          6,
          7,
          1,
          10,
          14,
          11,
          101,
          18,
          4,
          10,
          4,
          19,
          11,
          73,
          6,
          12,
          13,
          23,
          12,
          46,
          7,
          16,
          5,
          4,
          39,
          10,
          8,
          36,
          21,
          14,
          2,
          6,
          12,
          6,
          31,
          5,
          17,
          10,
          11,
          4,
          12,
          11,
          6,
          5,
          17,
          5,
          2,
          15,
          15,
          11,
          23,
          14,
          3,
          6,
          9,
          26,
          5,
          14,
          9,
          27,
          4,
          9,
          10,
          10,
          1,
          37,
          51,
          169,
          356,
          11,
          13,
          4,
          12,
          16,
          5,
          10,
          8,
          9,
          53,
          84,
          8,
          4,
          28,
          15,
          3,
          4,
          6,
          21,
          6,
          10,
          102,
          3,
          30,
          13,
          9,
          5,
          71,
          8,
          7,
          3,
          7,
          6,
          8,
          4,
          14,
          17,
          11,
          5,
          8,
          5,
          14,
          11,
          88,
          156,
          16,
          7,
          15,
          58,
          1,
          6,
          6,
          28,
          16,
          25,
          8,
          22,
          21,
          7,
          12,
          4,
          13,
          40,
          2,
          141,
          5,
          50,
          4,
          5,
          5,
          125,
          2,
          13,
          9,
          11,
          23,
          15,
          9,
          7,
          7,
          5,
          6,
          4,
          12,
          10,
          5,
          15,
          12,
          6,
          8,
          9,
          14,
          7,
          4,
          13,
          16,
          4,
          37,
          11,
          10,
          5,
          5,
          6,
          10,
          16,
          12,
          14,
          48,
          5,
          8,
          7,
          15,
          28,
          15,
          6,
          3,
          6,
          5,
          1,
          16,
          17,
          32,
          6,
          70,
          13,
          5,
          6,
          6,
          4,
          11,
          55,
          32,
          9,
          6,
          4,
          29,
          10,
          7,
          7,
          7,
          7,
          8,
          11,
          5,
          10,
          3,
          96,
          25,
          14,
          12,
          6,
          21,
          13,
          10,
          8,
          1,
          8,
          8,
          88,
          18,
          13,
          5,
          19,
          4,
          4,
          45,
          10,
          9,
          10,
          83,
          6,
          15,
          12,
          20,
          96,
          14,
          4,
          5,
          6,
          4,
          11,
          23,
          5,
          78,
          8,
          29,
          3,
          41,
          6,
          9,
          9,
          13,
          22,
          2,
          6,
          10,
          17,
          17,
          6,
          16,
          6,
          11,
          5,
          11,
          16,
          13,
          8,
          2,
          15,
          29,
          5,
          19,
          5,
          8,
          4,
          7,
          2,
          9,
          6,
          7,
          4,
          8,
          10,
          15,
          7,
          26,
          4,
          10,
          4,
          43,
          2,
          15,
          16,
          8,
          11,
          9,
          12,
          5,
          14,
          6,
          13,
          10,
          9,
          4,
          8,
          34,
          8,
          4,
          18,
          5,
          7,
          3,
          6,
          4,
          9,
          3,
          3,
          8,
          8,
          12,
          15,
          94,
          20,
          8,
          10,
          6,
          17,
          12,
          105,
          6,
          9,
          45,
          16,
          41,
          397,
          45,
          34,
          7,
          18,
          6,
          4,
          73,
          8,
          19,
          20,
          5,
          6,
          96,
          6,
          27,
          7,
          6,
          5,
          65,
          9,
          4,
          8,
          7,
          6,
          5,
          5,
          13,
          12,
          7,
          121,
          5,
          10,
          5,
          4,
          132,
          5,
          7,
          11,
          8,
          16,
          3,
          30,
          6,
          11,
          17,
          6,
          9,
          11,
          8,
          3,
          8,
          40,
          4,
          8,
          4,
          16,
          5,
          17,
          14,
          3,
          288,
          19,
          7,
          7,
          13,
          17,
          8,
          11,
          8,
          20,
          4,
          5,
          5,
          22,
          8,
          18,
          14,
          10,
          8,
          15,
          5,
          9,
          9,
          9,
          8,
          7,
          18,
          7,
          24,
          20,
          6,
          10,
          35,
          25,
          69,
          59,
          14,
          12,
          6,
          6,
          3,
          103,
          20,
          5,
          5,
          20,
          6,
          48,
          5,
          2,
          5,
          6,
          4,
          7,
          106,
          5,
          14,
          4,
          8,
          36,
          16,
          17,
          13,
          3,
          5,
          7,
          8,
          4,
          5,
          19,
          4,
          10,
          4,
          11,
          11,
          18,
          4,
          21,
          9,
          64,
          18,
          10,
          8,
          7,
          9,
          15,
          12,
          188,
          10,
          9,
          27,
          3,
          6,
          18,
          4,
          15,
          6,
          15,
          4,
          5,
          25,
          3,
          5,
          9,
          15,
          8,
          7,
          5,
          5,
          5,
          6,
          4,
          8,
          7,
          32,
          27,
          41,
          13,
          5,
          5,
          6,
          5,
          5,
          16,
          30,
          3,
          12,
          6,
          28,
          14,
          2,
          3,
          9,
          7,
          1,
          42,
          6,
          12,
          15,
          4,
          7,
          4,
          10,
          5,
          44,
          17,
          6,
          10,
          40,
          20,
          16,
          8,
          6,
          5,
          10,
          19,
          30,
          4,
          8,
          89,
          95,
          4,
          5,
          8,
          15,
          72,
          22,
          7,
          8,
          3,
          11,
          9,
          15,
          35,
          478,
          8,
          6,
          16,
          16,
          7,
          22,
          4,
          12,
          11,
          6,
          11,
          4,
          20,
          15,
          18,
          6,
          10,
          9,
          29,
          19,
          10,
          11,
          4,
          5,
          24,
          5,
          13,
          4,
          5,
          67,
          4,
          8,
          5,
          6,
          19,
          7,
          20,
          40,
          25,
          6,
          4,
          22,
          11,
          13,
          17,
          10,
          14,
          4,
          19,
          7,
          21,
          11,
          9,
          19,
          4,
          4,
          25,
          6,
          23,
          8,
          46,
          9,
          7,
          56,
          8,
          14,
          9,
          5,
          5,
          32,
          15,
          5,
          7,
          10,
          11,
          1,
          61,
          93,
          55,
          13,
          20,
          16,
          179,
          113,
          4,
          33,
          15,
          85,
          18,
          6,
          7,
          4,
          9,
          4,
          5,
          13,
          5,
          16,
          3,
          86,
          41,
          7,
          7,
          27,
          10,
          5,
          12,
          5,
          13,
          5,
          56,
          6,
          5,
          37,
          13,
          14,
          3,
          20,
          23,
          11,
          7,
          13,
          12,
          22,
          16,
          22,
          6,
          4,
          6,
          4,
          17,
          6,
          37,
          78,
          2,
          4,
          6,
          47,
          51,
          10,
          8,
          25,
          27,
          6,
          16,
          15,
          10,
          5,
          7,
          6,
          5,
          35,
          5,
          10,
          52,
          41,
          15,
          4,
          4,
          11,
          47,
          6,
          7,
          3,
          10,
          24,
          47,
          6,
          4,
          21,
          7,
          9,
          10,
          9,
          7,
          5,
          9,
          10,
          101,
          19,
          20,
          15,
          6,
          17,
          18,
          5,
          16,
          5,
          1,
          34,
          33,
          1,
          1,
          4,
          33,
          10,
          12,
          5,
          17,
          5,
          4,
          4,
          10,
          4,
          17,
          13,
          11,
          5,
          5,
          6,
          17,
          12,
          3,
          47,
          22,
          9,
          13,
          6,
          8,
          7,
          14,
          20,
          9,
          7,
          11,
          7,
          58,
          26,
          19,
          33,
          6,
          7,
          5,
          13,
          61,
          21,
          12,
          23,
          8,
          5,
          18,
          6,
          3,
          3,
          9,
          18,
          9,
          5,
          6,
          10,
          14,
          6,
          13,
          6,
          4,
          8,
          30,
          5,
          4,
          38,
          6,
          2,
          6,
          10,
          32,
          16,
          3,
          25,
          11,
          18,
          20,
          12,
          20,
          5,
          6,
          78,
          5,
          9,
          25,
          6,
          9,
          13,
          10,
          34,
          23,
          7,
          6,
          8,
          4,
          8,
          7,
          25,
          6,
          18,
          5,
          55,
          9,
          47,
          42,
          8,
          5,
          5,
          20,
          13,
          63,
          15,
          37,
          28,
          41,
          4,
          43,
          17,
          11,
          10,
          5,
          16,
          3,
          12,
          8,
          4,
          2,
          18,
          15,
          30,
          39,
          7,
          76,
          13,
          14,
          13,
          6,
          5,
          5,
          7,
          9,
          11,
          11,
          3,
          7,
          6,
          34,
          11,
          99,
          8,
          6,
          4,
          5,
          3,
          28,
          6,
          7,
          16,
          30,
          18,
          9,
          13,
          7,
          10,
          18,
          45,
          18,
          8,
          4,
          4,
          6,
          26,
          16,
          1,
          17,
          4,
          7,
          9,
          34,
          7,
          7,
          5,
          4,
          9,
          4,
          17,
          18,
          8,
          8,
          24,
          10,
          184,
          21,
          107,
          4,
          211,
          5,
          5,
          5,
          4,
          9,
          8,
          465,
          41,
          16,
          6,
          8,
          13,
          3,
          20,
          12,
          7,
          10,
          14,
          4,
          10,
          25,
          33,
          6,
          32,
          4,
          8,
          7,
          10,
          36,
          24,
          12,
          14,
          29,
          6,
          15,
          228,
          4,
          6,
          362,
          5,
          8,
          6,
          7,
          5,
          4,
          12,
          5,
          4,
          6,
          6,
          8,
          17,
          3,
          6,
          10,
          20,
          8,
          6,
          36,
          7,
          15,
          109,
          17,
          1,
          12,
          27,
          112,
          33,
          7,
          50,
          4,
          9,
          6,
          9,
          23,
          10,
          8,
          5,
          6,
          7,
          6,
          14,
          7,
          13,
          4,
          14,
          7,
          9,
          8,
          11,
          6,
          5,
          26,
          10,
          13,
          8,
          88,
          8,
          15,
          9,
          9,
          1,
          5,
          4,
          2,
          5,
          17,
          11,
          17,
          24,
          13,
          12,
          28,
          9,
          3,
          8,
          21,
          7,
          1,
          14,
          9,
          19,
          11,
          1,
          8,
          16,
          9,
          7,
          13,
          9,
          57,
          45,
          6,
          25,
          6,
          11,
          4,
          79,
          5,
          5,
          17,
          4,
          14,
          6,
          6,
          9,
          7,
          22,
          10,
          6,
          5,
          5,
          3,
          5,
          20,
          18,
          13,
          12,
          11,
          25,
          15,
          17,
          4,
          14,
          7,
          21,
          6,
          17,
          28,
          32,
          9,
          11,
          6,
          4,
          5,
          6,
          4,
          28,
          6,
          9,
          11,
          4,
          14,
          6,
          5,
          2,
          39,
          6,
          9,
          29,
          15,
          4,
          24,
          2,
          7,
          12,
          1,
          4,
          37,
          12,
          23,
          4,
          9,
          26,
          6,
          58,
          5,
          9,
          9,
          5,
          4,
          20,
          6,
          10,
          7,
          11,
          6,
          16,
          11,
          4,
          5,
          4,
          43,
          3,
          12,
          6,
          36,
          8,
          4,
          5,
          4,
          12,
          23,
          5,
          12,
          13,
          15,
          4,
          25,
          4,
          5,
          11,
          5,
          21,
          4,
          6,
          30,
          13,
          5,
          7,
          9,
          3,
          8,
          12,
          4,
          10,
          16,
          10,
          71,
          6,
          4,
          13,
          6,
          10,
          6,
          14,
          8,
          22,
          11,
          30,
          8,
          5,
          5,
          121,
          5,
          11,
          4,
          4,
          5,
          5,
          11,
          34,
          18,
          7,
          5,
          8,
          12,
          3,
          123,
          6,
          15,
          40,
          9,
          11,
          5,
          12,
          33,
          4,
          47,
          52,
          8,
          11,
          34,
          16,
          7,
          8,
          7,
          3,
          4,
          22,
          39,
          48,
          6,
          8,
          20,
          6,
          12,
          5,
          7,
          7,
          14,
          21,
          3,
          12,
          9,
          26,
          37,
          20,
          104,
          5,
          4,
          30,
          7,
          8,
          3,
          15,
          5,
          9,
          6,
          31,
          6,
          35,
          9,
          5,
          19,
          21,
          13,
          4,
          144,
          5,
          4,
          20,
          19,
          8,
          75,
          20,
          7,
          9,
          19,
          4,
          14,
          3,
          9,
          13,
          22,
          15,
          1,
          6,
          9,
          3,
          15,
          11,
          34,
          6,
          31,
          4,
          60,
          7,
          8,
          7,
          14,
          16,
          6,
          10,
          5,
          15,
          6,
          25,
          5,
          28,
          8,
          11,
          4,
          6,
          4,
          6,
          20,
          10,
          5,
          36,
          5,
          5,
          20,
          7,
          14,
          19,
          4,
          46,
          1,
          15,
          12,
          11,
          12,
          5,
          8,
          25,
          9,
          24,
          11,
          4,
          18,
          8,
          6,
          15,
          114,
          3,
          63,
          5,
          7,
          5,
          7,
          7,
          9,
          14,
          6,
          12,
          6,
          4,
          20,
          80,
          4,
          19,
          18,
          5,
          5,
          3,
          11,
          44,
          6,
          3,
          17,
          5,
          21,
          23,
          7,
          4,
          28,
          4,
          17,
          6,
          9,
          3,
          6,
          15,
          6,
          19,
          54,
          12,
          6,
          16,
          13,
          4,
          5,
          5,
          13,
          26,
          17,
          2,
          3,
          4,
          90,
          26,
          9,
          26,
          2,
          5,
          12,
          14,
          3,
          1,
          9,
          75,
          6,
          7,
          56,
          30,
          6,
          4,
          15,
          52,
          17,
          7,
          2,
          13,
          303
         ],
         "xaxis": "x",
         "yaxis": "y"
        }
       ],
       "layout": {
        "barmode": "relative",
        "legend": {
         "title": {
          "text": "variable"
         },
         "tracegroupgap": 0
        },
        "margin": {
         "t": 60
        },
        "template": {
         "data": {
          "bar": [
           {
            "error_x": {
             "color": "#2a3f5f"
            },
            "error_y": {
             "color": "#2a3f5f"
            },
            "marker": {
             "line": {
              "color": "#E5ECF6",
              "width": 0.5
             },
             "pattern": {
              "fillmode": "overlay",
              "size": 10,
              "solidity": 0.2
             }
            },
            "type": "bar"
           }
          ],
          "barpolar": [
           {
            "marker": {
             "line": {
              "color": "#E5ECF6",
              "width": 0.5
             },
             "pattern": {
              "fillmode": "overlay",
              "size": 10,
              "solidity": 0.2
             }
            },
            "type": "barpolar"
           }
          ],
          "carpet": [
           {
            "aaxis": {
             "endlinecolor": "#2a3f5f",
             "gridcolor": "white",
             "linecolor": "white",
             "minorgridcolor": "white",
             "startlinecolor": "#2a3f5f"
            },
            "baxis": {
             "endlinecolor": "#2a3f5f",
             "gridcolor": "white",
             "linecolor": "white",
             "minorgridcolor": "white",
             "startlinecolor": "#2a3f5f"
            },
            "type": "carpet"
           }
          ],
          "choropleth": [
           {
            "colorbar": {
             "outlinewidth": 0,
             "ticks": ""
            },
            "type": "choropleth"
           }
          ],
          "contour": [
           {
            "colorbar": {
             "outlinewidth": 0,
             "ticks": ""
            },
            "colorscale": [
             [
              0,
              "#0d0887"
             ],
             [
              0.1111111111111111,
              "#46039f"
             ],
             [
              0.2222222222222222,
              "#7201a8"
             ],
             [
              0.3333333333333333,
              "#9c179e"
             ],
             [
              0.4444444444444444,
              "#bd3786"
             ],
             [
              0.5555555555555556,
              "#d8576b"
             ],
             [
              0.6666666666666666,
              "#ed7953"
             ],
             [
              0.7777777777777778,
              "#fb9f3a"
             ],
             [
              0.8888888888888888,
              "#fdca26"
             ],
             [
              1,
              "#f0f921"
             ]
            ],
            "type": "contour"
           }
          ],
          "contourcarpet": [
           {
            "colorbar": {
             "outlinewidth": 0,
             "ticks": ""
            },
            "type": "contourcarpet"
           }
          ],
          "heatmap": [
           {
            "colorbar": {
             "outlinewidth": 0,
             "ticks": ""
            },
            "colorscale": [
             [
              0,
              "#0d0887"
             ],
             [
              0.1111111111111111,
              "#46039f"
             ],
             [
              0.2222222222222222,
              "#7201a8"
             ],
             [
              0.3333333333333333,
              "#9c179e"
             ],
             [
              0.4444444444444444,
              "#bd3786"
             ],
             [
              0.5555555555555556,
              "#d8576b"
             ],
             [
              0.6666666666666666,
              "#ed7953"
             ],
             [
              0.7777777777777778,
              "#fb9f3a"
             ],
             [
              0.8888888888888888,
              "#fdca26"
             ],
             [
              1,
              "#f0f921"
             ]
            ],
            "type": "heatmap"
           }
          ],
          "heatmapgl": [
           {
            "colorbar": {
             "outlinewidth": 0,
             "ticks": ""
            },
            "colorscale": [
             [
              0,
              "#0d0887"
             ],
             [
              0.1111111111111111,
              "#46039f"
             ],
             [
              0.2222222222222222,
              "#7201a8"
             ],
             [
              0.3333333333333333,
              "#9c179e"
             ],
             [
              0.4444444444444444,
              "#bd3786"
             ],
             [
              0.5555555555555556,
              "#d8576b"
             ],
             [
              0.6666666666666666,
              "#ed7953"
             ],
             [
              0.7777777777777778,
              "#fb9f3a"
             ],
             [
              0.8888888888888888,
              "#fdca26"
             ],
             [
              1,
              "#f0f921"
             ]
            ],
            "type": "heatmapgl"
           }
          ],
          "histogram": [
           {
            "marker": {
             "pattern": {
              "fillmode": "overlay",
              "size": 10,
              "solidity": 0.2
             }
            },
            "type": "histogram"
           }
          ],
          "histogram2d": [
           {
            "colorbar": {
             "outlinewidth": 0,
             "ticks": ""
            },
            "colorscale": [
             [
              0,
              "#0d0887"
             ],
             [
              0.1111111111111111,
              "#46039f"
             ],
             [
              0.2222222222222222,
              "#7201a8"
             ],
             [
              0.3333333333333333,
              "#9c179e"
             ],
             [
              0.4444444444444444,
              "#bd3786"
             ],
             [
              0.5555555555555556,
              "#d8576b"
             ],
             [
              0.6666666666666666,
              "#ed7953"
             ],
             [
              0.7777777777777778,
              "#fb9f3a"
             ],
             [
              0.8888888888888888,
              "#fdca26"
             ],
             [
              1,
              "#f0f921"
             ]
            ],
            "type": "histogram2d"
           }
          ],
          "histogram2dcontour": [
           {
            "colorbar": {
             "outlinewidth": 0,
             "ticks": ""
            },
            "colorscale": [
             [
              0,
              "#0d0887"
             ],
             [
              0.1111111111111111,
              "#46039f"
             ],
             [
              0.2222222222222222,
              "#7201a8"
             ],
             [
              0.3333333333333333,
              "#9c179e"
             ],
             [
              0.4444444444444444,
              "#bd3786"
             ],
             [
              0.5555555555555556,
              "#d8576b"
             ],
             [
              0.6666666666666666,
              "#ed7953"
             ],
             [
              0.7777777777777778,
              "#fb9f3a"
             ],
             [
              0.8888888888888888,
              "#fdca26"
             ],
             [
              1,
              "#f0f921"
             ]
            ],
            "type": "histogram2dcontour"
           }
          ],
          "mesh3d": [
           {
            "colorbar": {
             "outlinewidth": 0,
             "ticks": ""
            },
            "type": "mesh3d"
           }
          ],
          "parcoords": [
           {
            "line": {
             "colorbar": {
              "outlinewidth": 0,
              "ticks": ""
             }
            },
            "type": "parcoords"
           }
          ],
          "pie": [
           {
            "automargin": true,
            "type": "pie"
           }
          ],
          "scatter": [
           {
            "fillpattern": {
             "fillmode": "overlay",
             "size": 10,
             "solidity": 0.2
            },
            "type": "scatter"
           }
          ],
          "scatter3d": [
           {
            "line": {
             "colorbar": {
              "outlinewidth": 0,
              "ticks": ""
             }
            },
            "marker": {
             "colorbar": {
              "outlinewidth": 0,
              "ticks": ""
             }
            },
            "type": "scatter3d"
           }
          ],
          "scattercarpet": [
           {
            "marker": {
             "colorbar": {
              "outlinewidth": 0,
              "ticks": ""
             }
            },
            "type": "scattercarpet"
           }
          ],
          "scattergeo": [
           {
            "marker": {
             "colorbar": {
              "outlinewidth": 0,
              "ticks": ""
             }
            },
            "type": "scattergeo"
           }
          ],
          "scattergl": [
           {
            "marker": {
             "colorbar": {
              "outlinewidth": 0,
              "ticks": ""
             }
            },
            "type": "scattergl"
           }
          ],
          "scattermapbox": [
           {
            "marker": {
             "colorbar": {
              "outlinewidth": 0,
              "ticks": ""
             }
            },
            "type": "scattermapbox"
           }
          ],
          "scatterpolar": [
           {
            "marker": {
             "colorbar": {
              "outlinewidth": 0,
              "ticks": ""
             }
            },
            "type": "scatterpolar"
           }
          ],
          "scatterpolargl": [
           {
            "marker": {
             "colorbar": {
              "outlinewidth": 0,
              "ticks": ""
             }
            },
            "type": "scatterpolargl"
           }
          ],
          "scatterternary": [
           {
            "marker": {
             "colorbar": {
              "outlinewidth": 0,
              "ticks": ""
             }
            },
            "type": "scatterternary"
           }
          ],
          "surface": [
           {
            "colorbar": {
             "outlinewidth": 0,
             "ticks": ""
            },
            "colorscale": [
             [
              0,
              "#0d0887"
             ],
             [
              0.1111111111111111,
              "#46039f"
             ],
             [
              0.2222222222222222,
              "#7201a8"
             ],
             [
              0.3333333333333333,
              "#9c179e"
             ],
             [
              0.4444444444444444,
              "#bd3786"
             ],
             [
              0.5555555555555556,
              "#d8576b"
             ],
             [
              0.6666666666666666,
              "#ed7953"
             ],
             [
              0.7777777777777778,
              "#fb9f3a"
             ],
             [
              0.8888888888888888,
              "#fdca26"
             ],
             [
              1,
              "#f0f921"
             ]
            ],
            "type": "surface"
           }
          ],
          "table": [
           {
            "cells": {
             "fill": {
              "color": "#EBF0F8"
             },
             "line": {
              "color": "white"
             }
            },
            "header": {
             "fill": {
              "color": "#C8D4E3"
             },
             "line": {
              "color": "white"
             }
            },
            "type": "table"
           }
          ]
         },
         "layout": {
          "annotationdefaults": {
           "arrowcolor": "#2a3f5f",
           "arrowhead": 0,
           "arrowwidth": 1
          },
          "autotypenumbers": "strict",
          "coloraxis": {
           "colorbar": {
            "outlinewidth": 0,
            "ticks": ""
           }
          },
          "colorscale": {
           "diverging": [
            [
             0,
             "#8e0152"
            ],
            [
             0.1,
             "#c51b7d"
            ],
            [
             0.2,
             "#de77ae"
            ],
            [
             0.3,
             "#f1b6da"
            ],
            [
             0.4,
             "#fde0ef"
            ],
            [
             0.5,
             "#f7f7f7"
            ],
            [
             0.6,
             "#e6f5d0"
            ],
            [
             0.7,
             "#b8e186"
            ],
            [
             0.8,
             "#7fbc41"
            ],
            [
             0.9,
             "#4d9221"
            ],
            [
             1,
             "#276419"
            ]
           ],
           "sequential": [
            [
             0,
             "#0d0887"
            ],
            [
             0.1111111111111111,
             "#46039f"
            ],
            [
             0.2222222222222222,
             "#7201a8"
            ],
            [
             0.3333333333333333,
             "#9c179e"
            ],
            [
             0.4444444444444444,
             "#bd3786"
            ],
            [
             0.5555555555555556,
             "#d8576b"
            ],
            [
             0.6666666666666666,
             "#ed7953"
            ],
            [
             0.7777777777777778,
             "#fb9f3a"
            ],
            [
             0.8888888888888888,
             "#fdca26"
            ],
            [
             1,
             "#f0f921"
            ]
           ],
           "sequentialminus": [
            [
             0,
             "#0d0887"
            ],
            [
             0.1111111111111111,
             "#46039f"
            ],
            [
             0.2222222222222222,
             "#7201a8"
            ],
            [
             0.3333333333333333,
             "#9c179e"
            ],
            [
             0.4444444444444444,
             "#bd3786"
            ],
            [
             0.5555555555555556,
             "#d8576b"
            ],
            [
             0.6666666666666666,
             "#ed7953"
            ],
            [
             0.7777777777777778,
             "#fb9f3a"
            ],
            [
             0.8888888888888888,
             "#fdca26"
            ],
            [
             1,
             "#f0f921"
            ]
           ]
          },
          "colorway": [
           "#636efa",
           "#EF553B",
           "#00cc96",
           "#ab63fa",
           "#FFA15A",
           "#19d3f3",
           "#FF6692",
           "#B6E880",
           "#FF97FF",
           "#FECB52"
          ],
          "font": {
           "color": "#2a3f5f"
          },
          "geo": {
           "bgcolor": "white",
           "lakecolor": "white",
           "landcolor": "#E5ECF6",
           "showlakes": true,
           "showland": true,
           "subunitcolor": "white"
          },
          "hoverlabel": {
           "align": "left"
          },
          "hovermode": "closest",
          "mapbox": {
           "style": "light"
          },
          "paper_bgcolor": "white",
          "plot_bgcolor": "#E5ECF6",
          "polar": {
           "angularaxis": {
            "gridcolor": "white",
            "linecolor": "white",
            "ticks": ""
           },
           "bgcolor": "#E5ECF6",
           "radialaxis": {
            "gridcolor": "white",
            "linecolor": "white",
            "ticks": ""
           }
          },
          "scene": {
           "xaxis": {
            "backgroundcolor": "#E5ECF6",
            "gridcolor": "white",
            "gridwidth": 2,
            "linecolor": "white",
            "showbackground": true,
            "ticks": "",
            "zerolinecolor": "white"
           },
           "yaxis": {
            "backgroundcolor": "#E5ECF6",
            "gridcolor": "white",
            "gridwidth": 2,
            "linecolor": "white",
            "showbackground": true,
            "ticks": "",
            "zerolinecolor": "white"
           },
           "zaxis": {
            "backgroundcolor": "#E5ECF6",
            "gridcolor": "white",
            "gridwidth": 2,
            "linecolor": "white",
            "showbackground": true,
            "ticks": "",
            "zerolinecolor": "white"
           }
          },
          "shapedefaults": {
           "line": {
            "color": "#2a3f5f"
           }
          },
          "ternary": {
           "aaxis": {
            "gridcolor": "white",
            "linecolor": "white",
            "ticks": ""
           },
           "baxis": {
            "gridcolor": "white",
            "linecolor": "white",
            "ticks": ""
           },
           "bgcolor": "#E5ECF6",
           "caxis": {
            "gridcolor": "white",
            "linecolor": "white",
            "ticks": ""
           }
          },
          "title": {
           "x": 0.05
          },
          "xaxis": {
           "automargin": true,
           "gridcolor": "white",
           "linecolor": "white",
           "ticks": "",
           "title": {
            "standoff": 15
           },
           "zerolinecolor": "white",
           "zerolinewidth": 2
          },
          "yaxis": {
           "automargin": true,
           "gridcolor": "white",
           "linecolor": "white",
           "ticks": "",
           "title": {
            "standoff": 15
           },
           "zerolinecolor": "white",
           "zerolinewidth": 2
          }
         }
        },
        "title": {
         "text": "Количество событий по пользователям"
        },
        "xaxis": {
         "anchor": "y",
         "domain": [
          0,
          1
         ],
         "range": [
          0,
          100
         ],
         "title": {
          "text": "Количество событий"
         }
        },
        "yaxis": {
         "anchor": "x",
         "domain": [
          0,
          1
         ],
         "title": {
          "text": "Количество пользователей"
         }
        }
       }
      },
      "text/html": [
       "<div>                            <div id=\"6d4bb63c-3966-4373-bd71-6c6354d8921a\" class=\"plotly-graph-div\" style=\"height:525px; width:100%;\"></div>            <script type=\"text/javascript\">                require([\"plotly\"], function(Plotly) {                    window.PLOTLYENV=window.PLOTLYENV || {};                                    if (document.getElementById(\"6d4bb63c-3966-4373-bd71-6c6354d8921a\")) {                    Plotly.newPlot(                        \"6d4bb63c-3966-4373-bd71-6c6354d8921a\",                        [{\"alignmentgroup\":\"True\",\"bingroup\":\"x\",\"hovertemplate\":\"variable=event_name<br>value=%{x}<br>count=%{y}<extra></extra>\",\"legendgroup\":\"event_name\",\"marker\":{\"color\":\"#636efa\",\"pattern\":{\"shape\":\"\"}},\"name\":\"event_name\",\"nbinsx\":85,\"offsetgroup\":\"event_name\",\"orientation\":\"v\",\"showlegend\":true,\"x\":[35,71,10,32,8,11,5,5,6,5,18,9,8,15,6,5,7,13,2,11,2,30,15,26,5,5,7,41,4,3,6,12,8,15,10,3,23,28,27,3,8,10,11,3,40,15,22,6,15,3,24,10,7,13,28,6,16,9,12,5,5,17,32,26,13,4,20,110,15,19,170,7,6,77,16,6,33,28,18,4,2,23,5,18,35,4,9,6,6,13,12,97,7,7,6,15,105,4,11,5,5,18,12,4,2,18,16,11,138,9,4,9,14,12,87,7,12,18,1,24,11,43,97,5,1,4,20,13,13,17,17,4,5,9,7,21,79,9,19,28,19,17,7,37,18,27,6,2,6,15,4,38,10,6,17,19,8,4,13,15,16,15,46,3,6,6,7,5,12,9,43,5,7,19,15,6,7,54,14,10,19,65,14,74,30,12,12,5,30,39,9,17,8,6,14,55,16,5,6,5,4,4,1,2,2,2,55,35,7,10,48,8,3,6,30,60,35,4,6,6,24,15,4,29,10,4,5,61,4,5,137,8,32,5,16,162,4,4,21,8,10,6,1,3,6,7,15,9,7,4,10,5,6,2,40,4,19,3,6,5,12,2,4,5,9,23,5,12,37,4,1,28,6,48,19,17,79,61,33,12,8,5,4,7,11,13,24,23,11,7,12,4,11,19,17,5,4,8,4,22,18,5,9,17,5,10,7,9,9,6,4,6,20,5,76,5,14,4,10,67,13,15,7,9,5,6,9,5,3,11,5,10,5,17,1,15,9,5,6,11,5,8,1,7,15,21,12,3,6,7,10,4,5,3,2,37,12,5,17,10,114,8,10,63,8,5,6,10,47,4,6,11,19,29,9,4,7,7,10,22,11,5,9,16,6,27,10,7,5,7,12,5,7,14,21,20,15,20,9,6,29,265,10,11,5,9,10,8,5,14,13,9,14,5,7,25,15,17,13,37,5,71,22,6,8,45,8,5,22,3,4,9,35,4,36,36,4,16,7,17,22,9,11,11,8,37,9,4,9,5,11,3,3,38,6,2,9,99,15,10,1,59,12,9,6,20,8,12,5,6,5,8,33,6,14,65,5,6,7,38,6,44,21,4,41,5,85,4,8,35,10,31,13,6,6,12,14,6,44,7,5,14,5,4,2,8,6,7,1,76,5,14,8,18,7,9,50,26,18,8,10,12,47,2,57,27,5,3,4,8,13,29,8,32,6,7,30,10,2,22,7,10,4,12,7,17,5,7,27,25,8,15,4,4,11,13,5,2,39,37,17,16,1,15,11,8,6,11,53,4,5,22,5,250,7,49,8,5,24,12,11,11,4,24,12,74,9,30,7,10,5,50,12,14,20,8,5,4,64,8,12,9,7,5,14,5,8,26,4,25,9,4,16,8,7,400,5,10,6,15,25,9,17,65,4,3,13,8,4,6,8,5,44,5,5,8,15,6,7,28,4,10,5,37,4,25,4,10,8,7,5,6,13,7,7,5,4,39,30,21,9,9,7,4,5,14,34,20,7,21,5,2,74,4,5,8,6,8,129,4,16,9,11,37,35,16,8,62,121,9,5,8,10,8,17,11,41,5,4,5,4,14,4,13,19,17,1,20,4,22,6,8,64,20,3,13,5,8,5,13,20,9,25,15,10,7,9,4,4,9,17,4,13,32,5,1,12,12,10,23,308,5,6,7,13,6,38,5,6,39,26,30,11,16,7,14,5,14,17,10,53,12,18,11,18,21,14,5,12,14,13,4,7,4,73,68,7,6,7,14,16,13,7,9,15,17,6,52,10,4,19,8,12,9,40,11,3,12,7,1,186,5,7,7,35,5,7,5,14,4,1,34,57,42,38,8,60,9,5,7,10,5,4,28,10,59,6,11,7,8,4,40,9,14,8,3,66,16,1,6,10,7,21,3,14,10,34,17,111,1,31,7,15,5,4,8,6,13,12,26,353,4,40,17,3,6,22,27,17,14,4,5,15,16,85,9,9,8,7,10,22,2,24,15,6,11,6,3,6,7,4,4,11,14,8,28,5,14,4,13,17,5,7,14,8,11,4,21,8,22,55,7,7,163,3,10,1,6,64,21,16,32,75,13,5,75,5,25,11,11,21,9,5,5,12,16,33,4,5,16,9,5,9,45,30,65,10,24,5,22,18,6,5,8,30,3,9,6,25,6,7,29,14,6,6,6,41,10,12,7,2,12,19,2,47,14,14,7,10,8,23,26,5,20,2,4,15,52,10,1,10,23,19,5,5,10,5,3,13,7,6,4,6,15,7,1,5,19,5,9,4,14,13,3,12,1,8,7,3,22,14,25,4,5,14,4,19,4,12,7,69,5,8,15,5,6,2,5,11,4,5,19,10,19,5,7,10,6,5,4,5,14,10,3,7,6,4,1,12,32,4,6,15,15,4,8,4,12,8,5,15,8,17,4,5,13,9,11,5,76,9,53,2,67,5,1,20,4,20,4,20,8,61,49,7,6,8,7,10,6,18,6,7,6,7,3,30,3,9,4,8,25,8,7,50,16,4,8,3,12,5,2,15,4,7,4,29,20,4,20,6,12,15,18,17,10,4,5,5,10,17,6,7,6,62,11,6,6,9,26,27,7,31,29,7,5,2,7,4,5,6,132,15,9,1,15,12,22,20,5,4,22,4,7,10,6,9,40,5,7,4,2,7,3,4,6,43,65,5,7,3,44,3,5,6,10,7,9,8,3,161,5,11,12,5,7,10,47,13,12,44,42,29,6,17,4,6,15,13,8,19,11,45,12,9,6,5,10,3,4,19,10,7,8,33,5,3,23,5,35,36,23,13,17,11,15,43,5,21,64,7,42,34,11,10,6,3,4,2,5,4,5,10,42,34,8,4,17,31,6,79,11,10,8,151,11,5,11,8,9,10,26,4,20,30,15,4,6,10,5,4,6,7,7,6,7,4,4,6,3,5,4,4,15,9,8,2,4,5,24,15,4,8,28,6,15,10,18,7,37,4,4,23,8,11,16,10,8,5,5,18,5,4,5,30,12,39,16,6,24,26,28,87,8,11,4,32,9,5,2,17,22,40,7,93,6,6,4,23,3,4,41,25,2,12,4,5,11,3,21,5,16,7,8,5,6,62,45,13,28,4,14,20,7,9,19,17,6,3,4,21,12,8,17,6,6,2,10,5,8,6,18,13,5,5,50,3,4,18,10,7,12,5,10,7,22,7,4,10,7,11,38,43,6,1,4,8,28,23,11,26,16,3,5,7,14,1,10,6,8,11,14,11,7,5,5,57,5,5,5,111,24,6,5,53,10,12,29,7,27,4,16,6,6,40,12,48,14,7,15,1,14,4,42,5,11,11,4,11,5,4,76,11,5,10,82,12,19,7,7,6,5,11,42,5,12,3,16,16,29,4,12,23,6,29,26,6,3,5,33,4,12,68,7,2,15,16,8,12,9,14,6,7,11,1,178,5,20,10,53,8,14,12,5,4,9,5,7,10,4,2,12,15,10,8,23,5,4,27,4,22,79,5,10,8,1,7,11,4,5,11,13,13,121,4,54,5,22,15,18,10,7,6,9,14,16,22,119,3,5,13,18,40,6,35,4,5,1,8,6,8,10,5,6,6,12,22,5,4,5,10,4,6,11,5,34,4,45,15,5,11,7,6,42,15,46,10,6,5,12,37,9,5,5,13,13,5,30,7,10,8,23,1,11,79,5,5,10,4,31,9,12,12,5,5,6,8,127,13,22,5,5,4,14,9,8,3,7,5,10,25,4,19,72,8,14,15,5,76,68,7,25,9,4,7,7,11,7,9,25,62,9,7,8,8,19,3,7,21,78,10,6,6,34,15,10,5,11,23,13,8,39,5,8,40,30,11,12,3,9,5,8,4,6,36,4,5,7,13,19,4,6,6,4,7,7,17,4,42,4,13,17,1,20,9,5,3,26,9,41,31,11,3,8,11,6,22,45,7,18,42,4,31,10,8,7,5,11,9,3,22,12,26,10,10,12,5,11,20,15,8,6,181,175,1,9,1,7,13,3,6,27,7,5,6,4,170,7,59,4,12,15,14,13,23,7,62,7,2,20,10,52,6,5,16,14,10,24,8,1,4,8,7,61,4,5,75,6,4,4,15,18,4,12,13,6,18,22,2,14,19,5,5,16,20,2,10,7,4,5,18,27,5,26,15,8,4,22,8,4,2,72,4,9,5,8,17,7,13,24,11,6,24,12,23,6,7,3,5,46,4,5,5,5,4,89,10,28,22,9,5,18,11,6,4,64,4,1,3,6,6,24,9,16,6,30,17,7,11,13,4,61,16,4,3,5,5,8,23,4,4,6,5,6,99,10,10,3,6,4,5,41,4,70,10,5,9,17,6,9,4,2,15,13,13,93,8,23,5,23,8,7,6,3,2,9,11,4,2,7,34,6,6,9,33,74,7,15,5,8,5,11,5,17,8,11,11,6,4,8,8,43,14,9,51,9,5,9,9,3,2,9,18,4,23,5,6,10,8,9,5,11,5,5,3,17,4,4,65,28,8,5,15,32,11,5,31,6,9,24,34,43,59,3,9,4,30,5,11,32,5,6,72,5,4,14,5,7,23,15,7,1,21,8,8,14,124,5,8,75,6,6,8,11,4,6,8,10,7,4,8,10,49,5,3,19,37,9,69,5,24,31,5,3,13,7,5,8,8,9,10,8,6,41,17,10,8,4,62,10,5,6,12,5,9,7,6,28,8,31,8,2,6,6,6,4,6,33,27,6,18,7,28,48,12,5,5,4,5,19,11,4,50,7,17,4,6,57,2,14,7,9,23,44,13,5,26,5,4,4,53,8,5,29,27,30,1,26,8,1,6,21,10,16,4,11,9,12,5,8,9,20,7,13,5,7,45,7,16,18,20,6,4,9,4,38,46,11,4,4,15,16,16,5,10,7,3,80,6,4,5,5,12,14,7,107,13,80,9,1,7,30,5,6,8,3,26,19,26,14,3,58,6,5,5,25,4,15,18,14,19,162,19,6,7,12,18,27,4,4,6,4,9,15,4,12,19,5,43,4,7,5,6,9,47,3,6,12,34,9,24,8,15,94,6,12,9,5,5,21,2,4,6,9,10,5,8,14,5,93,4,33,13,12,55,7,13,6,13,5,6,17,10,29,21,6,5,5,7,7,4,3,4,151,47,119,6,24,8,85,10,4,5,15,8,15,10,11,6,11,5,4,6,7,4,4,38,10,4,3,6,8,15,3,22,8,7,28,6,6,6,5,12,6,9,27,8,5,28,5,16,11,4,52,4,39,5,5,8,8,7,71,8,6,16,5,8,33,16,19,16,17,13,33,2,5,3,5,5,8,7,2,4,22,3,1,20,14,9,8,4,12,36,96,23,5,15,1,5,12,7,47,20,5,9,19,14,15,5,4,33,5,4,36,5,22,5,10,6,16,59,7,1,20,6,8,6,6,9,19,8,3,10,8,28,6,30,7,6,8,3,21,31,9,5,70,8,11,7,43,6,1,28,12,14,4,49,5,11,4,11,14,5,6,28,25,16,1,3,9,7,11,11,2,5,3,8,9,5,2,6,11,5,7,5,4,21,8,28,6,26,11,15,6,4,22,5,13,3,7,7,5,5,5,12,2,18,4,2,7,5,22,7,12,5,5,9,8,7,17,20,4,9,29,6,9,15,247,4,10,20,9,15,9,7,54,9,21,4,5,43,19,86,4,4,52,15,10,5,3,38,34,12,21,37,11,25,15,14,4,41,7,4,54,7,63,13,149,90,9,13,4,8,17,14,7,5,12,20,9,18,4,17,17,7,46,10,5,25,15,6,11,32,35,5,28,12,5,4,11,9,15,3,6,2,27,8,14,12,18,18,14,4,26,119,2,42,19,19,15,11,18,8,8,18,8,17,13,249,3,10,15,5,6,6,17,62,7,18,5,4,4,127,156,15,8,80,77,17,407,5,8,6,124,146,4,7,26,23,4,5,4,4,5,6,6,17,3,3,6,4,27,5,20,12,6,98,26,4,5,17,4,6,14,39,7,5,15,6,16,8,13,5,4,5,86,85,13,4,4,23,67,4,14,13,3,7,29,27,12,4,36,39,12,21,7,6,26,7,4,62,9,17,7,2,9,6,3,14,11,14,5,33,63,19,12,6,13,6,10,44,1,7,13,6,9,15,6,11,5,3,58,6,38,10,1,41,4,5,5,8,21,10,3,5,5,13,62,4,32,8,3,6,20,4,5,14,5,10,6,27,4,7,25,5,7,10,10,8,175,32,10,60,34,4,14,4,5,6,5,4,11,3,5,19,15,12,10,5,26,69,17,10,24,8,9,22,4,33,11,26,8,5,4,6,45,8,39,29,7,4,6,4,20,6,4,7,5,13,6,7,1,10,14,11,101,18,4,10,4,19,11,73,6,12,13,23,12,46,7,16,5,4,39,10,8,36,21,14,2,6,12,6,31,5,17,10,11,4,12,11,6,5,17,5,2,15,15,11,23,14,3,6,9,26,5,14,9,27,4,9,10,10,1,37,51,169,356,11,13,4,12,16,5,10,8,9,53,84,8,4,28,15,3,4,6,21,6,10,102,3,30,13,9,5,71,8,7,3,7,6,8,4,14,17,11,5,8,5,14,11,88,156,16,7,15,58,1,6,6,28,16,25,8,22,21,7,12,4,13,40,2,141,5,50,4,5,5,125,2,13,9,11,23,15,9,7,7,5,6,4,12,10,5,15,12,6,8,9,14,7,4,13,16,4,37,11,10,5,5,6,10,16,12,14,48,5,8,7,15,28,15,6,3,6,5,1,16,17,32,6,70,13,5,6,6,4,11,55,32,9,6,4,29,10,7,7,7,7,8,11,5,10,3,96,25,14,12,6,21,13,10,8,1,8,8,88,18,13,5,19,4,4,45,10,9,10,83,6,15,12,20,96,14,4,5,6,4,11,23,5,78,8,29,3,41,6,9,9,13,22,2,6,10,17,17,6,16,6,11,5,11,16,13,8,2,15,29,5,19,5,8,4,7,2,9,6,7,4,8,10,15,7,26,4,10,4,43,2,15,16,8,11,9,12,5,14,6,13,10,9,4,8,34,8,4,18,5,7,3,6,4,9,3,3,8,8,12,15,94,20,8,10,6,17,12,105,6,9,45,16,41,397,45,34,7,18,6,4,73,8,19,20,5,6,96,6,27,7,6,5,65,9,4,8,7,6,5,5,13,12,7,121,5,10,5,4,132,5,7,11,8,16,3,30,6,11,17,6,9,11,8,3,8,40,4,8,4,16,5,17,14,3,288,19,7,7,13,17,8,11,8,20,4,5,5,22,8,18,14,10,8,15,5,9,9,9,8,7,18,7,24,20,6,10,35,25,69,59,14,12,6,6,3,103,20,5,5,20,6,48,5,2,5,6,4,7,106,5,14,4,8,36,16,17,13,3,5,7,8,4,5,19,4,10,4,11,11,18,4,21,9,64,18,10,8,7,9,15,12,188,10,9,27,3,6,18,4,15,6,15,4,5,25,3,5,9,15,8,7,5,5,5,6,4,8,7,32,27,41,13,5,5,6,5,5,16,30,3,12,6,28,14,2,3,9,7,1,42,6,12,15,4,7,4,10,5,44,17,6,10,40,20,16,8,6,5,10,19,30,4,8,89,95,4,5,8,15,72,22,7,8,3,11,9,15,35,478,8,6,16,16,7,22,4,12,11,6,11,4,20,15,18,6,10,9,29,19,10,11,4,5,24,5,13,4,5,67,4,8,5,6,19,7,20,40,25,6,4,22,11,13,17,10,14,4,19,7,21,11,9,19,4,4,25,6,23,8,46,9,7,56,8,14,9,5,5,32,15,5,7,10,11,1,61,93,55,13,20,16,179,113,4,33,15,85,18,6,7,4,9,4,5,13,5,16,3,86,41,7,7,27,10,5,12,5,13,5,56,6,5,37,13,14,3,20,23,11,7,13,12,22,16,22,6,4,6,4,17,6,37,78,2,4,6,47,51,10,8,25,27,6,16,15,10,5,7,6,5,35,5,10,52,41,15,4,4,11,47,6,7,3,10,24,47,6,4,21,7,9,10,9,7,5,9,10,101,19,20,15,6,17,18,5,16,5,1,34,33,1,1,4,33,10,12,5,17,5,4,4,10,4,17,13,11,5,5,6,17,12,3,47,22,9,13,6,8,7,14,20,9,7,11,7,58,26,19,33,6,7,5,13,61,21,12,23,8,5,18,6,3,3,9,18,9,5,6,10,14,6,13,6,4,8,30,5,4,38,6,2,6,10,32,16,3,25,11,18,20,12,20,5,6,78,5,9,25,6,9,13,10,34,23,7,6,8,4,8,7,25,6,18,5,55,9,47,42,8,5,5,20,13,63,15,37,28,41,4,43,17,11,10,5,16,3,12,8,4,2,18,15,30,39,7,76,13,14,13,6,5,5,7,9,11,11,3,7,6,34,11,99,8,6,4,5,3,28,6,7,16,30,18,9,13,7,10,18,45,18,8,4,4,6,26,16,1,17,4,7,9,34,7,7,5,4,9,4,17,18,8,8,24,10,184,21,107,4,211,5,5,5,4,9,8,465,41,16,6,8,13,3,20,12,7,10,14,4,10,25,33,6,32,4,8,7,10,36,24,12,14,29,6,15,228,4,6,362,5,8,6,7,5,4,12,5,4,6,6,8,17,3,6,10,20,8,6,36,7,15,109,17,1,12,27,112,33,7,50,4,9,6,9,23,10,8,5,6,7,6,14,7,13,4,14,7,9,8,11,6,5,26,10,13,8,88,8,15,9,9,1,5,4,2,5,17,11,17,24,13,12,28,9,3,8,21,7,1,14,9,19,11,1,8,16,9,7,13,9,57,45,6,25,6,11,4,79,5,5,17,4,14,6,6,9,7,22,10,6,5,5,3,5,20,18,13,12,11,25,15,17,4,14,7,21,6,17,28,32,9,11,6,4,5,6,4,28,6,9,11,4,14,6,5,2,39,6,9,29,15,4,24,2,7,12,1,4,37,12,23,4,9,26,6,58,5,9,9,5,4,20,6,10,7,11,6,16,11,4,5,4,43,3,12,6,36,8,4,5,4,12,23,5,12,13,15,4,25,4,5,11,5,21,4,6,30,13,5,7,9,3,8,12,4,10,16,10,71,6,4,13,6,10,6,14,8,22,11,30,8,5,5,121,5,11,4,4,5,5,11,34,18,7,5,8,12,3,123,6,15,40,9,11,5,12,33,4,47,52,8,11,34,16,7,8,7,3,4,22,39,48,6,8,20,6,12,5,7,7,14,21,3,12,9,26,37,20,104,5,4,30,7,8,3,15,5,9,6,31,6,35,9,5,19,21,13,4,144,5,4,20,19,8,75,20,7,9,19,4,14,3,9,13,22,15,1,6,9,3,15,11,34,6,31,4,60,7,8,7,14,16,6,10,5,15,6,25,5,28,8,11,4,6,4,6,20,10,5,36,5,5,20,7,14,19,4,46,1,15,12,11,12,5,8,25,9,24,11,4,18,8,6,15,114,3,63,5,7,5,7,7,9,14,6,12,6,4,20,80,4,19,18,5,5,3,11,44,6,3,17,5,21,23,7,4,28,4,17,6,9,3,6,15,6,19,54,12,6,16,13,4,5,5,13,26,17,2,3,4,90,26,9,26,2,5,12,14,3,1,9,75,6,7,56,30,6,4,15,52,17,7,2,13,303],\"xaxis\":\"x\",\"yaxis\":\"y\",\"type\":\"histogram\"}],                        {\"template\":{\"data\":{\"histogram2dcontour\":[{\"type\":\"histogram2dcontour\",\"colorbar\":{\"outlinewidth\":0,\"ticks\":\"\"},\"colorscale\":[[0.0,\"#0d0887\"],[0.1111111111111111,\"#46039f\"],[0.2222222222222222,\"#7201a8\"],[0.3333333333333333,\"#9c179e\"],[0.4444444444444444,\"#bd3786\"],[0.5555555555555556,\"#d8576b\"],[0.6666666666666666,\"#ed7953\"],[0.7777777777777778,\"#fb9f3a\"],[0.8888888888888888,\"#fdca26\"],[1.0,\"#f0f921\"]]}],\"choropleth\":[{\"type\":\"choropleth\",\"colorbar\":{\"outlinewidth\":0,\"ticks\":\"\"}}],\"histogram2d\":[{\"type\":\"histogram2d\",\"colorbar\":{\"outlinewidth\":0,\"ticks\":\"\"},\"colorscale\":[[0.0,\"#0d0887\"],[0.1111111111111111,\"#46039f\"],[0.2222222222222222,\"#7201a8\"],[0.3333333333333333,\"#9c179e\"],[0.4444444444444444,\"#bd3786\"],[0.5555555555555556,\"#d8576b\"],[0.6666666666666666,\"#ed7953\"],[0.7777777777777778,\"#fb9f3a\"],[0.8888888888888888,\"#fdca26\"],[1.0,\"#f0f921\"]]}],\"heatmap\":[{\"type\":\"heatmap\",\"colorbar\":{\"outlinewidth\":0,\"ticks\":\"\"},\"colorscale\":[[0.0,\"#0d0887\"],[0.1111111111111111,\"#46039f\"],[0.2222222222222222,\"#7201a8\"],[0.3333333333333333,\"#9c179e\"],[0.4444444444444444,\"#bd3786\"],[0.5555555555555556,\"#d8576b\"],[0.6666666666666666,\"#ed7953\"],[0.7777777777777778,\"#fb9f3a\"],[0.8888888888888888,\"#fdca26\"],[1.0,\"#f0f921\"]]}],\"heatmapgl\":[{\"type\":\"heatmapgl\",\"colorbar\":{\"outlinewidth\":0,\"ticks\":\"\"},\"colorscale\":[[0.0,\"#0d0887\"],[0.1111111111111111,\"#46039f\"],[0.2222222222222222,\"#7201a8\"],[0.3333333333333333,\"#9c179e\"],[0.4444444444444444,\"#bd3786\"],[0.5555555555555556,\"#d8576b\"],[0.6666666666666666,\"#ed7953\"],[0.7777777777777778,\"#fb9f3a\"],[0.8888888888888888,\"#fdca26\"],[1.0,\"#f0f921\"]]}],\"contourcarpet\":[{\"type\":\"contourcarpet\",\"colorbar\":{\"outlinewidth\":0,\"ticks\":\"\"}}],\"contour\":[{\"type\":\"contour\",\"colorbar\":{\"outlinewidth\":0,\"ticks\":\"\"},\"colorscale\":[[0.0,\"#0d0887\"],[0.1111111111111111,\"#46039f\"],[0.2222222222222222,\"#7201a8\"],[0.3333333333333333,\"#9c179e\"],[0.4444444444444444,\"#bd3786\"],[0.5555555555555556,\"#d8576b\"],[0.6666666666666666,\"#ed7953\"],[0.7777777777777778,\"#fb9f3a\"],[0.8888888888888888,\"#fdca26\"],[1.0,\"#f0f921\"]]}],\"surface\":[{\"type\":\"surface\",\"colorbar\":{\"outlinewidth\":0,\"ticks\":\"\"},\"colorscale\":[[0.0,\"#0d0887\"],[0.1111111111111111,\"#46039f\"],[0.2222222222222222,\"#7201a8\"],[0.3333333333333333,\"#9c179e\"],[0.4444444444444444,\"#bd3786\"],[0.5555555555555556,\"#d8576b\"],[0.6666666666666666,\"#ed7953\"],[0.7777777777777778,\"#fb9f3a\"],[0.8888888888888888,\"#fdca26\"],[1.0,\"#f0f921\"]]}],\"mesh3d\":[{\"type\":\"mesh3d\",\"colorbar\":{\"outlinewidth\":0,\"ticks\":\"\"}}],\"scatter\":[{\"fillpattern\":{\"fillmode\":\"overlay\",\"size\":10,\"solidity\":0.2},\"type\":\"scatter\"}],\"parcoords\":[{\"type\":\"parcoords\",\"line\":{\"colorbar\":{\"outlinewidth\":0,\"ticks\":\"\"}}}],\"scatterpolargl\":[{\"type\":\"scatterpolargl\",\"marker\":{\"colorbar\":{\"outlinewidth\":0,\"ticks\":\"\"}}}],\"bar\":[{\"error_x\":{\"color\":\"#2a3f5f\"},\"error_y\":{\"color\":\"#2a3f5f\"},\"marker\":{\"line\":{\"color\":\"#E5ECF6\",\"width\":0.5},\"pattern\":{\"fillmode\":\"overlay\",\"size\":10,\"solidity\":0.2}},\"type\":\"bar\"}],\"scattergeo\":[{\"type\":\"scattergeo\",\"marker\":{\"colorbar\":{\"outlinewidth\":0,\"ticks\":\"\"}}}],\"scatterpolar\":[{\"type\":\"scatterpolar\",\"marker\":{\"colorbar\":{\"outlinewidth\":0,\"ticks\":\"\"}}}],\"histogram\":[{\"marker\":{\"pattern\":{\"fillmode\":\"overlay\",\"size\":10,\"solidity\":0.2}},\"type\":\"histogram\"}],\"scattergl\":[{\"type\":\"scattergl\",\"marker\":{\"colorbar\":{\"outlinewidth\":0,\"ticks\":\"\"}}}],\"scatter3d\":[{\"type\":\"scatter3d\",\"line\":{\"colorbar\":{\"outlinewidth\":0,\"ticks\":\"\"}},\"marker\":{\"colorbar\":{\"outlinewidth\":0,\"ticks\":\"\"}}}],\"scattermapbox\":[{\"type\":\"scattermapbox\",\"marker\":{\"colorbar\":{\"outlinewidth\":0,\"ticks\":\"\"}}}],\"scatterternary\":[{\"type\":\"scatterternary\",\"marker\":{\"colorbar\":{\"outlinewidth\":0,\"ticks\":\"\"}}}],\"scattercarpet\":[{\"type\":\"scattercarpet\",\"marker\":{\"colorbar\":{\"outlinewidth\":0,\"ticks\":\"\"}}}],\"carpet\":[{\"aaxis\":{\"endlinecolor\":\"#2a3f5f\",\"gridcolor\":\"white\",\"linecolor\":\"white\",\"minorgridcolor\":\"white\",\"startlinecolor\":\"#2a3f5f\"},\"baxis\":{\"endlinecolor\":\"#2a3f5f\",\"gridcolor\":\"white\",\"linecolor\":\"white\",\"minorgridcolor\":\"white\",\"startlinecolor\":\"#2a3f5f\"},\"type\":\"carpet\"}],\"table\":[{\"cells\":{\"fill\":{\"color\":\"#EBF0F8\"},\"line\":{\"color\":\"white\"}},\"header\":{\"fill\":{\"color\":\"#C8D4E3\"},\"line\":{\"color\":\"white\"}},\"type\":\"table\"}],\"barpolar\":[{\"marker\":{\"line\":{\"color\":\"#E5ECF6\",\"width\":0.5},\"pattern\":{\"fillmode\":\"overlay\",\"size\":10,\"solidity\":0.2}},\"type\":\"barpolar\"}],\"pie\":[{\"automargin\":true,\"type\":\"pie\"}]},\"layout\":{\"autotypenumbers\":\"strict\",\"colorway\":[\"#636efa\",\"#EF553B\",\"#00cc96\",\"#ab63fa\",\"#FFA15A\",\"#19d3f3\",\"#FF6692\",\"#B6E880\",\"#FF97FF\",\"#FECB52\"],\"font\":{\"color\":\"#2a3f5f\"},\"hovermode\":\"closest\",\"hoverlabel\":{\"align\":\"left\"},\"paper_bgcolor\":\"white\",\"plot_bgcolor\":\"#E5ECF6\",\"polar\":{\"bgcolor\":\"#E5ECF6\",\"angularaxis\":{\"gridcolor\":\"white\",\"linecolor\":\"white\",\"ticks\":\"\"},\"radialaxis\":{\"gridcolor\":\"white\",\"linecolor\":\"white\",\"ticks\":\"\"}},\"ternary\":{\"bgcolor\":\"#E5ECF6\",\"aaxis\":{\"gridcolor\":\"white\",\"linecolor\":\"white\",\"ticks\":\"\"},\"baxis\":{\"gridcolor\":\"white\",\"linecolor\":\"white\",\"ticks\":\"\"},\"caxis\":{\"gridcolor\":\"white\",\"linecolor\":\"white\",\"ticks\":\"\"}},\"coloraxis\":{\"colorbar\":{\"outlinewidth\":0,\"ticks\":\"\"}},\"colorscale\":{\"sequential\":[[0.0,\"#0d0887\"],[0.1111111111111111,\"#46039f\"],[0.2222222222222222,\"#7201a8\"],[0.3333333333333333,\"#9c179e\"],[0.4444444444444444,\"#bd3786\"],[0.5555555555555556,\"#d8576b\"],[0.6666666666666666,\"#ed7953\"],[0.7777777777777778,\"#fb9f3a\"],[0.8888888888888888,\"#fdca26\"],[1.0,\"#f0f921\"]],\"sequentialminus\":[[0.0,\"#0d0887\"],[0.1111111111111111,\"#46039f\"],[0.2222222222222222,\"#7201a8\"],[0.3333333333333333,\"#9c179e\"],[0.4444444444444444,\"#bd3786\"],[0.5555555555555556,\"#d8576b\"],[0.6666666666666666,\"#ed7953\"],[0.7777777777777778,\"#fb9f3a\"],[0.8888888888888888,\"#fdca26\"],[1.0,\"#f0f921\"]],\"diverging\":[[0,\"#8e0152\"],[0.1,\"#c51b7d\"],[0.2,\"#de77ae\"],[0.3,\"#f1b6da\"],[0.4,\"#fde0ef\"],[0.5,\"#f7f7f7\"],[0.6,\"#e6f5d0\"],[0.7,\"#b8e186\"],[0.8,\"#7fbc41\"],[0.9,\"#4d9221\"],[1,\"#276419\"]]},\"xaxis\":{\"gridcolor\":\"white\",\"linecolor\":\"white\",\"ticks\":\"\",\"title\":{\"standoff\":15},\"zerolinecolor\":\"white\",\"automargin\":true,\"zerolinewidth\":2},\"yaxis\":{\"gridcolor\":\"white\",\"linecolor\":\"white\",\"ticks\":\"\",\"title\":{\"standoff\":15},\"zerolinecolor\":\"white\",\"automargin\":true,\"zerolinewidth\":2},\"scene\":{\"xaxis\":{\"backgroundcolor\":\"#E5ECF6\",\"gridcolor\":\"white\",\"linecolor\":\"white\",\"showbackground\":true,\"ticks\":\"\",\"zerolinecolor\":\"white\",\"gridwidth\":2},\"yaxis\":{\"backgroundcolor\":\"#E5ECF6\",\"gridcolor\":\"white\",\"linecolor\":\"white\",\"showbackground\":true,\"ticks\":\"\",\"zerolinecolor\":\"white\",\"gridwidth\":2},\"zaxis\":{\"backgroundcolor\":\"#E5ECF6\",\"gridcolor\":\"white\",\"linecolor\":\"white\",\"showbackground\":true,\"ticks\":\"\",\"zerolinecolor\":\"white\",\"gridwidth\":2}},\"shapedefaults\":{\"line\":{\"color\":\"#2a3f5f\"}},\"annotationdefaults\":{\"arrowcolor\":\"#2a3f5f\",\"arrowhead\":0,\"arrowwidth\":1},\"geo\":{\"bgcolor\":\"white\",\"landcolor\":\"#E5ECF6\",\"subunitcolor\":\"white\",\"showland\":true,\"showlakes\":true,\"lakecolor\":\"white\"},\"title\":{\"x\":0.05},\"mapbox\":{\"style\":\"light\"}}},\"xaxis\":{\"anchor\":\"y\",\"domain\":[0.0,1.0],\"title\":{\"text\":\"\\u041a\\u043e\\u043b\\u0438\\u0447\\u0435\\u0441\\u0442\\u0432\\u043e \\u0441\\u043e\\u0431\\u044b\\u0442\\u0438\\u0439\"},\"range\":[0,100]},\"yaxis\":{\"anchor\":\"x\",\"domain\":[0.0,1.0],\"title\":{\"text\":\"\\u041a\\u043e\\u043b\\u0438\\u0447\\u0435\\u0441\\u0442\\u0432\\u043e \\u043f\\u043e\\u043b\\u044c\\u0437\\u043e\\u0432\\u0430\\u0442\\u0435\\u043b\\u0435\\u0439\"}},\"legend\":{\"title\":{\"text\":\"variable\"},\"tracegroupgap\":0},\"margin\":{\"t\":60},\"barmode\":\"relative\",\"title\":{\"text\":\"\\u041a\\u043e\\u043b\\u0438\\u0447\\u0435\\u0441\\u0442\\u0432\\u043e \\u0441\\u043e\\u0431\\u044b\\u0442\\u0438\\u0439 \\u043f\\u043e \\u043f\\u043e\\u043b\\u044c\\u0437\\u043e\\u0432\\u0430\\u0442\\u0435\\u043b\\u044f\\u043c\"}},                        {\"responsive\": true}                    ).then(function(){\n",
       "                            \n",
       "var gd = document.getElementById('6d4bb63c-3966-4373-bd71-6c6354d8921a');\n",
       "var x = new MutationObserver(function (mutations, observer) {{\n",
       "        var display = window.getComputedStyle(gd).display;\n",
       "        if (!display || display === 'none') {{\n",
       "            console.log([gd, 'removed!']);\n",
       "            Plotly.purge(gd);\n",
       "            observer.disconnect();\n",
       "        }}\n",
       "}});\n",
       "\n",
       "// Listen for the removal of the full notebook cells\n",
       "var notebookContainer = gd.closest('#notebook-container');\n",
       "if (notebookContainer) {{\n",
       "    x.observe(notebookContainer, {childList: true});\n",
       "}}\n",
       "\n",
       "// Listen for the clearing of the current output cell\n",
       "var outputEl = gd.closest('.output');\n",
       "if (outputEl) {{\n",
       "    x.observe(outputEl, {childList: true});\n",
       "}}\n",
       "\n",
       "                        })                };                });            </script>        </div>"
      ]
     },
     "metadata": {},
     "output_type": "display_data"
    }
   ],
   "source": [
    "# Создадим график\n",
    "fig = px.histogram(eventcnt['event_name'], nbins=85)\n",
    "fig.update_layout(xaxis_title='Количество событий', yaxis_title='Количество пользователей', \n",
    "                  title='Количество событий по пользователям')\n",
    "fig.update_xaxes(range=[0, 100])\n",
    "fig.show()"
   ]
  },
  {
   "cell_type": "code",
   "execution_count": 26,
   "metadata": {},
   "outputs": [
    {
     "data": {
      "text/html": [
       "<div>\n",
       "<style scoped>\n",
       "    .dataframe tbody tr th:only-of-type {\n",
       "        vertical-align: middle;\n",
       "    }\n",
       "\n",
       "    .dataframe tbody tr th {\n",
       "        vertical-align: top;\n",
       "    }\n",
       "\n",
       "    .dataframe thead th {\n",
       "        text-align: right;\n",
       "    }\n",
       "</style>\n",
       "<table border=\"1\" class=\"dataframe\">\n",
       "  <thead>\n",
       "    <tr style=\"text-align: right;\">\n",
       "      <th></th>\n",
       "      <th>event_name</th>\n",
       "    </tr>\n",
       "  </thead>\n",
       "  <tbody>\n",
       "    <tr>\n",
       "      <th>count</th>\n",
       "      <td>4293.000</td>\n",
       "    </tr>\n",
       "    <tr>\n",
       "      <th>mean</th>\n",
       "      <td>17.283</td>\n",
       "    </tr>\n",
       "    <tr>\n",
       "      <th>std</th>\n",
       "      <td>29.131</td>\n",
       "    </tr>\n",
       "    <tr>\n",
       "      <th>min</th>\n",
       "      <td>1.000</td>\n",
       "    </tr>\n",
       "    <tr>\n",
       "      <th>25%</th>\n",
       "      <td>5.000</td>\n",
       "    </tr>\n",
       "    <tr>\n",
       "      <th>50%</th>\n",
       "      <td>9.000</td>\n",
       "    </tr>\n",
       "    <tr>\n",
       "      <th>75%</th>\n",
       "      <td>17.000</td>\n",
       "    </tr>\n",
       "    <tr>\n",
       "      <th>90%</th>\n",
       "      <td>36.000</td>\n",
       "    </tr>\n",
       "    <tr>\n",
       "      <th>95%</th>\n",
       "      <td>59.000</td>\n",
       "    </tr>\n",
       "    <tr>\n",
       "      <th>99%</th>\n",
       "      <td>132.000</td>\n",
       "    </tr>\n",
       "    <tr>\n",
       "      <th>max</th>\n",
       "      <td>478.000</td>\n",
       "    </tr>\n",
       "  </tbody>\n",
       "</table>\n",
       "</div>"
      ],
      "text/plain": [
       "       event_name\n",
       "count    4293.000\n",
       "mean       17.283\n",
       "std        29.131\n",
       "min         1.000\n",
       "25%         5.000\n",
       "50%         9.000\n",
       "75%        17.000\n",
       "90%        36.000\n",
       "95%        59.000\n",
       "99%       132.000\n",
       "max       478.000"
      ]
     },
     "execution_count": 26,
     "metadata": {},
     "output_type": "execute_result"
    }
   ],
   "source": [
    "# Выведем основную статистику по полученному распределению данных\n",
    "eventcnt.describe(percentiles=[0.25, 0.50, 0.75, 0.90, 0.95, 0.99]).round(3)"
   ]
  },
  {
   "cell_type": "markdown",
   "metadata": {},
   "source": [
    "Cудя по полученным результатам, в данных есть выбросы, что видно по графику и максимальному значению 478. Однако так как в данном исследовании мы изучаем поведение пользователей через произошедшие события, то будет лучше их не трогать. В основном пользователи совершают до 20 событий, половина всех пользователей совершила до 9 действий, 25% произвело более 17 событий, 5% от всех пользователей совершили более 60 действий. Минимальное количество действий равно единице, что логично, так как многие могли  зайти в приложение и сразу выйти, то есть совершив только действие \"просмотр рекомендательных объявлений\"."
   ]
  },
  {
   "cell_type": "markdown",
   "metadata": {},
   "source": [
    "### Длительность сессий"
   ]
  },
  {
   "cell_type": "markdown",
   "metadata": {},
   "source": [
    "Разделение сессий нам необходимо, чтобы после с помощью них выделить сценарии действий пользователей в приложении и рассчитать по ним воронки. Сессии можно выделить двумя основными способами: установив календарный день за одну сессию или же применив тайм-ауты. Тайм-аут сессии - это интервал времени бездействия пользователя, после которого считается, что пользовательская сессия закончилась. Такой вариант довольно сложен, но обеспечивает высокой точностью результатов, поэтому воспользуемся им."
   ]
  },
  {
   "cell_type": "code",
   "execution_count": 27,
   "metadata": {},
   "outputs": [],
   "source": [
    "# Создадим функцию для разделения сессий\n",
    "def session(data, time_out):\n",
    "    \"\"\"Эта функция разделяет сессии пользователей.\n",
    "\n",
    "    В функцию вводится датасет и нужное значение тайм-аута. В итоге сессии выделяются и после рассчитывается\n",
    "    длительность каждой сессии по пользователям.\n",
    "    \n",
    "    Функция возвращает датасет с добавленной колонкой с сессиями.\n",
    "    \"\"\"\n",
    "    data_ss = data.sort_values(['user_id', 'event_time'], ignore_index=True)\n",
    "    g = (data_ss.groupby('user_id')['event_time'].diff() > pd.Timedelta(time_out)).cumsum()\n",
    "    data_ss['session'] = data_ss.groupby(['user_id', g], sort=False).ngroup() + 1\n",
    "    \n",
    "    return data_ss"
   ]
  },
  {
   "cell_type": "markdown",
   "metadata": {},
   "source": [
    "Теперь применим функцию и попробуем ввести время тайм-аута 25 минут, далее мы сможем увидеть, какая получается средняя продолжительность сессии при таком интервале."
   ]
  },
  {
   "cell_type": "code",
   "execution_count": 28,
   "metadata": {},
   "outputs": [
    {
     "data": {
      "text/html": [
       "<div>\n",
       "<style scoped>\n",
       "    .dataframe tbody tr th:only-of-type {\n",
       "        vertical-align: middle;\n",
       "    }\n",
       "\n",
       "    .dataframe tbody tr th {\n",
       "        vertical-align: top;\n",
       "    }\n",
       "\n",
       "    .dataframe thead th {\n",
       "        text-align: right;\n",
       "    }\n",
       "</style>\n",
       "<table border=\"1\" class=\"dataframe\">\n",
       "  <thead>\n",
       "    <tr style=\"text-align: right;\">\n",
       "      <th></th>\n",
       "      <th>event_time</th>\n",
       "      <th>event_name</th>\n",
       "      <th>user_id</th>\n",
       "      <th>source</th>\n",
       "      <th>date</th>\n",
       "      <th>session</th>\n",
       "    </tr>\n",
       "  </thead>\n",
       "  <tbody>\n",
       "    <tr>\n",
       "      <th>0</th>\n",
       "      <td>2019-10-07 13:39:45.989359</td>\n",
       "      <td>tips_show</td>\n",
       "      <td>0001b1d5-b74a-4cbf-aeb0-7df5947bf349</td>\n",
       "      <td>other</td>\n",
       "      <td>2019-10-07</td>\n",
       "      <td>1</td>\n",
       "    </tr>\n",
       "    <tr>\n",
       "      <th>1</th>\n",
       "      <td>2019-10-07 13:40:31.052909</td>\n",
       "      <td>tips_show</td>\n",
       "      <td>0001b1d5-b74a-4cbf-aeb0-7df5947bf349</td>\n",
       "      <td>other</td>\n",
       "      <td>2019-10-07</td>\n",
       "      <td>1</td>\n",
       "    </tr>\n",
       "    <tr>\n",
       "      <th>2</th>\n",
       "      <td>2019-10-07 13:41:05.722489</td>\n",
       "      <td>tips_show</td>\n",
       "      <td>0001b1d5-b74a-4cbf-aeb0-7df5947bf349</td>\n",
       "      <td>other</td>\n",
       "      <td>2019-10-07</td>\n",
       "      <td>1</td>\n",
       "    </tr>\n",
       "    <tr>\n",
       "      <th>3</th>\n",
       "      <td>2019-10-07 13:43:20.735461</td>\n",
       "      <td>tips_show</td>\n",
       "      <td>0001b1d5-b74a-4cbf-aeb0-7df5947bf349</td>\n",
       "      <td>other</td>\n",
       "      <td>2019-10-07</td>\n",
       "      <td>1</td>\n",
       "    </tr>\n",
       "    <tr>\n",
       "      <th>4</th>\n",
       "      <td>2019-10-07 13:45:30.917502</td>\n",
       "      <td>tips_show</td>\n",
       "      <td>0001b1d5-b74a-4cbf-aeb0-7df5947bf349</td>\n",
       "      <td>other</td>\n",
       "      <td>2019-10-07</td>\n",
       "      <td>1</td>\n",
       "    </tr>\n",
       "    <tr>\n",
       "      <th>5</th>\n",
       "      <td>2019-10-07 13:45:43.212340</td>\n",
       "      <td>tips_show</td>\n",
       "      <td>0001b1d5-b74a-4cbf-aeb0-7df5947bf349</td>\n",
       "      <td>other</td>\n",
       "      <td>2019-10-07</td>\n",
       "      <td>1</td>\n",
       "    </tr>\n",
       "    <tr>\n",
       "      <th>6</th>\n",
       "      <td>2019-10-07 13:46:31.033718</td>\n",
       "      <td>tips_show</td>\n",
       "      <td>0001b1d5-b74a-4cbf-aeb0-7df5947bf349</td>\n",
       "      <td>other</td>\n",
       "      <td>2019-10-07</td>\n",
       "      <td>1</td>\n",
       "    </tr>\n",
       "    <tr>\n",
       "      <th>7</th>\n",
       "      <td>2019-10-07 13:47:32.860234</td>\n",
       "      <td>tips_show</td>\n",
       "      <td>0001b1d5-b74a-4cbf-aeb0-7df5947bf349</td>\n",
       "      <td>other</td>\n",
       "      <td>2019-10-07</td>\n",
       "      <td>1</td>\n",
       "    </tr>\n",
       "    <tr>\n",
       "      <th>8</th>\n",
       "      <td>2019-10-07 13:49:41.716617</td>\n",
       "      <td>tips_show</td>\n",
       "      <td>0001b1d5-b74a-4cbf-aeb0-7df5947bf349</td>\n",
       "      <td>other</td>\n",
       "      <td>2019-10-07</td>\n",
       "      <td>1</td>\n",
       "    </tr>\n",
       "    <tr>\n",
       "      <th>9</th>\n",
       "      <td>2019-10-09 18:33:55.577963</td>\n",
       "      <td>map</td>\n",
       "      <td>0001b1d5-b74a-4cbf-aeb0-7df5947bf349</td>\n",
       "      <td>other</td>\n",
       "      <td>2019-10-09</td>\n",
       "      <td>2</td>\n",
       "    </tr>\n",
       "  </tbody>\n",
       "</table>\n",
       "</div>"
      ],
      "text/plain": [
       "                  event_time event_name                               user_id  \\\n",
       "0 2019-10-07 13:39:45.989359  tips_show  0001b1d5-b74a-4cbf-aeb0-7df5947bf349   \n",
       "1 2019-10-07 13:40:31.052909  tips_show  0001b1d5-b74a-4cbf-aeb0-7df5947bf349   \n",
       "2 2019-10-07 13:41:05.722489  tips_show  0001b1d5-b74a-4cbf-aeb0-7df5947bf349   \n",
       "3 2019-10-07 13:43:20.735461  tips_show  0001b1d5-b74a-4cbf-aeb0-7df5947bf349   \n",
       "4 2019-10-07 13:45:30.917502  tips_show  0001b1d5-b74a-4cbf-aeb0-7df5947bf349   \n",
       "5 2019-10-07 13:45:43.212340  tips_show  0001b1d5-b74a-4cbf-aeb0-7df5947bf349   \n",
       "6 2019-10-07 13:46:31.033718  tips_show  0001b1d5-b74a-4cbf-aeb0-7df5947bf349   \n",
       "7 2019-10-07 13:47:32.860234  tips_show  0001b1d5-b74a-4cbf-aeb0-7df5947bf349   \n",
       "8 2019-10-07 13:49:41.716617  tips_show  0001b1d5-b74a-4cbf-aeb0-7df5947bf349   \n",
       "9 2019-10-09 18:33:55.577963        map  0001b1d5-b74a-4cbf-aeb0-7df5947bf349   \n",
       "\n",
       "  source       date  session  \n",
       "0  other 2019-10-07        1  \n",
       "1  other 2019-10-07        1  \n",
       "2  other 2019-10-07        1  \n",
       "3  other 2019-10-07        1  \n",
       "4  other 2019-10-07        1  \n",
       "5  other 2019-10-07        1  \n",
       "6  other 2019-10-07        1  \n",
       "7  other 2019-10-07        1  \n",
       "8  other 2019-10-07        1  \n",
       "9  other 2019-10-09        2  "
      ]
     },
     "execution_count": 28,
     "metadata": {},
     "output_type": "execute_result"
    }
   ],
   "source": [
    "# Применим функцию к нашим данным, поставив тайм-аут в 30 минут\n",
    "data_ss = session(data, '25min')\n",
    "\n",
    "# Выведем первые 10 строк новой таблицы\n",
    "data_ss.head(10)"
   ]
  },
  {
   "cell_type": "markdown",
   "metadata": {},
   "source": [
    "Тепень сгруппируем данные по пользователям и сессиям, и найдем продолжительность сессий. "
   ]
  },
  {
   "cell_type": "code",
   "execution_count": 29,
   "metadata": {},
   "outputs": [
    {
     "data": {
      "text/html": [
       "<div>\n",
       "<style scoped>\n",
       "    .dataframe tbody tr th:only-of-type {\n",
       "        vertical-align: middle;\n",
       "    }\n",
       "\n",
       "    .dataframe tbody tr th {\n",
       "        vertical-align: top;\n",
       "    }\n",
       "\n",
       "    .dataframe thead th {\n",
       "        text-align: right;\n",
       "    }\n",
       "</style>\n",
       "<table border=\"1\" class=\"dataframe\">\n",
       "  <thead>\n",
       "    <tr style=\"text-align: right;\">\n",
       "      <th></th>\n",
       "      <th>user_id</th>\n",
       "      <th>session</th>\n",
       "      <th>duration</th>\n",
       "    </tr>\n",
       "  </thead>\n",
       "  <tbody>\n",
       "    <tr>\n",
       "      <th>0</th>\n",
       "      <td>0001b1d5-b74a-4cbf-aeb0-7df5947bf349</td>\n",
       "      <td>1</td>\n",
       "      <td>0 days 00:09:55.727258</td>\n",
       "    </tr>\n",
       "    <tr>\n",
       "      <th>1</th>\n",
       "      <td>0001b1d5-b74a-4cbf-aeb0-7df5947bf349</td>\n",
       "      <td>2</td>\n",
       "      <td>0 days 00:08:27.385985</td>\n",
       "    </tr>\n",
       "    <tr>\n",
       "      <th>2</th>\n",
       "      <td>0001b1d5-b74a-4cbf-aeb0-7df5947bf349</td>\n",
       "      <td>3</td>\n",
       "      <td>0 days 00:14:59.272096</td>\n",
       "    </tr>\n",
       "    <tr>\n",
       "      <th>3</th>\n",
       "      <td>0001b1d5-b74a-4cbf-aeb0-7df5947bf349</td>\n",
       "      <td>4</td>\n",
       "      <td>0 days 00:12:38.171767</td>\n",
       "    </tr>\n",
       "    <tr>\n",
       "      <th>4</th>\n",
       "      <td>00157779-810c-4498-9e05-a1e9e3cedf93</td>\n",
       "      <td>5</td>\n",
       "      <td>0 days 00:25:20.787329</td>\n",
       "    </tr>\n",
       "  </tbody>\n",
       "</table>\n",
       "</div>"
      ],
      "text/plain": [
       "                                user_id  session               duration\n",
       "0  0001b1d5-b74a-4cbf-aeb0-7df5947bf349        1 0 days 00:09:55.727258\n",
       "1  0001b1d5-b74a-4cbf-aeb0-7df5947bf349        2 0 days 00:08:27.385985\n",
       "2  0001b1d5-b74a-4cbf-aeb0-7df5947bf349        3 0 days 00:14:59.272096\n",
       "3  0001b1d5-b74a-4cbf-aeb0-7df5947bf349        4 0 days 00:12:38.171767\n",
       "4  00157779-810c-4498-9e05-a1e9e3cedf93        5 0 days 00:25:20.787329"
      ]
     },
     "execution_count": 29,
     "metadata": {},
     "output_type": "execute_result"
    }
   ],
   "source": [
    "# Сгруппируем данные по пользователям и их сессиям\n",
    "data_ss_gr = data_ss.groupby(['user_id', 'session'])\n",
    "\n",
    "# Рассчитаем продолжительность сессий (из конца сессии вычтем начало по времени)\n",
    "ses_duration = (data_ss_gr['event_time'].max() - data_ss_gr['event_time'].min())\n",
    "\n",
    "# Преобразуем таблицу в стандартный вид\n",
    "ses_duration = ses_duration.to_frame().rename(columns={'event_time':'duration'}).reset_index()\n",
    "\n",
    "# Выведем первые пять строк\n",
    "ses_duration.head()"
   ]
  },
  {
   "cell_type": "markdown",
   "metadata": {},
   "source": [
    "Рассчитаем получившуюся среднюю длительность сессии в нашем датасете."
   ]
  },
  {
   "cell_type": "code",
   "execution_count": 30,
   "metadata": {},
   "outputs": [
    {
     "name": "stdout",
     "output_type": "stream",
     "text": [
      "Cредняя длительность сессии при тайм-ауте в 25 минут: 0 days 00:11:52.574882615\n"
     ]
    }
   ],
   "source": [
    "print('Cредняя длительность сессии при тайм-ауте в 25 минут: {}'.format(ses_duration['duration'].mean()))"
   ]
  },
  {
   "cell_type": "markdown",
   "metadata": {},
   "source": [
    "Для разделения сессий мы взяли интервал времени бездействия пользователя в 25 минут и рассчитали, какая получается средняя длительность сессии при таком тайм-ауте. В итоге средняя продолжительность оказалась примерно 12 минут (11.52). Как мы выяснили ранее из отчета компании *Adjust*, средняя длительность сессии в 2019 составляла около 10,5 минут, а в 2020 - 11. Если учитывать рост продолжительности одной сессии с 2019 по 2021 (19,09-20,31 мин.), то поэтому такие показатели тайм-аута и средней продолжительности имеют место быть, поэтому оставим так."
   ]
  },
  {
   "cell_type": "code",
   "execution_count": 31,
   "metadata": {
    "scrolled": true
   },
   "outputs": [
    {
     "name": "stdout",
     "output_type": "stream",
     "text": [
      "count                        74196\n",
      "mean     0 days 00:00:32.604077054\n",
      "std      0 days 00:03:13.256360544\n",
      "min         0 days 00:00:00.000001\n",
      "25%      0 days 00:00:04.720981250\n",
      "50%      0 days 00:00:13.006695500\n",
      "75%         0 days 00:00:30.894998\n",
      "max         0 days 03:38:21.375306\n",
      "Name: time_diff, dtype: object\n",
      "0.80      0 days 00:00:37.293100\n",
      "0.85   0 days 00:00:46.540382500\n",
      "0.90   0 days 00:01:00.814640500\n",
      "0.95   0 days 00:01:30.842338250\n",
      "0.99   0 days 00:03:52.930637300\n",
      "Name: time_diff, dtype: timedelta64[ns]\n"
     ]
    }
   ],
   "source": [
    "sort = data.sort_values(['event_time'])\n",
    "sort['time_diff'] = sort['event_time'].diff()\n",
    "print(sort['time_diff'].describe())\n",
    "print(sort['time_diff'].quantile([0.80, 0.85, 0.90, 0.95, 0.99]))"
   ]
  },
  {
   "cell_type": "markdown",
   "metadata": {},
   "source": [
    "У нас 75% временных разниц между соседними событиями составляют менее ~30 минут. \n",
    "Как указано в статье про веб-аналитику (https://searchengines.guru/ru/articles/40879), во многих аналитических счетчиках тайм-аут настраивается автоматически на 30 минут. \n",
    "Установим наш тайм-аут в 30 минут."
   ]
  },
  {
   "cell_type": "code",
   "execution_count": 32,
   "metadata": {},
   "outputs": [
    {
     "data": {
      "text/html": [
       "<div>\n",
       "<style scoped>\n",
       "    .dataframe tbody tr th:only-of-type {\n",
       "        vertical-align: middle;\n",
       "    }\n",
       "\n",
       "    .dataframe tbody tr th {\n",
       "        vertical-align: top;\n",
       "    }\n",
       "\n",
       "    .dataframe thead th {\n",
       "        text-align: right;\n",
       "    }\n",
       "</style>\n",
       "<table border=\"1\" class=\"dataframe\">\n",
       "  <thead>\n",
       "    <tr style=\"text-align: right;\">\n",
       "      <th></th>\n",
       "      <th>event_time</th>\n",
       "      <th>event_name</th>\n",
       "      <th>user_id</th>\n",
       "      <th>source</th>\n",
       "      <th>date</th>\n",
       "      <th>session</th>\n",
       "    </tr>\n",
       "  </thead>\n",
       "  <tbody>\n",
       "    <tr>\n",
       "      <th>0</th>\n",
       "      <td>2019-10-07 13:39:45.989359</td>\n",
       "      <td>tips_show</td>\n",
       "      <td>0001b1d5-b74a-4cbf-aeb0-7df5947bf349</td>\n",
       "      <td>other</td>\n",
       "      <td>2019-10-07</td>\n",
       "      <td>1</td>\n",
       "    </tr>\n",
       "    <tr>\n",
       "      <th>1</th>\n",
       "      <td>2019-10-07 13:40:31.052909</td>\n",
       "      <td>tips_show</td>\n",
       "      <td>0001b1d5-b74a-4cbf-aeb0-7df5947bf349</td>\n",
       "      <td>other</td>\n",
       "      <td>2019-10-07</td>\n",
       "      <td>1</td>\n",
       "    </tr>\n",
       "    <tr>\n",
       "      <th>2</th>\n",
       "      <td>2019-10-07 13:41:05.722489</td>\n",
       "      <td>tips_show</td>\n",
       "      <td>0001b1d5-b74a-4cbf-aeb0-7df5947bf349</td>\n",
       "      <td>other</td>\n",
       "      <td>2019-10-07</td>\n",
       "      <td>1</td>\n",
       "    </tr>\n",
       "    <tr>\n",
       "      <th>3</th>\n",
       "      <td>2019-10-07 13:43:20.735461</td>\n",
       "      <td>tips_show</td>\n",
       "      <td>0001b1d5-b74a-4cbf-aeb0-7df5947bf349</td>\n",
       "      <td>other</td>\n",
       "      <td>2019-10-07</td>\n",
       "      <td>1</td>\n",
       "    </tr>\n",
       "    <tr>\n",
       "      <th>4</th>\n",
       "      <td>2019-10-07 13:45:30.917502</td>\n",
       "      <td>tips_show</td>\n",
       "      <td>0001b1d5-b74a-4cbf-aeb0-7df5947bf349</td>\n",
       "      <td>other</td>\n",
       "      <td>2019-10-07</td>\n",
       "      <td>1</td>\n",
       "    </tr>\n",
       "    <tr>\n",
       "      <th>5</th>\n",
       "      <td>2019-10-07 13:45:43.212340</td>\n",
       "      <td>tips_show</td>\n",
       "      <td>0001b1d5-b74a-4cbf-aeb0-7df5947bf349</td>\n",
       "      <td>other</td>\n",
       "      <td>2019-10-07</td>\n",
       "      <td>1</td>\n",
       "    </tr>\n",
       "    <tr>\n",
       "      <th>6</th>\n",
       "      <td>2019-10-07 13:46:31.033718</td>\n",
       "      <td>tips_show</td>\n",
       "      <td>0001b1d5-b74a-4cbf-aeb0-7df5947bf349</td>\n",
       "      <td>other</td>\n",
       "      <td>2019-10-07</td>\n",
       "      <td>1</td>\n",
       "    </tr>\n",
       "    <tr>\n",
       "      <th>7</th>\n",
       "      <td>2019-10-07 13:47:32.860234</td>\n",
       "      <td>tips_show</td>\n",
       "      <td>0001b1d5-b74a-4cbf-aeb0-7df5947bf349</td>\n",
       "      <td>other</td>\n",
       "      <td>2019-10-07</td>\n",
       "      <td>1</td>\n",
       "    </tr>\n",
       "    <tr>\n",
       "      <th>8</th>\n",
       "      <td>2019-10-07 13:49:41.716617</td>\n",
       "      <td>tips_show</td>\n",
       "      <td>0001b1d5-b74a-4cbf-aeb0-7df5947bf349</td>\n",
       "      <td>other</td>\n",
       "      <td>2019-10-07</td>\n",
       "      <td>1</td>\n",
       "    </tr>\n",
       "    <tr>\n",
       "      <th>9</th>\n",
       "      <td>2019-10-09 18:33:55.577963</td>\n",
       "      <td>map</td>\n",
       "      <td>0001b1d5-b74a-4cbf-aeb0-7df5947bf349</td>\n",
       "      <td>other</td>\n",
       "      <td>2019-10-09</td>\n",
       "      <td>2</td>\n",
       "    </tr>\n",
       "  </tbody>\n",
       "</table>\n",
       "</div>"
      ],
      "text/plain": [
       "                  event_time event_name                               user_id  \\\n",
       "0 2019-10-07 13:39:45.989359  tips_show  0001b1d5-b74a-4cbf-aeb0-7df5947bf349   \n",
       "1 2019-10-07 13:40:31.052909  tips_show  0001b1d5-b74a-4cbf-aeb0-7df5947bf349   \n",
       "2 2019-10-07 13:41:05.722489  tips_show  0001b1d5-b74a-4cbf-aeb0-7df5947bf349   \n",
       "3 2019-10-07 13:43:20.735461  tips_show  0001b1d5-b74a-4cbf-aeb0-7df5947bf349   \n",
       "4 2019-10-07 13:45:30.917502  tips_show  0001b1d5-b74a-4cbf-aeb0-7df5947bf349   \n",
       "5 2019-10-07 13:45:43.212340  tips_show  0001b1d5-b74a-4cbf-aeb0-7df5947bf349   \n",
       "6 2019-10-07 13:46:31.033718  tips_show  0001b1d5-b74a-4cbf-aeb0-7df5947bf349   \n",
       "7 2019-10-07 13:47:32.860234  tips_show  0001b1d5-b74a-4cbf-aeb0-7df5947bf349   \n",
       "8 2019-10-07 13:49:41.716617  tips_show  0001b1d5-b74a-4cbf-aeb0-7df5947bf349   \n",
       "9 2019-10-09 18:33:55.577963        map  0001b1d5-b74a-4cbf-aeb0-7df5947bf349   \n",
       "\n",
       "  source       date  session  \n",
       "0  other 2019-10-07        1  \n",
       "1  other 2019-10-07        1  \n",
       "2  other 2019-10-07        1  \n",
       "3  other 2019-10-07        1  \n",
       "4  other 2019-10-07        1  \n",
       "5  other 2019-10-07        1  \n",
       "6  other 2019-10-07        1  \n",
       "7  other 2019-10-07        1  \n",
       "8  other 2019-10-07        1  \n",
       "9  other 2019-10-09        2  "
      ]
     },
     "execution_count": 32,
     "metadata": {},
     "output_type": "execute_result"
    }
   ],
   "source": [
    "data_ss = session(data, '30min')\n",
    "\n",
    "# Выведем первые 10 строк новой таблицы\n",
    "data_ss.head(10)"
   ]
  },
  {
   "cell_type": "markdown",
   "metadata": {},
   "source": [
    "### Вывод по разделу"
   ]
  },
  {
   "cell_type": "markdown",
   "metadata": {},
   "source": [
    "<div class=\"alert alert-info\" style=\"border-color: lavender; border-radius: 10px; background-color: lavender;\"> \n",
    "    <font color = 'black'> \n",
    "        \n",
    "- Наиболее часто встречающиеся события по каждому дню: просмотр фото, поиск и открытие карточки обявления;\n",
    "- В течение каждого дня Яндекс являлся лидером по источнику искачивания приложения;\n",
    "- В основном пользователи совершали до 20 событий, половина всех пользователей совершила до 9 действий, 5% от всех пользователей совершили более 60 действий. "
   ]
  },
  {
   "cell_type": "markdown",
   "metadata": {},
   "source": [
    "## Исследование целевого события - просмотра контактов"
   ]
  },
  {
   "cell_type": "markdown",
   "metadata": {},
   "source": [
    "### Анализ связи целевого события и других действий пользователей"
   ]
  },
  {
   "cell_type": "markdown",
   "metadata": {},
   "source": [
    "- В разрезе сессий отобрать сценарии\\паттерны, которые приводят к просмотру контактов с помощью диаграммы Санкея (выбрать 3 наиболее популярных сценария);  \n",
    "- По выбранным сценариям построить воронки в разрезе уникальных пользователей.  "
   ]
  },
  {
   "cell_type": "markdown",
   "metadata": {},
   "source": [
    "Для начала отберем данные. Нам не потребуется вся таблица предыдущего анализа, нужны будут только три столбца: сессии, время и название события."
   ]
  },
  {
   "cell_type": "code",
   "execution_count": 33,
   "metadata": {},
   "outputs": [
    {
     "data": {
      "text/html": [
       "<div>\n",
       "<style scoped>\n",
       "    .dataframe tbody tr th:only-of-type {\n",
       "        vertical-align: middle;\n",
       "    }\n",
       "\n",
       "    .dataframe tbody tr th {\n",
       "        vertical-align: top;\n",
       "    }\n",
       "\n",
       "    .dataframe thead th {\n",
       "        text-align: right;\n",
       "    }\n",
       "</style>\n",
       "<table border=\"1\" class=\"dataframe\">\n",
       "  <thead>\n",
       "    <tr style=\"text-align: right;\">\n",
       "      <th></th>\n",
       "      <th>session</th>\n",
       "      <th>event_time</th>\n",
       "      <th>event_name</th>\n",
       "    </tr>\n",
       "  </thead>\n",
       "  <tbody>\n",
       "    <tr>\n",
       "      <th>0</th>\n",
       "      <td>1</td>\n",
       "      <td>2019-10-07 13:39:45.989359</td>\n",
       "      <td>tips_show</td>\n",
       "    </tr>\n",
       "    <tr>\n",
       "      <th>1</th>\n",
       "      <td>1</td>\n",
       "      <td>2019-10-07 13:40:31.052909</td>\n",
       "      <td>tips_show</td>\n",
       "    </tr>\n",
       "    <tr>\n",
       "      <th>2</th>\n",
       "      <td>1</td>\n",
       "      <td>2019-10-07 13:41:05.722489</td>\n",
       "      <td>tips_show</td>\n",
       "    </tr>\n",
       "    <tr>\n",
       "      <th>3</th>\n",
       "      <td>1</td>\n",
       "      <td>2019-10-07 13:43:20.735461</td>\n",
       "      <td>tips_show</td>\n",
       "    </tr>\n",
       "    <tr>\n",
       "      <th>4</th>\n",
       "      <td>1</td>\n",
       "      <td>2019-10-07 13:45:30.917502</td>\n",
       "      <td>tips_show</td>\n",
       "    </tr>\n",
       "  </tbody>\n",
       "</table>\n",
       "</div>"
      ],
      "text/plain": [
       "   session                 event_time event_name\n",
       "0        1 2019-10-07 13:39:45.989359  tips_show\n",
       "1        1 2019-10-07 13:40:31.052909  tips_show\n",
       "2        1 2019-10-07 13:41:05.722489  tips_show\n",
       "3        1 2019-10-07 13:43:20.735461  tips_show\n",
       "4        1 2019-10-07 13:45:30.917502  tips_show"
      ]
     },
     "execution_count": 33,
     "metadata": {},
     "output_type": "execute_result"
    }
   ],
   "source": [
    "# Отбираем данные\n",
    "data_new = data_ss.loc[:, ['session', 'event_time', 'event_name']]\n",
    "data_new.head()"
   ]
  },
  {
   "cell_type": "code",
   "execution_count": 34,
   "metadata": {},
   "outputs": [],
   "source": [
    "# Удаляем дубликаты по событиям в сессиях\n",
    "data_new.drop_duplicates(subset=['session', 'event_name'], inplace=True)"
   ]
  },
  {
   "cell_type": "code",
   "execution_count": 35,
   "metadata": {},
   "outputs": [
    {
     "data": {
      "text/html": [
       "<div>\n",
       "<style scoped>\n",
       "    .dataframe tbody tr th:only-of-type {\n",
       "        vertical-align: middle;\n",
       "    }\n",
       "\n",
       "    .dataframe tbody tr th {\n",
       "        vertical-align: top;\n",
       "    }\n",
       "\n",
       "    .dataframe thead th {\n",
       "        text-align: right;\n",
       "    }\n",
       "</style>\n",
       "<table border=\"1\" class=\"dataframe\">\n",
       "  <thead>\n",
       "    <tr style=\"text-align: right;\">\n",
       "      <th></th>\n",
       "      <th>session</th>\n",
       "      <th>event_time</th>\n",
       "      <th>event_name</th>\n",
       "    </tr>\n",
       "  </thead>\n",
       "  <tbody>\n",
       "    <tr>\n",
       "      <th>0</th>\n",
       "      <td>1</td>\n",
       "      <td>2019-10-07 13:39:45.989359</td>\n",
       "      <td>tips_show</td>\n",
       "    </tr>\n",
       "    <tr>\n",
       "      <th>9</th>\n",
       "      <td>2</td>\n",
       "      <td>2019-10-09 18:33:55.577963</td>\n",
       "      <td>map</td>\n",
       "    </tr>\n",
       "    <tr>\n",
       "      <th>11</th>\n",
       "      <td>2</td>\n",
       "      <td>2019-10-09 18:40:28.738785</td>\n",
       "      <td>tips_show</td>\n",
       "    </tr>\n",
       "    <tr>\n",
       "      <th>13</th>\n",
       "      <td>3</td>\n",
       "      <td>2019-10-21 19:52:30.778932</td>\n",
       "      <td>tips_show</td>\n",
       "    </tr>\n",
       "    <tr>\n",
       "      <th>15</th>\n",
       "      <td>3</td>\n",
       "      <td>2019-10-21 19:53:38.767230</td>\n",
       "      <td>map</td>\n",
       "    </tr>\n",
       "  </tbody>\n",
       "</table>\n",
       "</div>"
      ],
      "text/plain": [
       "    session                 event_time event_name\n",
       "0         1 2019-10-07 13:39:45.989359  tips_show\n",
       "9         2 2019-10-09 18:33:55.577963        map\n",
       "11        2 2019-10-09 18:40:28.738785  tips_show\n",
       "13        3 2019-10-21 19:52:30.778932  tips_show\n",
       "15        3 2019-10-21 19:53:38.767230        map"
      ]
     },
     "execution_count": 35,
     "metadata": {},
     "output_type": "execute_result"
    }
   ],
   "source": [
    "# Cмотрим результат\n",
    "data_new.head()"
   ]
  },
  {
   "cell_type": "markdown",
   "metadata": {},
   "source": [
    "Теперь приступим к построению диаграммы Санкея. Для нее нам потребуется написать несколько функций."
   ]
  },
  {
   "cell_type": "code",
   "execution_count": 36,
   "metadata": {},
   "outputs": [
    {
     "data": {
      "text/html": [
       "<div>\n",
       "<style scoped>\n",
       "    .dataframe tbody tr th:only-of-type {\n",
       "        vertical-align: middle;\n",
       "    }\n",
       "\n",
       "    .dataframe tbody tr th {\n",
       "        vertical-align: top;\n",
       "    }\n",
       "\n",
       "    .dataframe thead th {\n",
       "        text-align: right;\n",
       "    }\n",
       "</style>\n",
       "<table border=\"1\" class=\"dataframe\">\n",
       "  <thead>\n",
       "    <tr style=\"text-align: right;\">\n",
       "      <th></th>\n",
       "      <th>session</th>\n",
       "      <th>event_time</th>\n",
       "      <th>step</th>\n",
       "      <th>source</th>\n",
       "      <th>target</th>\n",
       "    </tr>\n",
       "  </thead>\n",
       "  <tbody>\n",
       "    <tr>\n",
       "      <th>0</th>\n",
       "      <td>1</td>\n",
       "      <td>2019-10-07 13:39:45.989359</td>\n",
       "      <td>1</td>\n",
       "      <td>tips_show</td>\n",
       "      <td>NaN</td>\n",
       "    </tr>\n",
       "    <tr>\n",
       "      <th>9</th>\n",
       "      <td>2</td>\n",
       "      <td>2019-10-09 18:33:55.577963</td>\n",
       "      <td>1</td>\n",
       "      <td>map</td>\n",
       "      <td>tips_show</td>\n",
       "    </tr>\n",
       "    <tr>\n",
       "      <th>11</th>\n",
       "      <td>2</td>\n",
       "      <td>2019-10-09 18:40:28.738785</td>\n",
       "      <td>2</td>\n",
       "      <td>tips_show</td>\n",
       "      <td>NaN</td>\n",
       "    </tr>\n",
       "    <tr>\n",
       "      <th>13</th>\n",
       "      <td>3</td>\n",
       "      <td>2019-10-21 19:52:30.778932</td>\n",
       "      <td>1</td>\n",
       "      <td>tips_show</td>\n",
       "      <td>map</td>\n",
       "    </tr>\n",
       "    <tr>\n",
       "      <th>15</th>\n",
       "      <td>3</td>\n",
       "      <td>2019-10-21 19:53:38.767230</td>\n",
       "      <td>2</td>\n",
       "      <td>map</td>\n",
       "      <td>NaN</td>\n",
       "    </tr>\n",
       "  </tbody>\n",
       "</table>\n",
       "</div>"
      ],
      "text/plain": [
       "    session                 event_time  step     source     target\n",
       "0         1 2019-10-07 13:39:45.989359     1  tips_show        NaN\n",
       "9         2 2019-10-09 18:33:55.577963     1        map  tips_show\n",
       "11        2 2019-10-09 18:40:28.738785     2  tips_show        NaN\n",
       "13        3 2019-10-21 19:52:30.778932     1  tips_show        map\n",
       "15        3 2019-10-21 19:53:38.767230     2        map        NaN"
      ]
     },
     "execution_count": 36,
     "metadata": {},
     "output_type": "execute_result"
    }
   ],
   "source": [
    "# Cтроим первую функцию\n",
    "def add_features(df):\n",
    "    \"\"\"Функция генерации новых столбцов для исходной таблицы\n",
    "    Args:\n",
    "        df (pd.DataFrame): исходная таблица.\n",
    "    Returns:\n",
    "        pd.DataFrame: таблица с новыми признаками.\n",
    "    \"\"\"\n",
    "    # сортируем по id и времени\n",
    "    sorted_data = data_new.sort_values(by=['session', 'event_time']).copy()\n",
    "    # добавляем шаги событий\n",
    "    sorted_data['step'] = sorted_data.groupby('session').cumcount() + 1\n",
    "    \n",
    "    # добавляем узлы-источники и целевые узлы\n",
    "    # узлы-источники - это сами события\n",
    "    sorted_data['source'] = sorted_data['event_name']\n",
    "    # добавляем целевые узлы\n",
    "    sorted_data['target'] = sorted_data.groupby('session')['source'].shift(-1)\n",
    "    \n",
    "    # возврат таблицы без имени событий\n",
    "    return sorted_data.drop(['event_name'], axis=1)\n",
    "  \n",
    "# преобразуем таблицу\n",
    "data_newone = add_features(data_new)\n",
    "data_newone.head()"
   ]
  },
  {
   "cell_type": "markdown",
   "metadata": {},
   "source": [
    "Теперь нужно отобрать максимальное количество шагов. Посмотрим на перцентили."
   ]
  },
  {
   "cell_type": "code",
   "execution_count": 37,
   "metadata": {},
   "outputs": [
    {
     "data": {
      "text/plain": [
       "count    17854.000000\n",
       "mean         1.592752\n",
       "std          0.822576\n",
       "min          1.000000\n",
       "50%          1.000000\n",
       "95%          3.000000\n",
       "99%          4.000000\n",
       "max          6.000000\n",
       "Name: step, dtype: float64"
      ]
     },
     "execution_count": 37,
     "metadata": {},
     "output_type": "execute_result"
    }
   ],
   "source": [
    "# Cмотрим на перцентили\n",
    "data_newone['step'].describe([0.95, 0.99])"
   ]
  },
  {
   "cell_type": "markdown",
   "metadata": {},
   "source": [
    "Отберем 4 шага в виде максимума (99%)."
   ]
  },
  {
   "cell_type": "code",
   "execution_count": 38,
   "metadata": {},
   "outputs": [],
   "source": [
    "# Отбираем шаги в данных \n",
    "data_comp = data_newone[data_newone['step'] <= 4].copy().reset_index(drop=True)"
   ]
  },
  {
   "cell_type": "code",
   "execution_count": 39,
   "metadata": {},
   "outputs": [],
   "source": [
    "# Cтроим вторую функцию\n",
    "def get_source_index(df):\n",
    "    \"\"\"Функция генерации индексов source\n",
    "    Args:\n",
    "        df (pd.DataFrame): исходная таблица с признаками step, source, target.\n",
    "    Returns:\n",
    "        dict: словарь с индексами, именами и соответсвиями индексов именам source.\n",
    "    \"\"\" \n",
    "    res_dict = {}\n",
    "    \n",
    "    count = 0\n",
    "    # получаем индексы источников\n",
    "    for no, step in enumerate(df['step'].unique().tolist()):\n",
    "        # получаем уникальные наименования для шага\n",
    "        res_dict[no+1] = {}\n",
    "        res_dict[no+1]['sources'] = df[df['step'] == step]['source'].unique().tolist()\n",
    "        res_dict[no+1]['sources_index'] = []\n",
    "        for i in range(len(res_dict[no+1]['sources'])):\n",
    "            res_dict[no+1]['sources_index'].append(count)\n",
    "            count += 1\n",
    "            \n",
    "    # соединим списки\n",
    "    for key in res_dict:\n",
    "        res_dict[key]['sources_dict'] = {}\n",
    "        for name, no in zip(res_dict[key]['sources'], res_dict[key]['sources_index']):\n",
    "            res_dict[key]['sources_dict'][name] = no\n",
    "    return res_dict\n",
    "  \n",
    "\n",
    "# создаем словарь\n",
    "source_indexes = get_source_index(data_comp)"
   ]
  },
  {
   "cell_type": "code",
   "execution_count": 40,
   "metadata": {},
   "outputs": [],
   "source": [
    "# Cтроим третью функцию\n",
    "def generate_random_color():\n",
    "    \n",
    "    \"\"\"Случайная генерация цветов rgba\n",
    "    Args:    \n",
    "    Returns:\n",
    "        str: Строка со сгенерированными параметрами цвета\n",
    "    \"\"\" \n",
    "    # сгенерим значение для каждого канала\n",
    "    r, g, b = np.random.randint(255, size=3)\n",
    "    return f'rgba({r}, {g}, {b}, 1)'"
   ]
  },
  {
   "cell_type": "code",
   "execution_count": 41,
   "metadata": {},
   "outputs": [],
   "source": [
    "# Cтроим четвертую функцию\n",
    "def colors_for_sources(mode):\n",
    "    \n",
    "    \"\"\"Генерация цветов rgba\n",
    "    Args:\n",
    "        mode (str): сгенерировать случайные цвета, если 'random', а если 'custom' - \n",
    "                    использовать заранее подготовленные\n",
    "    Returns:\n",
    "        dict: словарь с цветами, соответствующими каждому индексу\n",
    "    \"\"\"\n",
    "    # словарь, в который сложим цвета в соответствии с индексом\n",
    "    colors_dict = {}\n",
    "    \n",
    "    if mode == 'random':\n",
    "        # генерим случайные цвета\n",
    "        for label in data_comp['source'].unique():\n",
    "            r, g, b = np.random.randint(255, size=3)            \n",
    "            colors_dict[label] = f'rgba({r}, {g}, {b}, 1)'          \n",
    "    else:\n",
    "        print('Mistake')\n",
    "            \n",
    "    return colors_dict\n",
    "   \n",
    "# генерим цвета\n",
    "colors_dict = colors_for_sources(mode='random')"
   ]
  },
  {
   "cell_type": "code",
   "execution_count": 42,
   "metadata": {},
   "outputs": [],
   "source": [
    "# Cтроим пятую функцию\n",
    "def percent_users(sources, targets, values):\n",
    "    \n",
    "    \"\"\"\n",
    "    Расчет уникальных id в процентах (для вывода в hover text каждого узла) \n",
    "    Args:\n",
    "        sources (list): список с индексами source.\n",
    "        targets (list): список с индексами target.\n",
    "        values (list): список с \"объемами\" потоков.      \n",
    "    Returns:\n",
    "        list: список с \"объемами\" потоков в процентах\n",
    "    \"\"\" \n",
    "    # объединим источники и метки и найдем пары\n",
    "    zip_lists = list(zip(sources, targets, values))\n",
    "    \n",
    "    new_list = []\n",
    "    # подготовим список словарь с общим объемом трафика в узлах\n",
    "    unique_dict = {}\n",
    "    # проходим по каждому узлу\n",
    "    for source, target, value in zip_lists:\n",
    "        if source not in unique_dict:\n",
    "            # находим все источники и считаем общий трафик\n",
    "            unique_dict[source] = 0\n",
    "            for sr, tg, vl in zip_lists:\n",
    "                if sr == source:\n",
    "                    unique_dict[source] += vl                 \n",
    "    # считаем проценты\n",
    "    for source, target, value in zip_lists:\n",
    "        new_list.append(round(100 * value / unique_dict[source], 1))\n",
    "    \n",
    "    return new_list"
   ]
  },
  {
   "cell_type": "code",
   "execution_count": 43,
   "metadata": {},
   "outputs": [
    {
     "name": "stderr",
     "output_type": "stream",
     "text": [
      "Шаг:   0%|                                                | 0/4 [00:00<?, ?it/s]\n",
      "  0%|                                                     | 0/8 [00:00<?, ?it/s]\u001b[A\n",
      "100%|█████████████████████████████████████████████| 8/8 [00:00<00:00, 63.08it/s]\u001b[A\n",
      "Шаг:  25%|██████████                              | 1/4 [00:00<00:00,  7.79it/s]\n",
      "  0%|                                                     | 0/9 [00:00<?, ?it/s]\u001b[A\n",
      "100%|█████████████████████████████████████████████| 9/9 [00:00<00:00, 60.03it/s]\u001b[A\n",
      "Шаг:  50%|████████████████████                    | 2/4 [00:00<00:00,  7.02it/s]\n",
      "  0%|                                                     | 0/9 [00:00<?, ?it/s]\u001b[A\n",
      "100%|█████████████████████████████████████████████| 9/9 [00:00<00:00, 63.65it/s]\u001b[A\n",
      "Шаг: 100%|████████████████████████████████████████| 4/4 [00:00<00:00,  9.41it/s]\n"
     ]
    }
   ],
   "source": [
    "# Cтроим шестую функцию\n",
    "def lists_for_plot(source_indexes=source_indexes, colors=colors_dict, frac=10):\n",
    "    \"\"\"\n",
    "    Создаем необходимые для отрисовки диаграммы переменные списков и возвращаем\n",
    "    их в виде словаря \n",
    "    Args:\n",
    "        source_indexes (dict): словарь с именами и индексами source.\n",
    "        colors (dict): словарь с цветами source.\n",
    "        frac (int): ограничение на минимальный \"объем\" между узлами.     \n",
    "    Returns:\n",
    "        dict: словарь со списками, необходимыми для диаграммы.\n",
    "    \"\"\"\n",
    "    sources = []\n",
    "    targets = []\n",
    "    values = []\n",
    "    labels = []\n",
    "    link_color = []\n",
    "    link_text = []\n",
    "\n",
    "    # проходим по каждому шагу\n",
    "    for step in tqdm(sorted(data_comp['step'].unique()), desc='Шаг'):\n",
    "        if step + 1 not in source_indexes:\n",
    "            continue\n",
    "\n",
    "        # получаем индекс источника\n",
    "        temp_dict_source = source_indexes[step]['sources_dict']\n",
    "\n",
    "        # получаем индексы цели\n",
    "        temp_dict_target = source_indexes[step+1]['sources_dict']\n",
    "\n",
    "        # проходим по каждой возможной паре, считаем количество таких пар\n",
    "        for source, index_source in tqdm(temp_dict_source.items()):\n",
    "            for target, index_target in temp_dict_target.items():\n",
    "                # делаем срез данных и считаем количество id            \n",
    "                temp_df = data_comp[(data_comp['step'] == step)&(data_comp['source'] == source)&(data_comp['target'] == target)]\n",
    "                value = len(temp_df)\n",
    "                # проверяем минимальный объем потока и добавляем нужные данные\n",
    "                if value > frac:\n",
    "                    sources.append(index_source)\n",
    "                    targets.append(index_target)\n",
    "                    values.append(value)\n",
    "                    # делаем поток прозрачным для лучшего отображения\n",
    "                    link_color.append(colors[source].replace(', 1)', ', 0.2)'))\n",
    "                    \n",
    "    labels = []\n",
    "    colors_labels = []\n",
    "    for key in source_indexes:\n",
    "        for name in source_indexes[key]['sources']:\n",
    "            labels.append(name)\n",
    "            colors_labels.append(colors[name])\n",
    "            \n",
    "    # посчитаем проценты всех потоков\n",
    "    perc_values = percent_users(sources, targets, values)\n",
    "    \n",
    "    # добавим значения процентов для howertext\n",
    "    link_text = []\n",
    "    for perc in perc_values:\n",
    "        link_text.append(f\"{perc}%\")\n",
    "    \n",
    "    # возвратим словарь с вложенными списками\n",
    "    return {'sources': sources, \n",
    "            'targets': targets, \n",
    "            'values': values, \n",
    "            'labels': labels, \n",
    "            'colors_labels': colors_labels, \n",
    "            'link_color': link_color, \n",
    "            'link_text': link_text}\n",
    "  \n",
    "\n",
    "# создаем словарь\n",
    "data_for_plot = lists_for_plot()"
   ]
  },
  {
   "cell_type": "code",
   "execution_count": 44,
   "metadata": {},
   "outputs": [],
   "source": [
    "# Cтроим седьмую функцию - саму диаграмму\n",
    "def plot_senkey_diagram(data_dict=data_for_plot):    \n",
    "    \"\"\"\n",
    "    Функция для генерации объекта диаграммы Сенкей    \n",
    "    Args:\n",
    "        data_dict (dict): словарь со списками данных для построения.      \n",
    "    Returns:\n",
    "        plotly.graph_objs._figure.Figure: объект изображения.\n",
    "    \"\"\" \n",
    "    fig = go.Figure(data=[go.Sankey(\n",
    "        domain = dict(\n",
    "          x =  [0,1],\n",
    "          y =  [0,1]\n",
    "        ),\n",
    "        orientation = \"h\",\n",
    "        valueformat = \".0f\",\n",
    "        node = dict(\n",
    "          pad = 50,\n",
    "          thickness = 15,\n",
    "          line = dict(color = \"black\", width = 0.1),\n",
    "          label = data_dict['labels'],\n",
    "          color = data_dict['colors_labels']\n",
    "        ),\n",
    "        link = dict(\n",
    "          source = data_dict['sources'],\n",
    "          target = data_dict['targets'],\n",
    "          value = data_dict['values'],\n",
    "          label = data_dict['link_text'],\n",
    "          color = data_dict['link_color']\n",
    "      ))])\n",
    "    fig.update_layout(title_text=\"Sankey Diagram\", font_size=10, width=950, height=760)\n",
    "    \n",
    "    # возвращаем объект диаграммы\n",
    "    return fig\n",
    "  \n",
    "# сохраняем диаграмму в переменную\n",
    "senkey_diagram = plot_senkey_diagram()"
   ]
  },
  {
   "cell_type": "code",
   "execution_count": 45,
   "metadata": {},
   "outputs": [
    {
     "data": {
      "application/vnd.plotly.v1+json": {
       "config": {
        "plotlyServerURL": "https://plot.ly"
       },
       "data": [
        {
         "domain": {
          "x": [
           0,
           1
          ],
          "y": [
           0,
           1
          ]
         },
         "link": {
          "color": [
           "rgba(91, 114, 163, 0.2)",
           "rgba(91, 114, 163, 0.2)",
           "rgba(91, 114, 163, 0.2)",
           "rgba(91, 114, 163, 0.2)",
           "rgba(91, 114, 163, 0.2)",
           "rgba(91, 114, 163, 0.2)",
           "rgba(220, 159, 170, 0.2)",
           "rgba(220, 159, 170, 0.2)",
           "rgba(220, 159, 170, 0.2)",
           "rgba(220, 159, 170, 0.2)",
           "rgba(194, 217, 28, 0.2)",
           "rgba(194, 217, 28, 0.2)",
           "rgba(194, 217, 28, 0.2)",
           "rgba(194, 217, 28, 0.2)",
           "rgba(194, 217, 28, 0.2)",
           "rgba(194, 217, 28, 0.2)",
           "rgba(118, 93, 78, 0.2)",
           "rgba(118, 93, 78, 0.2)",
           "rgba(118, 93, 78, 0.2)",
           "rgba(118, 93, 78, 0.2)",
           "rgba(248, 18, 186, 0.2)",
           "rgba(248, 18, 186, 0.2)",
           "rgba(248, 18, 186, 0.2)",
           "rgba(248, 18, 186, 0.2)",
           "rgba(248, 18, 186, 0.2)",
           "rgba(117, 143, 7, 0.2)",
           "rgba(117, 143, 7, 0.2)",
           "rgba(117, 143, 7, 0.2)",
           "rgba(117, 143, 7, 0.2)",
           "rgba(58, 120, 52, 0.2)",
           "rgba(29, 107, 216, 0.2)",
           "rgba(91, 114, 163, 0.2)",
           "rgba(91, 114, 163, 0.2)",
           "rgba(91, 114, 163, 0.2)",
           "rgba(91, 114, 163, 0.2)",
           "rgba(91, 114, 163, 0.2)",
           "rgba(91, 114, 163, 0.2)",
           "rgba(220, 159, 170, 0.2)",
           "rgba(220, 159, 170, 0.2)",
           "rgba(220, 159, 170, 0.2)",
           "rgba(220, 159, 170, 0.2)",
           "rgba(220, 159, 170, 0.2)",
           "rgba(118, 93, 78, 0.2)",
           "rgba(118, 93, 78, 0.2)",
           "rgba(117, 143, 7, 0.2)",
           "rgba(117, 143, 7, 0.2)",
           "rgba(117, 143, 7, 0.2)",
           "rgba(115, 104, 81, 0.2)",
           "rgba(248, 18, 186, 0.2)",
           "rgba(248, 18, 186, 0.2)",
           "rgba(248, 18, 186, 0.2)",
           "rgba(248, 18, 186, 0.2)",
           "rgba(248, 18, 186, 0.2)",
           "rgba(248, 18, 186, 0.2)",
           "rgba(248, 18, 186, 0.2)",
           "rgba(194, 217, 28, 0.2)",
           "rgba(194, 217, 28, 0.2)",
           "rgba(194, 217, 28, 0.2)",
           "rgba(194, 217, 28, 0.2)",
           "rgba(194, 217, 28, 0.2)",
           "rgba(29, 107, 216, 0.2)",
           "rgba(29, 107, 216, 0.2)",
           "rgba(58, 120, 52, 0.2)",
           "rgba(58, 120, 52, 0.2)",
           "rgba(58, 120, 52, 0.2)",
           "rgba(58, 120, 52, 0.2)",
           "rgba(248, 18, 186, 0.2)",
           "rgba(220, 159, 170, 0.2)",
           "rgba(91, 114, 163, 0.2)",
           "rgba(91, 114, 163, 0.2)",
           "rgba(91, 114, 163, 0.2)",
           "rgba(117, 143, 7, 0.2)",
           "rgba(117, 143, 7, 0.2)",
           "rgba(117, 143, 7, 0.2)",
           "rgba(194, 217, 28, 0.2)"
          ],
          "label": [
           "29.8%",
           "7.4%",
           "36.8%",
           "4.1%",
           "17.6%",
           "4.4%",
           "67.5%",
           "22.0%",
           "3.2%",
           "7.3%",
           "30.8%",
           "17.1%",
           "36.7%",
           "2.9%",
           "8.4%",
           "4.2%",
           "3.4%",
           "38.6%",
           "36.3%",
           "21.7%",
           "27.4%",
           "4.0%",
           "14.0%",
           "49.4%",
           "5.2%",
           "68.8%",
           "18.1%",
           "6.5%",
           "6.5%",
           "100.0%",
           "100.0%",
           "7.4%",
           "36.4%",
           "19.5%",
           "16.7%",
           "5.7%",
           "14.3%",
           "7.0%",
           "39.9%",
           "43.0%",
           "7.3%",
           "2.8%",
           "42.0%",
           "58.0%",
           "4.0%",
           "89.5%",
           "6.5%",
           "100.0%",
           "5.5%",
           "12.5%",
           "43.0%",
           "17.2%",
           "4.7%",
           "11.3%",
           "5.9%",
           "11.2%",
           "11.9%",
           "15.7%",
           "20.9%",
           "40.3%",
           "61.3%",
           "38.7%",
           "24.2%",
           "38.7%",
           "37.1%",
           "100.0%",
           "100.0%",
           "100.0%",
           "37.5%",
           "33.3%",
           "29.2%",
           "8.1%",
           "83.9%",
           "8.1%",
           "100.0%"
          ],
          "source": [
           0,
           0,
           0,
           0,
           0,
           0,
           1,
           1,
           1,
           1,
           2,
           2,
           2,
           2,
           2,
           2,
           3,
           3,
           3,
           3,
           4,
           4,
           4,
           4,
           4,
           5,
           5,
           5,
           5,
           6,
           7,
           8,
           8,
           8,
           8,
           8,
           8,
           9,
           9,
           9,
           9,
           9,
           10,
           10,
           11,
           11,
           11,
           12,
           13,
           13,
           13,
           13,
           13,
           13,
           13,
           14,
           14,
           14,
           14,
           14,
           15,
           15,
           16,
           16,
           16,
           17,
           18,
           19,
           21,
           21,
           21,
           22,
           22,
           22,
           23
          ],
          "target": [
           9,
           11,
           13,
           14,
           15,
           16,
           8,
           11,
           13,
           14,
           8,
           9,
           10,
           11,
           13,
           16,
           11,
           13,
           14,
           16,
           8,
           9,
           10,
           12,
           14,
           8,
           10,
           13,
           14,
           10,
           8,
           17,
           18,
           19,
           22,
           23,
           24,
           18,
           21,
           22,
           23,
           24,
           17,
           18,
           18,
           21,
           23,
           25,
           17,
           19,
           20,
           21,
           23,
           24,
           25,
           17,
           18,
           19,
           21,
           22,
           18,
           19,
           18,
           22,
           25,
           26,
           27,
           28,
           26,
           28,
           32,
           26,
           29,
           32,
           28
          ],
          "value": [
           336,
           83,
           415,
           46,
           199,
           50,
           774,
           252,
           37,
           84,
           533,
           296,
           635,
           50,
           145,
           72,
           12,
           135,
           127,
           76,
           90,
           13,
           46,
           162,
           17,
           179,
           47,
           17,
           17,
           25,
           14,
           31,
           153,
           82,
           70,
           24,
           60,
           27,
           154,
           166,
           28,
           11,
           50,
           69,
           11,
           248,
           18,
           30,
           14,
           32,
           110,
           44,
           12,
           29,
           15,
           15,
           16,
           21,
           28,
           54,
           19,
           12,
           15,
           24,
           23,
           13,
           27,
           23,
           27,
           24,
           21,
           13,
           135,
           13,
           25
          ]
         },
         "node": {
          "color": [
           "rgba(91, 114, 163, 1)",
           "rgba(220, 159, 170, 1)",
           "rgba(194, 217, 28, 1)",
           "rgba(118, 93, 78, 1)",
           "rgba(248, 18, 186, 1)",
           "rgba(117, 143, 7, 1)",
           "rgba(58, 120, 52, 1)",
           "rgba(29, 107, 216, 1)",
           "rgba(91, 114, 163, 1)",
           "rgba(220, 159, 170, 1)",
           "rgba(118, 93, 78, 1)",
           "rgba(117, 143, 7, 1)",
           "rgba(115, 104, 81, 1)",
           "rgba(248, 18, 186, 1)",
           "rgba(194, 217, 28, 1)",
           "rgba(29, 107, 216, 1)",
           "rgba(58, 120, 52, 1)",
           "rgba(58, 120, 52, 1)",
           "rgba(248, 18, 186, 1)",
           "rgba(220, 159, 170, 1)",
           "rgba(115, 104, 81, 1)",
           "rgba(91, 114, 163, 1)",
           "rgba(117, 143, 7, 1)",
           "rgba(194, 217, 28, 1)",
           "rgba(29, 107, 216, 1)",
           "rgba(118, 93, 78, 1)",
           "rgba(248, 18, 186, 1)",
           "rgba(115, 104, 81, 1)",
           "rgba(117, 143, 7, 1)",
           "rgba(91, 114, 163, 1)",
           "rgba(29, 107, 216, 1)",
           "rgba(58, 120, 52, 1)",
           "rgba(194, 217, 28, 1)",
           "rgba(118, 93, 78, 1)",
           "rgba(220, 159, 170, 1)"
          ],
          "label": [
           "tips_show",
           "map",
           "search",
           "photos_show",
           "contacts_show",
           "advert_open",
           "favorites_add",
           "tips_click",
           "tips_show",
           "map",
           "photos_show",
           "advert_open",
           "contacts_call",
           "contacts_show",
           "search",
           "tips_click",
           "favorites_add",
           "favorites_add",
           "contacts_show",
           "map",
           "contacts_call",
           "tips_show",
           "advert_open",
           "search",
           "tips_click",
           "photos_show",
           "contacts_show",
           "contacts_call",
           "advert_open",
           "tips_show",
           "tips_click",
           "favorites_add",
           "search",
           "photos_show",
           "map"
          ],
          "line": {
           "color": "black",
           "width": 0.1
          },
          "pad": 50,
          "thickness": 15
         },
         "orientation": "h",
         "type": "sankey",
         "valueformat": ".0f"
        }
       ],
       "layout": {
        "font": {
         "size": 10
        },
        "height": 760,
        "template": {
         "data": {
          "bar": [
           {
            "error_x": {
             "color": "#2a3f5f"
            },
            "error_y": {
             "color": "#2a3f5f"
            },
            "marker": {
             "line": {
              "color": "#E5ECF6",
              "width": 0.5
             },
             "pattern": {
              "fillmode": "overlay",
              "size": 10,
              "solidity": 0.2
             }
            },
            "type": "bar"
           }
          ],
          "barpolar": [
           {
            "marker": {
             "line": {
              "color": "#E5ECF6",
              "width": 0.5
             },
             "pattern": {
              "fillmode": "overlay",
              "size": 10,
              "solidity": 0.2
             }
            },
            "type": "barpolar"
           }
          ],
          "carpet": [
           {
            "aaxis": {
             "endlinecolor": "#2a3f5f",
             "gridcolor": "white",
             "linecolor": "white",
             "minorgridcolor": "white",
             "startlinecolor": "#2a3f5f"
            },
            "baxis": {
             "endlinecolor": "#2a3f5f",
             "gridcolor": "white",
             "linecolor": "white",
             "minorgridcolor": "white",
             "startlinecolor": "#2a3f5f"
            },
            "type": "carpet"
           }
          ],
          "choropleth": [
           {
            "colorbar": {
             "outlinewidth": 0,
             "ticks": ""
            },
            "type": "choropleth"
           }
          ],
          "contour": [
           {
            "colorbar": {
             "outlinewidth": 0,
             "ticks": ""
            },
            "colorscale": [
             [
              0,
              "#0d0887"
             ],
             [
              0.1111111111111111,
              "#46039f"
             ],
             [
              0.2222222222222222,
              "#7201a8"
             ],
             [
              0.3333333333333333,
              "#9c179e"
             ],
             [
              0.4444444444444444,
              "#bd3786"
             ],
             [
              0.5555555555555556,
              "#d8576b"
             ],
             [
              0.6666666666666666,
              "#ed7953"
             ],
             [
              0.7777777777777778,
              "#fb9f3a"
             ],
             [
              0.8888888888888888,
              "#fdca26"
             ],
             [
              1,
              "#f0f921"
             ]
            ],
            "type": "contour"
           }
          ],
          "contourcarpet": [
           {
            "colorbar": {
             "outlinewidth": 0,
             "ticks": ""
            },
            "type": "contourcarpet"
           }
          ],
          "heatmap": [
           {
            "colorbar": {
             "outlinewidth": 0,
             "ticks": ""
            },
            "colorscale": [
             [
              0,
              "#0d0887"
             ],
             [
              0.1111111111111111,
              "#46039f"
             ],
             [
              0.2222222222222222,
              "#7201a8"
             ],
             [
              0.3333333333333333,
              "#9c179e"
             ],
             [
              0.4444444444444444,
              "#bd3786"
             ],
             [
              0.5555555555555556,
              "#d8576b"
             ],
             [
              0.6666666666666666,
              "#ed7953"
             ],
             [
              0.7777777777777778,
              "#fb9f3a"
             ],
             [
              0.8888888888888888,
              "#fdca26"
             ],
             [
              1,
              "#f0f921"
             ]
            ],
            "type": "heatmap"
           }
          ],
          "heatmapgl": [
           {
            "colorbar": {
             "outlinewidth": 0,
             "ticks": ""
            },
            "colorscale": [
             [
              0,
              "#0d0887"
             ],
             [
              0.1111111111111111,
              "#46039f"
             ],
             [
              0.2222222222222222,
              "#7201a8"
             ],
             [
              0.3333333333333333,
              "#9c179e"
             ],
             [
              0.4444444444444444,
              "#bd3786"
             ],
             [
              0.5555555555555556,
              "#d8576b"
             ],
             [
              0.6666666666666666,
              "#ed7953"
             ],
             [
              0.7777777777777778,
              "#fb9f3a"
             ],
             [
              0.8888888888888888,
              "#fdca26"
             ],
             [
              1,
              "#f0f921"
             ]
            ],
            "type": "heatmapgl"
           }
          ],
          "histogram": [
           {
            "marker": {
             "pattern": {
              "fillmode": "overlay",
              "size": 10,
              "solidity": 0.2
             }
            },
            "type": "histogram"
           }
          ],
          "histogram2d": [
           {
            "colorbar": {
             "outlinewidth": 0,
             "ticks": ""
            },
            "colorscale": [
             [
              0,
              "#0d0887"
             ],
             [
              0.1111111111111111,
              "#46039f"
             ],
             [
              0.2222222222222222,
              "#7201a8"
             ],
             [
              0.3333333333333333,
              "#9c179e"
             ],
             [
              0.4444444444444444,
              "#bd3786"
             ],
             [
              0.5555555555555556,
              "#d8576b"
             ],
             [
              0.6666666666666666,
              "#ed7953"
             ],
             [
              0.7777777777777778,
              "#fb9f3a"
             ],
             [
              0.8888888888888888,
              "#fdca26"
             ],
             [
              1,
              "#f0f921"
             ]
            ],
            "type": "histogram2d"
           }
          ],
          "histogram2dcontour": [
           {
            "colorbar": {
             "outlinewidth": 0,
             "ticks": ""
            },
            "colorscale": [
             [
              0,
              "#0d0887"
             ],
             [
              0.1111111111111111,
              "#46039f"
             ],
             [
              0.2222222222222222,
              "#7201a8"
             ],
             [
              0.3333333333333333,
              "#9c179e"
             ],
             [
              0.4444444444444444,
              "#bd3786"
             ],
             [
              0.5555555555555556,
              "#d8576b"
             ],
             [
              0.6666666666666666,
              "#ed7953"
             ],
             [
              0.7777777777777778,
              "#fb9f3a"
             ],
             [
              0.8888888888888888,
              "#fdca26"
             ],
             [
              1,
              "#f0f921"
             ]
            ],
            "type": "histogram2dcontour"
           }
          ],
          "mesh3d": [
           {
            "colorbar": {
             "outlinewidth": 0,
             "ticks": ""
            },
            "type": "mesh3d"
           }
          ],
          "parcoords": [
           {
            "line": {
             "colorbar": {
              "outlinewidth": 0,
              "ticks": ""
             }
            },
            "type": "parcoords"
           }
          ],
          "pie": [
           {
            "automargin": true,
            "type": "pie"
           }
          ],
          "scatter": [
           {
            "fillpattern": {
             "fillmode": "overlay",
             "size": 10,
             "solidity": 0.2
            },
            "type": "scatter"
           }
          ],
          "scatter3d": [
           {
            "line": {
             "colorbar": {
              "outlinewidth": 0,
              "ticks": ""
             }
            },
            "marker": {
             "colorbar": {
              "outlinewidth": 0,
              "ticks": ""
             }
            },
            "type": "scatter3d"
           }
          ],
          "scattercarpet": [
           {
            "marker": {
             "colorbar": {
              "outlinewidth": 0,
              "ticks": ""
             }
            },
            "type": "scattercarpet"
           }
          ],
          "scattergeo": [
           {
            "marker": {
             "colorbar": {
              "outlinewidth": 0,
              "ticks": ""
             }
            },
            "type": "scattergeo"
           }
          ],
          "scattergl": [
           {
            "marker": {
             "colorbar": {
              "outlinewidth": 0,
              "ticks": ""
             }
            },
            "type": "scattergl"
           }
          ],
          "scattermapbox": [
           {
            "marker": {
             "colorbar": {
              "outlinewidth": 0,
              "ticks": ""
             }
            },
            "type": "scattermapbox"
           }
          ],
          "scatterpolar": [
           {
            "marker": {
             "colorbar": {
              "outlinewidth": 0,
              "ticks": ""
             }
            },
            "type": "scatterpolar"
           }
          ],
          "scatterpolargl": [
           {
            "marker": {
             "colorbar": {
              "outlinewidth": 0,
              "ticks": ""
             }
            },
            "type": "scatterpolargl"
           }
          ],
          "scatterternary": [
           {
            "marker": {
             "colorbar": {
              "outlinewidth": 0,
              "ticks": ""
             }
            },
            "type": "scatterternary"
           }
          ],
          "surface": [
           {
            "colorbar": {
             "outlinewidth": 0,
             "ticks": ""
            },
            "colorscale": [
             [
              0,
              "#0d0887"
             ],
             [
              0.1111111111111111,
              "#46039f"
             ],
             [
              0.2222222222222222,
              "#7201a8"
             ],
             [
              0.3333333333333333,
              "#9c179e"
             ],
             [
              0.4444444444444444,
              "#bd3786"
             ],
             [
              0.5555555555555556,
              "#d8576b"
             ],
             [
              0.6666666666666666,
              "#ed7953"
             ],
             [
              0.7777777777777778,
              "#fb9f3a"
             ],
             [
              0.8888888888888888,
              "#fdca26"
             ],
             [
              1,
              "#f0f921"
             ]
            ],
            "type": "surface"
           }
          ],
          "table": [
           {
            "cells": {
             "fill": {
              "color": "#EBF0F8"
             },
             "line": {
              "color": "white"
             }
            },
            "header": {
             "fill": {
              "color": "#C8D4E3"
             },
             "line": {
              "color": "white"
             }
            },
            "type": "table"
           }
          ]
         },
         "layout": {
          "annotationdefaults": {
           "arrowcolor": "#2a3f5f",
           "arrowhead": 0,
           "arrowwidth": 1
          },
          "autotypenumbers": "strict",
          "coloraxis": {
           "colorbar": {
            "outlinewidth": 0,
            "ticks": ""
           }
          },
          "colorscale": {
           "diverging": [
            [
             0,
             "#8e0152"
            ],
            [
             0.1,
             "#c51b7d"
            ],
            [
             0.2,
             "#de77ae"
            ],
            [
             0.3,
             "#f1b6da"
            ],
            [
             0.4,
             "#fde0ef"
            ],
            [
             0.5,
             "#f7f7f7"
            ],
            [
             0.6,
             "#e6f5d0"
            ],
            [
             0.7,
             "#b8e186"
            ],
            [
             0.8,
             "#7fbc41"
            ],
            [
             0.9,
             "#4d9221"
            ],
            [
             1,
             "#276419"
            ]
           ],
           "sequential": [
            [
             0,
             "#0d0887"
            ],
            [
             0.1111111111111111,
             "#46039f"
            ],
            [
             0.2222222222222222,
             "#7201a8"
            ],
            [
             0.3333333333333333,
             "#9c179e"
            ],
            [
             0.4444444444444444,
             "#bd3786"
            ],
            [
             0.5555555555555556,
             "#d8576b"
            ],
            [
             0.6666666666666666,
             "#ed7953"
            ],
            [
             0.7777777777777778,
             "#fb9f3a"
            ],
            [
             0.8888888888888888,
             "#fdca26"
            ],
            [
             1,
             "#f0f921"
            ]
           ],
           "sequentialminus": [
            [
             0,
             "#0d0887"
            ],
            [
             0.1111111111111111,
             "#46039f"
            ],
            [
             0.2222222222222222,
             "#7201a8"
            ],
            [
             0.3333333333333333,
             "#9c179e"
            ],
            [
             0.4444444444444444,
             "#bd3786"
            ],
            [
             0.5555555555555556,
             "#d8576b"
            ],
            [
             0.6666666666666666,
             "#ed7953"
            ],
            [
             0.7777777777777778,
             "#fb9f3a"
            ],
            [
             0.8888888888888888,
             "#fdca26"
            ],
            [
             1,
             "#f0f921"
            ]
           ]
          },
          "colorway": [
           "#636efa",
           "#EF553B",
           "#00cc96",
           "#ab63fa",
           "#FFA15A",
           "#19d3f3",
           "#FF6692",
           "#B6E880",
           "#FF97FF",
           "#FECB52"
          ],
          "font": {
           "color": "#2a3f5f"
          },
          "geo": {
           "bgcolor": "white",
           "lakecolor": "white",
           "landcolor": "#E5ECF6",
           "showlakes": true,
           "showland": true,
           "subunitcolor": "white"
          },
          "hoverlabel": {
           "align": "left"
          },
          "hovermode": "closest",
          "mapbox": {
           "style": "light"
          },
          "paper_bgcolor": "white",
          "plot_bgcolor": "#E5ECF6",
          "polar": {
           "angularaxis": {
            "gridcolor": "white",
            "linecolor": "white",
            "ticks": ""
           },
           "bgcolor": "#E5ECF6",
           "radialaxis": {
            "gridcolor": "white",
            "linecolor": "white",
            "ticks": ""
           }
          },
          "scene": {
           "xaxis": {
            "backgroundcolor": "#E5ECF6",
            "gridcolor": "white",
            "gridwidth": 2,
            "linecolor": "white",
            "showbackground": true,
            "ticks": "",
            "zerolinecolor": "white"
           },
           "yaxis": {
            "backgroundcolor": "#E5ECF6",
            "gridcolor": "white",
            "gridwidth": 2,
            "linecolor": "white",
            "showbackground": true,
            "ticks": "",
            "zerolinecolor": "white"
           },
           "zaxis": {
            "backgroundcolor": "#E5ECF6",
            "gridcolor": "white",
            "gridwidth": 2,
            "linecolor": "white",
            "showbackground": true,
            "ticks": "",
            "zerolinecolor": "white"
           }
          },
          "shapedefaults": {
           "line": {
            "color": "#2a3f5f"
           }
          },
          "ternary": {
           "aaxis": {
            "gridcolor": "white",
            "linecolor": "white",
            "ticks": ""
           },
           "baxis": {
            "gridcolor": "white",
            "linecolor": "white",
            "ticks": ""
           },
           "bgcolor": "#E5ECF6",
           "caxis": {
            "gridcolor": "white",
            "linecolor": "white",
            "ticks": ""
           }
          },
          "title": {
           "x": 0.05
          },
          "xaxis": {
           "automargin": true,
           "gridcolor": "white",
           "linecolor": "white",
           "ticks": "",
           "title": {
            "standoff": 15
           },
           "zerolinecolor": "white",
           "zerolinewidth": 2
          },
          "yaxis": {
           "automargin": true,
           "gridcolor": "white",
           "linecolor": "white",
           "ticks": "",
           "title": {
            "standoff": 15
           },
           "zerolinecolor": "white",
           "zerolinewidth": 2
          }
         }
        },
        "title": {
         "text": "Sankey Diagram"
        },
        "width": 950
       }
      },
      "text/html": [
       "<div>                            <div id=\"10e5aec6-0ef8-4ded-b82c-000c4071b6f4\" class=\"plotly-graph-div\" style=\"height:760px; width:950px;\"></div>            <script type=\"text/javascript\">                require([\"plotly\"], function(Plotly) {                    window.PLOTLYENV=window.PLOTLYENV || {};                                    if (document.getElementById(\"10e5aec6-0ef8-4ded-b82c-000c4071b6f4\")) {                    Plotly.newPlot(                        \"10e5aec6-0ef8-4ded-b82c-000c4071b6f4\",                        [{\"domain\":{\"x\":[0,1],\"y\":[0,1]},\"link\":{\"color\":[\"rgba(91, 114, 163, 0.2)\",\"rgba(91, 114, 163, 0.2)\",\"rgba(91, 114, 163, 0.2)\",\"rgba(91, 114, 163, 0.2)\",\"rgba(91, 114, 163, 0.2)\",\"rgba(91, 114, 163, 0.2)\",\"rgba(220, 159, 170, 0.2)\",\"rgba(220, 159, 170, 0.2)\",\"rgba(220, 159, 170, 0.2)\",\"rgba(220, 159, 170, 0.2)\",\"rgba(194, 217, 28, 0.2)\",\"rgba(194, 217, 28, 0.2)\",\"rgba(194, 217, 28, 0.2)\",\"rgba(194, 217, 28, 0.2)\",\"rgba(194, 217, 28, 0.2)\",\"rgba(194, 217, 28, 0.2)\",\"rgba(118, 93, 78, 0.2)\",\"rgba(118, 93, 78, 0.2)\",\"rgba(118, 93, 78, 0.2)\",\"rgba(118, 93, 78, 0.2)\",\"rgba(248, 18, 186, 0.2)\",\"rgba(248, 18, 186, 0.2)\",\"rgba(248, 18, 186, 0.2)\",\"rgba(248, 18, 186, 0.2)\",\"rgba(248, 18, 186, 0.2)\",\"rgba(117, 143, 7, 0.2)\",\"rgba(117, 143, 7, 0.2)\",\"rgba(117, 143, 7, 0.2)\",\"rgba(117, 143, 7, 0.2)\",\"rgba(58, 120, 52, 0.2)\",\"rgba(29, 107, 216, 0.2)\",\"rgba(91, 114, 163, 0.2)\",\"rgba(91, 114, 163, 0.2)\",\"rgba(91, 114, 163, 0.2)\",\"rgba(91, 114, 163, 0.2)\",\"rgba(91, 114, 163, 0.2)\",\"rgba(91, 114, 163, 0.2)\",\"rgba(220, 159, 170, 0.2)\",\"rgba(220, 159, 170, 0.2)\",\"rgba(220, 159, 170, 0.2)\",\"rgba(220, 159, 170, 0.2)\",\"rgba(220, 159, 170, 0.2)\",\"rgba(118, 93, 78, 0.2)\",\"rgba(118, 93, 78, 0.2)\",\"rgba(117, 143, 7, 0.2)\",\"rgba(117, 143, 7, 0.2)\",\"rgba(117, 143, 7, 0.2)\",\"rgba(115, 104, 81, 0.2)\",\"rgba(248, 18, 186, 0.2)\",\"rgba(248, 18, 186, 0.2)\",\"rgba(248, 18, 186, 0.2)\",\"rgba(248, 18, 186, 0.2)\",\"rgba(248, 18, 186, 0.2)\",\"rgba(248, 18, 186, 0.2)\",\"rgba(248, 18, 186, 0.2)\",\"rgba(194, 217, 28, 0.2)\",\"rgba(194, 217, 28, 0.2)\",\"rgba(194, 217, 28, 0.2)\",\"rgba(194, 217, 28, 0.2)\",\"rgba(194, 217, 28, 0.2)\",\"rgba(29, 107, 216, 0.2)\",\"rgba(29, 107, 216, 0.2)\",\"rgba(58, 120, 52, 0.2)\",\"rgba(58, 120, 52, 0.2)\",\"rgba(58, 120, 52, 0.2)\",\"rgba(58, 120, 52, 0.2)\",\"rgba(248, 18, 186, 0.2)\",\"rgba(220, 159, 170, 0.2)\",\"rgba(91, 114, 163, 0.2)\",\"rgba(91, 114, 163, 0.2)\",\"rgba(91, 114, 163, 0.2)\",\"rgba(117, 143, 7, 0.2)\",\"rgba(117, 143, 7, 0.2)\",\"rgba(117, 143, 7, 0.2)\",\"rgba(194, 217, 28, 0.2)\"],\"label\":[\"29.8%\",\"7.4%\",\"36.8%\",\"4.1%\",\"17.6%\",\"4.4%\",\"67.5%\",\"22.0%\",\"3.2%\",\"7.3%\",\"30.8%\",\"17.1%\",\"36.7%\",\"2.9%\",\"8.4%\",\"4.2%\",\"3.4%\",\"38.6%\",\"36.3%\",\"21.7%\",\"27.4%\",\"4.0%\",\"14.0%\",\"49.4%\",\"5.2%\",\"68.8%\",\"18.1%\",\"6.5%\",\"6.5%\",\"100.0%\",\"100.0%\",\"7.4%\",\"36.4%\",\"19.5%\",\"16.7%\",\"5.7%\",\"14.3%\",\"7.0%\",\"39.9%\",\"43.0%\",\"7.3%\",\"2.8%\",\"42.0%\",\"58.0%\",\"4.0%\",\"89.5%\",\"6.5%\",\"100.0%\",\"5.5%\",\"12.5%\",\"43.0%\",\"17.2%\",\"4.7%\",\"11.3%\",\"5.9%\",\"11.2%\",\"11.9%\",\"15.7%\",\"20.9%\",\"40.3%\",\"61.3%\",\"38.7%\",\"24.2%\",\"38.7%\",\"37.1%\",\"100.0%\",\"100.0%\",\"100.0%\",\"37.5%\",\"33.3%\",\"29.2%\",\"8.1%\",\"83.9%\",\"8.1%\",\"100.0%\"],\"source\":[0,0,0,0,0,0,1,1,1,1,2,2,2,2,2,2,3,3,3,3,4,4,4,4,4,5,5,5,5,6,7,8,8,8,8,8,8,9,9,9,9,9,10,10,11,11,11,12,13,13,13,13,13,13,13,14,14,14,14,14,15,15,16,16,16,17,18,19,21,21,21,22,22,22,23],\"target\":[9,11,13,14,15,16,8,11,13,14,8,9,10,11,13,16,11,13,14,16,8,9,10,12,14,8,10,13,14,10,8,17,18,19,22,23,24,18,21,22,23,24,17,18,18,21,23,25,17,19,20,21,23,24,25,17,18,19,21,22,18,19,18,22,25,26,27,28,26,28,32,26,29,32,28],\"value\":[336,83,415,46,199,50,774,252,37,84,533,296,635,50,145,72,12,135,127,76,90,13,46,162,17,179,47,17,17,25,14,31,153,82,70,24,60,27,154,166,28,11,50,69,11,248,18,30,14,32,110,44,12,29,15,15,16,21,28,54,19,12,15,24,23,13,27,23,27,24,21,13,135,13,25]},\"node\":{\"color\":[\"rgba(91, 114, 163, 1)\",\"rgba(220, 159, 170, 1)\",\"rgba(194, 217, 28, 1)\",\"rgba(118, 93, 78, 1)\",\"rgba(248, 18, 186, 1)\",\"rgba(117, 143, 7, 1)\",\"rgba(58, 120, 52, 1)\",\"rgba(29, 107, 216, 1)\",\"rgba(91, 114, 163, 1)\",\"rgba(220, 159, 170, 1)\",\"rgba(118, 93, 78, 1)\",\"rgba(117, 143, 7, 1)\",\"rgba(115, 104, 81, 1)\",\"rgba(248, 18, 186, 1)\",\"rgba(194, 217, 28, 1)\",\"rgba(29, 107, 216, 1)\",\"rgba(58, 120, 52, 1)\",\"rgba(58, 120, 52, 1)\",\"rgba(248, 18, 186, 1)\",\"rgba(220, 159, 170, 1)\",\"rgba(115, 104, 81, 1)\",\"rgba(91, 114, 163, 1)\",\"rgba(117, 143, 7, 1)\",\"rgba(194, 217, 28, 1)\",\"rgba(29, 107, 216, 1)\",\"rgba(118, 93, 78, 1)\",\"rgba(248, 18, 186, 1)\",\"rgba(115, 104, 81, 1)\",\"rgba(117, 143, 7, 1)\",\"rgba(91, 114, 163, 1)\",\"rgba(29, 107, 216, 1)\",\"rgba(58, 120, 52, 1)\",\"rgba(194, 217, 28, 1)\",\"rgba(118, 93, 78, 1)\",\"rgba(220, 159, 170, 1)\"],\"label\":[\"tips_show\",\"map\",\"search\",\"photos_show\",\"contacts_show\",\"advert_open\",\"favorites_add\",\"tips_click\",\"tips_show\",\"map\",\"photos_show\",\"advert_open\",\"contacts_call\",\"contacts_show\",\"search\",\"tips_click\",\"favorites_add\",\"favorites_add\",\"contacts_show\",\"map\",\"contacts_call\",\"tips_show\",\"advert_open\",\"search\",\"tips_click\",\"photos_show\",\"contacts_show\",\"contacts_call\",\"advert_open\",\"tips_show\",\"tips_click\",\"favorites_add\",\"search\",\"photos_show\",\"map\"],\"line\":{\"color\":\"black\",\"width\":0.1},\"pad\":50,\"thickness\":15},\"orientation\":\"h\",\"valueformat\":\".0f\",\"type\":\"sankey\"}],                        {\"template\":{\"data\":{\"histogram2dcontour\":[{\"type\":\"histogram2dcontour\",\"colorbar\":{\"outlinewidth\":0,\"ticks\":\"\"},\"colorscale\":[[0.0,\"#0d0887\"],[0.1111111111111111,\"#46039f\"],[0.2222222222222222,\"#7201a8\"],[0.3333333333333333,\"#9c179e\"],[0.4444444444444444,\"#bd3786\"],[0.5555555555555556,\"#d8576b\"],[0.6666666666666666,\"#ed7953\"],[0.7777777777777778,\"#fb9f3a\"],[0.8888888888888888,\"#fdca26\"],[1.0,\"#f0f921\"]]}],\"choropleth\":[{\"type\":\"choropleth\",\"colorbar\":{\"outlinewidth\":0,\"ticks\":\"\"}}],\"histogram2d\":[{\"type\":\"histogram2d\",\"colorbar\":{\"outlinewidth\":0,\"ticks\":\"\"},\"colorscale\":[[0.0,\"#0d0887\"],[0.1111111111111111,\"#46039f\"],[0.2222222222222222,\"#7201a8\"],[0.3333333333333333,\"#9c179e\"],[0.4444444444444444,\"#bd3786\"],[0.5555555555555556,\"#d8576b\"],[0.6666666666666666,\"#ed7953\"],[0.7777777777777778,\"#fb9f3a\"],[0.8888888888888888,\"#fdca26\"],[1.0,\"#f0f921\"]]}],\"heatmap\":[{\"type\":\"heatmap\",\"colorbar\":{\"outlinewidth\":0,\"ticks\":\"\"},\"colorscale\":[[0.0,\"#0d0887\"],[0.1111111111111111,\"#46039f\"],[0.2222222222222222,\"#7201a8\"],[0.3333333333333333,\"#9c179e\"],[0.4444444444444444,\"#bd3786\"],[0.5555555555555556,\"#d8576b\"],[0.6666666666666666,\"#ed7953\"],[0.7777777777777778,\"#fb9f3a\"],[0.8888888888888888,\"#fdca26\"],[1.0,\"#f0f921\"]]}],\"heatmapgl\":[{\"type\":\"heatmapgl\",\"colorbar\":{\"outlinewidth\":0,\"ticks\":\"\"},\"colorscale\":[[0.0,\"#0d0887\"],[0.1111111111111111,\"#46039f\"],[0.2222222222222222,\"#7201a8\"],[0.3333333333333333,\"#9c179e\"],[0.4444444444444444,\"#bd3786\"],[0.5555555555555556,\"#d8576b\"],[0.6666666666666666,\"#ed7953\"],[0.7777777777777778,\"#fb9f3a\"],[0.8888888888888888,\"#fdca26\"],[1.0,\"#f0f921\"]]}],\"contourcarpet\":[{\"type\":\"contourcarpet\",\"colorbar\":{\"outlinewidth\":0,\"ticks\":\"\"}}],\"contour\":[{\"type\":\"contour\",\"colorbar\":{\"outlinewidth\":0,\"ticks\":\"\"},\"colorscale\":[[0.0,\"#0d0887\"],[0.1111111111111111,\"#46039f\"],[0.2222222222222222,\"#7201a8\"],[0.3333333333333333,\"#9c179e\"],[0.4444444444444444,\"#bd3786\"],[0.5555555555555556,\"#d8576b\"],[0.6666666666666666,\"#ed7953\"],[0.7777777777777778,\"#fb9f3a\"],[0.8888888888888888,\"#fdca26\"],[1.0,\"#f0f921\"]]}],\"surface\":[{\"type\":\"surface\",\"colorbar\":{\"outlinewidth\":0,\"ticks\":\"\"},\"colorscale\":[[0.0,\"#0d0887\"],[0.1111111111111111,\"#46039f\"],[0.2222222222222222,\"#7201a8\"],[0.3333333333333333,\"#9c179e\"],[0.4444444444444444,\"#bd3786\"],[0.5555555555555556,\"#d8576b\"],[0.6666666666666666,\"#ed7953\"],[0.7777777777777778,\"#fb9f3a\"],[0.8888888888888888,\"#fdca26\"],[1.0,\"#f0f921\"]]}],\"mesh3d\":[{\"type\":\"mesh3d\",\"colorbar\":{\"outlinewidth\":0,\"ticks\":\"\"}}],\"scatter\":[{\"fillpattern\":{\"fillmode\":\"overlay\",\"size\":10,\"solidity\":0.2},\"type\":\"scatter\"}],\"parcoords\":[{\"type\":\"parcoords\",\"line\":{\"colorbar\":{\"outlinewidth\":0,\"ticks\":\"\"}}}],\"scatterpolargl\":[{\"type\":\"scatterpolargl\",\"marker\":{\"colorbar\":{\"outlinewidth\":0,\"ticks\":\"\"}}}],\"bar\":[{\"error_x\":{\"color\":\"#2a3f5f\"},\"error_y\":{\"color\":\"#2a3f5f\"},\"marker\":{\"line\":{\"color\":\"#E5ECF6\",\"width\":0.5},\"pattern\":{\"fillmode\":\"overlay\",\"size\":10,\"solidity\":0.2}},\"type\":\"bar\"}],\"scattergeo\":[{\"type\":\"scattergeo\",\"marker\":{\"colorbar\":{\"outlinewidth\":0,\"ticks\":\"\"}}}],\"scatterpolar\":[{\"type\":\"scatterpolar\",\"marker\":{\"colorbar\":{\"outlinewidth\":0,\"ticks\":\"\"}}}],\"histogram\":[{\"marker\":{\"pattern\":{\"fillmode\":\"overlay\",\"size\":10,\"solidity\":0.2}},\"type\":\"histogram\"}],\"scattergl\":[{\"type\":\"scattergl\",\"marker\":{\"colorbar\":{\"outlinewidth\":0,\"ticks\":\"\"}}}],\"scatter3d\":[{\"type\":\"scatter3d\",\"line\":{\"colorbar\":{\"outlinewidth\":0,\"ticks\":\"\"}},\"marker\":{\"colorbar\":{\"outlinewidth\":0,\"ticks\":\"\"}}}],\"scattermapbox\":[{\"type\":\"scattermapbox\",\"marker\":{\"colorbar\":{\"outlinewidth\":0,\"ticks\":\"\"}}}],\"scatterternary\":[{\"type\":\"scatterternary\",\"marker\":{\"colorbar\":{\"outlinewidth\":0,\"ticks\":\"\"}}}],\"scattercarpet\":[{\"type\":\"scattercarpet\",\"marker\":{\"colorbar\":{\"outlinewidth\":0,\"ticks\":\"\"}}}],\"carpet\":[{\"aaxis\":{\"endlinecolor\":\"#2a3f5f\",\"gridcolor\":\"white\",\"linecolor\":\"white\",\"minorgridcolor\":\"white\",\"startlinecolor\":\"#2a3f5f\"},\"baxis\":{\"endlinecolor\":\"#2a3f5f\",\"gridcolor\":\"white\",\"linecolor\":\"white\",\"minorgridcolor\":\"white\",\"startlinecolor\":\"#2a3f5f\"},\"type\":\"carpet\"}],\"table\":[{\"cells\":{\"fill\":{\"color\":\"#EBF0F8\"},\"line\":{\"color\":\"white\"}},\"header\":{\"fill\":{\"color\":\"#C8D4E3\"},\"line\":{\"color\":\"white\"}},\"type\":\"table\"}],\"barpolar\":[{\"marker\":{\"line\":{\"color\":\"#E5ECF6\",\"width\":0.5},\"pattern\":{\"fillmode\":\"overlay\",\"size\":10,\"solidity\":0.2}},\"type\":\"barpolar\"}],\"pie\":[{\"automargin\":true,\"type\":\"pie\"}]},\"layout\":{\"autotypenumbers\":\"strict\",\"colorway\":[\"#636efa\",\"#EF553B\",\"#00cc96\",\"#ab63fa\",\"#FFA15A\",\"#19d3f3\",\"#FF6692\",\"#B6E880\",\"#FF97FF\",\"#FECB52\"],\"font\":{\"color\":\"#2a3f5f\"},\"hovermode\":\"closest\",\"hoverlabel\":{\"align\":\"left\"},\"paper_bgcolor\":\"white\",\"plot_bgcolor\":\"#E5ECF6\",\"polar\":{\"bgcolor\":\"#E5ECF6\",\"angularaxis\":{\"gridcolor\":\"white\",\"linecolor\":\"white\",\"ticks\":\"\"},\"radialaxis\":{\"gridcolor\":\"white\",\"linecolor\":\"white\",\"ticks\":\"\"}},\"ternary\":{\"bgcolor\":\"#E5ECF6\",\"aaxis\":{\"gridcolor\":\"white\",\"linecolor\":\"white\",\"ticks\":\"\"},\"baxis\":{\"gridcolor\":\"white\",\"linecolor\":\"white\",\"ticks\":\"\"},\"caxis\":{\"gridcolor\":\"white\",\"linecolor\":\"white\",\"ticks\":\"\"}},\"coloraxis\":{\"colorbar\":{\"outlinewidth\":0,\"ticks\":\"\"}},\"colorscale\":{\"sequential\":[[0.0,\"#0d0887\"],[0.1111111111111111,\"#46039f\"],[0.2222222222222222,\"#7201a8\"],[0.3333333333333333,\"#9c179e\"],[0.4444444444444444,\"#bd3786\"],[0.5555555555555556,\"#d8576b\"],[0.6666666666666666,\"#ed7953\"],[0.7777777777777778,\"#fb9f3a\"],[0.8888888888888888,\"#fdca26\"],[1.0,\"#f0f921\"]],\"sequentialminus\":[[0.0,\"#0d0887\"],[0.1111111111111111,\"#46039f\"],[0.2222222222222222,\"#7201a8\"],[0.3333333333333333,\"#9c179e\"],[0.4444444444444444,\"#bd3786\"],[0.5555555555555556,\"#d8576b\"],[0.6666666666666666,\"#ed7953\"],[0.7777777777777778,\"#fb9f3a\"],[0.8888888888888888,\"#fdca26\"],[1.0,\"#f0f921\"]],\"diverging\":[[0,\"#8e0152\"],[0.1,\"#c51b7d\"],[0.2,\"#de77ae\"],[0.3,\"#f1b6da\"],[0.4,\"#fde0ef\"],[0.5,\"#f7f7f7\"],[0.6,\"#e6f5d0\"],[0.7,\"#b8e186\"],[0.8,\"#7fbc41\"],[0.9,\"#4d9221\"],[1,\"#276419\"]]},\"xaxis\":{\"gridcolor\":\"white\",\"linecolor\":\"white\",\"ticks\":\"\",\"title\":{\"standoff\":15},\"zerolinecolor\":\"white\",\"automargin\":true,\"zerolinewidth\":2},\"yaxis\":{\"gridcolor\":\"white\",\"linecolor\":\"white\",\"ticks\":\"\",\"title\":{\"standoff\":15},\"zerolinecolor\":\"white\",\"automargin\":true,\"zerolinewidth\":2},\"scene\":{\"xaxis\":{\"backgroundcolor\":\"#E5ECF6\",\"gridcolor\":\"white\",\"linecolor\":\"white\",\"showbackground\":true,\"ticks\":\"\",\"zerolinecolor\":\"white\",\"gridwidth\":2},\"yaxis\":{\"backgroundcolor\":\"#E5ECF6\",\"gridcolor\":\"white\",\"linecolor\":\"white\",\"showbackground\":true,\"ticks\":\"\",\"zerolinecolor\":\"white\",\"gridwidth\":2},\"zaxis\":{\"backgroundcolor\":\"#E5ECF6\",\"gridcolor\":\"white\",\"linecolor\":\"white\",\"showbackground\":true,\"ticks\":\"\",\"zerolinecolor\":\"white\",\"gridwidth\":2}},\"shapedefaults\":{\"line\":{\"color\":\"#2a3f5f\"}},\"annotationdefaults\":{\"arrowcolor\":\"#2a3f5f\",\"arrowhead\":0,\"arrowwidth\":1},\"geo\":{\"bgcolor\":\"white\",\"landcolor\":\"#E5ECF6\",\"subunitcolor\":\"white\",\"showland\":true,\"showlakes\":true,\"lakecolor\":\"white\"},\"title\":{\"x\":0.05},\"mapbox\":{\"style\":\"light\"}}},\"title\":{\"text\":\"Sankey Diagram\"},\"font\":{\"size\":10},\"width\":950,\"height\":760},                        {\"responsive\": true}                    ).then(function(){\n",
       "                            \n",
       "var gd = document.getElementById('10e5aec6-0ef8-4ded-b82c-000c4071b6f4');\n",
       "var x = new MutationObserver(function (mutations, observer) {{\n",
       "        var display = window.getComputedStyle(gd).display;\n",
       "        if (!display || display === 'none') {{\n",
       "            console.log([gd, 'removed!']);\n",
       "            Plotly.purge(gd);\n",
       "            observer.disconnect();\n",
       "        }}\n",
       "}});\n",
       "\n",
       "// Listen for the removal of the full notebook cells\n",
       "var notebookContainer = gd.closest('#notebook-container');\n",
       "if (notebookContainer) {{\n",
       "    x.observe(notebookContainer, {childList: true});\n",
       "}}\n",
       "\n",
       "// Listen for the clearing of the current output cell\n",
       "var outputEl = gd.closest('.output');\n",
       "if (outputEl) {{\n",
       "    x.observe(outputEl, {childList: true});\n",
       "}}\n",
       "\n",
       "                        })                };                });            </script>        </div>"
      ]
     },
     "metadata": {},
     "output_type": "display_data"
    }
   ],
   "source": [
    "# Применяем функцию - строим диаграмму\n",
    "senkey_diagram.show()"
   ]
  },
  {
   "cell_type": "markdown",
   "metadata": {},
   "source": [
    "Наиболее популярные сценарии отбираются по толщине потоков каждого шага. Наша задача - найти те сценарии, которые приводят в итоге к целевому действию (просмотр контактов/contacts_show). Если смотреть на глаз, то в целом наиболее популярными можно назвать следующие сценарии:\n",
    "- search - tips_show - contacts_show\n",
    "- search - photos_show - contacts_show\n",
    "- map - tips_show - contacts_show\n",
    "\n",
    "Теперь построим воронки по каждому сценарию."
   ]
  },
  {
   "cell_type": "markdown",
   "metadata": {},
   "source": [
    "- **Сценарий 1: search - tips_show - contacts_show**"
   ]
  },
  {
   "cell_type": "markdown",
   "metadata": {},
   "source": [
    "Рассчитаем количество перешедших пользователей на следующий этап."
   ]
  },
  {
   "cell_type": "code",
   "execution_count": 46,
   "metadata": {},
   "outputs": [
    {
     "data": {
      "text/plain": [
       "1666"
      ]
     },
     "execution_count": 46,
     "metadata": {},
     "output_type": "execute_result"
    }
   ],
   "source": [
    "# КОД РЕВЬЮЕРА\n",
    "\n",
    "data_ss.query('event_name == \"search\"')['user_id'].nunique()"
   ]
  },
  {
   "cell_type": "code",
   "execution_count": 47,
   "metadata": {},
   "outputs": [],
   "source": [
    "# Находим количество уникальных пользователей с событием search\n",
    "search = data_ss[data_ss['event_name'] == \"search\"]['user_id'].nunique()\n",
    "\n",
    "# Фильтруем по найденным уникальным пользователям исходный датасет\n",
    "# Находим количество уникальных пользователей с событием tips_show\n",
    "data_ss_2 = data_ss[data_ss['user_id'].isin(data_ss.query('event_name == \"search\"')['user_id'].unique())]\n",
    "tp_s = data_ss_2[data_ss_2['event_name'] == \"tips_show\"]['user_id'].nunique()\n",
    "\n",
    "# Таким же способом находим количество уникальных пользователей с событием contacts_show\n",
    "data_ss_3 = data_ss[data_ss['user_id'].isin(data_ss_2.query('event_name == \"tips_show\"')['user_id'].unique())]\n",
    "co_s = data_ss_3[data_ss_3['event_name'] == \"contacts_show\"]['user_id'].nunique()"
   ]
  },
  {
   "cell_type": "code",
   "execution_count": 48,
   "metadata": {},
   "outputs": [
    {
     "data": {
      "application/vnd.plotly.v1+json": {
       "config": {
        "plotlyServerURL": "https://plot.ly"
       },
       "data": [
        {
         "hovertemplate": "x=%{x}<br>y=%{y}<extra></extra>",
         "legendgroup": "",
         "marker": {
          "color": "#636efa"
         },
         "name": "",
         "orientation": "h",
         "showlegend": false,
         "type": "funnel",
         "x": [
          1666,
          801,
          139
         ],
         "xaxis": "x",
         "y": [
          "Поиск по сайту (search) -",
          "Увидел рекомендованные объявления (tips_show) -",
          "Посмотрел номер телефона (contacts_show) -"
         ],
         "yaxis": "y"
        }
       ],
       "layout": {
        "legend": {
         "tracegroupgap": 0
        },
        "template": {
         "data": {
          "bar": [
           {
            "error_x": {
             "color": "#2a3f5f"
            },
            "error_y": {
             "color": "#2a3f5f"
            },
            "marker": {
             "line": {
              "color": "#E5ECF6",
              "width": 0.5
             },
             "pattern": {
              "fillmode": "overlay",
              "size": 10,
              "solidity": 0.2
             }
            },
            "type": "bar"
           }
          ],
          "barpolar": [
           {
            "marker": {
             "line": {
              "color": "#E5ECF6",
              "width": 0.5
             },
             "pattern": {
              "fillmode": "overlay",
              "size": 10,
              "solidity": 0.2
             }
            },
            "type": "barpolar"
           }
          ],
          "carpet": [
           {
            "aaxis": {
             "endlinecolor": "#2a3f5f",
             "gridcolor": "white",
             "linecolor": "white",
             "minorgridcolor": "white",
             "startlinecolor": "#2a3f5f"
            },
            "baxis": {
             "endlinecolor": "#2a3f5f",
             "gridcolor": "white",
             "linecolor": "white",
             "minorgridcolor": "white",
             "startlinecolor": "#2a3f5f"
            },
            "type": "carpet"
           }
          ],
          "choropleth": [
           {
            "colorbar": {
             "outlinewidth": 0,
             "ticks": ""
            },
            "type": "choropleth"
           }
          ],
          "contour": [
           {
            "colorbar": {
             "outlinewidth": 0,
             "ticks": ""
            },
            "colorscale": [
             [
              0,
              "#0d0887"
             ],
             [
              0.1111111111111111,
              "#46039f"
             ],
             [
              0.2222222222222222,
              "#7201a8"
             ],
             [
              0.3333333333333333,
              "#9c179e"
             ],
             [
              0.4444444444444444,
              "#bd3786"
             ],
             [
              0.5555555555555556,
              "#d8576b"
             ],
             [
              0.6666666666666666,
              "#ed7953"
             ],
             [
              0.7777777777777778,
              "#fb9f3a"
             ],
             [
              0.8888888888888888,
              "#fdca26"
             ],
             [
              1,
              "#f0f921"
             ]
            ],
            "type": "contour"
           }
          ],
          "contourcarpet": [
           {
            "colorbar": {
             "outlinewidth": 0,
             "ticks": ""
            },
            "type": "contourcarpet"
           }
          ],
          "heatmap": [
           {
            "colorbar": {
             "outlinewidth": 0,
             "ticks": ""
            },
            "colorscale": [
             [
              0,
              "#0d0887"
             ],
             [
              0.1111111111111111,
              "#46039f"
             ],
             [
              0.2222222222222222,
              "#7201a8"
             ],
             [
              0.3333333333333333,
              "#9c179e"
             ],
             [
              0.4444444444444444,
              "#bd3786"
             ],
             [
              0.5555555555555556,
              "#d8576b"
             ],
             [
              0.6666666666666666,
              "#ed7953"
             ],
             [
              0.7777777777777778,
              "#fb9f3a"
             ],
             [
              0.8888888888888888,
              "#fdca26"
             ],
             [
              1,
              "#f0f921"
             ]
            ],
            "type": "heatmap"
           }
          ],
          "heatmapgl": [
           {
            "colorbar": {
             "outlinewidth": 0,
             "ticks": ""
            },
            "colorscale": [
             [
              0,
              "#0d0887"
             ],
             [
              0.1111111111111111,
              "#46039f"
             ],
             [
              0.2222222222222222,
              "#7201a8"
             ],
             [
              0.3333333333333333,
              "#9c179e"
             ],
             [
              0.4444444444444444,
              "#bd3786"
             ],
             [
              0.5555555555555556,
              "#d8576b"
             ],
             [
              0.6666666666666666,
              "#ed7953"
             ],
             [
              0.7777777777777778,
              "#fb9f3a"
             ],
             [
              0.8888888888888888,
              "#fdca26"
             ],
             [
              1,
              "#f0f921"
             ]
            ],
            "type": "heatmapgl"
           }
          ],
          "histogram": [
           {
            "marker": {
             "pattern": {
              "fillmode": "overlay",
              "size": 10,
              "solidity": 0.2
             }
            },
            "type": "histogram"
           }
          ],
          "histogram2d": [
           {
            "colorbar": {
             "outlinewidth": 0,
             "ticks": ""
            },
            "colorscale": [
             [
              0,
              "#0d0887"
             ],
             [
              0.1111111111111111,
              "#46039f"
             ],
             [
              0.2222222222222222,
              "#7201a8"
             ],
             [
              0.3333333333333333,
              "#9c179e"
             ],
             [
              0.4444444444444444,
              "#bd3786"
             ],
             [
              0.5555555555555556,
              "#d8576b"
             ],
             [
              0.6666666666666666,
              "#ed7953"
             ],
             [
              0.7777777777777778,
              "#fb9f3a"
             ],
             [
              0.8888888888888888,
              "#fdca26"
             ],
             [
              1,
              "#f0f921"
             ]
            ],
            "type": "histogram2d"
           }
          ],
          "histogram2dcontour": [
           {
            "colorbar": {
             "outlinewidth": 0,
             "ticks": ""
            },
            "colorscale": [
             [
              0,
              "#0d0887"
             ],
             [
              0.1111111111111111,
              "#46039f"
             ],
             [
              0.2222222222222222,
              "#7201a8"
             ],
             [
              0.3333333333333333,
              "#9c179e"
             ],
             [
              0.4444444444444444,
              "#bd3786"
             ],
             [
              0.5555555555555556,
              "#d8576b"
             ],
             [
              0.6666666666666666,
              "#ed7953"
             ],
             [
              0.7777777777777778,
              "#fb9f3a"
             ],
             [
              0.8888888888888888,
              "#fdca26"
             ],
             [
              1,
              "#f0f921"
             ]
            ],
            "type": "histogram2dcontour"
           }
          ],
          "mesh3d": [
           {
            "colorbar": {
             "outlinewidth": 0,
             "ticks": ""
            },
            "type": "mesh3d"
           }
          ],
          "parcoords": [
           {
            "line": {
             "colorbar": {
              "outlinewidth": 0,
              "ticks": ""
             }
            },
            "type": "parcoords"
           }
          ],
          "pie": [
           {
            "automargin": true,
            "type": "pie"
           }
          ],
          "scatter": [
           {
            "fillpattern": {
             "fillmode": "overlay",
             "size": 10,
             "solidity": 0.2
            },
            "type": "scatter"
           }
          ],
          "scatter3d": [
           {
            "line": {
             "colorbar": {
              "outlinewidth": 0,
              "ticks": ""
             }
            },
            "marker": {
             "colorbar": {
              "outlinewidth": 0,
              "ticks": ""
             }
            },
            "type": "scatter3d"
           }
          ],
          "scattercarpet": [
           {
            "marker": {
             "colorbar": {
              "outlinewidth": 0,
              "ticks": ""
             }
            },
            "type": "scattercarpet"
           }
          ],
          "scattergeo": [
           {
            "marker": {
             "colorbar": {
              "outlinewidth": 0,
              "ticks": ""
             }
            },
            "type": "scattergeo"
           }
          ],
          "scattergl": [
           {
            "marker": {
             "colorbar": {
              "outlinewidth": 0,
              "ticks": ""
             }
            },
            "type": "scattergl"
           }
          ],
          "scattermapbox": [
           {
            "marker": {
             "colorbar": {
              "outlinewidth": 0,
              "ticks": ""
             }
            },
            "type": "scattermapbox"
           }
          ],
          "scatterpolar": [
           {
            "marker": {
             "colorbar": {
              "outlinewidth": 0,
              "ticks": ""
             }
            },
            "type": "scatterpolar"
           }
          ],
          "scatterpolargl": [
           {
            "marker": {
             "colorbar": {
              "outlinewidth": 0,
              "ticks": ""
             }
            },
            "type": "scatterpolargl"
           }
          ],
          "scatterternary": [
           {
            "marker": {
             "colorbar": {
              "outlinewidth": 0,
              "ticks": ""
             }
            },
            "type": "scatterternary"
           }
          ],
          "surface": [
           {
            "colorbar": {
             "outlinewidth": 0,
             "ticks": ""
            },
            "colorscale": [
             [
              0,
              "#0d0887"
             ],
             [
              0.1111111111111111,
              "#46039f"
             ],
             [
              0.2222222222222222,
              "#7201a8"
             ],
             [
              0.3333333333333333,
              "#9c179e"
             ],
             [
              0.4444444444444444,
              "#bd3786"
             ],
             [
              0.5555555555555556,
              "#d8576b"
             ],
             [
              0.6666666666666666,
              "#ed7953"
             ],
             [
              0.7777777777777778,
              "#fb9f3a"
             ],
             [
              0.8888888888888888,
              "#fdca26"
             ],
             [
              1,
              "#f0f921"
             ]
            ],
            "type": "surface"
           }
          ],
          "table": [
           {
            "cells": {
             "fill": {
              "color": "#EBF0F8"
             },
             "line": {
              "color": "white"
             }
            },
            "header": {
             "fill": {
              "color": "#C8D4E3"
             },
             "line": {
              "color": "white"
             }
            },
            "type": "table"
           }
          ]
         },
         "layout": {
          "annotationdefaults": {
           "arrowcolor": "#2a3f5f",
           "arrowhead": 0,
           "arrowwidth": 1
          },
          "autotypenumbers": "strict",
          "coloraxis": {
           "colorbar": {
            "outlinewidth": 0,
            "ticks": ""
           }
          },
          "colorscale": {
           "diverging": [
            [
             0,
             "#8e0152"
            ],
            [
             0.1,
             "#c51b7d"
            ],
            [
             0.2,
             "#de77ae"
            ],
            [
             0.3,
             "#f1b6da"
            ],
            [
             0.4,
             "#fde0ef"
            ],
            [
             0.5,
             "#f7f7f7"
            ],
            [
             0.6,
             "#e6f5d0"
            ],
            [
             0.7,
             "#b8e186"
            ],
            [
             0.8,
             "#7fbc41"
            ],
            [
             0.9,
             "#4d9221"
            ],
            [
             1,
             "#276419"
            ]
           ],
           "sequential": [
            [
             0,
             "#0d0887"
            ],
            [
             0.1111111111111111,
             "#46039f"
            ],
            [
             0.2222222222222222,
             "#7201a8"
            ],
            [
             0.3333333333333333,
             "#9c179e"
            ],
            [
             0.4444444444444444,
             "#bd3786"
            ],
            [
             0.5555555555555556,
             "#d8576b"
            ],
            [
             0.6666666666666666,
             "#ed7953"
            ],
            [
             0.7777777777777778,
             "#fb9f3a"
            ],
            [
             0.8888888888888888,
             "#fdca26"
            ],
            [
             1,
             "#f0f921"
            ]
           ],
           "sequentialminus": [
            [
             0,
             "#0d0887"
            ],
            [
             0.1111111111111111,
             "#46039f"
            ],
            [
             0.2222222222222222,
             "#7201a8"
            ],
            [
             0.3333333333333333,
             "#9c179e"
            ],
            [
             0.4444444444444444,
             "#bd3786"
            ],
            [
             0.5555555555555556,
             "#d8576b"
            ],
            [
             0.6666666666666666,
             "#ed7953"
            ],
            [
             0.7777777777777778,
             "#fb9f3a"
            ],
            [
             0.8888888888888888,
             "#fdca26"
            ],
            [
             1,
             "#f0f921"
            ]
           ]
          },
          "colorway": [
           "#636efa",
           "#EF553B",
           "#00cc96",
           "#ab63fa",
           "#FFA15A",
           "#19d3f3",
           "#FF6692",
           "#B6E880",
           "#FF97FF",
           "#FECB52"
          ],
          "font": {
           "color": "#2a3f5f"
          },
          "geo": {
           "bgcolor": "white",
           "lakecolor": "white",
           "landcolor": "#E5ECF6",
           "showlakes": true,
           "showland": true,
           "subunitcolor": "white"
          },
          "hoverlabel": {
           "align": "left"
          },
          "hovermode": "closest",
          "mapbox": {
           "style": "light"
          },
          "paper_bgcolor": "white",
          "plot_bgcolor": "#E5ECF6",
          "polar": {
           "angularaxis": {
            "gridcolor": "white",
            "linecolor": "white",
            "ticks": ""
           },
           "bgcolor": "#E5ECF6",
           "radialaxis": {
            "gridcolor": "white",
            "linecolor": "white",
            "ticks": ""
           }
          },
          "scene": {
           "xaxis": {
            "backgroundcolor": "#E5ECF6",
            "gridcolor": "white",
            "gridwidth": 2,
            "linecolor": "white",
            "showbackground": true,
            "ticks": "",
            "zerolinecolor": "white"
           },
           "yaxis": {
            "backgroundcolor": "#E5ECF6",
            "gridcolor": "white",
            "gridwidth": 2,
            "linecolor": "white",
            "showbackground": true,
            "ticks": "",
            "zerolinecolor": "white"
           },
           "zaxis": {
            "backgroundcolor": "#E5ECF6",
            "gridcolor": "white",
            "gridwidth": 2,
            "linecolor": "white",
            "showbackground": true,
            "ticks": "",
            "zerolinecolor": "white"
           }
          },
          "shapedefaults": {
           "line": {
            "color": "#2a3f5f"
           }
          },
          "ternary": {
           "aaxis": {
            "gridcolor": "white",
            "linecolor": "white",
            "ticks": ""
           },
           "baxis": {
            "gridcolor": "white",
            "linecolor": "white",
            "ticks": ""
           },
           "bgcolor": "#E5ECF6",
           "caxis": {
            "gridcolor": "white",
            "linecolor": "white",
            "ticks": ""
           }
          },
          "title": {
           "x": 0.05
          },
          "xaxis": {
           "automargin": true,
           "gridcolor": "white",
           "linecolor": "white",
           "ticks": "",
           "title": {
            "standoff": 15
           },
           "zerolinecolor": "white",
           "zerolinewidth": 2
          },
          "yaxis": {
           "automargin": true,
           "gridcolor": "white",
           "linecolor": "white",
           "ticks": "",
           "title": {
            "standoff": 15
           },
           "zerolinecolor": "white",
           "zerolinewidth": 2
          }
         }
        },
        "title": {
         "text": "Воронка для сценария"
        },
        "xaxis": {
         "anchor": "y",
         "domain": [
          0,
          1
         ],
         "title": {
          "text": "x"
         }
        },
        "yaxis": {
         "anchor": "x",
         "domain": [
          0,
          1
         ],
         "title": {
          "text": ""
         }
        }
       }
      },
      "text/html": [
       "<div>                            <div id=\"ad8e9629-d0a1-4eaa-b2c0-35f614d01e50\" class=\"plotly-graph-div\" style=\"height:525px; width:100%;\"></div>            <script type=\"text/javascript\">                require([\"plotly\"], function(Plotly) {                    window.PLOTLYENV=window.PLOTLYENV || {};                                    if (document.getElementById(\"ad8e9629-d0a1-4eaa-b2c0-35f614d01e50\")) {                    Plotly.newPlot(                        \"ad8e9629-d0a1-4eaa-b2c0-35f614d01e50\",                        [{\"hovertemplate\":\"x=%{x}<br>y=%{y}<extra></extra>\",\"legendgroup\":\"\",\"marker\":{\"color\":\"#636efa\"},\"name\":\"\",\"orientation\":\"h\",\"showlegend\":false,\"x\":[1666,801,139],\"xaxis\":\"x\",\"y\":[\"\\u041f\\u043e\\u0438\\u0441\\u043a \\u043f\\u043e \\u0441\\u0430\\u0439\\u0442\\u0443 (search) -\",\"\\u0423\\u0432\\u0438\\u0434\\u0435\\u043b \\u0440\\u0435\\u043a\\u043e\\u043c\\u0435\\u043d\\u0434\\u043e\\u0432\\u0430\\u043d\\u043d\\u044b\\u0435 \\u043e\\u0431\\u044a\\u044f\\u0432\\u043b\\u0435\\u043d\\u0438\\u044f (tips_show) -\",\"\\u041f\\u043e\\u0441\\u043c\\u043e\\u0442\\u0440\\u0435\\u043b \\u043d\\u043e\\u043c\\u0435\\u0440 \\u0442\\u0435\\u043b\\u0435\\u0444\\u043e\\u043d\\u0430 (contacts_show) -\"],\"yaxis\":\"y\",\"type\":\"funnel\"}],                        {\"template\":{\"data\":{\"histogram2dcontour\":[{\"type\":\"histogram2dcontour\",\"colorbar\":{\"outlinewidth\":0,\"ticks\":\"\"},\"colorscale\":[[0.0,\"#0d0887\"],[0.1111111111111111,\"#46039f\"],[0.2222222222222222,\"#7201a8\"],[0.3333333333333333,\"#9c179e\"],[0.4444444444444444,\"#bd3786\"],[0.5555555555555556,\"#d8576b\"],[0.6666666666666666,\"#ed7953\"],[0.7777777777777778,\"#fb9f3a\"],[0.8888888888888888,\"#fdca26\"],[1.0,\"#f0f921\"]]}],\"choropleth\":[{\"type\":\"choropleth\",\"colorbar\":{\"outlinewidth\":0,\"ticks\":\"\"}}],\"histogram2d\":[{\"type\":\"histogram2d\",\"colorbar\":{\"outlinewidth\":0,\"ticks\":\"\"},\"colorscale\":[[0.0,\"#0d0887\"],[0.1111111111111111,\"#46039f\"],[0.2222222222222222,\"#7201a8\"],[0.3333333333333333,\"#9c179e\"],[0.4444444444444444,\"#bd3786\"],[0.5555555555555556,\"#d8576b\"],[0.6666666666666666,\"#ed7953\"],[0.7777777777777778,\"#fb9f3a\"],[0.8888888888888888,\"#fdca26\"],[1.0,\"#f0f921\"]]}],\"heatmap\":[{\"type\":\"heatmap\",\"colorbar\":{\"outlinewidth\":0,\"ticks\":\"\"},\"colorscale\":[[0.0,\"#0d0887\"],[0.1111111111111111,\"#46039f\"],[0.2222222222222222,\"#7201a8\"],[0.3333333333333333,\"#9c179e\"],[0.4444444444444444,\"#bd3786\"],[0.5555555555555556,\"#d8576b\"],[0.6666666666666666,\"#ed7953\"],[0.7777777777777778,\"#fb9f3a\"],[0.8888888888888888,\"#fdca26\"],[1.0,\"#f0f921\"]]}],\"heatmapgl\":[{\"type\":\"heatmapgl\",\"colorbar\":{\"outlinewidth\":0,\"ticks\":\"\"},\"colorscale\":[[0.0,\"#0d0887\"],[0.1111111111111111,\"#46039f\"],[0.2222222222222222,\"#7201a8\"],[0.3333333333333333,\"#9c179e\"],[0.4444444444444444,\"#bd3786\"],[0.5555555555555556,\"#d8576b\"],[0.6666666666666666,\"#ed7953\"],[0.7777777777777778,\"#fb9f3a\"],[0.8888888888888888,\"#fdca26\"],[1.0,\"#f0f921\"]]}],\"contourcarpet\":[{\"type\":\"contourcarpet\",\"colorbar\":{\"outlinewidth\":0,\"ticks\":\"\"}}],\"contour\":[{\"type\":\"contour\",\"colorbar\":{\"outlinewidth\":0,\"ticks\":\"\"},\"colorscale\":[[0.0,\"#0d0887\"],[0.1111111111111111,\"#46039f\"],[0.2222222222222222,\"#7201a8\"],[0.3333333333333333,\"#9c179e\"],[0.4444444444444444,\"#bd3786\"],[0.5555555555555556,\"#d8576b\"],[0.6666666666666666,\"#ed7953\"],[0.7777777777777778,\"#fb9f3a\"],[0.8888888888888888,\"#fdca26\"],[1.0,\"#f0f921\"]]}],\"surface\":[{\"type\":\"surface\",\"colorbar\":{\"outlinewidth\":0,\"ticks\":\"\"},\"colorscale\":[[0.0,\"#0d0887\"],[0.1111111111111111,\"#46039f\"],[0.2222222222222222,\"#7201a8\"],[0.3333333333333333,\"#9c179e\"],[0.4444444444444444,\"#bd3786\"],[0.5555555555555556,\"#d8576b\"],[0.6666666666666666,\"#ed7953\"],[0.7777777777777778,\"#fb9f3a\"],[0.8888888888888888,\"#fdca26\"],[1.0,\"#f0f921\"]]}],\"mesh3d\":[{\"type\":\"mesh3d\",\"colorbar\":{\"outlinewidth\":0,\"ticks\":\"\"}}],\"scatter\":[{\"fillpattern\":{\"fillmode\":\"overlay\",\"size\":10,\"solidity\":0.2},\"type\":\"scatter\"}],\"parcoords\":[{\"type\":\"parcoords\",\"line\":{\"colorbar\":{\"outlinewidth\":0,\"ticks\":\"\"}}}],\"scatterpolargl\":[{\"type\":\"scatterpolargl\",\"marker\":{\"colorbar\":{\"outlinewidth\":0,\"ticks\":\"\"}}}],\"bar\":[{\"error_x\":{\"color\":\"#2a3f5f\"},\"error_y\":{\"color\":\"#2a3f5f\"},\"marker\":{\"line\":{\"color\":\"#E5ECF6\",\"width\":0.5},\"pattern\":{\"fillmode\":\"overlay\",\"size\":10,\"solidity\":0.2}},\"type\":\"bar\"}],\"scattergeo\":[{\"type\":\"scattergeo\",\"marker\":{\"colorbar\":{\"outlinewidth\":0,\"ticks\":\"\"}}}],\"scatterpolar\":[{\"type\":\"scatterpolar\",\"marker\":{\"colorbar\":{\"outlinewidth\":0,\"ticks\":\"\"}}}],\"histogram\":[{\"marker\":{\"pattern\":{\"fillmode\":\"overlay\",\"size\":10,\"solidity\":0.2}},\"type\":\"histogram\"}],\"scattergl\":[{\"type\":\"scattergl\",\"marker\":{\"colorbar\":{\"outlinewidth\":0,\"ticks\":\"\"}}}],\"scatter3d\":[{\"type\":\"scatter3d\",\"line\":{\"colorbar\":{\"outlinewidth\":0,\"ticks\":\"\"}},\"marker\":{\"colorbar\":{\"outlinewidth\":0,\"ticks\":\"\"}}}],\"scattermapbox\":[{\"type\":\"scattermapbox\",\"marker\":{\"colorbar\":{\"outlinewidth\":0,\"ticks\":\"\"}}}],\"scatterternary\":[{\"type\":\"scatterternary\",\"marker\":{\"colorbar\":{\"outlinewidth\":0,\"ticks\":\"\"}}}],\"scattercarpet\":[{\"type\":\"scattercarpet\",\"marker\":{\"colorbar\":{\"outlinewidth\":0,\"ticks\":\"\"}}}],\"carpet\":[{\"aaxis\":{\"endlinecolor\":\"#2a3f5f\",\"gridcolor\":\"white\",\"linecolor\":\"white\",\"minorgridcolor\":\"white\",\"startlinecolor\":\"#2a3f5f\"},\"baxis\":{\"endlinecolor\":\"#2a3f5f\",\"gridcolor\":\"white\",\"linecolor\":\"white\",\"minorgridcolor\":\"white\",\"startlinecolor\":\"#2a3f5f\"},\"type\":\"carpet\"}],\"table\":[{\"cells\":{\"fill\":{\"color\":\"#EBF0F8\"},\"line\":{\"color\":\"white\"}},\"header\":{\"fill\":{\"color\":\"#C8D4E3\"},\"line\":{\"color\":\"white\"}},\"type\":\"table\"}],\"barpolar\":[{\"marker\":{\"line\":{\"color\":\"#E5ECF6\",\"width\":0.5},\"pattern\":{\"fillmode\":\"overlay\",\"size\":10,\"solidity\":0.2}},\"type\":\"barpolar\"}],\"pie\":[{\"automargin\":true,\"type\":\"pie\"}]},\"layout\":{\"autotypenumbers\":\"strict\",\"colorway\":[\"#636efa\",\"#EF553B\",\"#00cc96\",\"#ab63fa\",\"#FFA15A\",\"#19d3f3\",\"#FF6692\",\"#B6E880\",\"#FF97FF\",\"#FECB52\"],\"font\":{\"color\":\"#2a3f5f\"},\"hovermode\":\"closest\",\"hoverlabel\":{\"align\":\"left\"},\"paper_bgcolor\":\"white\",\"plot_bgcolor\":\"#E5ECF6\",\"polar\":{\"bgcolor\":\"#E5ECF6\",\"angularaxis\":{\"gridcolor\":\"white\",\"linecolor\":\"white\",\"ticks\":\"\"},\"radialaxis\":{\"gridcolor\":\"white\",\"linecolor\":\"white\",\"ticks\":\"\"}},\"ternary\":{\"bgcolor\":\"#E5ECF6\",\"aaxis\":{\"gridcolor\":\"white\",\"linecolor\":\"white\",\"ticks\":\"\"},\"baxis\":{\"gridcolor\":\"white\",\"linecolor\":\"white\",\"ticks\":\"\"},\"caxis\":{\"gridcolor\":\"white\",\"linecolor\":\"white\",\"ticks\":\"\"}},\"coloraxis\":{\"colorbar\":{\"outlinewidth\":0,\"ticks\":\"\"}},\"colorscale\":{\"sequential\":[[0.0,\"#0d0887\"],[0.1111111111111111,\"#46039f\"],[0.2222222222222222,\"#7201a8\"],[0.3333333333333333,\"#9c179e\"],[0.4444444444444444,\"#bd3786\"],[0.5555555555555556,\"#d8576b\"],[0.6666666666666666,\"#ed7953\"],[0.7777777777777778,\"#fb9f3a\"],[0.8888888888888888,\"#fdca26\"],[1.0,\"#f0f921\"]],\"sequentialminus\":[[0.0,\"#0d0887\"],[0.1111111111111111,\"#46039f\"],[0.2222222222222222,\"#7201a8\"],[0.3333333333333333,\"#9c179e\"],[0.4444444444444444,\"#bd3786\"],[0.5555555555555556,\"#d8576b\"],[0.6666666666666666,\"#ed7953\"],[0.7777777777777778,\"#fb9f3a\"],[0.8888888888888888,\"#fdca26\"],[1.0,\"#f0f921\"]],\"diverging\":[[0,\"#8e0152\"],[0.1,\"#c51b7d\"],[0.2,\"#de77ae\"],[0.3,\"#f1b6da\"],[0.4,\"#fde0ef\"],[0.5,\"#f7f7f7\"],[0.6,\"#e6f5d0\"],[0.7,\"#b8e186\"],[0.8,\"#7fbc41\"],[0.9,\"#4d9221\"],[1,\"#276419\"]]},\"xaxis\":{\"gridcolor\":\"white\",\"linecolor\":\"white\",\"ticks\":\"\",\"title\":{\"standoff\":15},\"zerolinecolor\":\"white\",\"automargin\":true,\"zerolinewidth\":2},\"yaxis\":{\"gridcolor\":\"white\",\"linecolor\":\"white\",\"ticks\":\"\",\"title\":{\"standoff\":15},\"zerolinecolor\":\"white\",\"automargin\":true,\"zerolinewidth\":2},\"scene\":{\"xaxis\":{\"backgroundcolor\":\"#E5ECF6\",\"gridcolor\":\"white\",\"linecolor\":\"white\",\"showbackground\":true,\"ticks\":\"\",\"zerolinecolor\":\"white\",\"gridwidth\":2},\"yaxis\":{\"backgroundcolor\":\"#E5ECF6\",\"gridcolor\":\"white\",\"linecolor\":\"white\",\"showbackground\":true,\"ticks\":\"\",\"zerolinecolor\":\"white\",\"gridwidth\":2},\"zaxis\":{\"backgroundcolor\":\"#E5ECF6\",\"gridcolor\":\"white\",\"linecolor\":\"white\",\"showbackground\":true,\"ticks\":\"\",\"zerolinecolor\":\"white\",\"gridwidth\":2}},\"shapedefaults\":{\"line\":{\"color\":\"#2a3f5f\"}},\"annotationdefaults\":{\"arrowcolor\":\"#2a3f5f\",\"arrowhead\":0,\"arrowwidth\":1},\"geo\":{\"bgcolor\":\"white\",\"landcolor\":\"#E5ECF6\",\"subunitcolor\":\"white\",\"showland\":true,\"showlakes\":true,\"lakecolor\":\"white\"},\"title\":{\"x\":0.05},\"mapbox\":{\"style\":\"light\"}}},\"xaxis\":{\"anchor\":\"y\",\"domain\":[0.0,1.0],\"title\":{\"text\":\"x\"}},\"yaxis\":{\"anchor\":\"x\",\"domain\":[0.0,1.0],\"title\":{\"text\":\"\"}},\"legend\":{\"tracegroupgap\":0},\"title\":{\"text\":\"\\u0412\\u043e\\u0440\\u043e\\u043d\\u043a\\u0430 \\u0434\\u043b\\u044f \\u0441\\u0446\\u0435\\u043d\\u0430\\u0440\\u0438\\u044f\"}},                        {\"responsive\": true}                    ).then(function(){\n",
       "                            \n",
       "var gd = document.getElementById('ad8e9629-d0a1-4eaa-b2c0-35f614d01e50');\n",
       "var x = new MutationObserver(function (mutations, observer) {{\n",
       "        var display = window.getComputedStyle(gd).display;\n",
       "        if (!display || display === 'none') {{\n",
       "            console.log([gd, 'removed!']);\n",
       "            Plotly.purge(gd);\n",
       "            observer.disconnect();\n",
       "        }}\n",
       "}});\n",
       "\n",
       "// Listen for the removal of the full notebook cells\n",
       "var notebookContainer = gd.closest('#notebook-container');\n",
       "if (notebookContainer) {{\n",
       "    x.observe(notebookContainer, {childList: true});\n",
       "}}\n",
       "\n",
       "// Listen for the clearing of the current output cell\n",
       "var outputEl = gd.closest('.output');\n",
       "if (outputEl) {{\n",
       "    x.observe(outputEl, {childList: true});\n",
       "}}\n",
       "\n",
       "                        })                };                });            </script>        </div>"
      ]
     },
     "metadata": {},
     "output_type": "display_data"
    }
   ],
   "source": [
    "# Строим функцию для воронки\n",
    "def plot_funnel(labels, values, title='Воронка для сценария'):\n",
    "    fig = px.funnel(y=labels, x=values, title=title)\n",
    "    fig.update_layout(yaxis_title='')\n",
    "    fig.show()\n",
    "\n",
    "# Создание воронки 1\n",
    "plot_funnel(labels=['Поиск по сайту (search) -', \n",
    "                    'Увидел рекомендованные объявления (tips_show) -', \n",
    "                    'Посмотрел номер телефона (contacts_show) -'], \n",
    "            values=[search, tp_s, co_s])\n"
   ]
  },
  {
   "cell_type": "code",
   "execution_count": 49,
   "metadata": {},
   "outputs": [
    {
     "name": "stdout",
     "output_type": "stream",
     "text": [
      "Конверсия по первому сценарию: 8.34%\n"
     ]
    }
   ],
   "source": [
    "print(f'Конверсия по первому сценарию: {round(((co_s/search)*100), 2)}%')"
   ]
  },
  {
   "cell_type": "markdown",
   "metadata": {},
   "source": [
    "- **Сценарий 2: search - photos_show - contacts_show**"
   ]
  },
  {
   "cell_type": "code",
   "execution_count": 50,
   "metadata": {},
   "outputs": [],
   "source": [
    "# Находим количество уникальных пользователей с событием search\n",
    "search = data_ss[data_ss['event_name'] == \"search\"]['user_id'].nunique()\n",
    "\n",
    "# Фильтруем по найденным уникальным пользователям исходный датасет\n",
    "# Находим количество уникальных пользователей с событием photos_show\n",
    "data_ss_22 = data_ss[data_ss['user_id'].isin(data_ss.query('event_name == \"search\"')['user_id'].unique())]\n",
    "ph_s = data_ss_22[data_ss_22['event_name'] == \"photos_show\"]['user_id'].nunique()\n",
    "\n",
    "# Таким же способом находим количество уникальных пользователей с событием contacts_show\n",
    "data_ss_33 = data_ss[data_ss['user_id'].isin(data_ss_22.query('event_name == \"photos_show\"')['user_id'].unique())]\n",
    "co_s2 = data_ss_33[data_ss_33['event_name'] == \"contacts_show\"]['user_id'].nunique()"
   ]
  },
  {
   "cell_type": "code",
   "execution_count": 51,
   "metadata": {},
   "outputs": [
    {
     "data": {
      "application/vnd.plotly.v1+json": {
       "config": {
        "plotlyServerURL": "https://plot.ly"
       },
       "data": [
        {
         "hovertemplate": "x=%{x}<br>y=%{y}<extra></extra>",
         "legendgroup": "",
         "marker": {
          "color": "#636efa"
         },
         "name": "",
         "orientation": "h",
         "showlegend": false,
         "type": "funnel",
         "x": [
          1666,
          647,
          192
         ],
         "xaxis": "x",
         "y": [
          "Поиск по сайту (search) -",
          "Просмотрел фотографии в объявлении (photos_show) -",
          "Посмотрел номер телефона (contacts_show) -"
         ],
         "yaxis": "y"
        }
       ],
       "layout": {
        "legend": {
         "tracegroupgap": 0
        },
        "template": {
         "data": {
          "bar": [
           {
            "error_x": {
             "color": "#2a3f5f"
            },
            "error_y": {
             "color": "#2a3f5f"
            },
            "marker": {
             "line": {
              "color": "#E5ECF6",
              "width": 0.5
             },
             "pattern": {
              "fillmode": "overlay",
              "size": 10,
              "solidity": 0.2
             }
            },
            "type": "bar"
           }
          ],
          "barpolar": [
           {
            "marker": {
             "line": {
              "color": "#E5ECF6",
              "width": 0.5
             },
             "pattern": {
              "fillmode": "overlay",
              "size": 10,
              "solidity": 0.2
             }
            },
            "type": "barpolar"
           }
          ],
          "carpet": [
           {
            "aaxis": {
             "endlinecolor": "#2a3f5f",
             "gridcolor": "white",
             "linecolor": "white",
             "minorgridcolor": "white",
             "startlinecolor": "#2a3f5f"
            },
            "baxis": {
             "endlinecolor": "#2a3f5f",
             "gridcolor": "white",
             "linecolor": "white",
             "minorgridcolor": "white",
             "startlinecolor": "#2a3f5f"
            },
            "type": "carpet"
           }
          ],
          "choropleth": [
           {
            "colorbar": {
             "outlinewidth": 0,
             "ticks": ""
            },
            "type": "choropleth"
           }
          ],
          "contour": [
           {
            "colorbar": {
             "outlinewidth": 0,
             "ticks": ""
            },
            "colorscale": [
             [
              0,
              "#0d0887"
             ],
             [
              0.1111111111111111,
              "#46039f"
             ],
             [
              0.2222222222222222,
              "#7201a8"
             ],
             [
              0.3333333333333333,
              "#9c179e"
             ],
             [
              0.4444444444444444,
              "#bd3786"
             ],
             [
              0.5555555555555556,
              "#d8576b"
             ],
             [
              0.6666666666666666,
              "#ed7953"
             ],
             [
              0.7777777777777778,
              "#fb9f3a"
             ],
             [
              0.8888888888888888,
              "#fdca26"
             ],
             [
              1,
              "#f0f921"
             ]
            ],
            "type": "contour"
           }
          ],
          "contourcarpet": [
           {
            "colorbar": {
             "outlinewidth": 0,
             "ticks": ""
            },
            "type": "contourcarpet"
           }
          ],
          "heatmap": [
           {
            "colorbar": {
             "outlinewidth": 0,
             "ticks": ""
            },
            "colorscale": [
             [
              0,
              "#0d0887"
             ],
             [
              0.1111111111111111,
              "#46039f"
             ],
             [
              0.2222222222222222,
              "#7201a8"
             ],
             [
              0.3333333333333333,
              "#9c179e"
             ],
             [
              0.4444444444444444,
              "#bd3786"
             ],
             [
              0.5555555555555556,
              "#d8576b"
             ],
             [
              0.6666666666666666,
              "#ed7953"
             ],
             [
              0.7777777777777778,
              "#fb9f3a"
             ],
             [
              0.8888888888888888,
              "#fdca26"
             ],
             [
              1,
              "#f0f921"
             ]
            ],
            "type": "heatmap"
           }
          ],
          "heatmapgl": [
           {
            "colorbar": {
             "outlinewidth": 0,
             "ticks": ""
            },
            "colorscale": [
             [
              0,
              "#0d0887"
             ],
             [
              0.1111111111111111,
              "#46039f"
             ],
             [
              0.2222222222222222,
              "#7201a8"
             ],
             [
              0.3333333333333333,
              "#9c179e"
             ],
             [
              0.4444444444444444,
              "#bd3786"
             ],
             [
              0.5555555555555556,
              "#d8576b"
             ],
             [
              0.6666666666666666,
              "#ed7953"
             ],
             [
              0.7777777777777778,
              "#fb9f3a"
             ],
             [
              0.8888888888888888,
              "#fdca26"
             ],
             [
              1,
              "#f0f921"
             ]
            ],
            "type": "heatmapgl"
           }
          ],
          "histogram": [
           {
            "marker": {
             "pattern": {
              "fillmode": "overlay",
              "size": 10,
              "solidity": 0.2
             }
            },
            "type": "histogram"
           }
          ],
          "histogram2d": [
           {
            "colorbar": {
             "outlinewidth": 0,
             "ticks": ""
            },
            "colorscale": [
             [
              0,
              "#0d0887"
             ],
             [
              0.1111111111111111,
              "#46039f"
             ],
             [
              0.2222222222222222,
              "#7201a8"
             ],
             [
              0.3333333333333333,
              "#9c179e"
             ],
             [
              0.4444444444444444,
              "#bd3786"
             ],
             [
              0.5555555555555556,
              "#d8576b"
             ],
             [
              0.6666666666666666,
              "#ed7953"
             ],
             [
              0.7777777777777778,
              "#fb9f3a"
             ],
             [
              0.8888888888888888,
              "#fdca26"
             ],
             [
              1,
              "#f0f921"
             ]
            ],
            "type": "histogram2d"
           }
          ],
          "histogram2dcontour": [
           {
            "colorbar": {
             "outlinewidth": 0,
             "ticks": ""
            },
            "colorscale": [
             [
              0,
              "#0d0887"
             ],
             [
              0.1111111111111111,
              "#46039f"
             ],
             [
              0.2222222222222222,
              "#7201a8"
             ],
             [
              0.3333333333333333,
              "#9c179e"
             ],
             [
              0.4444444444444444,
              "#bd3786"
             ],
             [
              0.5555555555555556,
              "#d8576b"
             ],
             [
              0.6666666666666666,
              "#ed7953"
             ],
             [
              0.7777777777777778,
              "#fb9f3a"
             ],
             [
              0.8888888888888888,
              "#fdca26"
             ],
             [
              1,
              "#f0f921"
             ]
            ],
            "type": "histogram2dcontour"
           }
          ],
          "mesh3d": [
           {
            "colorbar": {
             "outlinewidth": 0,
             "ticks": ""
            },
            "type": "mesh3d"
           }
          ],
          "parcoords": [
           {
            "line": {
             "colorbar": {
              "outlinewidth": 0,
              "ticks": ""
             }
            },
            "type": "parcoords"
           }
          ],
          "pie": [
           {
            "automargin": true,
            "type": "pie"
           }
          ],
          "scatter": [
           {
            "fillpattern": {
             "fillmode": "overlay",
             "size": 10,
             "solidity": 0.2
            },
            "type": "scatter"
           }
          ],
          "scatter3d": [
           {
            "line": {
             "colorbar": {
              "outlinewidth": 0,
              "ticks": ""
             }
            },
            "marker": {
             "colorbar": {
              "outlinewidth": 0,
              "ticks": ""
             }
            },
            "type": "scatter3d"
           }
          ],
          "scattercarpet": [
           {
            "marker": {
             "colorbar": {
              "outlinewidth": 0,
              "ticks": ""
             }
            },
            "type": "scattercarpet"
           }
          ],
          "scattergeo": [
           {
            "marker": {
             "colorbar": {
              "outlinewidth": 0,
              "ticks": ""
             }
            },
            "type": "scattergeo"
           }
          ],
          "scattergl": [
           {
            "marker": {
             "colorbar": {
              "outlinewidth": 0,
              "ticks": ""
             }
            },
            "type": "scattergl"
           }
          ],
          "scattermapbox": [
           {
            "marker": {
             "colorbar": {
              "outlinewidth": 0,
              "ticks": ""
             }
            },
            "type": "scattermapbox"
           }
          ],
          "scatterpolar": [
           {
            "marker": {
             "colorbar": {
              "outlinewidth": 0,
              "ticks": ""
             }
            },
            "type": "scatterpolar"
           }
          ],
          "scatterpolargl": [
           {
            "marker": {
             "colorbar": {
              "outlinewidth": 0,
              "ticks": ""
             }
            },
            "type": "scatterpolargl"
           }
          ],
          "scatterternary": [
           {
            "marker": {
             "colorbar": {
              "outlinewidth": 0,
              "ticks": ""
             }
            },
            "type": "scatterternary"
           }
          ],
          "surface": [
           {
            "colorbar": {
             "outlinewidth": 0,
             "ticks": ""
            },
            "colorscale": [
             [
              0,
              "#0d0887"
             ],
             [
              0.1111111111111111,
              "#46039f"
             ],
             [
              0.2222222222222222,
              "#7201a8"
             ],
             [
              0.3333333333333333,
              "#9c179e"
             ],
             [
              0.4444444444444444,
              "#bd3786"
             ],
             [
              0.5555555555555556,
              "#d8576b"
             ],
             [
              0.6666666666666666,
              "#ed7953"
             ],
             [
              0.7777777777777778,
              "#fb9f3a"
             ],
             [
              0.8888888888888888,
              "#fdca26"
             ],
             [
              1,
              "#f0f921"
             ]
            ],
            "type": "surface"
           }
          ],
          "table": [
           {
            "cells": {
             "fill": {
              "color": "#EBF0F8"
             },
             "line": {
              "color": "white"
             }
            },
            "header": {
             "fill": {
              "color": "#C8D4E3"
             },
             "line": {
              "color": "white"
             }
            },
            "type": "table"
           }
          ]
         },
         "layout": {
          "annotationdefaults": {
           "arrowcolor": "#2a3f5f",
           "arrowhead": 0,
           "arrowwidth": 1
          },
          "autotypenumbers": "strict",
          "coloraxis": {
           "colorbar": {
            "outlinewidth": 0,
            "ticks": ""
           }
          },
          "colorscale": {
           "diverging": [
            [
             0,
             "#8e0152"
            ],
            [
             0.1,
             "#c51b7d"
            ],
            [
             0.2,
             "#de77ae"
            ],
            [
             0.3,
             "#f1b6da"
            ],
            [
             0.4,
             "#fde0ef"
            ],
            [
             0.5,
             "#f7f7f7"
            ],
            [
             0.6,
             "#e6f5d0"
            ],
            [
             0.7,
             "#b8e186"
            ],
            [
             0.8,
             "#7fbc41"
            ],
            [
             0.9,
             "#4d9221"
            ],
            [
             1,
             "#276419"
            ]
           ],
           "sequential": [
            [
             0,
             "#0d0887"
            ],
            [
             0.1111111111111111,
             "#46039f"
            ],
            [
             0.2222222222222222,
             "#7201a8"
            ],
            [
             0.3333333333333333,
             "#9c179e"
            ],
            [
             0.4444444444444444,
             "#bd3786"
            ],
            [
             0.5555555555555556,
             "#d8576b"
            ],
            [
             0.6666666666666666,
             "#ed7953"
            ],
            [
             0.7777777777777778,
             "#fb9f3a"
            ],
            [
             0.8888888888888888,
             "#fdca26"
            ],
            [
             1,
             "#f0f921"
            ]
           ],
           "sequentialminus": [
            [
             0,
             "#0d0887"
            ],
            [
             0.1111111111111111,
             "#46039f"
            ],
            [
             0.2222222222222222,
             "#7201a8"
            ],
            [
             0.3333333333333333,
             "#9c179e"
            ],
            [
             0.4444444444444444,
             "#bd3786"
            ],
            [
             0.5555555555555556,
             "#d8576b"
            ],
            [
             0.6666666666666666,
             "#ed7953"
            ],
            [
             0.7777777777777778,
             "#fb9f3a"
            ],
            [
             0.8888888888888888,
             "#fdca26"
            ],
            [
             1,
             "#f0f921"
            ]
           ]
          },
          "colorway": [
           "#636efa",
           "#EF553B",
           "#00cc96",
           "#ab63fa",
           "#FFA15A",
           "#19d3f3",
           "#FF6692",
           "#B6E880",
           "#FF97FF",
           "#FECB52"
          ],
          "font": {
           "color": "#2a3f5f"
          },
          "geo": {
           "bgcolor": "white",
           "lakecolor": "white",
           "landcolor": "#E5ECF6",
           "showlakes": true,
           "showland": true,
           "subunitcolor": "white"
          },
          "hoverlabel": {
           "align": "left"
          },
          "hovermode": "closest",
          "mapbox": {
           "style": "light"
          },
          "paper_bgcolor": "white",
          "plot_bgcolor": "#E5ECF6",
          "polar": {
           "angularaxis": {
            "gridcolor": "white",
            "linecolor": "white",
            "ticks": ""
           },
           "bgcolor": "#E5ECF6",
           "radialaxis": {
            "gridcolor": "white",
            "linecolor": "white",
            "ticks": ""
           }
          },
          "scene": {
           "xaxis": {
            "backgroundcolor": "#E5ECF6",
            "gridcolor": "white",
            "gridwidth": 2,
            "linecolor": "white",
            "showbackground": true,
            "ticks": "",
            "zerolinecolor": "white"
           },
           "yaxis": {
            "backgroundcolor": "#E5ECF6",
            "gridcolor": "white",
            "gridwidth": 2,
            "linecolor": "white",
            "showbackground": true,
            "ticks": "",
            "zerolinecolor": "white"
           },
           "zaxis": {
            "backgroundcolor": "#E5ECF6",
            "gridcolor": "white",
            "gridwidth": 2,
            "linecolor": "white",
            "showbackground": true,
            "ticks": "",
            "zerolinecolor": "white"
           }
          },
          "shapedefaults": {
           "line": {
            "color": "#2a3f5f"
           }
          },
          "ternary": {
           "aaxis": {
            "gridcolor": "white",
            "linecolor": "white",
            "ticks": ""
           },
           "baxis": {
            "gridcolor": "white",
            "linecolor": "white",
            "ticks": ""
           },
           "bgcolor": "#E5ECF6",
           "caxis": {
            "gridcolor": "white",
            "linecolor": "white",
            "ticks": ""
           }
          },
          "title": {
           "x": 0.05
          },
          "xaxis": {
           "automargin": true,
           "gridcolor": "white",
           "linecolor": "white",
           "ticks": "",
           "title": {
            "standoff": 15
           },
           "zerolinecolor": "white",
           "zerolinewidth": 2
          },
          "yaxis": {
           "automargin": true,
           "gridcolor": "white",
           "linecolor": "white",
           "ticks": "",
           "title": {
            "standoff": 15
           },
           "zerolinecolor": "white",
           "zerolinewidth": 2
          }
         }
        },
        "title": {
         "text": "Воронка для сценария"
        },
        "xaxis": {
         "anchor": "y",
         "domain": [
          0,
          1
         ],
         "title": {
          "text": "x"
         }
        },
        "yaxis": {
         "anchor": "x",
         "domain": [
          0,
          1
         ],
         "title": {
          "text": ""
         }
        }
       }
      },
      "text/html": [
       "<div>                            <div id=\"f15a82b0-3c93-4641-a95f-59931b627a4c\" class=\"plotly-graph-div\" style=\"height:525px; width:100%;\"></div>            <script type=\"text/javascript\">                require([\"plotly\"], function(Plotly) {                    window.PLOTLYENV=window.PLOTLYENV || {};                                    if (document.getElementById(\"f15a82b0-3c93-4641-a95f-59931b627a4c\")) {                    Plotly.newPlot(                        \"f15a82b0-3c93-4641-a95f-59931b627a4c\",                        [{\"hovertemplate\":\"x=%{x}<br>y=%{y}<extra></extra>\",\"legendgroup\":\"\",\"marker\":{\"color\":\"#636efa\"},\"name\":\"\",\"orientation\":\"h\",\"showlegend\":false,\"x\":[1666,647,192],\"xaxis\":\"x\",\"y\":[\"\\u041f\\u043e\\u0438\\u0441\\u043a \\u043f\\u043e \\u0441\\u0430\\u0439\\u0442\\u0443 (search) -\",\"\\u041f\\u0440\\u043e\\u0441\\u043c\\u043e\\u0442\\u0440\\u0435\\u043b \\u0444\\u043e\\u0442\\u043e\\u0433\\u0440\\u0430\\u0444\\u0438\\u0438 \\u0432 \\u043e\\u0431\\u044a\\u044f\\u0432\\u043b\\u0435\\u043d\\u0438\\u0438 (photos_show) -\",\"\\u041f\\u043e\\u0441\\u043c\\u043e\\u0442\\u0440\\u0435\\u043b \\u043d\\u043e\\u043c\\u0435\\u0440 \\u0442\\u0435\\u043b\\u0435\\u0444\\u043e\\u043d\\u0430 (contacts_show) -\"],\"yaxis\":\"y\",\"type\":\"funnel\"}],                        {\"template\":{\"data\":{\"histogram2dcontour\":[{\"type\":\"histogram2dcontour\",\"colorbar\":{\"outlinewidth\":0,\"ticks\":\"\"},\"colorscale\":[[0.0,\"#0d0887\"],[0.1111111111111111,\"#46039f\"],[0.2222222222222222,\"#7201a8\"],[0.3333333333333333,\"#9c179e\"],[0.4444444444444444,\"#bd3786\"],[0.5555555555555556,\"#d8576b\"],[0.6666666666666666,\"#ed7953\"],[0.7777777777777778,\"#fb9f3a\"],[0.8888888888888888,\"#fdca26\"],[1.0,\"#f0f921\"]]}],\"choropleth\":[{\"type\":\"choropleth\",\"colorbar\":{\"outlinewidth\":0,\"ticks\":\"\"}}],\"histogram2d\":[{\"type\":\"histogram2d\",\"colorbar\":{\"outlinewidth\":0,\"ticks\":\"\"},\"colorscale\":[[0.0,\"#0d0887\"],[0.1111111111111111,\"#46039f\"],[0.2222222222222222,\"#7201a8\"],[0.3333333333333333,\"#9c179e\"],[0.4444444444444444,\"#bd3786\"],[0.5555555555555556,\"#d8576b\"],[0.6666666666666666,\"#ed7953\"],[0.7777777777777778,\"#fb9f3a\"],[0.8888888888888888,\"#fdca26\"],[1.0,\"#f0f921\"]]}],\"heatmap\":[{\"type\":\"heatmap\",\"colorbar\":{\"outlinewidth\":0,\"ticks\":\"\"},\"colorscale\":[[0.0,\"#0d0887\"],[0.1111111111111111,\"#46039f\"],[0.2222222222222222,\"#7201a8\"],[0.3333333333333333,\"#9c179e\"],[0.4444444444444444,\"#bd3786\"],[0.5555555555555556,\"#d8576b\"],[0.6666666666666666,\"#ed7953\"],[0.7777777777777778,\"#fb9f3a\"],[0.8888888888888888,\"#fdca26\"],[1.0,\"#f0f921\"]]}],\"heatmapgl\":[{\"type\":\"heatmapgl\",\"colorbar\":{\"outlinewidth\":0,\"ticks\":\"\"},\"colorscale\":[[0.0,\"#0d0887\"],[0.1111111111111111,\"#46039f\"],[0.2222222222222222,\"#7201a8\"],[0.3333333333333333,\"#9c179e\"],[0.4444444444444444,\"#bd3786\"],[0.5555555555555556,\"#d8576b\"],[0.6666666666666666,\"#ed7953\"],[0.7777777777777778,\"#fb9f3a\"],[0.8888888888888888,\"#fdca26\"],[1.0,\"#f0f921\"]]}],\"contourcarpet\":[{\"type\":\"contourcarpet\",\"colorbar\":{\"outlinewidth\":0,\"ticks\":\"\"}}],\"contour\":[{\"type\":\"contour\",\"colorbar\":{\"outlinewidth\":0,\"ticks\":\"\"},\"colorscale\":[[0.0,\"#0d0887\"],[0.1111111111111111,\"#46039f\"],[0.2222222222222222,\"#7201a8\"],[0.3333333333333333,\"#9c179e\"],[0.4444444444444444,\"#bd3786\"],[0.5555555555555556,\"#d8576b\"],[0.6666666666666666,\"#ed7953\"],[0.7777777777777778,\"#fb9f3a\"],[0.8888888888888888,\"#fdca26\"],[1.0,\"#f0f921\"]]}],\"surface\":[{\"type\":\"surface\",\"colorbar\":{\"outlinewidth\":0,\"ticks\":\"\"},\"colorscale\":[[0.0,\"#0d0887\"],[0.1111111111111111,\"#46039f\"],[0.2222222222222222,\"#7201a8\"],[0.3333333333333333,\"#9c179e\"],[0.4444444444444444,\"#bd3786\"],[0.5555555555555556,\"#d8576b\"],[0.6666666666666666,\"#ed7953\"],[0.7777777777777778,\"#fb9f3a\"],[0.8888888888888888,\"#fdca26\"],[1.0,\"#f0f921\"]]}],\"mesh3d\":[{\"type\":\"mesh3d\",\"colorbar\":{\"outlinewidth\":0,\"ticks\":\"\"}}],\"scatter\":[{\"fillpattern\":{\"fillmode\":\"overlay\",\"size\":10,\"solidity\":0.2},\"type\":\"scatter\"}],\"parcoords\":[{\"type\":\"parcoords\",\"line\":{\"colorbar\":{\"outlinewidth\":0,\"ticks\":\"\"}}}],\"scatterpolargl\":[{\"type\":\"scatterpolargl\",\"marker\":{\"colorbar\":{\"outlinewidth\":0,\"ticks\":\"\"}}}],\"bar\":[{\"error_x\":{\"color\":\"#2a3f5f\"},\"error_y\":{\"color\":\"#2a3f5f\"},\"marker\":{\"line\":{\"color\":\"#E5ECF6\",\"width\":0.5},\"pattern\":{\"fillmode\":\"overlay\",\"size\":10,\"solidity\":0.2}},\"type\":\"bar\"}],\"scattergeo\":[{\"type\":\"scattergeo\",\"marker\":{\"colorbar\":{\"outlinewidth\":0,\"ticks\":\"\"}}}],\"scatterpolar\":[{\"type\":\"scatterpolar\",\"marker\":{\"colorbar\":{\"outlinewidth\":0,\"ticks\":\"\"}}}],\"histogram\":[{\"marker\":{\"pattern\":{\"fillmode\":\"overlay\",\"size\":10,\"solidity\":0.2}},\"type\":\"histogram\"}],\"scattergl\":[{\"type\":\"scattergl\",\"marker\":{\"colorbar\":{\"outlinewidth\":0,\"ticks\":\"\"}}}],\"scatter3d\":[{\"type\":\"scatter3d\",\"line\":{\"colorbar\":{\"outlinewidth\":0,\"ticks\":\"\"}},\"marker\":{\"colorbar\":{\"outlinewidth\":0,\"ticks\":\"\"}}}],\"scattermapbox\":[{\"type\":\"scattermapbox\",\"marker\":{\"colorbar\":{\"outlinewidth\":0,\"ticks\":\"\"}}}],\"scatterternary\":[{\"type\":\"scatterternary\",\"marker\":{\"colorbar\":{\"outlinewidth\":0,\"ticks\":\"\"}}}],\"scattercarpet\":[{\"type\":\"scattercarpet\",\"marker\":{\"colorbar\":{\"outlinewidth\":0,\"ticks\":\"\"}}}],\"carpet\":[{\"aaxis\":{\"endlinecolor\":\"#2a3f5f\",\"gridcolor\":\"white\",\"linecolor\":\"white\",\"minorgridcolor\":\"white\",\"startlinecolor\":\"#2a3f5f\"},\"baxis\":{\"endlinecolor\":\"#2a3f5f\",\"gridcolor\":\"white\",\"linecolor\":\"white\",\"minorgridcolor\":\"white\",\"startlinecolor\":\"#2a3f5f\"},\"type\":\"carpet\"}],\"table\":[{\"cells\":{\"fill\":{\"color\":\"#EBF0F8\"},\"line\":{\"color\":\"white\"}},\"header\":{\"fill\":{\"color\":\"#C8D4E3\"},\"line\":{\"color\":\"white\"}},\"type\":\"table\"}],\"barpolar\":[{\"marker\":{\"line\":{\"color\":\"#E5ECF6\",\"width\":0.5},\"pattern\":{\"fillmode\":\"overlay\",\"size\":10,\"solidity\":0.2}},\"type\":\"barpolar\"}],\"pie\":[{\"automargin\":true,\"type\":\"pie\"}]},\"layout\":{\"autotypenumbers\":\"strict\",\"colorway\":[\"#636efa\",\"#EF553B\",\"#00cc96\",\"#ab63fa\",\"#FFA15A\",\"#19d3f3\",\"#FF6692\",\"#B6E880\",\"#FF97FF\",\"#FECB52\"],\"font\":{\"color\":\"#2a3f5f\"},\"hovermode\":\"closest\",\"hoverlabel\":{\"align\":\"left\"},\"paper_bgcolor\":\"white\",\"plot_bgcolor\":\"#E5ECF6\",\"polar\":{\"bgcolor\":\"#E5ECF6\",\"angularaxis\":{\"gridcolor\":\"white\",\"linecolor\":\"white\",\"ticks\":\"\"},\"radialaxis\":{\"gridcolor\":\"white\",\"linecolor\":\"white\",\"ticks\":\"\"}},\"ternary\":{\"bgcolor\":\"#E5ECF6\",\"aaxis\":{\"gridcolor\":\"white\",\"linecolor\":\"white\",\"ticks\":\"\"},\"baxis\":{\"gridcolor\":\"white\",\"linecolor\":\"white\",\"ticks\":\"\"},\"caxis\":{\"gridcolor\":\"white\",\"linecolor\":\"white\",\"ticks\":\"\"}},\"coloraxis\":{\"colorbar\":{\"outlinewidth\":0,\"ticks\":\"\"}},\"colorscale\":{\"sequential\":[[0.0,\"#0d0887\"],[0.1111111111111111,\"#46039f\"],[0.2222222222222222,\"#7201a8\"],[0.3333333333333333,\"#9c179e\"],[0.4444444444444444,\"#bd3786\"],[0.5555555555555556,\"#d8576b\"],[0.6666666666666666,\"#ed7953\"],[0.7777777777777778,\"#fb9f3a\"],[0.8888888888888888,\"#fdca26\"],[1.0,\"#f0f921\"]],\"sequentialminus\":[[0.0,\"#0d0887\"],[0.1111111111111111,\"#46039f\"],[0.2222222222222222,\"#7201a8\"],[0.3333333333333333,\"#9c179e\"],[0.4444444444444444,\"#bd3786\"],[0.5555555555555556,\"#d8576b\"],[0.6666666666666666,\"#ed7953\"],[0.7777777777777778,\"#fb9f3a\"],[0.8888888888888888,\"#fdca26\"],[1.0,\"#f0f921\"]],\"diverging\":[[0,\"#8e0152\"],[0.1,\"#c51b7d\"],[0.2,\"#de77ae\"],[0.3,\"#f1b6da\"],[0.4,\"#fde0ef\"],[0.5,\"#f7f7f7\"],[0.6,\"#e6f5d0\"],[0.7,\"#b8e186\"],[0.8,\"#7fbc41\"],[0.9,\"#4d9221\"],[1,\"#276419\"]]},\"xaxis\":{\"gridcolor\":\"white\",\"linecolor\":\"white\",\"ticks\":\"\",\"title\":{\"standoff\":15},\"zerolinecolor\":\"white\",\"automargin\":true,\"zerolinewidth\":2},\"yaxis\":{\"gridcolor\":\"white\",\"linecolor\":\"white\",\"ticks\":\"\",\"title\":{\"standoff\":15},\"zerolinecolor\":\"white\",\"automargin\":true,\"zerolinewidth\":2},\"scene\":{\"xaxis\":{\"backgroundcolor\":\"#E5ECF6\",\"gridcolor\":\"white\",\"linecolor\":\"white\",\"showbackground\":true,\"ticks\":\"\",\"zerolinecolor\":\"white\",\"gridwidth\":2},\"yaxis\":{\"backgroundcolor\":\"#E5ECF6\",\"gridcolor\":\"white\",\"linecolor\":\"white\",\"showbackground\":true,\"ticks\":\"\",\"zerolinecolor\":\"white\",\"gridwidth\":2},\"zaxis\":{\"backgroundcolor\":\"#E5ECF6\",\"gridcolor\":\"white\",\"linecolor\":\"white\",\"showbackground\":true,\"ticks\":\"\",\"zerolinecolor\":\"white\",\"gridwidth\":2}},\"shapedefaults\":{\"line\":{\"color\":\"#2a3f5f\"}},\"annotationdefaults\":{\"arrowcolor\":\"#2a3f5f\",\"arrowhead\":0,\"arrowwidth\":1},\"geo\":{\"bgcolor\":\"white\",\"landcolor\":\"#E5ECF6\",\"subunitcolor\":\"white\",\"showland\":true,\"showlakes\":true,\"lakecolor\":\"white\"},\"title\":{\"x\":0.05},\"mapbox\":{\"style\":\"light\"}}},\"xaxis\":{\"anchor\":\"y\",\"domain\":[0.0,1.0],\"title\":{\"text\":\"x\"}},\"yaxis\":{\"anchor\":\"x\",\"domain\":[0.0,1.0],\"title\":{\"text\":\"\"}},\"legend\":{\"tracegroupgap\":0},\"title\":{\"text\":\"\\u0412\\u043e\\u0440\\u043e\\u043d\\u043a\\u0430 \\u0434\\u043b\\u044f \\u0441\\u0446\\u0435\\u043d\\u0430\\u0440\\u0438\\u044f\"}},                        {\"responsive\": true}                    ).then(function(){\n",
       "                            \n",
       "var gd = document.getElementById('f15a82b0-3c93-4641-a95f-59931b627a4c');\n",
       "var x = new MutationObserver(function (mutations, observer) {{\n",
       "        var display = window.getComputedStyle(gd).display;\n",
       "        if (!display || display === 'none') {{\n",
       "            console.log([gd, 'removed!']);\n",
       "            Plotly.purge(gd);\n",
       "            observer.disconnect();\n",
       "        }}\n",
       "}});\n",
       "\n",
       "// Listen for the removal of the full notebook cells\n",
       "var notebookContainer = gd.closest('#notebook-container');\n",
       "if (notebookContainer) {{\n",
       "    x.observe(notebookContainer, {childList: true});\n",
       "}}\n",
       "\n",
       "// Listen for the clearing of the current output cell\n",
       "var outputEl = gd.closest('.output');\n",
       "if (outputEl) {{\n",
       "    x.observe(outputEl, {childList: true});\n",
       "}}\n",
       "\n",
       "                        })                };                });            </script>        </div>"
      ]
     },
     "metadata": {},
     "output_type": "display_data"
    }
   ],
   "source": [
    "# Создание воронки 2\n",
    "plot_funnel(labels=['Поиск по сайту (search) -', \n",
    "                    'Просмотрел фотографии в объявлении (photos_show) -', \n",
    "                    'Посмотрел номер телефона (contacts_show) -'], \n",
    "            values=[search, ph_s, co_s2])\n"
   ]
  },
  {
   "cell_type": "code",
   "execution_count": 52,
   "metadata": {},
   "outputs": [
    {
     "name": "stdout",
     "output_type": "stream",
     "text": [
      "Конверсия по второму сценарию: 11.52%\n"
     ]
    }
   ],
   "source": [
    "print(f'Конверсия по второму сценарию: {round(((co_s2/search)*100), 2)}%')"
   ]
  },
  {
   "cell_type": "markdown",
   "metadata": {},
   "source": [
    "- **Сценарий 3: map - tips_show - contacts_show**"
   ]
  },
  {
   "cell_type": "code",
   "execution_count": 53,
   "metadata": {},
   "outputs": [],
   "source": [
    "# Находим количество уникальных пользователей с событием map\n",
    "maps = data_ss[data_ss['event_name'] == \"map\"]['user_id'].nunique()\n",
    "\n",
    "# Фильтруем по найденным уникальным пользователям исходный датасет\n",
    "# Находим количество уникальных пользователей с событием tips_show\n",
    "data_ss_4 = data_ss[data_ss['user_id'].isin(data_ss.query('event_name == \"map\"')['user_id'].unique())]\n",
    "tp_s2 = data_ss_4[data_ss_4['event_name'] == \"tips_show\"]['user_id'].nunique()\n",
    "\n",
    "# Таким же способом находим количество уникальных пользователей с событием contacts_show\n",
    "data_ss_5 = data_ss[data_ss['user_id'].isin(data_ss_4.query('event_name == \"tips_show\"')['user_id'].unique())]\n",
    "co_s3 = data_ss_5[data_ss_5['event_name'] == \"contacts_show\"]['user_id'].nunique()"
   ]
  },
  {
   "cell_type": "code",
   "execution_count": 54,
   "metadata": {},
   "outputs": [
    {
     "data": {
      "application/vnd.plotly.v1+json": {
       "config": {
        "plotlyServerURL": "https://plot.ly"
       },
       "data": [
        {
         "hovertemplate": "x=%{x}<br>y=%{y}<extra></extra>",
         "legendgroup": "",
         "marker": {
          "color": "#636efa"
         },
         "name": "",
         "orientation": "h",
         "showlegend": false,
         "type": "funnel",
         "x": [
          1456,
          1352,
          275
         ],
         "xaxis": "x",
         "y": [
          "Открыл карту объявлений (map) -",
          "Увидел рекомендованные объявления (tips_show) -",
          "Посмотрел номер телефона (contacts_show) -"
         ],
         "yaxis": "y"
        }
       ],
       "layout": {
        "legend": {
         "tracegroupgap": 0
        },
        "template": {
         "data": {
          "bar": [
           {
            "error_x": {
             "color": "#2a3f5f"
            },
            "error_y": {
             "color": "#2a3f5f"
            },
            "marker": {
             "line": {
              "color": "#E5ECF6",
              "width": 0.5
             },
             "pattern": {
              "fillmode": "overlay",
              "size": 10,
              "solidity": 0.2
             }
            },
            "type": "bar"
           }
          ],
          "barpolar": [
           {
            "marker": {
             "line": {
              "color": "#E5ECF6",
              "width": 0.5
             },
             "pattern": {
              "fillmode": "overlay",
              "size": 10,
              "solidity": 0.2
             }
            },
            "type": "barpolar"
           }
          ],
          "carpet": [
           {
            "aaxis": {
             "endlinecolor": "#2a3f5f",
             "gridcolor": "white",
             "linecolor": "white",
             "minorgridcolor": "white",
             "startlinecolor": "#2a3f5f"
            },
            "baxis": {
             "endlinecolor": "#2a3f5f",
             "gridcolor": "white",
             "linecolor": "white",
             "minorgridcolor": "white",
             "startlinecolor": "#2a3f5f"
            },
            "type": "carpet"
           }
          ],
          "choropleth": [
           {
            "colorbar": {
             "outlinewidth": 0,
             "ticks": ""
            },
            "type": "choropleth"
           }
          ],
          "contour": [
           {
            "colorbar": {
             "outlinewidth": 0,
             "ticks": ""
            },
            "colorscale": [
             [
              0,
              "#0d0887"
             ],
             [
              0.1111111111111111,
              "#46039f"
             ],
             [
              0.2222222222222222,
              "#7201a8"
             ],
             [
              0.3333333333333333,
              "#9c179e"
             ],
             [
              0.4444444444444444,
              "#bd3786"
             ],
             [
              0.5555555555555556,
              "#d8576b"
             ],
             [
              0.6666666666666666,
              "#ed7953"
             ],
             [
              0.7777777777777778,
              "#fb9f3a"
             ],
             [
              0.8888888888888888,
              "#fdca26"
             ],
             [
              1,
              "#f0f921"
             ]
            ],
            "type": "contour"
           }
          ],
          "contourcarpet": [
           {
            "colorbar": {
             "outlinewidth": 0,
             "ticks": ""
            },
            "type": "contourcarpet"
           }
          ],
          "heatmap": [
           {
            "colorbar": {
             "outlinewidth": 0,
             "ticks": ""
            },
            "colorscale": [
             [
              0,
              "#0d0887"
             ],
             [
              0.1111111111111111,
              "#46039f"
             ],
             [
              0.2222222222222222,
              "#7201a8"
             ],
             [
              0.3333333333333333,
              "#9c179e"
             ],
             [
              0.4444444444444444,
              "#bd3786"
             ],
             [
              0.5555555555555556,
              "#d8576b"
             ],
             [
              0.6666666666666666,
              "#ed7953"
             ],
             [
              0.7777777777777778,
              "#fb9f3a"
             ],
             [
              0.8888888888888888,
              "#fdca26"
             ],
             [
              1,
              "#f0f921"
             ]
            ],
            "type": "heatmap"
           }
          ],
          "heatmapgl": [
           {
            "colorbar": {
             "outlinewidth": 0,
             "ticks": ""
            },
            "colorscale": [
             [
              0,
              "#0d0887"
             ],
             [
              0.1111111111111111,
              "#46039f"
             ],
             [
              0.2222222222222222,
              "#7201a8"
             ],
             [
              0.3333333333333333,
              "#9c179e"
             ],
             [
              0.4444444444444444,
              "#bd3786"
             ],
             [
              0.5555555555555556,
              "#d8576b"
             ],
             [
              0.6666666666666666,
              "#ed7953"
             ],
             [
              0.7777777777777778,
              "#fb9f3a"
             ],
             [
              0.8888888888888888,
              "#fdca26"
             ],
             [
              1,
              "#f0f921"
             ]
            ],
            "type": "heatmapgl"
           }
          ],
          "histogram": [
           {
            "marker": {
             "pattern": {
              "fillmode": "overlay",
              "size": 10,
              "solidity": 0.2
             }
            },
            "type": "histogram"
           }
          ],
          "histogram2d": [
           {
            "colorbar": {
             "outlinewidth": 0,
             "ticks": ""
            },
            "colorscale": [
             [
              0,
              "#0d0887"
             ],
             [
              0.1111111111111111,
              "#46039f"
             ],
             [
              0.2222222222222222,
              "#7201a8"
             ],
             [
              0.3333333333333333,
              "#9c179e"
             ],
             [
              0.4444444444444444,
              "#bd3786"
             ],
             [
              0.5555555555555556,
              "#d8576b"
             ],
             [
              0.6666666666666666,
              "#ed7953"
             ],
             [
              0.7777777777777778,
              "#fb9f3a"
             ],
             [
              0.8888888888888888,
              "#fdca26"
             ],
             [
              1,
              "#f0f921"
             ]
            ],
            "type": "histogram2d"
           }
          ],
          "histogram2dcontour": [
           {
            "colorbar": {
             "outlinewidth": 0,
             "ticks": ""
            },
            "colorscale": [
             [
              0,
              "#0d0887"
             ],
             [
              0.1111111111111111,
              "#46039f"
             ],
             [
              0.2222222222222222,
              "#7201a8"
             ],
             [
              0.3333333333333333,
              "#9c179e"
             ],
             [
              0.4444444444444444,
              "#bd3786"
             ],
             [
              0.5555555555555556,
              "#d8576b"
             ],
             [
              0.6666666666666666,
              "#ed7953"
             ],
             [
              0.7777777777777778,
              "#fb9f3a"
             ],
             [
              0.8888888888888888,
              "#fdca26"
             ],
             [
              1,
              "#f0f921"
             ]
            ],
            "type": "histogram2dcontour"
           }
          ],
          "mesh3d": [
           {
            "colorbar": {
             "outlinewidth": 0,
             "ticks": ""
            },
            "type": "mesh3d"
           }
          ],
          "parcoords": [
           {
            "line": {
             "colorbar": {
              "outlinewidth": 0,
              "ticks": ""
             }
            },
            "type": "parcoords"
           }
          ],
          "pie": [
           {
            "automargin": true,
            "type": "pie"
           }
          ],
          "scatter": [
           {
            "fillpattern": {
             "fillmode": "overlay",
             "size": 10,
             "solidity": 0.2
            },
            "type": "scatter"
           }
          ],
          "scatter3d": [
           {
            "line": {
             "colorbar": {
              "outlinewidth": 0,
              "ticks": ""
             }
            },
            "marker": {
             "colorbar": {
              "outlinewidth": 0,
              "ticks": ""
             }
            },
            "type": "scatter3d"
           }
          ],
          "scattercarpet": [
           {
            "marker": {
             "colorbar": {
              "outlinewidth": 0,
              "ticks": ""
             }
            },
            "type": "scattercarpet"
           }
          ],
          "scattergeo": [
           {
            "marker": {
             "colorbar": {
              "outlinewidth": 0,
              "ticks": ""
             }
            },
            "type": "scattergeo"
           }
          ],
          "scattergl": [
           {
            "marker": {
             "colorbar": {
              "outlinewidth": 0,
              "ticks": ""
             }
            },
            "type": "scattergl"
           }
          ],
          "scattermapbox": [
           {
            "marker": {
             "colorbar": {
              "outlinewidth": 0,
              "ticks": ""
             }
            },
            "type": "scattermapbox"
           }
          ],
          "scatterpolar": [
           {
            "marker": {
             "colorbar": {
              "outlinewidth": 0,
              "ticks": ""
             }
            },
            "type": "scatterpolar"
           }
          ],
          "scatterpolargl": [
           {
            "marker": {
             "colorbar": {
              "outlinewidth": 0,
              "ticks": ""
             }
            },
            "type": "scatterpolargl"
           }
          ],
          "scatterternary": [
           {
            "marker": {
             "colorbar": {
              "outlinewidth": 0,
              "ticks": ""
             }
            },
            "type": "scatterternary"
           }
          ],
          "surface": [
           {
            "colorbar": {
             "outlinewidth": 0,
             "ticks": ""
            },
            "colorscale": [
             [
              0,
              "#0d0887"
             ],
             [
              0.1111111111111111,
              "#46039f"
             ],
             [
              0.2222222222222222,
              "#7201a8"
             ],
             [
              0.3333333333333333,
              "#9c179e"
             ],
             [
              0.4444444444444444,
              "#bd3786"
             ],
             [
              0.5555555555555556,
              "#d8576b"
             ],
             [
              0.6666666666666666,
              "#ed7953"
             ],
             [
              0.7777777777777778,
              "#fb9f3a"
             ],
             [
              0.8888888888888888,
              "#fdca26"
             ],
             [
              1,
              "#f0f921"
             ]
            ],
            "type": "surface"
           }
          ],
          "table": [
           {
            "cells": {
             "fill": {
              "color": "#EBF0F8"
             },
             "line": {
              "color": "white"
             }
            },
            "header": {
             "fill": {
              "color": "#C8D4E3"
             },
             "line": {
              "color": "white"
             }
            },
            "type": "table"
           }
          ]
         },
         "layout": {
          "annotationdefaults": {
           "arrowcolor": "#2a3f5f",
           "arrowhead": 0,
           "arrowwidth": 1
          },
          "autotypenumbers": "strict",
          "coloraxis": {
           "colorbar": {
            "outlinewidth": 0,
            "ticks": ""
           }
          },
          "colorscale": {
           "diverging": [
            [
             0,
             "#8e0152"
            ],
            [
             0.1,
             "#c51b7d"
            ],
            [
             0.2,
             "#de77ae"
            ],
            [
             0.3,
             "#f1b6da"
            ],
            [
             0.4,
             "#fde0ef"
            ],
            [
             0.5,
             "#f7f7f7"
            ],
            [
             0.6,
             "#e6f5d0"
            ],
            [
             0.7,
             "#b8e186"
            ],
            [
             0.8,
             "#7fbc41"
            ],
            [
             0.9,
             "#4d9221"
            ],
            [
             1,
             "#276419"
            ]
           ],
           "sequential": [
            [
             0,
             "#0d0887"
            ],
            [
             0.1111111111111111,
             "#46039f"
            ],
            [
             0.2222222222222222,
             "#7201a8"
            ],
            [
             0.3333333333333333,
             "#9c179e"
            ],
            [
             0.4444444444444444,
             "#bd3786"
            ],
            [
             0.5555555555555556,
             "#d8576b"
            ],
            [
             0.6666666666666666,
             "#ed7953"
            ],
            [
             0.7777777777777778,
             "#fb9f3a"
            ],
            [
             0.8888888888888888,
             "#fdca26"
            ],
            [
             1,
             "#f0f921"
            ]
           ],
           "sequentialminus": [
            [
             0,
             "#0d0887"
            ],
            [
             0.1111111111111111,
             "#46039f"
            ],
            [
             0.2222222222222222,
             "#7201a8"
            ],
            [
             0.3333333333333333,
             "#9c179e"
            ],
            [
             0.4444444444444444,
             "#bd3786"
            ],
            [
             0.5555555555555556,
             "#d8576b"
            ],
            [
             0.6666666666666666,
             "#ed7953"
            ],
            [
             0.7777777777777778,
             "#fb9f3a"
            ],
            [
             0.8888888888888888,
             "#fdca26"
            ],
            [
             1,
             "#f0f921"
            ]
           ]
          },
          "colorway": [
           "#636efa",
           "#EF553B",
           "#00cc96",
           "#ab63fa",
           "#FFA15A",
           "#19d3f3",
           "#FF6692",
           "#B6E880",
           "#FF97FF",
           "#FECB52"
          ],
          "font": {
           "color": "#2a3f5f"
          },
          "geo": {
           "bgcolor": "white",
           "lakecolor": "white",
           "landcolor": "#E5ECF6",
           "showlakes": true,
           "showland": true,
           "subunitcolor": "white"
          },
          "hoverlabel": {
           "align": "left"
          },
          "hovermode": "closest",
          "mapbox": {
           "style": "light"
          },
          "paper_bgcolor": "white",
          "plot_bgcolor": "#E5ECF6",
          "polar": {
           "angularaxis": {
            "gridcolor": "white",
            "linecolor": "white",
            "ticks": ""
           },
           "bgcolor": "#E5ECF6",
           "radialaxis": {
            "gridcolor": "white",
            "linecolor": "white",
            "ticks": ""
           }
          },
          "scene": {
           "xaxis": {
            "backgroundcolor": "#E5ECF6",
            "gridcolor": "white",
            "gridwidth": 2,
            "linecolor": "white",
            "showbackground": true,
            "ticks": "",
            "zerolinecolor": "white"
           },
           "yaxis": {
            "backgroundcolor": "#E5ECF6",
            "gridcolor": "white",
            "gridwidth": 2,
            "linecolor": "white",
            "showbackground": true,
            "ticks": "",
            "zerolinecolor": "white"
           },
           "zaxis": {
            "backgroundcolor": "#E5ECF6",
            "gridcolor": "white",
            "gridwidth": 2,
            "linecolor": "white",
            "showbackground": true,
            "ticks": "",
            "zerolinecolor": "white"
           }
          },
          "shapedefaults": {
           "line": {
            "color": "#2a3f5f"
           }
          },
          "ternary": {
           "aaxis": {
            "gridcolor": "white",
            "linecolor": "white",
            "ticks": ""
           },
           "baxis": {
            "gridcolor": "white",
            "linecolor": "white",
            "ticks": ""
           },
           "bgcolor": "#E5ECF6",
           "caxis": {
            "gridcolor": "white",
            "linecolor": "white",
            "ticks": ""
           }
          },
          "title": {
           "x": 0.05
          },
          "xaxis": {
           "automargin": true,
           "gridcolor": "white",
           "linecolor": "white",
           "ticks": "",
           "title": {
            "standoff": 15
           },
           "zerolinecolor": "white",
           "zerolinewidth": 2
          },
          "yaxis": {
           "automargin": true,
           "gridcolor": "white",
           "linecolor": "white",
           "ticks": "",
           "title": {
            "standoff": 15
           },
           "zerolinecolor": "white",
           "zerolinewidth": 2
          }
         }
        },
        "title": {
         "text": "Воронка для сценария"
        },
        "xaxis": {
         "anchor": "y",
         "domain": [
          0,
          1
         ],
         "title": {
          "text": "x"
         }
        },
        "yaxis": {
         "anchor": "x",
         "domain": [
          0,
          1
         ],
         "title": {
          "text": ""
         }
        }
       }
      },
      "text/html": [
       "<div>                            <div id=\"bec64f21-b762-4825-bf8d-8676209e1a25\" class=\"plotly-graph-div\" style=\"height:525px; width:100%;\"></div>            <script type=\"text/javascript\">                require([\"plotly\"], function(Plotly) {                    window.PLOTLYENV=window.PLOTLYENV || {};                                    if (document.getElementById(\"bec64f21-b762-4825-bf8d-8676209e1a25\")) {                    Plotly.newPlot(                        \"bec64f21-b762-4825-bf8d-8676209e1a25\",                        [{\"hovertemplate\":\"x=%{x}<br>y=%{y}<extra></extra>\",\"legendgroup\":\"\",\"marker\":{\"color\":\"#636efa\"},\"name\":\"\",\"orientation\":\"h\",\"showlegend\":false,\"x\":[1456,1352,275],\"xaxis\":\"x\",\"y\":[\"\\u041e\\u0442\\u043a\\u0440\\u044b\\u043b \\u043a\\u0430\\u0440\\u0442\\u0443 \\u043e\\u0431\\u044a\\u044f\\u0432\\u043b\\u0435\\u043d\\u0438\\u0439 (map) -\",\"\\u0423\\u0432\\u0438\\u0434\\u0435\\u043b \\u0440\\u0435\\u043a\\u043e\\u043c\\u0435\\u043d\\u0434\\u043e\\u0432\\u0430\\u043d\\u043d\\u044b\\u0435 \\u043e\\u0431\\u044a\\u044f\\u0432\\u043b\\u0435\\u043d\\u0438\\u044f (tips_show) -\",\"\\u041f\\u043e\\u0441\\u043c\\u043e\\u0442\\u0440\\u0435\\u043b \\u043d\\u043e\\u043c\\u0435\\u0440 \\u0442\\u0435\\u043b\\u0435\\u0444\\u043e\\u043d\\u0430 (contacts_show) -\"],\"yaxis\":\"y\",\"type\":\"funnel\"}],                        {\"template\":{\"data\":{\"histogram2dcontour\":[{\"type\":\"histogram2dcontour\",\"colorbar\":{\"outlinewidth\":0,\"ticks\":\"\"},\"colorscale\":[[0.0,\"#0d0887\"],[0.1111111111111111,\"#46039f\"],[0.2222222222222222,\"#7201a8\"],[0.3333333333333333,\"#9c179e\"],[0.4444444444444444,\"#bd3786\"],[0.5555555555555556,\"#d8576b\"],[0.6666666666666666,\"#ed7953\"],[0.7777777777777778,\"#fb9f3a\"],[0.8888888888888888,\"#fdca26\"],[1.0,\"#f0f921\"]]}],\"choropleth\":[{\"type\":\"choropleth\",\"colorbar\":{\"outlinewidth\":0,\"ticks\":\"\"}}],\"histogram2d\":[{\"type\":\"histogram2d\",\"colorbar\":{\"outlinewidth\":0,\"ticks\":\"\"},\"colorscale\":[[0.0,\"#0d0887\"],[0.1111111111111111,\"#46039f\"],[0.2222222222222222,\"#7201a8\"],[0.3333333333333333,\"#9c179e\"],[0.4444444444444444,\"#bd3786\"],[0.5555555555555556,\"#d8576b\"],[0.6666666666666666,\"#ed7953\"],[0.7777777777777778,\"#fb9f3a\"],[0.8888888888888888,\"#fdca26\"],[1.0,\"#f0f921\"]]}],\"heatmap\":[{\"type\":\"heatmap\",\"colorbar\":{\"outlinewidth\":0,\"ticks\":\"\"},\"colorscale\":[[0.0,\"#0d0887\"],[0.1111111111111111,\"#46039f\"],[0.2222222222222222,\"#7201a8\"],[0.3333333333333333,\"#9c179e\"],[0.4444444444444444,\"#bd3786\"],[0.5555555555555556,\"#d8576b\"],[0.6666666666666666,\"#ed7953\"],[0.7777777777777778,\"#fb9f3a\"],[0.8888888888888888,\"#fdca26\"],[1.0,\"#f0f921\"]]}],\"heatmapgl\":[{\"type\":\"heatmapgl\",\"colorbar\":{\"outlinewidth\":0,\"ticks\":\"\"},\"colorscale\":[[0.0,\"#0d0887\"],[0.1111111111111111,\"#46039f\"],[0.2222222222222222,\"#7201a8\"],[0.3333333333333333,\"#9c179e\"],[0.4444444444444444,\"#bd3786\"],[0.5555555555555556,\"#d8576b\"],[0.6666666666666666,\"#ed7953\"],[0.7777777777777778,\"#fb9f3a\"],[0.8888888888888888,\"#fdca26\"],[1.0,\"#f0f921\"]]}],\"contourcarpet\":[{\"type\":\"contourcarpet\",\"colorbar\":{\"outlinewidth\":0,\"ticks\":\"\"}}],\"contour\":[{\"type\":\"contour\",\"colorbar\":{\"outlinewidth\":0,\"ticks\":\"\"},\"colorscale\":[[0.0,\"#0d0887\"],[0.1111111111111111,\"#46039f\"],[0.2222222222222222,\"#7201a8\"],[0.3333333333333333,\"#9c179e\"],[0.4444444444444444,\"#bd3786\"],[0.5555555555555556,\"#d8576b\"],[0.6666666666666666,\"#ed7953\"],[0.7777777777777778,\"#fb9f3a\"],[0.8888888888888888,\"#fdca26\"],[1.0,\"#f0f921\"]]}],\"surface\":[{\"type\":\"surface\",\"colorbar\":{\"outlinewidth\":0,\"ticks\":\"\"},\"colorscale\":[[0.0,\"#0d0887\"],[0.1111111111111111,\"#46039f\"],[0.2222222222222222,\"#7201a8\"],[0.3333333333333333,\"#9c179e\"],[0.4444444444444444,\"#bd3786\"],[0.5555555555555556,\"#d8576b\"],[0.6666666666666666,\"#ed7953\"],[0.7777777777777778,\"#fb9f3a\"],[0.8888888888888888,\"#fdca26\"],[1.0,\"#f0f921\"]]}],\"mesh3d\":[{\"type\":\"mesh3d\",\"colorbar\":{\"outlinewidth\":0,\"ticks\":\"\"}}],\"scatter\":[{\"fillpattern\":{\"fillmode\":\"overlay\",\"size\":10,\"solidity\":0.2},\"type\":\"scatter\"}],\"parcoords\":[{\"type\":\"parcoords\",\"line\":{\"colorbar\":{\"outlinewidth\":0,\"ticks\":\"\"}}}],\"scatterpolargl\":[{\"type\":\"scatterpolargl\",\"marker\":{\"colorbar\":{\"outlinewidth\":0,\"ticks\":\"\"}}}],\"bar\":[{\"error_x\":{\"color\":\"#2a3f5f\"},\"error_y\":{\"color\":\"#2a3f5f\"},\"marker\":{\"line\":{\"color\":\"#E5ECF6\",\"width\":0.5},\"pattern\":{\"fillmode\":\"overlay\",\"size\":10,\"solidity\":0.2}},\"type\":\"bar\"}],\"scattergeo\":[{\"type\":\"scattergeo\",\"marker\":{\"colorbar\":{\"outlinewidth\":0,\"ticks\":\"\"}}}],\"scatterpolar\":[{\"type\":\"scatterpolar\",\"marker\":{\"colorbar\":{\"outlinewidth\":0,\"ticks\":\"\"}}}],\"histogram\":[{\"marker\":{\"pattern\":{\"fillmode\":\"overlay\",\"size\":10,\"solidity\":0.2}},\"type\":\"histogram\"}],\"scattergl\":[{\"type\":\"scattergl\",\"marker\":{\"colorbar\":{\"outlinewidth\":0,\"ticks\":\"\"}}}],\"scatter3d\":[{\"type\":\"scatter3d\",\"line\":{\"colorbar\":{\"outlinewidth\":0,\"ticks\":\"\"}},\"marker\":{\"colorbar\":{\"outlinewidth\":0,\"ticks\":\"\"}}}],\"scattermapbox\":[{\"type\":\"scattermapbox\",\"marker\":{\"colorbar\":{\"outlinewidth\":0,\"ticks\":\"\"}}}],\"scatterternary\":[{\"type\":\"scatterternary\",\"marker\":{\"colorbar\":{\"outlinewidth\":0,\"ticks\":\"\"}}}],\"scattercarpet\":[{\"type\":\"scattercarpet\",\"marker\":{\"colorbar\":{\"outlinewidth\":0,\"ticks\":\"\"}}}],\"carpet\":[{\"aaxis\":{\"endlinecolor\":\"#2a3f5f\",\"gridcolor\":\"white\",\"linecolor\":\"white\",\"minorgridcolor\":\"white\",\"startlinecolor\":\"#2a3f5f\"},\"baxis\":{\"endlinecolor\":\"#2a3f5f\",\"gridcolor\":\"white\",\"linecolor\":\"white\",\"minorgridcolor\":\"white\",\"startlinecolor\":\"#2a3f5f\"},\"type\":\"carpet\"}],\"table\":[{\"cells\":{\"fill\":{\"color\":\"#EBF0F8\"},\"line\":{\"color\":\"white\"}},\"header\":{\"fill\":{\"color\":\"#C8D4E3\"},\"line\":{\"color\":\"white\"}},\"type\":\"table\"}],\"barpolar\":[{\"marker\":{\"line\":{\"color\":\"#E5ECF6\",\"width\":0.5},\"pattern\":{\"fillmode\":\"overlay\",\"size\":10,\"solidity\":0.2}},\"type\":\"barpolar\"}],\"pie\":[{\"automargin\":true,\"type\":\"pie\"}]},\"layout\":{\"autotypenumbers\":\"strict\",\"colorway\":[\"#636efa\",\"#EF553B\",\"#00cc96\",\"#ab63fa\",\"#FFA15A\",\"#19d3f3\",\"#FF6692\",\"#B6E880\",\"#FF97FF\",\"#FECB52\"],\"font\":{\"color\":\"#2a3f5f\"},\"hovermode\":\"closest\",\"hoverlabel\":{\"align\":\"left\"},\"paper_bgcolor\":\"white\",\"plot_bgcolor\":\"#E5ECF6\",\"polar\":{\"bgcolor\":\"#E5ECF6\",\"angularaxis\":{\"gridcolor\":\"white\",\"linecolor\":\"white\",\"ticks\":\"\"},\"radialaxis\":{\"gridcolor\":\"white\",\"linecolor\":\"white\",\"ticks\":\"\"}},\"ternary\":{\"bgcolor\":\"#E5ECF6\",\"aaxis\":{\"gridcolor\":\"white\",\"linecolor\":\"white\",\"ticks\":\"\"},\"baxis\":{\"gridcolor\":\"white\",\"linecolor\":\"white\",\"ticks\":\"\"},\"caxis\":{\"gridcolor\":\"white\",\"linecolor\":\"white\",\"ticks\":\"\"}},\"coloraxis\":{\"colorbar\":{\"outlinewidth\":0,\"ticks\":\"\"}},\"colorscale\":{\"sequential\":[[0.0,\"#0d0887\"],[0.1111111111111111,\"#46039f\"],[0.2222222222222222,\"#7201a8\"],[0.3333333333333333,\"#9c179e\"],[0.4444444444444444,\"#bd3786\"],[0.5555555555555556,\"#d8576b\"],[0.6666666666666666,\"#ed7953\"],[0.7777777777777778,\"#fb9f3a\"],[0.8888888888888888,\"#fdca26\"],[1.0,\"#f0f921\"]],\"sequentialminus\":[[0.0,\"#0d0887\"],[0.1111111111111111,\"#46039f\"],[0.2222222222222222,\"#7201a8\"],[0.3333333333333333,\"#9c179e\"],[0.4444444444444444,\"#bd3786\"],[0.5555555555555556,\"#d8576b\"],[0.6666666666666666,\"#ed7953\"],[0.7777777777777778,\"#fb9f3a\"],[0.8888888888888888,\"#fdca26\"],[1.0,\"#f0f921\"]],\"diverging\":[[0,\"#8e0152\"],[0.1,\"#c51b7d\"],[0.2,\"#de77ae\"],[0.3,\"#f1b6da\"],[0.4,\"#fde0ef\"],[0.5,\"#f7f7f7\"],[0.6,\"#e6f5d0\"],[0.7,\"#b8e186\"],[0.8,\"#7fbc41\"],[0.9,\"#4d9221\"],[1,\"#276419\"]]},\"xaxis\":{\"gridcolor\":\"white\",\"linecolor\":\"white\",\"ticks\":\"\",\"title\":{\"standoff\":15},\"zerolinecolor\":\"white\",\"automargin\":true,\"zerolinewidth\":2},\"yaxis\":{\"gridcolor\":\"white\",\"linecolor\":\"white\",\"ticks\":\"\",\"title\":{\"standoff\":15},\"zerolinecolor\":\"white\",\"automargin\":true,\"zerolinewidth\":2},\"scene\":{\"xaxis\":{\"backgroundcolor\":\"#E5ECF6\",\"gridcolor\":\"white\",\"linecolor\":\"white\",\"showbackground\":true,\"ticks\":\"\",\"zerolinecolor\":\"white\",\"gridwidth\":2},\"yaxis\":{\"backgroundcolor\":\"#E5ECF6\",\"gridcolor\":\"white\",\"linecolor\":\"white\",\"showbackground\":true,\"ticks\":\"\",\"zerolinecolor\":\"white\",\"gridwidth\":2},\"zaxis\":{\"backgroundcolor\":\"#E5ECF6\",\"gridcolor\":\"white\",\"linecolor\":\"white\",\"showbackground\":true,\"ticks\":\"\",\"zerolinecolor\":\"white\",\"gridwidth\":2}},\"shapedefaults\":{\"line\":{\"color\":\"#2a3f5f\"}},\"annotationdefaults\":{\"arrowcolor\":\"#2a3f5f\",\"arrowhead\":0,\"arrowwidth\":1},\"geo\":{\"bgcolor\":\"white\",\"landcolor\":\"#E5ECF6\",\"subunitcolor\":\"white\",\"showland\":true,\"showlakes\":true,\"lakecolor\":\"white\"},\"title\":{\"x\":0.05},\"mapbox\":{\"style\":\"light\"}}},\"xaxis\":{\"anchor\":\"y\",\"domain\":[0.0,1.0],\"title\":{\"text\":\"x\"}},\"yaxis\":{\"anchor\":\"x\",\"domain\":[0.0,1.0],\"title\":{\"text\":\"\"}},\"legend\":{\"tracegroupgap\":0},\"title\":{\"text\":\"\\u0412\\u043e\\u0440\\u043e\\u043d\\u043a\\u0430 \\u0434\\u043b\\u044f \\u0441\\u0446\\u0435\\u043d\\u0430\\u0440\\u0438\\u044f\"}},                        {\"responsive\": true}                    ).then(function(){\n",
       "                            \n",
       "var gd = document.getElementById('bec64f21-b762-4825-bf8d-8676209e1a25');\n",
       "var x = new MutationObserver(function (mutations, observer) {{\n",
       "        var display = window.getComputedStyle(gd).display;\n",
       "        if (!display || display === 'none') {{\n",
       "            console.log([gd, 'removed!']);\n",
       "            Plotly.purge(gd);\n",
       "            observer.disconnect();\n",
       "        }}\n",
       "}});\n",
       "\n",
       "// Listen for the removal of the full notebook cells\n",
       "var notebookContainer = gd.closest('#notebook-container');\n",
       "if (notebookContainer) {{\n",
       "    x.observe(notebookContainer, {childList: true});\n",
       "}}\n",
       "\n",
       "// Listen for the clearing of the current output cell\n",
       "var outputEl = gd.closest('.output');\n",
       "if (outputEl) {{\n",
       "    x.observe(outputEl, {childList: true});\n",
       "}}\n",
       "\n",
       "                        })                };                });            </script>        </div>"
      ]
     },
     "metadata": {},
     "output_type": "display_data"
    }
   ],
   "source": [
    "# Создание воронки 3\n",
    "plot_funnel(labels=['Открыл карту объявлений (map) -', \n",
    "                    'Увидел рекомендованные объявления (tips_show) -', \n",
    "                    'Посмотрел номер телефона (contacts_show) -'], \n",
    "            values=[maps, tp_s2, co_s3])\n"
   ]
  },
  {
   "cell_type": "code",
   "execution_count": 55,
   "metadata": {},
   "outputs": [
    {
     "name": "stdout",
     "output_type": "stream",
     "text": [
      "Конверсия по третьему сценарию: 18.89%\n"
     ]
    }
   ],
   "source": [
    "print(f'Конверсия по третьему сценарию: {round(((co_s3/maps)*100), 2)}%')"
   ]
  },
  {
   "cell_type": "markdown",
   "metadata": {},
   "source": [
    "**В итоге:**\n",
    "\n",
    "- Три наиболее популярных сценария действий пользователя в приложении:  \n",
    "1. search - tips_show - contacts_show  \n",
    "2. search - photos_show - contacts_show  \n",
    "3. map - tips_show - contacts_show  \n",
    "\n",
    "- Два сценария начинаются с поиска, что еще раз показывает разницу влияния самостоятельного поиска пользователя и рекомендаций на входе.\n",
    "- Также два сценария в качестве второго шага имеют показ рекомендованных обяъвлений, что логично увидеть после таких действий пользователя, как поиск и открытие карты объявлений. \n",
    "- Наибольшую конверсию от первого до последнего шага показывает третий сценарий (почти 19%), а наименьший - первый сценарий (почти 8%). \n",
    "- На втором шаге наименьшую конверсию показывает просмотр фотографий во втором сценарии;\n",
    "- В третьем сценарии получилось много перешедших пользователей с первого события, однако действие \"увидел рекомендованные объявления\" может быть автоматическим после события \"открыл доску объявлений\". Тогда непонятно, почему у этих событий разница практически в 100 человек. Возможно здесь могли быть технические затруднения.\n"
   ]
  },
  {
   "cell_type": "markdown",
   "metadata": {},
   "source": [
    "### Какие действия чаще совершают те пользователи, которые просматривают контакты  "
   ]
  },
  {
   "cell_type": "markdown",
   "metadata": {},
   "source": [
    "- Рассчитать относительную частоту каждого события в разрезе двух групп пользователей: группа пользователей, которые смотрели контакты `contacts_show` и группа пользователей, которые не смотрели контакты `contacts_show`, и сравнить показатели. "
   ]
  },
  {
   "cell_type": "code",
   "execution_count": 56,
   "metadata": {},
   "outputs": [],
   "source": [
    "# Выделяем данные с пользователями, которые просмотрели контакты\n",
    "cs_yes = data.loc[data['event_name'] == 'contacts_show']"
   ]
  },
  {
   "cell_type": "code",
   "execution_count": 57,
   "metadata": {},
   "outputs": [],
   "source": [
    "# Создаем отдельный столбец с True, False, где True - пользователь просматривал контакты\n",
    "data['contacts_show_yes'] = data['user_id'].isin(cs_yes['user_id'])"
   ]
  },
  {
   "cell_type": "code",
   "execution_count": 58,
   "metadata": {},
   "outputs": [
    {
     "data": {
      "text/html": [
       "<div>\n",
       "<style scoped>\n",
       "    .dataframe tbody tr th:only-of-type {\n",
       "        vertical-align: middle;\n",
       "    }\n",
       "\n",
       "    .dataframe tbody tr th {\n",
       "        vertical-align: top;\n",
       "    }\n",
       "\n",
       "    .dataframe thead th {\n",
       "        text-align: right;\n",
       "    }\n",
       "</style>\n",
       "<table border=\"1\" class=\"dataframe\">\n",
       "  <thead>\n",
       "    <tr style=\"text-align: right;\">\n",
       "      <th></th>\n",
       "      <th>event_time</th>\n",
       "      <th>event_name</th>\n",
       "      <th>user_id</th>\n",
       "      <th>source</th>\n",
       "      <th>date</th>\n",
       "      <th>contacts_show_yes</th>\n",
       "    </tr>\n",
       "  </thead>\n",
       "  <tbody>\n",
       "    <tr>\n",
       "      <th>0</th>\n",
       "      <td>2019-10-07 00:00:00.431357</td>\n",
       "      <td>advert_open</td>\n",
       "      <td>020292ab-89bc-4156-9acf-68bc2783f894</td>\n",
       "      <td>other</td>\n",
       "      <td>2019-10-07</td>\n",
       "      <td>False</td>\n",
       "    </tr>\n",
       "    <tr>\n",
       "      <th>1</th>\n",
       "      <td>2019-10-07 00:00:01.236320</td>\n",
       "      <td>tips_show</td>\n",
       "      <td>020292ab-89bc-4156-9acf-68bc2783f894</td>\n",
       "      <td>other</td>\n",
       "      <td>2019-10-07</td>\n",
       "      <td>False</td>\n",
       "    </tr>\n",
       "    <tr>\n",
       "      <th>2</th>\n",
       "      <td>2019-10-07 00:00:02.245341</td>\n",
       "      <td>tips_show</td>\n",
       "      <td>cf7eda61-9349-469f-ac27-e5b6f5ec475c</td>\n",
       "      <td>yandex</td>\n",
       "      <td>2019-10-07</td>\n",
       "      <td>False</td>\n",
       "    </tr>\n",
       "    <tr>\n",
       "      <th>3</th>\n",
       "      <td>2019-10-07 00:00:07.039334</td>\n",
       "      <td>tips_show</td>\n",
       "      <td>020292ab-89bc-4156-9acf-68bc2783f894</td>\n",
       "      <td>other</td>\n",
       "      <td>2019-10-07</td>\n",
       "      <td>False</td>\n",
       "    </tr>\n",
       "    <tr>\n",
       "      <th>4</th>\n",
       "      <td>2019-10-07 00:00:56.319813</td>\n",
       "      <td>advert_open</td>\n",
       "      <td>cf7eda61-9349-469f-ac27-e5b6f5ec475c</td>\n",
       "      <td>yandex</td>\n",
       "      <td>2019-10-07</td>\n",
       "      <td>False</td>\n",
       "    </tr>\n",
       "  </tbody>\n",
       "</table>\n",
       "</div>"
      ],
      "text/plain": [
       "                  event_time   event_name  \\\n",
       "0 2019-10-07 00:00:00.431357  advert_open   \n",
       "1 2019-10-07 00:00:01.236320    tips_show   \n",
       "2 2019-10-07 00:00:02.245341    tips_show   \n",
       "3 2019-10-07 00:00:07.039334    tips_show   \n",
       "4 2019-10-07 00:00:56.319813  advert_open   \n",
       "\n",
       "                                user_id  source       date  contacts_show_yes  \n",
       "0  020292ab-89bc-4156-9acf-68bc2783f894   other 2019-10-07              False  \n",
       "1  020292ab-89bc-4156-9acf-68bc2783f894   other 2019-10-07              False  \n",
       "2  cf7eda61-9349-469f-ac27-e5b6f5ec475c  yandex 2019-10-07              False  \n",
       "3  020292ab-89bc-4156-9acf-68bc2783f894   other 2019-10-07              False  \n",
       "4  cf7eda61-9349-469f-ac27-e5b6f5ec475c  yandex 2019-10-07              False  "
      ]
     },
     "execution_count": 58,
     "metadata": {},
     "output_type": "execute_result"
    }
   ],
   "source": [
    "# Выводим таблицу\n",
    "data.head()"
   ]
  },
  {
   "cell_type": "code",
   "execution_count": 59,
   "metadata": {},
   "outputs": [
    {
     "data": {
      "text/html": [
       "<div>\n",
       "<style scoped>\n",
       "    .dataframe tbody tr th:only-of-type {\n",
       "        vertical-align: middle;\n",
       "    }\n",
       "\n",
       "    .dataframe tbody tr th {\n",
       "        vertical-align: top;\n",
       "    }\n",
       "\n",
       "    .dataframe thead th {\n",
       "        text-align: right;\n",
       "    }\n",
       "</style>\n",
       "<table border=\"1\" class=\"dataframe\">\n",
       "  <thead>\n",
       "    <tr style=\"text-align: right;\">\n",
       "      <th></th>\n",
       "      <th>event_name</th>\n",
       "      <th>event_count</th>\n",
       "      <th>contacts_show_yes</th>\n",
       "    </tr>\n",
       "  </thead>\n",
       "  <tbody>\n",
       "    <tr>\n",
       "      <th>0</th>\n",
       "      <td>advert_open</td>\n",
       "      <td>6164</td>\n",
       "      <td>1589</td>\n",
       "    </tr>\n",
       "    <tr>\n",
       "      <th>1</th>\n",
       "      <td>contacts_call</td>\n",
       "      <td>541</td>\n",
       "      <td>541</td>\n",
       "    </tr>\n",
       "    <tr>\n",
       "      <th>2</th>\n",
       "      <td>contacts_show</td>\n",
       "      <td>4529</td>\n",
       "      <td>4529</td>\n",
       "    </tr>\n",
       "    <tr>\n",
       "      <th>3</th>\n",
       "      <td>favorites_add</td>\n",
       "      <td>1417</td>\n",
       "      <td>424</td>\n",
       "    </tr>\n",
       "    <tr>\n",
       "      <th>4</th>\n",
       "      <td>map</td>\n",
       "      <td>3881</td>\n",
       "      <td>1101</td>\n",
       "    </tr>\n",
       "    <tr>\n",
       "      <th>5</th>\n",
       "      <td>photos_show</td>\n",
       "      <td>10012</td>\n",
       "      <td>3828</td>\n",
       "    </tr>\n",
       "    <tr>\n",
       "      <th>6</th>\n",
       "      <td>search</td>\n",
       "      <td>6784</td>\n",
       "      <td>2084</td>\n",
       "    </tr>\n",
       "    <tr>\n",
       "      <th>7</th>\n",
       "      <td>tips_click</td>\n",
       "      <td>814</td>\n",
       "      <td>333</td>\n",
       "    </tr>\n",
       "    <tr>\n",
       "      <th>8</th>\n",
       "      <td>tips_show</td>\n",
       "      <td>40055</td>\n",
       "      <td>12768</td>\n",
       "    </tr>\n",
       "  </tbody>\n",
       "</table>\n",
       "</div>"
      ],
      "text/plain": [
       "      event_name  event_count  contacts_show_yes\n",
       "0    advert_open         6164               1589\n",
       "1  contacts_call          541                541\n",
       "2  contacts_show         4529               4529\n",
       "3  favorites_add         1417                424\n",
       "4            map         3881               1101\n",
       "5    photos_show        10012               3828\n",
       "6         search         6784               2084\n",
       "7     tips_click          814                333\n",
       "8      tips_show        40055              12768"
      ]
     },
     "execution_count": 59,
     "metadata": {},
     "output_type": "execute_result"
    }
   ],
   "source": [
    "# Группируем данные по событиям и количеством просмотревших целевое событие\n",
    "cs_count = data.groupby(['event_name']).agg(event_count=('event_name', 'count'),\n",
    "                                        contacts_show_yes=('contacts_show_yes', 'sum')).reset_index()\n",
    "cs_count"
   ]
  },
  {
   "cell_type": "code",
   "execution_count": 60,
   "metadata": {},
   "outputs": [],
   "source": [
    "# Создаем столбец с количество пользователей, не просмотревших контакты по событиям\n",
    "cs_count['contacts_show_not'] = cs_count['event_count'] - cs_count['contacts_show_yes']\n",
    "\n",
    "# Рассчитываем относительную частоту просмотревших контакты по каждому событию\n",
    "cs_count['ratio_yes'] = round(((cs_count['contacts_show_yes']/cs_count['event_count'])*100), 1)\n",
    "\n",
    "# Делаем то же самое с другой группой пользователей\n",
    "cs_count['ratio_not'] = round(((cs_count['contacts_show_not']/cs_count['event_count'])*100), 1)"
   ]
  },
  {
   "cell_type": "code",
   "execution_count": 61,
   "metadata": {},
   "outputs": [
    {
     "data": {
      "text/html": [
       "<div>\n",
       "<style scoped>\n",
       "    .dataframe tbody tr th:only-of-type {\n",
       "        vertical-align: middle;\n",
       "    }\n",
       "\n",
       "    .dataframe tbody tr th {\n",
       "        vertical-align: top;\n",
       "    }\n",
       "\n",
       "    .dataframe thead th {\n",
       "        text-align: right;\n",
       "    }\n",
       "</style>\n",
       "<table border=\"1\" class=\"dataframe\">\n",
       "  <thead>\n",
       "    <tr style=\"text-align: right;\">\n",
       "      <th></th>\n",
       "      <th>event_name</th>\n",
       "      <th>event_count</th>\n",
       "      <th>contacts_show_yes</th>\n",
       "      <th>contacts_show_not</th>\n",
       "      <th>ratio_yes</th>\n",
       "      <th>ratio_not</th>\n",
       "    </tr>\n",
       "  </thead>\n",
       "  <tbody>\n",
       "    <tr>\n",
       "      <th>0</th>\n",
       "      <td>advert_open</td>\n",
       "      <td>6164</td>\n",
       "      <td>1589</td>\n",
       "      <td>4575</td>\n",
       "      <td>25.8</td>\n",
       "      <td>74.2</td>\n",
       "    </tr>\n",
       "    <tr>\n",
       "      <th>1</th>\n",
       "      <td>contacts_call</td>\n",
       "      <td>541</td>\n",
       "      <td>541</td>\n",
       "      <td>0</td>\n",
       "      <td>100.0</td>\n",
       "      <td>0.0</td>\n",
       "    </tr>\n",
       "    <tr>\n",
       "      <th>2</th>\n",
       "      <td>contacts_show</td>\n",
       "      <td>4529</td>\n",
       "      <td>4529</td>\n",
       "      <td>0</td>\n",
       "      <td>100.0</td>\n",
       "      <td>0.0</td>\n",
       "    </tr>\n",
       "    <tr>\n",
       "      <th>3</th>\n",
       "      <td>favorites_add</td>\n",
       "      <td>1417</td>\n",
       "      <td>424</td>\n",
       "      <td>993</td>\n",
       "      <td>29.9</td>\n",
       "      <td>70.1</td>\n",
       "    </tr>\n",
       "    <tr>\n",
       "      <th>4</th>\n",
       "      <td>map</td>\n",
       "      <td>3881</td>\n",
       "      <td>1101</td>\n",
       "      <td>2780</td>\n",
       "      <td>28.4</td>\n",
       "      <td>71.6</td>\n",
       "    </tr>\n",
       "    <tr>\n",
       "      <th>5</th>\n",
       "      <td>photos_show</td>\n",
       "      <td>10012</td>\n",
       "      <td>3828</td>\n",
       "      <td>6184</td>\n",
       "      <td>38.2</td>\n",
       "      <td>61.8</td>\n",
       "    </tr>\n",
       "    <tr>\n",
       "      <th>6</th>\n",
       "      <td>search</td>\n",
       "      <td>6784</td>\n",
       "      <td>2084</td>\n",
       "      <td>4700</td>\n",
       "      <td>30.7</td>\n",
       "      <td>69.3</td>\n",
       "    </tr>\n",
       "    <tr>\n",
       "      <th>7</th>\n",
       "      <td>tips_click</td>\n",
       "      <td>814</td>\n",
       "      <td>333</td>\n",
       "      <td>481</td>\n",
       "      <td>40.9</td>\n",
       "      <td>59.1</td>\n",
       "    </tr>\n",
       "    <tr>\n",
       "      <th>8</th>\n",
       "      <td>tips_show</td>\n",
       "      <td>40055</td>\n",
       "      <td>12768</td>\n",
       "      <td>27287</td>\n",
       "      <td>31.9</td>\n",
       "      <td>68.1</td>\n",
       "    </tr>\n",
       "  </tbody>\n",
       "</table>\n",
       "</div>"
      ],
      "text/plain": [
       "      event_name  event_count  contacts_show_yes  contacts_show_not  \\\n",
       "0    advert_open         6164               1589               4575   \n",
       "1  contacts_call          541                541                  0   \n",
       "2  contacts_show         4529               4529                  0   \n",
       "3  favorites_add         1417                424                993   \n",
       "4            map         3881               1101               2780   \n",
       "5    photos_show        10012               3828               6184   \n",
       "6         search         6784               2084               4700   \n",
       "7     tips_click          814                333                481   \n",
       "8      tips_show        40055              12768              27287   \n",
       "\n",
       "   ratio_yes  ratio_not  \n",
       "0       25.8       74.2  \n",
       "1      100.0        0.0  \n",
       "2      100.0        0.0  \n",
       "3       29.9       70.1  \n",
       "4       28.4       71.6  \n",
       "5       38.2       61.8  \n",
       "6       30.7       69.3  \n",
       "7       40.9       59.1  \n",
       "8       31.9       68.1  "
      ]
     },
     "execution_count": 61,
     "metadata": {},
     "output_type": "execute_result"
    }
   ],
   "source": [
    "# Проверяем\n",
    "cs_count"
   ]
  },
  {
   "cell_type": "code",
   "execution_count": 62,
   "metadata": {},
   "outputs": [
    {
     "data": {
      "text/html": [
       "<div>\n",
       "<style scoped>\n",
       "    .dataframe tbody tr th:only-of-type {\n",
       "        vertical-align: middle;\n",
       "    }\n",
       "\n",
       "    .dataframe tbody tr th {\n",
       "        vertical-align: top;\n",
       "    }\n",
       "\n",
       "    .dataframe thead th {\n",
       "        text-align: right;\n",
       "    }\n",
       "</style>\n",
       "<table border=\"1\" class=\"dataframe\">\n",
       "  <thead>\n",
       "    <tr style=\"text-align: right;\">\n",
       "      <th></th>\n",
       "      <th>event_name</th>\n",
       "      <th>event_count</th>\n",
       "      <th>contacts_show_yes</th>\n",
       "      <th>contacts_show_not</th>\n",
       "      <th>ratio_yes</th>\n",
       "      <th>ratio_not</th>\n",
       "      <th>ratio_gr1</th>\n",
       "      <th>ratio_gr2</th>\n",
       "    </tr>\n",
       "  </thead>\n",
       "  <tbody>\n",
       "    <tr>\n",
       "      <th>0</th>\n",
       "      <td>advert_open</td>\n",
       "      <td>6164</td>\n",
       "      <td>1589</td>\n",
       "      <td>4575</td>\n",
       "      <td>25.8</td>\n",
       "      <td>74.2</td>\n",
       "      <td>5.84</td>\n",
       "      <td>9.73</td>\n",
       "    </tr>\n",
       "    <tr>\n",
       "      <th>1</th>\n",
       "      <td>contacts_call</td>\n",
       "      <td>541</td>\n",
       "      <td>541</td>\n",
       "      <td>0</td>\n",
       "      <td>100.0</td>\n",
       "      <td>0.0</td>\n",
       "      <td>1.99</td>\n",
       "      <td>0.00</td>\n",
       "    </tr>\n",
       "    <tr>\n",
       "      <th>2</th>\n",
       "      <td>contacts_show</td>\n",
       "      <td>4529</td>\n",
       "      <td>4529</td>\n",
       "      <td>0</td>\n",
       "      <td>100.0</td>\n",
       "      <td>0.0</td>\n",
       "      <td>16.65</td>\n",
       "      <td>0.00</td>\n",
       "    </tr>\n",
       "    <tr>\n",
       "      <th>3</th>\n",
       "      <td>favorites_add</td>\n",
       "      <td>1417</td>\n",
       "      <td>424</td>\n",
       "      <td>993</td>\n",
       "      <td>29.9</td>\n",
       "      <td>70.1</td>\n",
       "      <td>1.56</td>\n",
       "      <td>2.11</td>\n",
       "    </tr>\n",
       "    <tr>\n",
       "      <th>4</th>\n",
       "      <td>map</td>\n",
       "      <td>3881</td>\n",
       "      <td>1101</td>\n",
       "      <td>2780</td>\n",
       "      <td>28.4</td>\n",
       "      <td>71.6</td>\n",
       "      <td>4.05</td>\n",
       "      <td>5.91</td>\n",
       "    </tr>\n",
       "    <tr>\n",
       "      <th>5</th>\n",
       "      <td>photos_show</td>\n",
       "      <td>10012</td>\n",
       "      <td>3828</td>\n",
       "      <td>6184</td>\n",
       "      <td>38.2</td>\n",
       "      <td>61.8</td>\n",
       "      <td>14.08</td>\n",
       "      <td>13.16</td>\n",
       "    </tr>\n",
       "    <tr>\n",
       "      <th>6</th>\n",
       "      <td>search</td>\n",
       "      <td>6784</td>\n",
       "      <td>2084</td>\n",
       "      <td>4700</td>\n",
       "      <td>30.7</td>\n",
       "      <td>69.3</td>\n",
       "      <td>7.66</td>\n",
       "      <td>10.00</td>\n",
       "    </tr>\n",
       "    <tr>\n",
       "      <th>7</th>\n",
       "      <td>tips_click</td>\n",
       "      <td>814</td>\n",
       "      <td>333</td>\n",
       "      <td>481</td>\n",
       "      <td>40.9</td>\n",
       "      <td>59.1</td>\n",
       "      <td>1.22</td>\n",
       "      <td>1.02</td>\n",
       "    </tr>\n",
       "    <tr>\n",
       "      <th>8</th>\n",
       "      <td>tips_show</td>\n",
       "      <td>40055</td>\n",
       "      <td>12768</td>\n",
       "      <td>27287</td>\n",
       "      <td>31.9</td>\n",
       "      <td>68.1</td>\n",
       "      <td>46.95</td>\n",
       "      <td>58.06</td>\n",
       "    </tr>\n",
       "  </tbody>\n",
       "</table>\n",
       "</div>"
      ],
      "text/plain": [
       "      event_name  event_count  contacts_show_yes  contacts_show_not  \\\n",
       "0    advert_open         6164               1589               4575   \n",
       "1  contacts_call          541                541                  0   \n",
       "2  contacts_show         4529               4529                  0   \n",
       "3  favorites_add         1417                424                993   \n",
       "4            map         3881               1101               2780   \n",
       "5    photos_show        10012               3828               6184   \n",
       "6         search         6784               2084               4700   \n",
       "7     tips_click          814                333                481   \n",
       "8      tips_show        40055              12768              27287   \n",
       "\n",
       "   ratio_yes  ratio_not  ratio_gr1  ratio_gr2  \n",
       "0       25.8       74.2       5.84       9.73  \n",
       "1      100.0        0.0       1.99       0.00  \n",
       "2      100.0        0.0      16.65       0.00  \n",
       "3       29.9       70.1       1.56       2.11  \n",
       "4       28.4       71.6       4.05       5.91  \n",
       "5       38.2       61.8      14.08      13.16  \n",
       "6       30.7       69.3       7.66      10.00  \n",
       "7       40.9       59.1       1.22       1.02  \n",
       "8       31.9       68.1      46.95      58.06  "
      ]
     },
     "execution_count": 62,
     "metadata": {},
     "output_type": "execute_result"
    }
   ],
   "source": [
    "# Создаем столбец с количество пользователей, не просмотревших контакты по событиям\n",
    "cs_count['ratio_gr1'] = round(\n",
    "    ((cs_count['contacts_show_yes']/cs_count['contacts_show_yes'].sum())*100),2)\n",
    "\n",
    "# Рассчитываем относительную частоту просмотревших контакты по каждому событию\n",
    "cs_count['ratio_gr2'] = round(\n",
    "    ((cs_count['contacts_show_not']/cs_count['contacts_show_not'].sum())*100),2)\n",
    "\n",
    "cs_count"
   ]
  },
  {
   "cell_type": "markdown",
   "metadata": {},
   "source": [
    "В нашей таблице есть два события, которые показывают 100 процентов по группе просмотревших контакты - это само целевое событие и звонок контакту. Логично, что позвонить с приложения нельзя не просмотрев при этом контакт, поэтому и 100 процентов. Однако для нашего сравнения эти два события будут мешать, поэтому уберем их."
   ]
  },
  {
   "cell_type": "code",
   "execution_count": 63,
   "metadata": {},
   "outputs": [],
   "source": [
    "# Убираем contacts_call и contacts_show\n",
    "cs_count = cs_count[(cs_count['event_name'] != 'contacts_call') & (cs_count['event_name'] != 'contacts_show')]"
   ]
  },
  {
   "cell_type": "code",
   "execution_count": 64,
   "metadata": {},
   "outputs": [
    {
     "data": {
      "application/vnd.plotly.v1+json": {
       "config": {
        "plotlyServerURL": "https://plot.ly"
       },
       "data": [
        {
         "marker": {
          "color": "#8caba8"
         },
         "name": "Cмотрели контакты",
         "text": [
          5.84,
          1.56,
          4.05,
          14.08,
          7.66,
          1.22,
          46.95
         ],
         "textfont": {
          "size": 10
         },
         "type": "bar",
         "x": [
          "advert_open",
          "favorites_add",
          "map",
          "photos_show",
          "search",
          "tips_click",
          "tips_show"
         ],
         "y": [
          5.84,
          1.56,
          4.05,
          14.08,
          7.66,
          1.22,
          46.95
         ]
        },
        {
         "marker": {
          "color": "#445c6d"
         },
         "name": "Не смотрели контакты",
         "text": [
          9.73,
          2.11,
          5.91,
          13.16,
          10,
          1.02,
          58.06
         ],
         "textfont": {
          "size": 10
         },
         "type": "bar",
         "x": [
          "advert_open",
          "favorites_add",
          "map",
          "photos_show",
          "search",
          "tips_click",
          "tips_show"
         ],
         "y": [
          9.73,
          2.11,
          5.91,
          13.16,
          10,
          1.02,
          58.06
         ]
        }
       ],
       "layout": {
        "height": 600,
        "template": {
         "data": {
          "bar": [
           {
            "error_x": {
             "color": "rgb(51,51,51)"
            },
            "error_y": {
             "color": "rgb(51,51,51)"
            },
            "marker": {
             "line": {
              "color": "rgb(237,237,237)",
              "width": 0.5
             },
             "pattern": {
              "fillmode": "overlay",
              "size": 10,
              "solidity": 0.2
             }
            },
            "type": "bar"
           }
          ],
          "barpolar": [
           {
            "marker": {
             "line": {
              "color": "rgb(237,237,237)",
              "width": 0.5
             },
             "pattern": {
              "fillmode": "overlay",
              "size": 10,
              "solidity": 0.2
             }
            },
            "type": "barpolar"
           }
          ],
          "carpet": [
           {
            "aaxis": {
             "endlinecolor": "rgb(51,51,51)",
             "gridcolor": "white",
             "linecolor": "white",
             "minorgridcolor": "white",
             "startlinecolor": "rgb(51,51,51)"
            },
            "baxis": {
             "endlinecolor": "rgb(51,51,51)",
             "gridcolor": "white",
             "linecolor": "white",
             "minorgridcolor": "white",
             "startlinecolor": "rgb(51,51,51)"
            },
            "type": "carpet"
           }
          ],
          "choropleth": [
           {
            "colorbar": {
             "outlinewidth": 0,
             "tickcolor": "rgb(237,237,237)",
             "ticklen": 6,
             "ticks": "inside"
            },
            "type": "choropleth"
           }
          ],
          "contour": [
           {
            "colorbar": {
             "outlinewidth": 0,
             "tickcolor": "rgb(237,237,237)",
             "ticklen": 6,
             "ticks": "inside"
            },
            "colorscale": [
             [
              0,
              "rgb(20,44,66)"
             ],
             [
              1,
              "rgb(90,179,244)"
             ]
            ],
            "type": "contour"
           }
          ],
          "contourcarpet": [
           {
            "colorbar": {
             "outlinewidth": 0,
             "tickcolor": "rgb(237,237,237)",
             "ticklen": 6,
             "ticks": "inside"
            },
            "type": "contourcarpet"
           }
          ],
          "heatmap": [
           {
            "colorbar": {
             "outlinewidth": 0,
             "tickcolor": "rgb(237,237,237)",
             "ticklen": 6,
             "ticks": "inside"
            },
            "colorscale": [
             [
              0,
              "rgb(20,44,66)"
             ],
             [
              1,
              "rgb(90,179,244)"
             ]
            ],
            "type": "heatmap"
           }
          ],
          "heatmapgl": [
           {
            "colorbar": {
             "outlinewidth": 0,
             "tickcolor": "rgb(237,237,237)",
             "ticklen": 6,
             "ticks": "inside"
            },
            "colorscale": [
             [
              0,
              "rgb(20,44,66)"
             ],
             [
              1,
              "rgb(90,179,244)"
             ]
            ],
            "type": "heatmapgl"
           }
          ],
          "histogram": [
           {
            "marker": {
             "pattern": {
              "fillmode": "overlay",
              "size": 10,
              "solidity": 0.2
             }
            },
            "type": "histogram"
           }
          ],
          "histogram2d": [
           {
            "colorbar": {
             "outlinewidth": 0,
             "tickcolor": "rgb(237,237,237)",
             "ticklen": 6,
             "ticks": "inside"
            },
            "colorscale": [
             [
              0,
              "rgb(20,44,66)"
             ],
             [
              1,
              "rgb(90,179,244)"
             ]
            ],
            "type": "histogram2d"
           }
          ],
          "histogram2dcontour": [
           {
            "colorbar": {
             "outlinewidth": 0,
             "tickcolor": "rgb(237,237,237)",
             "ticklen": 6,
             "ticks": "inside"
            },
            "colorscale": [
             [
              0,
              "rgb(20,44,66)"
             ],
             [
              1,
              "rgb(90,179,244)"
             ]
            ],
            "type": "histogram2dcontour"
           }
          ],
          "mesh3d": [
           {
            "colorbar": {
             "outlinewidth": 0,
             "tickcolor": "rgb(237,237,237)",
             "ticklen": 6,
             "ticks": "inside"
            },
            "type": "mesh3d"
           }
          ],
          "parcoords": [
           {
            "line": {
             "colorbar": {
              "outlinewidth": 0,
              "tickcolor": "rgb(237,237,237)",
              "ticklen": 6,
              "ticks": "inside"
             }
            },
            "type": "parcoords"
           }
          ],
          "pie": [
           {
            "automargin": true,
            "type": "pie"
           }
          ],
          "scatter": [
           {
            "fillpattern": {
             "fillmode": "overlay",
             "size": 10,
             "solidity": 0.2
            },
            "type": "scatter"
           }
          ],
          "scatter3d": [
           {
            "line": {
             "colorbar": {
              "outlinewidth": 0,
              "tickcolor": "rgb(237,237,237)",
              "ticklen": 6,
              "ticks": "inside"
             }
            },
            "marker": {
             "colorbar": {
              "outlinewidth": 0,
              "tickcolor": "rgb(237,237,237)",
              "ticklen": 6,
              "ticks": "inside"
             }
            },
            "type": "scatter3d"
           }
          ],
          "scattercarpet": [
           {
            "marker": {
             "colorbar": {
              "outlinewidth": 0,
              "tickcolor": "rgb(237,237,237)",
              "ticklen": 6,
              "ticks": "inside"
             }
            },
            "type": "scattercarpet"
           }
          ],
          "scattergeo": [
           {
            "marker": {
             "colorbar": {
              "outlinewidth": 0,
              "tickcolor": "rgb(237,237,237)",
              "ticklen": 6,
              "ticks": "inside"
             }
            },
            "type": "scattergeo"
           }
          ],
          "scattergl": [
           {
            "marker": {
             "colorbar": {
              "outlinewidth": 0,
              "tickcolor": "rgb(237,237,237)",
              "ticklen": 6,
              "ticks": "inside"
             }
            },
            "type": "scattergl"
           }
          ],
          "scattermapbox": [
           {
            "marker": {
             "colorbar": {
              "outlinewidth": 0,
              "tickcolor": "rgb(237,237,237)",
              "ticklen": 6,
              "ticks": "inside"
             }
            },
            "type": "scattermapbox"
           }
          ],
          "scatterpolar": [
           {
            "marker": {
             "colorbar": {
              "outlinewidth": 0,
              "tickcolor": "rgb(237,237,237)",
              "ticklen": 6,
              "ticks": "inside"
             }
            },
            "type": "scatterpolar"
           }
          ],
          "scatterpolargl": [
           {
            "marker": {
             "colorbar": {
              "outlinewidth": 0,
              "tickcolor": "rgb(237,237,237)",
              "ticklen": 6,
              "ticks": "inside"
             }
            },
            "type": "scatterpolargl"
           }
          ],
          "scatterternary": [
           {
            "marker": {
             "colorbar": {
              "outlinewidth": 0,
              "tickcolor": "rgb(237,237,237)",
              "ticklen": 6,
              "ticks": "inside"
             }
            },
            "type": "scatterternary"
           }
          ],
          "surface": [
           {
            "colorbar": {
             "outlinewidth": 0,
             "tickcolor": "rgb(237,237,237)",
             "ticklen": 6,
             "ticks": "inside"
            },
            "colorscale": [
             [
              0,
              "rgb(20,44,66)"
             ],
             [
              1,
              "rgb(90,179,244)"
             ]
            ],
            "type": "surface"
           }
          ],
          "table": [
           {
            "cells": {
             "fill": {
              "color": "rgb(237,237,237)"
             },
             "line": {
              "color": "white"
             }
            },
            "header": {
             "fill": {
              "color": "rgb(217,217,217)"
             },
             "line": {
              "color": "white"
             }
            },
            "type": "table"
           }
          ]
         },
         "layout": {
          "annotationdefaults": {
           "arrowhead": 0,
           "arrowwidth": 1
          },
          "autotypenumbers": "strict",
          "coloraxis": {
           "colorbar": {
            "outlinewidth": 0,
            "tickcolor": "rgb(237,237,237)",
            "ticklen": 6,
            "ticks": "inside"
           }
          },
          "colorscale": {
           "sequential": [
            [
             0,
             "rgb(20,44,66)"
            ],
            [
             1,
             "rgb(90,179,244)"
            ]
           ],
           "sequentialminus": [
            [
             0,
             "rgb(20,44,66)"
            ],
            [
             1,
             "rgb(90,179,244)"
            ]
           ]
          },
          "colorway": [
           "#F8766D",
           "#A3A500",
           "#00BF7D",
           "#00B0F6",
           "#E76BF3"
          ],
          "font": {
           "color": "rgb(51,51,51)"
          },
          "geo": {
           "bgcolor": "white",
           "lakecolor": "white",
           "landcolor": "rgb(237,237,237)",
           "showlakes": true,
           "showland": true,
           "subunitcolor": "white"
          },
          "hoverlabel": {
           "align": "left"
          },
          "hovermode": "closest",
          "paper_bgcolor": "white",
          "plot_bgcolor": "rgb(237,237,237)",
          "polar": {
           "angularaxis": {
            "gridcolor": "white",
            "linecolor": "white",
            "showgrid": true,
            "tickcolor": "rgb(51,51,51)",
            "ticks": "outside"
           },
           "bgcolor": "rgb(237,237,237)",
           "radialaxis": {
            "gridcolor": "white",
            "linecolor": "white",
            "showgrid": true,
            "tickcolor": "rgb(51,51,51)",
            "ticks": "outside"
           }
          },
          "scene": {
           "xaxis": {
            "backgroundcolor": "rgb(237,237,237)",
            "gridcolor": "white",
            "gridwidth": 2,
            "linecolor": "white",
            "showbackground": true,
            "showgrid": true,
            "tickcolor": "rgb(51,51,51)",
            "ticks": "outside",
            "zerolinecolor": "white"
           },
           "yaxis": {
            "backgroundcolor": "rgb(237,237,237)",
            "gridcolor": "white",
            "gridwidth": 2,
            "linecolor": "white",
            "showbackground": true,
            "showgrid": true,
            "tickcolor": "rgb(51,51,51)",
            "ticks": "outside",
            "zerolinecolor": "white"
           },
           "zaxis": {
            "backgroundcolor": "rgb(237,237,237)",
            "gridcolor": "white",
            "gridwidth": 2,
            "linecolor": "white",
            "showbackground": true,
            "showgrid": true,
            "tickcolor": "rgb(51,51,51)",
            "ticks": "outside",
            "zerolinecolor": "white"
           }
          },
          "shapedefaults": {
           "fillcolor": "black",
           "line": {
            "width": 0
           },
           "opacity": 0.3
          },
          "ternary": {
           "aaxis": {
            "gridcolor": "white",
            "linecolor": "white",
            "showgrid": true,
            "tickcolor": "rgb(51,51,51)",
            "ticks": "outside"
           },
           "baxis": {
            "gridcolor": "white",
            "linecolor": "white",
            "showgrid": true,
            "tickcolor": "rgb(51,51,51)",
            "ticks": "outside"
           },
           "bgcolor": "rgb(237,237,237)",
           "caxis": {
            "gridcolor": "white",
            "linecolor": "white",
            "showgrid": true,
            "tickcolor": "rgb(51,51,51)",
            "ticks": "outside"
           }
          },
          "xaxis": {
           "automargin": true,
           "gridcolor": "white",
           "linecolor": "white",
           "showgrid": true,
           "tickcolor": "rgb(51,51,51)",
           "ticks": "outside",
           "title": {
            "standoff": 15
           },
           "zerolinecolor": "white"
          },
          "yaxis": {
           "automargin": true,
           "gridcolor": "white",
           "linecolor": "white",
           "showgrid": true,
           "tickcolor": "rgb(51,51,51)",
           "ticks": "outside",
           "title": {
            "standoff": 15
           },
           "zerolinecolor": "white"
          }
         }
        },
        "title": {
         "font": {
          "color": "#00a693"
         },
         "text": "Относительная частота событий внутри каждой группы: смотревших и несмотревших контакты"
        },
        "width": 910,
        "xaxis": {
         "categoryorder": "total descending",
         "title": {
          "font": {
           "color": "#00a693"
          },
          "standoff": 30,
          "text": "Событие"
         }
        },
        "yaxis": {
         "title": {
          "font": {
           "color": "#00a693"
          },
          "standoff": 30,
          "text": "Процент"
         }
        }
       }
      },
      "text/html": [
       "<div>                            <div id=\"14c02ece-eb15-4680-b1c3-b1d7ce9cdaa0\" class=\"plotly-graph-div\" style=\"height:600px; width:910px;\"></div>            <script type=\"text/javascript\">                require([\"plotly\"], function(Plotly) {                    window.PLOTLYENV=window.PLOTLYENV || {};                                    if (document.getElementById(\"14c02ece-eb15-4680-b1c3-b1d7ce9cdaa0\")) {                    Plotly.newPlot(                        \"14c02ece-eb15-4680-b1c3-b1d7ce9cdaa0\",                        [{\"marker\":{\"color\":\"#8caba8\"},\"name\":\"C\\u043c\\u043e\\u0442\\u0440\\u0435\\u043b\\u0438 \\u043a\\u043e\\u043d\\u0442\\u0430\\u043a\\u0442\\u044b\",\"text\":[5.84,1.56,4.05,14.08,7.66,1.22,46.95],\"x\":[\"advert_open\",\"favorites_add\",\"map\",\"photos_show\",\"search\",\"tips_click\",\"tips_show\"],\"y\":[5.84,1.56,4.05,14.08,7.66,1.22,46.95],\"type\":\"bar\",\"textfont\":{\"size\":10}},{\"marker\":{\"color\":\"#445c6d\"},\"name\":\"\\u041d\\u0435 \\u0441\\u043c\\u043e\\u0442\\u0440\\u0435\\u043b\\u0438 \\u043a\\u043e\\u043d\\u0442\\u0430\\u043a\\u0442\\u044b\",\"text\":[9.73,2.11,5.91,13.16,10.0,1.02,58.06],\"x\":[\"advert_open\",\"favorites_add\",\"map\",\"photos_show\",\"search\",\"tips_click\",\"tips_show\"],\"y\":[9.73,2.11,5.91,13.16,10.0,1.02,58.06],\"type\":\"bar\",\"textfont\":{\"size\":10}}],                        {\"template\":{\"data\":{\"barpolar\":[{\"marker\":{\"line\":{\"color\":\"rgb(237,237,237)\",\"width\":0.5},\"pattern\":{\"fillmode\":\"overlay\",\"size\":10,\"solidity\":0.2}},\"type\":\"barpolar\"}],\"bar\":[{\"error_x\":{\"color\":\"rgb(51,51,51)\"},\"error_y\":{\"color\":\"rgb(51,51,51)\"},\"marker\":{\"line\":{\"color\":\"rgb(237,237,237)\",\"width\":0.5},\"pattern\":{\"fillmode\":\"overlay\",\"size\":10,\"solidity\":0.2}},\"type\":\"bar\"}],\"carpet\":[{\"aaxis\":{\"endlinecolor\":\"rgb(51,51,51)\",\"gridcolor\":\"white\",\"linecolor\":\"white\",\"minorgridcolor\":\"white\",\"startlinecolor\":\"rgb(51,51,51)\"},\"baxis\":{\"endlinecolor\":\"rgb(51,51,51)\",\"gridcolor\":\"white\",\"linecolor\":\"white\",\"minorgridcolor\":\"white\",\"startlinecolor\":\"rgb(51,51,51)\"},\"type\":\"carpet\"}],\"choropleth\":[{\"colorbar\":{\"outlinewidth\":0,\"tickcolor\":\"rgb(237,237,237)\",\"ticklen\":6,\"ticks\":\"inside\"},\"type\":\"choropleth\"}],\"contourcarpet\":[{\"colorbar\":{\"outlinewidth\":0,\"tickcolor\":\"rgb(237,237,237)\",\"ticklen\":6,\"ticks\":\"inside\"},\"type\":\"contourcarpet\"}],\"contour\":[{\"colorbar\":{\"outlinewidth\":0,\"tickcolor\":\"rgb(237,237,237)\",\"ticklen\":6,\"ticks\":\"inside\"},\"colorscale\":[[0,\"rgb(20,44,66)\"],[1,\"rgb(90,179,244)\"]],\"type\":\"contour\"}],\"heatmapgl\":[{\"colorbar\":{\"outlinewidth\":0,\"tickcolor\":\"rgb(237,237,237)\",\"ticklen\":6,\"ticks\":\"inside\"},\"colorscale\":[[0,\"rgb(20,44,66)\"],[1,\"rgb(90,179,244)\"]],\"type\":\"heatmapgl\"}],\"heatmap\":[{\"colorbar\":{\"outlinewidth\":0,\"tickcolor\":\"rgb(237,237,237)\",\"ticklen\":6,\"ticks\":\"inside\"},\"colorscale\":[[0,\"rgb(20,44,66)\"],[1,\"rgb(90,179,244)\"]],\"type\":\"heatmap\"}],\"histogram2dcontour\":[{\"colorbar\":{\"outlinewidth\":0,\"tickcolor\":\"rgb(237,237,237)\",\"ticklen\":6,\"ticks\":\"inside\"},\"colorscale\":[[0,\"rgb(20,44,66)\"],[1,\"rgb(90,179,244)\"]],\"type\":\"histogram2dcontour\"}],\"histogram2d\":[{\"colorbar\":{\"outlinewidth\":0,\"tickcolor\":\"rgb(237,237,237)\",\"ticklen\":6,\"ticks\":\"inside\"},\"colorscale\":[[0,\"rgb(20,44,66)\"],[1,\"rgb(90,179,244)\"]],\"type\":\"histogram2d\"}],\"histogram\":[{\"marker\":{\"pattern\":{\"fillmode\":\"overlay\",\"size\":10,\"solidity\":0.2}},\"type\":\"histogram\"}],\"mesh3d\":[{\"colorbar\":{\"outlinewidth\":0,\"tickcolor\":\"rgb(237,237,237)\",\"ticklen\":6,\"ticks\":\"inside\"},\"type\":\"mesh3d\"}],\"parcoords\":[{\"line\":{\"colorbar\":{\"outlinewidth\":0,\"tickcolor\":\"rgb(237,237,237)\",\"ticklen\":6,\"ticks\":\"inside\"}},\"type\":\"parcoords\"}],\"pie\":[{\"automargin\":true,\"type\":\"pie\"}],\"scatter3d\":[{\"line\":{\"colorbar\":{\"outlinewidth\":0,\"tickcolor\":\"rgb(237,237,237)\",\"ticklen\":6,\"ticks\":\"inside\"}},\"marker\":{\"colorbar\":{\"outlinewidth\":0,\"tickcolor\":\"rgb(237,237,237)\",\"ticklen\":6,\"ticks\":\"inside\"}},\"type\":\"scatter3d\"}],\"scattercarpet\":[{\"marker\":{\"colorbar\":{\"outlinewidth\":0,\"tickcolor\":\"rgb(237,237,237)\",\"ticklen\":6,\"ticks\":\"inside\"}},\"type\":\"scattercarpet\"}],\"scattergeo\":[{\"marker\":{\"colorbar\":{\"outlinewidth\":0,\"tickcolor\":\"rgb(237,237,237)\",\"ticklen\":6,\"ticks\":\"inside\"}},\"type\":\"scattergeo\"}],\"scattergl\":[{\"marker\":{\"colorbar\":{\"outlinewidth\":0,\"tickcolor\":\"rgb(237,237,237)\",\"ticklen\":6,\"ticks\":\"inside\"}},\"type\":\"scattergl\"}],\"scattermapbox\":[{\"marker\":{\"colorbar\":{\"outlinewidth\":0,\"tickcolor\":\"rgb(237,237,237)\",\"ticklen\":6,\"ticks\":\"inside\"}},\"type\":\"scattermapbox\"}],\"scatterpolargl\":[{\"marker\":{\"colorbar\":{\"outlinewidth\":0,\"tickcolor\":\"rgb(237,237,237)\",\"ticklen\":6,\"ticks\":\"inside\"}},\"type\":\"scatterpolargl\"}],\"scatterpolar\":[{\"marker\":{\"colorbar\":{\"outlinewidth\":0,\"tickcolor\":\"rgb(237,237,237)\",\"ticklen\":6,\"ticks\":\"inside\"}},\"type\":\"scatterpolar\"}],\"scatter\":[{\"fillpattern\":{\"fillmode\":\"overlay\",\"size\":10,\"solidity\":0.2},\"type\":\"scatter\"}],\"scatterternary\":[{\"marker\":{\"colorbar\":{\"outlinewidth\":0,\"tickcolor\":\"rgb(237,237,237)\",\"ticklen\":6,\"ticks\":\"inside\"}},\"type\":\"scatterternary\"}],\"surface\":[{\"colorbar\":{\"outlinewidth\":0,\"tickcolor\":\"rgb(237,237,237)\",\"ticklen\":6,\"ticks\":\"inside\"},\"colorscale\":[[0,\"rgb(20,44,66)\"],[1,\"rgb(90,179,244)\"]],\"type\":\"surface\"}],\"table\":[{\"cells\":{\"fill\":{\"color\":\"rgb(237,237,237)\"},\"line\":{\"color\":\"white\"}},\"header\":{\"fill\":{\"color\":\"rgb(217,217,217)\"},\"line\":{\"color\":\"white\"}},\"type\":\"table\"}]},\"layout\":{\"annotationdefaults\":{\"arrowhead\":0,\"arrowwidth\":1},\"autotypenumbers\":\"strict\",\"coloraxis\":{\"colorbar\":{\"outlinewidth\":0,\"tickcolor\":\"rgb(237,237,237)\",\"ticklen\":6,\"ticks\":\"inside\"}},\"colorscale\":{\"sequential\":[[0,\"rgb(20,44,66)\"],[1,\"rgb(90,179,244)\"]],\"sequentialminus\":[[0,\"rgb(20,44,66)\"],[1,\"rgb(90,179,244)\"]]},\"colorway\":[\"#F8766D\",\"#A3A500\",\"#00BF7D\",\"#00B0F6\",\"#E76BF3\"],\"font\":{\"color\":\"rgb(51,51,51)\"},\"geo\":{\"bgcolor\":\"white\",\"lakecolor\":\"white\",\"landcolor\":\"rgb(237,237,237)\",\"showlakes\":true,\"showland\":true,\"subunitcolor\":\"white\"},\"hoverlabel\":{\"align\":\"left\"},\"hovermode\":\"closest\",\"paper_bgcolor\":\"white\",\"plot_bgcolor\":\"rgb(237,237,237)\",\"polar\":{\"angularaxis\":{\"gridcolor\":\"white\",\"linecolor\":\"white\",\"showgrid\":true,\"tickcolor\":\"rgb(51,51,51)\",\"ticks\":\"outside\"},\"bgcolor\":\"rgb(237,237,237)\",\"radialaxis\":{\"gridcolor\":\"white\",\"linecolor\":\"white\",\"showgrid\":true,\"tickcolor\":\"rgb(51,51,51)\",\"ticks\":\"outside\"}},\"scene\":{\"xaxis\":{\"backgroundcolor\":\"rgb(237,237,237)\",\"gridcolor\":\"white\",\"gridwidth\":2,\"linecolor\":\"white\",\"showbackground\":true,\"showgrid\":true,\"tickcolor\":\"rgb(51,51,51)\",\"ticks\":\"outside\",\"zerolinecolor\":\"white\"},\"yaxis\":{\"backgroundcolor\":\"rgb(237,237,237)\",\"gridcolor\":\"white\",\"gridwidth\":2,\"linecolor\":\"white\",\"showbackground\":true,\"showgrid\":true,\"tickcolor\":\"rgb(51,51,51)\",\"ticks\":\"outside\",\"zerolinecolor\":\"white\"},\"zaxis\":{\"backgroundcolor\":\"rgb(237,237,237)\",\"gridcolor\":\"white\",\"gridwidth\":2,\"linecolor\":\"white\",\"showbackground\":true,\"showgrid\":true,\"tickcolor\":\"rgb(51,51,51)\",\"ticks\":\"outside\",\"zerolinecolor\":\"white\"}},\"shapedefaults\":{\"fillcolor\":\"black\",\"line\":{\"width\":0},\"opacity\":0.3},\"ternary\":{\"aaxis\":{\"gridcolor\":\"white\",\"linecolor\":\"white\",\"showgrid\":true,\"tickcolor\":\"rgb(51,51,51)\",\"ticks\":\"outside\"},\"baxis\":{\"gridcolor\":\"white\",\"linecolor\":\"white\",\"showgrid\":true,\"tickcolor\":\"rgb(51,51,51)\",\"ticks\":\"outside\"},\"bgcolor\":\"rgb(237,237,237)\",\"caxis\":{\"gridcolor\":\"white\",\"linecolor\":\"white\",\"showgrid\":true,\"tickcolor\":\"rgb(51,51,51)\",\"ticks\":\"outside\"}},\"xaxis\":{\"automargin\":true,\"gridcolor\":\"white\",\"linecolor\":\"white\",\"showgrid\":true,\"tickcolor\":\"rgb(51,51,51)\",\"ticks\":\"outside\",\"title\":{\"standoff\":15},\"zerolinecolor\":\"white\"},\"yaxis\":{\"automargin\":true,\"gridcolor\":\"white\",\"linecolor\":\"white\",\"showgrid\":true,\"tickcolor\":\"rgb(51,51,51)\",\"ticks\":\"outside\",\"title\":{\"standoff\":15},\"zerolinecolor\":\"white\"}}},\"xaxis\":{\"title\":{\"text\":\"\\u0421\\u043e\\u0431\\u044b\\u0442\\u0438\\u0435\",\"font\":{\"color\":\"#00a693\"},\"standoff\":30},\"categoryorder\":\"total descending\"},\"yaxis\":{\"title\":{\"text\":\"\\u041f\\u0440\\u043e\\u0446\\u0435\\u043d\\u0442\",\"font\":{\"color\":\"#00a693\"},\"standoff\":30}},\"title\":{\"text\":\"\\u041e\\u0442\\u043d\\u043e\\u0441\\u0438\\u0442\\u0435\\u043b\\u044c\\u043d\\u0430\\u044f \\u0447\\u0430\\u0441\\u0442\\u043e\\u0442\\u0430 \\u0441\\u043e\\u0431\\u044b\\u0442\\u0438\\u0439 \\u0432\\u043d\\u0443\\u0442\\u0440\\u0438 \\u043a\\u0430\\u0436\\u0434\\u043e\\u0439 \\u0433\\u0440\\u0443\\u043f\\u043f\\u044b: \\u0441\\u043c\\u043e\\u0442\\u0440\\u0435\\u0432\\u0448\\u0438\\u0445 \\u0438 \\u043d\\u0435\\u0441\\u043c\\u043e\\u0442\\u0440\\u0435\\u0432\\u0448\\u0438\\u0445 \\u043a\\u043e\\u043d\\u0442\\u0430\\u043a\\u0442\\u044b\",\"font\":{\"color\":\"#00a693\"}},\"height\":600,\"width\":910},                        {\"responsive\": true}                    ).then(function(){\n",
       "                            \n",
       "var gd = document.getElementById('14c02ece-eb15-4680-b1c3-b1d7ce9cdaa0');\n",
       "var x = new MutationObserver(function (mutations, observer) {{\n",
       "        var display = window.getComputedStyle(gd).display;\n",
       "        if (!display || display === 'none') {{\n",
       "            console.log([gd, 'removed!']);\n",
       "            Plotly.purge(gd);\n",
       "            observer.disconnect();\n",
       "        }}\n",
       "}});\n",
       "\n",
       "// Listen for the removal of the full notebook cells\n",
       "var notebookContainer = gd.closest('#notebook-container');\n",
       "if (notebookContainer) {{\n",
       "    x.observe(notebookContainer, {childList: true});\n",
       "}}\n",
       "\n",
       "// Listen for the clearing of the current output cell\n",
       "var outputEl = gd.closest('.output');\n",
       "if (outputEl) {{\n",
       "    x.observe(outputEl, {childList: true});\n",
       "}}\n",
       "\n",
       "                        })                };                });            </script>        </div>"
      ]
     },
     "metadata": {},
     "output_type": "display_data"
    }
   ],
   "source": [
    "# Строим график\n",
    "fig = go.Figure()\n",
    "fig.add_trace(go.Bar(x=cs_count['event_name'], y=cs_count['ratio_gr1'], \n",
    "                     name='Cмотрели контакты', marker_color='#8caba8', text=cs_count['ratio_gr1']))\n",
    "fig.add_trace(go.Bar(x=cs_count['event_name'], y=cs_count['ratio_gr2'], \n",
    "                     name='Не смотрели контакты', marker_color='#445c6d', text=cs_count['ratio_gr2']))\n",
    "\n",
    "fig.update_layout(\n",
    "    title='Относительная частота событий внутри каждой группы: смотревших и несмотревших контакты',\n",
    "    xaxis_title='Событие',\n",
    "    yaxis_title='Процент',\n",
    "    template='ggplot2',\n",
    "    xaxis_title_font=dict(color='#00a693'),  \n",
    "    yaxis_title_font=dict(color='#00a693'), \n",
    "    title_font=dict(color='#00a693'),\n",
    "    xaxis_title_standoff=30,\n",
    "    yaxis_title_standoff=30,\n",
    "    height=600,\n",
    "    width=910,\n",
    "    xaxis={'categoryorder': 'total descending'})\n",
    "fig.update_traces(textfont=dict(size=10))\n",
    "fig.show()"
   ]
  },
  {
   "cell_type": "markdown",
   "metadata": {},
   "source": [
    "В итоге мы видим, что по каждому событию по большей части лидирует группа пользователей, которые так и не посмотрели контакты в объявлениях. Однако другая ситуация представлена по событиям \"просмотрел фото\" и \"кликнул на рекомендованное объявление\". Наибольшая разница между группами наблюдается по событию tips_show (\"увидел рекомендованные объявления\")."
   ]
  },
  {
   "cell_type": "markdown",
   "metadata": {},
   "source": [
    "### Вывод"
   ]
  },
  {
   "cell_type": "markdown",
   "metadata": {},
   "source": [
    "<div class=\"alert alert-info\" style=\"border-color: lavender; border-radius: 10px; background-color: lavender;\"> \n",
    "    <font color = 'black'> \n",
    "        \n",
    "Мы выявили три сценария, которые могут сказать нам о том, как примерно предпочитают действовать пользователи в приложении. Чаще всего они предпочитают самостоятельный поиск и до целевого чаще добираются в два шага (search - tips_show - contacts_show / search - photos_show - contacts_show / map - tips_show - contacts_show).    \n",
    "Два сценария в качестве первого шага имеют поиск, и в качестве второго шага - показ рекомендованных обяъвлений, что логично увидеть после таких действий пользователя, как поиск и открытие карты объявлений. \n",
    "Наибольшую конверсию от первого до последнего шага показывает третий сценарий (почти 19%), а наименьший - первый сценарий (почти 8%). \n",
    "На втором шаге наименьшую конверсию показывает просмотр фотографий во втором сценарии;\n",
    "Наибольшую конверсию от первого до последнего шага показывает третий сценарий, согласно которому пользователи начинают с открытия карты объявлений и просмотра рекомендованных объявлений.  \n",
    "По каждому событию по большей части лидирует группа пользователей, которые так и не посмотрели контакты в объявлениях. Наибольшая разница между группами наблюдается по событию tips_show (\"увидел рекомендованные объявления\")."
   ]
  },
  {
   "cell_type": "markdown",
   "metadata": {},
   "source": [
    "## Проверка гипотез"
   ]
  },
  {
   "cell_type": "markdown",
   "metadata": {},
   "source": [
    "### Гипотеза 1"
   ]
  },
  {
   "cell_type": "markdown",
   "metadata": {},
   "source": [
    "- **Конверсия в просмотры контактов различается у групп, где пользователи совершают действия tips_show (увидел рекомендованные объявления) и tips_click (кликнул по рекомендованному объявлению) и где пользователи совершают только tips_show**"
   ]
  },
  {
   "cell_type": "markdown",
   "metadata": {},
   "source": [
    "Нулевая гипотеза - конверсии существенно не различаются   \n",
    "Альтернативная гипотеза - конверсии различаются"
   ]
  },
  {
   "cell_type": "code",
   "execution_count": 65,
   "metadata": {},
   "outputs": [],
   "source": [
    "# Создадим таблицу, где будут пользователи, которые совершили только tips_show \n",
    "gr1 = data.groupby('user_id').filter(\n",
    "    lambda x: 'tips_show' in x['event_name'].values and 'tips_click' not in x['event_name'].values\n",
    ")"
   ]
  },
  {
   "cell_type": "code",
   "execution_count": 66,
   "metadata": {},
   "outputs": [],
   "source": [
    "# Создадим таблицу, где будут пользователи, которые совершили и tips_show, и tips_click\n",
    "gr2 = data.groupby('user_id').filter(\n",
    "    lambda x: 'tips_show' in x['event_name'].values and 'tips_click' in x['event_name'].values\n",
    ")"
   ]
  },
  {
   "cell_type": "code",
   "execution_count": 67,
   "metadata": {},
   "outputs": [],
   "source": [
    "unique_users_one = gr1['user_id'].nunique()\n",
    "cos_one = gr1[gr1[\"event_name\"] == \"contacts_show\"]['user_id'].nunique()"
   ]
  },
  {
   "cell_type": "code",
   "execution_count": 68,
   "metadata": {},
   "outputs": [],
   "source": [
    "unique_users_two = gr2['user_id'].nunique()\n",
    "cos_two = gr2[gr2[\"event_name\"] == \"contacts_show\"]['user_id'].nunique()"
   ]
  },
  {
   "cell_type": "code",
   "execution_count": 69,
   "metadata": {},
   "outputs": [
    {
     "name": "stdout",
     "output_type": "stream",
     "text": [
      "Количество пользователей по группе только с tips_show: 2504 \n",
      "Количество пользователей с целевым событием в группе только с tips_show: 425\n"
     ]
    }
   ],
   "source": [
    "print(f'Количество пользователей по группе только с tips_show: {unique_users_one}', '\\n'\n",
    "      f'Количество пользователей с целевым событием в группе только с tips_show: {cos_one}'\n",
    ")"
   ]
  },
  {
   "cell_type": "code",
   "execution_count": 70,
   "metadata": {},
   "outputs": [
    {
     "name": "stdout",
     "output_type": "stream",
     "text": [
      "Количество данных по группе с tips_show и с tips_click: 297 \n",
      "Количество целевого события по группе с tips_show и с tips_click: 91\n"
     ]
    }
   ],
   "source": [
    "print(f'Количество данных по группе с tips_show и с tips_click: {unique_users_two}', '\\n'\n",
    "      f'Количество целевого события по группе с tips_show и с tips_click: {cos_two}'\n",
    ")"
   ]
  },
  {
   "cell_type": "code",
   "execution_count": 71,
   "metadata": {},
   "outputs": [
    {
     "data": {
      "text/html": [
       "<div>\n",
       "<style scoped>\n",
       "    .dataframe tbody tr th:only-of-type {\n",
       "        vertical-align: middle;\n",
       "    }\n",
       "\n",
       "    .dataframe tbody tr th {\n",
       "        vertical-align: top;\n",
       "    }\n",
       "\n",
       "    .dataframe thead th {\n",
       "        text-align: right;\n",
       "    }\n",
       "</style>\n",
       "<table border=\"1\" class=\"dataframe\">\n",
       "  <thead>\n",
       "    <tr style=\"text-align: right;\">\n",
       "      <th></th>\n",
       "      <th>group</th>\n",
       "      <th>total</th>\n",
       "      <th>contacts_show</th>\n",
       "    </tr>\n",
       "  </thead>\n",
       "  <tbody>\n",
       "    <tr>\n",
       "      <th>0</th>\n",
       "      <td>tips_show</td>\n",
       "      <td>2504</td>\n",
       "      <td>425</td>\n",
       "    </tr>\n",
       "    <tr>\n",
       "      <th>1</th>\n",
       "      <td>tips_show/tips_click</td>\n",
       "      <td>297</td>\n",
       "      <td>91</td>\n",
       "    </tr>\n",
       "  </tbody>\n",
       "</table>\n",
       "</div>"
      ],
      "text/plain": [
       "                  group  total  contacts_show\n",
       "0             tips_show   2504            425\n",
       "1  tips_show/tips_click    297             91"
      ]
     },
     "execution_count": 71,
     "metadata": {},
     "output_type": "execute_result"
    }
   ],
   "source": [
    "# Cоздадим таблицу из полученных данных\n",
    "data_h = {'group': ['tips_show', 'tips_show/tips_click'],\n",
    "        'total': [unique_users_one, unique_users_two],\n",
    "        'contacts_show': [cos_one, cos_two]}\n",
    "\n",
    "df = pd.DataFrame(data_h)\n",
    "df"
   ]
  },
  {
   "cell_type": "markdown",
   "metadata": {},
   "source": [
    "Cоздадим функцию для проверки гипотезы. Примем alpha = 5%, так как это наиболее оптимальный вариант. Он обеспечивает баланс между достаточной чувствительностью для обнаружения статистически значимых результатов."
   ]
  },
  {
   "cell_type": "code",
   "execution_count": 72,
   "metadata": {},
   "outputs": [],
   "source": [
    "# Cоздадим функцию для проверки\n",
    "def compare_group(purchases, leads):\n",
    "    alpha = 0.05\n",
    "    \n",
    "    # Пропорция успехов в первой группе\n",
    "    p1 = purchases[0]/leads[0]\n",
    "    \n",
    "    # Пропорция успехов во второй группе\n",
    "    p2 = purchases[1]/leads[1]\n",
    "    \n",
    "    # Пропорция успехов в комбинированном датасете\n",
    "    p_comb = (purchases[0] + purchases[1]) / (leads[0] + leads[1])\n",
    "    \n",
    "    # Разница пропорций в датасетах\n",
    "    difference = p1 - p2\n",
    "    \n",
    "    # Считаем статистику в статистических отклонениях стандартного нормального распределения\n",
    "    z_value = difference / mth.sqrt(p_comb * (1 - p_comb) * (1/leads[0] + 1/leads[1]))\n",
    "    \n",
    "    # Задаем стандартное нормальное распределение (среднее 0, стандартное отклонение 1)\n",
    "    distr = st.norm(0, 1)\n",
    "    \n",
    "    p_value = (1 - distr.cdf(abs(z_value))) * 2\n",
    "    \n",
    "    print('p-значение: ', p_value)\n",
    "    \n",
    "    if p_value < alpha:\n",
    "        print('Отвергаем нулевую гипотезу: между долями есть значимая разница')\n",
    "    else:\n",
    "        print(\n",
    "        'Не получилось отвергнуть нулевую гипотезу, нет оснований считать доли разными'\n",
    "        ) "
   ]
  },
  {
   "cell_type": "code",
   "execution_count": 73,
   "metadata": {},
   "outputs": [
    {
     "name": "stdout",
     "output_type": "stream",
     "text": [
      "p-значение:  9.218316554537864e-09\n",
      "Отвергаем нулевую гипотезу: между долями есть значимая разница\n"
     ]
    }
   ],
   "source": [
    "compare_group(\n",
    "    [df.loc[0]['contacts_show'], df.loc[1]['contacts_show']],\n",
    "    [df.loc[0]['total'], df.loc[1]['total']]\n",
    ")"
   ]
  },
  {
   "cell_type": "markdown",
   "metadata": {},
   "source": [
    "Гипотеза 1 подтвердилась. Конверсия в просмотры контактов **различается** у групп, где пользователи совершают действия tips_show (увидел рекомендованные объявления) и tips_click (кликнул по рекомендованному объявлению) и где пользователи совершают только tips_show."
   ]
  },
  {
   "cell_type": "markdown",
   "metadata": {},
   "source": [
    "### Гипотеза 2"
   ]
  },
  {
   "cell_type": "markdown",
   "metadata": {},
   "source": [
    "- **Конверсия в просмотры контактов различается у групп, где пользователи совершают действиe favorites_add (добавление в избранное) и где они его не совершают**"
   ]
  },
  {
   "cell_type": "markdown",
   "metadata": {},
   "source": [
    "Нулевая гипотеза - конверсии существенно не различаются   \n",
    "Альтернативная гипотеза - конверсии различаются"
   ]
  },
  {
   "cell_type": "code",
   "execution_count": 74,
   "metadata": {},
   "outputs": [],
   "source": [
    "# Создадим таблицу, где будут пользователи, которые совершили действие favorites_add\n",
    "fav_yes = data.groupby('user_id').filter(\n",
    "    lambda x: 'favorites_add' in x['event_name'].values\n",
    ")"
   ]
  },
  {
   "cell_type": "code",
   "execution_count": 75,
   "metadata": {},
   "outputs": [],
   "source": [
    "# Создадим таблицу, где будут пользователи, которые не совершили действие favorites_add\n",
    "fav_no = data.groupby('user_id').filter(\n",
    "    lambda x: 'favorites_add' not in x['event_name'].values\n",
    ")"
   ]
  },
  {
   "cell_type": "code",
   "execution_count": 76,
   "metadata": {},
   "outputs": [],
   "source": [
    "unique_users_fav = fav_yes['user_id'].nunique()\n",
    "fav_one = fav_yes[fav_yes[\"event_name\"] == \"contacts_show\"]['user_id'].nunique()"
   ]
  },
  {
   "cell_type": "code",
   "execution_count": 77,
   "metadata": {},
   "outputs": [],
   "source": [
    "unique_users_favno = fav_no['user_id'].nunique()\n",
    "favno_two = fav_no[fav_no[\"event_name\"] == \"contacts_show\"]['user_id'].nunique()"
   ]
  },
  {
   "cell_type": "code",
   "execution_count": 78,
   "metadata": {},
   "outputs": [
    {
     "name": "stdout",
     "output_type": "stream",
     "text": [
      "Количество данных по группе с favorites_add: 351 \n",
      "Количество целевого события в группе с favorites_add: 136\n"
     ]
    }
   ],
   "source": [
    "print(f'Количество данных по группе с favorites_add: {unique_users_fav}', '\\n'\n",
    "      f'Количество целевого события в группе с favorites_add: {fav_one}'\n",
    ")"
   ]
  },
  {
   "cell_type": "code",
   "execution_count": 79,
   "metadata": {},
   "outputs": [
    {
     "name": "stdout",
     "output_type": "stream",
     "text": [
      "Количество данных по группе без favorites_add: 3942 \n",
      "Количество целевого события по группе без favorites_add: 845\n"
     ]
    }
   ],
   "source": [
    "print(f'Количество данных по группе без favorites_add: {unique_users_favno}', '\\n'\n",
    "      f'Количество целевого события по группе без favorites_add: {favno_two}'\n",
    ")"
   ]
  },
  {
   "cell_type": "code",
   "execution_count": 80,
   "metadata": {},
   "outputs": [
    {
     "data": {
      "text/html": [
       "<div>\n",
       "<style scoped>\n",
       "    .dataframe tbody tr th:only-of-type {\n",
       "        vertical-align: middle;\n",
       "    }\n",
       "\n",
       "    .dataframe tbody tr th {\n",
       "        vertical-align: top;\n",
       "    }\n",
       "\n",
       "    .dataframe thead th {\n",
       "        text-align: right;\n",
       "    }\n",
       "</style>\n",
       "<table border=\"1\" class=\"dataframe\">\n",
       "  <thead>\n",
       "    <tr style=\"text-align: right;\">\n",
       "      <th></th>\n",
       "      <th>group</th>\n",
       "      <th>total</th>\n",
       "      <th>contacts_show</th>\n",
       "    </tr>\n",
       "  </thead>\n",
       "  <tbody>\n",
       "    <tr>\n",
       "      <th>0</th>\n",
       "      <td>fav_yes</td>\n",
       "      <td>351</td>\n",
       "      <td>136</td>\n",
       "    </tr>\n",
       "    <tr>\n",
       "      <th>1</th>\n",
       "      <td>fav_no</td>\n",
       "      <td>3942</td>\n",
       "      <td>845</td>\n",
       "    </tr>\n",
       "  </tbody>\n",
       "</table>\n",
       "</div>"
      ],
      "text/plain": [
       "     group  total  contacts_show\n",
       "0  fav_yes    351            136\n",
       "1   fav_no   3942            845"
      ]
     },
     "execution_count": 80,
     "metadata": {},
     "output_type": "execute_result"
    }
   ],
   "source": [
    "# Cоздадим таблицу из полученных данных\n",
    "data_n = {'group': ['fav_yes', 'fav_no'],\n",
    "        'total': [unique_users_fav, unique_users_favno],\n",
    "        'contacts_show': [fav_one, favno_two]}\n",
    "\n",
    "df_2 = pd.DataFrame(data_n)\n",
    "df_2"
   ]
  },
  {
   "cell_type": "code",
   "execution_count": 81,
   "metadata": {},
   "outputs": [
    {
     "name": "stdout",
     "output_type": "stream",
     "text": [
      "p-значение:  1.3455903058456897e-13\n",
      "Отвергаем нулевую гипотезу: между долями есть значимая разница\n"
     ]
    }
   ],
   "source": [
    "compare_group(\n",
    "    [df_2.loc[0]['contacts_show'], df_2.loc[1]['contacts_show']],\n",
    "    [df_2.loc[0]['total'], df_2.loc[1]['total']]\n",
    ")"
   ]
  },
  {
   "cell_type": "markdown",
   "metadata": {},
   "source": [
    "Гипотеза 2 подтвердилась. Конверсия в просмотры контактов **различается** у групп, где пользователи совершают действиe favorites_add (добавление в избранное) и где они его не совершают."
   ]
  },
  {
   "cell_type": "markdown",
   "metadata": {},
   "source": [
    "## Выводы и рекомендации"
   ]
  },
  {
   "cell_type": "markdown",
   "metadata": {},
   "source": [
    "<div class=\"alert alert-info\" style=\"border-color: lavender; border-radius: 10px; background-color: lavender;\"> \n",
    "    <font color = 'black'> \n",
    "        \n",
    "Выводы:  \n",
    "- У нас были данные от 10 октября до 3 ноября 2019 года - примерно 3,5 недели;  \n",
    "- Cамые популярные события каждого дня: просмотр фото, поиск и открытие карточки обявления;  \n",
    "- Яндекс - лидер по источнику скачивания приложения;  \n",
    "- В основном пользователи совершали до 20 событий, половина всех пользователей совершила до 9 действий, 5% от всех пользователей совершили более 60 действий;  \n",
    "- Три самых популярных сценария действий пользователей до достижения целевого события (просмотр контактов): search - tips_show - contacts_show / search - photos_show - contacts_show / map - tips_show - contacts_show;   \n",
    "- Чаще всего они пользователи предпочитают самостоятельный поиск и до целевого чаще добираются в два шага;        \n",
    "- Два сценария из трех наиболее популярных по достижению целевого события начинаются с поиска;   \n",
    "Наибольшую конверсию от первого до последнего шага показывает третий сценарий, согласно которому пользователи начинают с открытия карты объявлений и просмотра рекомендованных объявлений.  \n",
    "- Пользователей, которые не смотрели контакты, больше по каждому событию, хуже всего в этом разрезе для целевого события показывает себя действие \"открыл карточки объявления\", но есть потенциал к уменьшению разницы у событий \"кликнул по рекомендации\" и \"просмотрел фото\".  \n",
    "- Конверсия в просмотры контактов различается у групп, где пользователи совершают действия \"увидел рекомендованные объявления\" и \"кликнул по рекомендованному объявлению\" и где пользователи совершают только первое действие - у группы с двумя действиями конверсия больше;\n",
    "- Конверсия в просмотры контактов различается у групп, где пользователи совершают действиe \"добавление в избранное\" и где они его не совершают - у группы с добавлением в избранное конверсия больше.\n",
    "        \n",
    "        \n",
    "Можно продолжать активно развивать возможности, связанные с событиями трех главных сценариев по целевому событию. Особенно стоит уделить внимание рекомендованным объявлениям, так как событие, связанное с их показом, появилось в двух из трех главных сценариев. Также это событие входит в состав сценария, которое имеет наибольшую конверсию в целевое событие из этих трех сценариев. Возможно стоило бы больше уделить внимание событию \"кликнул по рекомендации\" и как можно было бы повысить показатели по нему. Также можно оценить перспективы события \"добавление в избранное\", так как по нему подтвердилась гипотеза о различии конверсий."
   ]
  }
 ],
 "metadata": {
  "ExecuteTimeLog": [
   {
    "duration": 91,
    "start_time": "2023-12-13T14:41:54.020Z"
   },
   {
    "duration": 3,
    "start_time": "2023-12-13T14:50:50.494Z"
   },
   {
    "duration": 1324,
    "start_time": "2023-12-13T15:08:48.884Z"
   },
   {
    "duration": 140,
    "start_time": "2023-12-13T15:08:50.210Z"
   },
   {
    "duration": 0,
    "start_time": "2023-12-13T15:08:50.359Z"
   },
   {
    "duration": 0,
    "start_time": "2023-12-13T15:08:50.361Z"
   },
   {
    "duration": 0,
    "start_time": "2023-12-13T15:08:50.362Z"
   },
   {
    "duration": 0,
    "start_time": "2023-12-13T15:08:50.363Z"
   },
   {
    "duration": 0,
    "start_time": "2023-12-13T15:08:50.364Z"
   },
   {
    "duration": 0,
    "start_time": "2023-12-13T15:08:50.365Z"
   },
   {
    "duration": 0,
    "start_time": "2023-12-13T15:08:50.366Z"
   },
   {
    "duration": 0,
    "start_time": "2023-12-13T15:08:50.367Z"
   },
   {
    "duration": 0,
    "start_time": "2023-12-13T15:08:50.368Z"
   },
   {
    "duration": 0,
    "start_time": "2023-12-13T15:08:50.370Z"
   },
   {
    "duration": 0,
    "start_time": "2023-12-13T15:08:50.370Z"
   },
   {
    "duration": 0,
    "start_time": "2023-12-13T15:08:50.372Z"
   },
   {
    "duration": 0,
    "start_time": "2023-12-13T15:08:50.373Z"
   },
   {
    "duration": 0,
    "start_time": "2023-12-13T15:08:50.374Z"
   },
   {
    "duration": 0,
    "start_time": "2023-12-13T15:08:50.375Z"
   },
   {
    "duration": 0,
    "start_time": "2023-12-13T15:08:50.376Z"
   },
   {
    "duration": 0,
    "start_time": "2023-12-13T15:08:50.377Z"
   },
   {
    "duration": 0,
    "start_time": "2023-12-13T15:08:50.378Z"
   },
   {
    "duration": 0,
    "start_time": "2023-12-13T15:08:50.379Z"
   },
   {
    "duration": 0,
    "start_time": "2023-12-13T15:08:50.380Z"
   },
   {
    "duration": 0,
    "start_time": "2023-12-13T15:08:50.381Z"
   },
   {
    "duration": 0,
    "start_time": "2023-12-13T15:08:50.382Z"
   },
   {
    "duration": 0,
    "start_time": "2023-12-13T15:08:50.383Z"
   },
   {
    "duration": 0,
    "start_time": "2023-12-13T15:08:50.384Z"
   },
   {
    "duration": 0,
    "start_time": "2023-12-13T15:08:50.385Z"
   },
   {
    "duration": 0,
    "start_time": "2023-12-13T15:08:50.387Z"
   },
   {
    "duration": 0,
    "start_time": "2023-12-13T15:08:50.387Z"
   },
   {
    "duration": 0,
    "start_time": "2023-12-13T15:08:50.389Z"
   },
   {
    "duration": 0,
    "start_time": "2023-12-13T15:08:50.390Z"
   },
   {
    "duration": 0,
    "start_time": "2023-12-13T15:08:50.391Z"
   },
   {
    "duration": 0,
    "start_time": "2023-12-13T15:08:50.392Z"
   },
   {
    "duration": 0,
    "start_time": "2023-12-13T15:08:50.393Z"
   },
   {
    "duration": 0,
    "start_time": "2023-12-13T15:08:50.394Z"
   },
   {
    "duration": 0,
    "start_time": "2023-12-13T15:08:50.395Z"
   },
   {
    "duration": 0,
    "start_time": "2023-12-13T15:08:50.396Z"
   },
   {
    "duration": 0,
    "start_time": "2023-12-13T15:08:50.397Z"
   },
   {
    "duration": 0,
    "start_time": "2023-12-13T15:08:50.398Z"
   },
   {
    "duration": 0,
    "start_time": "2023-12-13T15:08:50.459Z"
   },
   {
    "duration": 0,
    "start_time": "2023-12-13T15:08:50.460Z"
   },
   {
    "duration": 0,
    "start_time": "2023-12-13T15:08:50.461Z"
   },
   {
    "duration": 0,
    "start_time": "2023-12-13T15:08:50.462Z"
   },
   {
    "duration": 0,
    "start_time": "2023-12-13T15:08:50.463Z"
   },
   {
    "duration": 0,
    "start_time": "2023-12-13T15:08:50.463Z"
   },
   {
    "duration": 0,
    "start_time": "2023-12-13T15:08:50.464Z"
   },
   {
    "duration": 0,
    "start_time": "2023-12-13T15:08:50.465Z"
   },
   {
    "duration": 0,
    "start_time": "2023-12-13T15:08:50.466Z"
   },
   {
    "duration": 0,
    "start_time": "2023-12-13T15:08:50.467Z"
   },
   {
    "duration": 0,
    "start_time": "2023-12-13T15:08:50.468Z"
   },
   {
    "duration": 0,
    "start_time": "2023-12-13T15:08:50.469Z"
   },
   {
    "duration": 0,
    "start_time": "2023-12-13T15:08:50.470Z"
   },
   {
    "duration": 0,
    "start_time": "2023-12-13T15:08:50.471Z"
   },
   {
    "duration": 0,
    "start_time": "2023-12-13T15:08:50.472Z"
   },
   {
    "duration": 0,
    "start_time": "2023-12-13T15:08:50.473Z"
   },
   {
    "duration": 0,
    "start_time": "2023-12-13T15:08:50.474Z"
   },
   {
    "duration": 0,
    "start_time": "2023-12-13T15:08:50.475Z"
   },
   {
    "duration": 0,
    "start_time": "2023-12-13T15:08:50.475Z"
   },
   {
    "duration": 0,
    "start_time": "2023-12-13T15:08:50.476Z"
   },
   {
    "duration": 0,
    "start_time": "2023-12-13T15:08:50.477Z"
   },
   {
    "duration": 0,
    "start_time": "2023-12-13T15:08:50.478Z"
   },
   {
    "duration": 0,
    "start_time": "2023-12-13T15:08:50.479Z"
   },
   {
    "duration": 0,
    "start_time": "2023-12-13T15:08:50.480Z"
   },
   {
    "duration": 0,
    "start_time": "2023-12-13T15:08:50.480Z"
   },
   {
    "duration": 0,
    "start_time": "2023-12-13T15:08:50.481Z"
   },
   {
    "duration": 0,
    "start_time": "2023-12-13T15:08:50.482Z"
   },
   {
    "duration": 0,
    "start_time": "2023-12-13T15:08:50.483Z"
   },
   {
    "duration": 0,
    "start_time": "2023-12-13T15:08:50.484Z"
   },
   {
    "duration": 0,
    "start_time": "2023-12-13T15:08:50.485Z"
   },
   {
    "duration": 0,
    "start_time": "2023-12-13T15:08:50.486Z"
   },
   {
    "duration": 0,
    "start_time": "2023-12-13T15:08:50.487Z"
   },
   {
    "duration": 0,
    "start_time": "2023-12-13T15:08:50.487Z"
   },
   {
    "duration": 0,
    "start_time": "2023-12-13T15:08:50.488Z"
   },
   {
    "duration": 0,
    "start_time": "2023-12-13T15:08:50.489Z"
   },
   {
    "duration": 0,
    "start_time": "2023-12-13T15:08:50.490Z"
   },
   {
    "duration": 1270,
    "start_time": "2023-12-13T15:10:46.555Z"
   },
   {
    "duration": 125,
    "start_time": "2023-12-13T15:10:47.827Z"
   },
   {
    "duration": 393,
    "start_time": "2023-12-13T15:10:47.953Z"
   },
   {
    "duration": 12,
    "start_time": "2023-12-13T15:10:48.348Z"
   },
   {
    "duration": 38,
    "start_time": "2023-12-13T15:10:48.362Z"
   },
   {
    "duration": 38,
    "start_time": "2023-12-13T15:10:48.402Z"
   },
   {
    "duration": 30,
    "start_time": "2023-12-13T15:10:48.442Z"
   },
   {
    "duration": 25,
    "start_time": "2023-12-13T15:10:48.474Z"
   },
   {
    "duration": 107,
    "start_time": "2023-12-13T15:10:48.501Z"
   },
   {
    "duration": 20,
    "start_time": "2023-12-13T15:10:48.611Z"
   },
   {
    "duration": 30,
    "start_time": "2023-12-13T15:10:48.633Z"
   },
   {
    "duration": 31,
    "start_time": "2023-12-13T15:10:48.664Z"
   },
   {
    "duration": 13,
    "start_time": "2023-12-13T15:10:48.697Z"
   },
   {
    "duration": 16,
    "start_time": "2023-12-13T15:10:48.712Z"
   },
   {
    "duration": 37,
    "start_time": "2023-12-13T15:10:48.730Z"
   },
   {
    "duration": 41,
    "start_time": "2023-12-13T15:10:48.769Z"
   },
   {
    "duration": 15,
    "start_time": "2023-12-13T15:10:48.812Z"
   },
   {
    "duration": 76,
    "start_time": "2023-12-13T15:10:48.829Z"
   },
   {
    "duration": 26,
    "start_time": "2023-12-13T15:10:48.906Z"
   },
   {
    "duration": 4,
    "start_time": "2023-12-13T15:10:48.934Z"
   },
   {
    "duration": 442,
    "start_time": "2023-12-13T15:10:48.939Z"
   },
   {
    "duration": 24,
    "start_time": "2023-12-13T15:10:49.383Z"
   },
   {
    "duration": 101,
    "start_time": "2023-12-13T15:10:49.408Z"
   },
   {
    "duration": 24,
    "start_time": "2023-12-13T15:10:49.558Z"
   },
   {
    "duration": 86,
    "start_time": "2023-12-13T15:10:49.584Z"
   },
   {
    "duration": 14,
    "start_time": "2023-12-13T15:10:49.671Z"
   },
   {
    "duration": 14,
    "start_time": "2023-12-13T15:10:49.687Z"
   },
   {
    "duration": 798,
    "start_time": "2023-12-13T15:10:49.705Z"
   },
   {
    "duration": 26,
    "start_time": "2023-12-13T15:10:50.505Z"
   },
   {
    "duration": 5,
    "start_time": "2023-12-13T15:10:50.533Z"
   },
   {
    "duration": 13,
    "start_time": "2023-12-13T15:10:50.558Z"
   },
   {
    "duration": 39,
    "start_time": "2023-12-13T15:10:50.572Z"
   },
   {
    "duration": 58,
    "start_time": "2023-12-13T15:10:50.612Z"
   },
   {
    "duration": 47,
    "start_time": "2023-12-13T15:10:50.672Z"
   },
   {
    "duration": 35,
    "start_time": "2023-12-13T15:10:50.721Z"
   },
   {
    "duration": 35,
    "start_time": "2023-12-13T15:10:50.758Z"
   },
   {
    "duration": 21,
    "start_time": "2023-12-13T15:10:50.795Z"
   },
   {
    "duration": 16,
    "start_time": "2023-12-13T15:10:50.818Z"
   },
   {
    "duration": 21,
    "start_time": "2023-12-13T15:10:50.836Z"
   },
   {
    "duration": 16,
    "start_time": "2023-12-13T15:10:50.859Z"
   },
   {
    "duration": 695,
    "start_time": "2023-12-13T15:10:50.877Z"
   },
   {
    "duration": 26,
    "start_time": "2023-12-13T15:10:51.574Z"
   },
   {
    "duration": 20,
    "start_time": "2023-12-13T15:10:51.602Z"
   },
   {
    "duration": 107,
    "start_time": "2023-12-13T15:10:51.624Z"
   },
   {
    "duration": 30,
    "start_time": "2023-12-13T15:10:51.732Z"
   },
   {
    "duration": 54,
    "start_time": "2023-12-13T15:10:51.764Z"
   },
   {
    "duration": 4,
    "start_time": "2023-12-13T15:10:51.820Z"
   },
   {
    "duration": 32,
    "start_time": "2023-12-13T15:10:51.826Z"
   },
   {
    "duration": 45,
    "start_time": "2023-12-13T15:10:51.860Z"
   },
   {
    "duration": 3,
    "start_time": "2023-12-13T15:10:51.907Z"
   },
   {
    "duration": 97,
    "start_time": "2023-12-13T15:10:51.912Z"
   },
   {
    "duration": 0,
    "start_time": "2023-12-13T15:10:52.011Z"
   },
   {
    "duration": 0,
    "start_time": "2023-12-13T15:10:52.012Z"
   },
   {
    "duration": 0,
    "start_time": "2023-12-13T15:10:52.013Z"
   },
   {
    "duration": 0,
    "start_time": "2023-12-13T15:10:52.014Z"
   },
   {
    "duration": 0,
    "start_time": "2023-12-13T15:10:52.015Z"
   },
   {
    "duration": 0,
    "start_time": "2023-12-13T15:10:52.016Z"
   },
   {
    "duration": 0,
    "start_time": "2023-12-13T15:10:52.017Z"
   },
   {
    "duration": 0,
    "start_time": "2023-12-13T15:10:52.018Z"
   },
   {
    "duration": 0,
    "start_time": "2023-12-13T15:10:52.019Z"
   },
   {
    "duration": 0,
    "start_time": "2023-12-13T15:10:52.020Z"
   },
   {
    "duration": 0,
    "start_time": "2023-12-13T15:10:52.021Z"
   },
   {
    "duration": 0,
    "start_time": "2023-12-13T15:10:52.022Z"
   },
   {
    "duration": 0,
    "start_time": "2023-12-13T15:10:52.023Z"
   },
   {
    "duration": 0,
    "start_time": "2023-12-13T15:10:52.024Z"
   },
   {
    "duration": 0,
    "start_time": "2023-12-13T15:10:52.025Z"
   },
   {
    "duration": 0,
    "start_time": "2023-12-13T15:10:52.026Z"
   },
   {
    "duration": 0,
    "start_time": "2023-12-13T15:10:52.027Z"
   },
   {
    "duration": 0,
    "start_time": "2023-12-13T15:10:52.028Z"
   },
   {
    "duration": 0,
    "start_time": "2023-12-13T15:10:52.029Z"
   },
   {
    "duration": 0,
    "start_time": "2023-12-13T15:10:52.030Z"
   },
   {
    "duration": 0,
    "start_time": "2023-12-13T15:10:52.031Z"
   },
   {
    "duration": 0,
    "start_time": "2023-12-13T15:10:52.032Z"
   },
   {
    "duration": 0,
    "start_time": "2023-12-13T15:10:52.033Z"
   },
   {
    "duration": 0,
    "start_time": "2023-12-13T15:10:52.034Z"
   },
   {
    "duration": 1181,
    "start_time": "2023-12-13T15:11:16.944Z"
   },
   {
    "duration": 38,
    "start_time": "2023-12-13T15:11:18.127Z"
   },
   {
    "duration": 101,
    "start_time": "2023-12-13T15:11:18.167Z"
   },
   {
    "duration": 10,
    "start_time": "2023-12-13T15:11:18.270Z"
   },
   {
    "duration": 20,
    "start_time": "2023-12-13T15:11:18.281Z"
   },
   {
    "duration": 3,
    "start_time": "2023-12-13T15:11:18.303Z"
   },
   {
    "duration": 21,
    "start_time": "2023-12-13T15:11:18.307Z"
   },
   {
    "duration": 39,
    "start_time": "2023-12-13T15:11:18.330Z"
   },
   {
    "duration": 61,
    "start_time": "2023-12-13T15:11:18.371Z"
   },
   {
    "duration": 35,
    "start_time": "2023-12-13T15:11:18.434Z"
   },
   {
    "duration": 15,
    "start_time": "2023-12-13T15:11:18.471Z"
   },
   {
    "duration": 30,
    "start_time": "2023-12-13T15:11:18.488Z"
   },
   {
    "duration": 11,
    "start_time": "2023-12-13T15:11:18.520Z"
   },
   {
    "duration": 60,
    "start_time": "2023-12-13T15:11:18.533Z"
   },
   {
    "duration": 47,
    "start_time": "2023-12-13T15:11:18.595Z"
   },
   {
    "duration": 26,
    "start_time": "2023-12-13T15:11:18.644Z"
   },
   {
    "duration": 15,
    "start_time": "2023-12-13T15:11:18.671Z"
   },
   {
    "duration": 55,
    "start_time": "2023-12-13T15:11:18.687Z"
   },
   {
    "duration": 36,
    "start_time": "2023-12-13T15:11:18.743Z"
   },
   {
    "duration": 4,
    "start_time": "2023-12-13T15:11:18.780Z"
   },
   {
    "duration": 422,
    "start_time": "2023-12-13T15:11:18.785Z"
   },
   {
    "duration": 23,
    "start_time": "2023-12-13T15:11:19.209Z"
   },
   {
    "duration": 133,
    "start_time": "2023-12-13T15:11:19.233Z"
   },
   {
    "duration": 24,
    "start_time": "2023-12-13T15:11:19.367Z"
   },
   {
    "duration": 84,
    "start_time": "2023-12-13T15:11:19.393Z"
   },
   {
    "duration": 14,
    "start_time": "2023-12-13T15:11:19.479Z"
   },
   {
    "duration": 7,
    "start_time": "2023-12-13T15:11:19.495Z"
   },
   {
    "duration": 798,
    "start_time": "2023-12-13T15:11:19.506Z"
   },
   {
    "duration": 26,
    "start_time": "2023-12-13T15:11:20.306Z"
   },
   {
    "duration": 5,
    "start_time": "2023-12-13T15:11:20.333Z"
   },
   {
    "duration": 27,
    "start_time": "2023-12-13T15:11:20.339Z"
   },
   {
    "duration": 54,
    "start_time": "2023-12-13T15:11:20.367Z"
   },
   {
    "duration": 31,
    "start_time": "2023-12-13T15:11:20.422Z"
   },
   {
    "duration": 97,
    "start_time": "2023-12-13T15:11:20.454Z"
   },
   {
    "duration": 55,
    "start_time": "2023-12-13T15:11:20.553Z"
   },
   {
    "duration": 6,
    "start_time": "2023-12-13T15:11:20.610Z"
   },
   {
    "duration": 47,
    "start_time": "2023-12-13T15:11:20.617Z"
   },
   {
    "duration": 78,
    "start_time": "2023-12-13T15:11:20.666Z"
   },
   {
    "duration": 15,
    "start_time": "2023-12-13T15:11:20.746Z"
   },
   {
    "duration": 79,
    "start_time": "2023-12-13T15:11:20.763Z"
   },
   {
    "duration": 744,
    "start_time": "2023-12-13T15:11:20.843Z"
   },
   {
    "duration": 22,
    "start_time": "2023-12-13T15:11:21.589Z"
   },
   {
    "duration": 7,
    "start_time": "2023-12-13T15:11:21.613Z"
   },
   {
    "duration": 115,
    "start_time": "2023-12-13T15:11:21.621Z"
   },
   {
    "duration": 22,
    "start_time": "2023-12-13T15:11:21.737Z"
   },
   {
    "duration": 47,
    "start_time": "2023-12-13T15:11:21.761Z"
   },
   {
    "duration": 3,
    "start_time": "2023-12-13T15:11:21.810Z"
   },
   {
    "duration": 18,
    "start_time": "2023-12-13T15:11:21.814Z"
   },
   {
    "duration": 60,
    "start_time": "2023-12-13T15:11:21.834Z"
   },
   {
    "duration": 3,
    "start_time": "2023-12-13T15:11:21.895Z"
   },
   {
    "duration": 34,
    "start_time": "2023-12-13T15:11:21.900Z"
   },
   {
    "duration": 120,
    "start_time": "2023-12-13T15:11:21.936Z"
   },
   {
    "duration": 3,
    "start_time": "2023-12-13T15:11:22.059Z"
   },
   {
    "duration": 10,
    "start_time": "2023-12-13T15:11:22.064Z"
   },
   {
    "duration": 6,
    "start_time": "2023-12-13T15:11:22.076Z"
   },
   {
    "duration": 13,
    "start_time": "2023-12-13T15:11:22.083Z"
   },
   {
    "duration": 27,
    "start_time": "2023-12-13T15:11:22.098Z"
   },
   {
    "duration": 34,
    "start_time": "2023-12-13T15:11:22.127Z"
   },
   {
    "duration": 18,
    "start_time": "2023-12-13T15:11:22.164Z"
   },
   {
    "duration": 7,
    "start_time": "2023-12-13T15:11:22.184Z"
   },
   {
    "duration": 76,
    "start_time": "2023-12-13T15:11:22.192Z"
   },
   {
    "duration": 441,
    "start_time": "2023-12-13T15:11:22.270Z"
   },
   {
    "duration": 418,
    "start_time": "2023-12-13T15:11:22.712Z"
   },
   {
    "duration": 8,
    "start_time": "2023-12-13T15:11:23.132Z"
   },
   {
    "duration": 16,
    "start_time": "2023-12-13T15:11:23.142Z"
   },
   {
    "duration": 9,
    "start_time": "2023-12-13T15:11:23.160Z"
   },
   {
    "duration": 17,
    "start_time": "2023-12-13T15:11:23.170Z"
   },
   {
    "duration": 21,
    "start_time": "2023-12-13T15:11:23.189Z"
   },
   {
    "duration": 404,
    "start_time": "2023-12-13T15:11:23.211Z"
   },
   {
    "duration": 420,
    "start_time": "2023-12-13T15:11:23.617Z"
   },
   {
    "duration": 5,
    "start_time": "2023-12-13T15:11:24.039Z"
   },
   {
    "duration": 17,
    "start_time": "2023-12-13T15:11:24.045Z"
   },
   {
    "duration": 8,
    "start_time": "2023-12-13T15:11:24.064Z"
   },
   {
    "duration": 6,
    "start_time": "2023-12-13T15:11:24.074Z"
   },
   {
    "duration": 1336,
    "start_time": "2023-12-13T15:13:02.130Z"
   },
   {
    "duration": 40,
    "start_time": "2023-12-13T15:13:03.467Z"
   },
   {
    "duration": 110,
    "start_time": "2023-12-13T15:13:03.508Z"
   },
   {
    "duration": 10,
    "start_time": "2023-12-13T15:13:03.620Z"
   },
   {
    "duration": 46,
    "start_time": "2023-12-13T15:13:03.631Z"
   },
   {
    "duration": 4,
    "start_time": "2023-12-13T15:13:03.679Z"
   },
   {
    "duration": 26,
    "start_time": "2023-12-13T15:13:03.684Z"
   },
   {
    "duration": 24,
    "start_time": "2023-12-13T15:13:03.712Z"
   },
   {
    "duration": 73,
    "start_time": "2023-12-13T15:13:03.738Z"
   },
   {
    "duration": 21,
    "start_time": "2023-12-13T15:13:03.814Z"
   },
   {
    "duration": 35,
    "start_time": "2023-12-13T15:13:03.837Z"
   },
   {
    "duration": 31,
    "start_time": "2023-12-13T15:13:03.874Z"
   },
   {
    "duration": 12,
    "start_time": "2023-12-13T15:13:03.907Z"
   },
   {
    "duration": 36,
    "start_time": "2023-12-13T15:13:03.921Z"
   },
   {
    "duration": 15,
    "start_time": "2023-12-13T15:13:03.959Z"
   },
   {
    "duration": 27,
    "start_time": "2023-12-13T15:13:03.976Z"
   },
   {
    "duration": 14,
    "start_time": "2023-12-13T15:13:04.004Z"
   },
   {
    "duration": 82,
    "start_time": "2023-12-13T15:13:04.020Z"
   },
   {
    "duration": 26,
    "start_time": "2023-12-13T15:13:04.104Z"
   },
   {
    "duration": 4,
    "start_time": "2023-12-13T15:13:04.132Z"
   },
   {
    "duration": 443,
    "start_time": "2023-12-13T15:13:04.137Z"
   },
   {
    "duration": 29,
    "start_time": "2023-12-13T15:13:04.582Z"
   },
   {
    "duration": 152,
    "start_time": "2023-12-13T15:13:04.613Z"
   },
   {
    "duration": 25,
    "start_time": "2023-12-13T15:13:04.766Z"
   },
   {
    "duration": 91,
    "start_time": "2023-12-13T15:13:04.792Z"
   },
   {
    "duration": 14,
    "start_time": "2023-12-13T15:13:04.885Z"
   },
   {
    "duration": 5,
    "start_time": "2023-12-13T15:13:04.900Z"
   },
   {
    "duration": 927,
    "start_time": "2023-12-13T15:13:04.909Z"
   },
   {
    "duration": 33,
    "start_time": "2023-12-13T15:13:05.838Z"
   },
   {
    "duration": 4,
    "start_time": "2023-12-13T15:13:05.872Z"
   },
   {
    "duration": 15,
    "start_time": "2023-12-13T15:13:05.877Z"
   },
   {
    "duration": 24,
    "start_time": "2023-12-13T15:13:05.893Z"
   },
   {
    "duration": 14,
    "start_time": "2023-12-13T15:13:05.919Z"
   },
   {
    "duration": 66,
    "start_time": "2023-12-13T15:13:05.935Z"
   },
   {
    "duration": 33,
    "start_time": "2023-12-13T15:13:06.002Z"
   },
   {
    "duration": 22,
    "start_time": "2023-12-13T15:13:06.037Z"
   },
   {
    "duration": 15,
    "start_time": "2023-12-13T15:13:06.061Z"
   },
   {
    "duration": 4,
    "start_time": "2023-12-13T15:13:06.078Z"
   },
   {
    "duration": 18,
    "start_time": "2023-12-13T15:13:06.083Z"
   },
   {
    "duration": 14,
    "start_time": "2023-12-13T15:13:06.103Z"
   },
   {
    "duration": 655,
    "start_time": "2023-12-13T15:13:06.119Z"
   },
   {
    "duration": 23,
    "start_time": "2023-12-13T15:13:06.775Z"
   },
   {
    "duration": 8,
    "start_time": "2023-12-13T15:13:06.799Z"
   },
   {
    "duration": 119,
    "start_time": "2023-12-13T15:13:06.808Z"
   },
   {
    "duration": 15,
    "start_time": "2023-12-13T15:13:06.929Z"
   },
   {
    "duration": 63,
    "start_time": "2023-12-13T15:13:06.946Z"
   },
   {
    "duration": 3,
    "start_time": "2023-12-13T15:13:07.011Z"
   },
   {
    "duration": 23,
    "start_time": "2023-12-13T15:13:07.016Z"
   },
   {
    "duration": 60,
    "start_time": "2023-12-13T15:13:07.040Z"
   },
   {
    "duration": 3,
    "start_time": "2023-12-13T15:13:07.102Z"
   },
   {
    "duration": 23,
    "start_time": "2023-12-13T15:13:07.106Z"
   },
   {
    "duration": 143,
    "start_time": "2023-12-13T15:13:07.131Z"
   },
   {
    "duration": 3,
    "start_time": "2023-12-13T15:13:07.276Z"
   },
   {
    "duration": 25,
    "start_time": "2023-12-13T15:13:07.281Z"
   },
   {
    "duration": 9,
    "start_time": "2023-12-13T15:13:07.307Z"
   },
   {
    "duration": 33,
    "start_time": "2023-12-13T15:13:07.318Z"
   },
   {
    "duration": 34,
    "start_time": "2023-12-13T15:13:07.353Z"
   },
   {
    "duration": 6,
    "start_time": "2023-12-13T15:13:07.389Z"
   },
   {
    "duration": 14,
    "start_time": "2023-12-13T15:13:07.397Z"
   },
   {
    "duration": 21,
    "start_time": "2023-12-13T15:13:07.413Z"
   },
   {
    "duration": 69,
    "start_time": "2023-12-13T15:13:07.436Z"
   },
   {
    "duration": 460,
    "start_time": "2023-12-13T15:13:07.506Z"
   },
   {
    "duration": 427,
    "start_time": "2023-12-13T15:13:07.968Z"
   },
   {
    "duration": 8,
    "start_time": "2023-12-13T15:13:08.397Z"
   },
   {
    "duration": 23,
    "start_time": "2023-12-13T15:13:08.406Z"
   },
   {
    "duration": 11,
    "start_time": "2023-12-13T15:13:08.430Z"
   },
   {
    "duration": 12,
    "start_time": "2023-12-13T15:13:08.442Z"
   },
   {
    "duration": 11,
    "start_time": "2023-12-13T15:13:08.456Z"
   },
   {
    "duration": 416,
    "start_time": "2023-12-13T15:13:08.468Z"
   },
   {
    "duration": 446,
    "start_time": "2023-12-13T15:13:08.885Z"
   },
   {
    "duration": 5,
    "start_time": "2023-12-13T15:13:09.333Z"
   },
   {
    "duration": 19,
    "start_time": "2023-12-13T15:13:09.340Z"
   },
   {
    "duration": 15,
    "start_time": "2023-12-13T15:13:09.361Z"
   },
   {
    "duration": 26,
    "start_time": "2023-12-13T15:13:09.377Z"
   },
   {
    "duration": 1392,
    "start_time": "2023-12-14T08:27:09.486Z"
   },
   {
    "duration": 121,
    "start_time": "2023-12-14T08:27:10.880Z"
   },
   {
    "duration": 373,
    "start_time": "2023-12-14T08:27:11.003Z"
   },
   {
    "duration": 10,
    "start_time": "2023-12-14T08:27:11.378Z"
   },
   {
    "duration": 25,
    "start_time": "2023-12-14T08:27:11.390Z"
   },
   {
    "duration": 10,
    "start_time": "2023-12-14T08:27:11.417Z"
   },
   {
    "duration": 19,
    "start_time": "2023-12-14T08:27:11.429Z"
   },
   {
    "duration": 22,
    "start_time": "2023-12-14T08:27:11.449Z"
   },
   {
    "duration": 71,
    "start_time": "2023-12-14T08:27:11.473Z"
   },
   {
    "duration": 19,
    "start_time": "2023-12-14T08:27:11.547Z"
   },
   {
    "duration": 29,
    "start_time": "2023-12-14T08:27:11.568Z"
   },
   {
    "duration": 57,
    "start_time": "2023-12-14T08:27:11.599Z"
   },
   {
    "duration": 16,
    "start_time": "2023-12-14T08:27:11.657Z"
   },
   {
    "duration": 21,
    "start_time": "2023-12-14T08:27:11.674Z"
   },
   {
    "duration": 34,
    "start_time": "2023-12-14T08:27:11.696Z"
   },
   {
    "duration": 29,
    "start_time": "2023-12-14T08:27:11.731Z"
   },
   {
    "duration": 11,
    "start_time": "2023-12-14T08:27:11.762Z"
   },
   {
    "duration": 72,
    "start_time": "2023-12-14T08:27:11.775Z"
   },
   {
    "duration": 22,
    "start_time": "2023-12-14T08:27:11.849Z"
   },
   {
    "duration": 3,
    "start_time": "2023-12-14T08:27:11.873Z"
   },
   {
    "duration": 828,
    "start_time": "2023-12-14T08:27:11.878Z"
   },
   {
    "duration": 23,
    "start_time": "2023-12-14T08:27:12.707Z"
   },
   {
    "duration": 124,
    "start_time": "2023-12-14T08:27:12.731Z"
   },
   {
    "duration": 64,
    "start_time": "2023-12-14T08:27:12.857Z"
   },
   {
    "duration": 140,
    "start_time": "2023-12-14T08:27:12.924Z"
   },
   {
    "duration": 13,
    "start_time": "2023-12-14T08:27:13.066Z"
   },
   {
    "duration": 6,
    "start_time": "2023-12-14T08:27:13.080Z"
   },
   {
    "duration": 702,
    "start_time": "2023-12-14T08:27:13.090Z"
   },
   {
    "duration": 28,
    "start_time": "2023-12-14T08:27:13.793Z"
   },
   {
    "duration": 4,
    "start_time": "2023-12-14T08:27:13.823Z"
   },
   {
    "duration": 11,
    "start_time": "2023-12-14T08:27:13.828Z"
   },
   {
    "duration": 12,
    "start_time": "2023-12-14T08:27:13.841Z"
   },
   {
    "duration": 7,
    "start_time": "2023-12-14T08:27:13.854Z"
   },
   {
    "duration": 52,
    "start_time": "2023-12-14T08:27:13.862Z"
   },
   {
    "duration": 7,
    "start_time": "2023-12-14T08:27:13.915Z"
   },
   {
    "duration": 4,
    "start_time": "2023-12-14T08:27:13.924Z"
   },
   {
    "duration": 11,
    "start_time": "2023-12-14T08:27:13.930Z"
   },
   {
    "duration": 3,
    "start_time": "2023-12-14T08:27:13.942Z"
   },
   {
    "duration": 7,
    "start_time": "2023-12-14T08:27:13.946Z"
   },
   {
    "duration": 7,
    "start_time": "2023-12-14T08:27:13.954Z"
   },
   {
    "duration": 675,
    "start_time": "2023-12-14T08:27:13.963Z"
   },
   {
    "duration": 22,
    "start_time": "2023-12-14T08:27:14.640Z"
   },
   {
    "duration": 8,
    "start_time": "2023-12-14T08:27:14.664Z"
   },
   {
    "duration": 111,
    "start_time": "2023-12-14T08:27:14.674Z"
   },
   {
    "duration": 24,
    "start_time": "2023-12-14T08:27:14.787Z"
   },
   {
    "duration": 123,
    "start_time": "2023-12-14T08:27:14.812Z"
   },
   {
    "duration": 4,
    "start_time": "2023-12-14T08:27:14.936Z"
   },
   {
    "duration": 13,
    "start_time": "2023-12-14T08:27:14.941Z"
   },
   {
    "duration": 60,
    "start_time": "2023-12-14T08:27:14.955Z"
   },
   {
    "duration": 4,
    "start_time": "2023-12-14T08:27:15.017Z"
   },
   {
    "duration": 48,
    "start_time": "2023-12-14T08:27:15.022Z"
   },
   {
    "duration": 60,
    "start_time": "2023-12-14T08:27:15.072Z"
   },
   {
    "duration": 14,
    "start_time": "2023-12-14T08:27:15.133Z"
   },
   {
    "duration": 13,
    "start_time": "2023-12-14T08:27:15.149Z"
   },
   {
    "duration": 15,
    "start_time": "2023-12-14T08:27:15.164Z"
   },
   {
    "duration": 15,
    "start_time": "2023-12-14T08:27:15.181Z"
   },
   {
    "duration": 42,
    "start_time": "2023-12-14T08:27:15.198Z"
   },
   {
    "duration": 8,
    "start_time": "2023-12-14T08:27:15.241Z"
   },
   {
    "duration": 11,
    "start_time": "2023-12-14T08:27:15.253Z"
   },
   {
    "duration": 5,
    "start_time": "2023-12-14T08:27:15.265Z"
   },
   {
    "duration": 74,
    "start_time": "2023-12-14T08:27:15.271Z"
   },
   {
    "duration": 421,
    "start_time": "2023-12-14T08:27:15.347Z"
   },
   {
    "duration": 389,
    "start_time": "2023-12-14T08:27:15.769Z"
   },
   {
    "duration": 8,
    "start_time": "2023-12-14T08:27:16.159Z"
   },
   {
    "duration": 6,
    "start_time": "2023-12-14T08:27:16.168Z"
   },
   {
    "duration": 13,
    "start_time": "2023-12-14T08:27:16.175Z"
   },
   {
    "duration": 5,
    "start_time": "2023-12-14T08:27:16.190Z"
   },
   {
    "duration": 6,
    "start_time": "2023-12-14T08:27:16.210Z"
   },
   {
    "duration": 403,
    "start_time": "2023-12-14T08:27:16.218Z"
   },
   {
    "duration": 384,
    "start_time": "2023-12-14T08:27:16.622Z"
   },
   {
    "duration": 5,
    "start_time": "2023-12-14T08:27:17.011Z"
   },
   {
    "duration": 17,
    "start_time": "2023-12-14T08:27:17.017Z"
   },
   {
    "duration": 22,
    "start_time": "2023-12-14T08:27:17.035Z"
   },
   {
    "duration": 29,
    "start_time": "2023-12-14T08:27:17.059Z"
   },
   {
    "duration": 1169,
    "start_time": "2023-12-14T09:24:58.295Z"
   },
   {
    "duration": 38,
    "start_time": "2023-12-14T09:24:59.466Z"
   },
   {
    "duration": 100,
    "start_time": "2023-12-14T09:24:59.506Z"
   },
   {
    "duration": 10,
    "start_time": "2023-12-14T09:24:59.607Z"
   },
   {
    "duration": 20,
    "start_time": "2023-12-14T09:24:59.619Z"
   },
   {
    "duration": 4,
    "start_time": "2023-12-14T09:24:59.640Z"
   },
   {
    "duration": 19,
    "start_time": "2023-12-14T09:24:59.645Z"
   },
   {
    "duration": 20,
    "start_time": "2023-12-14T09:24:59.665Z"
   },
   {
    "duration": 81,
    "start_time": "2023-12-14T09:24:59.687Z"
   },
   {
    "duration": 21,
    "start_time": "2023-12-14T09:24:59.770Z"
   },
   {
    "duration": 32,
    "start_time": "2023-12-14T09:24:59.793Z"
   },
   {
    "duration": 30,
    "start_time": "2023-12-14T09:24:59.827Z"
   },
   {
    "duration": 11,
    "start_time": "2023-12-14T09:24:59.859Z"
   },
   {
    "duration": 38,
    "start_time": "2023-12-14T09:24:59.873Z"
   },
   {
    "duration": 14,
    "start_time": "2023-12-14T09:24:59.913Z"
   },
   {
    "duration": 27,
    "start_time": "2023-12-14T09:24:59.929Z"
   },
   {
    "duration": 19,
    "start_time": "2023-12-14T09:24:59.957Z"
   },
   {
    "duration": 68,
    "start_time": "2023-12-14T09:24:59.978Z"
   },
   {
    "duration": 23,
    "start_time": "2023-12-14T09:25:00.048Z"
   },
   {
    "duration": 14,
    "start_time": "2023-12-14T09:25:00.073Z"
   },
   {
    "duration": 805,
    "start_time": "2023-12-14T09:25:00.089Z"
   },
   {
    "duration": 36,
    "start_time": "2023-12-14T09:25:00.895Z"
   },
   {
    "duration": 124,
    "start_time": "2023-12-14T09:25:00.932Z"
   },
   {
    "duration": 109,
    "start_time": "2023-12-14T09:25:01.057Z"
   },
   {
    "duration": 104,
    "start_time": "2023-12-14T09:25:01.168Z"
   },
   {
    "duration": 14,
    "start_time": "2023-12-14T09:25:01.274Z"
   },
   {
    "duration": 89,
    "start_time": "2023-12-14T09:25:01.290Z"
   },
   {
    "duration": 865,
    "start_time": "2023-12-14T09:25:01.380Z"
   },
   {
    "duration": 25,
    "start_time": "2023-12-14T09:25:02.246Z"
   },
   {
    "duration": 7,
    "start_time": "2023-12-14T09:25:02.272Z"
   },
   {
    "duration": 28,
    "start_time": "2023-12-14T09:25:02.280Z"
   },
   {
    "duration": 14,
    "start_time": "2023-12-14T09:25:02.310Z"
   },
   {
    "duration": 7,
    "start_time": "2023-12-14T09:25:02.326Z"
   },
   {
    "duration": 25,
    "start_time": "2023-12-14T09:25:02.335Z"
   },
   {
    "duration": 7,
    "start_time": "2023-12-14T09:25:02.362Z"
   },
   {
    "duration": 11,
    "start_time": "2023-12-14T09:25:02.371Z"
   },
   {
    "duration": 36,
    "start_time": "2023-12-14T09:25:02.384Z"
   },
   {
    "duration": 3,
    "start_time": "2023-12-14T09:25:02.422Z"
   },
   {
    "duration": 18,
    "start_time": "2023-12-14T09:25:02.426Z"
   },
   {
    "duration": 15,
    "start_time": "2023-12-14T09:25:02.446Z"
   },
   {
    "duration": 607,
    "start_time": "2023-12-14T09:25:02.465Z"
   },
   {
    "duration": 22,
    "start_time": "2023-12-14T09:25:03.073Z"
   },
   {
    "duration": 25,
    "start_time": "2023-12-14T09:25:03.096Z"
   },
   {
    "duration": 135,
    "start_time": "2023-12-14T09:25:03.122Z"
   },
   {
    "duration": 16,
    "start_time": "2023-12-14T09:25:03.258Z"
   },
   {
    "duration": 56,
    "start_time": "2023-12-14T09:25:03.276Z"
   },
   {
    "duration": 3,
    "start_time": "2023-12-14T09:25:03.333Z"
   },
   {
    "duration": 36,
    "start_time": "2023-12-14T09:25:03.338Z"
   },
   {
    "duration": 52,
    "start_time": "2023-12-14T09:25:03.375Z"
   },
   {
    "duration": 22,
    "start_time": "2023-12-14T09:25:03.429Z"
   },
   {
    "duration": 28,
    "start_time": "2023-12-14T09:25:03.453Z"
   },
   {
    "duration": 131,
    "start_time": "2023-12-14T09:25:03.482Z"
   },
   {
    "duration": 6,
    "start_time": "2023-12-14T09:25:03.615Z"
   },
   {
    "duration": 10,
    "start_time": "2023-12-14T09:25:03.622Z"
   },
   {
    "duration": 7,
    "start_time": "2023-12-14T09:25:03.633Z"
   },
   {
    "duration": 16,
    "start_time": "2023-12-14T09:25:03.643Z"
   },
   {
    "duration": 30,
    "start_time": "2023-12-14T09:25:03.660Z"
   },
   {
    "duration": 7,
    "start_time": "2023-12-14T09:25:03.711Z"
   },
   {
    "duration": 25,
    "start_time": "2023-12-14T09:25:03.719Z"
   },
   {
    "duration": 18,
    "start_time": "2023-12-14T09:25:03.746Z"
   },
   {
    "duration": 53,
    "start_time": "2023-12-14T09:25:03.765Z"
   },
   {
    "duration": 405,
    "start_time": "2023-12-14T09:25:03.820Z"
   },
   {
    "duration": 399,
    "start_time": "2023-12-14T09:25:04.227Z"
   },
   {
    "duration": 6,
    "start_time": "2023-12-14T09:25:04.628Z"
   },
   {
    "duration": 10,
    "start_time": "2023-12-14T09:25:04.636Z"
   },
   {
    "duration": 20,
    "start_time": "2023-12-14T09:25:04.648Z"
   },
   {
    "duration": 5,
    "start_time": "2023-12-14T09:25:04.670Z"
   },
   {
    "duration": 9,
    "start_time": "2023-12-14T09:25:04.676Z"
   },
   {
    "duration": 391,
    "start_time": "2023-12-14T09:25:04.686Z"
   },
   {
    "duration": 391,
    "start_time": "2023-12-14T09:25:05.079Z"
   },
   {
    "duration": 5,
    "start_time": "2023-12-14T09:25:05.471Z"
   },
   {
    "duration": 44,
    "start_time": "2023-12-14T09:25:05.478Z"
   },
   {
    "duration": 21,
    "start_time": "2023-12-14T09:25:05.523Z"
   },
   {
    "duration": 31,
    "start_time": "2023-12-14T09:25:05.546Z"
   },
   {
    "duration": 11,
    "start_time": "2023-12-14T09:45:40.034Z"
   },
   {
    "duration": 14,
    "start_time": "2023-12-14T09:47:17.760Z"
   },
   {
    "duration": 10,
    "start_time": "2023-12-14T09:47:35.928Z"
   },
   {
    "duration": 1292,
    "start_time": "2023-12-14T10:08:45.884Z"
   },
   {
    "duration": 121,
    "start_time": "2023-12-14T10:08:47.178Z"
   },
   {
    "duration": 379,
    "start_time": "2023-12-14T10:08:47.300Z"
   },
   {
    "duration": 10,
    "start_time": "2023-12-14T10:08:47.682Z"
   },
   {
    "duration": 22,
    "start_time": "2023-12-14T10:08:47.694Z"
   },
   {
    "duration": 3,
    "start_time": "2023-12-14T10:08:47.718Z"
   },
   {
    "duration": 25,
    "start_time": "2023-12-14T10:08:47.723Z"
   },
   {
    "duration": 31,
    "start_time": "2023-12-14T10:08:47.749Z"
   },
   {
    "duration": 61,
    "start_time": "2023-12-14T10:08:47.781Z"
   },
   {
    "duration": 17,
    "start_time": "2023-12-14T10:08:47.845Z"
   },
   {
    "duration": 45,
    "start_time": "2023-12-14T10:08:47.863Z"
   },
   {
    "duration": 62,
    "start_time": "2023-12-14T10:08:47.910Z"
   },
   {
    "duration": 9,
    "start_time": "2023-12-14T10:08:47.974Z"
   },
   {
    "duration": 17,
    "start_time": "2023-12-14T10:08:47.985Z"
   },
   {
    "duration": 19,
    "start_time": "2023-12-14T10:08:48.004Z"
   },
   {
    "duration": 91,
    "start_time": "2023-12-14T10:08:48.024Z"
   },
   {
    "duration": 0,
    "start_time": "2023-12-14T10:08:48.117Z"
   },
   {
    "duration": 0,
    "start_time": "2023-12-14T10:08:48.118Z"
   },
   {
    "duration": 0,
    "start_time": "2023-12-14T10:08:48.119Z"
   },
   {
    "duration": 0,
    "start_time": "2023-12-14T10:08:48.121Z"
   },
   {
    "duration": 0,
    "start_time": "2023-12-14T10:08:48.122Z"
   },
   {
    "duration": 0,
    "start_time": "2023-12-14T10:08:48.123Z"
   },
   {
    "duration": 0,
    "start_time": "2023-12-14T10:08:48.124Z"
   },
   {
    "duration": 0,
    "start_time": "2023-12-14T10:08:48.124Z"
   },
   {
    "duration": 0,
    "start_time": "2023-12-14T10:08:48.125Z"
   },
   {
    "duration": 0,
    "start_time": "2023-12-14T10:08:48.126Z"
   },
   {
    "duration": 0,
    "start_time": "2023-12-14T10:08:48.127Z"
   },
   {
    "duration": 0,
    "start_time": "2023-12-14T10:08:48.129Z"
   },
   {
    "duration": 0,
    "start_time": "2023-12-14T10:08:48.130Z"
   },
   {
    "duration": 0,
    "start_time": "2023-12-14T10:08:48.131Z"
   },
   {
    "duration": 0,
    "start_time": "2023-12-14T10:08:48.131Z"
   },
   {
    "duration": 0,
    "start_time": "2023-12-14T10:08:48.132Z"
   },
   {
    "duration": 0,
    "start_time": "2023-12-14T10:08:48.133Z"
   },
   {
    "duration": 0,
    "start_time": "2023-12-14T10:08:48.134Z"
   },
   {
    "duration": 0,
    "start_time": "2023-12-14T10:08:48.135Z"
   },
   {
    "duration": 0,
    "start_time": "2023-12-14T10:08:48.136Z"
   },
   {
    "duration": 0,
    "start_time": "2023-12-14T10:08:48.137Z"
   },
   {
    "duration": 0,
    "start_time": "2023-12-14T10:08:48.138Z"
   },
   {
    "duration": 0,
    "start_time": "2023-12-14T10:08:48.139Z"
   },
   {
    "duration": 0,
    "start_time": "2023-12-14T10:08:48.139Z"
   },
   {
    "duration": 0,
    "start_time": "2023-12-14T10:08:48.141Z"
   },
   {
    "duration": 0,
    "start_time": "2023-12-14T10:08:48.142Z"
   },
   {
    "duration": 0,
    "start_time": "2023-12-14T10:08:48.143Z"
   },
   {
    "duration": 0,
    "start_time": "2023-12-14T10:08:48.144Z"
   },
   {
    "duration": 0,
    "start_time": "2023-12-14T10:08:48.145Z"
   },
   {
    "duration": 0,
    "start_time": "2023-12-14T10:08:48.145Z"
   },
   {
    "duration": 0,
    "start_time": "2023-12-14T10:08:48.146Z"
   },
   {
    "duration": 0,
    "start_time": "2023-12-14T10:08:48.147Z"
   },
   {
    "duration": 0,
    "start_time": "2023-12-14T10:08:48.148Z"
   },
   {
    "duration": 0,
    "start_time": "2023-12-14T10:08:48.149Z"
   },
   {
    "duration": 0,
    "start_time": "2023-12-14T10:08:48.150Z"
   },
   {
    "duration": 0,
    "start_time": "2023-12-14T10:08:48.151Z"
   },
   {
    "duration": 0,
    "start_time": "2023-12-14T10:08:48.152Z"
   },
   {
    "duration": 0,
    "start_time": "2023-12-14T10:08:48.153Z"
   },
   {
    "duration": 0,
    "start_time": "2023-12-14T10:08:48.154Z"
   },
   {
    "duration": 0,
    "start_time": "2023-12-14T10:08:48.155Z"
   },
   {
    "duration": 0,
    "start_time": "2023-12-14T10:08:48.155Z"
   },
   {
    "duration": 0,
    "start_time": "2023-12-14T10:08:48.157Z"
   },
   {
    "duration": 0,
    "start_time": "2023-12-14T10:08:48.158Z"
   },
   {
    "duration": 0,
    "start_time": "2023-12-14T10:08:48.159Z"
   },
   {
    "duration": 0,
    "start_time": "2023-12-14T10:08:48.160Z"
   },
   {
    "duration": 0,
    "start_time": "2023-12-14T10:08:48.160Z"
   },
   {
    "duration": 0,
    "start_time": "2023-12-14T10:08:48.161Z"
   },
   {
    "duration": 0,
    "start_time": "2023-12-14T10:08:48.162Z"
   },
   {
    "duration": 0,
    "start_time": "2023-12-14T10:08:48.163Z"
   },
   {
    "duration": 0,
    "start_time": "2023-12-14T10:08:48.164Z"
   },
   {
    "duration": 0,
    "start_time": "2023-12-14T10:08:48.165Z"
   },
   {
    "duration": 0,
    "start_time": "2023-12-14T10:08:48.166Z"
   },
   {
    "duration": 0,
    "start_time": "2023-12-14T10:08:48.167Z"
   },
   {
    "duration": 0,
    "start_time": "2023-12-14T10:08:48.168Z"
   },
   {
    "duration": 0,
    "start_time": "2023-12-14T10:08:48.169Z"
   },
   {
    "duration": 0,
    "start_time": "2023-12-14T10:08:48.170Z"
   },
   {
    "duration": 0,
    "start_time": "2023-12-14T10:08:48.171Z"
   },
   {
    "duration": 0,
    "start_time": "2023-12-14T10:08:48.172Z"
   },
   {
    "duration": 0,
    "start_time": "2023-12-14T10:08:48.172Z"
   },
   {
    "duration": 0,
    "start_time": "2023-12-14T10:08:48.173Z"
   },
   {
    "duration": 1171,
    "start_time": "2023-12-14T10:09:09.225Z"
   },
   {
    "duration": 38,
    "start_time": "2023-12-14T10:09:10.398Z"
   },
   {
    "duration": 94,
    "start_time": "2023-12-14T10:09:10.437Z"
   },
   {
    "duration": 10,
    "start_time": "2023-12-14T10:09:10.532Z"
   },
   {
    "duration": 32,
    "start_time": "2023-12-14T10:09:10.543Z"
   },
   {
    "duration": 4,
    "start_time": "2023-12-14T10:09:10.576Z"
   },
   {
    "duration": 18,
    "start_time": "2023-12-14T10:09:10.581Z"
   },
   {
    "duration": 22,
    "start_time": "2023-12-14T10:09:10.600Z"
   },
   {
    "duration": 67,
    "start_time": "2023-12-14T10:09:10.624Z"
   },
   {
    "duration": 19,
    "start_time": "2023-12-14T10:09:10.693Z"
   },
   {
    "duration": 15,
    "start_time": "2023-12-14T10:09:10.713Z"
   },
   {
    "duration": 48,
    "start_time": "2023-12-14T10:09:10.729Z"
   },
   {
    "duration": 11,
    "start_time": "2023-12-14T10:09:10.778Z"
   },
   {
    "duration": 32,
    "start_time": "2023-12-14T10:09:10.791Z"
   },
   {
    "duration": 18,
    "start_time": "2023-12-14T10:09:10.825Z"
   },
   {
    "duration": 139,
    "start_time": "2023-12-14T10:09:10.845Z"
   },
   {
    "duration": 0,
    "start_time": "2023-12-14T10:09:10.986Z"
   },
   {
    "duration": 0,
    "start_time": "2023-12-14T10:09:10.987Z"
   },
   {
    "duration": 0,
    "start_time": "2023-12-14T10:09:10.988Z"
   },
   {
    "duration": 0,
    "start_time": "2023-12-14T10:09:10.989Z"
   },
   {
    "duration": 0,
    "start_time": "2023-12-14T10:09:10.991Z"
   },
   {
    "duration": 0,
    "start_time": "2023-12-14T10:09:10.991Z"
   },
   {
    "duration": 0,
    "start_time": "2023-12-14T10:09:10.992Z"
   },
   {
    "duration": 1,
    "start_time": "2023-12-14T10:09:10.993Z"
   },
   {
    "duration": 1,
    "start_time": "2023-12-14T10:09:10.994Z"
   },
   {
    "duration": 0,
    "start_time": "2023-12-14T10:09:10.996Z"
   },
   {
    "duration": 0,
    "start_time": "2023-12-14T10:09:10.996Z"
   },
   {
    "duration": 0,
    "start_time": "2023-12-14T10:09:10.997Z"
   },
   {
    "duration": 0,
    "start_time": "2023-12-14T10:09:10.998Z"
   },
   {
    "duration": 0,
    "start_time": "2023-12-14T10:09:10.999Z"
   },
   {
    "duration": 0,
    "start_time": "2023-12-14T10:09:11.000Z"
   },
   {
    "duration": 0,
    "start_time": "2023-12-14T10:09:11.002Z"
   },
   {
    "duration": 0,
    "start_time": "2023-12-14T10:09:11.002Z"
   },
   {
    "duration": 1,
    "start_time": "2023-12-14T10:09:11.003Z"
   },
   {
    "duration": 0,
    "start_time": "2023-12-14T10:09:11.004Z"
   },
   {
    "duration": 0,
    "start_time": "2023-12-14T10:09:11.005Z"
   },
   {
    "duration": 0,
    "start_time": "2023-12-14T10:09:11.006Z"
   },
   {
    "duration": 0,
    "start_time": "2023-12-14T10:09:11.007Z"
   },
   {
    "duration": 0,
    "start_time": "2023-12-14T10:09:11.009Z"
   },
   {
    "duration": 0,
    "start_time": "2023-12-14T10:09:11.010Z"
   },
   {
    "duration": 0,
    "start_time": "2023-12-14T10:09:11.010Z"
   },
   {
    "duration": 0,
    "start_time": "2023-12-14T10:09:11.011Z"
   },
   {
    "duration": 0,
    "start_time": "2023-12-14T10:09:11.013Z"
   },
   {
    "duration": 0,
    "start_time": "2023-12-14T10:09:11.014Z"
   },
   {
    "duration": 0,
    "start_time": "2023-12-14T10:09:11.015Z"
   },
   {
    "duration": 0,
    "start_time": "2023-12-14T10:09:11.016Z"
   },
   {
    "duration": 0,
    "start_time": "2023-12-14T10:09:11.017Z"
   },
   {
    "duration": 0,
    "start_time": "2023-12-14T10:09:11.018Z"
   },
   {
    "duration": 0,
    "start_time": "2023-12-14T10:09:11.019Z"
   },
   {
    "duration": 0,
    "start_time": "2023-12-14T10:09:11.020Z"
   },
   {
    "duration": 0,
    "start_time": "2023-12-14T10:09:11.021Z"
   },
   {
    "duration": 0,
    "start_time": "2023-12-14T10:09:11.022Z"
   },
   {
    "duration": 0,
    "start_time": "2023-12-14T10:09:11.022Z"
   },
   {
    "duration": 0,
    "start_time": "2023-12-14T10:09:11.052Z"
   },
   {
    "duration": 0,
    "start_time": "2023-12-14T10:09:11.053Z"
   },
   {
    "duration": 0,
    "start_time": "2023-12-14T10:09:11.054Z"
   },
   {
    "duration": 0,
    "start_time": "2023-12-14T10:09:11.054Z"
   },
   {
    "duration": 0,
    "start_time": "2023-12-14T10:09:11.055Z"
   },
   {
    "duration": 0,
    "start_time": "2023-12-14T10:09:11.056Z"
   },
   {
    "duration": 0,
    "start_time": "2023-12-14T10:09:11.057Z"
   },
   {
    "duration": 0,
    "start_time": "2023-12-14T10:09:11.058Z"
   },
   {
    "duration": 0,
    "start_time": "2023-12-14T10:09:11.059Z"
   },
   {
    "duration": 0,
    "start_time": "2023-12-14T10:09:11.060Z"
   },
   {
    "duration": 0,
    "start_time": "2023-12-14T10:09:11.061Z"
   },
   {
    "duration": 1,
    "start_time": "2023-12-14T10:09:11.061Z"
   },
   {
    "duration": 0,
    "start_time": "2023-12-14T10:09:11.062Z"
   },
   {
    "duration": 0,
    "start_time": "2023-12-14T10:09:11.063Z"
   },
   {
    "duration": 0,
    "start_time": "2023-12-14T10:09:11.064Z"
   },
   {
    "duration": 0,
    "start_time": "2023-12-14T10:09:11.065Z"
   },
   {
    "duration": 0,
    "start_time": "2023-12-14T10:09:11.066Z"
   },
   {
    "duration": 0,
    "start_time": "2023-12-14T10:09:11.067Z"
   },
   {
    "duration": 0,
    "start_time": "2023-12-14T10:09:11.067Z"
   },
   {
    "duration": 0,
    "start_time": "2023-12-14T10:09:11.068Z"
   },
   {
    "duration": 0,
    "start_time": "2023-12-14T10:09:11.069Z"
   },
   {
    "duration": 0,
    "start_time": "2023-12-14T10:09:11.070Z"
   },
   {
    "duration": 0,
    "start_time": "2023-12-14T10:09:11.071Z"
   },
   {
    "duration": 1091,
    "start_time": "2023-12-14T10:09:49.409Z"
   },
   {
    "duration": 37,
    "start_time": "2023-12-14T10:09:50.501Z"
   },
   {
    "duration": 92,
    "start_time": "2023-12-14T10:09:50.540Z"
   },
   {
    "duration": 9,
    "start_time": "2023-12-14T10:09:50.633Z"
   },
   {
    "duration": 33,
    "start_time": "2023-12-14T10:09:50.643Z"
   },
   {
    "duration": 4,
    "start_time": "2023-12-14T10:09:50.677Z"
   },
   {
    "duration": 24,
    "start_time": "2023-12-14T10:09:50.683Z"
   },
   {
    "duration": 22,
    "start_time": "2023-12-14T10:09:50.709Z"
   },
   {
    "duration": 77,
    "start_time": "2023-12-14T10:09:50.733Z"
   },
   {
    "duration": 18,
    "start_time": "2023-12-14T10:09:50.813Z"
   },
   {
    "duration": 29,
    "start_time": "2023-12-14T10:09:50.833Z"
   },
   {
    "duration": 27,
    "start_time": "2023-12-14T10:09:50.864Z"
   },
   {
    "duration": 11,
    "start_time": "2023-12-14T10:09:50.892Z"
   },
   {
    "duration": 16,
    "start_time": "2023-12-14T10:09:50.904Z"
   },
   {
    "duration": 31,
    "start_time": "2023-12-14T10:09:50.922Z"
   },
   {
    "duration": 3,
    "start_time": "2023-12-14T10:09:50.954Z"
   },
   {
    "duration": 56,
    "start_time": "2023-12-14T10:09:50.959Z"
   },
   {
    "duration": 13,
    "start_time": "2023-12-14T10:09:51.017Z"
   },
   {
    "duration": 55,
    "start_time": "2023-12-14T10:09:51.031Z"
   },
   {
    "duration": 21,
    "start_time": "2023-12-14T10:09:51.087Z"
   },
   {
    "duration": 4,
    "start_time": "2023-12-14T10:09:51.109Z"
   },
   {
    "duration": 396,
    "start_time": "2023-12-14T10:09:51.114Z"
   },
   {
    "duration": 20,
    "start_time": "2023-12-14T10:09:51.512Z"
   },
   {
    "duration": 74,
    "start_time": "2023-12-14T10:09:51.533Z"
   },
   {
    "duration": 62,
    "start_time": "2023-12-14T10:09:51.608Z"
   },
   {
    "duration": 63,
    "start_time": "2023-12-14T10:09:51.671Z"
   },
   {
    "duration": 25,
    "start_time": "2023-12-14T10:09:51.735Z"
   },
   {
    "duration": 5,
    "start_time": "2023-12-14T10:09:51.764Z"
   },
   {
    "duration": 760,
    "start_time": "2023-12-14T10:09:51.770Z"
   },
   {
    "duration": 27,
    "start_time": "2023-12-14T10:09:52.531Z"
   },
   {
    "duration": 3,
    "start_time": "2023-12-14T10:09:52.560Z"
   },
   {
    "duration": 29,
    "start_time": "2023-12-14T10:09:52.564Z"
   },
   {
    "duration": 21,
    "start_time": "2023-12-14T10:09:52.594Z"
   },
   {
    "duration": 7,
    "start_time": "2023-12-14T10:09:52.616Z"
   },
   {
    "duration": 32,
    "start_time": "2023-12-14T10:09:52.624Z"
   },
   {
    "duration": 7,
    "start_time": "2023-12-14T10:09:52.658Z"
   },
   {
    "duration": 7,
    "start_time": "2023-12-14T10:09:52.666Z"
   },
   {
    "duration": 19,
    "start_time": "2023-12-14T10:09:52.675Z"
   },
   {
    "duration": 23,
    "start_time": "2023-12-14T10:09:52.695Z"
   },
   {
    "duration": 17,
    "start_time": "2023-12-14T10:09:52.720Z"
   },
   {
    "duration": 28,
    "start_time": "2023-12-14T10:09:52.738Z"
   },
   {
    "duration": 614,
    "start_time": "2023-12-14T10:09:52.768Z"
   },
   {
    "duration": 22,
    "start_time": "2023-12-14T10:09:53.383Z"
   },
   {
    "duration": 17,
    "start_time": "2023-12-14T10:09:53.406Z"
   },
   {
    "duration": 103,
    "start_time": "2023-12-14T10:09:53.425Z"
   },
   {
    "duration": 24,
    "start_time": "2023-12-14T10:09:53.529Z"
   },
   {
    "duration": 45,
    "start_time": "2023-12-14T10:09:53.554Z"
   },
   {
    "duration": 11,
    "start_time": "2023-12-14T10:09:53.600Z"
   },
   {
    "duration": 21,
    "start_time": "2023-12-14T10:09:53.613Z"
   },
   {
    "duration": 33,
    "start_time": "2023-12-14T10:09:53.636Z"
   },
   {
    "duration": 51,
    "start_time": "2023-12-14T10:09:53.671Z"
   },
   {
    "duration": 3,
    "start_time": "2023-12-14T10:09:53.724Z"
   },
   {
    "duration": 31,
    "start_time": "2023-12-14T10:09:53.729Z"
   },
   {
    "duration": 130,
    "start_time": "2023-12-14T10:09:53.762Z"
   },
   {
    "duration": 4,
    "start_time": "2023-12-14T10:09:53.894Z"
   },
   {
    "duration": 10,
    "start_time": "2023-12-14T10:09:53.899Z"
   },
   {
    "duration": 14,
    "start_time": "2023-12-14T10:09:53.910Z"
   },
   {
    "duration": 14,
    "start_time": "2023-12-14T10:09:53.925Z"
   },
   {
    "duration": 30,
    "start_time": "2023-12-14T10:09:53.941Z"
   },
   {
    "duration": 31,
    "start_time": "2023-12-14T10:09:53.972Z"
   },
   {
    "duration": 22,
    "start_time": "2023-12-14T10:09:54.004Z"
   },
   {
    "duration": 18,
    "start_time": "2023-12-14T10:09:54.027Z"
   },
   {
    "duration": 55,
    "start_time": "2023-12-14T10:09:54.046Z"
   },
   {
    "duration": 419,
    "start_time": "2023-12-14T10:09:54.102Z"
   },
   {
    "duration": 376,
    "start_time": "2023-12-14T10:09:54.522Z"
   },
   {
    "duration": 6,
    "start_time": "2023-12-14T10:09:54.900Z"
   },
   {
    "duration": 33,
    "start_time": "2023-12-14T10:09:54.907Z"
   },
   {
    "duration": 28,
    "start_time": "2023-12-14T10:09:54.941Z"
   },
   {
    "duration": 27,
    "start_time": "2023-12-14T10:09:54.971Z"
   },
   {
    "duration": 34,
    "start_time": "2023-12-14T10:09:54.999Z"
   },
   {
    "duration": 410,
    "start_time": "2023-12-14T10:09:55.035Z"
   },
   {
    "duration": 404,
    "start_time": "2023-12-14T10:09:55.446Z"
   },
   {
    "duration": 5,
    "start_time": "2023-12-14T10:09:55.851Z"
   },
   {
    "duration": 13,
    "start_time": "2023-12-14T10:09:55.858Z"
   },
   {
    "duration": 54,
    "start_time": "2023-12-14T10:09:55.873Z"
   },
   {
    "duration": 55,
    "start_time": "2023-12-14T10:09:55.928Z"
   },
   {
    "duration": 1151,
    "start_time": "2023-12-14T10:10:41.632Z"
   },
   {
    "duration": 38,
    "start_time": "2023-12-14T10:10:42.785Z"
   },
   {
    "duration": 93,
    "start_time": "2023-12-14T10:10:42.824Z"
   },
   {
    "duration": 9,
    "start_time": "2023-12-14T10:10:42.918Z"
   },
   {
    "duration": 24,
    "start_time": "2023-12-14T10:10:42.928Z"
   },
   {
    "duration": 3,
    "start_time": "2023-12-14T10:10:42.953Z"
   },
   {
    "duration": 15,
    "start_time": "2023-12-14T10:10:42.957Z"
   },
   {
    "duration": 21,
    "start_time": "2023-12-14T10:10:42.973Z"
   },
   {
    "duration": 74,
    "start_time": "2023-12-14T10:10:42.995Z"
   },
   {
    "duration": 19,
    "start_time": "2023-12-14T10:10:43.072Z"
   },
   {
    "duration": 15,
    "start_time": "2023-12-14T10:10:43.093Z"
   },
   {
    "duration": 55,
    "start_time": "2023-12-14T10:10:43.110Z"
   },
   {
    "duration": 10,
    "start_time": "2023-12-14T10:10:43.167Z"
   },
   {
    "duration": 23,
    "start_time": "2023-12-14T10:10:43.179Z"
   },
   {
    "duration": 34,
    "start_time": "2023-12-14T10:10:43.204Z"
   },
   {
    "duration": 5,
    "start_time": "2023-12-14T10:10:43.240Z"
   },
   {
    "duration": 45,
    "start_time": "2023-12-14T10:10:43.246Z"
   },
   {
    "duration": 10,
    "start_time": "2023-12-14T10:10:43.293Z"
   },
   {
    "duration": 55,
    "start_time": "2023-12-14T10:10:43.304Z"
   },
   {
    "duration": 22,
    "start_time": "2023-12-14T10:10:43.360Z"
   },
   {
    "duration": 3,
    "start_time": "2023-12-14T10:10:43.384Z"
   },
   {
    "duration": 374,
    "start_time": "2023-12-14T10:10:43.389Z"
   },
   {
    "duration": 21,
    "start_time": "2023-12-14T10:10:43.764Z"
   },
   {
    "duration": 99,
    "start_time": "2023-12-14T10:10:43.786Z"
   },
   {
    "duration": 66,
    "start_time": "2023-12-14T10:10:43.887Z"
   },
   {
    "duration": 65,
    "start_time": "2023-12-14T10:10:43.954Z"
   },
   {
    "duration": 33,
    "start_time": "2023-12-14T10:10:44.021Z"
   },
   {
    "duration": 3,
    "start_time": "2023-12-14T10:10:44.059Z"
   },
   {
    "duration": 733,
    "start_time": "2023-12-14T10:10:44.064Z"
   },
   {
    "duration": 23,
    "start_time": "2023-12-14T10:10:44.799Z"
   },
   {
    "duration": 3,
    "start_time": "2023-12-14T10:10:44.824Z"
   },
   {
    "duration": 25,
    "start_time": "2023-12-14T10:10:44.828Z"
   },
   {
    "duration": 28,
    "start_time": "2023-12-14T10:10:44.855Z"
   },
   {
    "duration": 6,
    "start_time": "2023-12-14T10:10:44.885Z"
   },
   {
    "duration": 37,
    "start_time": "2023-12-14T10:10:44.892Z"
   },
   {
    "duration": 7,
    "start_time": "2023-12-14T10:10:44.930Z"
   },
   {
    "duration": 3,
    "start_time": "2023-12-14T10:10:44.939Z"
   },
   {
    "duration": 13,
    "start_time": "2023-12-14T10:10:44.943Z"
   },
   {
    "duration": 6,
    "start_time": "2023-12-14T10:10:44.957Z"
   },
   {
    "duration": 14,
    "start_time": "2023-12-14T10:10:44.964Z"
   },
   {
    "duration": 13,
    "start_time": "2023-12-14T10:10:44.980Z"
   },
   {
    "duration": 607,
    "start_time": "2023-12-14T10:10:44.995Z"
   },
   {
    "duration": 22,
    "start_time": "2023-12-14T10:10:45.604Z"
   },
   {
    "duration": 27,
    "start_time": "2023-12-14T10:10:45.627Z"
   },
   {
    "duration": 85,
    "start_time": "2023-12-14T10:10:45.655Z"
   },
   {
    "duration": 15,
    "start_time": "2023-12-14T10:10:45.751Z"
   },
   {
    "duration": 44,
    "start_time": "2023-12-14T10:10:45.768Z"
   },
   {
    "duration": 10,
    "start_time": "2023-12-14T10:10:45.814Z"
   },
   {
    "duration": 28,
    "start_time": "2023-12-14T10:10:45.825Z"
   },
   {
    "duration": 13,
    "start_time": "2023-12-14T10:10:45.854Z"
   },
   {
    "duration": 37,
    "start_time": "2023-12-14T10:10:45.868Z"
   },
   {
    "duration": 4,
    "start_time": "2023-12-14T10:10:45.906Z"
   },
   {
    "duration": 47,
    "start_time": "2023-12-14T10:10:45.911Z"
   },
   {
    "duration": 109,
    "start_time": "2023-12-14T10:10:45.959Z"
   },
   {
    "duration": 3,
    "start_time": "2023-12-14T10:10:46.070Z"
   },
   {
    "duration": 11,
    "start_time": "2023-12-14T10:10:46.075Z"
   },
   {
    "duration": 12,
    "start_time": "2023-12-14T10:10:46.087Z"
   },
   {
    "duration": 16,
    "start_time": "2023-12-14T10:10:46.100Z"
   },
   {
    "duration": 37,
    "start_time": "2023-12-14T10:10:46.118Z"
   },
   {
    "duration": 5,
    "start_time": "2023-12-14T10:10:46.157Z"
   },
   {
    "duration": 10,
    "start_time": "2023-12-14T10:10:46.164Z"
   },
   {
    "duration": 17,
    "start_time": "2023-12-14T10:10:46.175Z"
   },
   {
    "duration": 56,
    "start_time": "2023-12-14T10:10:46.193Z"
   },
   {
    "duration": 401,
    "start_time": "2023-12-14T10:10:46.251Z"
   },
   {
    "duration": 383,
    "start_time": "2023-12-14T10:10:46.654Z"
   },
   {
    "duration": 7,
    "start_time": "2023-12-14T10:10:47.038Z"
   },
   {
    "duration": 12,
    "start_time": "2023-12-14T10:10:47.046Z"
   },
   {
    "duration": 15,
    "start_time": "2023-12-14T10:10:47.059Z"
   },
   {
    "duration": 4,
    "start_time": "2023-12-14T10:10:47.076Z"
   },
   {
    "duration": 13,
    "start_time": "2023-12-14T10:10:47.081Z"
   },
   {
    "duration": 364,
    "start_time": "2023-12-14T10:10:47.095Z"
   },
   {
    "duration": 376,
    "start_time": "2023-12-14T10:10:47.460Z"
   },
   {
    "duration": 6,
    "start_time": "2023-12-14T10:10:47.838Z"
   },
   {
    "duration": 30,
    "start_time": "2023-12-14T10:10:47.845Z"
   },
   {
    "duration": 7,
    "start_time": "2023-12-14T10:10:47.876Z"
   },
   {
    "duration": 18,
    "start_time": "2023-12-14T10:10:47.884Z"
   },
   {
    "duration": 1149,
    "start_time": "2023-12-14T10:11:28.620Z"
   },
   {
    "duration": 36,
    "start_time": "2023-12-14T10:11:29.771Z"
   },
   {
    "duration": 92,
    "start_time": "2023-12-14T10:11:29.809Z"
   },
   {
    "duration": 8,
    "start_time": "2023-12-14T10:11:29.903Z"
   },
   {
    "duration": 23,
    "start_time": "2023-12-14T10:11:29.912Z"
   },
   {
    "duration": 26,
    "start_time": "2023-12-14T10:11:29.937Z"
   },
   {
    "duration": 22,
    "start_time": "2023-12-14T10:11:29.964Z"
   },
   {
    "duration": 19,
    "start_time": "2023-12-14T10:11:29.987Z"
   },
   {
    "duration": 63,
    "start_time": "2023-12-14T10:11:30.007Z"
   },
   {
    "duration": 31,
    "start_time": "2023-12-14T10:11:30.073Z"
   },
   {
    "duration": 22,
    "start_time": "2023-12-14T10:11:30.106Z"
   },
   {
    "duration": 56,
    "start_time": "2023-12-14T10:11:30.130Z"
   },
   {
    "duration": 10,
    "start_time": "2023-12-14T10:11:30.187Z"
   },
   {
    "duration": 35,
    "start_time": "2023-12-14T10:11:30.198Z"
   },
   {
    "duration": 54,
    "start_time": "2023-12-14T10:11:30.234Z"
   },
   {
    "duration": 53,
    "start_time": "2023-12-14T10:11:30.289Z"
   },
   {
    "duration": 72,
    "start_time": "2023-12-14T10:11:30.343Z"
   },
   {
    "duration": 10,
    "start_time": "2023-12-14T10:11:30.416Z"
   },
   {
    "duration": 95,
    "start_time": "2023-12-14T10:11:30.427Z"
   },
   {
    "duration": 44,
    "start_time": "2023-12-14T10:11:30.524Z"
   },
   {
    "duration": 19,
    "start_time": "2023-12-14T10:11:30.569Z"
   },
   {
    "duration": 424,
    "start_time": "2023-12-14T10:11:30.589Z"
   },
   {
    "duration": 21,
    "start_time": "2023-12-14T10:11:31.014Z"
   },
   {
    "duration": 104,
    "start_time": "2023-12-14T10:11:31.052Z"
   },
   {
    "duration": 23,
    "start_time": "2023-12-14T10:11:31.157Z"
   },
   {
    "duration": 86,
    "start_time": "2023-12-14T10:11:31.181Z"
   },
   {
    "duration": 13,
    "start_time": "2023-12-14T10:11:31.269Z"
   },
   {
    "duration": 31,
    "start_time": "2023-12-14T10:11:31.285Z"
   },
   {
    "duration": 780,
    "start_time": "2023-12-14T10:11:31.317Z"
   },
   {
    "duration": 23,
    "start_time": "2023-12-14T10:11:32.098Z"
   },
   {
    "duration": 3,
    "start_time": "2023-12-14T10:11:32.122Z"
   },
   {
    "duration": 25,
    "start_time": "2023-12-14T10:11:32.127Z"
   },
   {
    "duration": 24,
    "start_time": "2023-12-14T10:11:32.153Z"
   },
   {
    "duration": 13,
    "start_time": "2023-12-14T10:11:32.178Z"
   },
   {
    "duration": 39,
    "start_time": "2023-12-14T10:11:32.193Z"
   },
   {
    "duration": 7,
    "start_time": "2023-12-14T10:11:32.233Z"
   },
   {
    "duration": 9,
    "start_time": "2023-12-14T10:11:32.241Z"
   },
   {
    "duration": 15,
    "start_time": "2023-12-14T10:11:32.251Z"
   },
   {
    "duration": 12,
    "start_time": "2023-12-14T10:11:32.267Z"
   },
   {
    "duration": 15,
    "start_time": "2023-12-14T10:11:32.280Z"
   },
   {
    "duration": 9,
    "start_time": "2023-12-14T10:11:32.296Z"
   },
   {
    "duration": 596,
    "start_time": "2023-12-14T10:11:32.306Z"
   },
   {
    "duration": 21,
    "start_time": "2023-12-14T10:11:32.904Z"
   },
   {
    "duration": 79,
    "start_time": "2023-12-14T10:11:32.926Z"
   },
   {
    "duration": 157,
    "start_time": "2023-12-14T10:11:33.006Z"
   },
   {
    "duration": 14,
    "start_time": "2023-12-14T10:11:33.164Z"
   },
   {
    "duration": 161,
    "start_time": "2023-12-14T10:11:33.179Z"
   },
   {
    "duration": 9,
    "start_time": "2023-12-14T10:11:33.341Z"
   },
   {
    "duration": 6,
    "start_time": "2023-12-14T10:11:33.351Z"
   },
   {
    "duration": 20,
    "start_time": "2023-12-14T10:11:33.359Z"
   },
   {
    "duration": 39,
    "start_time": "2023-12-14T10:11:33.380Z"
   },
   {
    "duration": 3,
    "start_time": "2023-12-14T10:11:33.420Z"
   },
   {
    "duration": 44,
    "start_time": "2023-12-14T10:11:33.424Z"
   },
   {
    "duration": 102,
    "start_time": "2023-12-14T10:11:33.469Z"
   },
   {
    "duration": 3,
    "start_time": "2023-12-14T10:11:33.572Z"
   },
   {
    "duration": 16,
    "start_time": "2023-12-14T10:11:33.577Z"
   },
   {
    "duration": 8,
    "start_time": "2023-12-14T10:11:33.594Z"
   },
   {
    "duration": 13,
    "start_time": "2023-12-14T10:11:33.603Z"
   },
   {
    "duration": 34,
    "start_time": "2023-12-14T10:11:33.618Z"
   },
   {
    "duration": 5,
    "start_time": "2023-12-14T10:11:33.654Z"
   },
   {
    "duration": 10,
    "start_time": "2023-12-14T10:11:33.660Z"
   },
   {
    "duration": 4,
    "start_time": "2023-12-14T10:11:33.672Z"
   },
   {
    "duration": 46,
    "start_time": "2023-12-14T10:11:33.677Z"
   },
   {
    "duration": 404,
    "start_time": "2023-12-14T10:11:33.725Z"
   },
   {
    "duration": 377,
    "start_time": "2023-12-14T10:11:34.131Z"
   },
   {
    "duration": 7,
    "start_time": "2023-12-14T10:11:34.509Z"
   },
   {
    "duration": 17,
    "start_time": "2023-12-14T10:11:34.517Z"
   },
   {
    "duration": 25,
    "start_time": "2023-12-14T10:11:34.535Z"
   },
   {
    "duration": 13,
    "start_time": "2023-12-14T10:11:34.561Z"
   },
   {
    "duration": 7,
    "start_time": "2023-12-14T10:11:34.575Z"
   },
   {
    "duration": 348,
    "start_time": "2023-12-14T10:11:34.583Z"
   },
   {
    "duration": 406,
    "start_time": "2023-12-14T10:11:34.933Z"
   },
   {
    "duration": 5,
    "start_time": "2023-12-14T10:11:35.340Z"
   },
   {
    "duration": 8,
    "start_time": "2023-12-14T10:11:35.351Z"
   },
   {
    "duration": 10,
    "start_time": "2023-12-14T10:11:35.360Z"
   },
   {
    "duration": 6,
    "start_time": "2023-12-14T10:11:35.372Z"
   },
   {
    "duration": 1152,
    "start_time": "2023-12-14T10:12:44.228Z"
   },
   {
    "duration": 38,
    "start_time": "2023-12-14T10:12:45.381Z"
   },
   {
    "duration": 91,
    "start_time": "2023-12-14T10:12:45.420Z"
   },
   {
    "duration": 8,
    "start_time": "2023-12-14T10:12:45.513Z"
   },
   {
    "duration": 40,
    "start_time": "2023-12-14T10:12:45.523Z"
   },
   {
    "duration": 7,
    "start_time": "2023-12-14T10:12:45.565Z"
   },
   {
    "duration": 37,
    "start_time": "2023-12-14T10:12:45.573Z"
   },
   {
    "duration": 19,
    "start_time": "2023-12-14T10:12:45.611Z"
   },
   {
    "duration": 50,
    "start_time": "2023-12-14T10:12:45.631Z"
   },
   {
    "duration": 17,
    "start_time": "2023-12-14T10:12:45.683Z"
   },
   {
    "duration": 18,
    "start_time": "2023-12-14T10:12:45.701Z"
   },
   {
    "duration": 37,
    "start_time": "2023-12-14T10:12:45.721Z"
   },
   {
    "duration": 10,
    "start_time": "2023-12-14T10:12:45.759Z"
   },
   {
    "duration": 40,
    "start_time": "2023-12-14T10:12:45.770Z"
   },
   {
    "duration": 37,
    "start_time": "2023-12-14T10:12:45.811Z"
   },
   {
    "duration": 38,
    "start_time": "2023-12-14T10:12:45.849Z"
   },
   {
    "duration": 57,
    "start_time": "2023-12-14T10:12:45.889Z"
   },
   {
    "duration": 11,
    "start_time": "2023-12-14T10:12:45.948Z"
   },
   {
    "duration": 83,
    "start_time": "2023-12-14T10:12:45.960Z"
   },
   {
    "duration": 21,
    "start_time": "2023-12-14T10:12:46.044Z"
   },
   {
    "duration": 5,
    "start_time": "2023-12-14T10:12:46.067Z"
   },
   {
    "duration": 397,
    "start_time": "2023-12-14T10:12:46.074Z"
   },
   {
    "duration": 20,
    "start_time": "2023-12-14T10:12:46.473Z"
   },
   {
    "duration": 86,
    "start_time": "2023-12-14T10:12:46.495Z"
   },
   {
    "duration": 21,
    "start_time": "2023-12-14T10:12:46.583Z"
   },
   {
    "duration": 105,
    "start_time": "2023-12-14T10:12:46.605Z"
   },
   {
    "duration": 12,
    "start_time": "2023-12-14T10:12:46.712Z"
   },
   {
    "duration": 24,
    "start_time": "2023-12-14T10:12:46.728Z"
   },
   {
    "duration": 765,
    "start_time": "2023-12-14T10:12:46.753Z"
   },
   {
    "duration": 20,
    "start_time": "2023-12-14T10:12:47.520Z"
   },
   {
    "duration": 3,
    "start_time": "2023-12-14T10:12:47.552Z"
   },
   {
    "duration": 18,
    "start_time": "2023-12-14T10:12:47.556Z"
   },
   {
    "duration": 20,
    "start_time": "2023-12-14T10:12:47.575Z"
   },
   {
    "duration": 7,
    "start_time": "2023-12-14T10:12:47.596Z"
   },
   {
    "duration": 32,
    "start_time": "2023-12-14T10:12:47.604Z"
   },
   {
    "duration": 7,
    "start_time": "2023-12-14T10:12:47.637Z"
   },
   {
    "duration": 11,
    "start_time": "2023-12-14T10:12:47.645Z"
   },
   {
    "duration": 11,
    "start_time": "2023-12-14T10:12:47.658Z"
   },
   {
    "duration": 13,
    "start_time": "2023-12-14T10:12:47.670Z"
   },
   {
    "duration": 11,
    "start_time": "2023-12-14T10:12:47.684Z"
   },
   {
    "duration": 18,
    "start_time": "2023-12-14T10:12:47.697Z"
   },
   {
    "duration": 585,
    "start_time": "2023-12-14T10:12:47.717Z"
   },
   {
    "duration": 23,
    "start_time": "2023-12-14T10:12:48.304Z"
   },
   {
    "duration": 26,
    "start_time": "2023-12-14T10:12:48.329Z"
   },
   {
    "duration": 81,
    "start_time": "2023-12-14T10:12:48.357Z"
   },
   {
    "duration": 23,
    "start_time": "2023-12-14T10:12:48.439Z"
   },
   {
    "duration": 48,
    "start_time": "2023-12-14T10:12:48.464Z"
   },
   {
    "duration": 8,
    "start_time": "2023-12-14T10:12:48.513Z"
   },
   {
    "duration": 4,
    "start_time": "2023-12-14T10:12:48.522Z"
   },
   {
    "duration": 36,
    "start_time": "2023-12-14T10:12:48.527Z"
   },
   {
    "duration": 41,
    "start_time": "2023-12-14T10:12:48.565Z"
   },
   {
    "duration": 14,
    "start_time": "2023-12-14T10:12:48.608Z"
   },
   {
    "duration": 40,
    "start_time": "2023-12-14T10:12:48.623Z"
   },
   {
    "duration": 101,
    "start_time": "2023-12-14T10:12:48.664Z"
   },
   {
    "duration": 3,
    "start_time": "2023-12-14T10:12:48.766Z"
   },
   {
    "duration": 23,
    "start_time": "2023-12-14T10:12:48.771Z"
   },
   {
    "duration": 13,
    "start_time": "2023-12-14T10:12:48.795Z"
   },
   {
    "duration": 17,
    "start_time": "2023-12-14T10:12:48.809Z"
   },
   {
    "duration": 27,
    "start_time": "2023-12-14T10:12:48.827Z"
   },
   {
    "duration": 9,
    "start_time": "2023-12-14T10:12:48.856Z"
   },
   {
    "duration": 14,
    "start_time": "2023-12-14T10:12:48.867Z"
   },
   {
    "duration": 13,
    "start_time": "2023-12-14T10:12:48.883Z"
   },
   {
    "duration": 62,
    "start_time": "2023-12-14T10:12:48.897Z"
   },
   {
    "duration": 409,
    "start_time": "2023-12-14T10:12:48.960Z"
   },
   {
    "duration": 382,
    "start_time": "2023-12-14T10:12:49.370Z"
   },
   {
    "duration": 7,
    "start_time": "2023-12-14T10:12:49.753Z"
   },
   {
    "duration": 9,
    "start_time": "2023-12-14T10:12:49.761Z"
   },
   {
    "duration": 14,
    "start_time": "2023-12-14T10:12:49.772Z"
   },
   {
    "duration": 12,
    "start_time": "2023-12-14T10:12:49.788Z"
   },
   {
    "duration": 6,
    "start_time": "2023-12-14T10:12:49.802Z"
   },
   {
    "duration": 348,
    "start_time": "2023-12-14T10:12:49.810Z"
   },
   {
    "duration": 369,
    "start_time": "2023-12-14T10:12:50.159Z"
   },
   {
    "duration": 4,
    "start_time": "2023-12-14T10:12:50.530Z"
   },
   {
    "duration": 19,
    "start_time": "2023-12-14T10:12:50.535Z"
   },
   {
    "duration": 22,
    "start_time": "2023-12-14T10:12:50.555Z"
   },
   {
    "duration": 7,
    "start_time": "2023-12-14T10:12:50.578Z"
   },
   {
    "duration": 1131,
    "start_time": "2023-12-14T10:13:09.959Z"
   },
   {
    "duration": 36,
    "start_time": "2023-12-14T10:13:11.092Z"
   },
   {
    "duration": 93,
    "start_time": "2023-12-14T10:13:11.130Z"
   },
   {
    "duration": 10,
    "start_time": "2023-12-14T10:13:11.224Z"
   },
   {
    "duration": 28,
    "start_time": "2023-12-14T10:13:11.235Z"
   },
   {
    "duration": 10,
    "start_time": "2023-12-14T10:13:11.264Z"
   },
   {
    "duration": 16,
    "start_time": "2023-12-14T10:13:11.276Z"
   },
   {
    "duration": 19,
    "start_time": "2023-12-14T10:13:11.293Z"
   },
   {
    "duration": 65,
    "start_time": "2023-12-14T10:13:11.314Z"
   },
   {
    "duration": 19,
    "start_time": "2023-12-14T10:13:11.382Z"
   },
   {
    "duration": 24,
    "start_time": "2023-12-14T10:13:11.402Z"
   },
   {
    "duration": 37,
    "start_time": "2023-12-14T10:13:11.428Z"
   },
   {
    "duration": 10,
    "start_time": "2023-12-14T10:13:11.466Z"
   },
   {
    "duration": 12,
    "start_time": "2023-12-14T10:13:11.477Z"
   },
   {
    "duration": 17,
    "start_time": "2023-12-14T10:13:11.490Z"
   },
   {
    "duration": 3,
    "start_time": "2023-12-14T10:13:11.509Z"
   },
   {
    "duration": 50,
    "start_time": "2023-12-14T10:13:11.513Z"
   },
   {
    "duration": 10,
    "start_time": "2023-12-14T10:13:11.565Z"
   },
   {
    "duration": 51,
    "start_time": "2023-12-14T10:13:11.576Z"
   },
   {
    "duration": 40,
    "start_time": "2023-12-14T10:13:11.628Z"
   },
   {
    "duration": 4,
    "start_time": "2023-12-14T10:13:11.669Z"
   },
   {
    "duration": 381,
    "start_time": "2023-12-14T10:13:11.674Z"
   },
   {
    "duration": 22,
    "start_time": "2023-12-14T10:13:12.056Z"
   },
   {
    "duration": 106,
    "start_time": "2023-12-14T10:13:12.079Z"
   },
   {
    "duration": 66,
    "start_time": "2023-12-14T10:13:12.186Z"
   },
   {
    "duration": 65,
    "start_time": "2023-12-14T10:13:12.254Z"
   },
   {
    "duration": 32,
    "start_time": "2023-12-14T10:13:12.321Z"
   },
   {
    "duration": 4,
    "start_time": "2023-12-14T10:13:12.357Z"
   },
   {
    "duration": 722,
    "start_time": "2023-12-14T10:13:12.362Z"
   },
   {
    "duration": 21,
    "start_time": "2023-12-14T10:13:13.086Z"
   },
   {
    "duration": 3,
    "start_time": "2023-12-14T10:13:13.108Z"
   },
   {
    "duration": 14,
    "start_time": "2023-12-14T10:13:13.112Z"
   },
   {
    "duration": 37,
    "start_time": "2023-12-14T10:13:13.127Z"
   },
   {
    "duration": 13,
    "start_time": "2023-12-14T10:13:13.166Z"
   },
   {
    "duration": 35,
    "start_time": "2023-12-14T10:13:13.180Z"
   },
   {
    "duration": 37,
    "start_time": "2023-12-14T10:13:13.216Z"
   },
   {
    "duration": 15,
    "start_time": "2023-12-14T10:13:13.255Z"
   },
   {
    "duration": 14,
    "start_time": "2023-12-14T10:13:13.272Z"
   },
   {
    "duration": 4,
    "start_time": "2023-12-14T10:13:13.288Z"
   },
   {
    "duration": 6,
    "start_time": "2023-12-14T10:13:13.294Z"
   },
   {
    "duration": 8,
    "start_time": "2023-12-14T10:13:13.302Z"
   },
   {
    "duration": 595,
    "start_time": "2023-12-14T10:13:13.312Z"
   },
   {
    "duration": 21,
    "start_time": "2023-12-14T10:13:13.909Z"
   },
   {
    "duration": 23,
    "start_time": "2023-12-14T10:13:13.932Z"
   },
   {
    "duration": 101,
    "start_time": "2023-12-14T10:13:13.956Z"
   },
   {
    "duration": 18,
    "start_time": "2023-12-14T10:13:14.059Z"
   },
   {
    "duration": 50,
    "start_time": "2023-12-14T10:13:14.079Z"
   },
   {
    "duration": 26,
    "start_time": "2023-12-14T10:13:14.130Z"
   },
   {
    "duration": 10,
    "start_time": "2023-12-14T10:13:14.157Z"
   },
   {
    "duration": 13,
    "start_time": "2023-12-14T10:13:14.168Z"
   },
   {
    "duration": 45,
    "start_time": "2023-12-14T10:13:14.182Z"
   },
   {
    "duration": 3,
    "start_time": "2023-12-14T10:13:14.228Z"
   },
   {
    "duration": 29,
    "start_time": "2023-12-14T10:13:14.232Z"
   },
   {
    "duration": 144,
    "start_time": "2023-12-14T10:13:14.263Z"
   },
   {
    "duration": 3,
    "start_time": "2023-12-14T10:13:14.408Z"
   },
   {
    "duration": 8,
    "start_time": "2023-12-14T10:13:14.413Z"
   },
   {
    "duration": 40,
    "start_time": "2023-12-14T10:13:14.422Z"
   },
   {
    "duration": 27,
    "start_time": "2023-12-14T10:13:14.463Z"
   },
   {
    "duration": 40,
    "start_time": "2023-12-14T10:13:14.491Z"
   },
   {
    "duration": 7,
    "start_time": "2023-12-14T10:13:14.533Z"
   },
   {
    "duration": 13,
    "start_time": "2023-12-14T10:13:14.541Z"
   },
   {
    "duration": 3,
    "start_time": "2023-12-14T10:13:14.556Z"
   },
   {
    "duration": 52,
    "start_time": "2023-12-14T10:13:14.561Z"
   },
   {
    "duration": 411,
    "start_time": "2023-12-14T10:13:14.614Z"
   },
   {
    "duration": 408,
    "start_time": "2023-12-14T10:13:15.027Z"
   },
   {
    "duration": 18,
    "start_time": "2023-12-14T10:13:15.437Z"
   },
   {
    "duration": 9,
    "start_time": "2023-12-14T10:13:15.457Z"
   },
   {
    "duration": 40,
    "start_time": "2023-12-14T10:13:15.468Z"
   },
   {
    "duration": 11,
    "start_time": "2023-12-14T10:13:15.509Z"
   },
   {
    "duration": 35,
    "start_time": "2023-12-14T10:13:15.521Z"
   },
   {
    "duration": 380,
    "start_time": "2023-12-14T10:13:15.558Z"
   },
   {
    "duration": 371,
    "start_time": "2023-12-14T10:13:15.939Z"
   },
   {
    "duration": 5,
    "start_time": "2023-12-14T10:13:16.311Z"
   },
   {
    "duration": 12,
    "start_time": "2023-12-14T10:13:16.317Z"
   },
   {
    "duration": 14,
    "start_time": "2023-12-14T10:13:16.331Z"
   },
   {
    "duration": 6,
    "start_time": "2023-12-14T10:13:16.351Z"
   },
   {
    "duration": 1160,
    "start_time": "2023-12-14T10:13:30.820Z"
   },
   {
    "duration": 36,
    "start_time": "2023-12-14T10:13:31.982Z"
   },
   {
    "duration": 98,
    "start_time": "2023-12-14T10:13:32.020Z"
   },
   {
    "duration": 10,
    "start_time": "2023-12-14T10:13:32.119Z"
   },
   {
    "duration": 31,
    "start_time": "2023-12-14T10:13:32.130Z"
   },
   {
    "duration": 21,
    "start_time": "2023-12-14T10:13:32.162Z"
   },
   {
    "duration": 19,
    "start_time": "2023-12-14T10:13:32.185Z"
   },
   {
    "duration": 20,
    "start_time": "2023-12-14T10:13:32.206Z"
   },
   {
    "duration": 53,
    "start_time": "2023-12-14T10:13:32.227Z"
   },
   {
    "duration": 17,
    "start_time": "2023-12-14T10:13:32.281Z"
   },
   {
    "duration": 34,
    "start_time": "2023-12-14T10:13:32.299Z"
   },
   {
    "duration": 41,
    "start_time": "2023-12-14T10:13:32.335Z"
   },
   {
    "duration": 10,
    "start_time": "2023-12-14T10:13:32.377Z"
   },
   {
    "duration": 17,
    "start_time": "2023-12-14T10:13:32.389Z"
   },
   {
    "duration": 20,
    "start_time": "2023-12-14T10:13:32.407Z"
   },
   {
    "duration": 3,
    "start_time": "2023-12-14T10:13:32.429Z"
   },
   {
    "duration": 62,
    "start_time": "2023-12-14T10:13:32.434Z"
   },
   {
    "duration": 35,
    "start_time": "2023-12-14T10:13:32.497Z"
   },
   {
    "duration": 48,
    "start_time": "2023-12-14T10:13:32.533Z"
   },
   {
    "duration": 20,
    "start_time": "2023-12-14T10:13:32.582Z"
   },
   {
    "duration": 5,
    "start_time": "2023-12-14T10:13:32.603Z"
   },
   {
    "duration": 363,
    "start_time": "2023-12-14T10:13:32.609Z"
   },
   {
    "duration": 18,
    "start_time": "2023-12-14T10:13:32.974Z"
   },
   {
    "duration": 84,
    "start_time": "2023-12-14T10:13:32.994Z"
   },
   {
    "duration": 21,
    "start_time": "2023-12-14T10:13:33.079Z"
   },
   {
    "duration": 105,
    "start_time": "2023-12-14T10:13:33.101Z"
   },
   {
    "duration": 12,
    "start_time": "2023-12-14T10:13:33.207Z"
   },
   {
    "duration": 7,
    "start_time": "2023-12-14T10:13:33.221Z"
   },
   {
    "duration": 761,
    "start_time": "2023-12-14T10:13:33.230Z"
   },
   {
    "duration": 23,
    "start_time": "2023-12-14T10:13:33.992Z"
   },
   {
    "duration": 4,
    "start_time": "2023-12-14T10:13:34.016Z"
   },
   {
    "duration": 11,
    "start_time": "2023-12-14T10:13:34.021Z"
   },
   {
    "duration": 27,
    "start_time": "2023-12-14T10:13:34.034Z"
   },
   {
    "duration": 7,
    "start_time": "2023-12-14T10:13:34.062Z"
   },
   {
    "duration": 24,
    "start_time": "2023-12-14T10:13:34.071Z"
   },
   {
    "duration": 7,
    "start_time": "2023-12-14T10:13:34.096Z"
   },
   {
    "duration": 4,
    "start_time": "2023-12-14T10:13:34.104Z"
   },
   {
    "duration": 12,
    "start_time": "2023-12-14T10:13:34.110Z"
   },
   {
    "duration": 29,
    "start_time": "2023-12-14T10:13:34.123Z"
   },
   {
    "duration": 16,
    "start_time": "2023-12-14T10:13:34.154Z"
   },
   {
    "duration": 9,
    "start_time": "2023-12-14T10:13:34.174Z"
   },
   {
    "duration": 584,
    "start_time": "2023-12-14T10:13:34.185Z"
   },
   {
    "duration": 20,
    "start_time": "2023-12-14T10:13:34.770Z"
   },
   {
    "duration": 8,
    "start_time": "2023-12-14T10:13:34.791Z"
   },
   {
    "duration": 101,
    "start_time": "2023-12-14T10:13:34.800Z"
   },
   {
    "duration": 15,
    "start_time": "2023-12-14T10:13:34.902Z"
   },
   {
    "duration": 56,
    "start_time": "2023-12-14T10:13:34.918Z"
   },
   {
    "duration": 9,
    "start_time": "2023-12-14T10:13:34.975Z"
   },
   {
    "duration": 4,
    "start_time": "2023-12-14T10:13:34.985Z"
   },
   {
    "duration": 20,
    "start_time": "2023-12-14T10:13:34.991Z"
   },
   {
    "duration": 72,
    "start_time": "2023-12-14T10:13:35.013Z"
   },
   {
    "duration": 4,
    "start_time": "2023-12-14T10:13:35.087Z"
   },
   {
    "duration": 16,
    "start_time": "2023-12-14T10:13:35.093Z"
   },
   {
    "duration": 135,
    "start_time": "2023-12-14T10:13:35.111Z"
   },
   {
    "duration": 6,
    "start_time": "2023-12-14T10:13:35.247Z"
   },
   {
    "duration": 8,
    "start_time": "2023-12-14T10:13:35.254Z"
   },
   {
    "duration": 5,
    "start_time": "2023-12-14T10:13:35.263Z"
   },
   {
    "duration": 10,
    "start_time": "2023-12-14T10:13:35.269Z"
   },
   {
    "duration": 25,
    "start_time": "2023-12-14T10:13:35.280Z"
   },
   {
    "duration": 5,
    "start_time": "2023-12-14T10:13:35.307Z"
   },
   {
    "duration": 13,
    "start_time": "2023-12-14T10:13:35.313Z"
   },
   {
    "duration": 4,
    "start_time": "2023-12-14T10:13:35.351Z"
   },
   {
    "duration": 46,
    "start_time": "2023-12-14T10:13:35.356Z"
   },
   {
    "duration": 397,
    "start_time": "2023-12-14T10:13:35.404Z"
   },
   {
    "duration": 370,
    "start_time": "2023-12-14T10:13:35.802Z"
   },
   {
    "duration": 7,
    "start_time": "2023-12-14T10:13:36.173Z"
   },
   {
    "duration": 13,
    "start_time": "2023-12-14T10:13:36.181Z"
   },
   {
    "duration": 23,
    "start_time": "2023-12-14T10:13:36.195Z"
   },
   {
    "duration": 9,
    "start_time": "2023-12-14T10:13:36.219Z"
   },
   {
    "duration": 6,
    "start_time": "2023-12-14T10:13:36.229Z"
   },
   {
    "duration": 346,
    "start_time": "2023-12-14T10:13:36.237Z"
   },
   {
    "duration": 374,
    "start_time": "2023-12-14T10:13:36.584Z"
   },
   {
    "duration": 4,
    "start_time": "2023-12-14T10:13:36.959Z"
   },
   {
    "duration": 10,
    "start_time": "2023-12-14T10:13:36.965Z"
   },
   {
    "duration": 9,
    "start_time": "2023-12-14T10:13:36.976Z"
   },
   {
    "duration": 8,
    "start_time": "2023-12-14T10:13:36.986Z"
   },
   {
    "duration": 1098,
    "start_time": "2023-12-14T10:14:31.690Z"
   },
   {
    "duration": 41,
    "start_time": "2023-12-14T10:14:32.790Z"
   },
   {
    "duration": 92,
    "start_time": "2023-12-14T10:14:32.833Z"
   },
   {
    "duration": 9,
    "start_time": "2023-12-14T10:14:32.927Z"
   },
   {
    "duration": 25,
    "start_time": "2023-12-14T10:14:32.938Z"
   },
   {
    "duration": 3,
    "start_time": "2023-12-14T10:14:32.965Z"
   },
   {
    "duration": 21,
    "start_time": "2023-12-14T10:14:32.969Z"
   },
   {
    "duration": 20,
    "start_time": "2023-12-14T10:14:32.992Z"
   },
   {
    "duration": 71,
    "start_time": "2023-12-14T10:14:33.014Z"
   },
   {
    "duration": 18,
    "start_time": "2023-12-14T10:14:33.086Z"
   },
   {
    "duration": 18,
    "start_time": "2023-12-14T10:14:33.105Z"
   },
   {
    "duration": 42,
    "start_time": "2023-12-14T10:14:33.124Z"
   },
   {
    "duration": 11,
    "start_time": "2023-12-14T10:14:33.168Z"
   },
   {
    "duration": 12,
    "start_time": "2023-12-14T10:14:33.182Z"
   },
   {
    "duration": 15,
    "start_time": "2023-12-14T10:14:33.196Z"
   },
   {
    "duration": 3,
    "start_time": "2023-12-14T10:14:33.212Z"
   },
   {
    "duration": 66,
    "start_time": "2023-12-14T10:14:33.217Z"
   },
   {
    "duration": 11,
    "start_time": "2023-12-14T10:14:33.285Z"
   },
   {
    "duration": 60,
    "start_time": "2023-12-14T10:14:33.297Z"
   },
   {
    "duration": 21,
    "start_time": "2023-12-14T10:14:33.358Z"
   },
   {
    "duration": 3,
    "start_time": "2023-12-14T10:14:33.380Z"
   },
   {
    "duration": 385,
    "start_time": "2023-12-14T10:14:33.384Z"
   },
   {
    "duration": 20,
    "start_time": "2023-12-14T10:14:33.770Z"
   },
   {
    "duration": 96,
    "start_time": "2023-12-14T10:14:33.791Z"
   },
   {
    "duration": 68,
    "start_time": "2023-12-14T10:14:33.888Z"
   },
   {
    "duration": 62,
    "start_time": "2023-12-14T10:14:33.958Z"
   },
   {
    "duration": 12,
    "start_time": "2023-12-14T10:14:34.022Z"
   },
   {
    "duration": 35,
    "start_time": "2023-12-14T10:14:34.035Z"
   },
   {
    "duration": 819,
    "start_time": "2023-12-14T10:14:34.072Z"
   },
   {
    "duration": 22,
    "start_time": "2023-12-14T10:14:34.892Z"
   },
   {
    "duration": 3,
    "start_time": "2023-12-14T10:14:34.916Z"
   },
   {
    "duration": 11,
    "start_time": "2023-12-14T10:14:34.920Z"
   },
   {
    "duration": 28,
    "start_time": "2023-12-14T10:14:34.933Z"
   },
   {
    "duration": 21,
    "start_time": "2023-12-14T10:14:34.962Z"
   },
   {
    "duration": 33,
    "start_time": "2023-12-14T10:14:34.984Z"
   },
   {
    "duration": 8,
    "start_time": "2023-12-14T10:14:35.018Z"
   },
   {
    "duration": 20,
    "start_time": "2023-12-14T10:14:35.028Z"
   },
   {
    "duration": 10,
    "start_time": "2023-12-14T10:14:35.049Z"
   },
   {
    "duration": 8,
    "start_time": "2023-12-14T10:14:35.060Z"
   },
   {
    "duration": 16,
    "start_time": "2023-12-14T10:14:35.069Z"
   },
   {
    "duration": 10,
    "start_time": "2023-12-14T10:14:35.089Z"
   },
   {
    "duration": 597,
    "start_time": "2023-12-14T10:14:35.101Z"
   },
   {
    "duration": 21,
    "start_time": "2023-12-14T10:14:35.699Z"
   },
   {
    "duration": 17,
    "start_time": "2023-12-14T10:14:35.721Z"
   },
   {
    "duration": 92,
    "start_time": "2023-12-14T10:14:35.752Z"
   },
   {
    "duration": 13,
    "start_time": "2023-12-14T10:14:35.852Z"
   },
   {
    "duration": 42,
    "start_time": "2023-12-14T10:14:35.867Z"
   },
   {
    "duration": 8,
    "start_time": "2023-12-14T10:14:35.911Z"
   },
   {
    "duration": 8,
    "start_time": "2023-12-14T10:14:35.921Z"
   },
   {
    "duration": 31,
    "start_time": "2023-12-14T10:14:35.931Z"
   },
   {
    "duration": 38,
    "start_time": "2023-12-14T10:14:35.963Z"
   },
   {
    "duration": 14,
    "start_time": "2023-12-14T10:14:36.003Z"
   },
   {
    "duration": 22,
    "start_time": "2023-12-14T10:14:36.018Z"
   },
   {
    "duration": 119,
    "start_time": "2023-12-14T10:14:36.041Z"
   },
   {
    "duration": 2,
    "start_time": "2023-12-14T10:14:36.162Z"
   },
   {
    "duration": 11,
    "start_time": "2023-12-14T10:14:36.166Z"
   },
   {
    "duration": 10,
    "start_time": "2023-12-14T10:14:36.178Z"
   },
   {
    "duration": 22,
    "start_time": "2023-12-14T10:14:36.189Z"
   },
   {
    "duration": 43,
    "start_time": "2023-12-14T10:14:36.212Z"
   },
   {
    "duration": 6,
    "start_time": "2023-12-14T10:14:36.256Z"
   },
   {
    "duration": 16,
    "start_time": "2023-12-14T10:14:36.264Z"
   },
   {
    "duration": 17,
    "start_time": "2023-12-14T10:14:36.281Z"
   },
   {
    "duration": 49,
    "start_time": "2023-12-14T10:14:36.300Z"
   },
   {
    "duration": 407,
    "start_time": "2023-12-14T10:14:36.351Z"
   },
   {
    "duration": 377,
    "start_time": "2023-12-14T10:14:36.760Z"
   },
   {
    "duration": 7,
    "start_time": "2023-12-14T10:14:37.139Z"
   },
   {
    "duration": 9,
    "start_time": "2023-12-14T10:14:37.147Z"
   },
   {
    "duration": 12,
    "start_time": "2023-12-14T10:14:37.158Z"
   },
   {
    "duration": 7,
    "start_time": "2023-12-14T10:14:37.171Z"
   },
   {
    "duration": 10,
    "start_time": "2023-12-14T10:14:37.179Z"
   },
   {
    "duration": 373,
    "start_time": "2023-12-14T10:14:37.190Z"
   },
   {
    "duration": 397,
    "start_time": "2023-12-14T10:14:37.564Z"
   },
   {
    "duration": 4,
    "start_time": "2023-12-14T10:14:37.963Z"
   },
   {
    "duration": 8,
    "start_time": "2023-12-14T10:14:37.969Z"
   },
   {
    "duration": 13,
    "start_time": "2023-12-14T10:14:37.979Z"
   },
   {
    "duration": 6,
    "start_time": "2023-12-14T10:14:37.993Z"
   },
   {
    "duration": 11,
    "start_time": "2023-12-14T10:17:36.231Z"
   },
   {
    "duration": 9,
    "start_time": "2023-12-14T10:17:40.876Z"
   },
   {
    "duration": 140,
    "start_time": "2023-12-14T10:21:21.609Z"
   },
   {
    "duration": 9,
    "start_time": "2023-12-14T10:23:28.564Z"
   },
   {
    "duration": 1172,
    "start_time": "2023-12-14T10:24:46.349Z"
   },
   {
    "duration": 36,
    "start_time": "2023-12-14T10:24:47.522Z"
   },
   {
    "duration": 93,
    "start_time": "2023-12-14T10:24:47.559Z"
   },
   {
    "duration": 9,
    "start_time": "2023-12-14T10:24:47.654Z"
   },
   {
    "duration": 16,
    "start_time": "2023-12-14T10:24:47.665Z"
   },
   {
    "duration": 3,
    "start_time": "2023-12-14T10:24:47.683Z"
   },
   {
    "duration": 19,
    "start_time": "2023-12-14T10:24:47.687Z"
   },
   {
    "duration": 20,
    "start_time": "2023-12-14T10:24:47.707Z"
   },
   {
    "duration": 68,
    "start_time": "2023-12-14T10:24:47.729Z"
   },
   {
    "duration": 17,
    "start_time": "2023-12-14T10:24:47.798Z"
   },
   {
    "duration": 17,
    "start_time": "2023-12-14T10:24:47.816Z"
   },
   {
    "duration": 37,
    "start_time": "2023-12-14T10:24:47.834Z"
   },
   {
    "duration": 9,
    "start_time": "2023-12-14T10:24:47.872Z"
   },
   {
    "duration": 34,
    "start_time": "2023-12-14T10:24:47.883Z"
   },
   {
    "duration": 22,
    "start_time": "2023-12-14T10:24:47.919Z"
   },
   {
    "duration": 2,
    "start_time": "2023-12-14T10:24:47.942Z"
   },
   {
    "duration": 49,
    "start_time": "2023-12-14T10:24:47.946Z"
   },
   {
    "duration": 10,
    "start_time": "2023-12-14T10:24:47.997Z"
   },
   {
    "duration": 61,
    "start_time": "2023-12-14T10:24:48.009Z"
   },
   {
    "duration": 21,
    "start_time": "2023-12-14T10:24:48.071Z"
   },
   {
    "duration": 4,
    "start_time": "2023-12-14T10:24:48.094Z"
   },
   {
    "duration": 432,
    "start_time": "2023-12-14T10:24:48.099Z"
   },
   {
    "duration": 29,
    "start_time": "2023-12-14T10:24:48.533Z"
   },
   {
    "duration": 115,
    "start_time": "2023-12-14T10:24:48.564Z"
   },
   {
    "duration": 26,
    "start_time": "2023-12-14T10:24:48.680Z"
   },
   {
    "duration": 110,
    "start_time": "2023-12-14T10:24:48.708Z"
   },
   {
    "duration": 13,
    "start_time": "2023-12-14T10:24:48.819Z"
   },
   {
    "duration": 5,
    "start_time": "2023-12-14T10:24:48.833Z"
   },
   {
    "duration": 756,
    "start_time": "2023-12-14T10:24:48.852Z"
   },
   {
    "duration": 23,
    "start_time": "2023-12-14T10:24:49.610Z"
   },
   {
    "duration": 18,
    "start_time": "2023-12-14T10:24:49.634Z"
   },
   {
    "duration": 10,
    "start_time": "2023-12-14T10:24:49.653Z"
   },
   {
    "duration": 15,
    "start_time": "2023-12-14T10:24:49.664Z"
   },
   {
    "duration": 17,
    "start_time": "2023-12-14T10:24:49.681Z"
   },
   {
    "duration": 36,
    "start_time": "2023-12-14T10:24:49.699Z"
   },
   {
    "duration": 14,
    "start_time": "2023-12-14T10:24:49.737Z"
   },
   {
    "duration": 11,
    "start_time": "2023-12-14T10:24:49.752Z"
   },
   {
    "duration": 28,
    "start_time": "2023-12-14T10:24:49.764Z"
   },
   {
    "duration": 14,
    "start_time": "2023-12-14T10:24:49.794Z"
   },
   {
    "duration": 28,
    "start_time": "2023-12-14T10:24:49.810Z"
   },
   {
    "duration": 6,
    "start_time": "2023-12-14T10:24:49.843Z"
   },
   {
    "duration": 590,
    "start_time": "2023-12-14T10:24:49.850Z"
   },
   {
    "duration": 23,
    "start_time": "2023-12-14T10:24:50.451Z"
   },
   {
    "duration": 27,
    "start_time": "2023-12-14T10:24:50.475Z"
   },
   {
    "duration": 85,
    "start_time": "2023-12-14T10:24:50.503Z"
   },
   {
    "duration": 13,
    "start_time": "2023-12-14T10:24:50.590Z"
   },
   {
    "duration": 51,
    "start_time": "2023-12-14T10:24:50.605Z"
   },
   {
    "duration": 10,
    "start_time": "2023-12-14T10:24:50.658Z"
   },
   {
    "duration": 142,
    "start_time": "2023-12-14T10:24:50.669Z"
   },
   {
    "duration": 0,
    "start_time": "2023-12-14T10:24:50.813Z"
   },
   {
    "duration": 0,
    "start_time": "2023-12-14T10:24:50.814Z"
   },
   {
    "duration": 0,
    "start_time": "2023-12-14T10:24:50.815Z"
   },
   {
    "duration": 0,
    "start_time": "2023-12-14T10:24:50.816Z"
   },
   {
    "duration": 0,
    "start_time": "2023-12-14T10:24:50.817Z"
   },
   {
    "duration": 0,
    "start_time": "2023-12-14T10:24:50.818Z"
   },
   {
    "duration": 0,
    "start_time": "2023-12-14T10:24:50.818Z"
   },
   {
    "duration": 0,
    "start_time": "2023-12-14T10:24:50.819Z"
   },
   {
    "duration": 0,
    "start_time": "2023-12-14T10:24:50.820Z"
   },
   {
    "duration": 0,
    "start_time": "2023-12-14T10:24:50.821Z"
   },
   {
    "duration": 0,
    "start_time": "2023-12-14T10:24:50.822Z"
   },
   {
    "duration": 0,
    "start_time": "2023-12-14T10:24:50.823Z"
   },
   {
    "duration": 0,
    "start_time": "2023-12-14T10:24:50.824Z"
   },
   {
    "duration": 0,
    "start_time": "2023-12-14T10:24:50.825Z"
   },
   {
    "duration": 0,
    "start_time": "2023-12-14T10:24:50.825Z"
   },
   {
    "duration": 1,
    "start_time": "2023-12-14T10:24:50.851Z"
   },
   {
    "duration": 0,
    "start_time": "2023-12-14T10:24:50.853Z"
   },
   {
    "duration": 0,
    "start_time": "2023-12-14T10:24:50.853Z"
   },
   {
    "duration": 0,
    "start_time": "2023-12-14T10:24:50.854Z"
   },
   {
    "duration": 0,
    "start_time": "2023-12-14T10:24:50.855Z"
   },
   {
    "duration": 0,
    "start_time": "2023-12-14T10:24:50.856Z"
   },
   {
    "duration": 0,
    "start_time": "2023-12-14T10:24:50.857Z"
   },
   {
    "duration": 0,
    "start_time": "2023-12-14T10:24:50.858Z"
   },
   {
    "duration": 0,
    "start_time": "2023-12-14T10:24:50.859Z"
   },
   {
    "duration": 0,
    "start_time": "2023-12-14T10:24:50.860Z"
   },
   {
    "duration": 0,
    "start_time": "2023-12-14T10:24:50.860Z"
   },
   {
    "duration": 0,
    "start_time": "2023-12-14T10:24:50.861Z"
   },
   {
    "duration": 0,
    "start_time": "2023-12-14T10:24:50.862Z"
   },
   {
    "duration": 14,
    "start_time": "2023-12-14T10:27:58.738Z"
   },
   {
    "duration": 11,
    "start_time": "2023-12-14T10:28:03.890Z"
   },
   {
    "duration": 19,
    "start_time": "2023-12-14T10:28:10.155Z"
   },
   {
    "duration": 10,
    "start_time": "2023-12-14T10:28:18.427Z"
   },
   {
    "duration": 17,
    "start_time": "2023-12-14T10:28:29.146Z"
   },
   {
    "duration": 6,
    "start_time": "2023-12-14T10:29:05.775Z"
   },
   {
    "duration": 12,
    "start_time": "2023-12-14T10:29:11.961Z"
   },
   {
    "duration": 7,
    "start_time": "2023-12-14T10:29:12.752Z"
   },
   {
    "duration": 11,
    "start_time": "2023-12-14T10:29:40.417Z"
   },
   {
    "duration": 11,
    "start_time": "2023-12-14T10:29:41.905Z"
   },
   {
    "duration": 6,
    "start_time": "2023-12-14T10:29:42.841Z"
   },
   {
    "duration": 19,
    "start_time": "2023-12-14T10:31:06.237Z"
   },
   {
    "duration": 21,
    "start_time": "2023-12-14T10:36:20.901Z"
   },
   {
    "duration": 14,
    "start_time": "2023-12-14T10:36:31.929Z"
   },
   {
    "duration": 21,
    "start_time": "2023-12-14T10:36:56.808Z"
   },
   {
    "duration": 9,
    "start_time": "2023-12-14T10:37:22.059Z"
   },
   {
    "duration": 5,
    "start_time": "2023-12-14T10:37:43.319Z"
   },
   {
    "duration": 23,
    "start_time": "2023-12-14T10:37:54.422Z"
   },
   {
    "duration": 25,
    "start_time": "2023-12-14T10:38:14.347Z"
   },
   {
    "duration": 4,
    "start_time": "2023-12-14T10:38:18.791Z"
   },
   {
    "duration": 5,
    "start_time": "2023-12-14T10:38:32.789Z"
   },
   {
    "duration": 12,
    "start_time": "2023-12-14T10:38:38.492Z"
   },
   {
    "duration": 87,
    "start_time": "2023-12-14T10:39:04.734Z"
   },
   {
    "duration": 241,
    "start_time": "2023-12-14T10:39:14.753Z"
   },
   {
    "duration": 5,
    "start_time": "2023-12-14T10:39:53.020Z"
   },
   {
    "duration": 24,
    "start_time": "2023-12-14T10:40:08.907Z"
   },
   {
    "duration": 17,
    "start_time": "2023-12-14T10:40:40.473Z"
   },
   {
    "duration": 15,
    "start_time": "2023-12-14T10:41:13.774Z"
   },
   {
    "duration": 15,
    "start_time": "2023-12-14T10:41:25.337Z"
   },
   {
    "duration": 21,
    "start_time": "2023-12-14T10:41:30.085Z"
   },
   {
    "duration": 14,
    "start_time": "2023-12-14T10:41:48.610Z"
   },
   {
    "duration": 9,
    "start_time": "2023-12-14T10:42:26.243Z"
   },
   {
    "duration": 1127,
    "start_time": "2023-12-14T11:45:51.874Z"
   },
   {
    "duration": 38,
    "start_time": "2023-12-14T11:45:53.003Z"
   },
   {
    "duration": 97,
    "start_time": "2023-12-14T11:45:53.042Z"
   },
   {
    "duration": 9,
    "start_time": "2023-12-14T11:45:53.140Z"
   },
   {
    "duration": 29,
    "start_time": "2023-12-14T11:45:53.150Z"
   },
   {
    "duration": 9,
    "start_time": "2023-12-14T11:45:53.181Z"
   },
   {
    "duration": 31,
    "start_time": "2023-12-14T11:45:53.191Z"
   },
   {
    "duration": 19,
    "start_time": "2023-12-14T11:45:53.223Z"
   },
   {
    "duration": 60,
    "start_time": "2023-12-14T11:45:53.244Z"
   },
   {
    "duration": 22,
    "start_time": "2023-12-14T11:45:53.306Z"
   },
   {
    "duration": 21,
    "start_time": "2023-12-14T11:45:53.329Z"
   },
   {
    "duration": 31,
    "start_time": "2023-12-14T11:45:53.352Z"
   },
   {
    "duration": 11,
    "start_time": "2023-12-14T11:45:53.385Z"
   },
   {
    "duration": 14,
    "start_time": "2023-12-14T11:45:53.397Z"
   },
   {
    "duration": 14,
    "start_time": "2023-12-14T11:45:53.413Z"
   },
   {
    "duration": 6,
    "start_time": "2023-12-14T11:45:53.428Z"
   },
   {
    "duration": 49,
    "start_time": "2023-12-14T11:45:53.436Z"
   },
   {
    "duration": 10,
    "start_time": "2023-12-14T11:45:53.487Z"
   },
   {
    "duration": 68,
    "start_time": "2023-12-14T11:45:53.498Z"
   },
   {
    "duration": 23,
    "start_time": "2023-12-14T11:45:53.567Z"
   },
   {
    "duration": 4,
    "start_time": "2023-12-14T11:45:53.591Z"
   },
   {
    "duration": 386,
    "start_time": "2023-12-14T11:45:53.597Z"
   },
   {
    "duration": 21,
    "start_time": "2023-12-14T11:45:53.985Z"
   },
   {
    "duration": 87,
    "start_time": "2023-12-14T11:45:54.007Z"
   },
   {
    "duration": 69,
    "start_time": "2023-12-14T11:45:54.095Z"
   },
   {
    "duration": 64,
    "start_time": "2023-12-14T11:45:54.165Z"
   },
   {
    "duration": 25,
    "start_time": "2023-12-14T11:45:54.231Z"
   },
   {
    "duration": 5,
    "start_time": "2023-12-14T11:45:54.260Z"
   },
   {
    "duration": 762,
    "start_time": "2023-12-14T11:45:54.267Z"
   },
   {
    "duration": 31,
    "start_time": "2023-12-14T11:45:55.030Z"
   },
   {
    "duration": 4,
    "start_time": "2023-12-14T11:45:55.063Z"
   },
   {
    "duration": 51,
    "start_time": "2023-12-14T11:45:55.068Z"
   },
   {
    "duration": 14,
    "start_time": "2023-12-14T11:45:55.121Z"
   },
   {
    "duration": 17,
    "start_time": "2023-12-14T11:45:55.137Z"
   },
   {
    "duration": 31,
    "start_time": "2023-12-14T11:45:55.155Z"
   },
   {
    "duration": 7,
    "start_time": "2023-12-14T11:45:55.188Z"
   },
   {
    "duration": 4,
    "start_time": "2023-12-14T11:45:55.197Z"
   },
   {
    "duration": 16,
    "start_time": "2023-12-14T11:45:55.202Z"
   },
   {
    "duration": 12,
    "start_time": "2023-12-14T11:45:55.220Z"
   },
   {
    "duration": 20,
    "start_time": "2023-12-14T11:45:55.233Z"
   },
   {
    "duration": 8,
    "start_time": "2023-12-14T11:45:55.254Z"
   },
   {
    "duration": 605,
    "start_time": "2023-12-14T11:45:55.263Z"
   },
   {
    "duration": 21,
    "start_time": "2023-12-14T11:45:55.870Z"
   },
   {
    "duration": 8,
    "start_time": "2023-12-14T11:45:55.892Z"
   },
   {
    "duration": 114,
    "start_time": "2023-12-14T11:45:55.901Z"
   },
   {
    "duration": 17,
    "start_time": "2023-12-14T11:45:56.017Z"
   },
   {
    "duration": 68,
    "start_time": "2023-12-14T11:45:56.036Z"
   },
   {
    "duration": 9,
    "start_time": "2023-12-14T11:45:56.105Z"
   },
   {
    "duration": 49,
    "start_time": "2023-12-14T11:45:56.115Z"
   },
   {
    "duration": 22,
    "start_time": "2023-12-14T11:45:56.165Z"
   },
   {
    "duration": 144,
    "start_time": "2023-12-14T11:45:56.188Z"
   },
   {
    "duration": 0,
    "start_time": "2023-12-14T11:45:56.333Z"
   },
   {
    "duration": 0,
    "start_time": "2023-12-14T11:45:56.334Z"
   },
   {
    "duration": 0,
    "start_time": "2023-12-14T11:45:56.335Z"
   },
   {
    "duration": 0,
    "start_time": "2023-12-14T11:45:56.336Z"
   },
   {
    "duration": 0,
    "start_time": "2023-12-14T11:45:56.337Z"
   },
   {
    "duration": 0,
    "start_time": "2023-12-14T11:45:56.338Z"
   },
   {
    "duration": 0,
    "start_time": "2023-12-14T11:45:56.351Z"
   },
   {
    "duration": 0,
    "start_time": "2023-12-14T11:45:56.352Z"
   },
   {
    "duration": 1,
    "start_time": "2023-12-14T11:45:56.353Z"
   },
   {
    "duration": 0,
    "start_time": "2023-12-14T11:45:56.354Z"
   },
   {
    "duration": 0,
    "start_time": "2023-12-14T11:45:56.356Z"
   },
   {
    "duration": 0,
    "start_time": "2023-12-14T11:45:56.357Z"
   },
   {
    "duration": 0,
    "start_time": "2023-12-14T11:45:56.358Z"
   },
   {
    "duration": 0,
    "start_time": "2023-12-14T11:45:56.359Z"
   },
   {
    "duration": 0,
    "start_time": "2023-12-14T11:45:56.359Z"
   },
   {
    "duration": 0,
    "start_time": "2023-12-14T11:45:56.360Z"
   },
   {
    "duration": 0,
    "start_time": "2023-12-14T11:45:56.361Z"
   },
   {
    "duration": 0,
    "start_time": "2023-12-14T11:45:56.362Z"
   },
   {
    "duration": 0,
    "start_time": "2023-12-14T11:45:56.363Z"
   },
   {
    "duration": 0,
    "start_time": "2023-12-14T11:45:56.363Z"
   },
   {
    "duration": 0,
    "start_time": "2023-12-14T11:45:56.364Z"
   },
   {
    "duration": 0,
    "start_time": "2023-12-14T11:45:56.365Z"
   },
   {
    "duration": 0,
    "start_time": "2023-12-14T11:45:56.366Z"
   },
   {
    "duration": 0,
    "start_time": "2023-12-14T11:45:56.367Z"
   },
   {
    "duration": 0,
    "start_time": "2023-12-14T11:45:56.367Z"
   },
   {
    "duration": 0,
    "start_time": "2023-12-14T11:45:56.368Z"
   },
   {
    "duration": 0,
    "start_time": "2023-12-14T11:45:56.369Z"
   },
   {
    "duration": 0,
    "start_time": "2023-12-14T11:45:56.370Z"
   },
   {
    "duration": 22,
    "start_time": "2023-12-14T11:46:17.514Z"
   },
   {
    "duration": 22,
    "start_time": "2023-12-14T11:46:35.211Z"
   },
   {
    "duration": 9,
    "start_time": "2023-12-14T11:46:43.357Z"
   },
   {
    "duration": 307,
    "start_time": "2023-12-14T11:47:48.573Z"
   },
   {
    "duration": 167,
    "start_time": "2023-12-14T11:49:41.002Z"
   },
   {
    "duration": 526,
    "start_time": "2023-12-14T11:49:58.623Z"
   },
   {
    "duration": 21,
    "start_time": "2023-12-14T11:52:56.871Z"
   },
   {
    "duration": 22,
    "start_time": "2023-12-14T11:53:37.566Z"
   },
   {
    "duration": 13,
    "start_time": "2023-12-14T11:53:53.000Z"
   },
   {
    "duration": 151,
    "start_time": "2023-12-14T11:55:25.082Z"
   },
   {
    "duration": 162,
    "start_time": "2023-12-14T11:55:33.048Z"
   },
   {
    "duration": 80,
    "start_time": "2023-12-14T11:55:37.846Z"
   },
   {
    "duration": 88,
    "start_time": "2023-12-14T11:56:04.283Z"
   },
   {
    "duration": 8,
    "start_time": "2023-12-14T11:56:10.433Z"
   },
   {
    "duration": 240,
    "start_time": "2023-12-14T11:56:26.885Z"
   },
   {
    "duration": 251,
    "start_time": "2023-12-14T11:57:40.783Z"
   },
   {
    "duration": 12,
    "start_time": "2023-12-14T11:59:41.998Z"
   },
   {
    "duration": 75,
    "start_time": "2023-12-14T12:00:44.474Z"
   },
   {
    "duration": 17,
    "start_time": "2023-12-14T12:01:16.253Z"
   },
   {
    "duration": 10,
    "start_time": "2023-12-14T12:02:14.725Z"
   },
   {
    "duration": 17,
    "start_time": "2023-12-14T12:03:21.839Z"
   },
   {
    "duration": 14,
    "start_time": "2023-12-14T12:03:48.861Z"
   },
   {
    "duration": 52,
    "start_time": "2023-12-14T12:04:32.930Z"
   },
   {
    "duration": 14,
    "start_time": "2023-12-14T12:05:24.125Z"
   },
   {
    "duration": 22,
    "start_time": "2023-12-14T12:05:48.081Z"
   },
   {
    "duration": 22,
    "start_time": "2023-12-14T12:05:57.467Z"
   },
   {
    "duration": 15,
    "start_time": "2023-12-14T12:07:39.808Z"
   },
   {
    "duration": 53,
    "start_time": "2023-12-14T12:09:40.623Z"
   },
   {
    "duration": 60,
    "start_time": "2023-12-14T12:11:11.316Z"
   },
   {
    "duration": 1686,
    "start_time": "2023-12-14T12:11:24.984Z"
   },
   {
    "duration": 53,
    "start_time": "2023-12-14T12:11:37.591Z"
   },
   {
    "duration": 56,
    "start_time": "2023-12-14T12:11:49.186Z"
   },
   {
    "duration": 54,
    "start_time": "2023-12-14T12:11:57.006Z"
   },
   {
    "duration": 57,
    "start_time": "2023-12-14T12:12:24.208Z"
   },
   {
    "duration": 57,
    "start_time": "2023-12-14T12:12:58.222Z"
   },
   {
    "duration": 54,
    "start_time": "2023-12-14T12:13:25.079Z"
   },
   {
    "duration": 1165,
    "start_time": "2023-12-14T12:13:49.841Z"
   },
   {
    "duration": 39,
    "start_time": "2023-12-14T12:13:51.008Z"
   },
   {
    "duration": 95,
    "start_time": "2023-12-14T12:13:51.049Z"
   },
   {
    "duration": 9,
    "start_time": "2023-12-14T12:13:51.146Z"
   },
   {
    "duration": 32,
    "start_time": "2023-12-14T12:13:51.158Z"
   },
   {
    "duration": 3,
    "start_time": "2023-12-14T12:13:51.191Z"
   },
   {
    "duration": 19,
    "start_time": "2023-12-14T12:13:51.195Z"
   },
   {
    "duration": 22,
    "start_time": "2023-12-14T12:13:51.215Z"
   },
   {
    "duration": 61,
    "start_time": "2023-12-14T12:13:51.239Z"
   },
   {
    "duration": 18,
    "start_time": "2023-12-14T12:13:51.302Z"
   },
   {
    "duration": 32,
    "start_time": "2023-12-14T12:13:51.321Z"
   },
   {
    "duration": 28,
    "start_time": "2023-12-14T12:13:51.354Z"
   },
   {
    "duration": 10,
    "start_time": "2023-12-14T12:13:51.383Z"
   },
   {
    "duration": 19,
    "start_time": "2023-12-14T12:13:51.396Z"
   },
   {
    "duration": 16,
    "start_time": "2023-12-14T12:13:51.416Z"
   },
   {
    "duration": 19,
    "start_time": "2023-12-14T12:13:51.433Z"
   },
   {
    "duration": 44,
    "start_time": "2023-12-14T12:13:51.453Z"
   },
   {
    "duration": 12,
    "start_time": "2023-12-14T12:13:51.498Z"
   },
   {
    "duration": 67,
    "start_time": "2023-12-14T12:13:51.511Z"
   },
   {
    "duration": 23,
    "start_time": "2023-12-14T12:13:51.580Z"
   },
   {
    "duration": 19,
    "start_time": "2023-12-14T12:13:51.605Z"
   },
   {
    "duration": 387,
    "start_time": "2023-12-14T12:13:51.626Z"
   },
   {
    "duration": 20,
    "start_time": "2023-12-14T12:13:52.014Z"
   },
   {
    "duration": 60,
    "start_time": "2023-12-14T12:13:52.036Z"
   },
   {
    "duration": 73,
    "start_time": "2023-12-14T12:13:52.098Z"
   },
   {
    "duration": 70,
    "start_time": "2023-12-14T12:13:52.173Z"
   },
   {
    "duration": 16,
    "start_time": "2023-12-14T12:13:52.244Z"
   },
   {
    "duration": 23,
    "start_time": "2023-12-14T12:13:52.262Z"
   },
   {
    "duration": 768,
    "start_time": "2023-12-14T12:13:52.287Z"
   },
   {
    "duration": 22,
    "start_time": "2023-12-14T12:13:53.056Z"
   },
   {
    "duration": 9,
    "start_time": "2023-12-14T12:13:53.080Z"
   },
   {
    "duration": 14,
    "start_time": "2023-12-14T12:13:53.091Z"
   },
   {
    "duration": 12,
    "start_time": "2023-12-14T12:13:53.107Z"
   },
   {
    "duration": 6,
    "start_time": "2023-12-14T12:13:53.120Z"
   },
   {
    "duration": 39,
    "start_time": "2023-12-14T12:13:53.128Z"
   },
   {
    "duration": 7,
    "start_time": "2023-12-14T12:13:53.169Z"
   },
   {
    "duration": 4,
    "start_time": "2023-12-14T12:13:53.177Z"
   },
   {
    "duration": 11,
    "start_time": "2023-12-14T12:13:53.182Z"
   },
   {
    "duration": 4,
    "start_time": "2023-12-14T12:13:53.194Z"
   },
   {
    "duration": 5,
    "start_time": "2023-12-14T12:13:53.199Z"
   },
   {
    "duration": 7,
    "start_time": "2023-12-14T12:13:53.207Z"
   },
   {
    "duration": 618,
    "start_time": "2023-12-14T12:13:53.215Z"
   },
   {
    "duration": 34,
    "start_time": "2023-12-14T12:13:53.835Z"
   },
   {
    "duration": 7,
    "start_time": "2023-12-14T12:13:53.870Z"
   },
   {
    "duration": 108,
    "start_time": "2023-12-14T12:13:53.879Z"
   },
   {
    "duration": 265,
    "start_time": "2023-12-14T12:13:53.989Z"
   },
   {
    "duration": 0,
    "start_time": "2023-12-14T12:13:54.255Z"
   },
   {
    "duration": 0,
    "start_time": "2023-12-14T12:13:54.257Z"
   },
   {
    "duration": 0,
    "start_time": "2023-12-14T12:13:54.258Z"
   },
   {
    "duration": 0,
    "start_time": "2023-12-14T12:13:54.260Z"
   },
   {
    "duration": 0,
    "start_time": "2023-12-14T12:13:54.261Z"
   },
   {
    "duration": 0,
    "start_time": "2023-12-14T12:13:54.262Z"
   },
   {
    "duration": 0,
    "start_time": "2023-12-14T12:13:54.263Z"
   },
   {
    "duration": 0,
    "start_time": "2023-12-14T12:13:54.264Z"
   },
   {
    "duration": 0,
    "start_time": "2023-12-14T12:13:54.265Z"
   },
   {
    "duration": 0,
    "start_time": "2023-12-14T12:13:54.266Z"
   },
   {
    "duration": 0,
    "start_time": "2023-12-14T12:13:54.267Z"
   },
   {
    "duration": 0,
    "start_time": "2023-12-14T12:13:54.269Z"
   },
   {
    "duration": 0,
    "start_time": "2023-12-14T12:13:54.270Z"
   },
   {
    "duration": 0,
    "start_time": "2023-12-14T12:13:54.270Z"
   },
   {
    "duration": 0,
    "start_time": "2023-12-14T12:13:54.271Z"
   },
   {
    "duration": 0,
    "start_time": "2023-12-14T12:13:54.272Z"
   },
   {
    "duration": 0,
    "start_time": "2023-12-14T12:13:54.274Z"
   },
   {
    "duration": 0,
    "start_time": "2023-12-14T12:13:54.275Z"
   },
   {
    "duration": 0,
    "start_time": "2023-12-14T12:13:54.276Z"
   },
   {
    "duration": 0,
    "start_time": "2023-12-14T12:13:54.278Z"
   },
   {
    "duration": 0,
    "start_time": "2023-12-14T12:13:54.279Z"
   },
   {
    "duration": 0,
    "start_time": "2023-12-14T12:13:54.280Z"
   },
   {
    "duration": 0,
    "start_time": "2023-12-14T12:13:54.281Z"
   },
   {
    "duration": 0,
    "start_time": "2023-12-14T12:13:54.282Z"
   },
   {
    "duration": 0,
    "start_time": "2023-12-14T12:13:54.283Z"
   },
   {
    "duration": 0,
    "start_time": "2023-12-14T12:13:54.284Z"
   },
   {
    "duration": 0,
    "start_time": "2023-12-14T12:13:54.286Z"
   },
   {
    "duration": 0,
    "start_time": "2023-12-14T12:13:54.287Z"
   },
   {
    "duration": 0,
    "start_time": "2023-12-14T12:13:54.288Z"
   },
   {
    "duration": 0,
    "start_time": "2023-12-14T12:13:54.288Z"
   },
   {
    "duration": 0,
    "start_time": "2023-12-14T12:13:54.290Z"
   },
   {
    "duration": 0,
    "start_time": "2023-12-14T12:13:54.291Z"
   },
   {
    "duration": 0,
    "start_time": "2023-12-14T12:13:54.292Z"
   },
   {
    "duration": 0,
    "start_time": "2023-12-14T12:13:54.352Z"
   },
   {
    "duration": 0,
    "start_time": "2023-12-14T12:13:54.353Z"
   },
   {
    "duration": 107,
    "start_time": "2023-12-14T12:14:27.056Z"
   },
   {
    "duration": 240,
    "start_time": "2023-12-14T12:15:32.660Z"
   },
   {
    "duration": 306,
    "start_time": "2023-12-14T12:15:52.057Z"
   },
   {
    "duration": 729,
    "start_time": "2023-12-14T12:17:55.371Z"
   },
   {
    "duration": 740,
    "start_time": "2023-12-14T12:18:06.303Z"
   },
   {
    "duration": 42,
    "start_time": "2023-12-14T12:21:26.320Z"
   },
   {
    "duration": 1139,
    "start_time": "2023-12-14T12:21:37.344Z"
   },
   {
    "duration": 120,
    "start_time": "2023-12-14T12:21:38.485Z"
   },
   {
    "duration": 376,
    "start_time": "2023-12-14T12:21:38.606Z"
   },
   {
    "duration": 9,
    "start_time": "2023-12-14T12:21:38.984Z"
   },
   {
    "duration": 17,
    "start_time": "2023-12-14T12:21:38.995Z"
   },
   {
    "duration": 2,
    "start_time": "2023-12-14T12:21:39.014Z"
   },
   {
    "duration": 15,
    "start_time": "2023-12-14T12:21:39.017Z"
   },
   {
    "duration": 27,
    "start_time": "2023-12-14T12:21:39.033Z"
   },
   {
    "duration": 53,
    "start_time": "2023-12-14T12:21:39.061Z"
   },
   {
    "duration": 19,
    "start_time": "2023-12-14T12:21:39.116Z"
   },
   {
    "duration": 16,
    "start_time": "2023-12-14T12:21:39.153Z"
   },
   {
    "duration": 33,
    "start_time": "2023-12-14T12:21:39.171Z"
   },
   {
    "duration": 11,
    "start_time": "2023-12-14T12:21:39.205Z"
   },
   {
    "duration": 37,
    "start_time": "2023-12-14T12:21:39.217Z"
   },
   {
    "duration": 13,
    "start_time": "2023-12-14T12:21:39.256Z"
   },
   {
    "duration": 3,
    "start_time": "2023-12-14T12:21:39.271Z"
   },
   {
    "duration": 81,
    "start_time": "2023-12-14T12:21:39.276Z"
   },
   {
    "duration": 16,
    "start_time": "2023-12-14T12:21:39.359Z"
   },
   {
    "duration": 56,
    "start_time": "2023-12-14T12:21:39.377Z"
   },
   {
    "duration": 33,
    "start_time": "2023-12-14T12:21:39.434Z"
   },
   {
    "duration": 4,
    "start_time": "2023-12-14T12:21:39.468Z"
   },
   {
    "duration": 418,
    "start_time": "2023-12-14T12:21:39.473Z"
   },
   {
    "duration": 31,
    "start_time": "2023-12-14T12:21:39.893Z"
   },
   {
    "duration": 86,
    "start_time": "2023-12-14T12:21:39.926Z"
   },
   {
    "duration": 57,
    "start_time": "2023-12-14T12:21:40.013Z"
   },
   {
    "duration": 64,
    "start_time": "2023-12-14T12:21:40.072Z"
   },
   {
    "duration": 21,
    "start_time": "2023-12-14T12:21:40.138Z"
   },
   {
    "duration": 7,
    "start_time": "2023-12-14T12:21:40.163Z"
   },
   {
    "duration": 736,
    "start_time": "2023-12-14T12:21:40.172Z"
   },
   {
    "duration": 21,
    "start_time": "2023-12-14T12:21:40.909Z"
   },
   {
    "duration": 3,
    "start_time": "2023-12-14T12:21:40.931Z"
   },
   {
    "duration": 16,
    "start_time": "2023-12-14T12:21:40.936Z"
   },
   {
    "duration": 9,
    "start_time": "2023-12-14T12:21:40.954Z"
   },
   {
    "duration": 7,
    "start_time": "2023-12-14T12:21:40.964Z"
   },
   {
    "duration": 25,
    "start_time": "2023-12-14T12:21:40.972Z"
   },
   {
    "duration": 7,
    "start_time": "2023-12-14T12:21:40.998Z"
   },
   {
    "duration": 4,
    "start_time": "2023-12-14T12:21:41.006Z"
   },
   {
    "duration": 41,
    "start_time": "2023-12-14T12:21:41.012Z"
   },
   {
    "duration": 3,
    "start_time": "2023-12-14T12:21:41.055Z"
   },
   {
    "duration": 16,
    "start_time": "2023-12-14T12:21:41.060Z"
   },
   {
    "duration": 7,
    "start_time": "2023-12-14T12:21:41.078Z"
   },
   {
    "duration": 632,
    "start_time": "2023-12-14T12:21:41.087Z"
   },
   {
    "duration": 33,
    "start_time": "2023-12-14T12:21:41.721Z"
   },
   {
    "duration": 6,
    "start_time": "2023-12-14T12:21:41.755Z"
   },
   {
    "duration": 96,
    "start_time": "2023-12-14T12:21:41.763Z"
   },
   {
    "duration": 46,
    "start_time": "2023-12-14T12:21:56.254Z"
   },
   {
    "duration": 6,
    "start_time": "2023-12-14T12:22:03.997Z"
   },
   {
    "duration": 1110,
    "start_time": "2023-12-14T12:22:11.794Z"
   },
   {
    "duration": 119,
    "start_time": "2023-12-14T12:22:12.905Z"
   },
   {
    "duration": 369,
    "start_time": "2023-12-14T12:22:13.025Z"
   },
   {
    "duration": 10,
    "start_time": "2023-12-14T12:22:13.396Z"
   },
   {
    "duration": 34,
    "start_time": "2023-12-14T12:22:13.407Z"
   },
   {
    "duration": 2,
    "start_time": "2023-12-14T12:22:13.443Z"
   },
   {
    "duration": 15,
    "start_time": "2023-12-14T12:22:13.447Z"
   },
   {
    "duration": 18,
    "start_time": "2023-12-14T12:22:13.464Z"
   },
   {
    "duration": 51,
    "start_time": "2023-12-14T12:22:13.484Z"
   },
   {
    "duration": 29,
    "start_time": "2023-12-14T12:22:13.537Z"
   },
   {
    "duration": 14,
    "start_time": "2023-12-14T12:22:13.568Z"
   },
   {
    "duration": 27,
    "start_time": "2023-12-14T12:22:13.584Z"
   },
   {
    "duration": 9,
    "start_time": "2023-12-14T12:22:13.613Z"
   },
   {
    "duration": 35,
    "start_time": "2023-12-14T12:22:13.624Z"
   },
   {
    "duration": 25,
    "start_time": "2023-12-14T12:22:13.661Z"
   },
   {
    "duration": 2,
    "start_time": "2023-12-14T12:22:13.688Z"
   },
   {
    "duration": 43,
    "start_time": "2023-12-14T12:22:13.691Z"
   },
   {
    "duration": 17,
    "start_time": "2023-12-14T12:22:13.735Z"
   },
   {
    "duration": 68,
    "start_time": "2023-12-14T12:22:13.754Z"
   },
   {
    "duration": 29,
    "start_time": "2023-12-14T12:22:13.824Z"
   },
   {
    "duration": 3,
    "start_time": "2023-12-14T12:22:13.855Z"
   },
   {
    "duration": 430,
    "start_time": "2023-12-14T12:22:13.860Z"
   },
   {
    "duration": 30,
    "start_time": "2023-12-14T12:22:14.291Z"
   },
   {
    "duration": 73,
    "start_time": "2023-12-14T12:22:14.322Z"
   },
   {
    "duration": 65,
    "start_time": "2023-12-14T12:22:14.397Z"
   },
   {
    "duration": 59,
    "start_time": "2023-12-14T12:22:14.463Z"
   },
   {
    "duration": 29,
    "start_time": "2023-12-14T12:22:14.524Z"
   },
   {
    "duration": 3,
    "start_time": "2023-12-14T12:22:14.557Z"
   },
   {
    "duration": 746,
    "start_time": "2023-12-14T12:22:14.562Z"
   },
   {
    "duration": 22,
    "start_time": "2023-12-14T12:22:15.310Z"
   },
   {
    "duration": 4,
    "start_time": "2023-12-14T12:22:15.334Z"
   },
   {
    "duration": 11,
    "start_time": "2023-12-14T12:22:15.351Z"
   },
   {
    "duration": 19,
    "start_time": "2023-12-14T12:22:15.363Z"
   },
   {
    "duration": 7,
    "start_time": "2023-12-14T12:22:15.383Z"
   },
   {
    "duration": 42,
    "start_time": "2023-12-14T12:22:15.391Z"
   },
   {
    "duration": 7,
    "start_time": "2023-12-14T12:22:15.434Z"
   },
   {
    "duration": 13,
    "start_time": "2023-12-14T12:22:15.443Z"
   },
   {
    "duration": 10,
    "start_time": "2023-12-14T12:22:15.457Z"
   },
   {
    "duration": 13,
    "start_time": "2023-12-14T12:22:15.468Z"
   },
   {
    "duration": 7,
    "start_time": "2023-12-14T12:22:15.482Z"
   },
   {
    "duration": 9,
    "start_time": "2023-12-14T12:22:15.491Z"
   },
   {
    "duration": 587,
    "start_time": "2023-12-14T12:22:15.501Z"
   },
   {
    "duration": 23,
    "start_time": "2023-12-14T12:22:16.090Z"
   },
   {
    "duration": 10,
    "start_time": "2023-12-14T12:22:16.114Z"
   },
   {
    "duration": 104,
    "start_time": "2023-12-14T12:22:16.126Z"
   },
   {
    "duration": 44,
    "start_time": "2023-12-14T12:23:01.868Z"
   },
   {
    "duration": 1153,
    "start_time": "2023-12-14T12:23:21.735Z"
   },
   {
    "duration": 120,
    "start_time": "2023-12-14T12:23:22.890Z"
   },
   {
    "duration": 370,
    "start_time": "2023-12-14T12:23:23.011Z"
   },
   {
    "duration": 8,
    "start_time": "2023-12-14T12:23:23.383Z"
   },
   {
    "duration": 19,
    "start_time": "2023-12-14T12:23:23.393Z"
   },
   {
    "duration": 2,
    "start_time": "2023-12-14T12:23:23.414Z"
   },
   {
    "duration": 16,
    "start_time": "2023-12-14T12:23:23.418Z"
   },
   {
    "duration": 22,
    "start_time": "2023-12-14T12:23:23.435Z"
   },
   {
    "duration": 56,
    "start_time": "2023-12-14T12:23:23.458Z"
   },
   {
    "duration": 19,
    "start_time": "2023-12-14T12:23:23.516Z"
   },
   {
    "duration": 25,
    "start_time": "2023-12-14T12:23:23.536Z"
   },
   {
    "duration": 28,
    "start_time": "2023-12-14T12:23:23.562Z"
   },
   {
    "duration": 10,
    "start_time": "2023-12-14T12:23:23.591Z"
   },
   {
    "duration": 12,
    "start_time": "2023-12-14T12:23:23.603Z"
   },
   {
    "duration": 38,
    "start_time": "2023-12-14T12:23:23.616Z"
   },
   {
    "duration": 2,
    "start_time": "2023-12-14T12:23:23.656Z"
   },
   {
    "duration": 64,
    "start_time": "2023-12-14T12:23:23.660Z"
   },
   {
    "duration": 9,
    "start_time": "2023-12-14T12:23:23.726Z"
   },
   {
    "duration": 56,
    "start_time": "2023-12-14T12:23:23.737Z"
   },
   {
    "duration": 21,
    "start_time": "2023-12-14T12:23:23.795Z"
   },
   {
    "duration": 4,
    "start_time": "2023-12-14T12:23:23.818Z"
   },
   {
    "duration": 386,
    "start_time": "2023-12-14T12:23:23.823Z"
   },
   {
    "duration": 21,
    "start_time": "2023-12-14T12:23:24.210Z"
   },
   {
    "duration": 123,
    "start_time": "2023-12-14T12:23:24.232Z"
   },
   {
    "duration": 22,
    "start_time": "2023-12-14T12:23:24.356Z"
   },
   {
    "duration": 80,
    "start_time": "2023-12-14T12:23:24.379Z"
   },
   {
    "duration": 17,
    "start_time": "2023-12-14T12:23:24.460Z"
   },
   {
    "duration": 4,
    "start_time": "2023-12-14T12:23:24.481Z"
   },
   {
    "duration": 755,
    "start_time": "2023-12-14T12:23:24.487Z"
   },
   {
    "duration": 24,
    "start_time": "2023-12-14T12:23:25.243Z"
   },
   {
    "duration": 4,
    "start_time": "2023-12-14T12:23:25.268Z"
   },
   {
    "duration": 8,
    "start_time": "2023-12-14T12:23:25.273Z"
   },
   {
    "duration": 19,
    "start_time": "2023-12-14T12:23:25.283Z"
   },
   {
    "duration": 6,
    "start_time": "2023-12-14T12:23:25.304Z"
   },
   {
    "duration": 48,
    "start_time": "2023-12-14T12:23:25.312Z"
   },
   {
    "duration": 21,
    "start_time": "2023-12-14T12:23:25.362Z"
   },
   {
    "duration": 4,
    "start_time": "2023-12-14T12:23:25.384Z"
   },
   {
    "duration": 9,
    "start_time": "2023-12-14T12:23:25.390Z"
   },
   {
    "duration": 3,
    "start_time": "2023-12-14T12:23:25.401Z"
   },
   {
    "duration": 5,
    "start_time": "2023-12-14T12:23:25.406Z"
   },
   {
    "duration": 24,
    "start_time": "2023-12-14T12:23:25.412Z"
   },
   {
    "duration": 593,
    "start_time": "2023-12-14T12:23:25.437Z"
   },
   {
    "duration": 36,
    "start_time": "2023-12-14T12:23:26.031Z"
   },
   {
    "duration": 7,
    "start_time": "2023-12-14T12:23:26.068Z"
   },
   {
    "duration": 95,
    "start_time": "2023-12-14T12:23:26.077Z"
   },
   {
    "duration": 46,
    "start_time": "2023-12-14T12:23:40.187Z"
   },
   {
    "duration": 1196,
    "start_time": "2023-12-14T12:23:50.448Z"
   },
   {
    "duration": 120,
    "start_time": "2023-12-14T12:23:51.646Z"
   },
   {
    "duration": 373,
    "start_time": "2023-12-14T12:23:51.767Z"
   },
   {
    "duration": 10,
    "start_time": "2023-12-14T12:23:52.142Z"
   },
   {
    "duration": 16,
    "start_time": "2023-12-14T12:23:52.383Z"
   },
   {
    "duration": 3,
    "start_time": "2023-12-14T12:23:53.444Z"
   },
   {
    "duration": 15,
    "start_time": "2023-12-14T12:23:53.905Z"
   },
   {
    "duration": 27,
    "start_time": "2023-12-14T12:23:54.179Z"
   },
   {
    "duration": 55,
    "start_time": "2023-12-14T12:23:54.705Z"
   },
   {
    "duration": 19,
    "start_time": "2023-12-14T12:23:55.077Z"
   },
   {
    "duration": 16,
    "start_time": "2023-12-14T12:23:55.746Z"
   },
   {
    "duration": 28,
    "start_time": "2023-12-14T12:23:56.504Z"
   },
   {
    "duration": 11,
    "start_time": "2023-12-14T12:23:56.993Z"
   },
   {
    "duration": 10,
    "start_time": "2023-12-14T12:23:57.478Z"
   },
   {
    "duration": 21,
    "start_time": "2023-12-14T12:23:58.050Z"
   },
   {
    "duration": 2,
    "start_time": "2023-12-14T12:23:58.431Z"
   },
   {
    "duration": 38,
    "start_time": "2023-12-14T12:23:58.615Z"
   },
   {
    "duration": 12,
    "start_time": "2023-12-14T12:23:58.982Z"
   },
   {
    "duration": 53,
    "start_time": "2023-12-14T12:24:00.082Z"
   },
   {
    "duration": 22,
    "start_time": "2023-12-14T12:24:00.462Z"
   },
   {
    "duration": 4,
    "start_time": "2023-12-14T12:24:00.869Z"
   },
   {
    "duration": 364,
    "start_time": "2023-12-14T12:24:01.283Z"
   },
   {
    "duration": 21,
    "start_time": "2023-12-14T12:24:01.862Z"
   },
   {
    "duration": 133,
    "start_time": "2023-12-14T12:24:01.884Z"
   },
   {
    "duration": 23,
    "start_time": "2023-12-14T12:24:02.528Z"
   },
   {
    "duration": 60,
    "start_time": "2023-12-14T12:24:02.841Z"
   },
   {
    "duration": 12,
    "start_time": "2023-12-14T12:24:03.759Z"
   },
   {
    "duration": 4,
    "start_time": "2023-12-14T12:24:05.696Z"
   },
   {
    "duration": 785,
    "start_time": "2023-12-14T12:24:06.156Z"
   },
   {
    "duration": 27,
    "start_time": "2023-12-14T12:24:06.943Z"
   },
   {
    "duration": 4,
    "start_time": "2023-12-14T12:24:06.972Z"
   },
   {
    "duration": 9,
    "start_time": "2023-12-14T12:24:08.663Z"
   },
   {
    "duration": 12,
    "start_time": "2023-12-14T12:24:09.054Z"
   },
   {
    "duration": 7,
    "start_time": "2023-12-14T12:24:09.204Z"
   },
   {
    "duration": 24,
    "start_time": "2023-12-14T12:24:09.681Z"
   },
   {
    "duration": 9,
    "start_time": "2023-12-14T12:24:10.143Z"
   },
   {
    "duration": 14,
    "start_time": "2023-12-14T12:24:10.343Z"
   },
   {
    "duration": 10,
    "start_time": "2023-12-14T12:24:10.641Z"
   },
   {
    "duration": 3,
    "start_time": "2023-12-14T12:24:10.997Z"
   },
   {
    "duration": 6,
    "start_time": "2023-12-14T12:24:11.213Z"
   },
   {
    "duration": 5,
    "start_time": "2023-12-14T12:24:11.423Z"
   },
   {
    "duration": 568,
    "start_time": "2023-12-14T12:24:11.604Z"
   },
   {
    "duration": 21,
    "start_time": "2023-12-14T12:24:12.174Z"
   },
   {
    "duration": 7,
    "start_time": "2023-12-14T12:24:12.196Z"
   },
   {
    "duration": 87,
    "start_time": "2023-12-14T12:24:15.647Z"
   },
   {
    "duration": 44,
    "start_time": "2023-12-14T12:26:26.010Z"
   },
   {
    "duration": 1130,
    "start_time": "2023-12-14T12:26:32.350Z"
   },
   {
    "duration": 121,
    "start_time": "2023-12-14T12:26:33.482Z"
   },
   {
    "duration": 365,
    "start_time": "2023-12-14T12:26:33.604Z"
   },
   {
    "duration": 9,
    "start_time": "2023-12-14T12:26:33.971Z"
   },
   {
    "duration": 19,
    "start_time": "2023-12-14T12:26:33.982Z"
   },
   {
    "duration": 4,
    "start_time": "2023-12-14T12:26:34.002Z"
   },
   {
    "duration": 18,
    "start_time": "2023-12-14T12:26:34.007Z"
   },
   {
    "duration": 21,
    "start_time": "2023-12-14T12:26:34.026Z"
   },
   {
    "duration": 53,
    "start_time": "2023-12-14T12:26:34.052Z"
   },
   {
    "duration": 18,
    "start_time": "2023-12-14T12:26:34.107Z"
   },
   {
    "duration": 30,
    "start_time": "2023-12-14T12:26:34.126Z"
   },
   {
    "duration": 29,
    "start_time": "2023-12-14T12:26:34.158Z"
   },
   {
    "duration": 11,
    "start_time": "2023-12-14T12:26:34.189Z"
   },
   {
    "duration": 11,
    "start_time": "2023-12-14T12:26:34.202Z"
   },
   {
    "duration": 40,
    "start_time": "2023-12-14T12:26:34.215Z"
   },
   {
    "duration": 3,
    "start_time": "2023-12-14T12:26:34.257Z"
   },
   {
    "duration": 57,
    "start_time": "2023-12-14T12:26:34.261Z"
   },
   {
    "duration": 11,
    "start_time": "2023-12-14T12:26:34.320Z"
   },
   {
    "duration": 58,
    "start_time": "2023-12-14T12:26:34.333Z"
   },
   {
    "duration": 23,
    "start_time": "2023-12-14T12:26:34.393Z"
   },
   {
    "duration": 4,
    "start_time": "2023-12-14T12:26:34.418Z"
   },
   {
    "duration": 379,
    "start_time": "2023-12-14T12:26:34.424Z"
   },
   {
    "duration": 22,
    "start_time": "2023-12-14T12:26:34.804Z"
   },
   {
    "duration": 128,
    "start_time": "2023-12-14T12:26:34.827Z"
   },
   {
    "duration": 22,
    "start_time": "2023-12-14T12:26:34.956Z"
   },
   {
    "duration": 79,
    "start_time": "2023-12-14T12:26:34.979Z"
   },
   {
    "duration": 12,
    "start_time": "2023-12-14T12:26:35.059Z"
   },
   {
    "duration": 5,
    "start_time": "2023-12-14T12:26:35.076Z"
   },
   {
    "duration": 753,
    "start_time": "2023-12-14T12:26:35.083Z"
   },
   {
    "duration": 29,
    "start_time": "2023-12-14T12:26:35.837Z"
   },
   {
    "duration": 3,
    "start_time": "2023-12-14T12:26:35.868Z"
   },
   {
    "duration": 9,
    "start_time": "2023-12-14T12:26:35.873Z"
   },
   {
    "duration": 32,
    "start_time": "2023-12-14T12:26:35.883Z"
   },
   {
    "duration": 6,
    "start_time": "2023-12-14T12:26:35.917Z"
   },
   {
    "duration": 24,
    "start_time": "2023-12-14T12:26:35.924Z"
   },
   {
    "duration": 8,
    "start_time": "2023-12-14T12:26:35.949Z"
   },
   {
    "duration": 4,
    "start_time": "2023-12-14T12:26:35.958Z"
   },
   {
    "duration": 10,
    "start_time": "2023-12-14T12:26:35.963Z"
   },
   {
    "duration": 19,
    "start_time": "2023-12-14T12:26:35.974Z"
   },
   {
    "duration": 33,
    "start_time": "2023-12-14T12:26:35.995Z"
   },
   {
    "duration": 41,
    "start_time": "2023-12-14T12:26:36.029Z"
   },
   {
    "duration": 596,
    "start_time": "2023-12-14T12:26:36.071Z"
   },
   {
    "duration": 21,
    "start_time": "2023-12-14T12:26:36.668Z"
   },
   {
    "duration": 39,
    "start_time": "2023-12-14T12:26:36.690Z"
   },
   {
    "duration": 95,
    "start_time": "2023-12-14T12:26:36.731Z"
   },
   {
    "duration": 757,
    "start_time": "2023-12-14T12:26:36.827Z"
   },
   {
    "duration": 14,
    "start_time": "2023-12-14T12:26:37.586Z"
   },
   {
    "duration": 57,
    "start_time": "2023-12-14T12:26:37.601Z"
   },
   {
    "duration": 12,
    "start_time": "2023-12-14T12:26:37.660Z"
   },
   {
    "duration": 567,
    "start_time": "2023-12-14T12:26:37.675Z"
   },
   {
    "duration": 263,
    "start_time": "2023-12-14T12:26:38.243Z"
   },
   {
    "duration": 8,
    "start_time": "2023-12-14T12:26:38.508Z"
   },
   {
    "duration": 161,
    "start_time": "2023-12-14T12:26:38.517Z"
   },
   {
    "duration": 0,
    "start_time": "2023-12-14T12:26:38.679Z"
   },
   {
    "duration": 0,
    "start_time": "2023-12-14T12:26:38.681Z"
   },
   {
    "duration": 0,
    "start_time": "2023-12-14T12:26:38.682Z"
   },
   {
    "duration": 0,
    "start_time": "2023-12-14T12:26:38.684Z"
   },
   {
    "duration": 0,
    "start_time": "2023-12-14T12:26:38.685Z"
   },
   {
    "duration": 0,
    "start_time": "2023-12-14T12:26:38.687Z"
   },
   {
    "duration": 0,
    "start_time": "2023-12-14T12:26:38.688Z"
   },
   {
    "duration": 0,
    "start_time": "2023-12-14T12:26:38.689Z"
   },
   {
    "duration": 0,
    "start_time": "2023-12-14T12:26:38.690Z"
   },
   {
    "duration": 0,
    "start_time": "2023-12-14T12:26:38.691Z"
   },
   {
    "duration": 0,
    "start_time": "2023-12-14T12:26:38.693Z"
   },
   {
    "duration": 0,
    "start_time": "2023-12-14T12:26:38.694Z"
   },
   {
    "duration": 0,
    "start_time": "2023-12-14T12:26:38.696Z"
   },
   {
    "duration": 0,
    "start_time": "2023-12-14T12:26:38.697Z"
   },
   {
    "duration": 0,
    "start_time": "2023-12-14T12:26:38.698Z"
   },
   {
    "duration": 0,
    "start_time": "2023-12-14T12:26:38.700Z"
   },
   {
    "duration": 0,
    "start_time": "2023-12-14T12:26:38.701Z"
   },
   {
    "duration": 0,
    "start_time": "2023-12-14T12:26:38.702Z"
   },
   {
    "duration": 0,
    "start_time": "2023-12-14T12:26:38.704Z"
   },
   {
    "duration": 0,
    "start_time": "2023-12-14T12:26:38.705Z"
   },
   {
    "duration": 0,
    "start_time": "2023-12-14T12:26:38.706Z"
   },
   {
    "duration": 0,
    "start_time": "2023-12-14T12:26:38.707Z"
   },
   {
    "duration": 0,
    "start_time": "2023-12-14T12:26:38.708Z"
   },
   {
    "duration": 0,
    "start_time": "2023-12-14T12:26:38.752Z"
   },
   {
    "duration": 0,
    "start_time": "2023-12-14T12:26:38.754Z"
   },
   {
    "duration": 1,
    "start_time": "2023-12-14T12:26:38.755Z"
   },
   {
    "duration": 0,
    "start_time": "2023-12-14T12:26:38.757Z"
   },
   {
    "duration": 0,
    "start_time": "2023-12-14T12:26:38.758Z"
   },
   {
    "duration": 8,
    "start_time": "2023-12-14T12:29:52.809Z"
   },
   {
    "duration": 9,
    "start_time": "2023-12-14T12:30:35.578Z"
   },
   {
    "duration": 8,
    "start_time": "2023-12-14T12:32:31.779Z"
   },
   {
    "duration": 1122,
    "start_time": "2023-12-14T12:33:09.363Z"
   },
   {
    "duration": 37,
    "start_time": "2023-12-14T12:33:10.486Z"
   },
   {
    "duration": 94,
    "start_time": "2023-12-14T12:33:10.525Z"
   },
   {
    "duration": 9,
    "start_time": "2023-12-14T12:33:10.620Z"
   },
   {
    "duration": 32,
    "start_time": "2023-12-14T12:33:10.631Z"
   },
   {
    "duration": 15,
    "start_time": "2023-12-14T12:33:10.664Z"
   },
   {
    "duration": 35,
    "start_time": "2023-12-14T12:33:10.680Z"
   },
   {
    "duration": 32,
    "start_time": "2023-12-14T12:33:10.717Z"
   },
   {
    "duration": 52,
    "start_time": "2023-12-14T12:33:10.751Z"
   },
   {
    "duration": 17,
    "start_time": "2023-12-14T12:33:10.805Z"
   },
   {
    "duration": 29,
    "start_time": "2023-12-14T12:33:10.824Z"
   },
   {
    "duration": 26,
    "start_time": "2023-12-14T12:33:10.854Z"
   },
   {
    "duration": 10,
    "start_time": "2023-12-14T12:33:10.881Z"
   },
   {
    "duration": 27,
    "start_time": "2023-12-14T12:33:10.894Z"
   },
   {
    "duration": 32,
    "start_time": "2023-12-14T12:33:10.922Z"
   },
   {
    "duration": 3,
    "start_time": "2023-12-14T12:33:10.955Z"
   },
   {
    "duration": 55,
    "start_time": "2023-12-14T12:33:10.959Z"
   },
   {
    "duration": 10,
    "start_time": "2023-12-14T12:33:11.016Z"
   },
   {
    "duration": 73,
    "start_time": "2023-12-14T12:33:11.027Z"
   },
   {
    "duration": 23,
    "start_time": "2023-12-14T12:33:11.101Z"
   },
   {
    "duration": 4,
    "start_time": "2023-12-14T12:33:11.126Z"
   },
   {
    "duration": 433,
    "start_time": "2023-12-14T12:33:11.131Z"
   },
   {
    "duration": 22,
    "start_time": "2023-12-14T12:33:11.565Z"
   },
   {
    "duration": 100,
    "start_time": "2023-12-14T12:33:11.589Z"
   },
   {
    "duration": 70,
    "start_time": "2023-12-14T12:33:11.690Z"
   },
   {
    "duration": 65,
    "start_time": "2023-12-14T12:33:11.762Z"
   },
   {
    "duration": 28,
    "start_time": "2023-12-14T12:33:11.828Z"
   },
   {
    "duration": 4,
    "start_time": "2023-12-14T12:33:11.857Z"
   },
   {
    "duration": 769,
    "start_time": "2023-12-14T12:33:11.862Z"
   },
   {
    "duration": 30,
    "start_time": "2023-12-14T12:33:12.632Z"
   },
   {
    "duration": 3,
    "start_time": "2023-12-14T12:33:12.664Z"
   },
   {
    "duration": 12,
    "start_time": "2023-12-14T12:33:12.669Z"
   },
   {
    "duration": 17,
    "start_time": "2023-12-14T12:33:12.683Z"
   },
   {
    "duration": 16,
    "start_time": "2023-12-14T12:33:12.702Z"
   },
   {
    "duration": 33,
    "start_time": "2023-12-14T12:33:12.719Z"
   },
   {
    "duration": 7,
    "start_time": "2023-12-14T12:33:12.754Z"
   },
   {
    "duration": 11,
    "start_time": "2023-12-14T12:33:12.762Z"
   },
   {
    "duration": 17,
    "start_time": "2023-12-14T12:33:12.774Z"
   },
   {
    "duration": 13,
    "start_time": "2023-12-14T12:33:12.792Z"
   },
   {
    "duration": 12,
    "start_time": "2023-12-14T12:33:12.806Z"
   },
   {
    "duration": 5,
    "start_time": "2023-12-14T12:33:12.822Z"
   },
   {
    "duration": 606,
    "start_time": "2023-12-14T12:33:12.828Z"
   },
   {
    "duration": 33,
    "start_time": "2023-12-14T12:33:13.435Z"
   },
   {
    "duration": 108,
    "start_time": "2023-12-14T12:33:13.470Z"
   },
   {
    "duration": 89,
    "start_time": "2023-12-14T12:33:13.580Z"
   },
   {
    "duration": 2,
    "start_time": "2023-12-14T12:33:13.671Z"
   },
   {
    "duration": 44,
    "start_time": "2023-12-14T12:33:13.674Z"
   },
   {
    "duration": 36,
    "start_time": "2023-12-14T12:33:13.719Z"
   },
   {
    "duration": 46,
    "start_time": "2023-12-14T12:33:13.756Z"
   },
   {
    "duration": 107,
    "start_time": "2023-12-14T12:33:13.803Z"
   },
   {
    "duration": 47,
    "start_time": "2023-12-14T12:33:13.911Z"
   },
   {
    "duration": 5,
    "start_time": "2023-12-14T12:33:13.960Z"
   },
   {
    "duration": 7,
    "start_time": "2023-12-14T12:33:13.966Z"
   },
   {
    "duration": 25,
    "start_time": "2023-12-14T12:33:13.975Z"
   },
   {
    "duration": 20,
    "start_time": "2023-12-14T12:33:14.002Z"
   },
   {
    "duration": 41,
    "start_time": "2023-12-14T12:33:14.023Z"
   },
   {
    "duration": 35,
    "start_time": "2023-12-14T12:33:14.065Z"
   },
   {
    "duration": 22,
    "start_time": "2023-12-14T12:33:14.101Z"
   },
   {
    "duration": 106,
    "start_time": "2023-12-14T12:33:14.124Z"
   },
   {
    "duration": 31,
    "start_time": "2023-12-14T12:33:14.232Z"
   },
   {
    "duration": 17,
    "start_time": "2023-12-14T12:33:14.264Z"
   },
   {
    "duration": 21,
    "start_time": "2023-12-14T12:33:14.282Z"
   },
   {
    "duration": 34,
    "start_time": "2023-12-14T12:33:14.305Z"
   },
   {
    "duration": 39,
    "start_time": "2023-12-14T12:33:14.340Z"
   },
   {
    "duration": 15,
    "start_time": "2023-12-14T12:33:14.380Z"
   },
   {
    "duration": 24,
    "start_time": "2023-12-14T12:33:14.396Z"
   },
   {
    "duration": 24,
    "start_time": "2023-12-14T12:33:14.421Z"
   },
   {
    "duration": 61,
    "start_time": "2023-12-14T12:33:14.446Z"
   },
   {
    "duration": 417,
    "start_time": "2023-12-14T12:33:14.509Z"
   },
   {
    "duration": 409,
    "start_time": "2023-12-14T12:33:14.928Z"
   },
   {
    "duration": 13,
    "start_time": "2023-12-14T12:33:15.339Z"
   },
   {
    "duration": 39,
    "start_time": "2023-12-14T12:33:15.354Z"
   },
   {
    "duration": 63,
    "start_time": "2023-12-14T12:33:15.394Z"
   },
   {
    "duration": 5,
    "start_time": "2023-12-14T12:33:15.459Z"
   },
   {
    "duration": 8,
    "start_time": "2023-12-14T12:33:15.466Z"
   },
   {
    "duration": 382,
    "start_time": "2023-12-14T12:33:15.475Z"
   },
   {
    "duration": 380,
    "start_time": "2023-12-14T12:33:15.859Z"
   },
   {
    "duration": 6,
    "start_time": "2023-12-14T12:33:16.241Z"
   },
   {
    "duration": 8,
    "start_time": "2023-12-14T12:33:16.252Z"
   },
   {
    "duration": 8,
    "start_time": "2023-12-14T12:33:16.261Z"
   },
   {
    "duration": 14,
    "start_time": "2023-12-14T12:33:16.270Z"
   },
   {
    "duration": 10,
    "start_time": "2023-12-14T12:36:35.734Z"
   },
   {
    "duration": 144,
    "start_time": "2023-12-14T13:11:09.288Z"
   },
   {
    "duration": 10,
    "start_time": "2023-12-14T13:11:16.856Z"
   },
   {
    "duration": 10,
    "start_time": "2023-12-14T13:11:18.040Z"
   },
   {
    "duration": 10,
    "start_time": "2023-12-14T13:12:03.697Z"
   },
   {
    "duration": 9,
    "start_time": "2023-12-14T13:12:15.874Z"
   },
   {
    "duration": 104,
    "start_time": "2023-12-14T13:12:16.823Z"
   },
   {
    "duration": 10,
    "start_time": "2023-12-14T13:12:26.894Z"
   },
   {
    "duration": 4,
    "start_time": "2023-12-14T13:13:20.641Z"
   },
   {
    "duration": 769,
    "start_time": "2023-12-14T13:13:39.972Z"
   },
   {
    "duration": 868,
    "start_time": "2023-12-14T13:13:58.641Z"
   },
   {
    "duration": 31,
    "start_time": "2023-12-14T13:14:32.884Z"
   },
   {
    "duration": 3,
    "start_time": "2023-12-14T13:15:01.303Z"
   },
   {
    "duration": 11,
    "start_time": "2023-12-14T13:15:04.390Z"
   },
   {
    "duration": 12,
    "start_time": "2023-12-14T13:15:53.027Z"
   },
   {
    "duration": 9,
    "start_time": "2023-12-14T13:16:07.714Z"
   },
   {
    "duration": 3,
    "start_time": "2023-12-14T13:16:08.740Z"
   },
   {
    "duration": 12,
    "start_time": "2023-12-14T13:16:09.391Z"
   },
   {
    "duration": 8,
    "start_time": "2023-12-14T13:16:29.092Z"
   },
   {
    "duration": 11,
    "start_time": "2023-12-14T13:17:54.385Z"
   },
   {
    "duration": 18,
    "start_time": "2023-12-14T13:18:05.255Z"
   },
   {
    "duration": 9,
    "start_time": "2023-12-14T13:18:40.827Z"
   },
   {
    "duration": 78,
    "start_time": "2023-12-14T13:18:51.887Z"
   },
   {
    "duration": 6,
    "start_time": "2023-12-14T13:18:59.150Z"
   },
   {
    "duration": 14,
    "start_time": "2023-12-14T13:19:28.831Z"
   },
   {
    "duration": 9,
    "start_time": "2023-12-14T13:19:36.130Z"
   },
   {
    "duration": 5,
    "start_time": "2023-12-14T13:19:36.778Z"
   },
   {
    "duration": 12,
    "start_time": "2023-12-14T13:19:37.381Z"
   },
   {
    "duration": 18,
    "start_time": "2023-12-14T13:21:49.555Z"
   },
   {
    "duration": 10,
    "start_time": "2023-12-14T13:21:57.030Z"
   },
   {
    "duration": 10,
    "start_time": "2023-12-14T13:21:57.904Z"
   },
   {
    "duration": 19,
    "start_time": "2023-12-14T13:21:59.444Z"
   },
   {
    "duration": 31,
    "start_time": "2023-12-14T13:22:20.578Z"
   },
   {
    "duration": 11,
    "start_time": "2023-12-14T13:25:25.069Z"
   },
   {
    "duration": 7,
    "start_time": "2023-12-14T13:25:25.630Z"
   },
   {
    "duration": 11,
    "start_time": "2023-12-14T13:26:01.016Z"
   },
   {
    "duration": 11,
    "start_time": "2023-12-14T13:26:50.029Z"
   },
   {
    "duration": 9,
    "start_time": "2023-12-14T13:26:50.511Z"
   },
   {
    "duration": 13,
    "start_time": "2023-12-14T13:28:38.150Z"
   },
   {
    "duration": 8,
    "start_time": "2023-12-14T13:28:54.425Z"
   },
   {
    "duration": 11,
    "start_time": "2023-12-14T13:29:26.306Z"
   },
   {
    "duration": 81,
    "start_time": "2023-12-14T13:29:55.372Z"
   },
   {
    "duration": 83,
    "start_time": "2023-12-14T13:30:01.221Z"
   },
   {
    "duration": 1131,
    "start_time": "2023-12-14T13:30:22.160Z"
   },
   {
    "duration": 36,
    "start_time": "2023-12-14T13:30:23.293Z"
   },
   {
    "duration": 95,
    "start_time": "2023-12-14T13:30:23.331Z"
   },
   {
    "duration": 9,
    "start_time": "2023-12-14T13:30:23.428Z"
   },
   {
    "duration": 28,
    "start_time": "2023-12-14T13:30:23.438Z"
   },
   {
    "duration": 2,
    "start_time": "2023-12-14T13:30:23.468Z"
   },
   {
    "duration": 25,
    "start_time": "2023-12-14T13:30:23.471Z"
   },
   {
    "duration": 24,
    "start_time": "2023-12-14T13:30:23.497Z"
   },
   {
    "duration": 54,
    "start_time": "2023-12-14T13:30:23.523Z"
   },
   {
    "duration": 18,
    "start_time": "2023-12-14T13:30:23.579Z"
   },
   {
    "duration": 16,
    "start_time": "2023-12-14T13:30:23.598Z"
   },
   {
    "duration": 43,
    "start_time": "2023-12-14T13:30:23.615Z"
   },
   {
    "duration": 9,
    "start_time": "2023-12-14T13:30:23.660Z"
   },
   {
    "duration": 17,
    "start_time": "2023-12-14T13:30:23.670Z"
   },
   {
    "duration": 25,
    "start_time": "2023-12-14T13:30:23.688Z"
   },
   {
    "duration": 8,
    "start_time": "2023-12-14T13:30:23.714Z"
   },
   {
    "duration": 49,
    "start_time": "2023-12-14T13:30:23.723Z"
   },
   {
    "duration": 9,
    "start_time": "2023-12-14T13:30:23.774Z"
   },
   {
    "duration": 52,
    "start_time": "2023-12-14T13:30:23.784Z"
   },
   {
    "duration": 31,
    "start_time": "2023-12-14T13:30:23.837Z"
   },
   {
    "duration": 4,
    "start_time": "2023-12-14T13:30:23.869Z"
   },
   {
    "duration": 389,
    "start_time": "2023-12-14T13:30:23.874Z"
   },
   {
    "duration": 23,
    "start_time": "2023-12-14T13:30:24.264Z"
   },
   {
    "duration": 164,
    "start_time": "2023-12-14T13:30:24.288Z"
   },
   {
    "duration": 21,
    "start_time": "2023-12-14T13:30:24.454Z"
   },
   {
    "duration": 59,
    "start_time": "2023-12-14T13:30:24.476Z"
   },
   {
    "duration": 23,
    "start_time": "2023-12-14T13:30:24.536Z"
   },
   {
    "duration": 4,
    "start_time": "2023-12-14T13:30:24.563Z"
   },
   {
    "duration": 748,
    "start_time": "2023-12-14T13:30:24.568Z"
   },
   {
    "duration": 35,
    "start_time": "2023-12-14T13:30:25.318Z"
   },
   {
    "duration": 4,
    "start_time": "2023-12-14T13:30:25.355Z"
   },
   {
    "duration": 10,
    "start_time": "2023-12-14T13:30:25.360Z"
   },
   {
    "duration": 12,
    "start_time": "2023-12-14T13:30:25.372Z"
   },
   {
    "duration": 9,
    "start_time": "2023-12-14T13:30:25.386Z"
   },
   {
    "duration": 29,
    "start_time": "2023-12-14T13:30:25.396Z"
   },
   {
    "duration": 32,
    "start_time": "2023-12-14T13:30:25.426Z"
   },
   {
    "duration": 5,
    "start_time": "2023-12-14T13:30:25.460Z"
   },
   {
    "duration": 12,
    "start_time": "2023-12-14T13:30:25.466Z"
   },
   {
    "duration": 10,
    "start_time": "2023-12-14T13:30:25.480Z"
   },
   {
    "duration": 9,
    "start_time": "2023-12-14T13:30:25.491Z"
   },
   {
    "duration": 11,
    "start_time": "2023-12-14T13:30:25.501Z"
   },
   {
    "duration": 652,
    "start_time": "2023-12-14T13:30:25.514Z"
   },
   {
    "duration": 22,
    "start_time": "2023-12-14T13:30:26.168Z"
   },
   {
    "duration": 7,
    "start_time": "2023-12-14T13:30:26.191Z"
   },
   {
    "duration": 119,
    "start_time": "2023-12-14T13:30:26.200Z"
   },
   {
    "duration": 3,
    "start_time": "2023-12-14T13:30:26.320Z"
   },
   {
    "duration": 29,
    "start_time": "2023-12-14T13:30:26.324Z"
   },
   {
    "duration": 8,
    "start_time": "2023-12-14T13:30:26.355Z"
   },
   {
    "duration": 6,
    "start_time": "2023-12-14T13:30:26.365Z"
   },
   {
    "duration": 11,
    "start_time": "2023-12-14T13:30:26.372Z"
   },
   {
    "duration": 94,
    "start_time": "2023-12-14T13:30:26.384Z"
   },
   {
    "duration": 0,
    "start_time": "2023-12-14T13:30:26.480Z"
   },
   {
    "duration": 0,
    "start_time": "2023-12-14T13:30:26.481Z"
   },
   {
    "duration": 0,
    "start_time": "2023-12-14T13:30:26.482Z"
   },
   {
    "duration": 0,
    "start_time": "2023-12-14T13:30:26.483Z"
   },
   {
    "duration": 0,
    "start_time": "2023-12-14T13:30:26.483Z"
   },
   {
    "duration": 0,
    "start_time": "2023-12-14T13:30:26.484Z"
   },
   {
    "duration": 0,
    "start_time": "2023-12-14T13:30:26.485Z"
   },
   {
    "duration": 0,
    "start_time": "2023-12-14T13:30:26.486Z"
   },
   {
    "duration": 0,
    "start_time": "2023-12-14T13:30:26.487Z"
   },
   {
    "duration": 0,
    "start_time": "2023-12-14T13:30:26.488Z"
   },
   {
    "duration": 0,
    "start_time": "2023-12-14T13:30:26.489Z"
   },
   {
    "duration": 0,
    "start_time": "2023-12-14T13:30:26.490Z"
   },
   {
    "duration": 0,
    "start_time": "2023-12-14T13:30:26.491Z"
   },
   {
    "duration": 0,
    "start_time": "2023-12-14T13:30:26.492Z"
   },
   {
    "duration": 0,
    "start_time": "2023-12-14T13:30:26.493Z"
   },
   {
    "duration": 0,
    "start_time": "2023-12-14T13:30:26.494Z"
   },
   {
    "duration": 0,
    "start_time": "2023-12-14T13:30:26.495Z"
   },
   {
    "duration": 0,
    "start_time": "2023-12-14T13:30:26.496Z"
   },
   {
    "duration": 0,
    "start_time": "2023-12-14T13:30:26.497Z"
   },
   {
    "duration": 0,
    "start_time": "2023-12-14T13:30:26.497Z"
   },
   {
    "duration": 0,
    "start_time": "2023-12-14T13:30:26.499Z"
   },
   {
    "duration": 1,
    "start_time": "2023-12-14T13:30:26.499Z"
   },
   {
    "duration": 0,
    "start_time": "2023-12-14T13:30:26.501Z"
   },
   {
    "duration": 0,
    "start_time": "2023-12-14T13:30:26.502Z"
   },
   {
    "duration": 0,
    "start_time": "2023-12-14T13:30:26.503Z"
   },
   {
    "duration": 0,
    "start_time": "2023-12-14T13:30:26.504Z"
   },
   {
    "duration": 0,
    "start_time": "2023-12-14T13:30:26.504Z"
   },
   {
    "duration": 0,
    "start_time": "2023-12-14T13:30:26.505Z"
   },
   {
    "duration": 0,
    "start_time": "2023-12-14T13:30:26.506Z"
   },
   {
    "duration": 0,
    "start_time": "2023-12-14T13:30:26.507Z"
   },
   {
    "duration": 0,
    "start_time": "2023-12-14T13:30:26.508Z"
   },
   {
    "duration": 0,
    "start_time": "2023-12-14T13:30:26.510Z"
   },
   {
    "duration": 0,
    "start_time": "2023-12-14T13:30:26.511Z"
   },
   {
    "duration": 0,
    "start_time": "2023-12-14T13:30:26.512Z"
   },
   {
    "duration": 0,
    "start_time": "2023-12-14T13:30:26.512Z"
   },
   {
    "duration": 7,
    "start_time": "2023-12-14T13:31:19.960Z"
   },
   {
    "duration": 1107,
    "start_time": "2023-12-14T13:31:25.881Z"
   },
   {
    "duration": 37,
    "start_time": "2023-12-14T13:31:26.990Z"
   },
   {
    "duration": 99,
    "start_time": "2023-12-14T13:31:27.029Z"
   },
   {
    "duration": 22,
    "start_time": "2023-12-14T13:31:27.130Z"
   },
   {
    "duration": 21,
    "start_time": "2023-12-14T13:31:27.155Z"
   },
   {
    "duration": 3,
    "start_time": "2023-12-14T13:31:27.178Z"
   },
   {
    "duration": 21,
    "start_time": "2023-12-14T13:31:27.183Z"
   },
   {
    "duration": 27,
    "start_time": "2023-12-14T13:31:27.205Z"
   },
   {
    "duration": 72,
    "start_time": "2023-12-14T13:31:27.233Z"
   },
   {
    "duration": 20,
    "start_time": "2023-12-14T13:31:27.307Z"
   },
   {
    "duration": 39,
    "start_time": "2023-12-14T13:31:27.328Z"
   },
   {
    "duration": 30,
    "start_time": "2023-12-14T13:31:27.369Z"
   },
   {
    "duration": 10,
    "start_time": "2023-12-14T13:31:27.401Z"
   },
   {
    "duration": 14,
    "start_time": "2023-12-14T13:31:27.414Z"
   },
   {
    "duration": 34,
    "start_time": "2023-12-14T13:31:27.429Z"
   },
   {
    "duration": 2,
    "start_time": "2023-12-14T13:31:27.465Z"
   },
   {
    "duration": 39,
    "start_time": "2023-12-14T13:31:27.469Z"
   },
   {
    "duration": 10,
    "start_time": "2023-12-14T13:31:27.510Z"
   },
   {
    "duration": 74,
    "start_time": "2023-12-14T13:31:27.522Z"
   },
   {
    "duration": 21,
    "start_time": "2023-12-14T13:31:27.598Z"
   },
   {
    "duration": 4,
    "start_time": "2023-12-14T13:31:27.620Z"
   },
   {
    "duration": 386,
    "start_time": "2023-12-14T13:31:27.625Z"
   },
   {
    "duration": 22,
    "start_time": "2023-12-14T13:31:28.012Z"
   },
   {
    "duration": 117,
    "start_time": "2023-12-14T13:31:28.035Z"
   },
   {
    "duration": 22,
    "start_time": "2023-12-14T13:31:28.154Z"
   },
   {
    "duration": 76,
    "start_time": "2023-12-14T13:31:28.178Z"
   },
   {
    "duration": 13,
    "start_time": "2023-12-14T13:31:28.255Z"
   },
   {
    "duration": 17,
    "start_time": "2023-12-14T13:31:28.269Z"
   },
   {
    "duration": 767,
    "start_time": "2023-12-14T13:31:28.288Z"
   },
   {
    "duration": 23,
    "start_time": "2023-12-14T13:31:29.056Z"
   },
   {
    "duration": 4,
    "start_time": "2023-12-14T13:31:29.080Z"
   },
   {
    "duration": 16,
    "start_time": "2023-12-14T13:31:29.085Z"
   },
   {
    "duration": 13,
    "start_time": "2023-12-14T13:31:29.103Z"
   },
   {
    "duration": 7,
    "start_time": "2023-12-14T13:31:29.118Z"
   },
   {
    "duration": 45,
    "start_time": "2023-12-14T13:31:29.126Z"
   },
   {
    "duration": 8,
    "start_time": "2023-12-14T13:31:29.172Z"
   },
   {
    "duration": 4,
    "start_time": "2023-12-14T13:31:29.181Z"
   },
   {
    "duration": 9,
    "start_time": "2023-12-14T13:31:29.187Z"
   },
   {
    "duration": 5,
    "start_time": "2023-12-14T13:31:29.197Z"
   },
   {
    "duration": 9,
    "start_time": "2023-12-14T13:31:29.203Z"
   },
   {
    "duration": 7,
    "start_time": "2023-12-14T13:31:29.216Z"
   },
   {
    "duration": 616,
    "start_time": "2023-12-14T13:31:29.224Z"
   },
   {
    "duration": 26,
    "start_time": "2023-12-14T13:31:29.841Z"
   },
   {
    "duration": 8,
    "start_time": "2023-12-14T13:31:29.869Z"
   },
   {
    "duration": 102,
    "start_time": "2023-12-14T13:31:29.878Z"
   },
   {
    "duration": 2,
    "start_time": "2023-12-14T13:31:29.982Z"
   },
   {
    "duration": 12,
    "start_time": "2023-12-14T13:31:29.986Z"
   },
   {
    "duration": 9,
    "start_time": "2023-12-14T13:31:29.999Z"
   },
   {
    "duration": 52,
    "start_time": "2023-12-14T13:31:30.009Z"
   },
   {
    "duration": 45,
    "start_time": "2023-12-14T13:31:30.062Z"
   },
   {
    "duration": 147,
    "start_time": "2023-12-14T13:31:30.109Z"
   },
   {
    "duration": 0,
    "start_time": "2023-12-14T13:31:30.257Z"
   },
   {
    "duration": 0,
    "start_time": "2023-12-14T13:31:30.258Z"
   },
   {
    "duration": 0,
    "start_time": "2023-12-14T13:31:30.260Z"
   },
   {
    "duration": 0,
    "start_time": "2023-12-14T13:31:30.261Z"
   },
   {
    "duration": 0,
    "start_time": "2023-12-14T13:31:30.262Z"
   },
   {
    "duration": 0,
    "start_time": "2023-12-14T13:31:30.263Z"
   },
   {
    "duration": 0,
    "start_time": "2023-12-14T13:31:30.264Z"
   },
   {
    "duration": 0,
    "start_time": "2023-12-14T13:31:30.265Z"
   },
   {
    "duration": 0,
    "start_time": "2023-12-14T13:31:30.267Z"
   },
   {
    "duration": 0,
    "start_time": "2023-12-14T13:31:30.268Z"
   },
   {
    "duration": 0,
    "start_time": "2023-12-14T13:31:30.269Z"
   },
   {
    "duration": 0,
    "start_time": "2023-12-14T13:31:30.270Z"
   },
   {
    "duration": 0,
    "start_time": "2023-12-14T13:31:30.271Z"
   },
   {
    "duration": 0,
    "start_time": "2023-12-14T13:31:30.273Z"
   },
   {
    "duration": 0,
    "start_time": "2023-12-14T13:31:30.273Z"
   },
   {
    "duration": 0,
    "start_time": "2023-12-14T13:31:30.274Z"
   },
   {
    "duration": 0,
    "start_time": "2023-12-14T13:31:30.275Z"
   },
   {
    "duration": 0,
    "start_time": "2023-12-14T13:31:30.276Z"
   },
   {
    "duration": 0,
    "start_time": "2023-12-14T13:31:30.277Z"
   },
   {
    "duration": 0,
    "start_time": "2023-12-14T13:31:30.278Z"
   },
   {
    "duration": 0,
    "start_time": "2023-12-14T13:31:30.279Z"
   },
   {
    "duration": 0,
    "start_time": "2023-12-14T13:31:30.280Z"
   },
   {
    "duration": 0,
    "start_time": "2023-12-14T13:31:30.281Z"
   },
   {
    "duration": 0,
    "start_time": "2023-12-14T13:31:30.282Z"
   },
   {
    "duration": 0,
    "start_time": "2023-12-14T13:31:30.283Z"
   },
   {
    "duration": 0,
    "start_time": "2023-12-14T13:31:30.284Z"
   },
   {
    "duration": 0,
    "start_time": "2023-12-14T13:31:30.285Z"
   },
   {
    "duration": 0,
    "start_time": "2023-12-14T13:31:30.286Z"
   },
   {
    "duration": 0,
    "start_time": "2023-12-14T13:31:30.287Z"
   },
   {
    "duration": 0,
    "start_time": "2023-12-14T13:31:30.289Z"
   },
   {
    "duration": 0,
    "start_time": "2023-12-14T13:31:30.290Z"
   },
   {
    "duration": 0,
    "start_time": "2023-12-14T13:31:30.291Z"
   },
   {
    "duration": 0,
    "start_time": "2023-12-14T13:31:30.291Z"
   },
   {
    "duration": 0,
    "start_time": "2023-12-14T13:31:30.292Z"
   },
   {
    "duration": 0,
    "start_time": "2023-12-14T13:31:30.352Z"
   },
   {
    "duration": 9,
    "start_time": "2023-12-14T13:34:51.159Z"
   },
   {
    "duration": 7,
    "start_time": "2023-12-14T13:35:02.828Z"
   },
   {
    "duration": 9,
    "start_time": "2023-12-14T13:35:20.336Z"
   },
   {
    "duration": 153,
    "start_time": "2023-12-14T13:36:40.028Z"
   },
   {
    "duration": 12,
    "start_time": "2023-12-14T13:36:49.302Z"
   },
   {
    "duration": 1309,
    "start_time": "2023-12-14T13:37:49.155Z"
   },
   {
    "duration": 1222,
    "start_time": "2023-12-14T13:38:05.085Z"
   },
   {
    "duration": 1263,
    "start_time": "2023-12-14T13:38:37.757Z"
   },
   {
    "duration": 1257,
    "start_time": "2023-12-14T13:38:53.044Z"
   },
   {
    "duration": 1207,
    "start_time": "2023-12-14T13:39:50.190Z"
   },
   {
    "duration": 9,
    "start_time": "2023-12-14T13:41:03.219Z"
   },
   {
    "duration": 11,
    "start_time": "2023-12-14T13:41:04.920Z"
   },
   {
    "duration": 10,
    "start_time": "2023-12-14T13:42:15.359Z"
   },
   {
    "duration": 15,
    "start_time": "2023-12-14T13:42:27.606Z"
   },
   {
    "duration": 21,
    "start_time": "2023-12-14T13:43:53.192Z"
   },
   {
    "duration": 11,
    "start_time": "2023-12-14T13:44:25.689Z"
   },
   {
    "duration": 8,
    "start_time": "2023-12-14T13:44:30.495Z"
   },
   {
    "duration": 10,
    "start_time": "2023-12-14T13:44:33.031Z"
   },
   {
    "duration": 22,
    "start_time": "2023-12-14T13:44:36.064Z"
   },
   {
    "duration": 11,
    "start_time": "2023-12-14T13:45:08.808Z"
   },
   {
    "duration": 18,
    "start_time": "2023-12-14T13:45:32.857Z"
   },
   {
    "duration": 16,
    "start_time": "2023-12-14T13:45:53.751Z"
   },
   {
    "duration": 13,
    "start_time": "2023-12-14T13:46:33.208Z"
   },
   {
    "duration": 9,
    "start_time": "2023-12-14T13:47:01.129Z"
   },
   {
    "duration": 15,
    "start_time": "2023-12-14T13:49:08.272Z"
   },
   {
    "duration": 87,
    "start_time": "2023-12-14T13:50:34.475Z"
   },
   {
    "duration": 8,
    "start_time": "2023-12-14T13:51:36.127Z"
   },
   {
    "duration": 28,
    "start_time": "2023-12-14T13:58:02.025Z"
   },
   {
    "duration": 11,
    "start_time": "2023-12-14T13:58:25.654Z"
   },
   {
    "duration": 29,
    "start_time": "2023-12-14T13:58:49.698Z"
   },
   {
    "duration": 43,
    "start_time": "2023-12-14T13:58:52.450Z"
   },
   {
    "duration": 96,
    "start_time": "2023-12-14T14:01:25.047Z"
   },
   {
    "duration": 3,
    "start_time": "2023-12-14T14:06:51.449Z"
   },
   {
    "duration": 37,
    "start_time": "2023-12-14T14:09:10.959Z"
   },
   {
    "duration": 113,
    "start_time": "2023-12-14T14:09:17.350Z"
   },
   {
    "duration": 3,
    "start_time": "2023-12-14T14:09:21.876Z"
   },
   {
    "duration": 39,
    "start_time": "2023-12-14T14:09:54.131Z"
   },
   {
    "duration": 11,
    "start_time": "2023-12-14T14:09:58.227Z"
   },
   {
    "duration": 3,
    "start_time": "2023-12-14T14:10:12.511Z"
   },
   {
    "duration": 31,
    "start_time": "2023-12-14T14:10:37.528Z"
   },
   {
    "duration": 30,
    "start_time": "2023-12-14T14:11:20.248Z"
   },
   {
    "duration": 37,
    "start_time": "2023-12-14T14:11:27.983Z"
   },
   {
    "duration": 3,
    "start_time": "2023-12-14T14:11:39.800Z"
   },
   {
    "duration": 42,
    "start_time": "2023-12-14T14:14:21.187Z"
   },
   {
    "duration": 44,
    "start_time": "2023-12-14T14:14:44.306Z"
   },
   {
    "duration": 47,
    "start_time": "2023-12-14T14:14:45.780Z"
   },
   {
    "duration": 3,
    "start_time": "2023-12-14T14:15:53.996Z"
   },
   {
    "duration": 1098,
    "start_time": "2023-12-14T14:25:49.089Z"
   },
   {
    "duration": 37,
    "start_time": "2023-12-14T14:25:50.188Z"
   },
   {
    "duration": 95,
    "start_time": "2023-12-14T14:25:50.226Z"
   },
   {
    "duration": 9,
    "start_time": "2023-12-14T14:25:50.323Z"
   },
   {
    "duration": 24,
    "start_time": "2023-12-14T14:25:50.334Z"
   },
   {
    "duration": 3,
    "start_time": "2023-12-14T14:25:50.359Z"
   },
   {
    "duration": 19,
    "start_time": "2023-12-14T14:25:50.363Z"
   },
   {
    "duration": 21,
    "start_time": "2023-12-14T14:25:50.383Z"
   },
   {
    "duration": 75,
    "start_time": "2023-12-14T14:25:50.405Z"
   },
   {
    "duration": 19,
    "start_time": "2023-12-14T14:25:50.483Z"
   },
   {
    "duration": 15,
    "start_time": "2023-12-14T14:25:50.503Z"
   },
   {
    "duration": 52,
    "start_time": "2023-12-14T14:25:50.519Z"
   },
   {
    "duration": 10,
    "start_time": "2023-12-14T14:25:50.572Z"
   },
   {
    "duration": 13,
    "start_time": "2023-12-14T14:25:50.583Z"
   },
   {
    "duration": 19,
    "start_time": "2023-12-14T14:25:50.598Z"
   },
   {
    "duration": 3,
    "start_time": "2023-12-14T14:25:50.618Z"
   },
   {
    "duration": 73,
    "start_time": "2023-12-14T14:25:50.622Z"
   },
   {
    "duration": 12,
    "start_time": "2023-12-14T14:25:50.696Z"
   },
   {
    "duration": 57,
    "start_time": "2023-12-14T14:25:50.709Z"
   },
   {
    "duration": 21,
    "start_time": "2023-12-14T14:25:50.768Z"
   },
   {
    "duration": 4,
    "start_time": "2023-12-14T14:25:50.790Z"
   },
   {
    "duration": 397,
    "start_time": "2023-12-14T14:25:50.795Z"
   },
   {
    "duration": 20,
    "start_time": "2023-12-14T14:25:51.193Z"
   },
   {
    "duration": 74,
    "start_time": "2023-12-14T14:25:51.214Z"
   },
   {
    "duration": 21,
    "start_time": "2023-12-14T14:25:51.289Z"
   },
   {
    "duration": 98,
    "start_time": "2023-12-14T14:25:51.311Z"
   },
   {
    "duration": 11,
    "start_time": "2023-12-14T14:25:51.411Z"
   },
   {
    "duration": 25,
    "start_time": "2023-12-14T14:25:51.426Z"
   },
   {
    "duration": 738,
    "start_time": "2023-12-14T14:25:51.453Z"
   },
   {
    "duration": 20,
    "start_time": "2023-12-14T14:25:52.192Z"
   },
   {
    "duration": 3,
    "start_time": "2023-12-14T14:25:52.213Z"
   },
   {
    "duration": 10,
    "start_time": "2023-12-14T14:25:52.217Z"
   },
   {
    "duration": 25,
    "start_time": "2023-12-14T14:25:52.228Z"
   },
   {
    "duration": 15,
    "start_time": "2023-12-14T14:25:52.254Z"
   },
   {
    "duration": 29,
    "start_time": "2023-12-14T14:25:52.270Z"
   },
   {
    "duration": 6,
    "start_time": "2023-12-14T14:25:52.300Z"
   },
   {
    "duration": 16,
    "start_time": "2023-12-14T14:25:52.307Z"
   },
   {
    "duration": 13,
    "start_time": "2023-12-14T14:25:52.324Z"
   },
   {
    "duration": 3,
    "start_time": "2023-12-14T14:25:52.338Z"
   },
   {
    "duration": 9,
    "start_time": "2023-12-14T14:25:52.343Z"
   },
   {
    "duration": 14,
    "start_time": "2023-12-14T14:25:52.353Z"
   },
   {
    "duration": 572,
    "start_time": "2023-12-14T14:25:52.369Z"
   },
   {
    "duration": 29,
    "start_time": "2023-12-14T14:25:52.942Z"
   },
   {
    "duration": 7,
    "start_time": "2023-12-14T14:25:52.972Z"
   },
   {
    "duration": 10,
    "start_time": "2023-12-14T14:25:52.990Z"
   },
   {
    "duration": 55,
    "start_time": "2023-12-14T14:25:53.002Z"
   },
   {
    "duration": 42,
    "start_time": "2023-12-14T14:25:53.059Z"
   },
   {
    "duration": 3,
    "start_time": "2023-12-14T14:25:53.102Z"
   },
   {
    "duration": 63,
    "start_time": "2023-12-14T14:25:53.107Z"
   },
   {
    "duration": 39,
    "start_time": "2023-12-14T14:25:53.171Z"
   },
   {
    "duration": 13,
    "start_time": "2023-12-14T14:25:53.211Z"
   },
   {
    "duration": 45,
    "start_time": "2023-12-14T14:25:53.225Z"
   },
   {
    "duration": 105,
    "start_time": "2023-12-14T14:25:53.272Z"
   },
   {
    "duration": 41,
    "start_time": "2023-12-14T14:25:53.378Z"
   },
   {
    "duration": 7,
    "start_time": "2023-12-14T14:25:53.421Z"
   },
   {
    "duration": 4,
    "start_time": "2023-12-14T14:25:53.430Z"
   },
   {
    "duration": 10,
    "start_time": "2023-12-14T14:25:53.435Z"
   },
   {
    "duration": 25,
    "start_time": "2023-12-14T14:25:53.446Z"
   },
   {
    "duration": 6,
    "start_time": "2023-12-14T14:25:53.472Z"
   },
   {
    "duration": 9,
    "start_time": "2023-12-14T14:25:53.479Z"
   },
   {
    "duration": 7,
    "start_time": "2023-12-14T14:25:53.490Z"
   },
   {
    "duration": 56,
    "start_time": "2023-12-14T14:25:53.498Z"
   },
   {
    "duration": 406,
    "start_time": "2023-12-14T14:25:53.556Z"
   },
   {
    "duration": 403,
    "start_time": "2023-12-14T14:25:53.963Z"
   },
   {
    "duration": 11,
    "start_time": "2023-12-14T14:25:54.368Z"
   },
   {
    "duration": 5,
    "start_time": "2023-12-14T14:25:54.381Z"
   },
   {
    "duration": 75,
    "start_time": "2023-12-14T14:25:54.387Z"
   },
   {
    "duration": 0,
    "start_time": "2023-12-14T14:25:54.463Z"
   },
   {
    "duration": 0,
    "start_time": "2023-12-14T14:25:54.464Z"
   },
   {
    "duration": 0,
    "start_time": "2023-12-14T14:25:54.465Z"
   },
   {
    "duration": 0,
    "start_time": "2023-12-14T14:25:54.466Z"
   },
   {
    "duration": 0,
    "start_time": "2023-12-14T14:25:54.467Z"
   },
   {
    "duration": 0,
    "start_time": "2023-12-14T14:25:54.468Z"
   },
   {
    "duration": 0,
    "start_time": "2023-12-14T14:25:54.468Z"
   },
   {
    "duration": 0,
    "start_time": "2023-12-14T14:25:54.469Z"
   },
   {
    "duration": 0,
    "start_time": "2023-12-14T14:25:54.470Z"
   },
   {
    "duration": 0,
    "start_time": "2023-12-14T14:25:54.471Z"
   },
   {
    "duration": 3,
    "start_time": "2023-12-14T14:26:58.482Z"
   },
   {
    "duration": 3,
    "start_time": "2023-12-14T14:27:24.229Z"
   },
   {
    "duration": 73,
    "start_time": "2023-12-14T14:28:22.049Z"
   },
   {
    "duration": 69,
    "start_time": "2023-12-14T14:30:22.803Z"
   },
   {
    "duration": 7,
    "start_time": "2023-12-14T14:30:29.513Z"
   },
   {
    "duration": 4,
    "start_time": "2023-12-14T14:30:34.263Z"
   },
   {
    "duration": 6,
    "start_time": "2023-12-14T14:30:43.635Z"
   },
   {
    "duration": 372,
    "start_time": "2023-12-14T14:30:59.087Z"
   },
   {
    "duration": 400,
    "start_time": "2023-12-14T14:30:59.626Z"
   },
   {
    "duration": 14,
    "start_time": "2023-12-14T14:31:54.125Z"
   },
   {
    "duration": 7,
    "start_time": "2023-12-14T14:32:39.762Z"
   },
   {
    "duration": 6,
    "start_time": "2023-12-14T14:33:46.544Z"
   },
   {
    "duration": 17,
    "start_time": "2023-12-14T14:33:47.032Z"
   },
   {
    "duration": 4,
    "start_time": "2023-12-14T14:34:19.960Z"
   },
   {
    "duration": 3,
    "start_time": "2023-12-14T14:34:21.146Z"
   },
   {
    "duration": 7,
    "start_time": "2023-12-14T14:36:46.213Z"
   },
   {
    "duration": 7,
    "start_time": "2023-12-14T14:36:59.570Z"
   },
   {
    "duration": 5,
    "start_time": "2023-12-14T14:37:02.614Z"
   },
   {
    "duration": 10,
    "start_time": "2023-12-14T14:41:36.662Z"
   },
   {
    "duration": 13,
    "start_time": "2023-12-14T14:42:29.423Z"
   },
   {
    "duration": 12,
    "start_time": "2023-12-14T14:42:53.007Z"
   },
   {
    "duration": 11,
    "start_time": "2023-12-14T14:42:58.491Z"
   },
   {
    "duration": 7,
    "start_time": "2023-12-14T14:44:35.539Z"
   },
   {
    "duration": 6,
    "start_time": "2023-12-14T14:46:07.274Z"
   },
   {
    "duration": 1132,
    "start_time": "2023-12-14T14:46:18.044Z"
   },
   {
    "duration": 38,
    "start_time": "2023-12-14T14:46:19.178Z"
   },
   {
    "duration": 93,
    "start_time": "2023-12-14T14:46:19.218Z"
   },
   {
    "duration": 10,
    "start_time": "2023-12-14T14:46:19.313Z"
   },
   {
    "duration": 17,
    "start_time": "2023-12-14T14:46:19.325Z"
   },
   {
    "duration": 3,
    "start_time": "2023-12-14T14:46:19.352Z"
   },
   {
    "duration": 14,
    "start_time": "2023-12-14T14:46:19.356Z"
   },
   {
    "duration": 18,
    "start_time": "2023-12-14T14:46:19.372Z"
   },
   {
    "duration": 66,
    "start_time": "2023-12-14T14:46:19.391Z"
   },
   {
    "duration": 18,
    "start_time": "2023-12-14T14:46:19.458Z"
   },
   {
    "duration": 20,
    "start_time": "2023-12-14T14:46:19.478Z"
   },
   {
    "duration": 27,
    "start_time": "2023-12-14T14:46:19.500Z"
   },
   {
    "duration": 10,
    "start_time": "2023-12-14T14:46:19.552Z"
   },
   {
    "duration": 10,
    "start_time": "2023-12-14T14:46:19.565Z"
   },
   {
    "duration": 14,
    "start_time": "2023-12-14T14:46:19.577Z"
   },
   {
    "duration": 3,
    "start_time": "2023-12-14T14:46:19.592Z"
   },
   {
    "duration": 61,
    "start_time": "2023-12-14T14:46:19.596Z"
   },
   {
    "duration": 10,
    "start_time": "2023-12-14T14:46:19.658Z"
   },
   {
    "duration": 49,
    "start_time": "2023-12-14T14:46:19.669Z"
   },
   {
    "duration": 33,
    "start_time": "2023-12-14T14:46:19.719Z"
   },
   {
    "duration": 3,
    "start_time": "2023-12-14T14:46:19.753Z"
   },
   {
    "duration": 377,
    "start_time": "2023-12-14T14:46:19.758Z"
   },
   {
    "duration": 24,
    "start_time": "2023-12-14T14:46:20.137Z"
   },
   {
    "duration": 112,
    "start_time": "2023-12-14T14:46:20.162Z"
   },
   {
    "duration": 21,
    "start_time": "2023-12-14T14:46:20.275Z"
   },
   {
    "duration": 84,
    "start_time": "2023-12-14T14:46:20.298Z"
   },
   {
    "duration": 12,
    "start_time": "2023-12-14T14:46:20.384Z"
   },
   {
    "duration": 16,
    "start_time": "2023-12-14T14:46:20.398Z"
   },
   {
    "duration": 732,
    "start_time": "2023-12-14T14:46:20.415Z"
   },
   {
    "duration": 22,
    "start_time": "2023-12-14T14:46:21.151Z"
   },
   {
    "duration": 4,
    "start_time": "2023-12-14T14:46:21.174Z"
   },
   {
    "duration": 11,
    "start_time": "2023-12-14T14:46:21.179Z"
   },
   {
    "duration": 10,
    "start_time": "2023-12-14T14:46:21.192Z"
   },
   {
    "duration": 7,
    "start_time": "2023-12-14T14:46:21.203Z"
   },
   {
    "duration": 51,
    "start_time": "2023-12-14T14:46:21.211Z"
   },
   {
    "duration": 9,
    "start_time": "2023-12-14T14:46:21.263Z"
   },
   {
    "duration": 5,
    "start_time": "2023-12-14T14:46:21.273Z"
   },
   {
    "duration": 11,
    "start_time": "2023-12-14T14:46:21.280Z"
   },
   {
    "duration": 4,
    "start_time": "2023-12-14T14:46:21.292Z"
   },
   {
    "duration": 5,
    "start_time": "2023-12-14T14:46:21.297Z"
   },
   {
    "duration": 5,
    "start_time": "2023-12-14T14:46:21.307Z"
   },
   {
    "duration": 660,
    "start_time": "2023-12-14T14:46:21.314Z"
   },
   {
    "duration": 20,
    "start_time": "2023-12-14T14:46:21.975Z"
   },
   {
    "duration": 7,
    "start_time": "2023-12-14T14:46:21.996Z"
   },
   {
    "duration": 11,
    "start_time": "2023-12-14T14:46:22.005Z"
   },
   {
    "duration": 57,
    "start_time": "2023-12-14T14:46:22.017Z"
   },
   {
    "duration": 44,
    "start_time": "2023-12-14T14:46:22.075Z"
   },
   {
    "duration": 3,
    "start_time": "2023-12-14T14:46:22.121Z"
   },
   {
    "duration": 54,
    "start_time": "2023-12-14T14:46:22.126Z"
   },
   {
    "duration": 39,
    "start_time": "2023-12-14T14:46:22.182Z"
   },
   {
    "duration": 3,
    "start_time": "2023-12-14T14:46:22.223Z"
   },
   {
    "duration": 65,
    "start_time": "2023-12-14T14:46:22.228Z"
   },
   {
    "duration": 113,
    "start_time": "2023-12-14T14:46:22.294Z"
   },
   {
    "duration": 3,
    "start_time": "2023-12-14T14:46:22.409Z"
   },
   {
    "duration": 11,
    "start_time": "2023-12-14T14:46:22.413Z"
   },
   {
    "duration": 6,
    "start_time": "2023-12-14T14:46:22.425Z"
   },
   {
    "duration": 21,
    "start_time": "2023-12-14T14:46:22.432Z"
   },
   {
    "duration": 25,
    "start_time": "2023-12-14T14:46:22.454Z"
   },
   {
    "duration": 6,
    "start_time": "2023-12-14T14:46:22.480Z"
   },
   {
    "duration": 9,
    "start_time": "2023-12-14T14:46:22.487Z"
   },
   {
    "duration": 6,
    "start_time": "2023-12-14T14:46:22.498Z"
   },
   {
    "duration": 15,
    "start_time": "2023-12-14T14:46:22.505Z"
   },
   {
    "duration": 60,
    "start_time": "2023-12-14T14:46:22.521Z"
   },
   {
    "duration": 425,
    "start_time": "2023-12-14T14:46:22.583Z"
   },
   {
    "duration": 391,
    "start_time": "2023-12-14T14:46:23.010Z"
   },
   {
    "duration": 12,
    "start_time": "2023-12-14T14:46:23.403Z"
   },
   {
    "duration": 5,
    "start_time": "2023-12-14T14:46:23.417Z"
   },
   {
    "duration": 3,
    "start_time": "2023-12-14T14:46:23.424Z"
   },
   {
    "duration": 5,
    "start_time": "2023-12-14T14:46:23.429Z"
   },
   {
    "duration": 22,
    "start_time": "2023-12-14T14:46:23.435Z"
   },
   {
    "duration": 5,
    "start_time": "2023-12-14T14:46:23.459Z"
   },
   {
    "duration": 9,
    "start_time": "2023-12-14T14:46:23.465Z"
   },
   {
    "duration": 348,
    "start_time": "2023-12-14T14:46:23.475Z"
   },
   {
    "duration": 371,
    "start_time": "2023-12-14T14:46:23.824Z"
   },
   {
    "duration": 6,
    "start_time": "2023-12-14T14:46:24.197Z"
   },
   {
    "duration": 16,
    "start_time": "2023-12-14T14:46:24.204Z"
   },
   {
    "duration": 3,
    "start_time": "2023-12-14T14:46:24.221Z"
   },
   {
    "duration": 5,
    "start_time": "2023-12-14T14:46:24.225Z"
   },
   {
    "duration": 26,
    "start_time": "2023-12-14T14:46:24.231Z"
   },
   {
    "duration": 11,
    "start_time": "2023-12-14T14:46:24.258Z"
   },
   {
    "duration": 13,
    "start_time": "2023-12-14T14:47:01.248Z"
   },
   {
    "duration": 14,
    "start_time": "2023-12-14T14:47:11.980Z"
   },
   {
    "duration": 31,
    "start_time": "2023-12-14T14:49:00.991Z"
   },
   {
    "duration": 42,
    "start_time": "2023-12-14T14:49:20.577Z"
   },
   {
    "duration": 31,
    "start_time": "2023-12-14T14:49:28.135Z"
   },
   {
    "duration": 33,
    "start_time": "2023-12-14T14:49:36.710Z"
   },
   {
    "duration": 32,
    "start_time": "2023-12-14T14:49:48.301Z"
   },
   {
    "duration": 31,
    "start_time": "2023-12-14T14:49:52.577Z"
   },
   {
    "duration": 28,
    "start_time": "2023-12-14T14:50:54.813Z"
   },
   {
    "duration": 1126,
    "start_time": "2023-12-14T14:51:28.658Z"
   },
   {
    "duration": 37,
    "start_time": "2023-12-14T14:51:29.786Z"
   },
   {
    "duration": 93,
    "start_time": "2023-12-14T14:51:29.824Z"
   },
   {
    "duration": 10,
    "start_time": "2023-12-14T14:51:29.919Z"
   },
   {
    "duration": 53,
    "start_time": "2023-12-14T14:51:29.930Z"
   },
   {
    "duration": 22,
    "start_time": "2023-12-14T14:51:29.985Z"
   },
   {
    "duration": 96,
    "start_time": "2023-12-14T14:51:30.009Z"
   },
   {
    "duration": 47,
    "start_time": "2023-12-14T14:51:30.107Z"
   },
   {
    "duration": 55,
    "start_time": "2023-12-14T14:51:30.156Z"
   },
   {
    "duration": 18,
    "start_time": "2023-12-14T14:51:30.214Z"
   },
   {
    "duration": 27,
    "start_time": "2023-12-14T14:51:30.251Z"
   },
   {
    "duration": 43,
    "start_time": "2023-12-14T14:51:30.279Z"
   },
   {
    "duration": 10,
    "start_time": "2023-12-14T14:51:30.324Z"
   },
   {
    "duration": 49,
    "start_time": "2023-12-14T14:51:30.336Z"
   },
   {
    "duration": 51,
    "start_time": "2023-12-14T14:51:30.387Z"
   },
   {
    "duration": 43,
    "start_time": "2023-12-14T14:51:30.440Z"
   },
   {
    "duration": 105,
    "start_time": "2023-12-14T14:51:30.484Z"
   },
   {
    "duration": 34,
    "start_time": "2023-12-14T14:51:30.590Z"
   },
   {
    "duration": 87,
    "start_time": "2023-12-14T14:51:30.626Z"
   },
   {
    "duration": 40,
    "start_time": "2023-12-14T14:51:30.715Z"
   },
   {
    "duration": 22,
    "start_time": "2023-12-14T14:51:30.757Z"
   },
   {
    "duration": 431,
    "start_time": "2023-12-14T14:51:30.780Z"
   },
   {
    "duration": 21,
    "start_time": "2023-12-14T14:51:31.212Z"
   },
   {
    "duration": 66,
    "start_time": "2023-12-14T14:51:31.234Z"
   },
   {
    "duration": 70,
    "start_time": "2023-12-14T14:51:31.302Z"
   },
   {
    "duration": 86,
    "start_time": "2023-12-14T14:51:31.373Z"
   },
   {
    "duration": 14,
    "start_time": "2023-12-14T14:51:31.460Z"
   },
   {
    "duration": 19,
    "start_time": "2023-12-14T14:51:31.478Z"
   },
   {
    "duration": 762,
    "start_time": "2023-12-14T14:51:31.498Z"
   },
   {
    "duration": 23,
    "start_time": "2023-12-14T14:51:32.262Z"
   },
   {
    "duration": 94,
    "start_time": "2023-12-14T14:51:32.286Z"
   },
   {
    "duration": 60,
    "start_time": "2023-12-14T14:51:32.382Z"
   },
   {
    "duration": 33,
    "start_time": "2023-12-14T14:51:32.444Z"
   },
   {
    "duration": 17,
    "start_time": "2023-12-14T14:51:32.478Z"
   },
   {
    "duration": 34,
    "start_time": "2023-12-14T14:51:32.497Z"
   },
   {
    "duration": 24,
    "start_time": "2023-12-14T14:51:32.533Z"
   },
   {
    "duration": 24,
    "start_time": "2023-12-14T14:51:32.559Z"
   },
   {
    "duration": 22,
    "start_time": "2023-12-14T14:51:32.584Z"
   },
   {
    "duration": 20,
    "start_time": "2023-12-14T14:51:32.608Z"
   },
   {
    "duration": 41,
    "start_time": "2023-12-14T14:51:32.629Z"
   },
   {
    "duration": 43,
    "start_time": "2023-12-14T14:51:32.671Z"
   },
   {
    "duration": 611,
    "start_time": "2023-12-14T14:51:32.715Z"
   },
   {
    "duration": 32,
    "start_time": "2023-12-14T14:51:33.327Z"
   },
   {
    "duration": 14,
    "start_time": "2023-12-14T14:51:33.360Z"
   },
   {
    "duration": 10,
    "start_time": "2023-12-14T14:51:33.375Z"
   },
   {
    "duration": 39,
    "start_time": "2023-12-14T14:51:33.386Z"
   },
   {
    "duration": 46,
    "start_time": "2023-12-14T14:51:33.426Z"
   },
   {
    "duration": 3,
    "start_time": "2023-12-14T14:51:33.473Z"
   },
   {
    "duration": 33,
    "start_time": "2023-12-14T14:51:33.477Z"
   },
   {
    "duration": 53,
    "start_time": "2023-12-14T14:51:33.511Z"
   },
   {
    "duration": 3,
    "start_time": "2023-12-14T14:51:33.565Z"
   },
   {
    "duration": 54,
    "start_time": "2023-12-14T14:51:33.569Z"
   },
   {
    "duration": 105,
    "start_time": "2023-12-14T14:51:33.624Z"
   },
   {
    "duration": 3,
    "start_time": "2023-12-14T14:51:33.730Z"
   },
   {
    "duration": 24,
    "start_time": "2023-12-14T14:51:33.734Z"
   },
   {
    "duration": 16,
    "start_time": "2023-12-14T14:51:33.760Z"
   },
   {
    "duration": 28,
    "start_time": "2023-12-14T14:51:33.777Z"
   },
   {
    "duration": 49,
    "start_time": "2023-12-14T14:51:33.807Z"
   },
   {
    "duration": 5,
    "start_time": "2023-12-14T14:51:33.859Z"
   },
   {
    "duration": 19,
    "start_time": "2023-12-14T14:51:33.866Z"
   },
   {
    "duration": 22,
    "start_time": "2023-12-14T14:51:33.887Z"
   },
   {
    "duration": 24,
    "start_time": "2023-12-14T14:51:33.911Z"
   },
   {
    "duration": 55,
    "start_time": "2023-12-14T14:51:33.936Z"
   },
   {
    "duration": 421,
    "start_time": "2023-12-14T14:51:33.993Z"
   },
   {
    "duration": 369,
    "start_time": "2023-12-14T14:51:34.415Z"
   },
   {
    "duration": 13,
    "start_time": "2023-12-14T14:51:34.786Z"
   },
   {
    "duration": 17,
    "start_time": "2023-12-14T14:51:34.800Z"
   },
   {
    "duration": 10,
    "start_time": "2023-12-14T14:51:34.819Z"
   },
   {
    "duration": 29,
    "start_time": "2023-12-14T14:51:34.830Z"
   },
   {
    "duration": 17,
    "start_time": "2023-12-14T14:51:34.861Z"
   },
   {
    "duration": 13,
    "start_time": "2023-12-14T14:51:34.879Z"
   },
   {
    "duration": 21,
    "start_time": "2023-12-14T14:51:34.893Z"
   },
   {
    "duration": 376,
    "start_time": "2023-12-14T14:51:34.915Z"
   },
   {
    "duration": 379,
    "start_time": "2023-12-14T14:51:35.293Z"
   },
   {
    "duration": 7,
    "start_time": "2023-12-14T14:51:35.673Z"
   },
   {
    "duration": 38,
    "start_time": "2023-12-14T14:51:35.681Z"
   },
   {
    "duration": 12,
    "start_time": "2023-12-14T14:51:35.721Z"
   },
   {
    "duration": 22,
    "start_time": "2023-12-14T14:51:35.735Z"
   },
   {
    "duration": 31,
    "start_time": "2023-12-14T14:51:35.758Z"
   },
   {
    "duration": 30,
    "start_time": "2023-12-14T14:51:35.791Z"
   },
   {
    "duration": 1393,
    "start_time": "2023-12-14T15:31:35.014Z"
   },
   {
    "duration": 1088,
    "start_time": "2023-12-14T15:31:53.605Z"
   },
   {
    "duration": 37,
    "start_time": "2023-12-14T15:31:54.694Z"
   },
   {
    "duration": 99,
    "start_time": "2023-12-14T15:31:54.733Z"
   },
   {
    "duration": 9,
    "start_time": "2023-12-14T15:31:54.834Z"
   },
   {
    "duration": 24,
    "start_time": "2023-12-14T15:31:54.845Z"
   },
   {
    "duration": 3,
    "start_time": "2023-12-14T15:31:54.870Z"
   },
   {
    "duration": 17,
    "start_time": "2023-12-14T15:31:54.875Z"
   },
   {
    "duration": 21,
    "start_time": "2023-12-14T15:31:54.893Z"
   },
   {
    "duration": 79,
    "start_time": "2023-12-14T15:31:54.916Z"
   },
   {
    "duration": 20,
    "start_time": "2023-12-14T15:31:54.997Z"
   },
   {
    "duration": 16,
    "start_time": "2023-12-14T15:31:55.019Z"
   },
   {
    "duration": 29,
    "start_time": "2023-12-14T15:31:55.052Z"
   },
   {
    "duration": 11,
    "start_time": "2023-12-14T15:31:55.082Z"
   },
   {
    "duration": 12,
    "start_time": "2023-12-14T15:31:55.095Z"
   },
   {
    "duration": 45,
    "start_time": "2023-12-14T15:31:55.108Z"
   },
   {
    "duration": 3,
    "start_time": "2023-12-14T15:31:55.154Z"
   },
   {
    "duration": 41,
    "start_time": "2023-12-14T15:31:55.159Z"
   },
   {
    "duration": 10,
    "start_time": "2023-12-14T15:31:55.201Z"
   },
   {
    "duration": 59,
    "start_time": "2023-12-14T15:31:55.212Z"
   },
   {
    "duration": 19,
    "start_time": "2023-12-14T15:31:55.273Z"
   },
   {
    "duration": 3,
    "start_time": "2023-12-14T15:31:55.294Z"
   },
   {
    "duration": 391,
    "start_time": "2023-12-14T15:31:55.298Z"
   },
   {
    "duration": 22,
    "start_time": "2023-12-14T15:31:55.690Z"
   },
   {
    "duration": 81,
    "start_time": "2023-12-14T15:31:55.713Z"
   },
   {
    "duration": 70,
    "start_time": "2023-12-14T15:31:55.796Z"
   },
   {
    "duration": 58,
    "start_time": "2023-12-14T15:31:55.868Z"
   },
   {
    "duration": 25,
    "start_time": "2023-12-14T15:31:55.927Z"
   },
   {
    "duration": 3,
    "start_time": "2023-12-14T15:31:55.956Z"
   },
   {
    "duration": 711,
    "start_time": "2023-12-14T15:31:55.961Z"
   },
   {
    "duration": 23,
    "start_time": "2023-12-14T15:31:56.673Z"
   },
   {
    "duration": 4,
    "start_time": "2023-12-14T15:31:56.697Z"
   },
   {
    "duration": 156,
    "start_time": "2023-12-14T15:31:56.702Z"
   },
   {
    "duration": 0,
    "start_time": "2023-12-14T15:31:56.859Z"
   },
   {
    "duration": 0,
    "start_time": "2023-12-14T15:31:56.860Z"
   },
   {
    "duration": 1,
    "start_time": "2023-12-14T15:31:56.861Z"
   },
   {
    "duration": 0,
    "start_time": "2023-12-14T15:31:56.863Z"
   },
   {
    "duration": 0,
    "start_time": "2023-12-14T15:31:56.864Z"
   },
   {
    "duration": 0,
    "start_time": "2023-12-14T15:31:56.865Z"
   },
   {
    "duration": 0,
    "start_time": "2023-12-14T15:31:56.865Z"
   },
   {
    "duration": 0,
    "start_time": "2023-12-14T15:31:56.866Z"
   },
   {
    "duration": 0,
    "start_time": "2023-12-14T15:31:56.868Z"
   },
   {
    "duration": 0,
    "start_time": "2023-12-14T15:31:56.868Z"
   },
   {
    "duration": 0,
    "start_time": "2023-12-14T15:31:56.869Z"
   },
   {
    "duration": 0,
    "start_time": "2023-12-14T15:31:56.870Z"
   },
   {
    "duration": 0,
    "start_time": "2023-12-14T15:31:56.871Z"
   },
   {
    "duration": 0,
    "start_time": "2023-12-14T15:31:56.872Z"
   },
   {
    "duration": 0,
    "start_time": "2023-12-14T15:31:56.873Z"
   },
   {
    "duration": 0,
    "start_time": "2023-12-14T15:31:56.874Z"
   },
   {
    "duration": 0,
    "start_time": "2023-12-14T15:31:56.874Z"
   },
   {
    "duration": 0,
    "start_time": "2023-12-14T15:31:56.876Z"
   },
   {
    "duration": 0,
    "start_time": "2023-12-14T15:31:56.876Z"
   },
   {
    "duration": 0,
    "start_time": "2023-12-14T15:31:56.877Z"
   },
   {
    "duration": 0,
    "start_time": "2023-12-14T15:31:56.878Z"
   },
   {
    "duration": 0,
    "start_time": "2023-12-14T15:31:56.879Z"
   },
   {
    "duration": 0,
    "start_time": "2023-12-14T15:31:56.880Z"
   },
   {
    "duration": 0,
    "start_time": "2023-12-14T15:31:56.881Z"
   },
   {
    "duration": 0,
    "start_time": "2023-12-14T15:31:56.882Z"
   },
   {
    "duration": 0,
    "start_time": "2023-12-14T15:31:56.883Z"
   },
   {
    "duration": 0,
    "start_time": "2023-12-14T15:31:56.884Z"
   },
   {
    "duration": 0,
    "start_time": "2023-12-14T15:31:56.884Z"
   },
   {
    "duration": 0,
    "start_time": "2023-12-14T15:31:56.886Z"
   },
   {
    "duration": 0,
    "start_time": "2023-12-14T15:31:56.886Z"
   },
   {
    "duration": 0,
    "start_time": "2023-12-14T15:31:56.887Z"
   },
   {
    "duration": 0,
    "start_time": "2023-12-14T15:31:56.888Z"
   },
   {
    "duration": 0,
    "start_time": "2023-12-14T15:31:56.889Z"
   },
   {
    "duration": 0,
    "start_time": "2023-12-14T15:31:56.890Z"
   },
   {
    "duration": 1,
    "start_time": "2023-12-14T15:31:56.891Z"
   },
   {
    "duration": 0,
    "start_time": "2023-12-14T15:31:56.893Z"
   },
   {
    "duration": 0,
    "start_time": "2023-12-14T15:31:56.894Z"
   },
   {
    "duration": 0,
    "start_time": "2023-12-14T15:31:56.895Z"
   },
   {
    "duration": 0,
    "start_time": "2023-12-14T15:31:56.952Z"
   },
   {
    "duration": 0,
    "start_time": "2023-12-14T15:31:56.953Z"
   },
   {
    "duration": 0,
    "start_time": "2023-12-14T15:31:56.954Z"
   },
   {
    "duration": 0,
    "start_time": "2023-12-14T15:31:56.955Z"
   },
   {
    "duration": 0,
    "start_time": "2023-12-14T15:31:56.956Z"
   },
   {
    "duration": 0,
    "start_time": "2023-12-14T15:31:56.958Z"
   },
   {
    "duration": 0,
    "start_time": "2023-12-14T15:31:56.959Z"
   },
   {
    "duration": 0,
    "start_time": "2023-12-14T15:31:56.960Z"
   },
   {
    "duration": 0,
    "start_time": "2023-12-14T15:31:56.961Z"
   },
   {
    "duration": 0,
    "start_time": "2023-12-14T15:31:56.962Z"
   },
   {
    "duration": 0,
    "start_time": "2023-12-14T15:31:56.963Z"
   },
   {
    "duration": 20,
    "start_time": "2023-12-14T15:32:20.984Z"
   },
   {
    "duration": 9,
    "start_time": "2023-12-14T15:40:34.982Z"
   },
   {
    "duration": 20,
    "start_time": "2023-12-14T15:44:24.578Z"
   },
   {
    "duration": 18,
    "start_time": "2023-12-14T15:44:50.930Z"
   },
   {
    "duration": 17,
    "start_time": "2023-12-14T15:45:05.638Z"
   },
   {
    "duration": 5,
    "start_time": "2023-12-14T15:45:41.312Z"
   },
   {
    "duration": 6,
    "start_time": "2023-12-14T15:48:14.274Z"
   },
   {
    "duration": 18,
    "start_time": "2023-12-14T15:49:36.974Z"
   },
   {
    "duration": 46,
    "start_time": "2023-12-14T15:53:15.515Z"
   },
   {
    "duration": 18,
    "start_time": "2023-12-14T15:53:54.477Z"
   },
   {
    "duration": 71,
    "start_time": "2023-12-14T15:56:54.267Z"
   },
   {
    "duration": 9,
    "start_time": "2023-12-14T15:56:59.872Z"
   },
   {
    "duration": 6,
    "start_time": "2023-12-14T15:57:06.656Z"
   },
   {
    "duration": 6,
    "start_time": "2023-12-14T15:57:11.391Z"
   },
   {
    "duration": 110,
    "start_time": "2023-12-14T16:01:54.162Z"
   },
   {
    "duration": 170,
    "start_time": "2023-12-14T16:01:59.407Z"
   },
   {
    "duration": 112,
    "start_time": "2023-12-14T16:02:54.219Z"
   },
   {
    "duration": 119,
    "start_time": "2023-12-14T16:03:03.399Z"
   },
   {
    "duration": 98,
    "start_time": "2023-12-14T16:03:09.501Z"
   },
   {
    "duration": 282,
    "start_time": "2023-12-14T16:03:53.967Z"
   },
   {
    "duration": 102,
    "start_time": "2023-12-14T16:04:26.296Z"
   },
   {
    "duration": 95,
    "start_time": "2023-12-14T16:04:31.189Z"
   },
   {
    "duration": 100,
    "start_time": "2023-12-14T16:04:37.907Z"
   },
   {
    "duration": 93,
    "start_time": "2023-12-14T16:04:43.290Z"
   },
   {
    "duration": 10,
    "start_time": "2023-12-14T16:05:39.882Z"
   },
   {
    "duration": 112,
    "start_time": "2023-12-14T16:07:29.469Z"
   },
   {
    "duration": 131,
    "start_time": "2023-12-14T16:07:34.999Z"
   },
   {
    "duration": 119,
    "start_time": "2023-12-14T16:07:38.654Z"
   },
   {
    "duration": 96,
    "start_time": "2023-12-14T16:09:33.882Z"
   },
   {
    "duration": 101,
    "start_time": "2023-12-14T16:09:42.916Z"
   },
   {
    "duration": 89,
    "start_time": "2023-12-14T16:09:47.320Z"
   },
   {
    "duration": 167,
    "start_time": "2023-12-14T16:09:54.160Z"
   },
   {
    "duration": 92,
    "start_time": "2023-12-14T16:10:05.650Z"
   },
   {
    "duration": 103,
    "start_time": "2023-12-14T16:10:09.804Z"
   },
   {
    "duration": 84,
    "start_time": "2023-12-14T16:10:26.467Z"
   },
   {
    "duration": 93,
    "start_time": "2023-12-14T16:10:29.437Z"
   },
   {
    "duration": 95,
    "start_time": "2023-12-14T16:10:41.898Z"
   },
   {
    "duration": 107,
    "start_time": "2023-12-14T16:10:51.784Z"
   },
   {
    "duration": 101,
    "start_time": "2023-12-14T16:10:54.612Z"
   },
   {
    "duration": 101,
    "start_time": "2023-12-14T16:10:57.371Z"
   },
   {
    "duration": 3,
    "start_time": "2023-12-14T16:12:32.526Z"
   },
   {
    "duration": 95,
    "start_time": "2023-12-14T16:12:43.167Z"
   },
   {
    "duration": 108,
    "start_time": "2023-12-14T16:12:54.793Z"
   },
   {
    "duration": 81,
    "start_time": "2023-12-14T16:13:24.860Z"
   },
   {
    "duration": 1106,
    "start_time": "2023-12-14T16:13:34.181Z"
   },
   {
    "duration": 36,
    "start_time": "2023-12-14T16:13:35.288Z"
   },
   {
    "duration": 89,
    "start_time": "2023-12-14T16:13:35.325Z"
   },
   {
    "duration": 8,
    "start_time": "2023-12-14T16:13:35.416Z"
   },
   {
    "duration": 18,
    "start_time": "2023-12-14T16:13:35.425Z"
   },
   {
    "duration": 9,
    "start_time": "2023-12-14T16:13:35.444Z"
   },
   {
    "duration": 18,
    "start_time": "2023-12-14T16:13:35.454Z"
   },
   {
    "duration": 18,
    "start_time": "2023-12-14T16:13:35.474Z"
   },
   {
    "duration": 64,
    "start_time": "2023-12-14T16:13:35.493Z"
   },
   {
    "duration": 17,
    "start_time": "2023-12-14T16:13:35.560Z"
   },
   {
    "duration": 13,
    "start_time": "2023-12-14T16:13:35.579Z"
   },
   {
    "duration": 29,
    "start_time": "2023-12-14T16:13:35.594Z"
   },
   {
    "duration": 31,
    "start_time": "2023-12-14T16:13:35.624Z"
   },
   {
    "duration": 35,
    "start_time": "2023-12-14T16:13:35.656Z"
   },
   {
    "duration": 14,
    "start_time": "2023-12-14T16:13:35.692Z"
   },
   {
    "duration": 2,
    "start_time": "2023-12-14T16:13:35.708Z"
   },
   {
    "duration": 50,
    "start_time": "2023-12-14T16:13:35.712Z"
   },
   {
    "duration": 11,
    "start_time": "2023-12-14T16:13:35.763Z"
   },
   {
    "duration": 64,
    "start_time": "2023-12-14T16:13:35.775Z"
   },
   {
    "duration": 20,
    "start_time": "2023-12-14T16:13:35.840Z"
   },
   {
    "duration": 3,
    "start_time": "2023-12-14T16:13:35.862Z"
   },
   {
    "duration": 368,
    "start_time": "2023-12-14T16:13:35.866Z"
   },
   {
    "duration": 22,
    "start_time": "2023-12-14T16:13:36.236Z"
   },
   {
    "duration": 102,
    "start_time": "2023-12-14T16:13:36.259Z"
   },
   {
    "duration": 20,
    "start_time": "2023-12-14T16:13:36.363Z"
   },
   {
    "duration": 91,
    "start_time": "2023-12-14T16:13:36.385Z"
   },
   {
    "duration": 15,
    "start_time": "2023-12-14T16:13:36.478Z"
   },
   {
    "duration": 4,
    "start_time": "2023-12-14T16:13:36.497Z"
   },
   {
    "duration": 745,
    "start_time": "2023-12-14T16:13:36.503Z"
   },
   {
    "duration": 24,
    "start_time": "2023-12-14T16:13:37.252Z"
   },
   {
    "duration": 5,
    "start_time": "2023-12-14T16:13:37.277Z"
   },
   {
    "duration": 31,
    "start_time": "2023-12-14T16:13:37.283Z"
   },
   {
    "duration": 111,
    "start_time": "2023-12-14T16:13:37.316Z"
   },
   {
    "duration": 0,
    "start_time": "2023-12-14T16:13:37.429Z"
   },
   {
    "duration": 0,
    "start_time": "2023-12-14T16:13:37.430Z"
   },
   {
    "duration": 0,
    "start_time": "2023-12-14T16:13:37.430Z"
   },
   {
    "duration": 0,
    "start_time": "2023-12-14T16:13:37.432Z"
   },
   {
    "duration": 0,
    "start_time": "2023-12-14T16:13:37.433Z"
   },
   {
    "duration": 0,
    "start_time": "2023-12-14T16:13:37.434Z"
   },
   {
    "duration": 0,
    "start_time": "2023-12-14T16:13:37.434Z"
   },
   {
    "duration": 0,
    "start_time": "2023-12-14T16:13:37.435Z"
   },
   {
    "duration": 0,
    "start_time": "2023-12-14T16:13:37.436Z"
   },
   {
    "duration": 0,
    "start_time": "2023-12-14T16:13:37.437Z"
   },
   {
    "duration": 0,
    "start_time": "2023-12-14T16:13:37.438Z"
   },
   {
    "duration": 0,
    "start_time": "2023-12-14T16:13:37.439Z"
   },
   {
    "duration": 0,
    "start_time": "2023-12-14T16:13:37.440Z"
   },
   {
    "duration": 0,
    "start_time": "2023-12-14T16:13:37.441Z"
   },
   {
    "duration": 0,
    "start_time": "2023-12-14T16:13:37.442Z"
   },
   {
    "duration": 0,
    "start_time": "2023-12-14T16:13:37.443Z"
   },
   {
    "duration": 0,
    "start_time": "2023-12-14T16:13:37.443Z"
   },
   {
    "duration": 0,
    "start_time": "2023-12-14T16:13:37.444Z"
   },
   {
    "duration": 0,
    "start_time": "2023-12-14T16:13:37.445Z"
   },
   {
    "duration": 0,
    "start_time": "2023-12-14T16:13:37.446Z"
   },
   {
    "duration": 0,
    "start_time": "2023-12-14T16:13:37.447Z"
   },
   {
    "duration": 0,
    "start_time": "2023-12-14T16:13:37.448Z"
   },
   {
    "duration": 0,
    "start_time": "2023-12-14T16:13:37.449Z"
   },
   {
    "duration": 0,
    "start_time": "2023-12-14T16:13:37.450Z"
   },
   {
    "duration": 0,
    "start_time": "2023-12-14T16:13:37.451Z"
   },
   {
    "duration": 0,
    "start_time": "2023-12-14T16:13:37.452Z"
   },
   {
    "duration": 0,
    "start_time": "2023-12-14T16:13:37.453Z"
   },
   {
    "duration": 0,
    "start_time": "2023-12-14T16:13:37.454Z"
   },
   {
    "duration": 0,
    "start_time": "2023-12-14T16:13:37.455Z"
   },
   {
    "duration": 0,
    "start_time": "2023-12-14T16:13:37.456Z"
   },
   {
    "duration": 0,
    "start_time": "2023-12-14T16:13:37.457Z"
   },
   {
    "duration": 0,
    "start_time": "2023-12-14T16:13:37.458Z"
   },
   {
    "duration": 0,
    "start_time": "2023-12-14T16:13:37.459Z"
   },
   {
    "duration": 0,
    "start_time": "2023-12-14T16:13:37.460Z"
   },
   {
    "duration": 0,
    "start_time": "2023-12-14T16:13:37.460Z"
   },
   {
    "duration": 0,
    "start_time": "2023-12-14T16:13:37.461Z"
   },
   {
    "duration": 0,
    "start_time": "2023-12-14T16:13:37.462Z"
   },
   {
    "duration": 0,
    "start_time": "2023-12-14T16:13:37.463Z"
   },
   {
    "duration": 0,
    "start_time": "2023-12-14T16:13:37.463Z"
   },
   {
    "duration": 0,
    "start_time": "2023-12-14T16:13:37.464Z"
   },
   {
    "duration": 0,
    "start_time": "2023-12-14T16:13:37.465Z"
   },
   {
    "duration": 0,
    "start_time": "2023-12-14T16:13:37.466Z"
   },
   {
    "duration": 0,
    "start_time": "2023-12-14T16:13:37.467Z"
   },
   {
    "duration": 0,
    "start_time": "2023-12-14T16:13:37.468Z"
   },
   {
    "duration": 0,
    "start_time": "2023-12-14T16:13:37.469Z"
   },
   {
    "duration": 0,
    "start_time": "2023-12-14T16:13:37.470Z"
   },
   {
    "duration": 0,
    "start_time": "2023-12-14T16:13:37.470Z"
   },
   {
    "duration": 0,
    "start_time": "2023-12-14T16:13:37.471Z"
   },
   {
    "duration": 0,
    "start_time": "2023-12-14T16:13:37.472Z"
   },
   {
    "duration": 109,
    "start_time": "2023-12-14T16:15:27.506Z"
   },
   {
    "duration": 166,
    "start_time": "2023-12-14T16:16:02.786Z"
   },
   {
    "duration": 18,
    "start_time": "2023-12-14T16:18:39.188Z"
   },
   {
    "duration": 18,
    "start_time": "2023-12-14T16:18:51.336Z"
   },
   {
    "duration": 694,
    "start_time": "2023-12-14T16:34:02.443Z"
   },
   {
    "duration": 749,
    "start_time": "2023-12-14T16:34:13.558Z"
   },
   {
    "duration": 700,
    "start_time": "2023-12-14T16:34:21.346Z"
   },
   {
    "duration": 77,
    "start_time": "2023-12-14T16:35:19.437Z"
   },
   {
    "duration": 1099,
    "start_time": "2023-12-14T16:38:03.192Z"
   },
   {
    "duration": 37,
    "start_time": "2023-12-14T16:38:04.293Z"
   },
   {
    "duration": 95,
    "start_time": "2023-12-14T16:38:04.331Z"
   },
   {
    "duration": 10,
    "start_time": "2023-12-14T16:38:04.428Z"
   },
   {
    "duration": 29,
    "start_time": "2023-12-14T16:38:04.439Z"
   },
   {
    "duration": 4,
    "start_time": "2023-12-14T16:38:04.470Z"
   },
   {
    "duration": 16,
    "start_time": "2023-12-14T16:38:04.476Z"
   },
   {
    "duration": 20,
    "start_time": "2023-12-14T16:38:04.493Z"
   },
   {
    "duration": 63,
    "start_time": "2023-12-14T16:38:04.514Z"
   },
   {
    "duration": 18,
    "start_time": "2023-12-14T16:38:04.579Z"
   },
   {
    "duration": 16,
    "start_time": "2023-12-14T16:38:04.598Z"
   },
   {
    "duration": 46,
    "start_time": "2023-12-14T16:38:04.616Z"
   },
   {
    "duration": 10,
    "start_time": "2023-12-14T16:38:04.663Z"
   },
   {
    "duration": 11,
    "start_time": "2023-12-14T16:38:04.674Z"
   },
   {
    "duration": 15,
    "start_time": "2023-12-14T16:38:04.686Z"
   },
   {
    "duration": 3,
    "start_time": "2023-12-14T16:38:04.702Z"
   },
   {
    "duration": 59,
    "start_time": "2023-12-14T16:38:04.706Z"
   },
   {
    "duration": 10,
    "start_time": "2023-12-14T16:38:04.767Z"
   },
   {
    "duration": 54,
    "start_time": "2023-12-14T16:38:04.778Z"
   },
   {
    "duration": 36,
    "start_time": "2023-12-14T16:38:04.833Z"
   },
   {
    "duration": 5,
    "start_time": "2023-12-14T16:38:04.880Z"
   },
   {
    "duration": 384,
    "start_time": "2023-12-14T16:38:04.886Z"
   },
   {
    "duration": 19,
    "start_time": "2023-12-14T16:38:05.272Z"
   },
   {
    "duration": 92,
    "start_time": "2023-12-14T16:38:05.292Z"
   },
   {
    "duration": 21,
    "start_time": "2023-12-14T16:38:05.386Z"
   },
   {
    "duration": 103,
    "start_time": "2023-12-14T16:38:05.409Z"
   },
   {
    "duration": 13,
    "start_time": "2023-12-14T16:38:05.513Z"
   },
   {
    "duration": 3,
    "start_time": "2023-12-14T16:38:05.553Z"
   },
   {
    "duration": 735,
    "start_time": "2023-12-14T16:38:05.558Z"
   },
   {
    "duration": 23,
    "start_time": "2023-12-14T16:38:06.294Z"
   },
   {
    "duration": 3,
    "start_time": "2023-12-14T16:38:06.319Z"
   },
   {
    "duration": 32,
    "start_time": "2023-12-14T16:38:06.323Z"
   },
   {
    "duration": 777,
    "start_time": "2023-12-14T16:38:06.357Z"
   },
   {
    "duration": 17,
    "start_time": "2023-12-14T16:38:07.136Z"
   },
   {
    "duration": 13,
    "start_time": "2023-12-14T16:38:07.154Z"
   },
   {
    "duration": 8,
    "start_time": "2023-12-14T16:38:07.168Z"
   },
   {
    "duration": 24,
    "start_time": "2023-12-14T16:38:07.178Z"
   },
   {
    "duration": 6,
    "start_time": "2023-12-14T16:38:07.204Z"
   },
   {
    "duration": 6,
    "start_time": "2023-12-14T16:38:07.211Z"
   },
   {
    "duration": 42,
    "start_time": "2023-12-14T16:38:07.218Z"
   },
   {
    "duration": 9,
    "start_time": "2023-12-14T16:38:07.262Z"
   },
   {
    "duration": 15,
    "start_time": "2023-12-14T16:38:07.272Z"
   },
   {
    "duration": 10,
    "start_time": "2023-12-14T16:38:07.289Z"
   },
   {
    "duration": 621,
    "start_time": "2023-12-14T16:38:07.300Z"
   },
   {
    "duration": 33,
    "start_time": "2023-12-14T16:38:07.923Z"
   },
   {
    "duration": 6,
    "start_time": "2023-12-14T16:38:07.957Z"
   },
   {
    "duration": 9,
    "start_time": "2023-12-14T16:38:07.965Z"
   },
   {
    "duration": 40,
    "start_time": "2023-12-14T16:38:07.976Z"
   },
   {
    "duration": 56,
    "start_time": "2023-12-14T16:38:08.017Z"
   },
   {
    "duration": 2,
    "start_time": "2023-12-14T16:38:08.075Z"
   },
   {
    "duration": 38,
    "start_time": "2023-12-14T16:38:08.079Z"
   },
   {
    "duration": 47,
    "start_time": "2023-12-14T16:38:08.119Z"
   },
   {
    "duration": 6,
    "start_time": "2023-12-14T16:38:08.167Z"
   },
   {
    "duration": 39,
    "start_time": "2023-12-14T16:38:08.174Z"
   },
   {
    "duration": 59,
    "start_time": "2023-12-14T16:38:08.214Z"
   },
   {
    "duration": 4,
    "start_time": "2023-12-14T16:38:08.274Z"
   },
   {
    "duration": 12,
    "start_time": "2023-12-14T16:38:08.279Z"
   },
   {
    "duration": 6,
    "start_time": "2023-12-14T16:38:08.293Z"
   },
   {
    "duration": 12,
    "start_time": "2023-12-14T16:38:08.300Z"
   },
   {
    "duration": 45,
    "start_time": "2023-12-14T16:38:08.313Z"
   },
   {
    "duration": 5,
    "start_time": "2023-12-14T16:38:08.360Z"
   },
   {
    "duration": 19,
    "start_time": "2023-12-14T16:38:08.366Z"
   },
   {
    "duration": 20,
    "start_time": "2023-12-14T16:38:08.386Z"
   },
   {
    "duration": 22,
    "start_time": "2023-12-14T16:38:08.408Z"
   },
   {
    "duration": 56,
    "start_time": "2023-12-14T16:38:08.432Z"
   },
   {
    "duration": 405,
    "start_time": "2023-12-14T16:38:08.490Z"
   },
   {
    "duration": 387,
    "start_time": "2023-12-14T16:38:08.897Z"
   },
   {
    "duration": 12,
    "start_time": "2023-12-14T16:38:09.285Z"
   },
   {
    "duration": 6,
    "start_time": "2023-12-14T16:38:09.299Z"
   },
   {
    "duration": 9,
    "start_time": "2023-12-14T16:38:09.306Z"
   },
   {
    "duration": 11,
    "start_time": "2023-12-14T16:38:09.316Z"
   },
   {
    "duration": 12,
    "start_time": "2023-12-14T16:38:09.328Z"
   },
   {
    "duration": 11,
    "start_time": "2023-12-14T16:38:09.341Z"
   },
   {
    "duration": 8,
    "start_time": "2023-12-14T16:38:09.353Z"
   },
   {
    "duration": 375,
    "start_time": "2023-12-14T16:38:09.362Z"
   },
   {
    "duration": 378,
    "start_time": "2023-12-14T16:38:09.739Z"
   },
   {
    "duration": 8,
    "start_time": "2023-12-14T16:38:10.119Z"
   },
   {
    "duration": 22,
    "start_time": "2023-12-14T16:38:10.130Z"
   },
   {
    "duration": 3,
    "start_time": "2023-12-14T16:38:10.153Z"
   },
   {
    "duration": 16,
    "start_time": "2023-12-14T16:38:10.158Z"
   },
   {
    "duration": 12,
    "start_time": "2023-12-14T16:38:10.175Z"
   },
   {
    "duration": 5,
    "start_time": "2023-12-14T16:38:10.191Z"
   },
   {
    "duration": 1139,
    "start_time": "2023-12-15T04:53:13.282Z"
   },
   {
    "duration": 36,
    "start_time": "2023-12-15T04:53:14.423Z"
   },
   {
    "duration": 93,
    "start_time": "2023-12-15T04:53:14.461Z"
   },
   {
    "duration": 9,
    "start_time": "2023-12-15T04:53:14.555Z"
   },
   {
    "duration": 36,
    "start_time": "2023-12-15T04:53:14.565Z"
   },
   {
    "duration": 2,
    "start_time": "2023-12-15T04:53:14.602Z"
   },
   {
    "duration": 18,
    "start_time": "2023-12-15T04:53:14.606Z"
   },
   {
    "duration": 20,
    "start_time": "2023-12-15T04:53:14.625Z"
   },
   {
    "duration": 65,
    "start_time": "2023-12-15T04:53:14.646Z"
   },
   {
    "duration": 17,
    "start_time": "2023-12-15T04:53:14.713Z"
   },
   {
    "duration": 16,
    "start_time": "2023-12-15T04:53:14.732Z"
   },
   {
    "duration": 44,
    "start_time": "2023-12-15T04:53:14.750Z"
   },
   {
    "duration": 13,
    "start_time": "2023-12-15T04:53:14.795Z"
   },
   {
    "duration": 16,
    "start_time": "2023-12-15T04:53:14.810Z"
   },
   {
    "duration": 16,
    "start_time": "2023-12-15T04:53:14.827Z"
   },
   {
    "duration": 3,
    "start_time": "2023-12-15T04:53:14.844Z"
   },
   {
    "duration": 56,
    "start_time": "2023-12-15T04:53:14.848Z"
   },
   {
    "duration": 13,
    "start_time": "2023-12-15T04:53:14.905Z"
   },
   {
    "duration": 49,
    "start_time": "2023-12-15T04:53:14.920Z"
   },
   {
    "duration": 32,
    "start_time": "2023-12-15T04:53:14.971Z"
   },
   {
    "duration": 4,
    "start_time": "2023-12-15T04:53:15.004Z"
   },
   {
    "duration": 804,
    "start_time": "2023-12-15T04:53:15.009Z"
   },
   {
    "duration": 22,
    "start_time": "2023-12-15T04:53:15.815Z"
   },
   {
    "duration": 119,
    "start_time": "2023-12-15T04:53:15.839Z"
   },
   {
    "duration": 25,
    "start_time": "2023-12-15T04:53:15.960Z"
   },
   {
    "duration": 68,
    "start_time": "2023-12-15T04:53:15.987Z"
   },
   {
    "duration": 32,
    "start_time": "2023-12-15T04:53:16.056Z"
   },
   {
    "duration": 13,
    "start_time": "2023-12-15T04:53:16.092Z"
   },
   {
    "duration": 709,
    "start_time": "2023-12-15T04:53:16.106Z"
   },
   {
    "duration": 22,
    "start_time": "2023-12-15T04:53:16.817Z"
   },
   {
    "duration": 4,
    "start_time": "2023-12-15T04:53:16.840Z"
   },
   {
    "duration": 38,
    "start_time": "2023-12-15T04:53:16.846Z"
   },
   {
    "duration": 736,
    "start_time": "2023-12-15T04:53:16.886Z"
   },
   {
    "duration": 9,
    "start_time": "2023-12-15T04:53:17.624Z"
   },
   {
    "duration": 12,
    "start_time": "2023-12-15T04:53:17.634Z"
   },
   {
    "duration": 7,
    "start_time": "2023-12-15T04:53:17.647Z"
   },
   {
    "duration": 46,
    "start_time": "2023-12-15T04:53:17.655Z"
   },
   {
    "duration": 7,
    "start_time": "2023-12-15T04:53:17.703Z"
   },
   {
    "duration": 5,
    "start_time": "2023-12-15T04:53:17.712Z"
   },
   {
    "duration": 10,
    "start_time": "2023-12-15T04:53:17.718Z"
   },
   {
    "duration": 3,
    "start_time": "2023-12-15T04:53:17.729Z"
   },
   {
    "duration": 7,
    "start_time": "2023-12-15T04:53:17.733Z"
   },
   {
    "duration": 7,
    "start_time": "2023-12-15T04:53:17.742Z"
   },
   {
    "duration": 600,
    "start_time": "2023-12-15T04:53:17.750Z"
   },
   {
    "duration": 31,
    "start_time": "2023-12-15T04:53:18.351Z"
   },
   {
    "duration": 6,
    "start_time": "2023-12-15T04:53:18.383Z"
   },
   {
    "duration": 75,
    "start_time": "2023-12-15T04:53:18.391Z"
   },
   {
    "duration": 43,
    "start_time": "2023-12-15T04:53:18.467Z"
   },
   {
    "duration": 55,
    "start_time": "2023-12-15T04:53:18.511Z"
   },
   {
    "duration": 15,
    "start_time": "2023-12-15T04:53:18.567Z"
   },
   {
    "duration": 61,
    "start_time": "2023-12-15T04:53:18.584Z"
   },
   {
    "duration": 39,
    "start_time": "2023-12-15T04:53:18.646Z"
   },
   {
    "duration": 6,
    "start_time": "2023-12-15T04:53:18.686Z"
   },
   {
    "duration": 40,
    "start_time": "2023-12-15T04:53:18.693Z"
   },
   {
    "duration": 52,
    "start_time": "2023-12-15T04:53:18.734Z"
   },
   {
    "duration": 3,
    "start_time": "2023-12-15T04:53:18.788Z"
   },
   {
    "duration": 9,
    "start_time": "2023-12-15T04:53:18.792Z"
   },
   {
    "duration": 4,
    "start_time": "2023-12-15T04:53:18.803Z"
   },
   {
    "duration": 13,
    "start_time": "2023-12-15T04:53:18.808Z"
   },
   {
    "duration": 27,
    "start_time": "2023-12-15T04:53:18.822Z"
   },
   {
    "duration": 32,
    "start_time": "2023-12-15T04:53:18.850Z"
   },
   {
    "duration": 8,
    "start_time": "2023-12-15T04:53:18.883Z"
   },
   {
    "duration": 13,
    "start_time": "2023-12-15T04:53:18.892Z"
   },
   {
    "duration": 4,
    "start_time": "2023-12-15T04:53:18.906Z"
   },
   {
    "duration": 47,
    "start_time": "2023-12-15T04:53:18.912Z"
   },
   {
    "duration": 407,
    "start_time": "2023-12-15T04:53:18.960Z"
   },
   {
    "duration": 361,
    "start_time": "2023-12-15T04:53:19.369Z"
   },
   {
    "duration": 12,
    "start_time": "2023-12-15T04:53:19.732Z"
   },
   {
    "duration": 7,
    "start_time": "2023-12-15T04:53:19.745Z"
   },
   {
    "duration": 5,
    "start_time": "2023-12-15T04:53:19.754Z"
   },
   {
    "duration": 5,
    "start_time": "2023-12-15T04:53:19.761Z"
   },
   {
    "duration": 9,
    "start_time": "2023-12-15T04:53:19.782Z"
   },
   {
    "duration": 6,
    "start_time": "2023-12-15T04:53:19.792Z"
   },
   {
    "duration": 10,
    "start_time": "2023-12-15T04:53:19.799Z"
   },
   {
    "duration": 350,
    "start_time": "2023-12-15T04:53:19.810Z"
   },
   {
    "duration": 366,
    "start_time": "2023-12-15T04:53:20.161Z"
   },
   {
    "duration": 6,
    "start_time": "2023-12-15T04:53:20.528Z"
   },
   {
    "duration": 16,
    "start_time": "2023-12-15T04:53:20.535Z"
   },
   {
    "duration": 3,
    "start_time": "2023-12-15T04:53:20.552Z"
   },
   {
    "duration": 6,
    "start_time": "2023-12-15T04:53:20.556Z"
   },
   {
    "duration": 7,
    "start_time": "2023-12-15T04:53:20.581Z"
   },
   {
    "duration": 4,
    "start_time": "2023-12-15T04:53:20.593Z"
   },
   {
    "duration": 1450,
    "start_time": "2023-12-15T14:18:54.824Z"
   },
   {
    "duration": 121,
    "start_time": "2023-12-15T14:18:56.277Z"
   },
   {
    "duration": 384,
    "start_time": "2023-12-15T14:18:56.400Z"
   },
   {
    "duration": 11,
    "start_time": "2023-12-15T14:18:56.786Z"
   },
   {
    "duration": 21,
    "start_time": "2023-12-15T14:18:56.798Z"
   },
   {
    "duration": 3,
    "start_time": "2023-12-15T14:18:56.820Z"
   },
   {
    "duration": 22,
    "start_time": "2023-12-15T14:18:56.824Z"
   },
   {
    "duration": 41,
    "start_time": "2023-12-15T14:18:56.848Z"
   },
   {
    "duration": 62,
    "start_time": "2023-12-15T14:18:56.891Z"
   },
   {
    "duration": 34,
    "start_time": "2023-12-15T14:18:56.957Z"
   },
   {
    "duration": 16,
    "start_time": "2023-12-15T14:18:56.992Z"
   },
   {
    "duration": 33,
    "start_time": "2023-12-15T14:18:57.010Z"
   },
   {
    "duration": 11,
    "start_time": "2023-12-15T14:18:57.044Z"
   },
   {
    "duration": 37,
    "start_time": "2023-12-15T14:18:57.057Z"
   },
   {
    "duration": 30,
    "start_time": "2023-12-15T14:18:57.096Z"
   },
   {
    "duration": 3,
    "start_time": "2023-12-15T14:18:57.128Z"
   },
   {
    "duration": 44,
    "start_time": "2023-12-15T14:18:57.133Z"
   },
   {
    "duration": 18,
    "start_time": "2023-12-15T14:18:57.179Z"
   },
   {
    "duration": 80,
    "start_time": "2023-12-15T14:18:57.199Z"
   },
   {
    "duration": 27,
    "start_time": "2023-12-15T14:18:57.281Z"
   },
   {
    "duration": 4,
    "start_time": "2023-12-15T14:18:57.310Z"
   },
   {
    "duration": 459,
    "start_time": "2023-12-15T14:18:57.316Z"
   },
   {
    "duration": 42,
    "start_time": "2023-12-15T14:18:57.777Z"
   },
   {
    "duration": 114,
    "start_time": "2023-12-15T14:18:57.820Z"
   },
   {
    "duration": 98,
    "start_time": "2023-12-15T14:18:57.935Z"
   },
   {
    "duration": 140,
    "start_time": "2023-12-15T14:18:58.035Z"
   },
   {
    "duration": 15,
    "start_time": "2023-12-15T14:18:58.177Z"
   },
   {
    "duration": 24,
    "start_time": "2023-12-15T14:18:58.196Z"
   },
   {
    "duration": 861,
    "start_time": "2023-12-15T14:18:58.221Z"
   },
   {
    "duration": 26,
    "start_time": "2023-12-15T14:18:59.084Z"
   },
   {
    "duration": 54,
    "start_time": "2023-12-15T14:18:59.112Z"
   },
   {
    "duration": 68,
    "start_time": "2023-12-15T14:18:59.168Z"
   },
   {
    "duration": 850,
    "start_time": "2023-12-15T14:18:59.238Z"
   },
   {
    "duration": 9,
    "start_time": "2023-12-15T14:19:00.090Z"
   },
   {
    "duration": 55,
    "start_time": "2023-12-15T14:19:00.100Z"
   },
   {
    "duration": 156,
    "start_time": "2023-12-15T14:19:00.157Z"
   },
   {
    "duration": 57,
    "start_time": "2023-12-15T14:19:00.314Z"
   },
   {
    "duration": 29,
    "start_time": "2023-12-15T14:19:00.372Z"
   },
   {
    "duration": 40,
    "start_time": "2023-12-15T14:19:00.403Z"
   },
   {
    "duration": 30,
    "start_time": "2023-12-15T14:19:00.445Z"
   },
   {
    "duration": 62,
    "start_time": "2023-12-15T14:19:00.477Z"
   },
   {
    "duration": 47,
    "start_time": "2023-12-15T14:19:00.541Z"
   },
   {
    "duration": 55,
    "start_time": "2023-12-15T14:19:00.589Z"
   },
   {
    "duration": 750,
    "start_time": "2023-12-15T14:19:00.645Z"
   },
   {
    "duration": 24,
    "start_time": "2023-12-15T14:19:01.396Z"
   },
   {
    "duration": 303,
    "start_time": "2023-12-15T14:19:01.421Z"
   },
   {
    "duration": 377,
    "start_time": "2023-12-15T14:19:01.725Z"
   },
   {
    "duration": 101,
    "start_time": "2023-12-15T14:19:02.104Z"
   },
   {
    "duration": 99,
    "start_time": "2023-12-15T14:19:02.207Z"
   },
   {
    "duration": 3,
    "start_time": "2023-12-15T14:19:02.309Z"
   },
   {
    "duration": 73,
    "start_time": "2023-12-15T14:19:02.314Z"
   },
   {
    "duration": 89,
    "start_time": "2023-12-15T14:19:02.388Z"
   },
   {
    "duration": 5,
    "start_time": "2023-12-15T14:19:02.479Z"
   },
   {
    "duration": 79,
    "start_time": "2023-12-15T14:19:02.485Z"
   },
   {
    "duration": 52,
    "start_time": "2023-12-15T14:19:02.565Z"
   },
   {
    "duration": 3,
    "start_time": "2023-12-15T14:19:02.618Z"
   },
   {
    "duration": 22,
    "start_time": "2023-12-15T14:19:02.623Z"
   },
   {
    "duration": 43,
    "start_time": "2023-12-15T14:19:02.646Z"
   },
   {
    "duration": 35,
    "start_time": "2023-12-15T14:19:02.691Z"
   },
   {
    "duration": 98,
    "start_time": "2023-12-15T14:19:02.727Z"
   },
   {
    "duration": 31,
    "start_time": "2023-12-15T14:19:02.827Z"
   },
   {
    "duration": 46,
    "start_time": "2023-12-15T14:19:02.859Z"
   },
   {
    "duration": 333,
    "start_time": "2023-12-15T14:19:02.907Z"
   },
   {
    "duration": 55,
    "start_time": "2023-12-15T14:19:03.242Z"
   },
   {
    "duration": 279,
    "start_time": "2023-12-15T14:19:03.300Z"
   },
   {
    "duration": 812,
    "start_time": "2023-12-15T14:19:03.580Z"
   },
   {
    "duration": 436,
    "start_time": "2023-12-15T14:19:04.393Z"
   },
   {
    "duration": 14,
    "start_time": "2023-12-15T14:19:04.830Z"
   },
   {
    "duration": 7,
    "start_time": "2023-12-15T14:19:04.846Z"
   },
   {
    "duration": 7,
    "start_time": "2023-12-15T14:19:04.854Z"
   },
   {
    "duration": 14,
    "start_time": "2023-12-15T14:19:04.862Z"
   },
   {
    "duration": 8,
    "start_time": "2023-12-15T14:19:04.887Z"
   },
   {
    "duration": 9,
    "start_time": "2023-12-15T14:19:04.897Z"
   },
   {
    "duration": 14,
    "start_time": "2023-12-15T14:19:04.907Z"
   },
   {
    "duration": 408,
    "start_time": "2023-12-15T14:19:04.923Z"
   },
   {
    "duration": 454,
    "start_time": "2023-12-15T14:19:05.333Z"
   },
   {
    "duration": 7,
    "start_time": "2023-12-15T14:19:05.788Z"
   },
   {
    "duration": 25,
    "start_time": "2023-12-15T14:19:05.796Z"
   },
   {
    "duration": 4,
    "start_time": "2023-12-15T14:19:05.822Z"
   },
   {
    "duration": 16,
    "start_time": "2023-12-15T14:19:05.827Z"
   },
   {
    "duration": 13,
    "start_time": "2023-12-15T14:19:05.845Z"
   },
   {
    "duration": 8,
    "start_time": "2023-12-15T14:19:05.863Z"
   }
  ],
  "kernelspec": {
   "display_name": "Python 3 (ipykernel)",
   "language": "python",
   "name": "python3"
  },
  "language_info": {
   "codemirror_mode": {
    "name": "ipython",
    "version": 3
   },
   "file_extension": ".py",
   "mimetype": "text/x-python",
   "name": "python",
   "nbconvert_exporter": "python",
   "pygments_lexer": "ipython3",
   "version": "3.11.4"
  },
  "toc": {
   "base_numbering": 1,
   "nav_menu": {},
   "number_sections": true,
   "sideBar": true,
   "skip_h1_title": true,
   "title_cell": "Table of Contents",
   "title_sidebar": "Contents",
   "toc_cell": false,
   "toc_position": {},
   "toc_section_display": true,
   "toc_window_display": true
  }
 },
 "nbformat": 4,
 "nbformat_minor": 2
}
