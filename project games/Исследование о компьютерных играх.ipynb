{
 "cells": [
  {
   "cell_type": "markdown",
   "metadata": {},
   "source": [
    "<font color = 'teal'>\n",
    "    \n",
    "# ИССЛЕДОВАНИЕ О КОМПЬЮТЕРНЫХ ИГРАХ"
   ]
  },
  {
   "cell_type": "markdown",
   "metadata": {},
   "source": [
    "\n",
    "<div class = \"alert alert-info\" style = \"border-color: info; border-radius: 10px\"> \n",
    "<div style=\"border:solid teal 3px; padding: 90px\">\n",
    "    <font color = 'black'>\n",
    "\n",
    "Интернет-магазин «Стримчик» продаёт компьютерные игры по всему миру. Из открытых источников доступны исторические данные о продажах игр, оценки пользователей и экспертов, жанры и платформы (например, Xbox или PlayStation).\n",
    "        \n",
    "**Что нужно сделать:**\n",
    "- выявить определяющие успешность игры закономерности. Это позволит сделать ставку на потенциально популярный продукт и спланировать рекламные кампании.\n",
    "\n",
    "Данные представлены до 2016 года. В наборе данных попадается аббревиатура ESRB (Entertainment Software Rating Board) — это ассоциация, определяющая возрастной рейтинг компьютерных игр. ESRB оценивает игровой контент и присваивает ему подходящую возрастную категорию, например, «Для взрослых», «Для детей младшего возраста» или «Для подростков»."
   ]
  },
  {
   "cell_type": "markdown",
   "metadata": {},
   "source": [
    "<div class = \"alert alert-info\" style = \"border-color: info; border-radius: 10px\"> \n",
    "     <font color = 'black'>\n",
    "\n",
    "# **Этапы анализа**\n",
    "\n",
    "**1. Изучение файла и общей информации**\n",
    "    \n",
    "**2. Подготовка данных**\n",
    "- Замена название столбцов\n",
    "- Обработка пропусков по столбцам, преобразование в нужные типы при необходимости\n",
    "- Расчет суммарных продаж во всех регионах\n",
    "    \n",
    "**3. Исследовательский анализ данных**. Ответы на вопросы:\n",
    "- Сколько игр выпускалось в разные годы?\n",
    "- Как менялись продажи по платформам? У каких платформ наибольшие суммарные продажи? \n",
    "- Какие платформы лидируют по продажам, растут или падают? \n",
    "- Как влияют на продажи внутри одной популярной платформы отзывы пользователей и критиков?\n",
    "- Какие жанры самые прибыльные? Выделяются ли жанры с высокими и низкими продажами?\n",
    "    \n",
    "**4. Составление портрета пользователя каждого региона**. Определение для пользователя каждого региона:\n",
    "- Самые популярные платформы (топ-5)\n",
    "- Самые популярные жанры (топ-5)\n",
    "- Влияние рейтинга ESRB на продажи в отдельном регионе\n",
    "    \n",
    "**5. Проверка гипотез**\n",
    "- Средние пользовательские рейтинги платформ Xbox One и PC одинаковые\n",
    "- Средние пользовательские рейтинги жанров Action и Sports разные\n",
    "    \n",
    "**6. Общий вывод**\n",
    " "
   ]
  },
  {
   "cell_type": "markdown",
   "metadata": {},
   "source": [
    "## Изучение файла и общей информации"
   ]
  },
  {
   "cell_type": "markdown",
   "metadata": {},
   "source": [
    "Для начала нужно вывести таблицу, чтобы посмотреть на исходные данные, и затем сделать первые выводы, исходя из информации по столбцам и основным показателям по ним."
   ]
  },
  {
   "cell_type": "code",
   "execution_count": 1,
   "metadata": {},
   "outputs": [],
   "source": [
    "# Импортируем библиотеки, которые нам понадобятся\n",
    "import pandas as pd\n",
    "import matplotlib.pyplot as plt\n",
    "import numpy as np\n",
    "import seaborn as sns\n",
    "from scipy import stats as st\n",
    "import warnings\n",
    "warnings.simplefilter(\"ignore\")"
   ]
  },
  {
   "cell_type": "code",
   "execution_count": 2,
   "metadata": {},
   "outputs": [],
   "source": [
    "# Зададим переменную для прочтения файла и разделим колонки с помощью sep, чтобы привести данные в вид таблицы\n",
    "data = pd.read_csv('/datasets/games.csv')"
   ]
  },
  {
   "cell_type": "code",
   "execution_count": 3,
   "metadata": {},
   "outputs": [
    {
     "data": {
      "text/html": [
       "<div>\n",
       "<style scoped>\n",
       "    .dataframe tbody tr th:only-of-type {\n",
       "        vertical-align: middle;\n",
       "    }\n",
       "\n",
       "    .dataframe tbody tr th {\n",
       "        vertical-align: top;\n",
       "    }\n",
       "\n",
       "    .dataframe thead th {\n",
       "        text-align: right;\n",
       "    }\n",
       "</style>\n",
       "<table border=\"1\" class=\"dataframe\">\n",
       "  <thead>\n",
       "    <tr style=\"text-align: right;\">\n",
       "      <th></th>\n",
       "      <th>Name</th>\n",
       "      <th>Platform</th>\n",
       "      <th>Year_of_Release</th>\n",
       "      <th>Genre</th>\n",
       "      <th>NA_sales</th>\n",
       "      <th>EU_sales</th>\n",
       "      <th>JP_sales</th>\n",
       "      <th>Other_sales</th>\n",
       "      <th>Critic_Score</th>\n",
       "      <th>User_Score</th>\n",
       "      <th>Rating</th>\n",
       "    </tr>\n",
       "  </thead>\n",
       "  <tbody>\n",
       "    <tr>\n",
       "      <th>0</th>\n",
       "      <td>Wii Sports</td>\n",
       "      <td>Wii</td>\n",
       "      <td>2006.0</td>\n",
       "      <td>Sports</td>\n",
       "      <td>41.36</td>\n",
       "      <td>28.96</td>\n",
       "      <td>3.77</td>\n",
       "      <td>8.45</td>\n",
       "      <td>76.0</td>\n",
       "      <td>8</td>\n",
       "      <td>E</td>\n",
       "    </tr>\n",
       "    <tr>\n",
       "      <th>1</th>\n",
       "      <td>Super Mario Bros.</td>\n",
       "      <td>NES</td>\n",
       "      <td>1985.0</td>\n",
       "      <td>Platform</td>\n",
       "      <td>29.08</td>\n",
       "      <td>3.58</td>\n",
       "      <td>6.81</td>\n",
       "      <td>0.77</td>\n",
       "      <td>NaN</td>\n",
       "      <td>NaN</td>\n",
       "      <td>NaN</td>\n",
       "    </tr>\n",
       "    <tr>\n",
       "      <th>2</th>\n",
       "      <td>Mario Kart Wii</td>\n",
       "      <td>Wii</td>\n",
       "      <td>2008.0</td>\n",
       "      <td>Racing</td>\n",
       "      <td>15.68</td>\n",
       "      <td>12.76</td>\n",
       "      <td>3.79</td>\n",
       "      <td>3.29</td>\n",
       "      <td>82.0</td>\n",
       "      <td>8.3</td>\n",
       "      <td>E</td>\n",
       "    </tr>\n",
       "    <tr>\n",
       "      <th>3</th>\n",
       "      <td>Wii Sports Resort</td>\n",
       "      <td>Wii</td>\n",
       "      <td>2009.0</td>\n",
       "      <td>Sports</td>\n",
       "      <td>15.61</td>\n",
       "      <td>10.93</td>\n",
       "      <td>3.28</td>\n",
       "      <td>2.95</td>\n",
       "      <td>80.0</td>\n",
       "      <td>8</td>\n",
       "      <td>E</td>\n",
       "    </tr>\n",
       "    <tr>\n",
       "      <th>4</th>\n",
       "      <td>Pokemon Red/Pokemon Blue</td>\n",
       "      <td>GB</td>\n",
       "      <td>1996.0</td>\n",
       "      <td>Role-Playing</td>\n",
       "      <td>11.27</td>\n",
       "      <td>8.89</td>\n",
       "      <td>10.22</td>\n",
       "      <td>1.00</td>\n",
       "      <td>NaN</td>\n",
       "      <td>NaN</td>\n",
       "      <td>NaN</td>\n",
       "    </tr>\n",
       "  </tbody>\n",
       "</table>\n",
       "</div>"
      ],
      "text/plain": [
       "                       Name Platform  Year_of_Release         Genre  NA_sales  \\\n",
       "0                Wii Sports      Wii           2006.0        Sports     41.36   \n",
       "1         Super Mario Bros.      NES           1985.0      Platform     29.08   \n",
       "2            Mario Kart Wii      Wii           2008.0        Racing     15.68   \n",
       "3         Wii Sports Resort      Wii           2009.0        Sports     15.61   \n",
       "4  Pokemon Red/Pokemon Blue       GB           1996.0  Role-Playing     11.27   \n",
       "\n",
       "   EU_sales  JP_sales  Other_sales  Critic_Score User_Score Rating  \n",
       "0     28.96      3.77         8.45          76.0          8      E  \n",
       "1      3.58      6.81         0.77           NaN        NaN    NaN  \n",
       "2     12.76      3.79         3.29          82.0        8.3      E  \n",
       "3     10.93      3.28         2.95          80.0          8      E  \n",
       "4      8.89     10.22         1.00           NaN        NaN    NaN  "
      ]
     },
     "execution_count": 3,
     "metadata": {},
     "output_type": "execute_result"
    }
   ],
   "source": [
    "# Выведем первые пять строк таблицы\n",
    "data.head()"
   ]
  },
  {
   "cell_type": "code",
   "execution_count": 4,
   "metadata": {
    "scrolled": false
   },
   "outputs": [
    {
     "name": "stdout",
     "output_type": "stream",
     "text": [
      "<class 'pandas.core.frame.DataFrame'>\n",
      "RangeIndex: 16715 entries, 0 to 16714\n",
      "Data columns (total 11 columns):\n",
      " #   Column           Non-Null Count  Dtype  \n",
      "---  ------           --------------  -----  \n",
      " 0   Name             16713 non-null  object \n",
      " 1   Platform         16715 non-null  object \n",
      " 2   Year_of_Release  16446 non-null  float64\n",
      " 3   Genre            16713 non-null  object \n",
      " 4   NA_sales         16715 non-null  float64\n",
      " 5   EU_sales         16715 non-null  float64\n",
      " 6   JP_sales         16715 non-null  float64\n",
      " 7   Other_sales      16715 non-null  float64\n",
      " 8   Critic_Score     8137 non-null   float64\n",
      " 9   User_Score       10014 non-null  object \n",
      " 10  Rating           9949 non-null   object \n",
      "dtypes: float64(6), object(5)\n",
      "memory usage: 1.4+ MB\n"
     ]
    }
   ],
   "source": [
    "# Просмотрим данные по каждому столбцу, выведем общую информацию\n",
    "data.info()"
   ]
  },
  {
   "cell_type": "code",
   "execution_count": 5,
   "metadata": {},
   "outputs": [
    {
     "data": {
      "image/png": "[encoded data removed]",
      "text/plain": [
       "<Figure size 720x720 with 6 Axes>"
      ]
     },
     "metadata": {
      "needs_background": "light"
     },
     "output_type": "display_data"
    }
   ],
   "source": [
    "# Построим гистограммы для всех числовых столбцов таблицы\n",
    "data.hist(figsize = (10, 10));"
   ]
  },
  {
   "cell_type": "code",
   "execution_count": 6,
   "metadata": {},
   "outputs": [
    {
     "data": {
      "text/html": [
       "<div>\n",
       "<style scoped>\n",
       "    .dataframe tbody tr th:only-of-type {\n",
       "        vertical-align: middle;\n",
       "    }\n",
       "\n",
       "    .dataframe tbody tr th {\n",
       "        vertical-align: top;\n",
       "    }\n",
       "\n",
       "    .dataframe thead th {\n",
       "        text-align: right;\n",
       "    }\n",
       "</style>\n",
       "<table border=\"1\" class=\"dataframe\">\n",
       "  <thead>\n",
       "    <tr style=\"text-align: right;\">\n",
       "      <th></th>\n",
       "      <th>count</th>\n",
       "      <th>mean</th>\n",
       "      <th>std</th>\n",
       "      <th>min</th>\n",
       "      <th>25%</th>\n",
       "      <th>50%</th>\n",
       "      <th>75%</th>\n",
       "      <th>max</th>\n",
       "    </tr>\n",
       "  </thead>\n",
       "  <tbody>\n",
       "    <tr>\n",
       "      <th>Year_of_Release</th>\n",
       "      <td>16446.0</td>\n",
       "      <td>2006.484616</td>\n",
       "      <td>5.877050</td>\n",
       "      <td>1980.0</td>\n",
       "      <td>2003.0</td>\n",
       "      <td>2007.00</td>\n",
       "      <td>2010.00</td>\n",
       "      <td>2016.00</td>\n",
       "    </tr>\n",
       "    <tr>\n",
       "      <th>NA_sales</th>\n",
       "      <td>16715.0</td>\n",
       "      <td>0.263377</td>\n",
       "      <td>0.813604</td>\n",
       "      <td>0.0</td>\n",
       "      <td>0.0</td>\n",
       "      <td>0.08</td>\n",
       "      <td>0.24</td>\n",
       "      <td>41.36</td>\n",
       "    </tr>\n",
       "    <tr>\n",
       "      <th>EU_sales</th>\n",
       "      <td>16715.0</td>\n",
       "      <td>0.145060</td>\n",
       "      <td>0.503339</td>\n",
       "      <td>0.0</td>\n",
       "      <td>0.0</td>\n",
       "      <td>0.02</td>\n",
       "      <td>0.11</td>\n",
       "      <td>28.96</td>\n",
       "    </tr>\n",
       "    <tr>\n",
       "      <th>JP_sales</th>\n",
       "      <td>16715.0</td>\n",
       "      <td>0.077617</td>\n",
       "      <td>0.308853</td>\n",
       "      <td>0.0</td>\n",
       "      <td>0.0</td>\n",
       "      <td>0.00</td>\n",
       "      <td>0.04</td>\n",
       "      <td>10.22</td>\n",
       "    </tr>\n",
       "    <tr>\n",
       "      <th>Other_sales</th>\n",
       "      <td>16715.0</td>\n",
       "      <td>0.047342</td>\n",
       "      <td>0.186731</td>\n",
       "      <td>0.0</td>\n",
       "      <td>0.0</td>\n",
       "      <td>0.01</td>\n",
       "      <td>0.03</td>\n",
       "      <td>10.57</td>\n",
       "    </tr>\n",
       "    <tr>\n",
       "      <th>Critic_Score</th>\n",
       "      <td>8137.0</td>\n",
       "      <td>68.967679</td>\n",
       "      <td>13.938165</td>\n",
       "      <td>13.0</td>\n",
       "      <td>60.0</td>\n",
       "      <td>71.00</td>\n",
       "      <td>79.00</td>\n",
       "      <td>98.00</td>\n",
       "    </tr>\n",
       "  </tbody>\n",
       "</table>\n",
       "</div>"
      ],
      "text/plain": [
       "                   count         mean        std     min     25%      50%  \\\n",
       "Year_of_Release  16446.0  2006.484616   5.877050  1980.0  2003.0  2007.00   \n",
       "NA_sales         16715.0     0.263377   0.813604     0.0     0.0     0.08   \n",
       "EU_sales         16715.0     0.145060   0.503339     0.0     0.0     0.02   \n",
       "JP_sales         16715.0     0.077617   0.308853     0.0     0.0     0.00   \n",
       "Other_sales      16715.0     0.047342   0.186731     0.0     0.0     0.01   \n",
       "Critic_Score      8137.0    68.967679  13.938165    13.0    60.0    71.00   \n",
       "\n",
       "                     75%      max  \n",
       "Year_of_Release  2010.00  2016.00  \n",
       "NA_sales            0.24    41.36  \n",
       "EU_sales            0.11    28.96  \n",
       "JP_sales            0.04    10.22  \n",
       "Other_sales         0.03    10.57  \n",
       "Critic_Score       79.00    98.00  "
      ]
     },
     "execution_count": 6,
     "metadata": {},
     "output_type": "execute_result"
    }
   ],
   "source": [
    "# Просмотрим основные показатели по столбцам\n",
    "data.describe().T"
   ]
  },
  {
   "cell_type": "markdown",
   "metadata": {},
   "source": [
    "<div style=\"border:solid teal 4px; padding: 40px\">\n",
    "\n",
    "На данном этапе мы уже можем увидеть, что нам нужно будет делать дальше непосредственно перед анализом, а именно разобраться с пропусками, которые есть в 6 столбцах, изменить в некоторых столбцах типы данных (например в user_score) и подближе рассмотреть гистограммы. Сейчас по ним мы можем увидеть некоторые тенденции заранее, например в critic_score и в year_of_release."
   ]
  },
  {
   "cell_type": "markdown",
   "metadata": {},
   "source": [
    "## Подготовка данных"
   ]
  },
  {
   "cell_type": "markdown",
   "metadata": {},
   "source": [
    "<div class = \"alert alert-info\" style = \"border-color: info; border-radius: 5px\"> \n",
    "    <font color = 'black'>\n",
    "        \n",
    "**Что нужно сделать на этом шаге:**\n",
    "    \n",
    "- Заменить название столбцов\n",
    "- Обработать пропуски по столбцам, преобразовать в нужные типы при необходимости\n",
    "- Рассчитать суммарных продаж во всех регионах\n",
    " \n"
   ]
  },
  {
   "cell_type": "markdown",
   "metadata": {},
   "source": [
    "### Заменим название стобцов"
   ]
  },
  {
   "cell_type": "code",
   "execution_count": 7,
   "metadata": {
    "scrolled": true
   },
   "outputs": [
    {
     "data": {
      "text/plain": [
       "Index(['Name', 'Platform', 'Year_of_Release', 'Genre', 'NA_sales', 'EU_sales',\n",
       "       'JP_sales', 'Other_sales', 'Critic_Score', 'User_Score', 'Rating'],\n",
       "      dtype='object')"
      ]
     },
     "execution_count": 7,
     "metadata": {},
     "output_type": "execute_result"
    }
   ],
   "source": [
    "# Просмотрим какие вообще есть названия в датасете\n",
    "data.columns.unique()"
   ]
  },
  {
   "cell_type": "code",
   "execution_count": 8,
   "metadata": {},
   "outputs": [],
   "source": [
    "# Приведем названия к одному виду: уберем прописные буквы \n",
    "data.columns = ['name', 'platform', 'year_of_release', 'genre', 'na_sales', 'eu_sales',\n",
    "       'jp_sales', 'other_sales', 'critic_score', 'user_score', 'rating']"
   ]
  },
  {
   "cell_type": "code",
   "execution_count": 9,
   "metadata": {
    "scrolled": true
   },
   "outputs": [
    {
     "data": {
      "text/html": [
       "<div>\n",
       "<style scoped>\n",
       "    .dataframe tbody tr th:only-of-type {\n",
       "        vertical-align: middle;\n",
       "    }\n",
       "\n",
       "    .dataframe tbody tr th {\n",
       "        vertical-align: top;\n",
       "    }\n",
       "\n",
       "    .dataframe thead th {\n",
       "        text-align: right;\n",
       "    }\n",
       "</style>\n",
       "<table border=\"1\" class=\"dataframe\">\n",
       "  <thead>\n",
       "    <tr style=\"text-align: right;\">\n",
       "      <th></th>\n",
       "      <th>name</th>\n",
       "      <th>platform</th>\n",
       "      <th>year_of_release</th>\n",
       "      <th>genre</th>\n",
       "      <th>na_sales</th>\n",
       "      <th>eu_sales</th>\n",
       "      <th>jp_sales</th>\n",
       "      <th>other_sales</th>\n",
       "      <th>critic_score</th>\n",
       "      <th>user_score</th>\n",
       "      <th>rating</th>\n",
       "    </tr>\n",
       "  </thead>\n",
       "  <tbody>\n",
       "    <tr>\n",
       "      <th>0</th>\n",
       "      <td>Wii Sports</td>\n",
       "      <td>Wii</td>\n",
       "      <td>2006.0</td>\n",
       "      <td>Sports</td>\n",
       "      <td>41.36</td>\n",
       "      <td>28.96</td>\n",
       "      <td>3.77</td>\n",
       "      <td>8.45</td>\n",
       "      <td>76.0</td>\n",
       "      <td>8</td>\n",
       "      <td>E</td>\n",
       "    </tr>\n",
       "    <tr>\n",
       "      <th>1</th>\n",
       "      <td>Super Mario Bros.</td>\n",
       "      <td>NES</td>\n",
       "      <td>1985.0</td>\n",
       "      <td>Platform</td>\n",
       "      <td>29.08</td>\n",
       "      <td>3.58</td>\n",
       "      <td>6.81</td>\n",
       "      <td>0.77</td>\n",
       "      <td>NaN</td>\n",
       "      <td>NaN</td>\n",
       "      <td>NaN</td>\n",
       "    </tr>\n",
       "    <tr>\n",
       "      <th>2</th>\n",
       "      <td>Mario Kart Wii</td>\n",
       "      <td>Wii</td>\n",
       "      <td>2008.0</td>\n",
       "      <td>Racing</td>\n",
       "      <td>15.68</td>\n",
       "      <td>12.76</td>\n",
       "      <td>3.79</td>\n",
       "      <td>3.29</td>\n",
       "      <td>82.0</td>\n",
       "      <td>8.3</td>\n",
       "      <td>E</td>\n",
       "    </tr>\n",
       "    <tr>\n",
       "      <th>3</th>\n",
       "      <td>Wii Sports Resort</td>\n",
       "      <td>Wii</td>\n",
       "      <td>2009.0</td>\n",
       "      <td>Sports</td>\n",
       "      <td>15.61</td>\n",
       "      <td>10.93</td>\n",
       "      <td>3.28</td>\n",
       "      <td>2.95</td>\n",
       "      <td>80.0</td>\n",
       "      <td>8</td>\n",
       "      <td>E</td>\n",
       "    </tr>\n",
       "    <tr>\n",
       "      <th>4</th>\n",
       "      <td>Pokemon Red/Pokemon Blue</td>\n",
       "      <td>GB</td>\n",
       "      <td>1996.0</td>\n",
       "      <td>Role-Playing</td>\n",
       "      <td>11.27</td>\n",
       "      <td>8.89</td>\n",
       "      <td>10.22</td>\n",
       "      <td>1.00</td>\n",
       "      <td>NaN</td>\n",
       "      <td>NaN</td>\n",
       "      <td>NaN</td>\n",
       "    </tr>\n",
       "  </tbody>\n",
       "</table>\n",
       "</div>"
      ],
      "text/plain": [
       "                       name platform  year_of_release         genre  na_sales  \\\n",
       "0                Wii Sports      Wii           2006.0        Sports     41.36   \n",
       "1         Super Mario Bros.      NES           1985.0      Platform     29.08   \n",
       "2            Mario Kart Wii      Wii           2008.0        Racing     15.68   \n",
       "3         Wii Sports Resort      Wii           2009.0        Sports     15.61   \n",
       "4  Pokemon Red/Pokemon Blue       GB           1996.0  Role-Playing     11.27   \n",
       "\n",
       "   eu_sales  jp_sales  other_sales  critic_score user_score rating  \n",
       "0     28.96      3.77         8.45          76.0          8      E  \n",
       "1      3.58      6.81         0.77           NaN        NaN    NaN  \n",
       "2     12.76      3.79         3.29          82.0        8.3      E  \n",
       "3     10.93      3.28         2.95          80.0          8      E  \n",
       "4      8.89     10.22         1.00           NaN        NaN    NaN  "
      ]
     },
     "execution_count": 9,
     "metadata": {},
     "output_type": "execute_result"
    }
   ],
   "source": [
    "# Проверим изменения\n",
    "data.head()"
   ]
  },
  {
   "cell_type": "markdown",
   "metadata": {},
   "source": [
    "### Обработаем пропуски"
   ]
  },
  {
   "cell_type": "code",
   "execution_count": 10,
   "metadata": {},
   "outputs": [
    {
     "data": {
      "text/plain": [
       "16715"
      ]
     },
     "execution_count": 10,
     "metadata": {},
     "output_type": "execute_result"
    }
   ],
   "source": [
    "# Узнаем, сколько всего у нас данных\n",
    "len(data)"
   ]
  },
  {
   "cell_type": "code",
   "execution_count": 11,
   "metadata": {
    "scrolled": false
   },
   "outputs": [
    {
     "data": {
      "text/plain": [
       "name                  2\n",
       "platform              0\n",
       "year_of_release     269\n",
       "genre                 2\n",
       "na_sales              0\n",
       "eu_sales              0\n",
       "jp_sales              0\n",
       "other_sales           0\n",
       "critic_score       8578\n",
       "user_score         6701\n",
       "rating             6766\n",
       "dtype: int64"
      ]
     },
     "execution_count": 11,
     "metadata": {},
     "output_type": "execute_result"
    }
   ],
   "source": [
    "# Найдем сколько имеется пропусков в каждом столбце\n",
    "data.isna().sum()"
   ]
  },
  {
   "cell_type": "markdown",
   "metadata": {},
   "source": [
    "<div style=\"border:solid teal 4px; padding: 40px\">\n",
    "\n",
    "Итак, пропуски обнаружены в следующих столбцах:\n",
    "    \n",
    "- `name` - название игры\n",
    "- `year_of_release` - год выпуска\n",
    "- `critic_score` - оценка критиков (по максимуму 100)\n",
    "- `user_score` - оценка пользователей (по максимуму 10)\n",
    "- `rating` - рейтинг по организации ESRB (ассоциация, определяющая рейтинг компьютерных игр и присваивающая им подходящую возрастную категорию)\n",
    "    \n",
    "Нужно разобрать столбцы по отдельности"
   ]
  },
  {
   "cell_type": "markdown",
   "metadata": {},
   "source": [
    "Проверим на наличие дубликатов в таблице"
   ]
  },
  {
   "cell_type": "code",
   "execution_count": 12,
   "metadata": {
    "scrolled": true
   },
   "outputs": [
    {
     "data": {
      "text/plain": [
       "2"
      ]
     },
     "execution_count": 12,
     "metadata": {},
     "output_type": "execute_result"
    }
   ],
   "source": [
    "# Ищем количество дубликатов (берем те столбцы, по которым можно определить повторения)\n",
    "data.duplicated(subset = ['name', 'platform', 'year_of_release']).sum()"
   ]
  },
  {
   "cell_type": "markdown",
   "metadata": {},
   "source": [
    "<div style=\"background: #B0E0E6; padding: 5px; border: 1px solid SteelBlue; border-radius: 5px;\">\n",
    "    <font color='4682B4'><u><b>комментарий</b></u></font>\n",
    "    <br />\n",
    "    ESRB - это американская организация, которая приваивает играм возрастной рейтинг, поэтому в этом возможно и заключена наша проблема пропусков. Компания действует в Северной Америке, в то время как в Японии и в Европе могут действовать свои организации. Сгруппируем данные, чтобы посмотреть, сколько у нас данных по рейтингу продавались в каждом регионе \n",
    "    </font>\n",
    "</div>\n"
   ]
  },
  {
   "cell_type": "code",
   "execution_count": 13,
   "metadata": {
    "scrolled": true
   },
   "outputs": [
    {
     "data": {
      "text/plain": [
       "rating\n",
       "AO         1.26\n",
       "E       1292.99\n",
       "E10+     353.32\n",
       "EC         1.53\n",
       "K-A        2.56\n",
       "M        748.48\n",
       "RP         0.00\n",
       "T        759.75\n",
       "Name: na_sales, dtype: float64"
      ]
     },
     "execution_count": 13,
     "metadata": {},
     "output_type": "execute_result"
    }
   ],
   "source": [
    "data.groupby('rating')['na_sales'].sum()"
   ]
  },
  {
   "cell_type": "code",
   "execution_count": 14,
   "metadata": {},
   "outputs": [
    {
     "data": {
      "text/plain": [
       "rating\n",
       "AO        0.61\n",
       "E       710.25\n",
       "E10+    188.52\n",
       "EC        0.11\n",
       "K-A       0.27\n",
       "M       483.97\n",
       "RP        0.08\n",
       "T       427.03\n",
       "Name: eu_sales, dtype: float64"
      ]
     },
     "execution_count": 14,
     "metadata": {},
     "output_type": "execute_result"
    }
   ],
   "source": [
    "data.groupby('rating')['eu_sales'].sum()"
   ]
  },
  {
   "cell_type": "code",
   "execution_count": 15,
   "metadata": {
    "scrolled": false
   },
   "outputs": [
    {
     "data": {
      "text/plain": [
       "rating\n",
       "AO        0.00\n",
       "E       198.11\n",
       "E10+     40.20\n",
       "EC        0.00\n",
       "K-A       1.46\n",
       "M        64.24\n",
       "RP        0.00\n",
       "T       151.40\n",
       "Name: jp_sales, dtype: float64"
      ]
     },
     "execution_count": 15,
     "metadata": {},
     "output_type": "execute_result"
    }
   ],
   "source": [
    "data.groupby('rating')['jp_sales'].sum()"
   ]
  },
  {
   "cell_type": "markdown",
   "metadata": {},
   "source": [
    "<div style=\"background: #B0E0E6; padding: 5px; border: 1px solid SteelBlue; border-radius: 5px;\">\n",
    "    <font color='4682B4'><u><b>комментарий</b></u></font>\n",
    "    <br />\n",
    " Стало видно, что данных рейтинга по Северной Америке больше, в Европе меньше, а в Японии совсем мало. Это объясняется тем, что в этих регионах есть свои организации, которые проставляют свои возрастные рейтинги, и они продаются соответственно больше. А так как у нас данные только по рейтингу ESRB, то данных о продажах тех или иных игр по регионам Японии и Европы будет меньше. Возможно было бы интересно проанализировать по установленным рейтингам в других странах, но пока что у нас хотя бы появилось понимание, что делать выводы только на основе превалированности рейтинга ESRB по продажам игр в наших данных не стоит. Пропуски в оценках пользователей и критиков могут объяснятся тем же фактором, однако заполнять мы их не можем, так как это не приведет к достоверности анализа"
   ]
  },
  {
   "cell_type": "code",
   "execution_count": 16,
   "metadata": {},
   "outputs": [],
   "source": [
    "# Уберем дубликат\n",
    "data = data.drop_duplicates(\n",
    "    subset = ['name', 'platform', 'year_of_release'], keep = 'first', inplace = False, ignore_index = False\n",
    ")"
   ]
  },
  {
   "cell_type": "code",
   "execution_count": 17,
   "metadata": {},
   "outputs": [
    {
     "data": {
      "text/plain": [
       "0"
      ]
     },
     "execution_count": 17,
     "metadata": {},
     "output_type": "execute_result"
    }
   ],
   "source": [
    "# Проверим\n",
    "data.duplicated(subset = ['name', 'platform', 'year_of_release']).sum()"
   ]
  },
  {
   "cell_type": "markdown",
   "metadata": {},
   "source": [
    "#### Столбцы critic_score и user_score"
   ]
  },
  {
   "cell_type": "code",
   "execution_count": 18,
   "metadata": {},
   "outputs": [
    {
     "data": {
      "text/plain": [
       "8577"
      ]
     },
     "execution_count": 18,
     "metadata": {},
     "output_type": "execute_result"
    }
   ],
   "source": [
    "# Посмотрим еще раз сколько у них пропусков\n",
    "# У critic_score (оценки критиков)\n",
    "data['critic_score'].isna().sum()"
   ]
  },
  {
   "cell_type": "code",
   "execution_count": 19,
   "metadata": {},
   "outputs": [
    {
     "data": {
      "text/plain": [
       "6700"
      ]
     },
     "execution_count": 19,
     "metadata": {},
     "output_type": "execute_result"
    }
   ],
   "source": [
    "# У user_score (оценки пользователей)\n",
    "data['user_score'].isna().sum()"
   ]
  },
  {
   "cell_type": "markdown",
   "metadata": {},
   "source": [
    "От общего числа данных (16715) они составляют довольно внушительную часть, практически 50 и 40 процентов. Эти пропуски лучше оставить и не заполнять другими значениями, так как для разных платформ они могут сильно отличаться. При дальнейшем анализе будем использовать срез данных."
   ]
  },
  {
   "cell_type": "code",
   "execution_count": 20,
   "metadata": {},
   "outputs": [
    {
     "data": {
      "text/plain": [
       "array(['8', nan, '8.3', '8.5', '6.6', '8.4', '8.6', '7.7', '6.3', '7.4',\n",
       "       '8.2', '9', '7.9', '8.1', '8.7', '7.1', '3.4', '5.3', '4.8', '3.2',\n",
       "       '8.9', '6.4', '7.8', '7.5', '2.6', '7.2', '9.2', '7', '7.3', '4.3',\n",
       "       '7.6', '5.7', '5', '9.1', '6.5', 'tbd', '8.8', '6.9', '9.4', '6.8',\n",
       "       '6.1', '6.7', '5.4', '4', '4.9', '4.5', '9.3', '6.2', '4.2', '6',\n",
       "       '3.7', '4.1', '5.8', '5.6', '5.5', '4.4', '4.6', '5.9', '3.9',\n",
       "       '3.1', '2.9', '5.2', '3.3', '4.7', '5.1', '3.5', '2.5', '1.9', '3',\n",
       "       '2.7', '2.2', '2', '9.5', '2.1', '3.6', '2.8', '1.8', '3.8', '0',\n",
       "       '1.6', '9.6', '2.4', '1.7', '1.1', '0.3', '1.5', '0.7', '1.2',\n",
       "       '2.3', '0.5', '1.3', '0.2', '0.6', '1.4', '0.9', '1', '9.7'],\n",
       "      dtype=object)"
      ]
     },
     "execution_count": 20,
     "metadata": {},
     "output_type": "execute_result"
    }
   ],
   "source": [
    "# Узнаем, какие есть уникальные значения в столбце оценки пользователей\n",
    "data['user_score'].unique()"
   ]
  },
  {
   "cell_type": "markdown",
   "metadata": {},
   "source": [
    "В данных кроме самих оценок и nan есть  tbd. Скорее всего это от \"to be done/decided\", то есть пока оценки нет, будет лучше объединить их с nan"
   ]
  },
  {
   "cell_type": "code",
   "execution_count": 21,
   "metadata": {},
   "outputs": [],
   "source": [
    "# Изменим тип данных в user_score на float (так как эти значения нужны будут нам дальше для анализа)\n",
    "# и с помощью параметра errors поменям tbd на nan\n",
    "data['user_score'] = pd.to_numeric(data['user_score'], errors = 'coerce')"
   ]
  },
  {
   "cell_type": "code",
   "execution_count": 22,
   "metadata": {},
   "outputs": [
    {
     "name": "stdout",
     "output_type": "stream",
     "text": [
      "<class 'pandas.core.frame.DataFrame'>\n",
      "Int64Index: 16713 entries, 0 to 16714\n",
      "Data columns (total 11 columns):\n",
      " #   Column           Non-Null Count  Dtype  \n",
      "---  ------           --------------  -----  \n",
      " 0   name             16712 non-null  object \n",
      " 1   platform         16713 non-null  object \n",
      " 2   year_of_release  16444 non-null  float64\n",
      " 3   genre            16712 non-null  object \n",
      " 4   na_sales         16713 non-null  float64\n",
      " 5   eu_sales         16713 non-null  float64\n",
      " 6   jp_sales         16713 non-null  float64\n",
      " 7   other_sales      16713 non-null  float64\n",
      " 8   critic_score     8136 non-null   float64\n",
      " 9   user_score       7589 non-null   float64\n",
      " 10  rating           9948 non-null   object \n",
      "dtypes: float64(7), object(4)\n",
      "memory usage: 1.5+ MB\n"
     ]
    }
   ],
   "source": [
    "# Проверим\n",
    "data.info()"
   ]
  },
  {
   "cell_type": "code",
   "execution_count": 23,
   "metadata": {},
   "outputs": [
    {
     "data": {
      "image/png": "[encoded data removed]",
      "text/plain": [
       "<Figure size 432x288 with 1 Axes>"
      ]
     },
     "metadata": {
      "needs_background": "light"
     },
     "output_type": "display_data"
    }
   ],
   "source": [
    "# Построим гистограмму для user_score\n",
    "data.hist('user_score', bins = 30, range = (0,10));"
   ]
  },
  {
   "cell_type": "code",
   "execution_count": 24,
   "metadata": {},
   "outputs": [
    {
     "data": {
      "text/plain": [
       "(3.0, 10.0)"
      ]
     },
     "execution_count": 24,
     "metadata": {},
     "output_type": "execute_result"
    },
    {
     "data": {
      "image/png": "[encoded data removed]",
      "text/plain": [
       "<Figure size 432x288 with 1 Axes>"
      ]
     },
     "metadata": {
      "needs_background": "light"
     },
     "output_type": "display_data"
    }
   ],
   "source": [
    "# Построим диаграмму размаха\n",
    "data.boxplot('user_score');\n",
    "plt.ylim(3, 10)"
   ]
  },
  {
   "cell_type": "markdown",
   "metadata": {},
   "source": [
    "Все-таки большинство пользователей ставят доволньо высокие оценки - если смотреть на на график, то видно, что медиана находится между 7 и 8, значит половина пользователей из наших данных дали такую оценку выше 7.5, а другая половина поставила ниже. Выбросы, то есть редкие по сравнению с другими зачениями оценки, начинаются ниже 4. Все же не всем какие-то игры пришлись по вкусу, возможно дело в субъективной оценке? Можно посмотреть на оценки критиков."
   ]
  },
  {
   "cell_type": "markdown",
   "metadata": {},
   "source": [
    "Теперь посмотрим на critic_score (оценку критиков)"
   ]
  },
  {
   "cell_type": "code",
   "execution_count": 25,
   "metadata": {},
   "outputs": [
    {
     "data": {
      "text/plain": [
       "array([76., nan, 82., 80., 89., 58., 87., 91., 61., 97., 95., 77., 88.,\n",
       "       83., 94., 93., 85., 86., 98., 96., 90., 84., 73., 74., 78., 92.,\n",
       "       71., 72., 68., 62., 49., 67., 81., 66., 56., 79., 70., 59., 64.,\n",
       "       75., 60., 63., 69., 50., 25., 42., 44., 55., 48., 57., 29., 47.,\n",
       "       65., 54., 20., 53., 37., 38., 33., 52., 30., 32., 43., 45., 51.,\n",
       "       40., 46., 39., 34., 35., 41., 36., 28., 31., 27., 26., 19., 23.,\n",
       "       24., 21., 17., 22., 13.])"
      ]
     },
     "execution_count": 25,
     "metadata": {},
     "output_type": "execute_result"
    }
   ],
   "source": [
    "# Узнаем, какие есть уникальные значения в столбце оценки пользователей\n",
    "data['critic_score'].unique()"
   ]
  },
  {
   "cell_type": "code",
   "execution_count": 26,
   "metadata": {
    "scrolled": true
   },
   "outputs": [
    {
     "data": {
      "image/png": "[encoded data removed]",
      "text/plain": [
       "<Figure size 432x288 with 1 Axes>"
      ]
     },
     "metadata": {
      "needs_background": "light"
     },
     "output_type": "display_data"
    }
   ],
   "source": [
    "# Построим гистограмму для \n",
    "data.hist('critic_score', bins = 30, range = (0,100));"
   ]
  },
  {
   "cell_type": "code",
   "execution_count": 27,
   "metadata": {},
   "outputs": [
    {
     "data": {
      "text/plain": [
       "(20.0, 100.0)"
      ]
     },
     "execution_count": 27,
     "metadata": {},
     "output_type": "execute_result"
    },
    {
     "data": {
      "image/png": "[encoded data removed]",
      "text/plain": [
       "<Figure size 432x288 with 1 Axes>"
      ]
     },
     "metadata": {
      "needs_background": "light"
     },
     "output_type": "display_data"
    }
   ],
   "source": [
    "# Построим диаграмму размаха\n",
    "data.boxplot('critic_score');\n",
    "plt.ylim(20, 100)"
   ]
  },
  {
   "cell_type": "markdown",
   "metadata": {},
   "source": [
    "Критики в целом солидарны с пользователями. Пользователи проставляли оценки от 0 до 10, а критик от 0 до 100. По диаграмме размаха мы видим где находится медиана - чуть больше 70 баллов, значит половина критиков решила поставить оценку выше этого значения. Выбросы начинаются примерно чуть выше 30 оценки, примерно как и у пользователей. Возможно в каких-то играх критики и пользователи были солидарны в низкой оценке."
   ]
  },
  {
   "cell_type": "markdown",
   "metadata": {},
   "source": [
    "#### Столбцы name и genre"
   ]
  },
  {
   "cell_type": "code",
   "execution_count": 28,
   "metadata": {},
   "outputs": [
    {
     "data": {
      "text/plain": [
       "name                  1\n",
       "platform              0\n",
       "year_of_release     269\n",
       "genre                 1\n",
       "na_sales              0\n",
       "eu_sales              0\n",
       "jp_sales              0\n",
       "other_sales           0\n",
       "critic_score       8577\n",
       "user_score         9124\n",
       "rating             6765\n",
       "dtype: int64"
      ]
     },
     "execution_count": 28,
     "metadata": {},
     "output_type": "execute_result"
    }
   ],
   "source": [
    "# Найдем сколько имеется пропусков на данном этапе\n",
    "data.isna().sum()"
   ]
  },
  {
   "cell_type": "markdown",
   "metadata": {},
   "source": [
    "Скорее всего один пропуск в названии и в жанре стоят в одной строке, можем это выяснить"
   ]
  },
  {
   "cell_type": "code",
   "execution_count": 29,
   "metadata": {},
   "outputs": [
    {
     "data": {
      "text/plain": [
       "659    NaN\n",
       "Name: name, dtype: object"
      ]
     },
     "execution_count": 29,
     "metadata": {},
     "output_type": "execute_result"
    }
   ],
   "source": [
    "# Находим пропуск в столбце названий\n",
    "data.loc[data['name'].isna(), 'name']"
   ]
  },
  {
   "cell_type": "code",
   "execution_count": 30,
   "metadata": {
    "scrolled": true
   },
   "outputs": [
    {
     "data": {
      "text/plain": [
       "659    NaN\n",
       "Name: genre, dtype: object"
      ]
     },
     "execution_count": 30,
     "metadata": {},
     "output_type": "execute_result"
    }
   ],
   "source": [
    "# Находим пропуск в столбце жанров\n",
    "data.loc[data['genre'].isna(), 'genre']"
   ]
  },
  {
   "cell_type": "markdown",
   "metadata": {},
   "source": [
    "Да, строка общая, в целом можем ее убрать из обещй таблицы"
   ]
  },
  {
   "cell_type": "code",
   "execution_count": 31,
   "metadata": {},
   "outputs": [],
   "source": [
    "# Убираем пропуски в столбцах name и genre\n",
    "data = data.dropna(subset = ['name', 'genre'])"
   ]
  },
  {
   "cell_type": "code",
   "execution_count": 32,
   "metadata": {},
   "outputs": [
    {
     "data": {
      "text/plain": [
       "name                  0\n",
       "platform              0\n",
       "year_of_release     269\n",
       "genre                 0\n",
       "na_sales              0\n",
       "eu_sales              0\n",
       "jp_sales              0\n",
       "other_sales           0\n",
       "critic_score       8576\n",
       "user_score         9123\n",
       "rating             6764\n",
       "dtype: int64"
      ]
     },
     "execution_count": 32,
     "metadata": {},
     "output_type": "execute_result"
    }
   ],
   "source": [
    "# Проверятем\n",
    "data.isna().sum()"
   ]
  },
  {
   "cell_type": "markdown",
   "metadata": {},
   "source": [
    "#### Столбец year_of_release - год выпуска"
   ]
  },
  {
   "cell_type": "code",
   "execution_count": 33,
   "metadata": {},
   "outputs": [
    {
     "data": {
      "text/plain": [
       "2008.0    1427\n",
       "2009.0    1426\n",
       "2010.0    1255\n",
       "2007.0    1197\n",
       "2011.0    1136\n",
       "2006.0    1006\n",
       "2005.0     939\n",
       "2002.0     829\n",
       "2003.0     775\n",
       "2004.0     762\n",
       "2012.0     652\n",
       "2015.0     606\n",
       "2014.0     581\n",
       "2013.0     544\n",
       "2016.0     502\n",
       "2001.0     482\n",
       "1998.0     379\n",
       "2000.0     350\n",
       "1999.0     338\n",
       "1997.0     289\n",
       "1996.0     263\n",
       "1995.0     219\n",
       "1994.0     121\n",
       "1993.0      60\n",
       "1981.0      46\n",
       "1992.0      43\n",
       "1991.0      41\n",
       "1982.0      36\n",
       "1986.0      21\n",
       "1989.0      17\n",
       "1983.0      17\n",
       "1987.0      16\n",
       "1990.0      16\n",
       "1988.0      15\n",
       "1984.0      14\n",
       "1985.0      14\n",
       "1980.0       9\n",
       "Name: year_of_release, dtype: int64"
      ]
     },
     "execution_count": 33,
     "metadata": {},
     "output_type": "execute_result"
    }
   ],
   "source": [
    "# Узнаем, какие есть значения в столбце года выпуска\n",
    "data['year_of_release'].value_counts()"
   ]
  },
  {
   "cell_type": "code",
   "execution_count": 34,
   "metadata": {},
   "outputs": [
    {
     "data": {
      "text/plain": [
       "1980.0"
      ]
     },
     "execution_count": 34,
     "metadata": {},
     "output_type": "execute_result"
    }
   ],
   "source": [
    "data['year_of_release'].min()"
   ]
  },
  {
   "cell_type": "code",
   "execution_count": 35,
   "metadata": {},
   "outputs": [
    {
     "data": {
      "text/plain": [
       "2016.0"
      ]
     },
     "execution_count": 35,
     "metadata": {},
     "output_type": "execute_result"
    }
   ],
   "source": [
    "data['year_of_release'].max()"
   ]
  },
  {
   "cell_type": "markdown",
   "metadata": {},
   "source": [
    "Значит промежуток в наших данных составляет от 1980 до 2016 года. Интересно, что пик выпуска игр приходится на 2008 год, а в 2016 году игр выпусили почти в три раза меньше."
   ]
  },
  {
   "cell_type": "code",
   "execution_count": 36,
   "metadata": {},
   "outputs": [
    {
     "data": {
      "text/plain": [
       "269"
      ]
     },
     "execution_count": 36,
     "metadata": {},
     "output_type": "execute_result"
    }
   ],
   "source": [
    " # Посмотрим сколько пропусков в столбце года выпуска игр\n",
    "data['year_of_release'].isna().sum()"
   ]
  },
  {
   "cell_type": "markdown",
   "metadata": {},
   "source": [
    "Пропуски в данном столбце составляют примерно 1.6% от общего количества данных. Поэтому, для удобства, можем их убрать"
   ]
  },
  {
   "cell_type": "code",
   "execution_count": 37,
   "metadata": {},
   "outputs": [],
   "source": [
    "# Убираем пропуски \n",
    "data = data.dropna(subset = ['year_of_release'])"
   ]
  },
  {
   "cell_type": "code",
   "execution_count": 38,
   "metadata": {},
   "outputs": [
    {
     "data": {
      "text/plain": [
       "name                  0\n",
       "platform              0\n",
       "year_of_release       0\n",
       "genre                 0\n",
       "na_sales              0\n",
       "eu_sales              0\n",
       "jp_sales              0\n",
       "other_sales           0\n",
       "critic_score       8461\n",
       "user_score         8981\n",
       "rating             6676\n",
       "dtype: int64"
      ]
     },
     "execution_count": 38,
     "metadata": {},
     "output_type": "execute_result"
    }
   ],
   "source": [
    "# Проверяем\n",
    "data.isna().sum()"
   ]
  },
  {
   "cell_type": "markdown",
   "metadata": {},
   "source": [
    "#### Столбец rating - рейтинг по организации ESRB       "
   ]
  },
  {
   "cell_type": "code",
   "execution_count": 39,
   "metadata": {},
   "outputs": [
    {
     "data": {
      "text/plain": [
       "array(['E', nan, 'M', 'T', 'E10+', 'K-A', 'AO', 'EC', 'RP'], dtype=object)"
      ]
     },
     "execution_count": 39,
     "metadata": {},
     "output_type": "execute_result"
    }
   ],
   "source": [
    "data['rating'].unique()"
   ]
  },
  {
   "cell_type": "markdown",
   "metadata": {},
   "source": [
    "Интересно узнать, что подразумевают эти категориальные значения.\n",
    "- E - Подходит для всех возрастных категорий. \n",
    "- M - Подходит для лиц старше 17 лет. \n",
    "- T - Подходит для лиц старше 13 лет.\n",
    "- E10+ - Подходит для лиц старше 10 лет.  \n",
    "- AO - Подходит для взрослых старше 18 лет.\n",
    "- EC - Подходит для детей от 3 лет.\n",
    "- RP - Категория ещё не присвоена.\n",
    "- K-A - Подходит для всех возрастных категорий. Если верить интернету, то рейтинга K-A больше не существует и теперь он называется E. Тогда нужно игры с этим рейтингом в нашем датасете объединить с данным рейтинга E."
   ]
  },
  {
   "cell_type": "code",
   "execution_count": 40,
   "metadata": {},
   "outputs": [],
   "source": [
    "# Поменяем рейтинг K-A на E\n",
    "data['rating'] = data['rating'].replace('K-A', 'E')"
   ]
  },
  {
   "cell_type": "code",
   "execution_count": 41,
   "metadata": {},
   "outputs": [
    {
     "data": {
      "text/plain": [
       "array(['E', nan, 'M', 'T', 'E10+', 'AO', 'EC', 'RP'], dtype=object)"
      ]
     },
     "execution_count": 41,
     "metadata": {},
     "output_type": "execute_result"
    }
   ],
   "source": [
    "# Проверяем\n",
    "data['rating'].unique()"
   ]
  },
  {
   "cell_type": "code",
   "execution_count": 42,
   "metadata": {
    "scrolled": true
   },
   "outputs": [
    {
     "data": {
      "image/png": "[encoded data removed]",
      "text/plain": [
       "<Figure size 432x288 with 1 Axes>"
      ]
     },
     "metadata": {
      "needs_background": "light"
     },
     "output_type": "display_data"
    }
   ],
   "source": [
    "data['rating'].hist(bins = 7);"
   ]
  },
  {
   "cell_type": "markdown",
   "metadata": {},
   "source": [
    "По графику мы видим, что игр с рейтингом AO, EC и RP слишком мало по сравнению с другими, больше всего игр с категорией E - то есть для всех возарстных категорий, но у нас еще есть пропуски"
   ]
  },
  {
   "cell_type": "markdown",
   "metadata": {},
   "source": [
    "Так как RP в нашем случае это данные, которым возрастная категория еще не присвоена, то можем пропуски по рейтингу объединить с RP. Есть еще вероятность, что при заполнении не знали о данном варианте рейтинга, и поэтому не заполнили данные."
   ]
  },
  {
   "cell_type": "code",
   "execution_count": 43,
   "metadata": {},
   "outputs": [],
   "source": [
    "# Меняем пропуски на рейтинг RP\n",
    "data['rating'] = data['rating'].fillna('RP')"
   ]
  },
  {
   "cell_type": "code",
   "execution_count": 44,
   "metadata": {},
   "outputs": [
    {
     "data": {
      "text/plain": [
       "RP      6677\n",
       "E       3923\n",
       "T       2905\n",
       "M       1536\n",
       "E10+    1393\n",
       "EC         8\n",
       "AO         1\n",
       "Name: rating, dtype: int64"
      ]
     },
     "execution_count": 44,
     "metadata": {},
     "output_type": "execute_result"
    }
   ],
   "source": [
    "# Проверяем\n",
    "data['rating'].value_counts()"
   ]
  },
  {
   "cell_type": "markdown",
   "metadata": {},
   "source": [
    "Данных по рейтингу EC и AO чересчур мало по сравнению с другими, и поэтому, чтобы сделать сбалансировать анализ, лучше их не брать в расчет"
   ]
  },
  {
   "cell_type": "code",
   "execution_count": 45,
   "metadata": {},
   "outputs": [],
   "source": [
    "# Убераем данные с рейтингом EC и AO\n",
    "data = data.loc[(data['rating'] != 'EC') & (data['rating'] != 'AO')]"
   ]
  },
  {
   "cell_type": "code",
   "execution_count": 46,
   "metadata": {},
   "outputs": [
    {
     "data": {
      "text/plain": [
       "RP      6677\n",
       "E       3923\n",
       "T       2905\n",
       "M       1536\n",
       "E10+    1393\n",
       "Name: rating, dtype: int64"
      ]
     },
     "execution_count": 46,
     "metadata": {},
     "output_type": "execute_result"
    }
   ],
   "source": [
    "# Проверяем\n",
    "data['rating'].value_counts()"
   ]
  },
  {
   "cell_type": "markdown",
   "metadata": {},
   "source": [
    "### Расчет суммарных продаж во всех регионах"
   ]
  },
  {
   "cell_type": "code",
   "execution_count": 47,
   "metadata": {},
   "outputs": [],
   "source": [
    "# Создаем общий столбец по сумме во всех регионах\n",
    "data['sum_sales'] = data['na_sales'] + data['eu_sales'] + data['jp_sales'] + data['other_sales']"
   ]
  },
  {
   "cell_type": "code",
   "execution_count": 48,
   "metadata": {},
   "outputs": [
    {
     "data": {
      "text/html": [
       "<div>\n",
       "<style scoped>\n",
       "    .dataframe tbody tr th:only-of-type {\n",
       "        vertical-align: middle;\n",
       "    }\n",
       "\n",
       "    .dataframe tbody tr th {\n",
       "        vertical-align: top;\n",
       "    }\n",
       "\n",
       "    .dataframe thead th {\n",
       "        text-align: right;\n",
       "    }\n",
       "</style>\n",
       "<table border=\"1\" class=\"dataframe\">\n",
       "  <thead>\n",
       "    <tr style=\"text-align: right;\">\n",
       "      <th></th>\n",
       "      <th>name</th>\n",
       "      <th>platform</th>\n",
       "      <th>year_of_release</th>\n",
       "      <th>genre</th>\n",
       "      <th>na_sales</th>\n",
       "      <th>eu_sales</th>\n",
       "      <th>jp_sales</th>\n",
       "      <th>other_sales</th>\n",
       "      <th>critic_score</th>\n",
       "      <th>user_score</th>\n",
       "      <th>rating</th>\n",
       "      <th>sum_sales</th>\n",
       "    </tr>\n",
       "  </thead>\n",
       "  <tbody>\n",
       "    <tr>\n",
       "      <th>0</th>\n",
       "      <td>Wii Sports</td>\n",
       "      <td>Wii</td>\n",
       "      <td>2006.0</td>\n",
       "      <td>Sports</td>\n",
       "      <td>41.36</td>\n",
       "      <td>28.96</td>\n",
       "      <td>3.77</td>\n",
       "      <td>8.45</td>\n",
       "      <td>76.0</td>\n",
       "      <td>8.0</td>\n",
       "      <td>E</td>\n",
       "      <td>82.54</td>\n",
       "    </tr>\n",
       "    <tr>\n",
       "      <th>1</th>\n",
       "      <td>Super Mario Bros.</td>\n",
       "      <td>NES</td>\n",
       "      <td>1985.0</td>\n",
       "      <td>Platform</td>\n",
       "      <td>29.08</td>\n",
       "      <td>3.58</td>\n",
       "      <td>6.81</td>\n",
       "      <td>0.77</td>\n",
       "      <td>NaN</td>\n",
       "      <td>NaN</td>\n",
       "      <td>RP</td>\n",
       "      <td>40.24</td>\n",
       "    </tr>\n",
       "    <tr>\n",
       "      <th>2</th>\n",
       "      <td>Mario Kart Wii</td>\n",
       "      <td>Wii</td>\n",
       "      <td>2008.0</td>\n",
       "      <td>Racing</td>\n",
       "      <td>15.68</td>\n",
       "      <td>12.76</td>\n",
       "      <td>3.79</td>\n",
       "      <td>3.29</td>\n",
       "      <td>82.0</td>\n",
       "      <td>8.3</td>\n",
       "      <td>E</td>\n",
       "      <td>35.52</td>\n",
       "    </tr>\n",
       "    <tr>\n",
       "      <th>3</th>\n",
       "      <td>Wii Sports Resort</td>\n",
       "      <td>Wii</td>\n",
       "      <td>2009.0</td>\n",
       "      <td>Sports</td>\n",
       "      <td>15.61</td>\n",
       "      <td>10.93</td>\n",
       "      <td>3.28</td>\n",
       "      <td>2.95</td>\n",
       "      <td>80.0</td>\n",
       "      <td>8.0</td>\n",
       "      <td>E</td>\n",
       "      <td>32.77</td>\n",
       "    </tr>\n",
       "    <tr>\n",
       "      <th>4</th>\n",
       "      <td>Pokemon Red/Pokemon Blue</td>\n",
       "      <td>GB</td>\n",
       "      <td>1996.0</td>\n",
       "      <td>Role-Playing</td>\n",
       "      <td>11.27</td>\n",
       "      <td>8.89</td>\n",
       "      <td>10.22</td>\n",
       "      <td>1.00</td>\n",
       "      <td>NaN</td>\n",
       "      <td>NaN</td>\n",
       "      <td>RP</td>\n",
       "      <td>31.38</td>\n",
       "    </tr>\n",
       "  </tbody>\n",
       "</table>\n",
       "</div>"
      ],
      "text/plain": [
       "                       name platform  year_of_release         genre  na_sales  \\\n",
       "0                Wii Sports      Wii           2006.0        Sports     41.36   \n",
       "1         Super Mario Bros.      NES           1985.0      Platform     29.08   \n",
       "2            Mario Kart Wii      Wii           2008.0        Racing     15.68   \n",
       "3         Wii Sports Resort      Wii           2009.0        Sports     15.61   \n",
       "4  Pokemon Red/Pokemon Blue       GB           1996.0  Role-Playing     11.27   \n",
       "\n",
       "   eu_sales  jp_sales  other_sales  critic_score  user_score rating  sum_sales  \n",
       "0     28.96      3.77         8.45          76.0         8.0      E      82.54  \n",
       "1      3.58      6.81         0.77           NaN         NaN     RP      40.24  \n",
       "2     12.76      3.79         3.29          82.0         8.3      E      35.52  \n",
       "3     10.93      3.28         2.95          80.0         8.0      E      32.77  \n",
       "4      8.89     10.22         1.00           NaN         NaN     RP      31.38  "
      ]
     },
     "execution_count": 48,
     "metadata": {},
     "output_type": "execute_result"
    }
   ],
   "source": [
    "# Проверям\n",
    "data.head()"
   ]
  },
  {
   "cell_type": "markdown",
   "metadata": {},
   "source": [
    "<div style=\"background: #B0E0E6; padding: 5px; border: 1px solid SteelBlue; border-radius: 5px;\">\n",
    "    <font color='4682B4'><u><b>комментарий</b></u></font>\n",
    "    <br />\n",
    "     В данном подразделе мы суммировали продажи во всех регонах по каждой игре, чтобы затем мы смогли проанализировать какими были продажи в общем по платформам, жанрам и годам"
   ]
  },
  {
   "cell_type": "markdown",
   "metadata": {},
   "source": [
    "## Исследовательский анализ данных"
   ]
  },
  {
   "cell_type": "markdown",
   "metadata": {},
   "source": [
    "<div class = \"alert alert-info\" style = \"border-color: info; border-radius: 5px\"> \n",
    "    <font color = 'black'>\n",
    "\n",
    "**Что нужно узнать на этом шаге:**\n",
    "\n",
    "- Сколько игр выпускалось в разные годы?\n",
    "- Как менялись продажи по платформам? У каких платформ наибольшие суммарные продажи? \n",
    "- Какие платформы лидируют по продажам, растут или падают? \n",
    "- Как влияют на продажи внутри одной популярной платформы отзывы пользователей и критиков?\n",
    "- Какие жанры самые прибыльные? Выделяются ли жанры с высокими и низкими продажами?"
   ]
  },
  {
   "cell_type": "markdown",
   "metadata": {},
   "source": [
    "### Сколько игр выпускалось в разные годы?"
   ]
  },
  {
   "cell_type": "code",
   "execution_count": 49,
   "metadata": {},
   "outputs": [
    {
     "data": {
      "image/png": "[encoded data removed]",
      "text/plain": [
       "<Figure size 1152x576 with 1 Axes>"
      ]
     },
     "metadata": {
      "needs_background": "light"
     },
     "output_type": "display_data"
    }
   ],
   "source": [
    "data.pivot_table(index = 'year_of_release', values = 'name', aggfunc = 'count').plot(\n",
    "    kind = 'bar',\n",
    "    title = ('Сколько игр выпускалось в разные годы'),\n",
    "    ylim = (0, 1500),\n",
    "    xlim = (0, 40),\n",
    "    alpha = 0.7,\n",
    "    grid = True,\n",
    "    color = 'rosybrown',\n",
    "    figsize = (16,8)\n",
    ");\n",
    "plt.xlabel(\"Год\"),\n",
    "plt.ylabel(\"Количество игр\")\n",
    "plt.show()"
   ]
  },
  {
   "cell_type": "markdown",
   "metadata": {},
   "source": [
    "Практически 10 лет с 1980 не наблюдалось никаких изменений по выпуску игр, но дальше сфера начала развиваться, это знают все, и на графики также видно, что с 90х годов пошел такой довольно резкий скачок и быстро дошел своего пика в 2008 году, далее произошел такой де резкий скачок, но уже вниз, возможно это произошло из-за роста популярности мобильных игр. Я бы не рассматривала график до 2001 года (2001 год - чтобы показать скачок вверх). А в качестве актуального интервала для дальнешйего прогноза на 2017 лучше взять последние несколько лет - с 2012 по 2016."
   ]
  },
  {
   "cell_type": "code",
   "execution_count": 50,
   "metadata": {},
   "outputs": [
    {
     "data": {
      "image/png": "[encoded data removed]",
      "text/plain": [
       "<Figure size 1080x720 with 1 Axes>"
      ]
     },
     "metadata": {
      "needs_background": "light"
     },
     "output_type": "display_data"
    }
   ],
   "source": [
    "# Построим тот же график, но уже в рамках актуальных лет (с 2012 по 2016)\n",
    "act_years = data.query('year_of_release >= 2012')\n",
    "act_years.pivot_table(index = 'year_of_release', values = 'name', aggfunc = 'count').plot(\n",
    "    kind = 'bar',\n",
    "    title = ('Сколько игр выпускалось в разные годы'),\n",
    "    ylim = (0, 800),\n",
    "    xlim = (0, 15),\n",
    "    alpha = 0.7,\n",
    "    grid = True,\n",
    "    color = 'rosybrown',\n",
    "    figsize = (15,10)\n",
    ");\n",
    "names = ('2012', '2013', '2014', '2015', '2016')\n",
    "plt.ylabel(\"Количество игр\")\n",
    "plt.xlabel(\"Год\")\n",
    "plt.xticks(rotation = 0)\n",
    "plt.ylabel(\"Количество игр\")\n",
    "plt.show()"
   ]
  },
  {
   "cell_type": "markdown",
   "metadata": {},
   "source": [
    "### Как менялись продажи по платформам? У каких платформ наибольшие суммарные продажи? Какие платформы лидируют по продажам, растут или падают? "
   ]
  },
  {
   "cell_type": "markdown",
   "metadata": {},
   "source": [
    "Посмотрим как менялись продажи по платформам в актуальные года (2012-2016)"
   ]
  },
  {
   "cell_type": "code",
   "execution_count": 51,
   "metadata": {},
   "outputs": [
    {
     "data": {
      "image/png": "[encoded data removed]",
      "text/plain": [
       "<Figure size 1008x576 with 1 Axes>"
      ]
     },
     "metadata": {
      "needs_background": "light"
     },
     "output_type": "display_data"
    }
   ],
   "source": [
    "act_years.pivot_table(index = 'year_of_release', columns = 'platform', values = 'sum_sales', aggfunc = 'sum').plot(\n",
    "    figsize = (14,8),\n",
    "    alpha = 0.6,\n",
    "    grid = True,\n",
    "    linewidth = 5\n",
    ")\n",
    "plt.title(\"Распределение суммарных продаж по платформам в период с 2012 по 2016 гг.\")\n",
    "plt.xlabel(\"Год\"),\n",
    "plt.ylabel(\"Суммарные продажи\")\n",
    "plt.show()"
   ]
  },
  {
   "cell_type": "markdown",
   "metadata": {},
   "source": [
    "Можно увидеть особенные пики у PS3 и PS4, PS4 достигла максимального пика и обогнала остальные платформа за два года, в то время как предыдущий лидер PS3 резко начал падать в продажах. Это логично, ведь это тот же PS3, только модифицированнее и интереснее. Рост к 2016 ни у одной платформы не наблюдается"
   ]
  },
  {
   "cell_type": "markdown",
   "metadata": {},
   "source": [
    "Посмотрим получше на распределение платформ между собой в актульаные года"
   ]
  },
  {
   "cell_type": "code",
   "execution_count": 52,
   "metadata": {},
   "outputs": [
    {
     "data": {
      "image/png": "[encoded data removed]",
      "text/plain": [
       "<Figure size 1152x576 with 1 Axes>"
      ]
     },
     "metadata": {
      "needs_background": "light"
     },
     "output_type": "display_data"
    }
   ],
   "source": [
    "act_years.pivot_table(index = 'platform', columns = 'year_of_release', values = 'sum_sales', aggfunc = 'sum').plot(\n",
    "    kind = 'bar',\n",
    "    figsize = (16,8),\n",
    "    alpha = 0.6,\n",
    "    ylim = (0, 125),\n",
    "    xlim = (0, 25),\n",
    "    grid = True,\n",
    "    linewidth = 4\n",
    ")\n",
    "plt.title(\"Распределение суммарных продаж по платформам в период с 2012 по 2016 гг.\")\n",
    "plt.xlabel(\"Платформа\")\n",
    "plt.xticks(rotation = 0)\n",
    "plt.ylabel(\"Суммарные продажи\")\n",
    "plt.show()"
   ]
  },
  {
   "cell_type": "markdown",
   "metadata": {},
   "source": [
    "PS3 и PS4 все также выделяются, однако на этом графике стало лучше видно следующие за ними платформы, например, на третьем месте мы уже видим находится X360"
   ]
  },
  {
   "cell_type": "code",
   "execution_count": 53,
   "metadata": {},
   "outputs": [
    {
     "data": {
      "image/png": "[encoded data removed]",
      "text/plain": [
       "<Figure size 1152x576 with 1 Axes>"
      ]
     },
     "metadata": {
      "needs_background": "light"
     },
     "output_type": "display_data"
    }
   ],
   "source": [
    "top_platforms = act_years.pivot_table(index = 'platform', values = 'sum_sales', aggfunc = 'sum')\n",
    "top_platforms.sort_values(by = 'sum_sales', ascending = False).head(5).plot(\n",
    "    kind = 'bar',\n",
    "    figsize = (16,8),\n",
    "    alpha = 0.6,\n",
    "    ylim = (0, 350),\n",
    "    xlim = (0, 25),\n",
    "    grid = True,\n",
    "    color = 'purple',\n",
    "    linewidth = 4\n",
    ")\n",
    "plt.title(\"ТОП-5 платформ по суммарным продажам\")\n",
    "plt.xlabel(\"Платформа\")\n",
    "plt.xticks(rotation = 0)\n",
    "plt.ylabel(\"Суммарные продажи\")\n",
    "plt.show()"
   ]
  },
  {
   "cell_type": "markdown",
   "metadata": {},
   "source": [
    "На этом графике мы видим лидеров по суммарным продажам по регионам, как мы раньше уже упоминали это PS4, PS3, X360, но теперь мы еще видим 3OS и XOne"
   ]
  },
  {
   "cell_type": "code",
   "execution_count": 72,
   "metadata": {},
   "outputs": [
    {
     "data": {
      "image/png": "[encoded data removed]",
      "text/plain": [
       "<Figure size 1152x576 with 1 Axes>"
      ]
     },
     "metadata": {
      "needs_background": "light"
     },
     "output_type": "display_data"
    }
   ],
   "source": [
    "top_platforms = act_years.pivot_table(index = 'platform', values = 'sum_sales', aggfunc = 'sum')\n",
    "top_platforms.sort_values(by = 'sum_sales', ascending = False).tail(5).plot(\n",
    "    kind = 'bar',\n",
    "    figsize = (16,8),\n",
    "    alpha = 0.6,\n",
    "    ylim = (0, 100),\n",
    "    xlim = (0, 25),\n",
    "    grid = True,\n",
    "    color = 'purple',\n",
    "    linewidth = 4\n",
    ")\n",
    "plt.title(\"ТОП-5 платформ по самым низким суммарным продажам\")\n",
    "plt.xlabel(\"Платформа\")\n",
    "plt.xticks(rotation = 0)\n",
    "plt.ylabel(\"Суммарные продажи\")\n",
    "plt.show()"
   ]
  },
  {
   "cell_type": "markdown",
   "metadata": {},
   "source": [
    "А здесь расположены платформы с самыми низкими суммарными продажами по регионам, PSP на первом месте по наименьшим суммарным продажам, немного лучше него идет DS, но судя по тенденции все равно догоняет"
   ]
  },
  {
   "cell_type": "code",
   "execution_count": 55,
   "metadata": {},
   "outputs": [
    {
     "data": {
      "image/png": "[encoded data removed]",
      "text/plain": [
       "<Figure size 1080x720 with 1 Axes>"
      ]
     },
     "metadata": {
      "needs_background": "light"
     },
     "output_type": "display_data"
    }
   ],
   "source": [
    "# Построим \"ящик с усами\" по глобальным продажам игр в разбивке по платформам\n",
    "plt.figure(figsize = (15, 10))\n",
    "sns.boxplot (x = act_years['platform'], y = act_years['sum_sales'])\n",
    "plt.grid(True)\n",
    "plt.ylim(0, 2)\n",
    "plt.show()"
   ]
  },
  {
   "cell_type": "markdown",
   "metadata": {},
   "source": [
    "Интресно, что наибольший размах в данном случае имеет платформа X360, как и наибольшую медиану - больше 25 миллионов проданных копий, то есть одна половина всех данных по этой платформе находится за этим числом. Достаточный размах по этому графику мы видим еще у XOne и Wi, но на графике с лидерами они не на первых местах, значит у них не так много выбросов"
   ]
  },
  {
   "cell_type": "code",
   "execution_count": 56,
   "metadata": {
    "scrolled": false
   },
   "outputs": [
    {
     "data": {
      "image/png": "[encoded data removed]",
      "text/plain": [
       "<Figure size 1080x720 with 1 Axes>"
      ]
     },
     "metadata": {
      "needs_background": "light"
     },
     "output_type": "display_data"
    }
   ],
   "source": [
    "# Построим более приближенный \"ящик с усами\" по глобальным продажам игр в разбивке по платформам\n",
    "plt.figure(figsize = (15, 10))\n",
    "sns.boxplot (x = act_years['platform'], y = act_years['sum_sales'])\n",
    "plt.grid(True)\n",
    "plt.ylim(0, 0.76)\n",
    "plt.show()"
   ]
  },
  {
   "cell_type": "markdown",
   "metadata": {},
   "source": [
    "<div style=\"background: #B0E0E6; padding: 5px; border: 1px solid SteelBlue; border-radius: 5px;\">\n",
    "    <font color='4682B4'><u><b>комментарий</b></u></font>\n",
    "    <br />\n",
    "   Теперь, когда мы отрегулировали график, нам стала лучше видна нижняя, или лучше сказать основная часть, куда входит главный массив продаж. На это графике заметна одинаковая медиана у двух лидеров продаж - PS4 и PS3, однако тем не менее у PS4 больше межквартильный размах, то есть у PS4 не так плотно сгруппированы данные по продажам и диапазон шире.</font>\n",
    "</div>\n"
   ]
  },
  {
   "cell_type": "markdown",
   "metadata": {},
   "source": [
    "### Как влияют на продажи внутри одной популярной платформы отзывы пользователей и критиков?"
   ]
  },
  {
   "cell_type": "code",
   "execution_count": 57,
   "metadata": {},
   "outputs": [
    {
     "data": {
      "image/png": "[encoded data removed]",
      "text/plain": [
       "<Figure size 720x360 with 1 Axes>"
      ]
     },
     "metadata": {
      "needs_background": "light"
     },
     "output_type": "display_data"
    },
    {
     "data": {
      "image/png": "[encoded data removed]",
      "text/plain": [
       "<Figure size 720x360 with 1 Axes>"
      ]
     },
     "metadata": {
      "needs_background": "light"
     },
     "output_type": "display_data"
    },
    {
     "data": {
      "image/png": "[encoded data removed]",
      "text/plain": [
       "<Figure size 720x360 with 1 Axes>"
      ]
     },
     "metadata": {
      "needs_background": "light"
     },
     "output_type": "display_data"
    }
   ],
   "source": [
    "# Отберем три самые популярные платформы (благодаря предыдущим шагам) посмторим графики зависимости продаж от отзывов пользователей\n",
    "top_three = ['PS4', 'PS3', 'X360']\n",
    "for d in top_three:\n",
    "    choose = act_years[act_years['platform'] == d]\n",
    "    choose.plot(\n",
    "    kind = 'scatter',\n",
    "    figsize = (10,5),\n",
    "    alpha = 0.7,\n",
    "    x = 'user_score',\n",
    "    title = d,\n",
    "    y = 'sum_sales',       \n",
    ")"
   ]
  },
  {
   "cell_type": "code",
   "execution_count": 58,
   "metadata": {},
   "outputs": [
    {
     "data": {
      "text/plain": [
       "-0.031957110204556376"
      ]
     },
     "execution_count": 58,
     "metadata": {},
     "output_type": "execute_result"
    }
   ],
   "source": [
    "# Найдем корреляцию для PS4 между продажами и отызвами пользователей\n",
    "data_new = data.loc[data['year_of_release'] >= 2012]\n",
    "number_one = data_new[data['platform'] == 'PS4']\n",
    "number_one['sum_sales'].corr(number_one['user_score'])"
   ]
  },
  {
   "cell_type": "code",
   "execution_count": 59,
   "metadata": {},
   "outputs": [
    {
     "data": {
      "text/plain": [
       "-0.006205767686051522"
      ]
     },
     "execution_count": 59,
     "metadata": {},
     "output_type": "execute_result"
    }
   ],
   "source": [
    "# Найдем корреляцию для PS3 между продажами и отзывами пользователей\n",
    "number_two = data_new[data['platform'] == 'PS3']\n",
    "number_two['sum_sales'].corr(number_two['user_score'])"
   ]
  },
  {
   "cell_type": "code",
   "execution_count": 60,
   "metadata": {},
   "outputs": [
    {
     "data": {
      "text/plain": [
       "0.0061639786462133256"
      ]
     },
     "execution_count": 60,
     "metadata": {},
     "output_type": "execute_result"
    }
   ],
   "source": [
    "# Найдем корреляцию для X360 между продажами и отызвами пользователей\n",
    "number_three = data_new[data['platform'] == 'X360']\n",
    "number_three['sum_sales'].corr(number_three['user_score'])"
   ]
  },
  {
   "cell_type": "markdown",
   "metadata": {},
   "source": [
    "Итог: Корреляция между продажами и отызвами пользователей у всех троих платформ-лидеров практически отсутствует. Ближе всего зависимость у PS4, но она ближе по сравнению с другими двумя платфомами, корреляция все равно очень низкая"
   ]
  },
  {
   "cell_type": "code",
   "execution_count": 61,
   "metadata": {},
   "outputs": [
    {
     "data": {
      "image/png": "[encoded data removed]",
      "text/plain": [
       "<Figure size 720x360 with 1 Axes>"
      ]
     },
     "metadata": {
      "needs_background": "light"
     },
     "output_type": "display_data"
    },
    {
     "data": {
      "image/png": "[encoded data removed]",
      "text/plain": [
       "<Figure size 720x360 with 1 Axes>"
      ]
     },
     "metadata": {
      "needs_background": "light"
     },
     "output_type": "display_data"
    },
    {
     "data": {
      "image/png": "[encoded data removed]",
      "text/plain": [
       "<Figure size 720x360 with 1 Axes>"
      ]
     },
     "metadata": {
      "needs_background": "light"
     },
     "output_type": "display_data"
    }
   ],
   "source": [
    "# Отберем три самые популярные платформы (благодаря предыдущим шагам) посмторим графики зависимости продаж от отзывов критиков\n",
    "top_three = ['PS4', 'PS3', 'X360']\n",
    "for d in top_three:\n",
    "    choose = act_years[act_years['platform'] == d]\n",
    "    choose.plot(\n",
    "    kind = 'scatter',\n",
    "    figsize = (10,5),\n",
    "    alpha = 0.7,\n",
    "    x = 'critic_score',\n",
    "    title = d,\n",
    "    y = 'sum_sales',      \n",
    ")"
   ]
  },
  {
   "cell_type": "code",
   "execution_count": 62,
   "metadata": {},
   "outputs": [
    {
     "data": {
      "text/plain": [
       "0.406567902061781"
      ]
     },
     "execution_count": 62,
     "metadata": {},
     "output_type": "execute_result"
    }
   ],
   "source": [
    "# Найдем корреляцию для PS4 между продажами и отызвами критиков\n",
    "number_one['sum_sales'].corr(number_one['critic_score'])"
   ]
  },
  {
   "cell_type": "code",
   "execution_count": 63,
   "metadata": {},
   "outputs": [
    {
     "data": {
      "text/plain": [
       "0.3341517575509856"
      ]
     },
     "execution_count": 63,
     "metadata": {},
     "output_type": "execute_result"
    }
   ],
   "source": [
    "# Найдем корреляцию для PS3 между продажами и отызвами критиков\n",
    "number_two['sum_sales'].corr(number_two['critic_score'])"
   ]
  },
  {
   "cell_type": "code",
   "execution_count": 64,
   "metadata": {},
   "outputs": [
    {
     "data": {
      "text/plain": [
       "0.36057348885073365"
      ]
     },
     "execution_count": 64,
     "metadata": {},
     "output_type": "execute_result"
    }
   ],
   "source": [
    "# Найдем корреляцию для X360 между продажами и отызвами критиков\n",
    "number_three['sum_sales'].corr(number_three['critic_score'])"
   ]
  },
  {
   "cell_type": "markdown",
   "metadata": {},
   "source": [
    "Итог: здесь ситуация уже получше, чем у зависимости от отзывов пользователей, но все равно нельзя выделить явную положительную корреляцию. В данном случае ближе всех по зависимости продаж от отзывов PS4 - корреялция составляет 0.4, это не мало, тенденция прослеживается, но она средняя."
   ]
  },
  {
   "cell_type": "markdown",
   "metadata": {},
   "source": [
    "### Какие жанры самые прибыльные? Выделяются ли жанры с высокими и низкими продажами?"
   ]
  },
  {
   "cell_type": "code",
   "execution_count": 65,
   "metadata": {},
   "outputs": [
    {
     "data": {
      "image/png": "[encoded data removed]",
      "text/plain": [
       "<Figure size 1152x576 with 1 Axes>"
      ]
     },
     "metadata": {
      "needs_background": "light"
     },
     "output_type": "display_data"
    }
   ],
   "source": [
    "data_new.pivot_table(index = 'genre', values = 'sum_sales', aggfunc = 'median').plot(\n",
    "kind = 'bar',\n",
    "    figsize = (16,8),\n",
    "    alpha = 0.6,\n",
    "    ylim = (0, 0.5),\n",
    "    xlim = (0, 24),\n",
    "    grid = True,\n",
    "    color = 'purple',\n",
    "    linewidth = 4\n",
    ")\n",
    "plt.title(\"Распределение игр по жанрам\")\n",
    "plt.xlabel(\"Жанр\")\n",
    "plt.xticks(rotation = 0)\n",
    "plt.ylabel(\"Суммарные продажи\")\n",
    "plt.show()\n"
   ]
  },
  {
   "cell_type": "markdown",
   "metadata": {},
   "source": [
    "Самым популярным жанром является shooter, то есть стрельба, такие жанры всегда покупались чаще других, поэтому не удивительно что здесь они на первом месте. На втором месте спортивные игры и игры на платформах. А вот самыми непопулярными являются стртегии, пазлы и приключения. В наших данных записан на одну игру один жанр, однако многие игры могут вмещать в себя несколько жанров одновременно, было бы интересно посмореть на распределение по сочетаниям жанрров."
   ]
  },
  {
   "cell_type": "markdown",
   "metadata": {},
   "source": [
    "## Составление портрета пользователя каждого региона"
   ]
  },
  {
   "cell_type": "markdown",
   "metadata": {},
   "source": [
    "<div class = \"alert alert-info\" style = \"border-color: info; border-radius: 5px\"> \n",
    "    <font color = 'black'>\n",
    "        \n",
    "**Что нужно сделать на этом шаге:**\n",
    "        \n",
    "- Самые популярные платформы (топ-5)\n",
    "- Самые популярные жанры (топ-5)\n",
    "- Влияние рейтинга ESRB на продажи в отдельном регионе"
   ]
  },
  {
   "cell_type": "markdown",
   "metadata": {},
   "source": [
    "Построим сначала распределения по самым популярным платформам в каждом регионе"
   ]
  },
  {
   "cell_type": "code",
   "execution_count": 66,
   "metadata": {},
   "outputs": [
    {
     "data": {
      "image/png": "[encoded data removed]",
      "text/plain": [
       "<Figure size 576x432 with 1 Axes>"
      ]
     },
     "metadata": {},
     "output_type": "display_data"
    },
    {
     "data": {
      "image/png": "[encoded data removed]",
      "text/plain": [
       "<Figure size 576x432 with 1 Axes>"
      ]
     },
     "metadata": {},
     "output_type": "display_data"
    },
    {
     "data": {
      "image/png": "[encoded data removed]",
      "text/plain": [
       "<Figure size 576x432 with 1 Axes>"
      ]
     },
     "metadata": {},
     "output_type": "display_data"
    }
   ],
   "source": [
    "for elem in ['na_sales', 'eu_sales', 'jp_sales']:\n",
    "    data_new.groupby(by = 'platform').agg({elem : 'sum'}).sort_values(by = elem, ascending = False).head(5).plot(\n",
    "        kind = 'pie',\n",
    "        subplots = True,\n",
    "        figsize = (8,6),\n",
    "        autopct = '%1.2f%%'\n",
    "    )\n",
    "    plt.ylabel(\"\")\n",
    "    plt.title(f'Распределение доли продаж платформ {elem}')\n",
    "    plt.show()"
   ]
  },
  {
   "cell_type": "markdown",
   "metadata": {},
   "source": [
    "В каждом регионе самая популярная платформа различается. В Северной Америке отдает предпочтнение X360, в Европе - PS4, в Японии - 3DS, причем если смотреть на доли, то в Японии чуть больше половины предпочитают 3DS, в то время как в других регионах нет настолько большой доли продаж у их самой популярной платформы."
   ]
  },
  {
   "cell_type": "markdown",
   "metadata": {},
   "source": [
    "Теперь построим распределения по самым популярным жанрам в каждом регионе"
   ]
  },
  {
   "cell_type": "code",
   "execution_count": 67,
   "metadata": {},
   "outputs": [
    {
     "data": {
      "image/png": "[encoded data removed]",
      "text/plain": [
       "<Figure size 576x432 with 1 Axes>"
      ]
     },
     "metadata": {},
     "output_type": "display_data"
    },
    {
     "data": {
      "image/png": "[encoded data removed]",
      "text/plain": [
       "<Figure size 576x432 with 1 Axes>"
      ]
     },
     "metadata": {},
     "output_type": "display_data"
    },
    {
     "data": {
      "image/png": "[encoded data removed]",
      "text/plain": [
       "<Figure size 576x432 with 1 Axes>"
      ]
     },
     "metadata": {},
     "output_type": "display_data"
    }
   ],
   "source": [
    "for elem in ['na_sales', 'eu_sales', 'jp_sales']:\n",
    "    data_new.groupby(by = 'genre').agg({elem : 'sum'}).sort_values(by = elem, ascending = False).head(5).plot(\n",
    "        kind = 'pie',\n",
    "        subplots = True,\n",
    "        figsize = (8,6),\n",
    "        autopct = '%1.2f%%'\n",
    "    )\n",
    "    plt.ylabel(\"\")\n",
    "    plt.title(f'Распределение доли продаж жанров {elem}')\n",
    "    plt.show()"
   ]
  },
  {
   "cell_type": "markdown",
   "metadata": {},
   "source": [
    "Жанр Action выигрывает в Северной Америке и в Европе, а в Японии побеждает Role-Playing, хотя Action не сильно отстал - 24.9% против 43.35%"
   ]
  },
  {
   "cell_type": "markdown",
   "metadata": {},
   "source": [
    "Влияние рейтинга ESRB на продажи в отдельном регионе"
   ]
  },
  {
   "cell_type": "code",
   "execution_count": 68,
   "metadata": {},
   "outputs": [
    {
     "data": {
      "image/png": "[encoded data removed]",
      "text/plain": [
       "<Figure size 576x432 with 1 Axes>"
      ]
     },
     "metadata": {},
     "output_type": "display_data"
    },
    {
     "data": {
      "image/png": "[encoded data removed]",
      "text/plain": [
       "<Figure size 576x432 with 1 Axes>"
      ]
     },
     "metadata": {},
     "output_type": "display_data"
    },
    {
     "data": {
      "image/png": "[encoded data removed]",
      "text/plain": [
       "<Figure size 576x432 with 1 Axes>"
      ]
     },
     "metadata": {},
     "output_type": "display_data"
    }
   ],
   "source": [
    "for elem in ['na_sales', 'eu_sales', 'jp_sales']:\n",
    "    data_new.groupby(by = 'rating').agg({elem : 'sum'}).sort_values(by = elem, ascending = False).head(5).plot(\n",
    "        kind = 'pie',\n",
    "        subplots = True,\n",
    "        figsize = (8,6),\n",
    "        autopct = '%1.2f%%'\n",
    "    )\n",
    "    plt.ylabel(\"\")\n",
    "    plt.title(f'Влияние рейтинга для {elem}')\n",
    "    plt.show()"
   ]
  },
  {
   "cell_type": "markdown",
   "metadata": {},
   "source": [
    "Рейтинг M (старше 17 лет) популярнее в Северной Америке и в Европе, а в Японии - RP. "
   ]
  },
  {
   "cell_type": "markdown",
   "metadata": {},
   "source": [
    "**Итог**\n",
    "- В Северной Америке: X360, Action, M\n",
    "- В Европе: PS4, Action, M\n",
    "- В Японии: 3DS, Role-Playing, RP"
   ]
  },
  {
   "cell_type": "markdown",
   "metadata": {},
   "source": [
    "## Проверка гипотез"
   ]
  },
  {
   "cell_type": "markdown",
   "metadata": {},
   "source": [
    "<div class = \"alert alert-info\" style = \"border-color: info; border-radius: 5px\"> \n",
    "    <font color = 'black'>\n",
    "\n",
    "- Средние пользовательские рейтинги платформ XOne и PC одинаковые\n",
    "- Средние пользовательские рейтинги жанров Action и Sports разные"
   ]
  },
  {
   "cell_type": "markdown",
   "metadata": {},
   "source": [
    "Проверка гипотезы: средние пользовательские рейтинги платформ XOne и PC одинаковые"
   ]
  },
  {
   "cell_type": "markdown",
   "metadata": {},
   "source": [
    "- H_0: средние пользовательские рейтинги платформ XOne = средние пользовательские рейтинги платформ PC\n",
    "- H_1: средние пользовательские рейтинги платформ XOne ≠ средние пользовательские рейтинги платформ PC"
   ]
  },
  {
   "cell_type": "markdown",
   "metadata": {},
   "source": [
    "Исходя из гипотезы мы выявили нулевую и альтернативные гипотезы. Нулевая гипотеза всегла говорит нам о равенстве, когла альтернативная ей противопоставляет. "
   ]
  },
  {
   "cell_type": "code",
   "execution_count": 69,
   "metadata": {},
   "outputs": [
    {
     "name": "stdout",
     "output_type": "stream",
     "text": [
      "0.5489537965134912\n",
      "Не получилось отвергнуть нулевую гипотезу\n"
     ]
    }
   ],
   "source": [
    "# Уберем пропуски для анализа\n",
    "data_new = data_new.dropna(subset = ['user_score'])\n",
    "# results - вызов метода для проверки гипотезы\n",
    "XOne = data_new.loc[data_new['platform'] =='XOne']['user_score']\n",
    "PC = data_new.loc[data_new['platform'] =='PC']['user_score']\n",
    "results = st.ttest_ind(XOne, PC, equal_var = False) # Берем такой метод, так как совокупности не зависят друг от друга\n",
    "# alpha - значение уровня значимости\n",
    "alpha = 0.05\n",
    "# вывод значения p-value на экран \n",
    "print(results.pvalue)\n",
    "# условный оператор с выводом строки с ответом\n",
    "if results.pvalue < alpha:\n",
    "    print('Отвергаем нулевую гипотезу')\n",
    "else:\n",
    "    print('Не получилось отвергнуть нулевую гипотезу')"
   ]
  },
  {
   "cell_type": "markdown",
   "metadata": {},
   "source": [
    "Значит, средние пользовательские рейтинги платформ XOne и средние пользовательские рейтинги платформ PC одинаковые"
   ]
  },
  {
   "cell_type": "markdown",
   "metadata": {},
   "source": [
    "Проверка гипотезы: средние пользовательские рейтинги жанров Action и Sports разные"
   ]
  },
  {
   "cell_type": "markdown",
   "metadata": {},
   "source": [
    "- H_0: средние пользовательские рейтинги жанров Action = средние пользовательские рейтинги жанров Sports \n",
    "- H_1: средние пользовательские рейтинги жанров Action ≠ средние пользовательские рейтинги жанров Sports "
   ]
  },
  {
   "cell_type": "code",
   "execution_count": 70,
   "metadata": {},
   "outputs": [
    {
     "name": "stdout",
     "output_type": "stream",
     "text": [
      "5.989458066467418e-20\n",
      "Отвергаем нулевую гипотезу\n"
     ]
    }
   ],
   "source": [
    "# results - вызов метода для проверки гипотезы\n",
    "Action = data_new.loc[data_new['genre'] =='Action']['user_score']\n",
    "Sports = data_new.loc[data_new['genre'] =='Sports']['user_score']\n",
    "results = st.ttest_ind(Action, Sports, equal_var = False)\n",
    "# alpha - значение уровня значимости\n",
    "alpha = 0.05\n",
    "# вывод значения p-value на экран \n",
    "print(results.pvalue)\n",
    "# условный оператор с выводом строки с ответом\n",
    "if results.pvalue < alpha:\n",
    "    print('Отвергаем нулевую гипотезу')\n",
    "else:\n",
    "    print('Не получилось отвергнуть нулевую гипотезу')"
   ]
  },
  {
   "cell_type": "markdown",
   "metadata": {},
   "source": [
    "Значит, средние пользовательские рейтинги жанров Action и Sports разные."
   ]
  },
  {
   "cell_type": "markdown",
   "metadata": {},
   "source": [
    "## Общий вывод"
   ]
  },
  {
   "cell_type": "markdown",
   "metadata": {},
   "source": [
    "Мы проанализировали данных о компьютерных играх, просмотрели их распределение продаж по годам, жанрам, регионам и можем прорезюмировать:\n",
    "- Лидерами по продажам являются платформы PS4, PS3, X360, 3DS и XOne\n",
    "- Самыми непродаваемыми платформами являются PC, PSV, Wi, DS и PSP\n",
    "- Практически 10 лет с 1980 не наблюдалось никаких изменений по выпуску игр, но дальше сфера начала развиваться и с 90х годов произошел резкий скачок, который ьыстро дошел до пика в 2008 году, далее произошел такой де резкий скачок, но уже вниз, возможно это произошло из-за роста популярности мобильных игр. В качестве актуального интервала для дальнешйего прогноза на 2017 лучше взять последние несколько лет - с 2012 по 2016.\n",
    "- В Северной Америке популярной платформой является X360, жанром - Action, возрастным рейтингом - M\n",
    "- В Европе популярной платформой является PS4, жанром - Action, возрастным рейтингом - M\n",
    "- В Японии популярной платформой является 3DS,  - Role-Playing, возрастным рейтингом - RP\n",
    "- По итогам проверки гипотез мы выявили, что средние пользовательские рейтинги платформ XOne и средние пользовательские рейтинги платформ PC одинаковые, а также, что средние пользовательские рейтинги жанров Action и Sports разные\n",
    "- Самым популярным жанром является shooter, то есть стрельба, такие жанры всегда покупались чаще других, поэтому не удивительно что здесь они на первом месте. На втором месте спортивные игры и игры на платформах. А вот самыми непопулярными являются стртегии, пазлы и приключения. В наших данных записан на одну игру один жанр, однако многие игры могут вмещать в себя несколько жанров одновременно, было бы интересно посмореть на распределение по сочетаниям жанров.\n",
    "- К сожалению в данных есть пропуски, и в некоторых столбцах они доходят до половины всего количества, для дальнейшего анализа было бы отлично восполнить пользовательские оценки и возрастные рейтинги."
   ]
  },
  {
   "cell_type": "markdown",
   "metadata": {},
   "source": [
    "<div style=\"background: #B0E0E6; padding: 5px; border: 1px solid SteelBlue; border-radius: 5px;\">\n",
    "    <font color='4682B4'><u><b>комментарий</b></u></font>\n",
    "    <br />\n",
    "Что касается стратегии на 2017 год, то важно обратить внимание на следующие моменты:\n",
    "Если смотреть по регионам, то можно сделать акцент на популярных жанрах и платформах, например в Северной Америке популярной платформой является X360, игры для такой платформы продаются больше остальных, самыми продаваемыми жанрами игр является жанр Action. По Европе нужно взять во внимание популярность платформы PS4, и соответсвенно всех игр для этой платформы, популярным жанром также является Action, поэтому стоит просмотреть и увеличить продажи игр именно этого жанра.  В Японии популярной платформой является 3DS, а жанр уже отличается - Role-Playing самый популярный жанр в Японии, однако не стоит откладывать игры Action, так как они не сильно отстают по продажам в Японии, разница буквально 9%. Говоря об оценках пользователей и критиков, а также о рейтинге ESRB, то их можно взять за основу выбора стратегии продаж, но скорее всего только в Северной Америке они будут действительно полезны, по другим регионам нужно смотреть их рейтинги.\n",
    "    <font color='4682B4'>"
   ]
  }
 ],
 "metadata": {
  "ExecuteTimeLog": [
   {
    "duration": 129,
    "start_time": "2023-04-08T05:16:10.802Z"
   },
   {
    "duration": 80,
    "start_time": "2023-04-08T05:37:56.056Z"
   },
   {
    "duration": 593,
    "start_time": "2023-04-08T06:06:21.443Z"
   },
   {
    "duration": 3,
    "start_time": "2023-04-08T06:08:44.929Z"
   },
   {
    "duration": 363,
    "start_time": "2023-04-08T06:09:52.614Z"
   },
   {
    "duration": 82,
    "start_time": "2023-04-08T06:09:55.866Z"
   },
   {
    "duration": 9,
    "start_time": "2023-04-08T06:10:17.079Z"
   },
   {
    "duration": 97,
    "start_time": "2023-04-08T06:10:31.578Z"
   },
   {
    "duration": 30,
    "start_time": "2023-04-08T06:10:32.128Z"
   },
   {
    "duration": 2,
    "start_time": "2023-04-08T06:10:48.145Z"
   },
   {
    "duration": 29,
    "start_time": "2023-04-08T06:10:48.577Z"
   },
   {
    "duration": 20,
    "start_time": "2023-04-08T06:11:11.230Z"
   },
   {
    "duration": 210,
    "start_time": "2023-04-08T06:12:53.051Z"
   },
   {
    "duration": 13,
    "start_time": "2023-04-08T06:12:54.314Z"
   },
   {
    "duration": 13,
    "start_time": "2023-04-08T06:14:06.093Z"
   },
   {
    "duration": 813,
    "start_time": "2023-04-08T06:14:22.454Z"
   },
   {
    "duration": 681,
    "start_time": "2023-04-08T06:14:56.899Z"
   },
   {
    "duration": 37,
    "start_time": "2023-04-08T06:16:23.719Z"
   },
   {
    "duration": 539,
    "start_time": "2023-04-08T06:16:30.684Z"
   },
   {
    "duration": 611,
    "start_time": "2023-04-08T06:16:35.050Z"
   },
   {
    "duration": 643,
    "start_time": "2023-04-08T06:17:42.694Z"
   },
   {
    "duration": 581,
    "start_time": "2023-04-08T06:17:45.618Z"
   },
   {
    "duration": 9,
    "start_time": "2023-04-08T06:20:59.169Z"
   },
   {
    "duration": 92,
    "start_time": "2023-04-08T06:21:27.263Z"
   },
   {
    "duration": 3,
    "start_time": "2023-04-08T06:22:20.730Z"
   },
   {
    "duration": 3,
    "start_time": "2023-04-08T06:23:59.058Z"
   },
   {
    "duration": 4,
    "start_time": "2023-04-08T06:24:52.834Z"
   },
   {
    "duration": 64,
    "start_time": "2023-04-08T06:25:12.657Z"
   },
   {
    "duration": 10,
    "start_time": "2023-04-08T06:25:25.752Z"
   },
   {
    "duration": 4,
    "start_time": "2023-04-08T08:09:59.998Z"
   },
   {
    "duration": 4,
    "start_time": "2023-04-08T08:10:30.813Z"
   },
   {
    "duration": 6,
    "start_time": "2023-04-08T08:13:31.466Z"
   },
   {
    "duration": 19,
    "start_time": "2023-04-08T08:13:44.101Z"
   },
   {
    "duration": 3,
    "start_time": "2023-04-08T08:13:55.487Z"
   },
   {
    "duration": 4,
    "start_time": "2023-04-08T08:14:02.158Z"
   },
   {
    "duration": 821,
    "start_time": "2023-04-08T08:14:49.064Z"
   },
   {
    "duration": 53,
    "start_time": "2023-04-08T08:14:49.887Z"
   },
   {
    "duration": 28,
    "start_time": "2023-04-08T08:14:49.942Z"
   },
   {
    "duration": 20,
    "start_time": "2023-04-08T08:14:49.972Z"
   },
   {
    "duration": 648,
    "start_time": "2023-04-08T08:14:49.994Z"
   },
   {
    "duration": 37,
    "start_time": "2023-04-08T08:14:50.644Z"
   },
   {
    "duration": 4,
    "start_time": "2023-04-08T08:14:50.683Z"
   },
   {
    "duration": 8,
    "start_time": "2023-04-08T08:14:50.688Z"
   },
   {
    "duration": 10,
    "start_time": "2023-04-08T08:14:50.698Z"
   },
   {
    "duration": 29,
    "start_time": "2023-04-08T08:14:50.710Z"
   },
   {
    "duration": 3,
    "start_time": "2023-04-08T08:16:24.283Z"
   },
   {
    "duration": 3,
    "start_time": "2023-04-08T08:16:34.125Z"
   },
   {
    "duration": 18,
    "start_time": "2023-04-08T08:16:44.598Z"
   },
   {
    "duration": 4,
    "start_time": "2023-04-08T08:18:11.972Z"
   },
   {
    "duration": 13,
    "start_time": "2023-04-08T08:18:14.271Z"
   },
   {
    "duration": 729,
    "start_time": "2023-04-08T08:19:42.643Z"
   },
   {
    "duration": 52,
    "start_time": "2023-04-08T08:19:43.374Z"
   },
   {
    "duration": 23,
    "start_time": "2023-04-08T08:19:43.428Z"
   },
   {
    "duration": 24,
    "start_time": "2023-04-08T08:19:43.453Z"
   },
   {
    "duration": 740,
    "start_time": "2023-04-08T08:19:43.480Z"
   },
   {
    "duration": 48,
    "start_time": "2023-04-08T08:19:44.222Z"
   },
   {
    "duration": 6,
    "start_time": "2023-04-08T08:19:44.272Z"
   },
   {
    "duration": 6,
    "start_time": "2023-04-08T08:19:44.280Z"
   },
   {
    "duration": 27,
    "start_time": "2023-04-08T08:19:44.288Z"
   },
   {
    "duration": 7,
    "start_time": "2023-04-08T08:19:44.316Z"
   },
   {
    "duration": 36,
    "start_time": "2023-04-08T08:19:44.324Z"
   },
   {
    "duration": 4,
    "start_time": "2023-04-08T08:19:59.289Z"
   },
   {
    "duration": 770,
    "start_time": "2023-04-08T08:20:04.248Z"
   },
   {
    "duration": 96,
    "start_time": "2023-04-08T08:20:05.021Z"
   },
   {
    "duration": 25,
    "start_time": "2023-04-08T08:20:05.120Z"
   },
   {
    "duration": 41,
    "start_time": "2023-04-08T08:20:05.148Z"
   },
   {
    "duration": 716,
    "start_time": "2023-04-08T08:20:05.191Z"
   },
   {
    "duration": 52,
    "start_time": "2023-04-08T08:20:05.909Z"
   },
   {
    "duration": 9,
    "start_time": "2023-04-08T08:20:05.963Z"
   },
   {
    "duration": 42,
    "start_time": "2023-04-08T08:20:05.973Z"
   },
   {
    "duration": 46,
    "start_time": "2023-04-08T08:20:06.016Z"
   },
   {
    "duration": 27,
    "start_time": "2023-04-08T08:20:06.064Z"
   },
   {
    "duration": 25,
    "start_time": "2023-04-08T08:20:06.092Z"
   },
   {
    "duration": 10,
    "start_time": "2023-04-08T08:26:53.315Z"
   },
   {
    "duration": 13,
    "start_time": "2023-04-08T08:28:17.438Z"
   },
   {
    "duration": 95,
    "start_time": "2023-04-08T08:29:38.603Z"
   },
   {
    "duration": 679,
    "start_time": "2023-04-08T08:30:12.906Z"
   },
   {
    "duration": 60,
    "start_time": "2023-04-08T08:30:13.587Z"
   },
   {
    "duration": 24,
    "start_time": "2023-04-08T08:30:13.649Z"
   },
   {
    "duration": 16,
    "start_time": "2023-04-08T08:30:13.675Z"
   },
   {
    "duration": 644,
    "start_time": "2023-04-08T08:30:13.693Z"
   },
   {
    "duration": 30,
    "start_time": "2023-04-08T08:30:14.338Z"
   },
   {
    "duration": 4,
    "start_time": "2023-04-08T08:30:14.369Z"
   },
   {
    "duration": 7,
    "start_time": "2023-04-08T08:30:14.374Z"
   },
   {
    "duration": 15,
    "start_time": "2023-04-08T08:30:14.382Z"
   },
   {
    "duration": 11,
    "start_time": "2023-04-08T08:30:14.400Z"
   },
   {
    "duration": 18,
    "start_time": "2023-04-08T08:30:14.435Z"
   },
   {
    "duration": 12,
    "start_time": "2023-04-08T08:30:14.455Z"
   },
   {
    "duration": 134,
    "start_time": "2023-04-08T08:30:14.469Z"
   },
   {
    "duration": 167,
    "start_time": "2023-04-08T08:30:31.044Z"
   },
   {
    "duration": 30,
    "start_time": "2023-04-08T08:32:24.300Z"
   },
   {
    "duration": 10,
    "start_time": "2023-04-08T08:32:35.003Z"
   },
   {
    "duration": 262,
    "start_time": "2023-04-08T08:32:35.768Z"
   },
   {
    "duration": 74,
    "start_time": "2023-04-08T08:34:29.102Z"
   },
   {
    "duration": 172,
    "start_time": "2023-04-08T08:34:39.515Z"
   },
   {
    "duration": 21,
    "start_time": "2023-04-08T08:35:17.283Z"
   },
   {
    "duration": 11,
    "start_time": "2023-04-08T08:35:26.455Z"
   },
   {
    "duration": 21,
    "start_time": "2023-04-08T08:36:03.776Z"
   },
   {
    "duration": 14,
    "start_time": "2023-04-08T08:36:04.199Z"
   },
   {
    "duration": 10,
    "start_time": "2023-04-08T08:36:56.225Z"
   },
   {
    "duration": 14,
    "start_time": "2023-04-08T08:37:02.217Z"
   },
   {
    "duration": 8,
    "start_time": "2023-04-08T08:37:09.127Z"
   },
   {
    "duration": 10,
    "start_time": "2023-04-08T08:37:10.140Z"
   },
   {
    "duration": 10,
    "start_time": "2023-04-08T08:37:20.525Z"
   },
   {
    "duration": 3,
    "start_time": "2023-04-08T08:38:28.771Z"
   },
   {
    "duration": 10,
    "start_time": "2023-04-08T08:41:23.821Z"
   },
   {
    "duration": 5,
    "start_time": "2023-04-08T08:41:38.470Z"
   },
   {
    "duration": 4,
    "start_time": "2023-04-08T08:42:04.154Z"
   },
   {
    "duration": 5,
    "start_time": "2023-04-08T08:42:36.344Z"
   },
   {
    "duration": 23,
    "start_time": "2023-04-08T08:47:12.738Z"
   },
   {
    "duration": 12,
    "start_time": "2023-04-08T08:47:35.883Z"
   },
   {
    "duration": 149,
    "start_time": "2023-04-08T08:55:52.417Z"
   },
   {
    "duration": 69,
    "start_time": "2023-04-08T08:58:54.921Z"
   },
   {
    "duration": 7,
    "start_time": "2023-04-08T08:59:07.452Z"
   },
   {
    "duration": 14,
    "start_time": "2023-04-08T08:59:19.476Z"
   },
   {
    "duration": 5,
    "start_time": "2023-04-08T09:00:02.006Z"
   },
   {
    "duration": 8,
    "start_time": "2023-04-08T09:00:52.162Z"
   },
   {
    "duration": 5,
    "start_time": "2023-04-08T09:01:04.423Z"
   },
   {
    "duration": 616,
    "start_time": "2023-04-08T09:01:27.588Z"
   },
   {
    "duration": 54,
    "start_time": "2023-04-08T09:01:28.206Z"
   },
   {
    "duration": 18,
    "start_time": "2023-04-08T09:01:28.261Z"
   },
   {
    "duration": 15,
    "start_time": "2023-04-08T09:01:28.281Z"
   },
   {
    "duration": 668,
    "start_time": "2023-04-08T09:01:28.297Z"
   },
   {
    "duration": 31,
    "start_time": "2023-04-08T09:01:28.967Z"
   },
   {
    "duration": 5,
    "start_time": "2023-04-08T09:01:29.000Z"
   },
   {
    "duration": 8,
    "start_time": "2023-04-08T09:01:29.006Z"
   },
   {
    "duration": 14,
    "start_time": "2023-04-08T09:01:29.034Z"
   },
   {
    "duration": 8,
    "start_time": "2023-04-08T09:01:29.051Z"
   },
   {
    "duration": 16,
    "start_time": "2023-04-08T09:01:29.061Z"
   },
   {
    "duration": 9,
    "start_time": "2023-04-08T09:01:29.079Z"
   },
   {
    "duration": 9,
    "start_time": "2023-04-08T09:01:29.090Z"
   },
   {
    "duration": 35,
    "start_time": "2023-04-08T09:01:29.101Z"
   },
   {
    "duration": 5,
    "start_time": "2023-04-08T09:01:29.138Z"
   },
   {
    "duration": 6,
    "start_time": "2023-04-08T09:01:29.145Z"
   },
   {
    "duration": 5,
    "start_time": "2023-04-08T09:01:29.153Z"
   },
   {
    "duration": 10,
    "start_time": "2023-04-08T09:01:29.160Z"
   },
   {
    "duration": 16,
    "start_time": "2023-04-08T09:01:29.171Z"
   },
   {
    "duration": 5,
    "start_time": "2023-04-08T09:02:20.251Z"
   },
   {
    "duration": 3,
    "start_time": "2023-04-08T09:02:28.573Z"
   },
   {
    "duration": 653,
    "start_time": "2023-04-08T09:02:33.313Z"
   },
   {
    "duration": 51,
    "start_time": "2023-04-08T09:02:33.968Z"
   },
   {
    "duration": 15,
    "start_time": "2023-04-08T09:02:34.020Z"
   },
   {
    "duration": 19,
    "start_time": "2023-04-08T09:02:34.037Z"
   },
   {
    "duration": 601,
    "start_time": "2023-04-08T09:02:34.057Z"
   },
   {
    "duration": 37,
    "start_time": "2023-04-08T09:02:34.660Z"
   },
   {
    "duration": 5,
    "start_time": "2023-04-08T09:02:34.699Z"
   },
   {
    "duration": 29,
    "start_time": "2023-04-08T09:02:34.706Z"
   },
   {
    "duration": 43,
    "start_time": "2023-04-08T09:02:34.738Z"
   },
   {
    "duration": 6,
    "start_time": "2023-04-08T09:02:34.783Z"
   },
   {
    "duration": 28,
    "start_time": "2023-04-08T09:02:34.790Z"
   },
   {
    "duration": 19,
    "start_time": "2023-04-08T09:02:34.820Z"
   },
   {
    "duration": 13,
    "start_time": "2023-04-08T09:02:34.841Z"
   },
   {
    "duration": 12,
    "start_time": "2023-04-08T09:02:34.856Z"
   },
   {
    "duration": 5,
    "start_time": "2023-04-08T09:02:34.870Z"
   },
   {
    "duration": 12,
    "start_time": "2023-04-08T09:02:34.877Z"
   },
   {
    "duration": 8,
    "start_time": "2023-04-08T09:02:34.890Z"
   },
   {
    "duration": 13,
    "start_time": "2023-04-08T09:02:34.899Z"
   },
   {
    "duration": 30,
    "start_time": "2023-04-08T09:02:34.914Z"
   },
   {
    "duration": 7,
    "start_time": "2023-04-08T09:08:16.142Z"
   },
   {
    "duration": 7,
    "start_time": "2023-04-08T09:10:34.524Z"
   },
   {
    "duration": 13,
    "start_time": "2023-04-08T09:10:34.984Z"
   },
   {
    "duration": 653,
    "start_time": "2023-04-08T09:10:53.434Z"
   },
   {
    "duration": 50,
    "start_time": "2023-04-08T09:10:54.089Z"
   },
   {
    "duration": 17,
    "start_time": "2023-04-08T09:10:54.141Z"
   },
   {
    "duration": 19,
    "start_time": "2023-04-08T09:10:54.160Z"
   },
   {
    "duration": 671,
    "start_time": "2023-04-08T09:10:54.180Z"
   },
   {
    "duration": 35,
    "start_time": "2023-04-08T09:10:54.853Z"
   },
   {
    "duration": 6,
    "start_time": "2023-04-08T09:10:54.890Z"
   },
   {
    "duration": 13,
    "start_time": "2023-04-08T09:10:54.898Z"
   },
   {
    "duration": 39,
    "start_time": "2023-04-08T09:10:54.912Z"
   },
   {
    "duration": 13,
    "start_time": "2023-04-08T09:10:54.955Z"
   },
   {
    "duration": 24,
    "start_time": "2023-04-08T09:10:54.970Z"
   },
   {
    "duration": 20,
    "start_time": "2023-04-08T09:10:54.997Z"
   },
   {
    "duration": 26,
    "start_time": "2023-04-08T09:10:55.019Z"
   },
   {
    "duration": 38,
    "start_time": "2023-04-08T09:10:55.047Z"
   },
   {
    "duration": 23,
    "start_time": "2023-04-08T09:10:55.087Z"
   },
   {
    "duration": 15,
    "start_time": "2023-04-08T09:10:55.112Z"
   },
   {
    "duration": 12,
    "start_time": "2023-04-08T09:10:55.129Z"
   },
   {
    "duration": 23,
    "start_time": "2023-04-08T09:10:55.143Z"
   },
   {
    "duration": 17,
    "start_time": "2023-04-08T09:10:55.168Z"
   },
   {
    "duration": 19,
    "start_time": "2023-04-08T09:11:04.072Z"
   },
   {
    "duration": 2,
    "start_time": "2023-04-08T09:11:46.765Z"
   },
   {
    "duration": 158,
    "start_time": "2023-04-08T09:12:40.331Z"
   },
   {
    "duration": 165,
    "start_time": "2023-04-08T09:12:46.571Z"
   },
   {
    "duration": 170,
    "start_time": "2023-04-08T09:12:53.955Z"
   },
   {
    "duration": 1268,
    "start_time": "2023-04-08T09:12:59.185Z"
   },
   {
    "duration": 204,
    "start_time": "2023-04-08T09:13:02.766Z"
   },
   {
    "duration": 141,
    "start_time": "2023-04-08T09:13:07.662Z"
   },
   {
    "duration": 139,
    "start_time": "2023-04-08T09:13:57.686Z"
   },
   {
    "duration": 129,
    "start_time": "2023-04-08T09:15:26.352Z"
   },
   {
    "duration": 120,
    "start_time": "2023-04-08T09:15:34.752Z"
   },
   {
    "duration": 112,
    "start_time": "2023-04-08T09:16:14.661Z"
   },
   {
    "duration": 237,
    "start_time": "2023-04-08T09:16:22.482Z"
   },
   {
    "duration": 138,
    "start_time": "2023-04-08T09:16:27.580Z"
   },
   {
    "duration": 6,
    "start_time": "2023-04-08T09:26:28.350Z"
   },
   {
    "duration": 149,
    "start_time": "2023-04-08T09:27:18.971Z"
   },
   {
    "duration": 94,
    "start_time": "2023-04-08T09:27:33.415Z"
   },
   {
    "duration": 87,
    "start_time": "2023-04-08T09:27:37.163Z"
   },
   {
    "duration": 107,
    "start_time": "2023-04-08T09:27:44.418Z"
   },
   {
    "duration": 578,
    "start_time": "2023-04-08T09:28:09.689Z"
   },
   {
    "duration": 55,
    "start_time": "2023-04-08T09:28:10.269Z"
   },
   {
    "duration": 18,
    "start_time": "2023-04-08T09:28:10.325Z"
   },
   {
    "duration": 14,
    "start_time": "2023-04-08T09:28:10.345Z"
   },
   {
    "duration": 634,
    "start_time": "2023-04-08T09:28:10.361Z"
   },
   {
    "duration": 47,
    "start_time": "2023-04-08T09:28:10.996Z"
   },
   {
    "duration": 5,
    "start_time": "2023-04-08T09:28:11.045Z"
   },
   {
    "duration": 25,
    "start_time": "2023-04-08T09:28:11.053Z"
   },
   {
    "duration": 29,
    "start_time": "2023-04-08T09:28:11.080Z"
   },
   {
    "duration": 16,
    "start_time": "2023-04-08T09:28:11.112Z"
   },
   {
    "duration": 28,
    "start_time": "2023-04-08T09:28:11.131Z"
   },
   {
    "duration": 13,
    "start_time": "2023-04-08T09:28:11.162Z"
   },
   {
    "duration": 12,
    "start_time": "2023-04-08T09:28:11.176Z"
   },
   {
    "duration": 15,
    "start_time": "2023-04-08T09:28:11.190Z"
   },
   {
    "duration": 6,
    "start_time": "2023-04-08T09:28:11.207Z"
   },
   {
    "duration": 20,
    "start_time": "2023-04-08T09:28:11.215Z"
   },
   {
    "duration": 7,
    "start_time": "2023-04-08T09:28:11.237Z"
   },
   {
    "duration": 16,
    "start_time": "2023-04-08T09:28:11.246Z"
   },
   {
    "duration": 17,
    "start_time": "2023-04-08T09:28:11.264Z"
   },
   {
    "duration": 166,
    "start_time": "2023-04-08T09:28:11.282Z"
   },
   {
    "duration": 169,
    "start_time": "2023-04-08T09:28:11.450Z"
   },
   {
    "duration": 14,
    "start_time": "2023-04-08T09:28:11.620Z"
   },
   {
    "duration": 162,
    "start_time": "2023-04-08T09:28:11.636Z"
   },
   {
    "duration": 166,
    "start_time": "2023-04-08T09:28:11.800Z"
   },
   {
    "duration": 7,
    "start_time": "2023-04-08T09:34:04.243Z"
   },
   {
    "duration": 6,
    "start_time": "2023-04-08T09:35:00.003Z"
   },
   {
    "duration": 6,
    "start_time": "2023-04-08T09:35:17.313Z"
   },
   {
    "duration": 8,
    "start_time": "2023-04-08T09:36:11.315Z"
   },
   {
    "duration": 3,
    "start_time": "2023-04-08T09:37:31.017Z"
   },
   {
    "duration": 9,
    "start_time": "2023-04-08T09:37:31.912Z"
   },
   {
    "duration": 9,
    "start_time": "2023-04-08T09:37:46.120Z"
   },
   {
    "duration": 5,
    "start_time": "2023-04-08T09:40:34.045Z"
   },
   {
    "duration": 5,
    "start_time": "2023-04-08T09:40:40.782Z"
   },
   {
    "duration": 2405,
    "start_time": "2023-04-08T09:40:47.999Z"
   },
   {
    "duration": 0,
    "start_time": "2023-04-08T09:40:50.405Z"
   },
   {
    "duration": 591,
    "start_time": "2023-04-08T09:40:53.866Z"
   },
   {
    "duration": 52,
    "start_time": "2023-04-08T09:40:54.459Z"
   },
   {
    "duration": 15,
    "start_time": "2023-04-08T09:40:54.512Z"
   },
   {
    "duration": 12,
    "start_time": "2023-04-08T09:40:54.529Z"
   },
   {
    "duration": 636,
    "start_time": "2023-04-08T09:40:54.542Z"
   },
   {
    "duration": 29,
    "start_time": "2023-04-08T09:40:55.179Z"
   },
   {
    "duration": 4,
    "start_time": "2023-04-08T09:40:55.209Z"
   },
   {
    "duration": 22,
    "start_time": "2023-04-08T09:40:55.214Z"
   },
   {
    "duration": 20,
    "start_time": "2023-04-08T09:40:55.238Z"
   },
   {
    "duration": 10,
    "start_time": "2023-04-08T09:40:55.262Z"
   },
   {
    "duration": 15,
    "start_time": "2023-04-08T09:40:55.273Z"
   },
   {
    "duration": 11,
    "start_time": "2023-04-08T09:40:55.290Z"
   },
   {
    "duration": 12,
    "start_time": "2023-04-08T09:40:55.302Z"
   },
   {
    "duration": 26,
    "start_time": "2023-04-08T09:40:55.315Z"
   },
   {
    "duration": 14,
    "start_time": "2023-04-08T09:40:55.342Z"
   },
   {
    "duration": 11,
    "start_time": "2023-04-08T09:40:55.357Z"
   },
   {
    "duration": 6,
    "start_time": "2023-04-08T09:40:55.370Z"
   },
   {
    "duration": 23,
    "start_time": "2023-04-08T09:40:55.378Z"
   },
   {
    "duration": 24,
    "start_time": "2023-04-08T09:40:55.402Z"
   },
   {
    "duration": 134,
    "start_time": "2023-04-08T09:40:55.428Z"
   },
   {
    "duration": 156,
    "start_time": "2023-04-08T09:40:55.563Z"
   },
   {
    "duration": 14,
    "start_time": "2023-04-08T09:40:55.721Z"
   },
   {
    "duration": 142,
    "start_time": "2023-04-08T09:40:55.737Z"
   },
   {
    "duration": 110,
    "start_time": "2023-04-08T09:40:55.881Z"
   },
   {
    "duration": 2,
    "start_time": "2023-04-08T09:40:55.993Z"
   },
   {
    "duration": 34,
    "start_time": "2023-04-08T09:40:55.997Z"
   },
   {
    "duration": 22,
    "start_time": "2023-04-08T09:40:56.033Z"
   },
   {
    "duration": 30,
    "start_time": "2023-04-08T09:40:56.057Z"
   },
   {
    "duration": 22,
    "start_time": "2023-04-08T09:40:56.089Z"
   },
   {
    "duration": 9,
    "start_time": "2023-04-08T09:40:56.113Z"
   },
   {
    "duration": 74,
    "start_time": "2023-04-08T09:41:36.121Z"
   },
   {
    "duration": 5,
    "start_time": "2023-04-08T09:41:36.357Z"
   },
   {
    "duration": 7,
    "start_time": "2023-04-08T09:44:26.358Z"
   },
   {
    "duration": 598,
    "start_time": "2023-04-08T09:44:45.999Z"
   },
   {
    "duration": 52,
    "start_time": "2023-04-08T09:44:46.598Z"
   },
   {
    "duration": 16,
    "start_time": "2023-04-08T09:44:46.652Z"
   },
   {
    "duration": 15,
    "start_time": "2023-04-08T09:44:46.669Z"
   },
   {
    "duration": 618,
    "start_time": "2023-04-08T09:44:46.686Z"
   },
   {
    "duration": 38,
    "start_time": "2023-04-08T09:44:47.305Z"
   },
   {
    "duration": 5,
    "start_time": "2023-04-08T09:44:47.345Z"
   },
   {
    "duration": 14,
    "start_time": "2023-04-08T09:44:47.351Z"
   },
   {
    "duration": 18,
    "start_time": "2023-04-08T09:44:47.367Z"
   },
   {
    "duration": 9,
    "start_time": "2023-04-08T09:44:47.387Z"
   },
   {
    "duration": 14,
    "start_time": "2023-04-08T09:44:47.397Z"
   },
   {
    "duration": 8,
    "start_time": "2023-04-08T09:44:47.412Z"
   },
   {
    "duration": 15,
    "start_time": "2023-04-08T09:44:47.422Z"
   },
   {
    "duration": 11,
    "start_time": "2023-04-08T09:44:47.439Z"
   },
   {
    "duration": 6,
    "start_time": "2023-04-08T09:44:47.451Z"
   },
   {
    "duration": 7,
    "start_time": "2023-04-08T09:44:47.458Z"
   },
   {
    "duration": 16,
    "start_time": "2023-04-08T09:44:47.466Z"
   },
   {
    "duration": 9,
    "start_time": "2023-04-08T09:44:47.484Z"
   },
   {
    "duration": 16,
    "start_time": "2023-04-08T09:44:47.494Z"
   },
   {
    "duration": 144,
    "start_time": "2023-04-08T09:44:47.512Z"
   },
   {
    "duration": 158,
    "start_time": "2023-04-08T09:44:47.657Z"
   },
   {
    "duration": 7,
    "start_time": "2023-04-08T09:44:47.816Z"
   },
   {
    "duration": 143,
    "start_time": "2023-04-08T09:44:47.834Z"
   },
   {
    "duration": 105,
    "start_time": "2023-04-08T09:44:47.979Z"
   },
   {
    "duration": 2,
    "start_time": "2023-04-08T09:44:48.086Z"
   },
   {
    "duration": 15,
    "start_time": "2023-04-08T09:44:48.089Z"
   },
   {
    "duration": 5,
    "start_time": "2023-04-08T09:44:48.105Z"
   },
   {
    "duration": 22,
    "start_time": "2023-04-08T09:44:48.113Z"
   },
   {
    "duration": 10,
    "start_time": "2023-04-08T09:44:48.137Z"
   },
   {
    "duration": 10,
    "start_time": "2023-04-08T09:44:48.148Z"
   },
   {
    "duration": 8,
    "start_time": "2023-04-08T09:44:57.093Z"
   },
   {
    "duration": 8,
    "start_time": "2023-04-08T09:44:57.471Z"
   },
   {
    "duration": 11,
    "start_time": "2023-04-08T09:45:37.260Z"
   },
   {
    "duration": 2,
    "start_time": "2023-04-08T09:46:07.995Z"
   },
   {
    "duration": 7,
    "start_time": "2023-04-08T09:47:41.921Z"
   },
   {
    "duration": 4,
    "start_time": "2023-04-08T09:47:50.158Z"
   },
   {
    "duration": 69,
    "start_time": "2023-04-08T09:48:03.965Z"
   },
   {
    "duration": 7,
    "start_time": "2023-04-08T09:48:07.494Z"
   },
   {
    "duration": 4,
    "start_time": "2023-04-08T09:48:12.799Z"
   },
   {
    "duration": 9,
    "start_time": "2023-04-08T09:48:32.101Z"
   },
   {
    "duration": 9,
    "start_time": "2023-04-08T09:48:47.327Z"
   },
   {
    "duration": 7,
    "start_time": "2023-04-08T09:49:06.824Z"
   },
   {
    "duration": 7,
    "start_time": "2023-04-08T09:49:17.779Z"
   },
   {
    "duration": 8,
    "start_time": "2023-04-08T09:49:47.672Z"
   },
   {
    "duration": 10,
    "start_time": "2023-04-08T09:50:13.780Z"
   },
   {
    "duration": 8,
    "start_time": "2023-04-08T09:50:22.983Z"
   },
   {
    "duration": 7,
    "start_time": "2023-04-08T09:50:28.563Z"
   },
   {
    "duration": 6,
    "start_time": "2023-04-08T09:50:38.944Z"
   },
   {
    "duration": 6,
    "start_time": "2023-04-08T09:51:29.240Z"
   },
   {
    "duration": 4,
    "start_time": "2023-04-08T09:51:33.643Z"
   },
   {
    "duration": 4,
    "start_time": "2023-04-08T09:51:42.862Z"
   },
   {
    "duration": 4,
    "start_time": "2023-04-08T09:51:44.977Z"
   },
   {
    "duration": 7,
    "start_time": "2023-04-08T09:55:14.535Z"
   },
   {
    "duration": 5,
    "start_time": "2023-04-08T09:55:16.300Z"
   },
   {
    "duration": 4,
    "start_time": "2023-04-08T09:55:17.389Z"
   },
   {
    "duration": 2,
    "start_time": "2023-04-08T09:57:01.480Z"
   },
   {
    "duration": 5,
    "start_time": "2023-04-08T09:57:59.113Z"
   },
   {
    "duration": 5,
    "start_time": "2023-04-08T09:58:09.200Z"
   },
   {
    "duration": 6,
    "start_time": "2023-04-08T09:58:24.854Z"
   },
   {
    "duration": 3,
    "start_time": "2023-04-08T09:58:31.506Z"
   },
   {
    "duration": 6,
    "start_time": "2023-04-08T10:00:51.736Z"
   },
   {
    "duration": 13,
    "start_time": "2023-04-08T10:01:00.060Z"
   },
   {
    "duration": 8,
    "start_time": "2023-04-08T10:01:10.427Z"
   },
   {
    "duration": 9,
    "start_time": "2023-04-08T10:01:23.550Z"
   },
   {
    "duration": 7,
    "start_time": "2023-04-08T10:03:08.167Z"
   },
   {
    "duration": 5,
    "start_time": "2023-04-08T10:03:18.043Z"
   },
   {
    "duration": 5,
    "start_time": "2023-04-08T10:16:09.132Z"
   },
   {
    "duration": 4,
    "start_time": "2023-04-08T10:16:12.074Z"
   },
   {
    "duration": 5,
    "start_time": "2023-04-08T10:16:17.943Z"
   },
   {
    "duration": 5,
    "start_time": "2023-04-08T10:17:01.888Z"
   },
   {
    "duration": 145,
    "start_time": "2023-04-08T10:17:28.355Z"
   },
   {
    "duration": 12,
    "start_time": "2023-04-08T10:18:17.571Z"
   },
   {
    "duration": 12,
    "start_time": "2023-04-08T10:18:24.592Z"
   },
   {
    "duration": 5,
    "start_time": "2023-04-08T10:19:27.334Z"
   },
   {
    "duration": 13,
    "start_time": "2023-04-08T10:20:48.289Z"
   },
   {
    "duration": 11,
    "start_time": "2023-04-08T10:21:04.214Z"
   },
   {
    "duration": 11,
    "start_time": "2023-04-08T10:21:13.125Z"
   },
   {
    "duration": 125,
    "start_time": "2023-04-08T10:21:24.975Z"
   },
   {
    "duration": 307,
    "start_time": "2023-04-08T10:22:26.181Z"
   },
   {
    "duration": 122,
    "start_time": "2023-04-08T10:22:40.685Z"
   },
   {
    "duration": 118,
    "start_time": "2023-04-08T10:23:00.660Z"
   },
   {
    "duration": 119,
    "start_time": "2023-04-08T10:23:05.640Z"
   },
   {
    "duration": 141,
    "start_time": "2023-04-08T10:23:26.007Z"
   },
   {
    "duration": 131,
    "start_time": "2023-04-08T10:23:52.575Z"
   },
   {
    "duration": 59,
    "start_time": "2023-04-08T10:24:26.721Z"
   },
   {
    "duration": 171,
    "start_time": "2023-04-08T10:24:36.078Z"
   },
   {
    "duration": 473,
    "start_time": "2023-04-08T10:37:20.737Z"
   },
   {
    "duration": 24970,
    "start_time": "2023-04-08T10:41:46.098Z"
   },
   {
    "duration": 15,
    "start_time": "2023-04-08T10:42:11.077Z"
   },
   {
    "duration": 606,
    "start_time": "2023-04-08T10:42:15.346Z"
   },
   {
    "duration": 51,
    "start_time": "2023-04-08T10:42:15.954Z"
   },
   {
    "duration": 16,
    "start_time": "2023-04-08T10:42:16.006Z"
   },
   {
    "duration": 23,
    "start_time": "2023-04-08T10:42:16.023Z"
   },
   {
    "duration": 589,
    "start_time": "2023-04-08T10:42:16.047Z"
   },
   {
    "duration": 31,
    "start_time": "2023-04-08T10:42:16.638Z"
   },
   {
    "duration": 8,
    "start_time": "2023-04-08T10:42:16.671Z"
   },
   {
    "duration": 14,
    "start_time": "2023-04-08T10:42:16.681Z"
   },
   {
    "duration": 35,
    "start_time": "2023-04-08T10:42:16.696Z"
   },
   {
    "duration": 13,
    "start_time": "2023-04-08T10:42:16.734Z"
   },
   {
    "duration": 18,
    "start_time": "2023-04-08T10:42:16.748Z"
   },
   {
    "duration": 17,
    "start_time": "2023-04-08T10:42:16.767Z"
   },
   {
    "duration": 12,
    "start_time": "2023-04-08T10:42:16.785Z"
   },
   {
    "duration": 29,
    "start_time": "2023-04-08T10:42:16.800Z"
   },
   {
    "duration": 31,
    "start_time": "2023-04-08T10:42:16.830Z"
   },
   {
    "duration": 11,
    "start_time": "2023-04-08T10:42:16.863Z"
   },
   {
    "duration": 22,
    "start_time": "2023-04-08T10:42:16.875Z"
   },
   {
    "duration": 21,
    "start_time": "2023-04-08T10:42:16.898Z"
   },
   {
    "duration": 25,
    "start_time": "2023-04-08T10:42:16.920Z"
   },
   {
    "duration": 143,
    "start_time": "2023-04-08T10:42:16.947Z"
   },
   {
    "duration": 155,
    "start_time": "2023-04-08T10:42:17.092Z"
   },
   {
    "duration": 5,
    "start_time": "2023-04-08T10:42:17.248Z"
   },
   {
    "duration": 155,
    "start_time": "2023-04-08T10:42:17.254Z"
   },
   {
    "duration": 110,
    "start_time": "2023-04-08T10:42:17.410Z"
   },
   {
    "duration": 18,
    "start_time": "2023-04-08T10:42:17.522Z"
   },
   {
    "duration": 5,
    "start_time": "2023-04-08T10:42:17.542Z"
   },
   {
    "duration": 7,
    "start_time": "2023-04-08T10:42:17.549Z"
   },
   {
    "duration": 10,
    "start_time": "2023-04-08T10:42:17.559Z"
   },
   {
    "duration": 11,
    "start_time": "2023-04-08T10:42:17.571Z"
   },
   {
    "duration": 6,
    "start_time": "2023-04-08T10:42:17.584Z"
   },
   {
    "duration": 6,
    "start_time": "2023-04-08T10:42:17.591Z"
   },
   {
    "duration": 36,
    "start_time": "2023-04-08T10:42:17.598Z"
   },
   {
    "duration": 4,
    "start_time": "2023-04-08T10:42:17.636Z"
   },
   {
    "duration": 10,
    "start_time": "2023-04-08T10:42:17.641Z"
   },
   {
    "duration": 13,
    "start_time": "2023-04-08T10:42:17.652Z"
   },
   {
    "duration": 5,
    "start_time": "2023-04-08T10:42:17.666Z"
   },
   {
    "duration": 7,
    "start_time": "2023-04-08T10:42:17.672Z"
   },
   {
    "duration": 6,
    "start_time": "2023-04-08T10:42:17.680Z"
   },
   {
    "duration": 132,
    "start_time": "2023-04-08T10:42:17.688Z"
   },
   {
    "duration": 25178,
    "start_time": "2023-04-08T10:42:17.822Z"
   },
   {
    "duration": 14,
    "start_time": "2023-04-08T10:42:43.007Z"
   },
   {
    "duration": 557,
    "start_time": "2023-04-08T10:43:09.491Z"
   },
   {
    "duration": 51,
    "start_time": "2023-04-08T10:43:10.050Z"
   },
   {
    "duration": 16,
    "start_time": "2023-04-08T10:43:10.103Z"
   },
   {
    "duration": 14,
    "start_time": "2023-04-08T10:43:10.121Z"
   },
   {
    "duration": 588,
    "start_time": "2023-04-08T10:43:10.136Z"
   },
   {
    "duration": 33,
    "start_time": "2023-04-08T10:43:10.726Z"
   },
   {
    "duration": 4,
    "start_time": "2023-04-08T10:43:10.761Z"
   },
   {
    "duration": 15,
    "start_time": "2023-04-08T10:43:10.766Z"
   },
   {
    "duration": 32,
    "start_time": "2023-04-08T10:43:10.782Z"
   },
   {
    "duration": 13,
    "start_time": "2023-04-08T10:43:10.816Z"
   },
   {
    "duration": 23,
    "start_time": "2023-04-08T10:43:10.831Z"
   },
   {
    "duration": 16,
    "start_time": "2023-04-08T10:43:10.855Z"
   },
   {
    "duration": 16,
    "start_time": "2023-04-08T10:43:10.872Z"
   },
   {
    "duration": 12,
    "start_time": "2023-04-08T10:43:10.889Z"
   },
   {
    "duration": 8,
    "start_time": "2023-04-08T10:43:10.903Z"
   },
   {
    "duration": 9,
    "start_time": "2023-04-08T10:43:10.912Z"
   },
   {
    "duration": 7,
    "start_time": "2023-04-08T10:43:10.922Z"
   },
   {
    "duration": 13,
    "start_time": "2023-04-08T10:43:10.930Z"
   },
   {
    "duration": 20,
    "start_time": "2023-04-08T10:43:10.945Z"
   },
   {
    "duration": 192,
    "start_time": "2023-04-08T10:43:10.973Z"
   },
   {
    "duration": 163,
    "start_time": "2023-04-08T10:43:11.167Z"
   },
   {
    "duration": 5,
    "start_time": "2023-04-08T10:43:11.335Z"
   },
   {
    "duration": 142,
    "start_time": "2023-04-08T10:43:11.342Z"
   },
   {
    "duration": 111,
    "start_time": "2023-04-08T10:43:11.486Z"
   },
   {
    "duration": 9,
    "start_time": "2023-04-08T10:43:11.598Z"
   },
   {
    "duration": 6,
    "start_time": "2023-04-08T10:43:11.608Z"
   },
   {
    "duration": 20,
    "start_time": "2023-04-08T10:43:11.615Z"
   },
   {
    "duration": 10,
    "start_time": "2023-04-08T10:43:11.638Z"
   },
   {
    "duration": 10,
    "start_time": "2023-04-08T10:43:11.650Z"
   },
   {
    "duration": 11,
    "start_time": "2023-04-08T10:43:11.661Z"
   },
   {
    "duration": 4,
    "start_time": "2023-04-08T10:43:11.673Z"
   },
   {
    "duration": 6,
    "start_time": "2023-04-08T10:43:11.679Z"
   },
   {
    "duration": 8,
    "start_time": "2023-04-08T10:43:11.687Z"
   },
   {
    "duration": 6,
    "start_time": "2023-04-08T10:43:11.696Z"
   },
   {
    "duration": 36,
    "start_time": "2023-04-08T10:43:11.704Z"
   },
   {
    "duration": 7,
    "start_time": "2023-04-08T10:43:11.742Z"
   },
   {
    "duration": 5,
    "start_time": "2023-04-08T10:43:11.750Z"
   },
   {
    "duration": 9,
    "start_time": "2023-04-08T10:43:11.757Z"
   },
   {
    "duration": 127,
    "start_time": "2023-04-08T10:43:11.767Z"
   },
   {
    "duration": 25520,
    "start_time": "2023-04-08T10:43:11.896Z"
   },
   {
    "duration": 4,
    "start_time": "2023-04-08T10:43:37.417Z"
   },
   {
    "duration": 10,
    "start_time": "2023-04-08T10:43:37.424Z"
   },
   {
    "duration": 51,
    "start_time": "2023-04-08T10:43:37.436Z"
   },
   {
    "duration": 12,
    "start_time": "2023-04-08T10:43:37.489Z"
   },
   {
    "duration": 15,
    "start_time": "2023-04-08T10:43:37.502Z"
   },
   {
    "duration": 560,
    "start_time": "2023-04-08T10:43:37.518Z"
   },
   {
    "duration": 28,
    "start_time": "2023-04-08T10:43:38.080Z"
   },
   {
    "duration": 4,
    "start_time": "2023-04-08T10:43:38.109Z"
   },
   {
    "duration": 21,
    "start_time": "2023-04-08T10:43:38.114Z"
   },
   {
    "duration": 14,
    "start_time": "2023-04-08T10:43:38.137Z"
   },
   {
    "duration": 5,
    "start_time": "2023-04-08T10:43:38.152Z"
   },
   {
    "duration": 18,
    "start_time": "2023-04-08T10:43:38.158Z"
   },
   {
    "duration": 10,
    "start_time": "2023-04-08T10:43:38.177Z"
   },
   {
    "duration": 10,
    "start_time": "2023-04-08T10:43:38.189Z"
   },
   {
    "duration": 11,
    "start_time": "2023-04-08T10:43:38.201Z"
   },
   {
    "duration": 10,
    "start_time": "2023-04-08T10:43:38.213Z"
   },
   {
    "duration": 4,
    "start_time": "2023-04-08T10:43:38.234Z"
   },
   {
    "duration": 10,
    "start_time": "2023-04-08T10:43:38.239Z"
   },
   {
    "duration": 9,
    "start_time": "2023-04-08T10:43:38.251Z"
   },
   {
    "duration": 13,
    "start_time": "2023-04-08T10:43:38.261Z"
   },
   {
    "duration": 143,
    "start_time": "2023-04-08T10:43:38.277Z"
   },
   {
    "duration": 100,
    "start_time": "2023-04-08T10:43:38.421Z"
   },
   {
    "duration": 5,
    "start_time": "2023-04-08T10:43:40.910Z"
   },
   {
    "duration": 136,
    "start_time": "2023-04-08T10:43:41.419Z"
   },
   {
    "duration": 160,
    "start_time": "2023-04-08T10:43:42.019Z"
   },
   {
    "duration": 9,
    "start_time": "2023-04-08T10:43:43.921Z"
   },
   {
    "duration": 6,
    "start_time": "2023-04-08T10:43:45.207Z"
   },
   {
    "duration": 6,
    "start_time": "2023-04-08T10:43:45.621Z"
   },
   {
    "duration": 7,
    "start_time": "2023-04-08T10:43:46.323Z"
   },
   {
    "duration": 9,
    "start_time": "2023-04-08T10:43:46.555Z"
   },
   {
    "duration": 8,
    "start_time": "2023-04-08T10:43:47.055Z"
   },
   {
    "duration": 5,
    "start_time": "2023-04-08T10:43:47.294Z"
   },
   {
    "duration": 5,
    "start_time": "2023-04-08T10:43:47.523Z"
   },
   {
    "duration": 5,
    "start_time": "2023-04-08T10:43:48.026Z"
   },
   {
    "duration": 6,
    "start_time": "2023-04-08T10:43:48.555Z"
   },
   {
    "duration": 8,
    "start_time": "2023-04-08T10:43:48.850Z"
   },
   {
    "duration": 5,
    "start_time": "2023-04-08T10:43:49.511Z"
   },
   {
    "duration": 5,
    "start_time": "2023-04-08T10:43:50.149Z"
   },
   {
    "duration": 5,
    "start_time": "2023-04-08T10:43:50.466Z"
   },
   {
    "duration": 130,
    "start_time": "2023-04-08T10:43:50.865Z"
   },
   {
    "duration": 25469,
    "start_time": "2023-04-08T10:43:51.406Z"
   },
   {
    "duration": 5,
    "start_time": "2023-04-08T10:44:16.876Z"
   },
   {
    "duration": 25539,
    "start_time": "2023-04-08T10:44:37.376Z"
   },
   {
    "duration": 5,
    "start_time": "2023-04-08T10:45:02.917Z"
   },
   {
    "duration": 66,
    "start_time": "2023-04-08T10:49:12.308Z"
   },
   {
    "duration": 11,
    "start_time": "2023-04-08T10:49:36.508Z"
   },
   {
    "duration": 10,
    "start_time": "2023-04-08T10:49:40.975Z"
   },
   {
    "duration": 25604,
    "start_time": "2023-04-08T10:53:20.907Z"
   },
   {
    "duration": 5,
    "start_time": "2023-04-08T10:53:46.513Z"
   },
   {
    "duration": 8,
    "start_time": "2023-04-08T11:04:48.735Z"
   },
   {
    "duration": 5,
    "start_time": "2023-04-08T11:15:09.443Z"
   },
   {
    "duration": 6,
    "start_time": "2023-04-08T11:15:39.526Z"
   },
   {
    "duration": 6,
    "start_time": "2023-04-08T11:20:29.054Z"
   },
   {
    "duration": 6,
    "start_time": "2023-04-08T11:20:34.158Z"
   },
   {
    "duration": 5,
    "start_time": "2023-04-08T11:25:43.676Z"
   },
   {
    "duration": 15,
    "start_time": "2023-04-08T11:25:57.290Z"
   },
   {
    "duration": 4,
    "start_time": "2023-04-08T11:26:33.863Z"
   },
   {
    "duration": 13,
    "start_time": "2023-04-08T11:26:34.296Z"
   },
   {
    "duration": 100,
    "start_time": "2023-04-08T11:28:25.166Z"
   },
   {
    "duration": 2,
    "start_time": "2023-04-08T11:29:38.289Z"
   },
   {
    "duration": 538,
    "start_time": "2023-04-08T11:31:21.792Z"
   },
   {
    "duration": 55,
    "start_time": "2023-04-08T11:31:22.332Z"
   },
   {
    "duration": 17,
    "start_time": "2023-04-08T11:31:22.389Z"
   },
   {
    "duration": 35,
    "start_time": "2023-04-08T11:31:22.408Z"
   },
   {
    "duration": 657,
    "start_time": "2023-04-08T11:31:22.445Z"
   },
   {
    "duration": 38,
    "start_time": "2023-04-08T11:31:23.104Z"
   },
   {
    "duration": 3,
    "start_time": "2023-04-08T11:31:23.144Z"
   },
   {
    "duration": 5,
    "start_time": "2023-04-08T11:31:23.149Z"
   },
   {
    "duration": 16,
    "start_time": "2023-04-08T11:31:23.156Z"
   },
   {
    "duration": 15,
    "start_time": "2023-04-08T11:31:23.175Z"
   },
   {
    "duration": 13,
    "start_time": "2023-04-08T11:31:23.192Z"
   },
   {
    "duration": 10,
    "start_time": "2023-04-08T11:31:23.207Z"
   },
   {
    "duration": 9,
    "start_time": "2023-04-08T11:31:23.234Z"
   },
   {
    "duration": 9,
    "start_time": "2023-04-08T11:31:23.244Z"
   },
   {
    "duration": 9,
    "start_time": "2023-04-08T11:31:23.254Z"
   },
   {
    "duration": 5,
    "start_time": "2023-04-08T11:31:23.265Z"
   },
   {
    "duration": 6,
    "start_time": "2023-04-08T11:31:23.272Z"
   },
   {
    "duration": 13,
    "start_time": "2023-04-08T11:31:23.280Z"
   },
   {
    "duration": 43,
    "start_time": "2023-04-08T11:31:23.294Z"
   },
   {
    "duration": 155,
    "start_time": "2023-04-08T11:31:23.339Z"
   },
   {
    "duration": 175,
    "start_time": "2023-04-08T11:31:23.496Z"
   },
   {
    "duration": 6,
    "start_time": "2023-04-08T11:31:23.673Z"
   },
   {
    "duration": 168,
    "start_time": "2023-04-08T11:31:23.680Z"
   },
   {
    "duration": 123,
    "start_time": "2023-04-08T11:31:23.849Z"
   },
   {
    "duration": 8,
    "start_time": "2023-04-08T11:31:23.974Z"
   },
   {
    "duration": 8,
    "start_time": "2023-04-08T11:31:23.984Z"
   },
   {
    "duration": 8,
    "start_time": "2023-04-08T11:31:23.993Z"
   },
   {
    "duration": 32,
    "start_time": "2023-04-08T11:31:24.005Z"
   },
   {
    "duration": 8,
    "start_time": "2023-04-08T11:31:24.039Z"
   },
   {
    "duration": 7,
    "start_time": "2023-04-08T11:31:24.048Z"
   },
   {
    "duration": 21,
    "start_time": "2023-04-08T11:31:24.056Z"
   },
   {
    "duration": 16,
    "start_time": "2023-04-08T11:31:24.079Z"
   },
   {
    "duration": 14,
    "start_time": "2023-04-08T11:31:24.097Z"
   },
   {
    "duration": 11,
    "start_time": "2023-04-08T11:31:24.113Z"
   },
   {
    "duration": 10,
    "start_time": "2023-04-08T11:31:24.125Z"
   },
   {
    "duration": 6,
    "start_time": "2023-04-08T11:31:24.137Z"
   },
   {
    "duration": 6,
    "start_time": "2023-04-08T11:31:24.144Z"
   },
   {
    "duration": 6,
    "start_time": "2023-04-08T11:31:24.152Z"
   },
   {
    "duration": 156,
    "start_time": "2023-04-08T11:31:24.160Z"
   },
   {
    "duration": 4,
    "start_time": "2023-04-08T11:31:24.318Z"
   },
   {
    "duration": 7,
    "start_time": "2023-04-08T11:31:24.335Z"
   },
   {
    "duration": 9,
    "start_time": "2023-04-08T11:31:24.343Z"
   },
   {
    "duration": 9,
    "start_time": "2023-04-08T11:31:24.353Z"
   },
   {
    "duration": 7,
    "start_time": "2023-04-08T11:31:24.363Z"
   },
   {
    "duration": 20,
    "start_time": "2023-04-08T11:31:24.371Z"
   },
   {
    "duration": 22,
    "start_time": "2023-04-08T11:34:52.261Z"
   },
   {
    "duration": 332,
    "start_time": "2023-04-08T11:37:35.933Z"
   },
   {
    "duration": 389,
    "start_time": "2023-04-08T11:37:49.409Z"
   },
   {
    "duration": 349,
    "start_time": "2023-04-08T11:39:31.557Z"
   },
   {
    "duration": 429,
    "start_time": "2023-04-08T11:39:40.801Z"
   },
   {
    "duration": 381,
    "start_time": "2023-04-08T11:40:05.262Z"
   },
   {
    "duration": 356,
    "start_time": "2023-04-08T11:40:13.516Z"
   },
   {
    "duration": 496,
    "start_time": "2023-04-08T11:40:23.510Z"
   },
   {
    "duration": 343,
    "start_time": "2023-04-08T11:40:31.777Z"
   },
   {
    "duration": 333,
    "start_time": "2023-04-08T11:40:38.789Z"
   },
   {
    "duration": 425,
    "start_time": "2023-04-08T11:40:54.730Z"
   },
   {
    "duration": 358,
    "start_time": "2023-04-08T11:41:02.117Z"
   },
   {
    "duration": 340,
    "start_time": "2023-04-08T11:41:56.063Z"
   },
   {
    "duration": 92,
    "start_time": "2023-04-08T11:42:45.866Z"
   },
   {
    "duration": 77,
    "start_time": "2023-04-08T11:42:51.957Z"
   },
   {
    "duration": 72,
    "start_time": "2023-04-08T11:42:59.149Z"
   },
   {
    "duration": 210,
    "start_time": "2023-04-08T11:43:04.160Z"
   },
   {
    "duration": 134,
    "start_time": "2023-04-08T11:43:53.915Z"
   },
   {
    "duration": 366,
    "start_time": "2023-04-08T11:43:59.353Z"
   },
   {
    "duration": 421,
    "start_time": "2023-04-08T11:44:26.923Z"
   },
   {
    "duration": 343,
    "start_time": "2023-04-08T11:44:49.673Z"
   },
   {
    "duration": 362,
    "start_time": "2023-04-08T11:45:31.087Z"
   },
   {
    "duration": 338,
    "start_time": "2023-04-08T11:47:10.587Z"
   },
   {
    "duration": 357,
    "start_time": "2023-04-08T11:47:16.749Z"
   },
   {
    "duration": 368,
    "start_time": "2023-04-08T11:48:22.087Z"
   },
   {
    "duration": 414,
    "start_time": "2023-04-08T11:48:46.412Z"
   },
   {
    "duration": 11,
    "start_time": "2023-04-08T12:08:40.454Z"
   },
   {
    "duration": 358,
    "start_time": "2023-04-08T12:08:43.530Z"
   },
   {
    "duration": 366,
    "start_time": "2023-04-08T12:09:00.907Z"
   },
   {
    "duration": 359,
    "start_time": "2023-04-08T12:09:29.468Z"
   },
   {
    "duration": 15,
    "start_time": "2023-04-08T12:10:47.264Z"
   },
   {
    "duration": 298,
    "start_time": "2023-04-08T12:11:03.964Z"
   },
   {
    "duration": 117,
    "start_time": "2023-04-08T12:13:26.652Z"
   },
   {
    "duration": 78,
    "start_time": "2023-04-08T12:17:31.920Z"
   },
   {
    "duration": 294,
    "start_time": "2023-04-08T12:17:46.665Z"
   },
   {
    "duration": 107,
    "start_time": "2023-04-08T12:18:21.853Z"
   },
   {
    "duration": 95,
    "start_time": "2023-04-08T12:19:38.789Z"
   },
   {
    "duration": 135,
    "start_time": "2023-04-08T12:19:45.348Z"
   },
   {
    "duration": 231,
    "start_time": "2023-04-08T12:19:53.544Z"
   },
   {
    "duration": 304,
    "start_time": "2023-04-08T12:20:05.701Z"
   },
   {
    "duration": 290,
    "start_time": "2023-04-08T12:20:10.617Z"
   },
   {
    "duration": 141,
    "start_time": "2023-04-08T12:20:40.417Z"
   },
   {
    "duration": 77,
    "start_time": "2023-04-08T12:20:46.770Z"
   },
   {
    "duration": 88,
    "start_time": "2023-04-08T12:21:20.205Z"
   },
   {
    "duration": 108,
    "start_time": "2023-04-08T12:21:33.420Z"
   },
   {
    "duration": 65,
    "start_time": "2023-04-08T12:21:39.927Z"
   },
   {
    "duration": 96,
    "start_time": "2023-04-08T12:21:45.100Z"
   },
   {
    "duration": 120,
    "start_time": "2023-04-08T12:22:00.092Z"
   },
   {
    "duration": 328,
    "start_time": "2023-04-08T12:22:23.455Z"
   },
   {
    "duration": 93,
    "start_time": "2023-04-08T12:22:28.253Z"
   },
   {
    "duration": 80,
    "start_time": "2023-04-08T12:22:32.152Z"
   },
   {
    "duration": 16,
    "start_time": "2023-04-08T12:26:35.184Z"
   },
   {
    "duration": 350,
    "start_time": "2023-04-08T12:26:42.475Z"
   },
   {
    "duration": 141,
    "start_time": "2023-04-08T12:29:06.156Z"
   },
   {
    "duration": 181,
    "start_time": "2023-04-08T12:29:16.186Z"
   },
   {
    "duration": 154,
    "start_time": "2023-04-08T12:29:26.083Z"
   },
   {
    "duration": 278,
    "start_time": "2023-04-08T12:39:54.073Z"
   },
   {
    "duration": 279,
    "start_time": "2023-04-08T12:40:08.992Z"
   },
   {
    "duration": 282,
    "start_time": "2023-04-08T12:40:16.962Z"
   },
   {
    "duration": 274,
    "start_time": "2023-04-08T12:40:59.396Z"
   },
   {
    "duration": 273,
    "start_time": "2023-04-08T12:41:11.046Z"
   },
   {
    "duration": 282,
    "start_time": "2023-04-08T12:41:17.788Z"
   },
   {
    "duration": 291,
    "start_time": "2023-04-08T12:41:20.817Z"
   },
   {
    "duration": 371,
    "start_time": "2023-04-08T12:41:32.945Z"
   },
   {
    "duration": 252,
    "start_time": "2023-04-08T12:41:55.782Z"
   },
   {
    "duration": 281,
    "start_time": "2023-04-08T12:42:01.354Z"
   },
   {
    "duration": 310,
    "start_time": "2023-04-08T12:42:05.295Z"
   },
   {
    "duration": 303,
    "start_time": "2023-04-08T12:42:10.420Z"
   },
   {
    "duration": 257,
    "start_time": "2023-04-08T12:43:31.846Z"
   },
   {
    "duration": 273,
    "start_time": "2023-04-08T12:43:41.732Z"
   },
   {
    "duration": 309,
    "start_time": "2023-04-08T12:44:03.193Z"
   },
   {
    "duration": 282,
    "start_time": "2023-04-08T12:44:15.841Z"
   },
   {
    "duration": 347,
    "start_time": "2023-04-08T12:45:30.889Z"
   },
   {
    "duration": 311,
    "start_time": "2023-04-08T12:47:44.979Z"
   },
   {
    "duration": 381,
    "start_time": "2023-04-08T12:47:55.888Z"
   },
   {
    "duration": 296,
    "start_time": "2023-04-08T12:48:17.154Z"
   },
   {
    "duration": 307,
    "start_time": "2023-04-08T12:48:49.546Z"
   },
   {
    "duration": 6,
    "start_time": "2023-04-08T12:54:37.589Z"
   },
   {
    "duration": 319,
    "start_time": "2023-04-08T12:54:44.119Z"
   },
   {
    "duration": 171,
    "start_time": "2023-04-08T12:55:05.848Z"
   },
   {
    "duration": 197,
    "start_time": "2023-04-08T12:57:50.011Z"
   },
   {
    "duration": 2,
    "start_time": "2023-04-08T12:58:17.381Z"
   },
   {
    "duration": 585,
    "start_time": "2023-04-08T12:58:22.074Z"
   },
   {
    "duration": 53,
    "start_time": "2023-04-08T12:58:22.661Z"
   },
   {
    "duration": 15,
    "start_time": "2023-04-08T12:58:22.716Z"
   },
   {
    "duration": 15,
    "start_time": "2023-04-08T12:58:22.733Z"
   },
   {
    "duration": 595,
    "start_time": "2023-04-08T12:58:22.750Z"
   },
   {
    "duration": 34,
    "start_time": "2023-04-08T12:58:23.347Z"
   },
   {
    "duration": 4,
    "start_time": "2023-04-08T12:58:23.383Z"
   },
   {
    "duration": 5,
    "start_time": "2023-04-08T12:58:23.389Z"
   },
   {
    "duration": 40,
    "start_time": "2023-04-08T12:58:23.395Z"
   },
   {
    "duration": 2,
    "start_time": "2023-04-08T12:58:23.438Z"
   },
   {
    "duration": 10,
    "start_time": "2023-04-08T12:58:23.442Z"
   },
   {
    "duration": 9,
    "start_time": "2023-04-08T12:58:23.453Z"
   },
   {
    "duration": 14,
    "start_time": "2023-04-08T12:58:23.464Z"
   },
   {
    "duration": 8,
    "start_time": "2023-04-08T12:58:23.480Z"
   },
   {
    "duration": 5,
    "start_time": "2023-04-08T12:58:23.490Z"
   },
   {
    "duration": 6,
    "start_time": "2023-04-08T12:58:23.497Z"
   },
   {
    "duration": 31,
    "start_time": "2023-04-08T12:58:23.504Z"
   },
   {
    "duration": 9,
    "start_time": "2023-04-08T12:58:23.536Z"
   },
   {
    "duration": 14,
    "start_time": "2023-04-08T12:58:23.547Z"
   },
   {
    "duration": 161,
    "start_time": "2023-04-08T12:58:23.563Z"
   },
   {
    "duration": 167,
    "start_time": "2023-04-08T12:58:23.725Z"
   },
   {
    "duration": 5,
    "start_time": "2023-04-08T12:58:23.894Z"
   },
   {
    "duration": 156,
    "start_time": "2023-04-08T12:58:23.901Z"
   },
   {
    "duration": 117,
    "start_time": "2023-04-08T12:58:24.059Z"
   },
   {
    "duration": 9,
    "start_time": "2023-04-08T12:58:24.177Z"
   },
   {
    "duration": 8,
    "start_time": "2023-04-08T12:58:24.187Z"
   },
   {
    "duration": 12,
    "start_time": "2023-04-08T12:58:24.196Z"
   },
   {
    "duration": 26,
    "start_time": "2023-04-08T12:58:24.212Z"
   },
   {
    "duration": 8,
    "start_time": "2023-04-08T12:58:24.240Z"
   },
   {
    "duration": 11,
    "start_time": "2023-04-08T12:58:24.249Z"
   },
   {
    "duration": 4,
    "start_time": "2023-04-08T12:58:24.262Z"
   },
   {
    "duration": 9,
    "start_time": "2023-04-08T12:58:24.267Z"
   },
   {
    "duration": 5,
    "start_time": "2023-04-08T12:58:24.278Z"
   },
   {
    "duration": 7,
    "start_time": "2023-04-08T12:58:24.285Z"
   },
   {
    "duration": 8,
    "start_time": "2023-04-08T12:58:24.293Z"
   },
   {
    "duration": 33,
    "start_time": "2023-04-08T12:58:24.302Z"
   },
   {
    "duration": 4,
    "start_time": "2023-04-08T12:58:24.337Z"
   },
   {
    "duration": 7,
    "start_time": "2023-04-08T12:58:24.342Z"
   },
   {
    "duration": 124,
    "start_time": "2023-04-08T12:58:24.350Z"
   },
   {
    "duration": 3,
    "start_time": "2023-04-08T12:58:24.476Z"
   },
   {
    "duration": 8,
    "start_time": "2023-04-08T12:58:24.481Z"
   },
   {
    "duration": 9,
    "start_time": "2023-04-08T12:58:24.491Z"
   },
   {
    "duration": 14,
    "start_time": "2023-04-08T12:58:24.501Z"
   },
   {
    "duration": 6,
    "start_time": "2023-04-08T12:58:24.516Z"
   },
   {
    "duration": 16,
    "start_time": "2023-04-08T12:58:24.534Z"
   },
   {
    "duration": 428,
    "start_time": "2023-04-08T12:58:24.552Z"
   },
   {
    "duration": 258,
    "start_time": "2023-04-08T12:58:24.982Z"
   },
   {
    "duration": 0,
    "start_time": "2023-04-08T12:58:25.242Z"
   },
   {
    "duration": 0,
    "start_time": "2023-04-08T12:58:25.243Z"
   },
   {
    "duration": 76,
    "start_time": "2023-04-08T12:59:05.471Z"
   },
   {
    "duration": 140,
    "start_time": "2023-04-08T12:59:10.442Z"
   },
   {
    "duration": 186,
    "start_time": "2023-04-08T12:59:18.062Z"
   },
   {
    "duration": 175,
    "start_time": "2023-04-08T12:59:25.093Z"
   },
   {
    "duration": 148,
    "start_time": "2023-04-08T12:59:35.439Z"
   },
   {
    "duration": 210,
    "start_time": "2023-04-08T13:00:06.424Z"
   },
   {
    "duration": 138,
    "start_time": "2023-04-08T13:00:13.985Z"
   },
   {
    "duration": 153,
    "start_time": "2023-04-08T13:00:18.139Z"
   },
   {
    "duration": 161,
    "start_time": "2023-04-08T13:00:32.331Z"
   },
   {
    "duration": 180,
    "start_time": "2023-04-08T13:00:38.882Z"
   },
   {
    "duration": 203,
    "start_time": "2023-04-08T13:01:35.284Z"
   },
   {
    "duration": 196,
    "start_time": "2023-04-08T13:02:15.018Z"
   },
   {
    "duration": 173,
    "start_time": "2023-04-08T13:03:47.038Z"
   },
   {
    "duration": 181,
    "start_time": "2023-04-08T13:03:53.989Z"
   },
   {
    "duration": 195,
    "start_time": "2023-04-08T13:03:59.440Z"
   },
   {
    "duration": 185,
    "start_time": "2023-04-08T13:04:03.939Z"
   },
   {
    "duration": 241,
    "start_time": "2023-04-08T13:04:11.555Z"
   },
   {
    "duration": 174,
    "start_time": "2023-04-08T13:04:15.785Z"
   },
   {
    "duration": 185,
    "start_time": "2023-04-08T13:04:21.139Z"
   },
   {
    "duration": 203,
    "start_time": "2023-04-08T13:04:26.539Z"
   },
   {
    "duration": 178,
    "start_time": "2023-04-08T13:05:36.849Z"
   },
   {
    "duration": 173,
    "start_time": "2023-04-08T13:05:48.938Z"
   },
   {
    "duration": 179,
    "start_time": "2023-04-08T13:05:52.782Z"
   },
   {
    "duration": 186,
    "start_time": "2023-04-08T13:06:57.291Z"
   },
   {
    "duration": 361,
    "start_time": "2023-04-08T13:07:04.698Z"
   },
   {
    "duration": 306,
    "start_time": "2023-04-08T13:07:11.369Z"
   },
   {
    "duration": 191,
    "start_time": "2023-04-08T13:08:46.795Z"
   },
   {
    "duration": 221,
    "start_time": "2023-04-08T13:09:07.048Z"
   },
   {
    "duration": 257,
    "start_time": "2023-04-08T13:09:24.681Z"
   },
   {
    "duration": 273,
    "start_time": "2023-04-08T13:09:32.665Z"
   },
   {
    "duration": 294,
    "start_time": "2023-04-08T13:09:39.015Z"
   },
   {
    "duration": 346,
    "start_time": "2023-04-08T13:09:45.376Z"
   },
   {
    "duration": 446,
    "start_time": "2023-04-08T13:09:53.906Z"
   },
   {
    "duration": 191,
    "start_time": "2023-04-08T13:10:01.365Z"
   },
   {
    "duration": 255,
    "start_time": "2023-04-08T13:10:14.597Z"
   },
   {
    "duration": 210,
    "start_time": "2023-04-08T13:10:21.698Z"
   },
   {
    "duration": 228,
    "start_time": "2023-04-08T13:10:36.535Z"
   },
   {
    "duration": 320,
    "start_time": "2023-04-08T13:10:49.206Z"
   },
   {
    "duration": 208,
    "start_time": "2023-04-08T13:10:54.348Z"
   },
   {
    "duration": 149,
    "start_time": "2023-04-08T13:11:15.293Z"
   },
   {
    "duration": 303,
    "start_time": "2023-04-08T13:11:19.880Z"
   },
   {
    "duration": 282,
    "start_time": "2023-04-08T13:11:27.265Z"
   },
   {
    "duration": 300,
    "start_time": "2023-04-08T13:11:40.448Z"
   },
   {
    "duration": 309,
    "start_time": "2023-04-08T13:12:39.428Z"
   },
   {
    "duration": 372,
    "start_time": "2023-04-08T13:12:44.048Z"
   },
   {
    "duration": 285,
    "start_time": "2023-04-08T13:12:48.966Z"
   },
   {
    "duration": 319,
    "start_time": "2023-04-08T13:13:00.213Z"
   },
   {
    "duration": 314,
    "start_time": "2023-04-08T13:13:05.302Z"
   },
   {
    "duration": 304,
    "start_time": "2023-04-08T13:13:10.102Z"
   },
   {
    "duration": 287,
    "start_time": "2023-04-08T13:13:12.959Z"
   },
   {
    "duration": 361,
    "start_time": "2023-04-08T13:13:22.588Z"
   },
   {
    "duration": 342,
    "start_time": "2023-04-08T13:13:29.464Z"
   },
   {
    "duration": 281,
    "start_time": "2023-04-08T13:13:36.205Z"
   },
   {
    "duration": 290,
    "start_time": "2023-04-08T13:13:53.552Z"
   },
   {
    "duration": 320,
    "start_time": "2023-04-08T13:14:00.488Z"
   },
   {
    "duration": 379,
    "start_time": "2023-04-08T13:14:03.505Z"
   },
   {
    "duration": 293,
    "start_time": "2023-04-08T13:14:07.533Z"
   },
   {
    "duration": 303,
    "start_time": "2023-04-08T13:14:11.444Z"
   },
   {
    "duration": 306,
    "start_time": "2023-04-08T13:15:00.237Z"
   },
   {
    "duration": 307,
    "start_time": "2023-04-08T13:15:54.994Z"
   },
   {
    "duration": 314,
    "start_time": "2023-04-08T13:16:00.150Z"
   },
   {
    "duration": 428,
    "start_time": "2023-04-08T13:16:04.459Z"
   },
   {
    "duration": 316,
    "start_time": "2023-04-08T13:16:15.028Z"
   },
   {
    "duration": 69,
    "start_time": "2023-04-08T13:16:29.412Z"
   },
   {
    "duration": 75,
    "start_time": "2023-04-08T13:16:33.941Z"
   },
   {
    "duration": 294,
    "start_time": "2023-04-08T13:17:53.642Z"
   },
   {
    "duration": 307,
    "start_time": "2023-04-08T13:20:41.368Z"
   },
   {
    "duration": 329,
    "start_time": "2023-04-08T13:21:01.681Z"
   },
   {
    "duration": 172,
    "start_time": "2023-04-08T13:22:20.975Z"
   },
   {
    "duration": 241,
    "start_time": "2023-04-08T13:22:31.234Z"
   },
   {
    "duration": 161,
    "start_time": "2023-04-08T13:22:37.488Z"
   },
   {
    "duration": 161,
    "start_time": "2023-04-08T13:22:44.043Z"
   },
   {
    "duration": 174,
    "start_time": "2023-04-08T13:22:50.332Z"
   },
   {
    "duration": 162,
    "start_time": "2023-04-08T13:22:57.526Z"
   },
   {
    "duration": 196,
    "start_time": "2023-04-08T13:23:26.223Z"
   },
   {
    "duration": 173,
    "start_time": "2023-04-08T13:24:10.975Z"
   },
   {
    "duration": 288,
    "start_time": "2023-04-08T13:25:19.795Z"
   },
   {
    "duration": 169,
    "start_time": "2023-04-08T13:26:02.230Z"
   },
   {
    "duration": 157,
    "start_time": "2023-04-08T13:26:07.307Z"
   },
   {
    "duration": 231,
    "start_time": "2023-04-08T13:26:17.252Z"
   },
   {
    "duration": 476,
    "start_time": "2023-04-08T13:29:02.074Z"
   },
   {
    "duration": 2709,
    "start_time": "2023-04-08T13:29:25.428Z"
   },
   {
    "duration": 86,
    "start_time": "2023-04-08T13:30:11.071Z"
   },
   {
    "duration": 1009,
    "start_time": "2023-04-08T13:30:22.790Z"
   },
   {
    "duration": 851,
    "start_time": "2023-04-08T13:30:55.299Z"
   },
   {
    "duration": 553,
    "start_time": "2023-04-08T13:31:44.365Z"
   },
   {
    "duration": 67,
    "start_time": "2023-04-08T13:33:42.543Z"
   },
   {
    "duration": 72,
    "start_time": "2023-04-08T13:37:03.671Z"
   },
   {
    "duration": 94,
    "start_time": "2023-04-08T13:38:15.763Z"
   },
   {
    "duration": 184,
    "start_time": "2023-04-08T13:40:19.820Z"
   },
   {
    "duration": 245,
    "start_time": "2023-04-08T13:41:15.960Z"
   },
   {
    "duration": 156,
    "start_time": "2023-04-08T13:41:34.785Z"
   },
   {
    "duration": 72,
    "start_time": "2023-04-08T13:41:44.055Z"
   },
   {
    "duration": 74,
    "start_time": "2023-04-08T13:42:05.080Z"
   },
   {
    "duration": 212,
    "start_time": "2023-04-08T13:42:20.918Z"
   },
   {
    "duration": 17,
    "start_time": "2023-04-08T13:43:35.324Z"
   },
   {
    "duration": 190,
    "start_time": "2023-04-08T13:43:43.637Z"
   },
   {
    "duration": 181,
    "start_time": "2023-04-08T13:44:00.507Z"
   },
   {
    "duration": 193,
    "start_time": "2023-04-08T13:44:20.708Z"
   },
   {
    "duration": 170,
    "start_time": "2023-04-08T13:44:55.154Z"
   },
   {
    "duration": 156,
    "start_time": "2023-04-08T13:45:05.557Z"
   },
   {
    "duration": 174,
    "start_time": "2023-04-08T13:45:25.043Z"
   },
   {
    "duration": 166,
    "start_time": "2023-04-08T13:48:51.599Z"
   },
   {
    "duration": 69,
    "start_time": "2023-04-08T13:50:47.006Z"
   },
   {
    "duration": 10,
    "start_time": "2023-04-08T13:54:11.853Z"
   },
   {
    "duration": 471,
    "start_time": "2023-04-08T13:54:51.895Z"
   },
   {
    "duration": 1109,
    "start_time": "2023-04-08T13:54:56.420Z"
   },
   {
    "duration": 51,
    "start_time": "2023-04-08T13:54:57.531Z"
   },
   {
    "duration": 16,
    "start_time": "2023-04-08T13:54:57.583Z"
   },
   {
    "duration": 14,
    "start_time": "2023-04-08T13:54:57.603Z"
   },
   {
    "duration": 581,
    "start_time": "2023-04-08T13:54:57.619Z"
   },
   {
    "duration": 42,
    "start_time": "2023-04-08T13:54:58.202Z"
   },
   {
    "duration": 5,
    "start_time": "2023-04-08T13:54:58.246Z"
   },
   {
    "duration": 17,
    "start_time": "2023-04-08T13:54:58.253Z"
   },
   {
    "duration": 27,
    "start_time": "2023-04-08T13:54:58.271Z"
   },
   {
    "duration": 13,
    "start_time": "2023-04-08T13:54:58.301Z"
   },
   {
    "duration": 14,
    "start_time": "2023-04-08T13:54:58.315Z"
   },
   {
    "duration": 16,
    "start_time": "2023-04-08T13:54:58.330Z"
   },
   {
    "duration": 9,
    "start_time": "2023-04-08T13:54:58.347Z"
   },
   {
    "duration": 13,
    "start_time": "2023-04-08T13:54:58.358Z"
   },
   {
    "duration": 12,
    "start_time": "2023-04-08T13:54:58.373Z"
   },
   {
    "duration": 9,
    "start_time": "2023-04-08T13:54:58.386Z"
   },
   {
    "duration": 7,
    "start_time": "2023-04-08T13:54:58.397Z"
   },
   {
    "duration": 13,
    "start_time": "2023-04-08T13:54:58.406Z"
   },
   {
    "duration": 21,
    "start_time": "2023-04-08T13:54:58.421Z"
   },
   {
    "duration": 134,
    "start_time": "2023-04-08T13:54:58.443Z"
   },
   {
    "duration": 108,
    "start_time": "2023-04-08T13:54:58.579Z"
   },
   {
    "duration": 5,
    "start_time": "2023-04-08T13:54:58.689Z"
   },
   {
    "duration": 150,
    "start_time": "2023-04-08T13:54:58.695Z"
   },
   {
    "duration": 111,
    "start_time": "2023-04-08T13:54:58.846Z"
   },
   {
    "duration": 8,
    "start_time": "2023-04-08T13:54:58.958Z"
   },
   {
    "duration": 12,
    "start_time": "2023-04-08T13:54:58.967Z"
   },
   {
    "duration": 11,
    "start_time": "2023-04-08T13:54:58.980Z"
   },
   {
    "duration": 8,
    "start_time": "2023-04-08T13:54:58.994Z"
   },
   {
    "duration": 7,
    "start_time": "2023-04-08T13:54:59.003Z"
   },
   {
    "duration": 24,
    "start_time": "2023-04-08T13:54:59.011Z"
   },
   {
    "duration": 4,
    "start_time": "2023-04-08T13:54:59.037Z"
   },
   {
    "duration": 6,
    "start_time": "2023-04-08T13:54:59.042Z"
   },
   {
    "duration": 16,
    "start_time": "2023-04-08T13:54:59.049Z"
   },
   {
    "duration": 10,
    "start_time": "2023-04-08T13:54:59.066Z"
   },
   {
    "duration": 14,
    "start_time": "2023-04-08T13:54:59.077Z"
   },
   {
    "duration": 5,
    "start_time": "2023-04-08T13:54:59.092Z"
   },
   {
    "duration": 6,
    "start_time": "2023-04-08T13:54:59.099Z"
   },
   {
    "duration": 13,
    "start_time": "2023-04-08T13:54:59.106Z"
   },
   {
    "duration": 118,
    "start_time": "2023-04-08T13:54:59.121Z"
   },
   {
    "duration": 5,
    "start_time": "2023-04-08T13:54:59.240Z"
   },
   {
    "duration": 12,
    "start_time": "2023-04-08T13:54:59.247Z"
   },
   {
    "duration": 8,
    "start_time": "2023-04-08T13:54:59.261Z"
   },
   {
    "duration": 6,
    "start_time": "2023-04-08T13:54:59.271Z"
   },
   {
    "duration": 9,
    "start_time": "2023-04-08T13:54:59.278Z"
   },
   {
    "duration": 15,
    "start_time": "2023-04-08T13:54:59.288Z"
   },
   {
    "duration": 493,
    "start_time": "2023-04-08T13:54:59.305Z"
   },
   {
    "duration": 206,
    "start_time": "2023-04-08T13:54:59.799Z"
   },
   {
    "duration": 341,
    "start_time": "2023-04-08T13:55:00.006Z"
   },
   {
    "duration": 307,
    "start_time": "2023-04-08T13:55:00.349Z"
   },
   {
    "duration": 186,
    "start_time": "2023-04-08T13:55:00.657Z"
   },
   {
    "duration": 196,
    "start_time": "2023-04-08T13:55:00.845Z"
   },
   {
    "duration": 279,
    "start_time": "2023-04-08T13:55:01.042Z"
   },
   {
    "duration": 362,
    "start_time": "2023-04-08T13:55:40.688Z"
   },
   {
    "duration": 291,
    "start_time": "2023-04-08T13:57:53.712Z"
   },
   {
    "duration": 4,
    "start_time": "2023-04-08T14:00:15.829Z"
   },
   {
    "duration": 4,
    "start_time": "2023-04-08T14:02:02.257Z"
   },
   {
    "duration": 4,
    "start_time": "2023-04-08T14:04:51.565Z"
   },
   {
    "duration": 272,
    "start_time": "2023-04-08T14:06:47.331Z"
   },
   {
    "duration": 266,
    "start_time": "2023-04-08T14:07:06.732Z"
   },
   {
    "duration": 7,
    "start_time": "2023-04-08T14:07:31.013Z"
   },
   {
    "duration": 2181,
    "start_time": "2023-04-08T14:10:32.402Z"
   },
   {
    "duration": 5,
    "start_time": "2023-04-08T14:10:37.959Z"
   },
   {
    "duration": 14,
    "start_time": "2023-04-08T14:18:41.303Z"
   },
   {
    "duration": 1344,
    "start_time": "2023-04-08T14:18:47.561Z"
   },
   {
    "duration": 119,
    "start_time": "2023-04-08T14:19:15.822Z"
   },
   {
    "duration": 92,
    "start_time": "2023-04-08T14:19:50.963Z"
   },
   {
    "duration": 221,
    "start_time": "2023-04-08T14:19:57.071Z"
   },
   {
    "duration": 17,
    "start_time": "2023-04-08T14:20:05.716Z"
   },
   {
    "duration": 108,
    "start_time": "2023-04-08T14:25:26.148Z"
   },
   {
    "duration": 9,
    "start_time": "2023-04-08T14:25:32.184Z"
   },
   {
    "duration": 114,
    "start_time": "2023-04-08T14:25:41.580Z"
   },
   {
    "duration": 363,
    "start_time": "2023-04-08T14:25:51.564Z"
   },
   {
    "duration": 335,
    "start_time": "2023-04-08T14:26:17.241Z"
   },
   {
    "duration": 403,
    "start_time": "2023-04-08T14:26:44.853Z"
   },
   {
    "duration": 339,
    "start_time": "2023-04-08T14:27:06.301Z"
   },
   {
    "duration": 71,
    "start_time": "2023-04-08T14:27:41.649Z"
   },
   {
    "duration": 574,
    "start_time": "2023-04-08T14:27:47.220Z"
   },
   {
    "duration": 408,
    "start_time": "2023-04-08T14:27:54.644Z"
   },
   {
    "duration": 380,
    "start_time": "2023-04-08T14:28:01.266Z"
   },
   {
    "duration": 84,
    "start_time": "2023-04-08T14:28:18.400Z"
   },
   {
    "duration": 443,
    "start_time": "2023-04-08T14:28:22.223Z"
   },
   {
    "duration": 380,
    "start_time": "2023-04-08T14:30:17.461Z"
   },
   {
    "duration": 145,
    "start_time": "2023-04-08T14:30:40.685Z"
   },
   {
    "duration": 440,
    "start_time": "2023-04-08T14:30:46.362Z"
   },
   {
    "duration": 531,
    "start_time": "2023-04-08T14:31:44.592Z"
   },
   {
    "duration": 8,
    "start_time": "2023-04-08T14:33:56.147Z"
   },
   {
    "duration": 12,
    "start_time": "2023-04-08T14:34:24.943Z"
   },
   {
    "duration": 11,
    "start_time": "2023-04-08T14:34:55.148Z"
   },
   {
    "duration": 416,
    "start_time": "2023-04-08T14:37:01.797Z"
   },
   {
    "duration": 388,
    "start_time": "2023-04-08T14:37:17.566Z"
   },
   {
    "duration": 11,
    "start_time": "2023-04-08T14:42:14.640Z"
   },
   {
    "duration": 24,
    "start_time": "2023-04-08T14:42:33.570Z"
   },
   {
    "duration": 10,
    "start_time": "2023-04-08T14:42:50.478Z"
   },
   {
    "duration": 10,
    "start_time": "2023-04-08T14:42:57.870Z"
   },
   {
    "duration": 4,
    "start_time": "2023-04-08T14:43:20.754Z"
   },
   {
    "duration": 23,
    "start_time": "2023-04-08T14:43:27.495Z"
   },
   {
    "duration": 3,
    "start_time": "2023-04-08T14:44:15.159Z"
   },
   {
    "duration": 35,
    "start_time": "2023-04-08T14:44:23.335Z"
   },
   {
    "duration": 4,
    "start_time": "2023-04-08T14:48:03.836Z"
   },
   {
    "duration": 16,
    "start_time": "2023-04-08T14:48:14.346Z"
   },
   {
    "duration": 12,
    "start_time": "2023-04-08T14:48:33.404Z"
   },
   {
    "duration": 11,
    "start_time": "2023-04-08T14:48:47.792Z"
   },
   {
    "duration": 9,
    "start_time": "2023-04-08T14:49:23.604Z"
   },
   {
    "duration": 10,
    "start_time": "2023-04-08T14:50:59.310Z"
   },
   {
    "duration": 8,
    "start_time": "2023-04-08T14:51:32.670Z"
   },
   {
    "duration": 8,
    "start_time": "2023-04-08T14:51:40.462Z"
   },
   {
    "duration": 4,
    "start_time": "2023-04-08T14:58:46.367Z"
   },
   {
    "duration": 5,
    "start_time": "2023-04-08T14:58:48.427Z"
   },
   {
    "duration": 5,
    "start_time": "2023-04-08T14:58:50.426Z"
   },
   {
    "duration": 4,
    "start_time": "2023-04-08T15:05:12.499Z"
   },
   {
    "duration": 216,
    "start_time": "2023-04-08T15:05:20.236Z"
   },
   {
    "duration": 213,
    "start_time": "2023-04-08T15:05:29.375Z"
   },
   {
    "duration": 218,
    "start_time": "2023-04-08T15:05:34.944Z"
   },
   {
    "duration": 254,
    "start_time": "2023-04-08T15:05:58.571Z"
   },
   {
    "duration": 212,
    "start_time": "2023-04-08T15:06:03.722Z"
   },
   {
    "duration": 302,
    "start_time": "2023-04-08T15:06:11.799Z"
   },
   {
    "duration": 1194,
    "start_time": "2023-04-08T15:08:49.122Z"
   },
   {
    "duration": 53,
    "start_time": "2023-04-08T15:08:50.318Z"
   },
   {
    "duration": 17,
    "start_time": "2023-04-08T15:08:50.372Z"
   },
   {
    "duration": 19,
    "start_time": "2023-04-08T15:08:50.391Z"
   },
   {
    "duration": 600,
    "start_time": "2023-04-08T15:08:50.412Z"
   },
   {
    "duration": 49,
    "start_time": "2023-04-08T15:08:51.014Z"
   },
   {
    "duration": 4,
    "start_time": "2023-04-08T15:08:51.065Z"
   },
   {
    "duration": 15,
    "start_time": "2023-04-08T15:08:51.071Z"
   },
   {
    "duration": 28,
    "start_time": "2023-04-08T15:08:51.088Z"
   },
   {
    "duration": 4,
    "start_time": "2023-04-08T15:08:51.119Z"
   },
   {
    "duration": 9,
    "start_time": "2023-04-08T15:08:51.134Z"
   },
   {
    "duration": 10,
    "start_time": "2023-04-08T15:08:51.144Z"
   },
   {
    "duration": 12,
    "start_time": "2023-04-08T15:08:51.156Z"
   },
   {
    "duration": 14,
    "start_time": "2023-04-08T15:08:51.170Z"
   },
   {
    "duration": 5,
    "start_time": "2023-04-08T15:08:51.186Z"
   },
   {
    "duration": 8,
    "start_time": "2023-04-08T15:08:51.192Z"
   },
   {
    "duration": 34,
    "start_time": "2023-04-08T15:08:51.202Z"
   },
   {
    "duration": 14,
    "start_time": "2023-04-08T15:08:51.238Z"
   },
   {
    "duration": 26,
    "start_time": "2023-04-08T15:08:51.254Z"
   },
   {
    "duration": 147,
    "start_time": "2023-04-08T15:08:51.282Z"
   },
   {
    "duration": 108,
    "start_time": "2023-04-08T15:08:51.434Z"
   },
   {
    "duration": 5,
    "start_time": "2023-04-08T15:08:51.544Z"
   },
   {
    "duration": 145,
    "start_time": "2023-04-08T15:08:51.551Z"
   },
   {
    "duration": 117,
    "start_time": "2023-04-08T15:08:51.697Z"
   },
   {
    "duration": 8,
    "start_time": "2023-04-08T15:08:51.815Z"
   },
   {
    "duration": 14,
    "start_time": "2023-04-08T15:08:51.825Z"
   },
   {
    "duration": 6,
    "start_time": "2023-04-08T15:08:51.841Z"
   },
   {
    "duration": 19,
    "start_time": "2023-04-08T15:08:51.852Z"
   },
   {
    "duration": 8,
    "start_time": "2023-04-08T15:08:51.873Z"
   },
   {
    "duration": 11,
    "start_time": "2023-04-08T15:08:51.882Z"
   },
   {
    "duration": 6,
    "start_time": "2023-04-08T15:08:51.895Z"
   },
   {
    "duration": 6,
    "start_time": "2023-04-08T15:08:51.902Z"
   },
   {
    "duration": 27,
    "start_time": "2023-04-08T15:08:51.910Z"
   },
   {
    "duration": 8,
    "start_time": "2023-04-08T15:08:51.939Z"
   },
   {
    "duration": 11,
    "start_time": "2023-04-08T15:08:51.949Z"
   },
   {
    "duration": 6,
    "start_time": "2023-04-08T15:08:51.961Z"
   },
   {
    "duration": 5,
    "start_time": "2023-04-08T15:08:51.969Z"
   },
   {
    "duration": 12,
    "start_time": "2023-04-08T15:08:51.975Z"
   },
   {
    "duration": 171,
    "start_time": "2023-04-08T15:08:51.988Z"
   },
   {
    "duration": 3,
    "start_time": "2023-04-08T15:08:52.161Z"
   },
   {
    "duration": 10,
    "start_time": "2023-04-08T15:08:52.166Z"
   },
   {
    "duration": 9,
    "start_time": "2023-04-08T15:08:52.177Z"
   },
   {
    "duration": 11,
    "start_time": "2023-04-08T15:08:52.188Z"
   },
   {
    "duration": 9,
    "start_time": "2023-04-08T15:08:52.200Z"
   },
   {
    "duration": 25,
    "start_time": "2023-04-08T15:08:52.211Z"
   },
   {
    "duration": 457,
    "start_time": "2023-04-08T15:08:52.238Z"
   },
   {
    "duration": 202,
    "start_time": "2023-04-08T15:08:52.698Z"
   },
   {
    "duration": 354,
    "start_time": "2023-04-08T15:08:52.902Z"
   },
   {
    "duration": 305,
    "start_time": "2023-04-08T15:08:53.258Z"
   },
   {
    "duration": 190,
    "start_time": "2023-04-08T15:08:53.565Z"
   },
   {
    "duration": 191,
    "start_time": "2023-04-08T15:08:53.757Z"
   },
   {
    "duration": 288,
    "start_time": "2023-04-08T15:08:53.950Z"
   },
   {
    "duration": 580,
    "start_time": "2023-04-08T15:08:54.239Z"
   },
   {
    "duration": 17,
    "start_time": "2023-04-08T15:08:54.821Z"
   },
   {
    "duration": 8,
    "start_time": "2023-04-08T15:08:54.840Z"
   },
   {
    "duration": 10,
    "start_time": "2023-04-08T15:08:54.850Z"
   },
   {
    "duration": 458,
    "start_time": "2023-04-08T15:08:54.863Z"
   },
   {
    "duration": 15,
    "start_time": "2023-04-08T15:08:55.322Z"
   },
   {
    "duration": 17,
    "start_time": "2023-04-08T15:08:55.339Z"
   },
   {
    "duration": 15,
    "start_time": "2023-04-08T15:08:55.358Z"
   },
   {
    "duration": 226,
    "start_time": "2023-04-08T15:08:55.375Z"
   },
   {
    "duration": 211,
    "start_time": "2023-04-08T15:09:10.549Z"
   },
   {
    "duration": 75,
    "start_time": "2023-04-08T15:18:10.789Z"
   },
   {
    "duration": 410,
    "start_time": "2023-04-08T15:18:41.335Z"
   },
   {
    "duration": 2,
    "start_time": "2023-04-08T15:18:57.480Z"
   },
   {
    "duration": 1504,
    "start_time": "2023-04-08T15:31:45.172Z"
   },
   {
    "duration": 12,
    "start_time": "2023-04-08T15:32:53.889Z"
   },
   {
    "duration": 70,
    "start_time": "2023-04-08T15:44:29.232Z"
   },
   {
    "duration": 73,
    "start_time": "2023-04-08T15:44:35.867Z"
   },
   {
    "duration": 526,
    "start_time": "2023-04-08T15:44:41.240Z"
   },
   {
    "duration": 588,
    "start_time": "2023-04-08T15:44:52.351Z"
   },
   {
    "duration": 81,
    "start_time": "2023-04-08T15:45:30.453Z"
   },
   {
    "duration": 657,
    "start_time": "2023-04-08T15:46:18.647Z"
   },
   {
    "duration": 571,
    "start_time": "2023-04-08T15:46:36.260Z"
   },
   {
    "duration": 610,
    "start_time": "2023-04-08T15:46:48.466Z"
   },
   {
    "duration": 590,
    "start_time": "2023-04-08T15:47:08.995Z"
   },
   {
    "duration": 563,
    "start_time": "2023-04-08T15:47:56.014Z"
   },
   {
    "duration": 618,
    "start_time": "2023-04-08T15:48:04.382Z"
   },
   {
    "duration": 580,
    "start_time": "2023-04-08T15:48:22.950Z"
   },
   {
    "duration": 476,
    "start_time": "2023-04-08T15:50:59.323Z"
   },
   {
    "duration": 452,
    "start_time": "2023-04-08T15:53:17.189Z"
   },
   {
    "duration": 524,
    "start_time": "2023-04-08T15:53:29.464Z"
   },
   {
    "duration": 487,
    "start_time": "2023-04-08T15:53:56.774Z"
   },
   {
    "duration": 588,
    "start_time": "2023-04-08T15:54:02.729Z"
   },
   {
    "duration": 83,
    "start_time": "2023-04-08T15:58:21.317Z"
   },
   {
    "duration": 75,
    "start_time": "2023-04-08T16:05:24.697Z"
   },
   {
    "duration": 5,
    "start_time": "2023-04-08T16:08:56.583Z"
   },
   {
    "duration": 1231,
    "start_time": "2023-04-08T16:09:03.185Z"
   },
   {
    "duration": 5,
    "start_time": "2023-04-08T16:09:06.419Z"
   },
   {
    "duration": 90,
    "start_time": "2023-04-08T16:09:35.252Z"
   },
   {
    "duration": 180,
    "start_time": "2023-04-08T16:14:21.633Z"
   },
   {
    "duration": 26,
    "start_time": "2023-04-08T16:18:17.543Z"
   },
   {
    "duration": 13,
    "start_time": "2023-04-08T16:18:50.943Z"
   },
   {
    "duration": 3,
    "start_time": "2023-04-08T16:19:11.973Z"
   },
   {
    "duration": 1141,
    "start_time": "2023-04-08T16:19:17.815Z"
   },
   {
    "duration": 51,
    "start_time": "2023-04-08T16:19:18.958Z"
   },
   {
    "duration": 17,
    "start_time": "2023-04-08T16:19:19.011Z"
   },
   {
    "duration": 14,
    "start_time": "2023-04-08T16:19:19.030Z"
   },
   {
    "duration": 589,
    "start_time": "2023-04-08T16:19:19.045Z"
   },
   {
    "duration": 29,
    "start_time": "2023-04-08T16:19:19.636Z"
   },
   {
    "duration": 4,
    "start_time": "2023-04-08T16:19:19.667Z"
   },
   {
    "duration": 8,
    "start_time": "2023-04-08T16:19:19.672Z"
   },
   {
    "duration": 17,
    "start_time": "2023-04-08T16:19:19.681Z"
   },
   {
    "duration": 12,
    "start_time": "2023-04-08T16:19:19.700Z"
   },
   {
    "duration": 27,
    "start_time": "2023-04-08T16:19:19.713Z"
   },
   {
    "duration": 9,
    "start_time": "2023-04-08T16:19:19.742Z"
   },
   {
    "duration": 17,
    "start_time": "2023-04-08T16:19:19.752Z"
   },
   {
    "duration": 9,
    "start_time": "2023-04-08T16:19:19.771Z"
   },
   {
    "duration": 12,
    "start_time": "2023-04-08T16:19:19.781Z"
   },
   {
    "duration": 9,
    "start_time": "2023-04-08T16:19:19.795Z"
   },
   {
    "duration": 6,
    "start_time": "2023-04-08T16:19:19.805Z"
   },
   {
    "duration": 21,
    "start_time": "2023-04-08T16:19:19.813Z"
   },
   {
    "duration": 15,
    "start_time": "2023-04-08T16:19:19.835Z"
   },
   {
    "duration": 174,
    "start_time": "2023-04-08T16:19:19.851Z"
   },
   {
    "duration": 110,
    "start_time": "2023-04-08T16:19:20.027Z"
   },
   {
    "duration": 5,
    "start_time": "2023-04-08T16:19:20.138Z"
   },
   {
    "duration": 147,
    "start_time": "2023-04-08T16:19:20.145Z"
   },
   {
    "duration": 107,
    "start_time": "2023-04-08T16:19:20.293Z"
   },
   {
    "duration": 8,
    "start_time": "2023-04-08T16:19:20.402Z"
   },
   {
    "duration": 19,
    "start_time": "2023-04-08T16:19:20.411Z"
   },
   {
    "duration": 9,
    "start_time": "2023-04-08T16:19:20.431Z"
   },
   {
    "duration": 27,
    "start_time": "2023-04-08T16:19:20.444Z"
   },
   {
    "duration": 33,
    "start_time": "2023-04-08T16:19:20.473Z"
   },
   {
    "duration": 22,
    "start_time": "2023-04-08T16:19:20.508Z"
   },
   {
    "duration": 6,
    "start_time": "2023-04-08T16:19:20.532Z"
   },
   {
    "duration": 6,
    "start_time": "2023-04-08T16:19:20.540Z"
   },
   {
    "duration": 6,
    "start_time": "2023-04-08T16:19:20.547Z"
   },
   {
    "duration": 23,
    "start_time": "2023-04-08T16:19:20.554Z"
   },
   {
    "duration": 20,
    "start_time": "2023-04-08T16:19:20.580Z"
   },
   {
    "duration": 35,
    "start_time": "2023-04-08T16:19:20.602Z"
   },
   {
    "duration": 14,
    "start_time": "2023-04-08T16:19:20.639Z"
   },
   {
    "duration": 12,
    "start_time": "2023-04-08T16:19:20.654Z"
   },
   {
    "duration": 126,
    "start_time": "2023-04-08T16:19:20.668Z"
   },
   {
    "duration": 4,
    "start_time": "2023-04-08T16:19:20.796Z"
   },
   {
    "duration": 34,
    "start_time": "2023-04-08T16:19:20.801Z"
   },
   {
    "duration": 10,
    "start_time": "2023-04-08T16:19:20.836Z"
   },
   {
    "duration": 22,
    "start_time": "2023-04-08T16:19:20.848Z"
   },
   {
    "duration": 20,
    "start_time": "2023-04-08T16:19:20.871Z"
   },
   {
    "duration": 20,
    "start_time": "2023-04-08T16:19:20.892Z"
   },
   {
    "duration": 463,
    "start_time": "2023-04-08T16:19:20.913Z"
   },
   {
    "duration": 187,
    "start_time": "2023-04-08T16:19:21.377Z"
   },
   {
    "duration": 334,
    "start_time": "2023-04-08T16:19:21.565Z"
   },
   {
    "duration": 294,
    "start_time": "2023-04-08T16:19:21.901Z"
   },
   {
    "duration": 177,
    "start_time": "2023-04-08T16:19:22.197Z"
   },
   {
    "duration": 160,
    "start_time": "2023-04-08T16:19:22.376Z"
   },
   {
    "duration": 304,
    "start_time": "2023-04-08T16:19:22.538Z"
   },
   {
    "duration": 457,
    "start_time": "2023-04-08T16:19:22.844Z"
   },
   {
    "duration": 8,
    "start_time": "2023-04-08T16:19:23.303Z"
   },
   {
    "duration": 27,
    "start_time": "2023-04-08T16:19:23.312Z"
   },
   {
    "duration": 15,
    "start_time": "2023-04-08T16:19:23.340Z"
   },
   {
    "duration": 424,
    "start_time": "2023-04-08T16:19:23.356Z"
   },
   {
    "duration": 5,
    "start_time": "2023-04-08T16:19:23.781Z"
   },
   {
    "duration": 17,
    "start_time": "2023-04-08T16:19:23.788Z"
   },
   {
    "duration": 19,
    "start_time": "2023-04-08T16:19:23.807Z"
   },
   {
    "duration": 207,
    "start_time": "2023-04-08T16:19:23.827Z"
   },
   {
    "duration": 494,
    "start_time": "2023-04-08T16:19:24.036Z"
   },
   {
    "duration": 604,
    "start_time": "2023-04-08T16:19:24.534Z"
   },
   {
    "duration": 612,
    "start_time": "2023-04-08T16:19:25.140Z"
   },
   {
    "duration": 7,
    "start_time": "2023-04-08T16:19:25.754Z"
   },
   {
    "duration": 398,
    "start_time": "2023-04-08T16:20:51.363Z"
   },
   {
    "duration": 404,
    "start_time": "2023-04-08T16:23:03.128Z"
   },
   {
    "duration": 11,
    "start_time": "2023-04-08T16:25:54.686Z"
   },
   {
    "duration": 18,
    "start_time": "2023-04-08T16:26:48.039Z"
   },
   {
    "duration": 15,
    "start_time": "2023-04-08T16:27:00.383Z"
   },
   {
    "duration": 13,
    "start_time": "2023-04-08T16:28:09.166Z"
   },
   {
    "duration": 14,
    "start_time": "2023-04-08T16:29:00.187Z"
   },
   {
    "duration": 10,
    "start_time": "2023-04-08T16:29:22.125Z"
   },
   {
    "duration": 7,
    "start_time": "2023-04-08T16:31:35.101Z"
   },
   {
    "duration": 7,
    "start_time": "2023-04-08T16:32:06.803Z"
   },
   {
    "duration": 8,
    "start_time": "2023-04-08T16:32:19.968Z"
   },
   {
    "duration": 98,
    "start_time": "2023-04-08T16:39:08.404Z"
   },
   {
    "duration": 83,
    "start_time": "2023-04-08T16:39:38.509Z"
   },
   {
    "duration": 2,
    "start_time": "2023-04-08T16:40:13.462Z"
   },
   {
    "duration": 3,
    "start_time": "2023-04-08T16:40:19.046Z"
   },
   {
    "duration": 1203,
    "start_time": "2023-04-08T16:55:33.557Z"
   },
   {
    "duration": 68,
    "start_time": "2023-04-08T16:55:34.764Z"
   },
   {
    "duration": 19,
    "start_time": "2023-04-08T16:55:34.838Z"
   },
   {
    "duration": 13,
    "start_time": "2023-04-08T16:55:34.859Z"
   },
   {
    "duration": 664,
    "start_time": "2023-04-08T16:55:34.873Z"
   },
   {
    "duration": 32,
    "start_time": "2023-04-08T16:55:35.544Z"
   },
   {
    "duration": 4,
    "start_time": "2023-04-08T16:55:35.577Z"
   },
   {
    "duration": 5,
    "start_time": "2023-04-08T16:55:35.583Z"
   },
   {
    "duration": 16,
    "start_time": "2023-04-08T16:55:35.589Z"
   },
   {
    "duration": 8,
    "start_time": "2023-04-08T16:55:35.608Z"
   },
   {
    "duration": 32,
    "start_time": "2023-04-08T16:55:35.618Z"
   },
   {
    "duration": 10,
    "start_time": "2023-04-08T16:55:35.654Z"
   },
   {
    "duration": 10,
    "start_time": "2023-04-08T16:55:35.666Z"
   },
   {
    "duration": 18,
    "start_time": "2023-04-08T16:55:35.677Z"
   },
   {
    "duration": 7,
    "start_time": "2023-04-08T16:55:35.697Z"
   },
   {
    "duration": 6,
    "start_time": "2023-04-08T16:55:35.706Z"
   },
   {
    "duration": 8,
    "start_time": "2023-04-08T16:55:35.713Z"
   },
   {
    "duration": 14,
    "start_time": "2023-04-08T16:55:35.734Z"
   },
   {
    "duration": 1253,
    "start_time": "2023-04-08T17:12:16.699Z"
   },
   {
    "duration": 436,
    "start_time": "2023-04-08T17:12:17.954Z"
   },
   {
    "duration": 16,
    "start_time": "2023-04-08T17:12:18.391Z"
   },
   {
    "duration": 23,
    "start_time": "2023-04-08T17:12:18.408Z"
   },
   {
    "duration": 552,
    "start_time": "2023-04-08T17:12:18.433Z"
   },
   {
    "duration": 28,
    "start_time": "2023-04-08T17:12:18.987Z"
   },
   {
    "duration": 4,
    "start_time": "2023-04-08T17:12:19.017Z"
   },
   {
    "duration": 7,
    "start_time": "2023-04-08T17:12:19.022Z"
   },
   {
    "duration": 30,
    "start_time": "2023-04-08T17:12:19.030Z"
   },
   {
    "duration": 20,
    "start_time": "2023-04-08T17:12:19.072Z"
   },
   {
    "duration": 14,
    "start_time": "2023-04-08T17:12:19.094Z"
   },
   {
    "duration": 16,
    "start_time": "2023-04-08T17:12:19.110Z"
   },
   {
    "duration": 13,
    "start_time": "2023-04-08T17:12:19.127Z"
   },
   {
    "duration": 12,
    "start_time": "2023-04-08T17:12:19.144Z"
   },
   {
    "duration": 16,
    "start_time": "2023-04-08T17:12:19.158Z"
   },
   {
    "duration": 6,
    "start_time": "2023-04-08T17:12:19.176Z"
   },
   {
    "duration": 10,
    "start_time": "2023-04-08T17:12:19.183Z"
   },
   {
    "duration": 16,
    "start_time": "2023-04-08T17:12:19.194Z"
   },
   {
    "duration": 33,
    "start_time": "2023-04-08T17:12:19.212Z"
   },
   {
    "duration": 126,
    "start_time": "2023-04-08T17:12:19.247Z"
   },
   {
    "duration": 103,
    "start_time": "2023-04-08T17:12:19.376Z"
   },
   {
    "duration": 5,
    "start_time": "2023-04-08T17:12:19.480Z"
   },
   {
    "duration": 150,
    "start_time": "2023-04-08T17:12:19.487Z"
   },
   {
    "duration": 108,
    "start_time": "2023-04-08T17:12:19.638Z"
   },
   {
    "duration": 8,
    "start_time": "2023-04-08T17:12:19.748Z"
   },
   {
    "duration": 19,
    "start_time": "2023-04-08T17:12:19.757Z"
   },
   {
    "duration": 21,
    "start_time": "2023-04-08T17:12:19.777Z"
   },
   {
    "duration": 11,
    "start_time": "2023-04-08T17:12:19.800Z"
   },
   {
    "duration": 28,
    "start_time": "2023-04-08T17:12:19.812Z"
   },
   {
    "duration": 9,
    "start_time": "2023-04-08T17:12:19.842Z"
   },
   {
    "duration": 10,
    "start_time": "2023-04-08T17:12:19.852Z"
   },
   {
    "duration": 18,
    "start_time": "2023-04-08T17:12:19.864Z"
   },
   {
    "duration": 11,
    "start_time": "2023-04-08T17:12:19.884Z"
   },
   {
    "duration": 12,
    "start_time": "2023-04-08T17:12:19.897Z"
   },
   {
    "duration": 34,
    "start_time": "2023-04-08T17:12:19.911Z"
   },
   {
    "duration": 9,
    "start_time": "2023-04-08T17:12:19.947Z"
   },
   {
    "duration": 13,
    "start_time": "2023-04-08T17:12:19.958Z"
   },
   {
    "duration": 8,
    "start_time": "2023-04-08T17:12:19.973Z"
   },
   {
    "duration": 138,
    "start_time": "2023-04-08T17:12:19.983Z"
   },
   {
    "duration": 4,
    "start_time": "2023-04-08T17:12:20.122Z"
   },
   {
    "duration": 16,
    "start_time": "2023-04-08T17:12:20.130Z"
   },
   {
    "duration": 18,
    "start_time": "2023-04-08T17:12:20.147Z"
   },
   {
    "duration": 21,
    "start_time": "2023-04-08T17:12:20.166Z"
   },
   {
    "duration": 24,
    "start_time": "2023-04-08T17:12:20.188Z"
   },
   {
    "duration": 29,
    "start_time": "2023-04-08T17:12:20.213Z"
   },
   {
    "duration": 419,
    "start_time": "2023-04-08T17:12:20.244Z"
   },
   {
    "duration": 193,
    "start_time": "2023-04-08T17:12:20.664Z"
   },
   {
    "duration": 365,
    "start_time": "2023-04-08T17:12:20.858Z"
   },
   {
    "duration": 303,
    "start_time": "2023-04-08T17:12:21.224Z"
   },
   {
    "duration": 180,
    "start_time": "2023-04-08T17:12:21.529Z"
   },
   {
    "duration": 167,
    "start_time": "2023-04-08T17:12:21.711Z"
   },
   {
    "duration": 284,
    "start_time": "2023-04-08T17:12:21.880Z"
   },
   {
    "duration": 449,
    "start_time": "2023-04-08T17:12:22.166Z"
   },
   {
    "duration": 9,
    "start_time": "2023-04-08T17:12:22.616Z"
   },
   {
    "duration": 38,
    "start_time": "2023-04-08T17:12:22.626Z"
   },
   {
    "duration": 20,
    "start_time": "2023-04-08T17:12:22.666Z"
   },
   {
    "duration": 423,
    "start_time": "2023-04-08T17:12:22.688Z"
   },
   {
    "duration": 4,
    "start_time": "2023-04-08T17:12:23.113Z"
   },
   {
    "duration": 25,
    "start_time": "2023-04-08T17:12:23.118Z"
   },
   {
    "duration": 23,
    "start_time": "2023-04-08T17:12:23.144Z"
   },
   {
    "duration": 221,
    "start_time": "2023-04-08T17:12:23.168Z"
   },
   {
    "duration": 491,
    "start_time": "2023-04-08T17:12:23.391Z"
   },
   {
    "duration": 518,
    "start_time": "2023-04-08T17:12:23.884Z"
   },
   {
    "duration": 575,
    "start_time": "2023-04-08T17:12:24.403Z"
   },
   {
    "duration": 10,
    "start_time": "2023-04-08T17:12:24.979Z"
   },
   {
    "duration": 9,
    "start_time": "2023-04-08T17:12:24.990Z"
   },
   {
    "duration": 287,
    "start_time": "2023-04-08T17:44:53.800Z"
   },
   {
    "duration": 273,
    "start_time": "2023-04-08T17:45:01.485Z"
   },
   {
    "duration": 265,
    "start_time": "2023-04-08T17:45:12.298Z"
   },
   {
    "duration": 286,
    "start_time": "2023-04-08T17:45:17.557Z"
   },
   {
    "duration": 387,
    "start_time": "2023-04-08T17:45:22.514Z"
   },
   {
    "duration": 282,
    "start_time": "2023-04-08T17:45:59.291Z"
   },
   {
    "duration": 302,
    "start_time": "2023-04-08T17:46:31.021Z"
   },
   {
    "duration": 283,
    "start_time": "2023-04-08T17:48:06.185Z"
   },
   {
    "duration": 274,
    "start_time": "2023-04-08T17:48:10.507Z"
   },
   {
    "duration": 271,
    "start_time": "2023-04-08T17:48:12.147Z"
   },
   {
    "duration": 113,
    "start_time": "2023-04-08T17:59:53.747Z"
   },
   {
    "duration": 15,
    "start_time": "2023-04-08T18:00:04.850Z"
   },
   {
    "duration": 14,
    "start_time": "2023-04-08T18:00:08.690Z"
   },
   {
    "duration": 11,
    "start_time": "2023-04-08T18:00:15.064Z"
   },
   {
    "duration": 10,
    "start_time": "2023-04-08T18:00:19.099Z"
   },
   {
    "duration": 10,
    "start_time": "2023-04-08T18:01:54.749Z"
   },
   {
    "duration": 5,
    "start_time": "2023-04-08T18:02:27.827Z"
   },
   {
    "duration": 5,
    "start_time": "2023-04-08T18:06:22.722Z"
   },
   {
    "duration": 7,
    "start_time": "2023-04-08T18:06:30.120Z"
   },
   {
    "duration": 7,
    "start_time": "2023-04-08T18:06:41.998Z"
   },
   {
    "duration": 9,
    "start_time": "2023-04-08T18:07:02.344Z"
   },
   {
    "duration": 6,
    "start_time": "2023-04-08T18:07:12.385Z"
   },
   {
    "duration": 7,
    "start_time": "2023-04-08T18:07:13.282Z"
   },
   {
    "duration": 6,
    "start_time": "2023-04-08T18:07:13.976Z"
   },
   {
    "duration": 1126,
    "start_time": "2023-04-08T18:07:21.696Z"
   },
   {
    "duration": 66,
    "start_time": "2023-04-08T18:07:22.824Z"
   },
   {
    "duration": 18,
    "start_time": "2023-04-08T18:07:22.892Z"
   },
   {
    "duration": 35,
    "start_time": "2023-04-08T18:07:22.912Z"
   },
   {
    "duration": 701,
    "start_time": "2023-04-08T18:07:22.948Z"
   },
   {
    "duration": 32,
    "start_time": "2023-04-08T18:07:23.651Z"
   },
   {
    "duration": 4,
    "start_time": "2023-04-08T18:07:23.684Z"
   },
   {
    "duration": 14,
    "start_time": "2023-04-08T18:07:23.689Z"
   },
   {
    "duration": 15,
    "start_time": "2023-04-08T18:07:23.704Z"
   },
   {
    "duration": 9,
    "start_time": "2023-04-08T18:07:23.722Z"
   },
   {
    "duration": 28,
    "start_time": "2023-04-08T18:07:23.732Z"
   },
   {
    "duration": 13,
    "start_time": "2023-04-08T18:07:23.762Z"
   },
   {
    "duration": 8,
    "start_time": "2023-04-08T18:07:23.777Z"
   },
   {
    "duration": 20,
    "start_time": "2023-04-08T18:07:23.786Z"
   },
   {
    "duration": 17,
    "start_time": "2023-04-08T18:07:23.808Z"
   },
   {
    "duration": 33,
    "start_time": "2023-04-08T18:07:23.827Z"
   },
   {
    "duration": 19,
    "start_time": "2023-04-08T18:07:23.862Z"
   },
   {
    "duration": 19,
    "start_time": "2023-04-08T18:07:23.883Z"
   },
   {
    "duration": 16,
    "start_time": "2023-04-08T18:07:23.904Z"
   },
   {
    "duration": 9,
    "start_time": "2023-04-08T18:07:23.921Z"
   },
   {
    "duration": 24,
    "start_time": "2023-04-08T18:07:23.932Z"
   },
   {
    "duration": 24,
    "start_time": "2023-04-08T18:07:23.958Z"
   },
   {
    "duration": 199,
    "start_time": "2023-04-08T18:07:23.989Z"
   },
   {
    "duration": 118,
    "start_time": "2023-04-08T18:07:24.190Z"
   },
   {
    "duration": 5,
    "start_time": "2023-04-08T18:07:24.310Z"
   },
   {
    "duration": 166,
    "start_time": "2023-04-08T18:07:24.316Z"
   },
   {
    "duration": 145,
    "start_time": "2023-04-08T18:07:24.484Z"
   },
   {
    "duration": 11,
    "start_time": "2023-04-08T18:07:24.652Z"
   },
   {
    "duration": 8,
    "start_time": "2023-04-08T18:07:24.665Z"
   },
   {
    "duration": 12,
    "start_time": "2023-04-08T18:07:24.675Z"
   },
   {
    "duration": 15,
    "start_time": "2023-04-08T18:07:24.689Z"
   },
   {
    "duration": 47,
    "start_time": "2023-04-08T18:07:24.706Z"
   },
   {
    "duration": 20,
    "start_time": "2023-04-08T18:07:24.755Z"
   },
   {
    "duration": 5,
    "start_time": "2023-04-08T18:07:24.781Z"
   },
   {
    "duration": 14,
    "start_time": "2023-04-08T18:07:24.788Z"
   },
   {
    "duration": 6,
    "start_time": "2023-04-08T18:07:24.803Z"
   },
   {
    "duration": 15,
    "start_time": "2023-04-08T18:07:24.811Z"
   },
   {
    "duration": 31,
    "start_time": "2023-04-08T18:07:24.828Z"
   },
   {
    "duration": 6,
    "start_time": "2023-04-08T18:07:24.861Z"
   },
   {
    "duration": 6,
    "start_time": "2023-04-08T18:07:24.869Z"
   },
   {
    "duration": 7,
    "start_time": "2023-04-08T18:07:24.876Z"
   },
   {
    "duration": 122,
    "start_time": "2023-04-08T18:07:24.885Z"
   },
   {
    "duration": 4,
    "start_time": "2023-04-08T18:07:25.009Z"
   },
   {
    "duration": 16,
    "start_time": "2023-04-08T18:07:25.014Z"
   },
   {
    "duration": 24,
    "start_time": "2023-04-08T18:07:25.032Z"
   },
   {
    "duration": 13,
    "start_time": "2023-04-08T18:07:25.057Z"
   },
   {
    "duration": 16,
    "start_time": "2023-04-08T18:07:25.072Z"
   },
   {
    "duration": 19,
    "start_time": "2023-04-08T18:07:25.089Z"
   },
   {
    "duration": 481,
    "start_time": "2023-04-08T18:07:25.110Z"
   },
   {
    "duration": 217,
    "start_time": "2023-04-08T18:07:25.593Z"
   },
   {
    "duration": 320,
    "start_time": "2023-04-08T18:07:25.811Z"
   },
   {
    "duration": 348,
    "start_time": "2023-04-08T18:07:26.132Z"
   },
   {
    "duration": 205,
    "start_time": "2023-04-08T18:07:26.481Z"
   },
   {
    "duration": 189,
    "start_time": "2023-04-08T18:07:26.687Z"
   },
   {
    "duration": 349,
    "start_time": "2023-04-08T18:07:26.877Z"
   },
   {
    "duration": 434,
    "start_time": "2023-04-08T18:07:27.229Z"
   },
   {
    "duration": 497,
    "start_time": "2023-04-08T18:07:27.666Z"
   },
   {
    "duration": 10,
    "start_time": "2023-04-08T18:07:28.164Z"
   },
   {
    "duration": 10,
    "start_time": "2023-04-08T18:07:28.176Z"
   },
   {
    "duration": 8,
    "start_time": "2023-04-08T18:07:28.187Z"
   },
   {
    "duration": 605,
    "start_time": "2023-04-08T18:07:28.196Z"
   },
   {
    "duration": 5,
    "start_time": "2023-04-08T18:07:28.802Z"
   },
   {
    "duration": 8,
    "start_time": "2023-04-08T18:07:28.808Z"
   },
   {
    "duration": 25,
    "start_time": "2023-04-08T18:07:28.817Z"
   },
   {
    "duration": 229,
    "start_time": "2023-04-08T18:07:28.843Z"
   },
   {
    "duration": 564,
    "start_time": "2023-04-08T18:07:29.074Z"
   },
   {
    "duration": 647,
    "start_time": "2023-04-08T18:07:29.646Z"
   },
   {
    "duration": 523,
    "start_time": "2023-04-08T18:07:30.294Z"
   },
   {
    "duration": 15,
    "start_time": "2023-04-08T18:07:30.819Z"
   },
   {
    "duration": 52,
    "start_time": "2023-04-08T18:07:30.836Z"
   },
   {
    "duration": 7,
    "start_time": "2023-04-08T18:08:03.594Z"
   },
   {
    "duration": 7,
    "start_time": "2023-04-08T18:08:07.220Z"
   },
   {
    "duration": 9,
    "start_time": "2023-04-08T18:08:11.130Z"
   },
   {
    "duration": 7,
    "start_time": "2023-04-08T18:28:56.788Z"
   },
   {
    "duration": 7,
    "start_time": "2023-04-08T18:29:05.352Z"
   },
   {
    "duration": 9,
    "start_time": "2023-04-08T18:29:10.273Z"
   },
   {
    "duration": 7,
    "start_time": "2023-04-08T18:29:22.690Z"
   },
   {
    "duration": 1483,
    "start_time": "2023-07-20T12:06:41.873Z"
   },
   {
    "duration": 191,
    "start_time": "2023-07-20T12:06:43.359Z"
   },
   {
    "duration": 21,
    "start_time": "2023-07-20T12:06:43.552Z"
   },
   {
    "duration": 40,
    "start_time": "2023-07-20T12:06:43.575Z"
   },
   {
    "duration": 913,
    "start_time": "2023-07-20T12:06:43.617Z"
   },
   {
    "duration": 49,
    "start_time": "2023-07-20T12:06:44.532Z"
   },
   {
    "duration": 7,
    "start_time": "2023-07-20T12:06:44.583Z"
   },
   {
    "duration": 33,
    "start_time": "2023-07-20T12:06:44.593Z"
   },
   {
    "duration": 64,
    "start_time": "2023-07-20T12:06:44.629Z"
   },
   {
    "duration": 32,
    "start_time": "2023-07-20T12:06:44.696Z"
   },
   {
    "duration": 19,
    "start_time": "2023-07-20T12:06:44.731Z"
   },
   {
    "duration": 18,
    "start_time": "2023-07-20T12:06:44.751Z"
   },
   {
    "duration": 25,
    "start_time": "2023-07-20T12:06:44.770Z"
   },
   {
    "duration": 10,
    "start_time": "2023-07-20T12:06:44.797Z"
   },
   {
    "duration": 16,
    "start_time": "2023-07-20T12:06:44.810Z"
   },
   {
    "duration": 17,
    "start_time": "2023-07-20T12:06:44.829Z"
   },
   {
    "duration": 52,
    "start_time": "2023-07-20T12:06:44.848Z"
   },
   {
    "duration": 26,
    "start_time": "2023-07-20T12:06:44.902Z"
   },
   {
    "duration": 22,
    "start_time": "2023-07-20T12:06:44.930Z"
   },
   {
    "duration": 26,
    "start_time": "2023-07-20T12:06:44.954Z"
   },
   {
    "duration": 83,
    "start_time": "2023-07-20T12:06:44.982Z"
   },
   {
    "duration": 47,
    "start_time": "2023-07-20T12:06:45.068Z"
   },
   {
    "duration": 198,
    "start_time": "2023-07-20T12:06:45.118Z"
   },
   {
    "duration": 168,
    "start_time": "2023-07-20T12:06:45.318Z"
   },
   {
    "duration": 8,
    "start_time": "2023-07-20T12:06:45.489Z"
   },
   {
    "duration": 237,
    "start_time": "2023-07-20T12:06:45.499Z"
   },
   {
    "duration": 177,
    "start_time": "2023-07-20T12:06:45.740Z"
   },
   {
    "duration": 12,
    "start_time": "2023-07-20T12:06:45.923Z"
   },
   {
    "duration": 33,
    "start_time": "2023-07-20T12:06:45.937Z"
   },
   {
    "duration": 31,
    "start_time": "2023-07-20T12:06:45.972Z"
   },
   {
    "duration": 18,
    "start_time": "2023-07-20T12:06:46.005Z"
   },
   {
    "duration": 35,
    "start_time": "2023-07-20T12:06:46.025Z"
   },
   {
    "duration": 13,
    "start_time": "2023-07-20T12:06:46.064Z"
   },
   {
    "duration": 12,
    "start_time": "2023-07-20T12:06:46.079Z"
   },
   {
    "duration": 23,
    "start_time": "2023-07-20T12:06:46.094Z"
   },
   {
    "duration": 28,
    "start_time": "2023-07-20T12:06:46.119Z"
   },
   {
    "duration": 24,
    "start_time": "2023-07-20T12:06:46.151Z"
   },
   {
    "duration": 69,
    "start_time": "2023-07-20T12:06:46.178Z"
   },
   {
    "duration": 58,
    "start_time": "2023-07-20T12:06:46.249Z"
   },
   {
    "duration": 21,
    "start_time": "2023-07-20T12:06:46.309Z"
   },
   {
    "duration": 32,
    "start_time": "2023-07-20T12:06:46.332Z"
   },
   {
    "duration": 176,
    "start_time": "2023-07-20T12:06:46.366Z"
   },
   {
    "duration": 7,
    "start_time": "2023-07-20T12:06:46.544Z"
   },
   {
    "duration": 42,
    "start_time": "2023-07-20T12:06:46.553Z"
   },
   {
    "duration": 41,
    "start_time": "2023-07-20T12:06:46.598Z"
   },
   {
    "duration": 32,
    "start_time": "2023-07-20T12:06:46.641Z"
   },
   {
    "duration": 39,
    "start_time": "2023-07-20T12:06:46.675Z"
   },
   {
    "duration": 70,
    "start_time": "2023-07-20T12:06:46.716Z"
   },
   {
    "duration": 572,
    "start_time": "2023-07-20T12:06:46.788Z"
   },
   {
    "duration": 263,
    "start_time": "2023-07-20T12:06:47.363Z"
   },
   {
    "duration": 417,
    "start_time": "2023-07-20T12:06:47.628Z"
   },
   {
    "duration": 384,
    "start_time": "2023-07-20T12:06:48.048Z"
   },
   {
    "duration": 227,
    "start_time": "2023-07-20T12:06:48.435Z"
   },
   {
    "duration": 230,
    "start_time": "2023-07-20T12:06:48.672Z"
   },
   {
    "duration": 373,
    "start_time": "2023-07-20T12:06:48.904Z"
   },
   {
    "duration": 587,
    "start_time": "2023-07-20T12:06:49.280Z"
   },
   {
    "duration": 543,
    "start_time": "2023-07-20T12:06:49.870Z"
   },
   {
    "duration": 12,
    "start_time": "2023-07-20T12:06:50.415Z"
   },
   {
    "duration": 13,
    "start_time": "2023-07-20T12:06:50.430Z"
   },
   {
    "duration": 36,
    "start_time": "2023-07-20T12:06:50.446Z"
   },
   {
    "duration": 539,
    "start_time": "2023-07-20T12:06:50.483Z"
   },
   {
    "duration": 5,
    "start_time": "2023-07-20T12:06:51.024Z"
   },
   {
    "duration": 24,
    "start_time": "2023-07-20T12:06:51.031Z"
   },
   {
    "duration": 32,
    "start_time": "2023-07-20T12:06:51.057Z"
   },
   {
    "duration": 329,
    "start_time": "2023-07-20T12:06:51.091Z"
   },
   {
    "duration": 846,
    "start_time": "2023-07-20T12:06:51.423Z"
   },
   {
    "duration": 888,
    "start_time": "2023-07-20T12:06:52.274Z"
   },
   {
    "duration": 655,
    "start_time": "2023-07-20T12:06:53.168Z"
   },
   {
    "duration": 14,
    "start_time": "2023-07-20T12:06:53.825Z"
   },
   {
    "duration": 25,
    "start_time": "2023-07-20T12:06:53.842Z"
   },
   {
    "duration": 5855,
    "start_time": "2023-07-20T12:06:53.869Z"
   },
   {
    "duration": 221,
    "start_time": "2023-07-20T12:54:34.616Z"
   }
  ],
  "kernelspec": {
   "display_name": "Python 3 (ipykernel)",
   "language": "python",
   "name": "python3"
  },
  "language_info": {
   "codemirror_mode": {
    "name": "ipython",
    "version": 3
   },
   "file_extension": ".py",
   "mimetype": "text/x-python",
   "name": "python",
   "nbconvert_exporter": "python",
   "pygments_lexer": "ipython3",
   "version": "3.11.4"
  },
  "toc": {
   "base_numbering": 1,
   "nav_menu": {},
   "number_sections": true,
   "sideBar": true,
   "skip_h1_title": true,
   "title_cell": "Table of Contents",
   "title_sidebar": "Contents",
   "toc_cell": false,
   "toc_position": {
    "height": "calc(100% - 180px)",
    "left": "10px",
    "top": "150px",
    "width": "165px"
   },
   "toc_section_display": true,
   "toc_window_display": true
  }
 },
 "nbformat": 4,
 "nbformat_minor": 2
}
